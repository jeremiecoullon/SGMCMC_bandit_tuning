{
 "cells": [
  {
   "cell_type": "code",
   "execution_count": 1,
   "id": "906fd9ec",
   "metadata": {},
   "outputs": [
    {
     "name": "stderr",
     "output_type": "stream",
     "text": [
      "WARNING:absl:No GPU/TPU found, falling back to CPU. (Set TF_CPP_MIN_LOG_LEVEL=0 and rerun for more info.)\n"
     ]
    }
   ],
   "source": [
    "%matplotlib inline\n",
    "import matplotlib.pyplot as plt\n",
    "import numpy as np\n",
    "\n",
    "import jax.numpy as jnp\n",
    "from jax import grad, jit, random, partial, lax\n",
    "\n",
    "import context\n",
    "\n",
    "from models.bayesian_NN.NN_model import logprior, loglikelihood, init_network, get_ECE_MCE\n",
    "from models.bayesian_NN.NN_data import X_train, y_train, X_test, y_test\n",
    "from models.bayesian_NN.util import load_NN_MAP, add_noise_NN_params\n",
    "from util import flatten_param_list\n",
    "\n",
    "from tuning.mamba import timed_sampler\n",
    "from tuning.ksd import imq_KSD\n",
    "from sgmcmcjax.kernels import build_sgld_kernel, build_sghmc_kernel, build_sgldCV_kernel, build_badodab_kernel, build_baoab_kernel, build_sgnht_kernel\n"
   ]
  },
  {
   "cell_type": "markdown",
   "id": "a01ea2b4",
   "metadata": {},
   "source": [
    "# NN\n"
   ]
  },
  {
   "cell_type": "code",
   "execution_count": 4,
   "id": "1aff4d07",
   "metadata": {},
   "outputs": [],
   "source": [
    "\n",
    "# batch_size = int(1*X_train.shape[0])\n",
    "data = (X_train, y_train)\n",
    "\n",
    "\n",
    "key = random.PRNGKey(0)\n",
    "Niters = 1000\n",
    "key, subkey = random.split(key)\n",
    "params_IC = add_noise_NN_params(subkey, load_NN_MAP(), 0.)\n",
    "batch_size = int(0.01*X_train.shape[0])\n",
    "centering_value = load_NN_MAP()"
   ]
  },
  {
   "cell_type": "code",
   "execution_count": null,
   "id": "f3ee0bcc",
   "metadata": {},
   "outputs": [],
   "source": []
  },
  {
   "cell_type": "markdown",
   "id": "c1f7c643",
   "metadata": {},
   "source": [
    "## timed sampler"
   ]
  },
  {
   "cell_type": "code",
   "execution_count": 5,
   "id": "e42d48fb",
   "metadata": {},
   "outputs": [
    {
     "name": "stdout",
     "output_type": "stream",
     "text": [
      "451\n"
     ]
    },
    {
     "data": {
      "image/png": "[encoded data removed]",
      "text/plain": [
       "<Figure size 432x288 with 1 Axes>"
      ]
     },
     "metadata": {
      "needs_background": "light"
     },
     "output_type": "display_data"
    }
   ],
   "source": [
    "build_timed_sampler = timed_sampler(build_sgld_kernel)\n",
    "\n",
    "my_timed_sampler = build_timed_sampler(1e-5, loglikelihood, logprior, data, batch_size)\n",
    "samples, mygrads = my_timed_sampler(key, 1, params_IC)\n",
    "\n",
    "print(len(samples))\n",
    "\n",
    "thin = 5\n",
    "# plot\n",
    "samples = flatten_param_list(samples[::thin])\n",
    "mygrads = flatten_param_list(mygrads[::thin])\n",
    "\n",
    "idx = 7\n",
    "plt.plot(np.array(samples)[:, idx])\n",
    "plt.show()\n",
    "\n",
    "# idx = 7\n",
    "# plt.plot(np.array(mygrads)[:, idx])\n",
    "# plt.show()\n"
   ]
  },
  {
   "cell_type": "code",
   "execution_count": 6,
   "id": "c75579dc",
   "metadata": {},
   "outputs": [
    {
     "name": "stdout",
     "output_type": "stream",
     "text": [
      "1772\n"
     ]
    }
   ],
   "source": [
    "samples, mygrads = my_timed_sampler(key, 4, params_IC)\n",
    "\n",
    "print(len(samples))\n",
    "\n"
   ]
  },
  {
   "cell_type": "code",
   "execution_count": 7,
   "id": "5a124eef",
   "metadata": {},
   "outputs": [],
   "source": [
    "from models.bayesian_NN.util import flatten_NN_params"
   ]
  },
  {
   "cell_type": "code",
   "execution_count": 8,
   "id": "13e46224",
   "metadata": {},
   "outputs": [
    {
     "name": "stdout",
     "output_type": "stream",
     "text": [
      "1772\n"
     ]
    }
   ],
   "source": [
    "thin = 1\n",
    "# plot\n",
    "mysamples = flatten_param_list(samples[::thin])\n",
    "\n",
    "print(len(samples))"
   ]
  },
  {
   "cell_type": "code",
   "execution_count": null,
   "id": "4513e049",
   "metadata": {},
   "outputs": [],
   "source": [
    "flatten_NN_params(samples)"
   ]
  },
  {
   "cell_type": "code",
   "execution_count": null,
   "id": "c0565222",
   "metadata": {},
   "outputs": [],
   "source": []
  },
  {
   "cell_type": "code",
   "execution_count": null,
   "id": "01f5a693",
   "metadata": {
    "scrolled": true
   },
   "outputs": [],
   "source": [
    "get_ECE_MCE(mysamples, X_test, y_test, M=10)"
   ]
  },
  {
   "cell_type": "code",
   "execution_count": null,
   "id": "ac21712f",
   "metadata": {},
   "outputs": [],
   "source": [
    "mysamples.shape"
   ]
  },
  {
   "cell_type": "code",
   "execution_count": null,
   "id": "7673f693",
   "metadata": {},
   "outputs": [],
   "source": []
  },
  {
   "cell_type": "code",
   "execution_count": null,
   "id": "f489a47b",
   "metadata": {},
   "outputs": [],
   "source": []
  },
  {
   "cell_type": "code",
   "execution_count": null,
   "id": "3c839c32",
   "metadata": {},
   "outputs": [],
   "source": []
  },
  {
   "cell_type": "code",
   "execution_count": null,
   "id": "8345c7f3",
   "metadata": {},
   "outputs": [],
   "source": []
  },
  {
   "cell_type": "code",
   "execution_count": null,
   "id": "9ffbb905",
   "metadata": {},
   "outputs": [],
   "source": []
  },
  {
   "cell_type": "code",
   "execution_count": null,
   "id": "3d774268",
   "metadata": {},
   "outputs": [],
   "source": []
  },
  {
   "cell_type": "code",
   "execution_count": null,
   "id": "1b7522cf",
   "metadata": {},
   "outputs": [],
   "source": []
  },
  {
   "cell_type": "code",
   "execution_count": null,
   "id": "7cb7dcc4",
   "metadata": {},
   "outputs": [],
   "source": []
  },
  {
   "cell_type": "code",
   "execution_count": 26,
   "id": "4b0189f5",
   "metadata": {},
   "outputs": [
    {
     "name": "stdout",
     "output_type": "stream",
     "text": [
      "(8, 79510)\n",
      "496.57538\n"
     ]
    }
   ],
   "source": [
    "# 1\n",
    "print(samples.shape)\n",
    "print(imq_KSD(samples, mygrads))"
   ]
  },
  {
   "cell_type": "code",
   "execution_count": 29,
   "id": "054509aa",
   "metadata": {},
   "outputs": [
    {
     "name": "stdout",
     "output_type": "stream",
     "text": [
      "(54, 79510)\n",
      "464.72046\n"
     ]
    }
   ],
   "source": [
    "# 0.1\n",
    "print(samples.shape)\n",
    "print(imq_KSD(samples, mygrads))"
   ]
  },
  {
   "cell_type": "code",
   "execution_count": null,
   "id": "4183a2dd",
   "metadata": {},
   "outputs": [],
   "source": []
  },
  {
   "cell_type": "code",
   "execution_count": null,
   "id": "f65ca758",
   "metadata": {},
   "outputs": [],
   "source": []
  },
  {
   "cell_type": "code",
   "execution_count": null,
   "id": "c5783a1c",
   "metadata": {},
   "outputs": [],
   "source": []
  },
  {
   "cell_type": "code",
   "execution_count": 81,
   "id": "c3b38ceb",
   "metadata": {},
   "outputs": [],
   "source": [
    "build_timed_sampler = timed_sampler(build_sghmc_kernel)\n",
    "\n",
    "batch_size = int(0.01*X_train.shape[0])\n",
    "my_timed_sampler = build_timed_sampler(1e-5, 5, loglikelihood, logprior, data, batch_size)\n",
    "samples, mygrads = my_timed_sampler(key, 0.1, params_IC)\n",
    "\n",
    "# # plot\n",
    "# samples = flatten_param_list(samples)\n",
    "\n",
    "# idx = 7\n",
    "# plt.plot(np.array(samples)[:, idx])\n",
    "# plt.show()\n",
    "\n",
    "# print(samples.shape)"
   ]
  },
  {
   "cell_type": "code",
   "execution_count": null,
   "id": "67794e6b",
   "metadata": {},
   "outputs": [],
   "source": [
    "\n",
    "samples, mygrads = my_timed_sampler(key, 15, params_IC)\n",
    "\n",
    "# plot\n",
    "samples = flatten_param_list(samples)\n",
    "mygrads = flatten_param_list(mygrads)\n",
    "idx = 7\n",
    "plt.plot(np.array(samples)[:, idx])\n",
    "plt.show()\n",
    "\n",
    "\n",
    "print(samples.shape)"
   ]
  },
  {
   "cell_type": "code",
   "execution_count": 79,
   "id": "6b58df84",
   "metadata": {},
   "outputs": [],
   "source": [
    "from tuning.ksd import imq_KSD"
   ]
  },
  {
   "cell_type": "code",
   "execution_count": 80,
   "id": "218ef2ba",
   "metadata": {},
   "outputs": [
    {
     "data": {
      "text/plain": [
       "DeviceArray(1076.1542, dtype=float32)"
      ]
     },
     "execution_count": 80,
     "metadata": {},
     "output_type": "execute_result"
    }
   ],
   "source": [
    "imq_KSD(samples, mygrads)"
   ]
  },
  {
   "cell_type": "code",
   "execution_count": null,
   "id": "8b715118",
   "metadata": {},
   "outputs": [],
   "source": []
  },
  {
   "cell_type": "code",
   "execution_count": null,
   "id": "11b0986e",
   "metadata": {},
   "outputs": [],
   "source": []
  },
  {
   "cell_type": "code",
   "execution_count": null,
   "id": "e4a9188e",
   "metadata": {},
   "outputs": [],
   "source": []
  },
  {
   "cell_type": "code",
   "execution_count": 4,
   "id": "be21d00a",
   "metadata": {},
   "outputs": [
    {
     "data": {
      "image/png": "[encoded data removed]",
      "text/plain": [
       "<Figure size 432x288 with 1 Axes>"
      ]
     },
     "metadata": {
      "needs_background": "light"
     },
     "output_type": "display_data"
    },
    {
     "data": {
      "image/png": "[encoded data removed]",
      "text/plain": [
       "<Figure size 432x288 with 1 Axes>"
      ]
     },
     "metadata": {
      "needs_background": "light"
     },
     "output_type": "display_data"
    }
   ],
   "source": [
    "build_timed_sampler = timed_sampler(build_sgldCV_kernel)\n",
    "\n",
    "my_timed_sampler = build_timed_sampler(1e-5, loglikelihood, logprior, data, batch_size, params_IC)\n",
    "samples, mygrads = my_timed_sampler(key, 1, params_IC)\n",
    "\n",
    "# plot\n",
    "samples = flatten_param_list(samples)\n",
    "mygrads = flatten_param_list(mygrads)\n",
    "\n",
    "idx = 7\n",
    "plt.plot(np.array(samples)[:, idx])\n",
    "plt.show()\n",
    "\n",
    "idx = 7\n",
    "plt.plot(np.array(mygrads)[:, idx])\n",
    "plt.show()\n"
   ]
  },
  {
   "cell_type": "code",
   "execution_count": null,
   "id": "c654071a",
   "metadata": {},
   "outputs": [],
   "source": []
  },
  {
   "cell_type": "code",
   "execution_count": 15,
   "id": "1d72ec93",
   "metadata": {},
   "outputs": [
    {
     "data": {
      "image/png": "[encoded data removed]",
      "text/plain": [
       "<Figure size 432x288 with 1 Axes>"
      ]
     },
     "metadata": {
      "needs_background": "light"
     },
     "output_type": "display_data"
    },
    {
     "name": "stdout",
     "output_type": "stream",
     "text": [
      "(8, 79510)\n"
     ]
    }
   ],
   "source": [
    "build_timed_sampler = timed_sampler(build_sgnht_kernel)\n",
    "\n",
    "batch_size = int(0.1*X_train.shape[0])\n",
    "my_timed_sampler = build_timed_sampler(1e-5, loglikelihood, logprior, data, batch_size)\n",
    "samples, mygrads = my_timed_sampler(key, 0.1, params_IC)\n",
    "\n",
    "# plot\n",
    "samples = flatten_param_list(samples)\n",
    "mygrads = flatten_param_list(mygrads)\n",
    "\n",
    "idx = 7\n",
    "plt.plot(np.array(samples)[:, idx])\n",
    "plt.show()\n",
    "\n",
    "print(samples.shape)"
   ]
  },
  {
   "cell_type": "code",
   "execution_count": 16,
   "id": "d8a1bf76",
   "metadata": {},
   "outputs": [
    {
     "data": {
      "image/png": "[encoded data removed]",
      "text/plain": [
       "<Figure size 432x288 with 1 Axes>"
      ]
     },
     "metadata": {
      "needs_background": "light"
     },
     "output_type": "display_data"
    },
    {
     "name": "stdout",
     "output_type": "stream",
     "text": [
      "(8, 79510)\n"
     ]
    }
   ],
   "source": [
    "samples, mygrads = my_timed_sampler(key, 0.1, params_IC)\n",
    "\n",
    "# plot\n",
    "samples = flatten_param_list(samples)\n",
    "mygrads = flatten_param_list(mygrads)\n",
    "\n",
    "idx = 7\n",
    "plt.plot(np.array(samples)[:, idx])\n",
    "plt.show()\n",
    "\n",
    "print(samples.shape)"
   ]
  },
  {
   "cell_type": "code",
   "execution_count": null,
   "id": "fe794edb",
   "metadata": {},
   "outputs": [],
   "source": []
  },
  {
   "cell_type": "code",
   "execution_count": null,
   "id": "f393256b",
   "metadata": {},
   "outputs": [],
   "source": []
  },
  {
   "cell_type": "code",
   "execution_count": null,
   "id": "5a77b791",
   "metadata": {},
   "outputs": [],
   "source": []
  }
 ],
 "metadata": {
  "kernelspec": {
   "display_name": "Python 3",
   "language": "python",
   "name": "python3"
  },
  "language_info": {
   "codemirror_mode": {
    "name": "ipython",
    "version": 3
   },
   "file_extension": ".py",
   "mimetype": "text/x-python",
   "name": "python",
   "nbconvert_exporter": "python",
   "pygments_lexer": "ipython3",
   "version": "3.8.2"
  }
 },
 "nbformat": 4,
 "nbformat_minor": 5
}
