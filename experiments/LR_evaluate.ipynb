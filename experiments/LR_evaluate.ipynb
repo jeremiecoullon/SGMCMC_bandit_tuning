{
 "cells": [
  {
   "cell_type": "code",
   "execution_count": 1,
   "id": "906fd9ec",
   "metadata": {},
   "outputs": [
    {
     "name": "stderr",
     "output_type": "stream",
     "text": [
      "WARNING:absl:No GPU/TPU found, falling back to CPU. (Set TF_CPP_MIN_LOG_LEVEL=0 and rerun for more info.)\n"
     ]
    }
   ],
   "source": [
    "%matplotlib inline\n",
    "import matplotlib.pyplot as plt\n",
    "import numpy as np\n",
    "\n",
    "import jax.numpy as jnp\n",
    "from jax import grad, jit, random, partial, lax\n",
    "\n",
    "import context\n",
    "from models.logistic_regression.logistic_regression_model import gen_data, loglikelihood, logprior, accuracy\n",
    "from tuning.mamba import timed_sampler\n",
    "from tuning.ksd import imq_KSD\n",
    "from tuning.util import build_metric_curve_fn, get_mean_sd_ksd_curve\n",
    "from util import wait_until_computed\n",
    "\n",
    "from sgmcmcjax.kernels import build_sgld_kernel, build_sghmc_kernel, build_sgnht_kernel\n",
    "from sgmcmcjax.kernels import build_sgldCV_kernel, build_sghmcCV_kernel, build_sgnhtCV_kernel\n"
   ]
  },
  {
   "cell_type": "markdown",
   "id": "a01ea2b4",
   "metadata": {},
   "source": [
    "# Logistic regression"
   ]
  },
  {
   "cell_type": "code",
   "execution_count": 2,
   "id": "dd0b7388",
   "metadata": {},
   "outputs": [
    {
     "name": "stdout",
     "output_type": "stream",
     "text": [
      "generating data, with N=1,000,000 and dim=10\n",
      "(800000, 10) (200000, 10)\n"
     ]
    }
   ],
   "source": [
    "\n",
    "\n",
    "key = random.PRNGKey(42)\n",
    "dim = 10\n",
    "# Ndata = 100_000\n",
    "Ndata = 1_000_000\n",
    "\n",
    "theta_true, X, y_data = gen_data(key, dim, Ndata)\n",
    "\n",
    "# testing and training data\n",
    "num_train = int(Ndata*0.8)\n",
    "\n",
    "X_train = X[:num_train]\n",
    "X_test = X[num_train:]\n",
    "\n",
    "y_train = y_data[:num_train]\n",
    "y_test = y_data[num_train:]\n",
    "print(X_train.shape, X_test.shape)\n",
    "data = (X_train, y_train)\n",
    "\n",
    "\n",
    "# batch_size = int(0.01*X.shape[0])\n",
    "gridsearch_bs = int(0.1*X_train.shape[0])\n",
    "centering_value = theta_true\n",
    "key = random.PRNGKey(0)\n",
    "\n",
    "dt_baseline = 1/Ndata"
   ]
  },
  {
   "cell_type": "code",
   "execution_count": 5,
   "id": "e4d71dbb",
   "metadata": {},
   "outputs": [],
   "source": [
    "from sgmcmcjax.util import build_grad_log_post\n",
    "from jax import vmap, jit\n",
    "\n",
    "NUTS_stds = np.genfromtxt(\"outputs/LR_uncertainty_tests/NUTS_stds.txt\")\n",
    "\n",
    "def get_relative_error_LR(estimate, ground_truth=NUTS_stds):\n",
    "    \"compare to NUTS samples\"\n",
    "    return np.linalg.norm(estimate - ground_truth)/np.linalg.norm(ground_truth)\n",
    "\n",
    "grad_log_post = build_grad_log_post(loglikelihood, logprior, data)\n",
    "batch_grad_log_post = jit(vmap(lambda x: grad_log_post(x, *data)))\n",
    "\n",
    "def get_fb_grads_batches(samples, calc_batch_size):\n",
    "    \"\"\"\n",
    "    Calculate the fullbatch gradients, but in batches\n",
    "    \"\"\"\n",
    "    samples = jnp.array(samples)\n",
    "    list_grads = []\n",
    "    len_sgld = samples.shape[0]\n",
    "    num_steps = int(np.ceil(len_sgld/calc_batch_size))\n",
    "    for i in range(num_steps):\n",
    "        new_grads = batch_grad_log_post(samples[i*calc_batch_size:(i+1)*calc_batch_size])\n",
    "        wait_until_computed(new_grads)\n",
    "        list_grads.append(new_grads)\n",
    "    fb_grads = jnp.concatenate(list_grads, axis=0)\n",
    "    return fb_grads\n",
    "\n",
    "def get_ksd_LR(samples, thin_step):\n",
    "#     grad_log_post = build_grad_log_post(loglikelihood, logprior, data)\n",
    "#     batch_grad_log_post = jit(vmap(lambda x: grad_log_post(x, *data)))\n",
    "    \n",
    "    num_samples = len(samples)\n",
    "    samples_array = jnp.array(samples[::thin_step])\n",
    "#     fb_grads = batch_grad_log_post(samples_array)\n",
    "    fb_grads = get_fb_grads_batches(samples_array, 500)\n",
    "    return imq_KSD(samples_array, fb_grads)\n",
    "\n",
    "def assess_LR_samples(samples, thin_step):\n",
    "    print(f\"assessing the samples. Num samples: {len(samples)}\")\n",
    "    ksd_est = get_ksd_LR(samples, thin_step)\n",
    "    std_error = get_relative_error_LR(np.std(samples, axis=0))\n",
    "    samples_array = jnp.array(samples[::thin_step])\n",
    "    pred_acc = accuracy(samples_array, X_test, y_test)\n",
    "    return ksd_est, pred_acc, std_error, len(samples)\n",
    "    \n",
    "def run_time_budget(key, time_budget, build_kernel, thin, dict_params, params_IC=theta_true):\n",
    "    timed_sampler_factory = timed_sampler(build_kernel)\n",
    "    my_timed_sampler = timed_sampler_factory(**dict_params)\n",
    "    samples, _ = my_timed_sampler(key, time_budget, params_IC)\n",
    "    return assess_LR_samples(samples, thin)\n",
    "\n"
   ]
  },
  {
   "cell_type": "markdown",
   "id": "b12fa593",
   "metadata": {},
   "source": [
    "### build partial kernels"
   ]
  },
  {
   "cell_type": "code",
   "execution_count": 6,
   "id": "6b42212b",
   "metadata": {},
   "outputs": [],
   "source": [
    "partial_build_sgld = lambda dt, batch_size: build_sgld_kernel(dt, loglikelihood, \n",
    "                                                              logprior, data, batch_size)\n",
    "partial_build_sgldCV = lambda dt, batch_size: build_sgldCV_kernel(dt, loglikelihood, \n",
    "                                                    logprior, data, batch_size, centering_value)\n",
    "\n",
    "partial_build_sghmc = lambda dt, L, batch_size: build_sghmc_kernel(dt, L, loglikelihood, \n",
    "                                                              logprior, data, batch_size)\n",
    "partial_build_sghmcCV = lambda dt, L, batch_size: build_sghmcCV_kernel(dt, L, loglikelihood, \n",
    "                                                              logprior, data, batch_size, centering_value)\n",
    "\n",
    "partial_build_sgnht = lambda dt, batch_size: build_sgnht_kernel(dt, loglikelihood, \n",
    "                                                              logprior, data, batch_size)\n",
    "partial_build_sgnhtCV = lambda dt, batch_size: build_sgnhtCV_kernel(dt, loglikelihood, \n",
    "                                                              logprior, data, batch_size, centering_value)\n",
    "\n",
    "# time_budget = 5\n",
    "# thin = 5\n",
    "\n",
    "time_budget = 20\n",
    "thin = 20\n"
   ]
  },
  {
   "cell_type": "markdown",
   "id": "2d713ad0",
   "metadata": {},
   "source": [
    "# 1. A long run\n",
    "\n",
    "- 1 million data points\n",
    "- 20sec budget\n",
    "- thin by 20"
   ]
  },
  {
   "cell_type": "code",
   "execution_count": 21,
   "id": "3cbc067d",
   "metadata": {},
   "outputs": [
    {
     "name": "stdout",
     "output_type": "stream",
     "text": [
      "assessing the samples. Num samples: 2291\n",
      "(Buffer(62.434216, dtype=float32), DeviceArray(0.93895996, dtype=float32), 0.06656733684461966, 2291)\n",
      "assessing the samples. Num samples: 6867\n",
      "(DeviceArray(94.30054, dtype=float32), DeviceArray(0.93898, dtype=float32), 0.1801426881811909, 6867)\n",
      "assessing the samples. Num samples: 6935\n",
      "(DeviceArray(94.78978, dtype=float32), DeviceArray(0.938975, dtype=float32), 0.18194108912645127, 6935)\n"
     ]
    }
   ],
   "source": [
    "sh_params = {'batch_size': 800000, 'dt': 3.1622776e-06}\n",
    "gridsearch_params = {'batch_size': gridsearch_bs, 'dt': 1e-6}\n",
    "baseline_params = {'batch_size': gridsearch_bs, 'dt': dt_baseline}\n",
    "\n",
    "print(run_time_budget(key, time_budget, partial_build_sgld, thin, sh_params))\n",
    "print(run_time_budget(key, time_budget, partial_build_sgld, thin, gridsearch_params))\n",
    "print(run_time_budget(key, time_budget, partial_build_sgld, thin, baseline_params))"
   ]
  },
  {
   "cell_type": "code",
   "execution_count": 15,
   "id": "3f6a53d6",
   "metadata": {},
   "outputs": [
    {
     "name": "stdout",
     "output_type": "stream",
     "text": [
      "assessing the samples. Num samples: 6747\n",
      "(DeviceArray(77.30018, dtype=float32), DeviceArray(0.93896997, dtype=float32), 0.35913027000211195, 6747)\n"
     ]
    }
   ],
   "source": [
    "mamba_fssd_params = {'batch_size': gridsearch_bs, 'dt': 1e-05} # mamba-ffsd_opt with stoch grads and no thin\n",
    "print(run_time_budget(key, time_budget, partial_build_sgld, thin, mamba_fssd_params))"
   ]
  },
  {
   "cell_type": "code",
   "execution_count": 7,
   "id": "9a8130bd",
   "metadata": {},
   "outputs": [
    {
     "name": "stdout",
     "output_type": "stream",
     "text": [
      "assessing the samples. Num samples: 1957\n",
      "(DeviceArray(75.22585, dtype=float32), DeviceArray(0.93895, dtype=float32), 0.039477533917402254, 1957)\n"
     ]
    }
   ],
   "source": [
    "# mamba-ffsd_opt with fb grads and thin=10,\n",
    "# bs grid: 100%, 10%, 1%\n",
    "mamba_fssd_params = {'batch_size': 800_000, 'dt': 1e-05}\n",
    "print(run_time_budget(key, time_budget, partial_build_sgld, thin, mamba_fssd_params))"
   ]
  },
  {
   "cell_type": "code",
   "execution_count": null,
   "id": "b4248f86",
   "metadata": {},
   "outputs": [],
   "source": []
  },
  {
   "cell_type": "code",
   "execution_count": 7,
   "id": "6540eaf5",
   "metadata": {},
   "outputs": [
    {
     "name": "stdout",
     "output_type": "stream",
     "text": [
      "assessing the samples. Num samples: 6777\n",
      "(DeviceArray(45935.7, dtype=float32), DeviceArray(0.93044496, dtype=float32), 22.54366769198233, 6777)\n"
     ]
    }
   ],
   "source": [
    "mamba_fssd_params = {'batch_size': gridsearch_bs, 'dt': 3.1622778e-05} # mamba-linear_imq_KSD\n",
    "print(run_time_budget(key, time_budget, partial_build_sgld, thin, mamba_fssd_params))"
   ]
  },
  {
   "cell_type": "code",
   "execution_count": 9,
   "id": "c1735306",
   "metadata": {},
   "outputs": [
    {
     "name": "stdout",
     "output_type": "stream",
     "text": [
      "assessing the samples. Num samples: 6698\n",
      "(DeviceArray(77.50319, dtype=float32), DeviceArray(0.93898, dtype=float32), 0.1872077026748418, 6698)\n"
     ]
    }
   ],
   "source": [
    "mamba_ksd_params = {'batch_size': gridsearch_bs, 'dt': 3.1622778e-06} # mamba-ksd, all stoch-grads\n",
    "print(run_time_budget(key, time_budget, partial_build_sgld, thin, mamba_ksd_params))"
   ]
  },
  {
   "cell_type": "code",
   "execution_count": null,
   "id": "d1aea8b6",
   "metadata": {},
   "outputs": [],
   "source": []
  },
  {
   "cell_type": "code",
   "execution_count": null,
   "id": "b4849298",
   "metadata": {},
   "outputs": [],
   "source": []
  },
  {
   "cell_type": "code",
   "execution_count": 7,
   "id": "393ceeb0",
   "metadata": {},
   "outputs": [],
   "source": [
    "# mamba_fssd_params = {'batch_size': 80000, 'dt': 1e-05}\n",
    "\n",
    "# timed_sampler_factory = timed_sampler(partial_build_sgld)\n",
    "# my_timed_sampler = timed_sampler_factory(**mamba_fssd_params)\n",
    "# samples, _ = my_timed_sampler(key, 20, theta_true)\n",
    "# plt.plot(np.array(samples)[:,0])"
   ]
  },
  {
   "cell_type": "code",
   "execution_count": null,
   "id": "349e2f2d",
   "metadata": {},
   "outputs": [],
   "source": []
  },
  {
   "cell_type": "code",
   "execution_count": null,
   "id": "c4eb8417",
   "metadata": {},
   "outputs": [],
   "source": []
  },
  {
   "cell_type": "markdown",
   "id": "ce603963",
   "metadata": {},
   "source": [
    "### sgld-cv"
   ]
  },
  {
   "cell_type": "code",
   "execution_count": 22,
   "id": "f12b4bb8",
   "metadata": {},
   "outputs": [
    {
     "name": "stdout",
     "output_type": "stream",
     "text": [
      "assessing the samples. Num samples: 105779\n",
      "(DeviceArray(12.158579, dtype=float32), DeviceArray(0.93895495, dtype=float32), 0.011868206793966931, 105779)\n",
      "assessing the samples. Num samples: 5809\n",
      "(DeviceArray(38.842117, dtype=float32), DeviceArray(0.93895996, dtype=float32), 0.14004768914765875, 5809)\n",
      "assessing the samples. Num samples: 5742\n",
      "(DeviceArray(64.80522, dtype=float32), DeviceArray(0.93896997, dtype=float32), 0.15398081915622983, 5742)\n"
     ]
    }
   ],
   "source": [
    "sh_params = {'batch_size': 800, 'dt': 3.1622776e-06}\n",
    "gridsearch_params = {'batch_size': gridsearch_bs, 'dt': 1e-05}\n",
    "baseline_params = {'batch_size': gridsearch_bs, 'dt': dt_baseline}\n",
    "\n",
    "print(run_time_budget(key, time_budget, partial_build_sgldCV, thin, sh_params))\n",
    "print(run_time_budget(key, time_budget, partial_build_sgldCV, thin, gridsearch_params))\n",
    "print(run_time_budget(key, time_budget, partial_build_sgldCV, thin, baseline_params))"
   ]
  },
  {
   "cell_type": "code",
   "execution_count": 8,
   "id": "b27e3784",
   "metadata": {},
   "outputs": [
    {
     "name": "stdout",
     "output_type": "stream",
     "text": [
      "assessing the samples. Num samples: 5709\n",
      "(DeviceArray(38.43, dtype=float32), DeviceArray(0.93895996, dtype=float32), 0.14136619301982437, 5709)\n"
     ]
    }
   ],
   "source": [
    "# mamba-ffsd_opt with fb grads and thin=10,\n",
    "# bs grid: 100, 10, 1\n",
    "mamba_fssd_params = {'batch_size': 80000, 'dt': 1e-05}\n",
    "print(run_time_budget(key, time_budget, partial_build_sgldCV, thin, mamba_fssd_params))"
   ]
  },
  {
   "cell_type": "code",
   "execution_count": 16,
   "id": "0e505412",
   "metadata": {
    "collapsed": true
   },
   "outputs": [
    {
     "ename": "KeyboardInterrupt",
     "evalue": "",
     "output_type": "error",
     "traceback": [
      "\u001b[0;31m---------------------------------------------------------------------------\u001b[0m",
      "\u001b[0;31mKeyboardInterrupt\u001b[0m                         Traceback (most recent call last)",
      "\u001b[0;32m<ipython-input-16-397bdcaf083d>\u001b[0m in \u001b[0;36m<module>\u001b[0;34m\u001b[0m\n\u001b[1;32m      1\u001b[0m \u001b[0mmamba_ksd_params\u001b[0m \u001b[0;34m=\u001b[0m \u001b[0;34m{\u001b[0m\u001b[0;34m'batch_size'\u001b[0m\u001b[0;34m:\u001b[0m \u001b[0mgridsearch_bs\u001b[0m\u001b[0;34m,\u001b[0m \u001b[0;34m'dt'\u001b[0m\u001b[0;34m:\u001b[0m \u001b[0;36m3.1622776e-06\u001b[0m\u001b[0;34m}\u001b[0m \u001b[0;31m# all samples, stoch grads\u001b[0m\u001b[0;34m\u001b[0m\u001b[0;34m\u001b[0m\u001b[0m\n\u001b[0;32m----> 2\u001b[0;31m \u001b[0mprint\u001b[0m\u001b[0;34m(\u001b[0m\u001b[0mrun_time_budget\u001b[0m\u001b[0;34m(\u001b[0m\u001b[0mkey\u001b[0m\u001b[0;34m,\u001b[0m \u001b[0mtime_budget\u001b[0m\u001b[0;34m,\u001b[0m \u001b[0mpartial_build_sgldCV\u001b[0m\u001b[0;34m,\u001b[0m \u001b[0mthin\u001b[0m\u001b[0;34m,\u001b[0m \u001b[0mmamba_ksd_params\u001b[0m\u001b[0;34m)\u001b[0m\u001b[0;34m)\u001b[0m\u001b[0;34m\u001b[0m\u001b[0;34m\u001b[0m\u001b[0m\n\u001b[0m",
      "\u001b[0;32m<ipython-input-3-7ad11478cc0a>\u001b[0m in \u001b[0;36mrun_time_budget\u001b[0;34m(key, time_budget, build_kernel, thin, dict_params, params_IC)\u001b[0m\n\u001b[1;32m     47\u001b[0m     \u001b[0mtimed_sampler_factory\u001b[0m \u001b[0;34m=\u001b[0m \u001b[0mtimed_sampler\u001b[0m\u001b[0;34m(\u001b[0m\u001b[0mbuild_kernel\u001b[0m\u001b[0;34m)\u001b[0m\u001b[0;34m\u001b[0m\u001b[0;34m\u001b[0m\u001b[0m\n\u001b[1;32m     48\u001b[0m     \u001b[0mmy_timed_sampler\u001b[0m \u001b[0;34m=\u001b[0m \u001b[0mtimed_sampler_factory\u001b[0m\u001b[0;34m(\u001b[0m\u001b[0;34m**\u001b[0m\u001b[0mdict_params\u001b[0m\u001b[0;34m)\u001b[0m\u001b[0;34m\u001b[0m\u001b[0;34m\u001b[0m\u001b[0m\n\u001b[0;32m---> 49\u001b[0;31m     \u001b[0msamples\u001b[0m\u001b[0;34m,\u001b[0m \u001b[0m_\u001b[0m \u001b[0;34m=\u001b[0m \u001b[0mmy_timed_sampler\u001b[0m\u001b[0;34m(\u001b[0m\u001b[0mkey\u001b[0m\u001b[0;34m,\u001b[0m \u001b[0mtime_budget\u001b[0m\u001b[0;34m,\u001b[0m \u001b[0mparams_IC\u001b[0m\u001b[0;34m)\u001b[0m\u001b[0;34m\u001b[0m\u001b[0;34m\u001b[0m\u001b[0m\n\u001b[0m\u001b[1;32m     50\u001b[0m     \u001b[0;32mreturn\u001b[0m \u001b[0massess_LR_samples\u001b[0m\u001b[0;34m(\u001b[0m\u001b[0msamples\u001b[0m\u001b[0;34m,\u001b[0m \u001b[0mthin\u001b[0m\u001b[0;34m)\u001b[0m\u001b[0;34m\u001b[0m\u001b[0;34m\u001b[0m\u001b[0m\n\u001b[1;32m     51\u001b[0m \u001b[0;34m\u001b[0m\u001b[0m\n",
      "\u001b[0;32m~/Documents/research/papers/SGMCMC_bandit_tuning/tuning/mamba.py\u001b[0m in \u001b[0;36msampler\u001b[0;34m(key, time_budget, params)\u001b[0m\n\u001b[1;32m     88\u001b[0m             \u001b[0;31m# hack: need this to compile the first 2 iterations of sgnht\u001b[0m\u001b[0;34m\u001b[0m\u001b[0;34m\u001b[0m\u001b[0;34m\u001b[0m\u001b[0m\n\u001b[1;32m     89\u001b[0m             \u001b[0;31m# _ = kernel(1, subkey, kernel(0, subkey, state))\u001b[0m\u001b[0;34m\u001b[0m\u001b[0;34m\u001b[0m\u001b[0;34m\u001b[0m\u001b[0m\n\u001b[0;32m---> 90\u001b[0;31m             \u001b[0mwait_until_computed\u001b[0m\u001b[0;34m(\u001b[0m\u001b[0mkernel\u001b[0m\u001b[0;34m(\u001b[0m\u001b[0;36m1\u001b[0m\u001b[0;34m,\u001b[0m \u001b[0msubkey\u001b[0m\u001b[0;34m,\u001b[0m \u001b[0mkernel\u001b[0m\u001b[0;34m(\u001b[0m\u001b[0;36m0\u001b[0m\u001b[0;34m,\u001b[0m \u001b[0msubkey\u001b[0m\u001b[0;34m,\u001b[0m \u001b[0mstate\u001b[0m\u001b[0;34m)\u001b[0m\u001b[0;34m)\u001b[0m\u001b[0;34m)\u001b[0m\u001b[0;34m\u001b[0m\u001b[0;34m\u001b[0m\u001b[0m\n\u001b[0m\u001b[1;32m     91\u001b[0m \u001b[0;34m\u001b[0m\u001b[0m\n\u001b[1;32m     92\u001b[0m             \u001b[0mstart_time\u001b[0m \u001b[0;34m=\u001b[0m \u001b[0mtime\u001b[0m\u001b[0;34m.\u001b[0m\u001b[0mtime\u001b[0m\u001b[0;34m(\u001b[0m\u001b[0;34m)\u001b[0m\u001b[0;34m\u001b[0m\u001b[0;34m\u001b[0m\u001b[0m\n",
      "\u001b[0;32m~/Documents/research/papers/SGMCMC_bandit_tuning/venv/lib/python3.8/site-packages/jax/_src/traceback_util.py\u001b[0m in \u001b[0;36mreraise_with_filtered_traceback\u001b[0;34m(*args, **kwargs)\u001b[0m\n\u001b[1;32m    137\u001b[0m   \u001b[0;32mdef\u001b[0m \u001b[0mreraise_with_filtered_traceback\u001b[0m\u001b[0;34m(\u001b[0m\u001b[0;34m*\u001b[0m\u001b[0margs\u001b[0m\u001b[0;34m,\u001b[0m \u001b[0;34m**\u001b[0m\u001b[0mkwargs\u001b[0m\u001b[0;34m)\u001b[0m\u001b[0;34m:\u001b[0m\u001b[0;34m\u001b[0m\u001b[0;34m\u001b[0m\u001b[0m\n\u001b[1;32m    138\u001b[0m     \u001b[0;32mtry\u001b[0m\u001b[0;34m:\u001b[0m\u001b[0;34m\u001b[0m\u001b[0;34m\u001b[0m\u001b[0m\n\u001b[0;32m--> 139\u001b[0;31m       \u001b[0;32mreturn\u001b[0m \u001b[0mfun\u001b[0m\u001b[0;34m(\u001b[0m\u001b[0;34m*\u001b[0m\u001b[0margs\u001b[0m\u001b[0;34m,\u001b[0m \u001b[0;34m**\u001b[0m\u001b[0mkwargs\u001b[0m\u001b[0;34m)\u001b[0m\u001b[0;34m\u001b[0m\u001b[0;34m\u001b[0m\u001b[0m\n\u001b[0m\u001b[1;32m    140\u001b[0m     \u001b[0;32mexcept\u001b[0m \u001b[0mException\u001b[0m \u001b[0;32mas\u001b[0m \u001b[0me\u001b[0m\u001b[0;34m:\u001b[0m\u001b[0;34m\u001b[0m\u001b[0;34m\u001b[0m\u001b[0m\n\u001b[1;32m    141\u001b[0m       \u001b[0;32mif\u001b[0m \u001b[0;32mnot\u001b[0m \u001b[0mis_under_reraiser\u001b[0m\u001b[0;34m(\u001b[0m\u001b[0me\u001b[0m\u001b[0;34m)\u001b[0m\u001b[0;34m:\u001b[0m\u001b[0;34m\u001b[0m\u001b[0;34m\u001b[0m\u001b[0m\n",
      "\u001b[0;32m~/Documents/research/papers/SGMCMC_bandit_tuning/venv/lib/python3.8/site-packages/jax/api.py\u001b[0m in \u001b[0;36mf_jitted\u001b[0;34m(*args, **kwargs)\u001b[0m\n\u001b[1;32m    414\u001b[0m       \u001b[0;32mreturn\u001b[0m \u001b[0mcpp_jitted_f\u001b[0m\u001b[0;34m(\u001b[0m\u001b[0;34m*\u001b[0m\u001b[0margs\u001b[0m\u001b[0;34m,\u001b[0m \u001b[0;34m**\u001b[0m\u001b[0mkwargs\u001b[0m\u001b[0;34m)\u001b[0m\u001b[0;34m\u001b[0m\u001b[0;34m\u001b[0m\u001b[0m\n\u001b[1;32m    415\u001b[0m     \u001b[0;32melse\u001b[0m\u001b[0;34m:\u001b[0m\u001b[0;34m\u001b[0m\u001b[0;34m\u001b[0m\u001b[0m\n\u001b[0;32m--> 416\u001b[0;31m       \u001b[0;32mreturn\u001b[0m \u001b[0mcpp_jitted_f\u001b[0m\u001b[0;34m(\u001b[0m\u001b[0mcontext\u001b[0m\u001b[0;34m,\u001b[0m \u001b[0;34m*\u001b[0m\u001b[0margs\u001b[0m\u001b[0;34m,\u001b[0m \u001b[0;34m**\u001b[0m\u001b[0mkwargs\u001b[0m\u001b[0;34m)\u001b[0m\u001b[0;34m\u001b[0m\u001b[0;34m\u001b[0m\u001b[0m\n\u001b[0m\u001b[1;32m    417\u001b[0m   \u001b[0mf_jitted\u001b[0m\u001b[0;34m.\u001b[0m\u001b[0m_cpp_jitted_f\u001b[0m \u001b[0;34m=\u001b[0m \u001b[0mcpp_jitted_f\u001b[0m\u001b[0;34m\u001b[0m\u001b[0;34m\u001b[0m\u001b[0m\n\u001b[1;32m    418\u001b[0m \u001b[0;34m\u001b[0m\u001b[0m\n",
      "\u001b[0;32m~/Documents/research/papers/SGMCMC_bandit_tuning/venv/lib/python3.8/site-packages/jax/api.py\u001b[0m in \u001b[0;36mcache_miss\u001b[0;34m(_, *args, **kwargs)\u001b[0m\n\u001b[1;32m    295\u001b[0m       \u001b[0m_check_arg\u001b[0m\u001b[0;34m(\u001b[0m\u001b[0marg\u001b[0m\u001b[0;34m)\u001b[0m\u001b[0;34m\u001b[0m\u001b[0;34m\u001b[0m\u001b[0m\n\u001b[1;32m    296\u001b[0m     \u001b[0mflat_fun\u001b[0m\u001b[0;34m,\u001b[0m \u001b[0mout_tree\u001b[0m \u001b[0;34m=\u001b[0m \u001b[0mflatten_fun\u001b[0m\u001b[0;34m(\u001b[0m\u001b[0mf\u001b[0m\u001b[0;34m,\u001b[0m \u001b[0min_tree\u001b[0m\u001b[0;34m)\u001b[0m\u001b[0;34m\u001b[0m\u001b[0;34m\u001b[0m\u001b[0m\n\u001b[0;32m--> 297\u001b[0;31m     out_flat = xla.xla_call(\n\u001b[0m\u001b[1;32m    298\u001b[0m         \u001b[0mflat_fun\u001b[0m\u001b[0;34m,\u001b[0m\u001b[0;34m\u001b[0m\u001b[0;34m\u001b[0m\u001b[0m\n\u001b[1;32m    299\u001b[0m         \u001b[0;34m*\u001b[0m\u001b[0margs_flat\u001b[0m\u001b[0;34m,\u001b[0m\u001b[0;34m\u001b[0m\u001b[0;34m\u001b[0m\u001b[0m\n",
      "\u001b[0;32m~/Documents/research/papers/SGMCMC_bandit_tuning/venv/lib/python3.8/site-packages/jax/core.py\u001b[0m in \u001b[0;36mbind\u001b[0;34m(self, fun, *args, **params)\u001b[0m\n\u001b[1;32m   1392\u001b[0m \u001b[0;34m\u001b[0m\u001b[0m\n\u001b[1;32m   1393\u001b[0m   \u001b[0;32mdef\u001b[0m \u001b[0mbind\u001b[0m\u001b[0;34m(\u001b[0m\u001b[0mself\u001b[0m\u001b[0;34m,\u001b[0m \u001b[0mfun\u001b[0m\u001b[0;34m,\u001b[0m \u001b[0;34m*\u001b[0m\u001b[0margs\u001b[0m\u001b[0;34m,\u001b[0m \u001b[0;34m**\u001b[0m\u001b[0mparams\u001b[0m\u001b[0;34m)\u001b[0m\u001b[0;34m:\u001b[0m\u001b[0;34m\u001b[0m\u001b[0;34m\u001b[0m\u001b[0m\n\u001b[0;32m-> 1394\u001b[0;31m     \u001b[0;32mreturn\u001b[0m \u001b[0mcall_bind\u001b[0m\u001b[0;34m(\u001b[0m\u001b[0mself\u001b[0m\u001b[0;34m,\u001b[0m \u001b[0mfun\u001b[0m\u001b[0;34m,\u001b[0m \u001b[0;34m*\u001b[0m\u001b[0margs\u001b[0m\u001b[0;34m,\u001b[0m \u001b[0;34m**\u001b[0m\u001b[0mparams\u001b[0m\u001b[0;34m)\u001b[0m\u001b[0;34m\u001b[0m\u001b[0;34m\u001b[0m\u001b[0m\n\u001b[0m\u001b[1;32m   1395\u001b[0m \u001b[0;34m\u001b[0m\u001b[0m\n\u001b[1;32m   1396\u001b[0m   \u001b[0;32mdef\u001b[0m \u001b[0mprocess\u001b[0m\u001b[0;34m(\u001b[0m\u001b[0mself\u001b[0m\u001b[0;34m,\u001b[0m \u001b[0mtrace\u001b[0m\u001b[0;34m,\u001b[0m \u001b[0mfun\u001b[0m\u001b[0;34m,\u001b[0m \u001b[0mtracers\u001b[0m\u001b[0;34m,\u001b[0m \u001b[0mparams\u001b[0m\u001b[0;34m)\u001b[0m\u001b[0;34m:\u001b[0m\u001b[0;34m\u001b[0m\u001b[0;34m\u001b[0m\u001b[0m\n",
      "\u001b[0;32m~/Documents/research/papers/SGMCMC_bandit_tuning/venv/lib/python3.8/site-packages/jax/core.py\u001b[0m in \u001b[0;36mcall_bind\u001b[0;34m(primitive, fun, *args, **params)\u001b[0m\n\u001b[1;32m   1383\u001b[0m   \u001b[0mtracers\u001b[0m \u001b[0;34m=\u001b[0m \u001b[0mmap\u001b[0m\u001b[0;34m(\u001b[0m\u001b[0mtop_trace\u001b[0m\u001b[0;34m.\u001b[0m\u001b[0mfull_raise\u001b[0m\u001b[0;34m,\u001b[0m \u001b[0margs\u001b[0m\u001b[0;34m)\u001b[0m\u001b[0;34m\u001b[0m\u001b[0;34m\u001b[0m\u001b[0m\n\u001b[1;32m   1384\u001b[0m   \u001b[0;32mwith\u001b[0m \u001b[0mmaybe_new_sublevel\u001b[0m\u001b[0;34m(\u001b[0m\u001b[0mtop_trace\u001b[0m\u001b[0;34m)\u001b[0m\u001b[0;34m:\u001b[0m\u001b[0;34m\u001b[0m\u001b[0;34m\u001b[0m\u001b[0m\n\u001b[0;32m-> 1385\u001b[0;31m     \u001b[0mouts\u001b[0m \u001b[0;34m=\u001b[0m \u001b[0mprimitive\u001b[0m\u001b[0;34m.\u001b[0m\u001b[0mprocess\u001b[0m\u001b[0;34m(\u001b[0m\u001b[0mtop_trace\u001b[0m\u001b[0;34m,\u001b[0m \u001b[0mfun\u001b[0m\u001b[0;34m,\u001b[0m \u001b[0mtracers\u001b[0m\u001b[0;34m,\u001b[0m \u001b[0mparams\u001b[0m\u001b[0;34m)\u001b[0m\u001b[0;34m\u001b[0m\u001b[0;34m\u001b[0m\u001b[0m\n\u001b[0m\u001b[1;32m   1386\u001b[0m   \u001b[0;32mreturn\u001b[0m \u001b[0mmap\u001b[0m\u001b[0;34m(\u001b[0m\u001b[0mfull_lower\u001b[0m\u001b[0;34m,\u001b[0m \u001b[0mapply_todos\u001b[0m\u001b[0;34m(\u001b[0m\u001b[0menv_trace_todo\u001b[0m\u001b[0;34m(\u001b[0m\u001b[0;34m)\u001b[0m\u001b[0;34m,\u001b[0m \u001b[0mouts\u001b[0m\u001b[0;34m)\u001b[0m\u001b[0;34m)\u001b[0m\u001b[0;34m\u001b[0m\u001b[0;34m\u001b[0m\u001b[0m\n\u001b[1;32m   1387\u001b[0m \u001b[0;34m\u001b[0m\u001b[0m\n",
      "\u001b[0;32m~/Documents/research/papers/SGMCMC_bandit_tuning/venv/lib/python3.8/site-packages/jax/core.py\u001b[0m in \u001b[0;36mprocess\u001b[0;34m(self, trace, fun, tracers, params)\u001b[0m\n\u001b[1;32m   1395\u001b[0m \u001b[0;34m\u001b[0m\u001b[0m\n\u001b[1;32m   1396\u001b[0m   \u001b[0;32mdef\u001b[0m \u001b[0mprocess\u001b[0m\u001b[0;34m(\u001b[0m\u001b[0mself\u001b[0m\u001b[0;34m,\u001b[0m \u001b[0mtrace\u001b[0m\u001b[0;34m,\u001b[0m \u001b[0mfun\u001b[0m\u001b[0;34m,\u001b[0m \u001b[0mtracers\u001b[0m\u001b[0;34m,\u001b[0m \u001b[0mparams\u001b[0m\u001b[0;34m)\u001b[0m\u001b[0;34m:\u001b[0m\u001b[0;34m\u001b[0m\u001b[0;34m\u001b[0m\u001b[0m\n\u001b[0;32m-> 1397\u001b[0;31m     \u001b[0;32mreturn\u001b[0m \u001b[0mtrace\u001b[0m\u001b[0;34m.\u001b[0m\u001b[0mprocess_call\u001b[0m\u001b[0;34m(\u001b[0m\u001b[0mself\u001b[0m\u001b[0;34m,\u001b[0m \u001b[0mfun\u001b[0m\u001b[0;34m,\u001b[0m \u001b[0mtracers\u001b[0m\u001b[0;34m,\u001b[0m \u001b[0mparams\u001b[0m\u001b[0;34m)\u001b[0m\u001b[0;34m\u001b[0m\u001b[0;34m\u001b[0m\u001b[0m\n\u001b[0m\u001b[1;32m   1398\u001b[0m \u001b[0;34m\u001b[0m\u001b[0m\n\u001b[1;32m   1399\u001b[0m   \u001b[0;32mdef\u001b[0m \u001b[0mpost_process\u001b[0m\u001b[0;34m(\u001b[0m\u001b[0mself\u001b[0m\u001b[0;34m,\u001b[0m \u001b[0mtrace\u001b[0m\u001b[0;34m,\u001b[0m \u001b[0mout_tracers\u001b[0m\u001b[0;34m,\u001b[0m \u001b[0mparams\u001b[0m\u001b[0;34m)\u001b[0m\u001b[0;34m:\u001b[0m\u001b[0;34m\u001b[0m\u001b[0;34m\u001b[0m\u001b[0m\n",
      "\u001b[0;32m~/Documents/research/papers/SGMCMC_bandit_tuning/venv/lib/python3.8/site-packages/jax/core.py\u001b[0m in \u001b[0;36mprocess_call\u001b[0;34m(self, primitive, f, tracers, params)\u001b[0m\n\u001b[1;32m    623\u001b[0m \u001b[0;34m\u001b[0m\u001b[0m\n\u001b[1;32m    624\u001b[0m   \u001b[0;32mdef\u001b[0m \u001b[0mprocess_call\u001b[0m\u001b[0;34m(\u001b[0m\u001b[0mself\u001b[0m\u001b[0;34m,\u001b[0m \u001b[0mprimitive\u001b[0m\u001b[0;34m,\u001b[0m \u001b[0mf\u001b[0m\u001b[0;34m,\u001b[0m \u001b[0mtracers\u001b[0m\u001b[0;34m,\u001b[0m \u001b[0mparams\u001b[0m\u001b[0;34m)\u001b[0m\u001b[0;34m:\u001b[0m\u001b[0;34m\u001b[0m\u001b[0;34m\u001b[0m\u001b[0m\n\u001b[0;32m--> 625\u001b[0;31m     \u001b[0;32mreturn\u001b[0m \u001b[0mprimitive\u001b[0m\u001b[0;34m.\u001b[0m\u001b[0mimpl\u001b[0m\u001b[0;34m(\u001b[0m\u001b[0mf\u001b[0m\u001b[0;34m,\u001b[0m \u001b[0;34m*\u001b[0m\u001b[0mtracers\u001b[0m\u001b[0;34m,\u001b[0m \u001b[0;34m**\u001b[0m\u001b[0mparams\u001b[0m\u001b[0;34m)\u001b[0m\u001b[0;34m\u001b[0m\u001b[0;34m\u001b[0m\u001b[0m\n\u001b[0m\u001b[1;32m    626\u001b[0m   \u001b[0mprocess_map\u001b[0m \u001b[0;34m=\u001b[0m \u001b[0mprocess_call\u001b[0m\u001b[0;34m\u001b[0m\u001b[0;34m\u001b[0m\u001b[0m\n\u001b[1;32m    627\u001b[0m \u001b[0;34m\u001b[0m\u001b[0m\n",
      "\u001b[0;32m~/Documents/research/papers/SGMCMC_bandit_tuning/venv/lib/python3.8/site-packages/jax/interpreters/xla.py\u001b[0m in \u001b[0;36m_xla_call_impl\u001b[0;34m(fun, device, backend, name, donated_invars, *args)\u001b[0m\n\u001b[1;32m    584\u001b[0m \u001b[0;34m\u001b[0m\u001b[0m\n\u001b[1;32m    585\u001b[0m \u001b[0;32mdef\u001b[0m \u001b[0m_xla_call_impl\u001b[0m\u001b[0;34m(\u001b[0m\u001b[0mfun\u001b[0m\u001b[0;34m:\u001b[0m \u001b[0mlu\u001b[0m\u001b[0;34m.\u001b[0m\u001b[0mWrappedFun\u001b[0m\u001b[0;34m,\u001b[0m \u001b[0;34m*\u001b[0m\u001b[0margs\u001b[0m\u001b[0;34m,\u001b[0m \u001b[0mdevice\u001b[0m\u001b[0;34m,\u001b[0m \u001b[0mbackend\u001b[0m\u001b[0;34m,\u001b[0m \u001b[0mname\u001b[0m\u001b[0;34m,\u001b[0m \u001b[0mdonated_invars\u001b[0m\u001b[0;34m)\u001b[0m\u001b[0;34m:\u001b[0m\u001b[0;34m\u001b[0m\u001b[0;34m\u001b[0m\u001b[0m\n\u001b[0;32m--> 586\u001b[0;31m   compiled_fun = _xla_callable(fun, device, backend, name, donated_invars,\n\u001b[0m\u001b[1;32m    587\u001b[0m                                *unsafe_map(arg_spec, args))\n\u001b[1;32m    588\u001b[0m   \u001b[0;32mtry\u001b[0m\u001b[0;34m:\u001b[0m\u001b[0;34m\u001b[0m\u001b[0;34m\u001b[0m\u001b[0m\n",
      "\u001b[0;32m~/Documents/research/papers/SGMCMC_bandit_tuning/venv/lib/python3.8/site-packages/jax/linear_util.py\u001b[0m in \u001b[0;36mmemoized_fun\u001b[0;34m(fun, *args)\u001b[0m\n\u001b[1;32m    258\u001b[0m       \u001b[0mfun\u001b[0m\u001b[0;34m.\u001b[0m\u001b[0mpopulate_stores\u001b[0m\u001b[0;34m(\u001b[0m\u001b[0mstores\u001b[0m\u001b[0;34m)\u001b[0m\u001b[0;34m\u001b[0m\u001b[0;34m\u001b[0m\u001b[0m\n\u001b[1;32m    259\u001b[0m     \u001b[0;32melse\u001b[0m\u001b[0;34m:\u001b[0m\u001b[0;34m\u001b[0m\u001b[0;34m\u001b[0m\u001b[0m\n\u001b[0;32m--> 260\u001b[0;31m       \u001b[0mans\u001b[0m \u001b[0;34m=\u001b[0m \u001b[0mcall\u001b[0m\u001b[0;34m(\u001b[0m\u001b[0mfun\u001b[0m\u001b[0;34m,\u001b[0m \u001b[0;34m*\u001b[0m\u001b[0margs\u001b[0m\u001b[0;34m)\u001b[0m\u001b[0;34m\u001b[0m\u001b[0;34m\u001b[0m\u001b[0m\n\u001b[0m\u001b[1;32m    261\u001b[0m       \u001b[0mcache\u001b[0m\u001b[0;34m[\u001b[0m\u001b[0mkey\u001b[0m\u001b[0;34m]\u001b[0m \u001b[0;34m=\u001b[0m \u001b[0;34m(\u001b[0m\u001b[0mans\u001b[0m\u001b[0;34m,\u001b[0m \u001b[0mfun\u001b[0m\u001b[0;34m.\u001b[0m\u001b[0mstores\u001b[0m\u001b[0;34m)\u001b[0m\u001b[0;34m\u001b[0m\u001b[0;34m\u001b[0m\u001b[0m\n\u001b[1;32m    262\u001b[0m \u001b[0;34m\u001b[0m\u001b[0m\n",
      "\u001b[0;32m~/Documents/research/papers/SGMCMC_bandit_tuning/venv/lib/python3.8/site-packages/jax/interpreters/xla.py\u001b[0m in \u001b[0;36m_xla_callable\u001b[0;34m(fun, device, backend, name, donated_invars, *arg_specs)\u001b[0m\n\u001b[1;32m    732\u001b[0m       device_assignment=(device.id,) if device else None)\n\u001b[1;32m    733\u001b[0m   \u001b[0moptions\u001b[0m\u001b[0;34m.\u001b[0m\u001b[0mparameter_is_tupled_arguments\u001b[0m \u001b[0;34m=\u001b[0m \u001b[0mtuple_args\u001b[0m\u001b[0;34m\u001b[0m\u001b[0;34m\u001b[0m\u001b[0m\n\u001b[0;32m--> 734\u001b[0;31m   \u001b[0mcompiled\u001b[0m \u001b[0;34m=\u001b[0m \u001b[0mbackend_compile\u001b[0m\u001b[0;34m(\u001b[0m\u001b[0mbackend\u001b[0m\u001b[0;34m,\u001b[0m \u001b[0mbuilt\u001b[0m\u001b[0;34m,\u001b[0m \u001b[0moptions\u001b[0m\u001b[0;34m)\u001b[0m\u001b[0;34m\u001b[0m\u001b[0;34m\u001b[0m\u001b[0m\n\u001b[0m\u001b[1;32m    735\u001b[0m   \u001b[0;32mif\u001b[0m \u001b[0mnreps\u001b[0m \u001b[0;34m==\u001b[0m \u001b[0;36m1\u001b[0m\u001b[0;34m:\u001b[0m\u001b[0;34m\u001b[0m\u001b[0;34m\u001b[0m\u001b[0m\n\u001b[1;32m    736\u001b[0m     \u001b[0;32mreturn\u001b[0m \u001b[0mpartial\u001b[0m\u001b[0;34m(\u001b[0m\u001b[0m_execute_compiled\u001b[0m\u001b[0;34m,\u001b[0m \u001b[0mcompiled\u001b[0m\u001b[0;34m,\u001b[0m \u001b[0mout_avals\u001b[0m\u001b[0;34m,\u001b[0m \u001b[0mresult_handlers\u001b[0m\u001b[0;34m)\u001b[0m\u001b[0;34m\u001b[0m\u001b[0;34m\u001b[0m\u001b[0m\n",
      "\u001b[0;32m~/Documents/research/papers/SGMCMC_bandit_tuning/venv/lib/python3.8/site-packages/jax/interpreters/xla.py\u001b[0m in \u001b[0;36mbackend_compile\u001b[0;34m(backend, built_c, options)\u001b[0m\n\u001b[1;32m    353\u001b[0m   \u001b[0;31m# we use a separate function call to ensure that XLA compilation appears\u001b[0m\u001b[0;34m\u001b[0m\u001b[0;34m\u001b[0m\u001b[0;34m\u001b[0m\u001b[0m\n\u001b[1;32m    354\u001b[0m   \u001b[0;31m# separately in Python profiling results\u001b[0m\u001b[0;34m\u001b[0m\u001b[0;34m\u001b[0m\u001b[0;34m\u001b[0m\u001b[0m\n\u001b[0;32m--> 355\u001b[0;31m   \u001b[0;32mreturn\u001b[0m \u001b[0mbackend\u001b[0m\u001b[0;34m.\u001b[0m\u001b[0mcompile\u001b[0m\u001b[0;34m(\u001b[0m\u001b[0mbuilt_c\u001b[0m\u001b[0;34m,\u001b[0m \u001b[0mcompile_options\u001b[0m\u001b[0;34m=\u001b[0m\u001b[0moptions\u001b[0m\u001b[0;34m)\u001b[0m\u001b[0;34m\u001b[0m\u001b[0;34m\u001b[0m\u001b[0m\n\u001b[0m\u001b[1;32m    356\u001b[0m \u001b[0;34m\u001b[0m\u001b[0m\n\u001b[1;32m    357\u001b[0m \u001b[0;32mdef\u001b[0m \u001b[0m_execute_compiled_primitive\u001b[0m\u001b[0;34m(\u001b[0m\u001b[0mprim\u001b[0m\u001b[0;34m,\u001b[0m \u001b[0mcompiled\u001b[0m\u001b[0;34m,\u001b[0m \u001b[0mresult_handler\u001b[0m\u001b[0;34m,\u001b[0m \u001b[0;34m*\u001b[0m\u001b[0margs\u001b[0m\u001b[0;34m)\u001b[0m\u001b[0;34m:\u001b[0m\u001b[0;34m\u001b[0m\u001b[0;34m\u001b[0m\u001b[0m\n",
      "\u001b[0;31mKeyboardInterrupt\u001b[0m: "
     ]
    }
   ],
   "source": [
    "mamba_ksd_params = {'batch_size': gridsearch_bs, 'dt': 3.1622776e-06} # all samples, stoch grads\n",
    "print(run_time_budget(key, time_budget, partial_build_sgldCV, thin, mamba_ksd_params))"
   ]
  },
  {
   "cell_type": "code",
   "execution_count": null,
   "id": "dda136f7",
   "metadata": {},
   "outputs": [],
   "source": []
  },
  {
   "cell_type": "code",
   "execution_count": null,
   "id": "44194d65",
   "metadata": {},
   "outputs": [],
   "source": []
  },
  {
   "cell_type": "code",
   "execution_count": 23,
   "id": "eb3c1f37",
   "metadata": {
    "scrolled": true
   },
   "outputs": [
    {
     "name": "stdout",
     "output_type": "stream",
     "text": [
      "assessing the samples. Num samples: 76168\n",
      "(DeviceArray(62.38453, dtype=float32), DeviceArray(0.93896496, dtype=float32), 0.3431125534731983, 76168)\n",
      "assessing the samples. Num samples: 871\n",
      "(DeviceArray(142.46878, dtype=float32), DeviceArray(0.93895996, dtype=float32), 0.11776767166374653, 871)\n",
      "assessing the samples. Num samples: 871\n",
      "(Buffer(56724.36, dtype=float32), DeviceArray(0.926115, dtype=float32), 29.053134632074922, 871)\n"
     ]
    }
   ],
   "source": [
    "sh_params = {'batch_size': 800, 'L': 5, 'dt': 3.1622776e-08}\n",
    "gridsearch_params = {'batch_size': gridsearch_bs, 'L': 10, 'dt': 1e-07}\n",
    "baseline_params = {'batch_size': gridsearch_bs, 'L': 10, 'dt': dt_baseline}\n",
    "\n",
    "print(run_time_budget(key, time_budget, partial_build_sghmc, thin, sh_params))\n",
    "print(run_time_budget(key, time_budget, partial_build_sghmc, thin, gridsearch_params))\n",
    "print(run_time_budget(key, time_budget, partial_build_sghmc, thin, baseline_params))"
   ]
  },
  {
   "cell_type": "code",
   "execution_count": 9,
   "id": "d8690cec",
   "metadata": {},
   "outputs": [
    {
     "name": "stdout",
     "output_type": "stream",
     "text": [
      "assessing the samples. Num samples: 11268\n",
      "(DeviceArray(72.02195, dtype=float32), DeviceArray(0.938945, dtype=float32), 0.7849112816776883, 11268)\n"
     ]
    }
   ],
   "source": [
    "# mamba-ffsd_opt with fb grads and thin=10,\n",
    "# bs grid: 100, 10, 1\n",
    "mamba_fssd_params = {'batch_size': 8000, 'L': 5, 'dt': 1e-06}\n",
    "print(run_time_budget(key, time_budget, partial_build_sghmc, thin, mamba_fssd_params))"
   ]
  },
  {
   "cell_type": "code",
   "execution_count": 11,
   "id": "e4fbfcdb",
   "metadata": {},
   "outputs": [
    {
     "name": "stdout",
     "output_type": "stream",
     "text": [
      "assessing the samples. Num samples: 1641\n",
      "(DeviceArray(94.11242, dtype=float32), DeviceArray(0.938945, dtype=float32), 0.09267265712168615, 1641)\n"
     ]
    }
   ],
   "source": [
    "mamba_ksd_params = {'batch_size': gridsearch_bs, 'L': 5, 'dt': 3.1622776e-07}\n",
    "print(run_time_budget(key, time_budget, partial_build_sghmc, thin, mamba_ksd_params))"
   ]
  },
  {
   "cell_type": "code",
   "execution_count": null,
   "id": "1cf879cd",
   "metadata": {},
   "outputs": [],
   "source": []
  },
  {
   "cell_type": "code",
   "execution_count": 24,
   "id": "84175ee5",
   "metadata": {},
   "outputs": [
    {
     "name": "stdout",
     "output_type": "stream",
     "text": [
      "assessing the samples. Num samples: 104082\n",
      "(DeviceArray(10.583215, dtype=float32), DeviceArray(0.93895495, dtype=float32), 0.07263925066728913, 104082)\n",
      "assessing the samples. Num samples: 693\n",
      "(Buffer(94.10962, dtype=float32), DeviceArray(0.93895495, dtype=float32), 0.059828882776049426, 693)\n",
      "assessing the samples. Num samples: 695\n",
      "(Buffer(54823.19, dtype=float32), DeviceArray(0.92651, dtype=float32), 29.357826104223406, 695)\n"
     ]
    }
   ],
   "source": [
    "sh_params = {'batch_size': 80, 'L': 10, 'dt': 1e-07}\n",
    "gridsearch_params = {'batch_size': gridsearch_bs, 'L': 10, 'dt': 3.1622776e-07}\n",
    "baseline_params = {'batch_size': gridsearch_bs, 'L': 10, 'dt': dt_baseline}\n",
    "\n",
    "print(run_time_budget(key, time_budget, partial_build_sghmcCV, thin, sh_params))\n",
    "print(run_time_budget(key, time_budget, partial_build_sghmcCV, thin, gridsearch_params))\n",
    "print(run_time_budget(key, time_budget, partial_build_sghmcCV, thin, baseline_params))"
   ]
  },
  {
   "cell_type": "code",
   "execution_count": 20,
   "id": "a9e58af8",
   "metadata": {},
   "outputs": [
    {
     "name": "stdout",
     "output_type": "stream",
     "text": [
      "assessing the samples. Num samples: 112718\n",
      "(DeviceArray(2018.0868, dtype=float32), DeviceArray(0.59419, dtype=float32), 800448.6094977789, 112718)\n"
     ]
    }
   ],
   "source": [
    "\n",
    "# mamba-ffsd_opt with fb grads and thin=10,\n",
    "# bs grid: 100, 10, 1\n",
    "mamba_fssd_params = \n",
    "print(run_time_budget(key, time_budget, partial_build_sghmcCV, thin, mamba_fssd_params))"
   ]
  },
  {
   "cell_type": "code",
   "execution_count": 12,
   "id": "bc74d5ff",
   "metadata": {},
   "outputs": [
    {
     "name": "stdout",
     "output_type": "stream",
     "text": [
      "assessing the samples. Num samples: 1255\n",
      "(DeviceArray(118.32275, dtype=float32), DeviceArray(0.93895, dtype=float32), 0.16738478031645904, 1255)\n"
     ]
    }
   ],
   "source": [
    "mamba_ksd_params = {'batch_size': gridsearch_bs, 'L': 5, 'dt': 1e-06}\n",
    "print(run_time_budget(key, time_budget, partial_build_sghmcCV, thin, mamba_ksd_params))"
   ]
  },
  {
   "cell_type": "code",
   "execution_count": null,
   "id": "6aad6052",
   "metadata": {},
   "outputs": [],
   "source": []
  },
  {
   "cell_type": "code",
   "execution_count": 25,
   "id": "7118f95d",
   "metadata": {},
   "outputs": [
    {
     "name": "stdout",
     "output_type": "stream",
     "text": [
      "assessing the samples. Num samples: 2239\n",
      "(Buffer(15.827154, dtype=float32), DeviceArray(0.93895996, dtype=float32), 0.12468908397487347, 2239)\n",
      "assessing the samples. Num samples: 8088\n",
      "(DeviceArray(48.573803, dtype=float32), DeviceArray(0.93896496, dtype=float32), 0.22415345879112614, 8088)\n",
      "assessing the samples. Num samples: 8126\n",
      "(DeviceArray(68.63134, dtype=float32), DeviceArray(0.93895495, dtype=float32), 0.5378338042174073, 8126)\n"
     ]
    }
   ],
   "source": [
    "sh_params = {'batch_size': 800000, 'dt': 3.1622776e-06}\n",
    "gridsearch_params = {'batch_size': gridsearch_bs, 'dt': 3.1622776e-08}\n",
    "baseline_params = {'batch_size': gridsearch_bs, 'dt': dt_baseline}\n",
    "\n",
    "print(run_time_budget(key, time_budget, partial_build_sgnht, thin, sh_params))\n",
    "print(run_time_budget(key, time_budget, partial_build_sgnht, thin, gridsearch_params))\n",
    "print(run_time_budget(key, time_budget, partial_build_sgnht, thin, baseline_params))"
   ]
  },
  {
   "cell_type": "code",
   "execution_count": 21,
   "id": "d7d89c61",
   "metadata": {},
   "outputs": [
    {
     "name": "stdout",
     "output_type": "stream",
     "text": [
      "assessing the samples. Num samples: 8035\n",
      "(DeviceArray(94.61353, dtype=float32), DeviceArray(0.938975, dtype=float32), 0.5454608738629965, 8035)\n"
     ]
    }
   ],
   "source": [
    "mamba_fssd_params = {'batch_size': 80000, 'dt': 3.1622776e-06}\n",
    "print(run_time_budget(key, time_budget, partial_build_sgnht, thin, mamba_fssd_params))\n"
   ]
  },
  {
   "cell_type": "code",
   "execution_count": 13,
   "id": "6f980332",
   "metadata": {},
   "outputs": [
    {
     "name": "stdout",
     "output_type": "stream",
     "text": [
      "assessing the samples. Num samples: 7976\n",
      "(DeviceArray(38.992004, dtype=float32), DeviceArray(0.93895996, dtype=float32), 0.44140859396055326, 7976)\n"
     ]
    }
   ],
   "source": [
    "mamba_ksd_params = {'batch_size': gridsearch_bs, 'dt': 3.1622776e-07}\n",
    "print(run_time_budget(key, time_budget, partial_build_sgnht, thin, mamba_ksd_params))\n"
   ]
  },
  {
   "cell_type": "code",
   "execution_count": null,
   "id": "c1d32868",
   "metadata": {},
   "outputs": [],
   "source": []
  },
  {
   "cell_type": "code",
   "execution_count": 26,
   "id": "76ab5c57",
   "metadata": {},
   "outputs": [
    {
     "name": "stdout",
     "output_type": "stream",
     "text": [
      "assessing the samples. Num samples: 33668\n",
      "(DeviceArray(4.257115, dtype=float32), DeviceArray(0.938945, dtype=float32), 0.016955398870115684, 33668)\n",
      "assessing the samples. Num samples: 6635\n",
      "(DeviceArray(10.399927, dtype=float32), DeviceArray(0.93895, dtype=float32), 0.12841904450700375, 6635)\n",
      "assessing the samples. Num samples: 6525\n",
      "(DeviceArray(9.712614, dtype=float32), DeviceArray(0.93895, dtype=float32), 0.15510750873367138, 6525)\n"
     ]
    }
   ],
   "source": [
    "sh_params = {'batch_size': 8000, 'dt': 1e-06}\n",
    "gridsearch_params = {'batch_size': gridsearch_bs, 'dt': 3.1622778e-05}\n",
    "baseline_params = {'batch_size': gridsearch_bs, 'dt': dt_baseline}\n",
    "\n",
    "print(run_time_budget(key, time_budget, partial_build_sgnhtCV, thin, sh_params))\n",
    "print(run_time_budget(key, time_budget, partial_build_sgnhtCV, thin, gridsearch_params))\n",
    "print(run_time_budget(key, time_budget, partial_build_sgnhtCV, thin, baseline_params))"
   ]
  },
  {
   "cell_type": "code",
   "execution_count": 22,
   "id": "e64c1340",
   "metadata": {},
   "outputs": [
    {
     "name": "stdout",
     "output_type": "stream",
     "text": [
      "assessing the samples. Num samples: 6256\n",
      "(DeviceArray(13.539698, dtype=float32), DeviceArray(0.93895495, dtype=float32), 0.1296966506137831, 6256)\n"
     ]
    }
   ],
   "source": [
    "mamba_fssd_params = {'batch_size': 80000, 'dt': 3.1622778e-05}\n",
    "print(run_time_budget(key, time_budget, partial_build_sgnhtCV, thin, mamba_fssd_params))\n"
   ]
  },
  {
   "cell_type": "code",
   "execution_count": 14,
   "id": "3c22deaf",
   "metadata": {},
   "outputs": [
    {
     "name": "stdout",
     "output_type": "stream",
     "text": [
      "assessing the samples. Num samples: 6159\n",
      "(DeviceArray(16.319818, dtype=float32), DeviceArray(0.93895996, dtype=float32), 0.042370758171956874, 6159)\n"
     ]
    }
   ],
   "source": [
    "mamba_ksd_params = {'batch_size': gridsearch_bs, 'dt': 3.1622776e-06}\n",
    "print(run_time_budget(key, time_budget, partial_build_sgnhtCV, thin, mamba_ksd_params))\n"
   ]
  },
  {
   "cell_type": "code",
   "execution_count": null,
   "id": "3ad41160",
   "metadata": {},
   "outputs": [],
   "source": []
  },
  {
   "cell_type": "markdown",
   "id": "f2f87b51",
   "metadata": {},
   "source": [
    "# 2. KSD curves"
   ]
  },
  {
   "cell_type": "code",
   "execution_count": null,
   "id": "a0187c8b",
   "metadata": {},
   "outputs": [],
   "source": []
  },
  {
   "cell_type": "markdown",
   "id": "36a6bde8",
   "metadata": {},
   "source": [
    "### sgld"
   ]
  },
  {
   "cell_type": "code",
   "execution_count": 12,
   "id": "c4857eea",
   "metadata": {},
   "outputs": [],
   "source": [
    "error_fn_ksd_curve = partial(get_ksd_LR, thin_step=20)\n",
    "list_time_budget = [2, 4, 6, 8, 10]"
   ]
  },
  {
   "cell_type": "code",
   "execution_count": 27,
   "id": "79e62f93",
   "metadata": {
    "collapsed": true
   },
   "outputs": [
    {
     "name": "stdout",
     "output_type": "stream",
     "text": [
      "Running for {'batch_size': 800000, 'dt': 3.1622776e-06}\n",
      "\n",
      "Iteration 0/10\n",
      "Budget: 2, num_samples = 245\n",
      "Budget: 4, num_samples = 505\n",
      "Budget: 6, num_samples = 764\n",
      "Budget: 8, num_samples = 1010\n",
      "Budget: 10, num_samples = 1276\n",
      "\n",
      "Iteration 1/10\n",
      "Budget: 2, num_samples = 256\n",
      "Budget: 4, num_samples = 507\n",
      "Budget: 6, num_samples = 756\n",
      "Budget: 8, num_samples = 1012\n",
      "Budget: 10, num_samples = 1267\n",
      "\n",
      "Iteration 2/10\n",
      "Budget: 2, num_samples = 256\n",
      "Budget: 4, num_samples = 508\n",
      "Budget: 6, num_samples = 769\n",
      "Budget: 8, num_samples = 1020\n",
      "Budget: 10, num_samples = 1283\n",
      "\n",
      "Iteration 3/10\n",
      "Budget: 2, num_samples = 257\n",
      "Budget: 4, num_samples = 511\n",
      "Budget: 6, num_samples = 770\n",
      "Budget: 8, num_samples = 1009\n",
      "Budget: 10, num_samples = 1137\n",
      "\n",
      "Iteration 4/10\n",
      "Budget: 2, num_samples = 225\n",
      "Budget: 4, num_samples = 465\n",
      "Budget: 6, num_samples = 718\n",
      "Budget: 8, num_samples = 980\n",
      "Budget: 10, num_samples = 1228\n",
      "\n",
      "Iteration 5/10\n",
      "Budget: 2, num_samples = 245\n",
      "Budget: 4, num_samples = 417\n",
      "Budget: 6, num_samples = 576\n",
      "Budget: 8, num_samples = 798\n",
      "Budget: 10, num_samples = 1052\n",
      "\n",
      "Iteration 6/10\n",
      "Budget: 2, num_samples = 233\n",
      "Budget: 4, num_samples = 470\n",
      "Budget: 6, num_samples = 718\n",
      "Budget: 8, num_samples = 977\n",
      "Budget: 10, num_samples = 1225\n",
      "\n",
      "Iteration 7/10\n",
      "Budget: 2, num_samples = 241\n",
      "Budget: 4, num_samples = 442\n",
      "Budget: 6, num_samples = 596\n",
      "Budget: 8, num_samples = 807\n",
      "Budget: 10, num_samples = 1097\n",
      "\n",
      "Iteration 8/10\n",
      "Budget: 2, num_samples = 231\n",
      "Budget: 4, num_samples = 463\n",
      "Budget: 6, num_samples = 665\n",
      "Budget: 8, num_samples = 840\n",
      "Budget: 10, num_samples = 857\n",
      "\n",
      "Iteration 9/10\n",
      "Budget: 2, num_samples = 190\n",
      "Budget: 4, num_samples = 391\n",
      "Budget: 6, num_samples = 603\n",
      "Budget: 8, num_samples = 819\n",
      "Budget: 10, num_samples = 1006\n"
     ]
    }
   ],
   "source": [
    "dict_params = {'batch_size': 800000, 'dt': 3.1622776e-06}\n",
    "get_metric_curve = build_metric_curve_fn(dict_params, list_time_budget, \n",
    "                            partial_build_sgld, theta_true, error_fn_ksd_curve)\n",
    "\n",
    "key = random.PRNGKey(0)\n",
    "mean_ksd_curve_sgld_mamba, sd_ksd_curve_sgld_mamba = get_mean_sd_ksd_curve(key, 10, get_metric_curve)\n"
   ]
  },
  {
   "cell_type": "code",
   "execution_count": 7,
   "id": "89a4b6df",
   "metadata": {
    "collapsed": true
   },
   "outputs": [
    {
     "name": "stdout",
     "output_type": "stream",
     "text": [
      "Running for {'batch_size': 80000, 'dt': 1e-06}\n",
      "\n",
      "Iteration 0/10\n",
      "Budget: 2, num_samples = 688\n",
      "Budget: 4, num_samples = 1647\n",
      "Budget: 6, num_samples = 2471\n",
      "Budget: 8, num_samples = 3293\n",
      "Budget: 10, num_samples = 4106\n",
      "\n",
      "Iteration 1/10\n",
      "Budget: 2, num_samples = 686\n",
      "Budget: 4, num_samples = 1376\n",
      "Budget: 6, num_samples = 2455\n",
      "Budget: 8, num_samples = 3282\n",
      "Budget: 10, num_samples = 3425\n",
      "\n",
      "Iteration 2/10\n",
      "Budget: 2, num_samples = 819\n",
      "Budget: 4, num_samples = 1638\n",
      "Budget: 6, num_samples = 2455\n",
      "Budget: 8, num_samples = 2737\n",
      "Budget: 10, num_samples = 4111\n",
      "\n",
      "Iteration 3/10\n",
      "Budget: 2, num_samples = 683\n",
      "Budget: 4, num_samples = 1369\n",
      "Budget: 6, num_samples = 2047\n",
      "Budget: 8, num_samples = 3286\n",
      "Budget: 10, num_samples = 3425\n",
      "\n",
      "Iteration 4/10\n",
      "Budget: 2, num_samples = 682\n",
      "Budget: 4, num_samples = 1373\n",
      "Budget: 6, num_samples = 2051\n",
      "Budget: 8, num_samples = 2741\n",
      "Budget: 10, num_samples = 4100\n",
      "\n",
      "Iteration 5/10\n",
      "Budget: 2, num_samples = 682\n",
      "Budget: 4, num_samples = 1296\n",
      "Budget: 6, num_samples = 1944\n",
      "Budget: 8, num_samples = 2760\n",
      "Budget: 10, num_samples = 3333\n",
      "\n",
      "Iteration 6/10\n",
      "Budget: 2, num_samples = 660\n",
      "Budget: 4, num_samples = 1523\n",
      "Budget: 6, num_samples = 2384\n",
      "Budget: 8, num_samples = 3286\n",
      "Budget: 10, num_samples = 3314\n",
      "\n",
      "Iteration 7/10\n",
      "Budget: 2, num_samples = 818\n",
      "Budget: 4, num_samples = 1356\n",
      "Budget: 6, num_samples = 2459\n",
      "Budget: 8, num_samples = 2729\n",
      "Budget: 10, num_samples = 3360\n",
      "\n",
      "Iteration 8/10\n",
      "Budget: 2, num_samples = 792\n",
      "Budget: 4, num_samples = 1519\n",
      "Budget: 6, num_samples = 2404\n",
      "Budget: 8, num_samples = 3232\n",
      "Budget: 10, num_samples = 4082\n",
      "\n",
      "Iteration 9/10\n",
      "Budget: 2, num_samples = 685\n",
      "Budget: 4, num_samples = 1370\n",
      "Budget: 6, num_samples = 2055\n",
      "Budget: 8, num_samples = 2701\n",
      "Budget: 10, num_samples = 4026\n"
     ]
    }
   ],
   "source": [
    "dict_params = {'batch_size': gridsearch_bs, 'dt': 1e-6}\n",
    "get_metric_curve = build_metric_curve_fn(dict_params, list_time_budget, \n",
    "                            partial_build_sgld, theta_true, error_fn_ksd_curve)\n",
    "\n",
    "key = random.PRNGKey(0)\n",
    "mean_ksd_curve_sgld_gridsearch, sd_ksd_curve_sgld_gridsearch = get_mean_sd_ksd_curve(key, 10, get_metric_curve)\n"
   ]
  },
  {
   "cell_type": "code",
   "execution_count": 14,
   "id": "6c9f7719",
   "metadata": {
    "collapsed": true
   },
   "outputs": [
    {
     "name": "stdout",
     "output_type": "stream",
     "text": [
      "Running for {'batch_size': 80000, 'dt': 1e-06}\n",
      "\n",
      "Iteration 0/10\n",
      "Budget: 2, num_samples = 666\n",
      "Budget: 4, num_samples = 1595\n",
      "Budget: 6, num_samples = 2416\n",
      "Budget: 8, num_samples = 2743\n",
      "Budget: 10, num_samples = 4109\n",
      "\n",
      "Iteration 1/10\n",
      "Budget: 2, num_samples = 667\n",
      "Budget: 4, num_samples = 1346\n",
      "Budget: 6, num_samples = 2425\n",
      "Budget: 8, num_samples = 3231\n",
      "Budget: 10, num_samples = 3970\n",
      "\n",
      "Iteration 2/10\n",
      "Budget: 2, num_samples = 669\n",
      "Budget: 4, num_samples = 1327\n",
      "Budget: 6, num_samples = 2437\n",
      "Budget: 8, num_samples = 2779\n",
      "Budget: 10, num_samples = 4112\n",
      "\n",
      "Iteration 3/10\n",
      "Budget: 2, num_samples = 684\n",
      "Budget: 4, num_samples = 1648\n",
      "Budget: 6, num_samples = 2473\n",
      "Budget: 8, num_samples = 3238\n",
      "Budget: 10, num_samples = 3377\n",
      "\n",
      "Iteration 4/10\n",
      "Budget: 2, num_samples = 816\n",
      "Budget: 4, num_samples = 1646\n",
      "Budget: 6, num_samples = 2085\n",
      "Budget: 8, num_samples = 3197\n",
      "Budget: 10, num_samples = 4054\n",
      "\n",
      "Iteration 5/10\n",
      "Budget: 2, num_samples = 683\n",
      "Budget: 4, num_samples = 1343\n",
      "Budget: 6, num_samples = 2026\n",
      "Budget: 8, num_samples = 3199\n",
      "Budget: 10, num_samples = 3435\n",
      "\n",
      "Iteration 6/10\n",
      "Budget: 2, num_samples = 805\n",
      "Budget: 4, num_samples = 1359\n",
      "Budget: 6, num_samples = 2259\n",
      "Budget: 8, num_samples = 3282\n",
      "Budget: 10, num_samples = 4104\n",
      "\n",
      "Iteration 7/10\n",
      "Budget: 2, num_samples = 660\n",
      "Budget: 4, num_samples = 1631\n",
      "Budget: 6, num_samples = 2545\n",
      "Budget: 8, num_samples = 3301\n",
      "Budget: 10, num_samples = 4017\n",
      "\n",
      "Iteration 8/10\n",
      "Budget: 2, num_samples = 638\n",
      "Budget: 4, num_samples = 1580\n",
      "Budget: 6, num_samples = 2406\n",
      "Budget: 8, num_samples = 2673\n",
      "Budget: 10, num_samples = 3995\n",
      "\n",
      "Iteration 9/10\n",
      "Budget: 2, num_samples = 791\n",
      "Budget: 4, num_samples = 1596\n",
      "Budget: 6, num_samples = 1988\n",
      "Budget: 8, num_samples = 3206\n",
      "Budget: 10, num_samples = 4012\n"
     ]
    }
   ],
   "source": [
    "dict_params = {'batch_size': gridsearch_bs, 'dt': dt_baseline}\n",
    "get_metric_curve = build_metric_curve_fn(dict_params, list_time_budget, \n",
    "                            partial_build_sgld, theta_true, error_fn_ksd_curve)\n",
    "\n",
    "key = random.PRNGKey(0)\n",
    "mean_ksd_curve_sgld_baseline, sd_ksd_curve_sgld_baseline = get_mean_sd_ksd_curve(key, 10, get_metric_curve)\n"
   ]
  },
  {
   "cell_type": "code",
   "execution_count": null,
   "id": "7aaf02a6",
   "metadata": {},
   "outputs": [],
   "source": []
  },
  {
   "cell_type": "code",
   "execution_count": null,
   "id": "96ab6a7c",
   "metadata": {},
   "outputs": [],
   "source": []
  },
  {
   "cell_type": "markdown",
   "id": "a5565473",
   "metadata": {},
   "source": [
    "### sgld-cv"
   ]
  },
  {
   "cell_type": "code",
   "execution_count": 28,
   "id": "26d11bda",
   "metadata": {
    "collapsed": true
   },
   "outputs": [
    {
     "name": "stdout",
     "output_type": "stream",
     "text": [
      "Running for {'batch_size': 800, 'dt': 3.1622776e-06}\n",
      "\n",
      "Iteration 0/10\n",
      "Budget: 2, num_samples = 9434\n",
      "Budget: 4, num_samples = 13103\n",
      "Budget: 6, num_samples = 21978\n",
      "Budget: 8, num_samples = 36681\n",
      "Budget: 10, num_samples = 52482\n",
      "\n",
      "Iteration 1/10\n",
      "Budget: 2, num_samples = 9934\n",
      "Budget: 4, num_samples = 21032\n",
      "Budget: 6, num_samples = 31512\n",
      "Budget: 8, num_samples = 42161\n",
      "Budget: 10, num_samples = 43343\n",
      "\n",
      "Iteration 2/10\n",
      "Budget: 2, num_samples = 9003\n",
      "Budget: 4, num_samples = 21396\n",
      "Budget: 6, num_samples = 32380\n",
      "Budget: 8, num_samples = 41217\n",
      "Budget: 10, num_samples = 53286\n",
      "\n",
      "Iteration 3/10\n",
      "Budget: 2, num_samples = 10424\n",
      "Budget: 4, num_samples = 20407\n",
      "Budget: 6, num_samples = 29987\n",
      "Budget: 8, num_samples = 40069\n",
      "Budget: 10, num_samples = 46079\n",
      "\n",
      "Iteration 4/10\n",
      "Budget: 2, num_samples = 9483\n",
      "Budget: 4, num_samples = 21111\n",
      "Budget: 6, num_samples = 30442\n",
      "Budget: 8, num_samples = 41410\n",
      "Budget: 10, num_samples = 51895\n",
      "\n",
      "Iteration 5/10\n",
      "Budget: 2, num_samples = 9228\n",
      "Budget: 4, num_samples = 18436\n",
      "Budget: 6, num_samples = 29454\n",
      "Budget: 8, num_samples = 40899\n",
      "Budget: 10, num_samples = 48449\n",
      "\n",
      "Iteration 6/10\n",
      "Budget: 2, num_samples = 8798\n",
      "Budget: 4, num_samples = 16452\n",
      "Budget: 6, num_samples = 25967\n",
      "Budget: 8, num_samples = 43014\n",
      "Budget: 10, num_samples = 51361\n",
      "\n",
      "Iteration 7/10\n",
      "Budget: 2, num_samples = 6647\n",
      "Budget: 4, num_samples = 18624\n",
      "Budget: 6, num_samples = 28048\n",
      "Budget: 8, num_samples = 38902\n",
      "Budget: 10, num_samples = 45812\n",
      "\n",
      "Iteration 8/10\n",
      "Budget: 2, num_samples = 9405\n",
      "Budget: 4, num_samples = 20979\n",
      "Budget: 6, num_samples = 31286\n",
      "Budget: 8, num_samples = 40705\n",
      "Budget: 10, num_samples = 45966\n",
      "\n",
      "Iteration 9/10\n",
      "Budget: 2, num_samples = 9671\n",
      "Budget: 4, num_samples = 20780\n",
      "Budget: 6, num_samples = 29961\n",
      "Budget: 8, num_samples = 40093\n",
      "Budget: 10, num_samples = 43635\n"
     ]
    }
   ],
   "source": [
    "dict_params = {'batch_size': 800, 'dt': 3.1622776e-06}\n",
    "get_metric_curve = build_metric_curve_fn(dict_params, list_time_budget, \n",
    "                            partial_build_sgldCV, theta_true, error_fn_ksd_curve)\n",
    "\n",
    "key = random.PRNGKey(0)\n",
    "mean_ksd_curve_sgldCV_mamba, sd_ksd_curve_sgldCV_mamba = get_mean_sd_ksd_curve(key, 10, get_metric_curve)\n"
   ]
  },
  {
   "cell_type": "code",
   "execution_count": 9,
   "id": "0f4f2f8a",
   "metadata": {
    "collapsed": true
   },
   "outputs": [
    {
     "name": "stdout",
     "output_type": "stream",
     "text": [
      "Running for {'batch_size': 80000, 'dt': 1e-05}\n",
      "\n",
      "Iteration 0/10\n",
      "Budget: 2, num_samples = 576\n",
      "Budget: 4, num_samples = 1173\n",
      "Budget: 6, num_samples = 1762\n",
      "Budget: 8, num_samples = 2343\n",
      "Budget: 10, num_samples = 2938\n",
      "\n",
      "Iteration 1/10\n",
      "Budget: 2, num_samples = 586\n",
      "Budget: 4, num_samples = 1177\n",
      "Budget: 6, num_samples = 1760\n",
      "Budget: 8, num_samples = 2340\n",
      "Budget: 10, num_samples = 2928\n",
      "\n",
      "Iteration 2/10\n",
      "Budget: 2, num_samples = 582\n",
      "Budget: 4, num_samples = 1164\n",
      "Budget: 6, num_samples = 1756\n",
      "Budget: 8, num_samples = 2340\n",
      "Budget: 10, num_samples = 2926\n",
      "\n",
      "Iteration 3/10\n",
      "Budget: 2, num_samples = 585\n",
      "Budget: 4, num_samples = 1161\n",
      "Budget: 6, num_samples = 1751\n",
      "Budget: 8, num_samples = 2344\n",
      "Budget: 10, num_samples = 2916\n",
      "\n",
      "Iteration 4/10\n",
      "Budget: 2, num_samples = 582\n",
      "Budget: 4, num_samples = 1174\n",
      "Budget: 6, num_samples = 1751\n",
      "Budget: 8, num_samples = 2336\n",
      "Budget: 10, num_samples = 2923\n",
      "\n",
      "Iteration 5/10\n",
      "Budget: 2, num_samples = 582\n",
      "Budget: 4, num_samples = 1171\n",
      "Budget: 6, num_samples = 1759\n",
      "Budget: 8, num_samples = 2356\n",
      "Budget: 10, num_samples = 2927\n",
      "\n",
      "Iteration 6/10\n",
      "Budget: 2, num_samples = 586\n",
      "Budget: 4, num_samples = 1166\n",
      "Budget: 6, num_samples = 1761\n",
      "Budget: 8, num_samples = 2347\n",
      "Budget: 10, num_samples = 2937\n",
      "\n",
      "Iteration 7/10\n",
      "Budget: 2, num_samples = 584\n",
      "Budget: 4, num_samples = 1173\n",
      "Budget: 6, num_samples = 1763\n",
      "Budget: 8, num_samples = 2344\n",
      "Budget: 10, num_samples = 2946\n",
      "\n",
      "Iteration 8/10\n",
      "Budget: 2, num_samples = 586\n",
      "Budget: 4, num_samples = 1167\n",
      "Budget: 6, num_samples = 1757\n",
      "Budget: 8, num_samples = 2342\n",
      "Budget: 10, num_samples = 2925\n",
      "\n",
      "Iteration 9/10\n",
      "Budget: 2, num_samples = 585\n",
      "Budget: 4, num_samples = 1165\n",
      "Budget: 6, num_samples = 1761\n",
      "Budget: 8, num_samples = 2340\n",
      "Budget: 10, num_samples = 2934\n"
     ]
    }
   ],
   "source": [
    "dict_params = {'batch_size': gridsearch_bs, 'dt': 1e-05}\n",
    "get_metric_curve = build_metric_curve_fn(dict_params, list_time_budget, \n",
    "                            partial_build_sgldCV, theta_true, error_fn_ksd_curve)\n",
    "\n",
    "key = random.PRNGKey(0)\n",
    "mean_ksd_curve_sgldCV_gridsearch, sd_ksd_curve_sgldCV_gridsearch = get_mean_sd_ksd_curve(key, 10, get_metric_curve)\n"
   ]
  },
  {
   "cell_type": "code",
   "execution_count": 15,
   "id": "d2ad576d",
   "metadata": {
    "collapsed": true
   },
   "outputs": [
    {
     "name": "stdout",
     "output_type": "stream",
     "text": [
      "Running for {'batch_size': 80000, 'dt': 1e-06}\n",
      "\n",
      "Iteration 0/10\n",
      "Budget: 2, num_samples = 567\n",
      "Budget: 4, num_samples = 1142\n",
      "Budget: 6, num_samples = 1623\n",
      "Budget: 8, num_samples = 2295\n",
      "Budget: 10, num_samples = 2875\n",
      "\n",
      "Iteration 1/10\n",
      "Budget: 2, num_samples = 559\n",
      "Budget: 4, num_samples = 1106\n",
      "Budget: 6, num_samples = 1651\n",
      "Budget: 8, num_samples = 2173\n",
      "Budget: 10, num_samples = 2715\n",
      "\n",
      "Iteration 2/10\n",
      "Budget: 2, num_samples = 516\n",
      "Budget: 4, num_samples = 1088\n",
      "Budget: 6, num_samples = 1666\n",
      "Budget: 8, num_samples = 2283\n",
      "Budget: 10, num_samples = 2688\n",
      "\n",
      "Iteration 3/10\n",
      "Budget: 2, num_samples = 547\n",
      "Budget: 4, num_samples = 1088\n",
      "Budget: 6, num_samples = 1647\n",
      "Budget: 8, num_samples = 2208\n",
      "Budget: 10, num_samples = 2796\n",
      "\n",
      "Iteration 4/10\n",
      "Budget: 2, num_samples = 575\n",
      "Budget: 4, num_samples = 1143\n",
      "Budget: 6, num_samples = 1686\n",
      "Budget: 8, num_samples = 2254\n",
      "Budget: 10, num_samples = 2776\n",
      "\n",
      "Iteration 5/10\n",
      "Budget: 2, num_samples = 541\n",
      "Budget: 4, num_samples = 1076\n",
      "Budget: 6, num_samples = 1613\n",
      "Budget: 8, num_samples = 2233\n",
      "Budget: 10, num_samples = 2795\n",
      "\n",
      "Iteration 6/10\n",
      "Budget: 2, num_samples = 548\n",
      "Budget: 4, num_samples = 1091\n",
      "Budget: 6, num_samples = 1630\n",
      "Budget: 8, num_samples = 2267\n",
      "Budget: 10, num_samples = 2881\n",
      "\n",
      "Iteration 7/10\n",
      "Budget: 2, num_samples = 573\n",
      "Budget: 4, num_samples = 1149\n",
      "Budget: 6, num_samples = 1727\n",
      "Budget: 8, num_samples = 2311\n",
      "Budget: 10, num_samples = 2887\n",
      "\n",
      "Iteration 8/10\n",
      "Budget: 2, num_samples = 570\n",
      "Budget: 4, num_samples = 1121\n",
      "Budget: 6, num_samples = 1682\n",
      "Budget: 8, num_samples = 2250\n",
      "Budget: 10, num_samples = 2867\n",
      "\n",
      "Iteration 9/10\n",
      "Budget: 2, num_samples = 545\n",
      "Budget: 4, num_samples = 1127\n",
      "Budget: 6, num_samples = 1687\n",
      "Budget: 8, num_samples = 2076\n",
      "Budget: 10, num_samples = 2725\n"
     ]
    }
   ],
   "source": [
    "dict_params = {'batch_size': gridsearch_bs, 'dt': dt_baseline}\n",
    "get_metric_curve = build_metric_curve_fn(dict_params, list_time_budget, \n",
    "                            partial_build_sgldCV, theta_true, error_fn_ksd_curve)\n",
    "\n",
    "key = random.PRNGKey(0)\n",
    "mean_ksd_curve_sgldCV_baseline, sd_ksd_curve_sgldCV_baseline = get_mean_sd_ksd_curve(key, 10, get_metric_curve)\n"
   ]
  },
  {
   "cell_type": "markdown",
   "id": "02a541f4",
   "metadata": {},
   "source": [
    "### sghmc"
   ]
  },
  {
   "cell_type": "code",
   "execution_count": 29,
   "id": "3611d702",
   "metadata": {
    "collapsed": true
   },
   "outputs": [
    {
     "name": "stdout",
     "output_type": "stream",
     "text": [
      "Running for {'batch_size': 800, 'L': 5, 'dt': 3.1622776e-08}\n",
      "\n",
      "Iteration 0/10\n",
      "Budget: 2, num_samples = 8109\n",
      "Budget: 4, num_samples = 15668\n",
      "Budget: 6, num_samples = 21876\n",
      "Budget: 8, num_samples = 30107\n",
      "Budget: 10, num_samples = 37709\n",
      "\n",
      "Iteration 1/10\n",
      "Budget: 2, num_samples = 7256\n",
      "Budget: 4, num_samples = 15480\n",
      "Budget: 6, num_samples = 22431\n",
      "Budget: 8, num_samples = 30295\n",
      "Budget: 10, num_samples = 32145\n",
      "\n",
      "Iteration 2/10\n",
      "Budget: 2, num_samples = 7057\n",
      "Budget: 4, num_samples = 15451\n",
      "Budget: 6, num_samples = 22512\n",
      "Budget: 8, num_samples = 30278\n",
      "Budget: 10, num_samples = 19293\n",
      "\n",
      "Iteration 3/10\n",
      "Budget: 2, num_samples = 6148\n",
      "Budget: 4, num_samples = 14202\n",
      "Budget: 6, num_samples = 22744\n",
      "Budget: 8, num_samples = 28831\n",
      "Budget: 10, num_samples = 27796\n",
      "\n",
      "Iteration 4/10\n",
      "Budget: 2, num_samples = 6732\n",
      "Budget: 4, num_samples = 14292\n",
      "Budget: 6, num_samples = 21737\n",
      "Budget: 8, num_samples = 27412\n",
      "Budget: 10, num_samples = 34663\n",
      "\n",
      "Iteration 5/10\n",
      "Budget: 2, num_samples = 6667\n",
      "Budget: 4, num_samples = 13651\n",
      "Budget: 6, num_samples = 21035\n",
      "Budget: 8, num_samples = 27458\n",
      "Budget: 10, num_samples = 35225\n",
      "\n",
      "Iteration 6/10\n",
      "Budget: 2, num_samples = 6035\n",
      "Budget: 4, num_samples = 13789\n",
      "Budget: 6, num_samples = 19703\n",
      "Budget: 8, num_samples = 26767\n",
      "Budget: 10, num_samples = 34189\n",
      "\n",
      "Iteration 7/10\n",
      "Budget: 2, num_samples = 5812\n",
      "Budget: 4, num_samples = 13156\n",
      "Budget: 6, num_samples = 20284\n",
      "Budget: 8, num_samples = 27769\n",
      "Budget: 10, num_samples = 33051\n",
      "\n",
      "Iteration 8/10\n",
      "Budget: 2, num_samples = 6167\n",
      "Budget: 4, num_samples = 13630\n",
      "Budget: 6, num_samples = 20899\n",
      "Budget: 8, num_samples = 25986\n",
      "Budget: 10, num_samples = 33876\n",
      "\n",
      "Iteration 9/10\n",
      "Budget: 2, num_samples = 6289\n",
      "Budget: 4, num_samples = 13214\n",
      "Budget: 6, num_samples = 20335\n",
      "Budget: 8, num_samples = 26430\n",
      "Budget: 10, num_samples = 32304\n"
     ]
    }
   ],
   "source": [
    "dict_params = {'batch_size': 800, 'L': 5, 'dt': 3.1622776e-08}\n",
    "get_metric_curve = build_metric_curve_fn(dict_params, list_time_budget, \n",
    "                            partial_build_sghmc, theta_true, error_fn_ksd_curve)\n",
    "\n",
    "key = random.PRNGKey(0)\n",
    "mean_ksd_curve_sghmc_mamba, sd_ksd_curve_sghmc_mamba = get_mean_sd_ksd_curve(key, 10, get_metric_curve)\n"
   ]
  },
  {
   "cell_type": "code",
   "execution_count": 11,
   "id": "b809d663",
   "metadata": {
    "collapsed": true
   },
   "outputs": [
    {
     "name": "stdout",
     "output_type": "stream",
     "text": [
      "Running for {'batch_size': 80000, 'L': 10, 'dt': 1e-07}\n",
      "\n",
      "Iteration 0/10\n",
      "Budget: 2, num_samples = 86\n",
      "Budget: 4, num_samples = 178\n",
      "Budget: 6, num_samples = 260\n",
      "Budget: 8, num_samples = 347\n",
      "Budget: 10, num_samples = 445\n",
      "\n",
      "Iteration 1/10\n",
      "Budget: 2, num_samples = 89\n",
      "Budget: 4, num_samples = 173\n",
      "Budget: 6, num_samples = 260\n",
      "Budget: 8, num_samples = 347\n",
      "Budget: 10, num_samples = 436\n",
      "\n",
      "Iteration 2/10\n",
      "Budget: 2, num_samples = 88\n",
      "Budget: 4, num_samples = 172\n",
      "Budget: 6, num_samples = 260\n",
      "Budget: 8, num_samples = 347\n",
      "Budget: 10, num_samples = 433\n",
      "\n",
      "Iteration 3/10\n",
      "Budget: 2, num_samples = 86\n",
      "Budget: 4, num_samples = 173\n",
      "Budget: 6, num_samples = 260\n",
      "Budget: 8, num_samples = 348\n",
      "Budget: 10, num_samples = 432\n",
      "\n",
      "Iteration 4/10\n",
      "Budget: 2, num_samples = 86\n",
      "Budget: 4, num_samples = 172\n",
      "Budget: 6, num_samples = 259\n",
      "Budget: 8, num_samples = 350\n",
      "Budget: 10, num_samples = 433\n",
      "\n",
      "Iteration 5/10\n",
      "Budget: 2, num_samples = 86\n",
      "Budget: 4, num_samples = 174\n",
      "Budget: 6, num_samples = 260\n",
      "Budget: 8, num_samples = 346\n",
      "Budget: 10, num_samples = 434\n",
      "\n",
      "Iteration 6/10\n",
      "Budget: 2, num_samples = 86\n",
      "Budget: 4, num_samples = 173\n",
      "Budget: 6, num_samples = 260\n",
      "Budget: 8, num_samples = 346\n",
      "Budget: 10, num_samples = 434\n",
      "\n",
      "Iteration 7/10\n",
      "Budget: 2, num_samples = 86\n",
      "Budget: 4, num_samples = 173\n",
      "Budget: 6, num_samples = 260\n",
      "Budget: 8, num_samples = 347\n",
      "Budget: 10, num_samples = 432\n",
      "\n",
      "Iteration 8/10\n",
      "Budget: 2, num_samples = 86\n",
      "Budget: 4, num_samples = 173\n",
      "Budget: 6, num_samples = 260\n",
      "Budget: 8, num_samples = 346\n",
      "Budget: 10, num_samples = 433\n",
      "\n",
      "Iteration 9/10\n",
      "Budget: 2, num_samples = 85\n",
      "Budget: 4, num_samples = 173\n",
      "Budget: 6, num_samples = 260\n",
      "Budget: 8, num_samples = 346\n",
      "Budget: 10, num_samples = 434\n"
     ]
    }
   ],
   "source": [
    "dict_params = {'batch_size': gridsearch_bs, 'L': 10, 'dt': 1e-07}\n",
    "get_metric_curve = build_metric_curve_fn(dict_params, list_time_budget, \n",
    "                            partial_build_sghmc, theta_true, error_fn_ksd_curve)\n",
    "\n",
    "key = random.PRNGKey(0)\n",
    "mean_ksd_curve_sghmc_gridsearch, sd_ksd_curve_sghmc_gridsearch = get_mean_sd_ksd_curve(key, 10, get_metric_curve)\n"
   ]
  },
  {
   "cell_type": "code",
   "execution_count": 16,
   "id": "6049a07f",
   "metadata": {
    "collapsed": true
   },
   "outputs": [
    {
     "name": "stdout",
     "output_type": "stream",
     "text": [
      "Running for {'batch_size': 80000, 'L': 10, 'dt': 1e-06}\n",
      "\n",
      "Iteration 0/10\n",
      "Budget: 2, num_samples = 89\n",
      "Budget: 4, num_samples = 179\n",
      "Budget: 6, num_samples = 268\n",
      "Budget: 8, num_samples = 358\n",
      "Budget: 10, num_samples = 448\n",
      "\n",
      "Iteration 1/10\n",
      "Budget: 2, num_samples = 90\n",
      "Budget: 4, num_samples = 175\n",
      "Budget: 6, num_samples = 262\n",
      "Budget: 8, num_samples = 349\n",
      "Budget: 10, num_samples = 436\n",
      "\n",
      "Iteration 2/10\n",
      "Budget: 2, num_samples = 90\n",
      "Budget: 4, num_samples = 175\n",
      "Budget: 6, num_samples = 262\n",
      "Budget: 8, num_samples = 349\n",
      "Budget: 10, num_samples = 436\n",
      "\n",
      "Iteration 3/10\n",
      "Budget: 2, num_samples = 88\n",
      "Budget: 4, num_samples = 168\n",
      "Budget: 6, num_samples = 259\n",
      "Budget: 8, num_samples = 351\n",
      "Budget: 10, num_samples = 425\n",
      "\n",
      "Iteration 4/10\n",
      "Budget: 2, num_samples = 85\n",
      "Budget: 4, num_samples = 170\n",
      "Budget: 6, num_samples = 241\n",
      "Budget: 8, num_samples = 334\n",
      "Budget: 10, num_samples = 429\n",
      "\n",
      "Iteration 5/10\n",
      "Budget: 2, num_samples = 84\n",
      "Budget: 4, num_samples = 171\n",
      "Budget: 6, num_samples = 258\n",
      "Budget: 8, num_samples = 343\n",
      "Budget: 10, num_samples = 431\n",
      "\n",
      "Iteration 6/10\n",
      "Budget: 2, num_samples = 86\n",
      "Budget: 4, num_samples = 172\n",
      "Budget: 6, num_samples = 258\n",
      "Budget: 8, num_samples = 342\n",
      "Budget: 10, num_samples = 430\n",
      "\n",
      "Iteration 7/10\n",
      "Budget: 2, num_samples = 87\n",
      "Budget: 4, num_samples = 173\n",
      "Budget: 6, num_samples = 257\n",
      "Budget: 8, num_samples = 339\n",
      "Budget: 10, num_samples = 418\n",
      "\n",
      "Iteration 8/10\n",
      "Budget: 2, num_samples = 85\n",
      "Budget: 4, num_samples = 171\n",
      "Budget: 6, num_samples = 254\n",
      "Budget: 8, num_samples = 345\n",
      "Budget: 10, num_samples = 431\n",
      "\n",
      "Iteration 9/10\n",
      "Budget: 2, num_samples = 87\n",
      "Budget: 4, num_samples = 172\n",
      "Budget: 6, num_samples = 258\n",
      "Budget: 8, num_samples = 338\n",
      "Budget: 10, num_samples = 423\n"
     ]
    }
   ],
   "source": [
    "dict_params = {'batch_size': gridsearch_bs, 'L': 10, 'dt': dt_baseline}\n",
    "get_metric_curve = build_metric_curve_fn(dict_params, list_time_budget, \n",
    "                            partial_build_sghmc, theta_true, error_fn_ksd_curve)\n",
    "\n",
    "key = random.PRNGKey(0)\n",
    "mean_ksd_curve_sghmc_baseline, sd_ksd_curve_sghmc_baseline = get_mean_sd_ksd_curve(key, 10, get_metric_curve)\n"
   ]
  },
  {
   "cell_type": "markdown",
   "id": "7f3244fb",
   "metadata": {},
   "source": [
    "### sghmc-CV"
   ]
  },
  {
   "cell_type": "code",
   "execution_count": 30,
   "id": "58798c33",
   "metadata": {
    "collapsed": true
   },
   "outputs": [
    {
     "name": "stdout",
     "output_type": "stream",
     "text": [
      "Running for {'batch_size': 80, 'L': 10, 'dt': 1e-07}\n",
      "\n",
      "Iteration 0/10\n",
      "Budget: 2, num_samples = 8736\n",
      "Budget: 4, num_samples = 16324\n",
      "Budget: 6, num_samples = 22879\n",
      "Budget: 8, num_samples = 31760\n",
      "Budget: 10, num_samples = 38814\n",
      "\n",
      "Iteration 1/10\n",
      "Budget: 2, num_samples = 7394\n",
      "Budget: 4, num_samples = 14786\n",
      "Budget: 6, num_samples = 23577\n",
      "Budget: 8, num_samples = 27920\n",
      "Budget: 10, num_samples = 21538\n",
      "\n",
      "Iteration 2/10\n",
      "Budget: 2, num_samples = 7815\n",
      "Budget: 4, num_samples = 17092\n",
      "Budget: 6, num_samples = 24631\n",
      "Budget: 8, num_samples = 32933\n",
      "Budget: 10, num_samples = 41807\n",
      "\n",
      "Iteration 3/10\n",
      "Budget: 2, num_samples = 6860\n",
      "Budget: 4, num_samples = 14767\n",
      "Budget: 6, num_samples = 21922\n",
      "Budget: 8, num_samples = 14239\n",
      "Budget: 10, num_samples = 30203\n",
      "\n",
      "Iteration 4/10\n",
      "Budget: 2, num_samples = 8844\n",
      "Budget: 4, num_samples = 18522\n",
      "Budget: 6, num_samples = 25919\n",
      "Budget: 8, num_samples = 35012\n",
      "Budget: 10, num_samples = 44599\n",
      "\n",
      "Iteration 5/10\n",
      "Budget: 2, num_samples = 8472\n",
      "Budget: 4, num_samples = 18284\n",
      "Budget: 6, num_samples = 28113\n",
      "Budget: 8, num_samples = 36140\n",
      "Budget: 10, num_samples = 46521\n",
      "\n",
      "Iteration 6/10\n",
      "Budget: 2, num_samples = 8220\n",
      "Budget: 4, num_samples = 18589\n",
      "Budget: 6, num_samples = 27977\n",
      "Budget: 8, num_samples = 36066\n",
      "Budget: 10, num_samples = 46043\n",
      "\n",
      "Iteration 7/10\n",
      "Budget: 2, num_samples = 8759\n",
      "Budget: 4, num_samples = 19193\n",
      "Budget: 6, num_samples = 27513\n",
      "Budget: 8, num_samples = 37375\n",
      "Budget: 10, num_samples = 47885\n",
      "\n",
      "Iteration 8/10\n",
      "Budget: 2, num_samples = 8945\n",
      "Budget: 4, num_samples = 19125\n",
      "Budget: 6, num_samples = 26820\n",
      "Budget: 8, num_samples = 36848\n",
      "Budget: 10, num_samples = 47788\n",
      "\n",
      "Iteration 9/10\n",
      "Budget: 2, num_samples = 8869\n",
      "Budget: 4, num_samples = 19170\n",
      "Budget: 6, num_samples = 27389\n",
      "Budget: 8, num_samples = 36560\n",
      "Budget: 10, num_samples = 47588\n"
     ]
    }
   ],
   "source": [
    "dict_params = {'batch_size': 80, 'L': 10, 'dt': 1e-07}\n",
    "get_metric_curve = build_metric_curve_fn(dict_params, list_time_budget, \n",
    "                            partial_build_sghmcCV, theta_true, error_fn_ksd_curve)\n",
    "\n",
    "key = random.PRNGKey(0)\n",
    "mean_ksd_curve_sghmcCV_mamba, sd_ksd_curve_sghmcCV_mamba = get_mean_sd_ksd_curve(key, 10, get_metric_curve)\n"
   ]
  },
  {
   "cell_type": "code",
   "execution_count": 13,
   "id": "965349ef",
   "metadata": {
    "collapsed": true
   },
   "outputs": [
    {
     "name": "stdout",
     "output_type": "stream",
     "text": [
      "Running for {'batch_size': 80000, 'L': 10, 'dt': 3.1622776e-07}\n",
      "\n",
      "Iteration 0/10\n",
      "Budget: 2, num_samples = 69\n",
      "Budget: 4, num_samples = 141\n",
      "Budget: 6, num_samples = 213\n",
      "Budget: 8, num_samples = 283\n",
      "Budget: 10, num_samples = 349\n",
      "\n",
      "Iteration 1/10\n",
      "Budget: 2, num_samples = 70\n",
      "Budget: 4, num_samples = 138\n",
      "Budget: 6, num_samples = 210\n",
      "Budget: 8, num_samples = 278\n",
      "Budget: 10, num_samples = 347\n",
      "\n",
      "Iteration 2/10\n",
      "Budget: 2, num_samples = 68\n",
      "Budget: 4, num_samples = 140\n",
      "Budget: 6, num_samples = 208\n",
      "Budget: 8, num_samples = 278\n",
      "Budget: 10, num_samples = 350\n",
      "\n",
      "Iteration 3/10\n",
      "Budget: 2, num_samples = 68\n",
      "Budget: 4, num_samples = 139\n",
      "Budget: 6, num_samples = 209\n",
      "Budget: 8, num_samples = 279\n",
      "Budget: 10, num_samples = 349\n",
      "\n",
      "Iteration 4/10\n",
      "Budget: 2, num_samples = 69\n",
      "Budget: 4, num_samples = 138\n",
      "Budget: 6, num_samples = 208\n",
      "Budget: 8, num_samples = 277\n",
      "Budget: 10, num_samples = 346\n",
      "\n",
      "Iteration 5/10\n",
      "Budget: 2, num_samples = 69\n",
      "Budget: 4, num_samples = 139\n",
      "Budget: 6, num_samples = 209\n",
      "Budget: 8, num_samples = 280\n",
      "Budget: 10, num_samples = 347\n",
      "\n",
      "Iteration 6/10\n",
      "Budget: 2, num_samples = 69\n",
      "Budget: 4, num_samples = 138\n",
      "Budget: 6, num_samples = 209\n",
      "Budget: 8, num_samples = 278\n",
      "Budget: 10, num_samples = 348\n",
      "\n",
      "Iteration 7/10\n",
      "Budget: 2, num_samples = 70\n",
      "Budget: 4, num_samples = 140\n",
      "Budget: 6, num_samples = 210\n",
      "Budget: 8, num_samples = 280\n",
      "Budget: 10, num_samples = 351\n",
      "\n",
      "Iteration 8/10\n",
      "Budget: 2, num_samples = 69\n",
      "Budget: 4, num_samples = 139\n",
      "Budget: 6, num_samples = 209\n",
      "Budget: 8, num_samples = 280\n",
      "Budget: 10, num_samples = 348\n",
      "\n",
      "Iteration 9/10\n",
      "Budget: 2, num_samples = 69\n",
      "Budget: 4, num_samples = 140\n",
      "Budget: 6, num_samples = 209\n",
      "Budget: 8, num_samples = 279\n",
      "Budget: 10, num_samples = 348\n"
     ]
    }
   ],
   "source": [
    "dict_params =  {'batch_size': gridsearch_bs, 'L': 10, 'dt': 3.1622776e-07}\n",
    "get_metric_curve = build_metric_curve_fn(dict_params, list_time_budget, \n",
    "                            partial_build_sghmcCV, theta_true, error_fn_ksd_curve)\n",
    "\n",
    "key = random.PRNGKey(0)\n",
    "mean_ksd_curve_sghmcCV_gridsearch, sd_ksd_curve_sghmcCV_gridsearch = get_mean_sd_ksd_curve(key, 10, get_metric_curve)\n"
   ]
  },
  {
   "cell_type": "code",
   "execution_count": 17,
   "id": "4dfe7981",
   "metadata": {
    "collapsed": true
   },
   "outputs": [
    {
     "name": "stdout",
     "output_type": "stream",
     "text": [
      "Running for {'batch_size': 80000, 'L': 10, 'dt': 1e-06}\n",
      "\n",
      "Iteration 0/10\n",
      "Budget: 2, num_samples = 65\n",
      "Budget: 4, num_samples = 130\n",
      "Budget: 6, num_samples = 194\n",
      "Budget: 8, num_samples = 261\n",
      "Budget: 10, num_samples = 323\n",
      "\n",
      "Iteration 1/10\n",
      "Budget: 2, num_samples = 65\n",
      "Budget: 4, num_samples = 124\n",
      "Budget: 6, num_samples = 155\n",
      "Budget: 8, num_samples = 255\n",
      "Budget: 10, num_samples = 319\n",
      "\n",
      "Iteration 2/10\n",
      "Budget: 2, num_samples = 69\n",
      "Budget: 4, num_samples = 139\n",
      "Budget: 6, num_samples = 209\n",
      "Budget: 8, num_samples = 278\n",
      "Budget: 10, num_samples = 348\n",
      "\n",
      "Iteration 3/10\n",
      "Budget: 2, num_samples = 71\n",
      "Budget: 4, num_samples = 139\n",
      "Budget: 6, num_samples = 209\n",
      "Budget: 8, num_samples = 277\n",
      "Budget: 10, num_samples = 348\n",
      "\n",
      "Iteration 4/10\n",
      "Budget: 2, num_samples = 71\n",
      "Budget: 4, num_samples = 139\n",
      "Budget: 6, num_samples = 208\n",
      "Budget: 8, num_samples = 277\n",
      "Budget: 10, num_samples = 348\n",
      "\n",
      "Iteration 5/10\n",
      "Budget: 2, num_samples = 71\n",
      "Budget: 4, num_samples = 134\n",
      "Budget: 6, num_samples = 210\n",
      "Budget: 8, num_samples = 278\n",
      "Budget: 10, num_samples = 349\n",
      "\n",
      "Iteration 6/10\n",
      "Budget: 2, num_samples = 71\n",
      "Budget: 4, num_samples = 140\n",
      "Budget: 6, num_samples = 209\n",
      "Budget: 8, num_samples = 277\n",
      "Budget: 10, num_samples = 347\n",
      "\n",
      "Iteration 7/10\n",
      "Budget: 2, num_samples = 71\n",
      "Budget: 4, num_samples = 140\n",
      "Budget: 6, num_samples = 210\n",
      "Budget: 8, num_samples = 278\n",
      "Budget: 10, num_samples = 348\n",
      "\n",
      "Iteration 8/10\n",
      "Budget: 2, num_samples = 71\n",
      "Budget: 4, num_samples = 140\n",
      "Budget: 6, num_samples = 208\n",
      "Budget: 8, num_samples = 278\n",
      "Budget: 10, num_samples = 347\n",
      "\n",
      "Iteration 9/10\n",
      "Budget: 2, num_samples = 70\n",
      "Budget: 4, num_samples = 135\n",
      "Budget: 6, num_samples = 210\n",
      "Budget: 8, num_samples = 277\n",
      "Budget: 10, num_samples = 349\n"
     ]
    }
   ],
   "source": [
    "dict_params =  {'batch_size': gridsearch_bs, 'L': 10, 'dt': dt_baseline}\n",
    "get_metric_curve = build_metric_curve_fn(dict_params, list_time_budget, \n",
    "                            partial_build_sghmcCV, theta_true, error_fn_ksd_curve)\n",
    "\n",
    "key = random.PRNGKey(0)\n",
    "mean_ksd_curve_sghmcCV_baseline, sd_ksd_curve_sghmcCV_baseline = get_mean_sd_ksd_curve(key, 10, get_metric_curve)\n"
   ]
  },
  {
   "cell_type": "markdown",
   "id": "503b5a01",
   "metadata": {},
   "source": [
    "### sgnht"
   ]
  },
  {
   "cell_type": "code",
   "execution_count": 31,
   "id": "177cabdc",
   "metadata": {
    "collapsed": true
   },
   "outputs": [
    {
     "name": "stdout",
     "output_type": "stream",
     "text": [
      "Running for {'batch_size': 800000, 'dt': 3.1622776e-06}\n",
      "\n",
      "Iteration 0/10\n",
      "Budget: 2, num_samples = 226\n",
      "Budget: 4, num_samples = 479\n",
      "Budget: 6, num_samples = 735\n",
      "Budget: 8, num_samples = 967\n",
      "Budget: 10, num_samples = 1173\n",
      "\n",
      "Iteration 1/10\n",
      "Budget: 2, num_samples = 234\n",
      "Budget: 4, num_samples = 470\n",
      "Budget: 6, num_samples = 717\n",
      "Budget: 8, num_samples = 956\n",
      "Budget: 10, num_samples = 1151\n",
      "\n",
      "Iteration 2/10\n",
      "Budget: 2, num_samples = 234\n",
      "Budget: 4, num_samples = 479\n",
      "Budget: 6, num_samples = 716\n",
      "Budget: 8, num_samples = 958\n",
      "Budget: 10, num_samples = 1195\n",
      "\n",
      "Iteration 3/10\n",
      "Budget: 2, num_samples = 240\n",
      "Budget: 4, num_samples = 478\n",
      "Budget: 6, num_samples = 721\n",
      "Budget: 8, num_samples = 956\n",
      "Budget: 10, num_samples = 1200\n",
      "\n",
      "Iteration 4/10\n",
      "Budget: 2, num_samples = 239\n",
      "Budget: 4, num_samples = 470\n",
      "Budget: 6, num_samples = 699\n",
      "Budget: 8, num_samples = 954\n",
      "Budget: 10, num_samples = 1205\n",
      "\n",
      "Iteration 5/10\n",
      "Budget: 2, num_samples = 246\n",
      "Budget: 4, num_samples = 489\n",
      "Budget: 6, num_samples = 721\n",
      "Budget: 8, num_samples = 948\n",
      "Budget: 10, num_samples = 1173\n",
      "\n",
      "Iteration 6/10\n",
      "Budget: 2, num_samples = 234\n",
      "Budget: 4, num_samples = 478\n",
      "Budget: 6, num_samples = 717\n",
      "Budget: 8, num_samples = 975\n",
      "Budget: 10, num_samples = 1223\n",
      "\n",
      "Iteration 7/10\n",
      "Budget: 2, num_samples = 240\n",
      "Budget: 4, num_samples = 478\n",
      "Budget: 6, num_samples = 721\n",
      "Budget: 8, num_samples = 956\n",
      "Budget: 10, num_samples = 1179\n",
      "\n",
      "Iteration 8/10\n",
      "Budget: 2, num_samples = 239\n",
      "Budget: 4, num_samples = 480\n",
      "Budget: 6, num_samples = 717\n",
      "Budget: 8, num_samples = 971\n",
      "Budget: 10, num_samples = 1222\n",
      "\n",
      "Iteration 9/10\n",
      "Budget: 2, num_samples = 241\n",
      "Budget: 4, num_samples = 479\n",
      "Budget: 6, num_samples = 716\n",
      "Budget: 8, num_samples = 920\n",
      "Budget: 10, num_samples = 1194\n"
     ]
    }
   ],
   "source": [
    "dict_params = {'batch_size': 800000, 'dt': 3.1622776e-06}\n",
    "get_metric_curve = build_metric_curve_fn(dict_params, list_time_budget, \n",
    "                            partial_build_sgnht, theta_true, error_fn_ksd_curve)\n",
    "\n",
    "key = random.PRNGKey(0)\n",
    "mean_ksd_curve_sgnht_mamba, sd_ksd_curve_sgnht_mamba = get_mean_sd_ksd_curve(key, 10, get_metric_curve)\n"
   ]
  },
  {
   "cell_type": "code",
   "execution_count": 15,
   "id": "56875909",
   "metadata": {
    "collapsed": true
   },
   "outputs": [
    {
     "name": "stdout",
     "output_type": "stream",
     "text": [
      "Running for {'batch_size': 80000, 'dt': 3.1622776e-08}\n",
      "\n",
      "Iteration 0/10\n",
      "Budget: 2, num_samples = 807\n",
      "Budget: 4, num_samples = 1355\n",
      "Budget: 6, num_samples = 2036\n",
      "Budget: 8, num_samples = 3337\n",
      "Budget: 10, num_samples = 3397\n",
      "\n",
      "Iteration 1/10\n",
      "Budget: 2, num_samples = 680\n",
      "Budget: 4, num_samples = 1618\n",
      "Budget: 6, num_samples = 2417\n",
      "Budget: 8, num_samples = 2715\n",
      "Budget: 10, num_samples = 3396\n",
      "\n",
      "Iteration 2/10\n",
      "Budget: 2, num_samples = 678\n",
      "Budget: 4, num_samples = 1357\n",
      "Budget: 6, num_samples = 2036\n",
      "Budget: 8, num_samples = 2720\n",
      "Budget: 10, num_samples = 3391\n",
      "\n",
      "Iteration 3/10\n",
      "Budget: 2, num_samples = 678\n",
      "Budget: 4, num_samples = 1358\n",
      "Budget: 6, num_samples = 2036\n",
      "Budget: 8, num_samples = 2713\n",
      "Budget: 10, num_samples = 3399\n",
      "\n",
      "Iteration 4/10\n",
      "Budget: 2, num_samples = 678\n",
      "Budget: 4, num_samples = 1354\n",
      "Budget: 6, num_samples = 2028\n",
      "Budget: 8, num_samples = 2714\n",
      "Budget: 10, num_samples = 3392\n",
      "\n",
      "Iteration 5/10\n",
      "Budget: 2, num_samples = 679\n",
      "Budget: 4, num_samples = 1353\n",
      "Budget: 6, num_samples = 2026\n",
      "Budget: 8, num_samples = 2710\n",
      "Budget: 10, num_samples = 3394\n",
      "\n",
      "Iteration 6/10\n",
      "Budget: 2, num_samples = 676\n",
      "Budget: 4, num_samples = 1356\n",
      "Budget: 6, num_samples = 2028\n",
      "Budget: 8, num_samples = 2709\n",
      "Budget: 10, num_samples = 3394\n",
      "\n",
      "Iteration 7/10\n",
      "Budget: 2, num_samples = 674\n",
      "Budget: 4, num_samples = 1354\n",
      "Budget: 6, num_samples = 2036\n",
      "Budget: 8, num_samples = 2712\n",
      "Budget: 10, num_samples = 3397\n",
      "\n",
      "Iteration 8/10\n",
      "Budget: 2, num_samples = 676\n",
      "Budget: 4, num_samples = 1357\n",
      "Budget: 6, num_samples = 2038\n",
      "Budget: 8, num_samples = 2714\n",
      "Budget: 10, num_samples = 3389\n",
      "\n",
      "Iteration 9/10\n",
      "Budget: 2, num_samples = 676\n",
      "Budget: 4, num_samples = 1356\n",
      "Budget: 6, num_samples = 2036\n",
      "Budget: 8, num_samples = 2706\n",
      "Budget: 10, num_samples = 3397\n"
     ]
    }
   ],
   "source": [
    "dict_params = {'batch_size': gridsearch_bs, 'dt': 3.1622776e-08}\n",
    "get_metric_curve = build_metric_curve_fn(dict_params, list_time_budget, \n",
    "                            partial_build_sgnht, theta_true, error_fn_ksd_curve)\n",
    "\n",
    "key = random.PRNGKey(0)\n",
    "mean_ksd_curve_sgnht_gridsearch, sd_ksd_curve_sgnht_gridsearch = get_mean_sd_ksd_curve(key, 10, get_metric_curve)\n"
   ]
  },
  {
   "cell_type": "code",
   "execution_count": 18,
   "id": "94454750",
   "metadata": {
    "collapsed": true
   },
   "outputs": [
    {
     "name": "stdout",
     "output_type": "stream",
     "text": [
      "Running for {'batch_size': 80000, 'dt': 1e-06}\n",
      "\n",
      "Iteration 0/10\n",
      "Budget: 2, num_samples = 817\n",
      "Budget: 4, num_samples = 1352\n",
      "Budget: 6, num_samples = 2040\n",
      "Budget: 8, num_samples = 2711\n",
      "Budget: 10, num_samples = 3396\n",
      "\n",
      "Iteration 1/10\n",
      "Budget: 2, num_samples = 816\n",
      "Budget: 4, num_samples = 1353\n",
      "Budget: 6, num_samples = 2027\n",
      "Budget: 8, num_samples = 2684\n",
      "Budget: 10, num_samples = 3379\n",
      "\n",
      "Iteration 2/10\n",
      "Budget: 2, num_samples = 671\n",
      "Budget: 4, num_samples = 1354\n",
      "Budget: 6, num_samples = 2036\n",
      "Budget: 8, num_samples = 2703\n",
      "Budget: 10, num_samples = 3392\n",
      "\n",
      "Iteration 3/10\n",
      "Budget: 2, num_samples = 677\n",
      "Budget: 4, num_samples = 1356\n",
      "Budget: 6, num_samples = 2041\n",
      "Budget: 8, num_samples = 3228\n",
      "Budget: 10, num_samples = 3383\n",
      "\n",
      "Iteration 4/10\n",
      "Budget: 2, num_samples = 676\n",
      "Budget: 4, num_samples = 1357\n",
      "Budget: 6, num_samples = 2041\n",
      "Budget: 8, num_samples = 2719\n",
      "Budget: 10, num_samples = 3388\n",
      "\n",
      "Iteration 5/10\n",
      "Budget: 2, num_samples = 675\n",
      "Budget: 4, num_samples = 1360\n",
      "Budget: 6, num_samples = 2030\n",
      "Budget: 8, num_samples = 2718\n",
      "Budget: 10, num_samples = 3400\n",
      "\n",
      "Iteration 6/10\n",
      "Budget: 2, num_samples = 679\n",
      "Budget: 4, num_samples = 1356\n",
      "Budget: 6, num_samples = 2041\n",
      "Budget: 8, num_samples = 2707\n",
      "Budget: 10, num_samples = 3385\n",
      "\n",
      "Iteration 7/10\n",
      "Budget: 2, num_samples = 674\n",
      "Budget: 4, num_samples = 1349\n",
      "Budget: 6, num_samples = 2034\n",
      "Budget: 8, num_samples = 2682\n",
      "Budget: 10, num_samples = 3364\n",
      "\n",
      "Iteration 8/10\n",
      "Budget: 2, num_samples = 674\n",
      "Budget: 4, num_samples = 1362\n",
      "Budget: 6, num_samples = 2428\n",
      "Budget: 8, num_samples = 2703\n",
      "Budget: 10, num_samples = 3383\n",
      "\n",
      "Iteration 9/10\n",
      "Budget: 2, num_samples = 676\n",
      "Budget: 4, num_samples = 1353\n",
      "Budget: 6, num_samples = 2032\n",
      "Budget: 8, num_samples = 2719\n",
      "Budget: 10, num_samples = 3376\n"
     ]
    }
   ],
   "source": [
    "dict_params = {'batch_size': gridsearch_bs, 'dt': dt_baseline}\n",
    "get_metric_curve = build_metric_curve_fn(dict_params, list_time_budget, \n",
    "                            partial_build_sgnht, theta_true, error_fn_ksd_curve)\n",
    "\n",
    "key = random.PRNGKey(0)\n",
    "mean_ksd_curve_sgnht_baseline, sd_ksd_curve_sgnht_baseline = get_mean_sd_ksd_curve(key, 10, get_metric_curve)\n"
   ]
  },
  {
   "cell_type": "markdown",
   "id": "d462336a",
   "metadata": {},
   "source": [
    "### sgnht-CV"
   ]
  },
  {
   "cell_type": "code",
   "execution_count": 32,
   "id": "ef59d7ce",
   "metadata": {
    "collapsed": true
   },
   "outputs": [
    {
     "name": "stdout",
     "output_type": "stream",
     "text": [
      "Running for {'batch_size': 8000, 'dt': 1e-06}\n",
      "\n",
      "Iteration 0/10\n",
      "Budget: 2, num_samples = 3785\n",
      "Budget: 4, num_samples = 7069\n",
      "Budget: 6, num_samples = 10010\n",
      "Budget: 8, num_samples = 13148\n",
      "Budget: 10, num_samples = 16788\n",
      "\n",
      "Iteration 1/10\n",
      "Budget: 2, num_samples = 3403\n",
      "Budget: 4, num_samples = 6714\n",
      "Budget: 6, num_samples = 10071\n",
      "Budget: 8, num_samples = 13243\n",
      "Budget: 10, num_samples = 17181\n",
      "\n",
      "Iteration 2/10\n",
      "Budget: 2, num_samples = 3210\n",
      "Budget: 4, num_samples = 6493\n",
      "Budget: 6, num_samples = 10137\n",
      "Budget: 8, num_samples = 13489\n",
      "Budget: 10, num_samples = 17051\n",
      "\n",
      "Iteration 3/10\n",
      "Budget: 2, num_samples = 3318\n",
      "Budget: 4, num_samples = 6692\n",
      "Budget: 6, num_samples = 10196\n",
      "Budget: 8, num_samples = 13644\n",
      "Budget: 10, num_samples = 16380\n",
      "\n",
      "Iteration 4/10\n",
      "Budget: 2, num_samples = 3392\n",
      "Budget: 4, num_samples = 6850\n",
      "Budget: 6, num_samples = 10178\n",
      "Budget: 8, num_samples = 12893\n",
      "Budget: 10, num_samples = 10383\n",
      "\n",
      "Iteration 5/10\n",
      "Budget: 2, num_samples = 2817\n",
      "Budget: 4, num_samples = 6418\n",
      "Budget: 6, num_samples = 9561\n",
      "Budget: 8, num_samples = 11954\n",
      "Budget: 10, num_samples = 16233\n",
      "\n",
      "Iteration 6/10\n",
      "Budget: 2, num_samples = 3013\n",
      "Budget: 4, num_samples = 5991\n",
      "Budget: 6, num_samples = 9435\n",
      "Budget: 8, num_samples = 9799\n",
      "Budget: 10, num_samples = 13516\n",
      "\n",
      "Iteration 7/10\n",
      "Budget: 2, num_samples = 3021\n",
      "Budget: 4, num_samples = 6143\n",
      "Budget: 6, num_samples = 8470\n",
      "Budget: 8, num_samples = 10962\n",
      "Budget: 10, num_samples = 16146\n",
      "\n",
      "Iteration 8/10\n",
      "Budget: 2, num_samples = 3335\n",
      "Budget: 4, num_samples = 6522\n",
      "Budget: 6, num_samples = 9962\n",
      "Budget: 8, num_samples = 12111\n",
      "Budget: 10, num_samples = 15841\n",
      "\n",
      "Iteration 9/10\n",
      "Budget: 2, num_samples = 3337\n",
      "Budget: 4, num_samples = 6666\n",
      "Budget: 6, num_samples = 9001\n",
      "Budget: 8, num_samples = 12400\n",
      "Budget: 10, num_samples = 12078\n"
     ]
    }
   ],
   "source": [
    "dict_params = {'batch_size': 8000, 'dt': 1e-06}\n",
    "get_metric_curve = build_metric_curve_fn(dict_params, list_time_budget, \n",
    "                            partial_build_sgnhtCV, theta_true, error_fn_ksd_curve)\n",
    "\n",
    "key = random.PRNGKey(0)\n",
    "mean_ksd_curve_sgnhtCV_mamba, sd_ksd_curve_sgnhtCV_mamba = get_mean_sd_ksd_curve(key, 10, get_metric_curve)\n"
   ]
  },
  {
   "cell_type": "code",
   "execution_count": 17,
   "id": "c62f280b",
   "metadata": {
    "collapsed": true
   },
   "outputs": [
    {
     "name": "stdout",
     "output_type": "stream",
     "text": [
      "Running for {'batch_size': 80000, 'dt': 3.1622778e-05}\n",
      "\n",
      "Iteration 0/10\n",
      "Budget: 2, num_samples = 660\n",
      "Budget: 4, num_samples = 1171\n",
      "Budget: 6, num_samples = 1767\n",
      "Budget: 8, num_samples = 2347\n",
      "Budget: 10, num_samples = 2951\n",
      "\n",
      "Iteration 1/10\n",
      "Budget: 2, num_samples = 584\n",
      "Budget: 4, num_samples = 1165\n",
      "Budget: 6, num_samples = 1757\n",
      "Budget: 8, num_samples = 2347\n",
      "Budget: 10, num_samples = 2941\n",
      "\n",
      "Iteration 2/10\n",
      "Budget: 2, num_samples = 580\n",
      "Budget: 4, num_samples = 1173\n",
      "Budget: 6, num_samples = 1755\n",
      "Budget: 8, num_samples = 2341\n",
      "Budget: 10, num_samples = 2938\n",
      "\n",
      "Iteration 3/10\n",
      "Budget: 2, num_samples = 584\n",
      "Budget: 4, num_samples = 1173\n",
      "Budget: 6, num_samples = 1755\n",
      "Budget: 8, num_samples = 2346\n",
      "Budget: 10, num_samples = 2947\n",
      "\n",
      "Iteration 4/10\n",
      "Budget: 2, num_samples = 578\n",
      "Budget: 4, num_samples = 1164\n",
      "Budget: 6, num_samples = 1757\n",
      "Budget: 8, num_samples = 2349\n",
      "Budget: 10, num_samples = 2923\n",
      "\n",
      "Iteration 5/10\n",
      "Budget: 2, num_samples = 575\n",
      "Budget: 4, num_samples = 1167\n",
      "Budget: 6, num_samples = 1760\n",
      "Budget: 8, num_samples = 2344\n",
      "Budget: 10, num_samples = 2930\n",
      "\n",
      "Iteration 6/10\n",
      "Budget: 2, num_samples = 582\n",
      "Budget: 4, num_samples = 1167\n",
      "Budget: 6, num_samples = 1757\n",
      "Budget: 8, num_samples = 2352\n",
      "Budget: 10, num_samples = 2920\n",
      "\n",
      "Iteration 7/10\n",
      "Budget: 2, num_samples = 583\n",
      "Budget: 4, num_samples = 1167\n",
      "Budget: 6, num_samples = 1762\n",
      "Budget: 8, num_samples = 2340\n",
      "Budget: 10, num_samples = 2937\n",
      "\n",
      "Iteration 8/10\n",
      "Budget: 2, num_samples = 580\n",
      "Budget: 4, num_samples = 1171\n",
      "Budget: 6, num_samples = 1761\n",
      "Budget: 8, num_samples = 2347\n",
      "Budget: 10, num_samples = 2928\n",
      "\n",
      "Iteration 9/10\n",
      "Budget: 2, num_samples = 583\n",
      "Budget: 4, num_samples = 1172\n",
      "Budget: 6, num_samples = 1757\n",
      "Budget: 8, num_samples = 2341\n",
      "Budget: 10, num_samples = 2925\n"
     ]
    }
   ],
   "source": [
    "dict_params = {'batch_size': gridsearch_bs, 'dt': 3.1622778e-05}\n",
    "get_metric_curve = build_metric_curve_fn(dict_params, list_time_budget, \n",
    "                            partial_build_sgnhtCV, theta_true, error_fn_ksd_curve)\n",
    "\n",
    "key = random.PRNGKey(0)\n",
    "mean_ksd_curve_sgnhtCV_gridsearch, sd_ksd_curve_sgnhtCV_gridsearch = get_mean_sd_ksd_curve(key, 10, get_metric_curve)\n"
   ]
  },
  {
   "cell_type": "code",
   "execution_count": 19,
   "id": "a469e5d0",
   "metadata": {
    "collapsed": true
   },
   "outputs": [
    {
     "name": "stdout",
     "output_type": "stream",
     "text": [
      "Running for {'batch_size': 80000, 'dt': 1e-06}\n",
      "\n",
      "Iteration 0/10\n",
      "Budget: 2, num_samples = 664\n",
      "Budget: 4, num_samples = 1161\n",
      "Budget: 6, num_samples = 1749\n",
      "Budget: 8, num_samples = 2287\n",
      "Budget: 10, num_samples = 2921\n",
      "\n",
      "Iteration 1/10\n",
      "Budget: 2, num_samples = 585\n",
      "Budget: 4, num_samples = 1171\n",
      "Budget: 6, num_samples = 1744\n",
      "Budget: 8, num_samples = 2338\n",
      "Budget: 10, num_samples = 2924\n",
      "\n",
      "Iteration 2/10\n",
      "Budget: 2, num_samples = 581\n",
      "Budget: 4, num_samples = 1168\n",
      "Budget: 6, num_samples = 1756\n",
      "Budget: 8, num_samples = 2338\n",
      "Budget: 10, num_samples = 2921\n",
      "\n",
      "Iteration 3/10\n",
      "Budget: 2, num_samples = 584\n",
      "Budget: 4, num_samples = 1167\n",
      "Budget: 6, num_samples = 1757\n",
      "Budget: 8, num_samples = 2343\n",
      "Budget: 10, num_samples = 3331\n",
      "\n",
      "Iteration 4/10\n",
      "Budget: 2, num_samples = 585\n",
      "Budget: 4, num_samples = 1174\n",
      "Budget: 6, num_samples = 1693\n",
      "Budget: 8, num_samples = 2259\n",
      "Budget: 10, num_samples = 2795\n",
      "\n",
      "Iteration 5/10\n",
      "Budget: 2, num_samples = 570\n",
      "Budget: 4, num_samples = 1141\n",
      "Budget: 6, num_samples = 1707\n",
      "Budget: 8, num_samples = 2335\n",
      "Budget: 10, num_samples = 2876\n",
      "\n",
      "Iteration 6/10\n",
      "Budget: 2, num_samples = 570\n",
      "Budget: 4, num_samples = 1139\n",
      "Budget: 6, num_samples = 1670\n",
      "Budget: 8, num_samples = 2229\n",
      "Budget: 10, num_samples = 2852\n",
      "\n",
      "Iteration 7/10\n",
      "Budget: 2, num_samples = 569\n",
      "Budget: 4, num_samples = 1141\n",
      "Budget: 6, num_samples = 1750\n",
      "Budget: 8, num_samples = 2284\n",
      "Budget: 10, num_samples = 2775\n",
      "\n",
      "Iteration 8/10\n",
      "Budget: 2, num_samples = 558\n",
      "Budget: 4, num_samples = 1112\n",
      "Budget: 6, num_samples = 1666\n",
      "Budget: 8, num_samples = 2280\n",
      "Budget: 10, num_samples = 2859\n",
      "\n",
      "Iteration 9/10\n",
      "Budget: 2, num_samples = 571\n",
      "Budget: 4, num_samples = 1139\n",
      "Budget: 6, num_samples = 1708\n",
      "Budget: 8, num_samples = 2220\n",
      "Budget: 10, num_samples = 2809\n"
     ]
    }
   ],
   "source": [
    "dict_params = {'batch_size': gridsearch_bs, 'dt': dt_baseline}\n",
    "get_metric_curve = build_metric_curve_fn(dict_params, list_time_budget, \n",
    "                            partial_build_sgnhtCV, theta_true, error_fn_ksd_curve)\n",
    "\n",
    "key = random.PRNGKey(0)\n",
    "mean_ksd_curve_sgnhtCV_baseline, sd_ksd_curve_sgnhtCV_baseline = get_mean_sd_ksd_curve(key, 10, get_metric_curve)\n"
   ]
  },
  {
   "cell_type": "markdown",
   "id": "7a0e3db9",
   "metadata": {},
   "source": [
    "#### save and load ksd curves"
   ]
  },
  {
   "cell_type": "code",
   "execution_count": 5,
   "id": "48dc7052",
   "metadata": {},
   "outputs": [],
   "source": [
    "\n",
    "# MAMBA\n",
    "# np.savetxt(\"outputs/LR_uncertainty_tests/mamba/KSD_curve_sgld.txt\", \n",
    "#            np.array([mean_ksd_curve_sgld_mamba, sd_ksd_curve_sgld_mamba]))\n",
    "\n",
    "# np.savetxt(\"outputs/LR_uncertainty_tests/mamba/KSD_curve_sgldCV.txt\", \n",
    "#            np.array([mean_ksd_curve_sgldCV_mamba, sd_ksd_curve_sgldCV_mamba]))\n",
    "\n",
    "# np.savetxt(\"outputs/LR_uncertainty_tests/mamba/KSD_curve_sghmc.txt\", \n",
    "#            np.array([mean_ksd_curve_sghmc_mamba, sd_ksd_curve_sghmc_mamba]))\n",
    "\n",
    "# np.savetxt(\"outputs/LR_uncertainty_tests/mamba/KSD_curve_sghmcCV.txt\", \n",
    "#            np.array([mean_ksd_curve_sghmcCV_mamba, sd_ksd_curve_sghmcCV_mamba]))\n",
    "\n",
    "# np.savetxt(\"outputs/LR_uncertainty_tests/mamba/KSD_curve_sgnht.txt\", \n",
    "#            np.array([mean_ksd_curve_sgnht_mamba, sd_ksd_curve_sgnht_mamba]))\n",
    "\n",
    "# np.savetxt(\"outputs/LR_uncertainty_tests/mamba/KSD_curve_sgnhtCV.txt\", \n",
    "#            np.array([mean_ksd_curve_sgnhtCV_mamba, sd_ksd_curve_sgnhtCV_mamba]))\n",
    "\n",
    "\n",
    "# # gridsearch\n",
    "# np.savetxt(\"outputs/LR_uncertainty_tests/gridsearch/KSD_curve_sgld.txt\", \n",
    "#            np.array([mean_ksd_curve_sgld_gridsearch, sd_ksd_curve_sgld_gridsearch]))\n",
    "\n",
    "# np.savetxt(\"outputs/LR_uncertainty_tests/gridsearch/KSD_curve_sgldCV.txt\", \n",
    "#            np.array([mean_ksd_curve_sgldCV_gridsearch, sd_ksd_curve_sgldCV_gridsearch]))\n",
    "\n",
    "# np.savetxt(\"outputs/LR_uncertainty_tests/gridsearch/KSD_curve_sghmc.txt\", \n",
    "#            np.array([mean_ksd_curve_sghmc_gridsearch, sd_ksd_curve_sghmc_gridsearch]))\n",
    "\n",
    "# np.savetxt(\"outputs/LR_uncertainty_tests/gridsearch/KSD_curve_sghmcCV.txt\", \n",
    "#            np.array([mean_ksd_curve_sghmcCV_gridsearch, sd_ksd_curve_sghmcCV_gridsearch]))\n",
    "\n",
    "# np.savetxt(\"outputs/LR_uncertainty_tests/gridsearch/KSD_curve_sgnht.txt\", \n",
    "#            np.array([mean_ksd_curve_sgnht_gridsearch, sd_ksd_curve_sgnht_gridsearch]))\n",
    "\n",
    "# np.savetxt(\"outputs/LR_uncertainty_tests/gridsearch/KSD_curve_sgnhtCV.txt\", \n",
    "#            np.array([mean_ksd_curve_sgnhtCV_gridsearch, sd_ksd_curve_sgnhtCV_gridsearch]))\n",
    "\n",
    "\n",
    "# # baseline\n",
    "# np.savetxt(\"outputs/LR_uncertainty_tests/baseline/KSD_curve_sgld.txt\", \n",
    "#            np.array([mean_ksd_curve_sgld_baseline, sd_ksd_curve_sgld_baseline]))\n",
    "\n",
    "# np.savetxt(\"outputs/LR_uncertainty_tests/baseline/KSD_curve_sgldCV.txt\", \n",
    "#            np.array([mean_ksd_curve_sgldCV_baseline, sd_ksd_curve_sgldCV_baseline]))\n",
    "\n",
    "# np.savetxt(\"outputs/LR_uncertainty_tests/baseline/KSD_curve_sghmc.txt\", \n",
    "#            np.array([mean_ksd_curve_sghmc_baseline, sd_ksd_curve_sghmc_baseline]))\n",
    "\n",
    "# np.savetxt(\"outputs/LR_uncertainty_tests/baseline/KSD_curve_sghmcCV.txt\", \n",
    "#            np.array([mean_ksd_curve_sghmcCV_baseline, sd_ksd_curve_sghmcCV_baseline]))\n",
    "\n",
    "# np.savetxt(\"outputs/LR_uncertainty_tests/baseline/KSD_curve_sgnht.txt\", \n",
    "#            np.array([mean_ksd_curve_sgnht_baseline, sd_ksd_curve_sgnht_baseline]))\n",
    "\n",
    "# np.savetxt(\"outputs/LR_uncertainty_tests/baseline/KSD_curve_sgnhtCV.txt\", \n",
    "#            np.array([mean_ksd_curve_sgnhtCV_baseline, sd_ksd_curve_sgnhtCV_baseline]))\n",
    "\n",
    "\n",
    "# Load mean and sd of ksd curves\n",
    "list_time_budget = [2, 4, 6, 8, 10]\n",
    "\n",
    "mean_ksd_curve_sgld_mamba, sd_ksd_curve_sgld_mamba = np.genfromtxt(\"outputs/LR_uncertainty_tests/mamba/KSD_curve_sgld.txt\")\n",
    "mean_ksd_curve_sgldCV_mamba, sd_ksd_curve_sgldCV_mamba = np.genfromtxt(\"outputs/LR_uncertainty_tests/mamba/KSD_curve_sgldCV.txt\")\n",
    "mean_ksd_curve_sghmc_mamba, sd_ksd_curve_sghmc_mamba = np.genfromtxt(\"outputs/LR_uncertainty_tests/mamba/KSD_curve_sghmc.txt\")\n",
    "mean_ksd_curve_sghmcCV_mamba, sd_ksd_curve_sghmcCV_mamba = np.genfromtxt(\"outputs/LR_uncertainty_tests/mamba/KSD_curve_sghmcCV.txt\")\n",
    "mean_ksd_curve_sgnht_mamba, sd_ksd_curve_sgnht_mamba = np.genfromtxt(\"outputs/LR_uncertainty_tests/mamba/KSD_curve_sgnht.txt\")\n",
    "mean_ksd_curve_sgnhtCV_mamba, sd_ksd_curve_sgnhtCV_mamba = np.genfromtxt(\"outputs/LR_uncertainty_tests/mamba/KSD_curve_sgnhtCV.txt\")\n",
    "\n",
    "mean_ksd_curve_sgld_gridsearch, sd_ksd_curve_sgld_gridsearch = np.genfromtxt(\"outputs/LR_uncertainty_tests/gridsearch/KSD_curve_sgld.txt\")\n",
    "mean_ksd_curve_sgldCV_gridsearch, sd_ksd_curve_sgldCV_gridsearch = np.genfromtxt(\"outputs/LR_uncertainty_tests/gridsearch/KSD_curve_sgldCV.txt\")\n",
    "mean_ksd_curve_sghmc_gridsearch, sd_ksd_curve_sghmc_gridsearch = np.genfromtxt(\"outputs/LR_uncertainty_tests/gridsearch/KSD_curve_sghmc.txt\")\n",
    "mean_ksd_curve_sghmcCV_gridsearch, sd_ksd_curve_sghmcCV_gridsearch = np.genfromtxt(\"outputs/LR_uncertainty_tests/gridsearch/KSD_curve_sghmcCV.txt\")\n",
    "mean_ksd_curve_sgnht_gridsearch, sd_ksd_curve_sgnht_gridsearch = np.genfromtxt(\"outputs/LR_uncertainty_tests/gridsearch/KSD_curve_sgnht.txt\")\n",
    "mean_ksd_curve_sgnhtCV_gridsearch, sd_ksd_curve_sgnhtCV_gridsearch = np.genfromtxt(\"outputs/LR_uncertainty_tests/gridsearch/KSD_curve_sgnhtCV.txt\")\n",
    "\n",
    "mean_ksd_curve_sgld_baseline, sd_ksd_curve_sgld_baseline = np.genfromtxt(\"outputs/LR_uncertainty_tests/baseline/KSD_curve_sgld.txt\")\n",
    "mean_ksd_curve_sgldCV_baseline, sd_ksd_curve_sgldCV_baseline = np.genfromtxt(\"outputs/LR_uncertainty_tests/baseline/KSD_curve_sgldCV.txt\")\n",
    "mean_ksd_curve_sghmc_baseline, sd_ksd_curve_sghmc_baseline = np.genfromtxt(\"outputs/LR_uncertainty_tests/baseline/KSD_curve_sghmc.txt\")\n",
    "mean_ksd_curve_sghmcCV_baseline, sd_ksd_curve_sghmcCV_baseline = np.genfromtxt(\"outputs/LR_uncertainty_tests/baseline/KSD_curve_sghmcCV.txt\")\n",
    "mean_ksd_curve_sgnht_baseline, sd_ksd_curve_sgnht_baseline = np.genfromtxt(\"outputs/LR_uncertainty_tests/baseline/KSD_curve_sgnht.txt\")\n",
    "mean_ksd_curve_sgnhtCV_baseline, sd_ksd_curve_sgnhtCV_baseline = np.genfromtxt(\"outputs/LR_uncertainty_tests/baseline/KSD_curve_sgnhtCV.txt\")\n",
    "\n"
   ]
  },
  {
   "cell_type": "code",
   "execution_count": null,
   "id": "2af93bb6",
   "metadata": {},
   "outputs": [],
   "source": []
  },
  {
   "cell_type": "markdown",
   "id": "46b44e47",
   "metadata": {},
   "source": [
    "# plots: KSD curves"
   ]
  },
  {
   "cell_type": "code",
   "execution_count": 6,
   "id": "15511e2b",
   "metadata": {},
   "outputs": [
    {
     "data": {
      "text/plain": [
       "<matplotlib.legend.Legend at 0x7fe3b932e700>"
      ]
     },
     "execution_count": 6,
     "metadata": {},
     "output_type": "execute_result"
    },
    {
     "data": {
      "image/png": "[encoded data removed]",
      "text/plain": [
       "<Figure size 576x432 with 1 Axes>"
      ]
     },
     "metadata": {
      "needs_background": "light"
     },
     "output_type": "display_data"
    }
   ],
   "source": [
    "plt.rcParams.update({'font.size':17})\n",
    "\n",
    "max_time_budget = 8\n",
    "\n",
    "plt.figure(figsize=(8, 6))\n",
    "\n",
    "plt.plot(list_time_budget, mean_ksd_curve_sgld_mamba, marker=\"+\", markersize=15, \n",
    "         c='r', label=\"MAMBA\")\n",
    "plt.fill_between(list_time_budget, mean_ksd_curve_sgld_mamba+2*sd_ksd_curve_sgld_mamba, \n",
    "                 mean_ksd_curve_sgld_mamba-2*sd_ksd_curve_sgld_mamba, alpha=0.1, color='r')\n",
    "\n",
    "plt.plot(list_time_budget, mean_ksd_curve_sgld_gridsearch, marker=\"o\", markersize=15, \n",
    "         c='g', label=\"gridsearch\")\n",
    "plt.fill_between(list_time_budget, mean_ksd_curve_sgld_gridsearch+2*sd_ksd_curve_sgld_gridsearch, \n",
    "                 mean_ksd_curve_sgld_gridsearch-2*sd_ksd_curve_sgld_gridsearch, alpha=0.1, color='g')\n",
    "\n",
    "plt.plot(list_time_budget, mean_ksd_curve_sgld_baseline, marker=\"x\", markersize=15, \n",
    "         c='b', label=\"baseline\")\n",
    "plt.fill_between(list_time_budget, mean_ksd_curve_sgld_baseline+2*sd_ksd_curve_sgld_baseline, \n",
    "                 mean_ksd_curve_sgld_baseline-2*sd_ksd_curve_sgld_baseline, alpha=0.1, color='b')\n",
    "\n",
    "plt.title(\"SGLD sampler\", size=23)\n",
    "plt.ylabel(\"KSD\", size=19)\n",
    "plt.xlabel(\"time budget (seconds)\", size=19)\n",
    "plt.legend(fontsize=16)\n",
    "# plt.savefig(\"images/sgld_ksd_curves_R1_R5_n90.png\")"
   ]
  },
  {
   "cell_type": "code",
   "execution_count": 7,
   "id": "285ed5df",
   "metadata": {},
   "outputs": [
    {
     "data": {
      "text/plain": [
       "<matplotlib.legend.Legend at 0x7fe3b995ff10>"
      ]
     },
     "execution_count": 7,
     "metadata": {},
     "output_type": "execute_result"
    },
    {
     "data": {
      "image/png": "[encoded data removed]",
      "text/plain": [
       "<Figure size 576x432 with 1 Axes>"
      ]
     },
     "metadata": {
      "needs_background": "light"
     },
     "output_type": "display_data"
    }
   ],
   "source": [
    "plt.rcParams.update({'font.size':17})\n",
    "\n",
    "max_time_budget = 8\n",
    "\n",
    "plt.figure(figsize=(8, 6))\n",
    "\n",
    "plt.plot(list_time_budget, mean_ksd_curve_sgldCV_mamba, marker=\"+\", markersize=15, \n",
    "         c='r', label=\"MAMBA\")\n",
    "plt.fill_between(list_time_budget, mean_ksd_curve_sgldCV_mamba+2*sd_ksd_curve_sgldCV_mamba, \n",
    "                 mean_ksd_curve_sgldCV_mamba-2*sd_ksd_curve_sgldCV_mamba, alpha=0.1, color='r')\n",
    "\n",
    "plt.plot(list_time_budget, mean_ksd_curve_sgldCV_gridsearch, marker=\"o\", markersize=15, \n",
    "         c='g', label=\"gridsearch\")\n",
    "plt.fill_between(list_time_budget, mean_ksd_curve_sgldCV_gridsearch+2*sd_ksd_curve_sgldCV_gridsearch, \n",
    "                 mean_ksd_curve_sgldCV_gridsearch-2*sd_ksd_curve_sgldCV_gridsearch, alpha=0.1, color='g')\n",
    "\n",
    "plt.plot(list_time_budget, mean_ksd_curve_sgldCV_baseline, marker=\"x\", markersize=15, \n",
    "         c='b', label=\"baseline\")\n",
    "plt.fill_between(list_time_budget, mean_ksd_curve_sgldCV_baseline+2*sd_ksd_curve_sgldCV_baseline, \n",
    "                 mean_ksd_curve_sgldCV_baseline-2*sd_ksd_curve_sgldCV_baseline, alpha=0.1, color='b')\n",
    "\n",
    "plt.title(\"SGLD-CV sampler\", size=23)\n",
    "plt.ylabel(\"KSD\", size=19)\n",
    "plt.xlabel(\"time budget (seconds)\", size=19)\n",
    "plt.legend(fontsize=16)\n",
    "# plt.savefig(\"images/sgld_ksd_curves_R1_R5_n90.png\")"
   ]
  },
  {
   "cell_type": "code",
   "execution_count": 8,
   "id": "25d00c19",
   "metadata": {},
   "outputs": [
    {
     "data": {
      "text/plain": [
       "<matplotlib.legend.Legend at 0x7fe3b99a8d00>"
      ]
     },
     "execution_count": 8,
     "metadata": {},
     "output_type": "execute_result"
    },
    {
     "data": {
      "image/png": "[encoded data removed]",
      "text/plain": [
       "<Figure size 576x432 with 1 Axes>"
      ]
     },
     "metadata": {
      "needs_background": "light"
     },
     "output_type": "display_data"
    }
   ],
   "source": [
    "plt.rcParams.update({'font.size':17})\n",
    "\n",
    "max_time_budget = 8\n",
    "\n",
    "plt.figure(figsize=(8, 6))\n",
    "\n",
    "plt.plot(list_time_budget, mean_ksd_curve_sghmc_mamba, marker=\"+\", markersize=15, \n",
    "         c='r', label=\"MAMBA\")\n",
    "plt.fill_between(list_time_budget, mean_ksd_curve_sghmc_mamba+2*sd_ksd_curve_sghmc_mamba, \n",
    "                 mean_ksd_curve_sghmc_mamba-2*sd_ksd_curve_sghmc_mamba, alpha=0.1, color='r')\n",
    "\n",
    "plt.plot(list_time_budget, mean_ksd_curve_sghmc_gridsearch, marker=\"o\", markersize=15, \n",
    "         c='g', label=\"gridsearch\")\n",
    "plt.fill_between(list_time_budget, mean_ksd_curve_sghmc_gridsearch+2*sd_ksd_curve_sghmc_gridsearch, \n",
    "                 mean_ksd_curve_sghmc_gridsearch-2*sd_ksd_curve_sghmc_gridsearch, alpha=0.1, color='g')\n",
    "\n",
    "plt.plot(list_time_budget, mean_ksd_curve_sghmc_baseline, marker=\"x\", markersize=15, \n",
    "         c='b', label=\"baseline\")\n",
    "plt.fill_between(list_time_budget, mean_ksd_curve_sghmc_baseline+2*sd_ksd_curve_sghmc_baseline, \n",
    "                 mean_ksd_curve_sghmc_baseline-2*sd_ksd_curve_sghmc_baseline, alpha=0.1, color='b')\n",
    "\n",
    "\n",
    "plt.title(\"SGHMC sampler\", size=23)\n",
    "plt.ylabel(\"KSD\", size=19)\n",
    "plt.xlabel(\"time budget (seconds)\", size=19)\n",
    "plt.yscale(\"log\")\n",
    "plt.legend(fontsize=16)\n",
    "# plt.savefig(\"images/sgld_ksd_curves_R1_R5_n90.png\")"
   ]
  },
  {
   "cell_type": "code",
   "execution_count": 9,
   "id": "afb684d2",
   "metadata": {},
   "outputs": [
    {
     "data": {
      "text/plain": [
       "<matplotlib.legend.Legend at 0x7fe3b9c3cdc0>"
      ]
     },
     "execution_count": 9,
     "metadata": {},
     "output_type": "execute_result"
    },
    {
     "data": {
      "image/png": "[encoded data removed]",
      "text/plain": [
       "<Figure size 576x432 with 1 Axes>"
      ]
     },
     "metadata": {
      "needs_background": "light"
     },
     "output_type": "display_data"
    }
   ],
   "source": [
    "plt.rcParams.update({'font.size':17})\n",
    "\n",
    "max_time_budget = 8\n",
    "\n",
    "plt.figure(figsize=(8, 6))\n",
    "\n",
    "plt.plot(list_time_budget, mean_ksd_curve_sghmcCV_mamba, marker=\"+\", markersize=15, \n",
    "         c='r', label=\"MAMBA\")\n",
    "plt.fill_between(list_time_budget, mean_ksd_curve_sghmcCV_mamba+2*sd_ksd_curve_sghmcCV_mamba, \n",
    "                 mean_ksd_curve_sghmcCV_mamba-2*sd_ksd_curve_sghmcCV_mamba, alpha=0.1, color='r')\n",
    "\n",
    "plt.plot(list_time_budget, mean_ksd_curve_sghmcCV_gridsearch, marker=\"o\", markersize=15, \n",
    "         c='g', label=\"gridsearch\")\n",
    "plt.fill_between(list_time_budget, mean_ksd_curve_sghmcCV_gridsearch+2*sd_ksd_curve_sghmcCV_gridsearch, \n",
    "                 mean_ksd_curve_sghmcCV_gridsearch-2*sd_ksd_curve_sghmcCV_gridsearch, alpha=0.1, color='g')\n",
    "\n",
    "\n",
    "plt.plot(list_time_budget, mean_ksd_curve_sghmcCV_baseline, marker=\"x\", markersize=15, \n",
    "         c='b', label=\"baseline\")\n",
    "plt.fill_between(list_time_budget, mean_ksd_curve_sghmcCV_baseline+2*sd_ksd_curve_sghmcCV_baseline, \n",
    "                 mean_ksd_curve_sghmcCV_baseline-2*sd_ksd_curve_sghmcCV_baseline, alpha=0.1, color='b')\n",
    "\n",
    "plt.title(\"SGHMCCV sampler\", size=23)\n",
    "plt.ylabel(\"KSD\", size=19)\n",
    "plt.xlabel(\"time budget (seconds)\", size=19)\n",
    "plt.yscale(\"log\")\n",
    "plt.legend(fontsize=16)\n",
    "# plt.savefig(\"images/sgld_ksd_curves_R1_R5_n90.png\")"
   ]
  },
  {
   "cell_type": "code",
   "execution_count": null,
   "id": "9a6cd2bd",
   "metadata": {},
   "outputs": [],
   "source": []
  },
  {
   "cell_type": "code",
   "execution_count": 10,
   "id": "27f9d7e5",
   "metadata": {},
   "outputs": [
    {
     "data": {
      "text/plain": [
       "<matplotlib.legend.Legend at 0x7fe3ba067af0>"
      ]
     },
     "execution_count": 10,
     "metadata": {},
     "output_type": "execute_result"
    },
    {
     "data": {
      "image/png": "[encoded data removed]",
      "text/plain": [
       "<Figure size 576x432 with 1 Axes>"
      ]
     },
     "metadata": {
      "needs_background": "light"
     },
     "output_type": "display_data"
    }
   ],
   "source": [
    "plt.rcParams.update({'font.size':17})\n",
    "\n",
    "max_time_budget = 8\n",
    "\n",
    "plt.figure(figsize=(8, 6))\n",
    "\n",
    "plt.plot(list_time_budget, mean_ksd_curve_sgnht_mamba, marker=\"+\", markersize=15, \n",
    "         c='r', label=\"MAMBA\")\n",
    "plt.fill_between(list_time_budget, mean_ksd_curve_sgnht_mamba+2*sd_ksd_curve_sgnht_mamba, \n",
    "                 mean_ksd_curve_sgnht_mamba-2*sd_ksd_curve_sgnht_mamba, alpha=0.1, color='r')\n",
    "\n",
    "plt.plot(list_time_budget, mean_ksd_curve_sgnht_gridsearch, marker=\"o\", markersize=15, \n",
    "         c='g', label=\"gridsearch\")\n",
    "plt.fill_between(list_time_budget, mean_ksd_curve_sgnht_gridsearch+2*sd_ksd_curve_sgnht_gridsearch, \n",
    "                 mean_ksd_curve_sgnht_gridsearch-2*sd_ksd_curve_sgnht_gridsearch, alpha=0.1, color='g')\n",
    "\n",
    "plt.plot(list_time_budget, mean_ksd_curve_sgnht_baseline, marker=\"x\", markersize=15, \n",
    "         c='b', label=\"baseline\")\n",
    "plt.fill_between(list_time_budget, mean_ksd_curve_sgnht_baseline+2*sd_ksd_curve_sgnht_baseline, \n",
    "                 mean_ksd_curve_sgnht_baseline-2*sd_ksd_curve_sgnht_baseline, alpha=0.1, color='b')\n",
    "\n",
    "\n",
    "plt.title(\"SGNHT sampler\", size=23)\n",
    "plt.ylabel(\"KSD\", size=19)\n",
    "plt.xlabel(\"time budget (seconds)\", size=19)\n",
    "plt.legend(fontsize=16)\n",
    "# plt.savefig(\"images/sgld_ksd_curves_R1_R5_n90.png\")"
   ]
  },
  {
   "cell_type": "code",
   "execution_count": null,
   "id": "82254c73",
   "metadata": {},
   "outputs": [],
   "source": []
  },
  {
   "cell_type": "code",
   "execution_count": 11,
   "id": "258c253c",
   "metadata": {},
   "outputs": [
    {
     "data": {
      "text/plain": [
       "<matplotlib.legend.Legend at 0x7fe3ba0a3070>"
      ]
     },
     "execution_count": 11,
     "metadata": {},
     "output_type": "execute_result"
    },
    {
     "data": {
      "image/png": "[encoded data removed]",
      "text/plain": [
       "<Figure size 576x432 with 1 Axes>"
      ]
     },
     "metadata": {
      "needs_background": "light"
     },
     "output_type": "display_data"
    }
   ],
   "source": [
    "plt.rcParams.update({'font.size':17})\n",
    "\n",
    "max_time_budget = 8\n",
    "\n",
    "plt.figure(figsize=(8, 6))\n",
    "\n",
    "plt.plot(list_time_budget, mean_ksd_curve_sgnhtCV_mamba, marker=\"+\", markersize=15, \n",
    "         c='r', label=\"MAMBA\")\n",
    "plt.fill_between(list_time_budget, mean_ksd_curve_sgnhtCV_mamba+2*sd_ksd_curve_sgnhtCV_mamba, \n",
    "                 mean_ksd_curve_sgnhtCV_mamba-2*sd_ksd_curve_sgnhtCV_mamba, alpha=0.1, color='r')\n",
    "\n",
    "plt.plot(list_time_budget, mean_ksd_curve_sgnhtCV_gridsearch, marker=\"o\", markersize=15, \n",
    "         c='g', label=\"gridsearch\")\n",
    "plt.fill_between(list_time_budget, mean_ksd_curve_sgnhtCV_gridsearch+2*sd_ksd_curve_sgnhtCV_gridsearch, \n",
    "                 mean_ksd_curve_sgnhtCV_gridsearch-2*sd_ksd_curve_sgnhtCV_gridsearch, alpha=0.1, color='g')\n",
    "\n",
    "\n",
    "plt.plot(list_time_budget, mean_ksd_curve_sgnhtCV_baseline, marker=\"x\", markersize=15, \n",
    "         c='b', label=\"baseline\")\n",
    "plt.fill_between(list_time_budget, mean_ksd_curve_sgnhtCV_baseline+2*sd_ksd_curve_sgnhtCV_baseline, \n",
    "                 mean_ksd_curve_sgnhtCV_baseline-2*sd_ksd_curve_sgnhtCV_baseline, alpha=0.1, color='b')\n",
    "\n",
    "\n",
    "plt.title(\"SGNHT-CV sampler\", size=23)\n",
    "plt.ylabel(\"KSD\", size=19)\n",
    "plt.xlabel(\"time budget (seconds)\", size=19)\n",
    "plt.legend(fontsize=16)\n",
    "# plt.savefig(\"images/sgld_ksd_curves_R1_R5_n90.png\")"
   ]
  },
  {
   "cell_type": "code",
   "execution_count": null,
   "id": "c4a041f5",
   "metadata": {},
   "outputs": [],
   "source": []
  },
  {
   "cell_type": "code",
   "execution_count": null,
   "id": "310b4e1b",
   "metadata": {},
   "outputs": [],
   "source": []
  },
  {
   "cell_type": "code",
   "execution_count": null,
   "id": "bc71c3f4",
   "metadata": {},
   "outputs": [],
   "source": []
  }
 ],
 "metadata": {
  "kernelspec": {
   "display_name": "Python 3",
   "language": "python",
   "name": "python3"
  },
  "language_info": {
   "codemirror_mode": {
    "name": "ipython",
    "version": 3
   },
   "file_extension": ".py",
   "mimetype": "text/x-python",
   "name": "python",
   "nbconvert_exporter": "python",
   "pygments_lexer": "ipython3",
   "version": "3.8.2"
  }
 },
 "nbformat": 4,
 "nbformat_minor": 5
}
