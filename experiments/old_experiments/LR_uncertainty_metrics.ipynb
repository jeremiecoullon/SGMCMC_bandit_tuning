{
 "cells": [
  {
   "cell_type": "code",
   "execution_count": 1,
   "metadata": {},
   "outputs": [],
   "source": [
    "%matplotlib inline\n",
    "\n",
    "import matplotlib.pyplot as plt\n",
    "import seaborn as sns\n",
    "sns.set_style(\"darkgrid\")\n",
    "import numpy as np\n",
    "import time\n",
    "import jax.numpy as jnp\n",
    "from jax import partial, jit, vmap, grad, random, lax\n",
    "from jax.scipy.special import logsumexp\n",
    "\n",
    "import context\n",
    "from samplers.sgld import sgld_jaxloop, sgld_adam_time_budget\n",
    "from samplers.sgldcv import sgld_jaxloop_CV\n",
    "from samplers.sghmc import sghmc_scan, sghmc_time_budget\n",
    "from samplers.mala import mala_sampler\n",
    "\n",
    "import numpyro\n",
    "from numpyro.infer import NUTS, MCMC\n",
    "\n",
    "from ksd import imq_KSD\n",
    "from util import progress_bar_scan, wait_until_computed"
   ]
  },
  {
   "cell_type": "markdown",
   "metadata": {},
   "source": [
    "# LR uncertainty metrics\n",
    "\n",
    "### estimate standard deviation\n",
    "\n",
    "sgld: 5 seconds\n",
    "    \n",
    "- SH 1: 0.0985\n",
    "- SH 2: 0.0871\n",
    "- SH 3: 0.2936\n",
    "- SH concat: 0.1514\n",
    "- default: 0.1649\n",
    "- adam: 0.6945\n",
    "\n",
    "sgld-CV: 5 seconds\n",
    "\n",
    "- SH 1: 0.0436\n",
    "- SH 2: 0.0985\n",
    "- SH 3: 0.0417\n",
    "- SH concat: 0.0598\n",
    "- default: 0.0556\n",
    "\n",
    "sghmc: 10 seconds\n",
    "- SH 1: 0.0326\n",
    "- SH 2: 0.0710\n",
    "- SH 3: 0.0702\n",
    "- SH concat: 0.0646\n",
    "- default: 0.0535\n",
    "\n",
    "\n",
    "### estimate KSD\n",
    "\n",
    "sgld: KSD:\n",
    "\n",
    "- SH 1: 10.2799\n",
    "- SH 2: 9.6337\n",
    "- SH 3: 11.8168\n",
    "- default: 17.6134\n",
    "- adam: 23.0215\n",
    "\n",
    "sgldCV: KSD:\n",
    "\n",
    "- SH 1: 2.1778\n",
    "- SH 2: 3.2645\n",
    "- SH 3: 2.7485\n",
    "- default: 7.2116\n",
    "\n",
    "sghmc: KSD:\n",
    "\n",
    "- SH 1: 7.3113\n",
    "- SH 2: 8.4710\n",
    "- SH 3: 6.7539\n",
    "- default: 8.8292\n"
   ]
  },
  {
   "cell_type": "code",
   "execution_count": 2,
   "metadata": {},
   "outputs": [
    {
     "name": "stdout",
     "output_type": "stream",
     "text": [
      "generating data, with N=100000 and dim=10\n"
     ]
    }
   ],
   "source": [
    "\n",
    "\n",
    "from examples.logistic_regression.logistic_regression_model import gen_data_and_log_post\n",
    "from samplers.sgld import sgld, sgld_jaxloop, sgld_time_budget\n",
    "from samplers.sgldcv import sgld_time_budget_CV\n",
    "\n",
    "\n",
    "dim = 10\n",
    "Ndata = 100000\n",
    "key = random.PRNGKey(0) # same key as 'LR-evaluate_default_vs_KSD.ipynb'\n",
    "theta_true, X, y_data, val_and_grad_log_post = gen_data_and_log_post(key, dim, Ndata)\n",
    "\n",
    "# testing and training data\n",
    "num_train = int(Ndata*0.8)\n",
    "\n",
    "X_train = X[:num_train]\n",
    "X_test = X[num_train:]\n",
    "\n",
    "y_train = y_data[:num_train]\n",
    "y_test = y_data[num_train:]\n",
    "del X, y_data\n",
    "\n",
    "\n",
    "@jit\n",
    "def fb_val_and_grad_lp(theta):\n",
    "    return val_and_grad_log_post(theta, X_train, y_train)\n",
    "\n",
    "\n",
    "def grad_lp_LR_fb(theta):\n",
    "    return val_and_grad_log_post(theta, X_train, y_train)[1]\n",
    "\n",
    "@jit\n",
    "def fb_val_and_grad_lp(theta):\n",
    "    return val_and_grad_log_post(theta, X_train, y_train)\n",
    "\n",
    "batch_grad_lp_LR_fb = jit(vmap(grad_lp_LR_fb))\n",
    "\n",
    "@jit\n",
    "def potential_log_reg(theta):\n",
    "    return -val_and_grad_log_post(theta, X_train, y_train)[0]\n",
    "\n",
    "\n",
    "def get_fb_grads_batches(samples, calc_batch_size):\n",
    "    \"\"\"\n",
    "    Calculate the fullbatch gradients, but in batches\n",
    "    \"\"\"\n",
    "    list_grads = []\n",
    "    len_sgld = samples.shape[0]\n",
    "    num_steps = int(np.ceil(len_sgld/calc_batch_size))\n",
    "    for i in range(num_steps):\n",
    "        new_grads = batch_grad_lp_LR_fb(samples[i*calc_batch_size:(i+1)*calc_batch_size])\n",
    "        wait_until_computed(new_grads)\n",
    "        list_grads.append(new_grads)\n",
    "    fb_grads = jnp.concatenate(list_grads, axis=0)\n",
    "    return fb_grads\n",
    "\n",
    "\n",
    "def accuracy(samples, X, y):\n",
    "\n",
    "    def predict(theta, x_val):\n",
    "        return -logsumexp(jnp.array([0., -jnp.dot(theta, x_val)]))\n",
    "\n",
    "    batch_predict_params = jit(vmap(predict, in_axes=(0, None)))\n",
    "\n",
    "    def _accuracy(samples, x_val, y_val):\n",
    "        pred = jnp.round(jnp.exp(jnp.mean(batch_predict_params(samples, x_val))), 0)\n",
    "        return jnp.array(pred == y_val, dtype=jnp.int32)\n",
    "    \n",
    "    batch_accuracy = vmap(_accuracy, in_axes=(None, 0,0))\n",
    "    return jnp.mean(batch_accuracy(samples, X, y))\n"
   ]
  },
  {
   "cell_type": "code",
   "execution_count": null,
   "metadata": {},
   "outputs": [],
   "source": []
  },
  {
   "cell_type": "markdown",
   "metadata": {},
   "source": [
    "### run NUTS for 20K iterations\n",
    "\n",
    "- ESS = 6759\n",
    "- Takes 4 minutes to run\n",
    "- predictive accuracy: 93.71"
   ]
  },
  {
   "cell_type": "code",
   "execution_count": 10,
   "metadata": {},
   "outputs": [
    {
     "name": "stdout",
     "output_type": "stream",
     "text": [
      "Running time: 249.12 sec\n"
     ]
    }
   ],
   "source": [
    "# nuts_sampler = MCMC(NUTS(potential_fn=potential_log_reg), num_samples=20000, \n",
    "#                  num_warmup=1000, num_chains=1, progress_bar=False)\n",
    "\n",
    "\n",
    "# init_params = jnp.zeros(theta_true.shape[0])\n",
    "    \n",
    "# starttime = time.time()\n",
    "# key = random.PRNGKey(0)\n",
    "# nuts_sampler.run(key, init_params=init_params)\n",
    "\n",
    "# samples_nuts = nuts_sampler.get_samples(True)\n",
    "# wait_until_computed(samples_nuts)\n",
    "# endtime = time.time()\n",
    "# print(f\"Running time: {endtime-starttime:.2f} sec\")\n",
    "\n",
    "# samples_nuts = samples_nuts[0]"
   ]
  },
  {
   "cell_type": "code",
   "execution_count": 11,
   "metadata": {},
   "outputs": [
    {
     "name": "stdout",
     "output_type": "stream",
     "text": [
      "Maximum IATL 3.0\n"
     ]
    },
    {
     "data": {
      "text/plain": [
       "[<matplotlib.lines.Line2D at 0x12b1a66d0>]"
      ]
     },
     "execution_count": 11,
     "metadata": {},
     "output_type": "execute_result"
    },
    {
     "data": {
      "image/png": "[encoded data removed]",
      "text/plain": [
       "<Figure size 432x288 with 1 Axes>"
      ]
     },
     "metadata": {},
     "output_type": "display_data"
    }
   ],
   "source": [
    "# from emcee.autocorr import integrated_time\n",
    "\n",
    "# max_IAT = max([integrated_time(samples_nuts[:,idx], tol=100) for idx in range(10)])[0]\n",
    "# print(f\"Maximum IATL {max_IAT:.1f}\")\n",
    "\n",
    "\n",
    "# plt.plot(samples_nuts[:,0])"
   ]
  },
  {
   "cell_type": "code",
   "execution_count": 12,
   "metadata": {},
   "outputs": [
    {
     "data": {
      "text/plain": [
       "6759.939627094715"
      ]
     },
     "execution_count": 12,
     "metadata": {},
     "output_type": "execute_result"
    }
   ],
   "source": [
    "20000/max_IAT"
   ]
  },
  {
   "cell_type": "code",
   "execution_count": 123,
   "metadata": {},
   "outputs": [
    {
     "name": "stdout",
     "output_type": "stream",
     "text": [
      "0.9371\n"
     ]
    }
   ],
   "source": [
    "print(accuracy(samples_nuts,X_test, y_test))"
   ]
  },
  {
   "cell_type": "code",
   "execution_count": 13,
   "metadata": {
    "scrolled": true
   },
   "outputs": [
    {
     "name": "stdout",
     "output_type": "stream",
     "text": [
      "[0.03785377 0.01756924 0.02984989 0.01798336 0.03235544 0.02080127\n",
      " 0.0369044  0.01981673 0.01966911 0.04595855]\n"
     ]
    }
   ],
   "source": [
    "NUTS_stds = samples_nuts.std(axis=0)\n",
    "\n",
    "print(NUTS_stds)"
   ]
  },
  {
   "cell_type": "code",
   "execution_count": 3,
   "metadata": {},
   "outputs": [],
   "source": [
    "# np.savetxt(\"outputs/LR_uncertainty_tests/NUTS_stds.txt\", NUTS_stds)\n",
    "\n",
    "NUTS_stds = np.genfromtxt(\"outputs/LR_uncertainty_tests/NUTS_stds.txt\")"
   ]
  },
  {
   "cell_type": "code",
   "execution_count": 4,
   "metadata": {},
   "outputs": [],
   "source": [
    "def get_relative_error_LR(estimate, ground_truth=NUTS_stds):\n",
    "    return np.linalg.norm(estimate - ground_truth)/np.linalg.norm(ground_truth)\n",
    "\n"
   ]
  },
  {
   "cell_type": "markdown",
   "metadata": {},
   "source": [
    "# SGLD\n",
    "\n",
    "Run sgld for SH and default parameters. Also run sgld-adam"
   ]
  },
  {
   "cell_type": "code",
   "execution_count": 5,
   "metadata": {},
   "outputs": [],
   "source": [
    "def run_sgld_sampler(key, time_budget, log_dt, b_s_r):\n",
    "    dt = 10**(log_dt)\n",
    "    batch_size = int(X_train.shape[0]*b_s_r)\n",
    "    x_0 = theta_true\n",
    "    samples, _ = sgld_time_budget(key, val_and_grad_log_post, X_train, y_train, \n",
    "                                                   time_budget, dt, batch_size, x_0)\n",
    "    return samples\n",
    "\n",
    "time_budget = 5\n",
    "key = random.PRNGKey(0)"
   ]
  },
  {
   "cell_type": "code",
   "execution_count": 6,
   "metadata": {},
   "outputs": [],
   "source": [
    "logdt1 = -4.51\n",
    "b_s_r1 = 0.053\n",
    "samples_sgld1 = run_sgld_sampler(key, time_budget, logdt1, b_s_r1)\n",
    "\n",
    "logdt2 = -4.80\n",
    "b_s_r2 = 0.040\n",
    "samples_sgld2 = run_sgld_sampler(key, time_budget, logdt2, b_s_r2)\n",
    "\n",
    "logdt3 = -3.96\n",
    "b_s_r3 = 0.071\n",
    "samples_sgld3 = run_sgld_sampler(key, time_budget, logdt3, b_s_r3)"
   ]
  },
  {
   "cell_type": "code",
   "execution_count": 7,
   "metadata": {},
   "outputs": [],
   "source": [
    "samples_sgld_concat = np.concatenate([samples_sgld1, samples_sgld2, samples_sgld3,])"
   ]
  },
  {
   "cell_type": "code",
   "execution_count": 8,
   "metadata": {},
   "outputs": [],
   "source": [
    "log_dt, b_s_r = -4.8, 0.1\n",
    "key = random.PRNGKey(0)\n",
    "samples_sgld_default = run_sgld_sampler(key, time_budget, log_dt, b_s_r)"
   ]
  },
  {
   "cell_type": "code",
   "execution_count": 9,
   "metadata": {},
   "outputs": [],
   "source": [
    "key = random.PRNGKey(0)\n",
    "dt = 10**(-1.)\n",
    "batch_size = int(X_train.shape[0]*0.1)\n",
    "x_0 = theta_true\n",
    "samples_adam, _ = sgld_adam_time_budget(key, val_and_grad_log_post, X_train, y_train, time_budget, \n",
    "                                        dt, batch_size, theta_true)"
   ]
  },
  {
   "cell_type": "code",
   "execution_count": 10,
   "metadata": {},
   "outputs": [],
   "source": [
    "std_error_sgld_SH1 = get_relative_error_LR(samples_sgld1.std(axis=0))\n",
    "std_error_sgld_SH2 = get_relative_error_LR(samples_sgld2.std(axis=0))\n",
    "std_error_sgld_SH3 = get_relative_error_LR(samples_sgld3.std(axis=0))\n",
    "\n",
    "std_error_sgld_SH_concat = get_relative_error_LR(samples_sgld_concat.std(axis=0))\n",
    "\n",
    "std_error_sgld_default = get_relative_error_LR(samples_sgld_default.std(axis=0))\n",
    "\n",
    "std_error_sgld_adam = get_relative_error_LR(samples_adam.std(axis=0))\n",
    "\n",
    "\n"
   ]
  },
  {
   "cell_type": "markdown",
   "metadata": {},
   "source": [
    "### calculate KSD"
   ]
  },
  {
   "cell_type": "code",
   "execution_count": 11,
   "metadata": {},
   "outputs": [],
   "source": [
    "def get_ksd_from_samples(samples):\n",
    "    fb_grads = get_fb_grads_batches(samples, 1000)\n",
    "    est_ksd = imq_KSD(samples, fb_grads)\n",
    "    return est_ksd"
   ]
  },
  {
   "cell_type": "code",
   "execution_count": 12,
   "metadata": {},
   "outputs": [
    {
     "name": "stdout",
     "output_type": "stream",
     "text": [
      "SH1:\n",
      "10.73\n",
      "SH2:\n",
      "6.92\n",
      "SH3:\n",
      "11.72\n",
      "Concatenated SH:\n",
      "6.22\n",
      "default:\n",
      "18.17\n",
      "adam:\n",
      "23.28\n"
     ]
    }
   ],
   "source": [
    "\n",
    "print(\"SH1:\")\n",
    "est_ksd_sgld_1 = get_ksd_from_samples(samples_sgld1)\n",
    "print(f\"{est_ksd_sgld_1:.2f}\")\n",
    "\n",
    "print(\"SH2:\")\n",
    "est_ksd_sgld_2 = get_ksd_from_samples(samples_sgld2)\n",
    "print(f\"{est_ksd_sgld_2:.2f}\")\n",
    "\n",
    "print(\"SH3:\")\n",
    "est_ksd_sgld_3 = get_ksd_from_samples(samples_sgld3)\n",
    "print(f\"{est_ksd_sgld_3:.2f}\")\n",
    "\n",
    "print(\"Concatenated SH:\")\n",
    "est_ksd_sgld_concat = get_ksd_from_samples(samples_sgld_concat)\n",
    "print(f\"{est_ksd_sgld_concat:.2f}\")\n",
    "\n",
    "\n",
    "print(\"default:\")\n",
    "est_ksd_sgld_default = get_ksd_from_samples(samples_sgld_default)\n",
    "print(f\"{est_ksd_sgld_default:.2f}\")\n",
    "\n",
    "print(\"adam:\")\n",
    "est_ksd_sgld_adam = get_ksd_from_samples(samples_adam)\n",
    "print(f\"{est_ksd_sgld_adam:.2f}\")\n"
   ]
  },
  {
   "cell_type": "code",
   "execution_count": 13,
   "metadata": {},
   "outputs": [
    {
     "data": {
      "text/plain": [
       "(54086, 10)"
      ]
     },
     "execution_count": 13,
     "metadata": {},
     "output_type": "execute_result"
    }
   ],
   "source": [
    "samples_sgld_concat.shape"
   ]
  },
  {
   "cell_type": "markdown",
   "metadata": {},
   "source": [
    "#### predictive accuracy"
   ]
  },
  {
   "cell_type": "code",
   "execution_count": 14,
   "metadata": {},
   "outputs": [],
   "source": [
    "acc_sgld_SH1 = accuracy(samples_sgld1, X_test, y_test)\n",
    "acc_sgld_SH2 = accuracy(samples_sgld2, X_test, y_test)\n",
    "acc_sgld_SH3 = accuracy(samples_sgld3, X_test, y_test)\n",
    "acc_sgld_SH_concat = accuracy(samples_sgld_concat, X_test, y_test)\n",
    "\n",
    "acc_sgld_default = accuracy(samples_sgld_default, X_test, y_test)\n",
    "acc_sgld_adam = accuracy(samples_adam, X_test, y_test)\n"
   ]
  },
  {
   "cell_type": "code",
   "execution_count": null,
   "metadata": {},
   "outputs": [],
   "source": []
  },
  {
   "cell_type": "code",
   "execution_count": 15,
   "metadata": {},
   "outputs": [
    {
     "name": "stdout",
     "output_type": "stream",
     "text": [
      "sgld: Number of samples:\n",
      "\n",
      "SH 1: 16525\n",
      "SH 2: 21687\n",
      "SH 3: 15874\n",
      "SH concat: 54086\n",
      "default: 12370\n",
      "adam: 12660\n"
     ]
    }
   ],
   "source": [
    "print(\"sgld: Number of samples:\\n\")\n",
    "\n",
    "print(f\"SH 1: {len(samples_sgld1)}\")\n",
    "print(f\"SH 2: {len(samples_sgld2)}\")\n",
    "print(f\"SH 3: {len(samples_sgld3)}\")\n",
    "print(f\"SH concat: {len(samples_sgld_concat)}\")\n",
    "\n",
    "print(f\"default: {len(samples_sgld_default)}\")\n",
    "print(f\"adam: {len(samples_adam)}\")\n"
   ]
  },
  {
   "cell_type": "code",
   "execution_count": 16,
   "metadata": {},
   "outputs": [
    {
     "name": "stdout",
     "output_type": "stream",
     "text": [
      "sgld: Relative errors:\n",
      "\n",
      "SH 1: 0.0984\n",
      "SH 2: 0.0819\n",
      "SH 3: 0.2912\n",
      "SH concat: 0.1449\n",
      "default: 0.1648\n",
      "adam: 0.6877\n"
     ]
    }
   ],
   "source": [
    "# time budget = 5\n",
    "print(\"sgld: Relative errors:\\n\")\n",
    "\n",
    "print(f\"SH 1: {std_error_sgld_SH1:.4f}\")\n",
    "print(f\"SH 2: {std_error_sgld_SH2:.4f}\")\n",
    "print(f\"SH 3: {std_error_sgld_SH3:.4f}\")\n",
    "print(f\"SH concat: {std_error_sgld_SH_concat:.4f}\")\n",
    "\n",
    "print(f\"default: {std_error_sgld_default:.4f}\")\n",
    "print(f\"adam: {std_error_sgld_adam:.4f}\")\n",
    "\n"
   ]
  },
  {
   "cell_type": "code",
   "execution_count": 17,
   "metadata": {},
   "outputs": [
    {
     "name": "stdout",
     "output_type": "stream",
     "text": [
      "sgld: KSD:\n",
      "\n",
      "SH 1: 10.7328\n",
      "SH 2: 6.9197\n",
      "SH 3: 11.7162\n",
      "SH concat: 6.2212\n",
      "default: 18.1680\n",
      "adam: 23.2768\n"
     ]
    }
   ],
   "source": [
    "# time budget = 5\n",
    "print(\"sgld: KSD:\\n\")\n",
    "\n",
    "print(f\"SH 1: {est_ksd_sgld_1:.4f}\")\n",
    "print(f\"SH 2: {est_ksd_sgld_2:.4f}\")\n",
    "print(f\"SH 3: {est_ksd_sgld_3:.4f}\")\n",
    "print(f\"SH concat: {est_ksd_sgld_concat:.4f}\")\n",
    "\n",
    "print(f\"default: {est_ksd_sgld_default:.4f}\")\n",
    "print(f\"adam: {est_ksd_sgld_adam:.4f}\")\n",
    "\n"
   ]
  },
  {
   "cell_type": "code",
   "execution_count": 18,
   "metadata": {},
   "outputs": [
    {
     "name": "stdout",
     "output_type": "stream",
     "text": [
      "sgld: predictive accuracy:\n",
      "\n",
      "SH 1: 0.9370\n",
      "SH 2: 0.9371\n",
      "SH 3: 0.9372\n",
      "SH concat: 0.9371\n",
      "default: 0.9371\n",
      "adam: 0.9372\n"
     ]
    }
   ],
   "source": [
    "# time budget = 5\n",
    "print(\"sgld: predictive accuracy:\\n\")\n",
    "\n",
    "print(f\"SH 1: {acc_sgld_SH1:.4f}\")\n",
    "print(f\"SH 2: {acc_sgld_SH2:.4f}\")\n",
    "print(f\"SH 3: {acc_sgld_SH3:.4f}\")\n",
    "\n",
    "print(f\"SH concat: {acc_sgld_SH_concat:.4f}\")\n",
    "\n",
    "print(f\"default: {acc_sgld_default:.4f}\")\n",
    "print(f\"adam: {acc_sgld_adam:.4f}\")\n",
    "\n"
   ]
  },
  {
   "cell_type": "code",
   "execution_count": null,
   "metadata": {},
   "outputs": [],
   "source": []
  },
  {
   "cell_type": "markdown",
   "metadata": {},
   "source": [
    "# sgld-CV"
   ]
  },
  {
   "cell_type": "code",
   "execution_count": 22,
   "metadata": {},
   "outputs": [],
   "source": [
    "def run_sgldCV_sampler(key, time_budget, log_dt, b_s_r):\n",
    "    dt = 10**(log_dt)\n",
    "    batch_size = int(X_train.shape[0]*b_s_r)\n",
    "    x_0 = theta_true\n",
    "    samples, _ = sgld_time_budget_CV(key, val_and_grad_log_post, \n",
    "              X_train, y_train, time_budget, dt, batch_size, x_0, x_0)\n",
    "    return samples\n",
    "\n",
    "\n",
    "time_budget = 5\n",
    "key = random.PRNGKey(0)\n",
    "\n",
    "logdt1 = -3.81\n",
    "b_s_r1 = 0.01\n",
    "samples_sgldCV1 = run_sgldCV_sampler(key, time_budget, logdt1, b_s_r1)\n",
    "\n",
    "logdt2 = -3.80\n",
    "b_s_r2 = 0.0014\n",
    "samples_sgldCV2 = run_sgldCV_sampler(key, time_budget, logdt2, b_s_r2)\n",
    "\n",
    "logdt3 = -3.99\n",
    "b_s_r3 = 0.0046\n",
    "samples_sgldCV3 = run_sgldCV_sampler(key, time_budget, logdt3, b_s_r3)\n",
    "\n",
    "\n",
    "samples_sgldCV_concat = np.concatenate([samples_sgldCV1, samples_sgldCV2, samples_sgldCV3,])"
   ]
  },
  {
   "cell_type": "code",
   "execution_count": 23,
   "metadata": {},
   "outputs": [],
   "source": [
    "logdt1 = -4.2\n",
    "b_s_r1 = 0.1\n",
    "samples_sgldCV_default = run_sgldCV_sampler(key, time_budget, logdt1, b_s_r1)"
   ]
  },
  {
   "cell_type": "code",
   "execution_count": 24,
   "metadata": {},
   "outputs": [],
   "source": [
    "std_error_sgldCV_SH1 = get_relative_error_LR(samples_sgldCV1.std(axis=0))\n",
    "std_error_sgldCV_SH2 = get_relative_error_LR(samples_sgldCV2.std(axis=0))\n",
    "std_error_sgldCV_SH3 = get_relative_error_LR(samples_sgldCV3.std(axis=0))\n",
    "\n",
    "std_error_sgldCV_SH_concat = get_relative_error_LR(samples_sgldCV_concat.std(axis=0))\n",
    "\n",
    "std_error_sgldCV_default = get_relative_error_LR(samples_sgldCV_default.std(axis=0))\n",
    "\n",
    "\n"
   ]
  },
  {
   "cell_type": "markdown",
   "metadata": {},
   "source": [
    "#### calculate KSD"
   ]
  },
  {
   "cell_type": "code",
   "execution_count": 25,
   "metadata": {},
   "outputs": [
    {
     "name": "stdout",
     "output_type": "stream",
     "text": [
      "SH1:\n",
      "2.57\n",
      "SH2:\n",
      "3.13\n",
      "SH3:\n",
      "2.89\n",
      "concat:\n",
      "2.60\n",
      "default:\n",
      "9.36\n"
     ]
    }
   ],
   "source": [
    "\n",
    "print(\"SH1:\")\n",
    "est_ksd_sgldCV_1 = get_ksd_from_samples(samples_sgldCV1)\n",
    "print(f\"{est_ksd_sgldCV_1:.2f}\")\n",
    "\n",
    "print(\"SH2:\")\n",
    "est_ksd_sgldCV_2 = get_ksd_from_samples(samples_sgldCV2)\n",
    "print(f\"{est_ksd_sgldCV_2:.2f}\")\n",
    "\n",
    "print(\"SH3:\")\n",
    "est_ksd_sgldCV_3 = get_ksd_from_samples(samples_sgldCV3)\n",
    "print(f\"{est_ksd_sgldCV_3:.2f}\")\n",
    "\n",
    "print(\"concat:\")\n",
    "est_ksd_sgldCV_concat = get_ksd_from_samples(samples_sgldCV_concat)\n",
    "print(f\"{est_ksd_sgldCV_concat:.2f}\")\n",
    "\n",
    "\n",
    "print(\"default:\")\n",
    "est_ksd_sgldCV_default = get_ksd_from_samples(samples_sgldCV_default)\n",
    "print(f\"{est_ksd_sgldCV_default:.2f}\")\n"
   ]
  },
  {
   "cell_type": "markdown",
   "metadata": {},
   "source": [
    "#### predictive accuracy"
   ]
  },
  {
   "cell_type": "code",
   "execution_count": 26,
   "metadata": {},
   "outputs": [],
   "source": [
    "acc_sgldCV_SH1 = accuracy(samples_sgldCV1, X_test, y_test)\n",
    "acc_sgldCV_SH2 = accuracy(samples_sgldCV2, X_test, y_test)\n",
    "acc_sgldCV_SH3 = accuracy(samples_sgldCV3, X_test, y_test)\n",
    "\n",
    "acc_sgldCV_SH_concat = accuracy(samples_sgldCV_concat, X_test, y_test)\n",
    "\n",
    "acc_sgldCV_default = accuracy(samples_sgldCV_default, X_test, y_test)\n",
    "\n"
   ]
  },
  {
   "cell_type": "code",
   "execution_count": null,
   "metadata": {},
   "outputs": [],
   "source": []
  },
  {
   "cell_type": "code",
   "execution_count": null,
   "metadata": {},
   "outputs": [],
   "source": []
  },
  {
   "cell_type": "code",
   "execution_count": 31,
   "metadata": {},
   "outputs": [
    {
     "name": "stdout",
     "output_type": "stream",
     "text": [
      "sgldCV: Number of samples:\n",
      "\n",
      "SH 1: 23604\n",
      "SH 2: 22585\n",
      "SH 3: 24533\n",
      "SH concat: 70722\n",
      "default: 8681\n"
     ]
    }
   ],
   "source": [
    "print(\"sgldCV: Number of samples:\\n\")\n",
    "\n",
    "print(f\"SH 1: {len(samples_sgldCV1)}\")\n",
    "print(f\"SH 2: {len(samples_sgldCV2)}\")\n",
    "print(f\"SH 3: {len(samples_sgldCV3)}\")\n",
    "print(f\"SH concat: {len(samples_sgldCV_concat)}\")\n",
    "\n",
    "print(f\"default: {len(samples_sgldCV_default)}\")\n"
   ]
  },
  {
   "cell_type": "code",
   "execution_count": 28,
   "metadata": {},
   "outputs": [
    {
     "name": "stdout",
     "output_type": "stream",
     "text": [
      "SGLD-CV, relative errors:\n",
      "\n",
      "SH 1: 0.0400\n",
      "SH 2: 0.0883\n",
      "SH 3: 0.0333\n",
      "SH concat: 0.0529\n",
      "default: 0.1196\n"
     ]
    }
   ],
   "source": [
    "# time budget = 5\n",
    "print(\"SGLD-CV, relative errors:\\n\")\n",
    "\n",
    "print(f\"SH 1: {std_error_sgldCV_SH1:.4f}\")\n",
    "print(f\"SH 2: {std_error_sgldCV_SH2:.4f}\")\n",
    "print(f\"SH 3: {std_error_sgldCV_SH3:.4f}\")\n",
    "\n",
    "print(f\"SH concat: {std_error_sgldCV_SH_concat:.4f}\")\n",
    "\n",
    "print(f\"default: {std_error_sgldCV_default:.4f}\")\n",
    "\n"
   ]
  },
  {
   "cell_type": "code",
   "execution_count": 29,
   "metadata": {},
   "outputs": [
    {
     "name": "stdout",
     "output_type": "stream",
     "text": [
      "sgldCV: KSD:\n",
      "\n",
      "SH 1: 2.5715\n",
      "SH 2: 3.1323\n",
      "SH 3: 2.8892\n",
      "SH concat: 2.6009\n",
      "default: 9.3629\n"
     ]
    }
   ],
   "source": [
    "# time budget = 5\n",
    "print(\"sgldCV: KSD:\\n\")\n",
    "\n",
    "print(f\"SH 1: {est_ksd_sgldCV_1:.4f}\")\n",
    "print(f\"SH 2: {est_ksd_sgldCV_2:.4f}\")\n",
    "print(f\"SH 3: {est_ksd_sgldCV_3:.4f}\")\n",
    "\n",
    "print(f\"SH concat: {est_ksd_sgldCV_concat:.4f}\")\n",
    "\n",
    "print(f\"default: {est_ksd_sgldCV_default:.4f}\")\n",
    "\n"
   ]
  },
  {
   "cell_type": "code",
   "execution_count": 30,
   "metadata": {},
   "outputs": [
    {
     "name": "stdout",
     "output_type": "stream",
     "text": [
      "sgldCV: predictive accuracy:\n",
      "\n",
      "SH 1: 0.9371\n",
      "SH 2: 0.9371\n",
      "SH 3: 0.9371\n",
      "SH concat: 0.9371\n",
      "default: 0.9370\n"
     ]
    }
   ],
   "source": [
    "# time budget = 5\n",
    "print(\"sgldCV: predictive accuracy:\\n\")\n",
    "\n",
    "print(f\"SH 1: {acc_sgldCV_SH1:.4f}\")\n",
    "print(f\"SH 2: {acc_sgldCV_SH2:.4f}\")\n",
    "print(f\"SH 3: {acc_sgldCV_SH3:.4f}\")\n",
    "\n",
    "print(f\"SH concat: {acc_sgldCV_SH_concat:.4f}\")\n",
    "\n",
    "print(f\"default: {acc_sgldCV_default:.4f}\")\n",
    "\n"
   ]
  },
  {
   "cell_type": "code",
   "execution_count": null,
   "metadata": {},
   "outputs": [],
   "source": []
  },
  {
   "cell_type": "code",
   "execution_count": null,
   "metadata": {},
   "outputs": [],
   "source": []
  },
  {
   "cell_type": "code",
   "execution_count": null,
   "metadata": {},
   "outputs": [],
   "source": []
  },
  {
   "cell_type": "markdown",
   "metadata": {},
   "source": [
    "# sghmc"
   ]
  },
  {
   "cell_type": "code",
   "execution_count": 33,
   "metadata": {},
   "outputs": [],
   "source": [
    "def run_sghmc_sampler(key, time_budget, log_dt, b_s_r, L):\n",
    "    dt = 10**(log_dt)\n",
    "    batch_size = int(X_train.shape[0]*b_s_r)\n",
    "    x_0 = theta_true\n",
    "    alpha = 0.01\n",
    "    samples, _ = sghmc_time_budget(key, val_and_grad_log_post, X_train, y_train, \n",
    "                           time_budget, dt, batch_size, x_0, alpha, L)\n",
    "    return samples"
   ]
  },
  {
   "cell_type": "code",
   "execution_count": 34,
   "metadata": {},
   "outputs": [],
   "source": [
    "time_budget = 10\n",
    "alpha = 0.01\n",
    "\n",
    "key = random.PRNGKey(0)"
   ]
  },
  {
   "cell_type": "code",
   "execution_count": 35,
   "metadata": {},
   "outputs": [],
   "source": [
    "logdt1, b_s_r1, L1 = -6.63, 0.045, 24\n",
    "samples_sghmc1 = run_sghmc_sampler(key, time_budget, logdt1, b_s_r1, L1)\n",
    "\n",
    "logdt2, b_s_r2, L2 = -6.58, 0.014, 14\n",
    "samples_sghmc2 = run_sghmc_sampler(key, time_budget, logdt2, b_s_r2, L2)\n",
    "\n",
    "logdt3, b_s_r3, L3 = -5.96, 0.073, 15\n",
    "samples_sghmc3 = run_sghmc_sampler(key, time_budget, logdt3, b_s_r3, L3)\n"
   ]
  },
  {
   "cell_type": "code",
   "execution_count": 36,
   "metadata": {},
   "outputs": [],
   "source": [
    "samples_sghmc_concat = np.concatenate([samples_sghmc1, samples_sghmc2, samples_sghmc3,])\n"
   ]
  },
  {
   "cell_type": "code",
   "execution_count": 37,
   "metadata": {},
   "outputs": [],
   "source": [
    "logdt, b_s_r, L = -6, 0.1, 11\n",
    "samples_sghmc_default = run_sghmc_sampler(key, time_budget, logdt, b_s_r, L)\n"
   ]
  },
  {
   "cell_type": "code",
   "execution_count": 38,
   "metadata": {},
   "outputs": [],
   "source": [
    "std_error_sghmc_SH1 = get_relative_error_LR(samples_sghmc1.std(axis=0))\n",
    "std_error_sghmc_SH2 = get_relative_error_LR(samples_sghmc2.std(axis=0))\n",
    "std_error_sghmc_SH3 = get_relative_error_LR(samples_sghmc3.std(axis=0))\n",
    "\n",
    "std_error_sghmc_SH_concat = get_relative_error_LR(samples_sghmc_concat.std(axis=0))\n",
    "\n",
    "std_error_sghmc_default = get_relative_error_LR(samples_sghmc_default.std(axis=0))\n",
    "\n",
    "\n"
   ]
  },
  {
   "cell_type": "markdown",
   "metadata": {},
   "source": [
    "#### calculate KSD"
   ]
  },
  {
   "cell_type": "code",
   "execution_count": 40,
   "metadata": {},
   "outputs": [
    {
     "name": "stdout",
     "output_type": "stream",
     "text": [
      "SH1:\n",
      "7.35\n",
      "SH2:\n",
      "9.00\n",
      "SH3:\n",
      "7.74\n",
      "SH_concat:\n",
      "7.91\n",
      "default:\n",
      "8.71\n"
     ]
    }
   ],
   "source": [
    "\n",
    "print(\"SH1:\")\n",
    "est_ksd_sghmc_1 = get_ksd_from_samples(samples_sghmc1)\n",
    "print(f\"{est_ksd_sghmc_1:.2f}\")\n",
    "\n",
    "print(\"SH2:\")\n",
    "est_ksd_sghmc_2 = get_ksd_from_samples(samples_sghmc2)\n",
    "print(f\"{est_ksd_sghmc_2:.2f}\")\n",
    "\n",
    "print(\"SH3:\")\n",
    "est_ksd_sghmc_3 = get_ksd_from_samples(samples_sghmc3)\n",
    "print(f\"{est_ksd_sghmc_3:.2f}\")\n",
    "\n",
    "\n",
    "print(\"SH_concat:\")\n",
    "est_ksd_sghmc_concat = get_ksd_from_samples(samples_sghmc_concat)\n",
    "print(f\"{est_ksd_sghmc_concat:.2f}\")\n",
    "\n",
    "\n",
    "print(\"default:\")\n",
    "est_ksd_sghmc_default = get_ksd_from_samples(samples_sghmc_default)\n",
    "print(f\"{est_ksd_sghmc_default:.2f}\")\n"
   ]
  },
  {
   "cell_type": "markdown",
   "metadata": {},
   "source": [
    "#### predictive accuracy"
   ]
  },
  {
   "cell_type": "code",
   "execution_count": 41,
   "metadata": {},
   "outputs": [],
   "source": [
    "acc_sghmc_SH1 = accuracy(samples_sghmc1, X_test, y_test)\n",
    "acc_sghmc_SH2 = accuracy(samples_sghmc2, X_test, y_test)\n",
    "acc_sghmc_SH3 = accuracy(samples_sghmc3, X_test, y_test)\n",
    "\n",
    "acc_sghmc_SH_concat = accuracy(samples_sghmc_concat, X_test, y_test)\n",
    "\n",
    "acc_sghmc_default = accuracy(samples_sghmc_default, X_test, y_test)\n",
    "\n"
   ]
  },
  {
   "cell_type": "code",
   "execution_count": null,
   "metadata": {},
   "outputs": [],
   "source": []
  },
  {
   "cell_type": "code",
   "execution_count": 46,
   "metadata": {},
   "outputs": [
    {
     "name": "stdout",
     "output_type": "stream",
     "text": [
      "sghmc: Number of samples:\n",
      "\n",
      "SH 1: 4108\n",
      "SH 2: 26317\n",
      "SH 3: 3524\n",
      "SH concat: 33949\n",
      "default: 3411\n"
     ]
    }
   ],
   "source": [
    "print(\"sghmc: Number of samples:\\n\")\n",
    "\n",
    "print(f\"SH 1: {len(samples_sghmc1)}\")\n",
    "print(f\"SH 2: {len(samples_sghmc2)}\")\n",
    "print(f\"SH 3: {len(samples_sghmc3)}\")\n",
    "\n",
    "print(f\"SH concat: {len(samples_sghmc_concat)}\")\n",
    "print(f\"default: {len(samples_sghmc_default)}\")\n"
   ]
  },
  {
   "cell_type": "code",
   "execution_count": 47,
   "metadata": {},
   "outputs": [
    {
     "name": "stdout",
     "output_type": "stream",
     "text": [
      "SGHMC: relative errors:\n",
      "\n",
      "SH 1: 0.0505\n",
      "SH 2: 0.0698\n",
      "SH 3: 0.0726\n",
      "SH concat: 0.0639\n",
      "default: 0.0561\n"
     ]
    }
   ],
   "source": [
    "# time budget = 10\n",
    "print(\"SGHMC: relative errors:\\n\")\n",
    "\n",
    "print(f\"SH 1: {std_error_sghmc_SH1:.4f}\")\n",
    "print(f\"SH 2: {std_error_sghmc_SH2:.4f}\")\n",
    "print(f\"SH 3: {std_error_sghmc_SH3:.4f}\")\n",
    "\n",
    "print(f\"SH concat: {std_error_sghmc_SH_concat:.4f}\")\n",
    "\n",
    "print(f\"default: {std_error_sghmc_default:.4f}\")\n",
    "\n"
   ]
  },
  {
   "cell_type": "code",
   "execution_count": 48,
   "metadata": {},
   "outputs": [
    {
     "name": "stdout",
     "output_type": "stream",
     "text": [
      "sghmc: KSD:\n",
      "\n",
      "SH 1: 7.3527\n",
      "SH 2: 9.0013\n",
      "SH 3: 7.7428\n",
      "SH concat: 7.9112\n",
      "default: 8.7074\n"
     ]
    }
   ],
   "source": [
    "# time budget = 5\n",
    "print(\"sghmc: KSD:\\n\")\n",
    "\n",
    "print(f\"SH 1: {est_ksd_sghmc_1:.4f}\")\n",
    "print(f\"SH 2: {est_ksd_sghmc_2:.4f}\")\n",
    "print(f\"SH 3: {est_ksd_sghmc_3:.4f}\")\n",
    "\n",
    "print(f\"SH concat: {est_ksd_sghmc_concat:.4f}\")\n",
    "\n",
    "print(f\"default: {est_ksd_sghmc_default:.4f}\")\n",
    "\n"
   ]
  },
  {
   "cell_type": "code",
   "execution_count": 49,
   "metadata": {},
   "outputs": [
    {
     "name": "stdout",
     "output_type": "stream",
     "text": [
      "sghmc: predictive accuracy:\n",
      "\n",
      "SH 1: 0.9372\n",
      "SH 2: 0.9373\n",
      "SH 3: 0.9371\n",
      "SH concat: 0.9373\n",
      "default: 0.9371\n"
     ]
    }
   ],
   "source": [
    "# time budget = 5\n",
    "print(\"sghmc: predictive accuracy:\\n\")\n",
    "\n",
    "print(f\"SH 1: {acc_sghmc_SH1:.4f}\")\n",
    "print(f\"SH 2: {acc_sghmc_SH2:.4f}\")\n",
    "print(f\"SH 3: {acc_sghmc_SH3:.4f}\")\n",
    "\n",
    "print(f\"SH concat: {acc_sghmc_SH_concat:.4f}\")\n",
    "\n",
    "print(f\"default: {acc_sghmc_default:.4f}\")\n",
    "\n"
   ]
  },
  {
   "cell_type": "code",
   "execution_count": null,
   "metadata": {},
   "outputs": [],
   "source": []
  },
  {
   "cell_type": "code",
   "execution_count": null,
   "metadata": {},
   "outputs": [],
   "source": []
  },
  {
   "cell_type": "code",
   "execution_count": null,
   "metadata": {},
   "outputs": [],
   "source": []
  },
  {
   "cell_type": "code",
   "execution_count": null,
   "metadata": {},
   "outputs": [],
   "source": []
  }
 ],
 "metadata": {
  "kernelspec": {
   "display_name": "Python 3",
   "language": "python",
   "name": "python3"
  },
  "language_info": {
   "codemirror_mode": {
    "name": "ipython",
    "version": 3
   },
   "file_extension": ".py",
   "mimetype": "text/x-python",
   "name": "python",
   "nbconvert_exporter": "python",
   "pygments_lexer": "ipython3",
   "version": "3.8.2"
  }
 },
 "nbformat": 4,
 "nbformat_minor": 4
}
