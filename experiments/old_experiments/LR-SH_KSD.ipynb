{
 "cells": [
  {
   "cell_type": "code",
   "execution_count": 1,
   "metadata": {},
   "outputs": [],
   "source": [
    "%matplotlib inline\n",
    "import matplotlib.pyplot as plt\n",
    "import seaborn as sns\n",
    "import numpy as np\n",
    "import time\n",
    "\n",
    "from collections import OrderedDict\n",
    "\n",
    "import jax.numpy as jnp\n",
    "from jax import value_and_grad, jit, vmap, partial\n",
    "from jax import random\n",
    "\n",
    "import context \n",
    "\n",
    "from examples.logistic_regression.logistic_regression_model import gen_data_and_log_post\n",
    "\n",
    "from samplers.sgld import sgld_jaxloop, sgld_kernel\n",
    "from samplers.sghmc import sghmc_time_budget\n",
    "\n",
    "from successive_halving.sh import Base_SGLD_SuccHalv_Time\n",
    "from successive_halving.sh import run_SH_time_budget_keep_3, create_T_list_2params, create_T_list_sghmc\n",
    "from ksd import imq_KSD\n",
    "from util import wait_until_computed\n"
   ]
  },
  {
   "cell_type": "markdown",
   "metadata": {},
   "source": [
    "# Logistic regression: Successive halving with KSD\n",
    "\n",
    "_15th March 2021_\n",
    "\n",
    "\n",
    "Keep last 3 chains. Run for `R` iterations and thin samples\n",
    "\n",
    "#### Define model"
   ]
  },
  {
   "cell_type": "code",
   "execution_count": 2,
   "metadata": {},
   "outputs": [],
   "source": [
    "from samplers.sgld import sgld, sgld_jaxloop, sgld_time_budget\n",
    "from samplers.sgldcv import sgld_time_budget_CV"
   ]
  },
  {
   "cell_type": "code",
   "execution_count": 3,
   "metadata": {},
   "outputs": [
    {
     "name": "stderr",
     "output_type": "stream",
     "text": [
      "WARNING:absl:No GPU/TPU found, falling back to CPU. (Set TF_CPP_MIN_LOG_LEVEL=0 and rerun for more info.)\n"
     ]
    },
    {
     "name": "stdout",
     "output_type": "stream",
     "text": [
      "generating data, with N=100000 and dim=10\n"
     ]
    }
   ],
   "source": [
    "\n",
    "dim = 10\n",
    "Ndata = 100000\n",
    "key = random.PRNGKey(0) # same key as 'LR-evaluate_default_vs_KSD.ipynb'\n",
    "theta_true, X, y_data, val_and_grad_log_post = gen_data_and_log_post(key, dim, Ndata)\n",
    "\n",
    "# testing and training data\n",
    "num_train = int(Ndata*0.8)\n",
    "\n",
    "X_train = X[:num_train]\n",
    "X_test = X[num_train:]\n",
    "\n",
    "y_train = y_data[:num_train]\n",
    "y_test = y_data[num_train:]\n",
    "del X, y_data\n",
    "\n",
    "def grad_lp_LR_fb(theta):\n",
    "    return val_and_grad_log_post(theta, X_train, y_train)[1]\n",
    "\n",
    "batch_grad_lp_LR_fb = jit(vmap(grad_lp_LR_fb))"
   ]
  },
  {
   "cell_type": "code",
   "execution_count": 4,
   "metadata": {},
   "outputs": [],
   "source": [
    "# key = random.PRNGKey(0)\n",
    "# Nsamples = 1000\n",
    "# dt = 1e-5\n",
    "# batch_size = int(X_train.shape[0]*0.1)\n",
    "\n",
    "\n",
    "\n",
    "# samples, grads = sgld_jaxloop(key, val_and_grad_log_post, X_train, y_train, Nsamples, dt, batch_size, theta_true)\n",
    "\n",
    "# wait_until_computed(samples)\n",
    "\n"
   ]
  },
  {
   "cell_type": "code",
   "execution_count": null,
   "metadata": {},
   "outputs": [],
   "source": []
  },
  {
   "cell_type": "code",
   "execution_count": 4,
   "metadata": {},
   "outputs": [],
   "source": [
    "class LR_succ_halving(Base_SGLD_SuccHalv_Time):\n",
    "    \"SH for sgld\"\n",
    "    \n",
    "    def __init__(self, key, logdt, batch_size_ratio, thin_step=1):\n",
    "        self.key = key\n",
    "        self.logdt = logdt\n",
    "        self.batch_size_ratio = batch_size_ratio\n",
    "        self.x_0 = theta_true\n",
    "        self.thin_step = thin_step\n",
    "        super(LR_succ_halving, self).__init__(self.key, self.logdt, self.x_0)\n",
    "        \n",
    "    def _run_sampler(self, key, time_budget, x_0):\n",
    "        dt = 10**self.logdt\n",
    "        batch_size = int(self.batch_size_ratio*X_train.shape[0])\n",
    "        sgld_samples, sgld_grads = sgld_time_budget(key, val_and_grad_log_post,\n",
    "                                            X_train, y_train, time_budget, dt,\n",
    "                                            batch_size, x_0)\n",
    "        return sgld_samples[::self.thin_step], batch_grad_lp_LR_fb(sgld_samples[::self.thin_step])\n",
    "\n",
    "class LR_CV_succ_halving(Base_SGLD_SuccHalv_Time):\n",
    "    \"SH for sgld-CV\"\n",
    "    \n",
    "    def __init__(self, key, logdt, batch_size_ratio, thin_step=1):\n",
    "        self.key = key\n",
    "        self.logdt = logdt\n",
    "        self.batch_size_ratio = batch_size_ratio\n",
    "        self.x_0 = theta_true\n",
    "        self.thin_step = thin_step\n",
    "        super(LR_CV_succ_halving, self).__init__(self.key, self.logdt, self.x_0)\n",
    "        \n",
    "    def _run_sampler(self, key, time_budget, x_0):\n",
    "        dt = 10**self.logdt\n",
    "        batch_size = int(self.batch_size_ratio*X_train.shape[0])\n",
    "        sgld_samples, sgld_grads = sgld_time_budget_CV(key, val_and_grad_log_post,\n",
    "                                            X_train, y_train, time_budget, dt,\n",
    "                                            batch_size, x_0, x_0)\n",
    "        return sgld_samples[::self.thin_step], batch_grad_lp_LR_fb(sgld_samples[::self.thin_step])\n"
   ]
  },
  {
   "cell_type": "markdown",
   "metadata": {},
   "source": [
    "### test the timed sampler"
   ]
  },
  {
   "cell_type": "code",
   "execution_count": 6,
   "metadata": {},
   "outputs": [
    {
     "name": "stdout",
     "output_type": "stream",
     "text": [
      "25\n"
     ]
    }
   ],
   "source": [
    "my_sgld = LR_succ_halving(random.PRNGKey(0), logdt=-4., batch_size_ratio=1, thin_step=10)\n",
    "my_sgld.run(0.38)\n",
    "print(my_sgld.len_samples)"
   ]
  },
  {
   "cell_type": "code",
   "execution_count": null,
   "metadata": {},
   "outputs": [],
   "source": []
  },
  {
   "cell_type": "markdown",
   "metadata": {},
   "source": [
    "## SH-KSD for sgld\n",
    "\n",
    "Setup:     \n",
    "- n = 50 \n",
    "- R = 5 (ie: r= 0.385)\n",
    "- eta = 3\n",
    "- thin = 10\n",
    "- key = random.PRNGKey(11)\n",
    "\n",
    "Optimal:\n",
    "- log-dt: \n",
    "- batch_size_ratio: 0.385662\n",
    "- KSD: 13.58\n",
    "- Number of samples: 1220\n",
    "- Running time: 80seconds"
   ]
  },
  {
   "cell_type": "code",
   "execution_count": 5,
   "metadata": {},
   "outputs": [
    {
     "name": "stdout",
     "output_type": "stream",
     "text": [
      "r=0.100\n",
      "Number of iterations: 4\n",
      "Total budget: around 36 sec\n",
      "=====\n",
      "\n",
      "Iteration 0: 90 configurations with 0.100 seconds each\n",
      "Combinations: [(-6.7614675, 0.0012328465), (-4.8720913, 0.35111916), (-4.196574, 0.0061359066), (-6.514867, 0.023101298), (-2.3158832, 0.0011497568), (-5.3547263, 0.006579331), (-4.380795, 0.0013219408), (-6.0954447, 0.107226714), (-6.086427, 0.0020092328), (-4.238162, 0.7054802), (-5.136458, 0.023101298), (-5.20208, 0.0061359066), (-4.3048887, 0.011497568), (-2.4910178, 0.004328762), (-2.3652296, 0.06579333), (-4.7542963, 0.49770236), (-4.9127307, 0.15199111), (-4.9345994, 0.07564633), (-5.8195796, 0.0018738173), (-5.489498, 0.35111916), (-4.2208314, 0.7054802), (-2.0716438, 0.49770236), (-3.830347, 0.046415884), (-6.642359, 0.015199109), (-6.5979686, 0.0026560882), (-3.601017, 0.09326034), (-2.4829845, 0.0057223677), (-2.0622888, 0.003274549), (-5.312859, 0.0028480361), (-6.6899705, 0.00811131), (-6.5973353, 0.020092327), (-3.300809, 0.16297507), (-3.6415071, 0.12328467), (-5.3488154, 0.040370174), (-6.4307084, 0.0070548006), (-3.9303374, 0.011497568), (-2.4651623, 0.0020092328), (-5.237897, 0.49770236), (-5.1650662, 0.0057223677), (-4.61033, 0.01629751), (-2.1137013, 0.40370172), (-4.2126064, 0.021544348), (-5.9730434, 0.0035111913), (-3.4784913, 0.0012328465), (-3.8546467, 0.5722368), (-6.766082, 0.023101298), (-2.0575504, 0.03274549), (-2.1944437, 0.003274549), (-2.320611, 0.028480362), (-2.3064404, 0.1), (-4.0811443, 0.011497568), (-6.93069, 0.0011497568), (-5.43766, 0.01), (-2.7600641, 0.3274549), (-6.695351, 0.061359067), (-3.4207144, 0.14174742), (-2.1828346, 0.5722368), (-6.5567255, 0.028480362), (-2.7616973, 0.01), (-4.3764973, 0.23101297), (-4.9376864, 0.004328762), (-4.2313337, 0.06579333), (-6.5727167, 0.8111308), (-6.26281, 0.006579331), (-4.1038604, 0.008697491), (-4.3699026, 0.5336699), (-2.935564, 0.35111916), (-3.9071417, 0.1), (-6.700875, 0.0132194115), (-5.798153, 0.08111308), (-4.9617405, 0.4328761), (-3.2145061, 0.14174742), (-2.238257, 0.006579331), (-6.7146463, 0.7054802), (-5.4874983, 0.018738173), (-3.2662773, 0.0017475284), (-4.7232428, 0.24770762), (-2.353866, 0.0013219408), (-4.5397882, 0.0035111913), (-2.9230847, 0.0057223677), (-4.803461, 0.012328468), (-4.7849436, 0.002310129), (-3.6361384, 0.023101298), (-2.1571007, 0.004977024), (-2.1366448, 0.8111308), (-6.337961, 0.043287612), (-4.618005, 0.20092331), (-2.2699327, 0.012328468), (-3.6450799, 0.0020092328), (-4.2645264, 0.07564633)]\n",
      "Number of samples: \n",
      "[54, 13, 59, 60, 55, 61, 55, 23, 58, 8, 58, 60, 60, 59, 35, 11, 19, 32, 58, 13, 8, 11, 45, 60, 58, 27, 61, 59, 54, 62, 53, 18, 22, 48, 63, 64, 58, 11, 61, 63, 12, 61, 59, 57, 10, 58, 63, 58, 61, 26, 62, 59, 65, 13, 36, 16, 8, 62, 59, 16, 59, 36, 8, 62, 63, 10, 13, 27, 64, 31, 12, 21, 61, 8, 58, 59, 16, 58, 60, 62, 62, 58, 60, 59, 8, 44, 18, 61, 58, 32]\n",
      "Calculating KSD for each sampler\n",
      "Calculating KSD for each sampler\n",
      "\n",
      "Iteration 1: 30 configurations with 0.300 seconds each\n",
      "Combinations: [(-4.2126064, 0.021544348), (-3.9071417, 0.1), (-4.2645264, 0.07564633), (-4.2313337, 0.06579333), (-5.1650662, 0.0057223677), (-4.61033, 0.01629751), (-4.3048887, 0.011497568), (-4.3764973, 0.23101297), (-4.9376864, 0.004328762), (-4.9345994, 0.07564633), (-3.830347, 0.046415884), (-4.618005, 0.20092331), (-5.20208, 0.0061359066), (-4.5397882, 0.0035111913), (-5.136458, 0.023101298), (-4.803461, 0.012328468), (-4.0811443, 0.011497568), (-4.2208314, 0.7054802), (-3.6361384, 0.023101298), (-4.238162, 0.7054802), (-4.7232428, 0.24770762), (-5.3488154, 0.040370174), (-4.3699026, 0.5336699), (-4.196574, 0.0061359066), (-3.9303374, 0.011497568), (-4.1038604, 0.008697491), (-4.9127307, 0.15199111), (-3.601017, 0.09326034), (-3.8546467, 0.5722368), (-3.6415071, 0.12328467)]\n",
      "Number of samples: \n",
      "[241, 100, 123, 142, 238, 250, 252, 66, 238, 129, 184, 70, 243, 233, 236, 256, 255, 30, 240, 31, 65, 171, 39, 246, 247, 246, 76, 108, 38, 86]\n",
      "Calculating KSD for each sampler\n",
      "Calculating KSD for each sampler\n",
      "\n",
      "Iteration 2: 10 configurations with 0.900 seconds each\n",
      "Combinations: [(-4.2126064, 0.021544348), (-4.2313337, 0.06579333), (-4.2645264, 0.07564633), (-3.9071417, 0.1), (-4.61033, 0.01629751), (-4.9345994, 0.07564633), (-4.618005, 0.20092331), (-5.136458, 0.023101298), (-4.3764973, 0.23101297), (-3.830347, 0.046415884)]\n",
      "Number of samples: \n",
      "[781, 425, 390, 299, 767, 400, 226, 759, 209, 591]\n",
      "Calculating KSD for each sampler\n",
      "Calculating KSD for each sampler\n",
      "\n",
      "Iteration 3: 3 configurations with 2.700 seconds each\n",
      "Combinations: [(-4.2645264, 0.07564633), (-4.61033, 0.01629751), (-4.3764973, 0.23101297)]\n",
      "Number of samples: \n",
      "[1234, 2358, 602]\n",
      "Calculating KSD for each sampler\n",
      "Calculating KSD for each sampler\n",
      "Running time: 161.29sec\n"
     ]
    }
   ],
   "source": [
    "\n",
    "R = 4\n",
    "n = 90 # number of step sizes to try at first\n",
    "r = R/40\n",
    "thin_step = 10\n",
    "eta = 3 # cut trials by 3 every time\n",
    "\n",
    "print(f\"r={r:.3f}\")\n",
    "key = random.PRNGKey(11)\n",
    "\n",
    "\n",
    "sampler_dict_sgld = run_SH_time_budget_keep_3(key, r, n ,eta, thin_step, \n",
    "                                          LR_succ_halving, create_T_list_2params, X_train.shape[0])\n"
   ]
  },
  {
   "cell_type": "code",
   "execution_count": null,
   "metadata": {},
   "outputs": [],
   "source": []
  },
  {
   "cell_type": "code",
   "execution_count": 10,
   "metadata": {},
   "outputs": [
    {
     "name": "stdout",
     "output_type": "stream",
     "text": [
      "(-4.511118, 0.053366996) 15390 13.574863\n",
      "(-4.799613, 0.040370174) 17870 14.850996\n",
      "(-3.9642854, 0.07054803) 12820 16.92991\n"
     ]
    }
   ],
   "source": [
    "# key = 9\n",
    "for k,v in sampler_dict_sgld.items():\n",
    "    print(k, v.len_samples*10, v.KSD)"
   ]
  },
  {
   "cell_type": "code",
   "execution_count": 12,
   "metadata": {},
   "outputs": [
    {
     "name": "stdout",
     "output_type": "stream",
     "text": [
      "(-4.7738333, 0.035111915) 22680 11.919692\n",
      "(-5.031511, 0.061359067) 13700 16.949902\n",
      "(-4.1827707, 0.24770762) 5990 17.905048\n"
     ]
    }
   ],
   "source": [
    "# key = 10\n",
    "for k,v in sampler_dict_sgld.items():\n",
    "    print(k, v.len_samples*10, v.KSD)"
   ]
  },
  {
   "cell_type": "code",
   "execution_count": 14,
   "metadata": {},
   "outputs": [
    {
     "name": "stdout",
     "output_type": "stream",
     "text": [
      "(-4.2600718, 0.20092331) 6570 7.1215034\n",
      "(-3.866678, 0.21544346) 6550 10.553577\n",
      "(-4.0341845, 0.18738173) 7110 10.580689\n"
     ]
    }
   ],
   "source": [
    "# key = 11\n",
    "for k,v in sampler_dict_sgld.items():\n",
    "    print(k, v.len_samples*10, v.KSD)"
   ]
  },
  {
   "cell_type": "code",
   "execution_count": null,
   "metadata": {},
   "outputs": [],
   "source": []
  },
  {
   "cell_type": "code",
   "execution_count": null,
   "metadata": {},
   "outputs": [],
   "source": []
  },
  {
   "cell_type": "code",
   "execution_count": null,
   "metadata": {},
   "outputs": [],
   "source": []
  },
  {
   "cell_type": "markdown",
   "metadata": {},
   "source": [
    "### `R=1`"
   ]
  },
  {
   "cell_type": "code",
   "execution_count": 19,
   "metadata": {},
   "outputs": [
    {
     "name": "stdout",
     "output_type": "stream",
     "text": [
      "r=0.025\n",
      "Number of iterations: 4\n",
      "Total budget: around 9 sec\n",
      "=====\n",
      "\n",
      "Iteration 0: 90 configurations with 0.025 seconds each\n",
      "Combinations: [(-3.4433675, 0.0040370165), (-4.4231825, 0.006579331), (-3.9642854, 0.07054803), (-2.8671837, 0.0012328465), (-6.2057047, 0.15199111), (-4.8681126, 0.46415886), (-2.6503396, 0.4328761), (-3.8863468, 0.30538556), (-4.720053, 0.23101297), (-3.3859363, 0.001629751), (-6.7969246, 0.07564633), (-6.2979455, 0.030538555), (-5.5268173, 0.003274549), (-3.9103491, 0.7054802), (-6.337294, 0.09326034), (-6.772856, 0.03274549), (-6.7959814, 0.14174742), (-6.5345078, 0.09326034), (-2.363896, 0.004977024), (-3.0675173, 0.20092331), (-2.729498, 0.75646335), (-5.003339, 0.16297507), (-6.271402, 0.1), (-5.465701, 0.01629751), (-5.5203934, 0.009326034), (-2.6838698, 0.00811131), (-4.7055426, 0.16297507), (-4.3265266, 0.65793324), (-2.812302, 0.01), (-2.6232338, 0.0075646355), (-4.6651335, 0.28480357), (-4.511118, 0.053366996), (-3.5245562, 0.7054802), (-2.3279161, 0.35111916), (-3.8062978, 0.01), (-3.9460015, 0.5722368), (-2.338437, 0.0075646355), (-3.5112085, 0.46415886), (-4.6027365, 0.0018738173), (-3.9000216, 0.0010722672), (-3.798426, 0.0014174745), (-4.276208, 0.40370172), (-3.3527112, 0.0057223677), (-5.8466115, 0.0021544343), (-2.8283734, 0.23101297), (-5.9235706, 0.008697491), (-5.178008, 0.0053366995), (-3.2512083, 0.01629751), (-4.9305415, 0.01), (-5.5712047, 0.053366996), (-4.4940004, 0.008697491), (-6.2063956, 0.30538556), (-5.9377747, 0.49770236), (-6.1690063, 0.011497568), (-4.0977187, 0.13219412), (-6.526188, 0.18738173), (-6.715473, 0.023101298), (-6.035885, 0.3274549), (-4.8712654, 0.0017475284), (-3.191361, 1.0), (-4.118311, 0.028480362), (-6.6749086, 0.0061359066), (-4.895282, 0.0010722672), (-4.486451, 0.107226714), (-4.7546587, 0.14174742), (-2.6696362, 0.2656088), (-4.8507514, 0.07054803), (-5.963274, 0.08111308), (-5.891063, 0.5336699), (-4.2787304, 0.003764935), (-2.8365436, 0.28480357), (-4.799613, 0.040370174), (-6.0421667, 0.0024770768), (-3.0915494, 0.0057223677), (-4.706832, 0.37649357), (-6.7562323, 0.015199109), (-3.991489, 0.0046415897), (-6.620176, 0.008697491), (-5.433982, 0.49770236), (-5.3751593, 0.0020092328), (-2.0190663, 0.010722672), (-5.810585, 0.0026560882), (-6.624015, 0.012328468), (-3.3431776, 0.3274549), (-5.6074657, 0.0028480361), (-2.2353039, 0.023101298), (-2.3406663, 0.01), (-3.6446953, 0.30538556), (-5.12051, 0.0018738173), (-6.044893, 0.006579331)]\n",
      "Number of samples: \n",
      "[12, 15, 8, 14, 5, 3, 3, 3, 4, 13, 7, 14, 13, 2, 7, 14, 5, 7, 14, 5, 2, 5, 7, 15, 15, 15, 5, 3, 14, 14, 4, 9, 2, 3, 15, 3, 14, 3, 14, 13, 13, 3, 14, 13, 4, 15, 14, 14, 15, 10, 15, 4, 3, 15, 6, 5, 15, 3, 14, 2, 15, 14, 13, 6, 5, 4, 8, 7, 3, 14, 4, 12, 14, 15, 4, 15, 14, 15, 3, 14, 15, 14, 15, 4, 14, 15, 15, 4, 14, 15]\n",
      "Calculating KSD for each sampler\n",
      "\n",
      "Iteration 1: 30 configurations with 0.075 seconds each\n",
      "Combinations: [(-4.0977187, 0.13219412), (-4.486451, 0.107226714), (-4.799613, 0.040370174), (-3.9460015, 0.5722368), (-5.178008, 0.0053366995), (-4.3265266, 0.65793324), (-4.9305415, 0.01), (-3.9642854, 0.07054803), (-4.7055426, 0.16297507), (-4.6651335, 0.28480357), (-4.7546587, 0.14174742), (-4.511118, 0.053366996), (-4.276208, 0.40370172), (-4.4231825, 0.006579331), (-3.8863468, 0.30538556), (-4.8507514, 0.07054803), (-5.003339, 0.16297507), (-4.4940004, 0.008697491), (-5.465701, 0.01629751), (-4.720053, 0.23101297), (-4.118311, 0.028480362), (-4.706832, 0.37649357), (-5.5712047, 0.053366996), (-5.9235706, 0.008697491), (-3.9103491, 0.7054802), (-4.2787304, 0.003764935), (-6.0421667, 0.0024770768), (-4.8681126, 0.46415886), (-3.6446953, 0.30538556), (-5.8466115, 0.0021544343)]\n",
      "Number of samples: \n",
      "[22, 24, 46, 10, 52, 9, 58, 32, 19, 14, 20, 38, 12, 58, 14, 32, 19, 59, 56, 16, 58, 13, 39, 57, 8, 55, 54, 11, 14, 52]\n",
      "Calculating KSD for each sampler\n",
      "\n",
      "Iteration 2: 10 configurations with 0.225 seconds each\n",
      "Combinations: [(-3.8863468, 0.30538556), (-4.118311, 0.028480362), (-3.9642854, 0.07054803), (-3.9460015, 0.5722368), (-4.486451, 0.107226714), (-4.0977187, 0.13219412), (-4.3265266, 0.65793324), (-4.799613, 0.040370174), (-4.276208, 0.40370172), (-4.511118, 0.053366996)]\n",
      "Number of samples: \n",
      "[44, 182, 104, 30, 78, 68, 27, 145, 37, 121]\n",
      "Calculating KSD for each sampler\n",
      "\n",
      "Iteration 3: 3 configurations with 0.675 seconds each\n",
      "Combinations: [(-3.9460015, 0.5722368), (-3.8863468, 0.30538556), (-4.3265266, 0.65793324)]\n",
      "Number of samples: \n",
      "[89, 131, 81]\n",
      "Calculating KSD for each sampler\n",
      "Running time: 13.80sec\n"
     ]
    }
   ],
   "source": [
    "R = 1\n",
    "n = 90 # number of step sizes to try at first\n",
    "r = R/40\n",
    "thin_step = 10\n",
    "eta = 3 # cut trials by 3 every time\n",
    "\n",
    "print(f\"r={r:.3f}\")\n",
    "key = random.PRNGKey(9)\n",
    "\n",
    "\n",
    "sampler_dict_sgld = run_SH_time_budget_keep_3(key, r, n ,eta, thin_step, \n",
    "                                          LR_succ_halving, create_T_list_2params, X_train.shape[0])\n"
   ]
  },
  {
   "cell_type": "code",
   "execution_count": 20,
   "metadata": {},
   "outputs": [
    {
     "name": "stdout",
     "output_type": "stream",
     "text": [
      "(-3.9460015, 0.5722368) 890 17.049875\n",
      "(-3.8863468, 0.30538556) 1310 26.34693\n",
      "(-4.3265266, 0.65793324) 810 28.074753\n"
     ]
    }
   ],
   "source": [
    "# key=9, R=1\n",
    "for k,v in sampler_dict_sgld.items():\n",
    "    print(k, v.len_samples*10, v.KSD)"
   ]
  },
  {
   "cell_type": "code",
   "execution_count": 18,
   "metadata": {},
   "outputs": [
    {
     "name": "stdout",
     "output_type": "stream",
     "text": [
      "(-4.7738333, 0.035111915) 5700 21.386074\n",
      "(-4.315283, 0.020092327) 5310 23.503254\n",
      "(-4.1827707, 0.24770762) 1480 35.39482\n"
     ]
    }
   ],
   "source": [
    "# key=10, R=1\n",
    "for k,v in sampler_dict_sgld.items():\n",
    "    print(k, v.len_samples*10, v.KSD)"
   ]
  },
  {
   "cell_type": "code",
   "execution_count": 16,
   "metadata": {},
   "outputs": [
    {
     "name": "stdout",
     "output_type": "stream",
     "text": [
      "(-5.104823, 0.037649363) 3820 14.916181\n",
      "(-4.7591095, 0.03274549) 5140 15.266425\n",
      "(-3.962039, 0.1) 2270 26.477127\n"
     ]
    }
   ],
   "source": [
    "# key=11, R=1\n",
    "for k,v in sampler_dict_sgld.items():\n",
    "    print(k, v.len_samples*10, v.KSD)"
   ]
  },
  {
   "cell_type": "code",
   "execution_count": null,
   "metadata": {},
   "outputs": [],
   "source": []
  },
  {
   "cell_type": "code",
   "execution_count": null,
   "metadata": {},
   "outputs": [],
   "source": []
  },
  {
   "cell_type": "code",
   "execution_count": 63,
   "metadata": {},
   "outputs": [
    {
     "name": "stdout",
     "output_type": "stream",
     "text": [
      "Iteration 1: n=250\n",
      "Iteration 2: n=83\n",
      "Iteration 3: n=27\n",
      "Iteration 4: n=9\n",
      "Iteration 5: n=3\n"
     ]
    }
   ],
   "source": [
    "n = 250\n",
    "\n",
    "idx = 1\n",
    "\n",
    "print(f\"Iteration {idx}: n={n}\")\n",
    "while n > 3:\n",
    "    idx += 1\n",
    "    n = int(n/3)\n",
    "    print(f\"Iteration {idx}: n={n}\")\n"
   ]
  },
  {
   "cell_type": "code",
   "execution_count": null,
   "metadata": {},
   "outputs": [],
   "source": []
  },
  {
   "cell_type": "code",
   "execution_count": null,
   "metadata": {},
   "outputs": [],
   "source": []
  },
  {
   "cell_type": "code",
   "execution_count": null,
   "metadata": {},
   "outputs": [],
   "source": []
  },
  {
   "cell_type": "code",
   "execution_count": null,
   "metadata": {},
   "outputs": [],
   "source": []
  },
  {
   "cell_type": "markdown",
   "metadata": {},
   "source": [
    "## SGLD with control variates"
   ]
  },
  {
   "cell_type": "code",
   "execution_count": 9,
   "metadata": {},
   "outputs": [
    {
     "data": {
      "text/plain": [
       "Text(0, 0.5, 'KSD')"
      ]
     },
     "execution_count": 9,
     "metadata": {},
     "output_type": "execute_result"
    },
    {
     "data": {
      "image/png": "[encoded data removed]",
      "text/plain": [
       "<Figure size 432x288 with 1 Axes>"
      ]
     },
     "metadata": {
      "needs_background": "light"
     },
     "output_type": "display_data"
    }
   ],
   "source": [
    "my_sgld = LR_CV_succ_halving(random.PRNGKey(0), logdt=-4., batch_size_ratio=0.1, thin_step=1)\n",
    "\n",
    "num_l = 2\n",
    "\n",
    "ksd_list = []\n",
    "\n",
    "\n",
    "for i in range(num_l):\n",
    "    my_sgld.run(0.4)\n",
    "    ksd_list.append(my_sgld.get_ksd())\n",
    "\n",
    "plt.plot(ksd_list, marker=\"+\")\n",
    "plt.ylabel(\"KSD\", size=18)"
   ]
  },
  {
   "cell_type": "code",
   "execution_count": 65,
   "metadata": {},
   "outputs": [],
   "source": [
    "my_sampler = LR_CV_succ_halving(random.PRNGKey(8), logdt=-3.50, batch_size_ratio=0.0071, thin_step=10)"
   ]
  },
  {
   "cell_type": "code",
   "execution_count": 66,
   "metadata": {},
   "outputs": [],
   "source": [
    "my_sampler.run(5)"
   ]
  },
  {
   "cell_type": "markdown",
   "metadata": {},
   "source": [
    "### `R=5`"
   ]
  },
  {
   "cell_type": "code",
   "execution_count": 8,
   "metadata": {},
   "outputs": [
    {
     "name": "stdout",
     "output_type": "stream",
     "text": [
      "Number of iterations: 4\n",
      "Total budget: around 45 sec\n",
      "=====\n",
      "\n",
      "Iteration 0: 90 configurations with 0.125 seconds each\n",
      "Combinations: [(-5.306595, 0.0021544343), (-2.8578467, 0.026560875), (-2.813631, 0.24770762), (-6.8268127, 0.07564633), (-2.7456803, 0.008697491), (-3.20741, 0.003274549), (-6.9501367, 0.014174741), (-6.618705, 0.014174741), (-5.5251026, 0.006579331), (-6.099063, 0.024770763), (-5.8108654, 0.37649357), (-5.69029, 0.020092327), (-4.58438, 0.0012328465), (-2.2129579, 0.002310129), (-5.3010254, 0.053366996), (-5.2359133, 0.23101297), (-4.33978, 0.107226714), (-3.932627, 0.75646335), (-4.480337, 0.01629751), (-6.3276334, 0.017475285), (-2.5662603, 0.18738173), (-4.9962387, 0.12328467), (-4.595799, 0.020092327), (-3.5173988, 0.869749), (-3.5182252, 0.23101297), (-5.5540276, 0.0018738173), (-4.608241, 0.0075646355), (-6.8853774, 0.030538555), (-3.590908, 0.35111916), (-4.589405, 0.13219412), (-2.4927673, 0.1), (-2.3279972, 0.869749), (-2.776041, 0.024770763), (-5.193338, 0.0132194115), (-4.4590545, 0.0132194115), (-4.711067, 0.03274549), (-2.3603907, 0.01629751), (-2.200138, 0.37649357), (-2.1448116, 0.15199111), (-3.9161386, 0.043287612), (-4.3686786, 0.0035111913), (-5.7666273, 0.009326034), (-3.542313, 0.012328468), (-4.4990587, 0.03274549), (-2.920062, 0.0014174745), (-6.230544, 0.17475285), (-3.1760707, 0.0021544343), (-3.821999, 0.75646335), (-6.099007, 0.024770763), (-2.8576865, 0.053366996), (-2.779129, 0.006579331), (-5.1558137, 0.40370172), (-2.3143682, 0.14174742), (-4.133911, 0.0011497568), (-4.929039, 0.23101297), (-4.277753, 0.035111915), (-2.981389, 0.00811131), (-2.2914228, 0.0017475284), (-5.124876, 0.012328468), (-4.385339, 0.0040370165), (-6.0100913, 0.008697491), (-6.4534063, 0.040370174), (-6.56748, 0.030538555), (-2.8223968, 0.07564633), (-2.3038645, 0.06579333), (-4.8891587, 0.0035111913), (-5.804023, 0.0046415897), (-3.7716293, 0.0053366995), (-3.648848, 0.011497568), (-6.9546423, 0.09326034), (-3.4098036, 0.0070548006), (-6.3429832, 0.13219412), (-6.2879095, 0.0057223677), (-4.7615137, 0.01629751), (-4.1261644, 0.0018738173), (-6.5222874, 0.1149757), (-4.420045, 0.0132194115), (-4.377391, 0.0075646355), (-5.4517455, 0.046415884), (-4.1899624, 0.0018738173), (-6.8068976, 0.046415884), (-4.8581944, 0.0030538556), (-4.7663713, 0.4328761), (-5.7811193, 0.17475285), (-5.987568, 0.037649363), (-4.495532, 0.057223674), (-4.8999004, 0.14174742), (-6.9996767, 0.46415886), (-5.1671343, 0.75646335), (-3.9943695, 0.08697491)]\n",
      "Number of samples: \n",
      "[68, 72, 15, 31, 72, 69, 73, 68, 75, 75, 12, 70, 67, 65, 43, 17, 26, 6, 67, 71, 19, 22, 70, 7, 16, 64, 72, 68, 12, 21, 27, 7, 71, 73, 72, 65, 67, 12, 20, 50, 70, 75, 73, 67, 68, 20, 68, 7, 73, 41, 74, 11, 21, 66, 16, 62, 73, 66, 69, 70, 70, 52, 70, 32, 37, 69, 73, 73, 69, 29, 74, 22, 73, 71, 64, 23, 70, 71, 49, 68, 49, 69, 10, 20, 51, 39, 20, 10, 6, 30]\n",
      "Calculating KSD for each sampler\n",
      "Calculating KSD for each sampler\n",
      "\n",
      "Iteration 1: 30 configurations with 0.375 seconds each\n",
      "Combinations: [(-3.7716293, 0.0053366995), (-3.648848, 0.011497568), (-4.133911, 0.0011497568), (-4.4590545, 0.0132194115), (-4.420045, 0.0132194115), (-4.277753, 0.035111915), (-3.542313, 0.012328468), (-4.385339, 0.0040370165), (-4.4990587, 0.03274549), (-4.58438, 0.0012328465), (-4.1899624, 0.0018738173), (-4.377391, 0.0075646355), (-3.9161386, 0.043287612), (-4.3686786, 0.0035111913), (-4.480337, 0.01629751), (-4.595799, 0.020092327), (-4.608241, 0.0075646355), (-4.1261644, 0.0018738173), (-3.590908, 0.35111916), (-4.711067, 0.03274549), (-3.4098036, 0.0070548006), (-4.7615137, 0.01629751), (-4.8581944, 0.0030538556), (-3.9943695, 0.08697491), (-4.8891587, 0.0035111913), (-3.5173988, 0.869749), (-4.33978, 0.107226714), (-5.124876, 0.012328468), (-5.193338, 0.0132194115), (-4.495532, 0.057223674)]\n",
      "Number of samples: \n",
      "[286, 272, 263, 279, 280, 249, 277, 276, 250, 263, 264, 290, 188, 244, 244, 251, 262, 247, 46, 256, 292, 282, 275, 121, 274, 25, 101, 267, 275, 155]\n",
      "Calculating KSD for each sampler\n",
      "Calculating KSD for each sampler\n",
      "\n",
      "Iteration 2: 10 configurations with 1.125 seconds each\n",
      "Combinations: [(-3.7716293, 0.0053366995), (-4.133911, 0.0011497568), (-4.277753, 0.035111915), (-4.1261644, 0.0018738173), (-4.1899624, 0.0018738173), (-4.377391, 0.0075646355), (-4.385339, 0.0040370165), (-3.9161386, 0.043287612), (-4.3686786, 0.0035111913), (-3.542313, 0.012328468)]\n",
      "Number of samples: \n",
      "[502, 470, 355, 388, 440, 492, 447, 356, 444, 494]\n",
      "Calculating KSD for each sampler\n",
      "Calculating KSD for each sampler\n",
      "\n",
      "Iteration 3: 3 configurations with 3.375 seconds each\n",
      "Combinations: [(-4.277753, 0.035111915), (-4.1261644, 0.0018738173), (-4.1899624, 0.0018738173)]\n",
      "Number of samples: \n",
      "[1010, 1031, 1080]\n",
      "Calculating KSD for each sampler\n",
      "Calculating KSD for each sampler\n",
      "Running time: 148.77sec\n"
     ]
    }
   ],
   "source": [
    "R = 5   \n",
    "thin_step = 10\n",
    "r = R/40\n",
    "n = 90\n",
    "eta = 3\n",
    "\n",
    "key = random.PRNGKey(9)\n",
    "\n",
    "sampler_dict_sgldCV = run_SH_time_budget_keep_3(key, r, n ,eta, thin_step, \n",
    "                                          LR_CV_succ_halving, create_T_list_2params, X_train.shape[0])"
   ]
  },
  {
   "cell_type": "code",
   "execution_count": null,
   "metadata": {},
   "outputs": [],
   "source": []
  },
  {
   "cell_type": "code",
   "execution_count": null,
   "metadata": {},
   "outputs": [],
   "source": []
  },
  {
   "cell_type": "code",
   "execution_count": 68,
   "metadata": {},
   "outputs": [
    {
     "name": "stdout",
     "output_type": "stream",
     "text": [
      "(-3.8062978, 0.01) 26510 5.0105863\n",
      "(-3.798426, 0.0014174745) 24160 5.347859\n",
      "(-3.991489, 0.0046415897) 24710 6.148113\n"
     ]
    }
   ],
   "source": [
    "# key = 9, R=5\n",
    "for k,v in sampler_dict_sgldCV.items():\n",
    "    print(k, v.len_samples*10, v.KSD)"
   ]
  },
  {
   "cell_type": "code",
   "execution_count": 70,
   "metadata": {},
   "outputs": [
    {
     "name": "stdout",
     "output_type": "stream",
     "text": [
      "(-3.9246058, 0.0057223677) 26560 4.9681315\n",
      "(-3.914311, 0.008697491) 26960 5.4526114\n",
      "(-3.9236398, 0.0035111913) 25180 5.524995\n"
     ]
    }
   ],
   "source": [
    "# key = 10, R=5\n",
    "for k,v in sampler_dict_sgldCV.items():\n",
    "    print(k, v.len_samples*10, v.KSD)"
   ]
  },
  {
   "cell_type": "code",
   "execution_count": 72,
   "metadata": {},
   "outputs": [
    {
     "name": "stdout",
     "output_type": "stream",
     "text": [
      "(-3.8863416, 0.0018738173) 23190 5.2568235\n",
      "(-4.129985, 0.018738173) 24960 6.200722\n",
      "(-3.7366982, 0.008697491) 26080 6.778356\n"
     ]
    }
   ],
   "source": [
    "# key = 11, R=5\n",
    "for k,v in sampler_dict_sgldCV.items():\n",
    "    print(k, v.len_samples*10, v.KSD)"
   ]
  },
  {
   "cell_type": "code",
   "execution_count": null,
   "metadata": {},
   "outputs": [],
   "source": []
  },
  {
   "cell_type": "markdown",
   "metadata": {},
   "source": [
    "#### `R=1`"
   ]
  },
  {
   "cell_type": "code",
   "execution_count": 77,
   "metadata": {},
   "outputs": [
    {
     "name": "stdout",
     "output_type": "stream",
     "text": [
      "Number of iterations: 4\n",
      "Total budget: around 9 sec\n",
      "=====\n",
      "\n",
      "Iteration 0: 90 configurations with 0.025 seconds each\n",
      "Combinations: [(-6.691705, 0.040370174), (-5.333425, 0.035111915), (-4.2600718, 0.20092331), (-5.947973, 0.0011497568), (-2.564187, 0.01629751), (-3.6799986, 0.0014174745), (-2.169177, 0.0061359066), (-4.756286, 0.93260336), (-2.0947132, 0.46415886), (-5.253189, 0.24770762), (-2.7692327, 0.65793324), (-4.994371, 0.3274549), (-6.644969, 0.043287612), (-6.897544, 0.061359067), (-3.0132246, 0.011497568), (-5.4574037, 0.75646335), (-3.6857858, 0.0057223677), (-3.9267642, 0.37649357), (-6.0422287, 0.1), (-4.5916057, 0.001), (-4.597066, 0.09326034), (-3.866678, 0.21544346), (-6.729099, 0.0018738173), (-3.3585324, 0.49770236), (-6.271691, 0.030538555), (-5.619017, 0.0017475284), (-2.4047012, 0.0028480361), (-2.5443726, 0.0057223677), (-4.985343, 0.46415886), (-2.2587037, 0.7054802), (-5.500347, 0.20092331), (-2.1120667, 0.003274549), (-2.529851, 0.0075646355), (-5.104823, 0.037649363), (-5.0260963, 0.12328467), (-2.0226107, 0.017475285), (-6.2899365, 0.040370174), (-3.1881704, 0.004977024), (-3.2797868, 0.001629751), (-6.3635683, 0.015199109), (-6.802492, 0.020092327), (-4.4440236, 0.004977024), (-3.2600465, 0.014174741), (-3.7366982, 0.008697491), (-3.6512294, 0.30538556), (-3.3997107, 0.8111308), (-5.6732965, 0.053366996), (-4.5817213, 0.7054802), (-4.129985, 0.018738173), (-3.0915499, 0.107226714), (-5.8595886, 0.002310129), (-6.434228, 0.28480357), (-2.6455927, 0.0020092328), (-5.3232794, 0.0015199113), (-3.52909, 0.04977024), (-5.837098, 0.12328467), (-3.8822062, 0.08697491), (-3.3534946, 0.46415886), (-6.7024975, 0.14174742), (-6.0075397, 0.6135907), (-5.0398197, 0.14174742), (-4.0341845, 0.18738173), (-5.4085217, 1.0), (-3.201219, 0.057223674), (-6.8474984, 0.37649357), (-3.5248513, 0.001), (-2.4129057, 0.009326034), (-2.2394524, 0.04977024), (-4.9261665, 0.5722368), (-5.85377, 0.107226714), (-2.6099482, 0.0021544343), (-3.2018251, 0.869749), (-3.0209875, 0.035111915), (-5.192065, 0.004328762), (-2.7428293, 0.023101298), (-2.9228468, 0.037649363), (-6.663993, 0.21544346), (-6.729976, 0.0014174745), (-6.311826, 0.37649357), (-3.962039, 0.1), (-4.718034, 0.053366996), (-3.8863416, 0.0018738173), (-2.9414864, 0.010722672), (-4.7591095, 0.03274549), (-3.11103, 0.003764935), (-6.4147816, 0.020092327), (-3.7856593, 0.8111308), (-6.8728485, 0.010722672), (-2.5273438, 0.08697491), (-2.0942845, 0.018738173)]\n",
      "Number of samples: \n",
      "[8, 12, 4, 13, 13, 13, 14, 2, 2, 4, 2, 3, 9, 7, 14, 2, 14, 3, 6, 12, 6, 4, 13, 2, 13, 13, 13, 14, 2, 2, 4, 13, 14, 10, 5, 13, 10, 13, 13, 13, 13, 13, 13, 14, 3, 2, 8, 2, 13, 6, 13, 3, 13, 12, 9, 5, 6, 2, 4, 2, 4, 4, 1, 8, 3, 12, 13, 9, 2, 5, 12, 2, 11, 13, 13, 10, 4, 13, 3, 6, 7, 13, 14, 12, 13, 13, 2, 13, 6, 13]\n",
      "Calculating KSD for each sampler\n",
      "\n",
      "Iteration 1: 30 configurations with 0.075 seconds each\n",
      "Combinations: [(-4.129985, 0.018738173), (-3.52909, 0.04977024), (-3.8822062, 0.08697491), (-3.6799986, 0.0014174745), (-3.7366982, 0.008697491), (-3.962039, 0.1), (-4.7591095, 0.03274549), (-3.6857858, 0.0057223677), (-4.718034, 0.053366996), (-4.4440236, 0.004977024), (-4.5916057, 0.001), (-3.8863416, 0.0018738173), (-4.597066, 0.09326034), (-3.9267642, 0.37649357), (-3.866678, 0.21544346), (-5.104823, 0.037649363), (-4.2600718, 0.20092331), (-3.3997107, 0.8111308), (-3.6512294, 0.30538556), (-4.0341845, 0.18738173), (-5.192065, 0.004328762), (-5.3232794, 0.0015199113), (-5.333425, 0.035111915), (-3.7856593, 0.8111308), (-5.619017, 0.0017475284), (-5.0260963, 0.12328467), (-5.6732965, 0.053366996), (-5.8595886, 0.002310129), (-5.947973, 0.0011497568), (-5.0398197, 0.14174742)]\n",
      "Number of samples: \n",
      "[51, 35, 23, 49, 53, 22, 48, 53, 31, 51, 49, 49, 22, 10, 14, 39, 13, 6, 11, 15, 52, 49, 48, 6, 50, 19, 33, 45, 49, 17]\n",
      "Calculating KSD for each sampler\n",
      "\n",
      "Iteration 2: 10 configurations with 0.225 seconds each\n",
      "Combinations: [(-3.52909, 0.04977024), (-4.129985, 0.018738173), (-3.8822062, 0.08697491), (-3.6857858, 0.0057223677), (-4.5916057, 0.001), (-3.7366982, 0.008697491), (-4.4440236, 0.004977024), (-3.962039, 0.1), (-3.6799986, 0.0014174745), (-4.7591095, 0.03274549)]\n",
      "Number of samples: \n",
      "[115, 169, 72, 174, 155, 178, 165, 69, 159, 156]\n",
      "Calculating KSD for each sampler\n",
      "\n",
      "Iteration 3: 3 configurations with 0.675 seconds each\n",
      "Combinations: [(-3.52909, 0.04977024), (-3.8822062, 0.08697491), (-3.6857858, 0.0057223677)]\n",
      "Number of samples: \n",
      "[342, 225, 530]\n",
      "Calculating KSD for each sampler\n",
      "Running time: 15.23sec\n"
     ]
    }
   ],
   "source": [
    "R = 1\n",
    "thin_step = 10\n",
    "r = R/40\n",
    "n = 90\n",
    "eta = 3\n",
    "\n",
    "key = random.PRNGKey(11)\n",
    "\n",
    "\n",
    "sampler_dict_sgldCV = run_SH_time_budget_keep_3(key, r, n ,eta, thin_step, \n",
    "                                          LR_CV_succ_halving, create_T_list_2params, X_train.shape[0])"
   ]
  },
  {
   "cell_type": "code",
   "execution_count": 15,
   "metadata": {},
   "outputs": [
    {
     "name": "stdout",
     "output_type": "stream",
     "text": [
      "Number of iterations: 4\n",
      "Total budget: around 9 sec\n",
      "=====\n",
      "\n",
      "Iteration 0: 90 configurations with 0.025 seconds each\n",
      "Combinations: [(-6.7614675, 0.0012328465), (-4.8720913, 0.35111916), (-4.196574, 0.0061359066), (-6.514867, 0.023101298), (-2.3158832, 0.0011497568), (-5.3547263, 0.006579331), (-4.380795, 0.0013219408), (-6.0954447, 0.107226714), (-6.086427, 0.0020092328), (-4.238162, 0.7054802), (-5.136458, 0.023101298), (-5.20208, 0.0061359066), (-4.3048887, 0.011497568), (-2.4910178, 0.004328762), (-2.3652296, 0.06579333), (-4.7542963, 0.49770236), (-4.9127307, 0.15199111), (-4.9345994, 0.07564633), (-5.8195796, 0.0018738173), (-5.489498, 0.35111916), (-4.2208314, 0.7054802), (-2.0716438, 0.49770236), (-3.830347, 0.046415884), (-6.642359, 0.015199109), (-6.5979686, 0.0026560882), (-3.601017, 0.09326034), (-2.4829845, 0.0057223677), (-2.0622888, 0.003274549), (-5.312859, 0.0028480361), (-6.6899705, 0.00811131), (-6.5973353, 0.020092327), (-3.300809, 0.16297507), (-3.6415071, 0.12328467), (-5.3488154, 0.040370174), (-6.4307084, 0.0070548006), (-3.9303374, 0.011497568), (-2.4651623, 0.0020092328), (-5.237897, 0.49770236), (-5.1650662, 0.0057223677), (-4.61033, 0.01629751), (-2.1137013, 0.40370172), (-4.2126064, 0.021544348), (-5.9730434, 0.0035111913), (-3.4784913, 0.0012328465), (-3.8546467, 0.5722368), (-6.766082, 0.023101298), (-2.0575504, 0.03274549), (-2.1944437, 0.003274549), (-2.320611, 0.028480362), (-2.3064404, 0.1), (-4.0811443, 0.011497568), (-6.93069, 0.0011497568), (-5.43766, 0.01), (-2.7600641, 0.3274549), (-6.695351, 0.061359067), (-3.4207144, 0.14174742), (-2.1828346, 0.5722368), (-6.5567255, 0.028480362), (-2.7616973, 0.01), (-4.3764973, 0.23101297), (-4.9376864, 0.004328762), (-4.2313337, 0.06579333), (-6.5727167, 0.8111308), (-6.26281, 0.006579331), (-4.1038604, 0.008697491), (-4.3699026, 0.5336699), (-2.935564, 0.35111916), (-3.9071417, 0.1), (-6.700875, 0.0132194115), (-5.798153, 0.08111308), (-4.9617405, 0.4328761), (-3.2145061, 0.14174742), (-2.238257, 0.006579331), (-6.7146463, 0.7054802), (-5.4874983, 0.018738173), (-3.2662773, 0.0017475284), (-4.7232428, 0.24770762), (-2.353866, 0.0013219408), (-4.5397882, 0.0035111913), (-2.9230847, 0.0057223677), (-4.803461, 0.012328468), (-4.7849436, 0.002310129), (-3.6361384, 0.023101298), (-2.1571007, 0.004977024), (-2.1366448, 0.8111308), (-6.337961, 0.043287612), (-4.618005, 0.20092331), (-2.2699327, 0.012328468), (-3.6450799, 0.0020092328), (-4.2645264, 0.07564633)]\n",
      "Number of samples at iteration 0: 13\n",
      "Calculating KSD for each sampler\n",
      "\n",
      "Iteration 1: 30 configurations with 0.075 seconds each\n",
      "Combinations: [(-4.2126064, 0.021544348), (-4.1038604, 0.008697491), (-3.6415071, 0.12328467), (-4.0811443, 0.011497568), (-3.9071417, 0.1), (-4.196574, 0.0061359066), (-4.3048887, 0.011497568), (-3.9303374, 0.011497568), (-3.6361384, 0.023101298), (-4.5397882, 0.0035111913), (-3.830347, 0.046415884), (-4.2645264, 0.07564633), (-4.2313337, 0.06579333), (-4.61033, 0.01629751), (-4.7849436, 0.002310129), (-4.380795, 0.0013219408), (-4.803461, 0.012328468), (-4.9376864, 0.004328762), (-4.3764973, 0.23101297), (-5.1650662, 0.0057223677), (-5.136458, 0.023101298), (-5.20208, 0.0061359066), (-4.618005, 0.20092331), (-3.601017, 0.09326034), (-4.9345994, 0.07564633), (-5.3547263, 0.006579331), (-4.9127307, 0.15199111), (-5.312859, 0.0028480361), (-4.7232428, 0.24770762), (-4.2208314, 0.7054802)]\n",
      "Number of samples at iteration 1: 59\n",
      "Calculating KSD for each sampler\n",
      "\n",
      "Iteration 2: 10 configurations with 0.225 seconds each\n",
      "Combinations: [(-4.2126064, 0.021544348), (-4.1038604, 0.008697491), (-4.0811443, 0.011497568), (-3.9303374, 0.011497568), (-4.3048887, 0.011497568), (-4.196574, 0.0061359066), (-3.6361384, 0.023101298), (-3.830347, 0.046415884), (-4.5397882, 0.0035111913), (-3.9071417, 0.1)]\n",
      "Number of samples at iteration 2: 101\n",
      "Calculating KSD for each sampler\n",
      "\n",
      "Iteration 3: 3 configurations with 0.675 seconds each\n",
      "Combinations: [(-3.830347, 0.046415884), (-3.6361384, 0.023101298), (-4.2126064, 0.021544348)]\n",
      "Number of samples at iteration 3: 141\n",
      "Calculating KSD for each sampler\n",
      "Running time: 31.94sec\n"
     ]
    }
   ],
   "source": [
    "R = 1\n",
    "thin_step = 10\n",
    "r = R/40\n",
    "n = 90\n",
    "eta = 3\n",
    "\n",
    "key = random.PRNGKey(11)\n",
    "\n",
    "\n",
    "sampler_dict_sgldCV = run_SH_time_budget_keep_3(key, r, n ,eta, thin_step, \n",
    "                                          LR_CV_succ_halving, create_T_list_2params, X_train.shape[0])"
   ]
  },
  {
   "cell_type": "code",
   "execution_count": null,
   "metadata": {},
   "outputs": [],
   "source": []
  },
  {
   "cell_type": "code",
   "execution_count": 74,
   "metadata": {},
   "outputs": [
    {
     "name": "stdout",
     "output_type": "stream",
     "text": [
      "(-3.991489, 0.0046415897) 4960 11.811738\n",
      "(-3.8062978, 0.01) 5230 13.94952\n",
      "(-3.8863468, 0.30538556) 1050 14.105402\n"
     ]
    }
   ],
   "source": [
    "# key = 9, R=1\n",
    "for k,v in sampler_dict_sgldCV.items():\n",
    "    print(k, v.len_samples*10, v.KSD)"
   ]
  },
  {
   "cell_type": "code",
   "execution_count": 76,
   "metadata": {},
   "outputs": [
    {
     "name": "stdout",
     "output_type": "stream",
     "text": [
      "(-3.9246058, 0.0057223677) 5110 12.076752\n",
      "(-3.9236398, 0.0035111913) 4770 12.17029\n",
      "(-3.9197273, 0.002310129) 4690 15.65608\n"
     ]
    }
   ],
   "source": [
    "# key=10, R=1\n",
    "for k,v in sampler_dict_sgldCV.items():\n",
    "    print(k, v.len_samples*10, v.KSD)"
   ]
  },
  {
   "cell_type": "code",
   "execution_count": 78,
   "metadata": {},
   "outputs": [
    {
     "name": "stdout",
     "output_type": "stream",
     "text": [
      "(-3.6857858, 0.0057223677) 5300 7.9246235\n",
      "(-3.8822062, 0.08697491) 2250 8.234667\n",
      "(-3.52909, 0.04977024) 3420 8.929874\n"
     ]
    }
   ],
   "source": [
    "# key=11, R=1\n",
    "for k,v in sampler_dict_sgldCV.items():\n",
    "    print(k, v.len_samples*10, v.KSD)"
   ]
  },
  {
   "cell_type": "code",
   "execution_count": null,
   "metadata": {},
   "outputs": [],
   "source": []
  },
  {
   "cell_type": "code",
   "execution_count": null,
   "metadata": {},
   "outputs": [],
   "source": []
  },
  {
   "cell_type": "code",
   "execution_count": null,
   "metadata": {},
   "outputs": [],
   "source": []
  },
  {
   "cell_type": "code",
   "execution_count": null,
   "metadata": {},
   "outputs": [],
   "source": []
  },
  {
   "cell_type": "markdown",
   "metadata": {},
   "source": [
    "# SG-HMC: tune L as well as dt and b_s_r"
   ]
  },
  {
   "cell_type": "code",
   "execution_count": 79,
   "metadata": {},
   "outputs": [
    {
     "name": "stdout",
     "output_type": "stream",
     "text": [
      "(393, 10)\n"
     ]
    },
    {
     "data": {
      "text/plain": [
       "[<matplotlib.lines.Line2D at 0x163b1ca60>]"
      ]
     },
     "execution_count": 79,
     "metadata": {},
     "output_type": "execute_result"
    },
    {
     "data": {
      "image/png": "[encoded data removed]",
      "text/plain": [
       "<Figure size 432x288 with 1 Axes>"
      ]
     },
     "metadata": {
      "needs_background": "light"
     },
     "output_type": "display_data"
    }
   ],
   "source": [
    "time_budget = 1\n",
    "dt = 1e-6\n",
    "batch_size = int(0.1*X_train.shape[0])\n",
    "alpha = 0.01\n",
    "L = 10\n",
    "key = random.PRNGKey(0)\n",
    "\n",
    "\n",
    "samples_hmc, grads_hmc = sghmc_time_budget(key, val_and_grad_log_post, X_train, y_train, time_budget, dt, batch_size, theta_true, alpha, L,)\n",
    "\n",
    "print(samples_hmc.shape)\n",
    "\n",
    "plt.plot(samples_hmc[:,0])"
   ]
  },
  {
   "cell_type": "code",
   "execution_count": 9,
   "metadata": {},
   "outputs": [],
   "source": [
    "class LR_succ_halving_HMC_L(Base_SGLD_SuccHalv_Time):\n",
    "    \n",
    "    def __init__(self, key, logdt, batch_size_ratio, L, thin_step):\n",
    "        self.key = key\n",
    "        self.logdt = logdt\n",
    "        self.batch_size_ratio = batch_size_ratio\n",
    "        self.x_0 = theta_true\n",
    "        self.L = L\n",
    "        self.alpha = 0.01\n",
    "        self.thin_step = thin_step\n",
    "        super(LR_succ_halving_HMC_L, self).__init__(self.key, self.logdt, self.x_0)\n",
    "        \n",
    "    def _run_sampler(self, key, time_budget, x_0):\n",
    "        dt = 10**self.logdt\n",
    "        batch_size = int(self.batch_size_ratio*X_train.shape[0])\n",
    "        hmc_samples, hmc_grads = sghmc_time_budget(key, val_and_grad_log_post, X_train, y_train, \n",
    "                                       time_budget, dt, batch_size, x_0, self.alpha, self.L,)\n",
    "        \n",
    "        return hmc_samples[::self.thin_step], batch_grad_lp_LR_fb(hmc_samples[::self.thin_step])"
   ]
  },
  {
   "cell_type": "code",
   "execution_count": 9,
   "metadata": {},
   "outputs": [
    {
     "data": {
      "text/plain": [
       "Text(0, 0.5, 'KSD')"
      ]
     },
     "execution_count": 9,
     "metadata": {},
     "output_type": "execute_result"
    },
    {
     "data": {
      "image/png": "[encoded data removed]",
      "text/plain": [
       "<Figure size 432x288 with 1 Axes>"
      ]
     },
     "metadata": {
      "needs_background": "light"
     },
     "output_type": "display_data"
    }
   ],
   "source": [
    "\n",
    "my_sgld = LR_succ_halving_HMC_L(random.PRNGKey(0), logdt=-4., batch_size_ratio=0.1, L=10, thin_step=10)\n",
    "\n",
    "num_l = 2\n",
    "\n",
    "ksd_list = []\n",
    "\n",
    "\n",
    "for i in range(num_l):\n",
    "    my_sgld.run(0.1)\n",
    "    ksd_list.append(my_sgld.get_ksd())\n",
    "\n",
    "plt.plot(ksd_list, marker=\"+\")\n",
    "plt.ylabel(\"KSD\", size=18)"
   ]
  },
  {
   "cell_type": "code",
   "execution_count": null,
   "metadata": {},
   "outputs": [],
   "source": []
  },
  {
   "cell_type": "code",
   "execution_count": 82,
   "metadata": {},
   "outputs": [],
   "source": [
    "time_budget = 1\n",
    "dt = 10**my_sgld.logdt\n",
    "batch_size = int(my_sgld.batch_size_ratio*X_train.shape[0])\n",
    "x_0 = theta_true\n",
    "\n",
    "\n",
    "hmc_samples, hmc_grads = sghmc_time_budget(key, val_and_grad_log_post, X_train, y_train, \n",
    "                                   time_budget, dt, batch_size, x_0, my_sgld.alpha, my_sgld.L,)\n",
    "\n"
   ]
  },
  {
   "cell_type": "code",
   "execution_count": null,
   "metadata": {},
   "outputs": [],
   "source": [
    "# imq_KSD(hmc_samples, batch_grad_lp_LR_fb(hmc_samples))"
   ]
  },
  {
   "cell_type": "markdown",
   "metadata": {},
   "source": [
    "### R=10"
   ]
  },
  {
   "cell_type": "code",
   "execution_count": 10,
   "metadata": {},
   "outputs": [
    {
     "name": "stdout",
     "output_type": "stream",
     "text": [
      "Number of iterations: 4\n",
      "Total budget: around 120 sec\n",
      "=====\n",
      "\n",
      "Iteration 0: 120 configurations with 0.250 seconds each\n",
      "Combinations: [(-3.760151, 0.18738173, 23), (-5.0625005, 0.23101297, 27), (-4.028365, 0.0132194115, 14), (-3.7762275, 0.002310129, 21), (-5.9251423, 0.28480357, 8), (-6.5402412, 0.17475285, 24), (-6.836138, 0.00811131, 17), (-2.1837783, 0.1, 2), (-4.585864, 0.017475285, 5), (-6.6855206, 0.06579333, 8), (-6.782314, 0.017475285, 16), (-4.4124866, 0.6135907, 6), (-4.5204964, 0.6135907, 19), (-5.336386, 0.057223674, 16), (-6.592788, 0.0057223677, 5), (-3.9680119, 0.21544346, 6), (-6.3121014, 0.6135907, 9), (-4.6410494, 0.0024770768, 19), (-5.1446037, 0.30538556, 28), (-6.842727, 0.0013219408, 8), (-6.613059, 0.28480357, 4), (-6.933839, 0.006579331, 13), (-4.914266, 0.00811131, 2), (-6.0952597, 0.001, 19), (-6.4663596, 0.0015199113, 27), (-2.6148663, 0.026560875, 3), (-2.5756478, 0.23101297, 15), (-4.4728875, 0.0061359066, 26), (-5.370265, 0.15199111, 12), (-4.1450233, 0.0053366995, 20), (-4.801162, 0.65793324, 5), (-3.510666, 0.03274549, 27), (-6.6497536, 0.001, 23), (-5.1642585, 0.01, 17), (-6.6591043, 0.0014174745, 10), (-5.821383, 0.01629751, 14), (-5.275215, 0.20092331, 8), (-2.5010796, 0.0028480361, 7), (-3.0019903, 0.0035111913, 22), (-6.9368787, 0.20092331, 28), (-2.835855, 0.16297507, 25), (-5.6483474, 0.021544348, 25), (-4.633954, 0.14174742, 25), (-4.3730536, 0.0010722672, 24), (-4.967846, 0.0046415897, 25), (-6.6191597, 0.93260336, 25), (-5.7477045, 0.024770763, 29), (-3.4210267, 0.5722368, 8), (-2.4458857, 0.040370174, 10), (-6.0847855, 0.0028480361, 2), (-5.5234785, 0.0020092328, 18), (-4.823436, 0.15199111, 13), (-2.908659, 0.08697491, 25), (-2.5791903, 0.18738173, 5), (-3.2060614, 0.0028480361, 17), (-4.615631, 0.40370172, 17), (-2.6388783, 0.5722368, 25), (-3.8138099, 0.49770236, 14), (-3.7523403, 0.0020092328, 11), (-2.242072, 0.15199111, 8), (-5.790631, 0.6135907, 2), (-5.9952354, 0.09326034, 13), (-5.1853337, 0.07054803, 2), (-4.1988697, 0.0053366995, 28), (-5.069529, 0.5722368, 15), (-2.7333016, 0.07564633, 19), (-5.5068555, 0.3274549, 13), (-2.581915, 0.00811131, 28), (-6.2675595, 0.0030538556, 6), (-2.898416, 0.017475285, 14), (-2.5400991, 0.0011497568, 13), (-6.049614, 0.75646335, 27), (-3.2439961, 0.043287612, 11), (-2.1698084, 0.5722368, 20), (-5.213699, 0.04977024, 3), (-4.5837555, 0.0017475284, 17), (-4.367306, 0.20092331, 19), (-6.0908046, 0.0010722672, 11), (-2.4690018, 0.93260336, 26), (-2.4344206, 0.1, 20), (-6.6381593, 0.009326034, 28), (-2.1535463, 0.23101297, 21), (-4.0283813, 0.004977024, 27), (-3.3285046, 0.1149757, 8), (-5.338814, 0.2656088, 25), (-2.1981258, 0.04977024, 20), (-2.8389606, 0.24770762, 18), (-2.895728, 0.0012328465, 17), (-4.9600706, 0.061359067, 26), (-2.170086, 0.0070548006, 26), (-4.047783, 0.006579331, 11), (-6.8194194, 0.0057223677, 6), (-6.3499393, 0.0057223677, 26), (-3.7664206, 0.01, 13), (-4.484256, 0.07054803, 16), (-5.783063, 0.004328762, 4), (-2.7756147, 0.40370172, 7), (-3.0338397, 0.030538555, 21), (-4.496828, 0.107226714, 17), (-3.1999369, 0.869749, 16), (-4.5133224, 0.014174741, 21), (-6.479254, 0.15199111, 8), (-5.2729416, 0.046415884, 18), (-2.856717, 0.1, 6), (-6.975958, 0.21544346, 20), (-2.3818464, 0.09326034, 26), (-3.0093725, 0.01629751, 20), (-4.659259, 0.003764935, 28), (-4.3989143, 0.8111308, 9), (-6.919329, 0.0010722672, 23), (-5.3569436, 0.0014174745, 25), (-5.0309396, 0.004977024, 16), (-3.222281, 0.3274549, 2), (-3.928944, 0.03274549, 21), (-2.2112222, 0.003274549, 5), (-6.837888, 0.035111915, 26), (-4.40264, 0.0040370165, 13), (-5.139292, 0.13219412, 16), (-3.8971248, 0.023101298, 15), (-5.0353785, 0.0024770768, 5)]\n",
      "Number of samples: \n",
      "[3, 3, 69, 145, 6, 3, 86, 42, 113, 18, 51, 5, 2, 11, 169, 9, 3, 139, 2, 167, 12, 110, 169, 170, 136, 117, 4, 73, 6, 96, 5, 17, 176, 69, 167, 55, 7, 157, 118, 2, 3, 27, 3, 177, 91, 1, 20, 4, 26, 172, 166, 6, 6, 12, 139, 3, 2, 3, 149, 8, 12, 8, 55, 75, 2, 7, 4, 56, 160, 51, 157, 1, 20, 2, 54, 162, 3, 170, 1, 6, 53, 3, 79, 11, 3, 12, 3, 159, 7, 69, 125, 180, 77, 87, 9, 164, 6, 22, 6, 2, 42, 8, 13, 16, 3, 5, 42, 94, 3, 155, 151, 100, 20, 22, 171, 17, 139, 5, 40, 174]\n",
      "Calculating KSD for each sampler\n",
      "Calculating KSD for each sampler\n",
      "\n",
      "Iteration 1: 40 configurations with 0.750 seconds each\n",
      "Combinations: [(-6.3499393, 0.0057223677, 26), (-6.933839, 0.006579331, 13), (-6.6381593, 0.009326034, 28), (-6.919329, 0.0010722672, 23), (-6.836138, 0.00811131, 17), (-5.783063, 0.004328762, 4), (-5.213699, 0.04977024, 3), (-6.6497536, 0.001, 23), (-6.592788, 0.0057223677, 5), (-6.782314, 0.017475285, 16), (-6.8194194, 0.0057223677, 6), (-6.4663596, 0.0015199113, 27), (-6.842727, 0.0013219408, 8), (-6.2675595, 0.0030538556, 6), (-4.914266, 0.00811131, 2), (-6.837888, 0.035111915, 26), (-4.801162, 0.65793324, 5), (-6.6591043, 0.0014174745, 10), (-5.1853337, 0.07054803, 2), (-5.9952354, 0.09326034, 13), (-5.821383, 0.01629751, 14), (-6.0908046, 0.0010722672, 11), (-5.5068555, 0.3274549, 13), (-5.370265, 0.15199111, 12), (-6.6855206, 0.06579333, 8), (-5.9251423, 0.28480357, 8), (-6.0847855, 0.0028480361, 2), (-6.0952597, 0.001, 19), (-6.5402412, 0.17475285, 24), (-5.275215, 0.20092331, 8), (-6.9368787, 0.20092331, 28), (-6.479254, 0.15199111, 8), (-5.0353785, 0.0024770768, 5), (-6.975958, 0.21544346, 20), (-6.3121014, 0.6135907, 9), (-6.049614, 0.75646335, 27), (-6.613059, 0.28480357, 4), (-5.790631, 0.6135907, 2), (-6.6191597, 0.93260336, 25), (-5.338814, 0.2656088, 25)]\n",
      "Number of samples: \n",
      "[294, 446, 207, 686, 336, 677, 225, 714, 664, 194, 709, 537, 680, 665, 686, 67, 20, 666, 211, 32, 226, 664, 14, 20, 62, 22, 639, 679, 12, 28, 9, 32, 686, 11, 12, 4, 45, 45, 4, 9]\n",
      "Calculating KSD for each sampler\n",
      "Calculating KSD for each sampler\n",
      "\n",
      "Iteration 2: 13 configurations with 2.250 seconds each\n",
      "Combinations: [(-6.933839, 0.006579331, 13), (-5.213699, 0.04977024, 3), (-6.6381593, 0.009326034, 28), (-6.836138, 0.00811131, 17), (-6.782314, 0.017475285, 16), (-5.783063, 0.004328762, 4), (-5.821383, 0.01629751, 14), (-6.919329, 0.0010722672, 23), (-6.2675595, 0.0030538556, 6), (-6.6591043, 0.0014174745, 10), (-6.842727, 0.0013219408, 8), (-6.837888, 0.035111915, 26), (-6.592788, 0.0057223677, 5)]\n",
      "Number of samples: \n",
      "[1428, 753, 686, 1054, 621, 2042, 721, 2199, 2069, 2113, 2158, 214, 2165]\n",
      "Calculating KSD for each sampler\n",
      "Calculating KSD for each sampler\n",
      "\n",
      "Iteration 3: 4 configurations with 6.750 seconds each\n",
      "Combinations: [(-6.6381593, 0.009326034, 28), (-6.933839, 0.006579331, 13), (-6.919329, 0.0010722672, 23), (-6.2675595, 0.0030538556, 6)]\n",
      "Number of samples: \n",
      "[1971, 4329, 6500, 5709]\n",
      "Calculating KSD for each sampler\n",
      "Calculating KSD for each sampler\n",
      "Running time: 399.21sec\n"
     ]
    }
   ],
   "source": [
    "R = 10\n",
    "thin_step = 10\n",
    "r = R/40 # number of samples per run\n",
    "n = 120 # number of step sizes to try at first\n",
    "eta = 3 # cut trials by 3 every time\n",
    "\n",
    "key = random.PRNGKey(11)\n",
    "\n",
    "sampler_dict_hmc = run_SH_time_budget_keep_3(key, r, n ,eta, thin_step, \n",
    "                              LR_succ_halving_HMC_L, create_T_list_sghmc, X_train.shape[0])"
   ]
  },
  {
   "cell_type": "code",
   "execution_count": null,
   "metadata": {},
   "outputs": [],
   "source": []
  },
  {
   "cell_type": "code",
   "execution_count": null,
   "metadata": {},
   "outputs": [],
   "source": []
  },
  {
   "cell_type": "code",
   "execution_count": null,
   "metadata": {},
   "outputs": [],
   "source": []
  },
  {
   "cell_type": "code",
   "execution_count": 92,
   "metadata": {},
   "outputs": [
    {
     "name": "stdout",
     "output_type": "stream",
     "text": [
      "(-6.6269836, 0.04520354, 24) 3920 7.634967\n",
      "(-6.577629, 0.013738236, 14) 21130 7.92383\n",
      "(-5.962383, 0.07278954, 15) 3380 9.100683\n"
     ]
    }
   ],
   "source": [
    "# R=10, key = 9\n",
    "for k,v in sampler_dict_hmc.items():\n",
    "    print(k, v.len_samples*10, v.KSD)"
   ]
  },
  {
   "cell_type": "code",
   "execution_count": 96,
   "metadata": {},
   "outputs": [
    {
     "name": "stdout",
     "output_type": "stream",
     "text": [
      "(-6.6124353, 0.013738236, 18) 18270 6.2574816\n",
      "(-5.625224, 0.02212216, 5) 38450 7.067375\n",
      "(-5.6487303, 0.017433286, 6) 38240 7.155253\n"
     ]
    }
   ],
   "source": [
    "# R=10, key = 10\n",
    "for k,v in sampler_dict_hmc.items():\n",
    "    print(k, v.len_samples*10, v.KSD)"
   ]
  },
  {
   "cell_type": "code",
   "execution_count": 98,
   "metadata": {},
   "outputs": [
    {
     "name": "stdout",
     "output_type": "stream",
     "text": [
      "(-6.9671035, 0.004175319, 22) 38660 6.7931266\n",
      "(-6.1923623, 0.013738236, 18) 20520 9.388321\n",
      "(-5.7051334, 0.057361532, 8) 7510 10.630312\n"
     ]
    }
   ],
   "source": [
    "# R=10, key = 11\n",
    "for k,v in sampler_dict_hmc.items():\n",
    "    print(k, v.len_samples*10, v.KSD)"
   ]
  },
  {
   "cell_type": "code",
   "execution_count": null,
   "metadata": {},
   "outputs": [],
   "source": []
  },
  {
   "cell_type": "markdown",
   "metadata": {},
   "source": [
    "### redo for `R=3`"
   ]
  },
  {
   "cell_type": "code",
   "execution_count": 103,
   "metadata": {},
   "outputs": [
    {
     "name": "stdout",
     "output_type": "stream",
     "text": [
      "Number of iterations: 4\n",
      "Total budget: around 36 sec\n",
      "=====\n",
      "\n",
      "Iteration 0: 120 configurations with 0.075 seconds each\n",
      "Combinations: [(-5.057761, 0.4893901, 20), (-2.3829331, 0.38566202, 1), (-2.8594408, 0.1487352, 15), (-4.7622423, 0.1487352, 28), (-2.9108453, 0.7880463, 7), (-2.0267525, 0.010826366, 9), (-6.199256, 0.0923671, 3), (-3.8633766, 0.7880463, 1), (-2.878265, 0.02212216, 7), (-2.0327086, 0.0012689614, 5), (-4.09151, 0.7880463, 20), (-2.3152962, 0.0012689614, 12), (-6.2518435, 0.0025929436, 19), (-5.3227167, 0.38566202, 12), (-6.1573687, 0.1887392, 6), (-4.951436, 0.4893901, 10), (-5.6378517, 1.0, 13), (-5.461047, 0.1887392, 21), (-2.663578, 0.117210224, 19), (-3.9102354, 0.1887392, 3), (-4.4285336, 0.00853168, 10), (-2.8707662, 0.1487352, 6), (-4.7717876, 0.0020433601, 29), (-2.4661674, 0.0923671, 11), (-3.5748346, 0.00853168, 11), (-2.6253376, 1.0, 20), (-2.482822, 0.010826366, 22), (-4.165347, 0.017433286, 28), (-2.9154549, 0.7880463, 0), (-3.120286, 0.4893901, 15), (-2.8698826, 0.0025929436, 11), (-2.1247778, 0.028072158, 1), (-5.1405215, 0.004175319, 21), (-2.653346, 0.02212216, 13), (-5.7414446, 0.0923671, 11), (-4.0887036, 0.0025929436, 21), (-5.11826, 0.00853168, 26), (-3.8727803, 0.1487352, 16), (-2.0512342, 0.004175319, 16), (-6.1923623, 0.013738236, 18), (-6.0138745, 0.30391955, 5), (-4.047282, 0.00853168, 16), (-4.8518696, 0.02212216, 0), (-2.0395036, 0.117210224, 2), (-4.116845, 0.010826366, 3), (-5.1181474, 0.23950267, 1), (-5.7051334, 0.057361532, 8), (-5.2942524, 0.001610262, 21), (-2.6852684, 0.0025929436, 24), (-4.3404865, 0.057361532, 4), (-3.3173604, 0.38566202, 0), (-6.1784916, 0.057361532, 6), (-4.1227465, 0.00853168, 0), (-4.30789, 0.23950267, 8), (-5.6601977, 0.23950267, 6), (-5.5005803, 0.07278954, 4), (-3.8922682, 0.30391955, 22), (-5.3057528, 0.0025929436, 22), (-5.957635, 0.02212216, 23), (-6.2712193, 0.38566202, 20), (-4.086458, 0.035622485, 23), (-6.4206076, 0.035622485, 9), (-4.1123304, 0.02212216, 28), (-5.6412077, 0.006723357, 14), (-6.79488, 0.1487352, 19), (-6.9671035, 0.004175319, 22), (-2.6812043, 0.6210169, 12), (-3.0727668, 0.0923671, 22), (-3.534235, 0.02212216, 23), (-6.3602996, 0.02212216, 29), (-2.751668, 1.0, 10), (-4.385977, 0.057361532, 3), (-4.106033, 0.7880463, 3), (-5.044946, 0.035622485, 14), (-6.158089, 1.0, 8), (-5.3690176, 0.4893901, 17), (-2.6273422, 0.010826366, 15), (-4.4578114, 0.0025929436, 21), (-4.5550504, 0.005298318, 6), (-4.4331903, 0.07278954, 15), (-4.48764, 0.0025929436, 3), (-4.461482, 0.035622485, 0), (-3.2126608, 0.38566202, 24), (-2.0118165, 0.1887392, 29), (-2.3417168, 0.005298318, 3), (-6.581037, 0.23950267, 19), (-3.610033, 0.0032903452, 21), (-6.5113497, 0.23950267, 19), (-5.4817452, 0.001610262, 15), (-5.9950614, 0.0012689614, 18), (-4.300151, 1.0, 26), (-6.690247, 0.23950267, 28), (-2.6014037, 0.001610262, 20), (-3.9153273, 0.004175319, 11), (-4.1529155, 0.017433286, 10), (-6.6807566, 0.0020433601, 0), (-3.9546037, 1.0, 21), (-5.7779007, 0.057361532, 29), (-6.2951417, 0.07278954, 22), (-4.5082054, 0.0020433601, 20), (-2.7203074, 0.1487352, 28), (-3.8481338, 0.001610262, 6), (-3.2367268, 0.006723357, 8), (-6.0999146, 0.035622485, 6), (-4.5360413, 0.00853168, 26), (-3.912027, 0.028072158, 3), (-2.6562204, 0.02212216, 26), (-6.2713804, 0.6210169, 10), (-4.6807003, 0.23950267, 3), (-5.6309485, 0.6210169, 19), (-6.1241264, 0.0020433601, 17), (-4.0672946, 1.0, 26), (-5.2933736, 0.7880463, 5), (-2.6433077, 0.001610262, 1), (-2.3868656, 0.30391955, 0), (-2.472907, 0.1487352, 18), (-3.2515073, 0.07278954, 6), (-2.157413, 0.013738236, 1), (-2.4929614, 0.04520354, 7), (-5.287121, 0.006723357, 8)]\n",
      "Number of samples at iteration 0: 1\n",
      "Calculating KSD for each sampler\n",
      "\n",
      "Iteration 1: 40 configurations with 0.225 seconds each\n",
      "Combinations: [(-6.9671035, 0.004175319, 22), (-5.7051334, 0.057361532, 8), (-6.1241264, 0.0020433601, 17), (-5.957635, 0.02212216, 23), (-6.0999146, 0.035622485, 6), (-6.2518435, 0.0025929436, 19), (-4.385977, 0.057361532, 3), (-6.3602996, 0.02212216, 29), (-5.5005803, 0.07278954, 4), (-6.2951417, 0.07278954, 22), (-6.4206076, 0.035622485, 9), (-6.1923623, 0.013738236, 18), (-5.9950614, 0.0012689614, 18), (-4.6807003, 0.23950267, 3), (-5.7414446, 0.0923671, 11), (-5.6601977, 0.23950267, 6), (-5.6309485, 0.6210169, 19), (-6.79488, 0.1487352, 19), (-5.3690176, 0.4893901, 17), (-5.6378517, 1.0, 13), (-5.287121, 0.006723357, 8), (-5.2933736, 0.7880463, 5), (-6.1784916, 0.057361532, 6), (-6.2712193, 0.38566202, 20), (-5.3227167, 0.38566202, 12), (-5.6412077, 0.006723357, 14), (-6.1573687, 0.1887392, 6), (-6.5113497, 0.23950267, 19), (-6.0138745, 0.30391955, 5), (-6.581037, 0.23950267, 19), (-3.3173604, 0.38566202, 0), (-2.9154549, 0.7880463, 0), (-6.6807566, 0.0020433601, 0), (-2.3868656, 0.30391955, 0), (-4.8518696, 0.02212216, 0), (-4.1227465, 0.00853168, 0), (-4.461482, 0.035622485, 0), (-6.690247, 0.23950267, 28), (-6.2713804, 0.6210169, 10), (-6.158089, 1.0, 8)]\n",
      "Number of samples at iteration 1: 110\n",
      "Calculating KSD for each sampler\n",
      "\n",
      "Iteration 2: 13 configurations with 0.675 seconds each\n",
      "Combinations: [(-6.3602996, 0.02212216, 29), (-6.9671035, 0.004175319, 22), (-6.2518435, 0.0025929436, 19), (-5.7051334, 0.057361532, 8), (-5.5005803, 0.07278954, 4), (-6.4206076, 0.035622485, 9), (-5.7414446, 0.0923671, 11), (-6.1241264, 0.0020433601, 17), (-6.0999146, 0.035622485, 6), (-4.6807003, 0.23950267, 3), (-6.79488, 0.1487352, 19), (-6.1923623, 0.013738236, 18), (-5.2933736, 0.7880463, 5)]\n",
      "Number of samples at iteration 2: 81\n",
      "Calculating KSD for each sampler\n",
      "\n",
      "Iteration 3: 4 configurations with 2.025 seconds each\n",
      "Combinations: [(-6.9671035, 0.004175319, 22), (-6.2518435, 0.0025929436, 19), (-5.7051334, 0.057361532, 8), (-6.1923623, 0.013738236, 18)]\n",
      "Number of samples at iteration 3: 1109\n",
      "Calculating KSD for each sampler\n",
      "Running time: 48.33sec\n"
     ]
    }
   ],
   "source": [
    "R = 3\n",
    "thin_step = 10\n",
    "r = R/40 # number of samples per run\n",
    "n = 120 # number of step sizes to try at first\n",
    "eta = 3 # cut trials by 3 every time\n",
    "\n",
    "key = random.PRNGKey(11)\n",
    "\n",
    "# sampler_dict_hmc_3sec = run_SH_time_budget_L_keep_3(key, r, n ,eta, thin_step, LR_succ_halving_HMC_L, X_train.shape[0])\n",
    "\n",
    "sampler_dict_hmc_3sec = run_SH_time_budget_keep_3(key, r, n ,eta, thin_step, \n",
    "                              LR_succ_halving_HMC_L, create_T_list_sghmc, X_train.shape[0])"
   ]
  },
  {
   "cell_type": "code",
   "execution_count": 100,
   "metadata": {},
   "outputs": [
    {
     "name": "stdout",
     "output_type": "stream",
     "text": [
      "(-6.296073, 0.02212216, 11) 6190 7.714067\n",
      "(-6.577629, 0.013738236, 14) 7660 11.165333\n",
      "(-6.6269836, 0.04520354, 24) 1320 17.915895\n"
     ]
    }
   ],
   "source": [
    "# R=3, key=9\n",
    "for k,v in sampler_dict_hmc_3sec.items():\n",
    "    print(k, v.len_samples*10, v.KSD)"
   ]
  },
  {
   "cell_type": "code",
   "execution_count": 102,
   "metadata": {},
   "outputs": [
    {
     "name": "stdout",
     "output_type": "stream",
     "text": [
      "(-6.6124353, 0.013738236, 18) 5960 9.247051\n",
      "(-5.6487303, 0.017433286, 6) 11590 12.620041\n",
      "(-5.625224, 0.02212216, 5) 11290 13.855005\n"
     ]
    }
   ],
   "source": [
    "# R=3, key=10\n",
    "for k,v in sampler_dict_hmc_3sec.items():\n",
    "    print(k, v.len_samples*10, v.KSD)"
   ]
  },
  {
   "cell_type": "code",
   "execution_count": 104,
   "metadata": {},
   "outputs": [
    {
     "name": "stdout",
     "output_type": "stream",
     "text": [
      "(-6.9671035, 0.004175319, 22) 11090 14.912791\n",
      "(-6.1923623, 0.013738236, 18) 6150 17.330124\n",
      "(-5.7051334, 0.057361532, 8) 2480 25.257261\n"
     ]
    }
   ],
   "source": [
    "# R=3, key=11\n",
    "for k,v in sampler_dict_hmc_3sec.items():\n",
    "    print(k, v.len_samples*10, v.KSD)"
   ]
  },
  {
   "cell_type": "code",
   "execution_count": null,
   "metadata": {},
   "outputs": [],
   "source": []
  },
  {
   "cell_type": "code",
   "execution_count": null,
   "metadata": {},
   "outputs": [],
   "source": []
  },
  {
   "cell_type": "code",
   "execution_count": null,
   "metadata": {},
   "outputs": [],
   "source": []
  },
  {
   "cell_type": "code",
   "execution_count": null,
   "metadata": {},
   "outputs": [],
   "source": []
  },
  {
   "cell_type": "code",
   "execution_count": null,
   "metadata": {},
   "outputs": [],
   "source": []
  }
 ],
 "metadata": {
  "kernelspec": {
   "display_name": "Python 3",
   "language": "python",
   "name": "python3"
  },
  "language_info": {
   "codemirror_mode": {
    "name": "ipython",
    "version": 3
   },
   "file_extension": ".py",
   "mimetype": "text/x-python",
   "name": "python",
   "nbconvert_exporter": "python",
   "pygments_lexer": "ipython3",
   "version": "3.8.2"
  }
 },
 "nbformat": 4,
 "nbformat_minor": 4
}
