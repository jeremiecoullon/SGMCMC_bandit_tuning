{
 "cells": [
  {
   "cell_type": "code",
   "execution_count": 1,
   "metadata": {},
   "outputs": [
    {
     "name": "stderr",
     "output_type": "stream",
     "text": [
      "/Users/jeremiecoullon/Documents/research/papers/SGMCMC_bandit_tuning/venv/lib/python3.8/site-packages/jax/lib/xla_bridge.py:130: UserWarning: No GPU/TPU found, falling back to CPU.\n",
      "  warnings.warn('No GPU/TPU found, falling back to CPU.')\n"
     ]
    }
   ],
   "source": [
    "%matplotlib inline\n",
    "\n",
    "import matplotlib.pyplot as plt\n",
    "import seaborn as sns\n",
    "sns.set_style(\"darkgrid\")\n",
    "import numpy as np\n",
    "import time\n",
    "import jax.numpy as jnp\n",
    "from jax import partial, jit, vmap, grad, random, lax\n",
    "from jax.scipy.special import logsumexp\n",
    "\n",
    "import context\n",
    "\n",
    "from examples.bayesian_NN.NN_data import X_train, X_test, y_train, y_test\n",
    "from examples.bayesian_NN.NN_model import grad_log_post, accuracy_BNN, get_ECE_MCE\n",
    "from examples.bayesian_NN.sampler import sgld_NN, kernel_NN\n",
    "from examples.bayesian_NN.util import flatten_NN_params, load_NN_MAP, flatten_NN_params_jaxscan\n",
    "from examples.bayesian_NN.sampler import sgld_NN_time_budget, sgld_NN_time_budget_CV, scan_NN\n",
    "from examples.bayesian_NN.adam_sgld import sgld_adam_NN_time_budget\n",
    "\n",
    "from examples.bayesian_NN.NN_data import X_train_notMNIST, X_test_notMNIST, y_train_notMNIST, y_test_notMNIST\n",
    "from examples.bayesian_NN.svrg import sgld_NN_time_budget_svrg\n",
    "\n",
    "from ksd import imq_KSD\n",
    "from util import progress_bar_scan, wait_until_computed"
   ]
  },
  {
   "cell_type": "markdown",
   "metadata": {},
   "source": [
    "# plot KSD as a function of time budget\n",
    "\n",
    "See end of notebook to reproduce the figures"
   ]
  },
  {
   "cell_type": "code",
   "execution_count": 7,
   "metadata": {},
   "outputs": [],
   "source": [
    "def get_fb_grads_NN(samples):\n",
    "    \"\"\"\n",
    "    Return full-batch gradients for NN samples\n",
    "    samples list of NN sample. Each NN sample is a list of tuples\n",
    "    \"\"\"\n",
    "    return [grad_log_post(sam, X_train, y_train) for sam in samples]"
   ]
  },
  {
   "cell_type": "code",
   "execution_count": 8,
   "metadata": {},
   "outputs": [
    {
     "ename": "KeyboardInterrupt",
     "evalue": "",
     "output_type": "error",
     "traceback": [
      "\u001b[0;31m---------------------------------------------------------------------------\u001b[0m",
      "\u001b[0;31mKeyboardInterrupt\u001b[0m                         Traceback (most recent call last)",
      "\u001b[0;32m<ipython-input-8-aa550867b574>\u001b[0m in \u001b[0;36m<module>\u001b[0;34m\u001b[0m\n\u001b[1;32m      6\u001b[0m \u001b[0mparams_IC\u001b[0m \u001b[0;34m=\u001b[0m \u001b[0mload_NN_MAP\u001b[0m\u001b[0;34m(\u001b[0m\u001b[0;34m)\u001b[0m\u001b[0;34m\u001b[0m\u001b[0;34m\u001b[0m\u001b[0m\n\u001b[1;32m      7\u001b[0m \u001b[0;34m\u001b[0m\u001b[0m\n\u001b[0;32m----> 8\u001b[0;31m samples_NN_default, _ = sgld_NN_time_budget(key, time_budget, grad_log_post, dt, \n\u001b[0m\u001b[1;32m      9\u001b[0m                                             batch_size, params_IC, X_train, y_train, save_rate=10)\n\u001b[1;32m     10\u001b[0m \u001b[0;34m\u001b[0m\u001b[0m\n",
      "\u001b[0;32m~/Documents/research/papers/sgld_KSD/examples/bayesian_NN/sampler.py\u001b[0m in \u001b[0;36msgld_NN_time_budget\u001b[0;34m(key, time_budget, grad_log_post, dt, batch_size, params_IC, X_train, y_train, save_rate)\u001b[0m\n\u001b[1;32m    104\u001b[0m     \u001b[0;31m# compile the step function\u001b[0m\u001b[0;34m\u001b[0m\u001b[0;34m\u001b[0m\u001b[0;34m\u001b[0m\u001b[0m\n\u001b[1;32m    105\u001b[0m     \u001b[0mkey\u001b[0m\u001b[0;34m,\u001b[0m \u001b[0msubkey\u001b[0m \u001b[0;34m=\u001b[0m \u001b[0mrandom\u001b[0m\u001b[0;34m.\u001b[0m\u001b[0msplit\u001b[0m\u001b[0;34m(\u001b[0m\u001b[0mkey\u001b[0m\u001b[0;34m)\u001b[0m\u001b[0;34m\u001b[0m\u001b[0;34m\u001b[0m\u001b[0m\n\u001b[0;32m--> 106\u001b[0;31m     \u001b[0mkernel_NN\u001b[0m\u001b[0;34m(\u001b[0m\u001b[0mkey\u001b[0m\u001b[0;34m,\u001b[0m \u001b[0mparams\u001b[0m\u001b[0;34m,\u001b[0m \u001b[0mparam_grads\u001b[0m\u001b[0;34m,\u001b[0m \u001b[0mgrad_log_post\u001b[0m\u001b[0;34m,\u001b[0m \u001b[0mX_train\u001b[0m\u001b[0;34m,\u001b[0m \u001b[0my_train\u001b[0m\u001b[0;34m,\u001b[0m \u001b[0mbatch_size\u001b[0m\u001b[0;34m,\u001b[0m \u001b[0mdt\u001b[0m\u001b[0;34m)\u001b[0m\u001b[0;34m[\u001b[0m\u001b[0;36m0\u001b[0m\u001b[0;34m]\u001b[0m\u001b[0;34m[\u001b[0m\u001b[0;36m0\u001b[0m\u001b[0;34m]\u001b[0m\u001b[0;34m[\u001b[0m\u001b[0;36m0\u001b[0m\u001b[0;34m]\u001b[0m\u001b[0;34m[\u001b[0m\u001b[0;36m0\u001b[0m\u001b[0;34m]\u001b[0m\u001b[0;34m[\u001b[0m\u001b[0;36m0\u001b[0m\u001b[0;34m]\u001b[0m\u001b[0;34m.\u001b[0m\u001b[0mblock_until_ready\u001b[0m\u001b[0;34m(\u001b[0m\u001b[0;34m)\u001b[0m\u001b[0;34m\u001b[0m\u001b[0;34m\u001b[0m\u001b[0m\n\u001b[0m\u001b[1;32m    107\u001b[0m \u001b[0;34m\u001b[0m\u001b[0m\n\u001b[1;32m    108\u001b[0m     \u001b[0mstart_time\u001b[0m \u001b[0;34m=\u001b[0m \u001b[0mtime\u001b[0m\u001b[0;34m.\u001b[0m\u001b[0mtime\u001b[0m\u001b[0;34m(\u001b[0m\u001b[0;34m)\u001b[0m\u001b[0;34m\u001b[0m\u001b[0;34m\u001b[0m\u001b[0m\n",
      "\u001b[0;32m~/Documents/research/venv/lib/python3.8/site-packages/jax/_src/traceback_util.py\u001b[0m in \u001b[0;36mreraise_with_filtered_traceback\u001b[0;34m(*args, **kwargs)\u001b[0m\n\u001b[1;32m    137\u001b[0m   \u001b[0;32mdef\u001b[0m \u001b[0mreraise_with_filtered_traceback\u001b[0m\u001b[0;34m(\u001b[0m\u001b[0;34m*\u001b[0m\u001b[0margs\u001b[0m\u001b[0;34m,\u001b[0m \u001b[0;34m**\u001b[0m\u001b[0mkwargs\u001b[0m\u001b[0;34m)\u001b[0m\u001b[0;34m:\u001b[0m\u001b[0;34m\u001b[0m\u001b[0;34m\u001b[0m\u001b[0m\n\u001b[1;32m    138\u001b[0m     \u001b[0;32mtry\u001b[0m\u001b[0;34m:\u001b[0m\u001b[0;34m\u001b[0m\u001b[0;34m\u001b[0m\u001b[0m\n\u001b[0;32m--> 139\u001b[0;31m       \u001b[0;32mreturn\u001b[0m \u001b[0mfun\u001b[0m\u001b[0;34m(\u001b[0m\u001b[0;34m*\u001b[0m\u001b[0margs\u001b[0m\u001b[0;34m,\u001b[0m \u001b[0;34m**\u001b[0m\u001b[0mkwargs\u001b[0m\u001b[0;34m)\u001b[0m\u001b[0;34m\u001b[0m\u001b[0;34m\u001b[0m\u001b[0m\n\u001b[0m\u001b[1;32m    140\u001b[0m     \u001b[0;32mexcept\u001b[0m \u001b[0mException\u001b[0m \u001b[0;32mas\u001b[0m \u001b[0me\u001b[0m\u001b[0;34m:\u001b[0m\u001b[0;34m\u001b[0m\u001b[0;34m\u001b[0m\u001b[0m\n\u001b[1;32m    141\u001b[0m       \u001b[0;32mif\u001b[0m \u001b[0;32mnot\u001b[0m \u001b[0mis_under_reraiser\u001b[0m\u001b[0;34m(\u001b[0m\u001b[0me\u001b[0m\u001b[0;34m)\u001b[0m\u001b[0;34m:\u001b[0m\u001b[0;34m\u001b[0m\u001b[0;34m\u001b[0m\u001b[0m\n",
      "\u001b[0;32m~/Documents/research/venv/lib/python3.8/site-packages/jax/api.py\u001b[0m in \u001b[0;36mf_jitted\u001b[0;34m(*args, **kwargs)\u001b[0m\n\u001b[1;32m    414\u001b[0m       \u001b[0;32mreturn\u001b[0m \u001b[0mcpp_jitted_f\u001b[0m\u001b[0;34m(\u001b[0m\u001b[0;34m*\u001b[0m\u001b[0margs\u001b[0m\u001b[0;34m,\u001b[0m \u001b[0;34m**\u001b[0m\u001b[0mkwargs\u001b[0m\u001b[0;34m)\u001b[0m\u001b[0;34m\u001b[0m\u001b[0;34m\u001b[0m\u001b[0m\n\u001b[1;32m    415\u001b[0m     \u001b[0;32melse\u001b[0m\u001b[0;34m:\u001b[0m\u001b[0;34m\u001b[0m\u001b[0;34m\u001b[0m\u001b[0m\n\u001b[0;32m--> 416\u001b[0;31m       \u001b[0;32mreturn\u001b[0m \u001b[0mcpp_jitted_f\u001b[0m\u001b[0;34m(\u001b[0m\u001b[0mcontext\u001b[0m\u001b[0;34m,\u001b[0m \u001b[0;34m*\u001b[0m\u001b[0margs\u001b[0m\u001b[0;34m,\u001b[0m \u001b[0;34m**\u001b[0m\u001b[0mkwargs\u001b[0m\u001b[0;34m)\u001b[0m\u001b[0;34m\u001b[0m\u001b[0;34m\u001b[0m\u001b[0m\n\u001b[0m\u001b[1;32m    417\u001b[0m   \u001b[0mf_jitted\u001b[0m\u001b[0;34m.\u001b[0m\u001b[0m_cpp_jitted_f\u001b[0m \u001b[0;34m=\u001b[0m \u001b[0mcpp_jitted_f\u001b[0m\u001b[0;34m\u001b[0m\u001b[0;34m\u001b[0m\u001b[0m\n\u001b[1;32m    418\u001b[0m \u001b[0;34m\u001b[0m\u001b[0m\n",
      "\u001b[0;32m~/Documents/research/venv/lib/python3.8/site-packages/jax/api.py\u001b[0m in \u001b[0;36mcache_miss\u001b[0;34m(_, *args, **kwargs)\u001b[0m\n\u001b[1;32m    295\u001b[0m       \u001b[0m_check_arg\u001b[0m\u001b[0;34m(\u001b[0m\u001b[0marg\u001b[0m\u001b[0;34m)\u001b[0m\u001b[0;34m\u001b[0m\u001b[0;34m\u001b[0m\u001b[0m\n\u001b[1;32m    296\u001b[0m     \u001b[0mflat_fun\u001b[0m\u001b[0;34m,\u001b[0m \u001b[0mout_tree\u001b[0m \u001b[0;34m=\u001b[0m \u001b[0mflatten_fun\u001b[0m\u001b[0;34m(\u001b[0m\u001b[0mf\u001b[0m\u001b[0;34m,\u001b[0m \u001b[0min_tree\u001b[0m\u001b[0;34m)\u001b[0m\u001b[0;34m\u001b[0m\u001b[0;34m\u001b[0m\u001b[0m\n\u001b[0;32m--> 297\u001b[0;31m     out_flat = xla.xla_call(\n\u001b[0m\u001b[1;32m    298\u001b[0m         \u001b[0mflat_fun\u001b[0m\u001b[0;34m,\u001b[0m\u001b[0;34m\u001b[0m\u001b[0;34m\u001b[0m\u001b[0m\n\u001b[1;32m    299\u001b[0m         \u001b[0;34m*\u001b[0m\u001b[0margs_flat\u001b[0m\u001b[0;34m,\u001b[0m\u001b[0;34m\u001b[0m\u001b[0;34m\u001b[0m\u001b[0m\n",
      "\u001b[0;32m~/Documents/research/venv/lib/python3.8/site-packages/jax/core.py\u001b[0m in \u001b[0;36mbind\u001b[0;34m(self, fun, *args, **params)\u001b[0m\n\u001b[1;32m   1392\u001b[0m \u001b[0;34m\u001b[0m\u001b[0m\n\u001b[1;32m   1393\u001b[0m   \u001b[0;32mdef\u001b[0m \u001b[0mbind\u001b[0m\u001b[0;34m(\u001b[0m\u001b[0mself\u001b[0m\u001b[0;34m,\u001b[0m \u001b[0mfun\u001b[0m\u001b[0;34m,\u001b[0m \u001b[0;34m*\u001b[0m\u001b[0margs\u001b[0m\u001b[0;34m,\u001b[0m \u001b[0;34m**\u001b[0m\u001b[0mparams\u001b[0m\u001b[0;34m)\u001b[0m\u001b[0;34m:\u001b[0m\u001b[0;34m\u001b[0m\u001b[0;34m\u001b[0m\u001b[0m\n\u001b[0;32m-> 1394\u001b[0;31m     \u001b[0;32mreturn\u001b[0m \u001b[0mcall_bind\u001b[0m\u001b[0;34m(\u001b[0m\u001b[0mself\u001b[0m\u001b[0;34m,\u001b[0m \u001b[0mfun\u001b[0m\u001b[0;34m,\u001b[0m \u001b[0;34m*\u001b[0m\u001b[0margs\u001b[0m\u001b[0;34m,\u001b[0m \u001b[0;34m**\u001b[0m\u001b[0mparams\u001b[0m\u001b[0;34m)\u001b[0m\u001b[0;34m\u001b[0m\u001b[0;34m\u001b[0m\u001b[0m\n\u001b[0m\u001b[1;32m   1395\u001b[0m \u001b[0;34m\u001b[0m\u001b[0m\n\u001b[1;32m   1396\u001b[0m   \u001b[0;32mdef\u001b[0m \u001b[0mprocess\u001b[0m\u001b[0;34m(\u001b[0m\u001b[0mself\u001b[0m\u001b[0;34m,\u001b[0m \u001b[0mtrace\u001b[0m\u001b[0;34m,\u001b[0m \u001b[0mfun\u001b[0m\u001b[0;34m,\u001b[0m \u001b[0mtracers\u001b[0m\u001b[0;34m,\u001b[0m \u001b[0mparams\u001b[0m\u001b[0;34m)\u001b[0m\u001b[0;34m:\u001b[0m\u001b[0;34m\u001b[0m\u001b[0;34m\u001b[0m\u001b[0m\n",
      "\u001b[0;32m~/Documents/research/venv/lib/python3.8/site-packages/jax/core.py\u001b[0m in \u001b[0;36mcall_bind\u001b[0;34m(primitive, fun, *args, **params)\u001b[0m\n\u001b[1;32m   1383\u001b[0m   \u001b[0mtracers\u001b[0m \u001b[0;34m=\u001b[0m \u001b[0mmap\u001b[0m\u001b[0;34m(\u001b[0m\u001b[0mtop_trace\u001b[0m\u001b[0;34m.\u001b[0m\u001b[0mfull_raise\u001b[0m\u001b[0;34m,\u001b[0m \u001b[0margs\u001b[0m\u001b[0;34m)\u001b[0m\u001b[0;34m\u001b[0m\u001b[0;34m\u001b[0m\u001b[0m\n\u001b[1;32m   1384\u001b[0m   \u001b[0;32mwith\u001b[0m \u001b[0mmaybe_new_sublevel\u001b[0m\u001b[0;34m(\u001b[0m\u001b[0mtop_trace\u001b[0m\u001b[0;34m)\u001b[0m\u001b[0;34m:\u001b[0m\u001b[0;34m\u001b[0m\u001b[0;34m\u001b[0m\u001b[0m\n\u001b[0;32m-> 1385\u001b[0;31m     \u001b[0mouts\u001b[0m \u001b[0;34m=\u001b[0m \u001b[0mprimitive\u001b[0m\u001b[0;34m.\u001b[0m\u001b[0mprocess\u001b[0m\u001b[0;34m(\u001b[0m\u001b[0mtop_trace\u001b[0m\u001b[0;34m,\u001b[0m \u001b[0mfun\u001b[0m\u001b[0;34m,\u001b[0m \u001b[0mtracers\u001b[0m\u001b[0;34m,\u001b[0m \u001b[0mparams\u001b[0m\u001b[0;34m)\u001b[0m\u001b[0;34m\u001b[0m\u001b[0;34m\u001b[0m\u001b[0m\n\u001b[0m\u001b[1;32m   1386\u001b[0m   \u001b[0;32mreturn\u001b[0m \u001b[0mmap\u001b[0m\u001b[0;34m(\u001b[0m\u001b[0mfull_lower\u001b[0m\u001b[0;34m,\u001b[0m \u001b[0mapply_todos\u001b[0m\u001b[0;34m(\u001b[0m\u001b[0menv_trace_todo\u001b[0m\u001b[0;34m(\u001b[0m\u001b[0;34m)\u001b[0m\u001b[0;34m,\u001b[0m \u001b[0mouts\u001b[0m\u001b[0;34m)\u001b[0m\u001b[0;34m)\u001b[0m\u001b[0;34m\u001b[0m\u001b[0;34m\u001b[0m\u001b[0m\n\u001b[1;32m   1387\u001b[0m \u001b[0;34m\u001b[0m\u001b[0m\n",
      "\u001b[0;32m~/Documents/research/venv/lib/python3.8/site-packages/jax/core.py\u001b[0m in \u001b[0;36mprocess\u001b[0;34m(self, trace, fun, tracers, params)\u001b[0m\n\u001b[1;32m   1395\u001b[0m \u001b[0;34m\u001b[0m\u001b[0m\n\u001b[1;32m   1396\u001b[0m   \u001b[0;32mdef\u001b[0m \u001b[0mprocess\u001b[0m\u001b[0;34m(\u001b[0m\u001b[0mself\u001b[0m\u001b[0;34m,\u001b[0m \u001b[0mtrace\u001b[0m\u001b[0;34m,\u001b[0m \u001b[0mfun\u001b[0m\u001b[0;34m,\u001b[0m \u001b[0mtracers\u001b[0m\u001b[0;34m,\u001b[0m \u001b[0mparams\u001b[0m\u001b[0;34m)\u001b[0m\u001b[0;34m:\u001b[0m\u001b[0;34m\u001b[0m\u001b[0;34m\u001b[0m\u001b[0m\n\u001b[0;32m-> 1397\u001b[0;31m     \u001b[0;32mreturn\u001b[0m \u001b[0mtrace\u001b[0m\u001b[0;34m.\u001b[0m\u001b[0mprocess_call\u001b[0m\u001b[0;34m(\u001b[0m\u001b[0mself\u001b[0m\u001b[0;34m,\u001b[0m \u001b[0mfun\u001b[0m\u001b[0;34m,\u001b[0m \u001b[0mtracers\u001b[0m\u001b[0;34m,\u001b[0m \u001b[0mparams\u001b[0m\u001b[0;34m)\u001b[0m\u001b[0;34m\u001b[0m\u001b[0;34m\u001b[0m\u001b[0m\n\u001b[0m\u001b[1;32m   1398\u001b[0m \u001b[0;34m\u001b[0m\u001b[0m\n\u001b[1;32m   1399\u001b[0m   \u001b[0;32mdef\u001b[0m \u001b[0mpost_process\u001b[0m\u001b[0;34m(\u001b[0m\u001b[0mself\u001b[0m\u001b[0;34m,\u001b[0m \u001b[0mtrace\u001b[0m\u001b[0;34m,\u001b[0m \u001b[0mout_tracers\u001b[0m\u001b[0;34m,\u001b[0m \u001b[0mparams\u001b[0m\u001b[0;34m)\u001b[0m\u001b[0;34m:\u001b[0m\u001b[0;34m\u001b[0m\u001b[0;34m\u001b[0m\u001b[0m\n",
      "\u001b[0;32m~/Documents/research/venv/lib/python3.8/site-packages/jax/core.py\u001b[0m in \u001b[0;36mprocess_call\u001b[0;34m(self, primitive, f, tracers, params)\u001b[0m\n\u001b[1;32m    623\u001b[0m \u001b[0;34m\u001b[0m\u001b[0m\n\u001b[1;32m    624\u001b[0m   \u001b[0;32mdef\u001b[0m \u001b[0mprocess_call\u001b[0m\u001b[0;34m(\u001b[0m\u001b[0mself\u001b[0m\u001b[0;34m,\u001b[0m \u001b[0mprimitive\u001b[0m\u001b[0;34m,\u001b[0m \u001b[0mf\u001b[0m\u001b[0;34m,\u001b[0m \u001b[0mtracers\u001b[0m\u001b[0;34m,\u001b[0m \u001b[0mparams\u001b[0m\u001b[0;34m)\u001b[0m\u001b[0;34m:\u001b[0m\u001b[0;34m\u001b[0m\u001b[0;34m\u001b[0m\u001b[0m\n\u001b[0;32m--> 625\u001b[0;31m     \u001b[0;32mreturn\u001b[0m \u001b[0mprimitive\u001b[0m\u001b[0;34m.\u001b[0m\u001b[0mimpl\u001b[0m\u001b[0;34m(\u001b[0m\u001b[0mf\u001b[0m\u001b[0;34m,\u001b[0m \u001b[0;34m*\u001b[0m\u001b[0mtracers\u001b[0m\u001b[0;34m,\u001b[0m \u001b[0;34m**\u001b[0m\u001b[0mparams\u001b[0m\u001b[0;34m)\u001b[0m\u001b[0;34m\u001b[0m\u001b[0;34m\u001b[0m\u001b[0m\n\u001b[0m\u001b[1;32m    626\u001b[0m   \u001b[0mprocess_map\u001b[0m \u001b[0;34m=\u001b[0m \u001b[0mprocess_call\u001b[0m\u001b[0;34m\u001b[0m\u001b[0;34m\u001b[0m\u001b[0m\n\u001b[1;32m    627\u001b[0m \u001b[0;34m\u001b[0m\u001b[0m\n",
      "\u001b[0;32m~/Documents/research/venv/lib/python3.8/site-packages/jax/interpreters/xla.py\u001b[0m in \u001b[0;36m_xla_call_impl\u001b[0;34m(fun, device, backend, name, donated_invars, *args)\u001b[0m\n\u001b[1;32m    584\u001b[0m \u001b[0;34m\u001b[0m\u001b[0m\n\u001b[1;32m    585\u001b[0m \u001b[0;32mdef\u001b[0m \u001b[0m_xla_call_impl\u001b[0m\u001b[0;34m(\u001b[0m\u001b[0mfun\u001b[0m\u001b[0;34m:\u001b[0m \u001b[0mlu\u001b[0m\u001b[0;34m.\u001b[0m\u001b[0mWrappedFun\u001b[0m\u001b[0;34m,\u001b[0m \u001b[0;34m*\u001b[0m\u001b[0margs\u001b[0m\u001b[0;34m,\u001b[0m \u001b[0mdevice\u001b[0m\u001b[0;34m,\u001b[0m \u001b[0mbackend\u001b[0m\u001b[0;34m,\u001b[0m \u001b[0mname\u001b[0m\u001b[0;34m,\u001b[0m \u001b[0mdonated_invars\u001b[0m\u001b[0;34m)\u001b[0m\u001b[0;34m:\u001b[0m\u001b[0;34m\u001b[0m\u001b[0;34m\u001b[0m\u001b[0m\n\u001b[0;32m--> 586\u001b[0;31m   compiled_fun = _xla_callable(fun, device, backend, name, donated_invars,\n\u001b[0m\u001b[1;32m    587\u001b[0m                                *unsafe_map(arg_spec, args))\n\u001b[1;32m    588\u001b[0m   \u001b[0;32mtry\u001b[0m\u001b[0;34m:\u001b[0m\u001b[0;34m\u001b[0m\u001b[0;34m\u001b[0m\u001b[0m\n",
      "\u001b[0;32m~/Documents/research/venv/lib/python3.8/site-packages/jax/linear_util.py\u001b[0m in \u001b[0;36mmemoized_fun\u001b[0;34m(fun, *args)\u001b[0m\n\u001b[1;32m    258\u001b[0m       \u001b[0mfun\u001b[0m\u001b[0;34m.\u001b[0m\u001b[0mpopulate_stores\u001b[0m\u001b[0;34m(\u001b[0m\u001b[0mstores\u001b[0m\u001b[0;34m)\u001b[0m\u001b[0;34m\u001b[0m\u001b[0;34m\u001b[0m\u001b[0m\n\u001b[1;32m    259\u001b[0m     \u001b[0;32melse\u001b[0m\u001b[0;34m:\u001b[0m\u001b[0;34m\u001b[0m\u001b[0;34m\u001b[0m\u001b[0m\n\u001b[0;32m--> 260\u001b[0;31m       \u001b[0mans\u001b[0m \u001b[0;34m=\u001b[0m \u001b[0mcall\u001b[0m\u001b[0;34m(\u001b[0m\u001b[0mfun\u001b[0m\u001b[0;34m,\u001b[0m \u001b[0;34m*\u001b[0m\u001b[0margs\u001b[0m\u001b[0;34m)\u001b[0m\u001b[0;34m\u001b[0m\u001b[0;34m\u001b[0m\u001b[0m\n\u001b[0m\u001b[1;32m    261\u001b[0m       \u001b[0mcache\u001b[0m\u001b[0;34m[\u001b[0m\u001b[0mkey\u001b[0m\u001b[0;34m]\u001b[0m \u001b[0;34m=\u001b[0m \u001b[0;34m(\u001b[0m\u001b[0mans\u001b[0m\u001b[0;34m,\u001b[0m \u001b[0mfun\u001b[0m\u001b[0;34m.\u001b[0m\u001b[0mstores\u001b[0m\u001b[0;34m)\u001b[0m\u001b[0;34m\u001b[0m\u001b[0;34m\u001b[0m\u001b[0m\n\u001b[1;32m    262\u001b[0m \u001b[0;34m\u001b[0m\u001b[0m\n",
      "\u001b[0;32m~/Documents/research/venv/lib/python3.8/site-packages/jax/interpreters/xla.py\u001b[0m in \u001b[0;36m_xla_callable\u001b[0;34m(fun, device, backend, name, donated_invars, *arg_specs)\u001b[0m\n\u001b[1;32m    732\u001b[0m       device_assignment=(device.id,) if device else None)\n\u001b[1;32m    733\u001b[0m   \u001b[0moptions\u001b[0m\u001b[0;34m.\u001b[0m\u001b[0mparameter_is_tupled_arguments\u001b[0m \u001b[0;34m=\u001b[0m \u001b[0mtuple_args\u001b[0m\u001b[0;34m\u001b[0m\u001b[0;34m\u001b[0m\u001b[0m\n\u001b[0;32m--> 734\u001b[0;31m   \u001b[0mcompiled\u001b[0m \u001b[0;34m=\u001b[0m \u001b[0mbackend_compile\u001b[0m\u001b[0;34m(\u001b[0m\u001b[0mbackend\u001b[0m\u001b[0;34m,\u001b[0m \u001b[0mbuilt\u001b[0m\u001b[0;34m,\u001b[0m \u001b[0moptions\u001b[0m\u001b[0;34m)\u001b[0m\u001b[0;34m\u001b[0m\u001b[0;34m\u001b[0m\u001b[0m\n\u001b[0m\u001b[1;32m    735\u001b[0m   \u001b[0;32mif\u001b[0m \u001b[0mnreps\u001b[0m \u001b[0;34m==\u001b[0m \u001b[0;36m1\u001b[0m\u001b[0;34m:\u001b[0m\u001b[0;34m\u001b[0m\u001b[0;34m\u001b[0m\u001b[0m\n\u001b[1;32m    736\u001b[0m     \u001b[0;32mreturn\u001b[0m \u001b[0mpartial\u001b[0m\u001b[0;34m(\u001b[0m\u001b[0m_execute_compiled\u001b[0m\u001b[0;34m,\u001b[0m \u001b[0mcompiled\u001b[0m\u001b[0;34m,\u001b[0m \u001b[0mout_avals\u001b[0m\u001b[0;34m,\u001b[0m \u001b[0mresult_handlers\u001b[0m\u001b[0;34m)\u001b[0m\u001b[0;34m\u001b[0m\u001b[0;34m\u001b[0m\u001b[0m\n",
      "\u001b[0;32m~/Documents/research/venv/lib/python3.8/site-packages/jax/interpreters/xla.py\u001b[0m in \u001b[0;36mbackend_compile\u001b[0;34m(backend, built_c, options)\u001b[0m\n\u001b[1;32m    353\u001b[0m   \u001b[0;31m# we use a separate function call to ensure that XLA compilation appears\u001b[0m\u001b[0;34m\u001b[0m\u001b[0;34m\u001b[0m\u001b[0;34m\u001b[0m\u001b[0m\n\u001b[1;32m    354\u001b[0m   \u001b[0;31m# separately in Python profiling results\u001b[0m\u001b[0;34m\u001b[0m\u001b[0;34m\u001b[0m\u001b[0;34m\u001b[0m\u001b[0m\n\u001b[0;32m--> 355\u001b[0;31m   \u001b[0;32mreturn\u001b[0m \u001b[0mbackend\u001b[0m\u001b[0;34m.\u001b[0m\u001b[0mcompile\u001b[0m\u001b[0;34m(\u001b[0m\u001b[0mbuilt_c\u001b[0m\u001b[0;34m,\u001b[0m \u001b[0mcompile_options\u001b[0m\u001b[0;34m=\u001b[0m\u001b[0moptions\u001b[0m\u001b[0;34m)\u001b[0m\u001b[0;34m\u001b[0m\u001b[0;34m\u001b[0m\u001b[0m\n\u001b[0m\u001b[1;32m    356\u001b[0m \u001b[0;34m\u001b[0m\u001b[0m\n\u001b[1;32m    357\u001b[0m \u001b[0;32mdef\u001b[0m \u001b[0m_execute_compiled_primitive\u001b[0m\u001b[0;34m(\u001b[0m\u001b[0mprim\u001b[0m\u001b[0;34m,\u001b[0m \u001b[0mcompiled\u001b[0m\u001b[0;34m,\u001b[0m \u001b[0mresult_handler\u001b[0m\u001b[0;34m,\u001b[0m \u001b[0;34m*\u001b[0m\u001b[0margs\u001b[0m\u001b[0;34m)\u001b[0m\u001b[0;34m:\u001b[0m\u001b[0;34m\u001b[0m\u001b[0;34m\u001b[0m\u001b[0m\n",
      "\u001b[0;31mKeyboardInterrupt\u001b[0m: "
     ]
    }
   ],
   "source": [
    "time_budget = 1\n",
    "\n",
    "key = random.PRNGKey(0)\n",
    "dt = 10**(-4.75)\n",
    "batch_size = int(X_train.shape[0]*0.1)\n",
    "params_IC = load_NN_MAP()\n",
    "\n",
    "samples_NN_default, _ = sgld_NN_time_budget(key, time_budget, grad_log_post, dt, \n",
    "                                            batch_size, params_IC, X_train, y_train, save_rate=10)\n",
    "\n",
    "print(len(samples_NN_default))"
   ]
  },
  {
   "cell_type": "code",
   "execution_count": null,
   "metadata": {},
   "outputs": [],
   "source": []
  },
  {
   "cell_type": "code",
   "execution_count": null,
   "metadata": {},
   "outputs": [],
   "source": []
  },
  {
   "cell_type": "markdown",
   "metadata": {},
   "source": [
    "## Define functions\n",
    "\n",
    "1. Get gradients in batches\n",
    "2. get KSD list for different time budgets"
   ]
  },
  {
   "cell_type": "code",
   "execution_count": 3,
   "metadata": {},
   "outputs": [],
   "source": [
    "def get_KSD_list_time_budget_NN(max_time_budget, time_steps, sampler_fun, thin_step=2, start_time=5):\n",
    "    \"Get the KSD for a sampler run for each time budget up to `max_time_budget`\"\n",
    "    ksd_list = []\n",
    "    for time_budget in np.arange(start_time, max_time_budget, time_steps):\n",
    "        print(f\"Running for time budget={time_budget}sec\")\n",
    "        samples = sampler_fun(time_budget)\n",
    "        print(f\"Num samples: {len(samples)}\")\n",
    "        fb_grads = get_fb_grads_NN(samples[::thin_step])\n",
    "        \n",
    "        flat_samples = flatten_NN_params(samples[::thin_step])\n",
    "        flat_grads = flatten_NN_params(fb_grads)\n",
    "        \n",
    "        ksd_est = imq_KSD(flat_samples, flat_grads)\n",
    "        ksd_list.append(ksd_est)\n",
    "        print(f\"KSD: {ksd_est:.1f}\")\n",
    "        print(\"\\n\")\n",
    "    return ksd_list\n",
    "    \n"
   ]
  },
  {
   "cell_type": "markdown",
   "metadata": {},
   "source": [
    "# SGLD\n"
   ]
  },
  {
   "cell_type": "markdown",
   "metadata": {},
   "source": [
    "#### R = 10sec with n=90\n",
    "\n",
    "- Set `save_rate=10`\n",
    "\n",
    "\n",
    "`key=0`:\n",
    "- v1: -5.19, 0.011\n",
    "- v2: -5.48, 0.0035\n",
    "- v3: -5.62, 0.0027\n",
    "\n",
    "`key=1`:\n",
    "- v4: -5.31, 0.0033\n",
    "- v5: -4.93, 0.023\n",
    "- v6: -5.54, 0.002\n",
    "\n",
    "`key=2`:\n",
    "- v7: -5.48, 0.0050\n",
    "- v8: -5.20, 0.035\n",
    "- v9: -5.33, 0.0022"
   ]
  },
  {
   "cell_type": "code",
   "execution_count": 12,
   "metadata": {},
   "outputs": [],
   "source": [
    "def run_many_KSD_curves_sgld(list_params):\n",
    "    list_KSD_curves = []\n",
    "    \n",
    "    starttime = time.time()\n",
    "    for log_dt, b_s_r in list_params:\n",
    "        print(f\"\\nCalculating KSD curve for {log_dt, b_s_r}:\")\n",
    "        def run_sgld_sampler(time_budget):\n",
    "            key = random.PRNGKey(0)\n",
    "            MAP_params = load_NN_MAP()\n",
    "            dt = 10**(log_dt)\n",
    "            batch_size = int(b_s_r*X_train.shape[0])\n",
    "            samples, _= sgld_NN_time_budget(key, time_budget, grad_log_post, dt, \n",
    "                                            batch_size, MAP_params, X_train, y_train, save_rate=10)\n",
    "            return samples\n",
    "        \n",
    "        # ===\n",
    "        max_time_budget =  20\n",
    "        time_steps = 2\n",
    "        thin_step = 2\n",
    "        \n",
    "        ksd_list_sgld_SH = get_KSD_list_time_budget_NN(max_time_budget, time_steps, \n",
    "                                                        run_sgld_sampler, thin_step=thin_step)\n",
    "        list_KSD_curves.append(ksd_list_sgld_SH)\n",
    "    print(f\"Running time: {(time.time()-starttime)/60:.1f} min\")\n",
    "    return list_KSD_curves"
   ]
  },
  {
   "cell_type": "code",
   "execution_count": null,
   "metadata": {},
   "outputs": [],
   "source": []
  },
  {
   "cell_type": "code",
   "execution_count": 18,
   "metadata": {
    "collapsed": true
   },
   "outputs": [
    {
     "name": "stdout",
     "output_type": "stream",
     "text": [
      "\n",
      "Calculating KSD curve for (-5.19, 0.011):\n",
      "Running for time budget=5sec\n",
      "Num samples: 150\n",
      "KSD: 291.7\n",
      "\n",
      "\n",
      "Running for time budget=7sec\n",
      "Num samples: 207\n",
      "KSD: 253.6\n",
      "\n",
      "\n",
      "Running for time budget=9sec\n",
      "Num samples: 283\n",
      "KSD: 228.6\n",
      "\n",
      "\n",
      "Running for time budget=11sec\n",
      "Num samples: 348\n",
      "KSD: 208.1\n",
      "\n",
      "\n",
      "Running for time budget=13sec\n",
      "Num samples: 303\n",
      "KSD: 221.0\n",
      "\n",
      "\n",
      "Running for time budget=15sec\n",
      "Num samples: 416\n",
      "KSD: 194.7\n",
      "\n",
      "\n",
      "Running for time budget=17sec\n",
      "Num samples: 426\n",
      "KSD: 192.5\n",
      "\n",
      "\n",
      "Running for time budget=19sec\n",
      "Num samples: 647\n",
      "KSD: 156.5\n",
      "\n",
      "\n",
      "\n",
      "Calculating KSD curve for (-5.48, 0.0035):\n",
      "Running for time budget=5sec\n",
      "Num samples: 307\n",
      "KSD: 276.6\n",
      "\n",
      "\n",
      "Running for time budget=7sec\n",
      "Num samples: 394\n",
      "KSD: 250.4\n",
      "\n",
      "\n",
      "Running for time budget=9sec\n",
      "Num samples: 570\n",
      "KSD: 209.4\n",
      "\n",
      "\n",
      "Running for time budget=11sec\n",
      "Num samples: 801\n",
      "KSD: 181.8\n",
      "\n",
      "\n",
      "Running for time budget=13sec\n",
      "Num samples: 966\n",
      "KSD: 167.8\n",
      "\n",
      "\n",
      "Running for time budget=15sec\n",
      "Num samples: 1160\n",
      "KSD: 155.0\n",
      "\n",
      "\n",
      "Running for time budget=17sec\n",
      "Num samples: 871\n",
      "KSD: 176.2\n",
      "\n",
      "\n",
      "Running for time budget=19sec\n",
      "Num samples: 1087\n",
      "KSD: 158.0\n",
      "\n",
      "\n",
      "\n",
      "Calculating KSD curve for (-5.62, 0.0027):\n",
      "Running for time budget=5sec\n",
      "Num samples: 431\n",
      "KSD: 234.8\n",
      "\n",
      "\n",
      "Running for time budget=7sec\n",
      "Num samples: 558\n",
      "KSD: 212.0\n",
      "\n",
      "\n",
      "Running for time budget=9sec\n",
      "Num samples: 751\n",
      "KSD: 195.3\n",
      "\n",
      "\n",
      "Running for time budget=11sec\n",
      "Num samples: 868\n",
      "KSD: 182.6\n",
      "\n",
      "\n",
      "Running for time budget=13sec\n",
      "Num samples: 859\n",
      "KSD: 183.5\n",
      "\n",
      "\n",
      "Running for time budget=15sec\n",
      "Num samples: 1207\n",
      "KSD: 157.8\n",
      "\n",
      "\n",
      "Running for time budget=17sec\n",
      "Num samples: 1275\n",
      "KSD: 154.0\n",
      "\n",
      "\n",
      "Running for time budget=19sec\n",
      "Num samples: 1202\n",
      "KSD: 158.1\n",
      "\n",
      "\n",
      "\n",
      "Calculating KSD curve for (-5.31, 0.0033):\n",
      "Running for time budget=5sec\n",
      "Num samples: 358\n",
      "KSD: 276.8\n",
      "\n",
      "\n",
      "Running for time budget=7sec\n",
      "Num samples: 418\n",
      "KSD: 259.2\n",
      "\n",
      "\n",
      "Running for time budget=9sec\n",
      "Num samples: 567\n",
      "KSD: 235.4\n",
      "\n",
      "\n",
      "Running for time budget=11sec\n",
      "Num samples: 718\n",
      "KSD: 212.1\n",
      "\n",
      "\n",
      "Running for time budget=13sec\n",
      "Num samples: 881\n",
      "KSD: 193.5\n",
      "\n",
      "\n",
      "Running for time budget=15sec\n",
      "Num samples: 1101\n",
      "KSD: 174.7\n",
      "\n",
      "\n",
      "Running for time budget=17sec\n",
      "Num samples: 1360\n",
      "KSD: 159.0\n",
      "\n",
      "\n",
      "Running for time budget=19sec\n",
      "Num samples: 1311\n",
      "KSD: 162.2\n",
      "\n",
      "\n",
      "\n",
      "Calculating KSD curve for (-4.93, 0.023):\n",
      "Running for time budget=5sec\n",
      "Num samples: 131\n",
      "KSD: 330.8\n",
      "\n",
      "\n",
      "Running for time budget=7sec\n",
      "Num samples: 164\n",
      "KSD: 291.8\n",
      "\n",
      "\n",
      "Running for time budget=9sec\n",
      "Num samples: 205\n",
      "KSD: 265.0\n",
      "\n",
      "\n",
      "Running for time budget=11sec\n",
      "Num samples: 244\n",
      "KSD: 245.1\n",
      "\n",
      "\n",
      "Running for time budget=13sec\n",
      "Num samples: 291\n",
      "KSD: 223.5\n",
      "\n",
      "\n",
      "Running for time budget=15sec\n",
      "Num samples: 330\n",
      "KSD: 208.8\n",
      "\n",
      "\n",
      "Running for time budget=17sec\n",
      "Num samples: 374\n",
      "KSD: 197.4\n",
      "\n",
      "\n",
      "Running for time budget=19sec\n",
      "Num samples: 392\n",
      "KSD: 193.8\n",
      "\n",
      "\n",
      "\n",
      "Calculating KSD curve for (-5.54, 0.002):\n",
      "Running for time budget=5sec\n",
      "Num samples: 386\n",
      "KSD: 284.1\n",
      "\n",
      "\n",
      "Running for time budget=7sec\n",
      "Num samples: 578\n",
      "KSD: 243.7\n",
      "\n",
      "\n",
      "Running for time budget=9sec\n",
      "Num samples: 739\n",
      "KSD: 218.3\n",
      "\n",
      "\n",
      "Running for time budget=11sec\n",
      "Num samples: 877\n",
      "KSD: 202.4\n",
      "\n",
      "\n",
      "Running for time budget=13sec\n",
      "Num samples: 1114\n",
      "KSD: 182.3\n",
      "\n",
      "\n",
      "Running for time budget=15sec\n",
      "Num samples: 1297\n",
      "KSD: 170.8\n",
      "\n",
      "\n",
      "Running for time budget=17sec\n",
      "Num samples: 1435\n",
      "KSD: 164.5\n",
      "\n",
      "\n",
      "Running for time budget=19sec\n",
      "Num samples: 1604\n",
      "KSD: 156.4\n",
      "\n",
      "\n",
      "\n",
      "Calculating KSD curve for (-5.48, 0.005):\n",
      "Running for time budget=5sec\n",
      "Num samples: 353\n",
      "KSD: 237.9\n",
      "\n",
      "\n",
      "Running for time budget=7sec\n",
      "Num samples: 479\n",
      "KSD: 209.1\n",
      "\n",
      "\n",
      "Running for time budget=9sec\n",
      "Num samples: 553\n",
      "KSD: 194.8\n",
      "\n",
      "\n",
      "Running for time budget=11sec\n",
      "Num samples: 620\n",
      "KSD: 184.1\n",
      "\n",
      "\n",
      "Running for time budget=13sec\n",
      "Num samples: 794\n",
      "KSD: 167.1\n",
      "\n",
      "\n",
      "Running for time budget=15sec\n",
      "Num samples: 1002\n",
      "KSD: 150.6\n",
      "\n",
      "\n",
      "Running for time budget=17sec\n",
      "Num samples: 1088\n",
      "KSD: 144.5\n",
      "\n",
      "\n",
      "Running for time budget=19sec\n",
      "Num samples: 1030\n",
      "KSD: 148.1\n",
      "\n",
      "\n",
      "\n",
      "Calculating KSD curve for (-5.2, 0.035):\n",
      "Running for time budget=5sec\n",
      "Num samples: 92\n",
      "KSD: 282.1\n",
      "\n",
      "\n",
      "Running for time budget=7sec\n",
      "Num samples: 107\n",
      "KSD: 269.8\n",
      "\n",
      "\n",
      "Running for time budget=9sec\n",
      "Num samples: 135\n",
      "KSD: 239.3\n",
      "\n",
      "\n",
      "Running for time budget=11sec\n",
      "Num samples: 162\n",
      "KSD: 221.8\n",
      "\n",
      "\n",
      "Running for time budget=13sec\n",
      "Num samples: 152\n",
      "KSD: 227.7\n",
      "\n",
      "\n",
      "Running for time budget=15sec\n",
      "Num samples: 196\n",
      "KSD: 200.0\n",
      "\n",
      "\n",
      "Running for time budget=17sec\n",
      "Num samples: 241\n",
      "KSD: 182.8\n",
      "\n",
      "\n",
      "Running for time budget=19sec\n",
      "Num samples: 253\n",
      "KSD: 179.7\n",
      "\n",
      "\n",
      "\n",
      "Calculating KSD curve for (-5.33, 0.0022):\n",
      "Running for time budget=5sec\n",
      "Num samples: 412\n",
      "KSD: 325.7\n",
      "\n",
      "\n",
      "Running for time budget=7sec\n",
      "Num samples: 573\n",
      "KSD: 284.3\n",
      "\n",
      "\n",
      "Running for time budget=9sec\n",
      "Num samples: 720\n",
      "KSD: 257.0\n",
      "\n",
      "\n",
      "Running for time budget=11sec\n",
      "Num samples: 891\n",
      "KSD: 234.1\n",
      "\n",
      "\n",
      "Running for time budget=13sec\n",
      "Num samples: 987\n",
      "KSD: 227.4\n",
      "\n",
      "\n",
      "Running for time budget=15sec\n",
      "Num samples: 1201\n",
      "KSD: 207.3\n",
      "\n",
      "\n",
      "Running for time budget=17sec\n",
      "Num samples: 1368\n",
      "KSD: 197.6\n",
      "\n",
      "\n",
      "Running for time budget=19sec\n",
      "Num samples: 1671\n",
      "KSD: 179.6\n",
      "\n",
      "\n",
      "Running time: 138.1 min\n"
     ]
    }
   ],
   "source": [
    "# n=90\n",
    "list_params_sgld_10 = [(-5.19, 0.011), (-5.48, 0.0035), (-5.62, 0.0027),\n",
    "                       (-5.31, 0.0033), (-4.93, 0.023), (-5.54, 0.002),\n",
    "                       (-5.48, 0.0050), (-5.20, 0.035), (-5.33, 0.0022)\n",
    "                     ]\n",
    "\n",
    "\n",
    "# list_KSD_curves_sgld_10 = run_many_KSD_curves_sgld(list_params_sgld_10)"
   ]
  },
  {
   "cell_type": "code",
   "execution_count": null,
   "metadata": {},
   "outputs": [],
   "source": []
  },
  {
   "cell_type": "code",
   "execution_count": null,
   "metadata": {},
   "outputs": [],
   "source": []
  },
  {
   "cell_type": "markdown",
   "metadata": {},
   "source": [
    "### load/save KSD curves for SH - 10 sec"
   ]
  },
  {
   "cell_type": "code",
   "execution_count": 4,
   "metadata": {},
   "outputs": [],
   "source": [
    "# n=90\n",
    "# save all KSD curves\n",
    "# for idx, elem in enumerate(list_KSD_curves_sgld_10):\n",
    "#     np.savetxt(f\"outputs/KSD_list/NN/sgld-SH_10-n_90/ksd_curve_{idx}.csv\", elem)\n",
    "\n",
    "# load all KSD curves\n",
    "list_KSD_curves_sgld_10 = []\n",
    "for idx in range(9):\n",
    "    mylist = np.genfromtxt(f\"outputs/KSD_list/NN/sgld-SH_10-n_90/ksd_curve_{idx}.csv\")\n",
    "    list_KSD_curves_sgld_10.append(mylist)"
   ]
  },
  {
   "cell_type": "code",
   "execution_count": null,
   "metadata": {},
   "outputs": [],
   "source": []
  },
  {
   "cell_type": "code",
   "execution_count": null,
   "metadata": {},
   "outputs": [],
   "source": []
  },
  {
   "cell_type": "code",
   "execution_count": 4,
   "metadata": {},
   "outputs": [],
   "source": [
    "def sgld_sampler_default(time_budget):\n",
    "    \n",
    "    key = random.PRNGKey(0)\n",
    "    MAP_params = load_NN_MAP()\n",
    "    dt = 10**(-3.5)\n",
    "    batch_size = int(0.1*X_train.shape[0])\n",
    "    samples, _ = sgld_NN_time_budget(key, time_budget, grad_log_post, dt, \n",
    "                                batch_size, MAP_params, X_train, y_train, save_rate=10)\n",
    "    return samples\n",
    "\n",
    "\n",
    "# # ===\n",
    "# max_time_budget = 20\n",
    "# time_steps = 2\n",
    "# thin_step = 2\n",
    "# ksd_list_sgld_default = get_KSD_list_time_budget_NN(max_time_budget, time_steps, \n",
    "#                                                     sgld_sampler_default, thin_step=thin_step)\n",
    "\n",
    "\n",
    "\n",
    "def sgld_sampler_adam(time_budget):\n",
    "    key = random.PRNGKey(0)\n",
    "    dt = 1e-4\n",
    "    batch_size = int(0.1*X_train.shape[0])\n",
    "    params_IC = load_NN_MAP()\n",
    "\n",
    "    samples, _ = sgld_adam_NN_time_budget(key, time_budget, dt, batch_size, \n",
    "                                          X_train, y_train, params_IC, save_rate=10)\n",
    "    return samples\n",
    "\n",
    "\n",
    "# # ===\n",
    "# max_time_budget = 20\n",
    "# time_steps = 2\n",
    "# thin_step = 1\n",
    "\n",
    "# ksd_list_adam = get_KSD_list_time_budget_NN(max_time_budget, time_steps, sgld_sampler_adam, thin_step=thin_step)\n"
   ]
  },
  {
   "cell_type": "markdown",
   "metadata": {},
   "source": [
    "### load/save KSD curves for adam and default samplers"
   ]
  },
  {
   "cell_type": "code",
   "execution_count": 36,
   "metadata": {},
   "outputs": [],
   "source": [
    "# np.savetxt(f\"outputs/KSD_list/NN/ksd_curve_adam.csv\", ksd_list_adam)\n",
    "# np.savetxt(f\"outputs/KSD_list/NN/ksd_curve_sgld_default.csv\", ksd_list_sgld_default)\n",
    "\n",
    "\n",
    "ksd_list_adam = np.genfromtxt(f\"outputs/KSD_list/NN/ksd_curve_adam.csv\")\n",
    "ksd_list_sgld_default = np.genfromtxt(f\"outputs/KSD_list/NN/ksd_curve_sgld_default.csv\")"
   ]
  },
  {
   "cell_type": "markdown",
   "metadata": {},
   "source": [
    "### save KSD list arrays"
   ]
  },
  {
   "cell_type": "code",
   "execution_count": null,
   "metadata": {},
   "outputs": [],
   "source": []
  },
  {
   "cell_type": "code",
   "execution_count": null,
   "metadata": {},
   "outputs": [],
   "source": []
  },
  {
   "cell_type": "code",
   "execution_count": 39,
   "metadata": {},
   "outputs": [
    {
     "data": {
      "text/plain": [
       "<matplotlib.legend.Legend at 0x159107c40>"
      ]
     },
     "execution_count": 39,
     "metadata": {},
     "output_type": "execute_result"
    },
    {
     "data": {
      "image/png": "[encoded data removed]",
      "text/plain": [
       "<Figure size 576x432 with 1 Axes>"
      ]
     },
     "metadata": {},
     "output_type": "display_data"
    }
   ],
   "source": [
    "plt.rcParams.update({'font.size':17})\n",
    "\n",
    "average_curve_sgld_SH10 = np.mean(list_KSD_curves_sgld_10, axis=0)\n",
    "std_curve_sgld_SH10 = np.std(list_KSD_curves_sgld_10, axis=0)\n",
    "\n",
    "\n",
    "\n",
    "max_time_budget = 20\n",
    "\n",
    "plt.figure(figsize=(8, 6))\n",
    "\n",
    "plt.plot(np.arange(5, max_time_budget, 2), average_curve_sgld_SH10, marker=\"+\", markersize=15, \n",
    "         c='r', label=\"SH 10 sec, average\")\n",
    "plt.fill_between(np.arange(5, max_time_budget, 2), average_curve_sgld_SH10+2*std_curve_sgld_SH10, \n",
    "                 average_curve_sgld_SH10-2*std_curve_sgld_SH10, alpha=0.1, color='r')\n",
    "\n",
    "\n",
    "\n",
    "# for elem in list_KSD_curves_sgld_10[:]:\n",
    "#     plt.plot(np.arange(5, max_time_budget, 2), elem, alpha=0.4, marker=\"v\")\n",
    "    \n",
    "plt.plot(np.arange(5, max_time_budget, 2), ksd_list_sgld_default, marker=\"o\", \n",
    "         label=\"default, noise=1: -3.5, 0.1\", markersize=10)\n",
    "\n",
    "plt.plot(np.arange(5, max_time_budget, 2), ksd_list_adam, marker=\"v\", \n",
    "         label=\"adam-sgld: -5., 0.1\", markersize=10)\n",
    "\n",
    "\n",
    "plt.title(\"SGLD sampler\", size=23)\n",
    "plt.ylabel(\"KSD\", size=19)\n",
    "plt.xlabel(\"time budget (seconds)\", size=19)\n",
    "plt.legend(fontsize=16)\n",
    "# plt.savefig(\"images/NN_sgld_ksd_curves.png\") "
   ]
  },
  {
   "cell_type": "markdown",
   "metadata": {},
   "source": [
    "## uncertainty metrics: ECE and MCE"
   ]
  },
  {
   "cell_type": "markdown",
   "metadata": {},
   "source": [
    "##### 1. sgld-SH"
   ]
  },
  {
   "cell_type": "code",
   "execution_count": 7,
   "metadata": {},
   "outputs": [],
   "source": [
    "time_budget = 200"
   ]
  },
  {
   "cell_type": "code",
   "execution_count": 8,
   "metadata": {},
   "outputs": [
    {
     "name": "stdout",
     "output_type": "stream",
     "text": [
      "Number of samples: 63,300\n"
     ]
    }
   ],
   "source": [
    "key = random.PRNGKey(0)\n",
    "MAP_params = load_NN_MAP()\n",
    "# alternative: -5.48, 0.0050\n",
    "\n",
    "dt = 10**(-5.19)\n",
    "batch_size = int(0.011*X_train.shape[0])\n",
    "samples_SH, _= sgld_NN_time_budget(key, time_budget, grad_log_post, dt, \n",
    "                                batch_size, MAP_params, X_train, y_train, save_rate=10)\n",
    "\n",
    "\n",
    "print(f\"Number of samples: {len(samples_SH)*10:,}\")"
   ]
  },
  {
   "cell_type": "code",
   "execution_count": 12,
   "metadata": {},
   "outputs": [
    {
     "data": {
      "text/plain": [
       "6330"
      ]
     },
     "execution_count": 12,
     "metadata": {},
     "output_type": "execute_result"
    }
   ],
   "source": [
    "len(samples_SH)"
   ]
  },
  {
   "cell_type": "code",
   "execution_count": 13,
   "metadata": {},
   "outputs": [],
   "source": [
    "flat_samples_SH = flatten_NN_params(samples_SH)"
   ]
  },
  {
   "cell_type": "code",
   "execution_count": 14,
   "metadata": {},
   "outputs": [
    {
     "data": {
      "application/vnd.jupyter.widget-view+json": {
       "model_id": "538380ff087d4a77a19444b6599fb436",
       "version_major": 2,
       "version_minor": 0
      },
      "text/plain": [
       "HBox(children=(FloatProgress(value=0.0, max=10.0), HTML(value='')))"
      ]
     },
     "metadata": {},
     "output_type": "display_data"
    },
    {
     "name": "stdout",
     "output_type": "stream",
     "text": [
      "\n",
      "0.014995448303222657 0.1635957\n"
     ]
    },
    {
     "data": {
      "image/png": "[encoded data removed]",
      "text/plain": [
       "<Figure size 432x288 with 1 Axes>"
      ]
     },
     "metadata": {},
     "output_type": "display_data"
    }
   ],
   "source": [
    "\n",
    "\n",
    "ece_NN_SH, mce_NN_SH = get_ECE_MCE(flat_samples_SH[::10], X_test, y_test, M=10)\n",
    "print(ece_NN_SH, mce_NN_SH)\n",
    "\n"
   ]
  },
  {
   "cell_type": "code",
   "execution_count": null,
   "metadata": {},
   "outputs": [],
   "source": []
  },
  {
   "cell_type": "markdown",
   "metadata": {},
   "source": [
    "##### 2. default"
   ]
  },
  {
   "cell_type": "code",
   "execution_count": 16,
   "metadata": {},
   "outputs": [],
   "source": [
    "key = random.PRNGKey(0)\n",
    "MAP_params = load_NN_MAP()\n",
    "dt = 10**(-3.5)\n",
    "batch_size = int(0.1*X_train.shape[0])\n",
    "\n",
    "samples_default, _ = sgld_NN_time_budget(key, time_budget, grad_log_post, dt, \n",
    "                            batch_size, MAP_params, X_train, y_train, save_rate=10)\n",
    "print(len(samples_default))"
   ]
  },
  {
   "cell_type": "code",
   "execution_count": 17,
   "metadata": {},
   "outputs": [],
   "source": [
    "flat_samples_default = flatten_NN_params(samples_default)"
   ]
  },
  {
   "cell_type": "code",
   "execution_count": 18,
   "metadata": {},
   "outputs": [
    {
     "data": {
      "application/vnd.jupyter.widget-view+json": {
       "model_id": "abaadc6cef684c43ae7a323733177f05",
       "version_major": 2,
       "version_minor": 0
      },
      "text/plain": [
       "HBox(children=(FloatProgress(value=0.0, max=10.0), HTML(value='')))"
      ]
     },
     "metadata": {},
     "output_type": "display_data"
    },
    {
     "name": "stdout",
     "output_type": "stream",
     "text": [
      "\n",
      "0.058884771728515625 0.29886198\n"
     ]
    },
    {
     "data": {
      "image/png": "[encoded data removed]",
      "text/plain": [
       "<Figure size 432x288 with 1 Axes>"
      ]
     },
     "metadata": {},
     "output_type": "display_data"
    }
   ],
   "source": [
    "\n",
    "\n",
    "ece_NN_default, mce_NN_default = get_ECE_MCE(flat_samples_default[::10], X_test, y_test, M=10)\n",
    "print(ece_NN_default, mce_NN_default)"
   ]
  },
  {
   "cell_type": "code",
   "execution_count": null,
   "metadata": {},
   "outputs": [],
   "source": []
  },
  {
   "cell_type": "markdown",
   "metadata": {},
   "source": [
    "#### 3. sgld-adam"
   ]
  },
  {
   "cell_type": "code",
   "execution_count": 20,
   "metadata": {},
   "outputs": [
    {
     "name": "stdout",
     "output_type": "stream",
     "text": [
      "Compiling\n",
      "Running\n",
      "Iteration 2000. Time: 34 / 200.0 sec\n",
      "Iteration 4000. Time: 69 / 200.0 sec\n",
      "Iteration 6000. Time: 104 / 200.0 sec\n",
      "Iteration 8000. Time: 140 / 200.0 sec\n",
      "Iteration 10000. Time: 177 / 200.0 sec\n",
      "Number of samples: 1,125\n"
     ]
    }
   ],
   "source": [
    "time_budget = 200.\n",
    "\n",
    "key = random.PRNGKey(0)\n",
    "dt = 1e-5\n",
    "batch_size = int(0.1*X_train.shape[0])\n",
    "params_IC = load_NN_MAP()\n",
    "\n",
    "samples_sgldadam, _ = sgld_adam_NN_time_budget(key, time_budget, dt, batch_size, \n",
    "                                      X_train, y_train, params_IC, save_rate=10)\n",
    "\n",
    "print(f\"Number of samples: {len(samples_sgldadam):,}\")"
   ]
  },
  {
   "cell_type": "code",
   "execution_count": 21,
   "metadata": {},
   "outputs": [],
   "source": [
    "flat_samples_adam = flatten_NN_params(samples_sgldadam)"
   ]
  },
  {
   "cell_type": "code",
   "execution_count": 22,
   "metadata": {},
   "outputs": [
    {
     "data": {
      "application/vnd.jupyter.widget-view+json": {
       "model_id": "0fa24e23a5d745dcba11cf5586c619d2",
       "version_major": 2,
       "version_minor": 0
      },
      "text/plain": [
       "HBox(children=(FloatProgress(value=0.0, max=10.0), HTML(value='')))"
      ]
     },
     "metadata": {},
     "output_type": "display_data"
    },
    {
     "name": "stdout",
     "output_type": "stream",
     "text": [
      "\n",
      "0.01739776611328125 0.14612293\n"
     ]
    },
    {
     "data": {
      "image/png": "[encoded data removed]",
      "text/plain": [
       "<Figure size 432x288 with 1 Axes>"
      ]
     },
     "metadata": {},
     "output_type": "display_data"
    }
   ],
   "source": [
    "ece_NN_adam, mce_NN_adam = get_ECE_MCE(flat_samples_adam[::10], X_test, y_test, M=10)\n",
    "print(ece_NN_adam, mce_NN_adam)\n",
    "\n"
   ]
  },
  {
   "cell_type": "code",
   "execution_count": 23,
   "metadata": {},
   "outputs": [
    {
     "name": "stdout",
     "output_type": "stream",
     "text": [
      "ECE: \n",
      "\n",
      "SH: 0.0150\n",
      "default: 0.0589\n",
      "adam: 0.0174\n",
      "\n",
      "===\n",
      "MCE: \n",
      "\n",
      "SH: 0.1636\n",
      "default: 0.2989\n",
      "adam: 0.1461\n"
     ]
    }
   ],
   "source": [
    "# key = 0 for all samplers\n",
    "print(\"ECE: \\n\")\n",
    "print(f\"SH: {ece_NN_SH:.4f}\")\n",
    "print(f\"default: {ece_NN_default:.4f}\")\n",
    "print(f\"adam: {ece_NN_adam:.4f}\")\n",
    "\n",
    "print(\"\\n===\\nMCE: \\n\")\n",
    "print(f\"SH: {mce_NN_SH:.4f}\")\n",
    "print(f\"default: {mce_NN_default:.4f}\")\n",
    "print(f\"adam: {mce_NN_adam:.4f}\")"
   ]
  },
  {
   "cell_type": "code",
   "execution_count": null,
   "metadata": {},
   "outputs": [],
   "source": []
  },
  {
   "cell_type": "code",
   "execution_count": null,
   "metadata": {},
   "outputs": [],
   "source": []
  },
  {
   "cell_type": "code",
   "execution_count": null,
   "metadata": {},
   "outputs": [],
   "source": []
  },
  {
   "cell_type": "code",
   "execution_count": null,
   "metadata": {},
   "outputs": [],
   "source": []
  },
  {
   "cell_type": "code",
   "execution_count": null,
   "metadata": {},
   "outputs": [],
   "source": []
  },
  {
   "cell_type": "code",
   "execution_count": null,
   "metadata": {},
   "outputs": [],
   "source": []
  },
  {
   "cell_type": "code",
   "execution_count": null,
   "metadata": {},
   "outputs": [],
   "source": []
  },
  {
   "cell_type": "code",
   "execution_count": null,
   "metadata": {},
   "outputs": [],
   "source": []
  },
  {
   "cell_type": "markdown",
   "metadata": {},
   "source": [
    "# KSD curves: svrg\n",
    "\n",
    "_Tune step size and batch size_\n",
    "\n",
    "#### R = 15sec with n=90\n",
    "\n",
    "\n",
    "`key=0`:\n",
    "- v1: -5.19, 0.011\n",
    "- v2: -4.84, 0.015\n",
    "- v3: -4.80, 0.013\n",
    "\n",
    "`key=1`:\n",
    "- v4: -5.31, 0.0033\n",
    "- v5: -4.93, 0.023\n",
    "- v6: -4.89, 0.016\n",
    "\n",
    "`key=2`:\n",
    "- v7: -4.95, 0.0071\n",
    "- v8: -5.33, 0.0022\n",
    "- v9: -4.70, 0.028\n",
    "\n",
    " "
   ]
  },
  {
   "cell_type": "code",
   "execution_count": 7,
   "metadata": {},
   "outputs": [],
   "source": [
    "def run_many_KSD_curves_svrg(list_params):\n",
    "    list_KSD_curves = []\n",
    "    \n",
    "    starttime = time.time()\n",
    "    for log_dt, b_s_r in list_params:\n",
    "        print(f\"\\nCalculating KSD curve for {log_dt, b_s_r}:\")\n",
    "        def run_svrg_sampler(time_budget):\n",
    "            key = random.PRNGKey(0)\n",
    "            MAP_params = load_NN_MAP()\n",
    "            dt = 10**(log_dt)\n",
    "            update_rate = 1000\n",
    "            batch_size = int(b_s_r*X_train.shape[0])\n",
    "            samples = sgld_NN_time_budget_svrg(key, time_budget, dt, batch_size, \n",
    "                                           MAP_params, update_rate, save_rate=10)\n",
    "            return samples\n",
    "        \n",
    "        # ===\n",
    "        max_time_budget =  20\n",
    "        time_steps = 2\n",
    "        thin_step = 2\n",
    "        \n",
    "        \n",
    "        ksd_list_sgld_SH = get_KSD_list_time_budget_NN(max_time_budget, time_steps, \n",
    "                                                        run_svrg_sampler, thin_step=thin_step)\n",
    "        list_KSD_curves.append(ksd_list_sgld_SH)\n",
    "    print(f\"Running time: {(time.time()-starttime)/60:.1f} min\")\n",
    "    return list_KSD_curves"
   ]
  },
  {
   "cell_type": "code",
   "execution_count": 9,
   "metadata": {
    "collapsed": true
   },
   "outputs": [
    {
     "name": "stdout",
     "output_type": "stream",
     "text": [
      "\n",
      "Calculating KSD curve for (-5.19, 0.011):\n",
      "Running for time budget=5sec\n",
      "Num samples: 75\n",
      "KSD: 340.2\n",
      "\n",
      "\n",
      "Running for time budget=7sec\n",
      "Num samples: 102\n",
      "KSD: 310.6\n",
      "\n",
      "\n",
      "Running for time budget=9sec\n",
      "Num samples: 131\n",
      "KSD: 267.0\n",
      "\n",
      "\n",
      "Running for time budget=11sec\n",
      "Num samples: 164\n",
      "KSD: 231.0\n",
      "\n",
      "\n",
      "Running for time budget=13sec\n",
      "Num samples: 189\n",
      "KSD: 214.3\n",
      "\n",
      "\n",
      "Running for time budget=15sec\n",
      "Num samples: 216\n",
      "KSD: 196.5\n",
      "\n",
      "\n",
      "Running for time budget=17sec\n",
      "Num samples: 247\n",
      "KSD: 181.9\n",
      "\n",
      "\n",
      "Running for time budget=19sec\n",
      "Num samples: 278\n",
      "KSD: 171.1\n",
      "\n",
      "\n",
      "\n",
      "Calculating KSD curve for (-4.84, 0.015):\n",
      "Running for time budget=5sec\n",
      "Num samples: 67\n",
      "KSD: 430.1\n",
      "\n",
      "\n",
      "Running for time budget=7sec\n",
      "Num samples: 81\n",
      "KSD: 393.9\n",
      "\n",
      "\n",
      "Running for time budget=9sec\n",
      "Num samples: 102\n",
      "KSD: 348.3\n",
      "\n",
      "\n",
      "Running for time budget=11sec\n",
      "Num samples: 100\n",
      "KSD: 354.1\n",
      "\n",
      "\n",
      "Running for time budget=13sec\n",
      "Num samples: 131\n",
      "KSD: 302.0\n",
      "\n",
      "\n",
      "Running for time budget=15sec\n",
      "Num samples: 133\n",
      "KSD: 298.2\n",
      "\n",
      "\n",
      "Running for time budget=17sec\n",
      "Num samples: 158\n",
      "KSD: 272.5\n",
      "\n",
      "\n",
      "Running for time budget=19sec\n",
      "Num samples: 148\n",
      "KSD: 282.8\n",
      "\n",
      "\n",
      "\n",
      "Calculating KSD curve for (-4.8, 0.013):\n",
      "Running for time budget=5sec\n",
      "Num samples: 47\n",
      "KSD: 625.2\n",
      "\n",
      "\n",
      "Running for time budget=7sec\n",
      "Num samples: 56\n",
      "KSD: 565.5\n",
      "\n",
      "\n",
      "Running for time budget=9sec\n",
      "Num samples: 71\n",
      "KSD: 493.7\n",
      "\n",
      "\n",
      "Running for time budget=11sec\n",
      "Num samples: 81\n",
      "KSD: 468.7\n",
      "\n",
      "\n",
      "Running for time budget=13sec\n",
      "Num samples: 97\n",
      "KSD: 425.4\n",
      "\n",
      "\n",
      "Running for time budget=15sec\n",
      "Num samples: 107\n",
      "KSD: 393.9\n",
      "\n",
      "\n",
      "Running for time budget=17sec\n",
      "Num samples: 108\n",
      "KSD: 393.9\n",
      "\n",
      "\n",
      "Running for time budget=19sec\n",
      "Num samples: 133\n",
      "KSD: 338.9\n",
      "\n",
      "\n",
      "\n",
      "Calculating KSD curve for (-5.31, 0.0033):\n",
      "Running for time budget=5sec\n",
      "Num samples: 56\n",
      "KSD: 438.1\n",
      "\n",
      "\n",
      "Running for time budget=7sec\n",
      "Num samples: 72\n",
      "KSD: 398.8\n",
      "\n",
      "\n",
      "Running for time budget=9sec\n",
      "Num samples: 93\n",
      "KSD: 369.7\n",
      "\n",
      "\n",
      "Running for time budget=11sec\n",
      "Num samples: 111\n",
      "KSD: 340.0\n",
      "\n",
      "\n",
      "Running for time budget=13sec\n",
      "Num samples: 121\n",
      "KSD: 324.9\n",
      "\n",
      "\n",
      "Running for time budget=15sec\n",
      "Num samples: 143\n",
      "KSD: 289.4\n",
      "\n",
      "\n",
      "Running for time budget=17sec\n",
      "Num samples: 187\n",
      "KSD: 248.7\n",
      "\n",
      "\n",
      "Running for time budget=19sec\n",
      "Num samples: 198\n",
      "KSD: 241.7\n",
      "\n",
      "\n",
      "\n",
      "Calculating KSD curve for (-4.93, 0.023):\n",
      "Running for time budget=5sec\n",
      "Num samples: 23\n",
      "KSD: 523.0\n",
      "\n",
      "\n",
      "Running for time budget=7sec\n",
      "Num samples: 32\n",
      "KSD: 473.7\n",
      "\n",
      "\n",
      "Running for time budget=9sec\n",
      "Num samples: 49\n",
      "KSD: 401.0\n",
      "\n",
      "\n",
      "Running for time budget=11sec\n",
      "Num samples: 56\n",
      "KSD: 375.0\n",
      "\n",
      "\n",
      "Running for time budget=13sec\n",
      "Num samples: 62\n",
      "KSD: 354.8\n",
      "\n",
      "\n",
      "Running for time budget=15sec\n",
      "Num samples: 72\n",
      "KSD: 328.5\n",
      "\n",
      "\n",
      "Running for time budget=17sec\n",
      "Num samples: 84\n",
      "KSD: 315.0\n",
      "\n",
      "\n",
      "Running for time budget=19sec\n",
      "Num samples: 97\n",
      "KSD: 307.0\n",
      "\n",
      "\n",
      "\n",
      "Calculating KSD curve for (-4.89, 0.016):\n",
      "Running for time budget=5sec\n",
      "Num samples: 31\n",
      "KSD: 479.7\n",
      "\n",
      "\n",
      "Running for time budget=7sec\n",
      "Num samples: 35\n",
      "KSD: 558.1\n",
      "\n",
      "\n",
      "Running for time budget=9sec\n",
      "Num samples: 58\n",
      "KSD: 424.3\n",
      "\n",
      "\n",
      "Running for time budget=11sec\n",
      "Num samples: 57\n",
      "KSD: 424.3\n",
      "\n",
      "\n",
      "Running for time budget=13sec\n",
      "Num samples: 58\n",
      "KSD: 424.3\n",
      "\n",
      "\n",
      "Running for time budget=15sec\n",
      "Num samples: 91\n",
      "KSD: 347.6\n",
      "\n",
      "\n",
      "Running for time budget=17sec\n",
      "Num samples: 92\n",
      "KSD: 347.6\n",
      "\n",
      "\n",
      "Running for time budget=19sec\n",
      "Num samples: 103\n",
      "KSD: 324.2\n",
      "\n",
      "\n",
      "\n",
      "Calculating KSD curve for (-4.95, 0.0071):\n",
      "Running for time budget=5sec\n",
      "Num samples: 43\n",
      "KSD: 658.3\n",
      "\n",
      "\n",
      "Running for time budget=7sec\n",
      "Num samples: 56\n",
      "KSD: 571.9\n",
      "\n",
      "\n",
      "Running for time budget=9sec\n",
      "Num samples: 72\n",
      "KSD: 506.9\n",
      "\n",
      "\n",
      "Running for time budget=11sec\n",
      "Num samples: 87\n",
      "KSD: 444.3\n",
      "\n",
      "\n",
      "Running for time budget=13sec\n",
      "Num samples: 105\n",
      "KSD: 416.8\n",
      "\n",
      "\n",
      "Running for time budget=15sec\n",
      "Num samples: 117\n",
      "KSD: 382.0\n",
      "\n",
      "\n",
      "Running for time budget=17sec\n",
      "Num samples: 144\n",
      "KSD: 347.9\n",
      "\n",
      "\n",
      "Running for time budget=19sec\n",
      "Num samples: 160\n",
      "KSD: 323.9\n",
      "\n",
      "\n",
      "\n",
      "Calculating KSD curve for (-5.33, 0.0022):\n",
      "Running for time budget=5sec\n",
      "Num samples: 55\n",
      "KSD: 531.9\n",
      "\n",
      "\n",
      "Running for time budget=7sec\n",
      "Num samples: 91\n",
      "KSD: 452.8\n",
      "\n",
      "\n",
      "Running for time budget=9sec\n",
      "Num samples: 190\n",
      "KSD: 287.4\n",
      "\n",
      "\n",
      "Running for time budget=11sec\n",
      "Num samples: 246\n",
      "KSD: 252.3\n",
      "\n",
      "\n",
      "Running for time budget=13sec\n",
      "Num samples: 300\n",
      "KSD: 231.3\n",
      "\n",
      "\n",
      "Running for time budget=15sec\n",
      "Num samples: 269\n",
      "KSD: 247.4\n",
      "\n",
      "\n",
      "Running for time budget=17sec\n",
      "Num samples: 277\n",
      "KSD: 242.4\n",
      "\n",
      "\n",
      "Running for time budget=19sec\n",
      "Num samples: 325\n",
      "KSD: 218.4\n",
      "\n",
      "\n",
      "\n",
      "Calculating KSD curve for (-4.7, 0.028):\n",
      "Running for time budget=5sec\n",
      "Num samples: 36\n",
      "KSD: 520.6\n",
      "\n",
      "\n",
      "Running for time budget=7sec\n",
      "Num samples: 46\n",
      "KSD: 480.6\n",
      "\n",
      "\n",
      "Running for time budget=9sec\n",
      "Num samples: 44\n",
      "KSD: 476.3\n",
      "\n",
      "\n",
      "Running for time budget=11sec\n",
      "Num samples: 69\n",
      "KSD: 444.6\n",
      "\n",
      "\n",
      "Running for time budget=13sec\n",
      "Num samples: 83\n",
      "KSD: 442.1\n",
      "\n",
      "\n",
      "Running for time budget=15sec\n",
      "Num samples: 104\n",
      "KSD: 383.4\n",
      "\n",
      "\n",
      "Running for time budget=17sec\n",
      "Num samples: 72\n",
      "KSD: 436.1\n",
      "\n",
      "\n",
      "Running for time budget=19sec\n",
      "Num samples: 90\n",
      "KSD: 428.3\n",
      "\n",
      "\n",
      "Running time: 33.8 min\n"
     ]
    }
   ],
   "source": [
    "# n=120\n",
    "list_params_svrg_10 = [(-5.19, 0.011), (-4.84, 0.015), (-4.80, 0.013),\n",
    "                       (-5.31, 0.0033), (-4.93, 0.023), (-4.89, 0.016),\n",
    "                       (-4.95, 0.0071), (-5.33, 0.0022), (-4.70, 0.028)\n",
    "                      ]\n",
    "\n",
    "\n",
    "list_KSD_curves_svrg_10 = run_many_KSD_curves_svrg(list_params_svrg_10)\n"
   ]
  },
  {
   "cell_type": "code",
   "execution_count": 16,
   "metadata": {},
   "outputs": [],
   "source": [
    "# n=120\n",
    "# save all KSD curves\n",
    "# for idx, elem in enumerate(list_KSD_curves_svrg_10):\n",
    "#     np.savetxt(f\"outputs/KSD_list/NN/svrg-SH_10-n_120/ksd_curve_{idx}.csv\", elem)\n",
    "\n",
    "# load all KSD curves\n",
    "list_KSD_curves_svrg_10 = []\n",
    "for idx in range(9):\n",
    "    mylist = np.genfromtxt(f\"outputs/KSD_list/NN/svrg-SH_10-n_120/ksd_curve_{idx}.csv\")\n",
    "    list_KSD_curves_svrg_10.append(mylist)\n",
    "    \n",
    "    "
   ]
  },
  {
   "cell_type": "code",
   "execution_count": null,
   "metadata": {},
   "outputs": [],
   "source": []
  },
  {
   "cell_type": "code",
   "execution_count": 18,
   "metadata": {},
   "outputs": [],
   "source": [
    "def svrg_sampler_default(time_budget):\n",
    "    key = random.PRNGKey(0)\n",
    "    MAP_params = load_NN_MAP()\n",
    "    dt = 10**(-3.25)\n",
    "    batch_size = int(0.1*X_train.shape[0])\n",
    "    update_rate = 1000\n",
    "    samples = sgld_NN_time_budget_svrg(key, time_budget, dt, batch_size, \n",
    "                                           MAP_params, update_rate, save_rate=10)\n",
    "    return samples\n",
    "\n",
    "\n",
    "# ===\n",
    "max_time_budget = 20\n",
    "time_steps = 2\n",
    "thin_step = 2\n",
    "# ksd_list_svrg_default = get_KSD_list_time_budget_NN(max_time_budget, time_steps, \n",
    "#                                                     svrg_sampler_default, thin_step=thin_step)\n",
    "\n"
   ]
  },
  {
   "cell_type": "code",
   "execution_count": 19,
   "metadata": {},
   "outputs": [],
   "source": [
    "# np.savetxt(f\"outputs/KSD_list/NN/ksd_curve_svrg_default.csv\", ksd_list_svrg_default)\n",
    "\n",
    "ksd_list_svrg_default = np.genfromtxt(f\"outputs/KSD_list/NN/ksd_curve_svrg_default.csv\")\n"
   ]
  },
  {
   "cell_type": "code",
   "execution_count": 23,
   "metadata": {},
   "outputs": [
    {
     "data": {
      "text/plain": [
       "<matplotlib.legend.Legend at 0x15899f7f0>"
      ]
     },
     "execution_count": 23,
     "metadata": {},
     "output_type": "execute_result"
    },
    {
     "data": {
      "image/png": "[encoded data removed]",
      "text/plain": [
       "<Figure size 576x432 with 1 Axes>"
      ]
     },
     "metadata": {},
     "output_type": "display_data"
    }
   ],
   "source": [
    "plt.rcParams.update({'font.size':17})\n",
    "\n",
    "average_curve_svrg_SH10 = np.mean(list_KSD_curves_svrg_10, axis=0)\n",
    "std_curve_svrg_SH10 = np.std(list_KSD_curves_svrg_10, axis=0)\n",
    "\n",
    "\n",
    "\n",
    "max_time_budget = 20\n",
    "\n",
    "plt.figure(figsize=(8, 6))\n",
    "\n",
    "plt.plot(np.arange(5, max_time_budget, 2), average_curve_svrg_SH10, marker=\"+\", markersize=15, \n",
    "         c='r', label=\"SH 10 sec, average\")\n",
    "plt.fill_between(np.arange(5, max_time_budget, 2), average_curve_svrg_SH10+2*std_curve_svrg_SH10, \n",
    "                 average_curve_svrg_SH10-2*std_curve_svrg_SH10, alpha=0.1, color='r')\n",
    "\n",
    "\n",
    "\n",
    "# for elem in list_KSD_curves_svrg_10[:]:\n",
    "#     plt.plot(np.arange(5, max_time_budget, 2), elem, alpha=0.4, marker=\"v\")\n",
    "    \n",
    "plt.plot(np.arange(5, max_time_budget, 2), ksd_list_svrg_default, marker=\"o\", label=\"default, noise=1: -2, 0.1, 2001\", markersize=10)\n",
    "\n",
    "\n",
    "plt.title(\"SVRG sampler\", size=23)\n",
    "plt.ylabel(\"KSD\", size=19)\n",
    "plt.xlabel(\"time budget (seconds)\", size=19)\n",
    "plt.legend(fontsize=16)\n",
    "# plt.savefig(\"images/NN_svrg_ksd_curves.png\") "
   ]
  },
  {
   "cell_type": "markdown",
   "metadata": {},
   "source": [
    "## ECE and MCE\n"
   ]
  },
  {
   "cell_type": "markdown",
   "metadata": {},
   "source": [
    "#### SH"
   ]
  },
  {
   "cell_type": "code",
   "execution_count": 9,
   "metadata": {},
   "outputs": [],
   "source": [
    "time_budget = 200\n",
    "\n",
    "log_dt, b_s_r, update_rate = -5.12, 0.011, 3074\n",
    "\n",
    "key = random.PRNGKey(0)\n",
    "MAP_params = load_NN_MAP()\n",
    "dt = 10**(log_dt)\n",
    "batch_size = int(b_s_r*X_train.shape[0])\n",
    "samples_svrg_SH = sgld_NN_time_budget_svrg(key, time_budget, dt, batch_size, \n",
    "                               MAP_params, update_rate, save_rate=10)"
   ]
  },
  {
   "cell_type": "markdown",
   "metadata": {},
   "source": [
    "#### default"
   ]
  },
  {
   "cell_type": "code",
   "execution_count": 10,
   "metadata": {},
   "outputs": [],
   "source": [
    "time_budget = 200\n",
    "\n",
    "log_dt, b_s_r, update_rate = -4., 0.1, 2001\n",
    "\n",
    "key = random.PRNGKey(0)\n",
    "MAP_params = load_NN_MAP()\n",
    "dt = 10**(log_dt)\n",
    "batch_size = int(b_s_r*X_train.shape[0])\n",
    "samples_svrg_default = sgld_NN_time_budget_svrg(key, time_budget, dt, batch_size, \n",
    "                               MAP_params, update_rate, save_rate=10)"
   ]
  },
  {
   "cell_type": "markdown",
   "metadata": {},
   "source": [
    "#### calculate ECE"
   ]
  },
  {
   "cell_type": "code",
   "execution_count": 11,
   "metadata": {},
   "outputs": [],
   "source": [
    "flat_samples_svrg_SH = flatten_NN_params(samples_svrg_SH)\n",
    "flat_samples_svrg_default = flatten_NN_params(samples_svrg_default)\n"
   ]
  },
  {
   "cell_type": "code",
   "execution_count": 12,
   "metadata": {},
   "outputs": [
    {
     "data": {
      "application/vnd.jupyter.widget-view+json": {
       "model_id": "45710d8c96d7494997c57c98165ba382",
       "version_major": 2,
       "version_minor": 0
      },
      "text/plain": [
       "HBox(children=(FloatProgress(value=0.0, max=10.0), HTML(value='')))"
      ]
     },
     "metadata": {},
     "output_type": "display_data"
    },
    {
     "name": "stdout",
     "output_type": "stream",
     "text": [
      "\n",
      "0.014479922485351562 0.19471467\n"
     ]
    }
   ],
   "source": [
    "ece_NN_svrg_SH, mce_NN_svrg_SH = get_ECE_MCE(flat_samples_svrg_SH[::10], X_test, y_test, M=10)\n",
    "print(ece_NN_svrg_SH, mce_NN_svrg_SH)\n",
    "\n"
   ]
  },
  {
   "cell_type": "code",
   "execution_count": 13,
   "metadata": {},
   "outputs": [
    {
     "data": {
      "application/vnd.jupyter.widget-view+json": {
       "model_id": "3cae93249e584c7cbbbe1b9f99f6cbc3",
       "version_major": 2,
       "version_minor": 0
      },
      "text/plain": [
       "HBox(children=(FloatProgress(value=0.0, max=10.0), HTML(value='')))"
      ]
     },
     "metadata": {},
     "output_type": "display_data"
    },
    {
     "name": "stdout",
     "output_type": "stream",
     "text": [
      "\n",
      "0.03303507690429688 0.27398396\n"
     ]
    }
   ],
   "source": [
    "ece_NN_svrg_default, mce_NN_svrg_default = get_ECE_MCE(flat_samples_svrg_default[::10], X_test, y_test, M=10)\n",
    "print(ece_NN_svrg_default, mce_NN_svrg_default)\n",
    "\n"
   ]
  },
  {
   "cell_type": "code",
   "execution_count": 14,
   "metadata": {},
   "outputs": [
    {
     "name": "stdout",
     "output_type": "stream",
     "text": [
      "ECE: \n",
      "\n",
      "SH: 0.0145\n",
      "default: 0.0330\n",
      "\n",
      "===\n",
      "MCE: \n",
      "\n",
      "SH: 0.1947\n",
      "default: 0.2740\n"
     ]
    }
   ],
   "source": [
    "# key = 0 for all samplers\n",
    "print(\"ECE: \\n\")\n",
    "print(f\"SH: {ece_NN_svrg_SH:.4f}\")\n",
    "print(f\"default: {ece_NN_svrg_default:.4f}\")\n",
    "\n",
    "print(\"\\n===\\nMCE: \\n\")\n",
    "print(f\"SH: {mce_NN_svrg_SH:.4f}\")\n",
    "print(f\"default: {mce_NN_svrg_default:.4f}\")\n"
   ]
  },
  {
   "cell_type": "markdown",
   "metadata": {},
   "source": [
    "### OOD testing"
   ]
  },
  {
   "cell_type": "code",
   "execution_count": 15,
   "metadata": {},
   "outputs": [],
   "source": [
    "from examples.bayesian_NN.NN_model import _ood_testing\n",
    "from examples.bayesian_NN.NN_data import X_train_notMNIST, X_test_notMNIST, y_train_notMNIST, y_test_notMNIST"
   ]
  },
  {
   "cell_type": "code",
   "execution_count": 19,
   "metadata": {},
   "outputs": [],
   "source": [
    "ood_samples_SH_KSD = _ood_testing(flat_samples_svrg_SH[::5], X_test_notMNIST[::5])\n",
    "\n",
    "wait_until_computed(ood_samples_SH_KSD)"
   ]
  },
  {
   "cell_type": "code",
   "execution_count": 20,
   "metadata": {},
   "outputs": [],
   "source": [
    "ood_samples_default = _ood_testing(flat_samples_svrg_default[::5], X_test_notMNIST[::5])\n",
    "\n",
    "wait_until_computed(ood_samples_default)"
   ]
  },
  {
   "cell_type": "code",
   "execution_count": null,
   "metadata": {},
   "outputs": [],
   "source": []
  },
  {
   "cell_type": "code",
   "execution_count": 21,
   "metadata": {},
   "outputs": [],
   "source": [
    "sorted_ood_SH_KSD = sorted(ood_samples_SH_KSD)\n",
    "sorted_ood_default = sorted(ood_samples_default)\n"
   ]
  },
  {
   "cell_type": "code",
   "execution_count": 25,
   "metadata": {},
   "outputs": [
    {
     "data": {
      "image/png": "[encoded data removed]",
      "text/plain": [
       "<Figure size 720x576 with 1 Axes>"
      ]
     },
     "metadata": {},
     "output_type": "display_data"
    }
   ],
   "source": [
    "thin_step = 50\n",
    "\n",
    "y_range = np.linspace(0, 1, (len(sorted_ood_SH_KSD)))[::thin_step]\n",
    "plt.figure(figsize=(10,8))\n",
    "\n",
    "\n",
    "\n",
    "plt.plot(sorted_ood_SH_KSD[::thin_step], y_range, \n",
    "         label=r\"SH-KSD method: log(dt), b_s_r, update: (-5.12, 0.011, 3074)$\", marker=\"o\", markersize=10)\n",
    "\n",
    "\n",
    "plt.plot(sorted_ood_default[::thin_step], y_range, \n",
    "         label=r\"default: log(dt), b_s_r, update: -4., 0.1, 2001$\", marker=\"<\", markersize=10)\n",
    "\n",
    "\n",
    "plt.title(\"SVRG: CDF of predictive entropy for default and SH method\", size=20)\n",
    "plt.tight_layout()\n",
    "plt.legend()\n",
    "plt.xlabel(\"Entropy\", size=20)\n",
    "plt.ylabel(\"Empirical CDF\", size=20)\n",
    "plt.tight_layout()\n",
    "# plt.savefig(\"NN_notMSNIST_sgld_default_SH.png\")"
   ]
  },
  {
   "cell_type": "code",
   "execution_count": null,
   "metadata": {},
   "outputs": [],
   "source": []
  },
  {
   "cell_type": "code",
   "execution_count": null,
   "metadata": {},
   "outputs": [],
   "source": []
  },
  {
   "cell_type": "markdown",
   "metadata": {},
   "source": [
    "# sghmc\n",
    "\n",
    "#### R = 30sec, with n=120, thin_step=5\n",
    "\n",
    "\n",
    "`key=0`:\n",
    "- v1: -5.59, 0.016, 3\n",
    "- v2: -6.85, 0.0061, 9\n",
    "- v3: -5.50, 0.053, 3\n",
    "\n",
    "`key=1`:\n",
    "- v4: -6.36, 0.012, 7\n",
    "- v5: -6.92, 0.0066, 12\n",
    "- v6: -6.45, 0.031, 8\n",
    "\n",
    "`key=2`:\n",
    "- v7: -5.88, 0.0066, 3\n",
    "- v8: -6.99, 0.0043, 17\n",
    "- v9: -6.75, 0.022, 6\n",
    "\n",
    " "
   ]
  },
  {
   "cell_type": "code",
   "execution_count": 4,
   "metadata": {},
   "outputs": [],
   "source": [
    "from examples.bayesian_NN.sghmc import sghmc_NN_time_budget"
   ]
  },
  {
   "cell_type": "code",
   "execution_count": 5,
   "metadata": {},
   "outputs": [
    {
     "name": "stdout",
     "output_type": "stream",
     "text": [
      "5\n"
     ]
    }
   ],
   "source": [
    "time_budget = 3\n",
    "\n",
    "key = random.PRNGKey(1)\n",
    "dt = 1e-5\n",
    "batch_size = int(X_train.shape[0]*0.05)\n",
    "params = load_NN_MAP()\n",
    "L = 10\n",
    "\n",
    "samples = sghmc_NN_time_budget(key, time_budget, dt, batch_size, \n",
    "                                                 params, L, save_rate=10)\n",
    "\n",
    "print(len(samples))"
   ]
  },
  {
   "cell_type": "code",
   "execution_count": null,
   "metadata": {},
   "outputs": [],
   "source": []
  },
  {
   "cell_type": "code",
   "execution_count": 6,
   "metadata": {},
   "outputs": [],
   "source": [
    "def run_many_KSD_curves_sghmc(list_params):\n",
    "    list_KSD_curves = []\n",
    "    \n",
    "    starttime = time.time()\n",
    "    for log_dt, b_s_r, L in list_params:\n",
    "        print(f\"\\nCalculating KSD curve for {log_dt, b_s_r, L}:\")\n",
    "        def run_sghmc_sampler(time_budget):\n",
    "            key = random.PRNGKey(0)\n",
    "            MAP_params = load_NN_MAP()\n",
    "            dt = 10**(log_dt)\n",
    "            batch_size = int(b_s_r*X_train.shape[0])\n",
    "            samples = sghmc_NN_time_budget(key, time_budget, dt, batch_size, \n",
    "                                                 MAP_params, L, save_rate=4)\n",
    "            return samples\n",
    "        \n",
    "        # ===\n",
    "        max_time_budget =  30\n",
    "        time_steps = 2\n",
    "        thin_step = 2\n",
    "        \n",
    "        ksd_list_sgld_SH = get_KSD_list_time_budget_NN(max_time_budget, time_steps, \n",
    "                                                        run_sghmc_sampler, thin_step=thin_step, start_time=15)\n",
    "        list_KSD_curves.append(ksd_list_sgld_SH)\n",
    "    print(f\"Running time: {(time.time()-starttime)/60:.1f} min\")\n",
    "    return list_KSD_curves"
   ]
  },
  {
   "cell_type": "code",
   "execution_count": 8,
   "metadata": {
    "collapsed": true
   },
   "outputs": [
    {
     "name": "stdout",
     "output_type": "stream",
     "text": [
      "\n",
      "Calculating KSD curve for (-5.59, 0.016, 3):\n",
      "Running for time budget=15sec\n",
      "Num samples: 430\n",
      "KSD: 212.3\n",
      "\n",
      "\n",
      "Running for time budget=17sec\n",
      "Num samples: 467\n",
      "KSD: 203.9\n",
      "\n",
      "\n",
      "Running for time budget=19sec\n",
      "Num samples: 527\n",
      "KSD: 193.6\n",
      "\n",
      "\n",
      "Running for time budget=21sec\n",
      "Num samples: 378\n",
      "KSD: 225.4\n",
      "\n",
      "\n",
      "Running for time budget=23sec\n",
      "Num samples: 586\n",
      "KSD: 184.8\n",
      "\n",
      "\n",
      "Running for time budget=25sec\n",
      "Num samples: 666\n",
      "KSD: 174.7\n",
      "\n",
      "\n",
      "Running for time budget=27sec\n",
      "Num samples: 599\n",
      "KSD: 182.4\n",
      "\n",
      "\n",
      "Running for time budget=29sec\n",
      "Num samples: 698\n",
      "KSD: 173.0\n",
      "\n",
      "\n",
      "\n",
      "Calculating KSD curve for (-6.85, 0.0061, 9):\n",
      "Running for time budget=15sec\n",
      "Num samples: 267\n",
      "KSD: 201.3\n",
      "\n",
      "\n",
      "Running for time budget=17sec\n",
      "Num samples: 293\n",
      "KSD: 192.7\n",
      "\n",
      "\n",
      "Running for time budget=19sec\n",
      "Num samples: 275\n",
      "KSD: 197.9\n",
      "\n",
      "\n",
      "Running for time budget=21sec\n",
      "Num samples: 329\n",
      "KSD: 187.0\n",
      "\n",
      "\n",
      "Running for time budget=23sec\n",
      "Num samples: 323\n",
      "KSD: 188.5\n",
      "\n",
      "\n",
      "Running for time budget=25sec\n",
      "Num samples: 310\n",
      "KSD: 188.8\n",
      "\n",
      "\n",
      "Running for time budget=27sec\n",
      "Num samples: 374\n",
      "KSD: 177.6\n",
      "\n",
      "\n",
      "Running for time budget=29sec\n",
      "Num samples: 418\n",
      "KSD: 169.2\n",
      "\n",
      "\n",
      "\n",
      "Calculating KSD curve for (-5.5, 0.053, 3):\n",
      "Running for time budget=15sec\n",
      "Num samples: 124\n",
      "KSD: 305.8\n",
      "\n",
      "\n",
      "Running for time budget=17sec\n",
      "Num samples: 146\n",
      "KSD: 282.9\n",
      "\n",
      "\n",
      "Running for time budget=19sec\n",
      "Num samples: 158\n",
      "KSD: 276.7\n",
      "\n",
      "\n",
      "Running for time budget=21sec\n",
      "Num samples: 167\n",
      "KSD: 268.0\n",
      "\n",
      "\n",
      "Running for time budget=23sec\n",
      "Num samples: 185\n",
      "KSD: 257.7\n",
      "\n",
      "\n",
      "Running for time budget=25sec\n",
      "Num samples: 208\n",
      "KSD: 241.9\n",
      "\n",
      "\n",
      "Running for time budget=27sec\n",
      "Num samples: 234\n",
      "KSD: 226.1\n",
      "\n",
      "\n",
      "Running for time budget=29sec\n",
      "Num samples: 250\n",
      "KSD: 220.0\n",
      "\n",
      "\n",
      "\n",
      "Calculating KSD curve for (-6.36, 0.012, 7):\n",
      "Running for time budget=15sec\n",
      "Num samples: 174\n",
      "KSD: 242.0\n",
      "\n",
      "\n",
      "Running for time budget=17sec\n",
      "Num samples: 211\n",
      "KSD: 225.4\n",
      "\n",
      "\n",
      "Running for time budget=19sec\n",
      "Num samples: 238\n",
      "KSD: 213.6\n",
      "\n",
      "\n",
      "Running for time budget=21sec\n",
      "Num samples: 236\n",
      "KSD: 214.1\n",
      "\n",
      "\n",
      "Running for time budget=23sec\n",
      "Num samples: 280\n",
      "KSD: 199.2\n",
      "\n",
      "\n",
      "Running for time budget=25sec\n",
      "Num samples: 319\n",
      "KSD: 189.1\n",
      "\n",
      "\n",
      "Running for time budget=27sec\n",
      "Num samples: 353\n",
      "KSD: 181.1\n",
      "\n",
      "\n",
      "Running for time budget=29sec\n",
      "Num samples: 351\n",
      "KSD: 181.8\n",
      "\n",
      "\n",
      "\n",
      "Calculating KSD curve for (-6.92, 0.0066, 12):\n",
      "Running for time budget=15sec\n",
      "Num samples: 166\n",
      "KSD: 249.0\n",
      "\n",
      "\n",
      "Running for time budget=17sec\n",
      "Num samples: 181\n",
      "KSD: 234.6\n",
      "\n",
      "\n",
      "Running for time budget=19sec\n",
      "Num samples: 161\n",
      "KSD: 250.2\n",
      "\n",
      "\n",
      "Running for time budget=21sec\n",
      "Num samples: 196\n",
      "KSD: 227.8\n",
      "\n",
      "\n",
      "Running for time budget=23sec\n",
      "Num samples: 224\n",
      "KSD: 212.4\n",
      "\n",
      "\n",
      "Running for time budget=25sec\n",
      "Num samples: 263\n",
      "KSD: 198.8\n",
      "\n",
      "\n",
      "Running for time budget=27sec\n",
      "Num samples: 281\n",
      "KSD: 194.0\n",
      "\n",
      "\n",
      "Running for time budget=29sec\n",
      "Num samples: 300\n",
      "KSD: 188.8\n",
      "\n",
      "\n",
      "\n",
      "Calculating KSD curve for (-6.45, 0.031, 8):\n",
      "Running for time budget=15sec\n",
      "Num samples: 75\n",
      "KSD: 281.6\n",
      "\n",
      "\n",
      "Running for time budget=17sec\n",
      "Num samples: 85\n",
      "KSD: 261.8\n",
      "\n",
      "\n",
      "Running for time budget=19sec\n",
      "Num samples: 110\n",
      "KSD: 235.6\n",
      "\n",
      "\n",
      "Running for time budget=21sec\n",
      "Num samples: 119\n",
      "KSD: 226.6\n",
      "\n",
      "\n",
      "Running for time budget=23sec\n",
      "Num samples: 112\n",
      "KSD: 234.6\n",
      "\n",
      "\n",
      "Running for time budget=25sec\n",
      "Num samples: 131\n",
      "KSD: 218.9\n",
      "\n",
      "\n",
      "Running for time budget=27sec\n",
      "Num samples: 131\n",
      "KSD: 218.9\n",
      "\n",
      "\n",
      "Running for time budget=29sec\n",
      "Num samples: 165\n",
      "KSD: 197.6\n",
      "\n",
      "\n",
      "\n",
      "Calculating KSD curve for (-5.88, 0.0066, 3):\n",
      "Running for time budget=15sec\n",
      "Num samples: 615\n",
      "KSD: 197.6\n",
      "\n",
      "\n",
      "Running for time budget=17sec\n",
      "Num samples: 784\n",
      "KSD: 180.9\n",
      "\n",
      "\n",
      "Running for time budget=19sec\n",
      "Num samples: 649\n",
      "KSD: 194.3\n",
      "\n",
      "\n",
      "Running for time budget=21sec\n",
      "Num samples: 737\n",
      "KSD: 185.0\n",
      "\n",
      "\n",
      "Running for time budget=23sec\n",
      "Num samples: 818\n",
      "KSD: 177.1\n",
      "\n",
      "\n",
      "Running for time budget=25sec\n",
      "Num samples: 871\n",
      "KSD: 172.1\n",
      "\n",
      "\n",
      "Running for time budget=27sec\n",
      "Num samples: 924\n",
      "KSD: 168.1\n",
      "\n",
      "\n",
      "Running for time budget=29sec\n",
      "Num samples: 1020\n",
      "KSD: 162.2\n",
      "\n",
      "\n",
      "\n",
      "Calculating KSD curve for (-6.99, 0.0043, 17):\n",
      "Running for time budget=15sec\n",
      "Num samples: 134\n",
      "KSD: 351.8\n",
      "\n",
      "\n",
      "Running for time budget=17sec\n",
      "Num samples: 135\n",
      "KSD: 349.2\n",
      "\n",
      "\n",
      "Running for time budget=19sec\n",
      "Num samples: 173\n",
      "KSD: 310.5\n",
      "\n",
      "\n",
      "Running for time budget=21sec\n",
      "Num samples: 190\n",
      "KSD: 300.7\n",
      "\n",
      "\n",
      "Running for time budget=23sec\n",
      "Num samples: 199\n",
      "KSD: 294.0\n",
      "\n",
      "\n",
      "Running for time budget=25sec\n",
      "Num samples: 214\n",
      "KSD: 282.9\n",
      "\n",
      "\n",
      "Running for time budget=27sec\n",
      "Num samples: 235\n",
      "KSD: 274.9\n",
      "\n",
      "\n",
      "Running for time budget=29sec\n",
      "Num samples: 265\n",
      "KSD: 258.0\n",
      "\n",
      "\n",
      "\n",
      "Calculating KSD curve for (-6.75, 0.022, 6):\n",
      "Running for time budget=15sec\n",
      "Num samples: 145\n",
      "KSD: 290.6\n",
      "\n",
      "\n",
      "Running for time budget=17sec\n",
      "Num samples: 152\n",
      "KSD: 284.9\n",
      "\n",
      "\n",
      "Running for time budget=19sec\n",
      "Num samples: 177\n",
      "KSD: 264.0\n",
      "\n",
      "\n",
      "Running for time budget=21sec\n",
      "Num samples: 169\n",
      "KSD: 269.8\n",
      "\n",
      "\n",
      "Running for time budget=23sec\n",
      "Num samples: 196\n",
      "KSD: 251.9\n",
      "\n",
      "\n",
      "Running for time budget=25sec\n",
      "Num samples: 221\n",
      "KSD: 238.4\n",
      "\n",
      "\n",
      "Running for time budget=27sec\n",
      "Num samples: 202\n",
      "KSD: 249.0\n",
      "\n",
      "\n",
      "Running for time budget=29sec\n",
      "Num samples: 238\n",
      "KSD: 229.2\n",
      "\n",
      "\n",
      "Running time: 71.3 min\n"
     ]
    }
   ],
   "source": [
    "# n=120\n",
    "list_params_sghmc_30 = [(-5.59, 0.016, 3), (-6.85, 0.0061, 9), (-5.50, 0.053, 3),\n",
    "                        (-6.36, 0.012, 7), (-6.92, 0.0066, 12), (-6.45, 0.031, 8),\n",
    "                        (-5.88, 0.0066, 3), (-6.99, 0.0043, 17), (-6.75, 0.022, 6)\n",
    "                       ]\n",
    "\n",
    "\n",
    "# list_KSD_curves_sghmc_SH30 = run_many_KSD_curves_sghmc(list_params_sghmc_30)\n"
   ]
  },
  {
   "cell_type": "code",
   "execution_count": 8,
   "metadata": {},
   "outputs": [],
   "source": [
    "# n=90\n",
    "# save all KSD curves\n",
    "# for idx, elem in enumerate(list_KSD_curves_sghmc_SH30):\n",
    "#     np.savetxt(f\"outputs/KSD_list/NN/sghmc-SH_30-n_120/ksd_curve_{idx}.csv\", elem)\n",
    "\n",
    "# load all KSD curves\n",
    "list_KSD_curves_sghmc_SH30 = []\n",
    "for idx in range(9):\n",
    "    mylist = np.genfromtxt(f\"outputs/KSD_list/NN/sghmc-SH_30-n_120/ksd_curve_{idx}.csv\")\n",
    "    list_KSD_curves_sghmc_SH30.append(mylist)"
   ]
  },
  {
   "cell_type": "code",
   "execution_count": null,
   "metadata": {},
   "outputs": [],
   "source": []
  },
  {
   "cell_type": "markdown",
   "metadata": {},
   "source": [
    "#### sghmc: default"
   ]
  },
  {
   "cell_type": "code",
   "execution_count": 15,
   "metadata": {
    "collapsed": true
   },
   "outputs": [
    {
     "name": "stdout",
     "output_type": "stream",
     "text": [
      "Running for time budget=15sec\n",
      "Num samples: 10\n",
      "KSD: 9173.2\n",
      "\n",
      "\n",
      "Running for time budget=17sec\n",
      "Num samples: 11\n",
      "KSD: 7663.3\n",
      "\n",
      "\n",
      "Running for time budget=19sec\n",
      "Num samples: 11\n",
      "KSD: 7663.3\n",
      "\n",
      "\n",
      "Running for time budget=21sec\n",
      "Num samples: 13\n",
      "KSD: 7012.5\n",
      "\n",
      "\n",
      "Running for time budget=23sec\n",
      "Num samples: 14\n",
      "KSD: 7012.5\n",
      "\n",
      "\n",
      "Running for time budget=25sec\n",
      "Num samples: 15\n",
      "KSD: 6167.2\n",
      "\n",
      "\n",
      "Running for time budget=27sec\n",
      "Num samples: 15\n",
      "KSD: 6167.2\n",
      "\n",
      "\n",
      "Running for time budget=29sec\n",
      "Num samples: 17\n",
      "KSD: 5604.6\n",
      "\n",
      "\n"
     ]
    }
   ],
   "source": [
    "def sghmc_sampler_default(time_budget):\n",
    "    \n",
    "    key = random.PRNGKey(0)\n",
    "    MAP_params = load_NN_MAP()\n",
    "    dt = 10**(-5)\n",
    "    batch_size = int(0.1*X_train.shape[0])\n",
    "    L = 26\n",
    "    samples = sghmc_NN_time_budget(key, time_budget, dt, batch_size, \n",
    "                                         MAP_params, L, save_rate=4)\n",
    "    return samples\n",
    "\n",
    "\n",
    "# ===\n",
    "max_time_budget = 30\n",
    "time_steps = 2\n",
    "thin_step = 2\n",
    "# ksd_list_sghmc_default = get_KSD_list_time_budget_NN(max_time_budget, time_steps, \n",
    "#                                              sghmc_sampler_default, thin_step=thin_step, start_time=15)\n",
    "\n"
   ]
  },
  {
   "cell_type": "code",
   "execution_count": 9,
   "metadata": {},
   "outputs": [],
   "source": [
    "# np.savetxt(f\"outputs/KSD_list/NN/ksd_list_sghmc_default.csv\", ksd_list_sghmc_default)\n",
    "\n",
    "ksd_list_sghmc_default = np.genfromtxt(f\"outputs/KSD_list/NN/ksd_list_sghmc_default.csv\")\n"
   ]
  },
  {
   "cell_type": "code",
   "execution_count": 13,
   "metadata": {},
   "outputs": [
    {
     "data": {
      "text/plain": [
       "<matplotlib.legend.Legend at 0x15370e9d0>"
      ]
     },
     "execution_count": 13,
     "metadata": {},
     "output_type": "execute_result"
    },
    {
     "data": {
      "image/png": "[encoded data removed]",
      "text/plain": [
       "<Figure size 576x432 with 1 Axes>"
      ]
     },
     "metadata": {},
     "output_type": "display_data"
    }
   ],
   "source": [
    "plt.rcParams.update({'font.size':17})\n",
    "\n",
    "average_curve_sghmc_SH30 = np.nanmean(list_KSD_curves_sghmc_SH30, axis=0)\n",
    "std_curve_sghmc_SH30 = np.nanstd(list_KSD_curves_sghmc_SH30, axis=0)\n",
    "\n",
    "\n",
    "\n",
    "max_time_budget = 30\n",
    "\n",
    "plt.figure(figsize=(8, 6))\n",
    "\n",
    "plt.plot(np.arange(15, max_time_budget, 2), average_curve_sghmc_SH30, marker=\"+\", markersize=15, \n",
    "         c='r', label=\"SH 10 sec, average\")\n",
    "plt.fill_between(np.arange(15, max_time_budget, 2), average_curve_sghmc_SH30+2*std_curve_sghmc_SH30, \n",
    "                 average_curve_sghmc_SH30-2*std_curve_sghmc_SH30, alpha=0.1, color='r')\n",
    "\n",
    "\n",
    "\n",
    "# for elem in list_KSD_curves_sghmc_SH30[6:9]:\n",
    "#     plt.plot(np.arange(15, max_time_budget, 2), elem, alpha=0.4, marker=\"v\")\n",
    "    \n",
    "plt.plot(np.arange(15, max_time_budget, 2), ksd_list_sghmc_default, marker=\"o\", \n",
    "                     label=\"default, noise=1: -5, 0.1, 26\", markersize=10)\n",
    "\n",
    "\n",
    "plt.title(\"SVRG: SG-HMC sampler\", size=23)\n",
    "plt.ylabel(\"KSD\", size=19)\n",
    "plt.xlabel(\"time budget (seconds)\", size=19)\n",
    "plt.legend(fontsize=16)\n",
    "# plt.savefig(\"images/PMF_sghmc_ksd_curves.png\") "
   ]
  },
  {
   "cell_type": "markdown",
   "metadata": {},
   "source": [
    "## Test uncertainty\n",
    "\n",
    "### SH"
   ]
  },
  {
   "cell_type": "code",
   "execution_count": 23,
   "metadata": {},
   "outputs": [],
   "source": [
    "time_budget = 200\n",
    "\n",
    "log_dt, b_s_r, L = -5.59, 0.016, 3\n",
    "\n",
    "key = random.PRNGKey(0)\n",
    "MAP_params = load_NN_MAP()\n",
    "dt = 10**(log_dt)\n",
    "batch_size = int(b_s_r*X_train.shape[0])\n",
    "samples_sghmc_SH = sghmc_NN_time_budget(key, time_budget, dt, batch_size, \n",
    "                                         MAP_params, L, save_rate=10)"
   ]
  },
  {
   "cell_type": "markdown",
   "metadata": {},
   "source": [
    "### default"
   ]
  },
  {
   "cell_type": "code",
   "execution_count": 24,
   "metadata": {},
   "outputs": [],
   "source": [
    "time_budget = 200\n",
    "\n",
    "log_dt, b_s_r, L = -5., 0.1, 26\n",
    "\n",
    "key = random.PRNGKey(0)\n",
    "MAP_params = load_NN_MAP()\n",
    "dt = 10**(log_dt)\n",
    "batch_size = int(b_s_r*X_train.shape[0])\n",
    "samples_sghmc_default = sghmc_NN_time_budget(key, time_budget, dt, batch_size, \n",
    "                                         MAP_params, L, save_rate=10)"
   ]
  },
  {
   "cell_type": "markdown",
   "metadata": {},
   "source": [
    "### ECE and MCE"
   ]
  },
  {
   "cell_type": "code",
   "execution_count": 25,
   "metadata": {},
   "outputs": [],
   "source": [
    "\n",
    "flat_samples_sghmc_SH = flatten_NN_params(samples_sghmc_SH)\n",
    "flat_samples_sghmc_default = flatten_NN_params(samples_sghmc_default)\n"
   ]
  },
  {
   "cell_type": "code",
   "execution_count": 26,
   "metadata": {},
   "outputs": [
    {
     "data": {
      "application/vnd.jupyter.widget-view+json": {
       "model_id": "2598438f03814dd0a7ccff219ecc4518",
       "version_major": 2,
       "version_minor": 0
      },
      "text/plain": [
       "HBox(children=(FloatProgress(value=0.0, max=10.0), HTML(value='')))"
      ]
     },
     "metadata": {},
     "output_type": "display_data"
    },
    {
     "name": "stdout",
     "output_type": "stream",
     "text": [
      "\n",
      "0.01177705841064453 0.15623441\n"
     ]
    }
   ],
   "source": [
    "ece_NN_sghmc_SH, mce_NN_sghmc_SH = get_ECE_MCE(flat_samples_sghmc_SH[::10], X_test, y_test, M=10)\n",
    "print(ece_NN_sghmc_SH, mce_NN_sghmc_SH)\n",
    "\n"
   ]
  },
  {
   "cell_type": "code",
   "execution_count": 27,
   "metadata": {},
   "outputs": [
    {
     "data": {
      "application/vnd.jupyter.widget-view+json": {
       "model_id": "129c23b200894bdc9a43d914133e138e",
       "version_major": 2,
       "version_minor": 0
      },
      "text/plain": [
       "HBox(children=(FloatProgress(value=0.0, max=10.0), HTML(value='')))"
      ]
     },
     "metadata": {},
     "output_type": "display_data"
    },
    {
     "name": "stdout",
     "output_type": "stream",
     "text": [
      "\n",
      "0.21142587890625 0.5030676\n"
     ]
    }
   ],
   "source": [
    "ece_NN_sghmc_default, mce_NN_sghmc_default = get_ECE_MCE(flat_samples_sghmc_default[::10], X_test, y_test, M=10)\n",
    "print(ece_NN_sghmc_default, mce_NN_sghmc_default)\n",
    "\n"
   ]
  },
  {
   "cell_type": "code",
   "execution_count": 28,
   "metadata": {},
   "outputs": [
    {
     "name": "stdout",
     "output_type": "stream",
     "text": [
      "ECE: \n",
      "\n",
      "SH: 0.0118\n",
      "default: 0.2114\n",
      "\n",
      "===\n",
      "MCE: \n",
      "\n",
      "SH: 0.1562\n",
      "default: 0.5031\n"
     ]
    }
   ],
   "source": [
    "# key = 0 for all samplers\n",
    "print(\"ECE: \\n\")\n",
    "print(f\"SH: {ece_NN_sghmc_SH:.4f}\")\n",
    "print(f\"default: {ece_NN_sghmc_default:.4f}\")\n",
    "\n",
    "print(\"\\n===\\nMCE: \\n\")\n",
    "print(f\"SH: {mce_NN_sghmc_SH:.4f}\")\n",
    "print(f\"default: {mce_NN_sghmc_default:.4f}\")\n"
   ]
  },
  {
   "cell_type": "markdown",
   "metadata": {},
   "source": [
    "### OOD testing"
   ]
  },
  {
   "cell_type": "code",
   "execution_count": 29,
   "metadata": {},
   "outputs": [],
   "source": [
    "from examples.bayesian_NN.NN_model import _ood_testing\n",
    "from examples.bayesian_NN.NN_data import X_train_notMNIST, X_test_notMNIST, y_train_notMNIST, y_test_notMNIST\n"
   ]
  },
  {
   "cell_type": "code",
   "execution_count": 30,
   "metadata": {},
   "outputs": [],
   "source": [
    "ood_samples_sghmc_SH_KSD = _ood_testing(flat_samples_sghmc_SH[::5], X_test_notMNIST[::5])\n",
    "\n",
    "wait_until_computed(ood_samples_sghmc_SH_KSD)"
   ]
  },
  {
   "cell_type": "code",
   "execution_count": 31,
   "metadata": {},
   "outputs": [],
   "source": [
    "ood_samples_sghmc_default = _ood_testing(flat_samples_sghmc_default[::5], X_test_notMNIST[::5])\n",
    "\n",
    "wait_until_computed(ood_samples_sghmc_default)\n"
   ]
  },
  {
   "cell_type": "code",
   "execution_count": 32,
   "metadata": {},
   "outputs": [],
   "source": [
    "\n",
    "sorted_ood_sghmc_SH_KSD = sorted(ood_samples_sghmc_SH_KSD)\n",
    "sorted_ood_sghmc_default = sorted(ood_samples_sghmc_default)\n"
   ]
  },
  {
   "cell_type": "code",
   "execution_count": 33,
   "metadata": {},
   "outputs": [
    {
     "data": {
      "image/png": "[encoded data removed]",
      "text/plain": [
       "<Figure size 720x576 with 1 Axes>"
      ]
     },
     "metadata": {},
     "output_type": "display_data"
    }
   ],
   "source": [
    "thin_step = 50\n",
    "\n",
    "y_range = np.linspace(0, 1, (len(sorted_ood_sghmc_SH_KSD)))[::thin_step]\n",
    "plt.figure(figsize=(10,8))\n",
    "\n",
    "\n",
    "\n",
    "plt.plot(sorted_ood_sghmc_SH_KSD[::thin_step], y_range, \n",
    "         label=r\"SH-KSD method: log(dt), b_s_r, update: ()$\", marker=\"o\", markersize=10)\n",
    "\n",
    "\n",
    "plt.plot(sorted_ood_sghmc_default[::thin_step], y_range, \n",
    "         label=r\"default: log(dt), b_s_r, update: $\", marker=\"<\", markersize=10)\n",
    "\n",
    "\n",
    "plt.title(\"SGHMC: CDF of predictive entropy for default and SH method\", size=20)\n",
    "plt.tight_layout()\n",
    "plt.legend()\n",
    "plt.xlabel(\"Entropy\", size=20)\n",
    "plt.ylabel(\"Empirical CDF\", size=20)\n",
    "plt.tight_layout()\n",
    "# plt.savefig(\"NN_notMSNIST_sgld_default_SH.png\")"
   ]
  },
  {
   "cell_type": "code",
   "execution_count": null,
   "metadata": {},
   "outputs": [],
   "source": []
  },
  {
   "cell_type": "markdown",
   "metadata": {},
   "source": [
    "# 3 plots"
   ]
  },
  {
   "cell_type": "code",
   "execution_count": 2,
   "metadata": {},
   "outputs": [],
   "source": [
    "# sgld\n",
    "\n",
    "ksd_list_adam = np.genfromtxt(f\"outputs/KSD_list/NN/ksd_curve_adam.csv\")\n",
    "ksd_list_sgld_default = np.genfromtxt(f\"outputs/KSD_list/NN/ksd_curve_sgld_default.csv\")\n",
    "list_KSD_curves_sgld_10 = []\n",
    "for idx in range(9):\n",
    "    mylist = np.genfromtxt(f\"outputs/KSD_list/NN/sgld-SH_10-n_90/ksd_curve_{idx}.csv\")\n",
    "    list_KSD_curves_sgld_10.append(mylist)\n",
    "    \n",
    "# svrg\n",
    "\n",
    "ksd_list_svrg_default = np.genfromtxt(f\"outputs/KSD_list/NN/ksd_curve_svrg_default.csv\")\n",
    "list_KSD_curves_svrg_10 = []\n",
    "for idx in range(9):\n",
    "    mylist = np.genfromtxt(f\"outputs/KSD_list/NN/svrg-SH_10-n_120/ksd_curve_{idx}.csv\")\n",
    "    list_KSD_curves_svrg_10.append(mylist)\n",
    "    \n",
    "# sghmc \n",
    "list_KSD_curves_sghmc_SH30 = []\n",
    "for idx in range(9):\n",
    "    mylist = np.genfromtxt(f\"outputs/KSD_list/NN/sghmc-SH_30-n_120/ksd_curve_{idx}.csv\")\n",
    "    list_KSD_curves_sghmc_SH30.append(mylist)\n",
    "\n",
    "ksd_list_sghmc_default = np.genfromtxt(f\"outputs/KSD_list/NN/ksd_list_sghmc_default.csv\")\n"
   ]
  },
  {
   "cell_type": "code",
   "execution_count": null,
   "metadata": {},
   "outputs": [],
   "source": []
  },
  {
   "cell_type": "code",
   "execution_count": 4,
   "metadata": {},
   "outputs": [
    {
     "data": {
      "image/png": "[encoded data removed]",
      "text/plain": [
       "<Figure size 1512x432 with 3 Axes>"
      ]
     },
     "metadata": {},
     "output_type": "display_data"
    }
   ],
   "source": [
    "plt.rcParams.update({'font.size':17})\n",
    "fig, ax = plt.subplots(1,3, figsize=(21, 6), sharey=False)\n",
    "\n",
    "\n",
    "# ===============\n",
    "# SGLD\n",
    "average_curve_sgld_SH10 = np.mean(list_KSD_curves_sgld_10, axis=0)\n",
    "std_curve_sgld_SH10 = np.std(list_KSD_curves_sgld_10, axis=0)\n",
    "\n",
    "max_time_budget_sgld = 20\n",
    "\n",
    "ax[0].plot(np.arange(5, max_time_budget_sgld, 2), average_curve_sgld_SH10, marker=\"+\", markersize=15, \n",
    "         c='r', label=\"MAMBA\")\n",
    "ax[0].fill_between(np.arange(5, max_time_budget_sgld, 2), average_curve_sgld_SH10+2*std_curve_sgld_SH10, \n",
    "                 average_curve_sgld_SH10-2*std_curve_sgld_SH10, alpha=0.1, color='r')\n",
    "\n",
    "ax[0].plot(np.arange(5, max_time_budget_sgld,2), ksd_list_sgld_default, marker=\"o\", label=\"grid search\", markersize=10)\n",
    "ax[0].plot(np.arange(5, max_time_budget_sgld,2), ksd_list_adam, marker=\"v\", label=\"SGLD-adam\", markersize=10)\n",
    "\n",
    "\n",
    "# ax[0].set_title(\"SGLD sampler\", size=23)\n",
    "ax[0].set_ylabel(\"log-KSD\", size=19)\n",
    "ax[0].set_xlabel(\"time budget (seconds)\", size=19)\n",
    "ax[0].legend(fontsize=20)\n",
    "\n",
    "\n",
    "\n",
    "# ===============\n",
    "# # SVRG\n",
    "\n",
    "average_curve_sgldCV_SH10 = np.mean(list_KSD_curves_svrg_10, axis=0)\n",
    "std_curve_sgldCV_SH10 = np.std(list_KSD_curves_svrg_10, axis=0)\n",
    "\n",
    "max_time_budget_sgldCV = 20\n",
    "\n",
    "ax[1].plot(np.arange(5, max_time_budget_sgldCV,2), average_curve_sgldCV_SH10, marker=\"+\", markersize=15, \n",
    "         c='r', label=\"MAMBA\")\n",
    "ax[1].fill_between(np.arange(5, max_time_budget_sgldCV,2), average_curve_sgldCV_SH10+2*std_curve_sgldCV_SH10, \n",
    "                 average_curve_sgldCV_SH10-2*std_curve_sgldCV_SH10, alpha=0.1, color='r')\n",
    "\n",
    "ax[1].plot(np.arange(5, max_time_budget_sgldCV, 2), ksd_list_svrg_default, marker=\"o\", label=\"grid search\", markersize=10)\n",
    "\n",
    "# ax[1].set_title(\"SVRG sampler\", size=23)\n",
    "ax[1].set_ylabel(\"log-KSD\", size=19)\n",
    "ax[1].set_xlabel(\"time budget (seconds)\", size=19)\n",
    "# ax[1].legend(fontsize=20)\n",
    "\n",
    "\n",
    "# ==================\n",
    "# SG-HMC\n",
    "average_curve_sghmc_SH10 = np.mean(list_KSD_curves_sghmc_SH30, axis=0)\n",
    "std_curve_sghmc_SH10 = np.std(list_KSD_curves_sghmc_SH30, axis=0)\n",
    "\n",
    "max_time_budget_sghmc = 20\n",
    "\n",
    "ax[2].plot(np.arange(5, max_time_budget_sghmc,2), average_curve_sghmc_SH10, marker=\"+\", markersize=15, \n",
    "         c='r', label=\"MAMBA\")\n",
    "ax[2].fill_between(np.arange(5, max_time_budget_sghmc,2), average_curve_sghmc_SH10+2*std_curve_sghmc_SH10, \n",
    "                 average_curve_sghmc_SH10-2*std_curve_sghmc_SH10, alpha=0.1, color='r')\n",
    "    \n",
    "ax[2].plot(np.arange(5, max_time_budget_sghmc,2), ksd_list_sghmc_default, marker=\"o\", label=\"grid search\", markersize=10)\n",
    "\n",
    "# ax[2].set_title(\"SG-HMC sampler\", size=23)\n",
    "ax[2].set_ylabel(\"log-KSD\", size=19)\n",
    "ax[2].set_xlabel(\"time budget (seconds)\", size=19)\n",
    "# ax[2].legend(fontsize=20)\n",
    "ax[0].set_yscale(\"log\")\n",
    "ax[1].set_yscale(\"log\")\n",
    "ax[2].set_yscale(\"log\")\n",
    "# plt.savefig(\"images/NN_KSD_curves.png\")\n",
    "\n"
   ]
  },
  {
   "cell_type": "code",
   "execution_count": null,
   "metadata": {},
   "outputs": [],
   "source": []
  },
  {
   "cell_type": "code",
   "execution_count": null,
   "metadata": {},
   "outputs": [],
   "source": []
  },
  {
   "cell_type": "code",
   "execution_count": null,
   "metadata": {},
   "outputs": [],
   "source": []
  },
  {
   "cell_type": "code",
   "execution_count": null,
   "metadata": {},
   "outputs": [],
   "source": []
  },
  {
   "cell_type": "code",
   "execution_count": null,
   "metadata": {},
   "outputs": [],
   "source": []
  },
  {
   "cell_type": "code",
   "execution_count": null,
   "metadata": {},
   "outputs": [],
   "source": []
  }
 ],
 "metadata": {
  "kernelspec": {
   "display_name": "Python 3",
   "language": "python",
   "name": "python3"
  },
  "language_info": {
   "codemirror_mode": {
    "name": "ipython",
    "version": 3
   },
   "file_extension": ".py",
   "mimetype": "text/x-python",
   "name": "python",
   "nbconvert_exporter": "python",
   "pygments_lexer": "ipython3",
   "version": "3.8.2"
  }
 },
 "nbformat": 4,
 "nbformat_minor": 4
}
