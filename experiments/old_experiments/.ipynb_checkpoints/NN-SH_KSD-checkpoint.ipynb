{
 "cells": [
  {
   "cell_type": "code",
   "execution_count": 1,
   "metadata": {},
   "outputs": [
    {
     "name": "stderr",
     "output_type": "stream",
     "text": [
      "/Users/jeremiecoullon/Documents/research/papers/SGMCMC_bandit_tuning/venv/lib/python3.8/site-packages/jax/lib/xla_bridge.py:130: UserWarning: No GPU/TPU found, falling back to CPU.\n",
      "  warnings.warn('No GPU/TPU found, falling back to CPU.')\n"
     ]
    }
   ],
   "source": [
    "%matplotlib inline\n",
    "import matplotlib.pyplot as plt\n",
    "import seaborn as sns\n",
    "import numpy as np\n",
    "import time\n",
    "\n",
    "from collections import OrderedDict\n",
    "\n",
    "import jax.numpy as jnp\n",
    "from jax import value_and_grad, grad, jit, vmap, partial\n",
    "from jax import random, ops, lax\n",
    "\n",
    "import context \n",
    "\n",
    "\n",
    "from examples.bayesian_NN.NN_data import X_train, X_test, y_train, y_test\n",
    "from examples.bayesian_NN.NN_model import init_network, predict, accuracy, log_post, grad_log_post, batch_loglik\n",
    "from examples.bayesian_NN.sampler import sgld_NN, kernel_NN\n",
    "from examples.bayesian_NN.util import flatten_NN_params, load_NN_MAP, flatten_NN_params_jaxscan\n",
    "from examples.bayesian_NN.sampler import sgld_NN_time_budget, sgld_NN_time_budget_CV, scan_NN\n",
    "\n",
    "from examples.bayesian_NN.svrg import sgld_NN_time_budget_svrg\n",
    "\n",
    "from successive_halving.sh import Base_SGLD_SuccHalv_Time, run_SH_time_budget_keep_3\n",
    "from successive_halving.sh import create_T_list_sghmc, create_T_list_2params, create_T_list_svrg\n",
    "from ksd import imq_KSD\n",
    "from util import wait_until_computed\n"
   ]
  },
  {
   "cell_type": "markdown",
   "metadata": {},
   "source": [
    "## SH - NN"
   ]
  },
  {
   "cell_type": "code",
   "execution_count": 2,
   "metadata": {},
   "outputs": [
    {
     "name": "stdout",
     "output_type": "stream",
     "text": [
      "14\n"
     ]
    }
   ],
   "source": [
    "time_budget = 3\n",
    "\n",
    "key = random.PRNGKey(0)\n",
    "dt = 10**(-4.75)\n",
    "batch_size = int(X_train.shape[0]*0.1)\n",
    "params_IC = load_NN_MAP()\n",
    "\n",
    "samples_NN_default, _ = sgld_NN_time_budget(key, time_budget, grad_log_post, dt, \n",
    "                                            batch_size, params_IC, X_train, y_train, save_rate=10)\n",
    "\n",
    "print(len(samples_NN_default))"
   ]
  },
  {
   "cell_type": "code",
   "execution_count": 3,
   "metadata": {},
   "outputs": [],
   "source": [
    "\n",
    "class NN_succ_halving(Base_SGLD_SuccHalv_Time):\n",
    "    \n",
    "    def __init__(self, key, logdt, batch_size_ratio, thin_step):\n",
    "        self.key = key\n",
    "        self.logdt = logdt\n",
    "        self.save_rate = thin_step\n",
    "        self.batch_size_ratio = batch_size_ratio\n",
    "        self.x_0 = load_NN_MAP()\n",
    "        self.last_sample = None\n",
    "        super(NN_succ_halving, self).__init__(self.key, self.logdt, self.x_0)\n",
    "        \n",
    "    def _run_sampler(self, key, time_budget, x_0):\n",
    "        dt = 10**self.logdt\n",
    "        batch_size = int(self.batch_size_ratio*X_train.shape[0])\n",
    "        samples, grads = sgld_NN_time_budget(key, time_budget, grad_log_post, \n",
    "                        dt, batch_size, x_0, X_train, y_train, save_rate=self.save_rate)\n",
    "        if samples == []:\n",
    "            return None, None\n",
    "        else:\n",
    "            pass\n",
    "        try:\n",
    "            self.last_sample = samples[-1]\n",
    "        except:\n",
    "            pass\n",
    "        \n",
    "        flat_samples = flatten_NN_params(samples)\n",
    "        full_batch_grads = [grad_log_post(sam, X_train, y_train) for sam in samples]\n",
    "        flat_grads = flatten_NN_params(full_batch_grads)\n",
    "        return flat_samples, flat_grads\n",
    "    \n",
    "    def get_ksd(self):\n",
    "        try:\n",
    "            if any(np.isnan(self.samples[-1])):\n",
    "                return 1e10\n",
    "            else: pass\n",
    "            self.KSD = imq_KSD(self.samples, self.grads)\n",
    "            return self.KSD\n",
    "        except:\n",
    "            return 1e10\n",
    "    \n",
    "    def get_last_sample(self):\n",
    "        return self.last_sample\n",
    "    \n"
   ]
  },
  {
   "cell_type": "markdown",
   "metadata": {},
   "source": [
    "### test SH class"
   ]
  },
  {
   "cell_type": "code",
   "execution_count": 8,
   "metadata": {},
   "outputs": [
    {
     "name": "stdout",
     "output_type": "stream",
     "text": [
      "11\n",
      "480.56396\n"
     ]
    }
   ],
   "source": [
    "key = random.PRNGKey(0)\n",
    "my_sgld = NN_succ_halving(random.PRNGKey(0), logdt=-5., batch_size_ratio=0.1, thin_step=20)\n",
    "\n",
    "\n",
    "my_sgld.run(5)\n",
    "print(my_sgld.len_samples)\n",
    "print(my_sgld.get_ksd())"
   ]
  },
  {
   "cell_type": "code",
   "execution_count": 9,
   "metadata": {},
   "outputs": [
    {
     "name": "stdout",
     "output_type": "stream",
     "text": [
      "2\n",
      "1261.2231\n"
     ]
    }
   ],
   "source": [
    "key = random.PRNGKey(1)\n",
    "my_sgld = NN_succ_halving(random.PRNGKey(0), logdt=-5., batch_size_ratio=0.1, thin_step=20)\n",
    "\n",
    "\n",
    "my_sgld.run(1)\n",
    "print(my_sgld.len_samples)\n",
    "print(my_sgld.get_ksd())"
   ]
  },
  {
   "cell_type": "code",
   "execution_count": 10,
   "metadata": {},
   "outputs": [
    {
     "name": "stdout",
     "output_type": "stream",
     "text": [
      "13\n",
      "422.81372\n"
     ]
    }
   ],
   "source": [
    "my_sgld.run(4)\n",
    "print(my_sgld.len_samples)\n",
    "print(my_sgld.get_ksd())"
   ]
  },
  {
   "cell_type": "code",
   "execution_count": null,
   "metadata": {},
   "outputs": [],
   "source": []
  },
  {
   "cell_type": "markdown",
   "metadata": {},
   "source": [
    "\n",
    "## SH-KSD for NN\n",
    "\n",
    "Setup:     \n",
    "- r = 2\n",
    "- n = 30\n",
    "- eta = 3\n",
    "- key = random.PRNGKey(10)\n",
    "- thin by 20\n",
    "\n",
    "Optimal:"
   ]
  },
  {
   "cell_type": "code",
   "execution_count": 13,
   "metadata": {},
   "outputs": [
    {
     "name": "stdout",
     "output_type": "stream",
     "text": [
      "r=0.200\n",
      "Number of iterations: 4\n",
      "Total budget: around 72 sec\n",
      "=====\n",
      "\n",
      "Iteration 0: 90 configurations with 0.200 seconds each\n",
      "Combinations: [(-5.6809406, 0.035111915), (-4.8188696, 0.24770762), (-3.1054559, 0.046415884), (-2.8742738, 0.869749), (-6.927352, 1.0), (-2.0856218, 0.017475285), (-2.124608, 0.07054803), (-4.2174926, 0.018738173), (-2.953824, 0.010722672), (-6.1667485, 0.75646335), (-5.401692, 0.043287612), (-4.943814, 0.4328761), (-4.1000185, 0.16297507), (-3.4697778, 0.010722672), (-6.300881, 0.46415886), (-6.246524, 0.021544348), (-4.6608067, 0.061359067), (-6.8173018, 0.1), (-2.2085094, 0.001629751), (-5.4803066, 0.004977024), (-3.4399357, 0.0015199113), (-3.0746777, 0.0021544343), (-4.885751, 0.0012328465), (-3.1537957, 0.011497568), (-5.071318, 0.65793324), (-5.0046825, 1.0), (-6.1107597, 0.0075646355), (-6.770213, 0.1), (-4.605062, 0.40370172), (-5.664422, 0.13219412), (-2.3886995, 1.0), (-6.7092285, 0.04977024), (-4.154315, 0.014174741), (-2.297781, 0.0132194115), (-2.1183505, 0.020092327), (-4.959774, 0.04977024), (-3.531455, 0.13219412), (-3.5823257, 0.24770762), (-2.0761914, 0.0053366995), (-4.7569885, 0.001629751), (-3.6042943, 0.3274549), (-3.4768987, 0.0075646355), (-4.700827, 0.028480362), (-5.2038264, 0.035111915), (-6.3498206, 0.0014174745), (-3.269414, 0.008697491), (-4.951375, 0.0070548006), (-5.0149136, 0.0046415897), (-5.764844, 0.40370172), (-3.9615893, 0.65793324), (-2.786068, 0.107226714), (-2.4027443, 0.5722368), (-4.3335543, 0.0057223677), (-3.0566044, 0.0018738173), (-4.7554107, 0.40370172), (-5.6509304, 0.28480357), (-3.813931, 0.0018738173), (-2.3612862, 0.028480362), (-5.384864, 0.18738173), (-2.023695, 0.057223674), (-3.170065, 0.028480362), (-3.617123, 0.026560875), (-6.2441916, 0.046415884), (-6.9912047, 0.869749), (-3.8553967, 0.2656088), (-5.9795012, 0.0013219408), (-3.4130557, 0.28480357), (-2.8872814, 0.003764935), (-3.3357067, 0.35111916), (-6.3182063, 0.0030538556), (-5.404612, 0.024770763), (-3.0052156, 0.0028480361), (-6.4214163, 0.37649357), (-4.913162, 0.001629751), (-4.494991, 0.002310129), (-5.186131, 0.0018738173), (-3.003564, 0.0012328465), (-4.509186, 0.2656088), (-4.117735, 0.107226714), (-6.835623, 0.20092331), (-4.296294, 0.6135907), (-4.0109043, 0.00811131), (-2.327219, 0.24770762), (-2.574772, 0.24770762), (-2.6325078, 0.028480362), (-3.0462337, 0.018738173), (-3.2526913, 0.6135907), (-5.3254724, 0.0021544343), (-5.371129, 0.21544346), (-2.53374, 0.07564633)]\n",
      "Number of samples: \n",
      "[3, 0, 2, 0, 0, 6, 2, 5, 7, 0, 1, 0, 0, 7, 0, 4, 2, 1, 17, 12, 17, 14, 19, 7, 0, 0, 5, 0, 0, 1, 0, 2, 6, 5, 5, 1, 0, 0, 12, 14, 0, 9, 3, 2, 18, 9, 10, 12, 0, 0, 1, 0, 11, 11, 0, 0, 15, 3, 0, 1, 2, 4, 2, 0, 0, 13, 0, 13, 0, 15, 4, 12, 0, 8, 15, 12, 10, 0, 0, 0, 0, 6, 0, 0, 2, 3, 0, 13, 0, 1]\n",
      "Calculating KSD for each sampler\n",
      "Calculating KSD for each sampler\n",
      "\n",
      "Iteration 1: 30 configurations with 0.600 seconds each\n",
      "Combinations: [(-5.4803066, 0.004977024), (-4.6608067, 0.061359067), (-5.3254724, 0.0021544343), (-5.404612, 0.024770763), (-4.951375, 0.0070548006), (-5.0149136, 0.0046415897), (-5.9795012, 0.0013219408), (-5.186131, 0.0018738173), (-5.6809406, 0.035111915), (-5.2038264, 0.035111915), (-6.3182063, 0.0030538556), (-4.959774, 0.04977024), (-4.700827, 0.028480362), (-6.3498206, 0.0014174745), (-6.1107597, 0.0075646355), (-5.664422, 0.13219412), (-4.885751, 0.0012328465), (-5.401692, 0.043287612), (-3.4697778, 0.010722672), (-4.913162, 0.001629751), (-3.4768987, 0.0075646355), (-6.246524, 0.021544348), (-3.4399357, 0.0015199113), (-4.7569885, 0.001629751), (-6.2441916, 0.046415884), (-4.0109043, 0.00811131), (-3.813931, 0.0018738173), (-6.7092285, 0.04977024), (-3.617123, 0.026560875), (-6.8173018, 0.1)]\n",
      "Number of samples: \n",
      "[35, 6, 47, 12, 29, 33, 43, 48, 10, 9, 50, 6, 13, 59, 18, 3, 52, 6, 24, 47, 30, 15, 54, 49, 7, 26, 47, 6, 11, 4]\n",
      "Calculating KSD for each sampler\n",
      "Calculating KSD for each sampler\n",
      "\n",
      "Iteration 2: 10 configurations with 1.800 seconds each\n",
      "Combinations: [(-5.4803066, 0.004977024), (-5.3254724, 0.0021544343), (-4.6608067, 0.061359067), (-5.404612, 0.024770763), (-5.2038264, 0.035111915), (-4.951375, 0.0070548006), (-4.959774, 0.04977024), (-5.186131, 0.0018738173), (-4.700827, 0.028480362), (-5.9795012, 0.0013219408)]\n",
      "Number of samples: \n",
      "[128, 164, 19, 30, 29, 89, 20, 127, 38, 151]\n",
      "Calculating KSD for each sampler\n",
      "Calculating KSD for each sampler\n",
      "\n",
      "Iteration 3: 3 configurations with 5.400 seconds each\n",
      "Combinations: [(-5.4803066, 0.004977024), (-5.3254724, 0.0021544343), (-5.2038264, 0.035111915)]\n",
      "Number of samples: \n",
      "[370, 398, 97]\n",
      "Calculating KSD for each sampler\n",
      "Calculating KSD for each sampler\n",
      "Running time: 819.75sec\n"
     ]
    }
   ],
   "source": [
    "\n",
    "R = 8 # total time budget for longest runs\n",
    "n = 90 # number of step sizes to try at first\n",
    "r = R/40\n",
    "thin_step = 10\n",
    "eta = 3 # cut trials by 3 every time\n",
    "\n",
    "print(f\"r={r:.3f}\")\n",
    "key = random.PRNGKey(2)\n",
    "\n",
    "sampler_dict_sgld = run_SH_time_budget_keep_3(key, r, n ,eta, thin_step, \n",
    "                                  NN_succ_halving, create_T_list_2params, X_train.shape[0])\n",
    "\n"
   ]
  },
  {
   "cell_type": "code",
   "execution_count": null,
   "metadata": {},
   "outputs": [],
   "source": []
  },
  {
   "cell_type": "code",
   "execution_count": 14,
   "metadata": {},
   "outputs": [
    {
     "name": "stdout",
     "output_type": "stream",
     "text": [
      "(-5.4803066, 0.004977024) 3700 233.77672\n",
      "(-5.2038264, 0.035111915) 970 283.2232\n",
      "(-5.3254724, 0.0021544343) 3980 292.94736\n"
     ]
    }
   ],
   "source": [
    "# key = 2\n",
    "# running time: 13min 30sec\n",
    "for k,v in sampler_dict_sgld.items():\n",
    "    print(k, v.len_samples*thin_step, v.KSD)"
   ]
  },
  {
   "cell_type": "code",
   "execution_count": 17,
   "metadata": {},
   "outputs": [
    {
     "name": "stdout",
     "output_type": "stream",
     "text": [
      "(-5.3111, 0.003274549) 4290 244.93042\n",
      "(-4.93334, 0.023101298) 1410 249.42813\n",
      "(-5.5381775, 0.0020092328) 5230 261.9676\n"
     ]
    }
   ],
   "source": [
    "# key = 1\n",
    "# running time:  12min\n",
    "for k,v in sampler_dict_sgld.items():\n",
    "    print(k, v.len_samples*thin_step, v.KSD)"
   ]
  },
  {
   "cell_type": "code",
   "execution_count": 19,
   "metadata": {},
   "outputs": [
    {
     "name": "stdout",
     "output_type": "stream",
     "text": [
      "(-5.187175, 0.010722672) 3780 185.63173\n",
      "(-5.480715, 0.0035111913) 5890 201.25934\n",
      "(-5.6204176, 0.0026560882) 6460 220.57657\n"
     ]
    }
   ],
   "source": [
    "# key = 0\n",
    "# running time: 16min  \n",
    "for k,v in sampler_dict_sgld.items():\n",
    "    print(k, v.len_samples*thin_step, v.KSD)"
   ]
  },
  {
   "cell_type": "code",
   "execution_count": null,
   "metadata": {},
   "outputs": [],
   "source": []
  },
  {
   "cell_type": "code",
   "execution_count": null,
   "metadata": {},
   "outputs": [],
   "source": []
  },
  {
   "cell_type": "markdown",
   "metadata": {},
   "source": [
    "# SH for svrg"
   ]
  },
  {
   "cell_type": "code",
   "execution_count": 2,
   "metadata": {},
   "outputs": [],
   "source": [
    "class NN_succ_halving_SVRG(Base_SGLD_SuccHalv_Time):\n",
    "    \n",
    "    def __init__(self, key, logdt, batch_size_ratio, thin_step):\n",
    "        self.key = key\n",
    "        self.logdt = logdt\n",
    "        self.save_rate = thin_step\n",
    "        self.batch_size_ratio = batch_size_ratio\n",
    "        self.x_0 = load_NN_MAP()\n",
    "        self.update_rate = 1000\n",
    "        self.last_sample = None\n",
    "        super(NN_succ_halving_SVRG, self).__init__(self.key, self.logdt, self.x_0)\n",
    "        \n",
    "    def _run_sampler(self, key, time_budget, x_0):\n",
    "        dt = 10**self.logdt\n",
    "        batch_size = int(self.batch_size_ratio*X_train.shape[0])\n",
    "        samples = sgld_NN_time_budget_svrg(key, time_budget, dt, batch_size, \n",
    "                                           x_0, self.update_rate, save_rate=self.save_rate)\n",
    "        if samples == []:\n",
    "            return None, None\n",
    "        else:\n",
    "            pass\n",
    "        try:\n",
    "            self.last_sample = samples[-1]\n",
    "        except:\n",
    "            pass\n",
    "        \n",
    "        flat_samples = flatten_NN_params(samples)\n",
    "        full_batch_grads = [grad_log_post(sam, X_train, y_train) for sam in samples]\n",
    "        flat_grads = flatten_NN_params(full_batch_grads)\n",
    "        return flat_samples, flat_grads\n",
    "    \n",
    "    def get_ksd(self):\n",
    "        try:\n",
    "            if any(np.isnan(self.samples[-1])):\n",
    "                return 1e10\n",
    "            else: pass\n",
    "            self.KSD = imq_KSD(self.samples, self.grads)\n",
    "            return self.KSD\n",
    "        except:\n",
    "            return 1e10\n",
    "    \n",
    "    def get_last_sample(self):\n",
    "        return self.last_sample\n",
    "    \n"
   ]
  },
  {
   "cell_type": "markdown",
   "metadata": {},
   "source": [
    "### test SH class"
   ]
  },
  {
   "cell_type": "code",
   "execution_count": 3,
   "metadata": {},
   "outputs": [
    {
     "name": "stdout",
     "output_type": "stream",
     "text": [
      "4\n",
      "691.9497\n"
     ]
    }
   ],
   "source": [
    "key = random.PRNGKey(0)\n",
    "my_sgld = NN_succ_halving_SVRG(random.PRNGKey(0), logdt=-5., batch_size_ratio=0.1, thin_step=20)\n",
    "\n",
    "\n",
    "my_sgld.run(5)\n",
    "print(my_sgld.len_samples)\n",
    "print(my_sgld.get_ksd())"
   ]
  },
  {
   "cell_type": "code",
   "execution_count": 4,
   "metadata": {},
   "outputs": [
    {
     "name": "stdout",
     "output_type": "stream",
     "text": [
      "2\n",
      "880.5888\n"
     ]
    }
   ],
   "source": [
    "key = random.PRNGKey(0)\n",
    "my_sgld = NN_succ_halving_SVRG(random.PRNGKey(0), logdt=-5., batch_size_ratio=0.1, thin_step=20)\n",
    "\n",
    "my_sgld.run(2)\n",
    "print(my_sgld.len_samples)\n",
    "print(my_sgld.get_ksd())"
   ]
  },
  {
   "cell_type": "code",
   "execution_count": 5,
   "metadata": {},
   "outputs": [
    {
     "name": "stdout",
     "output_type": "stream",
     "text": [
      "4\n",
      "635.0441\n"
     ]
    }
   ],
   "source": [
    "my_sgld.run(3)\n",
    "print(my_sgld.len_samples)\n",
    "print(my_sgld.get_ksd())"
   ]
  },
  {
   "cell_type": "markdown",
   "metadata": {},
   "source": [
    "#### run SH"
   ]
  },
  {
   "cell_type": "code",
   "execution_count": 6,
   "metadata": {},
   "outputs": [
    {
     "name": "stdout",
     "output_type": "stream",
     "text": [
      "r=0.300\n",
      "Number of iterations: 4\n",
      "Total budget: around 108 sec\n",
      "=====\n",
      "\n",
      "Iteration 0: 90 configurations with 0.300 seconds each\n",
      "Combinations: [(-2.9291453, 0.93260336), (-6.4782596, 0.00811131), (-5.5711884, 0.024770763), (-4.7319803, 0.003764935), (-6.044933, 0.0053366995), (-4.836668, 0.015199109), (-3.7557585, 0.017475285), (-3.0864086, 0.869749), (-2.750773, 0.49770236), (-6.2133875, 0.0061359066), (-6.2843676, 0.020092327), (-5.797586, 0.0053366995), (-2.1424685, 0.4328761), (-3.8307626, 0.017475285), (-2.713562, 0.0013219408), (-3.0279179, 0.010722672), (-4.327333, 0.0010722672), (-5.3738036, 0.037649363), (-5.0438943, 0.16297507), (-5.0316076, 0.0010722672), (-2.7530785, 0.14174742), (-2.9914374, 0.040370174), (-3.1181636, 0.0028480361), (-5.4463973, 0.5722368), (-5.470988, 0.020092327), (-2.6559381, 0.0035111913), (-3.0144324, 0.13219412), (-6.1687517, 0.16297507), (-6.3341594, 0.057223674), (-4.1798353, 0.010722672), (-6.433, 0.869749), (-3.1092925, 0.0012328465), (-5.62562, 0.1149757), (-5.8155127, 0.028480362), (-4.685914, 0.00811131), (-3.0072458, 0.0053366995), (-6.900423, 0.030538555), (-2.0247598, 0.40370172), (-2.7489386, 0.7054802), (-3.312058, 0.08697491), (-6.9565215, 0.0021544343), (-5.977781, 0.0057223677), (-2.5438142, 0.014174741), (-5.9351597, 0.030538555), (-2.9429984, 0.028480362), (-3.311627, 0.20092331), (-6.858089, 0.6135907), (-2.796133, 0.0014174745), (-5.056478, 0.5722368), (-6.390279, 0.0021544343), (-5.728223, 0.21544346), (-4.253462, 0.020092327), (-3.1437535, 0.08697491), (-3.1290498, 0.057223674), (-5.8777184, 0.5336699), (-4.3062177, 0.0075646355), (-4.3022003, 0.06579333), (-3.5621126, 0.1), (-5.187175, 0.010722672), (-3.3565087, 0.37649357), (-3.0452394, 0.001629751), (-4.7952933, 0.0132194115), (-3.0058236, 0.030538555), (-6.120002, 0.0075646355), (-4.1204424, 0.0053366995), (-5.6204176, 0.0026560882), (-3.9624102, 0.0017475284), (-3.759408, 0.03274549), (-3.3405526, 0.003274549), (-6.952619, 0.0018738173), (-6.330778, 0.017475285), (-2.392652, 0.0030538556), (-5.4605937, 0.0011497568), (-3.124525, 0.004977024), (-5.1364145, 0.037649363), (-4.3694468, 0.011497568), (-2.1133213, 0.003764935), (-6.611598, 0.21544346), (-5.5917406, 0.6135907), (-6.523905, 0.16297507), (-2.0799122, 0.0053366995), (-5.480715, 0.0035111913), (-2.0501995, 0.004977024), (-6.4006014, 0.5722368), (-2.0104008, 0.004977024), (-5.086786, 0.1149757), (-6.172817, 0.001), (-6.455312, 0.16297507), (-5.8466883, 0.004328762), (-3.3227587, 0.008697491)]\n",
      "Number of samples: \n",
      "[0, 2, 2, 4, 4, 3, 3, 0, 0, 4, 3, 4, 0, 3, 5, 4, 5, 2, 0, 5, 0, 2, 5, 0, 3, 5, 1, 0, 1, 4, 0, 5, 1, 2, 4, 4, 2, 0, 0, 1, 4, 4, 3, 2, 2, 0, 0, 5, 0, 5, 0, 3, 1, 1, 0, 4, 1, 1, 4, 0, 5, 3, 2, 4, 4, 5, 5, 2, 5, 5, 3, 5, 5, 4, 2, 4, 4, 0, 0, 0, 4, 4, 4, 0, 4, 0, 5, 0, 4, 4]\n",
      "Calculating KSD for each sampler\n",
      "Calculating KSD for each sampler\n",
      "\n",
      "Iteration 1: 30 configurations with 0.900 seconds each\n",
      "Combinations: [(-5.187175, 0.010722672), (-4.836668, 0.015199109), (-5.480715, 0.0035111913), (-5.6204176, 0.0026560882), (-4.7952933, 0.0132194115), (-5.4605937, 0.0011497568), (-5.470988, 0.020092327), (-5.1364145, 0.037649363), (-5.5711884, 0.024770763), (-5.3738036, 0.037649363), (-5.797586, 0.0053366995), (-4.7319803, 0.003764935), (-5.8466883, 0.004328762), (-4.685914, 0.00811131), (-5.977781, 0.0057223677), (-6.044933, 0.0053366995), (-5.8155127, 0.028480362), (-5.62562, 0.1149757), (-5.0316076, 0.0010722672), (-6.120002, 0.0075646355), (-6.172817, 0.001), (-5.9351597, 0.030538555), (-6.2133875, 0.0061359066), (-6.390279, 0.0021544343), (-6.2843676, 0.020092327), (-6.330778, 0.017475285), (-6.4782596, 0.00811131), (-6.3341594, 0.057223674), (-6.952619, 0.0018738173), (-6.9565215, 0.0021544343)]\n",
      "Number of samples: \n",
      "[15, 13, 18, 19, 12, 19, 10, 7, 8, 7, 16, 17, 17, 15, 16, 16, 8, 3, 20, 15, 20, 8, 16, 19, 10, 11, 13, 5, 20, 18]\n",
      "Calculating KSD for each sampler\n",
      "Calculating KSD for each sampler\n",
      "\n",
      "Iteration 2: 10 configurations with 2.700 seconds each\n",
      "Combinations: [(-4.836668, 0.015199109), (-5.187175, 0.010722672), (-4.7952933, 0.0132194115), (-5.480715, 0.0035111913), (-5.6204176, 0.0026560882), (-5.4605937, 0.0011497568), (-5.1364145, 0.037649363), (-5.470988, 0.020092327), (-5.3738036, 0.037649363), (-4.685914, 0.00811131)]\n",
      "Number of samples: \n",
      "[44, 47, 39, 57, 59, 65, 22, 32, 23, 49]\n",
      "Calculating KSD for each sampler\n",
      "Calculating KSD for each sampler\n",
      "\n",
      "Iteration 3: 3 configurations with 8.100 seconds each\n",
      "Combinations: [(-4.836668, 0.015199109), (-5.187175, 0.010722672), (-4.7952933, 0.0132194115)]\n",
      "Number of samples: \n",
      "[136, 144, 130]\n",
      "Calculating KSD for each sampler\n",
      "Calculating KSD for each sampler\n",
      "Running time: 641.76sec\n"
     ]
    }
   ],
   "source": [
    "\n",
    "R = 12 # total time budget for longest runs\n",
    "n = 90 # number of step sizes to try at first\n",
    "r = R/40\n",
    "thin_step = 10\n",
    "eta = 3 # cut trials by 3 every time\n",
    "\n",
    "print(f\"r={r:.3f}\")\n",
    "key = random.PRNGKey(0)\n",
    "\n",
    "sampler_dict_svrg = run_SH_time_budget_keep_3(key, r, n ,eta, thin_step, \n",
    "                                  NN_succ_halving_SVRG, create_T_list_2params, X_train.shape[0])\n",
    "\n"
   ]
  },
  {
   "cell_type": "code",
   "execution_count": null,
   "metadata": {},
   "outputs": [],
   "source": []
  },
  {
   "cell_type": "code",
   "execution_count": 7,
   "metadata": {},
   "outputs": [
    {
     "name": "stdout",
     "output_type": "stream",
     "text": [
      "(-5.187175, 0.010722672) 1440 178.37445\n",
      "(-4.836668, 0.015199109) 1360 199.92183\n",
      "(-4.7952933, 0.0132194115) 1300 204.08676\n"
     ]
    }
   ],
   "source": [
    "# key = 0\n",
    "# running time: 10min\n",
    "for k,v in sampler_dict_svrg.items():\n",
    "    print(k, v.len_samples*thin_step, v.KSD)"
   ]
  },
  {
   "cell_type": "code",
   "execution_count": 9,
   "metadata": {},
   "outputs": [
    {
     "name": "stdout",
     "output_type": "stream",
     "text": [
      "(-5.3111, 0.003274549) 2120 182.78842\n",
      "(-4.93334, 0.023101298) 920 190.37178\n",
      "(-4.8867292, 0.01629751) 1200 190.56728\n"
     ]
    }
   ],
   "source": [
    "# key = 1\n",
    "# running time: 8min\n",
    "for k,v in sampler_dict_svrg.items():\n",
    "    print(k, v.len_samples*thin_step, v.KSD)"
   ]
  },
  {
   "cell_type": "code",
   "execution_count": 11,
   "metadata": {},
   "outputs": [
    {
     "name": "stdout",
     "output_type": "stream",
     "text": [
      "(-4.951375, 0.0070548006) 1660 198.46674\n",
      "(-5.3254724, 0.0021544343) 2150 205.87973\n",
      "(-4.700827, 0.028480362) 860 245.19313\n"
     ]
    }
   ],
   "source": [
    "# key = 2\n",
    "# running time: \n",
    "for k,v in sampler_dict_svrg.items():\n",
    "    print(k, v.len_samples*thin_step, v.KSD)"
   ]
  },
  {
   "cell_type": "code",
   "execution_count": null,
   "metadata": {},
   "outputs": [],
   "source": []
  },
  {
   "cell_type": "code",
   "execution_count": null,
   "metadata": {},
   "outputs": [],
   "source": []
  },
  {
   "cell_type": "code",
   "execution_count": null,
   "metadata": {},
   "outputs": [],
   "source": []
  },
  {
   "cell_type": "code",
   "execution_count": null,
   "metadata": {},
   "outputs": [],
   "source": []
  },
  {
   "cell_type": "markdown",
   "metadata": {},
   "source": [
    "## SH for sg-hmc"
   ]
  },
  {
   "cell_type": "code",
   "execution_count": 7,
   "metadata": {},
   "outputs": [],
   "source": [
    "from examples.bayesian_NN.sghmc import sghmc_NN_time_budget\n",
    "\n",
    "class NN_succ_halving_HMC_L(Base_SGLD_SuccHalv_Time):\n",
    "    \n",
    "    def __init__(self, key, logdt, batch_size_ratio, L, thin_step):\n",
    "        self.key = key\n",
    "        self.logdt = logdt\n",
    "        self.batch_size_ratio = batch_size_ratio\n",
    "        self.x_0 = load_NN_MAP()\n",
    "        self.L = L\n",
    "        self.thin_step = thin_step\n",
    "        self.last_sample = None\n",
    "        super(NN_succ_halving_HMC_L, self).__init__(self.key, self.logdt, self.x_0)\n",
    "        \n",
    "    def _run_sampler(self, key, time_budget, x_0):\n",
    "        dt = 10**self.logdt\n",
    "        batch_size = int(self.batch_size_ratio*X_train.shape[0])\n",
    "        samples = sghmc_NN_time_budget(key, time_budget, dt, batch_size, x_0, self.L, save_rate=self.thin_step)\n",
    "        if samples == []:\n",
    "            return None, None\n",
    "        else:\n",
    "            pass\n",
    "        try:\n",
    "            self.last_sample = samples[-1]\n",
    "        except:\n",
    "            pass    \n",
    "        flat_samples = flatten_NN_params(samples)\n",
    "        full_batch_grads = [grad_log_post(sam, X_train, y_train) for sam in samples]\n",
    "        flat_grads = flatten_NN_params(full_batch_grads)\n",
    "        \n",
    "        return flat_samples, flat_grads\n",
    "    \n",
    "    def get_ksd(self):\n",
    "        try:\n",
    "            if any(np.isnan(self.samples[-1])):\n",
    "                return 1e10\n",
    "            else: pass\n",
    "            self.KSD = imq_KSD(self.samples, self.grads)\n",
    "            return self.KSD\n",
    "        except:\n",
    "            return 1e10\n",
    "    \n",
    "    def get_last_sample(self):\n",
    "        return self.last_sample\n",
    "    \n",
    "\n",
    "    "
   ]
  },
  {
   "cell_type": "markdown",
   "metadata": {},
   "source": [
    "### test SH class"
   ]
  },
  {
   "cell_type": "code",
   "execution_count": 10,
   "metadata": {},
   "outputs": [
    {
     "name": "stdout",
     "output_type": "stream",
     "text": [
      "1371.9117\n",
      "4\n"
     ]
    }
   ],
   "source": [
    "\n",
    "key = random.PRNGKey(0)\n",
    "nn_my_hmc = NN_succ_halving_HMC_L(key, -7., 0.1, 10, 10)\n",
    "\n",
    "nn_my_hmc.run(5)\n",
    "print(nn_my_hmc.get_ksd())\n",
    "print(nn_my_hmc.len_samples)\n"
   ]
  },
  {
   "cell_type": "code",
   "execution_count": 11,
   "metadata": {},
   "outputs": [
    {
     "name": "stdout",
     "output_type": "stream",
     "text": [
      "4496.396\n",
      "1\n",
      "2598.093\n",
      "3\n",
      "2073.715\n",
      "4\n"
     ]
    }
   ],
   "source": [
    "\n",
    "key = random.PRNGKey(0)\n",
    "nn_my_hmc = NN_succ_halving_HMC_L(key, -7., 0.1, 10, 10)\n",
    "\n",
    "nn_my_hmc.run(1)\n",
    "print(nn_my_hmc.get_ksd())\n",
    "print(nn_my_hmc.len_samples)\n",
    "\n",
    "nn_my_hmc.run(2)\n",
    "print(nn_my_hmc.get_ksd())\n",
    "print(nn_my_hmc.len_samples)\n",
    "\n",
    "\n",
    "nn_my_hmc.run(2)\n",
    "print(nn_my_hmc.get_ksd())\n",
    "print(nn_my_hmc.len_samples)\n"
   ]
  },
  {
   "cell_type": "code",
   "execution_count": 7,
   "metadata": {},
   "outputs": [
    {
     "data": {
      "text/plain": [
       "30.0"
      ]
     },
     "execution_count": 7,
     "metadata": {},
     "output_type": "execute_result"
    }
   ],
   "source": [
    "0.75 + 0.75*3 + 0.75*9 + 0.75*27"
   ]
  },
  {
   "cell_type": "code",
   "execution_count": 2,
   "metadata": {},
   "outputs": [
    {
     "data": {
      "text/plain": [
       "0.78125"
      ]
     },
     "execution_count": 2,
     "metadata": {},
     "output_type": "execute_result"
    }
   ],
   "source": [
    "(300/4)/96"
   ]
  },
  {
   "cell_type": "code",
   "execution_count": null,
   "metadata": {},
   "outputs": [],
   "source": []
  },
  {
   "cell_type": "code",
   "execution_count": null,
   "metadata": {},
   "outputs": [],
   "source": []
  },
  {
   "cell_type": "code",
   "execution_count": 16,
   "metadata": {},
   "outputs": [
    {
     "name": "stdout",
     "output_type": "stream",
     "text": [
      "Number of iterations: 4\n",
      "Total budget: around 360 sec\n",
      "=====\n",
      "\n",
      "Iteration 0: 120 configurations with 0.750 seconds each\n",
      "Combinations: [(-5.6016817, 0.0035111913, 14), (-2.9268637, 0.30538556, 16), (-4.8808064, 0.0013219408, 16), (-6.961109, 0.5722368, 9), (-2.39332, 0.0061359066, 10), (-6.3222876, 0.035111915, 4), (-5.015533, 0.93260336, 4), (-6.9114394, 0.6135907, 26), (-6.307716, 0.0040370165, 15), (-5.0523543, 0.0011497568, 15), (-6.4231853, 0.001, 7), (-3.9714003, 0.0010722672, 7), (-4.149378, 0.004328762, 9), (-6.2886944, 0.40370172, 9), (-2.4729414, 0.1, 19), (-5.1166677, 0.06579333, 19), (-6.677946, 0.061359067, 5), (-6.695702, 0.28480357, 8), (-5.365959, 0.037649363, 15), (-4.5360165, 0.053366996, 3), (-4.330592, 0.15199111, 29), (-4.8197184, 0.03274549, 18), (-4.1471167, 0.0070548006, 21), (-5.4690056, 0.869749, 12), (-4.171063, 0.49770236, 15), (-5.787445, 0.008697491, 29), (-4.201998, 0.0040370165, 10), (-5.719651, 0.004328762, 7), (-4.001929, 0.0020092328, 27), (-3.3212676, 0.15199111, 9), (-6.991863, 0.0014174745, 2), (-4.076827, 0.011497568, 12), (-3.3374858, 0.07564633, 20), (-6.9016714, 0.030538555, 8), (-6.845521, 0.0061359066, 9), (-6.317017, 0.93260336, 16), (-6.7917356, 0.0021544343, 14), (-2.9687796, 0.00811131, 16), (-3.8736048, 0.6135907, 11), (-2.217507, 0.024770763, 10), (-2.3605776, 0.16297507, 17), (-2.908515, 0.23101297, 3), (-3.1536126, 0.001629751, 11), (-3.2134159, 0.012328468, 11), (-4.4625607, 0.0070548006, 6), (-2.3857784, 0.06579333, 11), (-5.827092, 0.0046415897, 18), (-5.1213417, 0.011497568, 8), (-4.477164, 0.37649357, 2), (-5.347872, 0.869749, 10), (-2.2434664, 0.01, 26), (-4.586089, 0.0012328465, 19), (-3.5432425, 0.0020092328, 19), (-3.8760734, 0.020092327, 26), (-5.2765684, 0.009326034, 12), (-3.1254585, 0.0070548006, 13), (-6.003038, 0.0070548006, 2), (-6.434027, 0.001, 22), (-3.5601187, 0.0024770768, 8), (-6.0359597, 0.014174741, 16), (-6.546112, 0.001, 18), (-2.5668612, 0.00811131, 23), (-4.130703, 0.004328762, 12), (-3.59796, 0.0070548006, 12), (-5.353693, 0.23101297, 26), (-6.1482897, 0.13219412, 10), (-3.5606518, 0.035111915, 13), (-6.2776623, 0.4328761, 10), (-2.5108128, 0.0011497568, 5), (-6.4233074, 0.0024770768, 3), (-6.1101103, 0.5336699, 23), (-5.568821, 0.00811131, 16), (-2.4261112, 0.004977024, 15), (-3.7527962, 0.40370172, 29), (-4.374629, 0.0010722672, 18), (-2.9795904, 0.0030538556, 3), (-6.084299, 0.17475285, 25), (-5.498445, 0.053366996, 3), (-5.122177, 0.023101298, 11), (-6.5343823, 0.06579333, 7), (-4.1241465, 0.7054802, 6), (-3.01376, 0.01, 6), (-5.179884, 0.21544346, 15), (-5.3477716, 0.5722368, 25), (-3.7022502, 0.12328467, 12), (-5.9781446, 0.028480362, 7), (-4.6366224, 0.7054802, 10), (-6.791415, 0.003764935, 14), (-6.046593, 0.0017475284, 6), (-2.7517982, 0.001, 15), (-6.9988174, 0.37649357, 10), (-3.8938203, 0.2656088, 29), (-4.703456, 0.035111915, 15), (-6.772004, 0.12328467, 2), (-6.6030397, 0.107226714, 29), (-6.419021, 0.107226714, 22), (-5.351627, 0.3274549, 11), (-5.6277766, 0.0046415897, 3), (-4.3548565, 0.20092331, 22), (-5.590087, 0.01629751, 3), (-5.6982703, 0.0015199113, 26), (-5.6158686, 0.49770236, 7), (-6.8549957, 0.01, 28), (-2.946159, 0.3274549, 26), (-3.0509543, 0.14174742, 3), (-5.0275674, 0.021544348, 10), (-6.448895, 0.40370172, 3), (-2.0811868, 0.17475285, 17), (-5.9134007, 0.010722672, 27), (-4.1704855, 0.057223674, 29), (-5.2581067, 0.107226714, 14), (-3.2250943, 0.043287612, 2), (-4.852788, 0.107226714, 15), (-2.6851616, 0.002310129, 7), (-2.647214, 0.014174741, 7), (-2.2405834, 0.1149757, 27), (-6.542779, 0.0021544343, 7), (-4.791771, 0.07054803, 12), (-5.3711386, 0.003764935, 16), (-5.3353825, 0.017475285, 23)]\n",
      "Number of samples: \n",
      "[10, 1, 9, 1, 9, 7, 1, 1, 8, 11, 23, 23, 13, 1, 1, 2, 4, 1, 3, 7, 1, 2, 5, 1, 1, 3, 5, 7, 3, 1, 25, 4, 1, 5, 6, 1, 5, 6, 1, 3, 1, 2, 13, 3, 7, 2, 3, 5, 1, 1, 2, 4, 4, 2, 4, 4, 16, 4, 8, 2, 4, 2, 4, 4, 1, 1, 2, 1, 13, 17, 1, 3, 4, 1, 4, 25, 1, 4, 2, 2, 1, 6, 1, 1, 1, 3, 1, 4, 10, 5, 1, 1, 2, 3, 1, 1, 1, 13, 1, 9, 7, 1, 2, 1, 2, 2, 1, 1, 2, 1, 1, 5, 1, 6, 4, 1, 8, 1, 4, 2]\n",
      "Calculating KSD for each sampler\n",
      "Calculating KSD for each sampler\n",
      "\n",
      "Iteration 1: 40 configurations with 2.250 seconds each\n",
      "Combinations: [(-5.498445, 0.053366996, 3), (-6.4231853, 0.001, 7), (-5.590087, 0.01629751, 3), (-6.845521, 0.0061359066, 9), (-6.542779, 0.0021544343, 7), (-5.6277766, 0.0046415897, 3), (-6.4233074, 0.0024770768, 3), (-6.791415, 0.003764935, 14), (-6.3222876, 0.035111915, 4), (-6.003038, 0.0070548006, 2), (-6.7917356, 0.0021544343, 14), (-6.9016714, 0.030538555, 8), (-6.5343823, 0.06579333, 7), (-6.677946, 0.061359067, 5), (-6.046593, 0.0017475284, 6), (-5.9781446, 0.028480362, 7), (-6.2886944, 0.40370172, 9), (-6.6030397, 0.107226714, 29), (-6.695702, 0.28480357, 8), (-6.2776623, 0.4328761, 10), (-6.9988174, 0.37649357, 10), (-6.0359597, 0.014174741, 16), (-6.961109, 0.5722368, 9), (-6.991863, 0.0014174745, 2), (-6.8549957, 0.01, 28), (-6.9114394, 0.6135907, 26), (-6.419021, 0.107226714, 22), (-6.772004, 0.12328467, 2), (-6.448895, 0.40370172, 3), (-6.1482897, 0.13219412, 10), (-5.0523543, 0.0011497568, 15), (-6.434027, 0.001, 22), (-5.6016817, 0.0035111913, 14), (-5.6982703, 0.0015199113, 26), (-6.317017, 0.93260336, 16), (-5.787445, 0.008697491, 29), (-5.719651, 0.004328762, 7), (-6.1101103, 0.5336699, 23), (-6.307716, 0.0040370165, 15), (-5.9134007, 0.010722672, 27)]\n",
      "Number of samples: \n",
      "[15, 46, 30, 19, 29, 50, 59, 14, 18, 61, 15, 10, 5, 9, 32, 8, 2, 2, 2, 2, 2, 7, 2, 78, 6, 2, 2, 9, 3, 3, 22, 12, 19, 14, 2, 9, 25, 2, 15, 6]\n",
      "Calculating KSD for each sampler\n",
      "Calculating KSD for each sampler\n",
      "\n",
      "Iteration 2: 13 configurations with 6.750 seconds each\n",
      "Combinations: [(-5.498445, 0.053366996, 3), (-6.845521, 0.0061359066, 9), (-6.542779, 0.0021544343, 7), (-5.590087, 0.01629751, 3), (-5.6277766, 0.0046415897, 3), (-6.003038, 0.0070548006, 2), (-6.3222876, 0.035111915, 4), (-6.4233074, 0.0024770768, 3), (-6.4231853, 0.001, 7), (-6.791415, 0.003764935, 14), (-6.9016714, 0.030538555, 8), (-6.7917356, 0.0021544343, 14), (-6.5343823, 0.06579333, 7)]\n",
      "Number of samples: \n",
      "[41, 51, 86, 83, 147, 178, 45, 166, 111, 39, 27, 45, 16]\n",
      "Calculating KSD for each sampler\n",
      "Calculating KSD for each sampler\n",
      "\n",
      "Iteration 3: 4 configurations with 20.250 seconds each\n",
      "Combinations: [(-5.498445, 0.053366996, 3), (-6.845521, 0.0061359066, 9), (-5.590087, 0.01629751, 3), (-6.542779, 0.0021544343, 7)]\n",
      "Number of samples: \n",
      "[120, 157, 267, 250]\n",
      "Calculating KSD for each sampler\n",
      "Calculating KSD for each sampler\n",
      "Running time: 2464.68sec\n"
     ]
    }
   ],
   "source": [
    "R = 30\n",
    "thin_step = 5\n",
    "r = R/40 # number of samples per run\n",
    "n = 120 # number of step sizes to try at first\n",
    "eta = 3 # cut trials by 3 every time\n",
    "\n",
    "key = random.PRNGKey(0)\n",
    "\n",
    "sampler_dict_hmc = run_SH_time_budget_keep_3(key, r, n, eta, thin_step, \n",
    "                               NN_succ_halving_HMC_L, create_T_list_sghmc, X_train.shape[0])\n",
    "\n"
   ]
  },
  {
   "cell_type": "code",
   "execution_count": 17,
   "metadata": {},
   "outputs": [
    {
     "name": "stdout",
     "output_type": "stream",
     "text": [
      "(-5.590087, 0.01629751, 3) 1335 211.60286\n",
      "(-6.845521, 0.0061359066, 9) 785 215.57306\n",
      "(-5.498445, 0.053366996, 3) 600 226.20459\n"
     ]
    }
   ],
   "source": [
    "# key = 0\n",
    "# thin = 5, R=30\n",
    "# running time: 41 minutes\n",
    "\n",
    "for k,v in sampler_dict_hmc.items():\n",
    "    print(k, v.len_samples*thin_step, v.KSD)"
   ]
  },
  {
   "cell_type": "code",
   "execution_count": 19,
   "metadata": {},
   "outputs": [
    {
     "name": "stdout",
     "output_type": "stream",
     "text": [
      "(-6.3645906, 0.012328468, 7) 825 200.55487\n",
      "(-6.9202814, 0.006579331, 12) 645 206.98772\n",
      "(-6.445711, 0.030538555, 8) 420 213.53226\n"
     ]
    }
   ],
   "source": [
    "# key = 1\n",
    "# thin = 5, R=30\n",
    "# running time: 31 minutes\n",
    "\n",
    "for k,v in sampler_dict_hmc.items():\n",
    "    print(k, v.len_samples*thin_step, v.KSD)"
   ]
  },
  {
   "cell_type": "code",
   "execution_count": 21,
   "metadata": {},
   "outputs": [
    {
     "name": "stdout",
     "output_type": "stream",
     "text": [
      "(-5.881216, 0.006579331, 3) 4215 147.20659\n",
      "(-6.990305, 0.004328762, 17) 1110 193.81314\n",
      "(-6.752221, 0.021544348, 6) 995 222.56189\n"
     ]
    }
   ],
   "source": [
    "# key = 2\n",
    "# thin = 5, R=30\n",
    "# running time: 40 minutes\n",
    "\n",
    "for k,v in sampler_dict_hmc.items():\n",
    "    print(k, v.len_samples*thin_step, v.KSD)"
   ]
  },
  {
   "cell_type": "code",
   "execution_count": null,
   "metadata": {},
   "outputs": [],
   "source": []
  },
  {
   "cell_type": "code",
   "execution_count": null,
   "metadata": {},
   "outputs": [],
   "source": []
  },
  {
   "cell_type": "code",
   "execution_count": null,
   "metadata": {},
   "outputs": [],
   "source": []
  }
 ],
 "metadata": {
  "kernelspec": {
   "display_name": "Python 3",
   "language": "python",
   "name": "python3"
  },
  "language_info": {
   "codemirror_mode": {
    "name": "ipython",
    "version": 3
   },
   "file_extension": ".py",
   "mimetype": "text/x-python",
   "name": "python",
   "nbconvert_exporter": "python",
   "pygments_lexer": "ipython3",
   "version": "3.8.2"
  }
 },
 "nbformat": 4,
 "nbformat_minor": 4
}
