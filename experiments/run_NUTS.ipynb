{
 "cells": [
  {
   "cell_type": "code",
   "execution_count": 1,
   "id": "906fd9ec",
   "metadata": {},
   "outputs": [],
   "source": [
    "%matplotlib inline\n",
    "import matplotlib.pyplot as plt\n",
    "import numpy as np\n",
    "\n",
    "import jax.numpy as jnp\n",
    "from jax import jit, random\n",
    "from sgmcmcjax.util import build_grad_log_post\n",
    "import time\n",
    "\n",
    "import numpyro\n",
    "from numpyro.infer import NUTS, MCMC\n",
    "\n",
    "import context\n",
    "from models.logistic_regression.logistic_regression_model import gen_data, loglikelihood, logprior, accuracy\n",
    "from tuning.ksd import imq_KSD\n",
    "from util import wait_until_computed\n"
   ]
  },
  {
   "cell_type": "markdown",
   "id": "6af495e8",
   "metadata": {},
   "source": [
    "## Logistic regression"
   ]
  },
  {
   "cell_type": "code",
   "execution_count": 2,
   "id": "e62d1e69",
   "metadata": {},
   "outputs": [
    {
     "name": "stdout",
     "output_type": "stream",
     "text": [
      "generating data, with N=1,000,000 and dim=10\n",
      "(800000, 10) (200000, 10)\n"
     ]
    }
   ],
   "source": [
    "key = random.PRNGKey(42)\n",
    "dim = 10\n",
    "Ndata = 1_000_000\n",
    "\n",
    "theta_true, X, y_data = gen_data(key, dim, Ndata)\n",
    "\n",
    "# testing and training data\n",
    "num_train = int(Ndata*0.8)\n",
    "\n",
    "X_train = X[:num_train]\n",
    "X_test = X[num_train:]\n",
    "\n",
    "y_train = y_data[:num_train]\n",
    "y_test = y_data[num_train:]\n",
    "print(X_train.shape, X_test.shape)\n",
    "data = (X_train, y_train)\n"
   ]
  },
  {
   "cell_type": "markdown",
   "id": "00555224",
   "metadata": {},
   "source": [
    "### run NUTS for 20K iterations\n",
    "\n",
    "- ESS = 6759\n",
    "- Takes 4 minutes to run\n",
    "- predictive accuracy: 93.71"
   ]
  },
  {
   "cell_type": "code",
   "execution_count": 4,
   "id": "e4cb8665",
   "metadata": {},
   "outputs": [],
   "source": [
    "\n",
    "grad_log_post_LR = build_grad_log_post(loglikelihood, logprior, data, with_val=True)\n",
    "\n",
    "@jit\n",
    "def potential_log_reg(theta):\n",
    "    return -grad_log_post_LR(theta, *data)[0]\n",
    "\n"
   ]
  },
  {
   "cell_type": "code",
   "execution_count": 5,
   "id": "9c6740e3",
   "metadata": {},
   "outputs": [
    {
     "data": {
      "text/plain": [
       "DeviceArray(115910.04, dtype=float32)"
      ]
     },
     "execution_count": 5,
     "metadata": {},
     "output_type": "execute_result"
    }
   ],
   "source": [
    "potential_log_reg(theta_true)"
   ]
  },
  {
   "cell_type": "code",
   "execution_count": null,
   "id": "0a36c053",
   "metadata": {},
   "outputs": [],
   "source": []
  },
  {
   "cell_type": "code",
   "execution_count": 6,
   "id": "38c4ac77",
   "metadata": {},
   "outputs": [
    {
     "name": "stderr",
     "output_type": "stream",
     "text": [
      "sample: 100%|██████████| 21000/21000 [44:34<00:00,  7.85it/s, 7 steps of size 2.67e-01. acc. prob=0.92]   \n"
     ]
    },
    {
     "name": "stdout",
     "output_type": "stream",
     "text": [
      "Running time: 2676.70 sec\n"
     ]
    }
   ],
   "source": [
    "\n",
    "nuts_sampler = MCMC(NUTS(potential_fn=potential_log_reg), num_samples=20000, \n",
    "                 num_warmup=1000, num_chains=1, progress_bar=True)\n",
    "\n",
    "\n",
    "init_params = jnp.zeros(theta_true.shape[0])\n",
    "    \n",
    "starttime = time.time()\n",
    "key = random.PRNGKey(0)\n",
    "nuts_sampler.run(key, init_params=init_params)\n",
    "\n",
    "samples_nuts = nuts_sampler.get_samples(True)\n",
    "wait_until_computed(samples_nuts)\n",
    "endtime = time.time()\n",
    "print(f\"Running time: {endtime-starttime:.2f} sec\")\n",
    "\n",
    "samples_nuts = samples_nuts[0]"
   ]
  },
  {
   "cell_type": "code",
   "execution_count": null,
   "id": "65561c7c",
   "metadata": {},
   "outputs": [],
   "source": []
  },
  {
   "cell_type": "code",
   "execution_count": null,
   "id": "d85547f5",
   "metadata": {},
   "outputs": [],
   "source": []
  },
  {
   "cell_type": "code",
   "execution_count": 14,
   "id": "03210092",
   "metadata": {},
   "outputs": [
    {
     "name": "stdout",
     "output_type": "stream",
     "text": [
      "Maximum IAT 3.6\n"
     ]
    },
    {
     "data": {
      "text/plain": [
       "[<matplotlib.lines.Line2D at 0x7ff3b1274280>]"
      ]
     },
     "execution_count": 14,
     "metadata": {},
     "output_type": "execute_result"
    },
    {
     "data": {
      "image/png": "[encoded data removed]",
      "text/plain": [
       "<Figure size 432x288 with 1 Axes>"
      ]
     },
     "metadata": {
      "needs_background": "light"
     },
     "output_type": "display_data"
    }
   ],
   "source": [
    "from emcee.autocorr import integrated_time\n",
    "\n",
    "max_IAT = max([integrated_time(samples_nuts[:,idx], tol=100) for idx in range(10)])[0]\n",
    "print(f\"Maximum IAT {max_IAT:.1f}\")\n",
    "\n",
    "\n",
    "plt.plot(samples_nuts[:,0])"
   ]
  },
  {
   "cell_type": "code",
   "execution_count": 15,
   "id": "37d1a5c4",
   "metadata": {},
   "outputs": [
    {
     "data": {
      "text/plain": [
       "5599.095178927132"
      ]
     },
     "execution_count": 15,
     "metadata": {},
     "output_type": "execute_result"
    }
   ],
   "source": [
    "20000/max_IAT"
   ]
  },
  {
   "cell_type": "code",
   "execution_count": 13,
   "id": "afb81cb2",
   "metadata": {},
   "outputs": [
    {
     "name": "stdout",
     "output_type": "stream",
     "text": [
      "0.93895\n"
     ]
    }
   ],
   "source": [
    "print(accuracy(samples_nuts[::100], X_test, y_test))"
   ]
  },
  {
   "cell_type": "code",
   "execution_count": 10,
   "id": "53621665",
   "metadata": {
    "scrolled": true
   },
   "outputs": [
    {
     "name": "stdout",
     "output_type": "stream",
     "text": [
      "[0.00679838 0.00646107 0.01106637 0.00668608 0.00922326 0.00671594\n",
      " 0.01065684 0.00812546 0.01978116 0.01162364]\n"
     ]
    }
   ],
   "source": [
    "NUTS_stds = samples_nuts.std(axis=0)\n",
    "\n",
    "print(NUTS_stds)"
   ]
  },
  {
   "cell_type": "code",
   "execution_count": 11,
   "id": "e0514604",
   "metadata": {},
   "outputs": [],
   "source": [
    "# np.savetxt(\"outputs/LR_uncertainty_tests/NUTS_stds.txt\", NUTS_stds)\n",
    "\n",
    "# NUTS_stds = np.genfromtxt(\"outputs/LR_uncertainty_tests/NUTS_stds.txt\")"
   ]
  },
  {
   "cell_type": "code",
   "execution_count": 12,
   "id": "33b8e026",
   "metadata": {},
   "outputs": [
    {
     "name": "stdout",
     "output_type": "stream",
     "text": [
      "\u001b[1m\u001b[36mKSD_list\u001b[m\u001b[m/      NUTS_stds.txt\r\n"
     ]
    }
   ],
   "source": [
    "ls outputs/LR_uncertainty_tests/"
   ]
  },
  {
   "cell_type": "code",
   "execution_count": 4,
   "id": "142e82e9",
   "metadata": {},
   "outputs": [],
   "source": [
    "def get_relative_error_LR(estimate, ground_truth=NUTS_stds):\n",
    "    return np.linalg.norm(estimate - ground_truth)/np.linalg.norm(ground_truth)\n",
    "\n"
   ]
  },
  {
   "cell_type": "code",
   "execution_count": null,
   "id": "343c178f",
   "metadata": {},
   "outputs": [],
   "source": []
  }
 ],
 "metadata": {
  "kernelspec": {
   "display_name": "Python 3",
   "language": "python",
   "name": "python3"
  },
  "language_info": {
   "codemirror_mode": {
    "name": "ipython",
    "version": 3
   },
   "file_extension": ".py",
   "mimetype": "text/x-python",
   "name": "python",
   "nbconvert_exporter": "python",
   "pygments_lexer": "ipython3",
   "version": "3.8.2"
  }
 },
 "nbformat": 4,
 "nbformat_minor": 5
}
