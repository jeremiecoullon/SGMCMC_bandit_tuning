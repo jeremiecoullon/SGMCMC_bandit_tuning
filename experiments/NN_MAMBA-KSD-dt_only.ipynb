{
 "cells": [
  {
   "cell_type": "code",
   "execution_count": 1,
   "id": "906fd9ec",
   "metadata": {},
   "outputs": [
    {
     "name": "stderr",
     "output_type": "stream",
     "text": [
      "WARNING:absl:No GPU/TPU found, falling back to CPU. (Set TF_CPP_MIN_LOG_LEVEL=0 and rerun for more info.)\n"
     ]
    }
   ],
   "source": [
    "%matplotlib inline\n",
    "import matplotlib.pyplot as plt\n",
    "import numpy as np\n",
    "\n",
    "import jax.numpy as jnp\n",
    "from jax import jit, random\n",
    "\n",
    "from sgmcmcjax.kernels import build_sgld_kernel, build_sghmc_kernel, build_sgnht_kernel\n",
    "from sgmcmcjax.kernels import build_sgldCV_kernel, build_sghmcCV_kernel, build_sgnhtCV_kernel\n",
    "from sgmcmcjax.optimizer import build_adam_optimizer\n",
    "from sgmcmcjax.util import build_grad_log_post\n",
    "\n",
    "import context\n",
    "\n",
    "from models.bayesian_NN.NN_model import logprior, loglikelihood, init_network\n",
    "from models.bayesian_NN.NN_data import X_train, y_train, X_test, y_test\n",
    "from models.bayesian_NN.util import load_NN_MAP\n",
    "\n",
    "from tuning.mamba import run_MAMBA\n",
    "from tuning.ksd import imq_KSD\n"
   ]
  },
  {
   "cell_type": "markdown",
   "id": "a01ea2b4",
   "metadata": {},
   "source": [
    "# NN - MAMBA - dt only"
   ]
  },
  {
   "cell_type": "code",
   "execution_count": 2,
   "id": "1aff4d07",
   "metadata": {},
   "outputs": [],
   "source": [
    "data = (X_train, y_train)\n",
    "\n",
    "key = random.PRNGKey(0)\n",
    "params_IC = load_NN_MAP()\n",
    "centering_value = load_NN_MAP()\n",
    "\n",
    "err_fn = lambda x,y: imq_KSD(x[:], y[:])\n",
    "\n",
    "R = 10\n",
    "\n",
    "batch_size = int(0.1*X_train.shape[0])"
   ]
  },
  {
   "cell_type": "code",
   "execution_count": 3,
   "id": "a15d1513",
   "metadata": {},
   "outputs": [],
   "source": [
    "grad_log_post_fb = build_grad_log_post(loglikelihood, logprior, data)\n",
    "\n",
    "\n",
    "def get_fb_grads(samples):\n",
    "    thin=10\n",
    "    mygrads = [grad_log_post_fb(sam, *data) for sam in samples[::thin]]\n",
    "    \n",
    "    return samples[::thin], mygrads"
   ]
  },
  {
   "cell_type": "markdown",
   "id": "912e1f22",
   "metadata": {},
   "source": [
    "### run MAMBA"
   ]
  },
  {
   "cell_type": "code",
   "execution_count": 4,
   "id": "0c79e224",
   "metadata": {},
   "outputs": [
    {
     "data": {
      "application/vnd.jupyter.widget-view+json": {
       "model_id": "01fa78f51207409ba7bc1c6f0c537482",
       "version_major": 2,
       "version_minor": 0
      },
      "text/plain": [
       "HBox(children=(HTML(value='Iteration 1/2, 12 arms, time budget = 2.50 sec'), FloatProgress(value=0.0, max=12.0…"
      ]
     },
     "metadata": {},
     "output_type": "display_data"
    },
    {
     "name": "stdout",
     "output_type": "stream",
     "text": [
      "Hyperparams: {'dt': 0.01}., sample shape=(18, 79510). metric: 19124\n",
      "Hyperparams: {'dt': 0.0031622776}., sample shape=(18, 79510). metric: 14300\n",
      "Hyperparams: {'dt': 0.001}., sample shape=(17, 79510). metric: 12889\n",
      "Hyperparams: {'dt': 0.00031622776}., sample shape=(17, 79510). metric: 5881\n",
      "Hyperparams: {'dt': 1e-04}., sample shape=(17, 79510). metric: 3083\n",
      "Hyperparams: {'dt': 3.1622778e-05}., sample shape=(17, 79510). metric: 3529\n",
      "Hyperparams: {'dt': 1e-05}., sample shape=(17, 79510). metric: 433\n",
      "Hyperparams: {'dt': 3.1622776e-06}., sample shape=(17, 79510). metric: 392\n",
      "Hyperparams: {'dt': 1e-06}., sample shape=(17, 79510). metric: 478\n",
      "Hyperparams: {'dt': 3.1622776e-07}., sample shape=(17, 79510). metric: 696\n",
      "Hyperparams: {'dt': 1e-07}., sample shape=(17, 79510). metric: 959\n",
      "Hyperparams: {'dt': 3.1622776e-08}., sample shape=(17, 79510). metric: 1147\n",
      "\n",
      "Number of samples: [17, 17, 17, 17]\n"
     ]
    },
    {
     "data": {
      "application/vnd.jupyter.widget-view+json": {
       "model_id": "e023b6fffe4c448e9674b1ec4fa1f9b2",
       "version_major": 2,
       "version_minor": 0
      },
      "text/plain": [
       "HBox(children=(HTML(value='Iteration 2/2, 4 arms, time budget = 7.50 sec'), FloatProgress(value=0.0, max=4.0),…"
      ]
     },
     "metadata": {},
     "output_type": "display_data"
    },
    {
     "name": "stdout",
     "output_type": "stream",
     "text": [
      "Hyperparams: {'dt': 3.1622776e-06}., sample shape=(64, 79510). metric: 284\n",
      "Hyperparams: {'dt': 1e-05}., sample shape=(55, 79510). metric: 296\n",
      "Hyperparams: {'dt': 1e-06}., sample shape=(58, 79510). metric: 378\n",
      "Hyperparams: {'dt': 3.1622776e-07}., sample shape=(62, 79510). metric: 516\n",
      "\n",
      "Number of samples: [64]\n",
      "Running time: 168.6 sec\n",
      "{'dt': 3.1622776e-06} 284.44485 (64, 79510)\n"
     ]
    }
   ],
   "source": [
    "build_kernel = lambda dt: build_sgld_kernel(dt, loglikelihood, logprior, data, batch_size)\n",
    "\n",
    "grid_params = {'log_dt': -jnp.arange(2., 8., 0.5)}\n",
    "best_arm = run_MAMBA(key, build_kernel, err_fn, R, params_IC, grid_params=grid_params, get_fb_grads=get_fb_grads)\n",
    "\n",
    "print(best_arm.hyperparameters, best_arm.metric, best_arm.samples.shape)"
   ]
  },
  {
   "cell_type": "code",
   "execution_count": 6,
   "id": "00531340",
   "metadata": {},
   "outputs": [
    {
     "data": {
      "application/vnd.jupyter.widget-view+json": {
       "model_id": "68c2cba15e7341bc9278b55873761477",
       "version_major": 2,
       "version_minor": 0
      },
      "text/plain": [
       "HBox(children=(HTML(value='Iteration 1/2, 12 arms, time budget = 2.50 sec'), FloatProgress(value=0.0, max=12.0…"
      ]
     },
     "metadata": {},
     "output_type": "display_data"
    },
    {
     "name": "stdout",
     "output_type": "stream",
     "text": [
      "Hyperparams: {'dt': 0.01}., sample shape=(10, 79510). metric: 25600\n",
      "Hyperparams: {'dt': 0.0031622776}., sample shape=(10, 79510). metric: 26539\n",
      "Hyperparams: {'dt': 0.001}., sample shape=(11, 79510). metric: 17006\n",
      "Hyperparams: {'dt': 0.00031622776}., sample shape=(10, 79510). metric: 8310\n",
      "Hyperparams: {'dt': 1e-04}., sample shape=(10, 79510). metric: 3372\n",
      "Hyperparams: {'dt': 3.1622778e-05}., sample shape=(10, 79510). metric: 5034\n",
      "Hyperparams: {'dt': 1e-05}., sample shape=(10, 79510). metric: 383\n",
      "Hyperparams: {'dt': 3.1622776e-06}., sample shape=(10, 79510). metric: 426\n",
      "Hyperparams: {'dt': 1e-06}., sample shape=(10, 79510). metric: 568\n",
      "Hyperparams: {'dt': 3.1622776e-07}., sample shape=(10, 79510). metric: 744\n",
      "Hyperparams: {'dt': 1e-07}., sample shape=(10, 79510). metric: 1115\n",
      "Hyperparams: {'dt': 3.1622776e-08}., sample shape=(10, 79510). metric: 1278\n",
      "\n",
      "Number of samples: [10, 10, 10, 10]\n"
     ]
    },
    {
     "data": {
      "application/vnd.jupyter.widget-view+json": {
       "model_id": "ceced44db2fb48f6bfe6e1b93dbd64e9",
       "version_major": 2,
       "version_minor": 0
      },
      "text/plain": [
       "HBox(children=(HTML(value='Iteration 2/2, 4 arms, time budget = 7.50 sec'), FloatProgress(value=0.0, max=4.0),…"
      ]
     },
     "metadata": {},
     "output_type": "display_data"
    },
    {
     "name": "stdout",
     "output_type": "stream",
     "text": [
      "Hyperparams: {'dt': 1e-05}., sample shape=(33, 79510). metric: 273\n",
      "Hyperparams: {'dt': 3.1622776e-06}., sample shape=(37, 79510). metric: 330\n",
      "Hyperparams: {'dt': 1e-06}., sample shape=(37, 79510). metric: 423\n",
      "Hyperparams: {'dt': 3.1622776e-07}., sample shape=(38, 79510). metric: 559\n",
      "\n",
      "Number of samples: [33]\n",
      "Running time: 153.3 sec\n",
      "{'dt': 1e-05} 272.99655 (33, 79510)\n"
     ]
    }
   ],
   "source": [
    "build_kernel = lambda dt : build_sgldCV_kernel(dt, loglikelihood, \n",
    "                                                  logprior, data, batch_size, centering_value)\n",
    "\n",
    "best_arm = run_MAMBA(key, build_kernel, err_fn, R, params_IC, grid_params=grid_params, get_fb_grads=get_fb_grads)\n",
    "\n",
    "print(best_arm.hyperparameters, best_arm.metric, best_arm.samples.shape)"
   ]
  },
  {
   "cell_type": "code",
   "execution_count": null,
   "id": "d2be25a2",
   "metadata": {},
   "outputs": [],
   "source": [
    "build_kernel = lambda dt, L, batch_size: build_sghmc_kernel(dt, L, loglikelihood, \n",
    "                                                  logprior, data, batch_size)\n",
    "\n",
    "grid_params = {'log_dt': -jnp.arange(2., 8., 0.5), \n",
    "               \"L\": [5, 10]\n",
    "              }\n",
    "best_arm = run_MAMBA(key, build_kernel, err_fn, R, params_IC, grid_params=grid_params)#, get_fb_grads=get_fb_grads)\n",
    "\n",
    "print(best_arm.hyperparameters, best_arm.metric, best_arm.samples.shape)"
   ]
  },
  {
   "cell_type": "code",
   "execution_count": 7,
   "id": "d25daf64",
   "metadata": {},
   "outputs": [
    {
     "data": {
      "application/vnd.jupyter.widget-view+json": {
       "model_id": "65d139561bec452eb9f9967d2b5d28a1",
       "version_major": 2,
       "version_minor": 0
      },
      "text/plain": [
       "HBox(children=(HTML(value='Iteration 1/4, 96 arms, time budget = 0.25 sec'), FloatProgress(value=0.0, max=96.0…"
      ]
     },
     "metadata": {},
     "output_type": "display_data"
    },
    {
     "name": "stdout",
     "output_type": "stream",
     "text": [
      "\n",
      "Number of samples: [2, 3, 4, 2, 4, 2, 1, 2, 2, 1, 1, 1, 1, 1, 1, 1, 1, 4, 1, 2, 1, 1, 1, 1, 1, 1, 1, 1, 1, 2, 1, 1]\n"
     ]
    },
    {
     "data": {
      "application/vnd.jupyter.widget-view+json": {
       "model_id": "5b4d9949740a4671bf5e7f8b9630c135",
       "version_major": 2,
       "version_minor": 0
      },
      "text/plain": [
       "HBox(children=(HTML(value='Iteration 2/4, 32 arms, time budget = 0.75 sec'), FloatProgress(value=0.0, max=32.0…"
      ]
     },
     "metadata": {},
     "output_type": "display_data"
    },
    {
     "name": "stdout",
     "output_type": "stream",
     "text": [
      "\n",
      "Number of samples: [10, 11, 6, 5, 5, 3, 3, 6, 5, 3]\n"
     ]
    },
    {
     "data": {
      "application/vnd.jupyter.widget-view+json": {
       "model_id": "c5f5b73e2a4e4815ac8d498fc5a1f23b",
       "version_major": 2,
       "version_minor": 0
      },
      "text/plain": [
       "HBox(children=(HTML(value='Iteration 3/4, 10 arms, time budget = 2.40 sec'), FloatProgress(value=0.0, max=10.0…"
      ]
     },
     "metadata": {},
     "output_type": "display_data"
    },
    {
     "name": "stdout",
     "output_type": "stream",
     "text": [
      "\n",
      "Number of samples: [39, 21, 16]\n"
     ]
    },
    {
     "data": {
      "application/vnd.jupyter.widget-view+json": {
       "model_id": "f78039de342942eaab21efc3ce89d265",
       "version_major": 2,
       "version_minor": 0
      },
      "text/plain": [
       "HBox(children=(HTML(value='Iteration 4/4, 3 arms, time budget = 8.00 sec'), FloatProgress(value=0.0, max=3.0),…"
      ]
     },
     "metadata": {},
     "output_type": "display_data"
    },
    {
     "name": "stdout",
     "output_type": "stream",
     "text": [
      "\n",
      "Number of samples: [138]\n",
      "Running time: 1467.7 sec\n",
      "{'batch_size': 60, 'L': 5, 'dt': 3.1622776e-07} 242.33775 (138, 79510)\n"
     ]
    }
   ],
   "source": [
    "build_kernel = lambda dt, L, batch_size: build_sghmcCV_kernel(dt, L, loglikelihood, \n",
    "                                                  logprior, data, batch_size, centering_value)\n",
    "\n",
    "grid_params = {'log_dt': -jnp.arange(2., 8., 0.5),\n",
    "               \"L\": [5, 10]eams\n",
    "              }\n",
    "best_arm = run_MAMBA(key, build_kernel, err_fn, R, params_IC, grid_params=grid_params)#, get_fb_grads=get_fb_grads)\n",
    "\n",
    "print(best_arm.hyperparameters, best_arm.metric, best_arm.samples.shape)"
   ]
  },
  {
   "cell_type": "code",
   "execution_count": 8,
   "id": "4817772c",
   "metadata": {},
   "outputs": [
    {
     "data": {
      "application/vnd.jupyter.widget-view+json": {
       "model_id": "5b156e827d024cf8894395f6e1c0dd2b",
       "version_major": 2,
       "version_minor": 0
      },
      "text/plain": [
       "HBox(children=(HTML(value='Iteration 1/3, 48 arms, time budget = 0.77 sec'), FloatProgress(value=0.0, max=48.0…"
      ]
     },
     "metadata": {},
     "output_type": "display_data"
    },
    {
     "name": "stdout",
     "output_type": "stream",
     "text": [
      "\n",
      "Number of samples: [32, 6, 6, 6, 32, 33, 1, 6, 59, 57, 33, 1, 33, 32, 6, 6]\n"
     ]
    },
    {
     "data": {
      "application/vnd.jupyter.widget-view+json": {
       "model_id": "92307140c2fa49e4a8dcf600270f738e",
       "version_major": 2,
       "version_minor": 0
      },
      "text/plain": [
       "HBox(children=(HTML(value='Iteration 2/3, 16 arms, time budget = 2.31 sec'), FloatProgress(value=0.0, max=16.0…"
      ]
     },
     "metadata": {},
     "output_type": "display_data"
    },
    {
     "name": "stdout",
     "output_type": "stream",
     "text": [
      "\n",
      "Number of samples: [106, 161, 97, 109, 17]\n"
     ]
    },
    {
     "data": {
      "application/vnd.jupyter.widget-view+json": {
       "model_id": "acd59c0f0f6643b38d01193631624fd8",
       "version_major": 2,
       "version_minor": 0
      },
      "text/plain": [
       "HBox(children=(HTML(value='Iteration 3/3, 5 arms, time budget = 7.38 sec'), FloatProgress(value=0.0, max=5.0),…"
      ]
     },
     "metadata": {},
     "output_type": "display_data"
    },
    {
     "name": "stdout",
     "output_type": "stream",
     "text": [
      "\n",
      "Number of samples: [701]\n",
      "Running time: 1546.8 sec\n",
      "{'batch_size': 60, 'dt': 1e-05} 120.7024 (701, 79510)\n"
     ]
    }
   ],
   "source": [
    "build_kernel = lambda dt, batch_size: build_sgnht_kernel(dt, loglikelihood, logprior, data, batch_size)\n",
    "\n",
    "grid_params = {'log_dt': -jnp.arange(2., 8., 0.5), \n",
    "               'batch_size': [int(10**(-elem)*X_train.shape[0]) for elem in range(0,4)]\n",
    "              }\n",
    "best_arm = run_MAMBA(key, build_kernel, err_fn, R, params_IC, grid_params=grid_params, get_fb_grads=get_fb_grads)\n",
    "\n",
    "print(best_arm.hyperparameters, best_arm.metric, best_arm.samples.shape)"
   ]
  },
  {
   "cell_type": "code",
   "execution_count": 9,
   "id": "fdd0e3a2",
   "metadata": {},
   "outputs": [
    {
     "data": {
      "application/vnd.jupyter.widget-view+json": {
       "model_id": "1bd87149387e40a5ab7efc4993d0eb5f",
       "version_major": 2,
       "version_minor": 0
      },
      "text/plain": [
       "HBox(children=(HTML(value='Iteration 1/3, 48 arms, time budget = 0.77 sec'), FloatProgress(value=0.0, max=48.0…"
      ]
     },
     "metadata": {},
     "output_type": "display_data"
    },
    {
     "name": "stdout",
     "output_type": "stream",
     "text": [
      "\n",
      "Number of samples: [21, 21, 49, 22, 4, 4, 17, 4, 4, 46, 4, 1, 4, 46, 1, 1]\n"
     ]
    },
    {
     "data": {
      "application/vnd.jupyter.widget-view+json": {
       "model_id": "485949c8a6114be6b78abcd185957397",
       "version_major": 2,
       "version_minor": 0
      },
      "text/plain": [
       "HBox(children=(HTML(value='Iteration 2/3, 16 arms, time budget = 2.31 sec'), FloatProgress(value=0.0, max=16.0…"
      ]
     },
     "metadata": {},
     "output_type": "display_data"
    },
    {
     "name": "stdout",
     "output_type": "stream",
     "text": [
      "\n",
      "Number of samples: [56, 73, 62, 10, 11]\n"
     ]
    },
    {
     "data": {
      "application/vnd.jupyter.widget-view+json": {
       "model_id": "db79258469184930aff64c4af8893f84",
       "version_major": 2,
       "version_minor": 0
      },
      "text/plain": [
       "HBox(children=(HTML(value='Iteration 3/3, 5 arms, time budget = 7.38 sec'), FloatProgress(value=0.0, max=5.0),…"
      ]
     },
     "metadata": {},
     "output_type": "display_data"
    },
    {
     "name": "stdout",
     "output_type": "stream",
     "text": [
      "\n",
      "Number of samples: [230]\n",
      "Running time: 1340.2 sec\n",
      "{'batch_size': 600, 'dt': 3.1622776e-08} 230.5486 (230, 79510)\n"
     ]
    }
   ],
   "source": [
    "build_kernel = lambda dt, batch_size: build_sgnhtCV_kernel(dt, loglikelihood, \n",
    "                                                  logprior, data, batch_size, centering_value)\n",
    "\n",
    "grid_params = {'log_dt': -jnp.arange(2., 8., 0.5), \n",
    "               'batch_size': [int(10**(-elem)*X_train.shape[0]) for elem in range(0,4)]\n",
    "              }\n",
    "best_arm = run_MAMBA(key, build_kernel, err_fn, R, params_IC, grid_params=grid_params, get_fb_grads=get_fb_grads)\n",
    "\n",
    "print(best_arm.hyperparameters, best_arm.metric, best_arm.samples.shape)"
   ]
  },
  {
   "cell_type": "code",
   "execution_count": null,
   "id": "134bc659",
   "metadata": {},
   "outputs": [],
   "source": []
  },
  {
   "cell_type": "code",
   "execution_count": null,
   "id": "8a85a1a4",
   "metadata": {},
   "outputs": [],
   "source": []
  }
 ],
 "metadata": {
  "kernelspec": {
   "display_name": "Python 3",
   "language": "python",
   "name": "python3"
  },
  "language_info": {
   "codemirror_mode": {
    "name": "ipython",
    "version": 3
   },
   "file_extension": ".py",
   "mimetype": "text/x-python",
   "name": "python",
   "nbconvert_exporter": "python",
   "pygments_lexer": "ipython3",
   "version": "3.8.2"
  }
 },
 "nbformat": 4,
 "nbformat_minor": 5
}
