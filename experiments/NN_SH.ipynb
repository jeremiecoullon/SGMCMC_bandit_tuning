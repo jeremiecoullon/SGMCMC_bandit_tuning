{
 "cells": [
  {
   "cell_type": "code",
   "execution_count": 1,
   "id": "906fd9ec",
   "metadata": {},
   "outputs": [
    {
     "name": "stderr",
     "output_type": "stream",
     "text": [
      "WARNING:absl:No GPU/TPU found, falling back to CPU. (Set TF_CPP_MIN_LOG_LEVEL=0 and rerun for more info.)\n"
     ]
    }
   ],
   "source": [
    "%matplotlib inline\n",
    "import matplotlib.pyplot as plt\n",
    "import numpy as np\n",
    "\n",
    "import jax.numpy as jnp\n",
    "from jax import jit, random\n",
    "\n",
    "from sgmcmcjax.kernels import build_sgld_kernel, build_sghmc_kernel, build_sgnht_kernel\n",
    "from sgmcmcjax.kernels import build_sgldCV_kernel, build_sghmcCV_kernel, build_sgnhtCV_kernel\n",
    "from sgmcmcjax.optimizer import build_adam_optimizer\n",
    "\n",
    "import context\n",
    "\n",
    "from models.bayesian_NN.NN_model import logprior, loglikelihood, init_network, accuracy_BNN\n",
    "from models.bayesian_NN.NN_data import X_train, y_train, X_test, y_test\n",
    "from models.bayesian_NN.util import load_NN_MAP, add_noise_NN_params\n",
    "\n",
    "from tuning.mamba import run_MAMBA\n",
    "from tuning.ksd import imq_KSD\n"
   ]
  },
  {
   "cell_type": "markdown",
   "id": "a01ea2b4",
   "metadata": {},
   "source": [
    "# NN - MAMBA"
   ]
  },
  {
   "cell_type": "code",
   "execution_count": 2,
   "id": "1aff4d07",
   "metadata": {},
   "outputs": [],
   "source": [
    "\n",
    "\n",
    "data = (X_train, y_train)\n",
    "\n",
    "error_fn = lambda sam: -accuracy_BNN(sam[::20], X_test, y_test)\n",
    "\n",
    "# Niters = 1000\n",
    "key = random.PRNGKey(0)\n",
    "\n",
    "Niters = 1000\n",
    "key, subkey = random.split(key)\n",
    "params_IC = add_noise_NN_params(subkey, load_NN_MAP(), 1.)\n",
    "batch_size = int(0.1*X_train.shape[0])\n",
    "centering_value = load_NN_MAP()\n",
    "\n",
    "err_fn = lambda x,y: imq_KSD(x[::5], y[::5])"
   ]
  },
  {
   "cell_type": "markdown",
   "id": "912e1f22",
   "metadata": {},
   "source": [
    "### run MAMBA"
   ]
  },
  {
   "cell_type": "code",
   "execution_count": 8,
   "id": "180a1973",
   "metadata": {},
   "outputs": [
    {
     "data": {
      "application/vnd.jupyter.widget-view+json": {
       "model_id": "f5a62fbc4a084304a142035f9851b06f",
       "version_major": 2,
       "version_minor": 0
      },
      "text/plain": [
       "HBox(children=(HTML(value='Iteration 1/3, 48 arms, time budget = 0.07 sec'), FloatProgress(value=0.0, max=48.0…"
      ]
     },
     "metadata": {},
     "output_type": "display_data"
    },
    {
     "name": "stdout",
     "output_type": "stream",
     "text": [
      "\n",
      "Number of samples: [31, 31, 30, 63, 64, 31, 30, 64, 1, 64, 3, 65, 31, 1, 3, 64]\n"
     ]
    },
    {
     "data": {
      "application/vnd.jupyter.widget-view+json": {
       "model_id": "56e2c870a4e645b3b67c32be89a24b11",
       "version_major": 2,
       "version_minor": 0
      },
      "text/plain": [
       "HBox(children=(HTML(value='Iteration 2/3, 16 arms, time budget = 0.21 sec'), FloatProgress(value=0.0, max=16.0…"
      ]
     },
     "metadata": {},
     "output_type": "display_data"
    },
    {
     "name": "stdout",
     "output_type": "stream",
     "text": [
      "\n",
      "Number of samples: [104, 97, 97, 210, 97]\n"
     ]
    },
    {
     "data": {
      "application/vnd.jupyter.widget-view+json": {
       "model_id": "c2b3f54e02204d2aafd59bb1f3245b27",
       "version_major": 2,
       "version_minor": 0
      },
      "text/plain": [
       "HBox(children=(HTML(value='Iteration 3/3, 5 arms, time budget = 0.67 sec'), FloatProgress(value=0.0, max=5.0),…"
      ]
     },
     "metadata": {},
     "output_type": "display_data"
    },
    {
     "name": "stdout",
     "output_type": "stream",
     "text": [
      "\n",
      "Number of samples: [393]\n",
      "Running time: 259.5 sec\n",
      "{'batch_size': 600, 'dt': 3.1622778e-05} 1157.1522 (393, 79510)\n"
     ]
    }
   ],
   "source": [
    "build_kernel = lambda dt, batch_size: build_sgld_kernel(dt, loglikelihood, logprior, data, batch_size)\n",
    "\n",
    "T = 10\n",
    "grid_params = {'log_dt': -jnp.arange(2., 8., 0.5), \n",
    "               'batch_size': [int(10**(-elem)*X_train.shape[0]) for elem in range(0,4)]\n",
    "              }\n",
    "best_arm = run_MAMBA(key, build_kernel, err_fn, T, params_IC, grid_params=grid_params, eta=3)\n",
    "\n",
    "print(best_arm.hyperparameters, best_arm.metric, best_arm.samples.shape)"
   ]
  },
  {
   "cell_type": "code",
   "execution_count": 9,
   "id": "37e61e56",
   "metadata": {},
   "outputs": [
    {
     "data": {
      "text/plain": [
       "4.333333333333333"
      ]
     },
     "execution_count": 9,
     "metadata": {},
     "output_type": "execute_result"
    }
   ],
   "source": [
    "260/60"
   ]
  },
  {
   "cell_type": "code",
   "execution_count": null,
   "id": "f2424aed",
   "metadata": {},
   "outputs": [],
   "source": []
  },
  {
   "cell_type": "code",
   "execution_count": null,
   "id": "a87deee7",
   "metadata": {},
   "outputs": [],
   "source": []
  },
  {
   "cell_type": "code",
   "execution_count": null,
   "id": "00531340",
   "metadata": {},
   "outputs": [],
   "source": [
    "build_kernel = lambda dt, batch_size: build_sgldCV_kernel(dt, loglikelihood, \n",
    "                                                  logprior, data, batch_size, centering_value)\n",
    "\n",
    "best_arm = run_MAMBA(key, build_kernel, imq_KSD, T, params_IC, grid_params=grid_params, eta=3)\n",
    "\n",
    "print(best_arm.hyperparameters, best_arm.metric, best_arm.samples.shape)"
   ]
  },
  {
   "cell_type": "code",
   "execution_count": null,
   "id": "d2be25a2",
   "metadata": {},
   "outputs": [],
   "source": [
    "build_kernel = lambda dt, L, batch_size: build_sghmc_kernel(dt, L, loglikelihood, \n",
    "                                                  logprior, data, batch_size)\n",
    "\n",
    "grid_params = {'log_dt': -jnp.arange(2., 8., 0.5), \n",
    "               'batch_size': [int(10**(-elem)*X_train.shape[0]) for elem in range(0,4)],\n",
    "               \"L\": [5, 10]\n",
    "              }\n",
    "best_arm = run_MAMBA(key, build_kernel, imq_KSD, T, params_IC, grid_params=grid_params, eta=3)\n",
    "\n",
    "print(best_arm.hyperparameters, best_arm.metric, best_arm.samples.shape)"
   ]
  },
  {
   "cell_type": "code",
   "execution_count": null,
   "id": "d25daf64",
   "metadata": {},
   "outputs": [],
   "source": [
    "build_kernel = lambda dt, L, batch_size: build_sghmcCV_kernel(dt, L, loglikelihood, \n",
    "                                                  logprior, data, batch_size, centering_value)\n",
    "\n",
    "T = 10\n",
    "grid_params = {'log_dt': -jnp.arange(2., 8., 0.5), \n",
    "               'batch_size': [int(10**(-elem)*X_train.shape[0]) for elem in range(0,4)],\n",
    "               \"L\": [5, 10]\n",
    "              }\n",
    "best_arm = run_MAMBA(key, build_kernel, imq_KSD, T, params_IC, grid_params=grid_params, eta=3)\n",
    "\n",
    "print(best_arm.hyperparameters, best_arm.metric, best_arm.samples.shape)"
   ]
  },
  {
   "cell_type": "code",
   "execution_count": null,
   "id": "4817772c",
   "metadata": {},
   "outputs": [],
   "source": [
    "build_kernel = lambda dt, batch_size: build_sgnht_kernel(dt, loglikelihood, logprior, data, batch_size)\n",
    "\n",
    "T = 10\n",
    "grid_params = {'log_dt': -jnp.arange(2., 8., 0.5), \n",
    "               'batch_size': [int(10**(-elem)*X_train.shape[0]) for elem in range(0,4)]\n",
    "              }\n",
    "best_arm = run_MAMBA(key, build_kernel, imq_KSD, T, params_IC, grid_params=grid_params, eta=3)\n",
    "\n",
    "print(best_arm.hyperparameters, best_arm.metric, best_arm.samples.shape)"
   ]
  },
  {
   "cell_type": "code",
   "execution_count": null,
   "id": "fdd0e3a2",
   "metadata": {},
   "outputs": [],
   "source": [
    "build_kernel = lambda dt, batch_size: build_sgnhtCV_kernel(dt, loglikelihood, \n",
    "                                                  logprior, data, batch_size, centering_value)\n",
    "T = 10\n",
    "grid_params = {'log_dt': -jnp.arange(2., 8., 0.5), \n",
    "               'batch_size': [int(10**(-elem)*X_train.shape[0]) for elem in range(0,4)]\n",
    "              }\n",
    "best_arm = run_MAMBA(key, build_kernel, imq_KSD, T, params_IC, grid_params=grid_params, eta=3)\n",
    "\n",
    "print(best_arm.hyperparameters, best_arm.metric, best_arm.samples.shape)"
   ]
  },
  {
   "cell_type": "code",
   "execution_count": null,
   "id": "ec0f4428",
   "metadata": {},
   "outputs": [],
   "source": []
  },
  {
   "cell_type": "code",
   "execution_count": null,
   "id": "234914e6",
   "metadata": {},
   "outputs": [],
   "source": []
  },
  {
   "cell_type": "code",
   "execution_count": null,
   "id": "b49a8d67",
   "metadata": {},
   "outputs": [],
   "source": []
  }
 ],
 "metadata": {
  "kernelspec": {
   "display_name": "Python 3",
   "language": "python",
   "name": "python3"
  },
  "language_info": {
   "codemirror_mode": {
    "name": "ipython",
    "version": 3
   },
   "file_extension": ".py",
   "mimetype": "text/x-python",
   "name": "python",
   "nbconvert_exporter": "python",
   "pygments_lexer": "ipython3",
   "version": "3.8.2"
  }
 },
 "nbformat": 4,
 "nbformat_minor": 5
}
