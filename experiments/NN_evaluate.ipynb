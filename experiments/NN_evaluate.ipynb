{
 "cells": [
  {
   "cell_type": "code",
   "execution_count": 1,
   "id": "906fd9ec",
   "metadata": {},
   "outputs": [
    {
     "name": "stderr",
     "output_type": "stream",
     "text": [
      "WARNING:absl:No GPU/TPU found, falling back to CPU. (Set TF_CPP_MIN_LOG_LEVEL=0 and rerun for more info.)\n"
     ]
    }
   ],
   "source": [
    "%matplotlib inline\n",
    "import matplotlib.pyplot as plt\n",
    "import numpy as np\n",
    "\n",
    "import jax.numpy as jnp\n",
    "from jax import grad, jit, random, partial, lax\n",
    "\n",
    "import context\n",
    "from models.bayesian_NN.NN_model import logprior, loglikelihood, init_network, accuracy_BNN\n",
    "from models.bayesian_NN.NN_data import X_train, y_train, X_test, y_test\n",
    "from models.bayesian_NN.util import load_NN_MAP, add_noise_NN_params\n",
    "\n",
    "from tuning.mamba import timed_sampler\n",
    "from tuning.ksd import imq_KSD\n",
    "from tuning.util import build_metric_curve_fn, get_mean_sd_ksd_curve\n",
    "from util import wait_until_computed, flatten_param_list\n",
    "\n",
    "from sgmcmcjax.kernels import build_sgld_kernel, build_sghmc_kernel, build_sgnht_kernel\n",
    "from sgmcmcjax.kernels import build_sgldCV_kernel, build_sghmcCV_kernel, build_sgnhtCV_kernel\n"
   ]
  },
  {
   "cell_type": "markdown",
   "id": "a01ea2b4",
   "metadata": {},
   "source": [
    "# NN"
   ]
  },
  {
   "cell_type": "code",
   "execution_count": 2,
   "id": "dd0b7388",
   "metadata": {},
   "outputs": [],
   "source": [
    "\n",
    "\n",
    "data = (X_train, y_train)\n",
    "\n",
    "key = random.PRNGKey(0)\n",
    "\n",
    "Niters = 1000\n",
    "key, subkey = random.split(key)\n",
    "params_IC = add_noise_NN_params(subkey, load_NN_MAP(), 1.)\n",
    "batch_size = int(0.1*X_train.shape[0])\n",
    "\n",
    "gridsearch_bs = int(0.1*X_train.shape[0])\n",
    "centering_value = load_NN_MAP()\n",
    "\n",
    "# total time budget in mamba: 15sec"
   ]
  },
  {
   "cell_type": "code",
   "execution_count": null,
   "id": "7dc862ed",
   "metadata": {},
   "outputs": [],
   "source": []
  },
  {
   "cell_type": "code",
   "execution_count": 3,
   "id": "e4d71dbb",
   "metadata": {},
   "outputs": [],
   "source": [
    "from sgmcmcjax.util import build_grad_log_post\n",
    "from jax import vmap, jit\n",
    "\n",
    "grad_log_post = build_grad_log_post(loglikelihood, logprior, data)\n",
    "\n",
    "\n",
    "def get_fb_grads_NN(samples):\n",
    "    \"\"\"\n",
    "    Return full-batch gradients for NN samples\n",
    "    samples list of NN sample. Each NN sample is a list of tuples\n",
    "    \"\"\"\n",
    "    return [grad_log_post(sam, X_train, y_train) for sam in samples]\n",
    "\n",
    "def get_ksd_NN(samples, thin_step):\n",
    "    num_samples = len(samples)\n",
    "    fb_grads = get_fb_grads_NN(samples[::thin_step])\n",
    "    flat_samples = flatten_param_list(samples[::thin_step])\n",
    "    flat_grads = flatten_param_list(fb_grads)\n",
    "    return imq_KSD(flat_samples, flat_grads)\n",
    "\n",
    "def assess_NN_samples(samples, thin_step):\n",
    "    print(f\"Assessing the samples. Num samples: {len(samples)}\")\n",
    "    ksd_est = get_ksd_NN(samples, thin_step)\n",
    "    return ksd_est\n",
    "#     samples_array = jnp.array(samples[::thin_step])\n",
    "#     pred_acc = accuracy(samples_array, X_test, y_test)\n",
    "#     return ksd_est, pred_acc, std_error, len(samples)\n",
    "    \n",
    "def run_time_budget(key, time_budget, build_kernel, thin, dict_params, params_IC=load_NN_MAP()):\n",
    "    timed_sampler_factory = timed_sampler(build_kernel)\n",
    "    my_timed_sampler = timed_sampler_factory(**dict_params)\n",
    "    samples, _ = my_timed_sampler(key, time_budget, params_IC)\n",
    "    return assess_NN_samples(samples, thin)\n",
    "\n"
   ]
  },
  {
   "cell_type": "markdown",
   "id": "b12fa593",
   "metadata": {},
   "source": [
    "### build partial kernels"
   ]
  },
  {
   "cell_type": "code",
   "execution_count": 4,
   "id": "6b42212b",
   "metadata": {},
   "outputs": [],
   "source": [
    "partial_build_sgld = lambda dt, batch_size: build_sgld_kernel(dt, loglikelihood, \n",
    "                                                              logprior, data, batch_size)\n",
    "partial_build_sgldCV = lambda dt, batch_size: build_sgldCV_kernel(dt, loglikelihood, \n",
    "                                                    logprior, data, batch_size, centering_value)\n",
    "\n",
    "partial_build_sghmc = lambda dt, L, batch_size: build_sghmc_kernel(dt, L, loglikelihood, \n",
    "                                                              logprior, data, batch_size)\n",
    "partial_build_sghmcCV = lambda dt, L, batch_size: build_sghmcCV_kernel(dt, L, loglikelihood, \n",
    "                                                              logprior, data, batch_size, centering_value)\n",
    "\n",
    "partial_build_sgnht = lambda dt, batch_size: build_sgnht_kernel(dt, loglikelihood, \n",
    "                                                              logprior, data, batch_size)\n",
    "partial_build_sgnhtCV = lambda dt, batch_size: build_sgnhtCV_kernel(dt, loglikelihood, \n",
    "                                                              logprior, data, batch_size, centering_value)\n",
    "\n",
    "\n",
    "time_budget = 20\n",
    "thin = 20\n"
   ]
  },
  {
   "cell_type": "markdown",
   "id": "2d713ad0",
   "metadata": {},
   "source": [
    "# 1. A long run\n",
    "\n",
    "- 1 million data points\n",
    "- 20sec budget\n",
    "- thin by 20"
   ]
  },
  {
   "cell_type": "code",
   "execution_count": 5,
   "id": "3cbc067d",
   "metadata": {},
   "outputs": [
    {
     "name": "stdout",
     "output_type": "stream",
     "text": [
      "assessing the samples. Num samples: 38098\n",
      "(DeviceArray(58.74838, dtype=float32), DeviceArray(0.93894, dtype=float32), 0.6776350647278283, 38098)\n",
      "assessing the samples. Num samples: 6963\n",
      "(DeviceArray(95.22943, dtype=float32), DeviceArray(0.938975, dtype=float32), 0.1827750216747604, 6963)\n"
     ]
    }
   ],
   "source": [
    "sh_params = {'batch_size': 600, 'dt': 1e-05}\n",
    "gridsearch_params = {'batch_size': gridsearch_bs, 'dt': 0.00031622776}\n",
    "\n",
    "print(run_time_budget(key, time_budget, partial_build_sgld, thin, sh_params))\n",
    "print(run_time_budget(key, time_budget, partial_build_sgld, thin, gridsearch_params))"
   ]
  },
  {
   "cell_type": "code",
   "execution_count": 6,
   "id": "f12b4bb8",
   "metadata": {},
   "outputs": [
    {
     "name": "stdout",
     "output_type": "stream",
     "text": [
      "(DeviceArray(6.3601794, dtype=float32), DeviceArray(0.9374, dtype=float32), 119847)\n",
      "(DeviceArray(9.605597, dtype=float32), DeviceArray(0.93754995, dtype=float32), 40236)\n"
     ]
    }
   ],
   "source": [
    "sh_params = {'batch_size': 600, 'dt': 1e-05}\n",
    "gridsearch_params = {'batch_size': gridsearch_bs, 'dt': 0.00031622776}\n",
    "\n",
    "print(run_time_budget(key, time_budget, partial_build_sgldCV, thin, sh_params))\n",
    "print(run_time_budget(key, time_budget, partial_build_sgldCV, thin, gridsearch_params))"
   ]
  },
  {
   "cell_type": "code",
   "execution_count": 7,
   "id": "eb3c1f37",
   "metadata": {},
   "outputs": [
    {
     "name": "stdout",
     "output_type": "stream",
     "text": [
      "(DeviceArray(21.923801, dtype=float32), DeviceArray(0.9374, dtype=float32), 13090)\n",
      "(DeviceArray(35.149246, dtype=float32), DeviceArray(0.93754995, dtype=float32), 7291)\n"
     ]
    }
   ],
   "source": [
    "sh_params = {'batch_size': 60000, 'L': 10, 'dt': 1e-07}\n",
    "gridsearch_params = {'batch_size': gridsearch_bs, 'L': 10, 'dt': 1e-}\n",
    "\n",
    "print(run_time_budget(key, time_budget, partial_build_sghmc, thin, sh_params))\n",
    "print(run_time_budget(key, time_budget, partial_build_sghmc, thin, gridsearch_params))"
   ]
  },
  {
   "cell_type": "code",
   "execution_count": 8,
   "id": "84175ee5",
   "metadata": {},
   "outputs": [
    {
     "name": "stdout",
     "output_type": "stream",
     "text": [
      "(DeviceArray(7.422803, dtype=float32), DeviceArray(0.93745, dtype=float32), 60450)\n",
      "(DeviceArray(18.989365, dtype=float32), DeviceArray(0.93759996, dtype=float32), 5860)\n"
     ]
    }
   ],
   "source": [
    "sh_params = {'batch_size': 600, 'L': 5, 'dt': 1e-06}\n",
    "gridsearch_params = {'batch_size': gridsearch_bs, 'L': 10, 'dt': }\n",
    "\n",
    "print(run_time_budget(key, time_budget, partial_build_sghmcCV, thin, sh_params))\n",
    "print(run_time_budget(key, time_budget, partial_build_sghmcCV, thin, gridsearch_params))"
   ]
  },
  {
   "cell_type": "code",
   "execution_count": 9,
   "id": "7118f95d",
   "metadata": {},
   "outputs": [
    {
     "name": "stdout",
     "output_type": "stream",
     "text": [
      "(DeviceArray(16.316002, dtype=float32), DeviceArray(0.93745, dtype=float32), 49301)\n",
      "(DeviceArray(15.97876, dtype=float32), DeviceArray(0.93745, dtype=float32), 49690)\n"
     ]
    }
   ],
   "source": [
    "sh_params = {'batch_size': 60000, 'dt': 1e-05} \n",
    "gridsearch_params = {'batch_size': gridsearch_bs, 'dt': }\n",
    "\n",
    "print(run_time_budget(key, time_budget, partial_build_sgnht, thin, sh_params))\n",
    "print(run_time_budget(key, time_budget, partial_build_sgnht, thin, gridsearch_params))"
   ]
  },
  {
   "cell_type": "code",
   "execution_count": 10,
   "id": "76ab5c57",
   "metadata": {},
   "outputs": [
    {
     "name": "stdout",
     "output_type": "stream",
     "text": [
      "(DeviceArray(1.1308528, dtype=float32), DeviceArray(0.9375, dtype=float32), 42993)\n",
      "(DeviceArray(2.036, dtype=float32), DeviceArray(0.93759996, dtype=float32), 36826)\n"
     ]
    }
   ],
   "source": [
    "sh_params = {'batch_size': 600, 'dt': 1e-07}\n",
    "gridsearch_params = {'batch_size': gridsearch_bs, 'dt': }\n",
    "\n",
    "print(run_time_budget(key, time_budget, partial_build_sgnhtCV, thin, sh_params))\n",
    "print(run_time_budget(key, time_budget, partial_build_sgnhtCV, thin, gridsearch_params))"
   ]
  },
  {
   "cell_type": "code",
   "execution_count": null,
   "id": "3ad41160",
   "metadata": {},
   "outputs": [],
   "source": []
  },
  {
   "cell_type": "markdown",
   "id": "f2f87b51",
   "metadata": {},
   "source": [
    "# 2. KSD curves"
   ]
  },
  {
   "cell_type": "code",
   "execution_count": null,
   "id": "a0187c8b",
   "metadata": {},
   "outputs": [],
   "source": []
  },
  {
   "cell_type": "markdown",
   "id": "078cb564",
   "metadata": {},
   "source": [
    "### sgld"
   ]
  },
  {
   "cell_type": "code",
   "execution_count": 5,
   "id": "c4857eea",
   "metadata": {},
   "outputs": [],
   "source": [
    "error_fn_ksd_curve = partial(get_ksd_NN, thin_step=10)\n",
    "list_time_budget = [2, 4, 6, 8, 10]\n",
    "\n",
    "num_curves = 10"
   ]
  },
  {
   "cell_type": "code",
   "execution_count": 6,
   "id": "79e62f93",
   "metadata": {},
   "outputs": [
    {
     "name": "stdout",
     "output_type": "stream",
     "text": [
      "Running for {'batch_size': 600, 'dt': 3.1622776e-06}\n",
      "\n",
      "Iteration 0/10\n",
      "Budget: 2, num_samples = 858\n",
      "Budget: 4, num_samples = 1720\n",
      "Budget: 6, num_samples = 1933\n",
      "Budget: 8, num_samples = 3152\n",
      "Budget: 10, num_samples = 3535\n",
      "\n",
      "Iteration 1/10\n",
      "Budget: 2, num_samples = 926\n",
      "Budget: 4, num_samples = 1232\n",
      "Budget: 6, num_samples = 2159\n",
      "Budget: 8, num_samples = 3188\n",
      "Budget: 10, num_samples = 4179\n",
      "\n",
      "Iteration 2/10\n",
      "Budget: 2, num_samples = 928\n",
      "Budget: 4, num_samples = 1244\n",
      "Budget: 6, num_samples = 2099\n",
      "Budget: 8, num_samples = 3029\n",
      "Budget: 10, num_samples = 4190\n",
      "\n",
      "Iteration 3/10\n",
      "Budget: 2, num_samples = 697\n",
      "Budget: 4, num_samples = 884\n",
      "Budget: 6, num_samples = 1629\n",
      "Budget: 8, num_samples = 2774\n",
      "Budget: 10, num_samples = 3615\n",
      "\n",
      "Iteration 4/10\n",
      "Budget: 2, num_samples = 843\n",
      "Budget: 4, num_samples = 1037\n",
      "Budget: 6, num_samples = 1904\n",
      "Budget: 8, num_samples = 2821\n",
      "Budget: 10, num_samples = 2494\n",
      "\n",
      "Iteration 5/10\n",
      "Budget: 2, num_samples = 882\n",
      "Budget: 4, num_samples = 782\n",
      "Budget: 6, num_samples = 1634\n",
      "Budget: 8, num_samples = 2614\n",
      "Budget: 10, num_samples = 3242\n",
      "\n",
      "Iteration 6/10\n",
      "Budget: 2, num_samples = 825\n",
      "Budget: 4, num_samples = 1125\n",
      "Budget: 6, num_samples = 2109\n",
      "Budget: 8, num_samples = 2767\n",
      "Budget: 10, num_samples = 2919\n",
      "\n",
      "Iteration 7/10\n",
      "Budget: 2, num_samples = 877\n",
      "Budget: 4, num_samples = 930\n",
      "Budget: 6, num_samples = 1712\n",
      "Budget: 8, num_samples = 2747\n",
      "Budget: 10, num_samples = 3580\n",
      "\n",
      "Iteration 8/10\n",
      "Budget: 2, num_samples = 478\n",
      "Budget: 4, num_samples = 717\n",
      "Budget: 6, num_samples = 1450\n",
      "Budget: 8, num_samples = 2429\n",
      "Budget: 10, num_samples = 3497\n",
      "\n",
      "Iteration 9/10\n",
      "Budget: 2, num_samples = 847\n",
      "Budget: 4, num_samples = 994\n",
      "Budget: 6, num_samples = 1583\n",
      "Budget: 8, num_samples = 2877\n",
      "Budget: 10, num_samples = 3737\n"
     ]
    }
   ],
   "source": [
    "dict_params = {'batch_size': 600, 'dt': 3.1622776e-06}\n",
    "get_metric_curve = build_metric_curve_fn(dict_params, list_time_budget, \n",
    "                            partial_build_sgld, params_IC, error_fn_ksd_curve)\n",
    "\n",
    "key = random.PRNGKey(0)\n",
    "mean_ksd_curve_sgld_mamba, sd_ksd_curve_sgld_mamba = get_mean_sd_ksd_curve(key, num_curves, get_metric_curve)\n"
   ]
  },
  {
   "cell_type": "code",
   "execution_count": null,
   "id": "eaa1d36b",
   "metadata": {},
   "outputs": [],
   "source": []
  },
  {
   "cell_type": "code",
   "execution_count": 17,
   "id": "89a4b6df",
   "metadata": {},
   "outputs": [
    {
     "name": "stdout",
     "output_type": "stream",
     "text": [
      "Running for {'batch_size': 6000, 'dt': 0.00031622776}\n",
      "\n",
      "Iteration 0/2\n",
      "Budget: 2, num_samples = 124\n",
      "Budget: 4, num_samples = 225\n",
      "Budget: 6, num_samples = 315\n",
      "Budget: 8, num_samples = 442\n",
      "Budget: 10, num_samples = 527\n",
      "\n",
      "Iteration 1/2\n",
      "Budget: 2, num_samples = 73\n",
      "Budget: 4, num_samples = 170\n",
      "Budget: 6, num_samples = 351\n",
      "Budget: 8, num_samples = 438\n",
      "Budget: 10, num_samples = 474\n"
     ]
    }
   ],
   "source": [
    "dict_params = {'batch_size': gridsearch_bs, 'dt': 0.00031622776}\n",
    "get_metric_curve = build_metric_curve_fn(dict_params, list_time_budget, \n",
    "                            partial_build_sgld, params_IC, error_fn_ksd_curve)\n",
    "\n",
    "key = random.PRNGKey(0)\n",
    "mean_ksd_curve_sgld_gridsearch, sd_ksd_curve_sgld_gridsearch = get_mean_sd_ksd_curve(key, num_curves, get_metric_curve)\n"
   ]
  },
  {
   "cell_type": "markdown",
   "id": "046f1c8e",
   "metadata": {},
   "source": [
    "### sgld-cv"
   ]
  },
  {
   "cell_type": "code",
   "execution_count": 7,
   "id": "b74b6cbb",
   "metadata": {},
   "outputs": [
    {
     "name": "stdout",
     "output_type": "stream",
     "text": [
      "Running for {'batch_size': 600, 'dt': 3.1622776e-06}\n",
      "\n",
      "Iteration 0/10\n",
      "Budget: 2, num_samples = 583\n",
      "Budget: 4, num_samples = 680\n",
      "Budget: 6, num_samples = 1137\n",
      "Budget: 8, num_samples = 1811\n",
      "Budget: 10, num_samples = 2171\n",
      "\n",
      "Iteration 1/10\n",
      "Budget: 2, num_samples = 390\n",
      "Budget: 4, num_samples = 592\n",
      "Budget: 6, num_samples = 1075\n",
      "Budget: 8, num_samples = 1785\n",
      "Budget: 10, num_samples = 2183\n",
      "\n",
      "Iteration 2/10\n",
      "Budget: 2, num_samples = 558\n",
      "Budget: 4, num_samples = 618\n",
      "Budget: 6, num_samples = 1142\n",
      "Budget: 8, num_samples = 1834\n",
      "Budget: 10, num_samples = 2444\n",
      "\n",
      "Iteration 3/10\n",
      "Budget: 2, num_samples = 599\n",
      "Budget: 4, num_samples = 739\n",
      "Budget: 6, num_samples = 998\n",
      "Budget: 8, num_samples = 1430\n",
      "Budget: 10, num_samples = 2216\n",
      "\n",
      "Iteration 4/10\n",
      "Budget: 2, num_samples = 505\n",
      "Budget: 4, num_samples = 503\n",
      "Budget: 6, num_samples = 1132\n",
      "Budget: 8, num_samples = 1747\n",
      "Budget: 10, num_samples = 2377\n",
      "\n",
      "Iteration 5/10\n",
      "Budget: 2, num_samples = 585\n",
      "Budget: 4, num_samples = 754\n",
      "Budget: 6, num_samples = 1175\n",
      "Budget: 8, num_samples = 1844\n",
      "Budget: 10, num_samples = 2299\n",
      "\n",
      "Iteration 6/10\n",
      "Budget: 2, num_samples = 587\n",
      "Budget: 4, num_samples = 644\n",
      "Budget: 6, num_samples = 1264\n",
      "Budget: 8, num_samples = 1717\n",
      "Budget: 10, num_samples = 1925\n",
      "\n",
      "Iteration 7/10\n",
      "Budget: 2, num_samples = 611\n",
      "Budget: 4, num_samples = 868\n",
      "Budget: 6, num_samples = 1418\n",
      "Budget: 8, num_samples = 2075\n",
      "Budget: 10, num_samples = 2700\n",
      "\n",
      "Iteration 8/10\n",
      "Budget: 2, num_samples = 616\n",
      "Budget: 4, num_samples = 1029\n",
      "Budget: 6, num_samples = 1465\n",
      "Budget: 8, num_samples = 2090\n",
      "Budget: 10, num_samples = 2713\n",
      "\n",
      "Iteration 9/10\n",
      "Budget: 2, num_samples = 619\n",
      "Budget: 4, num_samples = 1032\n",
      "Budget: 6, num_samples = 1500\n",
      "Budget: 8, num_samples = 2099\n",
      "Budget: 10, num_samples = 2705\n"
     ]
    }
   ],
   "source": [
    "dict_params = {'batch_size': 600, 'dt': 3.1622776e-06}\n",
    "get_metric_curve = build_metric_curve_fn(dict_params, list_time_budget, \n",
    "                            partial_build_sgldCV, params_IC, error_fn_ksd_curve)\n",
    "\n",
    "key = random.PRNGKey(0)\n",
    "mean_ksd_curve_sgldCV_mamba, sd_ksd_curve_sgldCV_mamba = get_mean_sd_ksd_curve(key, num_curves, get_metric_curve)\n"
   ]
  },
  {
   "cell_type": "code",
   "execution_count": 18,
   "id": "a975606f",
   "metadata": {},
   "outputs": [
    {
     "name": "stdout",
     "output_type": "stream",
     "text": [
      "Running for {'batch_size': 6000, 'dt': 0.00031622776}\n",
      "\n",
      "Iteration 0/2\n",
      "Budget: 2, num_samples = 76\n",
      "Budget: 4, num_samples = 131\n",
      "Budget: 6, num_samples = 194\n",
      "Budget: 8, num_samples = 258\n",
      "Budget: 10, num_samples = 332\n",
      "\n",
      "Iteration 1/2\n",
      "Budget: 2, num_samples = 62\n",
      "Budget: 4, num_samples = 127\n",
      "Budget: 6, num_samples = 196\n",
      "Budget: 8, num_samples = 230\n",
      "Budget: 10, num_samples = 300\n"
     ]
    }
   ],
   "source": [
    "dict_params = {'batch_size': gridsearch_bs, 'dt': 0.00031622776}\n",
    "get_metric_curve = build_metric_curve_fn(dict_params, list_time_budget, \n",
    "                            partial_build_sgldCV, params_IC, error_fn_ksd_curve)\n",
    "\n",
    "key = random.PRNGKey(0)\n",
    "mean_ksd_curve_sgldCV_gridsearch, sd_ksd_curve_sgldCV_gridsearch = get_mean_sd_ksd_curve(key, num_curves, get_metric_curve)\n"
   ]
  },
  {
   "cell_type": "markdown",
   "id": "18e1932c",
   "metadata": {},
   "source": [
    "### sghmc"
   ]
  },
  {
   "cell_type": "code",
   "execution_count": 8,
   "id": "b9274245",
   "metadata": {
    "collapsed": true
   },
   "outputs": [
    {
     "name": "stdout",
     "output_type": "stream",
     "text": [
      "Running for {'batch_size': 600, 'L': 5, 'dt': 3.1622776e-07}\n",
      "\n",
      "Iteration 0/10\n",
      "Budget: 2, num_samples = 199\n",
      "Budget: 4, num_samples = 369\n",
      "Budget: 6, num_samples = 435\n",
      "Budget: 8, num_samples = 561\n",
      "Budget: 10, num_samples = 738\n",
      "\n",
      "Iteration 1/10\n",
      "Budget: 2, num_samples = 151\n",
      "Budget: 4, num_samples = 296\n",
      "Budget: 6, num_samples = 434\n",
      "Budget: 8, num_samples = 593\n",
      "Budget: 10, num_samples = 749\n",
      "\n",
      "Iteration 2/10\n",
      "Budget: 2, num_samples = 150\n",
      "Budget: 4, num_samples = 306\n",
      "Budget: 6, num_samples = 435\n",
      "Budget: 8, num_samples = 600\n",
      "Budget: 10, num_samples = 712\n",
      "\n",
      "Iteration 3/10\n",
      "Budget: 2, num_samples = 140\n",
      "Budget: 4, num_samples = 262\n",
      "Budget: 6, num_samples = 380\n",
      "Budget: 8, num_samples = 610\n",
      "Budget: 10, num_samples = 729\n",
      "\n",
      "Iteration 4/10\n",
      "Budget: 2, num_samples = 114\n",
      "Budget: 4, num_samples = 202\n",
      "Budget: 6, num_samples = 374\n",
      "Budget: 8, num_samples = 530\n",
      "Budget: 10, num_samples = 717\n",
      "\n",
      "Iteration 5/10\n",
      "Budget: 2, num_samples = 140\n",
      "Budget: 4, num_samples = 269\n",
      "Budget: 6, num_samples = 289\n",
      "Budget: 8, num_samples = 495\n",
      "Budget: 10, num_samples = 733\n",
      "\n",
      "Iteration 6/10\n",
      "Budget: 2, num_samples = 140\n",
      "Budget: 4, num_samples = 264\n",
      "Budget: 6, num_samples = 323\n",
      "Budget: 8, num_samples = 493\n",
      "Budget: 10, num_samples = 654\n",
      "\n",
      "Iteration 7/10\n",
      "Budget: 2, num_samples = 140\n",
      "Budget: 4, num_samples = 276\n",
      "Budget: 6, num_samples = 428\n",
      "Budget: 8, num_samples = 547\n",
      "Budget: 10, num_samples = 698\n",
      "\n",
      "Iteration 8/10\n",
      "Budget: 2, num_samples = 140\n",
      "Budget: 4, num_samples = 265\n",
      "Budget: 6, num_samples = 379\n",
      "Budget: 8, num_samples = 455\n",
      "Budget: 10, num_samples = 684\n",
      "\n",
      "Iteration 9/10\n",
      "Budget: 2, num_samples = 139\n",
      "Budget: 4, num_samples = 284\n",
      "Budget: 6, num_samples = 395\n",
      "Budget: 8, num_samples = 541\n",
      "Budget: 10, num_samples = 709\n"
     ]
    }
   ],
   "source": [
    "dict_params = {'batch_size': 600, 'L': 5, 'dt': 3.1622776e-07}\n",
    "get_metric_curve = build_metric_curve_fn(dict_params, list_time_budget, \n",
    "                            partial_build_sghmc, params_IC, error_fn_ksd_curve)\n",
    "\n",
    "key = random.PRNGKey(0)\n",
    "mean_ksd_curve_sghmc_mamba, sd_ksd_curve_sghmc_mamba = get_mean_sd_ksd_curve(key, num_curves, get_metric_curve)\n"
   ]
  },
  {
   "cell_type": "code",
   "execution_count": 19,
   "id": "6d9dbe8e",
   "metadata": {},
   "outputs": [
    {
     "name": "stdout",
     "output_type": "stream",
     "text": [
      "Running for {'batch_size': 6000, 'L': 10, 'dt': 1e-05}\n",
      "\n",
      "Iteration 0/2\n",
      "Budget: 2, num_samples = 16\n",
      "Budget: 4, num_samples = 28\n",
      "Budget: 6, num_samples = 36\n",
      "Budget: 8, num_samples = 49\n",
      "Budget: 10, num_samples = 64\n",
      "\n",
      "Iteration 1/2\n",
      "Budget: 2, num_samples = 14\n",
      "Budget: 4, num_samples = 26\n",
      "Budget: 6, num_samples = 37\n",
      "Budget: 8, num_samples = 50\n",
      "Budget: 10, num_samples = 58\n"
     ]
    }
   ],
   "source": [
    "dict_params = {'batch_size': gridsearch_bs, 'L': 10, 'dt': 1e-05}\n",
    "get_metric_curve = build_metric_curve_fn(dict_params, list_time_budget, \n",
    "                            partial_build_sghmc, params_IC, error_fn_ksd_curve)\n",
    "\n",
    "key = random.PRNGKey(0)\n",
    "mean_ksd_curve_sghmc_gridsearch, sd_ksd_curve_sghmc_gridsearch = get_mean_sd_ksd_curve(key, num_curves, get_metric_curve)\n"
   ]
  },
  {
   "cell_type": "markdown",
   "id": "671da5e3",
   "metadata": {},
   "source": [
    "### sghmc-CV"
   ]
  },
  {
   "cell_type": "code",
   "execution_count": 9,
   "id": "b92dda06",
   "metadata": {},
   "outputs": [
    {
     "name": "stdout",
     "output_type": "stream",
     "text": [
      "Running for {'batch_size': 60, 'L': 5, 'dt': 3.1622776e-07}\n",
      "\n",
      "Iteration 0/10\n",
      "Budget: 2, num_samples = 297\n",
      "Budget: 4, num_samples = 464\n",
      "Budget: 6, num_samples = 710\n",
      "Budget: 8, num_samples = 940\n",
      "Budget: 10, num_samples = 1011\n",
      "\n",
      "Iteration 1/10\n",
      "Budget: 2, num_samples = 220\n",
      "Budget: 4, num_samples = 493\n",
      "Budget: 6, num_samples = 769\n",
      "Budget: 8, num_samples = 1061\n",
      "Budget: 10, num_samples = 1414\n",
      "\n",
      "Iteration 2/10\n",
      "Budget: 2, num_samples = 330\n",
      "Budget: 4, num_samples = 517\n",
      "Budget: 6, num_samples = 748\n",
      "Budget: 8, num_samples = 1056\n",
      "Budget: 10, num_samples = 1412\n",
      "\n",
      "Iteration 3/10\n",
      "Budget: 2, num_samples = 269\n",
      "Budget: 4, num_samples = 274\n",
      "Budget: 6, num_samples = 673\n",
      "Budget: 8, num_samples = 974\n",
      "Budget: 10, num_samples = 1376\n",
      "\n",
      "Iteration 4/10\n",
      "Budget: 2, num_samples = 324\n",
      "Budget: 4, num_samples = 516\n",
      "Budget: 6, num_samples = 742\n",
      "Budget: 8, num_samples = 1058\n",
      "Budget: 10, num_samples = 1418\n",
      "\n",
      "Iteration 5/10\n",
      "Budget: 2, num_samples = 331\n",
      "Budget: 4, num_samples = 502\n",
      "Budget: 6, num_samples = 756\n",
      "Budget: 8, num_samples = 1050\n",
      "Budget: 10, num_samples = 1404\n",
      "\n",
      "Iteration 6/10\n",
      "Budget: 2, num_samples = 329\n",
      "Budget: 4, num_samples = 520\n",
      "Budget: 6, num_samples = 747\n",
      "Budget: 8, num_samples = 1053\n",
      "Budget: 10, num_samples = 1424\n",
      "\n",
      "Iteration 7/10\n",
      "Budget: 2, num_samples = 326\n",
      "Budget: 4, num_samples = 520\n",
      "Budget: 6, num_samples = 754\n",
      "Budget: 8, num_samples = 1059\n",
      "Budget: 10, num_samples = 1405\n",
      "\n",
      "Iteration 8/10\n",
      "Budget: 2, num_samples = 327\n",
      "Budget: 4, num_samples = 517\n",
      "Budget: 6, num_samples = 754\n",
      "Budget: 8, num_samples = 1059\n",
      "Budget: 10, num_samples = 1381\n",
      "\n",
      "Iteration 9/10\n",
      "Budget: 2, num_samples = 325\n",
      "Budget: 4, num_samples = 519\n",
      "Budget: 6, num_samples = 759\n",
      "Budget: 8, num_samples = 1063\n",
      "Budget: 10, num_samples = 1425\n"
     ]
    }
   ],
   "source": [
    "dict_params = {'batch_size': 60, 'L': 5, 'dt': 3.1622776e-07}\n",
    "get_metric_curve = build_metric_curve_fn(dict_params, list_time_budget, \n",
    "                            partial_build_sghmcCV, params_IC, error_fn_ksd_curve)\n",
    "\n",
    "key = random.PRNGKey(0)\n",
    "mean_ksd_curve_sghmcCV_mamba, sd_ksd_curve_sghmcCV_mamba = get_mean_sd_ksd_curve(key, num_curves, get_metric_curve)\n"
   ]
  },
  {
   "cell_type": "code",
   "execution_count": 20,
   "id": "d69ed0dd",
   "metadata": {},
   "outputs": [
    {
     "name": "stdout",
     "output_type": "stream",
     "text": [
      "Running for {'batch_size': 6000, 'L': 10, 'dt': 1e-05}\n",
      "\n",
      "Iteration 0/2\n",
      "Budget: 2, num_samples = 9\n",
      "Budget: 4, num_samples = 14\n",
      "Budget: 6, num_samples = 21\n",
      "Budget: 8, num_samples = 26\n",
      "Budget: 10, num_samples = 30\n",
      "\n",
      "Iteration 1/2\n",
      "Budget: 2, num_samples = 5\n",
      "Budget: 4, num_samples = 11\n",
      "Budget: 6, num_samples = 19\n",
      "Budget: 8, num_samples = 22\n",
      "Budget: 10, num_samples = 33\n"
     ]
    }
   ],
   "source": [
    "dict_params = {'batch_size': gridsearch_bs, 'L': 10, 'dt': 1e-05}\n",
    "get_metric_curve = build_metric_curve_fn(dict_params, list_time_budget, \n",
    "                            partial_build_sghmcCV, params_IC, error_fn_ksd_curve)\n",
    "\n",
    "key = random.PRNGKey(0)\n",
    "mean_ksd_curve_sghmcCV_gridsearch, sd_ksd_curve_sghmcCV_gridsearch = get_mean_sd_ksd_curve(key, num_curves, get_metric_curve)\n"
   ]
  },
  {
   "cell_type": "markdown",
   "id": "3d97a3ba",
   "metadata": {},
   "source": [
    "### sgnht"
   ]
  },
  {
   "cell_type": "code",
   "execution_count": 10,
   "id": "b375e476",
   "metadata": {},
   "outputs": [
    {
     "name": "stdout",
     "output_type": "stream",
     "text": [
      "Running for {'batch_size': 6000, 'dt': 1e-06}\n",
      "\n",
      "Iteration 0/10\n",
      "Budget: 2, num_samples = 137\n",
      "Budget: 4, num_samples = 255\n",
      "Budget: 6, num_samples = 295\n",
      "Budget: 8, num_samples = 390\n",
      "Budget: 10, num_samples = 528\n",
      "\n",
      "Iteration 1/10\n",
      "Budget: 2, num_samples = 102\n",
      "Budget: 4, num_samples = 206\n",
      "Budget: 6, num_samples = 324\n",
      "Budget: 8, num_samples = 410\n",
      "Budget: 10, num_samples = 523\n",
      "\n",
      "Iteration 2/10\n",
      "Budget: 2, num_samples = 102\n",
      "Budget: 4, num_samples = 206\n",
      "Budget: 6, num_samples = 323\n",
      "Budget: 8, num_samples = 416\n",
      "Budget: 10, num_samples = 513\n",
      "\n",
      "Iteration 3/10\n",
      "Budget: 2, num_samples = 102\n",
      "Budget: 4, num_samples = 204\n",
      "Budget: 6, num_samples = 323\n",
      "Budget: 8, num_samples = 403\n",
      "Budget: 10, num_samples = 527\n",
      "\n",
      "Iteration 4/10\n",
      "Budget: 2, num_samples = 102\n",
      "Budget: 4, num_samples = 204\n",
      "Budget: 6, num_samples = 324\n",
      "Budget: 8, num_samples = 408\n",
      "Budget: 10, num_samples = 522\n",
      "\n",
      "Iteration 5/10\n",
      "Budget: 2, num_samples = 102\n",
      "Budget: 4, num_samples = 210\n",
      "Budget: 6, num_samples = 324\n",
      "Budget: 8, num_samples = 411\n",
      "Budget: 10, num_samples = 525\n",
      "\n",
      "Iteration 6/10\n",
      "Budget: 2, num_samples = 101\n",
      "Budget: 4, num_samples = 203\n",
      "Budget: 6, num_samples = 323\n",
      "Budget: 8, num_samples = 411\n",
      "Budget: 10, num_samples = 524\n",
      "\n",
      "Iteration 7/10\n",
      "Budget: 2, num_samples = 102\n",
      "Budget: 4, num_samples = 209\n",
      "Budget: 6, num_samples = 324\n",
      "Budget: 8, num_samples = 412\n",
      "Budget: 10, num_samples = 530\n",
      "\n",
      "Iteration 8/10\n",
      "Budget: 2, num_samples = 102\n",
      "Budget: 4, num_samples = 204\n",
      "Budget: 6, num_samples = 320\n",
      "Budget: 8, num_samples = 408\n",
      "Budget: 10, num_samples = 526\n",
      "\n",
      "Iteration 9/10\n",
      "Budget: 2, num_samples = 102\n",
      "Budget: 4, num_samples = 207\n",
      "Budget: 6, num_samples = 324\n",
      "Budget: 8, num_samples = 413\n",
      "Budget: 10, num_samples = 524\n"
     ]
    }
   ],
   "source": [
    "dict_params = {'batch_size': 6000, 'dt': 1e-06}\n",
    "get_metric_curve = build_metric_curve_fn(dict_params, list_time_budget, \n",
    "                            partial_build_sgnht, params_IC, error_fn_ksd_curve)\n",
    "\n",
    "key = random.PRNGKey(0)\n",
    "mean_ksd_curve_sgnht_mamba, sd_ksd_curve_sgnht_mamba = get_mean_sd_ksd_curve(key, num_curves, get_metric_curve)\n"
   ]
  },
  {
   "cell_type": "code",
   "execution_count": 21,
   "id": "7d02e65b",
   "metadata": {},
   "outputs": [
    {
     "name": "stdout",
     "output_type": "stream",
     "text": [
      "Running for {'batch_size': 6000, 'dt': 0.0001}\n",
      "\n",
      "Iteration 0/2\n",
      "Budget: 2, num_samples = 133\n",
      "Budget: 4, num_samples = 253\n",
      "Budget: 6, num_samples = 374\n",
      "Budget: 8, num_samples = 472\n",
      "Budget: 10, num_samples = 543\n",
      "\n",
      "Iteration 1/2\n",
      "Budget: 2, num_samples = 114\n",
      "Budget: 4, num_samples = 230\n",
      "Budget: 6, num_samples = 349\n",
      "Budget: 8, num_samples = 457\n",
      "Budget: 10, num_samples = 472\n"
     ]
    }
   ],
   "source": [
    "dict_params = {'batch_size': gridsearch_bs, 'dt': 1e-4}\n",
    "get_metric_curve = build_metric_curve_fn(dict_params, list_time_budget, \n",
    "                            partial_build_sgnht, params_IC, error_fn_ksd_curve)\n",
    "\n",
    "key = random.PRNGKey(0)\n",
    "mean_ksd_curve_sgnht_gridsearch, sd_ksd_curve_sgnht_gridsearch = get_mean_sd_ksd_curve(key, num_curves, get_metric_curve)\n"
   ]
  },
  {
   "cell_type": "markdown",
   "id": "b8354804",
   "metadata": {},
   "source": [
    "### sgnht-CV"
   ]
  },
  {
   "cell_type": "code",
   "execution_count": 11,
   "id": "6f9bd507",
   "metadata": {},
   "outputs": [
    {
     "name": "stdout",
     "output_type": "stream",
     "text": [
      "Running for {'batch_size': 600, 'dt': 1e-07}\n",
      "\n",
      "Iteration 0/10\n",
      "Budget: 2, num_samples = 560\n",
      "Budget: 4, num_samples = 828\n",
      "Budget: 6, num_samples = 1308\n",
      "Budget: 8, num_samples = 1931\n",
      "Budget: 10, num_samples = 2456\n",
      "\n",
      "Iteration 1/10\n",
      "Budget: 2, num_samples = 565\n",
      "Budget: 4, num_samples = 942\n",
      "Budget: 6, num_samples = 1335\n",
      "Budget: 8, num_samples = 1948\n",
      "Budget: 10, num_samples = 2507\n",
      "\n",
      "Iteration 2/10\n",
      "Budget: 2, num_samples = 561\n",
      "Budget: 4, num_samples = 978\n",
      "Budget: 6, num_samples = 1333\n",
      "Budget: 8, num_samples = 1926\n",
      "Budget: 10, num_samples = 2455\n",
      "\n",
      "Iteration 3/10\n",
      "Budget: 2, num_samples = 567\n",
      "Budget: 4, num_samples = 934\n",
      "Budget: 6, num_samples = 1302\n",
      "Budget: 8, num_samples = 1915\n",
      "Budget: 10, num_samples = 2517\n",
      "\n",
      "Iteration 4/10\n",
      "Budget: 2, num_samples = 564\n",
      "Budget: 4, num_samples = 924\n",
      "Budget: 6, num_samples = 1302\n",
      "Budget: 8, num_samples = 1913\n",
      "Budget: 10, num_samples = 2473\n",
      "\n",
      "Iteration 5/10\n",
      "Budget: 2, num_samples = 565\n",
      "Budget: 4, num_samples = 991\n",
      "Budget: 6, num_samples = 1334\n",
      "Budget: 8, num_samples = 1916\n",
      "Budget: 10, num_samples = 2490\n",
      "\n",
      "Iteration 6/10\n",
      "Budget: 2, num_samples = 567\n",
      "Budget: 4, num_samples = 938\n",
      "Budget: 6, num_samples = 1311\n",
      "Budget: 8, num_samples = 1908\n",
      "Budget: 10, num_samples = 2459\n",
      "\n",
      "Iteration 7/10\n",
      "Budget: 2, num_samples = 563\n",
      "Budget: 4, num_samples = 948\n",
      "Budget: 6, num_samples = 1318\n",
      "Budget: 8, num_samples = 1914\n",
      "Budget: 10, num_samples = 2467\n",
      "\n",
      "Iteration 8/10\n",
      "Budget: 2, num_samples = 565\n",
      "Budget: 4, num_samples = 970\n",
      "Budget: 6, num_samples = 1309\n",
      "Budget: 8, num_samples = 1916\n",
      "Budget: 10, num_samples = 2474\n",
      "\n",
      "Iteration 9/10\n",
      "Budget: 2, num_samples = 564\n",
      "Budget: 4, num_samples = 971\n",
      "Budget: 6, num_samples = 1335\n",
      "Budget: 8, num_samples = 1915\n",
      "Budget: 10, num_samples = 2460\n"
     ]
    }
   ],
   "source": [
    "dict_params = {'batch_size': 600, 'dt': 1e-07}\n",
    "get_metric_curve = build_metric_curve_fn(dict_params, list_time_budget, \n",
    "                            partial_build_sgnhtCV, params_IC, error_fn_ksd_curve)\n",
    "\n",
    "key = random.PRNGKey(0)\n",
    "mean_ksd_curve_sgnhtCV_mamba, sd_ksd_curve_sgnhtCV_mamba = get_mean_sd_ksd_curve(key, num_curves, get_metric_curve)\n"
   ]
  },
  {
   "cell_type": "code",
   "execution_count": 22,
   "id": "0b733fe0",
   "metadata": {},
   "outputs": [
    {
     "name": "stdout",
     "output_type": "stream",
     "text": [
      "Running for {'batch_size': 6000, 'dt': 3.1622778e-05}\n",
      "\n",
      "Iteration 0/2\n",
      "Budget: 2, num_samples = 78\n",
      "Budget: 4, num_samples = 140\n",
      "Budget: 6, num_samples = 210\n",
      "Budget: 8, num_samples = 284\n",
      "Budget: 10, num_samples = 312\n",
      "\n",
      "Iteration 1/2\n",
      "Budget: 2, num_samples = 65\n",
      "Budget: 4, num_samples = 132\n",
      "Budget: 6, num_samples = 196\n",
      "Budget: 8, num_samples = 269\n",
      "Budget: 10, num_samples = 331\n"
     ]
    }
   ],
   "source": [
    "dict_params = {'batch_size': gridsearch_bs, 'dt': 3.1622778e-05}\n",
    "get_metric_curve = build_metric_curve_fn(dict_params, list_time_budget, \n",
    "                            partial_build_sgnhtCV, params_IC, error_fn_ksd_curve)\n",
    "\n",
    "key = random.PRNGKey(0)\n",
    "mean_ksd_curve_sgnhtCV_gridsearch, sd_ksd_curve_sgnhtCV_gridsearch = get_mean_sd_ksd_curve(key, num_curves, get_metric_curve)\n"
   ]
  },
  {
   "cell_type": "code",
   "execution_count": null,
   "id": "c05c7cca",
   "metadata": {},
   "outputs": [],
   "source": []
  },
  {
   "cell_type": "code",
   "execution_count": null,
   "id": "691f1f95",
   "metadata": {},
   "outputs": [],
   "source": []
  },
  {
   "cell_type": "markdown",
   "id": "44cac657",
   "metadata": {},
   "source": [
    "#### save and load ksd curves"
   ]
  },
  {
   "cell_type": "code",
   "execution_count": 12,
   "id": "43052437",
   "metadata": {},
   "outputs": [],
   "source": [
    "\n",
    "# MAMBA\n",
    "np.savetxt(\"outputs/NN_uncertainty_tests/mamba/KSD_curve_sgld.txt\", \n",
    "           np.array([mean_ksd_curve_sgld_mamba, sd_ksd_curve_sgld_mamba]))\n",
    "\n",
    "np.savetxt(\"outputs/NN_uncertainty_tests/mamba/KSD_curve_sgldCV.txt\", \n",
    "           np.array([mean_ksd_curve_sgldCV_mamba, sd_ksd_curve_sgldCV_mamba]))\n",
    "\n",
    "np.savetxt(\"outputs/NN_uncertainty_tests/mamba/KSD_curve_sghmc.txt\", \n",
    "           np.array([mean_ksd_curve_sghmc_mamba, sd_ksd_curve_sghmc_mamba]))\n",
    "\n",
    "np.savetxt(\"outputs/NN_uncertainty_tests/mamba/KSD_curve_sghmcCV.txt\", \n",
    "           np.array([mean_ksd_curve_sghmcCV_mamba, sd_ksd_curve_sghmcCV_mamba]))\n",
    "\n",
    "np.savetxt(\"outputs/NN_uncertainty_tests/mamba/KSD_curve_sgnht.txt\", \n",
    "           np.array([mean_ksd_curve_sgnht_mamba, sd_ksd_curve_sgnht_mamba]))\n",
    "\n",
    "np.savetxt(\"outputs/NN_uncertainty_tests/mamba/KSD_curve_sgnhtCV.txt\", \n",
    "           np.array([mean_ksd_curve_sgnhtCV_mamba, sd_ksd_curve_sgnhtCV_mamba]))\n",
    "\n",
    "\n",
    "# # gridsearch\n",
    "# np.savetxt(\"outputs/NN_uncertainty_tests/gridsearch/KSD_curve_sgld.txt\", \n",
    "#            np.array([mean_ksd_curve_sgld_gridsearch, sd_ksd_curve_sgld_gridsearch]))\n",
    "\n",
    "# np.savetxt(\"outputs/NN_uncertainty_tests/gridsearch/KSD_curve_sgldCV.txt\", \n",
    "#            np.array([mean_ksd_curve_sgldCV_gridsearch, sd_ksd_curve_sgldCV_gridsearch]))\n",
    "\n",
    "# np.savetxt(\"outputs/NN_uncertainty_tests/gridsearch/KSD_curve_sghmc.txt\", \n",
    "#            np.array([mean_ksd_curve_sghmc_gridsearch, sd_ksd_curve_sghmc_gridsearch]))\n",
    "\n",
    "# np.savetxt(\"outputs/NN_uncertainty_tests/gridsearch/KSD_curve_sghmcCV.txt\", \n",
    "#            np.array([mean_ksd_curve_sghmcCV_gridsearch, sd_ksd_curve_sghmcCV_gridsearch]))\n",
    "\n",
    "# np.savetxt(\"outputs/NN_uncertainty_tests/gridsearch/KSD_curve_sgnht.txt\", \n",
    "#            np.array([mean_ksd_curve_sgnht_gridsearch, sd_ksd_curve_sgnht_gridsearch]))\n",
    "\n",
    "# np.savetxt(\"outputs/NN_uncertainty_tests/gridsearch/KSD_curve_sgnhtCV.txt\", \n",
    "#            np.array([mean_ksd_curve_sgnhtCV_gridsearch, sd_ksd_curve_sgnhtCV_gridsearch]))\n",
    "\n",
    "\n",
    "# Load mean and sd of ksd curves\n",
    "list_time_budget = [2, 4, 6, 8, 10]\n",
    "\n",
    "# mean_ksd_curve_sgld_mamba, sd_ksd_curve_sgld_mamba = np.genfromtxt(\"outputs/NN_uncertainty_tests/mamba/KSD_curve_sgld.txt\")\n",
    "# mean_ksd_curve_sgldCV_mamba, sd_ksd_curve_sgldCV_mamba = np.genfromtxt(\"outputs/NN_uncertainty_tests/mamba/KSD_curve_sgldCV.txt\")\n",
    "# mean_ksd_curve_sghmc_mamba, sd_ksd_curve_sghmc_mamba = np.genfromtxt(\"outputs/NN_uncertainty_tests/mamba/KSD_curve_sghmc.txt\")\n",
    "# mean_ksd_curve_sghmcCV_mamba, sd_ksd_curve_sghmcCV_mamba = np.genfromtxt(\"outputs/NN_uncertainty_tests/mamba/KSD_curve_sghmcCV.txt\")\n",
    "# mean_ksd_curve_sgnht_mamba, sd_ksd_curve_sgnht_mamba = np.genfromtxt(\"outputs/NN_uncertainty_tests/mamba/KSD_curve_sgnht.txt\")\n",
    "# mean_ksd_curve_sgnhtCV_mamba, sd_ksd_curve_sgnhtCV_mamba = np.genfromtxt(\"outputs/NN_uncertainty_tests/mamba/KSD_curve_sgnhtCV.txt\")\n",
    "\n",
    "# mean_ksd_curve_sgld_gridsearch, sd_ksd_curve_sgld_gridsearch = np.genfromtxt(\"outputs/NN_uncertainty_tests/gridsearch/KSD_curve_sgld.txt\")\n",
    "# mean_ksd_curve_sgldCV_gridsearch, sd_ksd_curve_sgldCV_gridsearch = np.genfromtxt(\"outputs/NN_uncertainty_tests/gridsearch/KSD_curve_sgldCV.txt\")\n",
    "# mean_ksd_curve_sghmc_gridsearch, sd_ksd_curve_sghmc_gridsearch = np.genfromtxt(\"outputs/NN_uncertainty_tests/gridsearch/KSD_curve_sghmc.txt\")\n",
    "# mean_ksd_curve_sghmcCV_gridsearch, sd_ksd_curve_sghmcCV_gridsearch = np.genfromtxt(\"outputs/NN_uncertainty_tests/gridsearch/KSD_curve_sghmcCV.txt\")\n",
    "# mean_ksd_curve_sgnht_gridsearch, sd_ksd_curve_sgnht_gridsearch = np.genfromtxt(\"outputs/NN_uncertainty_tests/gridsearch/KSD_curve_sgnht.txt\")\n",
    "# mean_ksd_curve_sgnhtCV_gridsearch, sd_ksd_curve_sgnhtCV_gridsearch = np.genfromtxt(\"outputs/NN_uncertainty_tests/gridsearch/KSD_curve_sgnhtCV.txt\")\n",
    "\n"
   ]
  },
  {
   "cell_type": "code",
   "execution_count": null,
   "id": "a49a4f1b",
   "metadata": {},
   "outputs": [],
   "source": []
  },
  {
   "cell_type": "markdown",
   "id": "46b44e47",
   "metadata": {},
   "source": [
    "# plots: KSD curves"
   ]
  },
  {
   "cell_type": "code",
   "execution_count": 31,
   "id": "89ce77d3",
   "metadata": {},
   "outputs": [
    {
     "data": {
      "text/plain": [
       "<matplotlib.legend.Legend at 0x7f8e411bc970>"
      ]
     },
     "execution_count": 31,
     "metadata": {},
     "output_type": "execute_result"
    },
    {
     "data": {
      "image/png": "[encoded data removed]",
      "text/plain": [
       "<Figure size 576x432 with 1 Axes>"
      ]
     },
     "metadata": {
      "needs_background": "light"
     },
     "output_type": "display_data"
    }
   ],
   "source": [
    "plt.rcParams.update({'font.size':17})\n",
    "\n",
    "max_time_budget = 8\n",
    "\n",
    "plt.figure(figsize=(8, 6))\n",
    "\n",
    "plt.plot(list_time_budget, mean_ksd_curve_sgld_mamba, marker=\"+\", markersize=15, \n",
    "         c='r', label=\"MAMBA\")\n",
    "plt.fill_between(list_time_budget, mean_ksd_curve_sgld_mamba+2*sd_ksd_curve_sgld_mamba, \n",
    "                 mean_ksd_curve_sgld_mamba-2*sd_ksd_curve_sgld_mamba, alpha=0.1, color='r')\n",
    "\n",
    "plt.plot(list_time_budget, mean_ksd_curve_sgld_gridsearch, marker=\"o\", markersize=15, \n",
    "         c='g', label=\"gridsearch\")\n",
    "plt.fill_between(list_time_budget, mean_ksd_curve_sgld_gridsearch+2*sd_ksd_curve_sgld_gridsearch, \n",
    "                 mean_ksd_curve_sgld_gridsearch-2*sd_ksd_curve_sgld_gridsearch, alpha=0.1, color='g')\n",
    "\n",
    "plt.title(\"SGLD sampler\", size=23)\n",
    "plt.ylabel(\"KSD\", size=19)\n",
    "plt.xlabel(\"time budget (seconds)\", size=19)\n",
    "plt.legend(fontsize=16)\n",
    "# plt.savefig(\"images/sgld_ksd_curves_R1_R5_n90.png\")"
   ]
  },
  {
   "cell_type": "code",
   "execution_count": 32,
   "id": "dd549943",
   "metadata": {},
   "outputs": [
    {
     "data": {
      "text/plain": [
       "<matplotlib.legend.Legend at 0x7f8e41a77c10>"
      ]
     },
     "execution_count": 32,
     "metadata": {},
     "output_type": "execute_result"
    },
    {
     "data": {
      "image/png": "[encoded data removed]",
      "text/plain": [
       "<Figure size 576x432 with 1 Axes>"
      ]
     },
     "metadata": {
      "needs_background": "light"
     },
     "output_type": "display_data"
    }
   ],
   "source": [
    "plt.rcParams.update({'font.size':17})\n",
    "\n",
    "max_time_budget = 8\n",
    "\n",
    "plt.figure(figsize=(8, 6))\n",
    "\n",
    "plt.plot(list_time_budget, mean_ksd_curve_sgldCV_mamba, marker=\"+\", markersize=15, \n",
    "         c='r', label=\"MAMBA\")\n",
    "plt.fill_between(list_time_budget, mean_ksd_curve_sgldCV_mamba+2*sd_ksd_curve_sgldCV_mamba, \n",
    "                 mean_ksd_curve_sgldCV_mamba-2*sd_ksd_curve_sgldCV_mamba, alpha=0.1, color='r')\n",
    "\n",
    "plt.plot(list_time_budget, mean_ksd_curve_sgldCV_gridsearch, marker=\"o\", markersize=15, \n",
    "         c='g', label=\"gridsearch\")\n",
    "plt.fill_between(list_time_budget, mean_ksd_curve_sgldCV_gridsearch+2*sd_ksd_curve_sgldCV_gridsearch, \n",
    "                 mean_ksd_curve_sgldCV_gridsearch-2*sd_ksd_curve_sgldCV_gridsearch, alpha=0.1, color='g')\n",
    "\n",
    "plt.title(\"SGLD-CV sampler\", size=23)\n",
    "plt.ylabel(\"KSD\", size=19)\n",
    "plt.xlabel(\"time budget (seconds)\", size=19)\n",
    "plt.legend(fontsize=16)\n",
    "# plt.savefig(\"images/sgld_ksd_curves_R1_R5_n90.png\")"
   ]
  },
  {
   "cell_type": "code",
   "execution_count": 33,
   "id": "8e5d7323",
   "metadata": {
    "scrolled": true
   },
   "outputs": [
    {
     "data": {
      "text/plain": [
       "array([4819.779 , 3289.6094, 2536.8135, 2124.9565, 1817.9712],\n",
       "      dtype=float32)"
      ]
     },
     "execution_count": 33,
     "metadata": {},
     "output_type": "execute_result"
    }
   ],
   "source": [
    "mean_ksd_curve_sghmc_mamba"
   ]
  },
  {
   "cell_type": "code",
   "execution_count": 34,
   "id": "a69e501d",
   "metadata": {},
   "outputs": [
    {
     "data": {
      "text/plain": [
       "array([11440.311 ,  8862.807 ,  7250.8027,  6127.3296,  5023.1177],\n",
       "      dtype=float32)"
      ]
     },
     "execution_count": 34,
     "metadata": {},
     "output_type": "execute_result"
    }
   ],
   "source": [
    "mean_ksd_curve_sghmc_gridsearch"
   ]
  },
  {
   "cell_type": "code",
   "execution_count": 35,
   "id": "bb5e6568",
   "metadata": {},
   "outputs": [
    {
     "data": {
      "text/plain": [
       "<matplotlib.legend.Legend at 0x7f8e41baf0d0>"
      ]
     },
     "execution_count": 35,
     "metadata": {},
     "output_type": "execute_result"
    },
    {
     "data": {
      "image/png": "[encoded data removed]",
      "text/plain": [
       "<Figure size 576x432 with 1 Axes>"
      ]
     },
     "metadata": {
      "needs_background": "light"
     },
     "output_type": "display_data"
    }
   ],
   "source": [
    "plt.rcParams.update({'font.size':17})\n",
    "\n",
    "max_time_budget = 8\n",
    "\n",
    "plt.figure(figsize=(8, 6))\n",
    "\n",
    "plt.plot(list_time_budget, mean_ksd_curve_sghmc_mamba, marker=\"+\", markersize=15, \n",
    "         c='r', label=\"MAMBA\")\n",
    "plt.fill_between(list_time_budget, mean_ksd_curve_sghmc_mamba+2*sd_ksd_curve_sghmc_mamba, \n",
    "                 mean_ksd_curve_sghmc_mamba-2*sd_ksd_curve_sghmc_mamba, alpha=0.1, color='r')\n",
    "\n",
    "plt.plot(list_time_budget, mean_ksd_curve_sghmc_gridsearch, marker=\"o\", markersize=15, \n",
    "         c='g', label=\"gridsearch\")\n",
    "plt.fill_between(list_time_budget, mean_ksd_curve_sghmc_gridsearch+2*sd_ksd_curve_sghmc_gridsearch, \n",
    "                 mean_ksd_curve_sghmc_gridsearch-2*sd_ksd_curve_sghmc_gridsearch, alpha=0.1, color='g')\n",
    "\n",
    "\n",
    "plt.title(\"SGHMC sampler\", size=23)\n",
    "plt.ylabel(\"KSD\", size=19)\n",
    "plt.xlabel(\"time budget (seconds)\", size=19)\n",
    "plt.legend(fontsize=16)\n",
    "# plt.savefig(\"images/sgld_ksd_curves_R1_R5_n90.png\")"
   ]
  },
  {
   "cell_type": "code",
   "execution_count": 36,
   "id": "0c33e946",
   "metadata": {},
   "outputs": [
    {
     "data": {
      "text/plain": [
       "<matplotlib.legend.Legend at 0x7f8e41c97910>"
      ]
     },
     "execution_count": 36,
     "metadata": {},
     "output_type": "execute_result"
    },
    {
     "data": {
      "image/png": "[encoded data removed]",
      "text/plain": [
       "<Figure size 576x432 with 1 Axes>"
      ]
     },
     "metadata": {
      "needs_background": "light"
     },
     "output_type": "display_data"
    }
   ],
   "source": [
    "plt.rcParams.update({'font.size':17})\n",
    "\n",
    "max_time_budget = 8\n",
    "\n",
    "plt.figure(figsize=(8, 6))\n",
    "\n",
    "plt.plot(list_time_budget, mean_ksd_curve_sghmcCV_mamba, marker=\"+\", markersize=15, \n",
    "         c='r', label=\"MAMBA\")\n",
    "plt.fill_between(list_time_budget, mean_ksd_curve_sghmcCV_mamba+2*sd_ksd_curve_sghmcCV_mamba, \n",
    "                 mean_ksd_curve_sghmcCV_mamba-2*sd_ksd_curve_sghmcCV_mamba, alpha=0.1, color='r')\n",
    "\n",
    "plt.plot(list_time_budget, mean_ksd_curve_sghmcCV_gridsearch, marker=\"o\", markersize=15, \n",
    "         c='g', label=\"gridsearch\")\n",
    "plt.fill_between(list_time_budget, mean_ksd_curve_sghmcCV_gridsearch+2*sd_ksd_curve_sghmcCV_gridsearch, \n",
    "                 mean_ksd_curve_sghmcCV_gridsearch-2*sd_ksd_curve_sghmcCV_gridsearch, alpha=0.1, color='g')\n",
    "\n",
    "\n",
    "plt.title(\"SGHMCCV sampler\", size=23)\n",
    "plt.ylabel(\"KSD\", size=19)\n",
    "plt.xlabel(\"time budget (seconds)\", size=19)\n",
    "plt.legend(fontsize=16)\n",
    "# plt.savefig(\"images/sgld_ksd_curves_R1_R5_n90.png\")"
   ]
  },
  {
   "cell_type": "code",
   "execution_count": null,
   "id": "07cc2d39",
   "metadata": {},
   "outputs": [],
   "source": []
  },
  {
   "cell_type": "code",
   "execution_count": 37,
   "id": "f6060f21",
   "metadata": {},
   "outputs": [
    {
     "data": {
      "text/plain": [
       "<matplotlib.legend.Legend at 0x7f8e42912880>"
      ]
     },
     "execution_count": 37,
     "metadata": {},
     "output_type": "execute_result"
    },
    {
     "data": {
      "image/png": "[encoded data removed]",
      "text/plain": [
       "<Figure size 576x432 with 1 Axes>"
      ]
     },
     "metadata": {
      "needs_background": "light"
     },
     "output_type": "display_data"
    }
   ],
   "source": [
    "plt.rcParams.update({'font.size':17})\n",
    "\n",
    "max_time_budget = 8\n",
    "\n",
    "plt.figure(figsize=(8, 6))\n",
    "\n",
    "plt.plot(list_time_budget, mean_ksd_curve_sgnht_mamba, marker=\"+\", markersize=15, \n",
    "         c='r', label=\"MAMBA\")\n",
    "plt.fill_between(list_time_budget, mean_ksd_curve_sgnht_mamba+2*sd_ksd_curve_sgnht_mamba, \n",
    "                 mean_ksd_curve_sgnht_mamba-2*sd_ksd_curve_sgnht_mamba, alpha=0.1, color='r')\n",
    "\n",
    "plt.plot(list_time_budget, mean_ksd_curve_sgnht_gridsearch, marker=\"o\", markersize=15, \n",
    "         c='g', label=\"gridsearch\")\n",
    "plt.fill_between(list_time_budget, mean_ksd_curve_sgnht_gridsearch+2*sd_ksd_curve_sgnht_gridsearch, \n",
    "                 mean_ksd_curve_sgnht_gridsearch-2*sd_ksd_curve_sgnht_gridsearch, alpha=0.1, color='g')\n",
    "\n",
    "\n",
    "plt.title(\"SGNHT sampler\", size=23)\n",
    "plt.ylabel(\"KSD\", size=19)\n",
    "plt.xlabel(\"time budget (seconds)\", size=19)\n",
    "plt.legend(fontsize=16)\n",
    "# plt.savefig(\"images/sgld_ksd_curves_R1_R5_n90.png\")"
   ]
  },
  {
   "cell_type": "code",
   "execution_count": 38,
   "id": "708f6643",
   "metadata": {},
   "outputs": [
    {
     "data": {
      "text/plain": [
       "<matplotlib.legend.Legend at 0x7f8e429a9e80>"
      ]
     },
     "execution_count": 38,
     "metadata": {},
     "output_type": "execute_result"
    },
    {
     "data": {
      "image/png": "[encoded data removed]",
      "text/plain": [
       "<Figure size 576x432 with 1 Axes>"
      ]
     },
     "metadata": {
      "needs_background": "light"
     },
     "output_type": "display_data"
    }
   ],
   "source": [
    "plt.rcParams.update({'font.size':17})\n",
    "\n",
    "max_time_budget = 8\n",
    "\n",
    "plt.figure(figsize=(8, 6))\n",
    "\n",
    "plt.plot(list_time_budget, mean_ksd_curve_sgnhtCV_mamba, marker=\"+\", markersize=15, \n",
    "         c='r', label=\"MAMBA\")\n",
    "plt.fill_between(list_time_budget, mean_ksd_curve_sgnhtCV_mamba+2*sd_ksd_curve_sgnhtCV_mamba, \n",
    "                 mean_ksd_curve_sgnhtCV_mamba-2*sd_ksd_curve_sgnhtCV_mamba, alpha=0.1, color='r')\n",
    "\n",
    "plt.plot(list_time_budget, mean_ksd_curve_sgnhtCV_gridsearch, marker=\"o\", markersize=15, \n",
    "         c='g', label=\"gridsearch\")\n",
    "plt.fill_between(list_time_budget, mean_ksd_curve_sgnhtCV_gridsearch+2*sd_ksd_curve_sgnhtCV_gridsearch, \n",
    "                 mean_ksd_curve_sgnhtCV_gridsearch-2*sd_ksd_curve_sgnhtCV_gridsearch, alpha=0.1, color='g')\n",
    "\n",
    "\n",
    "plt.title(\"SGNHT-CV sampler\", size=23)\n",
    "plt.ylabel(\"KSD\", size=19)\n",
    "plt.xlabel(\"time budget (seconds)\", size=19)\n",
    "plt.legend(fontsize=16)\n",
    "# plt.savefig(\"images/sgld_ksd_curves_R1_R5_n90.png\")"
   ]
  },
  {
   "cell_type": "code",
   "execution_count": null,
   "id": "41c7a049",
   "metadata": {},
   "outputs": [],
   "source": []
  },
  {
   "cell_type": "code",
   "execution_count": null,
   "id": "a7eedad6",
   "metadata": {},
   "outputs": [],
   "source": []
  },
  {
   "cell_type": "code",
   "execution_count": null,
   "id": "6ee74f91",
   "metadata": {},
   "outputs": [],
   "source": []
  },
  {
   "cell_type": "code",
   "execution_count": null,
   "id": "d42603b1",
   "metadata": {},
   "outputs": [],
   "source": []
  },
  {
   "cell_type": "code",
   "execution_count": null,
   "id": "a44bb9be",
   "metadata": {},
   "outputs": [],
   "source": []
  }
 ],
 "metadata": {
  "kernelspec": {
   "display_name": "Python 3",
   "language": "python",
   "name": "python3"
  },
  "language_info": {
   "codemirror_mode": {
    "name": "ipython",
    "version": 3
   },
   "file_extension": ".py",
   "mimetype": "text/x-python",
   "name": "python",
   "nbconvert_exporter": "python",
   "pygments_lexer": "ipython3",
   "version": "3.8.2"
  }
 },
 "nbformat": 4,
 "nbformat_minor": 5
}
