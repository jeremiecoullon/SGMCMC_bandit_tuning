{
 "cells": [
  {
   "cell_type": "code",
   "execution_count": 1,
   "id": "906fd9ec",
   "metadata": {},
   "outputs": [
    {
     "name": "stderr",
     "output_type": "stream",
     "text": [
      "WARNING:absl:No GPU/TPU found, falling back to CPU. (Set TF_CPP_MIN_LOG_LEVEL=0 and rerun for more info.)\n"
     ]
    }
   ],
   "source": [
    "%matplotlib inline\n",
    "import matplotlib.pyplot as plt\n",
    "import numpy as np\n",
    "\n",
    "import jax.numpy as jnp\n",
    "from jax import jit, random, vmap\n",
    "\n",
    "from sgmcmcjax.kernels import build_sgld_kernel, build_sghmc_kernel, build_sgnht_kernel\n",
    "from sgmcmcjax.kernels import build_sgldCV_kernel, build_sghmcCV_kernel, build_sgnhtCV_kernel\n",
    "from sgmcmcjax.optimizer import build_adam_optimizer\n",
    "from sgmcmcjax.util import build_grad_log_post\n",
    "\n",
    "import context\n",
    "from models.logistic_regression.logistic_regression_model import gen_data, loglikelihood, logprior\n",
    "from tuning.mamba import run_MAMBA\n",
    "from tuning.ksd import FSSD_opt, imq_KSD, get_test_locations, linear_imq_KSD\n"
   ]
  },
  {
   "cell_type": "markdown",
   "id": "a01ea2b4",
   "metadata": {},
   "source": [
    "# Logistic regression - MAMBA\n",
    "\n",
    "FSSD with a long running time (R=10 rather than 3)"
   ]
  },
  {
   "cell_type": "code",
   "execution_count": 2,
   "id": "dd0b7388",
   "metadata": {},
   "outputs": [
    {
     "name": "stdout",
     "output_type": "stream",
     "text": [
      "generating data, with N=1,000,000 and dim=10\n",
      "(800000, 10) (200000, 10)\n"
     ]
    }
   ],
   "source": [
    "\n",
    "\n",
    "key = random.PRNGKey(42)\n",
    "dim = 10\n",
    "# Ndata = 100_000\n",
    "Ndata = 1_000_000\n",
    "\n",
    "theta_true, X, y_data = gen_data(key, dim, Ndata)\n",
    "\n",
    "# testing and training data\n",
    "num_train = int(Ndata*0.8)\n",
    "\n",
    "X_train = X[:num_train]\n",
    "X_test = X[num_train:]\n",
    "\n",
    "y_train = y_data[:num_train]\n",
    "y_test = y_data[num_train:]\n",
    "print(X_train.shape, X_test.shape)\n",
    "data = (X_train, y_train)\n"
   ]
  },
  {
   "cell_type": "code",
   "execution_count": 3,
   "id": "ad7130b3",
   "metadata": {},
   "outputs": [
    {
     "name": "stdout",
     "output_type": "stream",
     "text": [
      "[800000, 80000, 8000]\n"
     ]
    },
    {
     "data": {
      "application/vnd.jupyter.widget-view+json": {
       "model_id": "8d8d968b8cf94d44afe985d1084369e6",
       "version_major": 2,
       "version_minor": 0
      },
      "text/plain": [
       "HBox(children=(HTML(value=''), FloatProgress(value=0.0, max=5000.0), HTML(value='')))"
      ]
     },
     "metadata": {},
     "output_type": "display_data"
    }
   ],
   "source": [
    "# get MAP\n",
    "batch_size = int(0.01*X_train.shape[0])\n",
    "run_adam = build_adam_optimizer(1e-2, loglikelihood, logprior, data, batch_size)\n",
    "key = random.PRNGKey(0)\n",
    "centering_value, logpost_array = run_adam(key, 5000, jnp.zeros(dim))\n",
    "params_IC = centering_value\n",
    "\n",
    "fixed_bs = int(0.1*X_train.shape[0])\n",
    "\n",
    "# T = 10\n",
    "R = 5 # running time of longest sampler\n",
    "\n",
    "error_fn = lambda x,y: FSSD_opt(x, y, get_test_locations(x), 100)\n",
    "\n",
    "logdt_range = -jnp.arange(1., 8., 0.5) \n",
    "# batch_size_range = [int(10**(-elem)*X_train.shape[0]) for elem in range(0, 5)]\n",
    "batch_size_range = [int(10**(-elem)*X_train.shape[0]) for elem in range(0, 3)]\n",
    "\n",
    "print(batch_size_range)"
   ]
  },
  {
   "cell_type": "code",
   "execution_count": 4,
   "id": "e1d39a1d",
   "metadata": {},
   "outputs": [],
   "source": [
    "grad_log_post_fb = build_grad_log_post(loglikelihood, logprior, data)\n",
    "\n",
    "def grad_lp_LR_fb(theta):\n",
    "    return grad_log_post_fb(theta, X_train, y_train)\n",
    "\n",
    "batch_grad_lp_LR_fb = jit(vmap(grad_lp_LR_fb))\n",
    "\n",
    "@jit\n",
    "def get_fb_grads(samples):\n",
    "    thin = 10\n",
    "    array_samples = jnp.array(samples[::thin])\n",
    "    mygrads = batch_grad_lp_LR_fb(array_samples)\n",
    "    return array_samples, mygrads"
   ]
  },
  {
   "cell_type": "code",
   "execution_count": null,
   "id": "f2359b89",
   "metadata": {},
   "outputs": [],
   "source": []
  },
  {
   "cell_type": "markdown",
   "id": "912e1f22",
   "metadata": {},
   "source": [
    "### run MAMBA"
   ]
  },
  {
   "cell_type": "code",
   "execution_count": 5,
   "id": "7ad12578",
   "metadata": {
    "collapsed": true
   },
   "outputs": [
    {
     "name": "stdout",
     "output_type": "stream",
     "text": [
      "\n"
     ]
    },
    {
     "data": {
      "application/vnd.jupyter.widget-view+json": {
       "model_id": "12b985fe4c79456599bde43b257801ff",
       "version_major": 2,
       "version_minor": 0
      },
      "text/plain": [
       "HBox(children=(HTML(value='Iteration 1/3, 42 arms, time budget = 0.38 sec'), FloatProgress(value=0.0, max=42.0…"
      ]
     },
     "metadata": {},
     "output_type": "display_data"
    },
    {
     "name": "stdout",
     "output_type": "stream",
     "text": [
      "Hyperparams: {'batch_size': 800000, 'dt': 0.1}., sample shape=(5, 10). metric: inf\n",
      "Hyperparams: {'batch_size': 800000, 'dt': 0.031622775}., sample shape=(5, 10). metric: inf\n",
      "Hyperparams: {'batch_size': 800000, 'dt': 0.01}., sample shape=(5, 10). metric: inf\n",
      "Hyperparams: {'batch_size': 800000, 'dt': 0.0031622776}., sample shape=(5, 10). metric: inf\n",
      "Hyperparams: {'batch_size': 800000, 'dt': 0.001}., sample shape=(5, 10). metric: inf\n",
      "Hyperparams: {'batch_size': 800000, 'dt': 0.00031622776}., sample shape=(5, 10). metric: inf\n",
      "Hyperparams: {'batch_size': 800000, 'dt': 1e-04}., sample shape=(5, 10). metric: inf\n",
      "Hyperparams: {'batch_size': 800000, 'dt': 3.1622778e-05}., sample shape=(5, 10). metric: inf\n",
      "Hyperparams: {'batch_size': 800000, 'dt': 1e-05}., sample shape=(5, 10). metric: 21218\n",
      "Hyperparams: {'batch_size': 800000, 'dt': 3.1622776e-06}., sample shape=(5, 10). metric: -13107\n",
      "Hyperparams: {'batch_size': 800000, 'dt': 1e-06}., sample shape=(5, 10). metric: 125779\n",
      "Hyperparams: {'batch_size': 800000, 'dt': 3.1622776e-07}., sample shape=(5, 10). metric: 527848\n",
      "Hyperparams: {'batch_size': 800000, 'dt': 1e-07}., sample shape=(4, 10). metric: 837422\n",
      "Hyperparams: {'batch_size': 800000, 'dt': 3.1622776e-08}., sample shape=(5, 10). metric: 943966\n",
      "Hyperparams: {'batch_size': 80000, 'dt': 0.1}., sample shape=(11, 10). metric: 133\n",
      "Hyperparams: {'batch_size': 80000, 'dt': 0.031622775}., sample shape=(8, 10). metric: inf\n",
      "Hyperparams: {'batch_size': 80000, 'dt': 0.01}., sample shape=(13, 10). metric: 20682\n",
      "Hyperparams: {'batch_size': 80000, 'dt': 0.0031622776}., sample shape=(7, 10). metric: inf\n",
      "Hyperparams: {'batch_size': 80000, 'dt': 0.001}., sample shape=(13, 10). metric: 1649554\n",
      "Hyperparams: {'batch_size': 80000, 'dt': 0.00031622776}., sample shape=(13, 10). metric: 14516719\n",
      "Hyperparams: {'batch_size': 80000, 'dt': 1e-04}., sample shape=(11, 10). metric: 47826436\n",
      "Hyperparams: {'batch_size': 80000, 'dt': 3.1622778e-05}., sample shape=(13, 10). metric: 151303216\n",
      "Hyperparams: {'batch_size': 80000, 'dt': 1e-05}., sample shape=(14, 10). metric: 2695\n",
      "Hyperparams: {'batch_size': 80000, 'dt': 3.1622776e-06}., sample shape=(13, 10). metric: -384\n",
      "Hyperparams: {'batch_size': 80000, 'dt': 1e-06}., sample shape=(14, 10). metric: 5564\n",
      "Hyperparams: {'batch_size': 80000, 'dt': 3.1622776e-07}., sample shape=(13, 10). metric: 118789\n",
      "Hyperparams: {'batch_size': 80000, 'dt': 1e-07}., sample shape=(13, 10). metric: 453495\n",
      "Hyperparams: {'batch_size': 80000, 'dt': 3.1622776e-08}., sample shape=(13, 10). metric: 907378\n",
      "Hyperparams: {'batch_size': 8000, 'dt': 0.1}., sample shape=(85, 10). metric: 450\n",
      "Hyperparams: {'batch_size': 8000, 'dt': 0.031622775}., sample shape=(70, 10). metric: 1396\n",
      "Hyperparams: {'batch_size': 8000, 'dt': 0.01}., sample shape=(62, 10). metric: 16616\n",
      "Hyperparams: {'batch_size': 8000, 'dt': 0.0031622776}., sample shape=(82, 10). metric: 185875\n",
      "Hyperparams: {'batch_size': 8000, 'dt': 0.001}., sample shape=(85, 10). metric: 2163356\n",
      "Hyperparams: {'batch_size': 8000, 'dt': 0.00031622776}., sample shape=(80, 10). metric: 21814728\n",
      "Hyperparams: {'batch_size': 8000, 'dt': 1e-04}., sample shape=(84, 10). metric: 132769832\n",
      "Hyperparams: {'batch_size': 8000, 'dt': 3.1622778e-05}., sample shape=(85, 10). metric: 4117170\n",
      "Hyperparams: {'batch_size': 8000, 'dt': 1e-05}., sample shape=(85, 10). metric: -6841\n",
      "Hyperparams: {'batch_size': 8000, 'dt': 3.1622776e-06}., sample shape=(85, 10). metric: 10648\n",
      "Hyperparams: {'batch_size': 8000, 'dt': 1e-06}., sample shape=(86, 10). metric: 8078\n",
      "Hyperparams: {'batch_size': 8000, 'dt': 3.1622776e-07}., sample shape=(84, 10). metric: 21305\n",
      "Hyperparams: {'batch_size': 8000, 'dt': 1e-07}., sample shape=(84, 10). metric: 34197\n",
      "Hyperparams: {'batch_size': 8000, 'dt': 3.1622776e-08}., sample shape=(81, 10). metric: 298730\n",
      "\n",
      "Number of samples: [5, 85, 13, 11, 85, 70, 14, 14, 86, 85, 62, 13, 5, 84]\n"
     ]
    },
    {
     "data": {
      "application/vnd.jupyter.widget-view+json": {
       "model_id": "e8e0aa21b6eb45b188bd53c26064e01a",
       "version_major": 2,
       "version_minor": 0
      },
      "text/plain": [
       "HBox(children=(HTML(value='Iteration 2/3, 14 arms, time budget = 1.15 sec'), FloatProgress(value=0.0, max=14.0…"
      ]
     },
     "metadata": {},
     "output_type": "display_data"
    },
    {
     "name": "stdout",
     "output_type": "stream",
     "text": [
      "Hyperparams: {'batch_size': 800000, 'dt': 3.1622776e-06}., sample shape=(20, 10). metric: 2509\n",
      "Hyperparams: {'batch_size': 8000, 'dt': 1e-05}., sample shape=(329, 10). metric: -3597\n",
      "Hyperparams: {'batch_size': 80000, 'dt': 3.1622776e-06}., sample shape=(54, 10). metric: -196\n",
      "Hyperparams: {'batch_size': 80000, 'dt': 0.1}., sample shape=(51, 10). metric: 5991\n",
      "Hyperparams: {'batch_size': 8000, 'dt': 0.1}., sample shape=(322, 10). metric: 472\n",
      "Hyperparams: {'batch_size': 8000, 'dt': 0.031622775}., sample shape=(323, 10). metric: 3352\n",
      "Hyperparams: {'batch_size': 80000, 'dt': 1e-05}., sample shape=(54, 10). metric: -1446\n",
      "Hyperparams: {'batch_size': 80000, 'dt': 1e-06}., sample shape=(54, 10). metric: 5109\n",
      "Hyperparams: {'batch_size': 8000, 'dt': 1e-06}., sample shape=(336, 10). metric: 2071\n",
      "Hyperparams: {'batch_size': 8000, 'dt': 3.1622776e-06}., sample shape=(332, 10). metric: -416\n",
      "Hyperparams: {'batch_size': 8000, 'dt': 0.01}., sample shape=(297, 10). metric: 24503\n",
      "Hyperparams: {'batch_size': 80000, 'dt': 0.01}., sample shape=(53, 10). metric: 252745\n",
      "Hyperparams: {'batch_size': 800000, 'dt': 1e-05}., sample shape=(19, 10). metric: -2397\n",
      "Hyperparams: {'batch_size': 8000, 'dt': 3.1622776e-07}., sample shape=(317, 10). metric: 5257\n",
      "\n",
      "Number of samples: [329, 19, 54, 332]\n"
     ]
    },
    {
     "data": {
      "application/vnd.jupyter.widget-view+json": {
       "model_id": "9b4494dade46443aaf8b4976f5873880",
       "version_major": 2,
       "version_minor": 0
      },
      "text/plain": [
       "HBox(children=(HTML(value='Iteration 3/3, 4 arms, time budget = 4.04 sec'), FloatProgress(value=0.0, max=4.0),…"
      ]
     },
     "metadata": {},
     "output_type": "display_data"
    },
    {
     "name": "stdout",
     "output_type": "stream",
     "text": [
      "Hyperparams: {'batch_size': 8000, 'dt': 1e-05}., sample shape=(1175, 10). metric: -359\n",
      "Hyperparams: {'batch_size': 800000, 'dt': 1e-05}., sample shape=(70, 10). metric: 187\n",
      "Hyperparams: {'batch_size': 80000, 'dt': 1e-05}., sample shape=(180, 10). metric: 631\n",
      "Hyperparams: {'batch_size': 8000, 'dt': 3.1622776e-06}., sample shape=(1023, 10). metric: 433\n",
      "\n",
      "Number of samples: [1175]\n",
      "Running time: 215.9 sec\n",
      "{'batch_size': 8000, 'dt': 1e-05} -358.98062 (1175, 10)\n"
     ]
    }
   ],
   "source": [
    "# diag sds, another run\n",
    "build_kernel = lambda dt, batch_size: build_sgld_kernel(dt, loglikelihood, logprior, data, batch_size)\n",
    "\n",
    "grid_params = {'log_dt': logdt_range, \n",
    "               'batch_size': batch_size_range\n",
    "              }\n",
    "\n",
    "best_arm = run_MAMBA(key, build_kernel, error_fn, R, params_IC, grid_params=grid_params, get_fb_grads=get_fb_grads)\n",
    "\n",
    "print(best_arm.hyperparameters, best_arm.metric, best_arm.samples.shape)"
   ]
  },
  {
   "cell_type": "code",
   "execution_count": 7,
   "id": "bacbc413",
   "metadata": {
    "collapsed": true
   },
   "outputs": [
    {
     "data": {
      "application/vnd.jupyter.widget-view+json": {
       "model_id": "6aff4c4cb15147a0941c70a820985023",
       "version_major": 2,
       "version_minor": 0
      },
      "text/plain": [
       "HBox(children=(HTML(value='Iteration 1/3, 42 arms, time budget = 0.38 sec'), FloatProgress(value=0.0, max=42.0…"
      ]
     },
     "metadata": {},
     "output_type": "display_data"
    },
    {
     "name": "stdout",
     "output_type": "stream",
     "text": [
      "Hyperparams: {'batch_size': 800000, 'dt': 0.1}., sample shape=(2, 10). metric: inf\n",
      "Hyperparams: {'batch_size': 800000, 'dt': 0.031622775}., sample shape=(2, 10). metric: inf\n",
      "Hyperparams: {'batch_size': 800000, 'dt': 0.01}., sample shape=(2, 10). metric: inf\n",
      "Hyperparams: {'batch_size': 800000, 'dt': 0.0031622776}., sample shape=(2, 10). metric: inf\n",
      "Hyperparams: {'batch_size': 800000, 'dt': 0.001}., sample shape=(2, 10). metric: inf\n",
      "Hyperparams: {'batch_size': 800000, 'dt': 0.00031622776}., sample shape=(2, 10). metric: inf\n",
      "Hyperparams: {'batch_size': 800000, 'dt': 1e-04}., sample shape=(2, 10). metric: inf\n",
      "Hyperparams: {'batch_size': 800000, 'dt': 3.1622778e-05}., sample shape=(2, 10). metric: inf\n",
      "Hyperparams: {'batch_size': 800000, 'dt': 1e-05}., sample shape=(2, 10). metric: 46300\n",
      "Hyperparams: {'batch_size': 800000, 'dt': 3.1622776e-06}., sample shape=(2, 10). metric: -84846\n",
      "Hyperparams: {'batch_size': 800000, 'dt': 1e-06}., sample shape=(2, 10). metric: 385410\n",
      "Hyperparams: {'batch_size': 800000, 'dt': 3.1622776e-07}., sample shape=(2, 10). metric: 888190\n",
      "Hyperparams: {'batch_size': 800000, 'dt': 1e-07}., sample shape=(2, 10). metric: 985350\n",
      "Hyperparams: {'batch_size': 800000, 'dt': 3.1622776e-08}., sample shape=(2, 10). metric: 1006901\n",
      "Hyperparams: {'batch_size': 80000, 'dt': 0.1}., sample shape=(12, 10). metric: 155\n",
      "Hyperparams: {'batch_size': 80000, 'dt': 0.031622775}., sample shape=(12, 10). metric: 1253\n",
      "Hyperparams: {'batch_size': 80000, 'dt': 0.01}., sample shape=(12, 10). metric: 7188\n",
      "Hyperparams: {'batch_size': 80000, 'dt': 0.0031622776}., sample shape=(12, 10). metric: 447104\n",
      "Hyperparams: {'batch_size': 80000, 'dt': 0.001}., sample shape=(11, 10). metric: 1804776\n",
      "Hyperparams: {'batch_size': 80000, 'dt': 0.00031622776}., sample shape=(11, 10). metric: inf\n",
      "Hyperparams: {'batch_size': 80000, 'dt': 1e-04}., sample shape=(12, 10). metric: 174493728\n",
      "Hyperparams: {'batch_size': 80000, 'dt': 3.1622778e-05}., sample shape=(12, 10). metric: 152662288\n",
      "Hyperparams: {'batch_size': 80000, 'dt': 1e-05}., sample shape=(12, 10). metric: -989\n",
      "Hyperparams: {'batch_size': 80000, 'dt': 3.1622776e-06}., sample shape=(12, 10). metric: 1802\n",
      "Hyperparams: {'batch_size': 80000, 'dt': 1e-06}., sample shape=(12, 10). metric: 10898\n",
      "Hyperparams: {'batch_size': 80000, 'dt': 3.1622776e-07}., sample shape=(12, 10). metric: 131783\n",
      "Hyperparams: {'batch_size': 80000, 'dt': 1e-07}., sample shape=(12, 10). metric: 477283\n",
      "Hyperparams: {'batch_size': 80000, 'dt': 3.1622776e-08}., sample shape=(12, 10). metric: 920108\n",
      "Hyperparams: {'batch_size': 8000, 'dt': 0.1}., sample shape=(75, 10). metric: 504\n",
      "Hyperparams: {'batch_size': 8000, 'dt': 0.031622775}., sample shape=(75, 10). metric: 3358\n",
      "Hyperparams: {'batch_size': 8000, 'dt': 0.01}., sample shape=(74, 10). metric: 30586\n",
      "Hyperparams: {'batch_size': 8000, 'dt': 0.0031622776}., sample shape=(75, 10). metric: 350857\n",
      "Hyperparams: {'batch_size': 8000, 'dt': 0.001}., sample shape=(75, 10). metric: 3340525\n",
      "Hyperparams: {'batch_size': 8000, 'dt': 0.00031622776}., sample shape=(75, 10). metric: 30416726\n",
      "Hyperparams: {'batch_size': 8000, 'dt': 1e-04}., sample shape=(74, 10). metric: 215494016\n",
      "Hyperparams: {'batch_size': 8000, 'dt': 3.1622778e-05}., sample shape=(70, 10). metric: 179619920\n",
      "Hyperparams: {'batch_size': 8000, 'dt': 1e-05}., sample shape=(72, 10). metric: 323\n",
      "Hyperparams: {'batch_size': 8000, 'dt': 3.1622776e-06}., sample shape=(74, 10). metric: 594\n",
      "Hyperparams: {'batch_size': 8000, 'dt': 1e-06}., sample shape=(74, 10). metric: 4277\n",
      "Hyperparams: {'batch_size': 8000, 'dt': 3.1622776e-07}., sample shape=(74, 10). metric: 11601\n",
      "Hyperparams: {'batch_size': 8000, 'dt': 1e-07}., sample shape=(72, 10). metric: 69958\n",
      "Hyperparams: {'batch_size': 8000, 'dt': 3.1622776e-08}., sample shape=(74, 10). metric: 295731\n",
      "\n",
      "Number of samples: [2, 12, 12, 72, 75, 74, 12, 12, 75, 74, 12, 12, 74, 74]\n"
     ]
    },
    {
     "data": {
      "application/vnd.jupyter.widget-view+json": {
       "model_id": "d48d116a94fd41cda003e825f07de022",
       "version_major": 2,
       "version_minor": 0
      },
      "text/plain": [
       "HBox(children=(HTML(value='Iteration 2/3, 14 arms, time budget = 1.15 sec'), FloatProgress(value=0.0, max=14.0…"
      ]
     },
     "metadata": {},
     "output_type": "display_data"
    },
    {
     "name": "stdout",
     "output_type": "stream",
     "text": [
      "Hyperparams: {'batch_size': 800000, 'dt': 3.1622776e-06}., sample shape=(7, 10). metric: 14374\n",
      "Hyperparams: {'batch_size': 80000, 'dt': 1e-05}., sample shape=(46, 10). metric: -490\n",
      "Hyperparams: {'batch_size': 80000, 'dt': 0.1}., sample shape=(43, 10). metric: 7443\n",
      "Hyperparams: {'batch_size': 8000, 'dt': 1e-05}., sample shape=(280, 10). metric: -103\n",
      "Hyperparams: {'batch_size': 8000, 'dt': 0.1}., sample shape=(286, 10). metric: 885\n",
      "Hyperparams: {'batch_size': 8000, 'dt': 3.1622776e-06}., sample shape=(293, 10). metric: 235\n",
      "Hyperparams: {'batch_size': 80000, 'dt': 0.031622775}., sample shape=(46, 10). metric: 51450\n",
      "Hyperparams: {'batch_size': 80000, 'dt': 3.1622776e-06}., sample shape=(45, 10). metric: 2307\n",
      "Hyperparams: {'batch_size': 8000, 'dt': 0.031622775}., sample shape=(287, 10). metric: 4636\n",
      "Hyperparams: {'batch_size': 8000, 'dt': 1e-06}., sample shape=(294, 10). metric: 575\n",
      "Hyperparams: {'batch_size': 80000, 'dt': 0.01}., sample shape=(46, 10). metric: 588004\n",
      "Hyperparams: {'batch_size': 80000, 'dt': 1e-06}., sample shape=(44, 10). metric: 2477\n",
      "Hyperparams: {'batch_size': 8000, 'dt': 3.1622776e-07}., sample shape=(288, 10). metric: 4014\n",
      "Hyperparams: {'batch_size': 8000, 'dt': 0.01}., sample shape=(285, 10). metric: 48525\n",
      "\n",
      "Number of samples: [46, 280, 293, 294]\n"
     ]
    },
    {
     "data": {
      "application/vnd.jupyter.widget-view+json": {
       "model_id": "cf5d76701f14463096988c5da7d2cfb2",
       "version_major": 2,
       "version_minor": 0
      },
      "text/plain": [
       "HBox(children=(HTML(value='Iteration 3/3, 4 arms, time budget = 4.04 sec'), FloatProgress(value=0.0, max=4.0),…"
      ]
     },
     "metadata": {},
     "output_type": "display_data"
    },
    {
     "name": "stdout",
     "output_type": "stream",
     "text": [
      "Hyperparams: {'batch_size': 80000, 'dt': 1e-05}., sample shape=(158, 10). metric: -199\n",
      "Hyperparams: {'batch_size': 8000, 'dt': 1e-05}., sample shape=(1010, 10). metric: 39\n",
      "Hyperparams: {'batch_size': 8000, 'dt': 3.1622776e-06}., sample shape=(1057, 10). metric: 22\n",
      "Hyperparams: {'batch_size': 8000, 'dt': 1e-06}., sample shape=(1051, 10). metric: 89\n",
      "\n",
      "Number of samples: [158]\n",
      "Running time: 196.1 sec\n",
      "{'batch_size': 80000, 'dt': 1e-05} -199.04362 (158, 10)\n"
     ]
    }
   ],
   "source": [
    "build_kernel = lambda dt, batch_size: build_sgldCV_kernel(dt, loglikelihood, \n",
    "                                                  logprior, data, batch_size, centering_value)\n",
    "\n",
    "best_arm = run_MAMBA(key, build_kernel, error_fn, R, params_IC, \n",
    "                     grid_params=grid_params, get_fb_grads=get_fb_grads)\n",
    "\n",
    "print(best_arm.hyperparameters, best_arm.metric, best_arm.samples.shape)"
   ]
  },
  {
   "cell_type": "code",
   "execution_count": 8,
   "id": "6c0a862d",
   "metadata": {
    "collapsed": true
   },
   "outputs": [
    {
     "data": {
      "application/vnd.jupyter.widget-view+json": {
       "model_id": "d7df73f106fb4d74abef44136ba46547",
       "version_major": 2,
       "version_minor": 0
      },
      "text/plain": [
       "HBox(children=(HTML(value='Iteration 1/4, 84 arms, time budget = 0.12 sec'), FloatProgress(value=0.0, max=84.0…"
      ]
     },
     "metadata": {},
     "output_type": "display_data"
    },
    {
     "name": "stdout",
     "output_type": "stream",
     "text": [
      "Hyperparams: {'batch_size': 800000, 'L': 5, 'dt': 0.1}., sample shape=(1, 10). metric: inf\n",
      "Hyperparams: {'batch_size': 800000, 'L': 5, 'dt': 0.031622775}., sample shape=(1, 10). metric: inf\n",
      "Hyperparams: {'batch_size': 800000, 'L': 5, 'dt': 0.01}., sample shape=(1, 10). metric: inf\n",
      "Hyperparams: {'batch_size': 800000, 'L': 5, 'dt': 0.0031622776}., sample shape=(1, 10). metric: inf\n",
      "Hyperparams: {'batch_size': 800000, 'L': 5, 'dt': 0.001}., sample shape=(1, 10). metric: inf\n",
      "Hyperparams: {'batch_size': 800000, 'L': 5, 'dt': 0.00031622776}., sample shape=(1, 10). metric: inf\n",
      "Hyperparams: {'batch_size': 800000, 'L': 5, 'dt': 1e-04}., sample shape=(1, 10). metric: inf\n",
      "Hyperparams: {'batch_size': 800000, 'L': 5, 'dt': 3.1622778e-05}., sample shape=(1, 10). metric: inf\n",
      "Hyperparams: {'batch_size': 800000, 'L': 5, 'dt': 1e-05}., sample shape=(1, 10). metric: inf\n",
      "Hyperparams: {'batch_size': 800000, 'L': 5, 'dt': 3.1622776e-06}., sample shape=(1, 10). metric: inf\n",
      "Hyperparams: {'batch_size': 800000, 'L': 5, 'dt': 1e-06}., sample shape=(1, 10). metric: inf\n",
      "Hyperparams: {'batch_size': 800000, 'L': 5, 'dt': 3.1622776e-07}., sample shape=(1, 10). metric: inf\n",
      "Hyperparams: {'batch_size': 800000, 'L': 5, 'dt': 1e-07}., sample shape=(1, 10). metric: inf\n",
      "Hyperparams: {'batch_size': 800000, 'L': 5, 'dt': 3.1622776e-08}., sample shape=(1, 10). metric: inf\n",
      "Hyperparams: {'batch_size': 800000, 'L': 10, 'dt': 0.1}., sample shape=(1, 10). metric: inf\n",
      "Hyperparams: {'batch_size': 800000, 'L': 10, 'dt': 0.031622775}., sample shape=(1, 10). metric: inf\n",
      "Hyperparams: {'batch_size': 800000, 'L': 10, 'dt': 0.01}., sample shape=(1, 10). metric: inf\n",
      "Hyperparams: {'batch_size': 800000, 'L': 10, 'dt': 0.0031622776}., sample shape=(1, 10). metric: inf\n",
      "Hyperparams: {'batch_size': 800000, 'L': 10, 'dt': 0.001}., sample shape=(1, 10). metric: inf\n",
      "Hyperparams: {'batch_size': 800000, 'L': 10, 'dt': 0.00031622776}., sample shape=(1, 10). metric: inf\n",
      "Hyperparams: {'batch_size': 800000, 'L': 10, 'dt': 1e-04}., sample shape=(1, 10). metric: inf\n",
      "Hyperparams: {'batch_size': 800000, 'L': 10, 'dt': 3.1622778e-05}., sample shape=(1, 10). metric: inf\n",
      "Hyperparams: {'batch_size': 800000, 'L': 10, 'dt': 1e-05}., sample shape=(1, 10). metric: inf\n",
      "Hyperparams: {'batch_size': 800000, 'L': 10, 'dt': 3.1622776e-06}., sample shape=(1, 10). metric: inf\n",
      "Hyperparams: {'batch_size': 800000, 'L': 10, 'dt': 1e-06}., sample shape=(1, 10). metric: inf\n",
      "Hyperparams: {'batch_size': 800000, 'L': 10, 'dt': 3.1622776e-07}., sample shape=(1, 10). metric: inf\n",
      "Hyperparams: {'batch_size': 800000, 'L': 10, 'dt': 1e-07}., sample shape=(1, 10). metric: inf\n",
      "Hyperparams: {'batch_size': 800000, 'L': 10, 'dt': 3.1622776e-08}., sample shape=(1, 10). metric: inf\n",
      "Hyperparams: {'batch_size': 80000, 'L': 5, 'dt': 0.1}., sample shape=(2, 10). metric: inf\n",
      "Hyperparams: {'batch_size': 80000, 'L': 5, 'dt': 0.031622775}., sample shape=(2, 10). metric: inf\n",
      "Hyperparams: {'batch_size': 80000, 'L': 5, 'dt': 0.01}., sample shape=(2, 10). metric: inf\n",
      "Hyperparams: {'batch_size': 80000, 'L': 5, 'dt': 0.0031622776}., sample shape=(2, 10). metric: inf\n",
      "Hyperparams: {'batch_size': 80000, 'L': 5, 'dt': 0.001}., sample shape=(2, 10). metric: inf\n",
      "Hyperparams: {'batch_size': 80000, 'L': 5, 'dt': 0.00031622776}., sample shape=(2, 10). metric: inf\n",
      "Hyperparams: {'batch_size': 80000, 'L': 5, 'dt': 1e-04}., sample shape=(2, 10). metric: inf\n",
      "Hyperparams: {'batch_size': 80000, 'L': 5, 'dt': 3.1622778e-05}., sample shape=(2, 10). metric: inf\n",
      "Hyperparams: {'batch_size': 80000, 'L': 5, 'dt': 1e-05}., sample shape=(2, 10). metric: inf\n",
      "Hyperparams: {'batch_size': 80000, 'L': 5, 'dt': 3.1622776e-06}., sample shape=(2, 10). metric: 5597724\n",
      "Hyperparams: {'batch_size': 80000, 'L': 5, 'dt': 1e-06}., sample shape=(2, 10). metric: -57972\n",
      "Hyperparams: {'batch_size': 80000, 'L': 5, 'dt': 3.1622776e-07}., sample shape=(2, 10). metric: 193605\n",
      "Hyperparams: {'batch_size': 80000, 'L': 5, 'dt': 1e-07}., sample shape=(2, 10). metric: 378080\n",
      "Hyperparams: {'batch_size': 80000, 'L': 5, 'dt': 3.1622776e-08}., sample shape=(2, 10). metric: 827756\n",
      "Hyperparams: {'batch_size': 80000, 'L': 10, 'dt': 0.1}., sample shape=(1, 10). metric: inf\n",
      "Hyperparams: {'batch_size': 80000, 'L': 10, 'dt': 0.031622775}., sample shape=(1, 10). metric: inf\n",
      "Hyperparams: {'batch_size': 80000, 'L': 10, 'dt': 0.01}., sample shape=(1, 10). metric: inf\n",
      "Hyperparams: {'batch_size': 80000, 'L': 10, 'dt': 0.0031622776}., sample shape=(1, 10). metric: inf\n",
      "Hyperparams: {'batch_size': 80000, 'L': 10, 'dt': 0.001}., sample shape=(1, 10). metric: inf\n",
      "Hyperparams: {'batch_size': 80000, 'L': 10, 'dt': 0.00031622776}., sample shape=(1, 10). metric: inf\n",
      "Hyperparams: {'batch_size': 80000, 'L': 10, 'dt': 1e-04}., sample shape=(1, 10). metric: inf\n",
      "Hyperparams: {'batch_size': 80000, 'L': 10, 'dt': 3.1622778e-05}., sample shape=(1, 10). metric: inf\n",
      "Hyperparams: {'batch_size': 80000, 'L': 10, 'dt': 1e-05}., sample shape=(1, 10). metric: inf\n",
      "Hyperparams: {'batch_size': 80000, 'L': 10, 'dt': 3.1622776e-06}., sample shape=(1, 10). metric: inf\n",
      "Hyperparams: {'batch_size': 80000, 'L': 10, 'dt': 1e-06}., sample shape=(1, 10). metric: inf\n",
      "Hyperparams: {'batch_size': 80000, 'L': 10, 'dt': 3.1622776e-07}., sample shape=(1, 10). metric: inf\n",
      "Hyperparams: {'batch_size': 80000, 'L': 10, 'dt': 1e-07}., sample shape=(1, 10). metric: inf\n",
      "Hyperparams: {'batch_size': 80000, 'L': 10, 'dt': 3.1622776e-08}., sample shape=(1, 10). metric: inf\n",
      "Hyperparams: {'batch_size': 8000, 'L': 5, 'dt': 0.1}., sample shape=(8, 10). metric: inf\n",
      "Hyperparams: {'batch_size': 8000, 'L': 5, 'dt': 0.031622775}., sample shape=(7, 10). metric: inf\n",
      "Hyperparams: {'batch_size': 8000, 'L': 5, 'dt': 0.01}., sample shape=(8, 10). metric: inf\n",
      "Hyperparams: {'batch_size': 8000, 'L': 5, 'dt': 0.0031622776}., sample shape=(8, 10). metric: inf\n",
      "Hyperparams: {'batch_size': 8000, 'L': 5, 'dt': 0.001}., sample shape=(7, 10). metric: inf\n",
      "Hyperparams: {'batch_size': 8000, 'L': 5, 'dt': 0.00031622776}., sample shape=(7, 10). metric: inf\n",
      "Hyperparams: {'batch_size': 8000, 'L': 5, 'dt': 1e-04}., sample shape=(7, 10). metric: inf\n",
      "Hyperparams: {'batch_size': 8000, 'L': 5, 'dt': 3.1622778e-05}., sample shape=(8, 10). metric: inf\n",
      "Hyperparams: {'batch_size': 8000, 'L': 5, 'dt': 1e-05}., sample shape=(7, 10). metric: inf\n",
      "Hyperparams: {'batch_size': 8000, 'L': 5, 'dt': 3.1622776e-06}., sample shape=(7, 10). metric: inf\n",
      "Hyperparams: {'batch_size': 8000, 'L': 5, 'dt': 1e-06}., sample shape=(7, 10). metric: 120547\n",
      "Hyperparams: {'batch_size': 8000, 'L': 5, 'dt': 3.1622776e-07}., sample shape=(8, 10). metric: 9944\n",
      "Hyperparams: {'batch_size': 8000, 'L': 5, 'dt': 1e-07}., sample shape=(8, 10). metric: 124840\n",
      "Hyperparams: {'batch_size': 8000, 'L': 5, 'dt': 3.1622776e-08}., sample shape=(7, 10). metric: 359513\n",
      "Hyperparams: {'batch_size': 8000, 'L': 10, 'dt': 0.1}., sample shape=(4, 10). metric: inf\n",
      "Hyperparams: {'batch_size': 8000, 'L': 10, 'dt': 0.031622775}., sample shape=(4, 10). metric: inf\n",
      "Hyperparams: {'batch_size': 8000, 'L': 10, 'dt': 0.01}., sample shape=(4, 10). metric: inf\n",
      "Hyperparams: {'batch_size': 8000, 'L': 10, 'dt': 0.0031622776}., sample shape=(4, 10). metric: inf\n",
      "Hyperparams: {'batch_size': 8000, 'L': 10, 'dt': 0.001}., sample shape=(4, 10). metric: inf\n",
      "Hyperparams: {'batch_size': 8000, 'L': 10, 'dt': 0.00031622776}., sample shape=(4, 10). metric: inf\n",
      "Hyperparams: {'batch_size': 8000, 'L': 10, 'dt': 1e-04}., sample shape=(4, 10). metric: inf\n",
      "Hyperparams: {'batch_size': 8000, 'L': 10, 'dt': 3.1622778e-05}., sample shape=(4, 10). metric: inf\n",
      "Hyperparams: {'batch_size': 8000, 'L': 10, 'dt': 1e-05}., sample shape=(3, 10). metric: inf\n",
      "Hyperparams: {'batch_size': 8000, 'L': 10, 'dt': 3.1622776e-06}., sample shape=(4, 10). metric: inf\n",
      "Hyperparams: {'batch_size': 8000, 'L': 10, 'dt': 1e-06}., sample shape=(4, 10). metric: inf\n",
      "Hyperparams: {'batch_size': 8000, 'L': 10, 'dt': 3.1622776e-07}., sample shape=(4, 10). metric: -41735\n",
      "Hyperparams: {'batch_size': 8000, 'L': 10, 'dt': 1e-07}., sample shape=(4, 10). metric: -36849\n",
      "Hyperparams: {'batch_size': 8000, 'L': 10, 'dt': 3.1622776e-08}., sample shape=(4, 10). metric: 187191\n",
      "\n",
      "Number of samples: [2, 4, 4, 8, 7, 8, 4, 2, 7, 2, 2, 2, 1, 1, 1, 1, 1, 1, 1, 1, 1, 1, 1, 1, 1, 1, 1, 1]\n"
     ]
    },
    {
     "data": {
      "application/vnd.jupyter.widget-view+json": {
       "model_id": "b8724d148ab94aa6a5e5f85517201be6",
       "version_major": 2,
       "version_minor": 0
      },
      "text/plain": [
       "HBox(children=(HTML(value='Iteration 2/4, 28 arms, time budget = 0.38 sec'), FloatProgress(value=0.0, max=28.0…"
      ]
     },
     "metadata": {},
     "output_type": "display_data"
    },
    {
     "name": "stdout",
     "output_type": "stream",
     "text": [
      "Hyperparams: {'batch_size': 80000, 'L': 5, 'dt': 1e-06}., sample shape=(6, 10). metric: -105\n",
      "Hyperparams: {'batch_size': 8000, 'L': 10, 'dt': 3.1622776e-07}., sample shape=(16, 10). metric: -10921\n",
      "Hyperparams: {'batch_size': 8000, 'L': 10, 'dt': 1e-07}., sample shape=(15, 10). metric: 8377\n",
      "Hyperparams: {'batch_size': 8000, 'L': 5, 'dt': 3.1622776e-07}., sample shape=(29, 10). metric: 192\n",
      "Hyperparams: {'batch_size': 8000, 'L': 5, 'dt': 1e-06}., sample shape=(28, 10). metric: -12404\n",
      "Hyperparams: {'batch_size': 8000, 'L': 5, 'dt': 1e-07}., sample shape=(29, 10). metric: 8272\n",
      "Hyperparams: {'batch_size': 8000, 'L': 10, 'dt': 3.1622776e-08}., sample shape=(15, 10). metric: 9397\n",
      "Hyperparams: {'batch_size': 80000, 'L': 5, 'dt': 3.1622776e-07}., sample shape=(6, 10). metric: 31977\n",
      "Hyperparams: {'batch_size': 8000, 'L': 5, 'dt': 3.1622776e-08}., sample shape=(28, 10). metric: 26094\n",
      "Hyperparams: {'batch_size': 80000, 'L': 5, 'dt': 1e-07}., sample shape=(6, 10). metric: 98930\n",
      "Hyperparams: {'batch_size': 80000, 'L': 5, 'dt': 3.1622776e-08}., sample shape=(5, 10). metric: 462115\n",
      "Hyperparams: {'batch_size': 80000, 'L': 5, 'dt': 3.1622776e-06}., sample shape=(6, 10). metric: inf\n",
      "Hyperparams: {'batch_size': 800000, 'L': 5, 'dt': 0.1}., sample shape=(3, 10). metric: inf\n",
      "Hyperparams: {'batch_size': 800000, 'L': 5, 'dt': 0.031622775}., sample shape=(3, 10). metric: inf\n",
      "Hyperparams: {'batch_size': 800000, 'L': 5, 'dt': 0.01}., sample shape=(3, 10). metric: inf\n",
      "Hyperparams: {'batch_size': 800000, 'L': 5, 'dt': 0.0031622776}., sample shape=(3, 10). metric: inf\n",
      "Hyperparams: {'batch_size': 800000, 'L': 5, 'dt': 0.001}., sample shape=(3, 10). metric: inf\n",
      "Hyperparams: {'batch_size': 800000, 'L': 5, 'dt': 0.00031622776}., sample shape=(3, 10). metric: inf\n",
      "Hyperparams: {'batch_size': 800000, 'L': 5, 'dt': 1e-04}., sample shape=(3, 10). metric: inf\n",
      "Hyperparams: {'batch_size': 800000, 'L': 5, 'dt': 3.1622778e-05}., sample shape=(3, 10). metric: inf\n",
      "Hyperparams: {'batch_size': 800000, 'L': 5, 'dt': 1e-05}., sample shape=(3, 10). metric: inf\n",
      "Hyperparams: {'batch_size': 800000, 'L': 5, 'dt': 3.1622776e-06}., sample shape=(3, 10). metric: 1470797\n",
      "Hyperparams: {'batch_size': 800000, 'L': 5, 'dt': 1e-06}., sample shape=(3, 10). metric: -2975\n",
      "Hyperparams: {'batch_size': 800000, 'L': 5, 'dt': 3.1622776e-07}., sample shape=(3, 10). metric: -11271\n",
      "Hyperparams: {'batch_size': 800000, 'L': 5, 'dt': 1e-07}., sample shape=(3, 10). metric: 241039\n",
      "Hyperparams: {'batch_size': 800000, 'L': 5, 'dt': 3.1622776e-08}., sample shape=(3, 10). metric: 604041\n",
      "Hyperparams: {'batch_size': 800000, 'L': 10, 'dt': 0.1}., sample shape=(2, 10). metric: inf\n",
      "Hyperparams: {'batch_size': 800000, 'L': 10, 'dt': 0.031622775}., sample shape=(2, 10). metric: inf\n",
      "\n",
      "Number of samples: [28, 3, 16, 3, 6, 29, 29, 15, 15]\n"
     ]
    },
    {
     "data": {
      "application/vnd.jupyter.widget-view+json": {
       "model_id": "47f70dc94d084ed98a171eb020442828",
       "version_major": 2,
       "version_minor": 0
      },
      "text/plain": [
       "HBox(children=(HTML(value='Iteration 3/4, 9 arms, time budget = 1.17 sec'), FloatProgress(value=0.0, max=9.0),…"
      ]
     },
     "metadata": {},
     "output_type": "display_data"
    },
    {
     "name": "stdout",
     "output_type": "stream",
     "text": [
      "Hyperparams: {'batch_size': 8000, 'L': 5, 'dt': 1e-06}., sample shape=(90, 10). metric: -2780\n",
      "Hyperparams: {'batch_size': 800000, 'L': 5, 'dt': 3.1622776e-07}., sample shape=(7, 10). metric: 13383\n",
      "Hyperparams: {'batch_size': 8000, 'L': 10, 'dt': 3.1622776e-07}., sample shape=(48, 10). metric: 26623\n",
      "Hyperparams: {'batch_size': 800000, 'L': 5, 'dt': 1e-06}., sample shape=(7, 10). metric: -59\n",
      "Hyperparams: {'batch_size': 80000, 'L': 5, 'dt': 1e-06}., sample shape=(17, 10). metric: 6101\n",
      "Hyperparams: {'batch_size': 8000, 'L': 5, 'dt': 3.1622776e-07}., sample shape=(91, 10). metric: 534\n",
      "Hyperparams: {'batch_size': 8000, 'L': 5, 'dt': 1e-07}., sample shape=(95, 10). metric: 1753\n",
      "Hyperparams: {'batch_size': 8000, 'L': 10, 'dt': 1e-07}., sample shape=(47, 10). metric: 720\n",
      "Hyperparams: {'batch_size': 8000, 'L': 10, 'dt': 3.1622776e-08}., sample shape=(46, 10). metric: 7133\n",
      "\n",
      "Number of samples: [90, 7, 91]\n"
     ]
    },
    {
     "data": {
      "application/vnd.jupyter.widget-view+json": {
       "model_id": "7cfb3c8246a64c0c81cbe3ea57cc52ac",
       "version_major": 2,
       "version_minor": 0
      },
      "text/plain": [
       "HBox(children=(HTML(value='Iteration 4/4, 3 arms, time budget = 3.50 sec'), FloatProgress(value=0.0, max=3.0),…"
      ]
     },
     "metadata": {},
     "output_type": "display_data"
    },
    {
     "name": "stdout",
     "output_type": "stream",
     "text": [
      "Hyperparams: {'batch_size': 8000, 'L': 5, 'dt': 1e-06}., sample shape=(275, 10). metric: 673\n",
      "Hyperparams: {'batch_size': 800000, 'L': 5, 'dt': 1e-06}., sample shape=(18, 10). metric: 3364\n",
      "Hyperparams: {'batch_size': 8000, 'L': 5, 'dt': 3.1622776e-07}., sample shape=(290, 10). metric: -364\n",
      "\n",
      "Number of samples: [290]\n",
      "Running time: 214.0 sec\n",
      "{'batch_size': 8000, 'L': 5, 'dt': 3.1622776e-07} -363.97076 (290, 10)\n"
     ]
    }
   ],
   "source": [
    "build_kernel = lambda dt, L, batch_size: build_sghmc_kernel(dt, L, loglikelihood, \n",
    "                                                  logprior, data, batch_size)\n",
    "grid_params = {'log_dt': logdt_range, \n",
    "               'batch_size': batch_size_range,\n",
    "               \"L\": [5, 10]\n",
    "              }\n",
    "\n",
    "best_arm = run_MAMBA(key, build_kernel, error_fn, R, params_IC, \n",
    "                     grid_params=grid_params, get_fb_grads=get_fb_grads)\n",
    "\n",
    "print(best_arm.hyperparameters, best_arm.metric, best_arm.samples.shape)"
   ]
  },
  {
   "cell_type": "code",
   "execution_count": 9,
   "id": "a39f7bf0",
   "metadata": {
    "collapsed": true
   },
   "outputs": [
    {
     "data": {
      "application/vnd.jupyter.widget-view+json": {
       "model_id": "176d563257334a7d976cbaf0f436616b",
       "version_major": 2,
       "version_minor": 0
      },
      "text/plain": [
       "HBox(children=(HTML(value='Iteration 1/4, 84 arms, time budget = 0.12 sec'), FloatProgress(value=0.0, max=84.0…"
      ]
     },
     "metadata": {},
     "output_type": "display_data"
    },
    {
     "name": "stdout",
     "output_type": "stream",
     "text": [
      "Hyperparams: {'batch_size': 800000, 'L': 5, 'dt': 0.1}., sample shape=(1, 10). metric: inf\n",
      "Hyperparams: {'batch_size': 800000, 'L': 5, 'dt': 0.031622775}., sample shape=(1, 10). metric: inf\n",
      "Hyperparams: {'batch_size': 800000, 'L': 5, 'dt': 0.01}., sample shape=(1, 10). metric: inf\n",
      "Hyperparams: {'batch_size': 800000, 'L': 5, 'dt': 0.0031622776}., sample shape=(1, 10). metric: inf\n",
      "Hyperparams: {'batch_size': 800000, 'L': 5, 'dt': 0.001}., sample shape=(1, 10). metric: inf\n",
      "Hyperparams: {'batch_size': 800000, 'L': 5, 'dt': 0.00031622776}., sample shape=(1, 10). metric: inf\n",
      "Hyperparams: {'batch_size': 800000, 'L': 5, 'dt': 1e-04}., sample shape=(1, 10). metric: inf\n",
      "Hyperparams: {'batch_size': 800000, 'L': 5, 'dt': 3.1622778e-05}., sample shape=(1, 10). metric: inf\n",
      "Hyperparams: {'batch_size': 800000, 'L': 5, 'dt': 1e-05}., sample shape=(1, 10). metric: inf\n",
      "Hyperparams: {'batch_size': 800000, 'L': 5, 'dt': 3.1622776e-06}., sample shape=(1, 10). metric: inf\n",
      "Hyperparams: {'batch_size': 800000, 'L': 5, 'dt': 1e-06}., sample shape=(1, 10). metric: inf\n",
      "Hyperparams: {'batch_size': 800000, 'L': 5, 'dt': 3.1622776e-07}., sample shape=(1, 10). metric: inf\n",
      "Hyperparams: {'batch_size': 800000, 'L': 5, 'dt': 1e-07}., sample shape=(1, 10). metric: inf\n",
      "Hyperparams: {'batch_size': 800000, 'L': 5, 'dt': 3.1622776e-08}., sample shape=(1, 10). metric: inf\n",
      "Hyperparams: {'batch_size': 800000, 'L': 10, 'dt': 0.1}., sample shape=(1, 10). metric: inf\n",
      "Hyperparams: {'batch_size': 800000, 'L': 10, 'dt': 0.031622775}., sample shape=(1, 10). metric: inf\n",
      "Hyperparams: {'batch_size': 800000, 'L': 10, 'dt': 0.01}., sample shape=(1, 10). metric: inf\n",
      "Hyperparams: {'batch_size': 800000, 'L': 10, 'dt': 0.0031622776}., sample shape=(1, 10). metric: inf\n",
      "Hyperparams: {'batch_size': 800000, 'L': 10, 'dt': 0.001}., sample shape=(1, 10). metric: inf\n",
      "Hyperparams: {'batch_size': 800000, 'L': 10, 'dt': 0.00031622776}., sample shape=(1, 10). metric: inf\n",
      "Hyperparams: {'batch_size': 800000, 'L': 10, 'dt': 1e-04}., sample shape=(1, 10). metric: inf\n",
      "Hyperparams: {'batch_size': 800000, 'L': 10, 'dt': 3.1622778e-05}., sample shape=(1, 10). metric: inf\n",
      "Hyperparams: {'batch_size': 800000, 'L': 10, 'dt': 1e-05}., sample shape=(1, 10). metric: inf\n",
      "Hyperparams: {'batch_size': 800000, 'L': 10, 'dt': 3.1622776e-06}., sample shape=(1, 10). metric: inf\n",
      "Hyperparams: {'batch_size': 800000, 'L': 10, 'dt': 1e-06}., sample shape=(1, 10). metric: inf\n",
      "Hyperparams: {'batch_size': 800000, 'L': 10, 'dt': 3.1622776e-07}., sample shape=(1, 10). metric: inf\n",
      "Hyperparams: {'batch_size': 800000, 'L': 10, 'dt': 1e-07}., sample shape=(1, 10). metric: inf\n",
      "Hyperparams: {'batch_size': 800000, 'L': 10, 'dt': 3.1622776e-08}., sample shape=(1, 10). metric: inf\n",
      "Hyperparams: {'batch_size': 80000, 'L': 5, 'dt': 0.1}., sample shape=(1, 10). metric: inf\n",
      "Hyperparams: {'batch_size': 80000, 'L': 5, 'dt': 0.031622775}., sample shape=(1, 10). metric: inf\n",
      "Hyperparams: {'batch_size': 80000, 'L': 5, 'dt': 0.01}., sample shape=(1, 10). metric: inf\n",
      "Hyperparams: {'batch_size': 80000, 'L': 5, 'dt': 0.0031622776}., sample shape=(1, 10). metric: inf\n",
      "Hyperparams: {'batch_size': 80000, 'L': 5, 'dt': 0.001}., sample shape=(1, 10). metric: inf\n",
      "Hyperparams: {'batch_size': 80000, 'L': 5, 'dt': 0.00031622776}., sample shape=(1, 10). metric: inf\n",
      "Hyperparams: {'batch_size': 80000, 'L': 5, 'dt': 1e-04}., sample shape=(1, 10). metric: inf\n",
      "Hyperparams: {'batch_size': 80000, 'L': 5, 'dt': 3.1622778e-05}., sample shape=(1, 10). metric: inf\n",
      "Hyperparams: {'batch_size': 80000, 'L': 5, 'dt': 1e-05}., sample shape=(1, 10). metric: inf\n",
      "Hyperparams: {'batch_size': 80000, 'L': 5, 'dt': 3.1622776e-06}., sample shape=(1, 10). metric: inf\n",
      "Hyperparams: {'batch_size': 80000, 'L': 5, 'dt': 1e-06}., sample shape=(1, 10). metric: inf\n",
      "Hyperparams: {'batch_size': 80000, 'L': 5, 'dt': 3.1622776e-07}., sample shape=(1, 10). metric: inf\n",
      "Hyperparams: {'batch_size': 80000, 'L': 5, 'dt': 1e-07}., sample shape=(1, 10). metric: inf\n",
      "Hyperparams: {'batch_size': 80000, 'L': 5, 'dt': 3.1622776e-08}., sample shape=(1, 10). metric: inf\n",
      "Hyperparams: {'batch_size': 80000, 'L': 10, 'dt': 0.1}., sample shape=(1, 10). metric: inf\n",
      "Hyperparams: {'batch_size': 80000, 'L': 10, 'dt': 0.031622775}., sample shape=(1, 10). metric: inf\n",
      "Hyperparams: {'batch_size': 80000, 'L': 10, 'dt': 0.01}., sample shape=(1, 10). metric: inf\n",
      "Hyperparams: {'batch_size': 80000, 'L': 10, 'dt': 0.0031622776}., sample shape=(1, 10). metric: inf\n",
      "Hyperparams: {'batch_size': 80000, 'L': 10, 'dt': 0.001}., sample shape=(1, 10). metric: inf\n",
      "Hyperparams: {'batch_size': 80000, 'L': 10, 'dt': 0.00031622776}., sample shape=(1, 10). metric: inf\n",
      "Hyperparams: {'batch_size': 80000, 'L': 10, 'dt': 1e-04}., sample shape=(1, 10). metric: inf\n",
      "Hyperparams: {'batch_size': 80000, 'L': 10, 'dt': 3.1622778e-05}., sample shape=(1, 10). metric: inf\n",
      "Hyperparams: {'batch_size': 80000, 'L': 10, 'dt': 1e-05}., sample shape=(1, 10). metric: inf\n",
      "Hyperparams: {'batch_size': 80000, 'L': 10, 'dt': 3.1622776e-06}., sample shape=(1, 10). metric: inf\n",
      "Hyperparams: {'batch_size': 80000, 'L': 10, 'dt': 1e-06}., sample shape=(1, 10). metric: inf\n",
      "Hyperparams: {'batch_size': 80000, 'L': 10, 'dt': 3.1622776e-07}., sample shape=(1, 10). metric: inf\n",
      "Hyperparams: {'batch_size': 80000, 'L': 10, 'dt': 1e-07}., sample shape=(1, 10). metric: inf\n",
      "Hyperparams: {'batch_size': 80000, 'L': 10, 'dt': 3.1622776e-08}., sample shape=(1, 10). metric: inf\n",
      "Hyperparams: {'batch_size': 8000, 'L': 5, 'dt': 0.1}., sample shape=(6, 10). metric: inf\n",
      "Hyperparams: {'batch_size': 8000, 'L': 5, 'dt': 0.031622775}., sample shape=(7, 10). metric: inf\n",
      "Hyperparams: {'batch_size': 8000, 'L': 5, 'dt': 0.01}., sample shape=(6, 10). metric: inf\n",
      "Hyperparams: {'batch_size': 8000, 'L': 5, 'dt': 0.0031622776}., sample shape=(6, 10). metric: inf\n",
      "Hyperparams: {'batch_size': 8000, 'L': 5, 'dt': 0.001}., sample shape=(6, 10). metric: inf\n",
      "Hyperparams: {'batch_size': 8000, 'L': 5, 'dt': 0.00031622776}., sample shape=(6, 10). metric: inf\n",
      "Hyperparams: {'batch_size': 8000, 'L': 5, 'dt': 1e-04}., sample shape=(6, 10). metric: inf\n",
      "Hyperparams: {'batch_size': 8000, 'L': 5, 'dt': 3.1622778e-05}., sample shape=(7, 10). metric: inf\n",
      "Hyperparams: {'batch_size': 8000, 'L': 5, 'dt': 1e-05}., sample shape=(6, 10). metric: inf\n",
      "Hyperparams: {'batch_size': 8000, 'L': 5, 'dt': 3.1622776e-06}., sample shape=(6, 10). metric: inf\n",
      "Hyperparams: {'batch_size': 8000, 'L': 5, 'dt': 1e-06}., sample shape=(6, 10). metric: -68\n",
      "Hyperparams: {'batch_size': 8000, 'L': 5, 'dt': 3.1622776e-07}., sample shape=(7, 10). metric: 3257\n",
      "Hyperparams: {'batch_size': 8000, 'L': 5, 'dt': 1e-07}., sample shape=(6, 10). metric: 50269\n",
      "Hyperparams: {'batch_size': 8000, 'L': 5, 'dt': 3.1622776e-08}., sample shape=(6, 10). metric: 373201\n",
      "Hyperparams: {'batch_size': 8000, 'L': 10, 'dt': 0.1}., sample shape=(4, 10). metric: inf\n",
      "Hyperparams: {'batch_size': 8000, 'L': 10, 'dt': 0.031622775}., sample shape=(4, 10). metric: inf\n",
      "Hyperparams: {'batch_size': 8000, 'L': 10, 'dt': 0.01}., sample shape=(4, 10). metric: inf\n",
      "Hyperparams: {'batch_size': 8000, 'L': 10, 'dt': 0.0031622776}., sample shape=(4, 10). metric: inf\n",
      "Hyperparams: {'batch_size': 8000, 'L': 10, 'dt': 0.001}., sample shape=(4, 10). metric: inf\n",
      "Hyperparams: {'batch_size': 8000, 'L': 10, 'dt': 0.00031622776}., sample shape=(4, 10). metric: inf\n",
      "Hyperparams: {'batch_size': 8000, 'L': 10, 'dt': 1e-04}., sample shape=(4, 10). metric: inf\n",
      "Hyperparams: {'batch_size': 8000, 'L': 10, 'dt': 3.1622778e-05}., sample shape=(4, 10). metric: inf\n",
      "Hyperparams: {'batch_size': 8000, 'L': 10, 'dt': 1e-05}., sample shape=(3, 10). metric: inf\n",
      "Hyperparams: {'batch_size': 8000, 'L': 10, 'dt': 3.1622776e-06}., sample shape=(4, 10). metric: inf\n",
      "Hyperparams: {'batch_size': 8000, 'L': 10, 'dt': 1e-06}., sample shape=(4, 10). metric: inf\n",
      "Hyperparams: {'batch_size': 8000, 'L': 10, 'dt': 3.1622776e-07}., sample shape=(4, 10). metric: 1665\n",
      "Hyperparams: {'batch_size': 8000, 'L': 10, 'dt': 1e-07}., sample shape=(4, 10). metric: -17183\n",
      "Hyperparams: {'batch_size': 8000, 'L': 10, 'dt': 3.1622776e-08}., sample shape=(4, 10). metric: 166320\n",
      "\n",
      "Number of samples: [4, 6, 4, 7, 6, 4, 6, 1, 1, 1, 1, 1, 1, 1, 1, 1, 1, 1, 1, 1, 1, 1, 1, 1, 1, 1, 1, 1]\n"
     ]
    },
    {
     "data": {
      "application/vnd.jupyter.widget-view+json": {
       "model_id": "f42a9ed0a54f42eba877946562d49e4b",
       "version_major": 2,
       "version_minor": 0
      },
      "text/plain": [
       "HBox(children=(HTML(value='Iteration 2/4, 28 arms, time budget = 0.38 sec'), FloatProgress(value=0.0, max=28.0…"
      ]
     },
     "metadata": {},
     "output_type": "display_data"
    },
    {
     "name": "stdout",
     "output_type": "stream",
     "text": [
      "Hyperparams: {'batch_size': 8000, 'L': 10, 'dt': 1e-07}., sample shape=(13, 10). metric: 8174\n",
      "Hyperparams: {'batch_size': 8000, 'L': 5, 'dt': 1e-06}., sample shape=(24, 10). metric: -143\n",
      "Hyperparams: {'batch_size': 8000, 'L': 10, 'dt': 3.1622776e-07}., sample shape=(14, 10). metric: -865\n",
      "Hyperparams: {'batch_size': 8000, 'L': 5, 'dt': 3.1622776e-07}., sample shape=(25, 10). metric: 1943\n",
      "Hyperparams: {'batch_size': 8000, 'L': 5, 'dt': 1e-07}., sample shape=(23, 10). metric: 5802\n",
      "Hyperparams: {'batch_size': 8000, 'L': 10, 'dt': 3.1622776e-08}., sample shape=(14, 10). metric: 18578\n",
      "Hyperparams: {'batch_size': 8000, 'L': 5, 'dt': 3.1622776e-08}., sample shape=(24, 10). metric: 19621\n",
      "Hyperparams: {'batch_size': 800000, 'L': 5, 'dt': 0.1}., sample shape=(2, 10). metric: inf\n",
      "Hyperparams: {'batch_size': 800000, 'L': 5, 'dt': 0.031622775}., sample shape=(2, 10). metric: inf\n",
      "Hyperparams: {'batch_size': 800000, 'L': 5, 'dt': 0.01}., sample shape=(2, 10). metric: inf\n",
      "Hyperparams: {'batch_size': 800000, 'L': 5, 'dt': 0.0031622776}., sample shape=(2, 10). metric: inf\n",
      "Hyperparams: {'batch_size': 800000, 'L': 5, 'dt': 0.001}., sample shape=(2, 10). metric: inf\n",
      "Hyperparams: {'batch_size': 800000, 'L': 5, 'dt': 0.00031622776}., sample shape=(2, 10). metric: inf\n",
      "Hyperparams: {'batch_size': 800000, 'L': 5, 'dt': 1e-04}., sample shape=(2, 10). metric: inf\n",
      "Hyperparams: {'batch_size': 800000, 'L': 5, 'dt': 3.1622778e-05}., sample shape=(2, 10). metric: inf\n",
      "Hyperparams: {'batch_size': 800000, 'L': 5, 'dt': 1e-05}., sample shape=(2, 10). metric: inf\n",
      "Hyperparams: {'batch_size': 800000, 'L': 5, 'dt': 3.1622776e-06}., sample shape=(2, 10). metric: inf\n",
      "Hyperparams: {'batch_size': 800000, 'L': 5, 'dt': 1e-06}., sample shape=(2, 10). metric: inf\n",
      "Hyperparams: {'batch_size': 800000, 'L': 5, 'dt': 3.1622776e-07}., sample shape=(2, 10). metric: inf\n",
      "Hyperparams: {'batch_size': 800000, 'L': 5, 'dt': 1e-07}., sample shape=(2, 10). metric: inf\n",
      "Hyperparams: {'batch_size': 800000, 'L': 5, 'dt': 3.1622776e-08}., sample shape=(2, 10). metric: inf\n",
      "Hyperparams: {'batch_size': 800000, 'L': 10, 'dt': 0.1}., sample shape=(2, 10). metric: inf\n",
      "Hyperparams: {'batch_size': 800000, 'L': 10, 'dt': 0.031622775}., sample shape=(2, 10). metric: inf\n",
      "Hyperparams: {'batch_size': 800000, 'L': 10, 'dt': 0.01}., sample shape=(2, 10). metric: inf\n",
      "Hyperparams: {'batch_size': 800000, 'L': 10, 'dt': 0.0031622776}., sample shape=(2, 10). metric: inf\n",
      "Hyperparams: {'batch_size': 800000, 'L': 10, 'dt': 0.001}., sample shape=(2, 10). metric: inf\n",
      "Hyperparams: {'batch_size': 800000, 'L': 10, 'dt': 0.00031622776}., sample shape=(2, 10). metric: inf\n",
      "Hyperparams: {'batch_size': 800000, 'L': 10, 'dt': 1e-04}., sample shape=(2, 10). metric: inf\n",
      "\n",
      "Number of samples: [14, 24, 25, 23, 13, 14, 24, 2, 2]\n"
     ]
    },
    {
     "data": {
      "application/vnd.jupyter.widget-view+json": {
       "model_id": "d4edf8d9a3a343609b74a2df69f79fa5",
       "version_major": 2,
       "version_minor": 0
      },
      "text/plain": [
       "HBox(children=(HTML(value='Iteration 3/4, 9 arms, time budget = 1.17 sec'), FloatProgress(value=0.0, max=9.0),…"
      ]
     },
     "metadata": {},
     "output_type": "display_data"
    },
    {
     "name": "stdout",
     "output_type": "stream",
     "text": [
      "Hyperparams: {'batch_size': 8000, 'L': 10, 'dt': 3.1622776e-07}., sample shape=(41, 10). metric: 131\n",
      "Hyperparams: {'batch_size': 8000, 'L': 5, 'dt': 1e-06}., sample shape=(79, 10). metric: -337\n",
      "Hyperparams: {'batch_size': 8000, 'L': 5, 'dt': 3.1622776e-07}., sample shape=(81, 10). metric: 493\n",
      "Hyperparams: {'batch_size': 8000, 'L': 5, 'dt': 1e-07}., sample shape=(79, 10). metric: 5967\n",
      "Hyperparams: {'batch_size': 8000, 'L': 10, 'dt': 1e-07}., sample shape=(42, 10). metric: 975\n",
      "Hyperparams: {'batch_size': 8000, 'L': 10, 'dt': 3.1622776e-08}., sample shape=(42, 10). metric: 2607\n",
      "Hyperparams: {'batch_size': 8000, 'L': 5, 'dt': 3.1622776e-08}., sample shape=(76, 10). metric: 8059\n",
      "Hyperparams: {'batch_size': 800000, 'L': 5, 'dt': 0.1}., sample shape=(3, 10). metric: inf\n",
      "Hyperparams: {'batch_size': 800000, 'L': 5, 'dt': 0.031622775}., sample shape=(4, 10). metric: inf\n",
      "\n",
      "Number of samples: [79, 41, 81]\n"
     ]
    },
    {
     "data": {
      "application/vnd.jupyter.widget-view+json": {
       "model_id": "e4220fb05b9e47ba8e200b3436b58efb",
       "version_major": 2,
       "version_minor": 0
      },
      "text/plain": [
       "HBox(children=(HTML(value='Iteration 4/4, 3 arms, time budget = 3.50 sec'), FloatProgress(value=0.0, max=3.0),…"
      ]
     },
     "metadata": {},
     "output_type": "display_data"
    },
    {
     "name": "stdout",
     "output_type": "stream",
     "text": [
      "Hyperparams: {'batch_size': 8000, 'L': 5, 'dt': 1e-06}., sample shape=(242, 10). metric: 335\n",
      "Hyperparams: {'batch_size': 8000, 'L': 10, 'dt': 3.1622776e-07}., sample shape=(119, 10). metric: 35\n",
      "Hyperparams: {'batch_size': 8000, 'L': 5, 'dt': 3.1622776e-07}., sample shape=(231, 10). metric: -27\n",
      "\n",
      "Number of samples: [231]\n",
      "Running time: 257.8 sec\n",
      "{'batch_size': 8000, 'L': 5, 'dt': 3.1622776e-07} -26.962803 (231, 10)\n"
     ]
    }
   ],
   "source": [
    "build_kernel = lambda dt, L, batch_size: build_sghmcCV_kernel(dt, L, loglikelihood, \n",
    "                                                  logprior, data, batch_size, centering_value)\n",
    "grid_params = {'log_dt': logdt_range, \n",
    "               'batch_size': batch_size_range,\n",
    "               \"L\": [5, 10]\n",
    "              }\n",
    "\n",
    "best_arm = run_MAMBA(key, build_kernel, error_fn, R, params_IC, \n",
    "                     grid_params=grid_params, get_fb_grads=get_fb_grads)\n",
    "\n",
    "print(best_arm.hyperparameters, best_arm.metric, best_arm.samples.shape)"
   ]
  },
  {
   "cell_type": "code",
   "execution_count": 10,
   "id": "2cafa0ac",
   "metadata": {
    "collapsed": true
   },
   "outputs": [
    {
     "data": {
      "application/vnd.jupyter.widget-view+json": {
       "model_id": "dedeb508782442618dee17eb4ff2284b",
       "version_major": 2,
       "version_minor": 0
      },
      "text/plain": [
       "HBox(children=(HTML(value='Iteration 1/3, 42 arms, time budget = 0.38 sec'), FloatProgress(value=0.0, max=42.0…"
      ]
     },
     "metadata": {},
     "output_type": "display_data"
    },
    {
     "name": "stdout",
     "output_type": "stream",
     "text": [
      "Hyperparams: {'batch_size': 800000, 'dt': 0.1}., sample shape=(5, 10). metric: inf\n",
      "Hyperparams: {'batch_size': 800000, 'dt': 0.031622775}., sample shape=(5, 10). metric: inf\n",
      "Hyperparams: {'batch_size': 800000, 'dt': 0.01}., sample shape=(5, 10). metric: inf\n",
      "Hyperparams: {'batch_size': 800000, 'dt': 0.0031622776}., sample shape=(5, 10). metric: inf\n",
      "Hyperparams: {'batch_size': 800000, 'dt': 0.001}., sample shape=(5, 10). metric: inf\n",
      "Hyperparams: {'batch_size': 800000, 'dt': 0.00031622776}., sample shape=(5, 10). metric: inf\n",
      "Hyperparams: {'batch_size': 800000, 'dt': 1e-04}., sample shape=(5, 10). metric: inf\n",
      "Hyperparams: {'batch_size': 800000, 'dt': 3.1622778e-05}., sample shape=(5, 10). metric: -259258\n",
      "Hyperparams: {'batch_size': 800000, 'dt': 1e-05}., sample shape=(5, 10). metric: -100993\n",
      "Hyperparams: {'batch_size': 800000, 'dt': 3.1622776e-06}., sample shape=(5, 10). metric: -85543\n",
      "Hyperparams: {'batch_size': 800000, 'dt': 1e-06}., sample shape=(5, 10). metric: -109971\n",
      "Hyperparams: {'batch_size': 800000, 'dt': 3.1622776e-07}., sample shape=(5, 10). metric: -71769\n",
      "Hyperparams: {'batch_size': 800000, 'dt': 1e-07}., sample shape=(5, 10). metric: -72643\n",
      "Hyperparams: {'batch_size': 800000, 'dt': 3.1622776e-08}., sample shape=(5, 10). metric: 160132\n",
      "Hyperparams: {'batch_size': 80000, 'dt': 0.1}., sample shape=(16, 10). metric: inf\n",
      "Hyperparams: {'batch_size': 80000, 'dt': 0.031622775}., sample shape=(16, 10). metric: inf\n",
      "Hyperparams: {'batch_size': 80000, 'dt': 0.01}., sample shape=(16, 10). metric: inf\n",
      "Hyperparams: {'batch_size': 80000, 'dt': 0.0031622776}., sample shape=(16, 10). metric: inf\n",
      "Hyperparams: {'batch_size': 80000, 'dt': 0.001}., sample shape=(16, 10). metric: inf\n",
      "Hyperparams: {'batch_size': 80000, 'dt': 0.00031622776}., sample shape=(16, 10). metric: inf\n",
      "Hyperparams: {'batch_size': 80000, 'dt': 1e-04}., sample shape=(16, 10). metric: inf\n",
      "Hyperparams: {'batch_size': 80000, 'dt': 3.1622778e-05}., sample shape=(16, 10). metric: 10272\n",
      "Hyperparams: {'batch_size': 80000, 'dt': 1e-05}., sample shape=(16, 10). metric: 50732\n",
      "Hyperparams: {'batch_size': 80000, 'dt': 3.1622776e-06}., sample shape=(16, 10). metric: -56629\n",
      "Hyperparams: {'batch_size': 80000, 'dt': 1e-06}., sample shape=(16, 10). metric: -44545\n",
      "Hyperparams: {'batch_size': 80000, 'dt': 3.1622776e-07}., sample shape=(16, 10). metric: -26641\n",
      "Hyperparams: {'batch_size': 80000, 'dt': 1e-07}., sample shape=(16, 10). metric: -9471\n",
      "Hyperparams: {'batch_size': 80000, 'dt': 3.1622776e-08}., sample shape=(16, 10). metric: 5849\n",
      "Hyperparams: {'batch_size': 8000, 'dt': 0.1}., sample shape=(83, 10). metric: inf\n",
      "Hyperparams: {'batch_size': 8000, 'dt': 0.031622775}., sample shape=(84, 10). metric: inf\n",
      "Hyperparams: {'batch_size': 8000, 'dt': 0.01}., sample shape=(83, 10). metric: inf\n",
      "Hyperparams: {'batch_size': 8000, 'dt': 0.0031622776}., sample shape=(80, 10). metric: inf\n",
      "Hyperparams: {'batch_size': 8000, 'dt': 0.001}., sample shape=(81, 10). metric: inf\n",
      "Hyperparams: {'batch_size': 8000, 'dt': 0.00031622776}., sample shape=(82, 10). metric: inf\n",
      "Hyperparams: {'batch_size': 8000, 'dt': 1e-04}., sample shape=(83, 10). metric: inf\n",
      "Hyperparams: {'batch_size': 8000, 'dt': 3.1622778e-05}., sample shape=(78, 10). metric: inf\n",
      "Hyperparams: {'batch_size': 8000, 'dt': 1e-05}., sample shape=(79, 10). metric: -2363\n",
      "Hyperparams: {'batch_size': 8000, 'dt': 3.1622776e-06}., sample shape=(76, 10). metric: 4472\n",
      "Hyperparams: {'batch_size': 8000, 'dt': 1e-06}., sample shape=(77, 10). metric: -19330\n",
      "Hyperparams: {'batch_size': 8000, 'dt': 3.1622776e-07}., sample shape=(69, 10). metric: -11163\n",
      "Hyperparams: {'batch_size': 8000, 'dt': 1e-07}., sample shape=(73, 10). metric: -5204\n",
      "Hyperparams: {'batch_size': 8000, 'dt': 3.1622776e-08}., sample shape=(81, 10). metric: 5829\n",
      "\n",
      "Number of samples: [5, 5, 5, 5, 5, 5, 16, 16, 16, 77, 69, 16, 73, 79]\n"
     ]
    },
    {
     "data": {
      "application/vnd.jupyter.widget-view+json": {
       "model_id": "dbe48ecccab24563a1cc0b14f577f8c6",
       "version_major": 2,
       "version_minor": 0
      },
      "text/plain": [
       "HBox(children=(HTML(value='Iteration 2/3, 14 arms, time budget = 1.15 sec'), FloatProgress(value=0.0, max=14.0…"
      ]
     },
     "metadata": {},
     "output_type": "display_data"
    },
    {
     "name": "stdout",
     "output_type": "stream",
     "text": [
      "Hyperparams: {'batch_size': 800000, 'dt': 3.1622778e-05}., sample shape=(19, 10). metric: -9396\n",
      "Hyperparams: {'batch_size': 800000, 'dt': 1e-06}., sample shape=(20, 10). metric: -10340\n",
      "Hyperparams: {'batch_size': 800000, 'dt': 1e-05}., sample shape=(20, 10). metric: -1626\n",
      "Hyperparams: {'batch_size': 800000, 'dt': 3.1622776e-06}., sample shape=(20, 10). metric: -2800\n",
      "Hyperparams: {'batch_size': 800000, 'dt': 1e-07}., sample shape=(20, 10). metric: -6206\n",
      "Hyperparams: {'batch_size': 800000, 'dt': 3.1622776e-07}., sample shape=(20, 10). metric: -6215\n",
      "Hyperparams: {'batch_size': 80000, 'dt': 3.1622776e-06}., sample shape=(53, 10). metric: -19145\n",
      "Hyperparams: {'batch_size': 80000, 'dt': 1e-06}., sample shape=(54, 10). metric: -9956\n",
      "Hyperparams: {'batch_size': 80000, 'dt': 3.1622776e-07}., sample shape=(53, 10). metric: -6273\n",
      "Hyperparams: {'batch_size': 8000, 'dt': 1e-06}., sample shape=(301, 10). metric: -5244\n",
      "Hyperparams: {'batch_size': 8000, 'dt': 3.1622776e-07}., sample shape=(294, 10). metric: -3513\n",
      "Hyperparams: {'batch_size': 80000, 'dt': 1e-07}., sample shape=(53, 10). metric: -1175\n",
      "Hyperparams: {'batch_size': 8000, 'dt': 1e-07}., sample shape=(279, 10). metric: -1549\n",
      "Hyperparams: {'batch_size': 8000, 'dt': 1e-05}., sample shape=(315, 10). metric: -3635\n",
      "\n",
      "Number of samples: [53, 20, 54, 19]\n"
     ]
    },
    {
     "data": {
      "application/vnd.jupyter.widget-view+json": {
       "model_id": "07f92d0132d84aafb15ce874d5ada1c7",
       "version_major": 2,
       "version_minor": 0
      },
      "text/plain": [
       "HBox(children=(HTML(value='Iteration 3/3, 4 arms, time budget = 4.04 sec'), FloatProgress(value=0.0, max=4.0),…"
      ]
     },
     "metadata": {},
     "output_type": "display_data"
    },
    {
     "name": "stdout",
     "output_type": "stream",
     "text": [
      "Hyperparams: {'batch_size': 80000, 'dt': 3.1622776e-06}., sample shape=(183, 10). metric: -3378\n",
      "Hyperparams: {'batch_size': 800000, 'dt': 1e-06}., sample shape=(72, 10). metric: -596\n",
      "Hyperparams: {'batch_size': 80000, 'dt': 1e-06}., sample shape=(198, 10). metric: -2789\n",
      "Hyperparams: {'batch_size': 800000, 'dt': 3.1622778e-05}., sample shape=(71, 10). metric: -591\n",
      "\n",
      "Number of samples: [183]\n",
      "Running time: 202.7 sec\n",
      "{'batch_size': 80000, 'dt': 3.1622776e-06} -3377.6277 (183, 10)\n"
     ]
    }
   ],
   "source": [
    "build_kernel = lambda dt, batch_size: build_sgnht_kernel(dt, loglikelihood, logprior, data, batch_size)\n",
    "grid_params = {'log_dt': logdt_range, \n",
    "               'batch_size': batch_size_range\n",
    "              }\n",
    "\n",
    "best_arm = run_MAMBA(key, build_kernel, error_fn, R, params_IC, \n",
    "                     grid_params=grid_params, get_fb_grads=get_fb_grads)\n",
    "\n",
    "print(best_arm.hyperparameters, best_arm.metric, best_arm.samples.shape)"
   ]
  },
  {
   "cell_type": "code",
   "execution_count": 11,
   "id": "ada995a7",
   "metadata": {},
   "outputs": [
    {
     "data": {
      "application/vnd.jupyter.widget-view+json": {
       "model_id": "6f4f1804d4d6416da790eee0c6616a70",
       "version_major": 2,
       "version_minor": 0
      },
      "text/plain": [
       "HBox(children=(HTML(value='Iteration 1/3, 42 arms, time budget = 0.38 sec'), FloatProgress(value=0.0, max=42.0…"
      ]
     },
     "metadata": {},
     "output_type": "display_data"
    },
    {
     "name": "stdout",
     "output_type": "stream",
     "text": [
      "Hyperparams: {'batch_size': 800000, 'dt': 0.1}., sample shape=(2, 10). metric: inf\n",
      "Hyperparams: {'batch_size': 800000, 'dt': 0.031622775}., sample shape=(2, 10). metric: inf\n",
      "Hyperparams: {'batch_size': 800000, 'dt': 0.01}., sample shape=(2, 10). metric: inf\n",
      "Hyperparams: {'batch_size': 800000, 'dt': 0.0031622776}., sample shape=(2, 10). metric: inf\n",
      "Hyperparams: {'batch_size': 800000, 'dt': 0.001}., sample shape=(2, 10). metric: inf\n",
      "Hyperparams: {'batch_size': 800000, 'dt': 0.00031622776}., sample shape=(2, 10). metric: inf\n",
      "Hyperparams: {'batch_size': 800000, 'dt': 1e-04}., sample shape=(2, 10). metric: inf\n",
      "Hyperparams: {'batch_size': 800000, 'dt': 3.1622778e-05}., sample shape=(2, 10). metric: -522274\n",
      "Hyperparams: {'batch_size': 800000, 'dt': 1e-05}., sample shape=(2, 10). metric: -162790\n",
      "Hyperparams: {'batch_size': 800000, 'dt': 3.1622776e-06}., sample shape=(2, 10). metric: 436822\n",
      "Hyperparams: {'batch_size': 800000, 'dt': 1e-06}., sample shape=(2, 10). metric: -704890\n",
      "Hyperparams: {'batch_size': 800000, 'dt': 3.1622776e-07}., sample shape=(2, 10). metric: 28832\n",
      "Hyperparams: {'batch_size': 800000, 'dt': 1e-07}., sample shape=(2, 10). metric: 568935\n",
      "Hyperparams: {'batch_size': 800000, 'dt': 3.1622776e-08}., sample shape=(2, 10). metric: 841958\n",
      "Hyperparams: {'batch_size': 80000, 'dt': 0.1}., sample shape=(12, 10). metric: inf\n",
      "Hyperparams: {'batch_size': 80000, 'dt': 0.031622775}., sample shape=(12, 10). metric: inf\n",
      "Hyperparams: {'batch_size': 80000, 'dt': 0.01}., sample shape=(12, 10). metric: inf\n",
      "Hyperparams: {'batch_size': 80000, 'dt': 0.0031622776}., sample shape=(12, 10). metric: inf\n",
      "Hyperparams: {'batch_size': 80000, 'dt': 0.001}., sample shape=(13, 10). metric: inf\n",
      "Hyperparams: {'batch_size': 80000, 'dt': 0.00031622776}., sample shape=(12, 10). metric: inf\n",
      "Hyperparams: {'batch_size': 80000, 'dt': 1e-04}., sample shape=(12, 10). metric: inf\n",
      "Hyperparams: {'batch_size': 80000, 'dt': 3.1622778e-05}., sample shape=(12, 10). metric: -30887\n",
      "Hyperparams: {'batch_size': 80000, 'dt': 1e-05}., sample shape=(12, 10). metric: -22770\n",
      "Hyperparams: {'batch_size': 80000, 'dt': 3.1622776e-06}., sample shape=(12, 10). metric: -18736\n",
      "Hyperparams: {'batch_size': 80000, 'dt': 1e-06}., sample shape=(13, 10). metric: -27023\n",
      "Hyperparams: {'batch_size': 80000, 'dt': 3.1622776e-07}., sample shape=(13, 10). metric: -19506\n",
      "Hyperparams: {'batch_size': 80000, 'dt': 1e-07}., sample shape=(13, 10). metric: -18460\n",
      "Hyperparams: {'batch_size': 80000, 'dt': 3.1622776e-08}., sample shape=(12, 10). metric: -10474\n",
      "Hyperparams: {'batch_size': 8000, 'dt': 0.1}., sample shape=(64, 10). metric: inf\n",
      "Hyperparams: {'batch_size': 8000, 'dt': 0.031622775}., sample shape=(68, 10). metric: inf\n",
      "Hyperparams: {'batch_size': 8000, 'dt': 0.01}., sample shape=(73, 10). metric: inf\n",
      "Hyperparams: {'batch_size': 8000, 'dt': 0.0031622776}., sample shape=(56, 10). metric: inf\n",
      "Hyperparams: {'batch_size': 8000, 'dt': 0.001}., sample shape=(62, 10). metric: inf\n",
      "Hyperparams: {'batch_size': 8000, 'dt': 0.00031622776}., sample shape=(67, 10). metric: inf\n",
      "Hyperparams: {'batch_size': 8000, 'dt': 1e-04}., sample shape=(71, 10). metric: inf\n",
      "Hyperparams: {'batch_size': 8000, 'dt': 3.1622778e-05}., sample shape=(66, 10). metric: -2419\n",
      "Hyperparams: {'batch_size': 8000, 'dt': 1e-05}., sample shape=(68, 10). metric: -1786\n",
      "Hyperparams: {'batch_size': 8000, 'dt': 3.1622776e-06}., sample shape=(71, 10). metric: -1441\n",
      "Hyperparams: {'batch_size': 8000, 'dt': 1e-06}., sample shape=(70, 10). metric: -1190\n",
      "Hyperparams: {'batch_size': 8000, 'dt': 3.1622776e-07}., sample shape=(67, 10). metric: -1054\n",
      "Hyperparams: {'batch_size': 8000, 'dt': 1e-07}., sample shape=(73, 10). metric: -705\n",
      "Hyperparams: {'batch_size': 8000, 'dt': 3.1622776e-08}., sample shape=(66, 10). metric: -84\n",
      "\n",
      "Number of samples: [2, 2, 2, 12, 13, 12, 13, 12, 13, 12, 66, 68, 71, 70]\n"
     ]
    },
    {
     "data": {
      "application/vnd.jupyter.widget-view+json": {
       "model_id": "d62a27eefc3f4b14a93cc72284cd7a83",
       "version_major": 2,
       "version_minor": 0
      },
      "text/plain": [
       "HBox(children=(HTML(value='Iteration 2/3, 14 arms, time budget = 1.15 sec'), FloatProgress(value=0.0, max=14.0…"
      ]
     },
     "metadata": {},
     "output_type": "display_data"
    },
    {
     "name": "stdout",
     "output_type": "stream",
     "text": [
      "Hyperparams: {'batch_size': 800000, 'dt': 1e-06}., sample shape=(6, 10). metric: -123508\n",
      "Hyperparams: {'batch_size': 800000, 'dt': 3.1622778e-05}., sample shape=(7, 10). metric: -334821\n",
      "Hyperparams: {'batch_size': 800000, 'dt': 1e-05}., sample shape=(7, 10). metric: -108212\n",
      "Hyperparams: {'batch_size': 80000, 'dt': 3.1622778e-05}., sample shape=(45, 10). metric: -2113\n",
      "Hyperparams: {'batch_size': 80000, 'dt': 1e-06}., sample shape=(45, 10). metric: -1318\n",
      "Hyperparams: {'batch_size': 80000, 'dt': 1e-05}., sample shape=(44, 10). metric: -1451\n",
      "Hyperparams: {'batch_size': 80000, 'dt': 3.1622776e-07}., sample shape=(46, 10). metric: -1293\n",
      "Hyperparams: {'batch_size': 80000, 'dt': 3.1622776e-06}., sample shape=(44, 10). metric: -2131\n",
      "Hyperparams: {'batch_size': 80000, 'dt': 1e-07}., sample shape=(46, 10). metric: 140\n",
      "Hyperparams: {'batch_size': 80000, 'dt': 3.1622776e-08}., sample shape=(46, 10). metric: -606\n",
      "Hyperparams: {'batch_size': 8000, 'dt': 3.1622778e-05}., sample shape=(280, 10). metric: 32\n",
      "Hyperparams: {'batch_size': 8000, 'dt': 1e-05}., sample shape=(284, 10). metric: -237\n",
      "Hyperparams: {'batch_size': 8000, 'dt': 3.1622776e-06}., sample shape=(287, 10). metric: -145\n",
      "Hyperparams: {'batch_size': 8000, 'dt': 1e-06}., sample shape=(268, 10). metric: -155\n",
      "\n",
      "Number of samples: [7, 6, 7, 44]\n"
     ]
    },
    {
     "data": {
      "application/vnd.jupyter.widget-view+json": {
       "model_id": "3e8a2565a50c4327809b37d10bbda2fc",
       "version_major": 2,
       "version_minor": 0
      },
      "text/plain": [
       "HBox(children=(HTML(value='Iteration 3/3, 4 arms, time budget = 4.04 sec'), FloatProgress(value=0.0, max=4.0),…"
      ]
     },
     "metadata": {},
     "output_type": "display_data"
    },
    {
     "name": "stdout",
     "output_type": "stream",
     "text": [
      "Hyperparams: {'batch_size': 800000, 'dt': 3.1622778e-05}., sample shape=(20, 10). metric: -27453\n",
      "Hyperparams: {'batch_size': 800000, 'dt': 1e-06}., sample shape=(20, 10). metric: -1909\n",
      "Hyperparams: {'batch_size': 800000, 'dt': 1e-05}., sample shape=(20, 10). metric: -15917\n",
      "Hyperparams: {'batch_size': 80000, 'dt': 3.1622776e-06}., sample shape=(147, 10). metric: -231\n",
      "\n",
      "Number of samples: [20]\n",
      "Running time: 214.3 sec\n",
      "{'batch_size': 800000, 'dt': 3.1622778e-05} -27453.271 (20, 10)\n"
     ]
    }
   ],
   "source": [
    "build_kernel = lambda dt, batch_size: build_sgnhtCV_kernel(dt, loglikelihood, \n",
    "                                                  logprior, data, batch_size, centering_value)\n",
    "grid_params = {'log_dt': logdt_range, \n",
    "               'batch_size': batch_size_range\n",
    "              }\n",
    "\n",
    "best_arm = run_MAMBA(key, build_kernel, error_fn, R, params_IC, \n",
    "                     grid_params=grid_params, get_fb_grads=get_fb_grads)\n",
    "\n",
    "print(best_arm.hyperparameters, best_arm.metric, best_arm.samples.shape)"
   ]
  },
  {
   "cell_type": "code",
   "execution_count": null,
   "id": "ec0f4428",
   "metadata": {},
   "outputs": [],
   "source": []
  }
 ],
 "metadata": {
  "kernelspec": {
   "display_name": "Python 3",
   "language": "python",
   "name": "python3"
  },
  "language_info": {
   "codemirror_mode": {
    "name": "ipython",
    "version": 3
   },
   "file_extension": ".py",
   "mimetype": "text/x-python",
   "name": "python",
   "nbconvert_exporter": "python",
   "pygments_lexer": "ipython3",
   "version": "3.8.2"
  }
 },
 "nbformat": 4,
 "nbformat_minor": 5
}
