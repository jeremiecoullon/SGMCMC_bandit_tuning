{
 "cells": [
  {
   "cell_type": "code",
   "execution_count": 12,
   "id": "5be9aa65",
   "metadata": {},
   "outputs": [],
   "source": [
    "%matplotlib inline\n",
    "import matplotlib.pyplot as plt\n",
    "import numpy as np\n",
    "\n",
    "import jax.numpy as jnp\n",
    "from jax import grad, jit, random, partial, lax, vmap\n",
    "\n",
    "import context\n",
    "from models.bayesian_NN.NN_model import logprior, loglikelihood, init_network, accuracy_BNN\n",
    "from models.bayesian_NN.NN_data import X_train, y_train, X_test, y_test\n",
    "from models.bayesian_NN.util import load_NN_MAP, add_noise_NN_params\n",
    "\n",
    "from tuning.mamba import timed_sampler\n",
    "from tuning.ksd import imq_KSD, k_0_fun, FSSD, FSSD_O2, FSSD_opt"
   ]
  },
  {
   "cell_type": "markdown",
   "id": "280a1df0",
   "metadata": {},
   "source": [
    "# linear KSD"
   ]
  },
  {
   "cell_type": "code",
   "execution_count": 2,
   "id": "99b01bba",
   "metadata": {},
   "outputs": [],
   "source": [
    "@jit\n",
    "def linear_imq_KSD(samples, grads):\n",
    "    \"\"\"\n",
    "    linear KSD with imq kernel (Liu 2016)\n",
    "    \"\"\"\n",
    "    c, beta = 1., -0.5\n",
    "    N_2 = int(samples.shape[0]/2)\n",
    "    batch_k_0_fun = vmap(k_0_fun, in_axes=(0,0,0,0,None, None))\n",
    "    \n",
    "    le_sum = jnp.sum(batch_k_0_fun(samples[::2], samples[1::2], grads[::2], grads[1::2], c, beta))\n",
    "    return le_sum/N_2\n"
   ]
  },
  {
   "cell_type": "code",
   "execution_count": 3,
   "id": "36941cc4",
   "metadata": {},
   "outputs": [],
   "source": [
    "\n",
    "def get_test_locations(samples, J=10, key=random.PRNGKey(0)):\n",
    "    _, dim = jnp.shape(samples)\n",
    "    gauss_mean = jnp.mean(samples, axis=0)\n",
    "    gauss_cov = jnp.cov(samples.T) + 1e-10*jnp.eye(dim)\n",
    "    gauss_chol = jnp.linalg.cholesky(gauss_cov)\n",
    "    batch_get_samples = vmap(lambda k: jnp.dot(gauss_chol, random.normal(key, shape=(dim,))) + gauss_mean)\n",
    "    V = batch_get_samples(random.split(key, J))\n",
    "    return V\n"
   ]
  },
  {
   "cell_type": "code",
   "execution_count": 4,
   "id": "e7aa1114",
   "metadata": {},
   "outputs": [],
   "source": [
    "\n",
    "key = random.PRNGKey(60)\n",
    "N = 500 # num samples\n",
    "d = 5 # dimension\n",
    "\n",
    "samples = random.normal(key, shape=(N, d))\n",
    "grads = -samples\n",
    "\n",
    "J = 10\n",
    "key = random.PRNGKey(1)\n",
    "# V = random.normal(key, shape=(J, d))"
   ]
  },
  {
   "cell_type": "code",
   "execution_count": 5,
   "id": "755bf618",
   "metadata": {},
   "outputs": [
    {
     "name": "stdout",
     "output_type": "stream",
     "text": [
      "CPU times: user 191 ms, sys: 2.83 ms, total: 194 ms\n",
      "Wall time: 192 ms\n"
     ]
    },
    {
     "data": {
      "text/plain": [
       "DeviceArray(0.14592385, dtype=float32)"
      ]
     },
     "execution_count": 5,
     "metadata": {},
     "output_type": "execute_result"
    }
   ],
   "source": [
    "%time imq_KSD(samples, grads).block_until_ready()"
   ]
  },
  {
   "cell_type": "code",
   "execution_count": 6,
   "id": "e1387805",
   "metadata": {},
   "outputs": [
    {
     "name": "stdout",
     "output_type": "stream",
     "text": [
      "CPU times: user 103 ms, sys: 2.3 ms, total: 105 ms\n",
      "Wall time: 103 ms\n"
     ]
    },
    {
     "data": {
      "text/plain": [
       "DeviceArray(0.04582699, dtype=float32)"
      ]
     },
     "execution_count": 6,
     "metadata": {},
     "output_type": "execute_result"
    }
   ],
   "source": [
    "%time linear_imq_KSD(samples, grads).block_until_ready()"
   ]
  },
  {
   "cell_type": "code",
   "execution_count": 8,
   "id": "d3c4c385",
   "metadata": {},
   "outputs": [
    {
     "name": "stdout",
     "output_type": "stream",
     "text": [
      "CPU times: user 11.7 ms, sys: 2.98 ms, total: 14.7 ms\n",
      "Wall time: 10.7 ms\n"
     ]
    },
    {
     "data": {
      "text/plain": [
       "DeviceArray(0.00029859, dtype=float32)"
      ]
     },
     "execution_count": 8,
     "metadata": {},
     "output_type": "execute_result"
    }
   ],
   "source": [
    "%time FSSD(samples, grads, get_test_locations(samples)).block_until_ready()"
   ]
  },
  {
   "cell_type": "code",
   "execution_count": 10,
   "id": "b522e91a",
   "metadata": {},
   "outputs": [
    {
     "name": "stdout",
     "output_type": "stream",
     "text": [
      "CPU times: user 27.1 ms, sys: 4.97 ms, total: 32.1 ms\n",
      "Wall time: 19.7 ms\n"
     ]
    },
    {
     "data": {
      "text/plain": [
       "DeviceArray(0.00029859, dtype=float32)"
      ]
     },
     "execution_count": 10,
     "metadata": {},
     "output_type": "execute_result"
    }
   ],
   "source": [
    "%time FSSD_O2(samples, grads, get_test_locations(samples)).block_until_ready()"
   ]
  },
  {
   "cell_type": "code",
   "execution_count": 14,
   "id": "92e01269",
   "metadata": {},
   "outputs": [
    {
     "name": "stdout",
     "output_type": "stream",
     "text": [
      "CPU times: user 39 ms, sys: 3.5 ms, total: 42.5 ms\n",
      "Wall time: 37.6 ms\n"
     ]
    },
    {
     "data": {
      "text/plain": [
       "DeviceArray(0.00034239, dtype=float32)"
      ]
     },
     "execution_count": 14,
     "metadata": {},
     "output_type": "execute_result"
    }
   ],
   "source": [
    "%time FSSD_opt(samples, grads, get_test_locations(samples), 100).block_until_ready()"
   ]
  },
  {
   "cell_type": "code",
   "execution_count": 17,
   "id": "935f4245",
   "metadata": {},
   "outputs": [],
   "source": [
    "from jax.experimental.optimizers import adam"
   ]
  },
  {
   "cell_type": "code",
   "execution_count": 42,
   "id": "dc037621",
   "metadata": {},
   "outputs": [],
   "source": [
    "# @partial(jit, static_argnums=(3,))\n",
    "# def FSSD_opt(sgld_samples, sgld_grads, V, Niter):\n",
    "\n",
    "V = get_test_locations(samples)\n",
    "Niter = 100\n",
    "\n",
    "def opt_fssd_fn(v):\n",
    "    J = 10\n",
    "    _, dim = jnp.shape(samples)\n",
    "    return -FSSD(samples, grads, v.reshape(J,dim))\n",
    "\n",
    "# grad_opt_fn = jit(grad(opt_fssd_fn))\n",
    "# init_fn, update, get_params = adam(1e-3)\n",
    "# state = init_fn(V)\n",
    "\n",
    "# def body(state, i):\n",
    "#     return update(i, grad_opt_fn(get_params(state)), state), None\n",
    "\n",
    "# state, _ = lax.scan(body, state, jnp.arange(Niter))\n",
    "# V_opt = get_params(state)\n",
    "\n"
   ]
  },
  {
   "cell_type": "code",
   "execution_count": 48,
   "id": "785270d9",
   "metadata": {},
   "outputs": [],
   "source": [
    "from jax.scipy.optimize import minimize\n",
    "\n",
    "def opt_v(V):\n",
    "    J, dim = jnp.shape(V)\n",
    "    \n",
    "    def opt_fssd_fn(v):\n",
    "        return -FSSD(samples, grads, v.reshape(J, dim))\n",
    "\n",
    "    result = minimize(opt_fssd_fn, V.flatten(), method=\"BFGS\")\n",
    "    return result.x"
   ]
  },
  {
   "cell_type": "code",
   "execution_count": 49,
   "id": "2c52308c",
   "metadata": {},
   "outputs": [
    {
     "data": {
      "text/plain": [
       "DeviceArray([ 0.19024403, -1.1654866 , -0.35848635,  1.1371242 ,\n",
       "              0.22448991,  0.19024403, -1.1654866 , -0.35848635,\n",
       "              1.1371242 ,  0.22448991,  0.19024403, -1.1654866 ,\n",
       "             -0.35848635,  1.1371242 ,  0.22448991,  0.19024403,\n",
       "             -1.1654866 , -0.35848635,  1.1371242 ,  0.22448991,\n",
       "              0.19024403, -1.1654866 , -0.35848635,  1.1371242 ,\n",
       "              0.22448991,  0.19024403, -1.1654866 , -0.35848635,\n",
       "              1.1371242 ,  0.22448991,  0.19024403, -1.1654866 ,\n",
       "             -0.35848635,  1.1371242 ,  0.22448991,  0.19024403,\n",
       "             -1.1654866 , -0.35848635,  1.1371242 ,  0.22448991,\n",
       "              0.19024403, -1.1654866 , -0.35848635,  1.1371242 ,\n",
       "              0.22448991,  0.19024403, -1.1654866 , -0.35848635,\n",
       "              1.1371242 ,  0.22448991], dtype=float32)"
      ]
     },
     "execution_count": 49,
     "metadata": {},
     "output_type": "execute_result"
    }
   ],
   "source": [
    "opt_v(V)"
   ]
  },
  {
   "cell_type": "code",
   "execution_count": 43,
   "id": "d9d554df",
   "metadata": {},
   "outputs": [],
   "source": []
  },
  {
   "cell_type": "code",
   "execution_count": 44,
   "id": "403cec77",
   "metadata": {},
   "outputs": [
    {
     "data": {
      "text/plain": [
       "(10, 5)"
      ]
     },
     "execution_count": 44,
     "metadata": {},
     "output_type": "execute_result"
    }
   ],
   "source": [
    "V.shape"
   ]
  },
  {
   "cell_type": "code",
   "execution_count": 46,
   "id": "ae4ce83e",
   "metadata": {},
   "outputs": [
    {
     "data": {
      "text/plain": [
       "OptimizeResults(x=DeviceArray([ 0.19024403, -1.1654866 , -0.35848635,  1.1371242 ,\n",
       "              0.22448991,  0.19024403, -1.1654866 , -0.35848635,\n",
       "              1.1371242 ,  0.22448991,  0.19024403, -1.1654866 ,\n",
       "             -0.35848635,  1.1371242 ,  0.22448991,  0.19024403,\n",
       "             -1.1654866 , -0.35848635,  1.1371242 ,  0.22448991,\n",
       "              0.19024403, -1.1654866 , -0.35848635,  1.1371242 ,\n",
       "              0.22448991,  0.19024403, -1.1654866 , -0.35848635,\n",
       "              1.1371242 ,  0.22448991,  0.19024403, -1.1654866 ,\n",
       "             -0.35848635,  1.1371242 ,  0.22448991,  0.19024403,\n",
       "             -1.1654866 , -0.35848635,  1.1371242 ,  0.22448991,\n",
       "              0.19024403, -1.1654866 , -0.35848635,  1.1371242 ,\n",
       "              0.22448991,  0.19024403, -1.1654866 , -0.35848635,\n",
       "              1.1371242 ,  0.22448991], dtype=float32), success=DeviceArray(False, dtype=bool), status=Buffer(5, dtype=int32), fun=DeviceArray(-0.00029859, dtype=float32), jac=DeviceArray([-6.7624378e-06, -8.0721784e-06,  8.4659769e-06,\n",
       "              1.2336015e-05, -7.7232189e-06, -6.7624378e-06,\n",
       "             -8.0721784e-06,  8.4659769e-06,  1.2336015e-05,\n",
       "             -7.7232189e-06, -6.7624378e-06, -8.0721784e-06,\n",
       "              8.4659769e-06,  1.2336015e-05, -7.7232189e-06,\n",
       "             -6.7624378e-06, -8.0721784e-06,  8.4659769e-06,\n",
       "              1.2336015e-05, -7.7232189e-06, -6.7624378e-06,\n",
       "             -8.0721784e-06,  8.4659769e-06,  1.2336015e-05,\n",
       "             -7.7232189e-06, -6.7624378e-06, -8.0721784e-06,\n",
       "              8.4659769e-06,  1.2336015e-05, -7.7232189e-06,\n",
       "             -6.7624378e-06, -8.0721784e-06,  8.4659769e-06,\n",
       "              1.2336015e-05, -7.7232189e-06, -6.7624378e-06,\n",
       "             -8.0721784e-06,  8.4659769e-06,  1.2336015e-05,\n",
       "             -7.7232189e-06, -6.7624378e-06, -8.0721784e-06,\n",
       "              8.4659769e-06,  1.2336015e-05, -7.7232189e-06,\n",
       "             -6.7624378e-06, -8.0721784e-06,  8.4659769e-06,\n",
       "              1.2336015e-05, -7.7232189e-06], dtype=float32), hess_inv=DeviceArray([[1., 0., 0., ..., 0., 0., 0.],\n",
       "             [0., 1., 0., ..., 0., 0., 0.],\n",
       "             [0., 0., 1., ..., 0., 0., 0.],\n",
       "             ...,\n",
       "             [0., 0., 0., ..., 1., 0., 0.],\n",
       "             [0., 0., 0., ..., 0., 1., 0.],\n",
       "             [0., 0., 0., ..., 0., 0., 1.]], dtype=float32), nfev=DeviceArray(11, dtype=int32), njev=DeviceArray(11, dtype=int32), nit=DeviceArray(1, dtype=int32))"
      ]
     },
     "execution_count": 46,
     "metadata": {},
     "output_type": "execute_result"
    }
   ],
   "source": [
    "minimize(opt_fssd_fn, V.flatten(), method=\"BFGS\")"
   ]
  },
  {
   "cell_type": "code",
   "execution_count": null,
   "id": "36025452",
   "metadata": {},
   "outputs": [],
   "source": []
  },
  {
   "cell_type": "code",
   "execution_count": null,
   "id": "54244fc8",
   "metadata": {},
   "outputs": [],
   "source": []
  },
  {
   "cell_type": "code",
   "execution_count": null,
   "id": "dbb751db",
   "metadata": {},
   "outputs": [],
   "source": []
  },
  {
   "cell_type": "code",
   "execution_count": null,
   "id": "fffb60b9",
   "metadata": {},
   "outputs": [],
   "source": [
    "FSSD(sgld_samples, sgld_grads, V_opt)"
   ]
  },
  {
   "cell_type": "code",
   "execution_count": null,
   "id": "5c1e281d",
   "metadata": {},
   "outputs": [],
   "source": []
  },
  {
   "cell_type": "code",
   "execution_count": null,
   "id": "59feb0ba",
   "metadata": {},
   "outputs": [],
   "source": []
  },
  {
   "cell_type": "code",
   "execution_count": null,
   "id": "18bc4a9f",
   "metadata": {},
   "outputs": [],
   "source": []
  },
  {
   "cell_type": "code",
   "execution_count": null,
   "id": "9972db00",
   "metadata": {},
   "outputs": [],
   "source": []
  },
  {
   "cell_type": "code",
   "execution_count": null,
   "id": "ab01764b",
   "metadata": {},
   "outputs": [],
   "source": []
  },
  {
   "cell_type": "code",
   "execution_count": null,
   "id": "dd85eb0d",
   "metadata": {},
   "outputs": [],
   "source": []
  },
  {
   "cell_type": "code",
   "execution_count": null,
   "id": "bfa0af02",
   "metadata": {},
   "outputs": [],
   "source": []
  },
  {
   "cell_type": "code",
   "execution_count": null,
   "id": "24d4f19f",
   "metadata": {},
   "outputs": [],
   "source": []
  },
  {
   "cell_type": "code",
   "execution_count": null,
   "id": "761c6549",
   "metadata": {},
   "outputs": [],
   "source": []
  },
  {
   "cell_type": "markdown",
   "id": "9635b8d4",
   "metadata": {},
   "source": [
    "# random code\n",
    "\n",
    "\n",
    "## FSSD"
   ]
  },
  {
   "cell_type": "code",
   "execution_count": 14,
   "id": "6abdeb38",
   "metadata": {},
   "outputs": [],
   "source": [
    "def imq_kernel(x, y):\n",
    "    c, beta = 1., -0.5\n",
    "    return (c + jnp.dot(x-y, x-y))**beta\n",
    "\n",
    "k_dx = grad(imq_kernel, 0)\n",
    "\n",
    "def xi(x, grad_x, v):\n",
    "    return grad_x*imq_kernel(x,v) + k_dx(x,v)\n",
    "\n",
    "batch_xi = vmap(xi, in_axes=(None, None, 0))\n",
    "\n",
    "\n",
    "def tau(x, grad_x, V):\n",
    "    d, = x.shape\n",
    "    J, dv = V.shape\n",
    "    assert dv == d\n",
    "    return batch_xi(x, grad_x, V).reshape(J*d)/jnp.sqrt(d*J)\n",
    "    \n",
    "@jit\n",
    "def delta_fn(x, y, g_x, g_y, V):\n",
    "    return jnp.dot(tau(x, g_x, V), tau(y, g_y, V))\n",
    "\n",
    "\n",
    "\n",
    "# @jit\n",
    "def FSSD_O2(sgld_samples, sgld_grads, V):\n",
    "    \"\"\"\n",
    "    FSSD with imq kernel\n",
    "    \"\"\"\n",
    "    N = sgld_samples.shape[0]\n",
    "    \n",
    "    batch_delta_fun_rows = jit(vmap(delta_fn, in_axes=(None,0,None,0, None)))\n",
    "\n",
    "    def body_ksd(le_sum, x):\n",
    "        my_sample, my_grad = x\n",
    "        le_sum += jnp.sum(batch_delta_fun_rows(my_sample, sgld_samples, my_grad, sgld_grads, V))\n",
    "        return le_sum, None\n",
    "\n",
    "    le_sum, _ = lax.scan(body_ksd, 0., (sgld_samples, sgld_grads))\n",
    "    # remove diagonal\n",
    "    le_sum -= jnp.sum(vmap(delta_fn, in_axes=(0,0,0,0, None))(sgld_samples, sgld_samples, sgld_grads, sgld_grads, V))\n",
    "    return jnp.sqrt(le_sum)/N\n",
    "\n",
    "\n"
   ]
  },
  {
   "cell_type": "code",
   "execution_count": 15,
   "id": "ad7ea263",
   "metadata": {
    "scrolled": true
   },
   "outputs": [
    {
     "data": {
      "text/plain": [
       "DeviceArray(0.0289157, dtype=float32)"
      ]
     },
     "execution_count": 15,
     "metadata": {},
     "output_type": "execute_result"
    }
   ],
   "source": [
    "FSSD_O2(samples, grads, V)"
   ]
  },
  {
   "cell_type": "code",
   "execution_count": null,
   "id": "6e9fc1d2",
   "metadata": {},
   "outputs": [],
   "source": []
  },
  {
   "cell_type": "code",
   "execution_count": 40,
   "id": "5ab13c8f",
   "metadata": {},
   "outputs": [],
   "source": [
    "\n",
    "key = random.PRNGKey(0)\n",
    "N = 100 # num samples\n",
    "d = 5 # dimension\n",
    "\n",
    "samples = random.normal(key, shape=(N, d))\n",
    "grads = -samples\n",
    "\n",
    "J = 10\n",
    "key = random.PRNGKey(1)\n",
    "V = random.normal(key, shape=(J, d)) + 10"
   ]
  },
  {
   "cell_type": "code",
   "execution_count": 18,
   "id": "ce399659",
   "metadata": {},
   "outputs": [],
   "source": [
    "sgld_samples = samples\n",
    "sgld_grads = grads\n",
    "\n",
    "N = sgld_samples.shape[0]\n",
    "d = sgld_samples[0].shape[0]\n",
    "J = V.shape[0]\n",
    "\n",
    "def imq_kernel(x, y):\n",
    "    c, beta = 1., -0.5\n",
    "    return (c + jnp.dot(x-y, x-y))**beta\n",
    "\n",
    "k_dx = grad(imq_kernel, 0)\n",
    "\n",
    "def xi(x, grad_x, v):\n",
    "    return grad_x*imq_kernel(x,v) + k_dx(x,v)\n",
    "\n",
    "\n",
    "def compute_xi_sum(v):\n",
    "    batch_xi_sam = vmap(xi, in_axes=(0,0, None))\n",
    "    all_xi = batch_xi_sam(sgld_samples, sgld_grads, v)\n",
    "    return jnp.square(all_xi.sum(axis=0)) - jnp.square(all_xi).sum(axis=0)\n",
    "\n",
    "batch_compute_xi_sum = vmap(compute_xi_sum, in_axes=(0,))\n",
    "\n",
    "lesum = jnp.sum(jnp.sum(batch_compute_xi_sum(V), axis=0))\n",
    "le_est = lesum/(d*J*N*(N-1))"
   ]
  },
  {
   "cell_type": "code",
   "execution_count": 12,
   "id": "1fe02fbe",
   "metadata": {},
   "outputs": [
    {
     "data": {
      "text/plain": [
       "DeviceArray([-0.01490127, -0.02905262,  0.01897729,  0.0462897 ,\n",
       "              0.0708947 ], dtype=float32)"
      ]
     },
     "execution_count": 12,
     "metadata": {},
     "output_type": "execute_result"
    }
   ],
   "source": [
    "xi(sgld_samples[0], sgld_grads[0], V[0])"
   ]
  },
  {
   "cell_type": "code",
   "execution_count": 15,
   "id": "708da767",
   "metadata": {},
   "outputs": [],
   "source": [
    "batch_xi_sam = vmap(xi, in_axes=(0,0, None))\n",
    "all_xi = batch_xi_sam(sgld_samples, sgld_grads, V[0])"
   ]
  },
  {
   "cell_type": "code",
   "execution_count": 23,
   "id": "4239a7f8",
   "metadata": {},
   "outputs": [
    {
     "data": {
      "text/plain": [
       "DeviceArray([-0.13566822, -0.18629603, -0.15436825,  0.11876743,\n",
       "             -0.12753035], dtype=float32)"
      ]
     },
     "execution_count": 23,
     "metadata": {},
     "output_type": "execute_result"
    }
   ],
   "source": [
    "jnp.square(all_xi.sum(axis=0)) - jnp.square(all_xi).sum(axis=0)"
   ]
  },
  {
   "cell_type": "code",
   "execution_count": 24,
   "id": "d4febfca",
   "metadata": {},
   "outputs": [
    {
     "data": {
      "text/plain": [
       "DeviceArray([0.15292655, 0.19166648, 0.19066176, 0.18643297, 0.20289975],            dtype=float32)"
      ]
     },
     "execution_count": 24,
     "metadata": {},
     "output_type": "execute_result"
    }
   ],
   "source": [
    "jnp.square(all_xi).sum(axis=0)"
   ]
  },
  {
   "cell_type": "code",
   "execution_count": 26,
   "id": "48951bfe",
   "metadata": {},
   "outputs": [
    {
     "data": {
      "text/plain": [
       "(10, 5)"
      ]
     },
     "execution_count": 26,
     "metadata": {},
     "output_type": "execute_result"
    }
   ],
   "source": [
    "batch_compute_xi_sum(V).shape"
   ]
  },
  {
   "cell_type": "code",
   "execution_count": 30,
   "id": "5dd2108f",
   "metadata": {},
   "outputs": [
    {
     "data": {
      "text/plain": [
       "DeviceArray(-4.8881726, dtype=float32)"
      ]
     },
     "execution_count": 30,
     "metadata": {},
     "output_type": "execute_result"
    }
   ],
   "source": [
    "jnp.sum(batch_compute_xi_sum(V), axis=0).sum()"
   ]
  },
  {
   "cell_type": "code",
   "execution_count": 31,
   "id": "9c22703a",
   "metadata": {},
   "outputs": [
    {
     "data": {
      "text/plain": [
       "DeviceArray(-4.888172, dtype=float32)"
      ]
     },
     "execution_count": 31,
     "metadata": {},
     "output_type": "execute_result"
    }
   ],
   "source": [
    "batch_compute_xi_sum(V).sum()"
   ]
  },
  {
   "cell_type": "code",
   "execution_count": null,
   "id": "90239d96",
   "metadata": {},
   "outputs": [],
   "source": []
  },
  {
   "cell_type": "markdown",
   "id": "885c43b2",
   "metadata": {},
   "source": [
    "## compare to O(N^2)"
   ]
  },
  {
   "cell_type": "code",
   "execution_count": 19,
   "id": "f2d1b382",
   "metadata": {},
   "outputs": [
    {
     "data": {
      "text/plain": [
       "DeviceArray([-0.01649672, -0.03237094,  0.02123744,  0.05179383,\n",
       "              0.07955745], dtype=float32)"
      ]
     },
     "execution_count": 19,
     "metadata": {},
     "output_type": "execute_result"
    }
   ],
   "source": [
    "xi(sgld_samples[1], sgld_grads[0], V[0])"
   ]
  },
  {
   "cell_type": "code",
   "execution_count": 53,
   "id": "4155400c",
   "metadata": {},
   "outputs": [],
   "source": [
    "@jit\n",
    "def FSSD_O2(samples, grads, V):\n",
    "    \"FSSD with naive O(N^2) implementation\"\n",
    "    \n",
    "    def kernel_xi(x, dx, y, dy, v):\n",
    "        return jnp.dot(xi(x,dx,v), xi(y,dy,v))\n",
    "    \n",
    "    def sum_gram_mat(v):\n",
    "        \"Sum gram matrix minus the diagonal\"\n",
    "        le_sum = jnp.sum(vmap(lambda samples2, grads2:\n",
    "                          vmap(lambda samples1, grads1:\n",
    "                               kernel_xi(samples1, grads1, samples2, grads2, v))(sgld_samples, sgld_grads))(sgld_samples, sgld_grads))\n",
    "\n",
    "        le_sum -= jnp.sum(vmap(kernel_xi, in_axes=(0,0,0,0,None))(sgld_samples, sgld_grads,sgld_samples, sgld_grads, v))\n",
    "        return le_sum\n",
    "    \n",
    "    return jnp.sum(vmap(sum_gram_mat)(V))/(N*(N-1)*d*J)\n"
   ]
  },
  {
   "cell_type": "code",
   "execution_count": 54,
   "id": "2358bf9f",
   "metadata": {},
   "outputs": [
    {
     "data": {
      "text/plain": [
       "Buffer(-9.875096e-06, dtype=float32)"
      ]
     },
     "execution_count": 54,
     "metadata": {},
     "output_type": "execute_result"
    }
   ],
   "source": [
    "FSSD(sgld_samples, sgld_grads, V)"
   ]
  },
  {
   "cell_type": "code",
   "execution_count": 50,
   "id": "99fe6902",
   "metadata": {},
   "outputs": [
    {
     "data": {
      "text/plain": [
       "Buffer(-9.875097e-06, dtype=float32)"
      ]
     },
     "execution_count": 50,
     "metadata": {},
     "output_type": "execute_result"
    }
   ],
   "source": [
    "FSSD_O2(sgld_samples, sgld_grads, V)"
   ]
  },
  {
   "cell_type": "code",
   "execution_count": null,
   "id": "b0faf8f0",
   "metadata": {},
   "outputs": [],
   "source": []
  },
  {
   "cell_type": "code",
   "execution_count": 22,
   "id": "718818d5",
   "metadata": {},
   "outputs": [
    {
     "data": {
      "text/plain": [
       "DeviceArray(-0.00062116, dtype=float32)"
      ]
     },
     "execution_count": 22,
     "metadata": {},
     "output_type": "execute_result"
    }
   ],
   "source": [
    "kernel_xi(sgld_samples[0], sgld_grads[0], sgld_samples[5], sgld_grads[5], V[0])"
   ]
  },
  {
   "cell_type": "code",
   "execution_count": 32,
   "id": "fab5930b",
   "metadata": {},
   "outputs": [],
   "source": [
    "def sum_gram_mat(v):\n",
    "    le_sum = jnp.sum(vmap(lambda samples2, grads2:\n",
    "                      vmap(lambda samples1, grads1:\n",
    "                           kernel_xi(samples1, grads1, samples2, grads2, v))(sgld_samples, sgld_grads))(sgld_samples, sgld_grads))\n",
    "\n",
    "    le_sum -= jnp.sum(vmap(kernel_xi, in_axes=(0,0,0,0,None))(sgld_samples, sgld_grads,sgld_samples, sgld_grads, v))\n",
    "    return le_sum\n",
    "\n"
   ]
  },
  {
   "cell_type": "code",
   "execution_count": 36,
   "id": "9af0d593",
   "metadata": {},
   "outputs": [
    {
     "data": {
      "text/plain": [
       "DeviceArray(-0.5442765, dtype=float32)"
      ]
     },
     "execution_count": 36,
     "metadata": {},
     "output_type": "execute_result"
    }
   ],
   "source": [
    "\n",
    "sum_gram_mat(V[7])"
   ]
  },
  {
   "cell_type": "code",
   "execution_count": 39,
   "id": "c5646997",
   "metadata": {},
   "outputs": [
    {
     "data": {
      "text/plain": [
       "DeviceArray(-9.875096e-06, dtype=float32)"
      ]
     },
     "execution_count": 39,
     "metadata": {},
     "output_type": "execute_result"
    }
   ],
   "source": [
    "jnp.sum(vmap(sum_gram_mat)(V))/(N*(N-1)*d*J)"
   ]
  },
  {
   "cell_type": "code",
   "execution_count": null,
   "id": "99b80619",
   "metadata": {},
   "outputs": [],
   "source": []
  },
  {
   "cell_type": "code",
   "execution_count": null,
   "id": "9f496d75",
   "metadata": {},
   "outputs": [],
   "source": []
  },
  {
   "cell_type": "markdown",
   "id": "a62af273",
   "metadata": {},
   "source": [
    "### for a single dimension"
   ]
  },
  {
   "cell_type": "code",
   "execution_count": 34,
   "id": "6cf202fe",
   "metadata": {},
   "outputs": [],
   "source": [
    "sam_l = sgld_samples[:,0]\n",
    "grad_l = sgld_grads[:,0]\n",
    "\n",
    "def my_kernel_1d(x, y, dx, dy, v):\n",
    "    return xi(x,dx,v)[0] * xi(y,dy,v)[0]"
   ]
  },
  {
   "cell_type": "code",
   "execution_count": 37,
   "id": "3776ea7d",
   "metadata": {},
   "outputs": [
    {
     "data": {
      "text/plain": [
       "DeviceArray(0.00020165, dtype=float32)"
      ]
     },
     "execution_count": 37,
     "metadata": {},
     "output_type": "execute_result"
    }
   ],
   "source": [
    "my_kernel_1d(sgld_samples[0], sgld_samples[1], sgld_grads[0], sgld_grads[1], V[0])"
   ]
  },
  {
   "cell_type": "code",
   "execution_count": 46,
   "id": "3b51d2c9",
   "metadata": {
    "collapsed": true
   },
   "outputs": [
    {
     "name": "stdout",
     "output_type": "stream",
     "text": [
      "it 0/100\n",
      "it 1/100\n",
      "it 2/100\n",
      "it 3/100\n",
      "it 4/100\n",
      "it 5/100\n",
      "it 6/100\n",
      "it 7/100\n"
     ]
    },
    {
     "ename": "KeyboardInterrupt",
     "evalue": "",
     "output_type": "error",
     "traceback": [
      "\u001b[0;31m---------------------------------------------------------------------------\u001b[0m",
      "\u001b[0;31mKeyboardInterrupt\u001b[0m                         Traceback (most recent call last)",
      "\u001b[0;32m<ipython-input-46-82266296e3db>\u001b[0m in \u001b[0;36m<module>\u001b[0;34m\u001b[0m\n\u001b[1;32m      4\u001b[0m     \u001b[0mprint\u001b[0m\u001b[0;34m(\u001b[0m\u001b[0;34mf\"it {i}/{N}\"\u001b[0m\u001b[0;34m)\u001b[0m\u001b[0;34m\u001b[0m\u001b[0;34m\u001b[0m\u001b[0m\n\u001b[1;32m      5\u001b[0m     \u001b[0;32mfor\u001b[0m \u001b[0mj\u001b[0m \u001b[0;32min\u001b[0m \u001b[0mrange\u001b[0m\u001b[0;34m(\u001b[0m\u001b[0mN\u001b[0m\u001b[0;34m)\u001b[0m\u001b[0;34m:\u001b[0m\u001b[0;34m\u001b[0m\u001b[0;34m\u001b[0m\u001b[0m\n\u001b[0;32m----> 6\u001b[0;31m         \u001b[0mmysum\u001b[0m \u001b[0;34m+=\u001b[0m \u001b[0mmy_kernel_1d\u001b[0m\u001b[0;34m(\u001b[0m\u001b[0msgld_samples\u001b[0m\u001b[0;34m[\u001b[0m\u001b[0mi\u001b[0m\u001b[0;34m]\u001b[0m\u001b[0;34m,\u001b[0m \u001b[0msgld_samples\u001b[0m\u001b[0;34m[\u001b[0m\u001b[0mj\u001b[0m\u001b[0;34m]\u001b[0m\u001b[0;34m,\u001b[0m \u001b[0msgld_grads\u001b[0m\u001b[0;34m[\u001b[0m\u001b[0mi\u001b[0m\u001b[0;34m]\u001b[0m\u001b[0;34m,\u001b[0m \u001b[0msgld_grads\u001b[0m\u001b[0;34m[\u001b[0m\u001b[0mj\u001b[0m\u001b[0;34m]\u001b[0m\u001b[0;34m,\u001b[0m \u001b[0mV\u001b[0m\u001b[0;34m[\u001b[0m\u001b[0;36m0\u001b[0m\u001b[0;34m]\u001b[0m\u001b[0;34m)\u001b[0m\u001b[0;34m\u001b[0m\u001b[0;34m\u001b[0m\u001b[0m\n\u001b[0m\u001b[1;32m      7\u001b[0m \u001b[0;34m\u001b[0m\u001b[0m\n\u001b[1;32m      8\u001b[0m \u001b[0mprint\u001b[0m\u001b[0;34m(\u001b[0m\u001b[0mmysum\u001b[0m\u001b[0;34m)\u001b[0m\u001b[0;34m\u001b[0m\u001b[0;34m\u001b[0m\u001b[0m\n",
      "\u001b[0;32m<ipython-input-34-f336b7a4cf22>\u001b[0m in \u001b[0;36mmy_kernel_1d\u001b[0;34m(x, y, dx, dy, v)\u001b[0m\n\u001b[1;32m      3\u001b[0m \u001b[0;34m\u001b[0m\u001b[0m\n\u001b[1;32m      4\u001b[0m \u001b[0;32mdef\u001b[0m \u001b[0mmy_kernel_1d\u001b[0m\u001b[0;34m(\u001b[0m\u001b[0mx\u001b[0m\u001b[0;34m,\u001b[0m \u001b[0my\u001b[0m\u001b[0;34m,\u001b[0m \u001b[0mdx\u001b[0m\u001b[0;34m,\u001b[0m \u001b[0mdy\u001b[0m\u001b[0;34m,\u001b[0m \u001b[0mv\u001b[0m\u001b[0;34m)\u001b[0m\u001b[0;34m:\u001b[0m\u001b[0;34m\u001b[0m\u001b[0;34m\u001b[0m\u001b[0m\n\u001b[0;32m----> 5\u001b[0;31m     \u001b[0;32mreturn\u001b[0m \u001b[0mxi\u001b[0m\u001b[0;34m(\u001b[0m\u001b[0mx\u001b[0m\u001b[0;34m,\u001b[0m\u001b[0mdx\u001b[0m\u001b[0;34m,\u001b[0m\u001b[0mv\u001b[0m\u001b[0;34m)\u001b[0m\u001b[0;34m[\u001b[0m\u001b[0;36m0\u001b[0m\u001b[0;34m]\u001b[0m \u001b[0;34m*\u001b[0m \u001b[0mxi\u001b[0m\u001b[0;34m(\u001b[0m\u001b[0my\u001b[0m\u001b[0;34m,\u001b[0m\u001b[0mdy\u001b[0m\u001b[0;34m,\u001b[0m\u001b[0mv\u001b[0m\u001b[0;34m)\u001b[0m\u001b[0;34m[\u001b[0m\u001b[0;36m0\u001b[0m\u001b[0;34m]\u001b[0m\u001b[0;34m\u001b[0m\u001b[0;34m\u001b[0m\u001b[0m\n\u001b[0m",
      "\u001b[0;32m<ipython-input-7-f4f1dacece34>\u001b[0m in \u001b[0;36mxi\u001b[0;34m(x, grad_x, v)\u001b[0m\n\u001b[1;32m     13\u001b[0m \u001b[0;34m\u001b[0m\u001b[0m\n\u001b[1;32m     14\u001b[0m \u001b[0;32mdef\u001b[0m \u001b[0mxi\u001b[0m\u001b[0;34m(\u001b[0m\u001b[0mx\u001b[0m\u001b[0;34m,\u001b[0m \u001b[0mgrad_x\u001b[0m\u001b[0;34m,\u001b[0m \u001b[0mv\u001b[0m\u001b[0;34m)\u001b[0m\u001b[0;34m:\u001b[0m\u001b[0;34m\u001b[0m\u001b[0;34m\u001b[0m\u001b[0m\n\u001b[0;32m---> 15\u001b[0;31m     \u001b[0;32mreturn\u001b[0m \u001b[0mgrad_x\u001b[0m\u001b[0;34m*\u001b[0m\u001b[0mimq_kernel\u001b[0m\u001b[0;34m(\u001b[0m\u001b[0mx\u001b[0m\u001b[0;34m,\u001b[0m\u001b[0mv\u001b[0m\u001b[0;34m)\u001b[0m \u001b[0;34m+\u001b[0m \u001b[0mk_dx\u001b[0m\u001b[0;34m(\u001b[0m\u001b[0mx\u001b[0m\u001b[0;34m,\u001b[0m\u001b[0mv\u001b[0m\u001b[0;34m)\u001b[0m\u001b[0;34m\u001b[0m\u001b[0;34m\u001b[0m\u001b[0m\n\u001b[0m\u001b[1;32m     16\u001b[0m \u001b[0;34m\u001b[0m\u001b[0m\n\u001b[1;32m     17\u001b[0m \u001b[0;34m\u001b[0m\u001b[0m\n",
      "\u001b[0;32m~/Documents/research/papers/SGMCMC_bandit_tuning/venv/lib/python3.8/site-packages/jax/_src/traceback_util.py\u001b[0m in \u001b[0;36mreraise_with_filtered_traceback\u001b[0;34m(*args, **kwargs)\u001b[0m\n\u001b[1;32m    137\u001b[0m   \u001b[0;32mdef\u001b[0m \u001b[0mreraise_with_filtered_traceback\u001b[0m\u001b[0;34m(\u001b[0m\u001b[0;34m*\u001b[0m\u001b[0margs\u001b[0m\u001b[0;34m,\u001b[0m \u001b[0;34m**\u001b[0m\u001b[0mkwargs\u001b[0m\u001b[0;34m)\u001b[0m\u001b[0;34m:\u001b[0m\u001b[0;34m\u001b[0m\u001b[0;34m\u001b[0m\u001b[0m\n\u001b[1;32m    138\u001b[0m     \u001b[0;32mtry\u001b[0m\u001b[0;34m:\u001b[0m\u001b[0;34m\u001b[0m\u001b[0;34m\u001b[0m\u001b[0m\n\u001b[0;32m--> 139\u001b[0;31m       \u001b[0;32mreturn\u001b[0m \u001b[0mfun\u001b[0m\u001b[0;34m(\u001b[0m\u001b[0;34m*\u001b[0m\u001b[0margs\u001b[0m\u001b[0;34m,\u001b[0m \u001b[0;34m**\u001b[0m\u001b[0mkwargs\u001b[0m\u001b[0;34m)\u001b[0m\u001b[0;34m\u001b[0m\u001b[0;34m\u001b[0m\u001b[0m\n\u001b[0m\u001b[1;32m    140\u001b[0m     \u001b[0;32mexcept\u001b[0m \u001b[0mException\u001b[0m \u001b[0;32mas\u001b[0m \u001b[0me\u001b[0m\u001b[0;34m:\u001b[0m\u001b[0;34m\u001b[0m\u001b[0;34m\u001b[0m\u001b[0m\n\u001b[1;32m    141\u001b[0m       \u001b[0;32mif\u001b[0m \u001b[0;32mnot\u001b[0m \u001b[0mis_under_reraiser\u001b[0m\u001b[0;34m(\u001b[0m\u001b[0me\u001b[0m\u001b[0;34m)\u001b[0m\u001b[0;34m:\u001b[0m\u001b[0;34m\u001b[0m\u001b[0;34m\u001b[0m\u001b[0m\n",
      "\u001b[0;32m~/Documents/research/papers/SGMCMC_bandit_tuning/venv/lib/python3.8/site-packages/jax/api.py\u001b[0m in \u001b[0;36mgrad_f\u001b[0;34m(*args, **kwargs)\u001b[0m\n\u001b[1;32m    758\u001b[0m   \u001b[0;34m@\u001b[0m\u001b[0mapi_boundary\u001b[0m\u001b[0;34m\u001b[0m\u001b[0;34m\u001b[0m\u001b[0m\n\u001b[1;32m    759\u001b[0m   \u001b[0;32mdef\u001b[0m \u001b[0mgrad_f\u001b[0m\u001b[0;34m(\u001b[0m\u001b[0;34m*\u001b[0m\u001b[0margs\u001b[0m\u001b[0;34m,\u001b[0m \u001b[0;34m**\u001b[0m\u001b[0mkwargs\u001b[0m\u001b[0;34m)\u001b[0m\u001b[0;34m:\u001b[0m\u001b[0;34m\u001b[0m\u001b[0;34m\u001b[0m\u001b[0m\n\u001b[0;32m--> 760\u001b[0;31m     \u001b[0m_\u001b[0m\u001b[0;34m,\u001b[0m \u001b[0mg\u001b[0m \u001b[0;34m=\u001b[0m \u001b[0mvalue_and_grad_f\u001b[0m\u001b[0;34m(\u001b[0m\u001b[0;34m*\u001b[0m\u001b[0margs\u001b[0m\u001b[0;34m,\u001b[0m \u001b[0;34m**\u001b[0m\u001b[0mkwargs\u001b[0m\u001b[0;34m)\u001b[0m\u001b[0;34m\u001b[0m\u001b[0;34m\u001b[0m\u001b[0m\n\u001b[0m\u001b[1;32m    761\u001b[0m     \u001b[0;32mreturn\u001b[0m \u001b[0mg\u001b[0m\u001b[0;34m\u001b[0m\u001b[0;34m\u001b[0m\u001b[0m\n\u001b[1;32m    762\u001b[0m \u001b[0;34m\u001b[0m\u001b[0m\n",
      "\u001b[0;32m~/Documents/research/papers/SGMCMC_bandit_tuning/venv/lib/python3.8/site-packages/jax/_src/traceback_util.py\u001b[0m in \u001b[0;36mreraise_with_filtered_traceback\u001b[0;34m(*args, **kwargs)\u001b[0m\n\u001b[1;32m    137\u001b[0m   \u001b[0;32mdef\u001b[0m \u001b[0mreraise_with_filtered_traceback\u001b[0m\u001b[0;34m(\u001b[0m\u001b[0;34m*\u001b[0m\u001b[0margs\u001b[0m\u001b[0;34m,\u001b[0m \u001b[0;34m**\u001b[0m\u001b[0mkwargs\u001b[0m\u001b[0;34m)\u001b[0m\u001b[0;34m:\u001b[0m\u001b[0;34m\u001b[0m\u001b[0;34m\u001b[0m\u001b[0m\n\u001b[1;32m    138\u001b[0m     \u001b[0;32mtry\u001b[0m\u001b[0;34m:\u001b[0m\u001b[0;34m\u001b[0m\u001b[0;34m\u001b[0m\u001b[0m\n\u001b[0;32m--> 139\u001b[0;31m       \u001b[0;32mreturn\u001b[0m \u001b[0mfun\u001b[0m\u001b[0;34m(\u001b[0m\u001b[0;34m*\u001b[0m\u001b[0margs\u001b[0m\u001b[0;34m,\u001b[0m \u001b[0;34m**\u001b[0m\u001b[0mkwargs\u001b[0m\u001b[0;34m)\u001b[0m\u001b[0;34m\u001b[0m\u001b[0;34m\u001b[0m\u001b[0m\n\u001b[0m\u001b[1;32m    140\u001b[0m     \u001b[0;32mexcept\u001b[0m \u001b[0mException\u001b[0m \u001b[0;32mas\u001b[0m \u001b[0me\u001b[0m\u001b[0;34m:\u001b[0m\u001b[0;34m\u001b[0m\u001b[0;34m\u001b[0m\u001b[0m\n\u001b[1;32m    141\u001b[0m       \u001b[0;32mif\u001b[0m \u001b[0;32mnot\u001b[0m \u001b[0mis_under_reraiser\u001b[0m\u001b[0;34m(\u001b[0m\u001b[0me\u001b[0m\u001b[0;34m)\u001b[0m\u001b[0;34m:\u001b[0m\u001b[0;34m\u001b[0m\u001b[0;34m\u001b[0m\u001b[0m\n",
      "\u001b[0;32m~/Documents/research/papers/SGMCMC_bandit_tuning/venv/lib/python3.8/site-packages/jax/api.py\u001b[0m in \u001b[0;36mvalue_and_grad_f\u001b[0;34m(*args, **kwargs)\u001b[0m\n\u001b[1;32m    827\u001b[0m     \u001b[0mdtype\u001b[0m \u001b[0;34m=\u001b[0m \u001b[0mdtypes\u001b[0m\u001b[0;34m.\u001b[0m\u001b[0mresult_type\u001b[0m\u001b[0;34m(\u001b[0m\u001b[0mans\u001b[0m\u001b[0;34m)\u001b[0m\u001b[0;34m\u001b[0m\u001b[0;34m\u001b[0m\u001b[0m\n\u001b[1;32m    828\u001b[0m     \u001b[0mtree_map\u001b[0m\u001b[0;34m(\u001b[0m\u001b[0mpartial\u001b[0m\u001b[0;34m(\u001b[0m\u001b[0m_check_output_dtype_grad\u001b[0m\u001b[0;34m,\u001b[0m \u001b[0mholomorphic\u001b[0m\u001b[0;34m)\u001b[0m\u001b[0;34m,\u001b[0m \u001b[0mans\u001b[0m\u001b[0;34m)\u001b[0m\u001b[0;34m\u001b[0m\u001b[0;34m\u001b[0m\u001b[0m\n\u001b[0;32m--> 829\u001b[0;31m     \u001b[0mg\u001b[0m \u001b[0;34m=\u001b[0m \u001b[0mvjp_py\u001b[0m\u001b[0;34m(\u001b[0m\u001b[0mnp\u001b[0m\u001b[0;34m.\u001b[0m\u001b[0mones\u001b[0m\u001b[0;34m(\u001b[0m\u001b[0;34m(\u001b[0m\u001b[0;34m)\u001b[0m\u001b[0;34m,\u001b[0m \u001b[0mdtype\u001b[0m\u001b[0;34m=\u001b[0m\u001b[0mdtype\u001b[0m\u001b[0;34m)\u001b[0m\u001b[0;34m)\u001b[0m\u001b[0;34m\u001b[0m\u001b[0;34m\u001b[0m\u001b[0m\n\u001b[0m\u001b[1;32m    830\u001b[0m     \u001b[0mg\u001b[0m \u001b[0;34m=\u001b[0m \u001b[0mg\u001b[0m\u001b[0;34m[\u001b[0m\u001b[0;36m0\u001b[0m\u001b[0;34m]\u001b[0m \u001b[0;32mif\u001b[0m \u001b[0misinstance\u001b[0m\u001b[0;34m(\u001b[0m\u001b[0margnums\u001b[0m\u001b[0;34m,\u001b[0m \u001b[0mint\u001b[0m\u001b[0;34m)\u001b[0m \u001b[0;32melse\u001b[0m \u001b[0mg\u001b[0m\u001b[0;34m\u001b[0m\u001b[0;34m\u001b[0m\u001b[0m\n\u001b[1;32m    831\u001b[0m     \u001b[0;32mif\u001b[0m \u001b[0;32mnot\u001b[0m \u001b[0mhas_aux\u001b[0m\u001b[0;34m:\u001b[0m\u001b[0;34m\u001b[0m\u001b[0;34m\u001b[0m\u001b[0m\n",
      "\u001b[0;32m~/Documents/research/papers/SGMCMC_bandit_tuning/venv/lib/python3.8/site-packages/jax/api.py\u001b[0m in \u001b[0;36m_vjp_pullback_wrapper\u001b[0;34m(cotangent_dtypes, io_tree, fun, py_args)\u001b[0m\n\u001b[1;32m   1814\u001b[0m           \u001b[0;34mf\"the expected tangent type ({expected_tangent_dtype}) of corresponding primal output \"\u001b[0m\u001b[0;34m\u001b[0m\u001b[0;34m\u001b[0m\u001b[0m\n\u001b[1;32m   1815\u001b[0m           f\"with dtype {_dtype(arg)}.\")\n\u001b[0;32m-> 1816\u001b[0;31m   \u001b[0mans\u001b[0m \u001b[0;34m=\u001b[0m \u001b[0mfun\u001b[0m\u001b[0;34m(\u001b[0m\u001b[0;34m*\u001b[0m\u001b[0margs\u001b[0m\u001b[0;34m)\u001b[0m\u001b[0;34m\u001b[0m\u001b[0;34m\u001b[0m\u001b[0m\n\u001b[0m\u001b[1;32m   1817\u001b[0m   \u001b[0;32mreturn\u001b[0m \u001b[0mtree_unflatten\u001b[0m\u001b[0;34m(\u001b[0m\u001b[0mout_tree\u001b[0m\u001b[0;34m,\u001b[0m \u001b[0mans\u001b[0m\u001b[0;34m)\u001b[0m\u001b[0;34m\u001b[0m\u001b[0;34m\u001b[0m\u001b[0m\n\u001b[1;32m   1818\u001b[0m \u001b[0;34m\u001b[0m\u001b[0m\n",
      "\u001b[0;32m~/Documents/research/papers/SGMCMC_bandit_tuning/venv/lib/python3.8/site-packages/jax/interpreters/ad.py\u001b[0m in \u001b[0;36munbound_vjp\u001b[0;34m(pvals, jaxpr, consts, *cts)\u001b[0m\n\u001b[1;32m    119\u001b[0m     \u001b[0mcts\u001b[0m \u001b[0;34m=\u001b[0m \u001b[0mtuple\u001b[0m\u001b[0;34m(\u001b[0m\u001b[0mmap\u001b[0m\u001b[0;34m(\u001b[0m\u001b[0mignore_consts\u001b[0m\u001b[0;34m,\u001b[0m \u001b[0mcts\u001b[0m\u001b[0;34m,\u001b[0m \u001b[0mpvals\u001b[0m\u001b[0;34m)\u001b[0m\u001b[0;34m)\u001b[0m\u001b[0;34m\u001b[0m\u001b[0;34m\u001b[0m\u001b[0m\n\u001b[1;32m    120\u001b[0m     \u001b[0mdummy_args\u001b[0m \u001b[0;34m=\u001b[0m \u001b[0;34m[\u001b[0m\u001b[0mUndefinedPrimal\u001b[0m\u001b[0;34m(\u001b[0m\u001b[0mv\u001b[0m\u001b[0;34m.\u001b[0m\u001b[0maval\u001b[0m\u001b[0;34m)\u001b[0m \u001b[0;32mfor\u001b[0m \u001b[0mv\u001b[0m \u001b[0;32min\u001b[0m \u001b[0mjaxpr\u001b[0m\u001b[0;34m.\u001b[0m\u001b[0minvars\u001b[0m\u001b[0;34m]\u001b[0m\u001b[0;34m\u001b[0m\u001b[0;34m\u001b[0m\u001b[0m\n\u001b[0;32m--> 121\u001b[0;31m     \u001b[0marg_cts\u001b[0m \u001b[0;34m=\u001b[0m \u001b[0mbackward_pass\u001b[0m\u001b[0;34m(\u001b[0m\u001b[0mjaxpr\u001b[0m\u001b[0;34m,\u001b[0m \u001b[0mconsts\u001b[0m\u001b[0;34m,\u001b[0m \u001b[0mdummy_args\u001b[0m\u001b[0;34m,\u001b[0m \u001b[0mcts\u001b[0m\u001b[0;34m)\u001b[0m\u001b[0;34m\u001b[0m\u001b[0;34m\u001b[0m\u001b[0m\n\u001b[0m\u001b[1;32m    122\u001b[0m     \u001b[0;32mreturn\u001b[0m \u001b[0mmap\u001b[0m\u001b[0;34m(\u001b[0m\u001b[0minstantiate_zeros\u001b[0m\u001b[0;34m,\u001b[0m \u001b[0marg_cts\u001b[0m\u001b[0;34m)\u001b[0m\u001b[0;34m\u001b[0m\u001b[0;34m\u001b[0m\u001b[0m\n\u001b[1;32m    123\u001b[0m \u001b[0;34m\u001b[0m\u001b[0m\n",
      "\u001b[0;32m~/Documents/research/papers/SGMCMC_bandit_tuning/venv/lib/python3.8/site-packages/jax/interpreters/ad.py\u001b[0m in \u001b[0;36mbackward_pass\u001b[0;34m(jaxpr, consts, primals_in, cotangents_in)\u001b[0m\n\u001b[1;32m    180\u001b[0m       \u001b[0;32massert\u001b[0m \u001b[0mv\u001b[0m\u001b[0;34m.\u001b[0m\u001b[0maval\u001b[0m\u001b[0;34m.\u001b[0m\u001b[0mstrip_weak_type\u001b[0m\u001b[0;34m(\u001b[0m\u001b[0;34m)\u001b[0m \u001b[0;34m==\u001b[0m \u001b[0mjoined_aval\u001b[0m\u001b[0;34m,\u001b[0m \u001b[0;34m(\u001b[0m\u001b[0mprim\u001b[0m\u001b[0;34m,\u001b[0m \u001b[0mv\u001b[0m\u001b[0;34m.\u001b[0m\u001b[0maval\u001b[0m\u001b[0;34m,\u001b[0m \u001b[0mct_aval\u001b[0m\u001b[0;34m)\u001b[0m\u001b[0;34m\u001b[0m\u001b[0;34m\u001b[0m\u001b[0m\n\u001b[1;32m    181\u001b[0m \u001b[0;34m\u001b[0m\u001b[0m\n\u001b[0;32m--> 182\u001b[0;31m   \u001b[0;32mdef\u001b[0m \u001b[0mread_cotangent\u001b[0m\u001b[0;34m(\u001b[0m\u001b[0mv\u001b[0m\u001b[0;34m)\u001b[0m\u001b[0;34m:\u001b[0m\u001b[0;34m\u001b[0m\u001b[0;34m\u001b[0m\u001b[0m\n\u001b[0m\u001b[1;32m    183\u001b[0m     \u001b[0;32mreturn\u001b[0m \u001b[0mct_env\u001b[0m\u001b[0;34m.\u001b[0m\u001b[0mget\u001b[0m\u001b[0;34m(\u001b[0m\u001b[0mv\u001b[0m\u001b[0;34m,\u001b[0m \u001b[0mZero\u001b[0m\u001b[0;34m(\u001b[0m\u001b[0mv\u001b[0m\u001b[0;34m.\u001b[0m\u001b[0maval\u001b[0m\u001b[0;34m)\u001b[0m\u001b[0;34m)\u001b[0m\u001b[0;34m\u001b[0m\u001b[0;34m\u001b[0m\u001b[0m\n\u001b[1;32m    184\u001b[0m \u001b[0;34m\u001b[0m\u001b[0m\n",
      "\u001b[0;31mKeyboardInterrupt\u001b[0m: "
     ]
    }
   ],
   "source": [
    "mysum = 0.\n",
    "\n",
    "for i in range(N):\n",
    "    print(f\"it {i}/{N}\")\n",
    "    for j in range(N):\n",
    "        mysum += my_kernel_1d(sgld_samples[i], sgld_samples[j], sgld_grads[i], sgld_grads[j], V[0])\n",
    "        \n",
    "print(mysum)  "
   ]
  },
  {
   "cell_type": "code",
   "execution_count": null,
   "id": "205a7524",
   "metadata": {},
   "outputs": [],
   "source": []
  },
  {
   "cell_type": "code",
   "execution_count": 102,
   "id": "134dc264",
   "metadata": {},
   "outputs": [],
   "source": [
    "le_sum = jnp.sum(vmap(lambda samples2, grads2:\n",
    "                  vmap(lambda samples1, grads1:\n",
    "                       my_kernel_1d(samples1, samples2, grads1, grads2, V[0]))(sgld_samples, sgld_grads))(sgld_samples, sgld_grads))\n",
    "\n",
    "# le_sum -= jnp.sum(vmap(my_kernel_1d, in_axes=(0,0,0,0,None))(sgld_samples, sgld_grads,sgld_samples, sgld_grads, V[0]))\n",
    "\n"
   ]
  },
  {
   "cell_type": "code",
   "execution_count": 103,
   "id": "4e3a8be2",
   "metadata": {},
   "outputs": [
    {
     "data": {
      "text/plain": [
       "DeviceArray(0.15292656, dtype=float32)"
      ]
     },
     "execution_count": 103,
     "metadata": {},
     "output_type": "execute_result"
    }
   ],
   "source": [
    "mymat = vmap(lambda samples2, grads2:\n",
    "                  vmap(lambda samples1, grads1:\n",
    "                       my_kernel_1d(samples1, samples2, grads1, grads2, V[0]))(sgld_samples, sgld_grads))(sgld_samples, sgld_grads)\n",
    "\n",
    "jnp.diag(mymat).sum()"
   ]
  },
  {
   "cell_type": "code",
   "execution_count": 104,
   "id": "5bea45e4",
   "metadata": {
    "scrolled": true
   },
   "outputs": [
    {
     "data": {
      "text/plain": [
       "DeviceArray(0.01725833, dtype=float32)"
      ]
     },
     "execution_count": 104,
     "metadata": {},
     "output_type": "execute_result"
    }
   ],
   "source": [
    "le_sum"
   ]
  },
  {
   "cell_type": "code",
   "execution_count": null,
   "id": "f7f0e3fd",
   "metadata": {},
   "outputs": [],
   "source": [
    "my_kernel_1d(sgld_samples)"
   ]
  },
  {
   "cell_type": "code",
   "execution_count": null,
   "id": "2e95e6b7",
   "metadata": {},
   "outputs": [],
   "source": []
  },
  {
   "cell_type": "code",
   "execution_count": 90,
   "id": "b178e66d",
   "metadata": {},
   "outputs": [
    {
     "name": "stdout",
     "output_type": "stream",
     "text": [
      "0.01725833\n"
     ]
    }
   ],
   "source": [
    "sum_xil = vmap(xi, in_axes=(0,0,None))(sgld_samples, sgld_grads, V[0])[:,0].sum()\n",
    "# print(sum_xil)\n",
    "\n",
    "sq_sum_xil = jnp.square(sum_xil)\n",
    "print(sq_sum_xil)"
   ]
  },
  {
   "cell_type": "code",
   "execution_count": 78,
   "id": "78edf4b6",
   "metadata": {},
   "outputs": [
    {
     "name": "stdout",
     "output_type": "stream",
     "text": [
      "0.15292656\n"
     ]
    }
   ],
   "source": [
    "sum_sq_xil = jnp.sum(jnp.square(vmap(xi, in_axes=(0,0,None))(sgld_samples, sgld_grads, V[0])[:,0]))\n",
    "print(sum_sq_xil)"
   ]
  },
  {
   "cell_type": "code",
   "execution_count": 101,
   "id": "37d65e74",
   "metadata": {},
   "outputs": [
    {
     "data": {
      "text/plain": [
       "DeviceArray(0.15292656, dtype=float32)"
      ]
     },
     "execution_count": 101,
     "metadata": {},
     "output_type": "execute_result"
    }
   ],
   "source": [
    "jnp.sum(vmap(my_kernel_1d, in_axes=(0,0,0,0,None))(sgld_samples, sgld_samples, sgld_grads, sgld_grads, V[0]))"
   ]
  },
  {
   "cell_type": "code",
   "execution_count": null,
   "id": "e83de196",
   "metadata": {},
   "outputs": [],
   "source": []
  },
  {
   "cell_type": "code",
   "execution_count": 79,
   "id": "d2c08b78",
   "metadata": {},
   "outputs": [
    {
     "data": {
      "text/plain": [
       "DeviceArray(-0.13566823, dtype=float32)"
      ]
     },
     "execution_count": 79,
     "metadata": {},
     "output_type": "execute_result"
    }
   ],
   "source": [
    "sq_sum_xil - sum_sq_xil"
   ]
  },
  {
   "cell_type": "code",
   "execution_count": null,
   "id": "3144a8c6",
   "metadata": {},
   "outputs": [],
   "source": []
  },
  {
   "cell_type": "code",
   "execution_count": null,
   "id": "845e9de8",
   "metadata": {},
   "outputs": [],
   "source": []
  },
  {
   "cell_type": "code",
   "execution_count": 8,
   "id": "5ec06663",
   "metadata": {
    "scrolled": true
   },
   "outputs": [
    {
     "data": {
      "text/plain": [
       "DeviceArray(-9.875096e-06, dtype=float32)"
      ]
     },
     "execution_count": 8,
     "metadata": {},
     "output_type": "execute_result"
    }
   ],
   "source": [
    "le_est"
   ]
  },
  {
   "cell_type": "code",
   "execution_count": null,
   "id": "0b90c053",
   "metadata": {},
   "outputs": [],
   "source": []
  },
  {
   "cell_type": "code",
   "execution_count": null,
   "id": "2e82b472",
   "metadata": {},
   "outputs": [],
   "source": []
  },
  {
   "cell_type": "code",
   "execution_count": 11,
   "id": "d0565094",
   "metadata": {},
   "outputs": [
    {
     "data": {
      "text/plain": [
       "DeviceArray(-9.875096e-06, dtype=float32)"
      ]
     },
     "execution_count": 11,
     "metadata": {},
     "output_type": "execute_result"
    }
   ],
   "source": [
    "FSSD(sgld_samples, sgld_grads, V)"
   ]
  },
  {
   "cell_type": "code",
   "execution_count": null,
   "id": "2bcff7e4",
   "metadata": {},
   "outputs": [],
   "source": []
  },
  {
   "cell_type": "code",
   "execution_count": null,
   "id": "c0a0be88",
   "metadata": {},
   "outputs": [],
   "source": []
  },
  {
   "cell_type": "code",
   "execution_count": 39,
   "id": "7d40ff57",
   "metadata": {},
   "outputs": [
    {
     "name": "stdout",
     "output_type": "stream",
     "text": [
      "CPU times: user 1.81 ms, sys: 888 µs, total: 2.7 ms\n",
      "Wall time: 6.38 ms\n"
     ]
    },
    {
     "data": {
      "text/plain": [
       "Buffer(0.29847407, dtype=float32)"
      ]
     },
     "execution_count": 39,
     "metadata": {},
     "output_type": "execute_result"
    }
   ],
   "source": [
    "%time imq_KSD(samples, grads).block_until_ready()"
   ]
  },
  {
   "cell_type": "code",
   "execution_count": 108,
   "id": "41eb6ce2",
   "metadata": {},
   "outputs": [
    {
     "name": "stdout",
     "output_type": "stream",
     "text": [
      "CPU times: user 900 µs, sys: 369 µs, total: 1.27 ms\n",
      "Wall time: 598 µs\n"
     ]
    },
    {
     "data": {
      "text/plain": [
       "Buffer(0.00523681, dtype=float32)"
      ]
     },
     "execution_count": 108,
     "metadata": {},
     "output_type": "execute_result"
    }
   ],
   "source": [
    "%time FSSD_O2(samples, grads, V).block_until_ready()"
   ]
  },
  {
   "cell_type": "code",
   "execution_count": 109,
   "id": "5045e1d0",
   "metadata": {},
   "outputs": [
    {
     "data": {
      "text/plain": [
       "Buffer(-9.875096e-06, dtype=float32)"
      ]
     },
     "execution_count": 109,
     "metadata": {},
     "output_type": "execute_result"
    }
   ],
   "source": [
    "FSSD(samples, grads, V).block_until_ready()"
   ]
  },
  {
   "cell_type": "code",
   "execution_count": null,
   "id": "ed0fb92a",
   "metadata": {},
   "outputs": [],
   "source": []
  },
  {
   "cell_type": "markdown",
   "id": "fa48d170",
   "metadata": {},
   "source": [
    "### linear version"
   ]
  },
  {
   "cell_type": "code",
   "execution_count": 42,
   "id": "1ea56ca0",
   "metadata": {},
   "outputs": [],
   "source": [
    "\n",
    "@jit\n",
    "def FSSD(sgld_samples, sgld_grads, V):\n",
    "    \"\"\"\n",
    "    FSSD with imq kernel\n",
    "    \"\"\"\n",
    "    N = sgld_samples.shape[0]\n",
    "    d = sgld_samples[0].shape[0]\n",
    "    J = V.shape[0]\n",
    "    \n",
    "    def imq_kernel(x, y):\n",
    "        c, beta = 1., -0.5\n",
    "        return (c + jnp.dot(x-y, x-y))**beta\n",
    "\n",
    "    k_dx = grad(imq_kernel, 0)\n",
    "\n",
    "    def xi(x, grad_x, v):\n",
    "        return grad_x*imq_kernel(x,v) + k_dx(x,v)\n",
    "\n",
    "    \n",
    "    def compute_xi_sum(v):\n",
    "        batch_xi_sam = vmap(xi, in_axes=(0,0, None))\n",
    "        all_xi = batch_xi_sam(sgld_samples, sgld_grads, v)\n",
    "        return jnp.square(all_xi.sum(axis=0)) - jnp.square(all_xi).sum(axis=0)\n",
    "\n",
    "    batch_compute_xi_sum = vmap(compute_xi_sum, in_axes=(0,))\n",
    "\n",
    "    lesum = jnp.sum(jnp.sum(batch_compute_xi_sum(V), axis=0))\n",
    "    return lesum/(d*J*N*(N-1))\n",
    "\n",
    "\n",
    "from jax.experimental.optimizers import adam\n",
    "from functools import partial\n",
    "\n",
    "@partial(jit, static_argnums=(3,))\n",
    "def FSSD_opt(sgld_samples, sgld_grads, V, Niter):\n",
    "    \n",
    "    def opt_fssd_fn(v):\n",
    "        return -FSSD(samples, grads, v)\n",
    "\n",
    "    grad_opt_fn = jit(grad(opt_fssd_fn))\n",
    "    init_fn, update, get_params = adam(1e-3)\n",
    "    state = init_fn(V)\n",
    "\n",
    "    def body(state, i):\n",
    "        return update(i, grad_opt_fn(get_params(state)), state), None\n",
    "\n",
    "    state, _ = lax.scan(body, state, jnp.arange(Niter))\n",
    "    V_opt = get_params(state)\n",
    "    return FSSD(sgld_samples, sgld_grads, V_opt)\n",
    "\n",
    "\n",
    "    "
   ]
  },
  {
   "cell_type": "code",
   "execution_count": 2,
   "id": "a4fb915b",
   "metadata": {},
   "outputs": [
    {
     "ename": "NameError",
     "evalue": "name 'd' is not defined",
     "output_type": "error",
     "traceback": [
      "\u001b[0;31m---------------------------------------------------------------------------\u001b[0m",
      "\u001b[0;31mNameError\u001b[0m                                 Traceback (most recent call last)",
      "\u001b[0;32m<ipython-input-2-a85e307a30b9>\u001b[0m in \u001b[0;36m<module>\u001b[0;34m\u001b[0m\n\u001b[1;32m      1\u001b[0m \u001b[0mJ\u001b[0m \u001b[0;34m=\u001b[0m \u001b[0;36m10\u001b[0m\u001b[0;34m\u001b[0m\u001b[0;34m\u001b[0m\u001b[0m\n\u001b[1;32m      2\u001b[0m \u001b[0mkey\u001b[0m \u001b[0;34m=\u001b[0m \u001b[0mrandom\u001b[0m\u001b[0;34m.\u001b[0m\u001b[0mPRNGKey\u001b[0m\u001b[0;34m(\u001b[0m\u001b[0;36m6\u001b[0m\u001b[0;34m)\u001b[0m\u001b[0;34m\u001b[0m\u001b[0;34m\u001b[0m\u001b[0m\n\u001b[0;32m----> 3\u001b[0;31m \u001b[0mV\u001b[0m \u001b[0;34m=\u001b[0m \u001b[0mrandom\u001b[0m\u001b[0;34m.\u001b[0m\u001b[0mnormal\u001b[0m\u001b[0;34m(\u001b[0m\u001b[0mkey\u001b[0m\u001b[0;34m,\u001b[0m \u001b[0mshape\u001b[0m\u001b[0;34m=\u001b[0m\u001b[0;34m(\u001b[0m\u001b[0mJ\u001b[0m\u001b[0;34m,\u001b[0m \u001b[0md\u001b[0m\u001b[0;34m)\u001b[0m\u001b[0;34m)\u001b[0m\u001b[0;34m\u001b[0m\u001b[0;34m\u001b[0m\u001b[0m\n\u001b[0m\u001b[1;32m      4\u001b[0m \u001b[0;34m\u001b[0m\u001b[0m\n\u001b[1;32m      5\u001b[0m \u001b[0;31m# FSSD(samples, grads, V)\u001b[0m\u001b[0;34m\u001b[0m\u001b[0;34m\u001b[0m\u001b[0;34m\u001b[0m\u001b[0m\n",
      "\u001b[0;31mNameError\u001b[0m: name 'd' is not defined"
     ]
    }
   ],
   "source": [
    "J = 10\n",
    "key = random.PRNGKey(6)\n",
    "V = random.normal(key, shape=(J, d))\n",
    "\n",
    "# FSSD(samples, grads, V)"
   ]
  },
  {
   "cell_type": "code",
   "execution_count": 3,
   "id": "27bb1e1c",
   "metadata": {},
   "outputs": [],
   "source": [
    "# FSSD_opt(samples, grads, V, 400)"
   ]
  },
  {
   "cell_type": "code",
   "execution_count": null,
   "id": "d49a152f",
   "metadata": {},
   "outputs": [],
   "source": []
  },
  {
   "cell_type": "code",
   "execution_count": null,
   "id": "8d65a4f3",
   "metadata": {},
   "outputs": [],
   "source": []
  },
  {
   "cell_type": "code",
   "execution_count": 194,
   "id": "beed5e9e",
   "metadata": {},
   "outputs": [
    {
     "data": {
      "text/plain": [
       "DeviceArray([[-1.4949895e-05,  5.7517100e-06, -2.0329546e-05,\n",
       "              -1.8899555e-05,  2.1406895e-06],\n",
       "             [ 8.3543937e-06,  9.9315366e-07, -4.1955186e-06,\n",
       "              -6.2971958e-07,  8.3952291e-06],\n",
       "             [ 6.8008540e-06,  2.4068449e-05,  5.8266869e-07,\n",
       "              -9.1672609e-07, -2.6546986e-06],\n",
       "             [-1.8636318e-05,  9.6201402e-06, -2.4999619e-05,\n",
       "               9.0209614e-06, -5.2451242e-06],\n",
       "             [-8.1619528e-06,  1.1443335e-05,  5.7691977e-06,\n",
       "              -3.8049802e-06, -2.2124510e-05],\n",
       "             [-2.2405948e-06,  3.6173231e-05, -1.1673906e-05,\n",
       "              -4.1901985e-06, -4.0308441e-06],\n",
       "             [ 1.7546281e-06,  4.4181550e-05, -3.9278366e-05,\n",
       "               4.0121464e-05, -9.9971294e-06],\n",
       "             [ 3.5164259e-05,  8.9908526e-06, -1.5863337e-05,\n",
       "               8.8084562e-06, -2.8339928e-06],\n",
       "             [ 3.3414828e-05, -2.3344233e-05, -1.2204182e-05,\n",
       "               9.7794109e-06,  7.4116906e-07],\n",
       "             [ 9.7355442e-06,  6.9759153e-06, -1.9537012e-05,\n",
       "               3.8464132e-06, -7.8588964e-06]], dtype=float32)"
      ]
     },
     "execution_count": 194,
     "metadata": {},
     "output_type": "execute_result"
    }
   ],
   "source": [
    "grad_FSSD(samples, grads, V)"
   ]
  },
  {
   "cell_type": "code",
   "execution_count": 195,
   "id": "a7188937",
   "metadata": {},
   "outputs": [
    {
     "data": {
      "text/plain": [
       "Buffer(-0.00034945, dtype=float32)"
      ]
     },
     "execution_count": 195,
     "metadata": {},
     "output_type": "execute_result"
    }
   ],
   "source": [
    "# FSSD_O2(samples, grads, V)\n",
    "\n",
    "FSSD(samples, grads, V)\n"
   ]
  },
  {
   "cell_type": "code",
   "execution_count": 196,
   "id": "b1866e0a",
   "metadata": {},
   "outputs": [
    {
     "data": {
      "text/plain": [
       "(10, 5)"
      ]
     },
     "execution_count": 196,
     "metadata": {},
     "output_type": "execute_result"
    }
   ],
   "source": [
    "V.shape"
   ]
  },
  {
   "cell_type": "code",
   "execution_count": null,
   "id": "7a603dcc",
   "metadata": {},
   "outputs": [],
   "source": []
  },
  {
   "cell_type": "code",
   "execution_count": 206,
   "id": "d285164e",
   "metadata": {},
   "outputs": [
    {
     "data": {
      "text/plain": [
       "<function jax.experimental.optimizers.adam.<locals>.update(i, g, state)>"
      ]
     },
     "execution_count": 206,
     "metadata": {},
     "output_type": "execute_result"
    }
   ],
   "source": [
    "update"
   ]
  },
  {
   "cell_type": "code",
   "execution_count": 228,
   "id": "6a4fc6a2",
   "metadata": {},
   "outputs": [],
   "source": [
    "from jax.scipy.optimize import minimize\n",
    "from jax.experimental.optimizers import adam\n",
    "\n",
    "def opt_fssd_fn(v):\n",
    "    return -FSSD(samples, grads, v)\n",
    "\n",
    "grad_opt_fn = jit(grad(opt_fssd_fn))\n",
    "\n",
    "init_fn, update, get_params = adam(1e-3)\n",
    "\n"
   ]
  },
  {
   "cell_type": "code",
   "execution_count": 261,
   "id": "4c9bf9e7",
   "metadata": {},
   "outputs": [],
   "source": [
    "state = init_fn(V)\n",
    "\n",
    "def body(state, i):\n",
    "    return update(i, grad_opt_fn(get_params(state)), state), None\n",
    "\n",
    "state, _ = lax.scan(body, state, jnp.arange(400))\n",
    "\n",
    "# for i in range(400):\n",
    "#     state = update(i, grad_opt_fn(get_params(state)), state)"
   ]
  },
  {
   "cell_type": "code",
   "execution_count": 262,
   "id": "8d4ae77b",
   "metadata": {},
   "outputs": [
    {
     "name": "stdout",
     "output_type": "stream",
     "text": [
      "0.00034944955 6.0526898e-05\n"
     ]
    }
   ],
   "source": [
    "print(opt_fssd_fn(V), opt_fssd_fn(get_params(state)))"
   ]
  },
  {
   "cell_type": "code",
   "execution_count": 27,
   "id": "e7f8e7ff",
   "metadata": {},
   "outputs": [
    {
     "ename": "NameError",
     "evalue": "name 'get_params' is not defined",
     "output_type": "error",
     "traceback": [
      "\u001b[0;31m---------------------------------------------------------------------------\u001b[0m",
      "\u001b[0;31mNameError\u001b[0m                                 Traceback (most recent call last)",
      "\u001b[0;32m<ipython-input-27-55b581f34aef>\u001b[0m in \u001b[0;36m<module>\u001b[0;34m\u001b[0m\n\u001b[0;32m----> 1\u001b[0;31m \u001b[0mplt\u001b[0m\u001b[0;34m.\u001b[0m\u001b[0mhist\u001b[0m\u001b[0;34m(\u001b[0m\u001b[0mget_params\u001b[0m\u001b[0;34m(\u001b[0m\u001b[0mstate\u001b[0m\u001b[0;34m)\u001b[0m\u001b[0;34m.\u001b[0m\u001b[0mflatten\u001b[0m\u001b[0;34m(\u001b[0m\u001b[0;34m)\u001b[0m\u001b[0;34m,\u001b[0m \u001b[0malpha\u001b[0m\u001b[0;34m=\u001b[0m\u001b[0;36m0.7\u001b[0m\u001b[0;34m,\u001b[0m \u001b[0mlabel\u001b[0m\u001b[0;34m=\u001b[0m\u001b[0;34m\"final\"\u001b[0m\u001b[0;34m)\u001b[0m\u001b[0;34m\u001b[0m\u001b[0;34m\u001b[0m\u001b[0m\n\u001b[0m\u001b[1;32m      2\u001b[0m \u001b[0mplt\u001b[0m\u001b[0;34m.\u001b[0m\u001b[0mhist\u001b[0m\u001b[0;34m(\u001b[0m\u001b[0mV\u001b[0m\u001b[0;34m.\u001b[0m\u001b[0mflatten\u001b[0m\u001b[0;34m(\u001b[0m\u001b[0;34m)\u001b[0m\u001b[0;34m,\u001b[0m \u001b[0malpha\u001b[0m\u001b[0;34m=\u001b[0m\u001b[0;36m0.7\u001b[0m\u001b[0;34m,\u001b[0m \u001b[0mlabel\u001b[0m\u001b[0;34m=\u001b[0m\u001b[0;34m\"initial\"\u001b[0m\u001b[0;34m)\u001b[0m\u001b[0;34m\u001b[0m\u001b[0;34m\u001b[0m\u001b[0m\n\u001b[1;32m      3\u001b[0m \u001b[0;34m\u001b[0m\u001b[0m\n\u001b[1;32m      4\u001b[0m \u001b[0mplt\u001b[0m\u001b[0;34m.\u001b[0m\u001b[0mlegend\u001b[0m\u001b[0;34m(\u001b[0m\u001b[0;34m)\u001b[0m\u001b[0;34m\u001b[0m\u001b[0;34m\u001b[0m\u001b[0m\n",
      "\u001b[0;31mNameError\u001b[0m: name 'get_params' is not defined"
     ]
    }
   ],
   "source": [
    "plt.hist(get_params(state).flatten(), alpha=0.7, label=\"final\")\n",
    "plt.hist(V.flatten(), alpha=0.7, label=\"initial\")\n",
    "\n",
    "plt.legend()"
   ]
  },
  {
   "cell_type": "code",
   "execution_count": null,
   "id": "f4b01973",
   "metadata": {},
   "outputs": [],
   "source": []
  }
 ],
 "metadata": {
  "kernelspec": {
   "display_name": "Python 3",
   "language": "python",
   "name": "python3"
  },
  "language_info": {
   "codemirror_mode": {
    "name": "ipython",
    "version": 3
   },
   "file_extension": ".py",
   "mimetype": "text/x-python",
   "name": "python",
   "nbconvert_exporter": "python",
   "pygments_lexer": "ipython3",
   "version": "3.8.2"
  }
 },
 "nbformat": 4,
 "nbformat_minor": 5
}
