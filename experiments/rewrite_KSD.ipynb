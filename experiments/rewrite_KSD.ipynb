{
 "cells": [
  {
   "cell_type": "code",
   "execution_count": 1,
   "id": "5be9aa65",
   "metadata": {},
   "outputs": [
    {
     "name": "stderr",
     "output_type": "stream",
     "text": [
      "WARNING:absl:No GPU/TPU found, falling back to CPU. (Set TF_CPP_MIN_LOG_LEVEL=0 and rerun for more info.)\n"
     ]
    }
   ],
   "source": [
    "%matplotlib inline\n",
    "import matplotlib.pyplot as plt\n",
    "import numpy as np\n",
    "\n",
    "import jax.numpy as jnp\n",
    "from jax import grad, jit, random, partial, lax, vmap\n",
    "\n",
    "import context\n",
    "from models.bayesian_NN.NN_model import logprior, loglikelihood, init_network, accuracy_BNN\n",
    "from models.bayesian_NN.NN_data import X_train, y_train, X_test, y_test\n",
    "from models.bayesian_NN.util import load_NN_MAP, add_noise_NN_params\n",
    "\n",
    "from tuning.mamba import timed_sampler\n",
    "from tuning.ksd import imq_KSD, k_0_fun"
   ]
  },
  {
   "cell_type": "markdown",
   "id": "280a1df0",
   "metadata": {},
   "source": [
    "# linear KSD"
   ]
  },
  {
   "cell_type": "code",
   "execution_count": 2,
   "id": "99b01bba",
   "metadata": {},
   "outputs": [],
   "source": [
    "@jit\n",
    "def linear_imq_KSD(samples, grads):\n",
    "    \"\"\"\n",
    "    linear KSD with imq kernel (Liu 2016)\n",
    "    \"\"\"\n",
    "    c, beta = 1., -0.5\n",
    "    N_2 = int(samples.shape[0]/2)\n",
    "    batch_k_0_fun = vmap(k_0_fun, in_axes=(0,0,0,0,None, None))\n",
    "    \n",
    "    le_sum = jnp.sum(batch_k_0_fun(samples[::2], samples[1::2], grads[::2], grads[1::2], c, beta))\n",
    "    return le_sum/N_2\n"
   ]
  },
  {
   "cell_type": "code",
   "execution_count": 2,
   "id": "e7aa1114",
   "metadata": {},
   "outputs": [],
   "source": [
    "\n",
    "key = random.PRNGKey(0)\n",
    "N = 50 # num samples\n",
    "d = 5 # dimension\n",
    "\n",
    "samples = random.normal(key, shape=(N, d))\n",
    "grads = -samples\n",
    "\n",
    "J = 10\n",
    "key = random.PRNGKey(1)\n",
    "V = random.normal(key, shape=(J, d))"
   ]
  },
  {
   "cell_type": "code",
   "execution_count": 4,
   "id": "755bf618",
   "metadata": {},
   "outputs": [
    {
     "name": "stdout",
     "output_type": "stream",
     "text": [
      "CPU times: user 170 ms, sys: 2.55 ms, total: 173 ms\n",
      "Wall time: 171 ms\n"
     ]
    },
    {
     "data": {
      "text/plain": [
       "DeviceArray(0.4545508, dtype=float32)"
      ]
     },
     "execution_count": 4,
     "metadata": {},
     "output_type": "execute_result"
    }
   ],
   "source": [
    "%time imq_KSD(samples, grads).block_until_ready()"
   ]
  },
  {
   "cell_type": "code",
   "execution_count": 5,
   "id": "e1387805",
   "metadata": {},
   "outputs": [
    {
     "name": "stdout",
     "output_type": "stream",
     "text": [
      "CPU times: user 84.8 ms, sys: 2.15 ms, total: 87 ms\n",
      "Wall time: 85.5 ms\n"
     ]
    },
    {
     "data": {
      "text/plain": [
       "DeviceArray(0.00021834, dtype=float32)"
      ]
     },
     "execution_count": 5,
     "metadata": {},
     "output_type": "execute_result"
    }
   ],
   "source": [
    "%time linear_imq_KSD(samples, grads).block_until_ready()"
   ]
  },
  {
   "cell_type": "code",
   "execution_count": null,
   "id": "d3c4c385",
   "metadata": {},
   "outputs": [],
   "source": []
  },
  {
   "cell_type": "code",
   "execution_count": null,
   "id": "bbe5be40",
   "metadata": {},
   "outputs": [],
   "source": []
  },
  {
   "cell_type": "code",
   "execution_count": null,
   "id": "dc037621",
   "metadata": {},
   "outputs": [],
   "source": []
  },
  {
   "cell_type": "code",
   "execution_count": null,
   "id": "9972db00",
   "metadata": {},
   "outputs": [],
   "source": []
  },
  {
   "cell_type": "code",
   "execution_count": null,
   "id": "ab01764b",
   "metadata": {},
   "outputs": [],
   "source": []
  },
  {
   "cell_type": "markdown",
   "id": "9635b8d4",
   "metadata": {},
   "source": [
    "# FSSD"
   ]
  },
  {
   "cell_type": "code",
   "execution_count": 5,
   "id": "6abdeb38",
   "metadata": {},
   "outputs": [],
   "source": [
    "def imq_kernel(x, y):\n",
    "    c, beta = 1., -0.5\n",
    "    return (c + jnp.dot(x-y, x-y))**beta\n",
    "\n",
    "k_dx = grad(imq_kernel, 0)\n",
    "\n",
    "def xi(x, grad_x, v):\n",
    "    return grad_x*imq_kernel(x,v) + k_dx(x,v)\n",
    "\n",
    "batch_xi = vmap(xi, in_axes=(None, None, 0))\n",
    "\n",
    "\n",
    "def tau(x, grad_x, V):\n",
    "    d, = x.shape\n",
    "    J, dv = V.shape\n",
    "    assert dv == d\n",
    "    return batch_xi(x, grad_x, V).reshape(J*d)/jnp.sqrt(d*J)\n",
    "    \n",
    "@jit\n",
    "def delta_fn(x, y, g_x, g_y, V):\n",
    "    return jnp.dot(tau(x, g_x, V), tau(y, g_y, V))\n",
    "\n",
    "\n",
    "\n",
    "@jit\n",
    "def FSSD(sgld_samples, sgld_grads, V):\n",
    "    \"\"\"\n",
    "    FSSD with imq kernel\n",
    "    \"\"\"\n",
    "    N = sgld_samples.shape[0]\n",
    "    \n",
    "    batch_delta_fun_rows = jit(vmap(delta_fn, in_axes=(None,0,None,0, None)))\n",
    "\n",
    "    def body_ksd(le_sum, x):\n",
    "        my_sample, my_grad = x\n",
    "        le_sum += jnp.sum(batch_delta_fun_rows(my_sample, sgld_samples, my_grad, sgld_grads, V))\n",
    "        return le_sum, None\n",
    "\n",
    "    le_sum, _ = lax.scan(body_ksd, 0., (sgld_samples, sgld_grads))\n",
    "    return jnp.sqrt(le_sum)/N\n",
    "\n",
    "\n"
   ]
  },
  {
   "cell_type": "code",
   "execution_count": 6,
   "id": "ad7ea263",
   "metadata": {},
   "outputs": [
    {
     "data": {
      "text/plain": [
       "DeviceArray(0.05833324, dtype=float32)"
      ]
     },
     "execution_count": 6,
     "metadata": {},
     "output_type": "execute_result"
    }
   ],
   "source": [
    "FSSD(samples, grads, V)"
   ]
  },
  {
   "cell_type": "code",
   "execution_count": null,
   "id": "6e9fc1d2",
   "metadata": {},
   "outputs": [],
   "source": []
  },
  {
   "cell_type": "code",
   "execution_count": 7,
   "id": "5ab13c8f",
   "metadata": {},
   "outputs": [],
   "source": [
    "\n",
    "key = random.PRNGKey(0)\n",
    "N = 10_000 # num samples\n",
    "d = 5 # dimension\n",
    "\n",
    "samples = random.normal(key, shape=(N, d))\n",
    "grads = -samples\n",
    "\n",
    "J = 10\n",
    "key = random.PRNGKey(1)\n",
    "V = random.normal(key, shape=(J, d))"
   ]
  },
  {
   "cell_type": "code",
   "execution_count": 8,
   "id": "7d40ff57",
   "metadata": {},
   "outputs": [
    {
     "name": "stdout",
     "output_type": "stream",
     "text": [
      "CPU times: user 3.75 s, sys: 13.9 ms, total: 3.76 s\n",
      "Wall time: 3.77 s\n"
     ]
    },
    {
     "data": {
      "text/plain": [
       "DeviceArray(0.03080567, dtype=float32)"
      ]
     },
     "execution_count": 8,
     "metadata": {},
     "output_type": "execute_result"
    }
   ],
   "source": [
    "%time imq_KSD(samples, grads).block_until_ready()"
   ]
  },
  {
   "cell_type": "code",
   "execution_count": 9,
   "id": "41eb6ce2",
   "metadata": {},
   "outputs": [
    {
     "name": "stdout",
     "output_type": "stream",
     "text": [
      "CPU times: user 817 ms, sys: 7.6 ms, total: 824 ms\n",
      "Wall time: 826 ms\n"
     ]
    },
    {
     "data": {
      "text/plain": [
       "DeviceArray(0.00288177, dtype=float32)"
      ]
     },
     "execution_count": 9,
     "metadata": {},
     "output_type": "execute_result"
    }
   ],
   "source": [
    "%time FSSD(samples, grads, V).block_until_ready()"
   ]
  },
  {
   "cell_type": "code",
   "execution_count": null,
   "id": "13b765ab",
   "metadata": {},
   "outputs": [],
   "source": []
  },
  {
   "cell_type": "code",
   "execution_count": null,
   "id": "bc255a3a",
   "metadata": {},
   "outputs": [],
   "source": []
  },
  {
   "cell_type": "code",
   "execution_count": null,
   "id": "bbbc0a68",
   "metadata": {},
   "outputs": [],
   "source": []
  },
  {
   "cell_type": "code",
   "execution_count": null,
   "id": "68ce1af7",
   "metadata": {},
   "outputs": [],
   "source": []
  }
 ],
 "metadata": {
  "kernelspec": {
   "display_name": "Python 3",
   "language": "python",
   "name": "python3"
  },
  "language_info": {
   "codemirror_mode": {
    "name": "ipython",
    "version": 3
   },
   "file_extension": ".py",
   "mimetype": "text/x-python",
   "name": "python",
   "nbconvert_exporter": "python",
   "pygments_lexer": "ipython3",
   "version": "3.8.2"
  }
 },
 "nbformat": 4,
 "nbformat_minor": 5
}
