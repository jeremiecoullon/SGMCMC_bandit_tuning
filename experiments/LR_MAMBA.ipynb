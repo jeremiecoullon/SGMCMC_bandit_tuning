{
 "cells": [
  {
   "cell_type": "code",
   "execution_count": 1,
   "id": "906fd9ec",
   "metadata": {},
   "outputs": [
    {
     "name": "stderr",
     "output_type": "stream",
     "text": [
      "WARNING:absl:No GPU/TPU found, falling back to CPU. (Set TF_CPP_MIN_LOG_LEVEL=0 and rerun for more info.)\n"
     ]
    }
   ],
   "source": [
    "%matplotlib inline\n",
    "import matplotlib.pyplot as plt\n",
    "import numpy as np\n",
    "\n",
    "import jax.numpy as jnp\n",
    "from jax import jit, random, vmap\n",
    "\n",
    "from sgmcmcjax.kernels import build_sgld_kernel, build_sghmc_kernel, build_sgnht_kernel\n",
    "from sgmcmcjax.kernels import build_sgldCV_kernel, build_sghmcCV_kernel, build_sgnhtCV_kernel\n",
    "from sgmcmcjax.optimizer import build_adam_optimizer\n",
    "from sgmcmcjax.util import build_grad_log_post\n",
    "\n",
    "import context\n",
    "from models.logistic_regression.logistic_regression_model import gen_data, loglikelihood, logprior\n",
    "from tuning.mamba import run_MAMBA\n",
    "from tuning.ksd import imq_KSD\n"
   ]
  },
  {
   "cell_type": "markdown",
   "id": "a01ea2b4",
   "metadata": {},
   "source": [
    "# Logistic regression - MAMBA"
   ]
  },
  {
   "cell_type": "code",
   "execution_count": 2,
   "id": "dd0b7388",
   "metadata": {},
   "outputs": [
    {
     "name": "stdout",
     "output_type": "stream",
     "text": [
      "generating data, with N=1,000,000 and dim=10\n",
      "(800000, 10) (200000, 10)\n"
     ]
    }
   ],
   "source": [
    "\n",
    "\n",
    "key = random.PRNGKey(42)\n",
    "dim = 10\n",
    "# Ndata = 100_000\n",
    "Ndata = 1_000_000\n",
    "\n",
    "theta_true, X, y_data = gen_data(key, dim, Ndata)\n",
    "\n",
    "# testing and training data\n",
    "num_train = int(Ndata*0.8)\n",
    "\n",
    "X_train = X[:num_train]\n",
    "X_test = X[num_train:]\n",
    "\n",
    "y_train = y_data[:num_train]\n",
    "y_test = y_data[num_train:]\n",
    "print(X_train.shape, X_test.shape)\n",
    "data = (X_train, y_train)\n"
   ]
  },
  {
   "cell_type": "code",
   "execution_count": 3,
   "id": "ad7130b3",
   "metadata": {},
   "outputs": [
    {
     "name": "stdout",
     "output_type": "stream",
     "text": [
      "[800000, 80000, 8000, 800]\n"
     ]
    }
   ],
   "source": [
    "# get MAP\n",
    "batch_size = int(0.01*X_train.shape[0])\n",
    "run_adam = build_adam_optimizer(1e-2, loglikelihood, logprior, data, batch_size)\n",
    "key = random.PRNGKey(0)\n",
    "centering_value, logpost_array = run_adam(key, 5000, jnp.zeros(dim))\n",
    "params_IC = centering_value\n",
    "\n",
    "# T = 10\n",
    "R = 1 # running time of longest sampler\n",
    "\n",
    "error_fn = lambda x,y: imq_KSD(x, y)\n",
    "logdt_range = -jnp.arange(1., 8., 0.5) \n",
    "batch_size_range = [int(10**(-elem)*X_train.shape[0]) for elem in range(0, 4)]\n",
    "\n",
    "print(batch_size_range)"
   ]
  },
  {
   "cell_type": "code",
   "execution_count": 4,
   "id": "e1d39a1d",
   "metadata": {},
   "outputs": [
    {
     "data": {
      "application/vnd.jupyter.widget-view+json": {
       "model_id": "932efb2223194ec296a85ffc86d51fc0",
       "version_major": 2,
       "version_minor": 0
      },
      "text/plain": [
       "HBox(children=(HTML(value=''), FloatProgress(value=0.0, max=5000.0), HTML(value='')))"
      ]
     },
     "metadata": {},
     "output_type": "display_data"
    },
    {
     "name": "stdout",
     "output_type": "stream",
     "text": [
      "\n"
     ]
    }
   ],
   "source": [
    "grad_log_post_fb = build_grad_log_post(loglikelihood, logprior, data)\n",
    "\n",
    "def grad_lp_LR_fb(theta):\n",
    "    return grad_log_post_fb(theta, X_train, y_train)\n",
    "\n",
    "batch_grad_lp_LR_fb = jit(vmap(grad_lp_LR_fb))\n",
    "\n",
    "@jit\n",
    "def get_fb_grads(samples):\n",
    "    thin = 10\n",
    "    array_samples = jnp.array(samples[::thin])\n",
    "    mygrads = batch_grad_lp_LR_fb(array_samples)\n",
    "    return array_samples, mygrads"
   ]
  },
  {
   "cell_type": "code",
   "execution_count": null,
   "id": "e472c6aa",
   "metadata": {},
   "outputs": [],
   "source": []
  },
  {
   "cell_type": "markdown",
   "id": "912e1f22",
   "metadata": {},
   "source": [
    "### run MAMBA"
   ]
  },
  {
   "cell_type": "code",
   "execution_count": null,
   "id": "01a71a00",
   "metadata": {},
   "outputs": [],
   "source": []
  },
  {
   "cell_type": "code",
   "execution_count": 5,
   "id": "180a1973",
   "metadata": {},
   "outputs": [
    {
     "data": {
      "application/vnd.jupyter.widget-view+json": {
       "model_id": "a1ba6c0381004d17829a0d9ea8fbbf7d",
       "version_major": 2,
       "version_minor": 0
      },
      "text/plain": [
       "HBox(children=(HTML(value='Iteration 1/3, 56 arms, time budget = 0.08 sec'), FloatProgress(value=0.0, max=56.0…"
      ]
     },
     "metadata": {},
     "output_type": "display_data"
    },
    {
     "name": "stdout",
     "output_type": "stream",
     "text": [
      "Hyperparams: {'batch_size': 800000, 'dt': 0.1}., sample shape=(1, 10). metric: 627644\n",
      "Hyperparams: {'batch_size': 800000, 'dt': 0.031622775}., sample shape=(1, 10). metric: 620876\n",
      "Hyperparams: {'batch_size': 800000, 'dt': 0.01}., sample shape=(1, 10). metric: 599319\n",
      "Hyperparams: {'batch_size': 800000, 'dt': 0.0031622776}., sample shape=(1, 10). metric: 487506\n",
      "Hyperparams: {'batch_size': 800000, 'dt': 0.001}., sample shape=(1, 10). metric: 230270\n",
      "Hyperparams: {'batch_size': 800000, 'dt': 0.00031622776}., sample shape=(1, 10). metric: 69859\n",
      "Hyperparams: {'batch_size': 800000, 'dt': 1e-04}., sample shape=(1, 10). metric: 22171\n",
      "Hyperparams: {'batch_size': 800000, 'dt': 3.1622778e-05}., sample shape=(1, 10). metric: 4516\n",
      "Hyperparams: {'batch_size': 800000, 'dt': 1e-05}., sample shape=(1, 10). metric: 1008\n",
      "Hyperparams: {'batch_size': 800000, 'dt': 3.1622776e-06}., sample shape=(1, 10). metric: 2652\n",
      "Hyperparams: {'batch_size': 800000, 'dt': 1e-06}., sample shape=(1, 10). metric: 2898\n",
      "Hyperparams: {'batch_size': 800000, 'dt': 3.1622776e-07}., sample shape=(1, 10). metric: 3223\n",
      "Hyperparams: {'batch_size': 800000, 'dt': 1e-07}., sample shape=(1, 10). metric: 3167\n",
      "Hyperparams: {'batch_size': 800000, 'dt': 3.1622776e-08}., sample shape=(1, 10). metric: 3208\n",
      "Hyperparams: {'batch_size': 80000, 'dt': 0.1}., sample shape=(3, 10). metric: 210743\n",
      "Hyperparams: {'batch_size': 80000, 'dt': 0.031622775}., sample shape=(3, 10). metric: 202917\n",
      "Hyperparams: {'batch_size': 80000, 'dt': 0.01}., sample shape=(3, 10). metric: 169046\n",
      "Hyperparams: {'batch_size': 80000, 'dt': 0.0031622776}., sample shape=(3, 10). metric: 174764\n",
      "Hyperparams: {'batch_size': 80000, 'dt': 0.001}., sample shape=(3, 10). metric: 65235\n",
      "Hyperparams: {'batch_size': 80000, 'dt': 0.00031622776}., sample shape=(3, 10). metric: 14146\n",
      "Hyperparams: {'batch_size': 80000, 'dt': 1e-04}., sample shape=(3, 10). metric: 14201\n",
      "Hyperparams: {'batch_size': 80000, 'dt': 3.1622778e-05}., sample shape=(3, 10). metric: 52948\n",
      "Hyperparams: {'batch_size': 80000, 'dt': 1e-05}., sample shape=(3, 10). metric: 728\n",
      "Hyperparams: {'batch_size': 80000, 'dt': 3.1622776e-06}., sample shape=(4, 10). metric: 1130\n",
      "Hyperparams: {'batch_size': 80000, 'dt': 1e-06}., sample shape=(3, 10). metric: 1586\n",
      "Hyperparams: {'batch_size': 80000, 'dt': 3.1622776e-07}., sample shape=(3, 10). metric: 2386\n",
      "Hyperparams: {'batch_size': 80000, 'dt': 1e-07}., sample shape=(4, 10). metric: 2851\n",
      "Hyperparams: {'batch_size': 80000, 'dt': 3.1622776e-08}., sample shape=(3, 10). metric: 3216\n",
      "Hyperparams: {'batch_size': 8000, 'dt': 0.1}., sample shape=(18, 10). metric: 37803\n",
      "Hyperparams: {'batch_size': 8000, 'dt': 0.031622775}., sample shape=(17, 10). metric: 43931\n",
      "Hyperparams: {'batch_size': 8000, 'dt': 0.01}., sample shape=(16, 10). metric: 44840\n",
      "Hyperparams: {'batch_size': 8000, 'dt': 0.0031622776}., sample shape=(18, 10). metric: 32414\n",
      "Hyperparams: {'batch_size': 8000, 'dt': 0.001}., sample shape=(18, 10). metric: 28071\n",
      "Hyperparams: {'batch_size': 8000, 'dt': 0.00031622776}., sample shape=(18, 10). metric: 35055\n",
      "Hyperparams: {'batch_size': 8000, 'dt': 1e-04}., sample shape=(17, 10). metric: 38535\n",
      "Hyperparams: {'batch_size': 8000, 'dt': 3.1622778e-05}., sample shape=(15, 10). metric: 19400\n",
      "Hyperparams: {'batch_size': 8000, 'dt': 1e-05}., sample shape=(6, 10). metric: 1317\n",
      "Hyperparams: {'batch_size': 8000, 'dt': 3.1622776e-06}., sample shape=(13, 10). metric: 1034\n",
      "Hyperparams: {'batch_size': 8000, 'dt': 1e-06}., sample shape=(18, 10). metric: 847\n",
      "Hyperparams: {'batch_size': 8000, 'dt': 3.1622776e-07}., sample shape=(13, 10). metric: 1385\n",
      "Hyperparams: {'batch_size': 8000, 'dt': 1e-07}., sample shape=(13, 10). metric: 2275\n",
      "Hyperparams: {'batch_size': 8000, 'dt': 3.1622776e-08}., sample shape=(18, 10). metric: 2695\n",
      "Hyperparams: {'batch_size': 800, 'dt': 0.1}., sample shape=(57, 10). metric: 16746\n",
      "Hyperparams: {'batch_size': 800, 'dt': 0.031622775}., sample shape=(42, 10). metric: 16385\n",
      "Hyperparams: {'batch_size': 800, 'dt': 0.01}., sample shape=(57, 10). metric: 15151\n",
      "Hyperparams: {'batch_size': 800, 'dt': 0.0031622776}., sample shape=(54, 10). metric: 14864\n",
      "Hyperparams: {'batch_size': 800, 'dt': 0.001}., sample shape=(46, 10). metric: 16318\n",
      "Hyperparams: {'batch_size': 800, 'dt': 0.00031622776}., sample shape=(52, 10). metric: 16098\n",
      "Hyperparams: {'batch_size': 800, 'dt': 1e-04}., sample shape=(52, 10). metric: 16403\n",
      "Hyperparams: {'batch_size': 800, 'dt': 3.1622778e-05}., sample shape=(55, 10). metric: 15865\n",
      "Hyperparams: {'batch_size': 800, 'dt': 1e-05}., sample shape=(36, 10). metric: 1909\n",
      "Hyperparams: {'batch_size': 800, 'dt': 3.1622776e-06}., sample shape=(55, 10). metric: 711\n",
      "Hyperparams: {'batch_size': 800, 'dt': 1e-06}., sample shape=(55, 10). metric: 378\n",
      "Hyperparams: {'batch_size': 800, 'dt': 3.1622776e-07}., sample shape=(56, 10). metric: 889\n",
      "Hyperparams: {'batch_size': 800, 'dt': 1e-07}., sample shape=(53, 10). metric: 868\n",
      "Hyperparams: {'batch_size': 800, 'dt': 3.1622776e-08}., sample shape=(57, 10). metric: 2055\n",
      "\n",
      "Number of samples: [55, 55, 3, 18, 53, 56, 1, 13, 4, 6, 13, 3, 36, 57, 13, 3, 1, 18]\n"
     ]
    },
    {
     "data": {
      "application/vnd.jupyter.widget-view+json": {
       "model_id": "cf741be2fb214a5d9c710f773788037b",
       "version_major": 2,
       "version_minor": 0
      },
      "text/plain": [
       "HBox(children=(HTML(value='Iteration 2/3, 18 arms, time budget = 0.24 sec'), FloatProgress(value=0.0, max=18.0…"
      ]
     },
     "metadata": {},
     "output_type": "display_data"
    },
    {
     "name": "stdout",
     "output_type": "stream",
     "text": [
      "Hyperparams: {'batch_size': 800, 'dt': 1e-06}., sample shape=(179, 10). metric: 594\n",
      "Hyperparams: {'batch_size': 800, 'dt': 3.1622776e-06}., sample shape=(230, 10). metric: 532\n",
      "Hyperparams: {'batch_size': 80000, 'dt': 1e-05}., sample shape=(12, 10). metric: 732\n",
      "Hyperparams: {'batch_size': 8000, 'dt': 1e-06}., sample shape=(70, 10). metric: 315\n",
      "Hyperparams: {'batch_size': 800, 'dt': 1e-07}., sample shape=(214, 10). metric: 542\n",
      "Hyperparams: {'batch_size': 800, 'dt': 3.1622776e-07}., sample shape=(231, 10). metric: 376\n",
      "Hyperparams: {'batch_size': 800000, 'dt': 1e-05}., sample shape=(5, 10). metric: 283\n",
      "Hyperparams: {'batch_size': 8000, 'dt': 3.1622776e-06}., sample shape=(69, 10). metric: 197\n",
      "Hyperparams: {'batch_size': 80000, 'dt': 3.1622776e-06}., sample shape=(13, 10). metric: 367\n",
      "Hyperparams: {'batch_size': 8000, 'dt': 1e-05}., sample shape=(61, 10). metric: 278\n",
      "Hyperparams: {'batch_size': 8000, 'dt': 3.1622776e-07}., sample shape=(68, 10). metric: 342\n",
      "Hyperparams: {'batch_size': 80000, 'dt': 1e-06}., sample shape=(12, 10). metric: 324\n",
      "Hyperparams: {'batch_size': 800, 'dt': 1e-05}., sample shape=(211, 10). metric: 1003\n",
      "Hyperparams: {'batch_size': 800, 'dt': 3.1622776e-08}., sample shape=(236, 10). metric: 456\n",
      "Hyperparams: {'batch_size': 8000, 'dt': 1e-07}., sample shape=(67, 10). metric: 684\n",
      "Hyperparams: {'batch_size': 80000, 'dt': 3.1622776e-07}., sample shape=(12, 10). metric: 818\n",
      "Hyperparams: {'batch_size': 800000, 'dt': 3.1622776e-06}., sample shape=(5, 10). metric: 291\n",
      "Hyperparams: {'batch_size': 8000, 'dt': 3.1622776e-08}., sample shape=(69, 10). metric: 1683\n",
      "\n",
      "Number of samples: [69, 61, 5, 5, 70, 12]\n"
     ]
    },
    {
     "data": {
      "application/vnd.jupyter.widget-view+json": {
       "model_id": "2cb654567aa04dde8610339b9d39ae90",
       "version_major": 2,
       "version_minor": 0
      },
      "text/plain": [
       "HBox(children=(HTML(value='Iteration 3/3, 6 arms, time budget = 0.72 sec'), FloatProgress(value=0.0, max=6.0),…"
      ]
     },
     "metadata": {},
     "output_type": "display_data"
    },
    {
     "name": "stdout",
     "output_type": "stream",
     "text": [
      "Hyperparams: {'batch_size': 8000, 'dt': 3.1622776e-06}., sample shape=(226, 10). metric: 258\n",
      "Hyperparams: {'batch_size': 8000, 'dt': 1e-05}., sample shape=(218, 10). metric: 300\n",
      "Hyperparams: {'batch_size': 800000, 'dt': 1e-05}., sample shape=(14, 10). metric: 221\n",
      "Hyperparams: {'batch_size': 800000, 'dt': 3.1622776e-06}., sample shape=(15, 10). metric: 214\n",
      "Hyperparams: {'batch_size': 8000, 'dt': 1e-06}., sample shape=(232, 10). metric: 240\n",
      "Hyperparams: {'batch_size': 80000, 'dt': 1e-06}., sample shape=(37, 10). metric: 277\n",
      "\n",
      "Number of samples: [15, 14]\n",
      "Running time: 115.2 sec\n",
      "{'batch_size': 800000, 'dt': 3.1622776e-06} 213.62427 (15, 10)\n",
      "CPU times: user 2min 15s, sys: 36.1 s, total: 2min 51s\n",
      "Wall time: 1min 55s\n"
     ]
    }
   ],
   "source": [
    "%%time\n",
    "\n",
    "build_kernel = lambda dt, batch_size: build_sgld_kernel(dt, loglikelihood, logprior, data, batch_size)\n",
    "\n",
    "grid_params = {'log_dt': logdt_range, \n",
    "               'batch_size': batch_size_range\n",
    "              }\n",
    "best_arm = run_MAMBA(key, build_kernel, error_fn, R, params_IC, \n",
    "                     grid_params=grid_params, get_fb_grads=get_fb_grads)\n",
    "\n",
    "print(best_arm.hyperparameters, best_arm.metric, best_arm.samples.shape)"
   ]
  },
  {
   "cell_type": "code",
   "execution_count": 8,
   "id": "9560785d",
   "metadata": {},
   "outputs": [
    {
     "data": {
      "application/vnd.jupyter.widget-view+json": {
       "model_id": "1693e0503f3a47b795b417b97ebb9184",
       "version_major": 2,
       "version_minor": 0
      },
      "text/plain": [
       "HBox(children=(HTML(value='Iteration 1/3, 56 arms, time budget = 0.08 sec'), FloatProgress(value=0.0, max=56.0…"
      ]
     },
     "metadata": {},
     "output_type": "display_data"
    },
    {
     "name": "stdout",
     "output_type": "stream",
     "text": [
      "Hyperparams: {'batch_size': 800000, 'dt': 0.1}., sample shape=(1, 10). metric: 633948\n",
      "Hyperparams: {'batch_size': 800000, 'dt': 0.031622775}., sample shape=(1, 10). metric: 625294\n",
      "Hyperparams: {'batch_size': 800000, 'dt': 0.01}., sample shape=(1, 10). metric: 596300\n",
      "Hyperparams: {'batch_size': 800000, 'dt': 0.0031622776}., sample shape=(1, 10). metric: 477570\n",
      "Hyperparams: {'batch_size': 800000, 'dt': 0.001}., sample shape=(1, 10). metric: 217501\n",
      "Hyperparams: {'batch_size': 800000, 'dt': 0.00031622776}., sample shape=(1, 10). metric: 73072\n",
      "Hyperparams: {'batch_size': 800000, 'dt': 1e-04}., sample shape=(1, 10). metric: 19466\n",
      "Hyperparams: {'batch_size': 800000, 'dt': 3.1622778e-05}., sample shape=(1, 10). metric: 3622\n",
      "Hyperparams: {'batch_size': 800000, 'dt': 1e-05}., sample shape=(1, 10). metric: 930\n",
      "Hyperparams: {'batch_size': 800000, 'dt': 3.1622776e-06}., sample shape=(1, 10). metric: 2590\n",
      "Hyperparams: {'batch_size': 800000, 'dt': 1e-06}., sample shape=(1, 10). metric: 2878\n",
      "Hyperparams: {'batch_size': 800000, 'dt': 3.1622776e-07}., sample shape=(1, 10). metric: 3219\n",
      "Hyperparams: {'batch_size': 800000, 'dt': 1e-07}., sample shape=(1, 10). metric: 3166\n",
      "Hyperparams: {'batch_size': 800000, 'dt': 3.1622776e-08}., sample shape=(1, 10). metric: 3207\n",
      "Hyperparams: {'batch_size': 80000, 'dt': 0.1}., sample shape=(2, 10). metric: 316854\n",
      "Hyperparams: {'batch_size': 80000, 'dt': 0.031622775}., sample shape=(2, 10). metric: 312272\n",
      "Hyperparams: {'batch_size': 80000, 'dt': 0.01}., sample shape=(3, 10). metric: 198120\n",
      "Hyperparams: {'batch_size': 80000, 'dt': 0.0031622776}., sample shape=(3, 10). metric: 167212\n",
      "Hyperparams: {'batch_size': 80000, 'dt': 0.001}., sample shape=(3, 10). metric: 74597\n",
      "Hyperparams: {'batch_size': 80000, 'dt': 0.00031622776}., sample shape=(3, 10). metric: 23144\n",
      "Hyperparams: {'batch_size': 80000, 'dt': 1e-04}., sample shape=(3, 10). metric: 17687\n",
      "Hyperparams: {'batch_size': 80000, 'dt': 3.1622778e-05}., sample shape=(3, 10). metric: 43904\n",
      "Hyperparams: {'batch_size': 80000, 'dt': 1e-05}., sample shape=(2, 10). metric: 550\n",
      "Hyperparams: {'batch_size': 80000, 'dt': 3.1622776e-06}., sample shape=(2, 10). metric: 1491\n",
      "Hyperparams: {'batch_size': 80000, 'dt': 1e-06}., sample shape=(3, 10). metric: 1586\n",
      "Hyperparams: {'batch_size': 80000, 'dt': 3.1622776e-07}., sample shape=(3, 10). metric: 2402\n",
      "Hyperparams: {'batch_size': 80000, 'dt': 1e-07}., sample shape=(3, 10). metric: 2926\n",
      "Hyperparams: {'batch_size': 80000, 'dt': 3.1622776e-08}., sample shape=(3, 10). metric: 3213\n",
      "Hyperparams: {'batch_size': 8000, 'dt': 0.1}., sample shape=(14, 10). metric: 54326\n",
      "Hyperparams: {'batch_size': 8000, 'dt': 0.031622775}., sample shape=(15, 10). metric: 47044\n",
      "Hyperparams: {'batch_size': 8000, 'dt': 0.01}., sample shape=(15, 10). metric: 45459\n",
      "Hyperparams: {'batch_size': 8000, 'dt': 0.0031622776}., sample shape=(14, 10). metric: 42803\n",
      "Hyperparams: {'batch_size': 8000, 'dt': 0.001}., sample shape=(15, 10). metric: 28583\n",
      "Hyperparams: {'batch_size': 8000, 'dt': 0.00031622776}., sample shape=(15, 10). metric: 36879\n",
      "Hyperparams: {'batch_size': 8000, 'dt': 1e-04}., sample shape=(13, 10). metric: 44912\n",
      "Hyperparams: {'batch_size': 8000, 'dt': 3.1622778e-05}., sample shape=(15, 10). metric: 33616\n",
      "Hyperparams: {'batch_size': 8000, 'dt': 1e-05}., sample shape=(15, 10). metric: 132\n",
      "Hyperparams: {'batch_size': 8000, 'dt': 3.1622776e-06}., sample shape=(15, 10). metric: 294\n",
      "Hyperparams: {'batch_size': 8000, 'dt': 1e-06}., sample shape=(15, 10). metric: 610\n",
      "Hyperparams: {'batch_size': 8000, 'dt': 3.1622776e-07}., sample shape=(15, 10). metric: 1145\n",
      "Hyperparams: {'batch_size': 8000, 'dt': 1e-07}., sample shape=(15, 10). metric: 2147\n",
      "Hyperparams: {'batch_size': 8000, 'dt': 3.1622776e-08}., sample shape=(15, 10). metric: 2727\n",
      "Hyperparams: {'batch_size': 800, 'dt': 0.1}., sample shape=(44, 10). metric: 21251\n",
      "Hyperparams: {'batch_size': 800, 'dt': 0.031622775}., sample shape=(49, 10). metric: 18209\n",
      "Hyperparams: {'batch_size': 800, 'dt': 0.01}., sample shape=(51, 10). metric: 17539\n",
      "Hyperparams: {'batch_size': 800, 'dt': 0.0031622776}., sample shape=(50, 10). metric: 15114\n",
      "Hyperparams: {'batch_size': 800, 'dt': 0.001}., sample shape=(54, 10). metric: 13905\n",
      "Hyperparams: {'batch_size': 800, 'dt': 0.00031622776}., sample shape=(53, 10). metric: 14431\n",
      "Hyperparams: {'batch_size': 800, 'dt': 1e-04}., sample shape=(48, 10). metric: 23842\n",
      "Hyperparams: {'batch_size': 800, 'dt': 3.1622778e-05}., sample shape=(53, 10). metric: 15140\n",
      "Hyperparams: {'batch_size': 800, 'dt': 1e-05}., sample shape=(56, 10). metric: 130\n",
      "Hyperparams: {'batch_size': 800, 'dt': 3.1622776e-06}., sample shape=(55, 10). metric: 121\n",
      "Hyperparams: {'batch_size': 800, 'dt': 1e-06}., sample shape=(54, 10). metric: 143\n",
      "Hyperparams: {'batch_size': 800, 'dt': 3.1622776e-07}., sample shape=(53, 10). metric: 473\n",
      "Hyperparams: {'batch_size': 800, 'dt': 1e-07}., sample shape=(48, 10). metric: 717\n",
      "Hyperparams: {'batch_size': 800, 'dt': 3.1622776e-08}., sample shape=(45, 10). metric: 2080\n",
      "\n",
      "Number of samples: [55, 56, 15, 54, 15, 53, 2, 15, 48, 1, 15, 2, 3, 45, 15, 3, 1, 15]\n"
     ]
    },
    {
     "data": {
      "application/vnd.jupyter.widget-view+json": {
       "model_id": "3c0df2eaff0f40e98f4e945ec8c8a4dd",
       "version_major": 2,
       "version_minor": 0
      },
      "text/plain": [
       "HBox(children=(HTML(value='Iteration 2/3, 18 arms, time budget = 0.24 sec'), FloatProgress(value=0.0, max=18.0…"
      ]
     },
     "metadata": {},
     "output_type": "display_data"
    },
    {
     "name": "stdout",
     "output_type": "stream",
     "text": [
      "Hyperparams: {'batch_size': 800, 'dt': 3.1622776e-06}., sample shape=(224, 10). metric: 78\n",
      "Hyperparams: {'batch_size': 800, 'dt': 1e-05}., sample shape=(216, 10). metric: 36\n",
      "Hyperparams: {'batch_size': 8000, 'dt': 1e-05}., sample shape=(49, 10). metric: 113\n",
      "Hyperparams: {'batch_size': 800, 'dt': 1e-06}., sample shape=(201, 10). metric: 119\n",
      "Hyperparams: {'batch_size': 8000, 'dt': 3.1622776e-06}., sample shape=(53, 10). metric: 124\n",
      "Hyperparams: {'batch_size': 800, 'dt': 3.1622776e-07}., sample shape=(197, 10). metric: 157\n",
      "Hyperparams: {'batch_size': 80000, 'dt': 1e-05}., sample shape=(9, 10). metric: 188\n",
      "Hyperparams: {'batch_size': 8000, 'dt': 1e-06}., sample shape=(57, 10). metric: 235\n",
      "Hyperparams: {'batch_size': 800, 'dt': 1e-07}., sample shape=(220, 10). metric: 277\n",
      "Hyperparams: {'batch_size': 800000, 'dt': 1e-05}., sample shape=(2, 10). metric: 644\n",
      "Hyperparams: {'batch_size': 8000, 'dt': 3.1622776e-07}., sample shape=(58, 10). metric: 406\n",
      "Hyperparams: {'batch_size': 80000, 'dt': 3.1622776e-06}., sample shape=(10, 10). metric: 277\n",
      "Hyperparams: {'batch_size': 80000, 'dt': 1e-06}., sample shape=(11, 10). metric: 419\n",
      "Hyperparams: {'batch_size': 800, 'dt': 3.1622776e-08}., sample shape=(209, 10). metric: 399\n",
      "Hyperparams: {'batch_size': 8000, 'dt': 1e-07}., sample shape=(61, 10). metric: 659\n",
      "Hyperparams: {'batch_size': 80000, 'dt': 3.1622776e-07}., sample shape=(11, 10). metric: 982\n",
      "Hyperparams: {'batch_size': 800000, 'dt': 3.1622776e-06}., sample shape=(2, 10). metric: 960\n",
      "Hyperparams: {'batch_size': 8000, 'dt': 3.1622776e-08}., sample shape=(59, 10). metric: 1739\n",
      "\n",
      "Number of samples: [216, 224, 49, 201, 53, 197]\n"
     ]
    },
    {
     "data": {
      "application/vnd.jupyter.widget-view+json": {
       "model_id": "9e9713bb8c044e9fb1a987ffc7682739",
       "version_major": 2,
       "version_minor": 0
      },
      "text/plain": [
       "HBox(children=(HTML(value='Iteration 3/3, 6 arms, time budget = 0.72 sec'), FloatProgress(value=0.0, max=6.0),…"
      ]
     },
     "metadata": {},
     "output_type": "display_data"
    },
    {
     "name": "stdout",
     "output_type": "stream",
     "text": [
      "Hyperparams: {'batch_size': 800, 'dt': 1e-05}., sample shape=(709, 10). metric: 29\n",
      "Hyperparams: {'batch_size': 800, 'dt': 3.1622776e-06}., sample shape=(467, 10). metric: 54\n",
      "Hyperparams: {'batch_size': 8000, 'dt': 1e-05}., sample shape=(175, 10). metric: 56\n",
      "Hyperparams: {'batch_size': 800, 'dt': 1e-06}., sample shape=(623, 10). metric: 87\n",
      "Hyperparams: {'batch_size': 8000, 'dt': 3.1622776e-06}., sample shape=(167, 10). metric: 52\n",
      "Hyperparams: {'batch_size': 800, 'dt': 3.1622776e-07}., sample shape=(600, 10). metric: 102\n",
      "\n",
      "Number of samples: [709, 167]\n",
      "Running time: 152.0 sec\n",
      "{'batch_size': 800, 'dt': 1e-05} 29.480639 (709, 10)\n",
      "CPU times: user 3min 1s, sys: 1min, total: 4min 2s\n",
      "Wall time: 2min 40s\n"
     ]
    }
   ],
   "source": [
    "%%time\n",
    "\n",
    "build_kernel = lambda dt, batch_size: build_sgldCV_kernel(dt, loglikelihood, \n",
    "                                                  logprior, data, batch_size, centering_value)\n",
    "\n",
    "best_arm = run_MAMBA(key, build_kernel, error_fn, R, params_IC, \n",
    "                     grid_params=grid_params, get_fb_grads=get_fb_grads)\n",
    "\n",
    "print(best_arm.hyperparameters, best_arm.metric, best_arm.samples.shape)"
   ]
  },
  {
   "cell_type": "code",
   "execution_count": 9,
   "id": "6c0a862d",
   "metadata": {},
   "outputs": [
    {
     "data": {
      "application/vnd.jupyter.widget-view+json": {
       "model_id": "68e0ecda4c24441cacc298a5f0cc46ee",
       "version_major": 2,
       "version_minor": 0
      },
      "text/plain": [
       "HBox(children=(HTML(value='Iteration 1/4, 112 arms, time budget = 0.03 sec'), FloatProgress(value=0.0, max=112…"
      ]
     },
     "metadata": {},
     "output_type": "display_data"
    },
    {
     "name": "stdout",
     "output_type": "stream",
     "text": [
      "Hyperparams: {'batch_size': 800000, 'L': 5, 'dt': 0.1}., sample shape=(1, 10). metric: 391962\n",
      "Hyperparams: {'batch_size': 800000, 'L': 5, 'dt': 0.031622775}., sample shape=(1, 10). metric: 315911\n",
      "Hyperparams: {'batch_size': 800000, 'L': 5, 'dt': 0.01}., sample shape=(1, 10). metric: 351372\n",
      "Hyperparams: {'batch_size': 800000, 'L': 5, 'dt': 0.0031622776}., sample shape=(1, 10). metric: 416450\n",
      "Hyperparams: {'batch_size': 800000, 'L': 5, 'dt': 0.001}., sample shape=(1, 10). metric: 436851\n",
      "Hyperparams: {'batch_size': 800000, 'L': 5, 'dt': 0.00031622776}., sample shape=(1, 10). metric: 463559\n",
      "Hyperparams: {'batch_size': 800000, 'L': 5, 'dt': 1e-04}., sample shape=(1, 10). metric: 347783\n",
      "Hyperparams: {'batch_size': 800000, 'L': 5, 'dt': 3.1622778e-05}., sample shape=(1, 10). metric: 15751\n",
      "Hyperparams: {'batch_size': 800000, 'L': 5, 'dt': 1e-05}., sample shape=(1, 10). metric: 10584\n",
      "Hyperparams: {'batch_size': 800000, 'L': 5, 'dt': 3.1622776e-06}., sample shape=(1, 10). metric: 2970\n",
      "Hyperparams: {'batch_size': 800000, 'L': 5, 'dt': 1e-06}., sample shape=(1, 10). metric: 1141\n",
      "Hyperparams: {'batch_size': 800000, 'L': 5, 'dt': 3.1622776e-07}., sample shape=(1, 10). metric: 2790\n",
      "Hyperparams: {'batch_size': 800000, 'L': 5, 'dt': 1e-07}., sample shape=(1, 10). metric: 2926\n",
      "Hyperparams: {'batch_size': 800000, 'L': 5, 'dt': 3.1622776e-08}., sample shape=(1, 10). metric: 3181\n",
      "Hyperparams: {'batch_size': 800000, 'L': 10, 'dt': 0.1}., sample shape=(1, 10). metric: 194684\n",
      "Hyperparams: {'batch_size': 800000, 'L': 10, 'dt': 0.031622775}., sample shape=(1, 10). metric: 119768\n",
      "Hyperparams: {'batch_size': 800000, 'L': 10, 'dt': 0.01}., sample shape=(1, 10). metric: 120963\n",
      "Hyperparams: {'batch_size': 800000, 'L': 10, 'dt': 0.0031622776}., sample shape=(1, 10). metric: 91569\n",
      "Hyperparams: {'batch_size': 800000, 'L': 10, 'dt': 0.001}., sample shape=(1, 10). metric: 231038\n",
      "Hyperparams: {'batch_size': 800000, 'L': 10, 'dt': 0.00031622776}., sample shape=(1, 10). metric: 392221\n",
      "Hyperparams: {'batch_size': 800000, 'L': 10, 'dt': 1e-04}., sample shape=(1, 10). metric: 309389\n",
      "Hyperparams: {'batch_size': 800000, 'L': 10, 'dt': 3.1622778e-05}., sample shape=(1, 10). metric: 504199\n",
      "Hyperparams: {'batch_size': 800000, 'L': 10, 'dt': 1e-05}., sample shape=(1, 10). metric: 31992\n",
      "Hyperparams: {'batch_size': 800000, 'L': 10, 'dt': 3.1622776e-06}., sample shape=(1, 10). metric: 3240\n",
      "Hyperparams: {'batch_size': 800000, 'L': 10, 'dt': 1e-06}., sample shape=(1, 10). metric: 3472\n",
      "Hyperparams: {'batch_size': 800000, 'L': 10, 'dt': 3.1622776e-07}., sample shape=(1, 10). metric: 784\n",
      "Hyperparams: {'batch_size': 800000, 'L': 10, 'dt': 1e-07}., sample shape=(1, 10). metric: 2005\n",
      "Hyperparams: {'batch_size': 800000, 'L': 10, 'dt': 3.1622776e-08}., sample shape=(1, 10). metric: 3066\n",
      "Hyperparams: {'batch_size': 80000, 'L': 5, 'dt': 0.1}., sample shape=(1, 10). metric: 305675\n",
      "Hyperparams: {'batch_size': 80000, 'L': 5, 'dt': 0.031622775}., sample shape=(1, 10). metric: 387552\n",
      "Hyperparams: {'batch_size': 80000, 'L': 5, 'dt': 0.01}., sample shape=(1, 10). metric: 378238\n",
      "Hyperparams: {'batch_size': 80000, 'L': 5, 'dt': 0.0031622776}., sample shape=(1, 10). metric: 414214\n",
      "Hyperparams: {'batch_size': 80000, 'L': 5, 'dt': 0.001}., sample shape=(1, 10). metric: 410169\n",
      "Hyperparams: {'batch_size': 80000, 'L': 5, 'dt': 0.00031622776}., sample shape=(1, 10). metric: 457529\n",
      "Hyperparams: {'batch_size': 80000, 'L': 5, 'dt': 1e-04}., sample shape=(1, 10). metric: 283177\n",
      "Hyperparams: {'batch_size': 80000, 'L': 5, 'dt': 3.1622778e-05}., sample shape=(1, 10). metric: 19464\n",
      "Hyperparams: {'batch_size': 80000, 'L': 5, 'dt': 1e-05}., sample shape=(1, 10). metric: 10722\n",
      "Hyperparams: {'batch_size': 80000, 'L': 5, 'dt': 3.1622776e-06}., sample shape=(1, 10). metric: 5516\n",
      "Hyperparams: {'batch_size': 80000, 'L': 5, 'dt': 1e-06}., sample shape=(1, 10). metric: 1556\n",
      "Hyperparams: {'batch_size': 80000, 'L': 5, 'dt': 3.1622776e-07}., sample shape=(1, 10). metric: 2628\n",
      "Hyperparams: {'batch_size': 80000, 'L': 5, 'dt': 1e-07}., sample shape=(1, 10). metric: 2811\n",
      "Hyperparams: {'batch_size': 80000, 'L': 5, 'dt': 3.1622776e-08}., sample shape=(1, 10). metric: 3139\n",
      "Hyperparams: {'batch_size': 80000, 'L': 10, 'dt': 0.1}., sample shape=(1, 10). metric: 203186\n",
      "Hyperparams: {'batch_size': 80000, 'L': 10, 'dt': 0.031622775}., sample shape=(1, 10). metric: 117821\n",
      "Hyperparams: {'batch_size': 80000, 'L': 10, 'dt': 0.01}., sample shape=(1, 10). metric: 124577\n",
      "Hyperparams: {'batch_size': 80000, 'L': 10, 'dt': 0.0031622776}., sample shape=(1, 10). metric: 97217\n",
      "Hyperparams: {'batch_size': 80000, 'L': 10, 'dt': 0.001}., sample shape=(1, 10). metric: 270410\n",
      "Hyperparams: {'batch_size': 80000, 'L': 10, 'dt': 0.00031622776}., sample shape=(1, 10). metric: 357170\n",
      "Hyperparams: {'batch_size': 80000, 'L': 10, 'dt': 1e-04}., sample shape=(1, 10). metric: 346073\n",
      "Hyperparams: {'batch_size': 80000, 'L': 10, 'dt': 3.1622778e-05}., sample shape=(1, 10). metric: 469509\n",
      "Hyperparams: {'batch_size': 80000, 'L': 10, 'dt': 1e-05}., sample shape=(1, 10). metric: 23218\n",
      "Hyperparams: {'batch_size': 80000, 'L': 10, 'dt': 3.1622776e-06}., sample shape=(1, 10). metric: 1755\n",
      "Hyperparams: {'batch_size': 80000, 'L': 10, 'dt': 1e-06}., sample shape=(1, 10). metric: 3918\n",
      "Hyperparams: {'batch_size': 80000, 'L': 10, 'dt': 3.1622776e-07}., sample shape=(1, 10). metric: 1186\n",
      "Hyperparams: {'batch_size': 80000, 'L': 10, 'dt': 1e-07}., sample shape=(1, 10). metric: 2370\n",
      "Hyperparams: {'batch_size': 80000, 'L': 10, 'dt': 3.1622776e-08}., sample shape=(1, 10). metric: 2835\n",
      "Hyperparams: {'batch_size': 8000, 'L': 5, 'dt': 0.1}., sample shape=(2, 10). metric: 206208\n",
      "Hyperparams: {'batch_size': 8000, 'L': 5, 'dt': 0.031622775}., sample shape=(2, 10). metric: 187390\n",
      "Hyperparams: {'batch_size': 8000, 'L': 5, 'dt': 0.01}., sample shape=(2, 10). metric: 186811\n",
      "Hyperparams: {'batch_size': 8000, 'L': 5, 'dt': 0.0031622776}., sample shape=(2, 10). metric: 186553\n",
      "Hyperparams: {'batch_size': 8000, 'L': 5, 'dt': 0.001}., sample shape=(2, 10). metric: 210166\n",
      "Hyperparams: {'batch_size': 8000, 'L': 5, 'dt': 0.00031622776}., sample shape=(2, 10). metric: 234434\n",
      "Hyperparams: {'batch_size': 8000, 'L': 5, 'dt': 1e-04}., sample shape=(2, 10). metric: 184308\n",
      "Hyperparams: {'batch_size': 8000, 'L': 5, 'dt': 3.1622778e-05}., sample shape=(2, 10). metric: 21349\n",
      "Hyperparams: {'batch_size': 8000, 'L': 5, 'dt': 1e-05}., sample shape=(2, 10). metric: 14388\n",
      "Hyperparams: {'batch_size': 8000, 'L': 5, 'dt': 3.1622776e-06}., sample shape=(2, 10). metric: 11023\n",
      "Hyperparams: {'batch_size': 8000, 'L': 5, 'dt': 1e-06}., sample shape=(2, 10). metric: 1641\n",
      "Hyperparams: {'batch_size': 8000, 'L': 5, 'dt': 3.1622776e-07}., sample shape=(2, 10). metric: 1262\n",
      "Hyperparams: {'batch_size': 8000, 'L': 5, 'dt': 1e-07}., sample shape=(2, 10). metric: 2510\n",
      "Hyperparams: {'batch_size': 8000, 'L': 5, 'dt': 3.1622776e-08}., sample shape=(2, 10). metric: 3034\n",
      "Hyperparams: {'batch_size': 8000, 'L': 10, 'dt': 0.1}., sample shape=(1, 10). metric: 135083\n",
      "Hyperparams: {'batch_size': 8000, 'L': 10, 'dt': 0.031622775}., sample shape=(1, 10). metric: 159430\n",
      "Hyperparams: {'batch_size': 8000, 'L': 10, 'dt': 0.01}., sample shape=(1, 10). metric: 99070\n",
      "Hyperparams: {'batch_size': 8000, 'L': 10, 'dt': 0.0031622776}., sample shape=(1, 10). metric: 117699\n",
      "Hyperparams: {'batch_size': 8000, 'L': 10, 'dt': 0.001}., sample shape=(1, 10). metric: 183507\n",
      "Hyperparams: {'batch_size': 8000, 'L': 10, 'dt': 0.00031622776}., sample shape=(1, 10). metric: 308402\n",
      "Hyperparams: {'batch_size': 8000, 'L': 10, 'dt': 1e-04}., sample shape=(1, 10). metric: 108410\n",
      "Hyperparams: {'batch_size': 8000, 'L': 10, 'dt': 3.1622778e-05}., sample shape=(1, 10). metric: 498424\n",
      "Hyperparams: {'batch_size': 8000, 'L': 10, 'dt': 1e-05}., sample shape=(1, 10). metric: 79165\n",
      "Hyperparams: {'batch_size': 8000, 'L': 10, 'dt': 3.1622776e-06}., sample shape=(1, 10). metric: 5396\n",
      "Hyperparams: {'batch_size': 8000, 'L': 10, 'dt': 1e-06}., sample shape=(1, 10). metric: 7176\n",
      "Hyperparams: {'batch_size': 8000, 'L': 10, 'dt': 3.1622776e-07}., sample shape=(1, 10). metric: 1050\n",
      "Hyperparams: {'batch_size': 8000, 'L': 10, 'dt': 1e-07}., sample shape=(1, 10). metric: 2240\n",
      "Hyperparams: {'batch_size': 8000, 'L': 10, 'dt': 3.1622776e-08}., sample shape=(1, 10). metric: 3016\n"
     ]
    },
    {
     "name": "stdout",
     "output_type": "stream",
     "text": [
      "Hyperparams: {'batch_size': 800, 'L': 5, 'dt': 0.1}., sample shape=(11, 10). metric: 68155\n",
      "Hyperparams: {'batch_size': 800, 'L': 5, 'dt': 0.031622775}., sample shape=(12, 10). metric: 49789\n",
      "Hyperparams: {'batch_size': 800, 'L': 5, 'dt': 0.01}., sample shape=(11, 10). metric: 42416\n",
      "Hyperparams: {'batch_size': 800, 'L': 5, 'dt': 0.0031622776}., sample shape=(11, 10). metric: 45929\n",
      "Hyperparams: {'batch_size': 800, 'L': 5, 'dt': 0.001}., sample shape=(11, 10). metric: 37818\n",
      "Hyperparams: {'batch_size': 800, 'L': 5, 'dt': 0.00031622776}., sample shape=(12, 10). metric: 43111\n",
      "Hyperparams: {'batch_size': 800, 'L': 5, 'dt': 1e-04}., sample shape=(11, 10). metric: 43477\n",
      "Hyperparams: {'batch_size': 800, 'L': 5, 'dt': 3.1622778e-05}., sample shape=(11, 10). metric: 32026\n",
      "Hyperparams: {'batch_size': 800, 'L': 5, 'dt': 1e-05}., sample shape=(12, 10). metric: 37742\n",
      "Hyperparams: {'batch_size': 800, 'L': 5, 'dt': 3.1622776e-06}., sample shape=(11, 10). metric: 6698\n",
      "Hyperparams: {'batch_size': 800, 'L': 5, 'dt': 1e-06}., sample shape=(11, 10). metric: 1493\n",
      "Hyperparams: {'batch_size': 800, 'L': 5, 'dt': 3.1622776e-07}., sample shape=(11, 10). metric: 671\n",
      "Hyperparams: {'batch_size': 800, 'L': 5, 'dt': 1e-07}., sample shape=(11, 10). metric: 1089\n",
      "Hyperparams: {'batch_size': 800, 'L': 5, 'dt': 3.1622776e-08}., sample shape=(11, 10). metric: 1242\n",
      "Hyperparams: {'batch_size': 800, 'L': 10, 'dt': 0.1}., sample shape=(6, 10). metric: 156324\n",
      "Hyperparams: {'batch_size': 800, 'L': 10, 'dt': 0.031622775}., sample shape=(7, 10). metric: 100366\n",
      "Hyperparams: {'batch_size': 800, 'L': 10, 'dt': 0.01}., sample shape=(7, 10). metric: 58097\n",
      "Hyperparams: {'batch_size': 800, 'L': 10, 'dt': 0.0031622776}., sample shape=(8, 10). metric: 43982\n",
      "Hyperparams: {'batch_size': 800, 'L': 10, 'dt': 0.001}., sample shape=(7, 10). metric: 44035\n",
      "Hyperparams: {'batch_size': 800, 'L': 10, 'dt': 0.00031622776}., sample shape=(8, 10). metric: 51591\n",
      "Hyperparams: {'batch_size': 800, 'L': 10, 'dt': 1e-04}., sample shape=(8, 10). metric: 54548\n",
      "Hyperparams: {'batch_size': 800, 'L': 10, 'dt': 3.1622778e-05}., sample shape=(8, 10). metric: 60621\n",
      "Hyperparams: {'batch_size': 800, 'L': 10, 'dt': 1e-05}., sample shape=(7, 10). metric: 43858\n",
      "Hyperparams: {'batch_size': 800, 'L': 10, 'dt': 3.1622776e-06}., sample shape=(8, 10). metric: 62790\n",
      "Hyperparams: {'batch_size': 800, 'L': 10, 'dt': 1e-06}., sample shape=(7, 10). metric: 36932\n",
      "Hyperparams: {'batch_size': 800, 'L': 10, 'dt': 3.1622776e-07}., sample shape=(7, 10). metric: 2089\n",
      "Hyperparams: {'batch_size': 800, 'L': 10, 'dt': 1e-07}., sample shape=(7, 10). metric: 1110\n",
      "Hyperparams: {'batch_size': 800, 'L': 10, 'dt': 3.1622776e-08}., sample shape=(7, 10). metric: 676\n",
      "\n",
      "Number of samples: [11, 7, 1, 1, 11, 7, 1, 1, 11, 2, 11, 1, 2, 1, 1, 7, 1, 1, 2, 1, 1, 1, 1, 1, 1, 1, 2, 1, 1, 1, 1, 1, 1, 1, 1, 11, 1]\n"
     ]
    },
    {
     "data": {
      "application/vnd.jupyter.widget-view+json": {
       "model_id": "fee21852d2204554ab0ae25ba2597e01",
       "version_major": 2,
       "version_minor": 0
      },
      "text/plain": [
       "HBox(children=(HTML(value='Iteration 2/4, 37 arms, time budget = 0.08 sec'), FloatProgress(value=0.0, max=37.0…"
      ]
     },
     "metadata": {},
     "output_type": "display_data"
    },
    {
     "name": "stdout",
     "output_type": "stream",
     "text": [
      "Hyperparams: {'batch_size': 800, 'L': 5, 'dt': 3.1622776e-07}., sample shape=(34, 10). metric: 544\n",
      "Hyperparams: {'batch_size': 800, 'L': 10, 'dt': 3.1622776e-08}., sample shape=(28, 10). metric: 538\n",
      "Hyperparams: {'batch_size': 800000, 'L': 10, 'dt': 3.1622776e-07}., sample shape=(2, 10). metric: 736\n",
      "Hyperparams: {'batch_size': 8000, 'L': 10, 'dt': 3.1622776e-07}., sample shape=(4, 10). metric: 1104\n",
      "Hyperparams: {'batch_size': 800, 'L': 5, 'dt': 1e-07}., sample shape=(41, 10). metric: 964\n",
      "Hyperparams: {'batch_size': 800, 'L': 10, 'dt': 1e-07}., sample shape=(20, 10). metric: 498\n",
      "Hyperparams: {'batch_size': 800000, 'L': 5, 'dt': 1e-06}., sample shape=(2, 10). metric: 340\n",
      "Hyperparams: {'batch_size': 80000, 'L': 10, 'dt': 3.1622776e-07}., sample shape=(2, 10). metric: 945\n",
      "Hyperparams: {'batch_size': 800, 'L': 5, 'dt': 3.1622776e-08}., sample shape=(43, 10). metric: 611\n",
      "Hyperparams: {'batch_size': 8000, 'L': 5, 'dt': 3.1622776e-07}., sample shape=(5, 10). metric: 613\n",
      "Hyperparams: {'batch_size': 800, 'L': 5, 'dt': 1e-06}., sample shape=(40, 10). metric: 1035\n",
      "Hyperparams: {'batch_size': 80000, 'L': 5, 'dt': 1e-06}., sample shape=(2, 10). metric: 838\n",
      "Hyperparams: {'batch_size': 8000, 'L': 5, 'dt': 1e-06}., sample shape=(7, 10). metric: 1241\n",
      "Hyperparams: {'batch_size': 80000, 'L': 10, 'dt': 3.1622776e-06}., sample shape=(2, 10). metric: 7845\n",
      "Hyperparams: {'batch_size': 800000, 'L': 10, 'dt': 1e-07}., sample shape=(2, 10). metric: 1697\n",
      "Hyperparams: {'batch_size': 800, 'L': 10, 'dt': 3.1622776e-07}., sample shape=(29, 10). metric: 637\n",
      "Hyperparams: {'batch_size': 8000, 'L': 10, 'dt': 1e-07}., sample shape=(3, 10). metric: 808\n",
      "Hyperparams: {'batch_size': 80000, 'L': 10, 'dt': 1e-07}., sample shape=(2, 10). metric: 860\n",
      "Hyperparams: {'batch_size': 8000, 'L': 5, 'dt': 1e-07}., sample shape=(7, 10). metric: 565\n",
      "Hyperparams: {'batch_size': 80000, 'L': 5, 'dt': 3.1622776e-07}., sample shape=(2, 10). metric: 1147\n",
      "Hyperparams: {'batch_size': 800000, 'L': 5, 'dt': 3.1622776e-07}., sample shape=(2, 10). metric: 1908\n",
      "Hyperparams: {'batch_size': 80000, 'L': 5, 'dt': 1e-07}., sample shape=(2, 10). metric: 2024\n",
      "Hyperparams: {'batch_size': 80000, 'L': 10, 'dt': 3.1622776e-08}., sample shape=(2, 10). metric: 2186\n",
      "Hyperparams: {'batch_size': 800000, 'L': 5, 'dt': 1e-07}., sample shape=(2, 10). metric: 2384\n",
      "Hyperparams: {'batch_size': 800000, 'L': 5, 'dt': 3.1622776e-06}., sample shape=(2, 10). metric: 2775\n",
      "Hyperparams: {'batch_size': 8000, 'L': 10, 'dt': 3.1622776e-08}., sample shape=(4, 10). metric: 867\n",
      "Hyperparams: {'batch_size': 8000, 'L': 5, 'dt': 3.1622776e-08}., sample shape=(7, 10). metric: 1643\n",
      "Hyperparams: {'batch_size': 800000, 'L': 10, 'dt': 3.1622776e-08}., sample shape=(2, 10). metric: 2648\n",
      "Hyperparams: {'batch_size': 80000, 'L': 5, 'dt': 3.1622776e-08}., sample shape=(2, 10). metric: 3040\n",
      "Hyperparams: {'batch_size': 800000, 'L': 5, 'dt': 3.1622776e-08}., sample shape=(2, 10). metric: 3154\n",
      "Hyperparams: {'batch_size': 800000, 'L': 10, 'dt': 3.1622776e-06}., sample shape=(2, 10). metric: 3880\n",
      "Hyperparams: {'batch_size': 800000, 'L': 10, 'dt': 1e-06}., sample shape=(2, 10). metric: 4789\n",
      "Hyperparams: {'batch_size': 80000, 'L': 10, 'dt': 1e-06}., sample shape=(2, 10). metric: 7198\n",
      "Hyperparams: {'batch_size': 8000, 'L': 10, 'dt': 3.1622776e-06}., sample shape=(4, 10). metric: 72344\n",
      "Hyperparams: {'batch_size': 80000, 'L': 5, 'dt': 3.1622776e-06}., sample shape=(2, 10). metric: 7001\n",
      "Hyperparams: {'batch_size': 800, 'L': 5, 'dt': 3.1622776e-06}., sample shape=(41, 10). metric: 10386\n",
      "Hyperparams: {'batch_size': 8000, 'L': 10, 'dt': 1e-06}., sample shape=(4, 10). metric: 61131\n",
      "\n",
      "Number of samples: [2, 20, 28, 34, 7, 43, 5, 29, 2, 3, 2, 2]\n"
     ]
    },
    {
     "data": {
      "application/vnd.jupyter.widget-view+json": {
       "model_id": "89048221b0fe4d2282d7d474bc60e417",
       "version_major": 2,
       "version_minor": 0
      },
      "text/plain": [
       "HBox(children=(HTML(value='Iteration 3/4, 12 arms, time budget = 0.23 sec'), FloatProgress(value=0.0, max=12.0…"
      ]
     },
     "metadata": {},
     "output_type": "display_data"
    },
    {
     "name": "stdout",
     "output_type": "stream",
     "text": [
      "Hyperparams: {'batch_size': 800000, 'L': 5, 'dt': 1e-06}., sample shape=(3, 10). metric: 496\n",
      "Hyperparams: {'batch_size': 800, 'L': 10, 'dt': 1e-07}., sample shape=(84, 10). metric: 169\n",
      "Hyperparams: {'batch_size': 800, 'L': 10, 'dt': 3.1622776e-08}., sample shape=(91, 10). metric: 197\n",
      "Hyperparams: {'batch_size': 800, 'L': 5, 'dt': 3.1622776e-07}., sample shape=(135, 10). metric: 151\n",
      "Hyperparams: {'batch_size': 8000, 'L': 5, 'dt': 1e-07}., sample shape=(20, 10). metric: 614\n",
      "Hyperparams: {'batch_size': 800, 'L': 5, 'dt': 3.1622776e-08}., sample shape=(141, 10). metric: 346\n",
      "Hyperparams: {'batch_size': 8000, 'L': 5, 'dt': 3.1622776e-07}., sample shape=(19, 10). metric: 307\n",
      "Hyperparams: {'batch_size': 800, 'L': 10, 'dt': 3.1622776e-07}., sample shape=(98, 10). metric: 738\n",
      "Hyperparams: {'batch_size': 800000, 'L': 10, 'dt': 3.1622776e-07}., sample shape=(3, 10). metric: 606\n",
      "Hyperparams: {'batch_size': 8000, 'L': 10, 'dt': 1e-07}., sample shape=(10, 10). metric: 330\n",
      "Hyperparams: {'batch_size': 80000, 'L': 5, 'dt': 1e-06}., sample shape=(5, 10). metric: 372\n",
      "Hyperparams: {'batch_size': 80000, 'L': 10, 'dt': 1e-07}., sample shape=(4, 10). metric: 371\n",
      "\n",
      "Number of samples: [135, 84, 91, 19]\n"
     ]
    },
    {
     "data": {
      "application/vnd.jupyter.widget-view+json": {
       "model_id": "9360ff1bc670405e94a908647b4810ae",
       "version_major": 2,
       "version_minor": 0
      },
      "text/plain": [
       "HBox(children=(HTML(value='Iteration 4/4, 4 arms, time budget = 0.70 sec'), FloatProgress(value=0.0, max=4.0),…"
      ]
     },
     "metadata": {},
     "output_type": "display_data"
    },
    {
     "name": "stdout",
     "output_type": "stream",
     "text": [
      "Hyperparams: {'batch_size': 800, 'L': 5, 'dt': 3.1622776e-07}., sample shape=(465, 10). metric: 224\n",
      "Hyperparams: {'batch_size': 800, 'L': 10, 'dt': 1e-07}., sample shape=(286, 10). metric: 325\n",
      "Hyperparams: {'batch_size': 800, 'L': 10, 'dt': 3.1622776e-08}., sample shape=(300, 10). metric: 150\n",
      "Hyperparams: {'batch_size': 8000, 'L': 5, 'dt': 3.1622776e-07}., sample shape=(60, 10). metric: 241\n",
      "\n",
      "Number of samples: [300]\n",
      "Running time: 239.0 sec\n",
      "{'batch_size': 800, 'L': 10, 'dt': 3.1622776e-08} 150.34276 (300, 10)\n",
      "CPU times: user 4min 8s, sys: 36.2 s, total: 4min 44s\n",
      "Wall time: 3min 59s\n"
     ]
    }
   ],
   "source": [
    "%%time \n",
    "\n",
    "build_kernel = lambda dt, L, batch_size: build_sghmc_kernel(dt, L, loglikelihood, \n",
    "                                                  logprior, data, batch_size)\n",
    "\n",
    "grid_params = {'log_dt': logdt_range, \n",
    "               'batch_size': batch_size_range,\n",
    "               \"L\": [5, 10]\n",
    "              }\n",
    "best_arm = run_MAMBA(key, build_kernel, error_fn, R, params_IC, \n",
    "                     grid_params=grid_params, get_fb_grads=get_fb_grads)\n",
    "\n",
    "print(best_arm.hyperparameters, best_arm.metric, best_arm.samples.shape)"
   ]
  },
  {
   "cell_type": "code",
   "execution_count": 10,
   "id": "a39f7bf0",
   "metadata": {},
   "outputs": [
    {
     "data": {
      "application/vnd.jupyter.widget-view+json": {
       "model_id": "bfe8d4397f1e47fb90eb330deab94593",
       "version_major": 2,
       "version_minor": 0
      },
      "text/plain": [
       "HBox(children=(HTML(value='Iteration 1/4, 112 arms, time budget = 0.03 sec'), FloatProgress(value=0.0, max=112…"
      ]
     },
     "metadata": {},
     "output_type": "display_data"
    },
    {
     "name": "stdout",
     "output_type": "stream",
     "text": [
      "Hyperparams: {'batch_size': 800000, 'L': 5, 'dt': 0.1}., sample shape=(1, 10). metric: 390082\n",
      "Hyperparams: {'batch_size': 800000, 'L': 5, 'dt': 0.031622775}., sample shape=(1, 10). metric: 309232\n",
      "Hyperparams: {'batch_size': 800000, 'L': 5, 'dt': 0.01}., sample shape=(1, 10). metric: 346898\n",
      "Hyperparams: {'batch_size': 800000, 'L': 5, 'dt': 0.0031622776}., sample shape=(1, 10). metric: 416598\n",
      "Hyperparams: {'batch_size': 800000, 'L': 5, 'dt': 0.001}., sample shape=(1, 10). metric: 435713\n",
      "Hyperparams: {'batch_size': 800000, 'L': 5, 'dt': 0.00031622776}., sample shape=(1, 10). metric: 458591\n",
      "Hyperparams: {'batch_size': 800000, 'L': 5, 'dt': 1e-04}., sample shape=(1, 10). metric: 336311\n",
      "Hyperparams: {'batch_size': 800000, 'L': 5, 'dt': 3.1622778e-05}., sample shape=(1, 10). metric: 11153\n",
      "Hyperparams: {'batch_size': 800000, 'L': 5, 'dt': 1e-05}., sample shape=(1, 10). metric: 10747\n",
      "Hyperparams: {'batch_size': 800000, 'L': 5, 'dt': 3.1622776e-06}., sample shape=(1, 10). metric: 3178\n",
      "Hyperparams: {'batch_size': 800000, 'L': 5, 'dt': 1e-06}., sample shape=(1, 10). metric: 1073\n",
      "Hyperparams: {'batch_size': 800000, 'L': 5, 'dt': 3.1622776e-07}., sample shape=(1, 10). metric: 2778\n",
      "Hyperparams: {'batch_size': 800000, 'L': 5, 'dt': 1e-07}., sample shape=(1, 10). metric: 2921\n",
      "Hyperparams: {'batch_size': 800000, 'L': 5, 'dt': 3.1622776e-08}., sample shape=(1, 10). metric: 3180\n",
      "Hyperparams: {'batch_size': 800000, 'L': 10, 'dt': 0.1}., sample shape=(1, 10). metric: 185260\n",
      "Hyperparams: {'batch_size': 800000, 'L': 10, 'dt': 0.031622775}., sample shape=(1, 10). metric: 119656\n",
      "Hyperparams: {'batch_size': 800000, 'L': 10, 'dt': 0.01}., sample shape=(1, 10). metric: 125526\n",
      "Hyperparams: {'batch_size': 800000, 'L': 10, 'dt': 0.0031622776}., sample shape=(1, 10). metric: 77362\n",
      "Hyperparams: {'batch_size': 800000, 'L': 10, 'dt': 0.001}., sample shape=(1, 10). metric: 237016\n",
      "Hyperparams: {'batch_size': 800000, 'L': 10, 'dt': 0.00031622776}., sample shape=(1, 10). metric: 392118\n",
      "Hyperparams: {'batch_size': 800000, 'L': 10, 'dt': 1e-04}., sample shape=(1, 10). metric: 318225\n",
      "Hyperparams: {'batch_size': 800000, 'L': 10, 'dt': 3.1622778e-05}., sample shape=(1, 10). metric: 499665\n",
      "Hyperparams: {'batch_size': 800000, 'L': 10, 'dt': 1e-05}., sample shape=(1, 10). metric: 31613\n",
      "Hyperparams: {'batch_size': 800000, 'L': 10, 'dt': 3.1622776e-06}., sample shape=(1, 10). metric: 3471\n",
      "Hyperparams: {'batch_size': 800000, 'L': 10, 'dt': 1e-06}., sample shape=(1, 10). metric: 3443\n",
      "Hyperparams: {'batch_size': 800000, 'L': 10, 'dt': 3.1622776e-07}., sample shape=(1, 10). metric: 762\n",
      "Hyperparams: {'batch_size': 800000, 'L': 10, 'dt': 1e-07}., sample shape=(1, 10). metric: 2002\n",
      "Hyperparams: {'batch_size': 800000, 'L': 10, 'dt': 3.1622776e-08}., sample shape=(1, 10). metric: 3055\n",
      "Hyperparams: {'batch_size': 80000, 'L': 5, 'dt': 0.1}., sample shape=(1, 10). metric: 315306\n",
      "Hyperparams: {'batch_size': 80000, 'L': 5, 'dt': 0.031622775}., sample shape=(1, 10). metric: 375995\n",
      "Hyperparams: {'batch_size': 80000, 'L': 5, 'dt': 0.01}., sample shape=(1, 10). metric: 383295\n",
      "Hyperparams: {'batch_size': 80000, 'L': 5, 'dt': 0.0031622776}., sample shape=(1, 10). metric: 409277\n",
      "Hyperparams: {'batch_size': 80000, 'L': 5, 'dt': 0.001}., sample shape=(1, 10). metric: 441228\n",
      "Hyperparams: {'batch_size': 80000, 'L': 5, 'dt': 0.00031622776}., sample shape=(1, 10). metric: 456433\n",
      "Hyperparams: {'batch_size': 80000, 'L': 5, 'dt': 1e-04}., sample shape=(1, 10). metric: 332370\n",
      "Hyperparams: {'batch_size': 80000, 'L': 5, 'dt': 3.1622778e-05}., sample shape=(1, 10). metric: 18890\n",
      "Hyperparams: {'batch_size': 80000, 'L': 5, 'dt': 1e-05}., sample shape=(1, 10). metric: 10732\n",
      "Hyperparams: {'batch_size': 80000, 'L': 5, 'dt': 3.1622776e-06}., sample shape=(1, 10). metric: 4219\n",
      "Hyperparams: {'batch_size': 80000, 'L': 5, 'dt': 1e-06}., sample shape=(1, 10). metric: 1491\n",
      "Hyperparams: {'batch_size': 80000, 'L': 5, 'dt': 3.1622776e-07}., sample shape=(1, 10). metric: 2602\n",
      "Hyperparams: {'batch_size': 80000, 'L': 5, 'dt': 1e-07}., sample shape=(1, 10). metric: 2808\n",
      "Hyperparams: {'batch_size': 80000, 'L': 5, 'dt': 3.1622776e-08}., sample shape=(1, 10). metric: 3124\n",
      "Hyperparams: {'batch_size': 80000, 'L': 10, 'dt': 0.1}., sample shape=(1, 10). metric: 172423\n",
      "Hyperparams: {'batch_size': 80000, 'L': 10, 'dt': 0.031622775}., sample shape=(1, 10). metric: 118226\n",
      "Hyperparams: {'batch_size': 80000, 'L': 10, 'dt': 0.01}., sample shape=(1, 10). metric: 127179\n",
      "Hyperparams: {'batch_size': 80000, 'L': 10, 'dt': 0.0031622776}., sample shape=(1, 10). metric: 109437\n",
      "Hyperparams: {'batch_size': 80000, 'L': 10, 'dt': 0.001}., sample shape=(1, 10). metric: 296688\n",
      "Hyperparams: {'batch_size': 80000, 'L': 10, 'dt': 0.00031622776}., sample shape=(1, 10). metric: 386752\n",
      "Hyperparams: {'batch_size': 80000, 'L': 10, 'dt': 1e-04}., sample shape=(1, 10). metric: 320278\n",
      "Hyperparams: {'batch_size': 80000, 'L': 10, 'dt': 3.1622778e-05}., sample shape=(1, 10). metric: 498027\n",
      "Hyperparams: {'batch_size': 80000, 'L': 10, 'dt': 1e-05}., sample shape=(1, 10). metric: 29531\n",
      "Hyperparams: {'batch_size': 80000, 'L': 10, 'dt': 3.1622776e-06}., sample shape=(1, 10). metric: 2078\n",
      "Hyperparams: {'batch_size': 80000, 'L': 10, 'dt': 1e-06}., sample shape=(1, 10). metric: 3723\n",
      "Hyperparams: {'batch_size': 80000, 'L': 10, 'dt': 3.1622776e-07}., sample shape=(1, 10). metric: 809\n",
      "Hyperparams: {'batch_size': 80000, 'L': 10, 'dt': 1e-07}., sample shape=(1, 10). metric: 2428\n",
      "Hyperparams: {'batch_size': 80000, 'L': 10, 'dt': 3.1622776e-08}., sample shape=(1, 10). metric: 2902\n",
      "Hyperparams: {'batch_size': 8000, 'L': 5, 'dt': 0.1}., sample shape=(2, 10). metric: 220973\n",
      "Hyperparams: {'batch_size': 8000, 'L': 5, 'dt': 0.031622775}., sample shape=(2, 10). metric: 188251\n",
      "Hyperparams: {'batch_size': 8000, 'L': 5, 'dt': 0.01}., sample shape=(2, 10). metric: 195322\n",
      "Hyperparams: {'batch_size': 8000, 'L': 5, 'dt': 0.0031622776}., sample shape=(2, 10). metric: 205080\n",
      "Hyperparams: {'batch_size': 8000, 'L': 5, 'dt': 0.001}., sample shape=(1, 10). metric: 436609\n",
      "Hyperparams: {'batch_size': 8000, 'L': 5, 'dt': 0.00031622776}., sample shape=(2, 10). metric: 228273\n",
      "Hyperparams: {'batch_size': 8000, 'L': 5, 'dt': 1e-04}., sample shape=(2, 10). metric: 164172\n",
      "Hyperparams: {'batch_size': 8000, 'L': 5, 'dt': 3.1622778e-05}., sample shape=(2, 10). metric: 37281\n",
      "Hyperparams: {'batch_size': 8000, 'L': 5, 'dt': 1e-05}., sample shape=(1, 10). metric: 11386\n",
      "Hyperparams: {'batch_size': 8000, 'L': 5, 'dt': 3.1622776e-06}., sample shape=(2, 10). metric: 5179\n",
      "Hyperparams: {'batch_size': 8000, 'L': 5, 'dt': 1e-06}., sample shape=(2, 10). metric: 1070\n",
      "Hyperparams: {'batch_size': 8000, 'L': 5, 'dt': 3.1622776e-07}., sample shape=(2, 10). metric: 1401\n",
      "Hyperparams: {'batch_size': 8000, 'L': 5, 'dt': 1e-07}., sample shape=(2, 10). metric: 2314\n",
      "Hyperparams: {'batch_size': 8000, 'L': 5, 'dt': 3.1622776e-08}., sample shape=(2, 10). metric: 2935\n",
      "Hyperparams: {'batch_size': 8000, 'L': 10, 'dt': 0.1}., sample shape=(1, 10). metric: 146543\n",
      "Hyperparams: {'batch_size': 8000, 'L': 10, 'dt': 0.031622775}., sample shape=(1, 10). metric: 141226\n",
      "Hyperparams: {'batch_size': 8000, 'L': 10, 'dt': 0.01}., sample shape=(1, 10). metric: 104461\n",
      "Hyperparams: {'batch_size': 8000, 'L': 10, 'dt': 0.0031622776}., sample shape=(1, 10). metric: 69237\n",
      "Hyperparams: {'batch_size': 8000, 'L': 10, 'dt': 0.001}., sample shape=(1, 10). metric: 202614\n",
      "Hyperparams: {'batch_size': 8000, 'L': 10, 'dt': 0.00031622776}., sample shape=(1, 10). metric: 378913\n",
      "Hyperparams: {'batch_size': 8000, 'L': 10, 'dt': 1e-04}., sample shape=(1, 10). metric: 366227\n",
      "Hyperparams: {'batch_size': 8000, 'L': 10, 'dt': 3.1622778e-05}., sample shape=(1, 10). metric: 498208\n",
      "Hyperparams: {'batch_size': 8000, 'L': 10, 'dt': 1e-05}., sample shape=(1, 10). metric: 35493\n",
      "Hyperparams: {'batch_size': 8000, 'L': 10, 'dt': 3.1622776e-06}., sample shape=(1, 10). metric: 3719\n",
      "Hyperparams: {'batch_size': 8000, 'L': 10, 'dt': 1e-06}., sample shape=(1, 10). metric: 3513\n",
      "Hyperparams: {'batch_size': 8000, 'L': 10, 'dt': 3.1622776e-07}., sample shape=(1, 10). metric: 864\n",
      "Hyperparams: {'batch_size': 8000, 'L': 10, 'dt': 1e-07}., sample shape=(1, 10). metric: 2709\n",
      "Hyperparams: {'batch_size': 8000, 'L': 10, 'dt': 3.1622776e-08}., sample shape=(1, 10). metric: 2910\n"
     ]
    },
    {
     "name": "stdout",
     "output_type": "stream",
     "text": [
      "Hyperparams: {'batch_size': 800, 'L': 5, 'dt': 0.1}., sample shape=(10, 10). metric: 83090\n",
      "Hyperparams: {'batch_size': 800, 'L': 5, 'dt': 0.031622775}., sample shape=(9, 10). metric: 60704\n",
      "Hyperparams: {'batch_size': 800, 'L': 5, 'dt': 0.01}., sample shape=(9, 10). metric: 58946\n",
      "Hyperparams: {'batch_size': 800, 'L': 5, 'dt': 0.0031622776}., sample shape=(10, 10). metric: 52544\n",
      "Hyperparams: {'batch_size': 800, 'L': 5, 'dt': 0.001}., sample shape=(10, 10). metric: 51304\n",
      "Hyperparams: {'batch_size': 800, 'L': 5, 'dt': 0.00031622776}., sample shape=(10, 10). metric: 53056\n",
      "Hyperparams: {'batch_size': 800, 'L': 5, 'dt': 1e-04}., sample shape=(10, 10). metric: 44199\n",
      "Hyperparams: {'batch_size': 800, 'L': 5, 'dt': 3.1622778e-05}., sample shape=(10, 10). metric: 32222\n",
      "Hyperparams: {'batch_size': 800, 'L': 5, 'dt': 1e-05}., sample shape=(10, 10). metric: 39187\n",
      "Hyperparams: {'batch_size': 800, 'L': 5, 'dt': 3.1622776e-06}., sample shape=(10, 10). metric: 16305\n",
      "Hyperparams: {'batch_size': 800, 'L': 5, 'dt': 1e-06}., sample shape=(10, 10). metric: 216\n",
      "Hyperparams: {'batch_size': 800, 'L': 5, 'dt': 3.1622776e-07}., sample shape=(10, 10). metric: 286\n",
      "Hyperparams: {'batch_size': 800, 'L': 5, 'dt': 1e-07}., sample shape=(10, 10). metric: 708\n",
      "Hyperparams: {'batch_size': 800, 'L': 5, 'dt': 3.1622776e-08}., sample shape=(10, 10). metric: 1300\n",
      "Hyperparams: {'batch_size': 800, 'L': 10, 'dt': 0.1}., sample shape=(6, 10). metric: 181604\n",
      "Hyperparams: {'batch_size': 800, 'L': 10, 'dt': 0.031622775}., sample shape=(6, 10). metric: 101269\n",
      "Hyperparams: {'batch_size': 800, 'L': 10, 'dt': 0.01}., sample shape=(6, 10). metric: 67083\n",
      "Hyperparams: {'batch_size': 800, 'L': 10, 'dt': 0.0031622776}., sample shape=(6, 10). metric: 52469\n",
      "Hyperparams: {'batch_size': 800, 'L': 10, 'dt': 0.001}., sample shape=(6, 10). metric: 58622\n",
      "Hyperparams: {'batch_size': 800, 'L': 10, 'dt': 0.00031622776}., sample shape=(6, 10). metric: 76606\n",
      "Hyperparams: {'batch_size': 800, 'L': 10, 'dt': 1e-04}., sample shape=(6, 10). metric: 70130\n",
      "Hyperparams: {'batch_size': 800, 'L': 10, 'dt': 3.1622778e-05}., sample shape=(6, 10). metric: 87588\n",
      "Hyperparams: {'batch_size': 800, 'L': 10, 'dt': 1e-05}., sample shape=(6, 10). metric: 30726\n",
      "Hyperparams: {'batch_size': 800, 'L': 10, 'dt': 3.1622776e-06}., sample shape=(6, 10). metric: 52658\n",
      "Hyperparams: {'batch_size': 800, 'L': 10, 'dt': 1e-06}., sample shape=(6, 10). metric: 40898\n",
      "Hyperparams: {'batch_size': 800, 'L': 10, 'dt': 3.1622776e-07}., sample shape=(6, 10). metric: 183\n",
      "Hyperparams: {'batch_size': 800, 'L': 10, 'dt': 1e-07}., sample shape=(6, 10). metric: 555\n",
      "Hyperparams: {'batch_size': 800, 'L': 10, 'dt': 3.1622776e-08}., sample shape=(6, 10). metric: 732\n",
      "\n",
      "Number of samples: [6, 10, 10, 6, 10, 6, 1, 1, 1, 2, 1, 10, 2, 1, 1, 1, 2, 1, 1, 1, 1, 1, 1, 1, 1, 2, 1, 1, 1, 1, 1, 1, 1, 1, 1, 1, 2]\n"
     ]
    },
    {
     "data": {
      "application/vnd.jupyter.widget-view+json": {
       "model_id": "e5955b97928c4bd4aef5275066b3a666",
       "version_major": 2,
       "version_minor": 0
      },
      "text/plain": [
       "HBox(children=(HTML(value='Iteration 2/4, 37 arms, time budget = 0.08 sec'), FloatProgress(value=0.0, max=37.0…"
      ]
     },
     "metadata": {},
     "output_type": "display_data"
    },
    {
     "name": "stdout",
     "output_type": "stream",
     "text": [
      "Hyperparams: {'batch_size': 800, 'L': 10, 'dt': 3.1622776e-07}., sample shape=(25, 10). metric: 116\n",
      "Hyperparams: {'batch_size': 800, 'L': 5, 'dt': 1e-06}., sample shape=(40, 10). metric: 114\n",
      "Hyperparams: {'batch_size': 800, 'L': 5, 'dt': 3.1622776e-07}., sample shape=(39, 10). metric: 150\n",
      "Hyperparams: {'batch_size': 800, 'L': 10, 'dt': 1e-07}., sample shape=(24, 10). metric: 230\n",
      "Hyperparams: {'batch_size': 800, 'L': 5, 'dt': 1e-07}., sample shape=(40, 10). metric: 183\n",
      "Hyperparams: {'batch_size': 800, 'L': 10, 'dt': 3.1622776e-08}., sample shape=(24, 10). metric: 232\n",
      "Hyperparams: {'batch_size': 800000, 'L': 10, 'dt': 3.1622776e-07}., sample shape=(2, 10). metric: 551\n",
      "Hyperparams: {'batch_size': 80000, 'L': 10, 'dt': 3.1622776e-07}., sample shape=(2, 10). metric: 713\n",
      "Hyperparams: {'batch_size': 8000, 'L': 10, 'dt': 3.1622776e-07}., sample shape=(3, 10). metric: 375\n",
      "Hyperparams: {'batch_size': 8000, 'L': 5, 'dt': 1e-06}., sample shape=(6, 10). metric: 380\n",
      "Hyperparams: {'batch_size': 800000, 'L': 5, 'dt': 1e-06}., sample shape=(2, 10). metric: 662\n",
      "Hyperparams: {'batch_size': 800, 'L': 5, 'dt': 3.1622776e-08}., sample shape=(40, 10). metric: 390\n",
      "Hyperparams: {'batch_size': 8000, 'L': 5, 'dt': 3.1622776e-07}., sample shape=(6, 10). metric: 289\n",
      "Hyperparams: {'batch_size': 80000, 'L': 5, 'dt': 1e-06}., sample shape=(2, 10). metric: 788\n",
      "Hyperparams: {'batch_size': 800000, 'L': 10, 'dt': 1e-07}., sample shape=(2, 10). metric: 1688\n",
      "Hyperparams: {'batch_size': 80000, 'L': 10, 'dt': 3.1622776e-06}., sample shape=(2, 10). metric: 3345\n",
      "Hyperparams: {'batch_size': 8000, 'L': 5, 'dt': 1e-07}., sample shape=(6, 10). metric: 864\n",
      "Hyperparams: {'batch_size': 80000, 'L': 10, 'dt': 1e-07}., sample shape=(2, 10). metric: 1407\n",
      "Hyperparams: {'batch_size': 80000, 'L': 5, 'dt': 3.1622776e-07}., sample shape=(2, 10). metric: 1184\n",
      "Hyperparams: {'batch_size': 8000, 'L': 10, 'dt': 1e-07}., sample shape=(3, 10). metric: 463\n",
      "Hyperparams: {'batch_size': 800000, 'L': 5, 'dt': 3.1622776e-07}., sample shape=(2, 10). metric: 1903\n",
      "Hyperparams: {'batch_size': 80000, 'L': 5, 'dt': 1e-07}., sample shape=(2, 10). metric: 2011\n",
      "Hyperparams: {'batch_size': 80000, 'L': 10, 'dt': 3.1622776e-08}., sample shape=(2, 10). metric: 2283\n",
      "Hyperparams: {'batch_size': 8000, 'L': 10, 'dt': 3.1622776e-08}., sample shape=(3, 10). metric: 1219\n",
      "Hyperparams: {'batch_size': 800000, 'L': 5, 'dt': 1e-07}., sample shape=(2, 10). metric: 2562\n",
      "Hyperparams: {'batch_size': 8000, 'L': 5, 'dt': 3.1622776e-08}., sample shape=(6, 10). metric: 1946\n",
      "Hyperparams: {'batch_size': 800000, 'L': 10, 'dt': 3.1622776e-08}., sample shape=(2, 10). metric: 2481\n",
      "Hyperparams: {'batch_size': 80000, 'L': 5, 'dt': 3.1622776e-08}., sample shape=(2, 10). metric: 3074\n",
      "Hyperparams: {'batch_size': 800000, 'L': 5, 'dt': 3.1622776e-06}., sample shape=(2, 10). metric: 3494\n",
      "Hyperparams: {'batch_size': 800000, 'L': 5, 'dt': 3.1622776e-08}., sample shape=(2, 10). metric: 3153\n",
      "Hyperparams: {'batch_size': 800000, 'L': 10, 'dt': 1e-06}., sample shape=(2, 10). metric: 5043\n",
      "Hyperparams: {'batch_size': 800000, 'L': 10, 'dt': 3.1622776e-06}., sample shape=(2, 10). metric: 3962\n",
      "Hyperparams: {'batch_size': 8000, 'L': 10, 'dt': 1e-06}., sample shape=(3, 10). metric: 38308\n",
      "Hyperparams: {'batch_size': 8000, 'L': 10, 'dt': 3.1622776e-06}., sample shape=(3, 10). metric: 39948\n",
      "Hyperparams: {'batch_size': 80000, 'L': 10, 'dt': 1e-06}., sample shape=(2, 10). metric: 5932\n",
      "Hyperparams: {'batch_size': 80000, 'L': 5, 'dt': 3.1622776e-06}., sample shape=(2, 10). metric: 4749\n",
      "Hyperparams: {'batch_size': 8000, 'L': 5, 'dt': 3.1622776e-06}., sample shape=(6, 10). metric: 19371\n",
      "\n",
      "Number of samples: [40, 25, 39, 40, 24, 24, 6, 3, 6, 40, 3, 2]\n"
     ]
    },
    {
     "data": {
      "application/vnd.jupyter.widget-view+json": {
       "model_id": "c776018b32be4a219ef46cf4363aabc9",
       "version_major": 2,
       "version_minor": 0
      },
      "text/plain": [
       "HBox(children=(HTML(value='Iteration 3/4, 12 arms, time budget = 0.23 sec'), FloatProgress(value=0.0, max=12.0…"
      ]
     },
     "metadata": {},
     "output_type": "display_data"
    },
    {
     "name": "stdout",
     "output_type": "stream",
     "text": [
      "Hyperparams: {'batch_size': 800, 'L': 5, 'dt': 1e-06}., sample shape=(131, 10). metric: 126\n",
      "Hyperparams: {'batch_size': 800, 'L': 10, 'dt': 3.1622776e-07}., sample shape=(82, 10). metric: 80\n",
      "Hyperparams: {'batch_size': 800, 'L': 5, 'dt': 3.1622776e-07}., sample shape=(133, 10). metric: 90\n",
      "Hyperparams: {'batch_size': 800, 'L': 5, 'dt': 1e-07}., sample shape=(128, 10). metric: 218\n",
      "Hyperparams: {'batch_size': 800, 'L': 10, 'dt': 1e-07}., sample shape=(81, 10). metric: 105\n",
      "Hyperparams: {'batch_size': 800, 'L': 10, 'dt': 3.1622776e-08}., sample shape=(80, 10). metric: 125\n",
      "Hyperparams: {'batch_size': 8000, 'L': 5, 'dt': 3.1622776e-07}., sample shape=(16, 10). metric: 275\n",
      "Hyperparams: {'batch_size': 8000, 'L': 10, 'dt': 3.1622776e-07}., sample shape=(9, 10). metric: 307\n",
      "Hyperparams: {'batch_size': 8000, 'L': 5, 'dt': 1e-06}., sample shape=(17, 10). metric: 175\n",
      "Hyperparams: {'batch_size': 800, 'L': 5, 'dt': 3.1622776e-08}., sample shape=(128, 10). metric: 175\n",
      "Hyperparams: {'batch_size': 8000, 'L': 10, 'dt': 1e-07}., sample shape=(9, 10). metric: 450\n",
      "Hyperparams: {'batch_size': 800000, 'L': 10, 'dt': 3.1622776e-07}., sample shape=(3, 10). metric: 582\n",
      "\n",
      "Number of samples: [82, 133, 81, 80]\n"
     ]
    },
    {
     "data": {
      "application/vnd.jupyter.widget-view+json": {
       "model_id": "4651c7dac89b4fd0a0fe8adbedbe092f",
       "version_major": 2,
       "version_minor": 0
      },
      "text/plain": [
       "HBox(children=(HTML(value='Iteration 4/4, 4 arms, time budget = 0.70 sec'), FloatProgress(value=0.0, max=4.0),…"
      ]
     },
     "metadata": {},
     "output_type": "display_data"
    },
    {
     "name": "stdout",
     "output_type": "stream",
     "text": [
      "Hyperparams: {'batch_size': 800, 'L': 10, 'dt': 3.1622776e-07}., sample shape=(252, 10). metric: 67\n",
      "Hyperparams: {'batch_size': 800, 'L': 5, 'dt': 3.1622776e-07}., sample shape=(398, 10). metric: 53\n",
      "Hyperparams: {'batch_size': 800, 'L': 10, 'dt': 1e-07}., sample shape=(250, 10). metric: 48\n",
      "Hyperparams: {'batch_size': 800, 'L': 10, 'dt': 3.1622776e-08}., sample shape=(253, 10). metric: 74\n",
      "\n",
      "Number of samples: [250]\n",
      "Running time: 270.2 sec\n",
      "{'batch_size': 800, 'L': 10, 'dt': 1e-07} 48.145916 (250, 10)\n",
      "CPU times: user 5min 18s, sys: 35.2 s, total: 5min 53s\n",
      "Wall time: 4min 46s\n"
     ]
    }
   ],
   "source": [
    "%%time\n",
    "\n",
    "build_kernel = lambda dt, L, batch_size: build_sghmcCV_kernel(dt, L, loglikelihood, \n",
    "                                                  logprior, data, batch_size, centering_value)\n",
    "\n",
    "grid_params = {'log_dt': logdt_range, \n",
    "               'batch_size': batch_size_range,\n",
    "               \"L\": [5, 10]\n",
    "              }\n",
    "best_arm = run_MAMBA(key, build_kernel, error_fn, R, params_IC, \n",
    "                     grid_params=grid_params, get_fb_grads=get_fb_grads)\n",
    "\n",
    "print(best_arm.hyperparameters, best_arm.metric, best_arm.samples.shape)"
   ]
  },
  {
   "cell_type": "code",
   "execution_count": 11,
   "id": "2cafa0ac",
   "metadata": {},
   "outputs": [
    {
     "data": {
      "application/vnd.jupyter.widget-view+json": {
       "model_id": "e2d3d849460b43cba9c1d9413ac7a216",
       "version_major": 2,
       "version_minor": 0
      },
      "text/plain": [
       "HBox(children=(HTML(value='Iteration 1/3, 56 arms, time budget = 0.08 sec'), FloatProgress(value=0.0, max=56.0…"
      ]
     },
     "metadata": {},
     "output_type": "display_data"
    },
    {
     "name": "stdout",
     "output_type": "stream",
     "text": [
      "Hyperparams: {'batch_size': 800000, 'dt': 0.1}., sample shape=(1, 10). metric: 627259\n",
      "Hyperparams: {'batch_size': 800000, 'dt': 0.031622775}., sample shape=(1, 10). metric: 621158\n",
      "Hyperparams: {'batch_size': 800000, 'dt': 0.01}., sample shape=(1, 10). metric: 597799\n",
      "Hyperparams: {'batch_size': 800000, 'dt': 0.0031622776}., sample shape=(1, 10). metric: 486930\n",
      "Hyperparams: {'batch_size': 800000, 'dt': 0.001}., sample shape=(1, 10). metric: 237438\n",
      "Hyperparams: {'batch_size': 800000, 'dt': 0.00031622776}., sample shape=(1, 10). metric: 66769\n",
      "Hyperparams: {'batch_size': 800000, 'dt': 1e-04}., sample shape=(1, 10). metric: 23182\n",
      "Hyperparams: {'batch_size': 800000, 'dt': 3.1622778e-05}., sample shape=(1, 10). metric: 5319\n",
      "Hyperparams: {'batch_size': 800000, 'dt': 1e-05}., sample shape=(1, 10). metric: 1454\n",
      "Hyperparams: {'batch_size': 800000, 'dt': 3.1622776e-06}., sample shape=(1, 10). metric: 2576\n",
      "Hyperparams: {'batch_size': 800000, 'dt': 1e-06}., sample shape=(1, 10). metric: 3050\n",
      "Hyperparams: {'batch_size': 800000, 'dt': 3.1622776e-07}., sample shape=(1, 10). metric: 3183\n",
      "Hyperparams: {'batch_size': 800000, 'dt': 1e-07}., sample shape=(1, 10). metric: 3166\n",
      "Hyperparams: {'batch_size': 800000, 'dt': 3.1622776e-08}., sample shape=(1, 10). metric: 3182\n",
      "Hyperparams: {'batch_size': 80000, 'dt': 0.1}., sample shape=(4, 10). metric: inf\n",
      "Hyperparams: {'batch_size': 80000, 'dt': 0.031622775}., sample shape=(4, 10). metric: inf\n",
      "Hyperparams: {'batch_size': 80000, 'dt': 0.01}., sample shape=(4, 10). metric: inf\n",
      "Hyperparams: {'batch_size': 80000, 'dt': 0.0031622776}., sample shape=(4, 10). metric: inf\n",
      "Hyperparams: {'batch_size': 80000, 'dt': 0.001}., sample shape=(3, 10). metric: inf\n",
      "Hyperparams: {'batch_size': 80000, 'dt': 0.00031622776}., sample shape=(4, 10). metric: inf\n",
      "Hyperparams: {'batch_size': 80000, 'dt': 1e-04}., sample shape=(4, 10). metric: inf\n",
      "Hyperparams: {'batch_size': 80000, 'dt': 3.1622778e-05}., sample shape=(4, 10). metric: 3460\n",
      "Hyperparams: {'batch_size': 80000, 'dt': 1e-05}., sample shape=(4, 10). metric: 1450\n",
      "Hyperparams: {'batch_size': 80000, 'dt': 3.1622776e-06}., sample shape=(4, 10). metric: 306\n",
      "Hyperparams: {'batch_size': 80000, 'dt': 1e-06}., sample shape=(4, 10). metric: 279\n",
      "Hyperparams: {'batch_size': 80000, 'dt': 3.1622776e-07}., sample shape=(4, 10). metric: 524\n",
      "Hyperparams: {'batch_size': 80000, 'dt': 1e-07}., sample shape=(3, 10). metric: 1485\n",
      "Hyperparams: {'batch_size': 80000, 'dt': 3.1622776e-08}., sample shape=(3, 10). metric: 2591\n",
      "Hyperparams: {'batch_size': 8000, 'dt': 0.1}., sample shape=(15, 10). metric: inf\n",
      "Hyperparams: {'batch_size': 8000, 'dt': 0.031622775}., sample shape=(18, 10). metric: inf\n",
      "Hyperparams: {'batch_size': 8000, 'dt': 0.01}., sample shape=(15, 10). metric: inf\n",
      "Hyperparams: {'batch_size': 8000, 'dt': 0.0031622776}., sample shape=(17, 10). metric: inf\n",
      "Hyperparams: {'batch_size': 8000, 'dt': 0.001}., sample shape=(17, 10). metric: inf\n",
      "Hyperparams: {'batch_size': 8000, 'dt': 0.00031622776}., sample shape=(17, 10). metric: inf\n",
      "Hyperparams: {'batch_size': 8000, 'dt': 1e-04}., sample shape=(18, 10). metric: inf\n",
      "Hyperparams: {'batch_size': 8000, 'dt': 3.1622778e-05}., sample shape=(17, 10). metric: inf\n",
      "Hyperparams: {'batch_size': 8000, 'dt': 1e-05}., sample shape=(17, 10). metric: 1961\n",
      "Hyperparams: {'batch_size': 8000, 'dt': 3.1622776e-06}., sample shape=(16, 10). metric: 1267\n",
      "Hyperparams: {'batch_size': 8000, 'dt': 1e-06}., sample shape=(16, 10). metric: 597\n",
      "Hyperparams: {'batch_size': 8000, 'dt': 3.1622776e-07}., sample shape=(16, 10). metric: 679\n",
      "Hyperparams: {'batch_size': 8000, 'dt': 1e-07}., sample shape=(17, 10). metric: 374\n",
      "Hyperparams: {'batch_size': 8000, 'dt': 3.1622776e-08}., sample shape=(17, 10). metric: 697\n",
      "Hyperparams: {'batch_size': 800, 'dt': 0.1}., sample shape=(49, 10). metric: inf\n",
      "Hyperparams: {'batch_size': 800, 'dt': 0.031622775}., sample shape=(50, 10). metric: inf\n",
      "Hyperparams: {'batch_size': 800, 'dt': 0.01}., sample shape=(50, 10). metric: inf\n",
      "Hyperparams: {'batch_size': 800, 'dt': 0.0031622776}., sample shape=(52, 10). metric: inf\n",
      "Hyperparams: {'batch_size': 800, 'dt': 0.001}., sample shape=(51, 10). metric: inf\n",
      "Hyperparams: {'batch_size': 800, 'dt': 0.00031622776}., sample shape=(48, 10). metric: inf\n",
      "Hyperparams: {'batch_size': 800, 'dt': 1e-04}., sample shape=(48, 10). metric: inf\n",
      "Hyperparams: {'batch_size': 800, 'dt': 3.1622778e-05}., sample shape=(49, 10). metric: inf\n",
      "Hyperparams: {'batch_size': 800, 'dt': 1e-05}., sample shape=(51, 10). metric: inf\n",
      "Hyperparams: {'batch_size': 800, 'dt': 3.1622776e-06}., sample shape=(52, 10). metric: 967\n",
      "Hyperparams: {'batch_size': 800, 'dt': 1e-06}., sample shape=(48, 10). metric: 925\n",
      "Hyperparams: {'batch_size': 800, 'dt': 3.1622776e-07}., sample shape=(48, 10). metric: 1375\n",
      "Hyperparams: {'batch_size': 800, 'dt': 1e-07}., sample shape=(49, 10). metric: 1046\n",
      "Hyperparams: {'batch_size': 800, 'dt': 3.1622776e-08}., sample shape=(50, 10). metric: 595\n",
      "\n",
      "Number of samples: [4, 4, 17, 4, 50, 16, 16, 17, 48, 52, 49, 16, 48, 4, 1, 3, 17, 1]\n"
     ]
    },
    {
     "data": {
      "application/vnd.jupyter.widget-view+json": {
       "model_id": "24b2134bb062474bb1e3c0591abcfc2f",
       "version_major": 2,
       "version_minor": 0
      },
      "text/plain": [
       "HBox(children=(HTML(value='Iteration 2/3, 18 arms, time budget = 0.24 sec'), FloatProgress(value=0.0, max=18.0…"
      ]
     },
     "metadata": {},
     "output_type": "display_data"
    },
    {
     "name": "stdout",
     "output_type": "stream",
     "text": [
      "Hyperparams: {'batch_size': 80000, 'dt': 1e-06}., sample shape=(13, 10). metric: 213\n",
      "Hyperparams: {'batch_size': 80000, 'dt': 3.1622776e-06}., sample shape=(12, 10). metric: 729\n",
      "Hyperparams: {'batch_size': 8000, 'dt': 1e-07}., sample shape=(56, 10). metric: 287\n",
      "Hyperparams: {'batch_size': 80000, 'dt': 3.1622776e-07}., sample shape=(12, 10). metric: 208\n",
      "Hyperparams: {'batch_size': 800, 'dt': 3.1622776e-08}., sample shape=(202, 10). metric: 544\n",
      "Hyperparams: {'batch_size': 8000, 'dt': 1e-06}., sample shape=(62, 10). metric: 429\n",
      "Hyperparams: {'batch_size': 8000, 'dt': 3.1622776e-07}., sample shape=(67, 10). metric: 383\n",
      "Hyperparams: {'batch_size': 8000, 'dt': 3.1622776e-08}., sample shape=(66, 10). metric: 235\n",
      "Hyperparams: {'batch_size': 800, 'dt': 1e-06}., sample shape=(184, 10). metric: 725\n",
      "Hyperparams: {'batch_size': 800, 'dt': 3.1622776e-06}., sample shape=(201, 10). metric: 896\n",
      "Hyperparams: {'batch_size': 800, 'dt': 1e-07}., sample shape=(188, 10). metric: 566\n",
      "Hyperparams: {'batch_size': 8000, 'dt': 3.1622776e-06}., sample shape=(64, 10). metric: 426\n",
      "Hyperparams: {'batch_size': 800, 'dt': 3.1622776e-07}., sample shape=(200, 10). metric: 706\n",
      "Hyperparams: {'batch_size': 80000, 'dt': 1e-05}., sample shape=(13, 10). metric: 1702\n",
      "Hyperparams: {'batch_size': 800000, 'dt': 1e-05}., sample shape=(5, 10). metric: 527\n",
      "Hyperparams: {'batch_size': 80000, 'dt': 1e-07}., sample shape=(12, 10). metric: 362\n",
      "Hyperparams: {'batch_size': 8000, 'dt': 1e-05}., sample shape=(68, 10). metric: 1027\n",
      "Hyperparams: {'batch_size': 800000, 'dt': 3.1622776e-06}., sample shape=(4, 10). metric: 433\n",
      "\n",
      "Number of samples: [12, 13, 66, 56, 12, 67]\n"
     ]
    },
    {
     "data": {
      "application/vnd.jupyter.widget-view+json": {
       "model_id": "a8114b51febf499a97da47fc2e32e306",
       "version_major": 2,
       "version_minor": 0
      },
      "text/plain": [
       "HBox(children=(HTML(value='Iteration 3/3, 6 arms, time budget = 0.72 sec'), FloatProgress(value=0.0, max=6.0),…"
      ]
     },
     "metadata": {},
     "output_type": "display_data"
    },
    {
     "name": "stdout",
     "output_type": "stream",
     "text": [
      "Hyperparams: {'batch_size': 80000, 'dt': 3.1622776e-07}., sample shape=(40, 10). metric: 206\n",
      "Hyperparams: {'batch_size': 80000, 'dt': 1e-06}., sample shape=(37, 10). metric: 107\n",
      "Hyperparams: {'batch_size': 8000, 'dt': 3.1622776e-08}., sample shape=(224, 10). metric: 135\n",
      "Hyperparams: {'batch_size': 8000, 'dt': 1e-07}., sample shape=(206, 10). metric: 116\n",
      "Hyperparams: {'batch_size': 80000, 'dt': 1e-07}., sample shape=(36, 10). metric: 132\n",
      "Hyperparams: {'batch_size': 8000, 'dt': 3.1622776e-07}., sample shape=(227, 10). metric: 170\n",
      "\n",
      "Number of samples: [37, 206]\n",
      "Running time: 176.9 sec\n",
      "{'batch_size': 80000, 'dt': 1e-06} 107.34649 (37, 10)\n",
      "CPU times: user 3min 8s, sys: 39.3 s, total: 3min 47s\n",
      "Wall time: 2min 57s\n"
     ]
    }
   ],
   "source": [
    "%%time\n",
    "\n",
    "build_kernel = lambda dt, batch_size: build_sgnht_kernel(dt, loglikelihood, logprior, data, batch_size)\n",
    "\n",
    "grid_params = {'log_dt': logdt_range, \n",
    "               'batch_size': batch_size_range\n",
    "              }\n",
    "best_arm = run_MAMBA(key, build_kernel, error_fn, R, params_IC, \n",
    "                     grid_params=grid_params, get_fb_grads=get_fb_grads)\n",
    "\n",
    "print(best_arm.hyperparameters, best_arm.metric, best_arm.samples.shape)"
   ]
  },
  {
   "cell_type": "code",
   "execution_count": 13,
   "id": "03adf7db",
   "metadata": {},
   "outputs": [
    {
     "data": {
      "application/vnd.jupyter.widget-view+json": {
       "model_id": "f56b4f6b32d04757bb21a7aee1b25dd0",
       "version_major": 2,
       "version_minor": 0
      },
      "text/plain": [
       "HBox(children=(HTML(value='Iteration 1/3, 56 arms, time budget = 0.08 sec'), FloatProgress(value=0.0, max=56.0…"
      ]
     },
     "metadata": {},
     "output_type": "display_data"
    },
    {
     "name": "stdout",
     "output_type": "stream",
     "text": [
      "Hyperparams: {'batch_size': 800000, 'dt': 0.1}., sample shape=(1, 10). metric: 633599\n",
      "Hyperparams: {'batch_size': 800000, 'dt': 0.031622775}., sample shape=(1, 10). metric: 625572\n",
      "Hyperparams: {'batch_size': 800000, 'dt': 0.01}., sample shape=(1, 10). metric: 594703\n",
      "Hyperparams: {'batch_size': 800000, 'dt': 0.0031622776}., sample shape=(1, 10). metric: 476958\n",
      "Hyperparams: {'batch_size': 800000, 'dt': 0.001}., sample shape=(1, 10). metric: 225221\n",
      "Hyperparams: {'batch_size': 800000, 'dt': 0.00031622776}., sample shape=(1, 10). metric: 70078\n",
      "Hyperparams: {'batch_size': 800000, 'dt': 1e-04}., sample shape=(1, 10). metric: 20501\n",
      "Hyperparams: {'batch_size': 800000, 'dt': 3.1622778e-05}., sample shape=(1, 10). metric: 4429\n",
      "Hyperparams: {'batch_size': 800000, 'dt': 1e-05}., sample shape=(1, 10). metric: 1291\n",
      "Hyperparams: {'batch_size': 800000, 'dt': 3.1622776e-06}., sample shape=(1, 10). metric: 2516\n",
      "Hyperparams: {'batch_size': 800000, 'dt': 1e-06}., sample shape=(1, 10). metric: 3030\n",
      "Hyperparams: {'batch_size': 800000, 'dt': 3.1622776e-07}., sample shape=(1, 10). metric: 3179\n",
      "Hyperparams: {'batch_size': 800000, 'dt': 1e-07}., sample shape=(1, 10). metric: 3165\n",
      "Hyperparams: {'batch_size': 800000, 'dt': 3.1622776e-08}., sample shape=(1, 10). metric: 3182\n",
      "Hyperparams: {'batch_size': 80000, 'dt': 0.1}., sample shape=(3, 10). metric: inf\n",
      "Hyperparams: {'batch_size': 80000, 'dt': 0.031622775}., sample shape=(3, 10). metric: inf\n",
      "Hyperparams: {'batch_size': 80000, 'dt': 0.01}., sample shape=(3, 10). metric: inf\n",
      "Hyperparams: {'batch_size': 80000, 'dt': 0.0031622776}., sample shape=(3, 10). metric: inf\n",
      "Hyperparams: {'batch_size': 80000, 'dt': 0.001}., sample shape=(3, 10). metric: inf\n",
      "Hyperparams: {'batch_size': 80000, 'dt': 0.00031622776}., sample shape=(2, 10). metric: inf\n",
      "Hyperparams: {'batch_size': 80000, 'dt': 1e-04}., sample shape=(1, 10). metric: 19063\n",
      "Hyperparams: {'batch_size': 80000, 'dt': 3.1622778e-05}., sample shape=(3, 10). metric: 381\n",
      "Hyperparams: {'batch_size': 80000, 'dt': 1e-05}., sample shape=(2, 10). metric: 926\n",
      "Hyperparams: {'batch_size': 80000, 'dt': 3.1622776e-06}., sample shape=(2, 10). metric: 2351\n",
      "Hyperparams: {'batch_size': 80000, 'dt': 1e-06}., sample shape=(3, 10). metric: 857\n",
      "Hyperparams: {'batch_size': 80000, 'dt': 3.1622776e-07}., sample shape=(2, 10). metric: 1420\n",
      "Hyperparams: {'batch_size': 80000, 'dt': 1e-07}., sample shape=(3, 10). metric: 1417\n",
      "Hyperparams: {'batch_size': 80000, 'dt': 3.1622776e-08}., sample shape=(3, 10). metric: 2579\n",
      "Hyperparams: {'batch_size': 8000, 'dt': 0.1}., sample shape=(14, 10). metric: inf\n",
      "Hyperparams: {'batch_size': 8000, 'dt': 0.031622775}., sample shape=(15, 10). metric: inf\n",
      "Hyperparams: {'batch_size': 8000, 'dt': 0.01}., sample shape=(15, 10). metric: inf\n",
      "Hyperparams: {'batch_size': 8000, 'dt': 0.0031622776}., sample shape=(14, 10). metric: inf\n",
      "Hyperparams: {'batch_size': 8000, 'dt': 0.001}., sample shape=(13, 10). metric: inf\n",
      "Hyperparams: {'batch_size': 8000, 'dt': 0.00031622776}., sample shape=(14, 10). metric: inf\n",
      "Hyperparams: {'batch_size': 8000, 'dt': 1e-04}., sample shape=(13, 10). metric: inf\n",
      "Hyperparams: {'batch_size': 8000, 'dt': 3.1622778e-05}., sample shape=(14, 10). metric: 135\n",
      "Hyperparams: {'batch_size': 8000, 'dt': 1e-05}., sample shape=(14, 10). metric: 101\n",
      "Hyperparams: {'batch_size': 8000, 'dt': 3.1622776e-06}., sample shape=(15, 10). metric: 210\n",
      "Hyperparams: {'batch_size': 8000, 'dt': 1e-06}., sample shape=(15, 10). metric: 142\n",
      "Hyperparams: {'batch_size': 8000, 'dt': 3.1622776e-07}., sample shape=(15, 10). metric: 133\n",
      "Hyperparams: {'batch_size': 8000, 'dt': 1e-07}., sample shape=(15, 10). metric: 226\n",
      "Hyperparams: {'batch_size': 8000, 'dt': 3.1622776e-08}., sample shape=(15, 10). metric: 412\n",
      "Hyperparams: {'batch_size': 800, 'dt': 0.1}., sample shape=(45, 10). metric: inf\n",
      "Hyperparams: {'batch_size': 800, 'dt': 0.031622775}., sample shape=(46, 10). metric: inf\n",
      "Hyperparams: {'batch_size': 800, 'dt': 0.01}., sample shape=(43, 10). metric: inf\n",
      "Hyperparams: {'batch_size': 800, 'dt': 0.0031622776}., sample shape=(49, 10). metric: inf\n",
      "Hyperparams: {'batch_size': 800, 'dt': 0.001}., sample shape=(49, 10). metric: inf\n",
      "Hyperparams: {'batch_size': 800, 'dt': 0.00031622776}., sample shape=(43, 10). metric: inf\n",
      "Hyperparams: {'batch_size': 800, 'dt': 1e-04}., sample shape=(20, 10). metric: inf\n",
      "Hyperparams: {'batch_size': 800, 'dt': 3.1622778e-05}., sample shape=(42, 10). metric: 271\n",
      "Hyperparams: {'batch_size': 800, 'dt': 1e-05}., sample shape=(43, 10). metric: 134\n",
      "Hyperparams: {'batch_size': 800, 'dt': 3.1622776e-06}., sample shape=(46, 10). metric: 107\n",
      "Hyperparams: {'batch_size': 800, 'dt': 1e-06}., sample shape=(47, 10). metric: 62\n",
      "Hyperparams: {'batch_size': 800, 'dt': 3.1622776e-07}., sample shape=(21, 10). metric: 129\n",
      "Hyperparams: {'batch_size': 800, 'dt': 1e-07}., sample shape=(35, 10). metric: 66\n",
      "Hyperparams: {'batch_size': 800, 'dt': 3.1622776e-08}., sample shape=(34, 10). metric: 152\n",
      "\n",
      "Number of samples: [47, 35, 14, 46, 21, 15, 43, 14, 15, 34, 15, 15, 42, 3, 15, 3, 2, 1]\n"
     ]
    },
    {
     "data": {
      "application/vnd.jupyter.widget-view+json": {
       "model_id": "ad24bc3523be42288e9f51b7ececcbee",
       "version_major": 2,
       "version_minor": 0
      },
      "text/plain": [
       "HBox(children=(HTML(value='Iteration 2/3, 18 arms, time budget = 0.24 sec'), FloatProgress(value=0.0, max=18.0…"
      ]
     },
     "metadata": {},
     "output_type": "display_data"
    },
    {
     "name": "stdout",
     "output_type": "stream",
     "text": [
      "Hyperparams: {'batch_size': 800, 'dt': 1e-06}., sample shape=(140, 10). metric: 25\n",
      "Hyperparams: {'batch_size': 800, 'dt': 1e-07}., sample shape=(141, 10). metric: 44\n",
      "Hyperparams: {'batch_size': 8000, 'dt': 1e-05}., sample shape=(36, 10). metric: 98\n",
      "Hyperparams: {'batch_size': 800, 'dt': 3.1622776e-06}., sample shape=(107, 10). metric: 51\n",
      "Hyperparams: {'batch_size': 800, 'dt': 3.1622776e-07}., sample shape=(95, 10). metric: 46\n",
      "Hyperparams: {'batch_size': 8000, 'dt': 3.1622776e-07}., sample shape=(49, 10). metric: 55\n",
      "Hyperparams: {'batch_size': 800, 'dt': 1e-05}., sample shape=(143, 10). metric: 102\n",
      "Hyperparams: {'batch_size': 8000, 'dt': 3.1622778e-05}., sample shape=(52, 10). metric: 146\n",
      "Hyperparams: {'batch_size': 8000, 'dt': 1e-06}., sample shape=(53, 10). metric: 45\n",
      "Hyperparams: {'batch_size': 800, 'dt': 3.1622776e-08}., sample shape=(165, 10). metric: 37\n",
      "Hyperparams: {'batch_size': 8000, 'dt': 3.1622776e-06}., sample shape=(55, 10). metric: 35\n",
      "Hyperparams: {'batch_size': 8000, 'dt': 1e-07}., sample shape=(52, 10). metric: 92\n",
      "Hyperparams: {'batch_size': 800, 'dt': 3.1622778e-05}., sample shape=(156, 10). metric: 123\n",
      "Hyperparams: {'batch_size': 80000, 'dt': 3.1622778e-05}., sample shape=(9, 10). metric: 538\n",
      "Hyperparams: {'batch_size': 8000, 'dt': 3.1622776e-08}., sample shape=(55, 10). metric: 125\n",
      "Hyperparams: {'batch_size': 80000, 'dt': 1e-06}., sample shape=(10, 10). metric: 127\n",
      "Hyperparams: {'batch_size': 80000, 'dt': 1e-05}., sample shape=(9, 10). metric: 248\n",
      "Hyperparams: {'batch_size': 800000, 'dt': 1e-05}., sample shape=(2, 10). metric: 952\n",
      "\n",
      "Number of samples: [140, 55, 165, 141, 53, 95]\n"
     ]
    },
    {
     "data": {
      "application/vnd.jupyter.widget-view+json": {
       "model_id": "72ea4d155fdc468eaa33ba92dc26e716",
       "version_major": 2,
       "version_minor": 0
      },
      "text/plain": [
       "HBox(children=(HTML(value='Iteration 3/3, 6 arms, time budget = 0.72 sec'), FloatProgress(value=0.0, max=6.0),…"
      ]
     },
     "metadata": {},
     "output_type": "display_data"
    },
    {
     "name": "stdout",
     "output_type": "stream",
     "text": [
      "Hyperparams: {'batch_size': 800, 'dt': 1e-06}., sample shape=(560, 10). metric: 12\n",
      "Hyperparams: {'batch_size': 8000, 'dt': 3.1622776e-06}., sample shape=(149, 10). metric: 20\n",
      "Hyperparams: {'batch_size': 800, 'dt': 3.1622776e-08}., sample shape=(563, 10). metric: 30\n",
      "Hyperparams: {'batch_size': 800, 'dt': 1e-07}., sample shape=(523, 10). metric: 30\n",
      "Hyperparams: {'batch_size': 8000, 'dt': 1e-06}., sample shape=(162, 10). metric: 20\n",
      "Hyperparams: {'batch_size': 800, 'dt': 3.1622776e-07}., sample shape=(428, 10). metric: 18\n",
      "\n",
      "Number of samples: [560, 428]\n",
      "Running time: 243.1 sec\n",
      "{'batch_size': 800, 'dt': 1e-06} 11.950268 (560, 10)\n",
      "CPU times: user 4min 16s, sys: 57.9 s, total: 5min 14s\n",
      "Wall time: 4min 11s\n"
     ]
    }
   ],
   "source": [
    "%%time\n",
    "\n",
    "build_kernel = lambda dt, batch_size: build_sgnhtCV_kernel(dt, loglikelihood, \n",
    "                                                  logprior, data, batch_size, centering_value)\n",
    "grid_params = {'log_dt': logdt_range, \n",
    "               'batch_size': batch_size_range\n",
    "              }\n",
    "best_arm = run_MAMBA(key, build_kernel, error_fn, R, params_IC, \n",
    "                     grid_params=grid_params, get_fb_grads=get_fb_grads)\n",
    "\n",
    "print(best_arm.hyperparameters, best_arm.metric, best_arm.samples.shape)"
   ]
  },
  {
   "cell_type": "code",
   "execution_count": null,
   "id": "8a80364c",
   "metadata": {},
   "outputs": [],
   "source": []
  },
  {
   "cell_type": "code",
   "execution_count": null,
   "id": "4399056c",
   "metadata": {},
   "outputs": [],
   "source": []
  }
 ],
 "metadata": {
  "kernelspec": {
   "display_name": "Python 3",
   "language": "python",
   "name": "python3"
  },
  "language_info": {
   "codemirror_mode": {
    "name": "ipython",
    "version": 3
   },
   "file_extension": ".py",
   "mimetype": "text/x-python",
   "name": "python",
   "nbconvert_exporter": "python",
   "pygments_lexer": "ipython3",
   "version": "3.8.2"
  }
 },
 "nbformat": 4,
 "nbformat_minor": 5
}
