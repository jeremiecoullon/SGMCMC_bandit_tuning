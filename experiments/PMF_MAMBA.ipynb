{
 "cells": [
  {
   "cell_type": "code",
   "execution_count": 1,
   "id": "906fd9ec",
   "metadata": {},
   "outputs": [
    {
     "name": "stderr",
     "output_type": "stream",
     "text": [
      "WARNING:absl:No GPU/TPU found, falling back to CPU. (Set TF_CPP_MIN_LOG_LEVEL=0 and rerun for more info.)\n"
     ]
    }
   ],
   "source": [
    "%matplotlib inline\n",
    "import matplotlib.pyplot as plt\n",
    "import numpy as np\n",
    "\n",
    "import jax.numpy as jnp\n",
    "from jax import jit, random\n",
    "\n",
    "from sgmcmcjax.kernels import build_sgld_kernel, build_sghmc_kernel, build_sgnht_kernel\n",
    "from sgmcmcjax.kernels import build_sgldCV_kernel, build_sghmcCV_kernel, build_sgnhtCV_kernel\n",
    "from sgmcmcjax.optimizer import build_adam_optimizer\n",
    "from sgmcmcjax.util import build_grad_log_post\n",
    "\n",
    "import context\n",
    "\n",
    "from models.PMF.pmf_model import logprior, loglikelihood\n",
    "from models.PMF.util import R_train, R_test, load_PMF_MAP\n",
    "\n",
    "from tuning.mamba import run_MAMBA\n",
    "from tuning.ksd import imq_KSD\n"
   ]
  },
  {
   "cell_type": "markdown",
   "id": "a01ea2b4",
   "metadata": {},
   "source": [
    "# PMF - MAMBA"
   ]
  },
  {
   "cell_type": "code",
   "execution_count": 18,
   "id": "1aff4d07",
   "metadata": {},
   "outputs": [],
   "source": [
    "data = (R_train,)\n",
    "\n",
    "\n",
    "key = random.PRNGKey(0)\n",
    "centering_value = load_PMF_MAP()\n",
    "params_IC = load_PMF_MAP()\n",
    "\n",
    "err_fn = lambda x,y: imq_KSD(x[:], y[:])\n",
    "\n",
    "grad_log_post_fb = build_grad_log_post(loglikelihood, logprior, data)\n",
    "\n",
    "def get_fb_grads(samples):\n",
    "    thin = 10\n",
    "    mygrads = [grad_log_post_fb(sam, *data) for sam in samples[::thin]]\n",
    "    \n",
    "    return samples[::thin], mygrads\n",
    "\n",
    "R = 10"
   ]
  },
  {
   "cell_type": "markdown",
   "id": "912e1f22",
   "metadata": {},
   "source": [
    "### run MAMBA"
   ]
  },
  {
   "cell_type": "code",
   "execution_count": 19,
   "id": "180a1973",
   "metadata": {},
   "outputs": [
    {
     "data": {
      "application/vnd.jupyter.widget-view+json": {
       "model_id": "1d8f0484c4fa4264aa59a5fd24aa6e9f",
       "version_major": 2,
       "version_minor": 0
      },
      "text/plain": [
       "HBox(children=(HTML(value='Iteration 1/3, 48 arms, time budget = 0.77 sec'), FloatProgress(value=0.0, max=48.0…"
      ]
     },
     "metadata": {},
     "output_type": "display_data"
    },
    {
     "name": "stdout",
     "output_type": "stream",
     "text": [
      "Hyperparams: {'batch_size': 80000, 'dt': 0.01}. metric: inf\n",
      "Hyperparams: {'batch_size': 80000, 'dt': 0.0031622776}. metric: inf\n",
      "Hyperparams: {'batch_size': 80000, 'dt': 0.001}. metric: inf\n",
      "Hyperparams: {'batch_size': 80000, 'dt': 0.00031622776}. metric: 1990\n",
      "Hyperparams: {'batch_size': 80000, 'dt': 1e-04}. metric: 1883\n",
      "Hyperparams: {'batch_size': 80000, 'dt': 3.1622778e-05}. metric: 8944\n",
      "Hyperparams: {'batch_size': 80000, 'dt': 1e-05}. metric: 930\n",
      "Hyperparams: {'batch_size': 80000, 'dt': 3.1622776e-06}. metric: 863\n",
      "Hyperparams: {'batch_size': 80000, 'dt': 1e-06}. metric: 827\n",
      "Hyperparams: {'batch_size': 80000, 'dt': 3.1622776e-07}. metric: 720\n",
      "Hyperparams: {'batch_size': 80000, 'dt': 1e-07}. metric: 833\n",
      "Hyperparams: {'batch_size': 80000, 'dt': 3.1622776e-08}. metric: 787\n",
      "Hyperparams: {'batch_size': 8000, 'dt': 0.01}. metric: inf\n",
      "Hyperparams: {'batch_size': 8000, 'dt': 0.0031622776}. metric: inf\n",
      "Hyperparams: {'batch_size': 8000, 'dt': 0.001}. metric: inf\n",
      "Hyperparams: {'batch_size': 8000, 'dt': 0.00031622776}. metric: 867\n",
      "Hyperparams: {'batch_size': 8000, 'dt': 1e-04}. metric: 1293\n",
      "Hyperparams: {'batch_size': 8000, 'dt': 3.1622778e-05}. metric: 2685\n",
      "Hyperparams: {'batch_size': 8000, 'dt': 1e-05}. metric: 639\n",
      "Hyperparams: {'batch_size': 8000, 'dt': 3.1622776e-06}. metric: 615\n",
      "Hyperparams: {'batch_size': 8000, 'dt': 1e-06}. metric: 634\n",
      "Hyperparams: {'batch_size': 8000, 'dt': 3.1622776e-07}. metric: 709\n",
      "Hyperparams: {'batch_size': 8000, 'dt': 1e-07}. metric: 805\n",
      "Hyperparams: {'batch_size': 8000, 'dt': 3.1622776e-08}. metric: 835\n",
      "Hyperparams: {'batch_size': 800, 'dt': 0.01}. metric: inf\n",
      "Hyperparams: {'batch_size': 800, 'dt': 0.0031622776}. metric: inf\n",
      "Hyperparams: {'batch_size': 800, 'dt': 0.001}. metric: inf\n",
      "Hyperparams: {'batch_size': 800, 'dt': 0.00031622776}. metric: inf\n",
      "Hyperparams: {'batch_size': 800, 'dt': 1e-04}. metric: 1170\n",
      "Hyperparams: {'batch_size': 800, 'dt': 3.1622778e-05}. metric: 1407\n",
      "Hyperparams: {'batch_size': 800, 'dt': 1e-05}. metric: 616\n",
      "Hyperparams: {'batch_size': 800, 'dt': 3.1622776e-06}. metric: 619\n",
      "Hyperparams: {'batch_size': 800, 'dt': 1e-06}. metric: 619\n",
      "Hyperparams: {'batch_size': 800, 'dt': 3.1622776e-07}. metric: 666\n",
      "Hyperparams: {'batch_size': 800, 'dt': 1e-07}. metric: 872\n",
      "Hyperparams: {'batch_size': 800, 'dt': 3.1622776e-08}. metric: 797\n",
      "Hyperparams: {'batch_size': 80, 'dt': 0.01}. metric: inf\n",
      "Hyperparams: {'batch_size': 80, 'dt': 0.0031622776}. metric: inf\n",
      "Hyperparams: {'batch_size': 80, 'dt': 0.001}. metric: inf\n",
      "Hyperparams: {'batch_size': 80, 'dt': 0.00031622776}. metric: inf\n",
      "Hyperparams: {'batch_size': 80, 'dt': 1e-04}. metric: inf\n",
      "Hyperparams: {'batch_size': 80, 'dt': 3.1622778e-05}. metric: inf\n",
      "Hyperparams: {'batch_size': 80, 'dt': 1e-05}. metric: 1050\n",
      "Hyperparams: {'batch_size': 80, 'dt': 3.1622776e-06}. metric: 857\n",
      "Hyperparams: {'batch_size': 80, 'dt': 1e-06}. metric: 697\n",
      "Hyperparams: {'batch_size': 80, 'dt': 3.1622776e-07}. metric: 674\n",
      "Hyperparams: {'batch_size': 80, 'dt': 1e-07}. metric: 726\n",
      "Hyperparams: {'batch_size': 80, 'dt': 3.1622776e-08}. metric: 894\n",
      "\n",
      "Number of samples: [38, 61, 61, 61, 37, 37, 61, 63, 64, 37, 7, 64, 7, 61, 37, 7]\n"
     ]
    },
    {
     "data": {
      "application/vnd.jupyter.widget-view+json": {
       "model_id": "ef6c04104faa41ccb3d23219c08aea70",
       "version_major": 2,
       "version_minor": 0
      },
      "text/plain": [
       "HBox(children=(HTML(value='Iteration 2/3, 16 arms, time budget = 2.31 sec'), FloatProgress(value=0.0, max=16.0…"
      ]
     },
     "metadata": {},
     "output_type": "display_data"
    },
    {
     "name": "stdout",
     "output_type": "stream",
     "text": [
      "Hyperparams: {'batch_size': 8000, 'dt': 3.1622776e-06}. metric: 637\n",
      "Hyperparams: {'batch_size': 800, 'dt': 1e-05}. metric: 452\n",
      "Hyperparams: {'batch_size': 800, 'dt': 1e-06}. metric: 699\n",
      "Hyperparams: {'batch_size': 800, 'dt': 3.1622776e-06}. metric: 591\n",
      "Hyperparams: {'batch_size': 8000, 'dt': 1e-06}. metric: 711\n",
      "Hyperparams: {'batch_size': 8000, 'dt': 1e-05}. metric: 496\n",
      "Hyperparams: {'batch_size': 800, 'dt': 3.1622776e-07}. metric: 707\n",
      "Hyperparams: {'batch_size': 80, 'dt': 3.1622776e-07}. metric: 762\n",
      "Hyperparams: {'batch_size': 80, 'dt': 1e-06}. metric: 776\n",
      "Hyperparams: {'batch_size': 8000, 'dt': 3.1622776e-07}. metric: 737\n",
      "Hyperparams: {'batch_size': 80000, 'dt': 3.1622776e-07}. metric: 895\n",
      "Hyperparams: {'batch_size': 80, 'dt': 1e-07}. metric: 801\n",
      "Hyperparams: {'batch_size': 80000, 'dt': 3.1622776e-08}. metric: 1243\n",
      "Hyperparams: {'batch_size': 800, 'dt': 3.1622776e-08}. metric: 837\n",
      "Hyperparams: {'batch_size': 8000, 'dt': 1e-07}. metric: 700\n",
      "Hyperparams: {'batch_size': 80000, 'dt': 1e-06}. metric: 719\n",
      "\n",
      "Number of samples: [237, 149, 239, 152, 239]\n"
     ]
    },
    {
     "data": {
      "application/vnd.jupyter.widget-view+json": {
       "model_id": "3e6574dd1e6445a6a9805e33814f2719",
       "version_major": 2,
       "version_minor": 0
      },
      "text/plain": [
       "HBox(children=(HTML(value='Iteration 3/3, 5 arms, time budget = 7.38 sec'), FloatProgress(value=0.0, max=5.0),…"
      ]
     },
     "metadata": {},
     "output_type": "display_data"
    },
    {
     "name": "stdout",
     "output_type": "stream",
     "text": [
      "Hyperparams: {'batch_size': 800, 'dt': 1e-05}. metric: 270\n",
      "Hyperparams: {'batch_size': 8000, 'dt': 1e-05}. metric: 319\n",
      "Hyperparams: {'batch_size': 800, 'dt': 3.1622776e-06}. metric: 406\n",
      "Hyperparams: {'batch_size': 8000, 'dt': 3.1622776e-06}. metric: 471\n",
      "Hyperparams: {'batch_size': 800, 'dt': 1e-06}. metric: 574\n",
      "\n",
      "Number of samples: [795]\n",
      "Running time: 899.9 sec\n",
      "{'batch_size': 800, 'dt': 1e-05} 269.85458 (795, 52580)\n"
     ]
    }
   ],
   "source": [
    "build_kernel = lambda dt, batch_size: build_sgld_kernel(dt, loglikelihood, logprior, data, batch_size)\n",
    "\n",
    "grid_params = {'log_dt': -jnp.arange(2., 8., 0.5), \n",
    "               'batch_size': [int(10**(-elem)*R_train.shape[0]) for elem in range(0,4)]\n",
    "              }\n",
    "best_arm = run_MAMBA(key, build_kernel, err_fn, R, params_IC, \n",
    "                     grid_params=grid_params, get_fb_grads=get_fb_grads)\n",
    "\n",
    "print(best_arm.hyperparameters, best_arm.metric, best_arm.samples.shape)\n"
   ]
  },
  {
   "cell_type": "code",
   "execution_count": null,
   "id": "86e028e5",
   "metadata": {},
   "outputs": [],
   "source": []
  },
  {
   "cell_type": "code",
   "execution_count": 20,
   "id": "00531340",
   "metadata": {},
   "outputs": [
    {
     "data": {
      "application/vnd.jupyter.widget-view+json": {
       "model_id": "2446e3abeb5b4fac83190b7ef7852e60",
       "version_major": 2,
       "version_minor": 0
      },
      "text/plain": [
       "HBox(children=(HTML(value='Iteration 1/3, 48 arms, time budget = 0.77 sec'), FloatProgress(value=0.0, max=48.0…"
      ]
     },
     "metadata": {},
     "output_type": "display_data"
    },
    {
     "name": "stdout",
     "output_type": "stream",
     "text": [
      "Hyperparams: {'batch_size': 80000, 'dt': 0.01}. metric: inf\n",
      "Hyperparams: {'batch_size': 80000, 'dt': 0.0031622776}. metric: inf\n",
      "Hyperparams: {'batch_size': 80000, 'dt': 0.001}. metric: inf\n",
      "Hyperparams: {'batch_size': 80000, 'dt': 0.00031622776}. metric: 2889\n",
      "Hyperparams: {'batch_size': 80000, 'dt': 1e-04}. metric: 2033\n",
      "Hyperparams: {'batch_size': 80000, 'dt': 3.1622778e-05}. metric: 15554\n",
      "Hyperparams: {'batch_size': 80000, 'dt': 1e-05}. metric: 1169\n",
      "Hyperparams: {'batch_size': 80000, 'dt': 3.1622776e-06}. metric: 1001\n",
      "Hyperparams: {'batch_size': 80000, 'dt': 1e-06}. metric: 935\n",
      "Hyperparams: {'batch_size': 80000, 'dt': 3.1622776e-07}. metric: 780\n",
      "Hyperparams: {'batch_size': 80000, 'dt': 1e-07}. metric: 774\n",
      "Hyperparams: {'batch_size': 80000, 'dt': 3.1622776e-08}. metric: 710\n",
      "Hyperparams: {'batch_size': 8000, 'dt': 0.01}. metric: inf\n",
      "Hyperparams: {'batch_size': 8000, 'dt': 0.0031622776}. metric: inf\n",
      "Hyperparams: {'batch_size': 8000, 'dt': 0.001}. metric: inf\n",
      "Hyperparams: {'batch_size': 8000, 'dt': 0.00031622776}. metric: 1175\n",
      "Hyperparams: {'batch_size': 8000, 'dt': 1e-04}. metric: 1501\n",
      "Hyperparams: {'batch_size': 8000, 'dt': 3.1622778e-05}. metric: 4573\n",
      "Hyperparams: {'batch_size': 8000, 'dt': 1e-05}. metric: 694\n",
      "Hyperparams: {'batch_size': 8000, 'dt': 3.1622776e-06}. metric: 638\n",
      "Hyperparams: {'batch_size': 8000, 'dt': 1e-06}. metric: 649\n",
      "Hyperparams: {'batch_size': 8000, 'dt': 3.1622776e-07}. metric: 732\n",
      "Hyperparams: {'batch_size': 8000, 'dt': 1e-07}. metric: 857\n",
      "Hyperparams: {'batch_size': 8000, 'dt': 3.1622776e-08}. metric: 858\n",
      "Hyperparams: {'batch_size': 800, 'dt': 0.01}. metric: inf\n",
      "Hyperparams: {'batch_size': 800, 'dt': 0.0031622776}. metric: inf\n",
      "Hyperparams: {'batch_size': 800, 'dt': 0.001}. metric: inf\n",
      "Hyperparams: {'batch_size': 800, 'dt': 0.00031622776}. metric: 1150\n",
      "Hyperparams: {'batch_size': 800, 'dt': 1e-04}. metric: 1334\n",
      "Hyperparams: {'batch_size': 800, 'dt': 3.1622778e-05}. metric: 2100\n",
      "Hyperparams: {'batch_size': 800, 'dt': 1e-05}. metric: 612\n",
      "Hyperparams: {'batch_size': 800, 'dt': 3.1622776e-06}. metric: 600\n",
      "Hyperparams: {'batch_size': 800, 'dt': 1e-06}. metric: 623\n",
      "Hyperparams: {'batch_size': 800, 'dt': 3.1622776e-07}. metric: 698\n",
      "Hyperparams: {'batch_size': 800, 'dt': 1e-07}. metric: 873\n",
      "Hyperparams: {'batch_size': 800, 'dt': 3.1622776e-08}. metric: 830\n",
      "Hyperparams: {'batch_size': 80, 'dt': 0.01}. metric: inf\n",
      "Hyperparams: {'batch_size': 80, 'dt': 0.0031622776}. metric: inf\n",
      "Hyperparams: {'batch_size': 80, 'dt': 0.001}. metric: inf\n",
      "Hyperparams: {'batch_size': 80, 'dt': 0.00031622776}. metric: inf\n",
      "Hyperparams: {'batch_size': 80, 'dt': 1e-04}. metric: inf\n",
      "Hyperparams: {'batch_size': 80, 'dt': 3.1622778e-05}. metric: 1852\n",
      "Hyperparams: {'batch_size': 80, 'dt': 1e-05}. metric: 669\n",
      "Hyperparams: {'batch_size': 80, 'dt': 3.1622776e-06}. metric: 614\n",
      "Hyperparams: {'batch_size': 80, 'dt': 1e-06}. metric: 610\n",
      "Hyperparams: {'batch_size': 80, 'dt': 3.1622776e-07}. metric: 683\n",
      "Hyperparams: {'batch_size': 80, 'dt': 1e-07}. metric: 741\n",
      "Hyperparams: {'batch_size': 80, 'dt': 3.1622776e-08}. metric: 855\n",
      "\n",
      "Number of samples: [45, 48, 45, 47, 45, 25, 25, 48, 48, 25, 45, 4, 25, 48, 4, 4]\n"
     ]
    },
    {
     "data": {
      "application/vnd.jupyter.widget-view+json": {
       "model_id": "b9819e16bad34134a00985283527ed6a",
       "version_major": 2,
       "version_minor": 0
      },
      "text/plain": [
       "HBox(children=(HTML(value='Iteration 2/3, 16 arms, time budget = 2.31 sec'), FloatProgress(value=0.0, max=16.0…"
      ]
     },
     "metadata": {},
     "output_type": "display_data"
    },
    {
     "name": "stdout",
     "output_type": "stream",
     "text": [
      "Hyperparams: {'batch_size': 800, 'dt': 3.1622776e-06}. metric: 619\n",
      "Hyperparams: {'batch_size': 80, 'dt': 1e-06}. metric: 693\n",
      "Hyperparams: {'batch_size': 800, 'dt': 1e-05}. metric: 471\n",
      "Hyperparams: {'batch_size': 80, 'dt': 3.1622776e-06}. metric: 634\n",
      "Hyperparams: {'batch_size': 800, 'dt': 1e-06}. metric: 709\n",
      "Hyperparams: {'batch_size': 8000, 'dt': 3.1622776e-06}. metric: 669\n",
      "Hyperparams: {'batch_size': 8000, 'dt': 1e-06}. metric: 720\n",
      "Hyperparams: {'batch_size': 80, 'dt': 1e-05}. metric: 548\n",
      "Hyperparams: {'batch_size': 80, 'dt': 3.1622776e-07}. metric: 725\n",
      "Hyperparams: {'batch_size': 8000, 'dt': 1e-05}. metric: 564\n",
      "Hyperparams: {'batch_size': 800, 'dt': 3.1622776e-07}. metric: 720\n",
      "Hyperparams: {'batch_size': 80000, 'dt': 3.1622776e-08}. metric: 1201\n",
      "Hyperparams: {'batch_size': 8000, 'dt': 3.1622776e-07}. metric: 746\n",
      "Hyperparams: {'batch_size': 80, 'dt': 1e-07}. metric: 746\n",
      "Hyperparams: {'batch_size': 80000, 'dt': 1e-07}. metric: 1043\n",
      "Hyperparams: {'batch_size': 80000, 'dt': 3.1622776e-07}. metric: 821\n",
      "\n",
      "Number of samples: [178, 190, 102, 178, 188]\n"
     ]
    },
    {
     "data": {
      "application/vnd.jupyter.widget-view+json": {
       "model_id": "96c3236a635b439dbe59f2d32f02ae44",
       "version_major": 2,
       "version_minor": 0
      },
      "text/plain": [
       "HBox(children=(HTML(value='Iteration 3/3, 5 arms, time budget = 7.38 sec'), FloatProgress(value=0.0, max=5.0),…"
      ]
     },
     "metadata": {},
     "output_type": "display_data"
    },
    {
     "name": "stdout",
     "output_type": "stream",
     "text": [
      "Hyperparams: {'batch_size': 800, 'dt': 1e-05}. metric: 291\n",
      "Hyperparams: {'batch_size': 80, 'dt': 1e-05}. metric: 344\n",
      "Hyperparams: {'batch_size': 8000, 'dt': 1e-05}. metric: 361\n",
      "Hyperparams: {'batch_size': 800, 'dt': 3.1622776e-06}. metric: 443\n",
      "Hyperparams: {'batch_size': 80, 'dt': 3.1622776e-06}. metric: 451\n",
      "\n",
      "Number of samples: [600]\n",
      "Running time: 862.9 sec\n",
      "{'batch_size': 800, 'dt': 1e-05} 290.94128 (600, 52580)\n"
     ]
    }
   ],
   "source": [
    "build_kernel = lambda dt, batch_size: build_sgldCV_kernel(dt, loglikelihood, \n",
    "                                                  logprior, data, batch_size, centering_value)\n",
    "\n",
    "best_arm = run_MAMBA(key, build_kernel, imq_KSD, R, params_IC, \n",
    "                     grid_params=grid_params, get_fb_grads=get_fb_grads)\n",
    "\n",
    "print(best_arm.hyperparameters, best_arm.metric, best_arm.samples.shape)\n"
   ]
  },
  {
   "cell_type": "code",
   "execution_count": 21,
   "id": "d2be25a2",
   "metadata": {},
   "outputs": [
    {
     "data": {
      "application/vnd.jupyter.widget-view+json": {
       "model_id": "229aee4adfb344f2ac4f8f1d6d53c5f0",
       "version_major": 2,
       "version_minor": 0
      },
      "text/plain": [
       "HBox(children=(HTML(value='Iteration 1/4, 96 arms, time budget = 0.25 sec'), FloatProgress(value=0.0, max=96.0…"
      ]
     },
     "metadata": {},
     "output_type": "display_data"
    },
    {
     "name": "stdout",
     "output_type": "stream",
     "text": [
      "Hyperparams: {'batch_size': 80000, 'L': 5, 'dt': 0.01}. metric: 7061963264\n",
      "Hyperparams: {'batch_size': 80000, 'L': 5, 'dt': 0.0031622776}. metric: 541318\n",
      "Hyperparams: {'batch_size': 80000, 'L': 5, 'dt': 0.001}. metric: 793388\n",
      "Hyperparams: {'batch_size': 80000, 'L': 5, 'dt': 0.00031622776}. metric: 2198029\n",
      "Hyperparams: {'batch_size': 80000, 'L': 5, 'dt': 1e-04}. metric: 111425\n",
      "Hyperparams: {'batch_size': 80000, 'L': 5, 'dt': 3.1622778e-05}. metric: 59012\n",
      "Hyperparams: {'batch_size': 80000, 'L': 5, 'dt': 1e-05}. metric: 6364\n",
      "Hyperparams: {'batch_size': 80000, 'L': 5, 'dt': 3.1622776e-06}. metric: 1406\n",
      "Hyperparams: {'batch_size': 80000, 'L': 5, 'dt': 1e-06}. metric: 1567\n",
      "Hyperparams: {'batch_size': 80000, 'L': 5, 'dt': 3.1622776e-07}. metric: 1335\n",
      "Hyperparams: {'batch_size': 80000, 'L': 5, 'dt': 1e-07}. metric: 867\n",
      "Hyperparams: {'batch_size': 80000, 'L': 5, 'dt': 3.1622776e-08}. metric: 649\n",
      "Hyperparams: {'batch_size': 80000, 'L': 10, 'dt': 0.01}. metric: inf\n",
      "Hyperparams: {'batch_size': 80000, 'L': 10, 'dt': 0.0031622776}. metric: inf\n",
      "Hyperparams: {'batch_size': 80000, 'L': 10, 'dt': 0.001}. metric: 135151920\n",
      "Hyperparams: {'batch_size': 80000, 'L': 10, 'dt': 0.00031622776}. metric: 40534\n",
      "Hyperparams: {'batch_size': 80000, 'L': 10, 'dt': 1e-04}. metric: 364209\n",
      "Hyperparams: {'batch_size': 80000, 'L': 10, 'dt': 3.1622778e-05}. metric: 526463\n",
      "Hyperparams: {'batch_size': 80000, 'L': 10, 'dt': 1e-05}. metric: 41670\n",
      "Hyperparams: {'batch_size': 80000, 'L': 10, 'dt': 3.1622776e-06}. metric: 4956\n",
      "Hyperparams: {'batch_size': 80000, 'L': 10, 'dt': 1e-06}. metric: 1327\n",
      "Hyperparams: {'batch_size': 80000, 'L': 10, 'dt': 3.1622776e-07}. metric: 1420\n",
      "Hyperparams: {'batch_size': 80000, 'L': 10, 'dt': 1e-07}. metric: 1478\n",
      "Hyperparams: {'batch_size': 80000, 'L': 10, 'dt': 3.1622776e-08}. metric: 832\n",
      "Hyperparams: {'batch_size': 8000, 'L': 5, 'dt': 0.01}. metric: inf\n",
      "Hyperparams: {'batch_size': 8000, 'L': 5, 'dt': 0.0031622776}. metric: inf\n",
      "Hyperparams: {'batch_size': 8000, 'L': 5, 'dt': 0.001}. metric: inf\n",
      "Hyperparams: {'batch_size': 8000, 'L': 5, 'dt': 0.00031622776}. metric: inf\n",
      "Hyperparams: {'batch_size': 8000, 'L': 5, 'dt': 1e-04}. metric: inf\n",
      "Hyperparams: {'batch_size': 8000, 'L': 5, 'dt': 3.1622778e-05}. metric: 12149\n",
      "Hyperparams: {'batch_size': 8000, 'L': 5, 'dt': 1e-05}. metric: 2703\n",
      "Hyperparams: {'batch_size': 8000, 'L': 5, 'dt': 3.1622776e-06}. metric: 43055\n",
      "Hyperparams: {'batch_size': 8000, 'L': 5, 'dt': 1e-06}. metric: 1230\n",
      "Hyperparams: {'batch_size': 8000, 'L': 5, 'dt': 3.1622776e-07}. metric: 883\n",
      "Hyperparams: {'batch_size': 8000, 'L': 5, 'dt': 1e-07}. metric: 1038\n",
      "Hyperparams: {'batch_size': 8000, 'L': 5, 'dt': 3.1622776e-08}. metric: 853\n",
      "Hyperparams: {'batch_size': 8000, 'L': 10, 'dt': 0.01}. metric: inf\n",
      "Hyperparams: {'batch_size': 8000, 'L': 10, 'dt': 0.0031622776}. metric: inf\n",
      "Hyperparams: {'batch_size': 8000, 'L': 10, 'dt': 0.001}. metric: inf\n",
      "Hyperparams: {'batch_size': 8000, 'L': 10, 'dt': 0.00031622776}. metric: inf\n",
      "Hyperparams: {'batch_size': 8000, 'L': 10, 'dt': 1e-04}. metric: inf\n",
      "Hyperparams: {'batch_size': 8000, 'L': 10, 'dt': 3.1622778e-05}. metric: 225909\n",
      "Hyperparams: {'batch_size': 8000, 'L': 10, 'dt': 1e-05}. metric: 36575\n",
      "Hyperparams: {'batch_size': 8000, 'L': 10, 'dt': 3.1622776e-06}. metric: 24495\n",
      "Hyperparams: {'batch_size': 8000, 'L': 10, 'dt': 1e-06}. metric: 48668\n",
      "Hyperparams: {'batch_size': 8000, 'L': 10, 'dt': 3.1622776e-07}. metric: 1184\n",
      "Hyperparams: {'batch_size': 8000, 'L': 10, 'dt': 1e-07}. metric: 1037\n",
      "Hyperparams: {'batch_size': 8000, 'L': 10, 'dt': 3.1622776e-08}. metric: 1138\n",
      "Hyperparams: {'batch_size': 800, 'L': 5, 'dt': 0.01}. metric: inf\n",
      "Hyperparams: {'batch_size': 800, 'L': 5, 'dt': 0.0031622776}. metric: inf\n",
      "Hyperparams: {'batch_size': 800, 'L': 5, 'dt': 0.001}. metric: inf\n",
      "Hyperparams: {'batch_size': 800, 'L': 5, 'dt': 0.00031622776}. metric: inf\n",
      "Hyperparams: {'batch_size': 800, 'L': 5, 'dt': 1e-04}. metric: inf\n",
      "Hyperparams: {'batch_size': 800, 'L': 5, 'dt': 3.1622778e-05}. metric: 9170\n",
      "Hyperparams: {'batch_size': 800, 'L': 5, 'dt': 1e-05}. metric: 2644\n",
      "Hyperparams: {'batch_size': 800, 'L': 5, 'dt': 3.1622776e-06}. metric: 29643\n",
      "Hyperparams: {'batch_size': 800, 'L': 5, 'dt': 1e-06}. metric: 1117\n",
      "Hyperparams: {'batch_size': 800, 'L': 5, 'dt': 3.1622776e-07}. metric: 915\n",
      "Hyperparams: {'batch_size': 800, 'L': 5, 'dt': 1e-07}. metric: 881\n",
      "Hyperparams: {'batch_size': 800, 'L': 5, 'dt': 3.1622776e-08}. metric: 957\n",
      "Hyperparams: {'batch_size': 800, 'L': 10, 'dt': 0.01}. metric: inf\n",
      "Hyperparams: {'batch_size': 800, 'L': 10, 'dt': 0.0031622776}. metric: inf\n",
      "Hyperparams: {'batch_size': 800, 'L': 10, 'dt': 0.001}. metric: inf\n",
      "Hyperparams: {'batch_size': 800, 'L': 10, 'dt': 0.00031622776}. metric: inf\n",
      "Hyperparams: {'batch_size': 800, 'L': 10, 'dt': 1e-04}. metric: inf\n",
      "Hyperparams: {'batch_size': 800, 'L': 10, 'dt': 3.1622778e-05}. metric: inf\n",
      "Hyperparams: {'batch_size': 800, 'L': 10, 'dt': 1e-05}. metric: 17055\n",
      "Hyperparams: {'batch_size': 800, 'L': 10, 'dt': 3.1622776e-06}. metric: 15018\n",
      "Hyperparams: {'batch_size': 800, 'L': 10, 'dt': 1e-06}. metric: 26315\n",
      "Hyperparams: {'batch_size': 800, 'L': 10, 'dt': 3.1622776e-07}. metric: 1146\n",
      "Hyperparams: {'batch_size': 800, 'L': 10, 'dt': 1e-07}. metric: 1084\n",
      "Hyperparams: {'batch_size': 800, 'L': 10, 'dt': 3.1622776e-08}. metric: 913\n",
      "Hyperparams: {'batch_size': 80, 'L': 5, 'dt': 0.01}. metric: inf\n",
      "Hyperparams: {'batch_size': 80, 'L': 5, 'dt': 0.0031622776}. metric: inf\n",
      "Hyperparams: {'batch_size': 80, 'L': 5, 'dt': 0.001}. metric: inf\n",
      "Hyperparams: {'batch_size': 80, 'L': 5, 'dt': 0.00031622776}. metric: inf\n",
      "Hyperparams: {'batch_size': 80, 'L': 5, 'dt': 1e-04}. metric: inf\n",
      "Hyperparams: {'batch_size': 80, 'L': 5, 'dt': 3.1622778e-05}. metric: inf\n",
      "Hyperparams: {'batch_size': 80, 'L': 5, 'dt': 1e-05}. metric: 5965\n",
      "Hyperparams: {'batch_size': 80, 'L': 5, 'dt': 3.1622776e-06}. metric: 21164\n",
      "Hyperparams: {'batch_size': 80, 'L': 5, 'dt': 1e-06}. metric: 1232\n",
      "Hyperparams: {'batch_size': 80, 'L': 5, 'dt': 3.1622776e-07}. metric: 905\n",
      "Hyperparams: {'batch_size': 80, 'L': 5, 'dt': 1e-07}. metric: 889\n",
      "Hyperparams: {'batch_size': 80, 'L': 5, 'dt': 3.1622776e-08}. metric: 1055\n",
      "Hyperparams: {'batch_size': 80, 'L': 10, 'dt': 0.01}. metric: inf\n",
      "Hyperparams: {'batch_size': 80, 'L': 10, 'dt': 0.0031622776}. metric: inf\n",
      "Hyperparams: {'batch_size': 80, 'L': 10, 'dt': 0.001}. metric: inf\n",
      "Hyperparams: {'batch_size': 80, 'L': 10, 'dt': 0.00031622776}. metric: inf\n",
      "Hyperparams: {'batch_size': 80, 'L': 10, 'dt': 1e-04}. metric: inf\n",
      "Hyperparams: {'batch_size': 80, 'L': 10, 'dt': 3.1622778e-05}. metric: inf\n",
      "Hyperparams: {'batch_size': 80, 'L': 10, 'dt': 1e-05}. metric: inf\n",
      "Hyperparams: {'batch_size': 80, 'L': 10, 'dt': 3.1622776e-06}. metric: 17106\n",
      "Hyperparams: {'batch_size': 80, 'L': 10, 'dt': 1e-06}. metric: 33740\n",
      "Hyperparams: {'batch_size': 80, 'L': 10, 'dt': 3.1622776e-07}. metric: 1423\n",
      "Hyperparams: {'batch_size': 80, 'L': 10, 'dt': 1e-07}. metric: 1149\n",
      "Hyperparams: {'batch_size': 80, 'L': 10, 'dt': 3.1622776e-08}. metric: 997\n",
      "\n",
      "Number of samples: [1, 1, 3, 1, 5, 3, 5, 5, 3, 5, 5, 3, 2, 3, 5, 3, 5, 2, 3, 3, 2, 3, 5, 1, 1, 1, 1, 3, 1, 1, 5, 3]\n"
     ]
    },
    {
     "data": {
      "application/vnd.jupyter.widget-view+json": {
       "model_id": "307a1a8ccd15471aa7b78d14e9cd018a",
       "version_major": 2,
       "version_minor": 0
      },
      "text/plain": [
       "HBox(children=(HTML(value='Iteration 2/4, 32 arms, time budget = 0.75 sec'), FloatProgress(value=0.0, max=32.0…"
      ]
     },
     "metadata": {},
     "output_type": "display_data"
    },
    {
     "name": "stdout",
     "output_type": "stream",
     "text": [
      "Hyperparams: {'batch_size': 80000, 'L': 5, 'dt': 3.1622776e-08}. metric: 1238\n",
      "Hyperparams: {'batch_size': 80000, 'L': 10, 'dt': 3.1622776e-08}. metric: 1276\n",
      "Hyperparams: {'batch_size': 8000, 'L': 5, 'dt': 3.1622776e-08}. metric: 1219\n",
      "Hyperparams: {'batch_size': 80000, 'L': 5, 'dt': 1e-07}. metric: 1175\n",
      "Hyperparams: {'batch_size': 800, 'L': 5, 'dt': 1e-07}. metric: 762\n",
      "Hyperparams: {'batch_size': 8000, 'L': 5, 'dt': 3.1622776e-07}. metric: 853\n",
      "Hyperparams: {'batch_size': 80, 'L': 5, 'dt': 1e-07}. metric: 856\n",
      "Hyperparams: {'batch_size': 80, 'L': 5, 'dt': 3.1622776e-07}. metric: 967\n",
      "Hyperparams: {'batch_size': 800, 'L': 10, 'dt': 3.1622776e-08}. metric: 862\n",
      "Hyperparams: {'batch_size': 800, 'L': 5, 'dt': 3.1622776e-07}. metric: 844\n",
      "Hyperparams: {'batch_size': 800, 'L': 5, 'dt': 3.1622776e-08}. metric: 965\n",
      "Hyperparams: {'batch_size': 80, 'L': 10, 'dt': 3.1622776e-08}. metric: 915\n",
      "Hyperparams: {'batch_size': 8000, 'L': 10, 'dt': 1e-07}. metric: 1017\n",
      "Hyperparams: {'batch_size': 8000, 'L': 5, 'dt': 1e-07}. metric: 859\n",
      "Hyperparams: {'batch_size': 80, 'L': 5, 'dt': 3.1622776e-08}. metric: 1008\n",
      "Hyperparams: {'batch_size': 800, 'L': 10, 'dt': 1e-07}. metric: 894\n",
      "Hyperparams: {'batch_size': 800, 'L': 5, 'dt': 1e-06}. metric: 961\n",
      "Hyperparams: {'batch_size': 8000, 'L': 10, 'dt': 3.1622776e-08}. metric: 900\n",
      "Hyperparams: {'batch_size': 800, 'L': 10, 'dt': 3.1622776e-07}. metric: 1081\n",
      "Hyperparams: {'batch_size': 80, 'L': 10, 'dt': 1e-07}. metric: 1021\n",
      "Hyperparams: {'batch_size': 8000, 'L': 10, 'dt': 3.1622776e-07}. metric: 1058\n",
      "Hyperparams: {'batch_size': 8000, 'L': 5, 'dt': 1e-06}. metric: 1042\n",
      "Hyperparams: {'batch_size': 80, 'L': 5, 'dt': 1e-06}. metric: 1181\n",
      "Hyperparams: {'batch_size': 80000, 'L': 10, 'dt': 1e-06}. metric: 60689\n",
      "Hyperparams: {'batch_size': 80000, 'L': 5, 'dt': 3.1622776e-07}. metric: 944\n",
      "Hyperparams: {'batch_size': 80000, 'L': 5, 'dt': 3.1622776e-06}. metric: 36646\n",
      "Hyperparams: {'batch_size': 80000, 'L': 10, 'dt': 3.1622776e-07}. metric: 1307\n",
      "Hyperparams: {'batch_size': 80, 'L': 10, 'dt': 3.1622776e-07}. metric: 1241\n",
      "Hyperparams: {'batch_size': 80000, 'L': 10, 'dt': 1e-07}. metric: 1363\n",
      "Hyperparams: {'batch_size': 80000, 'L': 5, 'dt': 1e-06}. metric: 1362\n",
      "Hyperparams: {'batch_size': 800, 'L': 5, 'dt': 1e-05}. metric: 4492\n",
      "Hyperparams: {'batch_size': 8000, 'L': 5, 'dt': 1e-05}. metric: 4421\n",
      "\n",
      "Number of samples: [19, 18, 12, 20, 12, 11, 10, 7, 11, 4]\n"
     ]
    },
    {
     "data": {
      "application/vnd.jupyter.widget-view+json": {
       "model_id": "cef4b9c4fd994d7ca8da7b6c79719dc7",
       "version_major": 2,
       "version_minor": 0
      },
      "text/plain": [
       "HBox(children=(HTML(value='Iteration 3/4, 10 arms, time budget = 2.40 sec'), FloatProgress(value=0.0, max=10.0…"
      ]
     },
     "metadata": {},
     "output_type": "display_data"
    },
    {
     "name": "stdout",
     "output_type": "stream",
     "text": [
      "Hyperparams: {'batch_size': 800, 'L': 5, 'dt': 1e-07}. metric: 800\n",
      "Hyperparams: {'batch_size': 800, 'L': 5, 'dt': 3.1622776e-07}. metric: 813\n",
      "Hyperparams: {'batch_size': 8000, 'L': 5, 'dt': 3.1622776e-07}. metric: 824\n",
      "Hyperparams: {'batch_size': 80, 'L': 5, 'dt': 1e-07}. metric: 845\n",
      "Hyperparams: {'batch_size': 8000, 'L': 5, 'dt': 1e-07}. metric: 772\n",
      "Hyperparams: {'batch_size': 800, 'L': 10, 'dt': 3.1622776e-08}. metric: 775\n",
      "Hyperparams: {'batch_size': 800, 'L': 10, 'dt': 1e-07}. metric: 813\n",
      "Hyperparams: {'batch_size': 8000, 'L': 10, 'dt': 3.1622776e-08}. metric: 789\n",
      "Hyperparams: {'batch_size': 80, 'L': 10, 'dt': 3.1622776e-08}. metric: 842\n",
      "Hyperparams: {'batch_size': 80000, 'L': 5, 'dt': 3.1622776e-07}. metric: 916\n",
      "\n",
      "Number of samples: [38, 34, 21]\n"
     ]
    },
    {
     "data": {
      "application/vnd.jupyter.widget-view+json": {
       "model_id": "a3416957ecb34702b28f6f0d6b72cc4c",
       "version_major": 2,
       "version_minor": 0
      },
      "text/plain": [
       "HBox(children=(HTML(value='Iteration 4/4, 3 arms, time budget = 8.00 sec'), FloatProgress(value=0.0, max=3.0),…"
      ]
     },
     "metadata": {},
     "output_type": "display_data"
    },
    {
     "name": "stdout",
     "output_type": "stream",
     "text": [
      "Hyperparams: {'batch_size': 8000, 'L': 5, 'dt': 1e-07}. metric: 780\n",
      "Hyperparams: {'batch_size': 800, 'L': 10, 'dt': 3.1622776e-08}. metric: 770\n",
      "Hyperparams: {'batch_size': 8000, 'L': 10, 'dt': 3.1622776e-08}. metric: 759\n",
      "\n",
      "Number of samples: [67]\n",
      "Running time: 962.4 sec\n",
      "{'batch_size': 8000, 'L': 10, 'dt': 3.1622776e-08} 759.1282 (67, 52580)\n"
     ]
    }
   ],
   "source": [
    "build_kernel = lambda dt, L, batch_size: build_sghmc_kernel(dt, L, loglikelihood, \n",
    "                                                  logprior, data, batch_size)\n",
    "\n",
    "grid_params = {'log_dt': -jnp.arange(2., 8., 0.5), \n",
    "               'batch_size': [int(10**(-elem)*R_train.shape[0]) for elem in range(0,4)],\n",
    "               \"L\": [5, 10]\n",
    "              }\n",
    "best_arm = run_MAMBA(key, build_kernel, imq_KSD, R, params_IC, \n",
    "                     grid_params=grid_params, get_fb_grads=get_fb_grads)\n",
    "\n",
    "print(best_arm.hyperparameters, best_arm.metric, best_arm.samples.shape)\n"
   ]
  },
  {
   "cell_type": "code",
   "execution_count": 22,
   "id": "d25daf64",
   "metadata": {},
   "outputs": [
    {
     "data": {
      "application/vnd.jupyter.widget-view+json": {
       "model_id": "b9c6e67112a34bb0a75ef72a913c6ab6",
       "version_major": 2,
       "version_minor": 0
      },
      "text/plain": [
       "HBox(children=(HTML(value='Iteration 1/4, 96 arms, time budget = 0.25 sec'), FloatProgress(value=0.0, max=96.0…"
      ]
     },
     "metadata": {},
     "output_type": "display_data"
    },
    {
     "name": "stdout",
     "output_type": "stream",
     "text": [
      "Hyperparams: {'batch_size': 80000, 'L': 5, 'dt': 0.01}. metric: 2301742592\n",
      "Hyperparams: {'batch_size': 80000, 'L': 5, 'dt': 0.0031622776}. metric: 278386\n",
      "Hyperparams: {'batch_size': 80000, 'L': 5, 'dt': 0.001}. metric: 808773\n",
      "Hyperparams: {'batch_size': 80000, 'L': 5, 'dt': 0.00031622776}. metric: 2202052\n",
      "Hyperparams: {'batch_size': 80000, 'L': 5, 'dt': 1e-04}. metric: 111436\n",
      "Hyperparams: {'batch_size': 80000, 'L': 5, 'dt': 3.1622778e-05}. metric: 59006\n",
      "Hyperparams: {'batch_size': 80000, 'L': 5, 'dt': 1e-05}. metric: 6363\n",
      "Hyperparams: {'batch_size': 80000, 'L': 5, 'dt': 3.1622776e-06}. metric: 1406\n",
      "Hyperparams: {'batch_size': 80000, 'L': 5, 'dt': 1e-06}. metric: 1567\n",
      "Hyperparams: {'batch_size': 80000, 'L': 5, 'dt': 3.1622776e-07}. metric: 1335\n",
      "Hyperparams: {'batch_size': 80000, 'L': 5, 'dt': 1e-07}. metric: 867\n",
      "Hyperparams: {'batch_size': 80000, 'L': 5, 'dt': 3.1622776e-08}. metric: 649\n",
      "Hyperparams: {'batch_size': 80000, 'L': 10, 'dt': 0.01}. metric: inf\n",
      "Hyperparams: {'batch_size': 80000, 'L': 10, 'dt': 0.0031622776}. metric: inf\n",
      "Hyperparams: {'batch_size': 80000, 'L': 10, 'dt': 0.001}. metric: 187903360\n",
      "Hyperparams: {'batch_size': 80000, 'L': 10, 'dt': 0.00031622776}. metric: 37323\n",
      "Hyperparams: {'batch_size': 80000, 'L': 10, 'dt': 1e-04}. metric: 379022\n",
      "Hyperparams: {'batch_size': 80000, 'L': 10, 'dt': 3.1622778e-05}. metric: 526400\n",
      "Hyperparams: {'batch_size': 80000, 'L': 10, 'dt': 1e-05}. metric: 41661\n",
      "Hyperparams: {'batch_size': 80000, 'L': 10, 'dt': 3.1622776e-06}. metric: 4955\n",
      "Hyperparams: {'batch_size': 80000, 'L': 10, 'dt': 1e-06}. metric: 1328\n",
      "Hyperparams: {'batch_size': 80000, 'L': 10, 'dt': 3.1622776e-07}. metric: 1420\n",
      "Hyperparams: {'batch_size': 80000, 'L': 10, 'dt': 1e-07}. metric: 1478\n",
      "Hyperparams: {'batch_size': 80000, 'L': 10, 'dt': 3.1622776e-08}. metric: 832\n",
      "Hyperparams: {'batch_size': 8000, 'L': 5, 'dt': 0.01}. metric: inf\n",
      "Hyperparams: {'batch_size': 8000, 'L': 5, 'dt': 0.0031622776}. metric: inf\n",
      "Hyperparams: {'batch_size': 8000, 'L': 5, 'dt': 0.001}. metric: inf\n",
      "Hyperparams: {'batch_size': 8000, 'L': 5, 'dt': 0.00031622776}. metric: inf\n",
      "Hyperparams: {'batch_size': 8000, 'L': 5, 'dt': 1e-04}. metric: inf\n",
      "Hyperparams: {'batch_size': 8000, 'L': 5, 'dt': 3.1622778e-05}. metric: 18072\n",
      "Hyperparams: {'batch_size': 8000, 'L': 5, 'dt': 1e-05}. metric: 2761\n",
      "Hyperparams: {'batch_size': 8000, 'L': 5, 'dt': 3.1622776e-06}. metric: 64580\n",
      "Hyperparams: {'batch_size': 8000, 'L': 5, 'dt': 1e-06}. metric: 1230\n",
      "Hyperparams: {'batch_size': 8000, 'L': 5, 'dt': 3.1622776e-07}. metric: 884\n",
      "Hyperparams: {'batch_size': 8000, 'L': 5, 'dt': 1e-07}. metric: 1037\n",
      "Hyperparams: {'batch_size': 8000, 'L': 5, 'dt': 3.1622776e-08}. metric: 853\n",
      "Hyperparams: {'batch_size': 8000, 'L': 10, 'dt': 0.01}. metric: inf\n",
      "Hyperparams: {'batch_size': 8000, 'L': 10, 'dt': 0.0031622776}. metric: inf\n",
      "Hyperparams: {'batch_size': 8000, 'L': 10, 'dt': 0.001}. metric: inf\n",
      "Hyperparams: {'batch_size': 8000, 'L': 10, 'dt': 0.00031622776}. metric: inf\n",
      "Hyperparams: {'batch_size': 8000, 'L': 10, 'dt': 1e-04}. metric: inf\n",
      "Hyperparams: {'batch_size': 8000, 'L': 10, 'dt': 3.1622778e-05}. metric: 227577\n",
      "Hyperparams: {'batch_size': 8000, 'L': 10, 'dt': 1e-05}. metric: 36684\n",
      "Hyperparams: {'batch_size': 8000, 'L': 10, 'dt': 3.1622776e-06}. metric: 25186\n",
      "Hyperparams: {'batch_size': 8000, 'L': 10, 'dt': 1e-06}. metric: 48669\n",
      "Hyperparams: {'batch_size': 8000, 'L': 10, 'dt': 3.1622776e-07}. metric: 1182\n",
      "Hyperparams: {'batch_size': 8000, 'L': 10, 'dt': 1e-07}. metric: 1037\n",
      "Hyperparams: {'batch_size': 8000, 'L': 10, 'dt': 3.1622776e-08}. metric: 1138\n",
      "Hyperparams: {'batch_size': 800, 'L': 5, 'dt': 0.01}. metric: inf\n",
      "Hyperparams: {'batch_size': 800, 'L': 5, 'dt': 0.0031622776}. metric: inf\n",
      "Hyperparams: {'batch_size': 800, 'L': 5, 'dt': 0.001}. metric: inf\n",
      "Hyperparams: {'batch_size': 800, 'L': 5, 'dt': 0.00031622776}. metric: inf\n",
      "Hyperparams: {'batch_size': 800, 'L': 5, 'dt': 1e-04}. metric: inf\n",
      "Hyperparams: {'batch_size': 800, 'L': 5, 'dt': 3.1622778e-05}. metric: 13808\n",
      "Hyperparams: {'batch_size': 800, 'L': 5, 'dt': 1e-05}. metric: 2843\n",
      "Hyperparams: {'batch_size': 800, 'L': 5, 'dt': 3.1622776e-06}. metric: 36937\n",
      "Hyperparams: {'batch_size': 800, 'L': 5, 'dt': 1e-06}. metric: 1148\n",
      "Hyperparams: {'batch_size': 800, 'L': 5, 'dt': 3.1622776e-07}. metric: 966\n",
      "Hyperparams: {'batch_size': 800, 'L': 5, 'dt': 1e-07}. metric: 855\n",
      "Hyperparams: {'batch_size': 800, 'L': 5, 'dt': 3.1622776e-08}. metric: 882\n",
      "Hyperparams: {'batch_size': 800, 'L': 10, 'dt': 0.01}. metric: inf\n",
      "Hyperparams: {'batch_size': 800, 'L': 10, 'dt': 0.0031622776}. metric: inf\n",
      "Hyperparams: {'batch_size': 800, 'L': 10, 'dt': 0.001}. metric: inf\n",
      "Hyperparams: {'batch_size': 800, 'L': 10, 'dt': 0.00031622776}. metric: inf\n",
      "Hyperparams: {'batch_size': 800, 'L': 10, 'dt': 1e-04}. metric: inf\n",
      "Hyperparams: {'batch_size': 800, 'L': 10, 'dt': 3.1622778e-05}. metric: inf\n",
      "Hyperparams: {'batch_size': 800, 'L': 10, 'dt': 1e-05}. metric: 16877\n",
      "Hyperparams: {'batch_size': 800, 'L': 10, 'dt': 3.1622776e-06}. metric: 15591\n",
      "Hyperparams: {'batch_size': 800, 'L': 10, 'dt': 1e-06}. metric: 26155\n",
      "Hyperparams: {'batch_size': 800, 'L': 10, 'dt': 3.1622776e-07}. metric: 1123\n",
      "Hyperparams: {'batch_size': 800, 'L': 10, 'dt': 1e-07}. metric: 1081\n",
      "Hyperparams: {'batch_size': 800, 'L': 10, 'dt': 3.1622776e-08}. metric: 912\n",
      "Hyperparams: {'batch_size': 80, 'L': 5, 'dt': 0.01}. metric: inf\n",
      "Hyperparams: {'batch_size': 80, 'L': 5, 'dt': 0.0031622776}. metric: inf\n",
      "Hyperparams: {'batch_size': 80, 'L': 5, 'dt': 0.001}. metric: inf\n",
      "Hyperparams: {'batch_size': 80, 'L': 5, 'dt': 0.00031622776}. metric: inf\n",
      "Hyperparams: {'batch_size': 80, 'L': 5, 'dt': 1e-04}. metric: inf\n",
      "Hyperparams: {'batch_size': 80, 'L': 5, 'dt': 3.1622778e-05}. metric: inf\n",
      "Hyperparams: {'batch_size': 80, 'L': 5, 'dt': 1e-05}. metric: 4885\n",
      "Hyperparams: {'batch_size': 80, 'L': 5, 'dt': 3.1622776e-06}. metric: 21731\n",
      "Hyperparams: {'batch_size': 80, 'L': 5, 'dt': 1e-06}. metric: 977\n",
      "Hyperparams: {'batch_size': 80, 'L': 5, 'dt': 3.1622776e-07}. metric: 844\n",
      "Hyperparams: {'batch_size': 80, 'L': 5, 'dt': 1e-07}. metric: 885\n",
      "Hyperparams: {'batch_size': 80, 'L': 5, 'dt': 3.1622776e-08}. metric: 1056\n",
      "Hyperparams: {'batch_size': 80, 'L': 10, 'dt': 0.01}. metric: inf\n",
      "Hyperparams: {'batch_size': 80, 'L': 10, 'dt': 0.0031622776}. metric: inf\n",
      "Hyperparams: {'batch_size': 80, 'L': 10, 'dt': 0.001}. metric: inf\n",
      "Hyperparams: {'batch_size': 80, 'L': 10, 'dt': 0.00031622776}. metric: inf\n",
      "Hyperparams: {'batch_size': 80, 'L': 10, 'dt': 1e-04}. metric: inf\n",
      "Hyperparams: {'batch_size': 80, 'L': 10, 'dt': 3.1622778e-05}. metric: inf\n",
      "Hyperparams: {'batch_size': 80, 'L': 10, 'dt': 1e-05}. metric: inf\n",
      "Hyperparams: {'batch_size': 80, 'L': 10, 'dt': 3.1622776e-06}. metric: 14817\n",
      "Hyperparams: {'batch_size': 80, 'L': 10, 'dt': 1e-06}. metric: 32219\n",
      "Hyperparams: {'batch_size': 80, 'L': 10, 'dt': 3.1622776e-07}. metric: 1265\n",
      "Hyperparams: {'batch_size': 80, 'L': 10, 'dt': 1e-07}. metric: 1117\n",
      "Hyperparams: {'batch_size': 80, 'L': 10, 'dt': 3.1622776e-08}. metric: 993\n",
      "\n",
      "Number of samples: [1, 1, 5, 3, 4, 1, 4, 3, 5, 3, 4, 5, 3, 2, 3, 5, 3, 3, 3, 2, 4, 2, 3, 3, 1, 1, 1, 1, 1, 1, 3, 4]\n"
     ]
    },
    {
     "data": {
      "application/vnd.jupyter.widget-view+json": {
       "model_id": "18715cc4f5e8401681747a52abec1d14",
       "version_major": 2,
       "version_minor": 0
      },
      "text/plain": [
       "HBox(children=(HTML(value='Iteration 2/4, 32 arms, time budget = 0.75 sec'), FloatProgress(value=0.0, max=32.0…"
      ]
     },
     "metadata": {},
     "output_type": "display_data"
    },
    {
     "name": "stdout",
     "output_type": "stream",
     "text": [
      "Hyperparams: {'batch_size': 80000, 'L': 5, 'dt': 3.1622776e-08}. metric: 1070\n",
      "Hyperparams: {'batch_size': 80000, 'L': 10, 'dt': 3.1622776e-08}. metric: 1198\n",
      "Hyperparams: {'batch_size': 80, 'L': 5, 'dt': 3.1622776e-07}. metric: 832\n",
      "Hyperparams: {'batch_size': 8000, 'L': 5, 'dt': 3.1622776e-08}. metric: 959\n",
      "Hyperparams: {'batch_size': 800, 'L': 5, 'dt': 1e-07}. metric: 793\n",
      "Hyperparams: {'batch_size': 80000, 'L': 5, 'dt': 1e-07}. metric: 1121\n",
      "Hyperparams: {'batch_size': 800, 'L': 5, 'dt': 3.1622776e-08}. metric: 1065\n",
      "Hyperparams: {'batch_size': 8000, 'L': 5, 'dt': 3.1622776e-07}. metric: 973\n",
      "Hyperparams: {'batch_size': 80, 'L': 5, 'dt': 1e-07}. metric: 822\n",
      "Hyperparams: {'batch_size': 800, 'L': 10, 'dt': 3.1622776e-08}. metric: 929\n",
      "Hyperparams: {'batch_size': 800, 'L': 5, 'dt': 3.1622776e-07}. metric: 835\n",
      "Hyperparams: {'batch_size': 80, 'L': 5, 'dt': 1e-06}. metric: 936\n",
      "Hyperparams: {'batch_size': 80, 'L': 10, 'dt': 3.1622776e-08}. metric: 858\n",
      "Hyperparams: {'batch_size': 8000, 'L': 10, 'dt': 1e-07}. metric: 1048\n",
      "Hyperparams: {'batch_size': 8000, 'L': 5, 'dt': 1e-07}. metric: 1048\n",
      "Hyperparams: {'batch_size': 80, 'L': 5, 'dt': 3.1622776e-08}. metric: 1042\n",
      "Hyperparams: {'batch_size': 800, 'L': 10, 'dt': 1e-07}. metric: 859\n",
      "Hyperparams: {'batch_size': 80, 'L': 10, 'dt': 1e-07}. metric: 858\n",
      "Hyperparams: {'batch_size': 800, 'L': 10, 'dt': 3.1622776e-07}. metric: 1036\n",
      "Hyperparams: {'batch_size': 8000, 'L': 10, 'dt': 3.1622776e-08}. metric: 936\n",
      "Hyperparams: {'batch_size': 800, 'L': 5, 'dt': 1e-06}. metric: 943\n",
      "Hyperparams: {'batch_size': 8000, 'L': 10, 'dt': 3.1622776e-07}. metric: 1145\n",
      "Hyperparams: {'batch_size': 8000, 'L': 5, 'dt': 1e-06}. metric: 1051\n",
      "Hyperparams: {'batch_size': 80, 'L': 10, 'dt': 3.1622776e-07}. metric: 1041\n",
      "Hyperparams: {'batch_size': 80000, 'L': 10, 'dt': 1e-06}. metric: 3802\n",
      "Hyperparams: {'batch_size': 80000, 'L': 5, 'dt': 3.1622776e-07}. metric: 1074\n",
      "Hyperparams: {'batch_size': 80000, 'L': 5, 'dt': 3.1622776e-06}. metric: 29132\n",
      "Hyperparams: {'batch_size': 80000, 'L': 10, 'dt': 3.1622776e-07}. metric: 2321\n",
      "Hyperparams: {'batch_size': 80000, 'L': 10, 'dt': 1e-07}. metric: 1780\n",
      "Hyperparams: {'batch_size': 80000, 'L': 5, 'dt': 1e-06}. metric: 1478\n",
      "Hyperparams: {'batch_size': 8000, 'L': 5, 'dt': 1e-05}. metric: 3368\n",
      "Hyperparams: {'batch_size': 800, 'L': 5, 'dt': 1e-05}. metric: 5062\n",
      "\n",
      "Number of samples: [16, 18, 18, 16, 10, 10, 10, 10, 6, 18]\n"
     ]
    },
    {
     "data": {
      "application/vnd.jupyter.widget-view+json": {
       "model_id": "c4b62d775e714878a624d24de5810ed7",
       "version_major": 2,
       "version_minor": 0
      },
      "text/plain": [
       "HBox(children=(HTML(value='Iteration 3/4, 10 arms, time budget = 2.40 sec'), FloatProgress(value=0.0, max=10.0…"
      ]
     },
     "metadata": {},
     "output_type": "display_data"
    },
    {
     "name": "stdout",
     "output_type": "stream",
     "text": [
      "Hyperparams: {'batch_size': 800, 'L': 5, 'dt': 1e-07}. metric: 792\n",
      "Hyperparams: {'batch_size': 80, 'L': 5, 'dt': 1e-07}. metric: 814\n",
      "Hyperparams: {'batch_size': 80, 'L': 5, 'dt': 3.1622776e-07}. metric: 799\n",
      "Hyperparams: {'batch_size': 800, 'L': 5, 'dt': 3.1622776e-07}. metric: 820\n",
      "Hyperparams: {'batch_size': 80, 'L': 10, 'dt': 1e-07}. metric: 810\n",
      "Hyperparams: {'batch_size': 80, 'L': 10, 'dt': 3.1622776e-08}. metric: 771\n",
      "Hyperparams: {'batch_size': 800, 'L': 10, 'dt': 1e-07}. metric: 810\n",
      "Hyperparams: {'batch_size': 800, 'L': 10, 'dt': 3.1622776e-08}. metric: 765\n",
      "Hyperparams: {'batch_size': 8000, 'L': 10, 'dt': 3.1622776e-08}. metric: 819\n",
      "Hyperparams: {'batch_size': 80, 'L': 5, 'dt': 1e-06}. metric: 769\n",
      "\n",
      "Number of samples: [30, 56, 32]\n"
     ]
    },
    {
     "data": {
      "application/vnd.jupyter.widget-view+json": {
       "model_id": "322fa85d0b164a2f913d34b2fca511ed",
       "version_major": 2,
       "version_minor": 0
      },
      "text/plain": [
       "HBox(children=(HTML(value='Iteration 4/4, 3 arms, time budget = 8.00 sec'), FloatProgress(value=0.0, max=3.0),…"
      ]
     },
     "metadata": {},
     "output_type": "display_data"
    },
    {
     "name": "stdout",
     "output_type": "stream",
     "text": [
      "Hyperparams: {'batch_size': 800, 'L': 10, 'dt': 3.1622776e-08}. metric: 749\n",
      "Hyperparams: {'batch_size': 80, 'L': 5, 'dt': 1e-06}. metric: 529\n",
      "Hyperparams: {'batch_size': 80, 'L': 10, 'dt': 3.1622776e-08}. metric: 759\n",
      "\n",
      "Number of samples: [179]\n",
      "Running time: 1183.9 sec\n",
      "{'batch_size': 80, 'L': 5, 'dt': 1e-06} 528.87866 (179, 52580)\n"
     ]
    }
   ],
   "source": [
    "build_kernel = lambda dt, L, batch_size: build_sghmcCV_kernel(dt, L, loglikelihood, \n",
    "                                                  logprior, data, batch_size, centering_value)\n",
    "\n",
    "\n",
    "grid_params = {'log_dt': -jnp.arange(2., 8., 0.5), \n",
    "               'batch_size': [int(10**(-elem)*R_train.shape[0]) for elem in range(0,4)],\n",
    "               \"L\": [5, 10]\n",
    "              }\n",
    "best_arm = run_MAMBA(key, build_kernel, imq_KSD, R, params_IC, \n",
    "                     grid_params=grid_params, get_fb_grads=get_fb_grads)\n",
    "\n",
    "print(best_arm.hyperparameters, best_arm.metric, best_arm.samples.shape)\n"
   ]
  },
  {
   "cell_type": "code",
   "execution_count": 23,
   "id": "4817772c",
   "metadata": {},
   "outputs": [
    {
     "data": {
      "application/vnd.jupyter.widget-view+json": {
       "model_id": "2c500974455d4160ab28de5179e71a0e",
       "version_major": 2,
       "version_minor": 0
      },
      "text/plain": [
       "HBox(children=(HTML(value='Iteration 1/3, 48 arms, time budget = 0.77 sec'), FloatProgress(value=0.0, max=48.0…"
      ]
     },
     "metadata": {},
     "output_type": "display_data"
    },
    {
     "name": "stdout",
     "output_type": "stream",
     "text": [
      "Hyperparams: {'batch_size': 80000, 'dt': 0.01}. metric: inf\n",
      "Hyperparams: {'batch_size': 80000, 'dt': 0.0031622776}. metric: inf\n",
      "Hyperparams: {'batch_size': 80000, 'dt': 0.001}. metric: inf\n",
      "Hyperparams: {'batch_size': 80000, 'dt': 0.00031622776}. metric: inf\n",
      "Hyperparams: {'batch_size': 80000, 'dt': 1e-04}. metric: inf\n",
      "Hyperparams: {'batch_size': 80000, 'dt': 3.1622778e-05}. metric: 5502\n",
      "Hyperparams: {'batch_size': 80000, 'dt': 1e-05}. metric: 841\n",
      "Hyperparams: {'batch_size': 80000, 'dt': 3.1622776e-06}. metric: 985\n",
      "Hyperparams: {'batch_size': 80000, 'dt': 1e-06}. metric: 794\n",
      "Hyperparams: {'batch_size': 80000, 'dt': 3.1622776e-07}. metric: 715\n",
      "Hyperparams: {'batch_size': 80000, 'dt': 1e-07}. metric: 722\n",
      "Hyperparams: {'batch_size': 80000, 'dt': 3.1622776e-08}. metric: 926\n",
      "Hyperparams: {'batch_size': 8000, 'dt': 0.01}. metric: inf\n",
      "Hyperparams: {'batch_size': 8000, 'dt': 0.0031622776}. metric: inf\n",
      "Hyperparams: {'batch_size': 8000, 'dt': 0.001}. metric: inf\n",
      "Hyperparams: {'batch_size': 8000, 'dt': 0.00031622776}. metric: inf\n",
      "Hyperparams: {'batch_size': 8000, 'dt': 1e-04}. metric: inf\n",
      "Hyperparams: {'batch_size': 8000, 'dt': 3.1622778e-05}. metric: 827\n",
      "Hyperparams: {'batch_size': 8000, 'dt': 1e-05}. metric: 666\n",
      "Hyperparams: {'batch_size': 8000, 'dt': 3.1622776e-06}. metric: 646\n",
      "Hyperparams: {'batch_size': 8000, 'dt': 1e-06}. metric: 663\n",
      "Hyperparams: {'batch_size': 8000, 'dt': 3.1622776e-07}. metric: 752\n",
      "Hyperparams: {'batch_size': 8000, 'dt': 1e-07}. metric: 798\n",
      "Hyperparams: {'batch_size': 8000, 'dt': 3.1622776e-08}. metric: 758\n",
      "Hyperparams: {'batch_size': 800, 'dt': 0.01}. metric: inf\n",
      "Hyperparams: {'batch_size': 800, 'dt': 0.0031622776}. metric: inf\n",
      "Hyperparams: {'batch_size': 800, 'dt': 0.001}. metric: inf\n",
      "Hyperparams: {'batch_size': 800, 'dt': 0.00031622776}. metric: inf\n",
      "Hyperparams: {'batch_size': 800, 'dt': 1e-04}. metric: inf\n",
      "Hyperparams: {'batch_size': 800, 'dt': 3.1622778e-05}. metric: inf\n",
      "Hyperparams: {'batch_size': 800, 'dt': 1e-05}. metric: 976\n",
      "Hyperparams: {'batch_size': 800, 'dt': 3.1622776e-06}. metric: 918\n",
      "Hyperparams: {'batch_size': 800, 'dt': 1e-06}. metric: 880\n",
      "Hyperparams: {'batch_size': 800, 'dt': 3.1622776e-07}. metric: 849\n",
      "Hyperparams: {'batch_size': 800, 'dt': 1e-07}. metric: 824\n",
      "Hyperparams: {'batch_size': 800, 'dt': 3.1622776e-08}. metric: 789\n",
      "Hyperparams: {'batch_size': 80, 'dt': 0.01}. metric: inf\n",
      "Hyperparams: {'batch_size': 80, 'dt': 0.0031622776}. metric: inf\n",
      "Hyperparams: {'batch_size': 80, 'dt': 0.001}. metric: inf\n",
      "Hyperparams: {'batch_size': 80, 'dt': 0.00031622776}. metric: inf\n",
      "Hyperparams: {'batch_size': 80, 'dt': 1e-04}. metric: inf\n",
      "Hyperparams: {'batch_size': 80, 'dt': 3.1622778e-05}. metric: inf\n",
      "Hyperparams: {'batch_size': 80, 'dt': 1e-05}. metric: inf\n",
      "Hyperparams: {'batch_size': 80, 'dt': 3.1622776e-06}. metric: inf\n",
      "Hyperparams: {'batch_size': 80, 'dt': 1e-06}. metric: inf\n",
      "Hyperparams: {'batch_size': 80, 'dt': 3.1622776e-07}. metric: 1978\n",
      "Hyperparams: {'batch_size': 80, 'dt': 1e-07}. metric: 1436\n",
      "Hyperparams: {'batch_size': 80, 'dt': 3.1622776e-08}. metric: 1067\n",
      "\n",
      "Number of samples: [32, 33, 33, 7, 7, 35, 33, 50, 7, 33, 51, 33, 7, 51, 51, 49]\n"
     ]
    },
    {
     "data": {
      "application/vnd.jupyter.widget-view+json": {
       "model_id": "0edea296c1cd41ebbd68e1664f7d3ca2",
       "version_major": 2,
       "version_minor": 0
      },
      "text/plain": [
       "HBox(children=(HTML(value='Iteration 2/3, 16 arms, time budget = 2.31 sec'), FloatProgress(value=0.0, max=16.0…"
      ]
     },
     "metadata": {},
     "output_type": "display_data"
    },
    {
     "name": "stdout",
     "output_type": "stream",
     "text": [
      "Hyperparams: {'batch_size': 8000, 'dt': 3.1622776e-06}. metric: 337\n",
      "Hyperparams: {'batch_size': 8000, 'dt': 1e-06}. metric: 411\n",
      "Hyperparams: {'batch_size': 8000, 'dt': 1e-05}. metric: 340\n",
      "Hyperparams: {'batch_size': 80000, 'dt': 3.1622776e-07}. metric: 875\n",
      "Hyperparams: {'batch_size': 80000, 'dt': 1e-07}. metric: 848\n",
      "Hyperparams: {'batch_size': 8000, 'dt': 3.1622776e-07}. metric: 523\n",
      "Hyperparams: {'batch_size': 8000, 'dt': 3.1622776e-08}. metric: 804\n",
      "Hyperparams: {'batch_size': 800, 'dt': 3.1622776e-08}. metric: 773\n",
      "Hyperparams: {'batch_size': 80000, 'dt': 1e-06}. metric: 746\n",
      "Hyperparams: {'batch_size': 8000, 'dt': 1e-07}. metric: 691\n",
      "Hyperparams: {'batch_size': 800, 'dt': 1e-07}. metric: 652\n",
      "Hyperparams: {'batch_size': 8000, 'dt': 3.1622778e-05}. metric: 242\n",
      "Hyperparams: {'batch_size': 80000, 'dt': 1e-05}. metric: 492\n",
      "Hyperparams: {'batch_size': 800, 'dt': 3.1622776e-07}. metric: 544\n",
      "Hyperparams: {'batch_size': 800, 'dt': 1e-06}. metric: 454\n",
      "Hyperparams: {'batch_size': 800, 'dt': 3.1622776e-06}. metric: 303\n",
      "\n",
      "Number of samples: [134, 199, 135, 101, 133]\n"
     ]
    },
    {
     "data": {
      "application/vnd.jupyter.widget-view+json": {
       "model_id": "0253947eb10e45ffa58d1d7cda227608",
       "version_major": 2,
       "version_minor": 0
      },
      "text/plain": [
       "HBox(children=(HTML(value='Iteration 3/3, 5 arms, time budget = 7.38 sec'), FloatProgress(value=0.0, max=5.0),…"
      ]
     },
     "metadata": {},
     "output_type": "display_data"
    },
    {
     "name": "stdout",
     "output_type": "stream",
     "text": [
      "Hyperparams: {'batch_size': 8000, 'dt': 3.1622778e-05}. metric: 128\n",
      "Hyperparams: {'batch_size': 800, 'dt': 3.1622776e-06}. metric: 172\n",
      "Hyperparams: {'batch_size': 8000, 'dt': 3.1622776e-06}. metric: 162\n",
      "Hyperparams: {'batch_size': 8000, 'dt': 1e-05}. metric: 130\n",
      "Hyperparams: {'batch_size': 8000, 'dt': 1e-06}. metric: 218\n",
      "\n",
      "Number of samples: [451]\n",
      "Running time: 1311.3 sec\n",
      "{'batch_size': 8000, 'dt': 3.1622778e-05} 128.48126 (451, 52580)\n"
     ]
    }
   ],
   "source": [
    "build_kernel = lambda dt, batch_size: build_sgnht_kernel(dt, loglikelihood, logprior, data, batch_size)\n",
    "\n",
    "\n",
    "grid_params = {'log_dt': -jnp.arange(2., 8., 0.5), \n",
    "               'batch_size': [int(10**(-elem)*R_train.shape[0]) for elem in range(0,4)]\n",
    "              }\n",
    "best_arm = run_MAMBA(key, build_kernel, imq_KSD, R, params_IC, \n",
    "                     grid_params=grid_params, get_fb_grads=get_fb_grads)\n",
    "\n",
    "print(best_arm.hyperparameters, best_arm.metric, best_arm.samples.shape)\n"
   ]
  },
  {
   "cell_type": "code",
   "execution_count": 24,
   "id": "fdd0e3a2",
   "metadata": {},
   "outputs": [
    {
     "data": {
      "application/vnd.jupyter.widget-view+json": {
       "model_id": "e562c877611345b9ac9368dd5a1f1533",
       "version_major": 2,
       "version_minor": 0
      },
      "text/plain": [
       "HBox(children=(HTML(value='Iteration 1/3, 48 arms, time budget = 0.77 sec'), FloatProgress(value=0.0, max=48.0…"
      ]
     },
     "metadata": {},
     "output_type": "display_data"
    },
    {
     "name": "stdout",
     "output_type": "stream",
     "text": [
      "Hyperparams: {'batch_size': 80000, 'dt': 0.01}. metric: inf\n",
      "Hyperparams: {'batch_size': 80000, 'dt': 0.0031622776}. metric: inf\n",
      "Hyperparams: {'batch_size': 80000, 'dt': 0.001}. metric: inf\n",
      "Hyperparams: {'batch_size': 80000, 'dt': 0.00031622776}. metric: inf\n",
      "Hyperparams: {'batch_size': 80000, 'dt': 1e-04}. metric: inf\n",
      "Hyperparams: {'batch_size': 80000, 'dt': 3.1622778e-05}. metric: 9396\n",
      "Hyperparams: {'batch_size': 80000, 'dt': 1e-05}. metric: 1056\n",
      "Hyperparams: {'batch_size': 80000, 'dt': 3.1622776e-06}. metric: 1062\n",
      "Hyperparams: {'batch_size': 80000, 'dt': 1e-06}. metric: 747\n",
      "Hyperparams: {'batch_size': 80000, 'dt': 3.1622776e-07}. metric: 677\n",
      "Hyperparams: {'batch_size': 80000, 'dt': 1e-07}. metric: 834\n",
      "Hyperparams: {'batch_size': 80000, 'dt': 3.1622776e-08}. metric: 983\n",
      "Hyperparams: {'batch_size': 8000, 'dt': 0.01}. metric: inf\n",
      "Hyperparams: {'batch_size': 8000, 'dt': 0.0031622776}. metric: inf\n",
      "Hyperparams: {'batch_size': 8000, 'dt': 0.001}. metric: inf\n",
      "Hyperparams: {'batch_size': 8000, 'dt': 0.00031622776}. metric: inf\n",
      "Hyperparams: {'batch_size': 8000, 'dt': 1e-04}. metric: inf\n",
      "Hyperparams: {'batch_size': 8000, 'dt': 3.1622778e-05}. metric: 1011\n",
      "Hyperparams: {'batch_size': 8000, 'dt': 1e-05}. metric: 600\n",
      "Hyperparams: {'batch_size': 8000, 'dt': 3.1622776e-06}. metric: 606\n",
      "Hyperparams: {'batch_size': 8000, 'dt': 1e-06}. metric: 687\n",
      "Hyperparams: {'batch_size': 8000, 'dt': 3.1622776e-07}. metric: 791\n",
      "Hyperparams: {'batch_size': 8000, 'dt': 1e-07}. metric: 793\n",
      "Hyperparams: {'batch_size': 8000, 'dt': 3.1622776e-08}. metric: 743\n",
      "Hyperparams: {'batch_size': 800, 'dt': 0.01}. metric: inf\n",
      "Hyperparams: {'batch_size': 800, 'dt': 0.0031622776}. metric: inf\n",
      "Hyperparams: {'batch_size': 800, 'dt': 0.001}. metric: inf\n",
      "Hyperparams: {'batch_size': 800, 'dt': 0.00031622776}. metric: inf\n",
      "Hyperparams: {'batch_size': 800, 'dt': 1e-04}. metric: inf\n",
      "Hyperparams: {'batch_size': 800, 'dt': 3.1622778e-05}. metric: inf\n",
      "Hyperparams: {'batch_size': 800, 'dt': 1e-05}. metric: inf\n",
      "Hyperparams: {'batch_size': 800, 'dt': 3.1622776e-06}. metric: 767\n",
      "Hyperparams: {'batch_size': 800, 'dt': 1e-06}. metric: 668\n",
      "Hyperparams: {'batch_size': 800, 'dt': 3.1622776e-07}. metric: 734\n",
      "Hyperparams: {'batch_size': 800, 'dt': 1e-07}. metric: 771\n",
      "Hyperparams: {'batch_size': 800, 'dt': 3.1622776e-08}. metric: 751\n",
      "Hyperparams: {'batch_size': 80, 'dt': 0.01}. metric: inf\n",
      "Hyperparams: {'batch_size': 80, 'dt': 0.0031622776}. metric: inf\n",
      "Hyperparams: {'batch_size': 80, 'dt': 0.001}. metric: inf\n",
      "Hyperparams: {'batch_size': 80, 'dt': 0.00031622776}. metric: inf\n",
      "Hyperparams: {'batch_size': 80, 'dt': 1e-04}. metric: inf\n",
      "Hyperparams: {'batch_size': 80, 'dt': 3.1622778e-05}. metric: inf\n",
      "Hyperparams: {'batch_size': 80, 'dt': 1e-05}. metric: inf\n",
      "Hyperparams: {'batch_size': 80, 'dt': 3.1622776e-06}. metric: inf\n",
      "Hyperparams: {'batch_size': 80, 'dt': 1e-06}. metric: 5697\n",
      "Hyperparams: {'batch_size': 80, 'dt': 3.1622776e-07}. metric: 967\n",
      "Hyperparams: {'batch_size': 80, 'dt': 1e-07}. metric: 814\n",
      "Hyperparams: {'batch_size': 80, 'dt': 3.1622776e-08}. metric: 746\n",
      "\n",
      "Number of samples: [24, 24, 36, 4, 24, 38, 22, 39, 4, 37, 37, 37, 24, 24, 38, 4]\n"
     ]
    },
    {
     "data": {
      "application/vnd.jupyter.widget-view+json": {
       "model_id": "084369b275754b79b73a6318a38bead9",
       "version_major": 2,
       "version_minor": 0
      },
      "text/plain": [
       "HBox(children=(HTML(value='Iteration 2/3, 16 arms, time budget = 2.31 sec'), FloatProgress(value=0.0, max=16.0…"
      ]
     },
     "metadata": {},
     "output_type": "display_data"
    },
    {
     "name": "stdout",
     "output_type": "stream",
     "text": [
      "Hyperparams: {'batch_size': 8000, 'dt': 1e-05}. metric: 348\n",
      "Hyperparams: {'batch_size': 8000, 'dt': 3.1622776e-06}. metric: 381\n",
      "Hyperparams: {'batch_size': 800, 'dt': 1e-06}. metric: 441\n",
      "Hyperparams: {'batch_size': 80000, 'dt': 3.1622776e-07}. metric: 890\n",
      "Hyperparams: {'batch_size': 8000, 'dt': 1e-06}. metric: 458\n",
      "Hyperparams: {'batch_size': 800, 'dt': 3.1622776e-07}. metric: 520\n",
      "Hyperparams: {'batch_size': 8000, 'dt': 3.1622776e-08}. metric: 838\n",
      "Hyperparams: {'batch_size': 80, 'dt': 3.1622776e-08}. metric: 803\n",
      "Hyperparams: {'batch_size': 80000, 'dt': 1e-06}. metric: 898\n",
      "Hyperparams: {'batch_size': 800, 'dt': 3.1622776e-08}. metric: 786\n",
      "Hyperparams: {'batch_size': 800, 'dt': 3.1622776e-06}. metric: 429\n",
      "Hyperparams: {'batch_size': 800, 'dt': 1e-07}. metric: 660\n",
      "Hyperparams: {'batch_size': 8000, 'dt': 3.1622776e-07}. metric: 607\n",
      "Hyperparams: {'batch_size': 8000, 'dt': 1e-07}. metric: 759\n",
      "Hyperparams: {'batch_size': 80, 'dt': 1e-07}. metric: 778\n",
      "Hyperparams: {'batch_size': 80000, 'dt': 1e-07}. metric: 815\n",
      "\n",
      "Number of samples: [96, 93, 146, 153, 95]\n"
     ]
    },
    {
     "data": {
      "application/vnd.jupyter.widget-view+json": {
       "model_id": "5b7bf5a7a9324025b7ecf25e146c48e9",
       "version_major": 2,
       "version_minor": 0
      },
      "text/plain": [
       "HBox(children=(HTML(value='Iteration 3/3, 5 arms, time budget = 7.38 sec'), FloatProgress(value=0.0, max=5.0),…"
      ]
     },
     "metadata": {},
     "output_type": "display_data"
    },
    {
     "name": "stdout",
     "output_type": "stream",
     "text": [
      "Hyperparams: {'batch_size': 8000, 'dt': 1e-05}. metric: 158\n",
      "Hyperparams: {'batch_size': 8000, 'dt': 3.1622776e-06}. metric: 201\n",
      "Hyperparams: {'batch_size': 800, 'dt': 3.1622776e-06}. metric: 239\n",
      "Hyperparams: {'batch_size': 800, 'dt': 1e-06}. metric: 250\n",
      "Hyperparams: {'batch_size': 8000, 'dt': 1e-06}. metric: 248\n",
      "\n",
      "Number of samples: [321]\n",
      "Running time: 1449.6 sec\n",
      "{'batch_size': 8000, 'dt': 1e-05} 157.72705 (321, 52580)\n"
     ]
    }
   ],
   "source": [
    "build_kernel = lambda dt, batch_size: build_sgnhtCV_kernel(dt, loglikelihood, \n",
    "                                                  logprior, data, batch_size, centering_value)\n",
    "\n",
    "grid_params = {'log_dt': -jnp.arange(2., 8., 0.5), \n",
    "               'batch_size': [int(10**(-elem)*R_train.shape[0]) for elem in range(0,4)]\n",
    "              }\n",
    "best_arm = run_MAMBA(key, build_kernel, imq_KSD, R, params_IC, \n",
    "                     grid_params=grid_params, get_fb_grads=get_fb_grads)\n",
    "\n",
    "print(best_arm.hyperparameters, best_arm.metric, best_arm.samples.shape)\n"
   ]
  },
  {
   "cell_type": "code",
   "execution_count": null,
   "id": "234914e6",
   "metadata": {},
   "outputs": [],
   "source": []
  }
 ],
 "metadata": {
  "kernelspec": {
   "display_name": "Python 3",
   "language": "python",
   "name": "python3"
  },
  "language_info": {
   "codemirror_mode": {
    "name": "ipython",
    "version": 3
   },
   "file_extension": ".py",
   "mimetype": "text/x-python",
   "name": "python",
   "nbconvert_exporter": "python",
   "pygments_lexer": "ipython3",
   "version": "3.8.2"
  }
 },
 "nbformat": 4,
 "nbformat_minor": 5
}
