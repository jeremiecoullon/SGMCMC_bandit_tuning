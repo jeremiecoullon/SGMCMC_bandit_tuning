{
 "cells": [
  {
   "cell_type": "code",
   "execution_count": 1,
   "id": "906fd9ec",
   "metadata": {},
   "outputs": [
    {
     "name": "stderr",
     "output_type": "stream",
     "text": [
      "WARNING:absl:No GPU/TPU found, falling back to CPU. (Set TF_CPP_MIN_LOG_LEVEL=0 and rerun for more info.)\n"
     ]
    }
   ],
   "source": [
    "%matplotlib inline\n",
    "import matplotlib.pyplot as plt\n",
    "import numpy as np\n",
    "\n",
    "import jax.numpy as jnp\n",
    "from jax import jit, random\n",
    "\n",
    "from sgmcmcjax.kernels import build_sgld_kernel, build_sghmc_kernel, build_sgnht_kernel\n",
    "from sgmcmcjax.kernels import build_sgldCV_kernel, build_sghmcCV_kernel, build_sgnhtCV_kernel\n",
    "from sgmcmcjax.optimizer import build_adam_optimizer\n",
    "from sgmcmcjax.util import build_grad_log_post\n",
    "\n",
    "import context\n",
    "\n",
    "from models.PMF.pmf_model import logprior, loglikelihood\n",
    "from models.PMF.util import R_train, R_test, load_PMF_MAP\n",
    "\n",
    "from tuning.mamba import run_MAMBA\n",
    "from tuning.ksd import imq_KSD\n"
   ]
  },
  {
   "cell_type": "markdown",
   "id": "a01ea2b4",
   "metadata": {},
   "source": [
    "# PMF - MAMBA"
   ]
  },
  {
   "cell_type": "code",
   "execution_count": 2,
   "id": "1aff4d07",
   "metadata": {},
   "outputs": [
    {
     "name": "stdout",
     "output_type": "stream",
     "text": [
      "[80000, 8000, 800]\n"
     ]
    }
   ],
   "source": [
    "data = (R_train,)\n",
    "\n",
    "\n",
    "key = random.PRNGKey(0)\n",
    "centering_value = load_PMF_MAP()\n",
    "params_IC = load_PMF_MAP()\n",
    "\n",
    "err_fn = lambda x,y: imq_KSD(x[:], y[:])\n",
    "\n",
    "grad_log_post_fb = build_grad_log_post(loglikelihood, logprior, data)\n",
    "\n",
    "def get_fb_grads(samples):\n",
    "    thin = 10\n",
    "    mygrads = [grad_log_post_fb(sam, *data) for sam in samples[::thin]]\n",
    "    \n",
    "    return samples[::thin], mygrads\n",
    "\n",
    "R = 10\n",
    "batch_size_range = [int(10**(-elem)*R_train.shape[0]) for elem in range(0, 3)]\n",
    "print(batch_size_range)"
   ]
  },
  {
   "cell_type": "markdown",
   "id": "912e1f22",
   "metadata": {},
   "source": [
    "### run MAMBA"
   ]
  },
  {
   "cell_type": "code",
   "execution_count": 3,
   "id": "180a1973",
   "metadata": {
    "collapsed": true
   },
   "outputs": [
    {
     "data": {
      "application/vnd.jupyter.widget-view+json": {
       "model_id": "05cdc95050c74a41aa9777d6193dae6e",
       "version_major": 2,
       "version_minor": 0
      },
      "text/plain": [
       "HBox(children=(HTML(value='Iteration 1/3, 36 arms, time budget = 0.77 sec'), FloatProgress(value=0.0, max=36.0…"
      ]
     },
     "metadata": {},
     "output_type": "display_data"
    },
    {
     "name": "stdout",
     "output_type": "stream",
     "text": [
      "Hyperparams: {'batch_size': 80000, 'dt': 0.01}., sample shape=(10, 52580). metric: inf\n",
      "Hyperparams: {'batch_size': 80000, 'dt': 0.0031622776}., sample shape=(10, 52580). metric: inf\n",
      "Hyperparams: {'batch_size': 80000, 'dt': 0.001}., sample shape=(9, 52580). metric: inf\n",
      "Hyperparams: {'batch_size': 80000, 'dt': 0.00031622776}., sample shape=(9, 52580). metric: 1692\n",
      "Hyperparams: {'batch_size': 80000, 'dt': 1e-04}., sample shape=(10, 52580). metric: 1881\n",
      "Hyperparams: {'batch_size': 80000, 'dt': 3.1622778e-05}., sample shape=(10, 52580). metric: 6315\n",
      "Hyperparams: {'batch_size': 80000, 'dt': 1e-05}., sample shape=(9, 52580). metric: 871\n",
      "Hyperparams: {'batch_size': 80000, 'dt': 3.1622776e-06}., sample shape=(9, 52580). metric: 803\n",
      "Hyperparams: {'batch_size': 80000, 'dt': 1e-06}., sample shape=(9, 52580). metric: 752\n",
      "Hyperparams: {'batch_size': 80000, 'dt': 3.1622776e-07}., sample shape=(9, 52580). metric: 706\n",
      "Hyperparams: {'batch_size': 80000, 'dt': 1e-07}., sample shape=(9, 52580). metric: 890\n",
      "Hyperparams: {'batch_size': 80000, 'dt': 3.1622776e-08}., sample shape=(9, 52580). metric: 810\n",
      "Hyperparams: {'batch_size': 8000, 'dt': 0.01}., sample shape=(39, 52580). metric: inf\n",
      "Hyperparams: {'batch_size': 8000, 'dt': 0.0031622776}., sample shape=(39, 52580). metric: inf\n",
      "Hyperparams: {'batch_size': 8000, 'dt': 0.001}., sample shape=(39, 52580). metric: inf\n",
      "Hyperparams: {'batch_size': 8000, 'dt': 0.00031622776}., sample shape=(40, 52580). metric: 825\n",
      "Hyperparams: {'batch_size': 8000, 'dt': 1e-04}., sample shape=(40, 52580). metric: 1246\n",
      "Hyperparams: {'batch_size': 8000, 'dt': 3.1622778e-05}., sample shape=(40, 52580). metric: 2496\n",
      "Hyperparams: {'batch_size': 8000, 'dt': 1e-05}., sample shape=(40, 52580). metric: 627\n",
      "Hyperparams: {'batch_size': 8000, 'dt': 3.1622776e-06}., sample shape=(41, 52580). metric: 611\n",
      "Hyperparams: {'batch_size': 8000, 'dt': 1e-06}., sample shape=(41, 52580). metric: 634\n",
      "Hyperparams: {'batch_size': 8000, 'dt': 3.1622776e-07}., sample shape=(41, 52580). metric: 726\n",
      "Hyperparams: {'batch_size': 8000, 'dt': 1e-07}., sample shape=(41, 52580). metric: 780\n",
      "Hyperparams: {'batch_size': 8000, 'dt': 3.1622776e-08}., sample shape=(40, 52580). metric: 824\n",
      "Hyperparams: {'batch_size': 800, 'dt': 0.01}., sample shape=(64, 52580). metric: inf\n",
      "Hyperparams: {'batch_size': 800, 'dt': 0.0031622776}., sample shape=(65, 52580). metric: inf\n",
      "Hyperparams: {'batch_size': 800, 'dt': 0.001}., sample shape=(64, 52580). metric: inf\n",
      "Hyperparams: {'batch_size': 800, 'dt': 0.00031622776}., sample shape=(65, 52580). metric: inf\n",
      "Hyperparams: {'batch_size': 800, 'dt': 1e-04}., sample shape=(65, 52580). metric: 1117\n",
      "Hyperparams: {'batch_size': 800, 'dt': 3.1622778e-05}., sample shape=(64, 52580). metric: 1347\n",
      "Hyperparams: {'batch_size': 800, 'dt': 1e-05}., sample shape=(65, 52580). metric: 604\n",
      "Hyperparams: {'batch_size': 800, 'dt': 3.1622776e-06}., sample shape=(64, 52580). metric: 617\n",
      "Hyperparams: {'batch_size': 800, 'dt': 1e-06}., sample shape=(64, 52580). metric: 618\n",
      "Hyperparams: {'batch_size': 800, 'dt': 3.1622776e-07}., sample shape=(65, 52580). metric: 658\n",
      "Hyperparams: {'batch_size': 800, 'dt': 1e-07}., sample shape=(63, 52580). metric: 866\n",
      "Hyperparams: {'batch_size': 800, 'dt': 3.1622776e-08}., sample shape=(54, 52580). metric: 800\n",
      "\n",
      "Number of samples: [65, 41, 64, 64, 40, 41, 65, 9, 41, 9, 41, 54]\n"
     ]
    },
    {
     "data": {
      "application/vnd.jupyter.widget-view+json": {
       "model_id": "fb0e5386fe2349d28549d1fc8c317019",
       "version_major": 2,
       "version_minor": 0
      },
      "text/plain": [
       "HBox(children=(HTML(value='Iteration 2/3, 12 arms, time budget = 2.31 sec'), FloatProgress(value=0.0, max=12.0…"
      ]
     },
     "metadata": {},
     "output_type": "display_data"
    },
    {
     "name": "stdout",
     "output_type": "stream",
     "text": [
      "Hyperparams: {'batch_size': 800, 'dt': 1e-05}., sample shape=(225, 52580). metric: 467\n",
      "Hyperparams: {'batch_size': 8000, 'dt': 3.1622776e-06}., sample shape=(156, 52580). metric: 639\n",
      "Hyperparams: {'batch_size': 800, 'dt': 3.1622776e-06}., sample shape=(246, 52580). metric: 584\n",
      "Hyperparams: {'batch_size': 800, 'dt': 1e-06}., sample shape=(240, 52580). metric: 692\n",
      "Hyperparams: {'batch_size': 8000, 'dt': 1e-05}., sample shape=(158, 52580). metric: 487\n",
      "Hyperparams: {'batch_size': 8000, 'dt': 1e-06}., sample shape=(157, 52580). metric: 707\n",
      "Hyperparams: {'batch_size': 800, 'dt': 3.1622776e-07}., sample shape=(247, 52580). metric: 709\n",
      "Hyperparams: {'batch_size': 80000, 'dt': 3.1622776e-07}., sample shape=(36, 52580). metric: 760\n",
      "Hyperparams: {'batch_size': 8000, 'dt': 3.1622776e-07}., sample shape=(157, 52580). metric: 717\n",
      "Hyperparams: {'batch_size': 80000, 'dt': 1e-06}., sample shape=(36, 52580). metric: 733\n",
      "Hyperparams: {'batch_size': 8000, 'dt': 1e-07}., sample shape=(158, 52580). metric: 776\n",
      "Hyperparams: {'batch_size': 800, 'dt': 3.1622776e-08}., sample shape=(236, 52580). metric: 775\n",
      "\n",
      "Number of samples: [225, 158, 246, 156]\n"
     ]
    },
    {
     "data": {
      "application/vnd.jupyter.widget-view+json": {
       "model_id": "f481cc2bd7bb494ea139e8dc6fcd7240",
       "version_major": 2,
       "version_minor": 0
      },
      "text/plain": [
       "HBox(children=(HTML(value='Iteration 3/3, 4 arms, time budget = 6.92 sec'), FloatProgress(value=0.0, max=4.0),…"
      ]
     },
     "metadata": {},
     "output_type": "display_data"
    },
    {
     "name": "stdout",
     "output_type": "stream",
     "text": [
      "Hyperparams: {'batch_size': 800, 'dt': 1e-05}., sample shape=(763, 52580). metric: 274\n",
      "Hyperparams: {'batch_size': 8000, 'dt': 1e-05}., sample shape=(510, 52580). metric: 312\n",
      "Hyperparams: {'batch_size': 800, 'dt': 3.1622776e-06}., sample shape=(775, 52580). metric: 414\n",
      "Hyperparams: {'batch_size': 8000, 'dt': 3.1622776e-06}., sample shape=(486, 52580). metric: 482\n",
      "\n",
      "Number of samples: [763]\n",
      "Running time: 681.7 sec\n",
      "{'batch_size': 800, 'dt': 1e-05} 274.2214 (763, 52580)\n"
     ]
    }
   ],
   "source": [
    "build_kernel = lambda dt, batch_size: build_sgld_kernel(dt, loglikelihood, logprior, data, batch_size)\n",
    "\n",
    "grid_params = {'log_dt': -jnp.arange(2., 8., 0.5), \n",
    "               'batch_size': batch_size_range\n",
    "              }\n",
    "best_arm = run_MAMBA(key, build_kernel, err_fn, R, params_IC, \n",
    "                     grid_params=grid_params, get_fb_grads=get_fb_grads)\n",
    "\n",
    "print(best_arm.hyperparameters, best_arm.metric, best_arm.samples.shape)\n"
   ]
  },
  {
   "cell_type": "code",
   "execution_count": null,
   "id": "86e028e5",
   "metadata": {},
   "outputs": [],
   "source": []
  },
  {
   "cell_type": "code",
   "execution_count": 4,
   "id": "00531340",
   "metadata": {
    "collapsed": true
   },
   "outputs": [
    {
     "data": {
      "application/vnd.jupyter.widget-view+json": {
       "model_id": "223dcb307c5546d3b15c8b74c1f3f960",
       "version_major": 2,
       "version_minor": 0
      },
      "text/plain": [
       "HBox(children=(HTML(value='Iteration 1/3, 36 arms, time budget = 0.77 sec'), FloatProgress(value=0.0, max=36.0…"
      ]
     },
     "metadata": {},
     "output_type": "display_data"
    },
    {
     "name": "stdout",
     "output_type": "stream",
     "text": [
      "Hyperparams: {'batch_size': 80000, 'dt': 0.01}., sample shape=(5, 52580). metric: inf\n",
      "Hyperparams: {'batch_size': 80000, 'dt': 0.0031622776}., sample shape=(5, 52580). metric: inf\n",
      "Hyperparams: {'batch_size': 80000, 'dt': 0.001}., sample shape=(5, 52580). metric: inf\n",
      "Hyperparams: {'batch_size': 80000, 'dt': 0.00031622776}., sample shape=(5, 52580). metric: 2502\n",
      "Hyperparams: {'batch_size': 80000, 'dt': 1e-04}., sample shape=(5, 52580). metric: 1855\n",
      "Hyperparams: {'batch_size': 80000, 'dt': 3.1622778e-05}., sample shape=(5, 52580). metric: 12469\n",
      "Hyperparams: {'batch_size': 80000, 'dt': 1e-05}., sample shape=(5, 52580). metric: 1051\n",
      "Hyperparams: {'batch_size': 80000, 'dt': 3.1622776e-06}., sample shape=(5, 52580). metric: 929\n",
      "Hyperparams: {'batch_size': 80000, 'dt': 1e-06}., sample shape=(5, 52580). metric: 909\n",
      "Hyperparams: {'batch_size': 80000, 'dt': 3.1622776e-07}., sample shape=(5, 52580). metric: 796\n",
      "Hyperparams: {'batch_size': 80000, 'dt': 1e-07}., sample shape=(5, 52580). metric: 808\n",
      "Hyperparams: {'batch_size': 80000, 'dt': 3.1622776e-08}., sample shape=(5, 52580). metric: 751\n",
      "Hyperparams: {'batch_size': 8000, 'dt': 0.01}., sample shape=(26, 52580). metric: inf\n",
      "Hyperparams: {'batch_size': 8000, 'dt': 0.0031622776}., sample shape=(27, 52580). metric: inf\n",
      "Hyperparams: {'batch_size': 8000, 'dt': 0.001}., sample shape=(27, 52580). metric: inf\n",
      "Hyperparams: {'batch_size': 8000, 'dt': 0.00031622776}., sample shape=(27, 52580). metric: 1134\n",
      "Hyperparams: {'batch_size': 8000, 'dt': 1e-04}., sample shape=(27, 52580). metric: 1494\n",
      "Hyperparams: {'batch_size': 8000, 'dt': 3.1622778e-05}., sample shape=(27, 52580). metric: 4097\n",
      "Hyperparams: {'batch_size': 8000, 'dt': 1e-05}., sample shape=(27, 52580). metric: 685\n",
      "Hyperparams: {'batch_size': 8000, 'dt': 3.1622776e-06}., sample shape=(26, 52580). metric: 636\n",
      "Hyperparams: {'batch_size': 8000, 'dt': 1e-06}., sample shape=(21, 52580). metric: 660\n",
      "Hyperparams: {'batch_size': 8000, 'dt': 3.1622776e-07}., sample shape=(26, 52580). metric: 740\n",
      "Hyperparams: {'batch_size': 8000, 'dt': 1e-07}., sample shape=(27, 52580). metric: 847\n",
      "Hyperparams: {'batch_size': 8000, 'dt': 3.1622776e-08}., sample shape=(26, 52580). metric: 857\n",
      "Hyperparams: {'batch_size': 800, 'dt': 0.01}., sample shape=(45, 52580). metric: inf\n",
      "Hyperparams: {'batch_size': 800, 'dt': 0.0031622776}., sample shape=(40, 52580). metric: inf\n",
      "Hyperparams: {'batch_size': 800, 'dt': 0.001}., sample shape=(46, 52580). metric: inf\n",
      "Hyperparams: {'batch_size': 800, 'dt': 0.00031622776}., sample shape=(46, 52580). metric: 1101\n",
      "Hyperparams: {'batch_size': 800, 'dt': 1e-04}., sample shape=(46, 52580). metric: 1331\n",
      "Hyperparams: {'batch_size': 800, 'dt': 3.1622778e-05}., sample shape=(47, 52580). metric: 2015\n",
      "Hyperparams: {'batch_size': 800, 'dt': 1e-05}., sample shape=(45, 52580). metric: 612\n",
      "Hyperparams: {'batch_size': 800, 'dt': 3.1622776e-06}., sample shape=(46, 52580). metric: 599\n",
      "Hyperparams: {'batch_size': 800, 'dt': 1e-06}., sample shape=(47, 52580). metric: 622\n",
      "Hyperparams: {'batch_size': 800, 'dt': 3.1622776e-07}., sample shape=(46, 52580). metric: 697\n",
      "Hyperparams: {'batch_size': 800, 'dt': 1e-07}., sample shape=(45, 52580). metric: 873\n",
      "Hyperparams: {'batch_size': 800, 'dt': 3.1622776e-08}., sample shape=(46, 52580). metric: 826\n",
      "\n",
      "Number of samples: [46, 45, 47, 26, 21, 27, 46, 26, 5, 5, 5, 46]\n"
     ]
    },
    {
     "data": {
      "application/vnd.jupyter.widget-view+json": {
       "model_id": "b15ab0b8a75b4fe59bb37aadccb6ad8c",
       "version_major": 2,
       "version_minor": 0
      },
      "text/plain": [
       "HBox(children=(HTML(value='Iteration 2/3, 12 arms, time budget = 2.31 sec'), FloatProgress(value=0.0, max=12.0…"
      ]
     },
     "metadata": {},
     "output_type": "display_data"
    },
    {
     "name": "stdout",
     "output_type": "stream",
     "text": [
      "Hyperparams: {'batch_size': 800, 'dt': 3.1622776e-06}., sample shape=(179, 52580). metric: 606\n",
      "Hyperparams: {'batch_size': 800, 'dt': 1e-05}., sample shape=(173, 52580). metric: 479\n",
      "Hyperparams: {'batch_size': 800, 'dt': 1e-06}., sample shape=(181, 52580). metric: 707\n",
      "Hyperparams: {'batch_size': 8000, 'dt': 3.1622776e-06}., sample shape=(103, 52580). metric: 665\n",
      "Hyperparams: {'batch_size': 8000, 'dt': 1e-06}., sample shape=(97, 52580). metric: 693\n",
      "Hyperparams: {'batch_size': 8000, 'dt': 1e-05}., sample shape=(104, 52580). metric: 567\n",
      "Hyperparams: {'batch_size': 800, 'dt': 3.1622776e-07}., sample shape=(178, 52580). metric: 713\n",
      "Hyperparams: {'batch_size': 8000, 'dt': 3.1622776e-07}., sample shape=(103, 52580). metric: 712\n",
      "Hyperparams: {'batch_size': 80000, 'dt': 3.1622776e-08}., sample shape=(19, 52580). metric: 1209\n",
      "Hyperparams: {'batch_size': 80000, 'dt': 3.1622776e-07}., sample shape=(19, 52580). metric: 942\n",
      "Hyperparams: {'batch_size': 80000, 'dt': 1e-07}., sample shape=(19, 52580). metric: 1066\n",
      "Hyperparams: {'batch_size': 800, 'dt': 3.1622776e-08}., sample shape=(177, 52580). metric: 798\n",
      "\n",
      "Number of samples: [173, 104, 179, 103]\n"
     ]
    },
    {
     "data": {
      "application/vnd.jupyter.widget-view+json": {
       "model_id": "2924b5c45cab4d1dbc1a33e61fb724e5",
       "version_major": 2,
       "version_minor": 0
      },
      "text/plain": [
       "HBox(children=(HTML(value='Iteration 3/3, 4 arms, time budget = 6.92 sec'), FloatProgress(value=0.0, max=4.0),…"
      ]
     },
     "metadata": {},
     "output_type": "display_data"
    },
    {
     "name": "stdout",
     "output_type": "stream",
     "text": [
      "Hyperparams: {'batch_size': 800, 'dt': 1e-05}., sample shape=(561, 52580). metric: 301\n",
      "Hyperparams: {'batch_size': 8000, 'dt': 1e-05}., sample shape=(342, 52580). metric: 366\n",
      "Hyperparams: {'batch_size': 800, 'dt': 3.1622776e-06}., sample shape=(593, 52580). metric: 445\n",
      "Hyperparams: {'batch_size': 8000, 'dt': 3.1622776e-06}., sample shape=(343, 52580). metric: 529\n",
      "\n",
      "Number of samples: [561]\n",
      "Running time: 578.6 sec\n",
      "{'batch_size': 800, 'dt': 1e-05} 301.14493 (561, 52580)\n"
     ]
    }
   ],
   "source": [
    "build_kernel = lambda dt, batch_size: build_sgldCV_kernel(dt, loglikelihood, \n",
    "                                                  logprior, data, batch_size, centering_value)\n",
    "grid_params = {'log_dt': -jnp.arange(2., 8., 0.5), \n",
    "               'batch_size': batch_size_range\n",
    "              }\n",
    "best_arm = run_MAMBA(key, build_kernel, imq_KSD, R, params_IC, \n",
    "                     grid_params=grid_params, get_fb_grads=get_fb_grads)\n",
    "\n",
    "print(best_arm.hyperparameters, best_arm.metric, best_arm.samples.shape)\n"
   ]
  },
  {
   "cell_type": "code",
   "execution_count": 5,
   "id": "d2be25a2",
   "metadata": {},
   "outputs": [
    {
     "data": {
      "application/vnd.jupyter.widget-view+json": {
       "model_id": "98c72067d845488facddc0904b28fb0d",
       "version_major": 2,
       "version_minor": 0
      },
      "text/plain": [
       "HBox(children=(HTML(value='Iteration 1/3, 72 arms, time budget = 0.77 sec'), FloatProgress(value=0.0, max=72.0…"
      ]
     },
     "metadata": {},
     "output_type": "display_data"
    },
    {
     "name": "stdout",
     "output_type": "stream",
     "text": [
      "Hyperparams: {'batch_size': 80000, 'L': 5, 'dt': 0.01}., sample shape=(3, 52580). metric: inf\n",
      "Hyperparams: {'batch_size': 80000, 'L': 5, 'dt': 0.0031622776}., sample shape=(3, 52580). metric: inf\n",
      "Hyperparams: {'batch_size': 80000, 'L': 5, 'dt': 0.001}., sample shape=(3, 52580). metric: inf\n",
      "Hyperparams: {'batch_size': 80000, 'L': 5, 'dt': 0.00031622776}., sample shape=(3, 52580). metric: inf\n",
      "Hyperparams: {'batch_size': 80000, 'L': 5, 'dt': 1e-04}., sample shape=(3, 52580). metric: inf\n",
      "Hyperparams: {'batch_size': 80000, 'L': 5, 'dt': 3.1622778e-05}., sample shape=(3, 52580). metric: 19748\n",
      "Hyperparams: {'batch_size': 80000, 'L': 5, 'dt': 1e-05}., sample shape=(3, 52580). metric: 2949\n",
      "Hyperparams: {'batch_size': 80000, 'L': 5, 'dt': 3.1622776e-06}., sample shape=(3, 52580). metric: 39849\n",
      "Hyperparams: {'batch_size': 80000, 'L': 5, 'dt': 1e-06}., sample shape=(3, 52580). metric: 1208\n",
      "Hyperparams: {'batch_size': 80000, 'L': 5, 'dt': 3.1622776e-07}., sample shape=(3, 52580). metric: 933\n",
      "Hyperparams: {'batch_size': 80000, 'L': 5, 'dt': 1e-07}., sample shape=(3, 52580). metric: 1043\n",
      "Hyperparams: {'batch_size': 80000, 'L': 5, 'dt': 3.1622776e-08}., sample shape=(3, 52580). metric: 1066\n",
      "Hyperparams: {'batch_size': 80000, 'L': 10, 'dt': 0.01}., sample shape=(2, 52580). metric: inf\n",
      "Hyperparams: {'batch_size': 80000, 'L': 10, 'dt': 0.0031622776}., sample shape=(2, 52580). metric: inf\n",
      "Hyperparams: {'batch_size': 80000, 'L': 10, 'dt': 0.001}., sample shape=(2, 52580). metric: inf\n",
      "Hyperparams: {'batch_size': 80000, 'L': 10, 'dt': 0.00031622776}., sample shape=(2, 52580). metric: inf\n",
      "Hyperparams: {'batch_size': 80000, 'L': 10, 'dt': 1e-04}., sample shape=(2, 52580). metric: inf\n",
      "Hyperparams: {'batch_size': 80000, 'L': 10, 'dt': 3.1622778e-05}., sample shape=(2, 52580). metric: 264278\n",
      "Hyperparams: {'batch_size': 80000, 'L': 10, 'dt': 1e-05}., sample shape=(2, 52580). metric: 21002\n",
      "Hyperparams: {'batch_size': 80000, 'L': 10, 'dt': 3.1622776e-06}., sample shape=(2, 52580). metric: 19966\n",
      "Hyperparams: {'batch_size': 80000, 'L': 10, 'dt': 1e-06}., sample shape=(2, 52580). metric: 36794\n",
      "Hyperparams: {'batch_size': 80000, 'L': 10, 'dt': 3.1622776e-07}., sample shape=(2, 52580). metric: 1220\n",
      "Hyperparams: {'batch_size': 80000, 'L': 10, 'dt': 1e-07}., sample shape=(2, 52580). metric: 1141\n",
      "Hyperparams: {'batch_size': 80000, 'L': 10, 'dt': 3.1622776e-08}., sample shape=(2, 52580). metric: 841\n",
      "Hyperparams: {'batch_size': 8000, 'L': 5, 'dt': 0.01}., sample shape=(9, 52580). metric: inf\n",
      "Hyperparams: {'batch_size': 8000, 'L': 5, 'dt': 0.0031622776}., sample shape=(9, 52580). metric: inf\n",
      "Hyperparams: {'batch_size': 8000, 'L': 5, 'dt': 0.001}., sample shape=(9, 52580). metric: inf\n",
      "Hyperparams: {'batch_size': 8000, 'L': 5, 'dt': 0.00031622776}., sample shape=(9, 52580). metric: inf\n",
      "Hyperparams: {'batch_size': 8000, 'L': 5, 'dt': 1e-04}., sample shape=(9, 52580). metric: inf\n",
      "Hyperparams: {'batch_size': 8000, 'L': 5, 'dt': 3.1622778e-05}., sample shape=(9, 52580). metric: 5620\n",
      "Hyperparams: {'batch_size': 8000, 'L': 5, 'dt': 1e-05}., sample shape=(9, 52580). metric: 2552\n",
      "Hyperparams: {'batch_size': 8000, 'L': 5, 'dt': 3.1622776e-06}., sample shape=(9, 52580). metric: 14436\n",
      "Hyperparams: {'batch_size': 8000, 'L': 5, 'dt': 1e-06}., sample shape=(9, 52580). metric: 878\n",
      "Hyperparams: {'batch_size': 8000, 'L': 5, 'dt': 3.1622776e-07}., sample shape=(9, 52580). metric: 779\n",
      "Hyperparams: {'batch_size': 8000, 'L': 5, 'dt': 1e-07}., sample shape=(9, 52580). metric: 855\n",
      "Hyperparams: {'batch_size': 8000, 'L': 5, 'dt': 3.1622776e-08}., sample shape=(9, 52580). metric: 892\n",
      "Hyperparams: {'batch_size': 8000, 'L': 10, 'dt': 0.01}., sample shape=(5, 52580). metric: inf\n",
      "Hyperparams: {'batch_size': 8000, 'L': 10, 'dt': 0.0031622776}., sample shape=(5, 52580). metric: inf\n",
      "Hyperparams: {'batch_size': 8000, 'L': 10, 'dt': 0.001}., sample shape=(5, 52580). metric: inf\n",
      "Hyperparams: {'batch_size': 8000, 'L': 10, 'dt': 0.00031622776}., sample shape=(5, 52580). metric: inf\n",
      "Hyperparams: {'batch_size': 8000, 'L': 10, 'dt': 1e-04}., sample shape=(5, 52580). metric: inf\n",
      "Hyperparams: {'batch_size': 8000, 'L': 10, 'dt': 3.1622778e-05}., sample shape=(5, 52580). metric: 90432\n",
      "Hyperparams: {'batch_size': 8000, 'L': 10, 'dt': 1e-05}., sample shape=(5, 52580). metric: 15115\n",
      "Hyperparams: {'batch_size': 8000, 'L': 10, 'dt': 3.1622776e-06}., sample shape=(5, 52580). metric: 12932\n",
      "Hyperparams: {'batch_size': 8000, 'L': 10, 'dt': 1e-06}., sample shape=(5, 52580). metric: 20112\n",
      "Hyperparams: {'batch_size': 8000, 'L': 10, 'dt': 3.1622776e-07}., sample shape=(5, 52580). metric: 942\n",
      "Hyperparams: {'batch_size': 8000, 'L': 10, 'dt': 1e-07}., sample shape=(5, 52580). metric: 786\n",
      "Hyperparams: {'batch_size': 8000, 'L': 10, 'dt': 3.1622776e-08}., sample shape=(5, 52580). metric: 833\n",
      "Hyperparams: {'batch_size': 800, 'L': 5, 'dt': 0.01}., sample shape=(14, 52580). metric: inf\n",
      "Hyperparams: {'batch_size': 800, 'L': 5, 'dt': 0.0031622776}., sample shape=(14, 52580). metric: inf\n",
      "Hyperparams: {'batch_size': 800, 'L': 5, 'dt': 0.001}., sample shape=(14, 52580). metric: inf\n",
      "Hyperparams: {'batch_size': 800, 'L': 5, 'dt': 0.00031622776}., sample shape=(14, 52580). metric: inf\n",
      "Hyperparams: {'batch_size': 800, 'L': 5, 'dt': 1e-04}., sample shape=(14, 52580). metric: inf\n",
      "Hyperparams: {'batch_size': 800, 'L': 5, 'dt': 3.1622778e-05}., sample shape=(14, 52580). metric: 4607\n",
      "Hyperparams: {'batch_size': 800, 'L': 5, 'dt': 1e-05}., sample shape=(14, 52580). metric: 3060\n",
      "Hyperparams: {'batch_size': 800, 'L': 5, 'dt': 3.1622776e-06}., sample shape=(14, 52580). metric: 10700\n",
      "Hyperparams: {'batch_size': 800, 'L': 5, 'dt': 1e-06}., sample shape=(14, 52580). metric: 816\n",
      "Hyperparams: {'batch_size': 800, 'L': 5, 'dt': 3.1622776e-07}., sample shape=(14, 52580). metric: 760\n",
      "Hyperparams: {'batch_size': 800, 'L': 5, 'dt': 1e-07}., sample shape=(14, 52580). metric: 845\n",
      "Hyperparams: {'batch_size': 800, 'L': 5, 'dt': 3.1622776e-08}., sample shape=(14, 52580). metric: 1093\n",
      "Hyperparams: {'batch_size': 800, 'L': 10, 'dt': 0.01}., sample shape=(8, 52580). metric: inf\n",
      "Hyperparams: {'batch_size': 800, 'L': 10, 'dt': 0.0031622776}., sample shape=(8, 52580). metric: inf\n",
      "Hyperparams: {'batch_size': 800, 'L': 10, 'dt': 0.001}., sample shape=(8, 52580). metric: inf\n",
      "Hyperparams: {'batch_size': 800, 'L': 10, 'dt': 0.00031622776}., sample shape=(8, 52580). metric: inf\n",
      "Hyperparams: {'batch_size': 800, 'L': 10, 'dt': 1e-04}., sample shape=(8, 52580). metric: inf\n",
      "Hyperparams: {'batch_size': 800, 'L': 10, 'dt': 3.1622778e-05}., sample shape=(8, 52580). metric: inf\n",
      "Hyperparams: {'batch_size': 800, 'L': 10, 'dt': 1e-05}., sample shape=(8, 52580). metric: 6927\n",
      "Hyperparams: {'batch_size': 800, 'L': 10, 'dt': 3.1622776e-06}., sample shape=(8, 52580). metric: 8669\n",
      "Hyperparams: {'batch_size': 800, 'L': 10, 'dt': 1e-06}., sample shape=(8, 52580). metric: 9933\n",
      "Hyperparams: {'batch_size': 800, 'L': 10, 'dt': 3.1622776e-07}., sample shape=(8, 52580). metric: 875\n",
      "Hyperparams: {'batch_size': 800, 'L': 10, 'dt': 1e-07}., sample shape=(8, 52580). metric: 823\n",
      "Hyperparams: {'batch_size': 800, 'L': 10, 'dt': 3.1622776e-08}., sample shape=(8, 52580). metric: 720\n",
      "\n",
      "Number of samples: [8, 14, 9, 5, 14, 8, 5, 2, 14, 9, 8, 9, 9, 3, 5, 3, 3, 14, 2, 3, 2, 9, 3, 14]\n"
     ]
    },
    {
     "data": {
      "application/vnd.jupyter.widget-view+json": {
       "model_id": "65114c57659a431a9b6014d1979f3fd0",
       "version_major": 2,
       "version_minor": 0
      },
      "text/plain": [
       "HBox(children=(HTML(value='Iteration 2/3, 24 arms, time budget = 2.31 sec'), FloatProgress(value=0.0, max=24.0…"
      ]
     },
     "metadata": {},
     "output_type": "display_data"
    },
    {
     "name": "stdout",
     "output_type": "stream",
     "text": [
      "Hyperparams: {'batch_size': 800, 'L': 10, 'dt': 3.1622776e-08}., sample shape=(31, 52580). metric: 779\n",
      "Hyperparams: {'batch_size': 800, 'L': 5, 'dt': 3.1622776e-07}., sample shape=(55, 52580). metric: 800\n",
      "Hyperparams: {'batch_size': 8000, 'L': 5, 'dt': 3.1622776e-07}., sample shape=(35, 52580). metric: 807\n",
      "Hyperparams: {'batch_size': 8000, 'L': 10, 'dt': 1e-07}., sample shape=(19, 52580). metric: 816\n",
      "Hyperparams: {'batch_size': 800, 'L': 5, 'dt': 1e-06}., sample shape=(53, 52580). metric: 749\n",
      "Hyperparams: {'batch_size': 800, 'L': 10, 'dt': 1e-07}., sample shape=(30, 52580). metric: 799\n",
      "Hyperparams: {'batch_size': 8000, 'L': 10, 'dt': 3.1622776e-08}., sample shape=(19, 52580). metric: 785\n",
      "Hyperparams: {'batch_size': 80000, 'L': 10, 'dt': 3.1622776e-08}., sample shape=(6, 52580). metric: 960\n",
      "Hyperparams: {'batch_size': 800, 'L': 5, 'dt': 1e-07}., sample shape=(53, 52580). metric: 797\n",
      "Hyperparams: {'batch_size': 8000, 'L': 5, 'dt': 1e-07}., sample shape=(34, 52580). metric: 761\n",
      "Hyperparams: {'batch_size': 800, 'L': 10, 'dt': 3.1622776e-07}., sample shape=(30, 52580). metric: 801\n",
      "Hyperparams: {'batch_size': 8000, 'L': 5, 'dt': 1e-06}., sample shape=(34, 52580). metric: 814\n",
      "Hyperparams: {'batch_size': 8000, 'L': 5, 'dt': 3.1622776e-08}., sample shape=(34, 52580). metric: 928\n",
      "Hyperparams: {'batch_size': 80000, 'L': 5, 'dt': 3.1622776e-07}., sample shape=(10, 52580). metric: 900\n",
      "Hyperparams: {'batch_size': 8000, 'L': 10, 'dt': 3.1622776e-07}., sample shape=(19, 52580). metric: 864\n",
      "Hyperparams: {'batch_size': 80000, 'L': 5, 'dt': 1e-07}., sample shape=(10, 52580). metric: 1021\n",
      "Hyperparams: {'batch_size': 80000, 'L': 5, 'dt': 3.1622776e-08}., sample shape=(10, 52580). metric: 979\n",
      "Hyperparams: {'batch_size': 800, 'L': 5, 'dt': 3.1622776e-08}., sample shape=(53, 52580). metric: 775\n",
      "Hyperparams: {'batch_size': 80000, 'L': 10, 'dt': 1e-07}., sample shape=(6, 52580). metric: 962\n",
      "Hyperparams: {'batch_size': 80000, 'L': 5, 'dt': 1e-06}., sample shape=(10, 52580). metric: 1045\n",
      "Hyperparams: {'batch_size': 80000, 'L': 10, 'dt': 3.1622776e-07}., sample shape=(6, 52580). metric: 1184\n",
      "Hyperparams: {'batch_size': 8000, 'L': 5, 'dt': 1e-05}., sample shape=(34, 52580). metric: 3352\n",
      "Hyperparams: {'batch_size': 80000, 'L': 5, 'dt': 1e-05}., sample shape=(10, 52580). metric: 3216\n",
      "Hyperparams: {'batch_size': 800, 'L': 5, 'dt': 1e-05}., sample shape=(54, 52580). metric: 2290\n",
      "\n",
      "Number of samples: [53, 34, 53, 31, 19, 53, 30, 55]\n"
     ]
    },
    {
     "data": {
      "application/vnd.jupyter.widget-view+json": {
       "model_id": "2483cc93a47a4b49bd2db37868ba3d91",
       "version_major": 2,
       "version_minor": 0
      },
      "text/plain": [
       "HBox(children=(HTML(value='Iteration 3/3, 8 arms, time budget = 6.92 sec'), FloatProgress(value=0.0, max=8.0),…"
      ]
     },
     "metadata": {},
     "output_type": "display_data"
    },
    {
     "name": "stdout",
     "output_type": "stream",
     "text": [
      "Hyperparams: {'batch_size': 800, 'L': 5, 'dt': 1e-06}., sample shape=(169, 52580). metric: 529\n",
      "Hyperparams: {'batch_size': 8000, 'L': 5, 'dt': 1e-07}., sample shape=(108, 52580). metric: 788\n",
      "Hyperparams: {'batch_size': 800, 'L': 5, 'dt': 3.1622776e-08}., sample shape=(168, 52580). metric: 795\n",
      "Hyperparams: {'batch_size': 800, 'L': 10, 'dt': 3.1622776e-08}., sample shape=(95, 52580). metric: 782\n",
      "Hyperparams: {'batch_size': 8000, 'L': 10, 'dt': 3.1622776e-08}., sample shape=(59, 52580). metric: 762\n",
      "Hyperparams: {'batch_size': 800, 'L': 5, 'dt': 1e-07}., sample shape=(167, 52580). metric: 797\n",
      "Hyperparams: {'batch_size': 800, 'L': 10, 'dt': 1e-07}., sample shape=(94, 52580). metric: 712\n",
      "Hyperparams: {'batch_size': 800, 'L': 5, 'dt': 3.1622776e-07}., sample shape=(169, 52580). metric: 690\n",
      "\n",
      "Number of samples: [169, 169]\n",
      "Running time: 831.0 sec\n",
      "{'batch_size': 800, 'L': 5, 'dt': 1e-06} 529.09717 (169, 52580)\n"
     ]
    }
   ],
   "source": [
    "build_kernel = lambda dt, L, batch_size: build_sghmc_kernel(dt, L, loglikelihood, \n",
    "                                                  logprior, data, batch_size)\n",
    "\n",
    "grid_params = {'log_dt': -jnp.arange(2., 8., 0.5), \n",
    "               'batch_size': batch_size_range,\n",
    "               \"L\": [5, 10]\n",
    "              }\n",
    "best_arm = run_MAMBA(key, build_kernel, imq_KSD, R, params_IC, \n",
    "                     grid_params=grid_params, get_fb_grads=get_fb_grads)\n",
    "\n",
    "print(best_arm.hyperparameters, best_arm.metric, best_arm.samples.shape)\n"
   ]
  },
  {
   "cell_type": "code",
   "execution_count": 4,
   "id": "d25daf64",
   "metadata": {
    "collapsed": true
   },
   "outputs": [
    {
     "data": {
      "application/vnd.jupyter.widget-view+json": {
       "model_id": "cfc313c42524411dbdd7f217984a69df",
       "version_major": 2,
       "version_minor": 0
      },
      "text/plain": [
       "HBox(children=(HTML(value='Iteration 1/3, 72 arms, time budget = 0.77 sec'), FloatProgress(value=0.0, max=72.0…"
      ]
     },
     "metadata": {},
     "output_type": "display_data"
    },
    {
     "name": "stdout",
     "output_type": "stream",
     "text": [
      "Hyperparams: {'batch_size': 80000, 'L': 5, 'dt': 0.01}., sample shape=(2, 52580). metric: inf\n",
      "Hyperparams: {'batch_size': 80000, 'L': 5, 'dt': 0.0031622776}., sample shape=(2, 52580). metric: inf\n",
      "Hyperparams: {'batch_size': 80000, 'L': 5, 'dt': 0.001}., sample shape=(2, 52580). metric: inf\n",
      "Hyperparams: {'batch_size': 80000, 'L': 5, 'dt': 0.00031622776}., sample shape=(2, 52580). metric: inf\n",
      "Hyperparams: {'batch_size': 80000, 'L': 5, 'dt': 1e-04}., sample shape=(2, 52580). metric: 33468765437952\n",
      "Hyperparams: {'batch_size': 80000, 'L': 5, 'dt': 3.1622778e-05}., sample shape=(2, 52580). metric: 29561\n",
      "Hyperparams: {'batch_size': 80000, 'L': 5, 'dt': 1e-05}., sample shape=(2, 52580). metric: 3949\n",
      "Hyperparams: {'batch_size': 80000, 'L': 5, 'dt': 3.1622776e-06}., sample shape=(2, 52580). metric: 59709\n",
      "Hyperparams: {'batch_size': 80000, 'L': 5, 'dt': 1e-06}., sample shape=(2, 52580). metric: 1277\n",
      "Hyperparams: {'batch_size': 80000, 'L': 5, 'dt': 3.1622776e-07}., sample shape=(2, 52580). metric: 1170\n",
      "Hyperparams: {'batch_size': 80000, 'L': 5, 'dt': 1e-07}., sample shape=(2, 52580). metric: 1054\n",
      "Hyperparams: {'batch_size': 80000, 'L': 5, 'dt': 3.1622776e-08}., sample shape=(2, 52580). metric: 860\n",
      "Hyperparams: {'batch_size': 80000, 'L': 10, 'dt': 0.01}., sample shape=(1, 52580). metric: inf\n",
      "Hyperparams: {'batch_size': 80000, 'L': 10, 'dt': 0.0031622776}., sample shape=(1, 52580). metric: inf\n",
      "Hyperparams: {'batch_size': 80000, 'L': 10, 'dt': 0.001}., sample shape=(1, 52580). metric: 187903360\n",
      "Hyperparams: {'batch_size': 80000, 'L': 10, 'dt': 0.00031622776}., sample shape=(1, 52580). metric: 37323\n",
      "Hyperparams: {'batch_size': 80000, 'L': 10, 'dt': 1e-04}., sample shape=(1, 52580). metric: 379022\n",
      "Hyperparams: {'batch_size': 80000, 'L': 10, 'dt': 3.1622778e-05}., sample shape=(1, 52580). metric: 526400\n",
      "Hyperparams: {'batch_size': 80000, 'L': 10, 'dt': 1e-05}., sample shape=(1, 52580). metric: 41661\n",
      "Hyperparams: {'batch_size': 80000, 'L': 10, 'dt': 3.1622776e-06}., sample shape=(1, 52580). metric: 4955\n",
      "Hyperparams: {'batch_size': 80000, 'L': 10, 'dt': 1e-06}., sample shape=(1, 52580). metric: 1328\n",
      "Hyperparams: {'batch_size': 80000, 'L': 10, 'dt': 3.1622776e-07}., sample shape=(1, 52580). metric: 1420\n",
      "Hyperparams: {'batch_size': 80000, 'L': 10, 'dt': 1e-07}., sample shape=(1, 52580). metric: 1478\n",
      "Hyperparams: {'batch_size': 80000, 'L': 10, 'dt': 3.1622776e-08}., sample shape=(1, 52580). metric: 832\n",
      "Hyperparams: {'batch_size': 8000, 'L': 5, 'dt': 0.01}., sample shape=(7, 52580). metric: inf\n",
      "Hyperparams: {'batch_size': 8000, 'L': 5, 'dt': 0.0031622776}., sample shape=(6, 52580). metric: inf\n",
      "Hyperparams: {'batch_size': 8000, 'L': 5, 'dt': 0.001}., sample shape=(7, 52580). metric: inf\n",
      "Hyperparams: {'batch_size': 8000, 'L': 5, 'dt': 0.00031622776}., sample shape=(7, 52580). metric: inf\n",
      "Hyperparams: {'batch_size': 8000, 'L': 5, 'dt': 1e-04}., sample shape=(7, 52580). metric: inf\n",
      "Hyperparams: {'batch_size': 8000, 'L': 5, 'dt': 3.1622778e-05}., sample shape=(7, 52580). metric: 6214\n",
      "Hyperparams: {'batch_size': 8000, 'L': 5, 'dt': 1e-05}., sample shape=(7, 52580). metric: 2274\n",
      "Hyperparams: {'batch_size': 8000, 'L': 5, 'dt': 3.1622776e-06}., sample shape=(7, 52580). metric: 18485\n",
      "Hyperparams: {'batch_size': 8000, 'L': 5, 'dt': 1e-06}., sample shape=(7, 52580). metric: 926\n",
      "Hyperparams: {'batch_size': 8000, 'L': 5, 'dt': 3.1622776e-07}., sample shape=(7, 52580). metric: 807\n",
      "Hyperparams: {'batch_size': 8000, 'L': 5, 'dt': 1e-07}., sample shape=(7, 52580). metric: 896\n",
      "Hyperparams: {'batch_size': 8000, 'L': 5, 'dt': 3.1622776e-08}., sample shape=(7, 52580). metric: 952\n",
      "Hyperparams: {'batch_size': 8000, 'L': 10, 'dt': 0.01}., sample shape=(4, 52580). metric: inf\n",
      "Hyperparams: {'batch_size': 8000, 'L': 10, 'dt': 0.0031622776}., sample shape=(4, 52580). metric: inf\n",
      "Hyperparams: {'batch_size': 8000, 'L': 10, 'dt': 0.001}., sample shape=(4, 52580). metric: inf\n",
      "Hyperparams: {'batch_size': 8000, 'L': 10, 'dt': 0.00031622776}., sample shape=(4, 52580). metric: inf\n",
      "Hyperparams: {'batch_size': 8000, 'L': 10, 'dt': 1e-04}., sample shape=(4, 52580). metric: inf\n",
      "Hyperparams: {'batch_size': 8000, 'L': 10, 'dt': 3.1622778e-05}., sample shape=(4, 52580). metric: 113861\n",
      "Hyperparams: {'batch_size': 8000, 'L': 10, 'dt': 1e-05}., sample shape=(4, 52580). metric: 19062\n",
      "Hyperparams: {'batch_size': 8000, 'L': 10, 'dt': 3.1622776e-06}., sample shape=(4, 52580). metric: 14233\n",
      "Hyperparams: {'batch_size': 8000, 'L': 10, 'dt': 1e-06}., sample shape=(4, 52580). metric: 25124\n",
      "Hyperparams: {'batch_size': 8000, 'L': 10, 'dt': 3.1622776e-07}., sample shape=(4, 52580). metric: 1012\n",
      "Hyperparams: {'batch_size': 8000, 'L': 10, 'dt': 1e-07}., sample shape=(4, 52580). metric: 823\n",
      "Hyperparams: {'batch_size': 8000, 'L': 10, 'dt': 3.1622776e-08}., sample shape=(4, 52580). metric: 907\n",
      "Hyperparams: {'batch_size': 800, 'L': 5, 'dt': 0.01}., sample shape=(12, 52580). metric: inf\n",
      "Hyperparams: {'batch_size': 800, 'L': 5, 'dt': 0.0031622776}., sample shape=(12, 52580). metric: inf\n",
      "Hyperparams: {'batch_size': 800, 'L': 5, 'dt': 0.001}., sample shape=(12, 52580). metric: inf\n",
      "Hyperparams: {'batch_size': 800, 'L': 5, 'dt': 0.00031622776}., sample shape=(12, 52580). metric: inf\n",
      "Hyperparams: {'batch_size': 800, 'L': 5, 'dt': 1e-04}., sample shape=(12, 52580). metric: inf\n",
      "Hyperparams: {'batch_size': 800, 'L': 5, 'dt': 3.1622778e-05}., sample shape=(12, 52580). metric: 6159\n",
      "Hyperparams: {'batch_size': 800, 'L': 5, 'dt': 1e-05}., sample shape=(12, 52580). metric: 2968\n",
      "Hyperparams: {'batch_size': 800, 'L': 5, 'dt': 3.1622776e-06}., sample shape=(12, 52580). metric: 12398\n",
      "Hyperparams: {'batch_size': 800, 'L': 5, 'dt': 1e-06}., sample shape=(12, 52580). metric: 804\n",
      "Hyperparams: {'batch_size': 800, 'L': 5, 'dt': 3.1622776e-07}., sample shape=(12, 52580). metric: 773\n",
      "Hyperparams: {'batch_size': 800, 'L': 5, 'dt': 1e-07}., sample shape=(12, 52580). metric: 868\n",
      "Hyperparams: {'batch_size': 800, 'L': 5, 'dt': 3.1622776e-08}., sample shape=(12, 52580). metric: 1108\n",
      "Hyperparams: {'batch_size': 800, 'L': 10, 'dt': 0.01}., sample shape=(7, 52580). metric: inf\n",
      "Hyperparams: {'batch_size': 800, 'L': 10, 'dt': 0.0031622776}., sample shape=(7, 52580). metric: inf\n",
      "Hyperparams: {'batch_size': 800, 'L': 10, 'dt': 0.001}., sample shape=(7, 52580). metric: inf\n",
      "Hyperparams: {'batch_size': 800, 'L': 10, 'dt': 0.00031622776}., sample shape=(7, 52580). metric: inf\n",
      "Hyperparams: {'batch_size': 800, 'L': 10, 'dt': 1e-04}., sample shape=(7, 52580). metric: inf\n",
      "Hyperparams: {'batch_size': 800, 'L': 10, 'dt': 3.1622778e-05}., sample shape=(7, 52580). metric: inf\n",
      "Hyperparams: {'batch_size': 800, 'L': 10, 'dt': 1e-05}., sample shape=(7, 52580). metric: 8287\n",
      "Hyperparams: {'batch_size': 800, 'L': 10, 'dt': 3.1622776e-06}., sample shape=(7, 52580). metric: 9058\n",
      "Hyperparams: {'batch_size': 800, 'L': 10, 'dt': 1e-06}., sample shape=(7, 52580). metric: 11244\n",
      "Hyperparams: {'batch_size': 800, 'L': 10, 'dt': 3.1622776e-07}., sample shape=(7, 52580). metric: 867\n",
      "Hyperparams: {'batch_size': 800, 'L': 10, 'dt': 1e-07}., sample shape=(7, 52580). metric: 808\n",
      "Hyperparams: {'batch_size': 800, 'L': 10, 'dt': 3.1622776e-08}., sample shape=(7, 52580). metric: 721\n",
      "\n",
      "Number of samples: [7, 12, 12, 7, 7, 4, 1, 2, 7, 12, 7, 4, 7, 7, 4, 2, 12, 2, 2, 1, 1, 1, 7, 12]\n"
     ]
    },
    {
     "data": {
      "application/vnd.jupyter.widget-view+json": {
       "model_id": "67ef16169a654cc9ac367428185710e9",
       "version_major": 2,
       "version_minor": 0
      },
      "text/plain": [
       "HBox(children=(HTML(value='Iteration 2/3, 24 arms, time budget = 2.31 sec'), FloatProgress(value=0.0, max=24.0…"
      ]
     },
     "metadata": {},
     "output_type": "display_data"
    },
    {
     "name": "stdout",
     "output_type": "stream",
     "text": [
      "Hyperparams: {'batch_size': 800, 'L': 10, 'dt': 3.1622776e-08}., sample shape=(27, 52580). metric: 766\n",
      "Hyperparams: {'batch_size': 800, 'L': 5, 'dt': 3.1622776e-07}., sample shape=(41, 52580). metric: 840\n",
      "Hyperparams: {'batch_size': 800, 'L': 5, 'dt': 1e-06}., sample shape=(36, 52580). metric: 849\n",
      "Hyperparams: {'batch_size': 8000, 'L': 5, 'dt': 3.1622776e-07}., sample shape=(25, 52580). metric: 829\n",
      "Hyperparams: {'batch_size': 800, 'L': 10, 'dt': 1e-07}., sample shape=(27, 52580). metric: 789\n",
      "Hyperparams: {'batch_size': 8000, 'L': 10, 'dt': 1e-07}., sample shape=(14, 52580). metric: 874\n",
      "Hyperparams: {'batch_size': 80000, 'L': 10, 'dt': 3.1622776e-08}., sample shape=(3, 52580). metric: 1179\n",
      "Hyperparams: {'batch_size': 80000, 'L': 5, 'dt': 3.1622776e-08}., sample shape=(6, 52580). metric: 1349\n",
      "Hyperparams: {'batch_size': 800, 'L': 10, 'dt': 3.1622776e-07}., sample shape=(25, 52580). metric: 817\n",
      "Hyperparams: {'batch_size': 800, 'L': 5, 'dt': 1e-07}., sample shape=(38, 52580). metric: 803\n",
      "Hyperparams: {'batch_size': 8000, 'L': 5, 'dt': 1e-07}., sample shape=(20, 52580). metric: 875\n",
      "Hyperparams: {'batch_size': 8000, 'L': 10, 'dt': 3.1622776e-08}., sample shape=(13, 52580). metric: 873\n",
      "Hyperparams: {'batch_size': 8000, 'L': 5, 'dt': 1e-06}., sample shape=(24, 52580). metric: 899\n",
      "Hyperparams: {'batch_size': 8000, 'L': 5, 'dt': 3.1622776e-08}., sample shape=(25, 52580). metric: 850\n",
      "Hyperparams: {'batch_size': 8000, 'L': 10, 'dt': 3.1622776e-07}., sample shape=(14, 52580). metric: 944\n",
      "Hyperparams: {'batch_size': 80000, 'L': 5, 'dt': 1e-07}., sample shape=(5, 52580). metric: 1315\n",
      "Hyperparams: {'batch_size': 800, 'L': 5, 'dt': 3.1622776e-08}., sample shape=(45, 52580). metric: 877\n",
      "Hyperparams: {'batch_size': 80000, 'L': 5, 'dt': 3.1622776e-07}., sample shape=(5, 52580). metric: 1155\n",
      "Hyperparams: {'batch_size': 80000, 'L': 5, 'dt': 1e-06}., sample shape=(5, 52580). metric: 1277\n",
      "Hyperparams: {'batch_size': 80000, 'L': 10, 'dt': 1e-06}., sample shape=(3, 52580). metric: 42838\n",
      "Hyperparams: {'batch_size': 80000, 'L': 10, 'dt': 3.1622776e-07}., sample shape=(3, 52580). metric: 1428\n",
      "Hyperparams: {'batch_size': 80000, 'L': 10, 'dt': 1e-07}., sample shape=(3, 52580). metric: 1307\n",
      "Hyperparams: {'batch_size': 8000, 'L': 5, 'dt': 1e-05}., sample shape=(24, 52580). metric: 4090\n",
      "Hyperparams: {'batch_size': 800, 'L': 5, 'dt': 1e-05}., sample shape=(42, 52580). metric: 3035\n",
      "\n",
      "Number of samples: [27, 27, 38, 25, 25, 41, 36, 25]\n"
     ]
    },
    {
     "data": {
      "application/vnd.jupyter.widget-view+json": {
       "model_id": "7d950c8e39234bc9aa4cc8518048c365",
       "version_major": 2,
       "version_minor": 0
      },
      "text/plain": [
       "HBox(children=(HTML(value='Iteration 3/3, 8 arms, time budget = 6.92 sec'), FloatProgress(value=0.0, max=8.0),…"
      ]
     },
     "metadata": {},
     "output_type": "display_data"
    },
    {
     "name": "stdout",
     "output_type": "stream",
     "text": [
      "Hyperparams: {'batch_size': 800, 'L': 10, 'dt': 3.1622776e-08}., sample shape=(77, 52580). metric: 786\n",
      "Hyperparams: {'batch_size': 800, 'L': 10, 'dt': 1e-07}., sample shape=(80, 52580). metric: 737\n",
      "Hyperparams: {'batch_size': 800, 'L': 5, 'dt': 1e-07}., sample shape=(127, 52580). metric: 781\n",
      "Hyperparams: {'batch_size': 800, 'L': 10, 'dt': 3.1622776e-07}., sample shape=(79, 52580). metric: 602\n",
      "Hyperparams: {'batch_size': 8000, 'L': 5, 'dt': 3.1622776e-07}., sample shape=(78, 52580). metric: 769\n",
      "Hyperparams: {'batch_size': 800, 'L': 5, 'dt': 3.1622776e-07}., sample shape=(132, 52580). metric: 725\n",
      "Hyperparams: {'batch_size': 800, 'L': 5, 'dt': 1e-06}., sample shape=(134, 52580). metric: 550\n",
      "Hyperparams: {'batch_size': 8000, 'L': 5, 'dt': 3.1622776e-08}., sample shape=(75, 52580). metric: 833\n",
      "\n",
      "Number of samples: [134, 79]\n",
      "Running time: 959.1 sec\n",
      "{'batch_size': 800, 'L': 5, 'dt': 1e-06} 549.52606 (134, 52580)\n"
     ]
    }
   ],
   "source": [
    "build_kernel = lambda dt, L, batch_size: build_sghmcCV_kernel(dt, L, loglikelihood, \n",
    "                                                  logprior, data, batch_size, centering_value)\n",
    "\n",
    "\n",
    "grid_params = {'log_dt': -jnp.arange(2., 8., 0.5), \n",
    "               'batch_size': batch_size_range,\n",
    "               \"L\": [5, 10]\n",
    "              }\n",
    "best_arm = run_MAMBA(key, build_kernel, imq_KSD, R, params_IC, \n",
    "                     grid_params=grid_params, get_fb_grads=get_fb_grads)\n",
    "\n",
    "print(best_arm.hyperparameters, best_arm.metric, best_arm.samples.shape)\n"
   ]
  },
  {
   "cell_type": "code",
   "execution_count": 6,
   "id": "4817772c",
   "metadata": {},
   "outputs": [
    {
     "data": {
      "application/vnd.jupyter.widget-view+json": {
       "model_id": "da363b89fe71427db1a43df3dd8fa44d",
       "version_major": 2,
       "version_minor": 0
      },
      "text/plain": [
       "HBox(children=(HTML(value='Iteration 1/3, 36 arms, time budget = 0.77 sec'), FloatProgress(value=0.0, max=36.0…"
      ]
     },
     "metadata": {},
     "output_type": "display_data"
    },
    {
     "name": "stdout",
     "output_type": "stream",
     "text": [
      "Hyperparams: {'batch_size': 80000, 'dt': 0.01}., sample shape=(9, 52580). metric: inf\n",
      "Hyperparams: {'batch_size': 80000, 'dt': 0.0031622776}., sample shape=(9, 52580). metric: inf\n",
      "Hyperparams: {'batch_size': 80000, 'dt': 0.001}., sample shape=(9, 52580). metric: inf\n",
      "Hyperparams: {'batch_size': 80000, 'dt': 0.00031622776}., sample shape=(9, 52580). metric: inf\n",
      "Hyperparams: {'batch_size': 80000, 'dt': 1e-04}., sample shape=(9, 52580). metric: inf\n",
      "Hyperparams: {'batch_size': 80000, 'dt': 3.1622778e-05}., sample shape=(9, 52580). metric: 4291\n",
      "Hyperparams: {'batch_size': 80000, 'dt': 1e-05}., sample shape=(9, 52580). metric: 756\n",
      "Hyperparams: {'batch_size': 80000, 'dt': 3.1622776e-06}., sample shape=(9, 52580). metric: 891\n",
      "Hyperparams: {'batch_size': 80000, 'dt': 1e-06}., sample shape=(9, 52580). metric: 806\n",
      "Hyperparams: {'batch_size': 80000, 'dt': 3.1622776e-07}., sample shape=(9, 52580). metric: 740\n",
      "Hyperparams: {'batch_size': 80000, 'dt': 1e-07}., sample shape=(9, 52580). metric: 733\n",
      "Hyperparams: {'batch_size': 80000, 'dt': 3.1622776e-08}., sample shape=(9, 52580). metric: 808\n",
      "Hyperparams: {'batch_size': 8000, 'dt': 0.01}., sample shape=(38, 52580). metric: inf\n",
      "Hyperparams: {'batch_size': 8000, 'dt': 0.0031622776}., sample shape=(38, 52580). metric: inf\n",
      "Hyperparams: {'batch_size': 8000, 'dt': 0.001}., sample shape=(37, 52580). metric: inf\n",
      "Hyperparams: {'batch_size': 8000, 'dt': 0.00031622776}., sample shape=(37, 52580). metric: inf\n",
      "Hyperparams: {'batch_size': 8000, 'dt': 1e-04}., sample shape=(37, 52580). metric: inf\n",
      "Hyperparams: {'batch_size': 8000, 'dt': 3.1622778e-05}., sample shape=(37, 52580). metric: 750\n",
      "Hyperparams: {'batch_size': 8000, 'dt': 1e-05}., sample shape=(37, 52580). metric: 621\n",
      "Hyperparams: {'batch_size': 8000, 'dt': 3.1622776e-06}., sample shape=(37, 52580). metric: 605\n",
      "Hyperparams: {'batch_size': 8000, 'dt': 1e-06}., sample shape=(37, 52580). metric: 635\n",
      "Hyperparams: {'batch_size': 8000, 'dt': 3.1622776e-07}., sample shape=(37, 52580). metric: 741\n",
      "Hyperparams: {'batch_size': 8000, 'dt': 1e-07}., sample shape=(37, 52580). metric: 792\n",
      "Hyperparams: {'batch_size': 8000, 'dt': 3.1622776e-08}., sample shape=(37, 52580). metric: 761\n",
      "Hyperparams: {'batch_size': 800, 'dt': 0.01}., sample shape=(56, 52580). metric: inf\n",
      "Hyperparams: {'batch_size': 800, 'dt': 0.0031622776}., sample shape=(56, 52580). metric: inf\n",
      "Hyperparams: {'batch_size': 800, 'dt': 0.001}., sample shape=(56, 52580). metric: inf\n",
      "Hyperparams: {'batch_size': 800, 'dt': 0.00031622776}., sample shape=(56, 52580). metric: inf\n",
      "Hyperparams: {'batch_size': 800, 'dt': 1e-04}., sample shape=(56, 52580). metric: inf\n",
      "Hyperparams: {'batch_size': 800, 'dt': 3.1622778e-05}., sample shape=(48, 52580). metric: inf\n",
      "Hyperparams: {'batch_size': 800, 'dt': 1e-05}., sample shape=(56, 52580). metric: 899\n",
      "Hyperparams: {'batch_size': 800, 'dt': 3.1622776e-06}., sample shape=(55, 52580). metric: 838\n",
      "Hyperparams: {'batch_size': 800, 'dt': 1e-06}., sample shape=(55, 52580). metric: 849\n",
      "Hyperparams: {'batch_size': 800, 'dt': 3.1622776e-07}., sample shape=(55, 52580). metric: 826\n",
      "Hyperparams: {'batch_size': 800, 'dt': 1e-07}., sample shape=(57, 52580). metric: 809\n",
      "Hyperparams: {'batch_size': 800, 'dt': 3.1622776e-08}., sample shape=(57, 52580). metric: 783\n",
      "\n",
      "Number of samples: [37, 37, 37, 9, 9, 37, 37, 9, 37, 57, 37, 9]\n"
     ]
    },
    {
     "data": {
      "application/vnd.jupyter.widget-view+json": {
       "model_id": "17414b1cf9af40dfb17092e0bea86f75",
       "version_major": 2,
       "version_minor": 0
      },
      "text/plain": [
       "HBox(children=(HTML(value='Iteration 2/3, 12 arms, time budget = 2.31 sec'), FloatProgress(value=0.0, max=12.0…"
      ]
     },
     "metadata": {},
     "output_type": "display_data"
    },
    {
     "name": "stdout",
     "output_type": "stream",
     "text": [
      "Hyperparams: {'batch_size': 8000, 'dt': 3.1622776e-06}., sample shape=(149, 52580). metric: 321\n",
      "Hyperparams: {'batch_size': 8000, 'dt': 1e-05}., sample shape=(147, 52580). metric: 247\n",
      "Hyperparams: {'batch_size': 8000, 'dt': 1e-06}., sample shape=(147, 52580). metric: 386\n",
      "Hyperparams: {'batch_size': 80000, 'dt': 1e-07}., sample shape=(36, 52580). metric: 884\n",
      "Hyperparams: {'batch_size': 80000, 'dt': 3.1622776e-07}., sample shape=(36, 52580). metric: 829\n",
      "Hyperparams: {'batch_size': 8000, 'dt': 3.1622776e-07}., sample shape=(145, 52580). metric: 511\n",
      "Hyperparams: {'batch_size': 8000, 'dt': 3.1622778e-05}., sample shape=(144, 52580). metric: 234\n",
      "Hyperparams: {'batch_size': 80000, 'dt': 1e-05}., sample shape=(36, 52580). metric: 479\n",
      "Hyperparams: {'batch_size': 8000, 'dt': 3.1622776e-08}., sample shape=(145, 52580). metric: 796\n",
      "Hyperparams: {'batch_size': 800, 'dt': 3.1622776e-08}., sample shape=(220, 52580). metric: 757\n",
      "Hyperparams: {'batch_size': 8000, 'dt': 1e-07}., sample shape=(146, 52580). metric: 675\n",
      "Hyperparams: {'batch_size': 80000, 'dt': 1e-06}., sample shape=(36, 52580). metric: 698\n",
      "\n",
      "Number of samples: [144, 147, 149, 147]\n"
     ]
    },
    {
     "data": {
      "application/vnd.jupyter.widget-view+json": {
       "model_id": "4f06e672dbdd40ea8e7604345c98e7cc",
       "version_major": 2,
       "version_minor": 0
      },
      "text/plain": [
       "HBox(children=(HTML(value='Iteration 3/3, 4 arms, time budget = 6.92 sec'), FloatProgress(value=0.0, max=4.0),…"
      ]
     },
     "metadata": {},
     "output_type": "display_data"
    },
    {
     "name": "stdout",
     "output_type": "stream",
     "text": [
      "Hyperparams: {'batch_size': 8000, 'dt': 3.1622778e-05}., sample shape=(470, 52580). metric: 127\n",
      "Hyperparams: {'batch_size': 8000, 'dt': 1e-05}., sample shape=(469, 52580). metric: 126\n",
      "Hyperparams: {'batch_size': 8000, 'dt': 3.1622776e-06}., sample shape=(483, 52580). metric: 154\n",
      "Hyperparams: {'batch_size': 8000, 'dt': 1e-06}., sample shape=(475, 52580). metric: 210\n",
      "\n",
      "Number of samples: [469]\n",
      "Running time: 942.5 sec\n",
      "{'batch_size': 8000, 'dt': 1e-05} 126.28391 (469, 52580)\n"
     ]
    }
   ],
   "source": [
    "build_kernel = lambda dt, batch_size: build_sgnht_kernel(dt, loglikelihood, logprior, data, batch_size)\n",
    "\n",
    "\n",
    "grid_params = {'log_dt': -jnp.arange(2., 8., 0.5), \n",
    "               'batch_size': batch_size_range\n",
    "              }\n",
    "best_arm = run_MAMBA(key, build_kernel, imq_KSD, R, params_IC, \n",
    "                     grid_params=grid_params, get_fb_grads=get_fb_grads)\n",
    "\n",
    "print(best_arm.hyperparameters, best_arm.metric, best_arm.samples.shape)\n"
   ]
  },
  {
   "cell_type": "code",
   "execution_count": 7,
   "id": "fdd0e3a2",
   "metadata": {},
   "outputs": [
    {
     "data": {
      "application/vnd.jupyter.widget-view+json": {
       "model_id": "23e0c6f423214af2bca5f6c513c97e7a",
       "version_major": 2,
       "version_minor": 0
      },
      "text/plain": [
       "HBox(children=(HTML(value='Iteration 1/3, 36 arms, time budget = 0.77 sec'), FloatProgress(value=0.0, max=36.0…"
      ]
     },
     "metadata": {},
     "output_type": "display_data"
    },
    {
     "name": "stdout",
     "output_type": "stream",
     "text": [
      "Hyperparams: {'batch_size': 80000, 'dt': 0.01}., sample shape=(5, 52580). metric: inf\n",
      "Hyperparams: {'batch_size': 80000, 'dt': 0.0031622776}., sample shape=(5, 52580). metric: inf\n",
      "Hyperparams: {'batch_size': 80000, 'dt': 0.001}., sample shape=(5, 52580). metric: inf\n",
      "Hyperparams: {'batch_size': 80000, 'dt': 0.00031622776}., sample shape=(5, 52580). metric: inf\n",
      "Hyperparams: {'batch_size': 80000, 'dt': 1e-04}., sample shape=(5, 52580). metric: inf\n",
      "Hyperparams: {'batch_size': 80000, 'dt': 3.1622778e-05}., sample shape=(5, 52580). metric: 7530\n",
      "Hyperparams: {'batch_size': 80000, 'dt': 1e-05}., sample shape=(5, 52580). metric: 973\n",
      "Hyperparams: {'batch_size': 80000, 'dt': 3.1622776e-06}., sample shape=(5, 52580). metric: 1041\n",
      "Hyperparams: {'batch_size': 80000, 'dt': 1e-06}., sample shape=(5, 52580). metric: 766\n",
      "Hyperparams: {'batch_size': 80000, 'dt': 3.1622776e-07}., sample shape=(5, 52580). metric: 691\n",
      "Hyperparams: {'batch_size': 80000, 'dt': 1e-07}., sample shape=(5, 52580). metric: 776\n",
      "Hyperparams: {'batch_size': 80000, 'dt': 3.1622776e-08}., sample shape=(5, 52580). metric: 1022\n",
      "Hyperparams: {'batch_size': 8000, 'dt': 0.01}., sample shape=(26, 52580). metric: inf\n",
      "Hyperparams: {'batch_size': 8000, 'dt': 0.0031622776}., sample shape=(26, 52580). metric: inf\n",
      "Hyperparams: {'batch_size': 8000, 'dt': 0.001}., sample shape=(26, 52580). metric: inf\n",
      "Hyperparams: {'batch_size': 8000, 'dt': 0.00031622776}., sample shape=(26, 52580). metric: inf\n",
      "Hyperparams: {'batch_size': 8000, 'dt': 1e-04}., sample shape=(26, 52580). metric: inf\n",
      "Hyperparams: {'batch_size': 8000, 'dt': 3.1622778e-05}., sample shape=(25, 52580). metric: 979\n",
      "Hyperparams: {'batch_size': 8000, 'dt': 1e-05}., sample shape=(26, 52580). metric: 582\n",
      "Hyperparams: {'batch_size': 8000, 'dt': 3.1622776e-06}., sample shape=(25, 52580). metric: 596\n",
      "Hyperparams: {'batch_size': 8000, 'dt': 1e-06}., sample shape=(26, 52580). metric: 669\n",
      "Hyperparams: {'batch_size': 8000, 'dt': 3.1622776e-07}., sample shape=(25, 52580). metric: 786\n",
      "Hyperparams: {'batch_size': 8000, 'dt': 1e-07}., sample shape=(25, 52580). metric: 795\n",
      "Hyperparams: {'batch_size': 8000, 'dt': 3.1622776e-08}., sample shape=(25, 52580). metric: 748\n",
      "Hyperparams: {'batch_size': 800, 'dt': 0.01}., sample shape=(43, 52580). metric: inf\n",
      "Hyperparams: {'batch_size': 800, 'dt': 0.0031622776}., sample shape=(42, 52580). metric: inf\n",
      "Hyperparams: {'batch_size': 800, 'dt': 0.001}., sample shape=(42, 52580). metric: inf\n",
      "Hyperparams: {'batch_size': 800, 'dt': 0.00031622776}., sample shape=(42, 52580). metric: inf\n",
      "Hyperparams: {'batch_size': 800, 'dt': 1e-04}., sample shape=(40, 52580). metric: inf\n",
      "Hyperparams: {'batch_size': 800, 'dt': 3.1622778e-05}., sample shape=(41, 52580). metric: inf\n",
      "Hyperparams: {'batch_size': 800, 'dt': 1e-05}., sample shape=(40, 52580). metric: inf\n",
      "Hyperparams: {'batch_size': 800, 'dt': 3.1622776e-06}., sample shape=(40, 52580). metric: 753\n",
      "Hyperparams: {'batch_size': 800, 'dt': 1e-06}., sample shape=(39, 52580). metric: 652\n",
      "Hyperparams: {'batch_size': 800, 'dt': 3.1622776e-07}., sample shape=(40, 52580). metric: 724\n",
      "Hyperparams: {'batch_size': 800, 'dt': 1e-07}., sample shape=(40, 52580). metric: 766\n",
      "Hyperparams: {'batch_size': 800, 'dt': 3.1622776e-08}., sample shape=(40, 52580). metric: 749\n",
      "\n",
      "Number of samples: [26, 25, 39, 26, 5, 40, 25, 40, 40, 5, 40, 5]\n"
     ]
    },
    {
     "data": {
      "application/vnd.jupyter.widget-view+json": {
       "model_id": "4c324c5df9534525a111c939a988dc4e",
       "version_major": 2,
       "version_minor": 0
      },
      "text/plain": [
       "HBox(children=(HTML(value='Iteration 2/3, 12 arms, time budget = 2.31 sec'), FloatProgress(value=0.0, max=12.0…"
      ]
     },
     "metadata": {},
     "output_type": "display_data"
    },
    {
     "name": "stdout",
     "output_type": "stream",
     "text": [
      "Hyperparams: {'batch_size': 8000, 'dt': 1e-05}., sample shape=(98, 52580). metric: 344\n",
      "Hyperparams: {'batch_size': 8000, 'dt': 3.1622776e-06}., sample shape=(96, 52580). metric: 372\n",
      "Hyperparams: {'batch_size': 800, 'dt': 1e-06}., sample shape=(154, 52580). metric: 443\n",
      "Hyperparams: {'batch_size': 8000, 'dt': 1e-06}., sample shape=(90, 52580). metric: 476\n",
      "Hyperparams: {'batch_size': 80000, 'dt': 3.1622776e-07}., sample shape=(19, 52580). metric: 887\n",
      "Hyperparams: {'batch_size': 800, 'dt': 3.1622776e-07}., sample shape=(163, 52580). metric: 500\n",
      "Hyperparams: {'batch_size': 8000, 'dt': 3.1622776e-08}., sample shape=(98, 52580). metric: 853\n",
      "Hyperparams: {'batch_size': 800, 'dt': 3.1622776e-08}., sample shape=(162, 52580). metric: 782\n",
      "Hyperparams: {'batch_size': 800, 'dt': 3.1622776e-06}., sample shape=(161, 52580). metric: 397\n",
      "Hyperparams: {'batch_size': 80000, 'dt': 1e-06}., sample shape=(19, 52580). metric: 880\n",
      "Hyperparams: {'batch_size': 800, 'dt': 1e-07}., sample shape=(163, 52580). metric: 645\n",
      "Hyperparams: {'batch_size': 80000, 'dt': 1e-07}., sample shape=(19, 52580). metric: 853\n",
      "\n",
      "Number of samples: [98, 96, 161, 154]\n"
     ]
    },
    {
     "data": {
      "application/vnd.jupyter.widget-view+json": {
       "model_id": "b8d71e38956e4011b53bd9fc7c7e71e5",
       "version_major": 2,
       "version_minor": 0
      },
      "text/plain": [
       "HBox(children=(HTML(value='Iteration 3/3, 4 arms, time budget = 6.92 sec'), FloatProgress(value=0.0, max=4.0),…"
      ]
     },
     "metadata": {},
     "output_type": "display_data"
    },
    {
     "name": "stdout",
     "output_type": "stream",
     "text": [
      "Hyperparams: {'batch_size': 8000, 'dt': 1e-05}., sample shape=(319, 52580). metric: 158\n",
      "Hyperparams: {'batch_size': 8000, 'dt': 3.1622776e-06}., sample shape=(315, 52580). metric: 197\n",
      "Hyperparams: {'batch_size': 800, 'dt': 3.1622776e-06}., sample shape=(531, 52580). metric: 234\n",
      "Hyperparams: {'batch_size': 800, 'dt': 1e-06}., sample shape=(524, 52580). metric: 226\n",
      "\n",
      "Number of samples: [319]\n",
      "Running time: 1074.8 sec\n",
      "{'batch_size': 8000, 'dt': 1e-05} 158.40613 (319, 52580)\n"
     ]
    }
   ],
   "source": [
    "build_kernel = lambda dt, batch_size: build_sgnhtCV_kernel(dt, loglikelihood, \n",
    "                                                  logprior, data, batch_size, centering_value)\n",
    "\n",
    "grid_params = {'log_dt': -jnp.arange(2., 8., 0.5), \n",
    "               'batch_size': batch_size_range\n",
    "              }\n",
    "best_arm = run_MAMBA(key, build_kernel, imq_KSD, R, params_IC, \n",
    "                     grid_params=grid_params, get_fb_grads=get_fb_grads)\n",
    "\n",
    "print(best_arm.hyperparameters, best_arm.metric, best_arm.samples.shape)\n"
   ]
  },
  {
   "cell_type": "code",
   "execution_count": null,
   "id": "234914e6",
   "metadata": {},
   "outputs": [],
   "source": []
  }
 ],
 "metadata": {
  "kernelspec": {
   "display_name": "Python 3",
   "language": "python",
   "name": "python3"
  },
  "language_info": {
   "codemirror_mode": {
    "name": "ipython",
    "version": 3
   },
   "file_extension": ".py",
   "mimetype": "text/x-python",
   "name": "python",
   "nbconvert_exporter": "python",
   "pygments_lexer": "ipython3",
   "version": "3.8.2"
  }
 },
 "nbformat": 4,
 "nbformat_minor": 5
}
