{
 "cells": [
  {
   "cell_type": "code",
   "execution_count": 1,
   "id": "906fd9ec",
   "metadata": {},
   "outputs": [
    {
     "name": "stderr",
     "output_type": "stream",
     "text": [
      "WARNING:absl:No GPU/TPU found, falling back to CPU. (Set TF_CPP_MIN_LOG_LEVEL=0 and rerun for more info.)\n"
     ]
    }
   ],
   "source": [
    "%matplotlib inline\n",
    "import matplotlib.pyplot as plt\n",
    "import numpy as np\n",
    "\n",
    "import jax.numpy as jnp\n",
    "from jax import jit, random\n",
    "\n",
    "from sgmcmcjax.kernels import build_sgld_kernel, build_sghmc_kernel, build_sgnht_kernel\n",
    "from sgmcmcjax.kernels import build_sgldCV_kernel, build_sghmcCV_kernel, build_sgnhtCV_kernel\n",
    "from sgmcmcjax.optimizer import build_adam_optimizer\n",
    "\n",
    "import context\n",
    "\n",
    "from models.bayesian_NN.NN_model import logprior, loglikelihood, init_network\n",
    "from models.bayesian_NN.NN_data import X_train, y_train, X_test, y_test\n",
    "from models.bayesian_NN.util import load_NN_MAP\n",
    "\n",
    "from tuning.mamba import run_MAMBA\n",
    "from tuning.ksd import imq_KSD\n"
   ]
  },
  {
   "cell_type": "markdown",
   "id": "a01ea2b4",
   "metadata": {},
   "source": [
    "# NN - MAMBA"
   ]
  },
  {
   "cell_type": "code",
   "execution_count": 4,
   "id": "1aff4d07",
   "metadata": {},
   "outputs": [],
   "source": [
    "data = (X_train, y_train)\n",
    "\n",
    "key = random.PRNGKey(0)\n",
    "params_IC = load_NN_MAP()\n",
    "centering_value = load_NN_MAP()\n",
    "\n",
    "err_fn = lambda x,y: imq_KSD(x[:2], y[:2])\n",
    "\n",
    "# T = 15\n",
    "# T = 20\n",
    "\n",
    "R = 5"
   ]
  },
  {
   "cell_type": "markdown",
   "id": "912e1f22",
   "metadata": {},
   "source": [
    "### run MAMBA"
   ]
  },
  {
   "cell_type": "code",
   "execution_count": 5,
   "id": "180a1973",
   "metadata": {},
   "outputs": [
    {
     "data": {
      "application/vnd.jupyter.widget-view+json": {
       "model_id": "aad8ba10464e462185ed20bbd3347cfa",
       "version_major": 2,
       "version_minor": 0
      },
      "text/plain": [
       "HBox(children=(HTML(value='Iteration 1/3, 48 arms, time budget = 0.38 sec'), FloatProgress(value=0.0, max=48.0…"
      ]
     },
     "metadata": {},
     "output_type": "display_data"
    },
    {
     "name": "stdout",
     "output_type": "stream",
     "text": [
      "Hyperparams: {'batch_size': 60000, 'dt': 0.01}. new KSD: 48154\n",
      "Hyperparams: {'batch_size': 60000, 'dt': 0.0031622776}. new KSD: 64488\n",
      "Hyperparams: {'batch_size': 60000, 'dt': 0.001}. new KSD: 57871\n",
      "Hyperparams: {'batch_size': 60000, 'dt': 0.00031622776}. new KSD: 42231\n",
      "Hyperparams: {'batch_size': 60000, 'dt': 1e-04}. new KSD: 21109\n",
      "Hyperparams: {'batch_size': 60000, 'dt': 3.1622778e-05}. new KSD: 1608\n",
      "Hyperparams: {'batch_size': 60000, 'dt': 1e-05}. new KSD: 963\n",
      "Hyperparams: {'batch_size': 60000, 'dt': 3.1622776e-06}. new KSD: 1101\n",
      "Hyperparams: {'batch_size': 60000, 'dt': 1e-06}. new KSD: 1314\n",
      "Hyperparams: {'batch_size': 60000, 'dt': 3.1622776e-07}. new KSD: 1357\n",
      "Hyperparams: {'batch_size': 60000, 'dt': 1e-07}. new KSD: 1435\n",
      "Hyperparams: {'batch_size': 60000, 'dt': 3.1622776e-08}. new KSD: 1414\n",
      "Hyperparams: {'batch_size': 6000, 'dt': 0.01}. new KSD: 43599\n",
      "Hyperparams: {'batch_size': 6000, 'dt': 0.0031622776}. new KSD: 32554\n",
      "Hyperparams: {'batch_size': 6000, 'dt': 0.001}. new KSD: 43764\n",
      "Hyperparams: {'batch_size': 6000, 'dt': 0.00031622776}. new KSD: 37861\n",
      "Hyperparams: {'batch_size': 6000, 'dt': 1e-04}. new KSD: 55845\n",
      "Hyperparams: {'batch_size': 6000, 'dt': 3.1622778e-05}. new KSD: 3017\n",
      "Hyperparams: {'batch_size': 6000, 'dt': 1e-05}. new KSD: 2210\n",
      "Hyperparams: {'batch_size': 6000, 'dt': 3.1622776e-06}. new KSD: 2217\n",
      "Hyperparams: {'batch_size': 6000, 'dt': 1e-06}. new KSD: 2472\n",
      "Hyperparams: {'batch_size': 6000, 'dt': 3.1622776e-07}. new KSD: 2156\n",
      "Hyperparams: {'batch_size': 6000, 'dt': 1e-07}. new KSD: 1861\n",
      "Hyperparams: {'batch_size': 6000, 'dt': 3.1622776e-08}. new KSD: 2094\n",
      "Hyperparams: {'batch_size': 600, 'dt': 0.01}. new KSD: 54756\n",
      "Hyperparams: {'batch_size': 600, 'dt': 0.0031622776}. new KSD: 48239\n",
      "Hyperparams: {'batch_size': 600, 'dt': 0.001}. new KSD: 52732\n",
      "Hyperparams: {'batch_size': 600, 'dt': 0.00031622776}. new KSD: 47830\n",
      "Hyperparams: {'batch_size': 600, 'dt': 1e-04}. new KSD: 32536\n",
      "Hyperparams: {'batch_size': 600, 'dt': 3.1622778e-05}. new KSD: 11000\n",
      "Hyperparams: {'batch_size': 600, 'dt': 1e-05}. new KSD: 6524\n",
      "Hyperparams: {'batch_size': 600, 'dt': 3.1622776e-06}. new KSD: 5157\n",
      "Hyperparams: {'batch_size': 600, 'dt': 1e-06}. new KSD: 5546\n",
      "Hyperparams: {'batch_size': 600, 'dt': 3.1622776e-07}. new KSD: 6408\n",
      "Hyperparams: {'batch_size': 600, 'dt': 1e-07}. new KSD: 5124\n",
      "Hyperparams: {'batch_size': 600, 'dt': 3.1622776e-08}. new KSD: 5389\n",
      "Hyperparams: {'batch_size': 60, 'dt': 0.01}. new KSD: 57437\n",
      "Hyperparams: {'batch_size': 60, 'dt': 0.0031622776}. new KSD: 67949\n",
      "Hyperparams: {'batch_size': 60, 'dt': 0.001}. new KSD: 37466\n",
      "Hyperparams: {'batch_size': 60, 'dt': 0.00031622776}. new KSD: 52001\n",
      "Hyperparams: {'batch_size': 60, 'dt': 1e-04}. new KSD: 53385\n",
      "Hyperparams: {'batch_size': 60, 'dt': 3.1622778e-05}. new KSD: 20116\n",
      "Hyperparams: {'batch_size': 60, 'dt': 1e-05}. new KSD: 26614\n",
      "Hyperparams: {'batch_size': 60, 'dt': 3.1622776e-06}. new KSD: 16973\n",
      "Hyperparams: {'batch_size': 60, 'dt': 1e-06}. new KSD: 13024\n",
      "Hyperparams: {'batch_size': 60, 'dt': 3.1622776e-07}. new KSD: 17716\n",
      "Hyperparams: {'batch_size': 60, 'dt': 1e-07}. new KSD: 16559\n",
      "Hyperparams: {'batch_size': 60, 'dt': 3.1622776e-08}. new KSD: 16895\n",
      "\n",
      "Number of samples: [5, 5, 5, 5, 5, 5, 5, 27, 27, 27, 27, 27, 27, 27, 177, 165]\n"
     ]
    },
    {
     "data": {
      "application/vnd.jupyter.widget-view+json": {
       "model_id": "52d010381d364f248e119283f85576cc",
       "version_major": 2,
       "version_minor": 0
      },
      "text/plain": [
       "HBox(children=(HTML(value='Iteration 2/3, 16 arms, time budget = 1.15 sec'), FloatProgress(value=0.0, max=16.0…"
      ]
     },
     "metadata": {},
     "output_type": "display_data"
    },
    {
     "name": "stdout",
     "output_type": "stream",
     "text": [
      "Hyperparams: {'batch_size': 60000, 'dt': 1e-05}. new KSD: 910\n",
      "Hyperparams: {'batch_size': 60000, 'dt': 3.1622776e-06}. new KSD: 929\n",
      "Hyperparams: {'batch_size': 60000, 'dt': 1e-06}. new KSD: 964\n",
      "Hyperparams: {'batch_size': 60000, 'dt': 3.1622776e-07}. new KSD: 1252\n",
      "Hyperparams: {'batch_size': 60000, 'dt': 3.1622776e-08}. new KSD: 1375\n",
      "Hyperparams: {'batch_size': 60000, 'dt': 1e-07}. new KSD: 1376\n",
      "Hyperparams: {'batch_size': 60000, 'dt': 3.1622778e-05}. new KSD: 18578\n",
      "Hyperparams: {'batch_size': 6000, 'dt': 1e-07}. new KSD: 1957\n",
      "Hyperparams: {'batch_size': 6000, 'dt': 3.1622776e-08}. new KSD: 2061\n",
      "Hyperparams: {'batch_size': 6000, 'dt': 3.1622776e-07}. new KSD: 1725\n",
      "Hyperparams: {'batch_size': 6000, 'dt': 1e-05}. new KSD: 2014\n",
      "Hyperparams: {'batch_size': 6000, 'dt': 3.1622776e-06}. new KSD: 2198\n",
      "Hyperparams: {'batch_size': 6000, 'dt': 1e-06}. new KSD: 1671\n",
      "Hyperparams: {'batch_size': 6000, 'dt': 3.1622778e-05}. new KSD: 3151\n",
      "Hyperparams: {'batch_size': 600, 'dt': 1e-07}. new KSD: 4800\n",
      "Hyperparams: {'batch_size': 600, 'dt': 3.1622776e-06}. new KSD: 6194\n",
      "\n",
      "Number of samples: [18, 18, 18, 17, 17]\n"
     ]
    },
    {
     "data": {
      "application/vnd.jupyter.widget-view+json": {
       "model_id": "6e842f4941d14d3aa4a8a3c298c57f4b",
       "version_major": 2,
       "version_minor": 0
      },
      "text/plain": [
       "HBox(children=(HTML(value='Iteration 3/3, 5 arms, time budget = 3.69 sec'), FloatProgress(value=0.0, max=5.0),…"
      ]
     },
     "metadata": {},
     "output_type": "display_data"
    },
    {
     "name": "stdout",
     "output_type": "stream",
     "text": [
      "Hyperparams: {'batch_size': 60000, 'dt': 1e-05}. new KSD: 872\n",
      "Hyperparams: {'batch_size': 60000, 'dt': 3.1622776e-06}. new KSD: 754\n",
      "Hyperparams: {'batch_size': 60000, 'dt': 1e-06}. new KSD: 868\n",
      "Hyperparams: {'batch_size': 60000, 'dt': 3.1622776e-07}. new KSD: 964\n",
      "Hyperparams: {'batch_size': 60000, 'dt': 3.1622776e-08}. new KSD: 1474\n",
      "\n",
      "Number of samples: [50]\n",
      "Running time: 343.6 sec\n",
      "{'batch_size': 60000, 'dt': 3.1622776e-06} 753.5069 (50, 79510)\n"
     ]
    }
   ],
   "source": [
    "build_kernel = lambda dt, batch_size: build_sgld_kernel(dt, loglikelihood, logprior, data, batch_size)\n",
    "\n",
    "grid_params = {'log_dt': -jnp.arange(2., 8., 0.5), \n",
    "               'batch_size': [int(10**(-elem)*X_train.shape[0]) for elem in range(0,4)]\n",
    "              }\n",
    "best_arm = run_MAMBA(key, build_kernel, err_fn, R, params_IC, grid_params=grid_params, eta=3)\n",
    "\n",
    "print(best_arm.hyperparameters, best_arm.metric, best_arm.samples.shape)"
   ]
  },
  {
   "cell_type": "code",
   "execution_count": null,
   "id": "2ffac502",
   "metadata": {},
   "outputs": [],
   "source": []
  },
  {
   "cell_type": "code",
   "execution_count": null,
   "id": "7a23ef6d",
   "metadata": {},
   "outputs": [],
   "source": []
  },
  {
   "cell_type": "code",
   "execution_count": null,
   "id": "4d35ba08",
   "metadata": {},
   "outputs": [],
   "source": []
  },
  {
   "cell_type": "code",
   "execution_count": null,
   "id": "f627c2a1",
   "metadata": {},
   "outputs": [],
   "source": []
  },
  {
   "cell_type": "code",
   "execution_count": 4,
   "id": "00531340",
   "metadata": {},
   "outputs": [
    {
     "data": {
      "application/vnd.jupyter.widget-view+json": {
       "model_id": "83f8d88ddf03488ca38ffaeeff0189b9",
       "version_major": 2,
       "version_minor": 0
      },
      "text/plain": [
       "HBox(children=(HTML(value='Iteration 1/3, 48 arms, time budget = 0.38 sec'), FloatProgress(value=0.0, max=48.0…"
      ]
     },
     "metadata": {},
     "output_type": "display_data"
    },
    {
     "name": "stdout",
     "output_type": "stream",
     "text": [
      "\n",
      "Number of samples: [17, 118, 3, 3, 17, 17, 299, 119, 297, 3, 118, 119, 296, 3, 114, 297]\n"
     ]
    },
    {
     "data": {
      "application/vnd.jupyter.widget-view+json": {
       "model_id": "f95188889b62418a9467b364ad888892",
       "version_major": 2,
       "version_minor": 0
      },
      "text/plain": [
       "HBox(children=(HTML(value='Iteration 2/3, 16 arms, time budget = 1.15 sec'), FloatProgress(value=0.0, max=16.0…"
      ]
     },
     "metadata": {},
     "output_type": "display_data"
    },
    {
     "name": "stdout",
     "output_type": "stream",
     "text": [
      "\n",
      "Number of samples: [60, 9, 9, 60, 57]\n"
     ]
    },
    {
     "data": {
      "application/vnd.jupyter.widget-view+json": {
       "model_id": "2abf39d087974c97acbc5db78c70b36c",
       "version_major": 2,
       "version_minor": 0
      },
      "text/plain": [
       "HBox(children=(HTML(value='Iteration 3/3, 5 arms, time budget = 3.69 sec'), FloatProgress(value=0.0, max=5.0),…"
      ]
     },
     "metadata": {},
     "output_type": "display_data"
    },
    {
     "name": "stdout",
     "output_type": "stream",
     "text": [
      "\n",
      "Number of samples: [25]\n",
      "Running time: 507.1 sec\n",
      "{'batch_size': 60000, 'dt': 1e-05} 667.156 (25, 79510)\n"
     ]
    }
   ],
   "source": [
    "build_kernel = lambda dt, batch_size: build_sgldCV_kernel(dt, loglikelihood, \n",
    "                                                  logprior, data, batch_size, centering_value)\n",
    "\n",
    "best_arm = run_MAMBA(key, build_kernel, err_fn, R, params_IC, grid_params=grid_params, eta=3)\n",
    "\n",
    "print(best_arm.hyperparameters, best_arm.metric, best_arm.samples.shape)"
   ]
  },
  {
   "cell_type": "code",
   "execution_count": 5,
   "id": "d2be25a2",
   "metadata": {},
   "outputs": [
    {
     "data": {
      "application/vnd.jupyter.widget-view+json": {
       "model_id": "9ef29213060443ec895a1bcc512c54ea",
       "version_major": 2,
       "version_minor": 0
      },
      "text/plain": [
       "HBox(children=(HTML(value='Iteration 1/4, 96 arms, time budget = 0.12 sec'), FloatProgress(value=0.0, max=96.0…"
      ]
     },
     "metadata": {},
     "output_type": "display_data"
    },
    {
     "name": "stdout",
     "output_type": "stream",
     "text": [
      "\n",
      "Number of samples: [2, 2, 2, 2, 2, 2, 2, 2, 2, 2, 3, 3, 2, 2, 3, 3, 2, 3, 2, 2, 8, 13, 13, 12, 8, 13, 8, 14, 7, 2, 7, 15]\n"
     ]
    },
    {
     "data": {
      "application/vnd.jupyter.widget-view+json": {
       "model_id": "9cf02397c827472d991a39bb6f54c7c9",
       "version_major": 2,
       "version_minor": 0
      },
      "text/plain": [
       "HBox(children=(HTML(value='Iteration 2/4, 32 arms, time budget = 0.38 sec'), FloatProgress(value=0.0, max=32.0…"
      ]
     },
     "metadata": {},
     "output_type": "display_data"
    },
    {
     "name": "stdout",
     "output_type": "stream",
     "text": [
      "\n",
      "Number of samples: [4, 4, 4, 4, 4, 6, 4, 9, 4, 4]\n"
     ]
    },
    {
     "data": {
      "application/vnd.jupyter.widget-view+json": {
       "model_id": "ac8571e3ad934f6f8563599edcce7df2",
       "version_major": 2,
       "version_minor": 0
      },
      "text/plain": [
       "HBox(children=(HTML(value='Iteration 3/4, 10 arms, time budget = 1.20 sec'), FloatProgress(value=0.0, max=10.0…"
      ]
     },
     "metadata": {},
     "output_type": "display_data"
    },
    {
     "name": "stdout",
     "output_type": "stream",
     "text": [
      "\n",
      "Number of samples: [7, 8, 7]\n"
     ]
    },
    {
     "data": {
      "application/vnd.jupyter.widget-view+json": {
       "model_id": "ddd0990d0fa849bdb4adeb60d37670b4",
       "version_major": 2,
       "version_minor": 0
      },
      "text/plain": [
       "HBox(children=(HTML(value='Iteration 4/4, 3 arms, time budget = 4.00 sec'), FloatProgress(value=0.0, max=3.0),…"
      ]
     },
     "metadata": {},
     "output_type": "display_data"
    },
    {
     "name": "stdout",
     "output_type": "stream",
     "text": [
      "\n",
      "Number of samples: [16]\n",
      "Running time: 845.6 sec\n",
      "{'batch_size': 60000, 'L': 5, 'dt': 1e-06} 594.93726 (16, 79510)\n"
     ]
    }
   ],
   "source": [
    "build_kernel = lambda dt, L, batch_size: build_sghmc_kernel(dt, L, loglikelihood, \n",
    "                                                  logprior, data, batch_size)\n",
    "\n",
    "grid_params = {'log_dt': -jnp.arange(2., 8., 0.5), \n",
    "               'batch_size': [int(10**(-elem)*X_train.shape[0]) for elem in range(0,4)],\n",
    "               \"L\": [5, 10]\n",
    "              }\n",
    "best_arm = run_MAMBA(key, build_kernel, err_fn, R, params_IC, grid_params=grid_params, eta=3)\n",
    "\n",
    "print(best_arm.hyperparameters, best_arm.metric, best_arm.samples.shape)"
   ]
  },
  {
   "cell_type": "code",
   "execution_count": null,
   "id": "10cdbb39",
   "metadata": {},
   "outputs": [],
   "source": []
  },
  {
   "cell_type": "code",
   "execution_count": null,
   "id": "711e68df",
   "metadata": {},
   "outputs": [],
   "source": []
  },
  {
   "cell_type": "code",
   "execution_count": null,
   "id": "4f490b97",
   "metadata": {},
   "outputs": [],
   "source": []
  },
  {
   "cell_type": "code",
   "execution_count": 6,
   "id": "d25daf64",
   "metadata": {},
   "outputs": [
    {
     "data": {
      "application/vnd.jupyter.widget-view+json": {
       "model_id": "dda512a16ebf4d3286f0649e0ffc5432",
       "version_major": 2,
       "version_minor": 0
      },
      "text/plain": [
       "HBox(children=(HTML(value='Iteration 1/4, 96 arms, time budget = 0.12 sec'), FloatProgress(value=0.0, max=96.0…"
      ]
     },
     "metadata": {},
     "output_type": "display_data"
    },
    {
     "name": "stdout",
     "output_type": "stream",
     "text": [
      "\n",
      "Number of samples: [5, 9, 22, 3, 3, 2, 2, 9, 22, 2, 2, 13, 5, 9, 2, 22, 9, 13, 5, 2, 3, 2, 2, 2, 22, 3, 2, 9, 2, 2, 2, 2]\n"
     ]
    },
    {
     "data": {
      "application/vnd.jupyter.widget-view+json": {
       "model_id": "32a45e7d16084a5f9d8ed54f2ea4470b",
       "version_major": 2,
       "version_minor": 0
      },
      "text/plain": [
       "HBox(children=(HTML(value='Iteration 2/4, 32 arms, time budget = 0.38 sec'), FloatProgress(value=0.0, max=32.0…"
      ]
     },
     "metadata": {},
     "output_type": "display_data"
    },
    {
     "name": "stdout",
     "output_type": "stream",
     "text": [
      "\n",
      "Number of samples: [27, 24, 7, 16, 15, 5, 27, 7, 15, 4]\n"
     ]
    },
    {
     "data": {
      "application/vnd.jupyter.widget-view+json": {
       "model_id": "121dd8c1b84446cbab4d681782eade60",
       "version_major": 2,
       "version_minor": 0
      },
      "text/plain": [
       "HBox(children=(HTML(value='Iteration 3/4, 10 arms, time budget = 1.20 sec'), FloatProgress(value=0.0, max=10.0…"
      ]
     },
     "metadata": {},
     "output_type": "display_data"
    },
    {
     "name": "stdout",
     "output_type": "stream",
     "text": [
      "\n",
      "Number of samples: [84, 95, 53]\n"
     ]
    },
    {
     "data": {
      "application/vnd.jupyter.widget-view+json": {
       "model_id": "999442ed6f2a4288b0e3dad15a8f064a",
       "version_major": 2,
       "version_minor": 0
      },
      "text/plain": [
       "HBox(children=(HTML(value='Iteration 4/4, 3 arms, time budget = 4.00 sec'), FloatProgress(value=0.0, max=3.0),…"
      ]
     },
     "metadata": {},
     "output_type": "display_data"
    },
    {
     "name": "stdout",
     "output_type": "stream",
     "text": [
      "\n",
      "Number of samples: [265]\n",
      "Running time: 1143.4 sec\n",
      "{'batch_size': 600, 'L': 5, 'dt': 1e-06} 339.09305 (265, 79510)\n"
     ]
    }
   ],
   "source": [
    "build_kernel = lambda dt, L, batch_size: build_sghmcCV_kernel(dt, L, loglikelihood, \n",
    "                                                  logprior, data, batch_size, centering_value)\n",
    "\n",
    "grid_params = {'log_dt': -jnp.arange(2., 8., 0.5), \n",
    "               'batch_size': [int(10**(-elem)*X_train.shape[0]) for elem in range(0,4)],\n",
    "               \"L\": [5, 10]\n",
    "              }\n",
    "best_arm = run_MAMBA(key, build_kernel, err_fn, R, params_IC, grid_params=grid_params, eta=3)\n",
    "\n",
    "print(best_arm.hyperparameters, best_arm.metric, best_arm.samples.shape)"
   ]
  },
  {
   "cell_type": "code",
   "execution_count": 7,
   "id": "4817772c",
   "metadata": {},
   "outputs": [
    {
     "data": {
      "application/vnd.jupyter.widget-view+json": {
       "model_id": "7c567237cb11444c89f858ccd5d1394f",
       "version_major": 2,
       "version_minor": 0
      },
      "text/plain": [
       "HBox(children=(HTML(value='Iteration 1/3, 48 arms, time budget = 0.38 sec'), FloatProgress(value=0.0, max=48.0…"
      ]
     },
     "metadata": {},
     "output_type": "display_data"
    },
    {
     "name": "stdout",
     "output_type": "stream",
     "text": [
      "\n",
      "Number of samples: [27, 5, 154, 26, 5, 26, 26, 5, 154, 156, 5, 155, 26, 154, 5, 155]\n"
     ]
    },
    {
     "data": {
      "application/vnd.jupyter.widget-view+json": {
       "model_id": "daf244f5a8fa446c81dfbdaa502ab970",
       "version_major": 2,
       "version_minor": 0
      },
      "text/plain": [
       "HBox(children=(HTML(value='Iteration 2/3, 16 arms, time budget = 1.15 sec'), FloatProgress(value=0.0, max=16.0…"
      ]
     },
     "metadata": {},
     "output_type": "display_data"
    },
    {
     "name": "stdout",
     "output_type": "stream",
     "text": [
      "\n",
      "Number of samples: [564, 567, 17, 17, 17]\n"
     ]
    },
    {
     "data": {
      "application/vnd.jupyter.widget-view+json": {
       "model_id": "8a69ede8e2484f4e83066bc3ab4cd283",
       "version_major": 2,
       "version_minor": 0
      },
      "text/plain": [
       "HBox(children=(HTML(value='Iteration 3/3, 5 arms, time budget = 3.69 sec'), FloatProgress(value=0.0, max=5.0),…"
      ]
     },
     "metadata": {},
     "output_type": "display_data"
    },
    {
     "name": "stdout",
     "output_type": "stream",
     "text": [
      "\n",
      "Number of samples: [2031]\n",
      "Running time: 3062.0 sec\n",
      "{'batch_size': 600, 'dt': 3.1622778e-05} 146.16841 (2031, 79510)\n"
     ]
    }
   ],
   "source": [
    "build_kernel = lambda dt, batch_size: build_sgnht_kernel(dt, loglikelihood, logprior, data, batch_size)\n",
    "\n",
    "grid_params = {'log_dt': -jnp.arange(2., 8., 0.5), \n",
    "               'batch_size': [int(10**(-elem)*X_train.shape[0]) for elem in range(0,4)]\n",
    "              }\n",
    "best_arm = run_MAMBA(key, build_kernel, err_fn, R, params_IC, grid_params=grid_params, eta=3)\n",
    "\n",
    "print(best_arm.hyperparameters, best_arm.metric, best_arm.samples.shape)"
   ]
  },
  {
   "cell_type": "code",
   "execution_count": null,
   "id": "fdd0e3a2",
   "metadata": {},
   "outputs": [
    {
     "data": {
      "application/vnd.jupyter.widget-view+json": {
       "model_id": "4285717676b44b19a5693731d9f3b920",
       "version_major": 2,
       "version_minor": 0
      },
      "text/plain": [
       "HBox(children=(HTML(value='Iteration 1/3, 48 arms, time budget = 0.38 sec'), FloatProgress(value=0.0, max=48.0…"
      ]
     },
     "metadata": {},
     "output_type": "display_data"
    }
   ],
   "source": [
    "build_kernel = lambda dt, batch_size: build_sgnhtCV_kernel(dt, loglikelihood, \n",
    "                                                  logprior, data, batch_size, centering_value)\n",
    "# T = 10\n",
    "grid_params = {'log_dt': -jnp.arange(2., 8., 0.5), \n",
    "               'batch_size': [int(10**(-elem)*X_train.shape[0]) for elem in range(0,4)]\n",
    "              }\n",
    "best_arm = run_MAMBA(key, build_kernel, err_fn, R, params_IC, grid_params=grid_params, eta=3)\n",
    "\n",
    "print(best_arm.hyperparameters, best_arm.metric, best_arm.samples.shape)"
   ]
  },
  {
   "cell_type": "code",
   "execution_count": null,
   "id": "b49a8d67",
   "metadata": {},
   "outputs": [],
   "source": []
  },
  {
   "cell_type": "code",
   "execution_count": null,
   "id": "134bc659",
   "metadata": {},
   "outputs": [],
   "source": []
  }
 ],
 "metadata": {
  "kernelspec": {
   "display_name": "Python 3",
   "language": "python",
   "name": "python3"
  },
  "language_info": {
   "codemirror_mode": {
    "name": "ipython",
    "version": 3
   },
   "file_extension": ".py",
   "mimetype": "text/x-python",
   "name": "python",
   "nbconvert_exporter": "python",
   "pygments_lexer": "ipython3",
   "version": "3.8.2"
  }
 },
 "nbformat": 4,
 "nbformat_minor": 5
}
