{
 "cells": [
  {
   "cell_type": "code",
   "execution_count": 1,
   "metadata": {},
   "outputs": [],
   "source": [
    "%matplotlib inline\n",
    "import matplotlib.pyplot as plt\n",
    "import seaborn as sns\n",
    "import numpy as np\n",
    "import time\n",
    "\n",
    "from collections import OrderedDict\n",
    "\n",
    "import jax.numpy as jnp\n",
    "from jax import value_and_grad, jit, vmap, partial\n",
    "from jax import random\n",
    "\n",
    "import context \n",
    "\n",
    "from examples.logistic_regression.logistic_regression_model import gen_data_and_log_post\n",
    "\n",
    "from samplers.sgld import sgld_jaxloop, sgld_kernel\n",
    "from samplers.sghmc import sghmc_time_budget\n",
    "\n",
    "from successive_halving.sh import Base_SGLD_SuccHalv_Time, run_SH_keep_last_chains\n",
    "from ksd import imq_KSD\n",
    "from util import wait_until_computed\n"
   ]
  },
  {
   "cell_type": "markdown",
   "metadata": {},
   "source": [
    "# Logistic regression: Successive halving with KSD\n",
    "\n",
    "_15th March 2021_\n",
    "\n",
    "\n",
    "Keep last 3 chains. Run for `R` iterations and thin samples\n",
    "\n",
    "#### Define model"
   ]
  },
  {
   "cell_type": "code",
   "execution_count": 2,
   "metadata": {},
   "outputs": [],
   "source": [
    "from samplers.sgld import sgld, sgld_jaxloop, sgld_time_budget\n",
    "from samplers.sgldcv import sgld_time_budget_CV"
   ]
  },
  {
   "cell_type": "code",
   "execution_count": 3,
   "metadata": {},
   "outputs": [
    {
     "name": "stderr",
     "output_type": "stream",
     "text": [
      "WARNING:absl:No GPU/TPU found, falling back to CPU. (Set TF_CPP_MIN_LOG_LEVEL=0 and rerun for more info.)\n"
     ]
    },
    {
     "name": "stdout",
     "output_type": "stream",
     "text": [
      "generating data, with N=100000 and dim=10\n"
     ]
    }
   ],
   "source": [
    "\n",
    "dim = 10\n",
    "Ndata = 100000\n",
    "key = random.PRNGKey(0) # same key as 'LR-evaluate_default_vs_KSD.ipynb'\n",
    "theta_true, X, y_data, val_and_grad_log_post = gen_data_and_log_post(key, dim, Ndata)\n",
    "\n",
    "# testing and training data\n",
    "num_train = int(Ndata*0.8)\n",
    "\n",
    "X_train = X[:num_train]\n",
    "X_test = X[num_train:]\n",
    "\n",
    "y_train = y_data[:num_train]\n",
    "y_test = y_data[num_train:]\n",
    "del X, y_data\n",
    "\n",
    "def grad_lp_LR_fb(theta):\n",
    "    return val_and_grad_log_post(theta, X_train, y_train)[1]\n",
    "\n",
    "batch_grad_lp_LR_fb = jit(vmap(grad_lp_LR_fb))"
   ]
  },
  {
   "cell_type": "code",
   "execution_count": 4,
   "metadata": {},
   "outputs": [],
   "source": [
    "# key = random.PRNGKey(0)\n",
    "# Nsamples = 1000\n",
    "# dt = 1e-5\n",
    "# batch_size = int(X_train.shape[0]*0.1)\n",
    "\n",
    "\n",
    "\n",
    "# samples, grads = sgld_jaxloop(key, val_and_grad_log_post, X_train, y_train, Nsamples, dt, batch_size, theta_true)\n",
    "\n",
    "# wait_until_computed(samples)\n",
    "\n"
   ]
  },
  {
   "cell_type": "code",
   "execution_count": null,
   "metadata": {},
   "outputs": [],
   "source": []
  },
  {
   "cell_type": "code",
   "execution_count": 5,
   "metadata": {},
   "outputs": [],
   "source": [
    "class LR_succ_halving(Base_SGLD_SuccHalv_Time):\n",
    "    \"SH for sgld\"\n",
    "    \n",
    "    def __init__(self, key, logdt, batch_size_ratio, thin_step=1):\n",
    "        self.key = key\n",
    "        self.logdt = logdt\n",
    "        self.batch_size_ratio = batch_size_ratio\n",
    "        self.x_0 = theta_true\n",
    "        self.thin_step = thin_step\n",
    "        super(LR_succ_halving, self).__init__(self.key, self.logdt, self.x_0)\n",
    "        \n",
    "    def _run_sampler(self, key, time_budget, x_0):\n",
    "        dt = 10**self.logdt\n",
    "        batch_size = int(self.batch_size_ratio*X_train.shape[0])\n",
    "        sgld_samples, sgld_grads = sgld_time_budget(key, val_and_grad_log_post,\n",
    "                                            X_train, y_train, time_budget, dt,\n",
    "                                            batch_size, x_0)\n",
    "        return sgld_samples[::self.thin_step], batch_grad_lp_LR_fb(sgld_samples[::self.thin_step])\n",
    "\n",
    "class LR_CV_succ_halving(Base_SGLD_SuccHalv_Time):\n",
    "    \"SH for sgld-CV\"\n",
    "    \n",
    "    def __init__(self, key, logdt, batch_size_ratio, thin_step=1):\n",
    "        self.key = key\n",
    "        self.logdt = logdt\n",
    "        self.batch_size_ratio = batch_size_ratio\n",
    "        self.x_0 = theta_true\n",
    "        self.thin_step = thin_step\n",
    "        super(LR_CV_succ_halving, self).__init__(self.key, self.logdt, self.x_0)\n",
    "        \n",
    "    def _run_sampler(self, key, time_budget, x_0):\n",
    "        dt = 10**self.logdt\n",
    "        batch_size = int(self.batch_size_ratio*X_train.shape[0])\n",
    "        sgld_samples, sgld_grads = sgld_time_budget_CV(key, val_and_grad_log_post,\n",
    "                                            X_train, y_train, time_budget, dt,\n",
    "                                            batch_size, x_0)\n",
    "        return sgld_samples[::self.thin_step], batch_grad_lp_LR_fb(sgld_samples[::self.thin_step])\n"
   ]
  },
  {
   "cell_type": "markdown",
   "metadata": {},
   "source": [
    "### test the timed sampler"
   ]
  },
  {
   "cell_type": "code",
   "execution_count": 6,
   "metadata": {},
   "outputs": [
    {
     "name": "stdout",
     "output_type": "stream",
     "text": [
      "25\n"
     ]
    }
   ],
   "source": [
    "my_sgld = LR_succ_halving(random.PRNGKey(0), logdt=-4., batch_size_ratio=1, thin_step=10)\n",
    "my_sgld.run(0.38)\n",
    "print(my_sgld.len_samples)"
   ]
  },
  {
   "cell_type": "code",
   "execution_count": null,
   "metadata": {},
   "outputs": [],
   "source": []
  },
  {
   "cell_type": "code",
   "execution_count": null,
   "metadata": {},
   "outputs": [],
   "source": []
  },
  {
   "cell_type": "code",
   "execution_count": null,
   "metadata": {},
   "outputs": [],
   "source": []
  },
  {
   "cell_type": "markdown",
   "metadata": {},
   "source": [
    "## SH-KSD for sgld\n",
    "\n",
    "Setup:     \n",
    "- n = 50 \n",
    "- R = 5 (ie: r= 0.385)\n",
    "- eta = 3\n",
    "- thin = 10\n",
    "- key = random.PRNGKey(11)\n",
    "\n",
    "Optimal:\n",
    "- log-dt: \n",
    "- batch_size_ratio: 0.385662\n",
    "- KSD: 13.58\n",
    "- Number of samples: 1220\n",
    "- Running time: 80seconds"
   ]
  },
  {
   "cell_type": "code",
   "execution_count": 7,
   "metadata": {},
   "outputs": [
    {
     "name": "stdout",
     "output_type": "stream",
     "text": [
      "r=0.385\n",
      "Number of iterations: 3\n",
      "Total budget: around 57 sec\n",
      "=====\n",
      "\n",
      "Iteration 0: 50 configurations with 0.385 seconds each\n",
      "Combinations: [(-5.3472385, 0.010722672), (-6.5879703, 0.03274549), (-3.474164, 0.001), (-2.7404356, 0.061359067), (-4.5657535, 0.8111308), (-2.806858, 0.75646335), (-3.1919081, 0.15199111), (-3.148088, 0.08111308), (-3.753182, 0.0132194115), (-6.8216534, 0.0013219408), (-4.0242715, 0.046415884), (-5.0209155, 0.014174741), (-4.1753, 0.46415886), (-4.5552917, 0.5722368), (-4.685606, 0.03274549), (-5.98359, 0.0015199113), (-5.524322, 0.30538556), (-5.566685, 0.35111916), (-5.328536, 0.0013219408), (-6.7556458, 0.040370174), (-2.8534408, 0.18738173), (-5.9623804, 0.037649363), (-4.3060584, 0.0014174745), (-4.8315105, 0.008697491), (-4.534036, 0.01), (-3.0582876, 0.0015199113), (-6.9542356, 0.0017475284), (-6.2046223, 0.0040370165), (-6.7100286, 0.00811131), (-4.124953, 0.30538556), (-5.2651687, 0.003274549), (-5.7729683, 0.24770762), (-6.160528, 0.012328468), (-4.828936, 0.01629751), (-4.7954726, 0.0020092328), (-2.736679, 0.75646335), (-6.0568123, 0.0012328465), (-5.296714, 0.0017475284), (-5.969054, 0.30538556), (-5.8429413, 0.0040370165), (-3.1186786, 0.03274549), (-6.1952157, 0.107226714), (-3.5000439, 0.0070548006), (-4.0045133, 0.008697491), (-2.6615286, 0.026560875), (-5.184237, 1.0), (-2.272478, 0.0011497568), (-3.9086819, 0.6135907), (-2.6119347, 0.01), (-3.08562, 0.13219412)]\n"
     ]
    },
    {
     "ename": "KeyboardInterrupt",
     "evalue": "",
     "output_type": "error",
     "traceback": [
      "\u001b[0;31m---------------------------------------------------------------------------\u001b[0m",
      "\u001b[0;31mKeyboardInterrupt\u001b[0m                         Traceback (most recent call last)",
      "\u001b[0;32m<ipython-input-7-498bfe86d530>\u001b[0m in \u001b[0;36m<module>\u001b[0;34m\u001b[0m\n\u001b[1;32m      8\u001b[0m \u001b[0mkey\u001b[0m \u001b[0;34m=\u001b[0m \u001b[0mrandom\u001b[0m\u001b[0;34m.\u001b[0m\u001b[0mPRNGKey\u001b[0m\u001b[0;34m(\u001b[0m\u001b[0;36m11\u001b[0m\u001b[0;34m)\u001b[0m\u001b[0;34m\u001b[0m\u001b[0;34m\u001b[0m\u001b[0m\n\u001b[1;32m      9\u001b[0m \u001b[0;34m\u001b[0m\u001b[0m\n\u001b[0;32m---> 10\u001b[0;31m \u001b[0msampler_dict_sgld\u001b[0m \u001b[0;34m=\u001b[0m \u001b[0mrun_SH_keep_last_chains\u001b[0m\u001b[0;34m(\u001b[0m\u001b[0mkey\u001b[0m\u001b[0;34m,\u001b[0m \u001b[0mr\u001b[0m\u001b[0;34m,\u001b[0m \u001b[0mn\u001b[0m \u001b[0;34m,\u001b[0m\u001b[0meta\u001b[0m\u001b[0;34m,\u001b[0m \u001b[0mthin_step\u001b[0m\u001b[0;34m,\u001b[0m \u001b[0mLR_succ_halving\u001b[0m\u001b[0;34m,\u001b[0m \u001b[0mX_train\u001b[0m\u001b[0;34m.\u001b[0m\u001b[0mshape\u001b[0m\u001b[0;34m[\u001b[0m\u001b[0;36m0\u001b[0m\u001b[0;34m]\u001b[0m\u001b[0;34m)\u001b[0m\u001b[0;34m\u001b[0m\u001b[0;34m\u001b[0m\u001b[0m\n\u001b[0m",
      "\u001b[0;32m~/Documents/research/papers/sgld_KSD/successive_halving/sh.py\u001b[0m in \u001b[0;36mrun_SH_keep_last_chains\u001b[0;34m(key, r, n, eta, thin_step, SH_class, Ndata)\u001b[0m\n\u001b[1;32m    135\u001b[0m         \u001b[0mprint\u001b[0m\u001b[0;34m(\u001b[0m\u001b[0;34mf\"Combinations: {T_list}\"\u001b[0m\u001b[0;34m)\u001b[0m\u001b[0;34m\u001b[0m\u001b[0;34m\u001b[0m\u001b[0m\n\u001b[1;32m    136\u001b[0m         \u001b[0;32mfor\u001b[0m \u001b[0msampler\u001b[0m \u001b[0;32min\u001b[0m \u001b[0msampler_dict\u001b[0m\u001b[0;34m.\u001b[0m\u001b[0mvalues\u001b[0m\u001b[0;34m(\u001b[0m\u001b[0;34m)\u001b[0m\u001b[0;34m:\u001b[0m\u001b[0;34m\u001b[0m\u001b[0;34m\u001b[0m\u001b[0m\n\u001b[0;32m--> 137\u001b[0;31m             \u001b[0msampler\u001b[0m\u001b[0;34m.\u001b[0m\u001b[0mrun\u001b[0m\u001b[0;34m(\u001b[0m\u001b[0mr_i\u001b[0m\u001b[0;34m)\u001b[0m\u001b[0;34m\u001b[0m\u001b[0;34m\u001b[0m\u001b[0m\n\u001b[0m\u001b[1;32m    138\u001b[0m         \u001b[0mprint\u001b[0m\u001b[0;34m(\u001b[0m\u001b[0;34m\"Number of samples: \"\u001b[0m\u001b[0;34m)\u001b[0m\u001b[0;34m\u001b[0m\u001b[0;34m\u001b[0m\u001b[0m\n\u001b[1;32m    139\u001b[0m         \u001b[0mprint\u001b[0m\u001b[0;34m(\u001b[0m\u001b[0;34m[\u001b[0m\u001b[0msampler_dict\u001b[0m\u001b[0;34m[\u001b[0m\u001b[0;34m(\u001b[0m\u001b[0mlogdt\u001b[0m\u001b[0;34m,\u001b[0m \u001b[0mb_s_r\u001b[0m\u001b[0;34m)\u001b[0m\u001b[0;34m]\u001b[0m\u001b[0;34m.\u001b[0m\u001b[0mlen_samples\u001b[0m \u001b[0;32mfor\u001b[0m \u001b[0mlogdt\u001b[0m\u001b[0;34m,\u001b[0m \u001b[0mb_s_r\u001b[0m \u001b[0;32min\u001b[0m \u001b[0mT_list\u001b[0m\u001b[0;34m]\u001b[0m\u001b[0;34m)\u001b[0m\u001b[0;34m\u001b[0m\u001b[0;34m\u001b[0m\u001b[0m\n",
      "\u001b[0;32m~/Documents/research/papers/sgld_KSD/successive_halving/sh.py\u001b[0m in \u001b[0;36mrun\u001b[0;34m(self, time_budget)\u001b[0m\n\u001b[1;32m     43\u001b[0m             \u001b[0mx_0\u001b[0m \u001b[0;34m=\u001b[0m \u001b[0mself\u001b[0m\u001b[0;34m.\u001b[0m\u001b[0mget_last_sample\u001b[0m\u001b[0;34m(\u001b[0m\u001b[0;34m)\u001b[0m\u001b[0;34m\u001b[0m\u001b[0;34m\u001b[0m\u001b[0m\n\u001b[1;32m     44\u001b[0m         \u001b[0mself\u001b[0m\u001b[0;34m.\u001b[0m\u001b[0mkey\u001b[0m\u001b[0;34m,\u001b[0m \u001b[0msubkey\u001b[0m \u001b[0;34m=\u001b[0m \u001b[0mrandom\u001b[0m\u001b[0;34m.\u001b[0m\u001b[0msplit\u001b[0m\u001b[0;34m(\u001b[0m\u001b[0mself\u001b[0m\u001b[0;34m.\u001b[0m\u001b[0mkey\u001b[0m\u001b[0;34m)\u001b[0m\u001b[0;34m\u001b[0m\u001b[0;34m\u001b[0m\u001b[0m\n\u001b[0;32m---> 45\u001b[0;31m         \u001b[0msgld_samples\u001b[0m\u001b[0;34m,\u001b[0m \u001b[0msgld_grads\u001b[0m \u001b[0;34m=\u001b[0m \u001b[0mself\u001b[0m\u001b[0;34m.\u001b[0m\u001b[0m_run_sampler\u001b[0m\u001b[0;34m(\u001b[0m\u001b[0msubkey\u001b[0m\u001b[0;34m,\u001b[0m \u001b[0mtime_budget\u001b[0m\u001b[0;34m,\u001b[0m \u001b[0mx_0\u001b[0m\u001b[0;34m)\u001b[0m\u001b[0;34m\u001b[0m\u001b[0;34m\u001b[0m\u001b[0m\n\u001b[0m\u001b[1;32m     46\u001b[0m         \u001b[0mself\u001b[0m\u001b[0;34m.\u001b[0m\u001b[0mappend_samples\u001b[0m\u001b[0;34m(\u001b[0m\u001b[0msgld_samples\u001b[0m\u001b[0;34m,\u001b[0m \u001b[0msgld_grads\u001b[0m\u001b[0;34m)\u001b[0m\u001b[0;34m\u001b[0m\u001b[0;34m\u001b[0m\u001b[0m\n\u001b[1;32m     47\u001b[0m \u001b[0;34m\u001b[0m\u001b[0m\n",
      "\u001b[0;32m<ipython-input-5-607cad9334f2>\u001b[0m in \u001b[0;36m_run_sampler\u001b[0;34m(self, key, time_budget, x_0)\u001b[0m\n\u001b[1;32m     13\u001b[0m         \u001b[0mdt\u001b[0m \u001b[0;34m=\u001b[0m \u001b[0;36m10\u001b[0m\u001b[0;34m**\u001b[0m\u001b[0mself\u001b[0m\u001b[0;34m.\u001b[0m\u001b[0mlogdt\u001b[0m\u001b[0;34m\u001b[0m\u001b[0;34m\u001b[0m\u001b[0m\n\u001b[1;32m     14\u001b[0m         \u001b[0mbatch_size\u001b[0m \u001b[0;34m=\u001b[0m \u001b[0mint\u001b[0m\u001b[0;34m(\u001b[0m\u001b[0mself\u001b[0m\u001b[0;34m.\u001b[0m\u001b[0mbatch_size_ratio\u001b[0m\u001b[0;34m*\u001b[0m\u001b[0mX_train\u001b[0m\u001b[0;34m.\u001b[0m\u001b[0mshape\u001b[0m\u001b[0;34m[\u001b[0m\u001b[0;36m0\u001b[0m\u001b[0;34m]\u001b[0m\u001b[0;34m)\u001b[0m\u001b[0;34m\u001b[0m\u001b[0;34m\u001b[0m\u001b[0m\n\u001b[0;32m---> 15\u001b[0;31m         sgld_samples, sgld_grads = sgld_time_budget(key, val_and_grad_log_post,\n\u001b[0m\u001b[1;32m     16\u001b[0m                                             \u001b[0mX_train\u001b[0m\u001b[0;34m,\u001b[0m \u001b[0my_train\u001b[0m\u001b[0;34m,\u001b[0m \u001b[0mtime_budget\u001b[0m\u001b[0;34m,\u001b[0m \u001b[0mdt\u001b[0m\u001b[0;34m,\u001b[0m\u001b[0;34m\u001b[0m\u001b[0;34m\u001b[0m\u001b[0m\n\u001b[1;32m     17\u001b[0m                                             batch_size, x_0)\n",
      "\u001b[0;32m~/Documents/research/papers/sgld_KSD/samplers/sgld.py\u001b[0m in \u001b[0;36msgld_time_budget\u001b[0;34m(key, log_post, X, y_data, time_budget, dt, batch_size, x_0, verbose)\u001b[0m\n\u001b[1;32m    102\u001b[0m \u001b[0;34m\u001b[0m\u001b[0m\n\u001b[1;32m    103\u001b[0m     \u001b[0;31m# run it once to compile the function\u001b[0m\u001b[0;34m\u001b[0m\u001b[0;34m\u001b[0m\u001b[0;34m\u001b[0m\u001b[0m\n\u001b[0;32m--> 104\u001b[0;31m     _ = sgld_kernel(subkey, param, param_grad, log_post,\n\u001b[0m\u001b[1;32m    105\u001b[0m                         dt, X, y_data, N_data, dim, batch_size)[0][0].block_until_ready()\n\u001b[1;32m    106\u001b[0m \u001b[0;34m\u001b[0m\u001b[0m\n",
      "\u001b[0;32m~/Documents/research/venv/lib/python3.8/site-packages/jax/_src/traceback_util.py\u001b[0m in \u001b[0;36mreraise_with_filtered_traceback\u001b[0;34m(*args, **kwargs)\u001b[0m\n\u001b[1;32m    137\u001b[0m   \u001b[0;32mdef\u001b[0m \u001b[0mreraise_with_filtered_traceback\u001b[0m\u001b[0;34m(\u001b[0m\u001b[0;34m*\u001b[0m\u001b[0margs\u001b[0m\u001b[0;34m,\u001b[0m \u001b[0;34m**\u001b[0m\u001b[0mkwargs\u001b[0m\u001b[0;34m)\u001b[0m\u001b[0;34m:\u001b[0m\u001b[0;34m\u001b[0m\u001b[0;34m\u001b[0m\u001b[0m\n\u001b[1;32m    138\u001b[0m     \u001b[0;32mtry\u001b[0m\u001b[0;34m:\u001b[0m\u001b[0;34m\u001b[0m\u001b[0;34m\u001b[0m\u001b[0m\n\u001b[0;32m--> 139\u001b[0;31m       \u001b[0;32mreturn\u001b[0m \u001b[0mfun\u001b[0m\u001b[0;34m(\u001b[0m\u001b[0;34m*\u001b[0m\u001b[0margs\u001b[0m\u001b[0;34m,\u001b[0m \u001b[0;34m**\u001b[0m\u001b[0mkwargs\u001b[0m\u001b[0;34m)\u001b[0m\u001b[0;34m\u001b[0m\u001b[0;34m\u001b[0m\u001b[0m\n\u001b[0m\u001b[1;32m    140\u001b[0m     \u001b[0;32mexcept\u001b[0m \u001b[0mException\u001b[0m \u001b[0;32mas\u001b[0m \u001b[0me\u001b[0m\u001b[0;34m:\u001b[0m\u001b[0;34m\u001b[0m\u001b[0;34m\u001b[0m\u001b[0m\n\u001b[1;32m    141\u001b[0m       \u001b[0;32mif\u001b[0m \u001b[0;32mnot\u001b[0m \u001b[0mis_under_reraiser\u001b[0m\u001b[0;34m(\u001b[0m\u001b[0me\u001b[0m\u001b[0;34m)\u001b[0m\u001b[0;34m:\u001b[0m\u001b[0;34m\u001b[0m\u001b[0;34m\u001b[0m\u001b[0m\n",
      "\u001b[0;32m~/Documents/research/venv/lib/python3.8/site-packages/jax/api.py\u001b[0m in \u001b[0;36mf_jitted\u001b[0;34m(*args, **kwargs)\u001b[0m\n\u001b[1;32m    396\u001b[0m       \u001b[0;32mreturn\u001b[0m \u001b[0mcpp_jitted_f\u001b[0m\u001b[0;34m(\u001b[0m\u001b[0;34m*\u001b[0m\u001b[0margs\u001b[0m\u001b[0;34m,\u001b[0m \u001b[0;34m**\u001b[0m\u001b[0mkwargs\u001b[0m\u001b[0;34m)\u001b[0m\u001b[0;34m\u001b[0m\u001b[0;34m\u001b[0m\u001b[0m\n\u001b[1;32m    397\u001b[0m     \u001b[0;32melse\u001b[0m\u001b[0;34m:\u001b[0m\u001b[0;34m\u001b[0m\u001b[0;34m\u001b[0m\u001b[0m\n\u001b[0;32m--> 398\u001b[0;31m       \u001b[0;32mreturn\u001b[0m \u001b[0mcpp_jitted_f\u001b[0m\u001b[0;34m(\u001b[0m\u001b[0mcontext\u001b[0m\u001b[0;34m,\u001b[0m \u001b[0;34m*\u001b[0m\u001b[0margs\u001b[0m\u001b[0;34m,\u001b[0m \u001b[0;34m**\u001b[0m\u001b[0mkwargs\u001b[0m\u001b[0;34m)\u001b[0m\u001b[0;34m\u001b[0m\u001b[0;34m\u001b[0m\u001b[0m\n\u001b[0m\u001b[1;32m    399\u001b[0m   \u001b[0mf_jitted\u001b[0m\u001b[0;34m.\u001b[0m\u001b[0m_cpp_jitted_f\u001b[0m \u001b[0;34m=\u001b[0m \u001b[0mcpp_jitted_f\u001b[0m\u001b[0;34m\u001b[0m\u001b[0;34m\u001b[0m\u001b[0m\n\u001b[1;32m    400\u001b[0m \u001b[0;34m\u001b[0m\u001b[0m\n",
      "\u001b[0;32m~/Documents/research/venv/lib/python3.8/site-packages/jax/api.py\u001b[0m in \u001b[0;36mcache_miss\u001b[0;34m(_, *args, **kwargs)\u001b[0m\n\u001b[1;32m    287\u001b[0m       \u001b[0m_check_arg\u001b[0m\u001b[0;34m(\u001b[0m\u001b[0marg\u001b[0m\u001b[0;34m)\u001b[0m\u001b[0;34m\u001b[0m\u001b[0;34m\u001b[0m\u001b[0m\n\u001b[1;32m    288\u001b[0m     \u001b[0mflat_fun\u001b[0m\u001b[0;34m,\u001b[0m \u001b[0mout_tree\u001b[0m \u001b[0;34m=\u001b[0m \u001b[0mflatten_fun\u001b[0m\u001b[0;34m(\u001b[0m\u001b[0mf\u001b[0m\u001b[0;34m,\u001b[0m \u001b[0min_tree\u001b[0m\u001b[0;34m)\u001b[0m\u001b[0;34m\u001b[0m\u001b[0;34m\u001b[0m\u001b[0m\n\u001b[0;32m--> 289\u001b[0;31m     out_flat = xla.xla_call(\n\u001b[0m\u001b[1;32m    290\u001b[0m         \u001b[0mflat_fun\u001b[0m\u001b[0;34m,\u001b[0m\u001b[0;34m\u001b[0m\u001b[0;34m\u001b[0m\u001b[0m\n\u001b[1;32m    291\u001b[0m         \u001b[0;34m*\u001b[0m\u001b[0margs_flat\u001b[0m\u001b[0;34m,\u001b[0m\u001b[0;34m\u001b[0m\u001b[0;34m\u001b[0m\u001b[0m\n",
      "\u001b[0;32m~/Documents/research/venv/lib/python3.8/site-packages/jax/core.py\u001b[0m in \u001b[0;36mbind\u001b[0;34m(self, fun, *args, **params)\u001b[0m\n\u001b[1;32m   1273\u001b[0m \u001b[0;34m\u001b[0m\u001b[0m\n\u001b[1;32m   1274\u001b[0m   \u001b[0;32mdef\u001b[0m \u001b[0mbind\u001b[0m\u001b[0;34m(\u001b[0m\u001b[0mself\u001b[0m\u001b[0;34m,\u001b[0m \u001b[0mfun\u001b[0m\u001b[0;34m,\u001b[0m \u001b[0;34m*\u001b[0m\u001b[0margs\u001b[0m\u001b[0;34m,\u001b[0m \u001b[0;34m**\u001b[0m\u001b[0mparams\u001b[0m\u001b[0;34m)\u001b[0m\u001b[0;34m:\u001b[0m\u001b[0;34m\u001b[0m\u001b[0;34m\u001b[0m\u001b[0m\n\u001b[0;32m-> 1275\u001b[0;31m     \u001b[0;32mreturn\u001b[0m \u001b[0mcall_bind\u001b[0m\u001b[0;34m(\u001b[0m\u001b[0mself\u001b[0m\u001b[0;34m,\u001b[0m \u001b[0mfun\u001b[0m\u001b[0;34m,\u001b[0m \u001b[0;34m*\u001b[0m\u001b[0margs\u001b[0m\u001b[0;34m,\u001b[0m \u001b[0;34m**\u001b[0m\u001b[0mparams\u001b[0m\u001b[0;34m)\u001b[0m\u001b[0;34m\u001b[0m\u001b[0;34m\u001b[0m\u001b[0m\n\u001b[0m\u001b[1;32m   1276\u001b[0m \u001b[0;34m\u001b[0m\u001b[0m\n\u001b[1;32m   1277\u001b[0m   \u001b[0;32mdef\u001b[0m \u001b[0mprocess\u001b[0m\u001b[0;34m(\u001b[0m\u001b[0mself\u001b[0m\u001b[0;34m,\u001b[0m \u001b[0mtrace\u001b[0m\u001b[0;34m,\u001b[0m \u001b[0mfun\u001b[0m\u001b[0;34m,\u001b[0m \u001b[0mtracers\u001b[0m\u001b[0;34m,\u001b[0m \u001b[0mparams\u001b[0m\u001b[0;34m)\u001b[0m\u001b[0;34m:\u001b[0m\u001b[0;34m\u001b[0m\u001b[0;34m\u001b[0m\u001b[0m\n",
      "\u001b[0;32m~/Documents/research/venv/lib/python3.8/site-packages/jax/core.py\u001b[0m in \u001b[0;36mcall_bind\u001b[0;34m(primitive, fun, *args, **params)\u001b[0m\n\u001b[1;32m   1264\u001b[0m   \u001b[0mtracers\u001b[0m \u001b[0;34m=\u001b[0m \u001b[0mmap\u001b[0m\u001b[0;34m(\u001b[0m\u001b[0mtop_trace\u001b[0m\u001b[0;34m.\u001b[0m\u001b[0mfull_raise\u001b[0m\u001b[0;34m,\u001b[0m \u001b[0margs\u001b[0m\u001b[0;34m)\u001b[0m\u001b[0;34m\u001b[0m\u001b[0;34m\u001b[0m\u001b[0m\n\u001b[1;32m   1265\u001b[0m   \u001b[0;32mwith\u001b[0m \u001b[0mmaybe_new_sublevel\u001b[0m\u001b[0;34m(\u001b[0m\u001b[0mtop_trace\u001b[0m\u001b[0;34m)\u001b[0m\u001b[0;34m:\u001b[0m\u001b[0;34m\u001b[0m\u001b[0;34m\u001b[0m\u001b[0m\n\u001b[0;32m-> 1266\u001b[0;31m     \u001b[0mouts\u001b[0m \u001b[0;34m=\u001b[0m \u001b[0mprimitive\u001b[0m\u001b[0;34m.\u001b[0m\u001b[0mprocess\u001b[0m\u001b[0;34m(\u001b[0m\u001b[0mtop_trace\u001b[0m\u001b[0;34m,\u001b[0m \u001b[0mfun\u001b[0m\u001b[0;34m,\u001b[0m \u001b[0mtracers\u001b[0m\u001b[0;34m,\u001b[0m \u001b[0mparams\u001b[0m\u001b[0;34m)\u001b[0m\u001b[0;34m\u001b[0m\u001b[0;34m\u001b[0m\u001b[0m\n\u001b[0m\u001b[1;32m   1267\u001b[0m   \u001b[0;32mreturn\u001b[0m \u001b[0mmap\u001b[0m\u001b[0;34m(\u001b[0m\u001b[0mfull_lower\u001b[0m\u001b[0;34m,\u001b[0m \u001b[0mapply_todos\u001b[0m\u001b[0;34m(\u001b[0m\u001b[0menv_trace_todo\u001b[0m\u001b[0;34m(\u001b[0m\u001b[0;34m)\u001b[0m\u001b[0;34m,\u001b[0m \u001b[0mouts\u001b[0m\u001b[0;34m)\u001b[0m\u001b[0;34m)\u001b[0m\u001b[0;34m\u001b[0m\u001b[0;34m\u001b[0m\u001b[0m\n\u001b[1;32m   1268\u001b[0m \u001b[0;34m\u001b[0m\u001b[0m\n",
      "\u001b[0;32m~/Documents/research/venv/lib/python3.8/site-packages/jax/core.py\u001b[0m in \u001b[0;36mprocess\u001b[0;34m(self, trace, fun, tracers, params)\u001b[0m\n\u001b[1;32m   1276\u001b[0m \u001b[0;34m\u001b[0m\u001b[0m\n\u001b[1;32m   1277\u001b[0m   \u001b[0;32mdef\u001b[0m \u001b[0mprocess\u001b[0m\u001b[0;34m(\u001b[0m\u001b[0mself\u001b[0m\u001b[0;34m,\u001b[0m \u001b[0mtrace\u001b[0m\u001b[0;34m,\u001b[0m \u001b[0mfun\u001b[0m\u001b[0;34m,\u001b[0m \u001b[0mtracers\u001b[0m\u001b[0;34m,\u001b[0m \u001b[0mparams\u001b[0m\u001b[0;34m)\u001b[0m\u001b[0;34m:\u001b[0m\u001b[0;34m\u001b[0m\u001b[0;34m\u001b[0m\u001b[0m\n\u001b[0;32m-> 1278\u001b[0;31m     \u001b[0;32mreturn\u001b[0m \u001b[0mtrace\u001b[0m\u001b[0;34m.\u001b[0m\u001b[0mprocess_call\u001b[0m\u001b[0;34m(\u001b[0m\u001b[0mself\u001b[0m\u001b[0;34m,\u001b[0m \u001b[0mfun\u001b[0m\u001b[0;34m,\u001b[0m \u001b[0mtracers\u001b[0m\u001b[0;34m,\u001b[0m \u001b[0mparams\u001b[0m\u001b[0;34m)\u001b[0m\u001b[0;34m\u001b[0m\u001b[0;34m\u001b[0m\u001b[0m\n\u001b[0m\u001b[1;32m   1279\u001b[0m \u001b[0;34m\u001b[0m\u001b[0m\n\u001b[1;32m   1280\u001b[0m   \u001b[0;32mdef\u001b[0m \u001b[0mpost_process\u001b[0m\u001b[0;34m(\u001b[0m\u001b[0mself\u001b[0m\u001b[0;34m,\u001b[0m \u001b[0mtrace\u001b[0m\u001b[0;34m,\u001b[0m \u001b[0mout_tracers\u001b[0m\u001b[0;34m,\u001b[0m \u001b[0mparams\u001b[0m\u001b[0;34m)\u001b[0m\u001b[0;34m:\u001b[0m\u001b[0;34m\u001b[0m\u001b[0;34m\u001b[0m\u001b[0m\n",
      "\u001b[0;32m~/Documents/research/venv/lib/python3.8/site-packages/jax/core.py\u001b[0m in \u001b[0;36mprocess_call\u001b[0;34m(self, primitive, f, tracers, params)\u001b[0m\n\u001b[1;32m    629\u001b[0m \u001b[0;34m\u001b[0m\u001b[0m\n\u001b[1;32m    630\u001b[0m   \u001b[0;32mdef\u001b[0m \u001b[0mprocess_call\u001b[0m\u001b[0;34m(\u001b[0m\u001b[0mself\u001b[0m\u001b[0;34m,\u001b[0m \u001b[0mprimitive\u001b[0m\u001b[0;34m,\u001b[0m \u001b[0mf\u001b[0m\u001b[0;34m,\u001b[0m \u001b[0mtracers\u001b[0m\u001b[0;34m,\u001b[0m \u001b[0mparams\u001b[0m\u001b[0;34m)\u001b[0m\u001b[0;34m:\u001b[0m\u001b[0;34m\u001b[0m\u001b[0;34m\u001b[0m\u001b[0m\n\u001b[0;32m--> 631\u001b[0;31m     \u001b[0;32mreturn\u001b[0m \u001b[0mprimitive\u001b[0m\u001b[0;34m.\u001b[0m\u001b[0mimpl\u001b[0m\u001b[0;34m(\u001b[0m\u001b[0mf\u001b[0m\u001b[0;34m,\u001b[0m \u001b[0;34m*\u001b[0m\u001b[0mtracers\u001b[0m\u001b[0;34m,\u001b[0m \u001b[0;34m**\u001b[0m\u001b[0mparams\u001b[0m\u001b[0;34m)\u001b[0m\u001b[0;34m\u001b[0m\u001b[0;34m\u001b[0m\u001b[0m\n\u001b[0m\u001b[1;32m    632\u001b[0m   \u001b[0mprocess_map\u001b[0m \u001b[0;34m=\u001b[0m \u001b[0mprocess_call\u001b[0m\u001b[0;34m\u001b[0m\u001b[0;34m\u001b[0m\u001b[0m\n\u001b[1;32m    633\u001b[0m \u001b[0;34m\u001b[0m\u001b[0m\n",
      "\u001b[0;32m~/Documents/research/venv/lib/python3.8/site-packages/jax/interpreters/xla.py\u001b[0m in \u001b[0;36m_xla_call_impl\u001b[0;34m(fun, device, backend, name, donated_invars, *args)\u001b[0m\n\u001b[1;32m    578\u001b[0m \u001b[0;34m\u001b[0m\u001b[0m\n\u001b[1;32m    579\u001b[0m \u001b[0;32mdef\u001b[0m \u001b[0m_xla_call_impl\u001b[0m\u001b[0;34m(\u001b[0m\u001b[0mfun\u001b[0m\u001b[0;34m:\u001b[0m \u001b[0mlu\u001b[0m\u001b[0;34m.\u001b[0m\u001b[0mWrappedFun\u001b[0m\u001b[0;34m,\u001b[0m \u001b[0;34m*\u001b[0m\u001b[0margs\u001b[0m\u001b[0;34m,\u001b[0m \u001b[0mdevice\u001b[0m\u001b[0;34m,\u001b[0m \u001b[0mbackend\u001b[0m\u001b[0;34m,\u001b[0m \u001b[0mname\u001b[0m\u001b[0;34m,\u001b[0m \u001b[0mdonated_invars\u001b[0m\u001b[0;34m)\u001b[0m\u001b[0;34m:\u001b[0m\u001b[0;34m\u001b[0m\u001b[0;34m\u001b[0m\u001b[0m\n\u001b[0;32m--> 580\u001b[0;31m   compiled_fun = _xla_callable(fun, device, backend, name, donated_invars,\n\u001b[0m\u001b[1;32m    581\u001b[0m                                *unsafe_map(arg_spec, args))\n\u001b[1;32m    582\u001b[0m   \u001b[0;32mtry\u001b[0m\u001b[0;34m:\u001b[0m\u001b[0;34m\u001b[0m\u001b[0;34m\u001b[0m\u001b[0m\n",
      "\u001b[0;32m~/Documents/research/venv/lib/python3.8/site-packages/jax/linear_util.py\u001b[0m in \u001b[0;36mmemoized_fun\u001b[0;34m(fun, *args)\u001b[0m\n\u001b[1;32m    258\u001b[0m       \u001b[0mfun\u001b[0m\u001b[0;34m.\u001b[0m\u001b[0mpopulate_stores\u001b[0m\u001b[0;34m(\u001b[0m\u001b[0mstores\u001b[0m\u001b[0;34m)\u001b[0m\u001b[0;34m\u001b[0m\u001b[0;34m\u001b[0m\u001b[0m\n\u001b[1;32m    259\u001b[0m     \u001b[0;32melse\u001b[0m\u001b[0;34m:\u001b[0m\u001b[0;34m\u001b[0m\u001b[0;34m\u001b[0m\u001b[0m\n\u001b[0;32m--> 260\u001b[0;31m       \u001b[0mans\u001b[0m \u001b[0;34m=\u001b[0m \u001b[0mcall\u001b[0m\u001b[0;34m(\u001b[0m\u001b[0mfun\u001b[0m\u001b[0;34m,\u001b[0m \u001b[0;34m*\u001b[0m\u001b[0margs\u001b[0m\u001b[0;34m)\u001b[0m\u001b[0;34m\u001b[0m\u001b[0;34m\u001b[0m\u001b[0m\n\u001b[0m\u001b[1;32m    261\u001b[0m       \u001b[0mcache\u001b[0m\u001b[0;34m[\u001b[0m\u001b[0mkey\u001b[0m\u001b[0;34m]\u001b[0m \u001b[0;34m=\u001b[0m \u001b[0;34m(\u001b[0m\u001b[0mans\u001b[0m\u001b[0;34m,\u001b[0m \u001b[0mfun\u001b[0m\u001b[0;34m.\u001b[0m\u001b[0mstores\u001b[0m\u001b[0;34m)\u001b[0m\u001b[0;34m\u001b[0m\u001b[0;34m\u001b[0m\u001b[0m\n\u001b[1;32m    262\u001b[0m \u001b[0;34m\u001b[0m\u001b[0m\n",
      "\u001b[0;32m~/Documents/research/venv/lib/python3.8/site-packages/jax/interpreters/xla.py\u001b[0m in \u001b[0;36m_xla_callable\u001b[0;34m(fun, device, backend, name, donated_invars, *arg_specs)\u001b[0m\n\u001b[1;32m    725\u001b[0m       device_assignment=(device.id,) if device else None)\n\u001b[1;32m    726\u001b[0m   \u001b[0moptions\u001b[0m\u001b[0;34m.\u001b[0m\u001b[0mparameter_is_tupled_arguments\u001b[0m \u001b[0;34m=\u001b[0m \u001b[0mtuple_args\u001b[0m\u001b[0;34m\u001b[0m\u001b[0;34m\u001b[0m\u001b[0m\n\u001b[0;32m--> 727\u001b[0;31m   \u001b[0mcompiled\u001b[0m \u001b[0;34m=\u001b[0m \u001b[0mbackend_compile\u001b[0m\u001b[0;34m(\u001b[0m\u001b[0mbackend\u001b[0m\u001b[0;34m,\u001b[0m \u001b[0mbuilt\u001b[0m\u001b[0;34m,\u001b[0m \u001b[0moptions\u001b[0m\u001b[0;34m)\u001b[0m\u001b[0;34m\u001b[0m\u001b[0;34m\u001b[0m\u001b[0m\n\u001b[0m\u001b[1;32m    728\u001b[0m   \u001b[0;32mif\u001b[0m \u001b[0mnreps\u001b[0m \u001b[0;34m==\u001b[0m \u001b[0;36m1\u001b[0m\u001b[0;34m:\u001b[0m\u001b[0;34m\u001b[0m\u001b[0;34m\u001b[0m\u001b[0m\n\u001b[1;32m    729\u001b[0m     \u001b[0;32mreturn\u001b[0m \u001b[0mpartial\u001b[0m\u001b[0;34m(\u001b[0m\u001b[0m_execute_compiled\u001b[0m\u001b[0;34m,\u001b[0m \u001b[0mcompiled\u001b[0m\u001b[0;34m,\u001b[0m \u001b[0mout_avals\u001b[0m\u001b[0;34m,\u001b[0m \u001b[0mresult_handlers\u001b[0m\u001b[0;34m)\u001b[0m\u001b[0;34m\u001b[0m\u001b[0;34m\u001b[0m\u001b[0m\n",
      "\u001b[0;32m~/Documents/research/venv/lib/python3.8/site-packages/jax/interpreters/xla.py\u001b[0m in \u001b[0;36mbackend_compile\u001b[0;34m(backend, built_c, options)\u001b[0m\n\u001b[1;32m    350\u001b[0m   \u001b[0;31m# we use a separate function call to ensure that XLA compilation appears\u001b[0m\u001b[0;34m\u001b[0m\u001b[0;34m\u001b[0m\u001b[0;34m\u001b[0m\u001b[0m\n\u001b[1;32m    351\u001b[0m   \u001b[0;31m# separately in Python profiling results\u001b[0m\u001b[0;34m\u001b[0m\u001b[0;34m\u001b[0m\u001b[0;34m\u001b[0m\u001b[0m\n\u001b[0;32m--> 352\u001b[0;31m   \u001b[0;32mreturn\u001b[0m \u001b[0mbackend\u001b[0m\u001b[0;34m.\u001b[0m\u001b[0mcompile\u001b[0m\u001b[0;34m(\u001b[0m\u001b[0mbuilt_c\u001b[0m\u001b[0;34m,\u001b[0m \u001b[0mcompile_options\u001b[0m\u001b[0;34m=\u001b[0m\u001b[0moptions\u001b[0m\u001b[0;34m)\u001b[0m\u001b[0;34m\u001b[0m\u001b[0;34m\u001b[0m\u001b[0m\n\u001b[0m\u001b[1;32m    353\u001b[0m \u001b[0;34m\u001b[0m\u001b[0m\n\u001b[1;32m    354\u001b[0m \u001b[0;32mdef\u001b[0m \u001b[0m_execute_compiled_primitive\u001b[0m\u001b[0;34m(\u001b[0m\u001b[0mprim\u001b[0m\u001b[0;34m,\u001b[0m \u001b[0mcompiled\u001b[0m\u001b[0;34m,\u001b[0m \u001b[0mresult_handler\u001b[0m\u001b[0;34m,\u001b[0m \u001b[0;34m*\u001b[0m\u001b[0margs\u001b[0m\u001b[0;34m)\u001b[0m\u001b[0;34m:\u001b[0m\u001b[0;34m\u001b[0m\u001b[0;34m\u001b[0m\u001b[0m\n",
      "\u001b[0;31mKeyboardInterrupt\u001b[0m: "
     ]
    }
   ],
   "source": [
    "\n",
    "R = 5\n",
    "n = 50 # number of step sizes to try at first\n",
    "r = R/13\n",
    "thin_step = 10\n",
    "eta = 3 # cut trials by 3 every time\n",
    "\n",
    "print(f\"r={r:.3f}\")\n",
    "key = random.PRNGKey(11)\n",
    "\n",
    "sampler_dict_sgld = run_SH_keep_last_chains(key, r, n ,eta, thin_step, LR_succ_halving, X_train.shape[0])"
   ]
  },
  {
   "cell_type": "code",
   "execution_count": null,
   "metadata": {},
   "outputs": [],
   "source": [
    "for k,v in sampler_dict_sgld.items():\n",
    "    print(k, v.len_samples*10, v.KSD)"
   ]
  },
  {
   "cell_type": "code",
   "execution_count": null,
   "metadata": {},
   "outputs": [],
   "source": []
  },
  {
   "cell_type": "code",
   "execution_count": null,
   "metadata": {},
   "outputs": [],
   "source": []
  },
  {
   "cell_type": "code",
   "execution_count": null,
   "metadata": {},
   "outputs": [],
   "source": []
  },
  {
   "cell_type": "code",
   "execution_count": 15,
   "metadata": {},
   "outputs": [
    {
     "name": "stdout",
     "output_type": "stream",
     "text": [
      "(-5.3472385, 0.010722672) 29710 8.076403\n",
      "(-4.685606, 0.03274549) 29350 8.810079\n",
      "(-3.9086819, 0.6135907) 4110 12.372679\n"
     ]
    }
   ],
   "source": [
    "for k,v in sampler_dict_sgld.items():\n",
    "    print(k, v.len_samples*10, v.KSD)"
   ]
  },
  {
   "cell_type": "markdown",
   "metadata": {},
   "source": [
    "#### Try `R=1`"
   ]
  },
  {
   "cell_type": "code",
   "execution_count": 8,
   "metadata": {},
   "outputs": [
    {
     "name": "stdout",
     "output_type": "stream",
     "text": [
      "r=0.077\n",
      "Number of iterations: 3\n",
      "Total budget: around 11 sec\n",
      "=====\n",
      "\n",
      "Iteration 0: 50 configurations with 0.077 seconds each\n",
      "Combinations: [(-5.3472385, 0.010722672), (-6.5879703, 0.03274549), (-3.474164, 0.001), (-2.7404356, 0.061359067), (-4.5657535, 0.8111308), (-2.806858, 0.75646335), (-3.1919081, 0.15199111), (-3.148088, 0.08111308), (-3.753182, 0.0132194115), (-6.8216534, 0.0013219408), (-4.0242715, 0.046415884), (-5.0209155, 0.014174741), (-4.1753, 0.46415886), (-4.5552917, 0.5722368), (-4.685606, 0.03274549), (-5.98359, 0.0015199113), (-5.524322, 0.30538556), (-5.566685, 0.35111916), (-5.328536, 0.0013219408), (-6.7556458, 0.040370174), (-2.8534408, 0.18738173), (-5.9623804, 0.037649363), (-4.3060584, 0.0014174745), (-4.8315105, 0.008697491), (-4.534036, 0.01), (-3.0582876, 0.0015199113), (-6.9542356, 0.0017475284), (-6.2046223, 0.0040370165), (-6.7100286, 0.00811131), (-4.124953, 0.30538556), (-5.2651687, 0.003274549), (-5.7729683, 0.24770762), (-6.160528, 0.012328468), (-4.828936, 0.01629751), (-4.7954726, 0.0020092328), (-2.736679, 0.75646335), (-6.0568123, 0.0012328465), (-5.296714, 0.0017475284), (-5.969054, 0.30538556), (-5.8429413, 0.0040370165), (-3.1186786, 0.03274549), (-6.1952157, 0.107226714), (-3.5000439, 0.0070548006), (-4.0045133, 0.008697491), (-2.6615286, 0.026560875), (-5.184237, 1.0), (-2.272478, 0.0011497568), (-3.9086819, 0.6135907), (-2.6119347, 0.01), (-3.08562, 0.13219412)]\n",
      "Number of samples: \n",
      "[44, 46, 41, 28, 6, 6, 15, 23, 47, 42, 33, 47, 9, 7, 46, 42, 11, 10, 42, 35, 14, 34, 42, 44, 47, 41, 40, 44, 44, 10, 43, 12, 46, 46, 42, 6, 43, 43, 11, 43, 45, 19, 46, 47, 46, 5, 42, 7, 46, 16]\n",
      "Calculating KSD for each sampler\n",
      "\n",
      "Iteration 1: 16 configurations with 0.231 seconds each\n",
      "Combinations: [(-4.1753, 0.46415886), (-4.534036, 0.01), (-4.0242715, 0.046415884), (-3.9086819, 0.6135907), (-4.124953, 0.30538556), (-4.5552917, 0.5722368), (-3.753182, 0.0132194115), (-4.5657535, 0.8111308), (-4.685606, 0.03274549), (-4.828936, 0.01629751), (-4.0045133, 0.008697491), (-5.0209155, 0.014174741), (-4.8315105, 0.008697491), (-5.3472385, 0.010722672), (-4.7954726, 0.0020092328), (-5.524322, 0.30538556)]\n",
      "Number of samples: \n",
      "[32, 179, 122, 27, 42, 28, 180, 23, 182, 184, 188, 185, 176, 185, 168, 43]\n",
      "Calculating KSD for each sampler\n",
      "\n",
      "Iteration 2: 5 configurations with 0.692 seconds each\n",
      "Combinations: [(-4.0242715, 0.046415884), (-3.9086819, 0.6135907), (-4.685606, 0.03274549), (-4.828936, 0.01629751), (-5.0209155, 0.014174741)]\n",
      "Number of samples: \n",
      "[413, 86, 589, 604, 605]\n",
      "Calculating KSD for each sampler\n",
      "Running time: 82.65sec\n"
     ]
    }
   ],
   "source": [
    "R = 1\n",
    "n = 50 # number of step sizes to try at first\n",
    "r = R/13\n",
    "thin_step = 10\n",
    "eta = 3 # cut trials by 3 every time\n",
    "\n",
    "print(f\"r={r:.3f}\")\n",
    "key = random.PRNGKey(11)\n",
    "\n",
    "sampler_dict_sgld = run_SH_keep_last_chains(key, r, n ,eta, thin_step, LR_succ_halving, X_train.shape[0])"
   ]
  },
  {
   "cell_type": "code",
   "execution_count": 10,
   "metadata": {},
   "outputs": [
    {
     "name": "stdout",
     "output_type": "stream",
     "text": [
      "(-4.0242715, 0.046415884) 4130 21.680069\n",
      "(-4.828936, 0.01629751) 6040 26.373127\n",
      "(-4.685606, 0.03274549) 5890 26.975115\n"
     ]
    }
   ],
   "source": [
    "# key=11, R=1\n",
    "for k,v in sampler_dict_sgld.items():\n",
    "    print(k, v.len_samples*10, v.KSD)"
   ]
  },
  {
   "cell_type": "code",
   "execution_count": null,
   "metadata": {},
   "outputs": [],
   "source": []
  },
  {
   "cell_type": "code",
   "execution_count": null,
   "metadata": {},
   "outputs": [],
   "source": []
  },
  {
   "cell_type": "code",
   "execution_count": null,
   "metadata": {},
   "outputs": [],
   "source": []
  },
  {
   "cell_type": "code",
   "execution_count": null,
   "metadata": {},
   "outputs": [],
   "source": []
  },
  {
   "cell_type": "code",
   "execution_count": 27,
   "metadata": {},
   "outputs": [],
   "source": [
    "def run_sgld_sampler(time_budget):\n",
    "    key = random.PRNGKey(0)\n",
    "#     dt = 10**(-4.18)\n",
    "#     batch_size = int(X_train.shape[0]*0.46)\n",
    "    dt = 10**(-4.69)\n",
    "#     batch_size = int(X_train.shape[0]*0.033)\n",
    "    batch_size = int(X_train.shape[0]*0.1)\n",
    "    \n",
    "    x_0 = theta_true\n",
    "    samples, _ = sgld_time_budget(key, val_and_grad_log_post, X_train, y_train, \n",
    "                                                   time_budget, dt, batch_size, x_0)\n",
    "    return samples"
   ]
  },
  {
   "cell_type": "code",
   "execution_count": 28,
   "metadata": {},
   "outputs": [],
   "source": [
    "samples = run_sgld_sampler(5)"
   ]
  },
  {
   "cell_type": "code",
   "execution_count": 29,
   "metadata": {},
   "outputs": [
    {
     "data": {
      "text/plain": [
       "(12903, 10)"
      ]
     },
     "execution_count": 29,
     "metadata": {},
     "output_type": "execute_result"
    }
   ],
   "source": [
    "samples.shape"
   ]
  },
  {
   "cell_type": "code",
   "execution_count": 30,
   "metadata": {},
   "outputs": [],
   "source": [
    "fb_grads = get_fb_grads_batches(samples, 5000)\n",
    "# fb_grads = batch_grad_lp_LR_fb(samples)\n",
    "wait_until_computed(fb_grads)"
   ]
  },
  {
   "cell_type": "code",
   "execution_count": 31,
   "metadata": {},
   "outputs": [
    {
     "data": {
      "text/plain": [
       "DeviceArray(15.654375, dtype=float32)"
      ]
     },
     "execution_count": 31,
     "metadata": {},
     "output_type": "execute_result"
    }
   ],
   "source": [
    "imq_KSD(samples, fb_grads)"
   ]
  },
  {
   "cell_type": "code",
   "execution_count": null,
   "metadata": {},
   "outputs": [],
   "source": []
  },
  {
   "cell_type": "code",
   "execution_count": null,
   "metadata": {},
   "outputs": [],
   "source": []
  },
  {
   "cell_type": "code",
   "execution_count": null,
   "metadata": {},
   "outputs": [],
   "source": []
  },
  {
   "cell_type": "code",
   "execution_count": null,
   "metadata": {},
   "outputs": [],
   "source": []
  },
  {
   "cell_type": "markdown",
   "metadata": {},
   "source": [
    "### find KSD for 4 samplers:\n",
    "\n",
    "- 3 SH samplers\n",
    "- default sampler"
   ]
  },
  {
   "cell_type": "code",
   "execution_count": 36,
   "metadata": {},
   "outputs": [],
   "source": [
    "def get_fb_grads_batches(samples, calc_batch_size):\n",
    "    \"\"\"\n",
    "    Calculate the fullbatch gradients, but in batches\n",
    "    \"\"\"\n",
    "    list_grads = []\n",
    "    len_sgld = samples.shape[0]\n",
    "    num_steps = int(np.ceil(len_sgld/calc_batch_size))\n",
    "    for i in range(num_steps):\n",
    "        new_grads = batch_grad_lp_LR_fb(samples[i*calc_batch_size:(i+1)*calc_batch_size])\n",
    "        wait_until_computed(new_grads)\n",
    "        list_grads.append(new_grads)\n",
    "    fb_grads = jnp.concatenate(list_grads, axis=0)\n",
    "    return fb_grads"
   ]
  },
  {
   "cell_type": "code",
   "execution_count": 87,
   "metadata": {},
   "outputs": [
    {
     "name": "stdout",
     "output_type": "stream",
     "text": [
      "(115727, 10)\n"
     ]
    }
   ],
   "source": [
    "key = random.PRNGKey(100)\n",
    "time_budget = 20\n",
    "\n",
    "# default\n",
    "dt = 10**(-4.83)\n",
    "batch_size = int(X_train.shape[0]*0.016)\n",
    "\n",
    "# SH1\n",
    "# dt = 10**(-4.685606)\n",
    "# batch_size = int(X_train.shape[0]*0.03274549)\n",
    "\n",
    "# SH 2\n",
    "# dt = 10**(-5.3472385)\n",
    "# batch_size = int(X_train.shape[0]*0.010722672)\n",
    "\n",
    "# SH3\n",
    "# dt = 10**(-3.9086819)\n",
    "# batch_size = int(X_train.shape[0]*0.6135907)\n",
    "\n",
    "\n",
    "samples_test, sgld_grads = sgld_time_budget(key, val_and_grad_log_post, X_train,\n",
    "                                       y_train, time_budget, dt,\n",
    "                                       batch_size=batch_size, x_0=theta_true)\n",
    "\n",
    "print(samples_test.shape)\n"
   ]
  },
  {
   "cell_type": "code",
   "execution_count": 88,
   "metadata": {},
   "outputs": [
    {
     "name": "stdout",
     "output_type": "stream",
     "text": [
      "Calculating grads\n",
      "Done.\n"
     ]
    }
   ],
   "source": [
    "print(\"Calculating grads\")\n",
    "# fb_grads_t est = batch_grad_lp_LR_fb(samples_test)\n",
    "fb_grads_test = get_fb_grads_batches(samples_test[::10], 1000)\n",
    "wait_until_computed(fb_grads_test)\n",
    "print(\"Done.\")"
   ]
  },
  {
   "cell_type": "code",
   "execution_count": 89,
   "metadata": {},
   "outputs": [
    {
     "name": "stdout",
     "output_type": "stream",
     "text": [
      "10.497722\n"
     ]
    }
   ],
   "source": [
    "ksd_est_10_default = imq_KSD(samples_test[::10], fb_grads_test)\n",
    "print(ksd_est_10_default)"
   ]
  },
  {
   "cell_type": "code",
   "execution_count": 90,
   "metadata": {},
   "outputs": [
    {
     "data": {
      "text/plain": [
       "[<matplotlib.lines.Line2D at 0x156981a90>]"
      ]
     },
     "execution_count": 90,
     "metadata": {},
     "output_type": "execute_result"
    },
    {
     "data": {
      "image/png": "[encoded data removed]",
      "text/plain": [
       "<Figure size 432x288 with 1 Axes>"
      ]
     },
     "metadata": {
      "needs_background": "light"
     },
     "output_type": "display_data"
    }
   ],
   "source": [
    "plt.plot(samples_test[:,0])"
   ]
  },
  {
   "cell_type": "code",
   "execution_count": null,
   "metadata": {},
   "outputs": [],
   "source": []
  },
  {
   "cell_type": "code",
   "execution_count": null,
   "metadata": {},
   "outputs": [],
   "source": []
  },
  {
   "cell_type": "code",
   "execution_count": null,
   "metadata": {},
   "outputs": [],
   "source": []
  },
  {
   "cell_type": "code",
   "execution_count": 36,
   "metadata": {},
   "outputs": [
    {
     "name": "stdout",
     "output_type": "stream",
     "text": [
      "5.871018\n"
     ]
    }
   ],
   "source": [
    "# ksd_est_10_SH1 = imq_KSD(samples_test, fb_grads_test)\n",
    "# print(ksd_est_10_SH1)"
   ]
  },
  {
   "cell_type": "code",
   "execution_count": 39,
   "metadata": {},
   "outputs": [
    {
     "name": "stdout",
     "output_type": "stream",
     "text": [
      "11.219183\n"
     ]
    }
   ],
   "source": [
    "ksd_est_10_SH2 = imq_KSD(samples_test, fb_grads_test)\n",
    "print(ksd_est_10_SH2)"
   ]
  },
  {
   "cell_type": "code",
   "execution_count": 25,
   "metadata": {},
   "outputs": [
    {
     "name": "stdout",
     "output_type": "stream",
     "text": [
      "4.649565\n"
     ]
    }
   ],
   "source": [
    "# ksd_est_10_SH3 = imq_KSD(samples_test, fb_grads_test)\n",
    "# print(ksd_est_10_SH3)"
   ]
  },
  {
   "cell_type": "code",
   "execution_count": null,
   "metadata": {},
   "outputs": [],
   "source": []
  },
  {
   "cell_type": "code",
   "execution_count": null,
   "metadata": {},
   "outputs": [],
   "source": []
  },
  {
   "cell_type": "code",
   "execution_count": null,
   "metadata": {},
   "outputs": [],
   "source": []
  },
  {
   "cell_type": "markdown",
   "metadata": {},
   "source": [
    "## SGLD with control variates"
   ]
  },
  {
   "cell_type": "code",
   "execution_count": 10,
   "metadata": {},
   "outputs": [
    {
     "data": {
      "text/plain": [
       "Text(0, 0.5, 'KSD')"
      ]
     },
     "execution_count": 10,
     "metadata": {},
     "output_type": "execute_result"
    },
    {
     "data": {
      "image/png": "[encoded data removed]",
      "text/plain": [
       "<Figure size 432x288 with 1 Axes>"
      ]
     },
     "metadata": {
      "needs_background": "light"
     },
     "output_type": "display_data"
    }
   ],
   "source": [
    "my_sgld = LR_CV_succ_halving(random.PRNGKey(0), logdt=-4., batch_size_ratio=0.1, thin_step=1)\n",
    "\n",
    "num_l = 2\n",
    "\n",
    "ksd_list = []\n",
    "\n",
    "\n",
    "for i in range(num_l):\n",
    "    my_sgld.run(0.4)\n",
    "    ksd_list.append(my_sgld.get_ksd())\n",
    "\n",
    "plt.plot(ksd_list, marker=\"+\")\n",
    "plt.ylabel(\"KSD\", size=18)"
   ]
  },
  {
   "cell_type": "code",
   "execution_count": null,
   "metadata": {},
   "outputs": [],
   "source": []
  },
  {
   "cell_type": "markdown",
   "metadata": {},
   "source": [
    "### `R=5`"
   ]
  },
  {
   "cell_type": "code",
   "execution_count": 69,
   "metadata": {},
   "outputs": [
    {
     "name": "stdout",
     "output_type": "stream",
     "text": [
      "Number of iterations: 3\n",
      "Total budget: around 57 sec\n",
      "=====\n",
      "\n",
      "Iteration 0: 50 configurations with 0.385 seconds each\n",
      "Combinations: [(-5.3472385, 0.010722672), (-6.5879703, 0.03274549), (-3.474164, 0.001), (-2.7404356, 0.061359067), (-4.5657535, 0.8111308), (-2.806858, 0.75646335), (-3.1919081, 0.15199111), (-3.148088, 0.08111308), (-3.753182, 0.0132194115), (-6.8216534, 0.0013219408), (-4.0242715, 0.046415884), (-5.0209155, 0.014174741), (-4.1753, 0.46415886), (-4.5552917, 0.5722368), (-4.685606, 0.03274549), (-5.98359, 0.0015199113), (-5.524322, 0.30538556), (-5.566685, 0.35111916), (-5.328536, 0.0013219408), (-6.7556458, 0.040370174), (-2.8534408, 0.18738173), (-5.9623804, 0.037649363), (-4.3060584, 0.0014174745), (-4.8315105, 0.008697491), (-4.534036, 0.01), (-3.0582876, 0.0015199113), (-6.9542356, 0.0017475284), (-6.2046223, 0.0040370165), (-6.7100286, 0.00811131), (-4.124953, 0.30538556), (-5.2651687, 0.003274549), (-5.7729683, 0.24770762), (-6.160528, 0.012328468), (-4.828936, 0.01629751), (-4.7954726, 0.0020092328), (-2.736679, 0.75646335), (-6.0568123, 0.0012328465), (-5.296714, 0.0017475284), (-5.969054, 0.30538556), (-5.8429413, 0.0040370165), (-3.1186786, 0.03274549), (-6.1952157, 0.107226714), (-3.5000439, 0.0070548006), (-4.0045133, 0.008697491), (-2.6615286, 0.026560875), (-5.184237, 1.0), (-2.272478, 0.0011497568), (-3.9086819, 0.6135907), (-2.6119347, 0.01), (-3.08562, 0.13219412)]\n",
      "Number of samples: \n",
      "[209, 177, 191, 114, 19, 19, 57, 89, 202, 193, 128, 196, 28, 25, 188, 191, 39, 36, 190, 141, 54, 149, 188, 201, 204, 184, 188, 192, 202, 39, 196, 46, 210, 202, 194, 18, 191, 183, 40, 197, 180, 74, 199, 197, 194, 17, 186, 23, 201, 62]\n",
      "Calculating KSD for each sampler\n",
      "\n",
      "Iteration 1: 16 configurations with 1.154 seconds each\n",
      "Combinations: [(-3.753182, 0.0132194115), (-3.5000439, 0.0070548006), (-3.474164, 0.001), (-4.0045133, 0.008697491), (-4.0242715, 0.046415884), (-4.3060584, 0.0014174745), (-4.534036, 0.01), (-4.685606, 0.03274549), (-4.7954726, 0.0020092328), (-4.828936, 0.01629751), (-4.8315105, 0.008697491), (-4.124953, 0.30538556), (-3.9086819, 0.6135907), (-5.0209155, 0.014174741), (-4.1753, 0.46415886), (-2.272478, 0.0011497568)]\n",
      "Number of samples: \n",
      "[792, 818, 735, 822, 547, 765, 824, 736, 772, 808, 823, 151, 90, 815, 113, 754]\n",
      "Calculating KSD for each sampler\n",
      "\n",
      "Iteration 2: 5 configurations with 3.462 seconds each\n",
      "Combinations: [(-3.5000439, 0.0070548006), (-3.753182, 0.0132194115), (-4.0045133, 0.008697491), (-3.474164, 0.001), (-4.0242715, 0.046415884)]\n",
      "Number of samples: \n",
      "[2704, 2670, 2768, 2459, 1667]\n",
      "Calculating KSD for each sampler\n",
      "Running time: 84.35sec\n"
     ]
    }
   ],
   "source": [
    "R = 5   \n",
    "thin_step = 10\n",
    "r = R/13\n",
    "n = 50\n",
    "eta = 3\n",
    "\n",
    "key = random.PRNGKey(11)\n",
    "\n",
    "sampler_dict_sgldCV = run_SH_keep_last_chains(key, r, n ,eta, thin_step, LR_CV_succ_halving, X_train.shape[0])"
   ]
  },
  {
   "cell_type": "code",
   "execution_count": 70,
   "metadata": {},
   "outputs": [
    {
     "name": "stdout",
     "output_type": "stream",
     "text": [
      "(-3.753182, 0.0132194115) 26700 15.157138\n",
      "(-3.5000439, 0.0070548006) 27040 15.444049\n",
      "(-4.0045133, 0.008697491) 27680 20.379412\n"
     ]
    }
   ],
   "source": [
    "# key = 11, R=5\n",
    "for k,v in sampler_dict_sgldCV.items():\n",
    "    print(k, v.len_samples*10, v.KSD)"
   ]
  },
  {
   "cell_type": "code",
   "execution_count": null,
   "metadata": {},
   "outputs": [],
   "source": []
  },
  {
   "cell_type": "markdown",
   "metadata": {},
   "source": [
    "### `R=1`"
   ]
  },
  {
   "cell_type": "code",
   "execution_count": 74,
   "metadata": {},
   "outputs": [
    {
     "name": "stdout",
     "output_type": "stream",
     "text": [
      "Number of iterations: 3\n",
      "Total budget: around 11 sec\n",
      "=====\n",
      "\n",
      "Iteration 0: 50 configurations with 0.077 seconds each\n",
      "Combinations: [(-5.3472385, 0.010722672), (-6.5879703, 0.03274549), (-3.474164, 0.001), (-2.7404356, 0.061359067), (-4.5657535, 0.8111308), (-2.806858, 0.75646335), (-3.1919081, 0.15199111), (-3.148088, 0.08111308), (-3.753182, 0.0132194115), (-6.8216534, 0.0013219408), (-4.0242715, 0.046415884), (-5.0209155, 0.014174741), (-4.1753, 0.46415886), (-4.5552917, 0.5722368), (-4.685606, 0.03274549), (-5.98359, 0.0015199113), (-5.524322, 0.30538556), (-5.566685, 0.35111916), (-5.328536, 0.0013219408), (-6.7556458, 0.040370174), (-2.8534408, 0.18738173), (-5.9623804, 0.037649363), (-4.3060584, 0.0014174745), (-4.8315105, 0.008697491), (-4.534036, 0.01), (-3.0582876, 0.0015199113), (-6.9542356, 0.0017475284), (-6.2046223, 0.0040370165), (-6.7100286, 0.00811131), (-4.124953, 0.30538556), (-5.2651687, 0.003274549), (-5.7729683, 0.24770762), (-6.160528, 0.012328468), (-4.828936, 0.01629751), (-4.7954726, 0.0020092328), (-2.736679, 0.75646335), (-6.0568123, 0.0012328465), (-5.296714, 0.0017475284), (-5.969054, 0.30538556), (-5.8429413, 0.0040370165), (-3.1186786, 0.03274549), (-6.1952157, 0.107226714), (-3.5000439, 0.0070548006), (-4.0045133, 0.008697491), (-2.6615286, 0.026560875), (-5.184237, 1.0), (-2.272478, 0.0011497568), (-3.9086819, 0.6135907), (-2.6119347, 0.01), (-3.08562, 0.13219412)]\n",
      "Number of samples: \n",
      "[40, 38, 37, 22, 4, 4, 12, 18, 42, 39, 27, 38, 6, 5, 38, 36, 8, 8, 35, 30, 11, 31, 40, 41, 42, 37, 38, 37, 42, 8, 39, 10, 43, 41, 38, 4, 38, 37, 8, 41, 37, 16, 45, 43, 43, 4, 39, 5, 43, 14]\n",
      "Calculating KSD for each sampler\n",
      "\n",
      "Iteration 1: 16 configurations with 0.231 seconds each\n",
      "Combinations: [(-3.753182, 0.0132194115), (-3.5000439, 0.0070548006), (-4.0045133, 0.008697491), (-3.474164, 0.001), (-4.0242715, 0.046415884), (-4.3060584, 0.0014174745), (-4.534036, 0.01), (-4.685606, 0.03274549), (-4.8315105, 0.008697491), (-4.828936, 0.01629751), (-4.7954726, 0.0020092328), (-2.272478, 0.0011497568), (-3.0582876, 0.0015199113), (-4.124953, 0.30538556), (-3.9086819, 0.6135907), (-5.0209155, 0.014174741)]\n",
      "Number of samples: \n",
      "[161, 160, 161, 149, 107, 152, 163, 144, 163, 160, 149, 146, 148, 32, 18, 153]\n",
      "Calculating KSD for each sampler\n",
      "\n",
      "Iteration 2: 5 configurations with 0.692 seconds each\n",
      "Combinations: [(-3.5000439, 0.0070548006), (-3.753182, 0.0132194115), (-3.474164, 0.001), (-4.0045133, 0.008697491), (-4.0242715, 0.046415884)]\n",
      "Number of samples: \n",
      "[519, 516, 469, 521, 341]\n",
      "Calculating KSD for each sampler\n",
      "Running time: 17.59sec\n"
     ]
    }
   ],
   "source": [
    "R = 1\n",
    "thin_step = 10\n",
    "r = R/13\n",
    "n = 50\n",
    "eta = 3\n",
    "\n",
    "key = random.PRNGKey(11)\n",
    "\n",
    "sampler_dict_sgldCV = run_SH_keep_last_chains(key, r, n ,eta, thin_step, LR_CV_succ_halving, X_train.shape[0])"
   ]
  },
  {
   "cell_type": "code",
   "execution_count": 75,
   "metadata": {},
   "outputs": [
    {
     "name": "stdout",
     "output_type": "stream",
     "text": [
      "(-3.753182, 0.0132194115) 5160 72.95145\n",
      "(-3.5000439, 0.0070548006) 5190 76.54839\n",
      "(-3.474164, 0.001) 4690 77.992676\n"
     ]
    }
   ],
   "source": [
    "# key = 11, R=1\n",
    "for k,v in sampler_dict_sgldCV.items():\n",
    "    print(k, v.len_samples*10, v.KSD)"
   ]
  },
  {
   "cell_type": "code",
   "execution_count": null,
   "metadata": {},
   "outputs": [],
   "source": []
  },
  {
   "cell_type": "code",
   "execution_count": null,
   "metadata": {},
   "outputs": [],
   "source": []
  },
  {
   "cell_type": "code",
   "execution_count": null,
   "metadata": {},
   "outputs": [],
   "source": []
  },
  {
   "cell_type": "code",
   "execution_count": 46,
   "metadata": {},
   "outputs": [
    {
     "name": "stdout",
     "output_type": "stream",
     "text": [
      "(-3.753182, 0.0132194115) 5300 70.86679\n",
      "(-3.5000439, 0.0070548006) 5510 72.969536\n",
      "(-4.0045133, 0.008697491) 5550 98.58317\n"
     ]
    }
   ],
   "source": [
    "for k,v in sampler_dict_sgldCV.items():\n",
    "    print(k, v.len_samples*10, v.KSD)"
   ]
  },
  {
   "cell_type": "code",
   "execution_count": 53,
   "metadata": {},
   "outputs": [
    {
     "name": "stdout",
     "output_type": "stream",
     "text": [
      "(-3.753182, 0.0132194115) 26830 15.099582\n",
      "(-3.5000439, 0.0070548006) 27800 15.714017\n",
      "(-4.0045133, 0.008697491) 27840 20.4429\n"
     ]
    }
   ],
   "source": [
    "# key = 11\n",
    "for k,v in sampler_dict_sgldCV.items():\n",
    "    print(k, v.len_samples*10, v.KSD)"
   ]
  },
  {
   "cell_type": "code",
   "execution_count": null,
   "metadata": {},
   "outputs": [],
   "source": []
  },
  {
   "cell_type": "code",
   "execution_count": 33,
   "metadata": {},
   "outputs": [],
   "source": [
    "def get_fb_grads_batches(samples, calc_batch_size):\n",
    "    \"\"\"\n",
    "    Calculate the fullbatch gradients, but in batches\n",
    "    \"\"\"\n",
    "    list_grads = []\n",
    "    len_sgld = samples.shape[0]\n",
    "\n",
    "    num_steps = int(np.ceil(len_sgld/calc_batch_size))\n",
    "\n",
    "    num_steps = int(np.ceil(len_sgld/calc_batch_size))\n",
    "    for i in range(num_steps):\n",
    "        new_grads = batch_grad_lp_LR_fb(samples[i*calc_batch_size:(i+1)*calc_batch_size])\n",
    "        wait_until_computed(new_grads)\n",
    "        list_grads.append(new_grads)\n",
    "    fb_grads = jnp.concatenate(list_grads, axis=0)\n",
    "    return fb_grads"
   ]
  },
  {
   "cell_type": "code",
   "execution_count": 47,
   "metadata": {},
   "outputs": [
    {
     "name": "stdout",
     "output_type": "stream",
     "text": [
      "(5355, 10)\n"
     ]
    }
   ],
   "source": [
    "key = random.PRNGKey(100)\n",
    "time_budget = 1\n",
    "dt = 10**(-3.75)\n",
    "batch_size = int(X_train.shape[0]*0.013)\n",
    "\n",
    "# random test\n",
    "# dt = 10**(-4.99999)\n",
    "# batch_size = int(X_train.shape[0]*10**(-4.12))\n",
    "\n",
    "# samples_test, _ = sgld_time_budget_CV(key, val_and_grad_log_post, X_train, y_train, \n",
    "#                                       time_budget, dt, batch_size, theta_true, theta_true)\n",
    "samples_test, sgld_grads = sgld_time_budget_CV(key, val_and_grad_log_post, X_train,\n",
    "                                       y_train, time_budget, dt,\n",
    "                                       batch_size=batch_size, mean_param=theta_true, x_0=theta_true)\n",
    "\n",
    "print(samples_test.shape)\n"
   ]
  },
  {
   "cell_type": "code",
   "execution_count": 48,
   "metadata": {},
   "outputs": [
    {
     "name": "stdout",
     "output_type": "stream",
     "text": [
      "Calculating grads\n",
      "Done.\n"
     ]
    }
   ],
   "source": [
    "print(\"Calculating grads\")\n",
    "# fb_grads_t est = batch_grad_lp_LR_fb(samples_test)\n",
    "fb_grads_test = get_fb_grads_batches(samples_test[::5], 1000)\n",
    "wait_until_computed(fb_grads_test)\n",
    "print(\"Done.\")"
   ]
  },
  {
   "cell_type": "code",
   "execution_count": 36,
   "metadata": {},
   "outputs": [
    {
     "data": {
      "text/plain": [
       "Buffer(19.535473, dtype=float32)"
      ]
     },
     "execution_count": 36,
     "metadata": {},
     "output_type": "execute_result"
    }
   ],
   "source": [
    "# 1 second runs\n",
    "\n",
    "# -3.46, 0.0025\n",
    "imq_KSD(samples_test[::5], fb_grads_test)"
   ]
  },
  {
   "cell_type": "code",
   "execution_count": 39,
   "metadata": {},
   "outputs": [
    {
     "data": {
      "text/plain": [
       "DeviceArray(18.837385, dtype=float32)"
      ]
     },
     "execution_count": 39,
     "metadata": {},
     "output_type": "execute_result"
    }
   ],
   "source": [
    "# 1 second runs\n",
    "\n",
    "# -3.5, 0.0033\n",
    "imq_KSD(samples_test[::5], fb_grads_test)"
   ]
  },
  {
   "cell_type": "code",
   "execution_count": 43,
   "metadata": {},
   "outputs": [
    {
     "data": {
      "text/plain": [
       "DeviceArray(11.805831, dtype=float32)"
      ]
     },
     "execution_count": 43,
     "metadata": {},
     "output_type": "execute_result"
    }
   ],
   "source": [
    "# 1 second runs\n",
    "\n",
    "# 3.97, 0.0053\n",
    "imq_KSD(samples_test[::5], fb_grads_test)"
   ]
  },
  {
   "cell_type": "code",
   "execution_count": 49,
   "metadata": {},
   "outputs": [
    {
     "data": {
      "text/plain": [
       "DeviceArray(8.819283, dtype=float32)"
      ]
     },
     "execution_count": 49,
     "metadata": {},
     "output_type": "execute_result"
    }
   ],
   "source": [
    "# 3.75, 0.013\n",
    "imq_KSD(samples_test[::5], fb_grads_test)"
   ]
  },
  {
   "cell_type": "code",
   "execution_count": null,
   "metadata": {},
   "outputs": [],
   "source": []
  },
  {
   "cell_type": "code",
   "execution_count": null,
   "metadata": {},
   "outputs": [],
   "source": []
  },
  {
   "cell_type": "markdown",
   "metadata": {},
   "source": [
    "# SG-HMC: tune L as well as dt and b_s_r"
   ]
  },
  {
   "cell_type": "code",
   "execution_count": 16,
   "metadata": {},
   "outputs": [
    {
     "name": "stdout",
     "output_type": "stream",
     "text": [
      "(383, 10)\n"
     ]
    },
    {
     "data": {
      "text/plain": [
       "[<matplotlib.lines.Line2D at 0x13cd36a60>]"
      ]
     },
     "execution_count": 16,
     "metadata": {},
     "output_type": "execute_result"
    },
    {
     "data": {
      "image/png": "[encoded data removed]",
      "text/plain": [
       "<Figure size 432x288 with 1 Axes>"
      ]
     },
     "metadata": {
      "needs_background": "light"
     },
     "output_type": "display_data"
    }
   ],
   "source": [
    "time_budget = 1\n",
    "dt = 1e-6\n",
    "batch_size = int(0.1*X_train.shape[0])\n",
    "alpha = 0.01\n",
    "L = 10\n",
    "key = random.PRNGKey(0)\n",
    "\n",
    "\n",
    "samples_hmc, grads_hmc = sghmc_time_budget(key, val_and_grad_log_post, X_train, y_train, time_budget, dt, batch_size, theta_true, alpha, L,)\n",
    "\n",
    "print(samples_hmc.shape)\n",
    "\n",
    "plt.plot(samples_hmc[:,0])"
   ]
  },
  {
   "cell_type": "code",
   "execution_count": 17,
   "metadata": {},
   "outputs": [],
   "source": [
    "class LR_succ_halving_HMC_L(Base_SGLD_SuccHalv_Time):\n",
    "    \n",
    "    def __init__(self, key, logdt, batch_size_ratio, L, thin_step):\n",
    "        self.key = key\n",
    "        self.logdt = logdt\n",
    "        self.batch_size_ratio = batch_size_ratio\n",
    "        self.x_0 = theta_true\n",
    "        self.L = L\n",
    "        self.alpha = 0.01\n",
    "        self.thin_step = thin_step\n",
    "        super(LR_succ_halving_HMC_L, self).__init__(self.key, self.logdt, self.x_0)\n",
    "        \n",
    "    def _run_sampler(self, key, time_budget, x_0):\n",
    "        dt = 10**self.logdt\n",
    "        batch_size = int(self.batch_size_ratio*X_train.shape[0])\n",
    "        hmc_samples, hmc_grads = sghmc_time_budget(key, val_and_grad_log_post, X_train, y_train, \n",
    "                                       time_budget, dt, batch_size, x_0, self.alpha, self.L,)\n",
    "        \n",
    "        return hmc_samples[::self.thin_step], batch_grad_lp_LR_fb(hmc_samples[::self.thin_step])"
   ]
  },
  {
   "cell_type": "code",
   "execution_count": 18,
   "metadata": {},
   "outputs": [
    {
     "data": {
      "text/plain": [
       "Text(0, 0.5, 'KSD')"
      ]
     },
     "execution_count": 18,
     "metadata": {},
     "output_type": "execute_result"
    },
    {
     "data": {
      "image/png": "[encoded data removed]",
      "text/plain": [
       "<Figure size 432x288 with 1 Axes>"
      ]
     },
     "metadata": {
      "needs_background": "light"
     },
     "output_type": "display_data"
    }
   ],
   "source": [
    "\n",
    "my_sgld = LR_succ_halving_HMC_L(random.PRNGKey(0), logdt=-4., batch_size_ratio=0.1, L=10, thin_step=10)\n",
    "\n",
    "num_l = 2\n",
    "\n",
    "ksd_list = []\n",
    "\n",
    "\n",
    "for i in range(num_l):\n",
    "    my_sgld.run(0.1)\n",
    "    ksd_list.append(my_sgld.get_ksd())\n",
    "\n",
    "plt.plot(ksd_list, marker=\"+\")\n",
    "plt.ylabel(\"KSD\", size=18)"
   ]
  },
  {
   "cell_type": "code",
   "execution_count": null,
   "metadata": {},
   "outputs": [],
   "source": []
  },
  {
   "cell_type": "code",
   "execution_count": 8,
   "metadata": {},
   "outputs": [],
   "source": [
    "time_budget = 1\n",
    "dt = 10**my_sgld.logdt\n",
    "batch_size = int(my_sgld.batch_size_ratio*X_train.shape[0])\n",
    "x_0 = theta_true\n",
    "\n",
    "\n",
    "hmc_samples, hmc_grads = sghmc_time_budget(key, val_and_grad_log_post, X_train, y_train, \n",
    "                                   time_budget, dt, batch_size, x_0, my_sgld.alpha, my_sgld.L,)"
   ]
  },
  {
   "cell_type": "code",
   "execution_count": 8,
   "metadata": {},
   "outputs": [
    {
     "data": {
      "text/plain": [
       "DeviceArray([[   106.965836,    -79.974495,  -2108.423   , ...,\n",
       "               -2983.1055  ,  -3068.86    ,  -2038.814   ],\n",
       "             [  5633.893   ,  -3308.765   ,  -9971.451   , ...,\n",
       "              -20705.805   , -14838.732   ,  -3827.8599  ],\n",
       "             [ -5677.493   ,  -4452.351   ,  -3748.1194  , ...,\n",
       "                3584.5662  ,   4474.395   ,   4363.9688  ],\n",
       "             ...,\n",
       "             [  2614.6704  ,   3991.846   ,   5021.3613  , ...,\n",
       "                3511.4216  ,   2139.42    ,    529.6552  ],\n",
       "             [ -2439.1182  ,  -3783.7373  ,  -4986.2812  , ...,\n",
       "               -3625.7563  ,  -1938.0449  ,   -518.33704 ],\n",
       "             [  2840.3074  ,   4042.285   ,   4877.72    , ...,\n",
       "                3872.1057  ,   2463.9912  ,    790.257   ]],            dtype=float32)"
      ]
     },
     "execution_count": 8,
     "metadata": {},
     "output_type": "execute_result"
    }
   ],
   "source": [
    "batch_grad_lp_LR_fb(hmc_samples)"
   ]
  },
  {
   "cell_type": "code",
   "execution_count": 9,
   "metadata": {},
   "outputs": [
    {
     "data": {
      "text/plain": [
       "DeviceArray(4222.901, dtype=float32)"
      ]
     },
     "execution_count": 9,
     "metadata": {},
     "output_type": "execute_result"
    }
   ],
   "source": [
    "imq_KSD(hmc_samples, batch_grad_lp_LR_fb(hmc_samples))"
   ]
  },
  {
   "cell_type": "code",
   "execution_count": null,
   "metadata": {},
   "outputs": [],
   "source": []
  },
  {
   "cell_type": "code",
   "execution_count": 76,
   "metadata": {},
   "outputs": [],
   "source": [
    "\n",
    "\n",
    "def run_SH_time_budget_L_keep_3(key, r, n, eta, thin_step, SH_class, Ndata):\n",
    "    \"\"\"\n",
    "    r: time budget\n",
    "    \"\"\"\n",
    "    num_iters = int(np.log(n)/np.log(eta))\n",
    "    total_budget = num_iters * n * r\n",
    "    print(f\"Number of iterations: {num_iters}\")\n",
    "\n",
    "    print(f\"Total budget: around {int(total_budget)} sec\\n=====\")\n",
    "    subkey1, subkey2, subkey3, subkey4, subkey5 = random.split(key, 5)\n",
    "    \n",
    "    logdt_array = random.uniform(subkey1, shape=(n,))*5-7\n",
    "    \n",
    "    smallest_b_s_r = -int(np.log10(X_train.shape[0])) + 1\n",
    "    range_log_b_s_r = np.linspace(smallest_b_s_r, 0., 30)\n",
    "    batch_size_ratio_array = 10**random.choice(subkey2, range_log_b_s_r , shape=(n,))\n",
    "    \n",
    "    L_leapfrog_array = random.choice(subkey5, np.arange(30), shape=(n,))\n",
    "    \n",
    "    T_list = [(logdt, b_s_r, L) for logdt, b_s_r, L in zip(logdt_array, batch_size_ratio_array, L_leapfrog_array)]\n",
    "    \n",
    "    sampler_dict = OrderedDict({(logdt, b_s_r, L): SH_class(subkey3, logdt, b_s_r, L, thin_step=thin_step) for logdt, b_s_r, L in T_list})\n",
    "\n",
    "    i = 0\n",
    "    start = time.time()\n",
    "    while True:\n",
    "        n_i = int(n*eta**(-i))\n",
    "        r_i = r*eta**i\n",
    "        print(f\"\\nIteration {i}: {n_i } configurations with {r_i:.3f} seconds each\")\n",
    "        print(f\"Combinations: {T_list}\")\n",
    "        for sampler in sampler_dict.values():\n",
    "            sampler.run(r_i)\n",
    "        print(f\"Number of samples at iteration {i}: {sampler_dict[T_list[0]].len_samples}\")\n",
    "        print(\"Calculating KSD for each sampler\")\n",
    "        L_dict = OrderedDict({k: sampler_dict[k].get_ksd() for k in T_list})\n",
    "        L_keys_sorted = sorted(L_dict, key=lambda k :L_dict[k]) # sorted keys (logdt, b_s_r, L) by increasing loss\n",
    "        \n",
    "        if len(T_list) > 5:\n",
    "            idx_best = int(n_i/eta) if int(n_i/eta)>0 else 1\n",
    "            T_list = L_keys_sorted[:idx_best]\n",
    "            sampler_dict = OrderedDict({k:sampler_dict[k] for k in T_list}) \n",
    "            i += 1\n",
    "        else:\n",
    "            T_list = L_keys_sorted[:3]\n",
    "            sampler_dict = OrderedDict({k:sampler_dict[k] for k in T_list}) \n",
    "            end = time.time()\n",
    "            print(f\"Running time: {end-start:.2f}sec\")\n",
    "            return sampler_dict"
   ]
  },
  {
   "cell_type": "code",
   "execution_count": 61,
   "metadata": {},
   "outputs": [
    {
     "name": "stdout",
     "output_type": "stream",
     "text": [
      "Number of iterations: 4\n",
      "Total budget: around 90 sec\n",
      "=====\n",
      "\n",
      "Iteration 0: 90 configurations with 0.250 seconds each\n",
      "Combinations: [(-6.122237, 0.001, 11), (-2.6588993, 0.1487352, 26), (-6.5151644, 0.0923671, 23), (-6.2209997, 0.017433286, 26), (-6.739915, 0.7880463, 11), (-5.440337, 0.7880463, 14), (-5.7450767, 0.001, 21), (-5.430917, 0.005298318, 21), (-6.010518, 0.117210224, 27), (-2.3613114, 0.117210224, 24), (-4.496963, 0.38566202, 7), (-6.2439947, 0.057361532, 17), (-4.3554926, 0.00853168, 26), (-6.1321473, 0.07278954, 14), (-3.5052538, 0.010826366, 13), (-2.3572469, 1.0, 3), (-2.641489, 0.38566202, 24), (-6.4236383, 0.0012689614, 29), (-6.386154, 0.7880463, 16), (-2.5693383, 1.0, 1), (-3.1905437, 0.0020433601, 25), (-3.3129556, 0.0012689614, 20), (-3.1320007, 0.006723357, 29), (-3.7096019, 0.010826366, 7), (-4.2637568, 0.23950267, 10), (-2.0092115, 0.017433286, 11), (-2.9756117, 0.035622485, 8), (-4.8062973, 0.117210224, 23), (-4.7727866, 0.00853168, 18), (-6.9751945, 0.004175319, 12), (-3.6223955, 0.0012689614, 13), (-5.713026, 0.6210169, 3), (-4.163405, 0.1487352, 2), (-3.308167, 0.1487352, 4), (-5.954236, 0.001610262, 5), (-4.796468, 0.006723357, 12), (-4.853779, 0.4893901, 29), (-3.0193686, 0.0025929436, 10), (-2.2713923, 0.013738236, 24), (-4.15777, 0.001, 22), (-6.6562977, 0.07278954, 26), (-6.902196, 0.00853168, 16), (-5.7120085, 1.0, 17), (-4.4173408, 0.38566202, 18), (-6.273997, 0.0020433601, 2), (-5.7696767, 0.057361532, 7), (-6.931826, 0.010826366, 3), (-5.8498383, 0.013738236, 8), (-2.370555, 0.035622485, 9), (-4.48662, 0.0012689614, 28), (-6.6269746, 0.04520354, 14), (-4.4629593, 1.0, 21), (-2.0388994, 0.23950267, 22), (-5.1558156, 0.1887392, 12), (-6.231097, 0.004175319, 24), (-6.3315167, 0.04520354, 28), (-6.502496, 0.38566202, 15), (-5.491183, 0.6210169, 16), (-4.399723, 0.7880463, 12), (-2.584436, 0.001, 21), (-2.7023973, 0.0025929436, 21), (-5.8736744, 0.117210224, 1), (-6.6240196, 0.057361532, 29), (-5.423007, 0.028072158, 8), (-5.1337156, 0.04520354, 7), (-2.1820307, 0.005298318, 5), (-4.3350782, 0.23950267, 13), (-4.9483204, 0.117210224, 1), (-6.2022953, 0.1887392, 15), (-2.7537718, 0.001610262, 8), (-3.6820312, 0.1887392, 26), (-6.747305, 0.0923671, 15), (-4.3453946, 0.0020433601, 21), (-6.264, 0.004175319, 13), (-6.0782046, 0.07278954, 20), (-6.377136, 0.028072158, 11), (-5.540454, 0.001, 19), (-3.7664838, 0.38566202, 22), (-2.0351448, 0.117210224, 17), (-3.8613553, 0.013738236, 1), (-4.284141, 0.02212216, 13), (-5.967132, 0.017433286, 16), (-4.1962924, 0.017433286, 17), (-6.5089, 0.006723357, 0), (-6.7516775, 0.017433286, 11), (-5.376727, 0.38566202, 18), (-6.5266953, 0.04520354, 6), (-4.222796, 0.017433286, 14), (-3.3412213, 0.1887392, 12), (-6.620755, 0.7880463, 25)]\n",
      "Number of samples at iteration 0: 145\n",
      "Calculating KSD for each sampler\n",
      "\n",
      "Iteration 1: 30 configurations with 0.750 seconds each\n",
      "Combinations: [(-6.902196, 0.00853168, 16), (-6.2209997, 0.017433286, 26), (-5.8498383, 0.013738236, 8), (-5.423007, 0.028072158, 8), (-6.264, 0.004175319, 13), (-6.7516775, 0.017433286, 11), (-5.967132, 0.017433286, 16), (-6.377136, 0.028072158, 11), (-6.231097, 0.004175319, 24), (-6.1321473, 0.07278954, 14), (-6.122237, 0.001, 11), (-5.1337156, 0.04520354, 7), (-6.3315167, 0.04520354, 28), (-6.4236383, 0.0012689614, 29), (-5.7696767, 0.057361532, 7), (-5.954236, 0.001610262, 5), (-4.163405, 0.1487352, 2), (-6.0782046, 0.07278954, 20), (-6.2439947, 0.057361532, 17), (-6.6562977, 0.07278954, 26), (-6.5151644, 0.0923671, 23), (-6.6240196, 0.057361532, 29), (-6.6269746, 0.04520354, 14), (-6.9751945, 0.004175319, 12), (-6.5266953, 0.04520354, 6), (-6.010518, 0.117210224, 27), (-6.273997, 0.0020433601, 2), (-6.931826, 0.010826366, 3), (-6.386154, 0.7880463, 16), (-5.440337, 0.7880463, 14)]\n",
      "Number of samples at iteration 1: 240\n",
      "Calculating KSD for each sampler\n",
      "\n",
      "Iteration 2: 10 configurations with 2.250 seconds each\n",
      "Combinations: [(-6.902196, 0.00853168, 16), (-5.8498383, 0.013738236, 8), (-6.7516775, 0.017433286, 11), (-6.377136, 0.028072158, 11), (-5.967132, 0.017433286, 16), (-6.9751945, 0.004175319, 12), (-6.0782046, 0.07278954, 20), (-6.264, 0.004175319, 13), (-6.2439947, 0.057361532, 17), (-5.423007, 0.028072158, 8)]\n",
      "Number of samples at iteration 2: 849\n",
      "Calculating KSD for each sampler\n",
      "\n",
      "Iteration 3: 3 configurations with 6.750 seconds each\n",
      "Combinations: [(-5.8498383, 0.013738236, 8), (-6.9751945, 0.004175319, 12), (-6.7516775, 0.017433286, 11)]\n",
      "Number of samples at iteration 3: 3508\n",
      "Calculating KSD for each sampler\n",
      "Running time: 339.14sec\n"
     ]
    }
   ],
   "source": [
    "R = 10\n",
    "thin_step = 10\n",
    "r = R/40 # number of samples per run\n",
    "n = 90 # number of step sizes to try at first\n",
    "eta = 3 # cut trials by 3 every time\n",
    "\n",
    "key = random.PRNGKey(11)\n",
    "\n",
    "sampler_dict_hmc = run_SH_time_budget_L_keep_3(key, r, n ,eta, thin_step, LR_succ_halving_HMC_L, X_train.shape[0])"
   ]
  },
  {
   "cell_type": "code",
   "execution_count": 64,
   "metadata": {},
   "outputs": [
    {
     "name": "stdout",
     "output_type": "stream",
     "text": [
      "(-6.9751945, 0.004175319, 12) 47670 7.902263\n",
      "(-5.8498383, 0.013738236, 8) 35080 8.165504\n",
      "(-6.7516775, 0.017433286, 11) 23420 10.455351\n"
     ]
    }
   ],
   "source": [
    "for k,v in sampler_dict.items():\n",
    "    print(k, v.len_samples*10, v.KSD)"
   ]
  },
  {
   "cell_type": "code",
   "execution_count": null,
   "metadata": {},
   "outputs": [],
   "source": []
  },
  {
   "cell_type": "markdown",
   "metadata": {},
   "source": [
    "### redo for `R=3`"
   ]
  },
  {
   "cell_type": "code",
   "execution_count": 11,
   "metadata": {},
   "outputs": [
    {
     "name": "stdout",
     "output_type": "stream",
     "text": [
      "Number of iterations: 4\n",
      "Total budget: around 27 sec\n",
      "=====\n",
      "\n",
      "Iteration 0: 90 configurations with 0.075 seconds each\n",
      "Combinations: [(-6.122237, 0.001, 11), (-2.6588993, 0.1487352, 26), (-6.5151644, 0.0923671, 23), (-6.2209997, 0.017433286, 26), (-6.739915, 0.7880463, 11), (-5.440337, 0.7880463, 14), (-5.7450767, 0.001, 21), (-5.430917, 0.005298318, 21), (-6.010518, 0.117210224, 27), (-2.3613114, 0.117210224, 24), (-4.496963, 0.38566202, 7), (-6.2439947, 0.057361532, 17), (-4.3554926, 0.00853168, 26), (-6.1321473, 0.07278954, 14), (-3.5052538, 0.010826366, 13), (-2.3572469, 1.0, 3), (-2.641489, 0.38566202, 24), (-6.4236383, 0.0012689614, 29), (-6.386154, 0.7880463, 16), (-2.5693383, 1.0, 1), (-3.1905437, 0.0020433601, 25), (-3.3129556, 0.0012689614, 20), (-3.1320007, 0.006723357, 29), (-3.7096019, 0.010826366, 7), (-4.2637568, 0.23950267, 10), (-2.0092115, 0.017433286, 11), (-2.9756117, 0.035622485, 8), (-4.8062973, 0.117210224, 23), (-4.7727866, 0.00853168, 18), (-6.9751945, 0.004175319, 12), (-3.6223955, 0.0012689614, 13), (-5.713026, 0.6210169, 3), (-4.163405, 0.1487352, 2), (-3.308167, 0.1487352, 4), (-5.954236, 0.001610262, 5), (-4.796468, 0.006723357, 12), (-4.853779, 0.4893901, 29), (-3.0193686, 0.0025929436, 10), (-2.2713923, 0.013738236, 24), (-4.15777, 0.001, 22), (-6.6562977, 0.07278954, 26), (-6.902196, 0.00853168, 16), (-5.7120085, 1.0, 17), (-4.4173408, 0.38566202, 18), (-6.273997, 0.0020433601, 2), (-5.7696767, 0.057361532, 7), (-6.931826, 0.010826366, 3), (-5.8498383, 0.013738236, 8), (-2.370555, 0.035622485, 9), (-4.48662, 0.0012689614, 28), (-6.6269746, 0.04520354, 14), (-4.4629593, 1.0, 21), (-2.0388994, 0.23950267, 22), (-5.1558156, 0.1887392, 12), (-6.231097, 0.004175319, 24), (-6.3315167, 0.04520354, 28), (-6.502496, 0.38566202, 15), (-5.491183, 0.6210169, 16), (-4.399723, 0.7880463, 12), (-2.584436, 0.001, 21), (-2.7023973, 0.0025929436, 21), (-5.8736744, 0.117210224, 1), (-6.6240196, 0.057361532, 29), (-5.423007, 0.028072158, 8), (-5.1337156, 0.04520354, 7), (-2.1820307, 0.005298318, 5), (-4.3350782, 0.23950267, 13), (-4.9483204, 0.117210224, 1), (-6.2022953, 0.1887392, 15), (-2.7537718, 0.001610262, 8), (-3.6820312, 0.1887392, 26), (-6.747305, 0.0923671, 15), (-4.3453946, 0.0020433601, 21), (-6.264, 0.004175319, 13), (-6.0782046, 0.07278954, 20), (-6.377136, 0.028072158, 11), (-5.540454, 0.001, 19), (-3.7664838, 0.38566202, 22), (-2.0351448, 0.117210224, 17), (-3.8613553, 0.013738236, 1), (-4.284141, 0.02212216, 13), (-5.967132, 0.017433286, 16), (-4.1962924, 0.017433286, 17), (-6.5089, 0.006723357, 0), (-6.7516775, 0.017433286, 11), (-5.376727, 0.38566202, 18), (-6.5266953, 0.04520354, 6), (-4.222796, 0.017433286, 14), (-3.3412213, 0.1887392, 12), (-6.620755, 0.7880463, 25)]\n",
      "Number of samples at iteration 0: 33\n",
      "Calculating KSD for each sampler\n",
      "\n",
      "Iteration 1: 30 configurations with 0.225 seconds each\n",
      "Combinations: [(-5.8498383, 0.013738236, 8), (-6.264, 0.004175319, 13), (-5.967132, 0.017433286, 16), (-6.377136, 0.028072158, 11), (-6.231097, 0.004175319, 24), (-6.9751945, 0.004175319, 12), (-6.902196, 0.00853168, 16), (-6.3315167, 0.04520354, 28), (-5.423007, 0.028072158, 8), (-6.4236383, 0.0012689614, 29), (-5.954236, 0.001610262, 5), (-6.7516775, 0.017433286, 11), (-6.6562977, 0.07278954, 26), (-4.163405, 0.1487352, 2), (-6.122237, 0.001, 11), (-6.6240196, 0.057361532, 29), (-6.0782046, 0.07278954, 20), (-6.2209997, 0.017433286, 26), (-5.1337156, 0.04520354, 7), (-5.7696767, 0.057361532, 7), (-5.7120085, 1.0, 17), (-6.1321473, 0.07278954, 14), (-6.6269746, 0.04520354, 14), (-6.2439947, 0.057361532, 17), (-6.5151644, 0.0923671, 23), (-6.2022953, 0.1887392, 15), (-5.440337, 0.7880463, 14), (-6.620755, 0.7880463, 25), (-6.747305, 0.0923671, 15), (-6.010518, 0.117210224, 27)]\n",
      "Number of samples at iteration 1: 95\n",
      "Calculating KSD for each sampler\n",
      "\n",
      "Iteration 2: 10 configurations with 0.675 seconds each\n",
      "Combinations: [(-5.8498383, 0.013738236, 8), (-6.902196, 0.00853168, 16), (-6.377136, 0.028072158, 11), (-5.7696767, 0.057361532, 7), (-6.6562977, 0.07278954, 26), (-6.264, 0.004175319, 13), (-6.9751945, 0.004175319, 12), (-5.423007, 0.028072158, 8), (-6.2439947, 0.057361532, 17), (-5.967132, 0.017433286, 16)]\n",
      "Number of samples at iteration 2: 227\n",
      "Calculating KSD for each sampler\n",
      "\n",
      "Iteration 3: 3 configurations with 2.025 seconds each\n",
      "Combinations: [(-5.423007, 0.028072158, 8), (-6.264, 0.004175319, 13), (-5.8498383, 0.013738236, 8)]\n",
      "Number of samples at iteration 3: 426\n",
      "Calculating KSD for each sampler\n",
      "Running time: 286.02sec\n"
     ]
    }
   ],
   "source": [
    "R = 3\n",
    "thin_step = 10\n",
    "r = R/40 # number of samples per run\n",
    "n = 90 # number of step sizes to try at first\n",
    "eta = 3 # cut trials by 3 every time\n",
    "\n",
    "key = random.PRNGKey(11)\n",
    "\n",
    "sampler_dict_hmc_3sec = run_SH_time_budget_L_keep_3(key, r, n ,eta, thin_step, LR_succ_halving_HMC_L, X_train.shape[0])\n",
    "\n"
   ]
  },
  {
   "cell_type": "code",
   "execution_count": 13,
   "metadata": {},
   "outputs": [
    {
     "name": "stdout",
     "output_type": "stream",
     "text": [
      "(-5.8498383, 0.013738236, 8) 7810 14.180968\n",
      "(-6.264, 0.004175319, 13) 11710 14.806423\n",
      "(-5.423007, 0.028072158, 8) 4260 31.420792\n"
     ]
    }
   ],
   "source": [
    "for k,v in sampler_dict_hmc_3sec.items():\n",
    "    print(k, v.len_samples*10, v.KSD)"
   ]
  },
  {
   "cell_type": "code",
   "execution_count": null,
   "metadata": {},
   "outputs": [],
   "source": []
  },
  {
   "cell_type": "code",
   "execution_count": null,
   "metadata": {},
   "outputs": [],
   "source": []
  },
  {
   "cell_type": "code",
   "execution_count": null,
   "metadata": {},
   "outputs": [],
   "source": []
  },
  {
   "cell_type": "markdown",
   "metadata": {},
   "source": [
    "##### sg-hmc SH-KSD: bounds -8, -3\n",
    "\n",
    "Setup: `r = 0.3`, `n = 90`, `eta = 3`, `key = 11`\n",
    "\n",
    "\n",
    "Optimal `logdt = -5.4`, `batch_size_ratio = 0.788046`, `L = 12` with `KSD 7`\n",
    "Number of samples: `770`\n",
    "Running time: `7 min`"
   ]
  },
  {
   "cell_type": "code",
   "execution_count": null,
   "metadata": {},
   "outputs": [],
   "source": []
  },
  {
   "cell_type": "code",
   "execution_count": null,
   "metadata": {},
   "outputs": [],
   "source": []
  },
  {
   "cell_type": "code",
   "execution_count": null,
   "metadata": {},
   "outputs": [],
   "source": []
  },
  {
   "cell_type": "code",
   "execution_count": null,
   "metadata": {},
   "outputs": [],
   "source": []
  }
 ],
 "metadata": {
  "kernelspec": {
   "display_name": "Python 3",
   "language": "python",
   "name": "python3"
  },
  "language_info": {
   "codemirror_mode": {
    "name": "ipython",
    "version": 3
   },
   "file_extension": ".py",
   "mimetype": "text/x-python",
   "name": "python",
   "nbconvert_exporter": "python",
   "pygments_lexer": "ipython3",
   "version": "3.8.5"
  }
 },
 "nbformat": 4,
 "nbformat_minor": 4
}
