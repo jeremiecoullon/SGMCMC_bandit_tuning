{
 "cells": [
  {
   "cell_type": "code",
   "execution_count": 1,
   "id": "cbc67e38",
   "metadata": {},
   "outputs": [],
   "source": [
    "%matplotlib inline\n",
    "\n",
    "import matplotlib.pyplot as plt\n",
    "import seaborn as sns\n",
    "sns.set_style(\"darkgrid\")\n",
    "import numpy as np\n",
    "import time\n",
    "import jax.numpy as jnp\n",
    "from jax import partial, jit, vmap, grad, random, lax\n",
    "\n",
    "\n",
    "import context\n",
    "from samplers.sgld import sgld_time_budget\n",
    "from ksd import imq_KSD\n",
    "from util import progress_bar_scan, wait_until_computed\n",
    "\n"
   ]
  },
  {
   "cell_type": "markdown",
   "id": "54869c7a",
   "metadata": {},
   "source": [
    "# Successive halving tuning tests"
   ]
  },
  {
   "cell_type": "code",
   "execution_count": 2,
   "id": "6c8308ed",
   "metadata": {},
   "outputs": [
    {
     "name": "stdout",
     "output_type": "stream",
     "text": [
      "generating data, with N=100000 and dim=10\n",
      "(80000, 10) (20000, 10)\n"
     ]
    }
   ],
   "source": [
    "\n",
    "from examples.logistic_regression.logistic_regression_model import gen_data_and_log_post\n",
    "\n",
    "\n",
    "dim = 10\n",
    "Ndata = 100000\n",
    "key = random.PRNGKey(0) \n",
    "theta_true, X, y_data, val_and_grad_log_post = gen_data_and_log_post(key, dim, Ndata)\n",
    "\n",
    "# testing and training data\n",
    "num_train = int(Ndata*0.8)\n",
    "\n",
    "X_train = X[:num_train]\n",
    "X_test = X[num_train:]\n",
    "\n",
    "y_train = y_data[:num_train]\n",
    "y_test = y_data[num_train:]\n",
    "print(X_train.shape, X_test.shape)\n",
    "\n",
    "\n",
    "@jit\n",
    "def fb_grads_LR_train(theta):\n",
    "    return val_and_grad_log_post(theta, X_train, y_train)[1]\n",
    "\n",
    "batch_fb_grads_LR_train = jit(vmap(fb_grads_LR_train, in_axes=(0,)))"
   ]
  },
  {
   "cell_type": "markdown",
   "id": "8f5e5901",
   "metadata": {},
   "source": [
    "## define samplers\n",
    "\n",
    "### 1. LR"
   ]
  },
  {
   "cell_type": "code",
   "execution_count": 52,
   "id": "1981b39f",
   "metadata": {},
   "outputs": [],
   "source": [
    "def get_KSD_LR(key, time_budget, dt, b_s_r):\n",
    "    thin_step = 10\n",
    "    batch_size = int(X_train.shape[0]*b_s_r)\n",
    "    x_0 = theta_true\n",
    "    samples, stoch_grads = sgld_time_budget(key, val_and_grad_log_post, X_train, y_train, \n",
    "                                           time_budget, dt, batch_size, x_0)\n",
    "    print(f\"Number of samples: {len(samples)}\")\n",
    "    fullbatch_grads = batch_fb_grads_LR_train(samples)\n",
    "\n",
    "    ksd_fb = imq_KSD(samples, fullbatch_grads)\n",
    "    ksd_fb_thin = imq_KSD(samples[::thin_step], fullbatch_grads[::thin_step])\n",
    "    ksd_stoch = imq_KSD(samples, stoch_grads)\n",
    "    ksd_stoch_thin = imq_KSD(samples[::thin_step], stoch_grads[::thin_step])\n",
    "\n",
    "    return ksd_fb, ksd_fb_thin, ksd_stoch, ksd_stoch_thin"
   ]
  },
  {
   "cell_type": "code",
   "execution_count": 53,
   "id": "ebe39592",
   "metadata": {},
   "outputs": [
    {
     "name": "stdout",
     "output_type": "stream",
     "text": [
      "Number of samples: 5140\n"
     ]
    },
    {
     "data": {
      "text/plain": [
       "(DeviceArray(12.076142, dtype=float32),\n",
       " DeviceArray(15.545502, dtype=float32),\n",
       " DeviceArray(13.412882, dtype=float32),\n",
       " DeviceArray(45.28351, dtype=float32))"
      ]
     },
     "execution_count": 53,
     "metadata": {},
     "output_type": "execute_result"
    }
   ],
   "source": [
    "key = random.PRNGKey(0)\n",
    "b_s_r = 0.1\n",
    "dt = 10**(-4)\n",
    "\n",
    "time_budget = 3\n",
    "\n",
    "get_KSD_LR(key, time_budget, dt, b_s_r)"
   ]
  },
  {
   "cell_type": "markdown",
   "id": "42b6e295",
   "metadata": {},
   "source": [
    "### 2. PMF"
   ]
  },
  {
   "cell_type": "code",
   "execution_count": 2,
   "id": "19950a7f",
   "metadata": {},
   "outputs": [
    {
     "name": "stderr",
     "output_type": "stream",
     "text": [
      "/Users/jeremiecoullon/Documents/research/papers/SGMCMC_bandit_tuning/venv/lib/python3.8/site-packages/jax/lax/lax.py:6190: UserWarning: Explicitly requested dtype float64 requested in sum is not available, and will be truncated to dtype float32. To enable more dtypes, set the jax_enable_x64 configuration option or the JAX_ENABLE_X64 shell environment variable. See https://github.com/google/jax#current-gotchas for more.\n",
      "  warnings.warn(msg.format(dtype, fun_name , truncated_dtype))\n",
      "/Users/jeremiecoullon/Documents/research/papers/SGMCMC_bandit_tuning/venv/lib/python3.8/site-packages/jax/lib/xla_bridge.py:130: UserWarning: No GPU/TPU found, falling back to CPU.\n",
      "  warnings.warn('No GPU/TPU found, falling back to CPU.')\n"
     ]
    }
   ],
   "source": [
    "from examples.PMF.pmf_model import grad_log_post\n",
    "from examples.PMF.util import R_train, R_test, flatten_PMF_params, load_PMF_MAP\n",
    "from examples.PMF.sgld_PMF_functions import sgld_PMF_time_budget\n"
   ]
  },
  {
   "cell_type": "code",
   "execution_count": 32,
   "id": "0f46b36e",
   "metadata": {},
   "outputs": [],
   "source": [
    "def get_KSD_PMF(key, time_budget, dt, b_s_r):\n",
    "    thin_step = 10\n",
    "    batch_size = int(R_train.shape[0]*b_s_r)\n",
    "    MAP_params = load_PMF_MAP()\n",
    "    samples, stoch_grads = sgld_PMF_time_budget(key, time_budget, grad_log_post, \n",
    "                                            dt, batch_size, MAP_params, R_train, save_rate=1)\n",
    "    print(f\"Number of samples: {len(samples)}\")\n",
    "    fullbatch_grads = [grad_log_post(sam, R_train) for sam in samples]\n",
    "    \n",
    "    flat_samples = flatten_PMF_params(samples)\n",
    "    flat_stoch_grads = flatten_PMF_params(stoch_grads)\n",
    "    flat_fullbatch_grads = flatten_PMF_params(fullbatch_grads)\n",
    "\n",
    "    ksd_fb = imq_KSD(flat_samples, flat_fullbatch_grads)\n",
    "    ksd_fb_thin = imq_KSD(flat_samples[::thin_step], flat_fullbatch_grads[::thin_step])\n",
    "    ksd_stoch = imq_KSD(flat_samples, flat_stoch_grads)\n",
    "    ksd_stoch_thin = imq_KSD(flat_samples[::thin_step], flat_stoch_grads[::thin_step])\n",
    "\n",
    "    return ksd_fb, ksd_fb_thin, ksd_stoch, ksd_stoch_thin"
   ]
  },
  {
   "cell_type": "code",
   "execution_count": 12,
   "id": "f5810895",
   "metadata": {},
   "outputs": [
    {
     "name": "stdout",
     "output_type": "stream",
     "text": [
      "Number of samples: 96\n"
     ]
    }
   ],
   "source": [
    "key = random.PRNGKey(0)\n",
    "b_s_r = 0.01\n",
    "dt = 10**(-4)\n",
    "\n",
    "time_budget = 1\n",
    "\n",
    "get_KSD_PMF(key, time_budget, dt, b_s_r)\n"
   ]
  },
  {
   "cell_type": "code",
   "execution_count": null,
   "id": "2e594023",
   "metadata": {},
   "outputs": [],
   "source": []
  },
  {
   "cell_type": "markdown",
   "id": "84aed604",
   "metadata": {},
   "source": [
    "### 3. NN"
   ]
  },
  {
   "cell_type": "code",
   "execution_count": 73,
   "id": "698209c9",
   "metadata": {},
   "outputs": [],
   "source": [
    "from examples.bayesian_NN.NN_data import X_train as X_train_NN\n",
    "from examples.bayesian_NN.NN_data import y_train as y_train_NN\n",
    "from examples.bayesian_NN.NN_model import grad_log_post\n",
    "from examples.bayesian_NN.util import flatten_NN_params, load_NN_MAP\n",
    "from examples.bayesian_NN.sampler import sgld_NN_time_budget\n"
   ]
  },
  {
   "cell_type": "code",
   "execution_count": 78,
   "id": "a38c77a6",
   "metadata": {},
   "outputs": [],
   "source": [
    "def get_KSD_NN(key, time_budget, dt, b_s_r):\n",
    "    thin_step = 5\n",
    "    batch_size = int(X_train_NN.shape[0]*b_s_r)\n",
    "    MAP_params = load_NN_MAP()\n",
    "    samples, stoch_grads = sgld_NN_time_budget(key, time_budget, grad_log_post, dt, \n",
    "                                    batch_size, MAP_params, X_train_NN, y_train_NN, save_rate=1)\n",
    "    print(f\"Number of samples: {len(samples)}\")\n",
    "    fullbatch_grads = [grad_log_post(sam, X_train_NN, y_train_NN) for sam in samples]\n",
    "    \n",
    "    flat_samples = flatten_NN_params(samples)\n",
    "    flat_stoch_grads = flatten_NN_params(stoch_grads)\n",
    "    flat_fullbatch_grads = flatten_NN_params(fullbatch_grads)\n",
    "\n",
    "    ksd_fb = imq_KSD(flat_samples, flat_fullbatch_grads)\n",
    "    ksd_fb_thin = imq_KSD(flat_samples[::thin_step], flat_fullbatch_grads[::thin_step])\n",
    "    ksd_stoch = imq_KSD(flat_samples, flat_stoch_grads)\n",
    "    ksd_stoch_thin = imq_KSD(flat_samples[::thin_step], flat_stoch_grads[::thin_step])\n",
    "\n",
    "    return ksd_fb, ksd_fb_thin, ksd_stoch, ksd_stoch_thin"
   ]
  },
  {
   "cell_type": "code",
   "execution_count": 75,
   "id": "c419a8fe",
   "metadata": {
    "collapsed": true
   },
   "outputs": [
    {
     "name": "stdout",
     "output_type": "stream",
     "text": [
      "Number of samples: 344\n"
     ]
    },
    {
     "ename": "KeyboardInterrupt",
     "evalue": "",
     "output_type": "error",
     "traceback": [
      "\u001b[0;31m---------------------------------------------------------------------------\u001b[0m",
      "\u001b[0;31mKeyboardInterrupt\u001b[0m                         Traceback (most recent call last)",
      "\u001b[0;32m<ipython-input-75-edd59d49d151>\u001b[0m in \u001b[0;36m<module>\u001b[0;34m\u001b[0m\n\u001b[1;32m      5\u001b[0m \u001b[0mtime_budget\u001b[0m \u001b[0;34m=\u001b[0m \u001b[0;36m1\u001b[0m\u001b[0;34m\u001b[0m\u001b[0;34m\u001b[0m\u001b[0m\n\u001b[1;32m      6\u001b[0m \u001b[0;34m\u001b[0m\u001b[0m\n\u001b[0;32m----> 7\u001b[0;31m \u001b[0mget_KSD_NN\u001b[0m\u001b[0;34m(\u001b[0m\u001b[0mkey\u001b[0m\u001b[0;34m,\u001b[0m \u001b[0mtime_budget\u001b[0m\u001b[0;34m,\u001b[0m \u001b[0mdt\u001b[0m\u001b[0;34m,\u001b[0m \u001b[0mb_s_r\u001b[0m\u001b[0;34m)\u001b[0m\u001b[0;34m\u001b[0m\u001b[0;34m\u001b[0m\u001b[0m\n\u001b[0m",
      "\u001b[0;32m<ipython-input-74-8b3d4cd30cb4>\u001b[0m in \u001b[0;36mget_KSD_NN\u001b[0;34m(key, time_budget, dt, b_s_r)\u001b[0m\n\u001b[1;32m      6\u001b[0m                                     batch_size, MAP_params, X_train_NN, y_train_NN, save_rate=1)\n\u001b[1;32m      7\u001b[0m     \u001b[0mprint\u001b[0m\u001b[0;34m(\u001b[0m\u001b[0;34mf\"Number of samples: {len(samples)}\"\u001b[0m\u001b[0;34m)\u001b[0m\u001b[0;34m\u001b[0m\u001b[0;34m\u001b[0m\u001b[0m\n\u001b[0;32m----> 8\u001b[0;31m     \u001b[0mfullbatch_grads\u001b[0m \u001b[0;34m=\u001b[0m \u001b[0;34m[\u001b[0m\u001b[0mgrad_log_post\u001b[0m\u001b[0;34m(\u001b[0m\u001b[0msam\u001b[0m\u001b[0;34m,\u001b[0m \u001b[0mX_train_NN\u001b[0m\u001b[0;34m,\u001b[0m \u001b[0my_train_NN\u001b[0m\u001b[0;34m)\u001b[0m \u001b[0;32mfor\u001b[0m \u001b[0msam\u001b[0m \u001b[0;32min\u001b[0m \u001b[0msamples\u001b[0m\u001b[0;34m]\u001b[0m\u001b[0;34m\u001b[0m\u001b[0;34m\u001b[0m\u001b[0m\n\u001b[0m\u001b[1;32m      9\u001b[0m \u001b[0;34m\u001b[0m\u001b[0m\n\u001b[1;32m     10\u001b[0m     \u001b[0mflat_samples\u001b[0m \u001b[0;34m=\u001b[0m \u001b[0mflatten_NN_params\u001b[0m\u001b[0;34m(\u001b[0m\u001b[0msamples\u001b[0m\u001b[0;34m)\u001b[0m\u001b[0;34m\u001b[0m\u001b[0;34m\u001b[0m\u001b[0m\n",
      "\u001b[0;32m<ipython-input-74-8b3d4cd30cb4>\u001b[0m in \u001b[0;36m<listcomp>\u001b[0;34m(.0)\u001b[0m\n\u001b[1;32m      6\u001b[0m                                     batch_size, MAP_params, X_train_NN, y_train_NN, save_rate=1)\n\u001b[1;32m      7\u001b[0m     \u001b[0mprint\u001b[0m\u001b[0;34m(\u001b[0m\u001b[0;34mf\"Number of samples: {len(samples)}\"\u001b[0m\u001b[0;34m)\u001b[0m\u001b[0;34m\u001b[0m\u001b[0;34m\u001b[0m\u001b[0m\n\u001b[0;32m----> 8\u001b[0;31m     \u001b[0mfullbatch_grads\u001b[0m \u001b[0;34m=\u001b[0m \u001b[0;34m[\u001b[0m\u001b[0mgrad_log_post\u001b[0m\u001b[0;34m(\u001b[0m\u001b[0msam\u001b[0m\u001b[0;34m,\u001b[0m \u001b[0mX_train_NN\u001b[0m\u001b[0;34m,\u001b[0m \u001b[0my_train_NN\u001b[0m\u001b[0;34m)\u001b[0m \u001b[0;32mfor\u001b[0m \u001b[0msam\u001b[0m \u001b[0;32min\u001b[0m \u001b[0msamples\u001b[0m\u001b[0;34m]\u001b[0m\u001b[0;34m\u001b[0m\u001b[0;34m\u001b[0m\u001b[0m\n\u001b[0m\u001b[1;32m      9\u001b[0m \u001b[0;34m\u001b[0m\u001b[0m\n\u001b[1;32m     10\u001b[0m     \u001b[0mflat_samples\u001b[0m \u001b[0;34m=\u001b[0m \u001b[0mflatten_NN_params\u001b[0m\u001b[0;34m(\u001b[0m\u001b[0msamples\u001b[0m\u001b[0;34m)\u001b[0m\u001b[0;34m\u001b[0m\u001b[0;34m\u001b[0m\u001b[0m\n",
      "\u001b[0;32m~/Documents/research/papers/SGMCMC_bandit_tuning/venv/lib/python3.8/site-packages/jax/traceback_util.py\u001b[0m in \u001b[0;36mreraise_with_filtered_traceback\u001b[0;34m(*args, **kwargs)\u001b[0m\n\u001b[1;32m    135\u001b[0m   \u001b[0;32mdef\u001b[0m \u001b[0mreraise_with_filtered_traceback\u001b[0m\u001b[0;34m(\u001b[0m\u001b[0;34m*\u001b[0m\u001b[0margs\u001b[0m\u001b[0;34m,\u001b[0m \u001b[0;34m**\u001b[0m\u001b[0mkwargs\u001b[0m\u001b[0;34m)\u001b[0m\u001b[0;34m:\u001b[0m\u001b[0;34m\u001b[0m\u001b[0;34m\u001b[0m\u001b[0m\n\u001b[1;32m    136\u001b[0m     \u001b[0;32mtry\u001b[0m\u001b[0;34m:\u001b[0m\u001b[0;34m\u001b[0m\u001b[0;34m\u001b[0m\u001b[0m\n\u001b[0;32m--> 137\u001b[0;31m       \u001b[0;32mreturn\u001b[0m \u001b[0mfun\u001b[0m\u001b[0;34m(\u001b[0m\u001b[0;34m*\u001b[0m\u001b[0margs\u001b[0m\u001b[0;34m,\u001b[0m \u001b[0;34m**\u001b[0m\u001b[0mkwargs\u001b[0m\u001b[0;34m)\u001b[0m\u001b[0;34m\u001b[0m\u001b[0;34m\u001b[0m\u001b[0m\n\u001b[0m\u001b[1;32m    138\u001b[0m     \u001b[0;32mexcept\u001b[0m \u001b[0mException\u001b[0m \u001b[0;32mas\u001b[0m \u001b[0me\u001b[0m\u001b[0;34m:\u001b[0m\u001b[0;34m\u001b[0m\u001b[0;34m\u001b[0m\u001b[0m\n\u001b[1;32m    139\u001b[0m       \u001b[0;32mif\u001b[0m \u001b[0;32mnot\u001b[0m \u001b[0mis_under_reraiser\u001b[0m\u001b[0;34m(\u001b[0m\u001b[0me\u001b[0m\u001b[0;34m)\u001b[0m\u001b[0;34m:\u001b[0m\u001b[0;34m\u001b[0m\u001b[0;34m\u001b[0m\u001b[0m\n",
      "\u001b[0;32m~/Documents/research/papers/SGMCMC_bandit_tuning/venv/lib/python3.8/site-packages/jax/api.py\u001b[0m in \u001b[0;36mf_jitted\u001b[0;34m(*args, **kwargs)\u001b[0m\n\u001b[1;32m    208\u001b[0m       \u001b[0m_check_arg\u001b[0m\u001b[0;34m(\u001b[0m\u001b[0marg\u001b[0m\u001b[0;34m)\u001b[0m\u001b[0;34m\u001b[0m\u001b[0;34m\u001b[0m\u001b[0m\n\u001b[1;32m    209\u001b[0m     \u001b[0mflat_fun\u001b[0m\u001b[0;34m,\u001b[0m \u001b[0mout_tree\u001b[0m \u001b[0;34m=\u001b[0m \u001b[0mflatten_fun\u001b[0m\u001b[0;34m(\u001b[0m\u001b[0mf\u001b[0m\u001b[0;34m,\u001b[0m \u001b[0min_tree\u001b[0m\u001b[0;34m)\u001b[0m\u001b[0;34m\u001b[0m\u001b[0;34m\u001b[0m\u001b[0m\n\u001b[0;32m--> 210\u001b[0;31m     out = xla.xla_call(\n\u001b[0m\u001b[1;32m    211\u001b[0m         \u001b[0mflat_fun\u001b[0m\u001b[0;34m,\u001b[0m\u001b[0;34m\u001b[0m\u001b[0;34m\u001b[0m\u001b[0m\n\u001b[1;32m    212\u001b[0m         \u001b[0;34m*\u001b[0m\u001b[0margs_flat\u001b[0m\u001b[0;34m,\u001b[0m\u001b[0;34m\u001b[0m\u001b[0;34m\u001b[0m\u001b[0m\n",
      "\u001b[0;32m~/Documents/research/papers/SGMCMC_bandit_tuning/venv/lib/python3.8/site-packages/jax/core.py\u001b[0m in \u001b[0;36mbind\u001b[0;34m(self, fun, *args, **params)\u001b[0m\n\u001b[1;32m   1153\u001b[0m \u001b[0;34m\u001b[0m\u001b[0m\n\u001b[1;32m   1154\u001b[0m   \u001b[0;32mdef\u001b[0m \u001b[0mbind\u001b[0m\u001b[0;34m(\u001b[0m\u001b[0mself\u001b[0m\u001b[0;34m,\u001b[0m \u001b[0mfun\u001b[0m\u001b[0;34m,\u001b[0m \u001b[0;34m*\u001b[0m\u001b[0margs\u001b[0m\u001b[0;34m,\u001b[0m \u001b[0;34m**\u001b[0m\u001b[0mparams\u001b[0m\u001b[0;34m)\u001b[0m\u001b[0;34m:\u001b[0m\u001b[0;34m\u001b[0m\u001b[0;34m\u001b[0m\u001b[0m\n\u001b[0;32m-> 1155\u001b[0;31m     \u001b[0;32mreturn\u001b[0m \u001b[0mcall_bind\u001b[0m\u001b[0;34m(\u001b[0m\u001b[0mself\u001b[0m\u001b[0;34m,\u001b[0m \u001b[0mfun\u001b[0m\u001b[0;34m,\u001b[0m \u001b[0;34m*\u001b[0m\u001b[0margs\u001b[0m\u001b[0;34m,\u001b[0m \u001b[0;34m**\u001b[0m\u001b[0mparams\u001b[0m\u001b[0;34m)\u001b[0m\u001b[0;34m\u001b[0m\u001b[0;34m\u001b[0m\u001b[0m\n\u001b[0m\u001b[1;32m   1156\u001b[0m \u001b[0;34m\u001b[0m\u001b[0m\n\u001b[1;32m   1157\u001b[0m   \u001b[0;32mdef\u001b[0m \u001b[0mprocess\u001b[0m\u001b[0;34m(\u001b[0m\u001b[0mself\u001b[0m\u001b[0;34m,\u001b[0m \u001b[0mtrace\u001b[0m\u001b[0;34m,\u001b[0m \u001b[0mfun\u001b[0m\u001b[0;34m,\u001b[0m \u001b[0mtracers\u001b[0m\u001b[0;34m,\u001b[0m \u001b[0mparams\u001b[0m\u001b[0;34m)\u001b[0m\u001b[0;34m:\u001b[0m\u001b[0;34m\u001b[0m\u001b[0;34m\u001b[0m\u001b[0m\n",
      "\u001b[0;32m~/Documents/research/papers/SGMCMC_bandit_tuning/venv/lib/python3.8/site-packages/jax/core.py\u001b[0m in \u001b[0;36mcall_bind\u001b[0;34m(primitive, fun, *args, **params)\u001b[0m\n\u001b[1;32m   1144\u001b[0m   \u001b[0mtracers\u001b[0m \u001b[0;34m=\u001b[0m \u001b[0mmap\u001b[0m\u001b[0;34m(\u001b[0m\u001b[0mtop_trace\u001b[0m\u001b[0;34m.\u001b[0m\u001b[0mfull_raise\u001b[0m\u001b[0;34m,\u001b[0m \u001b[0margs\u001b[0m\u001b[0;34m)\u001b[0m\u001b[0;34m\u001b[0m\u001b[0;34m\u001b[0m\u001b[0m\n\u001b[1;32m   1145\u001b[0m   \u001b[0;32mwith\u001b[0m \u001b[0mmaybe_new_sublevel\u001b[0m\u001b[0;34m(\u001b[0m\u001b[0mtop_trace\u001b[0m\u001b[0;34m)\u001b[0m\u001b[0;34m:\u001b[0m\u001b[0;34m\u001b[0m\u001b[0;34m\u001b[0m\u001b[0m\n\u001b[0;32m-> 1146\u001b[0;31m     \u001b[0mouts\u001b[0m \u001b[0;34m=\u001b[0m \u001b[0mprimitive\u001b[0m\u001b[0;34m.\u001b[0m\u001b[0mprocess\u001b[0m\u001b[0;34m(\u001b[0m\u001b[0mtop_trace\u001b[0m\u001b[0;34m,\u001b[0m \u001b[0mfun\u001b[0m\u001b[0;34m,\u001b[0m \u001b[0mtracers\u001b[0m\u001b[0;34m,\u001b[0m \u001b[0mparams\u001b[0m\u001b[0;34m)\u001b[0m\u001b[0;34m\u001b[0m\u001b[0;34m\u001b[0m\u001b[0m\n\u001b[0m\u001b[1;32m   1147\u001b[0m   \u001b[0;32mreturn\u001b[0m \u001b[0mmap\u001b[0m\u001b[0;34m(\u001b[0m\u001b[0mfull_lower\u001b[0m\u001b[0;34m,\u001b[0m \u001b[0mapply_todos\u001b[0m\u001b[0;34m(\u001b[0m\u001b[0menv_trace_todo\u001b[0m\u001b[0;34m(\u001b[0m\u001b[0;34m)\u001b[0m\u001b[0;34m,\u001b[0m \u001b[0mouts\u001b[0m\u001b[0;34m)\u001b[0m\u001b[0;34m)\u001b[0m\u001b[0;34m\u001b[0m\u001b[0;34m\u001b[0m\u001b[0m\n\u001b[1;32m   1148\u001b[0m \u001b[0;34m\u001b[0m\u001b[0m\n",
      "\u001b[0;32m~/Documents/research/papers/SGMCMC_bandit_tuning/venv/lib/python3.8/site-packages/jax/core.py\u001b[0m in \u001b[0;36mprocess\u001b[0;34m(self, trace, fun, tracers, params)\u001b[0m\n\u001b[1;32m   1156\u001b[0m \u001b[0;34m\u001b[0m\u001b[0m\n\u001b[1;32m   1157\u001b[0m   \u001b[0;32mdef\u001b[0m \u001b[0mprocess\u001b[0m\u001b[0;34m(\u001b[0m\u001b[0mself\u001b[0m\u001b[0;34m,\u001b[0m \u001b[0mtrace\u001b[0m\u001b[0;34m,\u001b[0m \u001b[0mfun\u001b[0m\u001b[0;34m,\u001b[0m \u001b[0mtracers\u001b[0m\u001b[0;34m,\u001b[0m \u001b[0mparams\u001b[0m\u001b[0;34m)\u001b[0m\u001b[0;34m:\u001b[0m\u001b[0;34m\u001b[0m\u001b[0;34m\u001b[0m\u001b[0m\n\u001b[0;32m-> 1158\u001b[0;31m     \u001b[0;32mreturn\u001b[0m \u001b[0mtrace\u001b[0m\u001b[0;34m.\u001b[0m\u001b[0mprocess_call\u001b[0m\u001b[0;34m(\u001b[0m\u001b[0mself\u001b[0m\u001b[0;34m,\u001b[0m \u001b[0mfun\u001b[0m\u001b[0;34m,\u001b[0m \u001b[0mtracers\u001b[0m\u001b[0;34m,\u001b[0m \u001b[0mparams\u001b[0m\u001b[0;34m)\u001b[0m\u001b[0;34m\u001b[0m\u001b[0;34m\u001b[0m\u001b[0m\n\u001b[0m\u001b[1;32m   1159\u001b[0m \u001b[0;34m\u001b[0m\u001b[0m\n\u001b[1;32m   1160\u001b[0m   \u001b[0;32mdef\u001b[0m \u001b[0mpost_process\u001b[0m\u001b[0;34m(\u001b[0m\u001b[0mself\u001b[0m\u001b[0;34m,\u001b[0m \u001b[0mtrace\u001b[0m\u001b[0;34m,\u001b[0m \u001b[0mout_tracers\u001b[0m\u001b[0;34m,\u001b[0m \u001b[0mparams\u001b[0m\u001b[0;34m)\u001b[0m\u001b[0;34m:\u001b[0m\u001b[0;34m\u001b[0m\u001b[0;34m\u001b[0m\u001b[0m\n",
      "\u001b[0;32m~/Documents/research/papers/SGMCMC_bandit_tuning/venv/lib/python3.8/site-packages/jax/core.py\u001b[0m in \u001b[0;36mprocess_call\u001b[0;34m(self, primitive, f, tracers, params)\u001b[0m\n\u001b[1;32m    575\u001b[0m \u001b[0;34m\u001b[0m\u001b[0m\n\u001b[1;32m    576\u001b[0m   \u001b[0;32mdef\u001b[0m \u001b[0mprocess_call\u001b[0m\u001b[0;34m(\u001b[0m\u001b[0mself\u001b[0m\u001b[0;34m,\u001b[0m \u001b[0mprimitive\u001b[0m\u001b[0;34m,\u001b[0m \u001b[0mf\u001b[0m\u001b[0;34m,\u001b[0m \u001b[0mtracers\u001b[0m\u001b[0;34m,\u001b[0m \u001b[0mparams\u001b[0m\u001b[0;34m)\u001b[0m\u001b[0;34m:\u001b[0m\u001b[0;34m\u001b[0m\u001b[0;34m\u001b[0m\u001b[0m\n\u001b[0;32m--> 577\u001b[0;31m     \u001b[0;32mreturn\u001b[0m \u001b[0mprimitive\u001b[0m\u001b[0;34m.\u001b[0m\u001b[0mimpl\u001b[0m\u001b[0;34m(\u001b[0m\u001b[0mf\u001b[0m\u001b[0;34m,\u001b[0m \u001b[0;34m*\u001b[0m\u001b[0mtracers\u001b[0m\u001b[0;34m,\u001b[0m \u001b[0;34m**\u001b[0m\u001b[0mparams\u001b[0m\u001b[0;34m)\u001b[0m\u001b[0;34m\u001b[0m\u001b[0;34m\u001b[0m\u001b[0m\n\u001b[0m\u001b[1;32m    578\u001b[0m   \u001b[0mprocess_map\u001b[0m \u001b[0;34m=\u001b[0m \u001b[0mprocess_call\u001b[0m\u001b[0;34m\u001b[0m\u001b[0;34m\u001b[0m\u001b[0m\n\u001b[1;32m    579\u001b[0m \u001b[0;34m\u001b[0m\u001b[0m\n",
      "\u001b[0;32m~/Documents/research/papers/SGMCMC_bandit_tuning/venv/lib/python3.8/site-packages/jax/interpreters/xla.py\u001b[0m in \u001b[0;36m_xla_call_impl\u001b[0;34m(fun, device, backend, name, donated_invars, *args)\u001b[0m\n\u001b[1;32m    557\u001b[0m                                *unsafe_map(arg_spec, args))\n\u001b[1;32m    558\u001b[0m   \u001b[0;32mtry\u001b[0m\u001b[0;34m:\u001b[0m\u001b[0;34m\u001b[0m\u001b[0;34m\u001b[0m\u001b[0m\n\u001b[0;32m--> 559\u001b[0;31m     \u001b[0;32mreturn\u001b[0m \u001b[0mcompiled_fun\u001b[0m\u001b[0;34m(\u001b[0m\u001b[0;34m*\u001b[0m\u001b[0margs\u001b[0m\u001b[0;34m)\u001b[0m\u001b[0;34m\u001b[0m\u001b[0;34m\u001b[0m\u001b[0m\n\u001b[0m\u001b[1;32m    560\u001b[0m   \u001b[0;32mexcept\u001b[0m \u001b[0mFloatingPointError\u001b[0m\u001b[0;34m:\u001b[0m\u001b[0;34m\u001b[0m\u001b[0;34m\u001b[0m\u001b[0m\n\u001b[1;32m    561\u001b[0m     print(\"Invalid value encountered in the output of a jit function. \"\n",
      "\u001b[0;32m~/Documents/research/papers/SGMCMC_bandit_tuning/venv/lib/python3.8/site-packages/jax/interpreters/xla.py\u001b[0m in \u001b[0;36m_execute_compiled\u001b[0;34m(compiled, avals, handlers, *args)\u001b[0m\n\u001b[1;32m    789\u001b[0m   \u001b[0mdevice\u001b[0m\u001b[0;34m,\u001b[0m \u001b[0;34m=\u001b[0m \u001b[0mcompiled\u001b[0m\u001b[0;34m.\u001b[0m\u001b[0mlocal_devices\u001b[0m\u001b[0;34m(\u001b[0m\u001b[0;34m)\u001b[0m\u001b[0;34m\u001b[0m\u001b[0;34m\u001b[0m\u001b[0m\n\u001b[1;32m    790\u001b[0m   \u001b[0minput_bufs\u001b[0m \u001b[0;34m=\u001b[0m \u001b[0mlist\u001b[0m\u001b[0;34m(\u001b[0m\u001b[0mit\u001b[0m\u001b[0;34m.\u001b[0m\u001b[0mchain\u001b[0m\u001b[0;34m.\u001b[0m\u001b[0mfrom_iterable\u001b[0m\u001b[0;34m(\u001b[0m\u001b[0mdevice_put\u001b[0m\u001b[0;34m(\u001b[0m\u001b[0mx\u001b[0m\u001b[0;34m,\u001b[0m \u001b[0mdevice\u001b[0m\u001b[0;34m)\u001b[0m \u001b[0;32mfor\u001b[0m \u001b[0mx\u001b[0m \u001b[0;32min\u001b[0m \u001b[0margs\u001b[0m \u001b[0;32mif\u001b[0m \u001b[0mx\u001b[0m \u001b[0;32mis\u001b[0m \u001b[0;32mnot\u001b[0m \u001b[0mtoken\u001b[0m\u001b[0;34m)\u001b[0m\u001b[0;34m)\u001b[0m\u001b[0;34m\u001b[0m\u001b[0;34m\u001b[0m\u001b[0m\n\u001b[0;32m--> 791\u001b[0;31m   \u001b[0mout_bufs\u001b[0m \u001b[0;34m=\u001b[0m \u001b[0mcompiled\u001b[0m\u001b[0;34m.\u001b[0m\u001b[0mexecute\u001b[0m\u001b[0;34m(\u001b[0m\u001b[0minput_bufs\u001b[0m\u001b[0;34m)\u001b[0m\u001b[0;34m\u001b[0m\u001b[0;34m\u001b[0m\u001b[0m\n\u001b[0m\u001b[1;32m    792\u001b[0m   \u001b[0;32mif\u001b[0m \u001b[0mFLAGS\u001b[0m\u001b[0;34m.\u001b[0m\u001b[0mjax_debug_nans\u001b[0m\u001b[0;34m:\u001b[0m \u001b[0mcheck_nans\u001b[0m\u001b[0;34m(\u001b[0m\u001b[0mxla_call_p\u001b[0m\u001b[0;34m,\u001b[0m \u001b[0mout_bufs\u001b[0m\u001b[0;34m)\u001b[0m\u001b[0;34m\u001b[0m\u001b[0;34m\u001b[0m\u001b[0m\n\u001b[1;32m    793\u001b[0m   \u001b[0;32mreturn\u001b[0m \u001b[0;34m[\u001b[0m\u001b[0mhandler\u001b[0m\u001b[0;34m(\u001b[0m\u001b[0;34m*\u001b[0m\u001b[0mbs\u001b[0m\u001b[0;34m)\u001b[0m \u001b[0;32mfor\u001b[0m \u001b[0mhandler\u001b[0m\u001b[0;34m,\u001b[0m \u001b[0mbs\u001b[0m \u001b[0;32min\u001b[0m \u001b[0mzip\u001b[0m\u001b[0;34m(\u001b[0m\u001b[0mhandlers\u001b[0m\u001b[0;34m,\u001b[0m \u001b[0m_partition_outputs\u001b[0m\u001b[0;34m(\u001b[0m\u001b[0mavals\u001b[0m\u001b[0;34m,\u001b[0m \u001b[0mout_bufs\u001b[0m\u001b[0;34m)\u001b[0m\u001b[0;34m)\u001b[0m\u001b[0;34m]\u001b[0m\u001b[0;34m\u001b[0m\u001b[0;34m\u001b[0m\u001b[0m\n",
      "\u001b[0;31mKeyboardInterrupt\u001b[0m: "
     ]
    }
   ],
   "source": [
    "key = random.PRNGKey(0)\n",
    "b_s_r = 0.01\n",
    "dt = 10**(-4)\n",
    "\n",
    "time_budget = 1\n",
    "\n",
    "get_KSD_NN(key, time_budget, dt, b_s_r)\n"
   ]
  },
  {
   "cell_type": "code",
   "execution_count": null,
   "id": "237e0ed9",
   "metadata": {},
   "outputs": [],
   "source": []
  },
  {
   "cell_type": "code",
   "execution_count": null,
   "id": "3a9c1132",
   "metadata": {},
   "outputs": [],
   "source": []
  },
  {
   "cell_type": "code",
   "execution_count": null,
   "id": "774979e2",
   "metadata": {},
   "outputs": [],
   "source": []
  },
  {
   "cell_type": "code",
   "execution_count": null,
   "id": "db46e12f",
   "metadata": {},
   "outputs": [],
   "source": []
  },
  {
   "cell_type": "markdown",
   "id": "d460b4a2",
   "metadata": {},
   "source": [
    "## Run grid search\n",
    "\n"
   ]
  },
  {
   "cell_type": "code",
   "execution_count": 19,
   "id": "c4b55292",
   "metadata": {},
   "outputs": [],
   "source": [
    "# ranges for step size and batch size\n",
    "log_dt_range = np.arange(-6.5,-2.5, 0.5)\n",
    "dt_range = 10**(log_dt_range)\n",
    "\n",
    "log_b_s_r_range = np.arange(0,3,0.5)\n",
    "b_s_r_range = 10**(-log_b_s_r_range)\n",
    "\n",
    "# initialise the dictionaries\n",
    "list_ksd_names = ['ksd_list_fb', 'ksd_list_fb_thin', 'ksd_list_stoch', 'ksd_list_stoch_thin']\n",
    "\n",
    "dict_LR_dt_range = {k:[] for k in list_ksd_names}\n",
    "dict_PMF_dt_range = {k:[] for k in list_ksd_names}\n",
    "dict_NN_dt_range = {k:[] for k in list_ksd_names}\n",
    "\n",
    "\n",
    "dict_LR_b_s_r_range = {k:[] for k in list_ksd_names}\n",
    "dict_PMF_b_s_r_range = {k:[] for k in list_ksd_names}\n",
    "dict_NN_b_s_r_range = {k:[] for k in list_ksd_names}"
   ]
  },
  {
   "cell_type": "markdown",
   "id": "adcffa00",
   "metadata": {},
   "source": [
    "## 1. Logistic regression"
   ]
  },
  {
   "cell_type": "code",
   "execution_count": 102,
   "id": "e1ee2785",
   "metadata": {},
   "outputs": [
    {
     "name": "stdout",
     "output_type": "stream",
     "text": [
      "dt: 0.000000\n",
      "Number of samples: 6447\n",
      "dt: 0.000001\n",
      "Number of samples: 6103\n",
      "dt: 0.000003\n",
      "Number of samples: 6136\n",
      "dt: 0.000010\n",
      "Number of samples: 5788\n",
      "dt: 0.000032\n",
      "Number of samples: 5717\n",
      "dt: 0.000100\n",
      "Number of samples: 6058\n",
      "dt: 0.000316\n",
      "Number of samples: 5987\n",
      "dt: 0.001000\n",
      "Number of samples: 5906\n"
     ]
    }
   ],
   "source": [
    "# grid search over step size\n",
    "b_s_r = 0.01\n",
    "\n",
    "for dt in dt_range:\n",
    "    print(f\"dt: {dt:.6f}\")\n",
    "    ksd_estimates = get_KSD_LR(key, time_budget, dt, b_s_r)\n",
    "    for names, ksd_est in zip(list_ksd_names, ksd_estimates):\n",
    "        dict_LR_dt_range[names].append(ksd_est)\n",
    "        \n",
    "        \n",
    "# grid search over batch size\n",
    "\n",
    "dt = 10**(-4.5)\n",
    "\n",
    "for b_s_r in b_s_r_range:\n",
    "    print(f\"b_s_r: {b_s_r:.4f}\")\n",
    "    ksd_estimates = get_KSD_LR(key, time_budget, dt, b_s_r)\n",
    "    for names, ksd_est in zip(list_ksd_names, ksd_estimates):\n",
    "        dict_LR_b_s_r_range[names].append(ksd_est)\n",
    "        \n",
    "        "
   ]
  },
  {
   "cell_type": "code",
   "execution_count": 191,
   "id": "a64d3334",
   "metadata": {},
   "outputs": [],
   "source": [
    "# save LR runs\n",
    "# for names, ksdlist in dict_LR_dt_range.items():\n",
    "#     np.savetxt(f\"outputs/SH_tests/LR/dt_range/{names}.txt\", ksdlist)\n",
    "    \n",
    "# for names, ksdlist in dict_LR_b_s_r_range.items():\n",
    "#     np.savetxt(f\"outputs/SH_tests/LR/b_s_r_range/{names}.txt\", ksdlist)\n",
    "    \n"
   ]
  },
  {
   "cell_type": "code",
   "execution_count": null,
   "id": "d924d82f",
   "metadata": {},
   "outputs": [],
   "source": []
  },
  {
   "cell_type": "code",
   "execution_count": null,
   "id": "b0657a4b",
   "metadata": {},
   "outputs": [],
   "source": []
  },
  {
   "cell_type": "markdown",
   "id": "c6262e87",
   "metadata": {},
   "source": [
    "## 2. PMF"
   ]
  },
  {
   "cell_type": "code",
   "execution_count": 33,
   "id": "27376749",
   "metadata": {},
   "outputs": [
    {
     "name": "stdout",
     "output_type": "stream",
     "text": [
      "dt: 0.000000\n",
      "Number of samples: 573\n",
      "dt: 0.000001\n",
      "Number of samples: 499\n",
      "dt: 0.000003\n",
      "Number of samples: 511\n",
      "dt: 0.000010\n",
      "Number of samples: 520\n",
      "dt: 0.000032\n",
      "Number of samples: 523\n",
      "dt: 0.000100\n",
      "Number of samples: 518\n",
      "dt: 0.000316\n",
      "Number of samples: 472\n",
      "dt: 0.001000\n",
      "Number of samples: 525\n"
     ]
    }
   ],
   "source": [
    "# grid search over step size\n",
    "b_s_r = 0.01\n",
    "\n",
    "for dt in dt_range:\n",
    "    print(f\"dt: {dt:.6f}\")\n",
    "    ksd_estimates = get_KSD_PMF(key, time_budget, dt, b_s_r)\n",
    "    for names, ksd_est in zip(list_ksd_names, ksd_estimates):\n",
    "        dict_PMF_dt_range[names].append(ksd_est)\n",
    "        \n",
    "        "
   ]
  },
  {
   "cell_type": "code",
   "execution_count": 34,
   "id": "ed5b2f21",
   "metadata": {},
   "outputs": [],
   "source": [
    "# save PMF runs\n",
    "# for names, ksdlist in dict_PMF_dt_range.items():\n",
    "#     np.savetxt(f\"outputs/SH_tests/PMF/dt_range/{names}.txt\", ksdlist)\n",
    "    "
   ]
  },
  {
   "cell_type": "code",
   "execution_count": 35,
   "id": "2820685b",
   "metadata": {},
   "outputs": [
    {
     "name": "stdout",
     "output_type": "stream",
     "text": [
      "b_s_r: 1.0000\n",
      "Number of samples: 91\n",
      "b_s_r: 0.3162\n",
      "Number of samples: 232\n",
      "b_s_r: 0.1000\n",
      "Number of samples: 371\n",
      "b_s_r: 0.0316\n",
      "Number of samples: 496\n",
      "b_s_r: 0.0100\n",
      "Number of samples: 528\n",
      "b_s_r: 0.0032\n",
      "Number of samples: 545\n"
     ]
    }
   ],
   "source": [
    "# grid search over batch size\n",
    "dt = 10**(-4.5)\n",
    "\n",
    "for b_s_r in b_s_r_range:\n",
    "    print(f\"b_s_r: {b_s_r:.4f}\")\n",
    "    ksd_estimates = get_KSD_PMF(key, time_budget, dt, b_s_r)\n",
    "    for names, ksd_est in zip(list_ksd_names, ksd_estimates):\n",
    "        dict_PMF_b_s_r_range[names].append(ksd_est)\n",
    "        \n",
    "        "
   ]
  },
  {
   "cell_type": "code",
   "execution_count": 36,
   "id": "4944c62e",
   "metadata": {},
   "outputs": [],
   "source": [
    "# for names, ksdlist in dict_PMF_b_s_r_range.items():\n",
    "#     np.savetxt(f\"outputs/SH_tests/PMF/b_s_r_range/{names}.txt\", ksdlist)\n",
    "    \n"
   ]
  },
  {
   "cell_type": "code",
   "execution_count": null,
   "id": "23b3db0b",
   "metadata": {},
   "outputs": [],
   "source": []
  },
  {
   "cell_type": "markdown",
   "id": "2f481158",
   "metadata": {},
   "source": [
    "## 3. NN"
   ]
  },
  {
   "cell_type": "code",
   "execution_count": 79,
   "id": "e6179893",
   "metadata": {},
   "outputs": [
    {
     "name": "stdout",
     "output_type": "stream",
     "text": [
      "dt: 0.000000\n",
      "Number of samples: 335\n",
      "dt: 0.000001\n",
      "Number of samples: 347\n",
      "dt: 0.000003\n",
      "Number of samples: 347\n",
      "dt: 0.000010\n",
      "Number of samples: 345\n",
      "dt: 0.000032\n",
      "Number of samples: 348\n",
      "dt: 0.000100\n",
      "Number of samples: 411\n",
      "dt: 0.000316\n",
      "Number of samples: 424\n",
      "dt: 0.001000\n",
      "Number of samples: 419\n"
     ]
    }
   ],
   "source": [
    "# grid search over step size\n",
    "b_s_r = 0.01\n",
    "\n",
    "for dt in dt_range:\n",
    "    print(f\"dt: {dt:.6f}\")\n",
    "    ksd_estimates = get_KSD_NN(key, time_budget, dt, b_s_r)\n",
    "    for names, ksd_est in zip(list_ksd_names, ksd_estimates):\n",
    "        dict_NN_dt_range[names].append(ksd_est)\n",
    "        \n",
    "        "
   ]
  },
  {
   "cell_type": "code",
   "execution_count": 104,
   "id": "9c990b86",
   "metadata": {},
   "outputs": [
    {
     "data": {
      "text/plain": [
       "['ksd_list_fb', 'ksd_list_fb_thin', 'ksd_list_stoch', 'ksd_list_stoch_thin']"
      ]
     },
     "execution_count": 104,
     "metadata": {},
     "output_type": "execute_result"
    }
   ],
   "source": [
    "list_ksd_names"
   ]
  },
  {
   "cell_type": "code",
   "execution_count": null,
   "id": "056b93d3",
   "metadata": {},
   "outputs": [],
   "source": []
  },
  {
   "cell_type": "code",
   "execution_count": 110,
   "id": "3ed870e6",
   "metadata": {},
   "outputs": [],
   "source": [
    "# save NN runs\n",
    "# for names, ksdlist in dict_NN_dt_range.items():\n",
    "#     np.savetxt(f\"outputs/SH_tests/NN/dt_range/{names}.txt\", ksdlist)\n",
    "    "
   ]
  },
  {
   "cell_type": "code",
   "execution_count": 81,
   "id": "da61c917",
   "metadata": {},
   "outputs": [
    {
     "name": "stdout",
     "output_type": "stream",
     "text": [
      "b_s_r: 1.0000\n",
      "Number of samples: 8\n",
      "b_s_r: 0.3162\n",
      "Number of samples: 23\n",
      "b_s_r: 0.1000\n",
      "Number of samples: 67\n",
      "b_s_r: 0.0316\n",
      "Number of samples: 199\n",
      "b_s_r: 0.0100\n",
      "Number of samples: 414\n",
      "b_s_r: 0.0032\n",
      "Number of samples: 643\n"
     ]
    }
   ],
   "source": [
    "# grid search over batch size\n",
    "dt = 10**(-4.5)\n",
    "\n",
    "\n",
    "for b_s_r in b_s_r_range:\n",
    "    print(f\"b_s_r: {b_s_r:.4f}\")\n",
    "    ksd_estimates = get_KSD_NN(key, time_budget, dt, b_s_r)\n",
    "    for names, ksd_est in zip(list_ksd_names, ksd_estimates):\n",
    "        dict_NN_b_s_r_range[names].append(ksd_est)\n",
    "        \n",
    "        "
   ]
  },
  {
   "cell_type": "code",
   "execution_count": 131,
   "id": "de050623",
   "metadata": {},
   "outputs": [],
   "source": [
    "# for names, ksdlist in dict_NN_b_s_r_range.items():\n",
    "#     np.savetxt(f\"outputs/SH_tests/NN/b_s_r_range/{names}.txt\", ksdlist)\n",
    "    \n"
   ]
  },
  {
   "cell_type": "markdown",
   "id": "a3f20c1e",
   "metadata": {},
   "source": [
    "# create plot"
   ]
  },
  {
   "cell_type": "code",
   "execution_count": null,
   "id": "9e0dd825",
   "metadata": {},
   "outputs": [],
   "source": []
  },
  {
   "cell_type": "code",
   "execution_count": 22,
   "id": "92e8bbcc",
   "metadata": {},
   "outputs": [
    {
     "data": {
      "image/png": "[encoded data removed]",
      "text/plain": [
       "<Figure size 432x288 with 1 Axes>"
      ]
     },
     "metadata": {},
     "output_type": "display_data"
    }
   ],
   "source": [
    "cut_list = 1\n",
    "\n",
    "for k,v in dict_LR_dt_range.items():\n",
    "    plt.plot(log_dt_range[:-cut_list], v[:-cut_list], marker=\"+\")\n"
   ]
  },
  {
   "cell_type": "code",
   "execution_count": 117,
   "id": "e0a6f2fc",
   "metadata": {},
   "outputs": [
    {
     "data": {
      "text/plain": [
       "<matplotlib.legend.Legend at 0x7fde070b4790>"
      ]
     },
     "execution_count": 117,
     "metadata": {},
     "output_type": "execute_result"
    },
    {
     "data": {
      "image/png": "[encoded data removed]",
      "text/plain": [
       "<Figure size 432x288 with 1 Axes>"
      ]
     },
     "metadata": {},
     "output_type": "display_data"
    }
   ],
   "source": [
    "plt.plot(log_dt_range, dict_NN_dt_range['ksd_list_fb'], marker=\"+\", label=\"fb\")\n",
    "plt.plot(log_dt_range, dict_NN_dt_range['ksd_list_fb_thin'], marker=\"o\", label=\"fb, thin\")\n",
    "plt.plot(log_dt_range, dict_NN_dt_range['ksd_list_stoch'], marker=\"<\", label=\"stoch\")\n",
    "plt.plot(log_dt_range, dict_NN_dt_range['ksd_list_stoch_thin'], marker=\">\", label=\"stoch, thin\")\n",
    "plt.yscale(\"log\")\n",
    "\n",
    "plt.legend(fontsize=16)"
   ]
  },
  {
   "cell_type": "code",
   "execution_count": 132,
   "id": "d1484575",
   "metadata": {},
   "outputs": [
    {
     "data": {
      "text/plain": [
       "<matplotlib.legend.Legend at 0x7fde0745a8b0>"
      ]
     },
     "execution_count": 132,
     "metadata": {},
     "output_type": "execute_result"
    },
    {
     "data": {
      "image/png": "[encoded data removed]",
      "text/plain": [
       "<Figure size 432x288 with 1 Axes>"
      ]
     },
     "metadata": {},
     "output_type": "display_data"
    }
   ],
   "source": [
    "plt.plot(b_s_r_range, dict_NN_b_s_r_range['ksd_list_fb'], marker=\"+\", label=\"fb\")\n",
    "plt.plot(b_s_r_range, dict_NN_b_s_r_range['ksd_list_fb_thin'], marker=\"o\", label=\"fb, thin\")\n",
    "plt.plot(b_s_r_range, dict_NN_b_s_r_range['ksd_list_stoch'], marker=\"<\", label=\"stoch\")\n",
    "plt.plot(b_s_r_range, dict_NN_b_s_r_range['ksd_list_stoch_thin'], marker=\">\", label=\"stoch, thin\")\n",
    "plt.xscale(\"log\")\n",
    "\n",
    "plt.legend(fontsize=16)"
   ]
  },
  {
   "cell_type": "code",
   "execution_count": null,
   "id": "9d0b798a",
   "metadata": {},
   "outputs": [],
   "source": []
  },
  {
   "cell_type": "code",
   "execution_count": null,
   "id": "bc5587ce",
   "metadata": {},
   "outputs": [],
   "source": []
  },
  {
   "cell_type": "code",
   "execution_count": null,
   "id": "334f00ed",
   "metadata": {},
   "outputs": [],
   "source": []
  },
  {
   "cell_type": "code",
   "execution_count": null,
   "id": "972cd8e1",
   "metadata": {},
   "outputs": [],
   "source": []
  },
  {
   "cell_type": "markdown",
   "id": "ccbbe1a6",
   "metadata": {},
   "source": [
    "### 3 figures"
   ]
  },
  {
   "cell_type": "code",
   "execution_count": null,
   "id": "1efd5a81",
   "metadata": {},
   "outputs": [],
   "source": [
    "# Load data for figures\n",
    "list_ksd_names = ['ksd_list_fb', 'ksd_list_fb_thin', 'ksd_list_stoch', 'ksd_list_stoch_thin']\n",
    "\n",
    "# ========\n",
    "# Logistic regression\n",
    "dict_LR_dt_range = {}\n",
    "for names in list_ksd_names:\n",
    "    dict_LR_dt_range[names] = np.genfromtxt(f\"outputs/SH_tests/LR/dt_range/{names}.txt\")\n",
    "    \n",
    "dict_LR_b_s_r_range = {}\n",
    "for names in list_ksd_names:\n",
    "    dict_LR_b_s_r_range[names] = np.genfromtxt(f\"outputs/SH_tests/LR/b_s_r_range/{names}.txt\")\n",
    "    \n",
    "\n",
    "# ========\n",
    "# PMF\n",
    "dict_PMF_dt_range = {}\n",
    "for names in list_ksd_names:\n",
    "    dict_PMF_dt_range[names] = np.genfromtxt(f\"outputs/SH_tests/PMF/dt_range/{names}.txt\")\n",
    "    \n",
    "dict_PMF_b_s_r_range = {}\n",
    "for names in list_ksd_names:\n",
    "    dict_PMF_b_s_r_range[names] = np.genfromtxt(f\"outputs/SH_tests/PMF/b_s_r_range/{names}.txt\")\n",
    "\n",
    "# ========   \n",
    "# NN\n",
    "dict_NN_dt_range = {}\n",
    "for names in list_ksd_names:\n",
    "    dict_NN_dt_range[names] = np.genfromtxt(f\"outputs/SH_tests/NN/dt_range/{names}.txt\")\n",
    "    \n",
    "dict_NN_b_s_r_range = {}\n",
    "for names in list_ksd_names:\n",
    "    dict_NN_b_s_r_range[names] = np.genfromtxt(f\"outputs/SH_tests/NN/b_s_r_range/{names}.txt\")\n",
    "    \n",
    "    "
   ]
  },
  {
   "cell_type": "markdown",
   "id": "3b6dad20",
   "metadata": {},
   "source": [
    "#### grid search of batch size"
   ]
  },
  {
   "cell_type": "code",
   "execution_count": null,
   "id": "2113ee02",
   "metadata": {},
   "outputs": [],
   "source": [
    "plt.rcParams.update({'font.size':17})\n",
    "fig, ax = plt.subplots(1,3, figsize=(21, 6), sharey=True)\n",
    "\n",
    "plt.rcParams.update({'font.size':17})\n",
    "fig, ax = plt.subplots(1,3, figsize=(21, 6), sharey=True)\n",
    "\n",
    "markerlist = [\"+\", \"o\", \"<\", \">\"]\n",
    "\n",
    "# ========\n",
    "# Logistic regression\n",
    "cut_list = 1\n",
    "for ksdlist, mker in zip(dict_LR_b_s_r_range.keys(), markerlist):\n",
    "    ax[0].plot(b_s_r_range, ksdlist, marker=mker)\n",
    "    \n",
    "ax[0].set_xlabel(r\"$/log(\\tau)$\", size=19)\n",
    "ax[0].set_xscale(\"log\")\n",
    "\n",
    "# ========\n",
    "# PMF\n",
    "for ksdlist, mker in zip(dict_PMF_b_s_r_range.keys(), markerlist):\n",
    "    ax[1].plot(b_s_r_range, ksdlist, marker=mker)\n",
    "\n",
    "ax[1].set_xlabel(r\"$/log(\\tau)$\", size=19)\n",
    "ax[1].set_xscale(\"log\")\n",
    "\n",
    "\n",
    "# ========\n",
    "# NN\n",
    "for ksdlist, mker in zip(dict_NN_b_s_r_range.keys(), markerlist):\n",
    "    ax[2].plot(b_s_r_range, ksdlist, marker=mker)\n",
    "\n",
    "ax[2].set_xlabel(r\"$/log(\\tau)$\", size=19)\n",
    "ax[2].set_xscale(\"log\")\n",
    "\n",
    "# plt.savefig(\"images/KSD_tests_batch_size.png\")"
   ]
  },
  {
   "cell_type": "markdown",
   "id": "53fe28c6",
   "metadata": {},
   "source": [
    "#### grid search of step size"
   ]
  },
  {
   "cell_type": "code",
   "execution_count": null,
   "id": "0f99401a",
   "metadata": {},
   "outputs": [],
   "source": [
    "plt.rcParams.update({'font.size':17})\n",
    "fig, ax = plt.subplots(1,3, figsize=(21, 6), sharey=True)\n",
    "\n",
    "markerlist = [\"+\", \"o\", \"<\", \">\"]\n",
    "\n",
    "# ========\n",
    "# Logistic regression\n",
    "cut_list = 1\n",
    "for ksdlist, mker in zip(dict_LR_dt_range.keys(), markerlist):\n",
    "    ax[0].plot(log_dt_range[:-cut_list], ksdlist[:-cut_list], marker=mker)\n",
    "    \n",
    "ax[0].set_xlabel(r\"$/log(h)$\", size=19)\n",
    "\n",
    "\n",
    "\n",
    "# ========\n",
    "# PMF\n",
    "cut_list = 1\n",
    "for ksdlist, mker in zip(dict_PMF_dt_range.keys(), markerlist):\n",
    "    ax[1].plot(log_dt_range[:-cut_list], ksdlist[:-cut_list], marker=mker)\n",
    "\n",
    "ax[1].set_xlabel(r\"$/log(h)$\", size=19)\n",
    "\n",
    "\n",
    "\n",
    "# ========\n",
    "# NN\n",
    "cut_list = 1\n",
    "for ksdlist, mker in zip(dict_NN_dt_range.keys(), markerlist):\n",
    "    ax[2].plot(log_dt_range[:-cut_list], ksdlist[:-cut_list], marker=mker)\n",
    "\n",
    "ax[2].set_xlabel(r\"$/log(h)$\", size=19)\n",
    "\n",
    "# plt.savefig(\"images/KSD_tests_step_size.png\")"
   ]
  },
  {
   "cell_type": "code",
   "execution_count": null,
   "id": "f8816323",
   "metadata": {},
   "outputs": [],
   "source": []
  }
 ],
 "metadata": {
  "kernelspec": {
   "display_name": "Python 3",
   "language": "python",
   "name": "python3"
  },
  "language_info": {
   "codemirror_mode": {
    "name": "ipython",
    "version": 3
   },
   "file_extension": ".py",
   "mimetype": "text/x-python",
   "name": "python",
   "nbconvert_exporter": "python",
   "pygments_lexer": "ipython3",
   "version": "3.8.2"
  }
 },
 "nbformat": 4,
 "nbformat_minor": 5
}
