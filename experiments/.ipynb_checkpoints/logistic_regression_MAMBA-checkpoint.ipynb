{
 "cells": [
  {
   "cell_type": "code",
   "execution_count": 10,
   "id": "906fd9ec",
   "metadata": {},
   "outputs": [],
   "source": [
    "%matplotlib inline\n",
    "import matplotlib.pyplot as plt\n",
    "import numpy as np\n",
    "\n",
    "import jax.numpy as jnp\n",
    "from jax import jit, random, vmap\n",
    "\n",
    "from sgmcmcjax.kernels import build_sgld_kernel, build_sghmc_kernel, build_sgnht_kernel\n",
    "from sgmcmcjax.kernels import build_sgldCV_kernel, build_sghmcCV_kernel, build_sgnhtCV_kernel\n",
    "from sgmcmcjax.optimizer import build_adam_optimizer\n",
    "from sgmcmcjax.util import build_grad_log_post\n",
    "\n",
    "import context\n",
    "from models.logistic_regression.logistic_regression_model import gen_data, loglikelihood, logprior\n",
    "from tuning.mamba import run_MAMBA\n",
    "from tuning.ksd import imq_KSD\n"
   ]
  },
  {
   "cell_type": "markdown",
   "id": "a01ea2b4",
   "metadata": {},
   "source": [
    "# Logistic regression - MAMBA"
   ]
  },
  {
   "cell_type": "code",
   "execution_count": 11,
   "id": "dd0b7388",
   "metadata": {},
   "outputs": [
    {
     "name": "stdout",
     "output_type": "stream",
     "text": [
      "generating data, with N=1,000,000 and dim=10\n",
      "(800000, 10) (200000, 10)\n"
     ]
    }
   ],
   "source": [
    "\n",
    "\n",
    "key = random.PRNGKey(42)\n",
    "dim = 10\n",
    "# Ndata = 100_000\n",
    "Ndata = 1_000_000\n",
    "\n",
    "theta_true, X, y_data = gen_data(key, dim, Ndata)\n",
    "\n",
    "# testing and training data\n",
    "num_train = int(Ndata*0.8)\n",
    "\n",
    "X_train = X[:num_train]\n",
    "X_test = X[num_train:]\n",
    "\n",
    "y_train = y_data[:num_train]\n",
    "y_test = y_data[num_train:]\n",
    "print(X_train.shape, X_test.shape)\n",
    "data = (X_train, y_train)\n"
   ]
  },
  {
   "cell_type": "code",
   "execution_count": 12,
   "id": "ad7130b3",
   "metadata": {},
   "outputs": [
    {
     "data": {
      "application/vnd.jupyter.widget-view+json": {
       "model_id": "b8de1a71d39b4bbb8bd02ea444130988",
       "version_major": 2,
       "version_minor": 0
      },
      "text/plain": [
       "HBox(children=(HTML(value=''), FloatProgress(value=0.0, max=5000.0), HTML(value='')))"
      ]
     },
     "metadata": {},
     "output_type": "display_data"
    },
    {
     "name": "stdout",
     "output_type": "stream",
     "text": [
      "\n"
     ]
    }
   ],
   "source": [
    "# get MAP\n",
    "batch_size = int(0.01*X_train.shape[0])\n",
    "run_adam = build_adam_optimizer(1e-2, loglikelihood, logprior, data, batch_size)\n",
    "key = random.PRNGKey(0)\n",
    "centering_value, logpost_array = run_adam(key, 5000, jnp.zeros(dim))\n",
    "params_IC = centering_value\n",
    "\n",
    "# T = 10\n",
    "R = 1 # running time of longest sampler\n",
    "\n",
    "error_fn = lambda x,y: imq_KSD(x[::5], y[::5])\n",
    "logdt_range = -jnp.arange(1., 8., 0.5) \n",
    "batch_size_range = [int(10**(-elem)*X_train.shape[0]) for elem in range(0, 5)]"
   ]
  },
  {
   "cell_type": "code",
   "execution_count": 20,
   "id": "288fb7be",
   "metadata": {},
   "outputs": [],
   "source": [
    "grad_log_post_fb = build_grad_log_post(loglikelihood, logprior, data)\n",
    "\n",
    "def grad_lp_LR_fb(theta):\n",
    "    return grad_log_post_fb(theta, X_train, y_train)\n",
    "\n",
    "batch_grad_lp_LR_fb = jit(vmap(grad_lp_LR_fb))\n",
    "\n",
    "@jit\n",
    "def get_fb_grads(samples):\n",
    "    thin=10\n",
    "    array_samples = jnp.array(samples[::thin])\n",
    "    mygrads = batch_grad_lp_LR_fb(array_samples)\n",
    "    return array_samples, mygrads"
   ]
  },
  {
   "cell_type": "code",
   "execution_count": null,
   "id": "7ae079c2",
   "metadata": {},
   "outputs": [],
   "source": []
  },
  {
   "cell_type": "markdown",
   "id": "912e1f22",
   "metadata": {},
   "source": [
    "### run MAMBA"
   ]
  },
  {
   "cell_type": "code",
   "execution_count": null,
   "id": "01a71a00",
   "metadata": {},
   "outputs": [],
   "source": []
  },
  {
   "cell_type": "code",
   "execution_count": 21,
   "id": "180a1973",
   "metadata": {},
   "outputs": [
    {
     "data": {
      "application/vnd.jupyter.widget-view+json": {
       "model_id": "1c90ede1065041a6b0894aaa9083146d",
       "version_major": 2,
       "version_minor": 0
      },
      "text/plain": [
       "HBox(children=(HTML(value='Iteration 1/3, 70 arms, time budget = 0.08 sec'), FloatProgress(value=0.0, max=70.0…"
      ]
     },
     "metadata": {},
     "output_type": "display_data"
    },
    {
     "name": "stdout",
     "output_type": "stream",
     "text": [
      "Hyperparams: {'batch_size': 800000, 'dt': 0.1}. metric: 627646\n",
      "Hyperparams: {'batch_size': 800000, 'dt': 0.031622775}. metric: 620876\n",
      "Hyperparams: {'batch_size': 800000, 'dt': 0.01}. metric: 599319\n",
      "Hyperparams: {'batch_size': 800000, 'dt': 0.0031622776}. metric: 487506\n",
      "Hyperparams: {'batch_size': 800000, 'dt': 0.001}. metric: 230270\n",
      "Hyperparams: {'batch_size': 800000, 'dt': 0.00031622776}. metric: 69859\n",
      "Hyperparams: {'batch_size': 800000, 'dt': 1e-04}. metric: 22171\n",
      "Hyperparams: {'batch_size': 800000, 'dt': 3.1622778e-05}. metric: 4516\n",
      "Hyperparams: {'batch_size': 800000, 'dt': 1e-05}. metric: 1008\n",
      "Hyperparams: {'batch_size': 800000, 'dt': 3.1622776e-06}. metric: 2652\n",
      "Hyperparams: {'batch_size': 800000, 'dt': 1e-06}. metric: 2898\n",
      "Hyperparams: {'batch_size': 800000, 'dt': 3.1622776e-07}. metric: 3223\n",
      "Hyperparams: {'batch_size': 800000, 'dt': 1e-07}. metric: 3167\n",
      "Hyperparams: {'batch_size': 800000, 'dt': 3.1622776e-08}. metric: 3208\n",
      "Hyperparams: {'batch_size': 80000, 'dt': 0.1}. metric: 632056\n",
      "Hyperparams: {'batch_size': 80000, 'dt': 0.031622775}. metric: 608630\n",
      "Hyperparams: {'batch_size': 80000, 'dt': 0.01}. metric: 506976\n",
      "Hyperparams: {'batch_size': 80000, 'dt': 0.0031622776}. metric: 523343\n",
      "Hyperparams: {'batch_size': 80000, 'dt': 0.001}. metric: 194911\n",
      "Hyperparams: {'batch_size': 80000, 'dt': 0.00031622776}. metric: 40651\n",
      "Hyperparams: {'batch_size': 80000, 'dt': 1e-04}. metric: 40524\n",
      "Hyperparams: {'batch_size': 80000, 'dt': 3.1622778e-05}. metric: 9171\n",
      "Hyperparams: {'batch_size': 80000, 'dt': 1e-05}. metric: 1090\n",
      "Hyperparams: {'batch_size': 80000, 'dt': 3.1622776e-06}. metric: 2362\n",
      "Hyperparams: {'batch_size': 80000, 'dt': 1e-06}. metric: 3090\n",
      "Hyperparams: {'batch_size': 80000, 'dt': 3.1622776e-07}. metric: 3086\n",
      "Hyperparams: {'batch_size': 80000, 'dt': 1e-07}. metric: 3120\n",
      "Hyperparams: {'batch_size': 80000, 'dt': 3.1622776e-08}. metric: 3218\n",
      "Hyperparams: {'batch_size': 8000, 'dt': 0.1}. metric: 135199\n",
      "Hyperparams: {'batch_size': 8000, 'dt': 0.031622775}. metric: 161910\n",
      "Hyperparams: {'batch_size': 8000, 'dt': 0.01}. metric: 163397\n",
      "Hyperparams: {'batch_size': 8000, 'dt': 0.0031622776}. metric: 111786\n",
      "Hyperparams: {'batch_size': 8000, 'dt': 0.001}. metric: 79444\n",
      "Hyperparams: {'batch_size': 8000, 'dt': 0.00031622776}. metric: 64920\n",
      "Hyperparams: {'batch_size': 8000, 'dt': 1e-04}. metric: 33068\n",
      "Hyperparams: {'batch_size': 8000, 'dt': 3.1622778e-05}. metric: 18253\n",
      "Hyperparams: {'batch_size': 8000, 'dt': 1e-05}. metric: 1685\n",
      "Hyperparams: {'batch_size': 8000, 'dt': 3.1622776e-06}. metric: 1472\n",
      "Hyperparams: {'batch_size': 8000, 'dt': 1e-06}. metric: 861\n",
      "Hyperparams: {'batch_size': 8000, 'dt': 3.1622776e-07}. metric: 1391\n",
      "Hyperparams: {'batch_size': 8000, 'dt': 1e-07}. metric: 2082\n",
      "Hyperparams: {'batch_size': 8000, 'dt': 3.1622776e-08}. metric: 2744\n",
      "Hyperparams: {'batch_size': 800, 'dt': 0.1}. metric: 67895\n",
      "Hyperparams: {'batch_size': 800, 'dt': 0.031622775}. metric: 50052\n",
      "Hyperparams: {'batch_size': 800, 'dt': 0.01}. metric: 66364\n",
      "Hyperparams: {'batch_size': 800, 'dt': 0.0031622776}. metric: 54836\n",
      "Hyperparams: {'batch_size': 800, 'dt': 0.001}. metric: 53908\n",
      "Hyperparams: {'batch_size': 800, 'dt': 0.00031622776}. metric: 32258\n",
      "Hyperparams: {'batch_size': 800, 'dt': 1e-04}. metric: 18449\n",
      "Hyperparams: {'batch_size': 800, 'dt': 3.1622778e-05}. metric: 21483\n",
      "Hyperparams: {'batch_size': 800, 'dt': 1e-05}. metric: 4444\n",
      "Hyperparams: {'batch_size': 800, 'dt': 3.1622776e-06}. metric: 2005\n",
      "Hyperparams: {'batch_size': 800, 'dt': 1e-06}. metric: 470\n",
      "Hyperparams: {'batch_size': 800, 'dt': 3.1622776e-07}. metric: 1262\n",
      "Hyperparams: {'batch_size': 800, 'dt': 1e-07}. metric: 1076\n",
      "Hyperparams: {'batch_size': 800, 'dt': 3.1622776e-08}. metric: 2381\n",
      "Hyperparams: {'batch_size': 80, 'dt': 0.1}. metric: 65678\n",
      "Hyperparams: {'batch_size': 80, 'dt': 0.031622775}. metric: 67347\n",
      "Hyperparams: {'batch_size': 80, 'dt': 0.01}. metric: 71436\n",
      "Hyperparams: {'batch_size': 80, 'dt': 0.0031622776}. metric: 58142\n",
      "Hyperparams: {'batch_size': 80, 'dt': 0.001}. metric: 56307\n",
      "Hyperparams: {'batch_size': 80, 'dt': 0.00031622776}. metric: 57606\n",
      "Hyperparams: {'batch_size': 80, 'dt': 1e-04}. metric: 33732\n",
      "Hyperparams: {'batch_size': 80, 'dt': 3.1622778e-05}. metric: 26709\n",
      "Hyperparams: {'batch_size': 80, 'dt': 1e-05}. metric: 10417\n",
      "Hyperparams: {'batch_size': 80, 'dt': 3.1622776e-06}. metric: 4623\n",
      "Hyperparams: {'batch_size': 80, 'dt': 1e-06}. metric: 2740\n",
      "Hyperparams: {'batch_size': 80, 'dt': 3.1622776e-07}. metric: 3911\n",
      "Hyperparams: {'batch_size': 80, 'dt': 1e-07}. metric: 2341\n",
      "Hyperparams: {'batch_size': 80, 'dt': 3.1622776e-08}. metric: 2925\n",
      "\n",
      "Number of samples: [44, 16, 1, 45, 3, 45, 17, 17, 16, 44, 16, 45, 3, 45, 2, 45, 16, 1, 44, 3, 3, 3, 1]\n"
     ]
    },
    {
     "data": {
      "application/vnd.jupyter.widget-view+json": {
       "model_id": "837fb0cc024f407283bd788b5a3ebe21",
       "version_major": 2,
       "version_minor": 0
      },
      "text/plain": [
       "HBox(children=(HTML(value='Iteration 2/3, 23 arms, time budget = 0.23 sec'), FloatProgress(value=0.0, max=23.0…"
      ]
     },
     "metadata": {},
     "output_type": "display_data"
    },
    {
     "name": "stdout",
     "output_type": "stream",
     "text": [
      "Hyperparams: {'batch_size': 800, 'dt': 1e-06}. metric: 521\n",
      "Hyperparams: {'batch_size': 8000, 'dt': 1e-06}. metric: 357\n",
      "Hyperparams: {'batch_size': 800000, 'dt': 1e-05}. metric: 673\n",
      "Hyperparams: {'batch_size': 800, 'dt': 1e-07}. metric: 666\n",
      "Hyperparams: {'batch_size': 80000, 'dt': 1e-05}. metric: 716\n",
      "Hyperparams: {'batch_size': 800, 'dt': 3.1622776e-07}. metric: 506\n",
      "Hyperparams: {'batch_size': 8000, 'dt': 3.1622776e-07}. metric: 401\n",
      "Hyperparams: {'batch_size': 8000, 'dt': 3.1622776e-06}. metric: 546\n",
      "Hyperparams: {'batch_size': 8000, 'dt': 1e-05}. metric: 1326\n",
      "Hyperparams: {'batch_size': 800, 'dt': 3.1622776e-06}. metric: 749\n",
      "Hyperparams: {'batch_size': 8000, 'dt': 1e-07}. metric: 406\n",
      "Hyperparams: {'batch_size': 80, 'dt': 1e-07}. metric: 1447\n",
      "Hyperparams: {'batch_size': 80000, 'dt': 3.1622776e-06}. metric: 425\n",
      "Hyperparams: {'batch_size': 800, 'dt': 3.1622776e-08}. metric: 696\n",
      "Hyperparams: {'batch_size': 800000, 'dt': 3.1622776e-06}. metric: 560\n",
      "Hyperparams: {'batch_size': 80, 'dt': 1e-06}. metric: 1144\n",
      "Hyperparams: {'batch_size': 8000, 'dt': 3.1622776e-08}. metric: 1496\n",
      "Hyperparams: {'batch_size': 800000, 'dt': 1e-06}. metric: 1525\n",
      "Hyperparams: {'batch_size': 80, 'dt': 3.1622776e-08}. metric: 1710\n",
      "Hyperparams: {'batch_size': 80000, 'dt': 3.1622776e-07}. metric: 1345\n",
      "Hyperparams: {'batch_size': 80000, 'dt': 1e-06}. metric: 511\n",
      "Hyperparams: {'batch_size': 80000, 'dt': 1e-07}. metric: 2352\n",
      "Hyperparams: {'batch_size': 800000, 'dt': 1e-07}. metric: 3075\n",
      "\n",
      "Number of samples: [67, 68, 62, 12, 181, 12, 180]\n"
     ]
    },
    {
     "data": {
      "application/vnd.jupyter.widget-view+json": {
       "model_id": "1cccc565b34d429c94c74a283c8c5f6f",
       "version_major": 2,
       "version_minor": 0
      },
      "text/plain": [
       "HBox(children=(HTML(value='Iteration 3/3, 7 arms, time budget = 0.77 sec'), FloatProgress(value=0.0, max=7.0),…"
      ]
     },
     "metadata": {},
     "output_type": "display_data"
    },
    {
     "name": "stdout",
     "output_type": "stream",
     "text": [
      "Hyperparams: {'batch_size': 8000, 'dt': 1e-06}. metric: 111\n",
      "Hyperparams: {'batch_size': 8000, 'dt': 3.1622776e-07}. metric: 242\n",
      "Hyperparams: {'batch_size': 8000, 'dt': 1e-07}. metric: 238\n",
      "Hyperparams: {'batch_size': 80000, 'dt': 3.1622776e-06}. metric: 286\n",
      "Hyperparams: {'batch_size': 800, 'dt': 3.1622776e-07}. metric: 345\n",
      "Hyperparams: {'batch_size': 80000, 'dt': 1e-06}. metric: 228\n",
      "Hyperparams: {'batch_size': 800, 'dt': 1e-06}. metric: 229\n",
      "\n",
      "Number of samples: [235, 39]\n",
      "Running time: 157.7 sec\n",
      "{'batch_size': 8000, 'dt': 1e-06} 110.581345 (235, 10)\n"
     ]
    }
   ],
   "source": [
    "build_kernel = lambda dt, batch_size: build_sgld_kernel(dt, loglikelihood, logprior, data, batch_size)\n",
    "\n",
    "grid_params = {'log_dt': logdt_range, \n",
    "               'batch_size': batch_size_range\n",
    "              }\n",
    "best_arm = run_MAMBA(key, build_kernel, error_fn, R, params_IC, \n",
    "                     grid_params=grid_params, get_fb_grads=get_fb_grads)\n",
    "\n",
    "print(best_arm.hyperparameters, best_arm.metric, best_arm.samples.shape)"
   ]
  },
  {
   "cell_type": "code",
   "execution_count": null,
   "id": "bacbc413",
   "metadata": {
    "scrolled": true
   },
   "outputs": [],
   "source": [
    "build_kernel = lambda dt, batch_size: build_sgldCV_kernel(dt, loglikelihood, \n",
    "                                                  logprior, data, batch_size, centering_value)\n",
    "\n",
    "best_arm = run_MAMBA(key, build_kernel, error_fn, R, params_IC, \n",
    "                     grid_params=grid_params, get_fb_grads=get_fb_grads)\n",
    "\n",
    "print(best_arm.hyperparameters, best_arm.metric, best_arm.samples.shape)"
   ]
  },
  {
   "cell_type": "code",
   "execution_count": null,
   "id": "6c0a862d",
   "metadata": {},
   "outputs": [],
   "source": [
    "build_kernel = lambda dt, L, batch_size: build_sghmc_kernel(dt, L, loglikelihood, \n",
    "                                                  logprior, data, batch_size)\n",
    "\n",
    "grid_params = {'log_dt': logdt_range, \n",
    "               'batch_size': batch_size_range,\n",
    "               \"L\": [5, 10]\n",
    "              }\n",
    "best_arm = run_MAMBA(key, build_kernel, error_fn, R, params_IC, grid_params=grid_params, get_fb_grads=get_fb_grads)\n",
    "\n",
    "print(best_arm.hyperparameters, best_arm.metric, best_arm.samples.shape)"
   ]
  },
  {
   "cell_type": "code",
   "execution_count": null,
   "id": "a39f7bf0",
   "metadata": {},
   "outputs": [],
   "source": [
    "build_kernel = lambda dt, L, batch_size: build_sghmcCV_kernel(dt, L, loglikelihood, \n",
    "                                                  logprior, data, batch_size, centering_value)\n",
    "\n",
    "grid_params = {'log_dt': logdt_range, \n",
    "               'batch_size': batch_size_range,\n",
    "               \"L\": [5, 10]\n",
    "              }\n",
    "best_arm = run_MAMBA(key, build_kernel, error_fn, R, params_IC, grid_params=grid_params, get_fb_grads=get_fb_grads)\n",
    "\n",
    "print(best_arm.hyperparameters, best_arm.metric, best_arm.samples.shape)"
   ]
  },
  {
   "cell_type": "code",
   "execution_count": null,
   "id": "2cafa0ac",
   "metadata": {},
   "outputs": [],
   "source": [
    "build_kernel = lambda dt, batch_size: build_sgnht_kernel(dt, loglikelihood, logprior, data, batch_size)\n",
    "\n",
    "grid_params = {'log_dt': logdt_range, \n",
    "               'batch_size': batch_size_range\n",
    "              }\n",
    "best_arm = run_MAMBA(key, build_kernel, error_fn, R, params_IC, grid_params=grid_params, get_fb_grads=get_fb_grads)\n",
    "\n",
    "print(best_arm.hyperparameters, best_arm.metric, best_arm.samples.shape)"
   ]
  },
  {
   "cell_type": "code",
   "execution_count": null,
   "id": "ada995a7",
   "metadata": {},
   "outputs": [],
   "source": [
    "build_kernel = lambda dt, batch_size: build_sgnhtCV_kernel(dt, loglikelihood, \n",
    "                                                  logprior, data, batch_size, centering_value)\n",
    "grid_params = {'log_dt': logdt_range, \n",
    "               'batch_size': batch_size_range\n",
    "              }\n",
    "best_arm = run_MAMBA(key, build_kernel, error_fn, R, params_IC, grid_params=grid_params, get_fb_grads=get_fb_grads)\n",
    "\n",
    "print(best_arm.hyperparameters, best_arm.metric, best_arm.samples.shape)"
   ]
  },
  {
   "cell_type": "code",
   "execution_count": null,
   "id": "ec0f4428",
   "metadata": {},
   "outputs": [],
   "source": []
  }
 ],
 "metadata": {
  "kernelspec": {
   "display_name": "Python 3",
   "language": "python",
   "name": "python3"
  },
  "language_info": {
   "codemirror_mode": {
    "name": "ipython",
    "version": 3
   },
   "file_extension": ".py",
   "mimetype": "text/x-python",
   "name": "python",
   "nbconvert_exporter": "python",
   "pygments_lexer": "ipython3",
   "version": "3.8.2"
  }
 },
 "nbformat": 4,
 "nbformat_minor": 5
}
