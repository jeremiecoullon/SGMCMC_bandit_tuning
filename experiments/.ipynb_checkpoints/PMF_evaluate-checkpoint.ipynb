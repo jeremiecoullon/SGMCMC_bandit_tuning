{
 "cells": [
  {
   "cell_type": "code",
   "execution_count": 1,
   "id": "906fd9ec",
   "metadata": {},
   "outputs": [
    {
     "name": "stderr",
     "output_type": "stream",
     "text": [
      "WARNING:absl:No GPU/TPU found, falling back to CPU. (Set TF_CPP_MIN_LOG_LEVEL=0 and rerun for more info.)\n"
     ]
    }
   ],
   "source": [
    "%matplotlib inline\n",
    "import matplotlib.pyplot as plt\n",
    "import numpy as np\n",
    "\n",
    "import jax.numpy as jnp\n",
    "from jax import grad, jit, random, partial, lax\n",
    "\n",
    "import context\n",
    "from models.PMF.pmf_model import logprior, loglikelihood\n",
    "from models.PMF.util import R_train, R_test, load_PMF_MAP\n",
    "\n",
    "\n",
    "from tuning.mamba import timed_sampler\n",
    "from tuning.ksd import imq_KSD\n",
    "from tuning.util import build_metric_curve_fn, get_mean_sd_ksd_curve\n",
    "from util import wait_until_computed, flatten_param_list\n",
    "\n",
    "from sgmcmcjax.kernels import build_sgld_kernel, build_sghmc_kernel, build_sgnht_kernel\n",
    "from sgmcmcjax.kernels import build_sgldCV_kernel, build_sghmcCV_kernel, build_sgnhtCV_kernel\n"
   ]
  },
  {
   "cell_type": "markdown",
   "id": "a01ea2b4",
   "metadata": {},
   "source": [
    "# PMF"
   ]
  },
  {
   "cell_type": "code",
   "execution_count": 2,
   "id": "dd0b7388",
   "metadata": {},
   "outputs": [],
   "source": [
    "data = (R_train,)\n",
    "\n",
    "\n",
    "key = random.PRNGKey(0)\n",
    "centering_value = load_PMF_MAP()\n",
    "params_IC = load_PMF_MAP()\n",
    "\n",
    "gridsearch_bs = int(0.1*R_train.shape[0])\n",
    "\n",
    "T = 12"
   ]
  },
  {
   "cell_type": "code",
   "execution_count": null,
   "id": "7dc862ed",
   "metadata": {},
   "outputs": [],
   "source": []
  },
  {
   "cell_type": "code",
   "execution_count": 3,
   "id": "e4d71dbb",
   "metadata": {},
   "outputs": [],
   "source": [
    "from sgmcmcjax.util import build_grad_log_post\n",
    "from jax import vmap, jit\n",
    "\n",
    "grad_log_post = build_grad_log_post(loglikelihood, logprior, data)\n",
    "\n",
    "\n",
    "def get_fb_grads_pmf(samples):\n",
    "    \"\"\"\n",
    "    Return full-batch gradients for PMF samples\n",
    "    samples list of PMF sample. Each PMF sample is a list of 6 arrays\n",
    "    \"\"\"\n",
    "    return [grad_log_post(sam, R_train) for sam in samples]\n",
    "\n",
    "def get_ksd_PMF(samples, thin_step):\n",
    "    num_samples = len(samples)\n",
    "    fb_grads = get_fb_grads_pmf(samples[::thin_step])\n",
    "    flat_samples = flatten_param_list(samples[::thin_step])\n",
    "    flat_grads = flatten_param_list(fb_grads)\n",
    "    return imq_KSD(flat_samples, flat_grads)\n",
    "\n",
    "def assess_PMF_samples(samples, thin_step):\n",
    "    print(f\"Assessing the samples. Num samples: {len(samples)}\")\n",
    "    ksd_est = get_ksd_PMF(samples, thin_step)\n",
    "    return ksd_est\n",
    "#     samples_array = jnp.array(samples[::thin_step])\n",
    "#     pred_acc = accuracy(samples_array, X_test, y_test)\n",
    "#     return ksd_est, pred_acc, std_error, len(samples)\n",
    "    \n",
    "def run_time_budget(key, time_budget, build_kernel, thin, dict_params, params_IC=load_PMF_MAP()):\n",
    "    timed_sampler_factory = timed_sampler(build_kernel)\n",
    "    my_timed_sampler = timed_sampler_factory(**dict_params)\n",
    "    samples, _ = my_timed_sampler(key, time_budget, params_IC)\n",
    "    return assess_PMF_samples(samples, thin)\n",
    "\n"
   ]
  },
  {
   "cell_type": "markdown",
   "id": "b12fa593",
   "metadata": {},
   "source": [
    "### build partial kernels"
   ]
  },
  {
   "cell_type": "code",
   "execution_count": 8,
   "id": "6b42212b",
   "metadata": {},
   "outputs": [],
   "source": [
    "partial_build_sgld = lambda dt, batch_size: build_sgld_kernel(dt, loglikelihood, \n",
    "                                                              logprior, data, batch_size)\n",
    "partial_build_sgldCV = lambda dt, batch_size: build_sgldCV_kernel(dt, loglikelihood, \n",
    "                                                    logprior, data, batch_size, centering_value)\n",
    "\n",
    "partial_build_sghmc = lambda dt, L, batch_size: build_sghmc_kernel(dt, L, loglikelihood, \n",
    "                                                              logprior, data, batch_size)\n",
    "partial_build_sghmcCV = lambda dt, L, batch_size: build_sghmcCV_kernel(dt, L, loglikelihood, \n",
    "                                                              logprior, data, batch_size, centering_value)\n",
    "\n",
    "partial_build_sgnht = lambda dt, batch_size: build_sgnht_kernel(dt, loglikelihood, \n",
    "                                                              logprior, data, batch_size)\n",
    "partial_build_sgnhtCV = lambda dt, batch_size: build_sgnhtCV_kernel(dt, loglikelihood, \n",
    "                                                              logprior, data, batch_size, centering_value)\n",
    "\n",
    "# time_budget = 5\n",
    "# thin = 5\n",
    "\n",
    "time_budget = 20\n",
    "thin = 60\n"
   ]
  },
  {
   "cell_type": "code",
   "execution_count": 9,
   "id": "40a145f7",
   "metadata": {},
   "outputs": [
    {
     "data": {
      "text/plain": [
       "8000"
      ]
     },
     "execution_count": 9,
     "metadata": {},
     "output_type": "execute_result"
    }
   ],
   "source": [
    "gridsearch_bs"
   ]
  },
  {
   "cell_type": "markdown",
   "id": "2d713ad0",
   "metadata": {},
   "source": [
    "# 1. A long run\n",
    "\n",
    "- 1 million data points\n",
    "- 20sec budget\n",
    "- thin by 20"
   ]
  },
  {
   "cell_type": "code",
   "execution_count": null,
   "id": "eb5ff240",
   "metadata": {},
   "outputs": [],
   "source": [
    "sh_params = {'batch_size': 8000, 'dt': 1e-05}\n",
    "gridsearch_params = {'batch_size': gridsearch_bs, 'dt': 0.00031622776}\n",
    "\n",
    "print(run_time_budget(key, time_budget, partial_build_sgld, thin, sh_params))\n",
    "print(run_time_budget(key, time_budget, partial_build_sgld, thin, gridsearch_params))"
   ]
  },
  {
   "cell_type": "code",
   "execution_count": null,
   "id": "f12b4bb8",
   "metadata": {},
   "outputs": [],
   "source": [
    "sh_params = {'batch_size': 8000, 'dt': 1e-05}\n",
    "gridsearch_params = {'batch_size': gridsearch_bs, 'dt': 0.00031622776}\n",
    "\n",
    "print(run_time_budget(key, time_budget, partial_build_sgldCV, thin, sh_params))\n",
    "print(run_time_budget(key, time_budget, partial_build_sgldCV, thin, gridsearch_params))"
   ]
  },
  {
   "cell_type": "code",
   "execution_count": null,
   "id": "eb3c1f37",
   "metadata": {},
   "outputs": [],
   "source": [
    "sh_params = {'batch_size': 80000, 'L': 10, 'dt': 3.1622776e-07}\n",
    "gridsearch_params = {'batch_size': gridsearch_bs, 'L': 10, 'dt': 1e-5}\n",
    "\n",
    "print(run_time_budget(key, time_budget, partial_build_sghmc, thin, sh_params))\n",
    "print(run_time_budget(key, time_budget, partial_build_sghmc, thin, gridsearch_params))"
   ]
  },
  {
   "cell_type": "code",
   "execution_count": null,
   "id": "84175ee5",
   "metadata": {},
   "outputs": [],
   "source": [
    "sh_params = {'batch_size': 8000, 'L': 5, 'dt': 1e-06}\n",
    "gridsearch_params = {'batch_size': gridsearch_bs, 'L': 10, 'dt': 1e-5}\n",
    "\n",
    "print(run_time_budget(key, time_budget, partial_build_sghmcCV, thin, sh_params))\n",
    "print(run_time_budget(key, time_budget, partial_build_sghmcCV, thin, gridsearch_params))"
   ]
  },
  {
   "cell_type": "code",
   "execution_count": null,
   "id": "7118f95d",
   "metadata": {},
   "outputs": [],
   "source": [
    "sh_params = {'batch_size': 80000, 'dt': 1e-05}\n",
    "gridsearch_params = {'batch_size': gridsearch_bs, 'dt': 3.1622776e-06}\n",
    "\n",
    "print(run_time_budget(key, time_budget, partial_build_sgnht, thin, sh_params))\n",
    "print(run_time_budget(key, time_budget, partial_build_sgnht, thin, gridsearch_params))"
   ]
  },
  {
   "cell_type": "code",
   "execution_count": null,
   "id": "76ab5c57",
   "metadata": {},
   "outputs": [],
   "source": [
    "sh_params = {'batch_size': 8000, 'dt': 1e-05}\n",
    "gridsearch_params = {'batch_size': gridsearch_bs, 'dt': 3.1622776e-06}\n",
    "\n",
    "print(run_time_budget(key, time_budget, partial_build_sgnhtCV, thin, sh_params))\n",
    "print(run_time_budget(key, time_budget, partial_build_sgnhtCV, thin, gridsearch_params))"
   ]
  },
  {
   "cell_type": "code",
   "execution_count": null,
   "id": "3ad41160",
   "metadata": {},
   "outputs": [],
   "source": []
  },
  {
   "cell_type": "markdown",
   "id": "f2f87b51",
   "metadata": {},
   "source": [
    "# 2. KSD curves"
   ]
  },
  {
   "cell_type": "markdown",
   "id": "078cb564",
   "metadata": {},
   "source": [
    "### sgld"
   ]
  },
  {
   "cell_type": "code",
   "execution_count": 10,
   "id": "c4857eea",
   "metadata": {},
   "outputs": [],
   "source": [
    "error_fn_ksd_curve = partial(get_ksd_PMF, thin_step=60)\n",
    "list_time_budget = [2, 4, 6, 8, 10]"
   ]
  },
  {
   "cell_type": "code",
   "execution_count": 11,
   "id": "79e62f93",
   "metadata": {},
   "outputs": [
    {
     "name": "stdout",
     "output_type": "stream",
     "text": [
      "Running for {'batch_size': 8000, 'dt': 0.00031622776}\n",
      "\n",
      "Iteration 0/10\n",
      "Budget: 2, num_samples = 1008\n",
      "Budget: 4, num_samples = 1963\n",
      "Budget: 6, num_samples = 2734\n",
      "Budget: 8, num_samples = 3705\n",
      "Budget: 10, num_samples = 4547\n",
      "\n",
      "Iteration 1/10\n",
      "Budget: 2, num_samples = 910\n",
      "Budget: 4, num_samples = 1826\n",
      "Budget: 6, num_samples = 2711\n",
      "Budget: 8, num_samples = 3441\n",
      "Budget: 10, num_samples = 3940\n",
      "\n",
      "Iteration 2/10\n",
      "Budget: 2, num_samples = 810\n",
      "Budget: 4, num_samples = 1523\n",
      "Budget: 6, num_samples = 2509\n",
      "Budget: 8, num_samples = 3107\n",
      "Budget: 10, num_samples = 3729\n",
      "\n",
      "Iteration 3/10\n",
      "Budget: 2, num_samples = 474\n",
      "Budget: 4, num_samples = 1073\n",
      "Budget: 6, num_samples = 840\n",
      "Budget: 8, num_samples = 982\n",
      "Budget: 10, num_samples = 2325\n",
      "\n",
      "Iteration 4/10\n",
      "Budget: 2, num_samples = 754\n",
      "Budget: 4, num_samples = 1466\n",
      "Budget: 6, num_samples = 2166\n",
      "Budget: 8, num_samples = 2924\n",
      "Budget: 10, num_samples = 3842\n",
      "\n",
      "Iteration 5/10\n",
      "Budget: 2, num_samples = 828\n",
      "Budget: 4, num_samples = 1567\n",
      "Budget: 6, num_samples = 2231\n",
      "Budget: 8, num_samples = 2927\n",
      "Budget: 10, num_samples = 3675\n",
      "\n",
      "Iteration 6/10\n",
      "Budget: 2, num_samples = 755\n",
      "Budget: 4, num_samples = 1550\n",
      "Budget: 6, num_samples = 2184\n",
      "Budget: 8, num_samples = 2792\n",
      "Budget: 10, num_samples = 3630\n",
      "\n",
      "Iteration 7/10\n",
      "Budget: 2, num_samples = 576\n",
      "Budget: 4, num_samples = 1456\n",
      "Budget: 6, num_samples = 2292\n",
      "Budget: 8, num_samples = 3018\n",
      "Budget: 10, num_samples = 3447\n",
      "\n",
      "Iteration 8/10\n",
      "Budget: 2, num_samples = 711\n",
      "Budget: 4, num_samples = 1222\n",
      "Budget: 6, num_samples = 1668\n",
      "Budget: 8, num_samples = 3202\n",
      "Budget: 10, num_samples = 4217\n",
      "\n",
      "Iteration 9/10\n",
      "Budget: 2, num_samples = 786\n",
      "Budget: 4, num_samples = 1636\n",
      "Budget: 6, num_samples = 2492\n",
      "Budget: 8, num_samples = 3244\n",
      "Budget: 10, num_samples = 4154\n"
     ]
    }
   ],
   "source": [
    "dict_params = {'batch_size': 8000, 'dt': 0.00031622776}\n",
    "get_metric_curve = build_metric_curve_fn(dict_params, list_time_budget, \n",
    "                            partial_build_sgld, params_IC, error_fn_ksd_curve)\n",
    "\n",
    "key = random.PRNGKey(0)\n",
    "mean_ksd_curve_sgld_mamba, sd_ksd_curve_sgld_mamba = get_mean_sd_ksd_curve(key, 10, get_metric_curve)\n"
   ]
  },
  {
   "cell_type": "code",
   "execution_count": 14,
   "id": "89a4b6df",
   "metadata": {
    "collapsed": true
   },
   "outputs": [
    {
     "name": "stdout",
     "output_type": "stream",
     "text": [
      "Running for {'batch_size': 8000, 'dt': 0.00031622776}\n",
      "\n",
      "Iteration 0/10\n",
      "Budget: 2, num_samples = 984\n",
      "Budget: 4, num_samples = 1904\n",
      "Budget: 6, num_samples = 2737\n",
      "Budget: 8, num_samples = 3687\n",
      "Budget: 10, num_samples = 4722\n",
      "\n",
      "Iteration 1/10\n",
      "Budget: 2, num_samples = 977\n",
      "Budget: 4, num_samples = 1948\n",
      "Budget: 6, num_samples = 2548\n",
      "Budget: 8, num_samples = 3795\n",
      "Budget: 10, num_samples = 4685\n",
      "\n",
      "Iteration 2/10\n",
      "Budget: 2, num_samples = 975\n",
      "Budget: 4, num_samples = 1800\n",
      "Budget: 6, num_samples = 2529\n",
      "Budget: 8, num_samples = 3733\n",
      "Budget: 10, num_samples = 4765\n",
      "\n",
      "Iteration 3/10\n",
      "Budget: 2, num_samples = 958\n",
      "Budget: 4, num_samples = 1872\n",
      "Budget: 6, num_samples = 2553\n",
      "Budget: 8, num_samples = 3701\n",
      "Budget: 10, num_samples = 4637\n",
      "\n",
      "Iteration 4/10\n",
      "Budget: 2, num_samples = 952\n",
      "Budget: 4, num_samples = 1794\n",
      "Budget: 6, num_samples = 2528\n",
      "Budget: 8, num_samples = 3659\n",
      "Budget: 10, num_samples = 4588\n",
      "\n",
      "Iteration 5/10\n",
      "Budget: 2, num_samples = 956\n",
      "Budget: 4, num_samples = 1819\n",
      "Budget: 6, num_samples = 2567\n",
      "Budget: 8, num_samples = 3605\n",
      "Budget: 10, num_samples = 4536\n",
      "\n",
      "Iteration 6/10\n",
      "Budget: 2, num_samples = 978\n",
      "Budget: 4, num_samples = 1908\n",
      "Budget: 6, num_samples = 2597\n",
      "Budget: 8, num_samples = 3520\n",
      "Budget: 10, num_samples = 4109\n",
      "\n",
      "Iteration 7/10\n",
      "Budget: 2, num_samples = 879\n",
      "Budget: 4, num_samples = 1726\n",
      "Budget: 6, num_samples = 2498\n",
      "Budget: 8, num_samples = 3617\n",
      "Budget: 10, num_samples = 4522\n",
      "\n",
      "Iteration 8/10\n",
      "Budget: 2, num_samples = 940\n",
      "Budget: 4, num_samples = 1735\n",
      "Budget: 6, num_samples = 2470\n",
      "Budget: 8, num_samples = 3589\n",
      "Budget: 10, num_samples = 4461\n",
      "\n",
      "Iteration 9/10\n",
      "Budget: 2, num_samples = 909\n",
      "Budget: 4, num_samples = 1791\n",
      "Budget: 6, num_samples = 2480\n",
      "Budget: 8, num_samples = 3584\n",
      "Budget: 10, num_samples = 4305\n"
     ]
    }
   ],
   "source": [
    "dict_params = {'batch_size': gridsearch_bs, 'dt': 0.00031622776}\n",
    "get_metric_curve = build_metric_curve_fn(dict_params, list_time_budget, \n",
    "                            partial_build_sgld, params_IC, error_fn_ksd_curve)\n",
    "\n",
    "key = random.PRNGKey(0)\n",
    "mean_ksd_curve_sgld_gridsearch, sd_ksd_curve_sgld_gridsearch = get_mean_sd_ksd_curve(key, 10, get_metric_curve)\n"
   ]
  },
  {
   "cell_type": "markdown",
   "id": "046f1c8e",
   "metadata": {},
   "source": [
    "### sgld-cv"
   ]
  },
  {
   "cell_type": "code",
   "execution_count": 12,
   "id": "b74b6cbb",
   "metadata": {},
   "outputs": [
    {
     "name": "stdout",
     "output_type": "stream",
     "text": [
      "Running for {'batch_size': 800, 'dt': 1e-05}\n",
      "\n",
      "Iteration 0/10\n",
      "Budget: 2, num_samples = 914\n",
      "Budget: 4, num_samples = 1888\n",
      "Budget: 6, num_samples = 2858\n",
      "Budget: 8, num_samples = 3779\n",
      "Budget: 10, num_samples = 4767\n",
      "\n",
      "Iteration 1/10\n",
      "Budget: 2, num_samples = 971\n",
      "Budget: 4, num_samples = 1952\n",
      "Budget: 6, num_samples = 2891\n",
      "Budget: 8, num_samples = 3772\n",
      "Budget: 10, num_samples = 4892\n",
      "\n",
      "Iteration 2/10\n",
      "Budget: 2, num_samples = 976\n",
      "Budget: 4, num_samples = 1886\n",
      "Budget: 6, num_samples = 2935\n",
      "Budget: 8, num_samples = 3825\n",
      "Budget: 10, num_samples = 4836\n",
      "\n",
      "Iteration 3/10\n",
      "Budget: 2, num_samples = 992\n",
      "Budget: 4, num_samples = 1892\n",
      "Budget: 6, num_samples = 2649\n",
      "Budget: 8, num_samples = 3826\n",
      "Budget: 10, num_samples = 4734\n",
      "\n",
      "Iteration 4/10\n",
      "Budget: 2, num_samples = 958\n",
      "Budget: 4, num_samples = 1964\n",
      "Budget: 6, num_samples = 2863\n",
      "Budget: 8, num_samples = 3561\n",
      "Budget: 10, num_samples = 4287\n",
      "\n",
      "Iteration 5/10\n",
      "Budget: 2, num_samples = 817\n",
      "Budget: 4, num_samples = 1201\n",
      "Budget: 6, num_samples = 2033\n",
      "Budget: 8, num_samples = 3348\n",
      "Budget: 10, num_samples = 4655\n",
      "\n",
      "Iteration 6/10\n",
      "Budget: 2, num_samples = 906\n",
      "Budget: 4, num_samples = 1728\n",
      "Budget: 6, num_samples = 2673\n",
      "Budget: 8, num_samples = 3355\n",
      "Budget: 10, num_samples = 4153\n",
      "\n",
      "Iteration 7/10\n",
      "Budget: 2, num_samples = 743\n",
      "Budget: 4, num_samples = 1619\n",
      "Budget: 6, num_samples = 2781\n",
      "Budget: 8, num_samples = 3664\n",
      "Budget: 10, num_samples = 4343\n",
      "\n",
      "Iteration 8/10\n",
      "Budget: 2, num_samples = 904\n",
      "Budget: 4, num_samples = 1842\n",
      "Budget: 6, num_samples = 2784\n",
      "Budget: 8, num_samples = 3669\n",
      "Budget: 10, num_samples = 4659\n",
      "\n",
      "Iteration 9/10\n",
      "Budget: 2, num_samples = 957\n",
      "Budget: 4, num_samples = 1900\n",
      "Budget: 6, num_samples = 2890\n",
      "Budget: 8, num_samples = 3311\n",
      "Budget: 10, num_samples = 3436\n"
     ]
    }
   ],
   "source": [
    "dict_params = {'batch_size': 800, 'dt': 1e-05}\n",
    "get_metric_curve = build_metric_curve_fn(dict_params, list_time_budget, \n",
    "                            partial_build_sgldCV, params_IC, error_fn_ksd_curve)\n",
    "\n",
    "key = random.PRNGKey(0)\n",
    "mean_ksd_curve_sgldCV_mamba, sd_ksd_curve_sgldCV_mamba = get_mean_sd_ksd_curve(key, 10, get_metric_curve)\n"
   ]
  },
  {
   "cell_type": "code",
   "execution_count": 16,
   "id": "ce3adabf",
   "metadata": {
    "collapsed": true
   },
   "outputs": [
    {
     "name": "stdout",
     "output_type": "stream",
     "text": [
      "Running for {'batch_size': 8000, 'dt': 0.00031622776}\n",
      "\n",
      "Iteration 0/10\n",
      "Budget: 2, num_samples = 644\n",
      "Budget: 4, num_samples = 1187\n",
      "Budget: 6, num_samples = 1607\n",
      "Budget: 8, num_samples = 2287\n",
      "Budget: 10, num_samples = 3032\n",
      "\n",
      "Iteration 1/10\n",
      "Budget: 2, num_samples = 630\n",
      "Budget: 4, num_samples = 1182\n",
      "Budget: 6, num_samples = 1820\n",
      "Budget: 8, num_samples = 2258\n",
      "Budget: 10, num_samples = 3012\n",
      "\n",
      "Iteration 2/10\n",
      "Budget: 2, num_samples = 629\n",
      "Budget: 4, num_samples = 1193\n",
      "Budget: 6, num_samples = 1806\n",
      "Budget: 8, num_samples = 2243\n",
      "Budget: 10, num_samples = 3001\n",
      "\n",
      "Iteration 3/10\n",
      "Budget: 2, num_samples = 584\n",
      "Budget: 4, num_samples = 1195\n",
      "Budget: 6, num_samples = 1819\n",
      "Budget: 8, num_samples = 2228\n",
      "Budget: 10, num_samples = 2816\n",
      "\n",
      "Iteration 4/10\n",
      "Budget: 2, num_samples = 578\n",
      "Budget: 4, num_samples = 1115\n",
      "Budget: 6, num_samples = 1697\n",
      "Budget: 8, num_samples = 2147\n",
      "Budget: 10, num_samples = 2631\n",
      "\n",
      "Iteration 5/10\n",
      "Budget: 2, num_samples = 550\n",
      "Budget: 4, num_samples = 1218\n",
      "Budget: 6, num_samples = 1785\n",
      "Budget: 8, num_samples = 2224\n",
      "Budget: 10, num_samples = 2815\n",
      "\n",
      "Iteration 6/10\n",
      "Budget: 2, num_samples = 579\n",
      "Budget: 4, num_samples = 1187\n",
      "Budget: 6, num_samples = 1784\n",
      "Budget: 8, num_samples = 2208\n",
      "Budget: 10, num_samples = 2982\n",
      "\n",
      "Iteration 7/10\n",
      "Budget: 2, num_samples = 625\n",
      "Budget: 4, num_samples = 1171\n",
      "Budget: 6, num_samples = 1722\n",
      "Budget: 8, num_samples = 2188\n",
      "Budget: 10, num_samples = 2751\n",
      "\n",
      "Iteration 8/10\n",
      "Budget: 2, num_samples = 496\n",
      "Budget: 4, num_samples = 1111\n",
      "Budget: 6, num_samples = 1730\n",
      "Budget: 8, num_samples = 1949\n",
      "Budget: 10, num_samples = 1977\n",
      "\n",
      "Iteration 9/10\n",
      "Budget: 2, num_samples = 369\n",
      "Budget: 4, num_samples = 1174\n",
      "Budget: 6, num_samples = 1793\n",
      "Budget: 8, num_samples = 2337\n",
      "Budget: 10, num_samples = 3162\n"
     ]
    }
   ],
   "source": [
    "dict_params = {'batch_size': gridsearch_bs, 'dt': 0.00031622776}\n",
    "get_metric_curve = build_metric_curve_fn(dict_params, list_time_budget, \n",
    "                            partial_build_sgldCV, params_IC, error_fn_ksd_curve)\n",
    "\n",
    "key = random.PRNGKey(0)\n",
    "mean_ksd_curve_sgldCV_gridsearch, sd_ksd_curve_sgldCV_gridsearch = get_mean_sd_ksd_curve(key, 10, get_metric_curve)\n"
   ]
  },
  {
   "cell_type": "markdown",
   "id": "18e1932c",
   "metadata": {},
   "source": [
    "### sghmc"
   ]
  },
  {
   "cell_type": "code",
   "execution_count": 14,
   "id": "b9274245",
   "metadata": {},
   "outputs": [
    {
     "name": "stdout",
     "output_type": "stream",
     "text": [
      "Running for {'batch_size': 800, 'L': 5, 'dt': 1e-06}\n",
      "\n",
      "Iteration 0/10\n",
      "Budget: 2, num_samples = 325\n",
      "Budget: 4, num_samples = 566\n",
      "Budget: 6, num_samples = 799\n",
      "Budget: 8, num_samples = 1066\n",
      "Budget: 10, num_samples = 1339\n",
      "\n",
      "Iteration 1/10\n",
      "Budget: 2, num_samples = 281\n",
      "Budget: 4, num_samples = 557\n",
      "Budget: 6, num_samples = 816\n",
      "Budget: 8, num_samples = 1079\n",
      "Budget: 10, num_samples = 1369\n",
      "\n",
      "Iteration 2/10\n",
      "Budget: 2, num_samples = 264\n",
      "Budget: 4, num_samples = 522\n",
      "Budget: 6, num_samples = 820\n",
      "Budget: 8, num_samples = 1123\n",
      "Budget: 10, num_samples = 1353\n",
      "\n",
      "Iteration 3/10\n",
      "Budget: 2, num_samples = 277\n",
      "Budget: 4, num_samples = 540\n",
      "Budget: 6, num_samples = 795\n",
      "Budget: 8, num_samples = 1112\n",
      "Budget: 10, num_samples = 1379\n",
      "\n",
      "Iteration 4/10\n",
      "Budget: 2, num_samples = 289\n",
      "Budget: 4, num_samples = 548\n",
      "Budget: 6, num_samples = 801\n",
      "Budget: 8, num_samples = 1093\n",
      "Budget: 10, num_samples = 1425\n",
      "\n",
      "Iteration 5/10\n",
      "Budget: 2, num_samples = 278\n",
      "Budget: 4, num_samples = 532\n",
      "Budget: 6, num_samples = 808\n",
      "Budget: 8, num_samples = 1071\n",
      "Budget: 10, num_samples = 1401\n",
      "\n",
      "Iteration 6/10\n",
      "Budget: 2, num_samples = 281\n",
      "Budget: 4, num_samples = 540\n",
      "Budget: 6, num_samples = 798\n",
      "Budget: 8, num_samples = 1076\n",
      "Budget: 10, num_samples = 1347\n",
      "\n",
      "Iteration 7/10\n",
      "Budget: 2, num_samples = 295\n",
      "Budget: 4, num_samples = 565\n",
      "Budget: 6, num_samples = 824\n",
      "Budget: 8, num_samples = 1103\n",
      "Budget: 10, num_samples = 1372\n",
      "\n",
      "Iteration 8/10\n",
      "Budget: 2, num_samples = 281\n",
      "Budget: 4, num_samples = 542\n",
      "Budget: 6, num_samples = 848\n",
      "Budget: 8, num_samples = 1089\n",
      "Budget: 10, num_samples = 1345\n",
      "\n",
      "Iteration 9/10\n",
      "Budget: 2, num_samples = 282\n",
      "Budget: 4, num_samples = 555\n",
      "Budget: 6, num_samples = 828\n",
      "Budget: 8, num_samples = 1129\n",
      "Budget: 10, num_samples = 1307\n"
     ]
    }
   ],
   "source": [
    "dict_params = {'batch_size': 800, 'L': 5, 'dt': 1e-06}\n",
    "get_metric_curve = build_metric_curve_fn(dict_params, list_time_budget, \n",
    "                            partial_build_sghmc, params_IC, error_fn_ksd_curve)\n",
    "\n",
    "key = random.PRNGKey(0)\n",
    "mean_ksd_curve_sghmc_mamba, sd_ksd_curve_sghmc_mamba = get_mean_sd_ksd_curve(key, 10, get_metric_curve)\n"
   ]
  },
  {
   "cell_type": "code",
   "execution_count": 18,
   "id": "6d9dbe8e",
   "metadata": {
    "collapsed": true
   },
   "outputs": [
    {
     "name": "stdout",
     "output_type": "stream",
     "text": [
      "Running for {'batch_size': 8000, 'L': 10, 'dt': 1e-05}\n",
      "\n",
      "Iteration 0/10\n",
      "Budget: 2, num_samples = 111\n",
      "Budget: 4, num_samples = 220\n",
      "Budget: 6, num_samples = 329\n",
      "Budget: 8, num_samples = 434\n",
      "Budget: 10, num_samples = 541\n",
      "\n",
      "Iteration 1/10\n",
      "Budget: 2, num_samples = 108\n",
      "Budget: 4, num_samples = 212\n",
      "Budget: 6, num_samples = 320\n",
      "Budget: 8, num_samples = 428\n",
      "Budget: 10, num_samples = 534\n",
      "\n",
      "Iteration 2/10\n",
      "Budget: 2, num_samples = 106\n",
      "Budget: 4, num_samples = 214\n",
      "Budget: 6, num_samples = 314\n",
      "Budget: 8, num_samples = 425\n",
      "Budget: 10, num_samples = 534\n",
      "\n",
      "Iteration 3/10\n",
      "Budget: 2, num_samples = 104\n",
      "Budget: 4, num_samples = 204\n",
      "Budget: 6, num_samples = 282\n",
      "Budget: 8, num_samples = 370\n",
      "Budget: 10, num_samples = 520\n",
      "\n",
      "Iteration 4/10\n",
      "Budget: 2, num_samples = 104\n",
      "Budget: 4, num_samples = 210\n",
      "Budget: 6, num_samples = 317\n",
      "Budget: 8, num_samples = 430\n",
      "Budget: 10, num_samples = 531\n",
      "\n",
      "Iteration 5/10\n",
      "Budget: 2, num_samples = 106\n",
      "Budget: 4, num_samples = 218\n",
      "Budget: 6, num_samples = 320\n",
      "Budget: 8, num_samples = 426\n",
      "Budget: 10, num_samples = 539\n",
      "\n",
      "Iteration 6/10\n",
      "Budget: 2, num_samples = 107\n",
      "Budget: 4, num_samples = 214\n",
      "Budget: 6, num_samples = 324\n",
      "Budget: 8, num_samples = 421\n",
      "Budget: 10, num_samples = 470\n",
      "\n",
      "Iteration 7/10\n",
      "Budget: 2, num_samples = 93\n",
      "Budget: 4, num_samples = 142\n",
      "Budget: 6, num_samples = 303\n",
      "Budget: 8, num_samples = 413\n",
      "Budget: 10, num_samples = 491\n",
      "\n",
      "Iteration 8/10\n",
      "Budget: 2, num_samples = 97\n",
      "Budget: 4, num_samples = 204\n",
      "Budget: 6, num_samples = 300\n",
      "Budget: 8, num_samples = 388\n",
      "Budget: 10, num_samples = 515\n",
      "\n",
      "Iteration 9/10\n",
      "Budget: 2, num_samples = 104\n",
      "Budget: 4, num_samples = 207\n",
      "Budget: 6, num_samples = 306\n",
      "Budget: 8, num_samples = 411\n",
      "Budget: 10, num_samples = 522\n"
     ]
    }
   ],
   "source": [
    "dict_params = {'batch_size': gridsearch_bs, 'L': 10, 'dt': 1e-05}\n",
    "get_metric_curve = build_metric_curve_fn(dict_params, list_time_budget, \n",
    "                            partial_build_sghmc, params_IC, error_fn_ksd_curve)\n",
    "\n",
    "key = random.PRNGKey(0)\n",
    "mean_ksd_curve_sghmc_gridsearch, sd_ksd_curve_sghmc_gridsearch = get_mean_sd_ksd_curve(key, 10, get_metric_curve)\n"
   ]
  },
  {
   "cell_type": "markdown",
   "id": "671da5e3",
   "metadata": {},
   "source": [
    "### sghmc-CV"
   ]
  },
  {
   "cell_type": "code",
   "execution_count": 13,
   "id": "b92dda06",
   "metadata": {
    "collapsed": true
   },
   "outputs": [
    {
     "name": "stdout",
     "output_type": "stream",
     "text": [
      "Running for {'batch_size': 80, 'L': 5, 'dt': 1e-06}\n",
      "\n",
      "Iteration 0/10\n",
      "Budget: 2, num_samples = 297\n",
      "Budget: 4, num_samples = 499\n",
      "Budget: 6, num_samples = 601\n",
      "Budget: 8, num_samples = 930\n",
      "Budget: 10, num_samples = 1307\n",
      "\n",
      "Iteration 1/10\n",
      "Budget: 2, num_samples = 264\n",
      "Budget: 4, num_samples = 491\n",
      "Budget: 6, num_samples = 724\n",
      "Budget: 8, num_samples = 971\n",
      "Budget: 10, num_samples = 1161\n",
      "\n",
      "Iteration 2/10\n",
      "Budget: 2, num_samples = 226\n",
      "Budget: 4, num_samples = 464\n",
      "Budget: 6, num_samples = 736\n",
      "Budget: 8, num_samples = 846\n",
      "Budget: 10, num_samples = 1061\n",
      "\n",
      "Iteration 3/10\n",
      "Budget: 2, num_samples = 231\n",
      "Budget: 4, num_samples = 459\n",
      "Budget: 6, num_samples = 692\n",
      "Budget: 8, num_samples = 907\n",
      "Budget: 10, num_samples = 1034\n",
      "\n",
      "Iteration 4/10\n",
      "Budget: 2, num_samples = 220\n",
      "Budget: 4, num_samples = 436\n",
      "Budget: 6, num_samples = 697\n",
      "Budget: 8, num_samples = 891\n",
      "Budget: 10, num_samples = 1081\n",
      "\n",
      "Iteration 5/10\n",
      "Budget: 2, num_samples = 225\n",
      "Budget: 4, num_samples = 443\n",
      "Budget: 6, num_samples = 609\n",
      "Budget: 8, num_samples = 986\n",
      "Budget: 10, num_samples = 1226\n",
      "\n",
      "Iteration 6/10\n",
      "Budget: 2, num_samples = 218\n",
      "Budget: 4, num_samples = 487\n",
      "Budget: 6, num_samples = 743\n",
      "Budget: 8, num_samples = 889\n",
      "Budget: 10, num_samples = 1145\n",
      "\n",
      "Iteration 7/10\n",
      "Budget: 2, num_samples = 250\n",
      "Budget: 4, num_samples = 493\n",
      "Budget: 6, num_samples = 770\n",
      "Budget: 8, num_samples = 1029\n",
      "Budget: 10, num_samples = 1241\n",
      "\n",
      "Iteration 8/10\n",
      "Budget: 2, num_samples = 269\n",
      "Budget: 4, num_samples = 523\n",
      "Budget: 6, num_samples = 774\n",
      "Budget: 8, num_samples = 1042\n",
      "Budget: 10, num_samples = 1263\n",
      "\n",
      "Iteration 9/10\n",
      "Budget: 2, num_samples = 266\n",
      "Budget: 4, num_samples = 513\n",
      "Budget: 6, num_samples = 752\n",
      "Budget: 8, num_samples = 1056\n",
      "Budget: 10, num_samples = 1305\n"
     ]
    }
   ],
   "source": [
    "dict_params = {'batch_size': 80, 'L': 5, 'dt': 1e-06}\n",
    "get_metric_curve = build_metric_curve_fn(dict_params, list_time_budget, \n",
    "                            partial_build_sghmcCV, params_IC, error_fn_ksd_curve)\n",
    "\n",
    "key = random.PRNGKey(0)\n",
    "mean_ksd_curve_sghmcCV_mamba, sd_ksd_curve_sghmcCV_mamba = get_mean_sd_ksd_curve(key, 10, get_metric_curve)\n"
   ]
  },
  {
   "cell_type": "code",
   "execution_count": 20,
   "id": "d69ed0dd",
   "metadata": {
    "collapsed": true
   },
   "outputs": [
    {
     "name": "stdout",
     "output_type": "stream",
     "text": [
      "Running for {'batch_size': 8000, 'L': 10, 'dt': 1e-05}\n",
      "\n",
      "Iteration 0/10\n",
      "Budget: 2, num_samples = 81\n",
      "Budget: 4, num_samples = 162\n",
      "Budget: 6, num_samples = 242\n",
      "Budget: 8, num_samples = 316\n",
      "Budget: 10, num_samples = 397\n",
      "\n",
      "Iteration 1/10\n",
      "Budget: 2, num_samples = 76\n",
      "Budget: 4, num_samples = 152\n",
      "Budget: 6, num_samples = 228\n",
      "Budget: 8, num_samples = 305\n",
      "Budget: 10, num_samples = 379\n",
      "\n",
      "Iteration 2/10\n",
      "Budget: 2, num_samples = 73\n",
      "Budget: 4, num_samples = 151\n",
      "Budget: 6, num_samples = 228\n",
      "Budget: 8, num_samples = 309\n",
      "Budget: 10, num_samples = 386\n",
      "\n",
      "Iteration 3/10\n",
      "Budget: 2, num_samples = 75\n",
      "Budget: 4, num_samples = 156\n",
      "Budget: 6, num_samples = 231\n",
      "Budget: 8, num_samples = 294\n",
      "Budget: 10, num_samples = 375\n",
      "\n",
      "Iteration 4/10\n",
      "Budget: 2, num_samples = 79\n",
      "Budget: 4, num_samples = 155\n",
      "Budget: 6, num_samples = 229\n",
      "Budget: 8, num_samples = 300\n",
      "Budget: 10, num_samples = 377\n",
      "\n",
      "Iteration 5/10\n",
      "Budget: 2, num_samples = 78\n",
      "Budget: 4, num_samples = 156\n",
      "Budget: 6, num_samples = 228\n",
      "Budget: 8, num_samples = 306\n",
      "Budget: 10, num_samples = 381\n",
      "\n",
      "Iteration 6/10\n",
      "Budget: 2, num_samples = 78\n",
      "Budget: 4, num_samples = 152\n",
      "Budget: 6, num_samples = 226\n",
      "Budget: 8, num_samples = 304\n",
      "Budget: 10, num_samples = 386\n",
      "\n",
      "Iteration 7/10\n",
      "Budget: 2, num_samples = 74\n",
      "Budget: 4, num_samples = 145\n",
      "Budget: 6, num_samples = 223\n",
      "Budget: 8, num_samples = 295\n",
      "Budget: 10, num_samples = 377\n",
      "\n",
      "Iteration 8/10\n",
      "Budget: 2, num_samples = 75\n",
      "Budget: 4, num_samples = 150\n",
      "Budget: 6, num_samples = 229\n",
      "Budget: 8, num_samples = 302\n",
      "Budget: 10, num_samples = 378\n",
      "\n",
      "Iteration 9/10\n",
      "Budget: 2, num_samples = 75\n",
      "Budget: 4, num_samples = 152\n",
      "Budget: 6, num_samples = 211\n",
      "Budget: 8, num_samples = 274\n",
      "Budget: 10, num_samples = 367\n"
     ]
    }
   ],
   "source": [
    "dict_params = {'batch_size': gridsearch_bs, 'L': 10, 'dt': 1e-05}\n",
    "get_metric_curve = build_metric_curve_fn(dict_params, list_time_budget, \n",
    "                            partial_build_sghmcCV, params_IC, error_fn_ksd_curve)\n",
    "\n",
    "key = random.PRNGKey(0)\n",
    "mean_ksd_curve_sghmcCV_gridsearch, sd_ksd_curve_sghmcCV_gridsearch = get_mean_sd_ksd_curve(key, 10, get_metric_curve)\n"
   ]
  },
  {
   "cell_type": "markdown",
   "id": "3d97a3ba",
   "metadata": {},
   "source": [
    "### sgnht"
   ]
  },
  {
   "cell_type": "code",
   "execution_count": 28,
   "id": "b375e476",
   "metadata": {
    "collapsed": true
   },
   "outputs": [
    {
     "name": "stdout",
     "output_type": "stream",
     "text": [
      "Running for {'batch_size': 8000, 'dt': 3.1622778e-05}\n",
      "\n",
      "Iteration 0/10\n",
      "Budget: 2, num_samples = 894\n",
      "Budget: 4, num_samples = 1895\n",
      "Budget: 6, num_samples = 2851\n",
      "Budget: 8, num_samples = 3744\n",
      "Budget: 10, num_samples = 4733\n",
      "\n",
      "Iteration 1/10\n",
      "Budget: 2, num_samples = 970\n",
      "Budget: 4, num_samples = 1916\n",
      "Budget: 6, num_samples = 2847\n",
      "Budget: 8, num_samples = 3754\n",
      "Budget: 10, num_samples = 4618\n",
      "\n",
      "Iteration 2/10\n",
      "Budget: 2, num_samples = 941\n",
      "Budget: 4, num_samples = 1853\n",
      "Budget: 6, num_samples = 2783\n",
      "Budget: 8, num_samples = 3700\n",
      "Budget: 10, num_samples = 4630\n",
      "\n",
      "Iteration 3/10\n",
      "Budget: 2, num_samples = 948\n",
      "Budget: 4, num_samples = 1865\n",
      "Budget: 6, num_samples = 2803\n",
      "Budget: 8, num_samples = 3748\n",
      "Budget: 10, num_samples = 4725\n",
      "\n",
      "Iteration 4/10\n",
      "Budget: 2, num_samples = 969\n",
      "Budget: 4, num_samples = 1888\n",
      "Budget: 6, num_samples = 2805\n",
      "Budget: 8, num_samples = 3775\n",
      "Budget: 10, num_samples = 4754\n",
      "\n",
      "Iteration 5/10\n",
      "Budget: 2, num_samples = 971\n",
      "Budget: 4, num_samples = 1921\n",
      "Budget: 6, num_samples = 2873\n",
      "Budget: 8, num_samples = 3808\n",
      "Budget: 10, num_samples = 4751\n",
      "\n",
      "Iteration 6/10\n",
      "Budget: 2, num_samples = 956\n",
      "Budget: 4, num_samples = 1900\n",
      "Budget: 6, num_samples = 2877\n",
      "Budget: 8, num_samples = 3794\n",
      "Budget: 10, num_samples = 4749\n",
      "\n",
      "Iteration 7/10\n",
      "Budget: 2, num_samples = 970\n",
      "Budget: 4, num_samples = 1920\n",
      "Budget: 6, num_samples = 2870\n",
      "Budget: 8, num_samples = 3803\n",
      "Budget: 10, num_samples = 4755\n",
      "\n",
      "Iteration 8/10\n",
      "Budget: 2, num_samples = 970\n",
      "Budget: 4, num_samples = 1912\n",
      "Budget: 6, num_samples = 2803\n",
      "Budget: 8, num_samples = 3795\n",
      "Budget: 10, num_samples = 4714\n",
      "\n",
      "Iteration 9/10\n",
      "Budget: 2, num_samples = 971\n",
      "Budget: 4, num_samples = 1911\n",
      "Budget: 6, num_samples = 2847\n",
      "Budget: 8, num_samples = 3795\n",
      "Budget: 10, num_samples = 4750\n"
     ]
    }
   ],
   "source": [
    "dict_params = {'batch_size': 8000, 'dt': 3.1622778e-05}\n",
    "get_metric_curve = build_metric_curve_fn(dict_params, list_time_budget, \n",
    "                            partial_build_sgnht, params_IC, error_fn_ksd_curve)\n",
    "\n",
    "key = random.PRNGKey(0)\n",
    "mean_ksd_curve_sgnht_mamba, sd_ksd_curve_sgnht_mamba = get_mean_sd_ksd_curve(key, 10, get_metric_curve)\n"
   ]
  },
  {
   "cell_type": "code",
   "execution_count": 22,
   "id": "7d02e65b",
   "metadata": {
    "collapsed": true
   },
   "outputs": [
    {
     "name": "stdout",
     "output_type": "stream",
     "text": [
      "Running for {'batch_size': 8000, 'dt': 3.1622776e-06}\n",
      "\n",
      "Iteration 0/10\n",
      "Budget: 2, num_samples = 915\n",
      "Budget: 4, num_samples = 1725\n",
      "Budget: 6, num_samples = 2493\n",
      "Budget: 8, num_samples = 2905\n",
      "Budget: 10, num_samples = 3732\n",
      "\n",
      "Iteration 1/10\n",
      "Budget: 2, num_samples = 826\n",
      "Budget: 4, num_samples = 1698\n",
      "Budget: 6, num_samples = 2518\n",
      "Budget: 8, num_samples = 3466\n",
      "Budget: 10, num_samples = 4113\n",
      "\n",
      "Iteration 2/10\n",
      "Budget: 2, num_samples = 903\n",
      "Budget: 4, num_samples = 1812\n",
      "Budget: 6, num_samples = 2445\n",
      "Budget: 8, num_samples = 3424\n",
      "Budget: 10, num_samples = 3495\n",
      "\n",
      "Iteration 3/10\n",
      "Budget: 2, num_samples = 741\n",
      "Budget: 4, num_samples = 1627\n",
      "Budget: 6, num_samples = 2382\n",
      "Budget: 8, num_samples = 3299\n",
      "Budget: 10, num_samples = 3781\n",
      "\n",
      "Iteration 4/10\n",
      "Budget: 2, num_samples = 783\n",
      "Budget: 4, num_samples = 1282\n",
      "Budget: 6, num_samples = 2190\n",
      "Budget: 8, num_samples = 3178\n",
      "Budget: 10, num_samples = 4227\n",
      "\n",
      "Iteration 5/10\n",
      "Budget: 2, num_samples = 805\n",
      "Budget: 4, num_samples = 1692\n",
      "Budget: 6, num_samples = 2212\n",
      "Budget: 8, num_samples = 3201\n",
      "Budget: 10, num_samples = 3291\n",
      "\n",
      "Iteration 6/10\n",
      "Budget: 2, num_samples = 815\n",
      "Budget: 4, num_samples = 1695\n",
      "Budget: 6, num_samples = 2266\n",
      "Budget: 8, num_samples = 2597\n",
      "Budget: 10, num_samples = 3923\n",
      "\n",
      "Iteration 7/10\n",
      "Budget: 2, num_samples = 784\n",
      "Budget: 4, num_samples = 1736\n",
      "Budget: 6, num_samples = 2282\n",
      "Budget: 8, num_samples = 3339\n",
      "Budget: 10, num_samples = 3716\n",
      "\n",
      "Iteration 8/10\n",
      "Budget: 2, num_samples = 849\n",
      "Budget: 4, num_samples = 1376\n",
      "Budget: 6, num_samples = 1706\n",
      "Budget: 8, num_samples = 2567\n",
      "Budget: 10, num_samples = 2980\n",
      "\n",
      "Iteration 9/10\n",
      "Budget: 2, num_samples = 616\n",
      "Budget: 4, num_samples = 1539\n",
      "Budget: 6, num_samples = 2419\n",
      "Budget: 8, num_samples = 3215\n",
      "Budget: 10, num_samples = 4186\n"
     ]
    }
   ],
   "source": [
    "dict_params = {'batch_size': gridsearch_bs, 'dt': 3.1622776e-06}\n",
    "get_metric_curve = build_metric_curve_fn(dict_params, list_time_budget, \n",
    "                            partial_build_sgnht, params_IC, error_fn_ksd_curve)\n",
    "\n",
    "key = random.PRNGKey(0)\n",
    "mean_ksd_curve_sgnht_gridsearch, sd_ksd_curve_sgnht_gridsearch = get_mean_sd_ksd_curve(key, 10, get_metric_curve)\n"
   ]
  },
  {
   "cell_type": "markdown",
   "id": "b8354804",
   "metadata": {},
   "source": [
    "### sgnht-CV"
   ]
  },
  {
   "cell_type": "code",
   "execution_count": 29,
   "id": "6f9bd507",
   "metadata": {
    "collapsed": true
   },
   "outputs": [
    {
     "name": "stdout",
     "output_type": "stream",
     "text": [
      "Running for {'batch_size': 8000, 'dt': 1e-05}\n",
      "\n",
      "Iteration 0/10\n",
      "Budget: 2, num_samples = 644\n",
      "Budget: 4, num_samples = 1292\n",
      "Budget: 6, num_samples = 1946\n",
      "Budget: 8, num_samples = 2590\n",
      "Budget: 10, num_samples = 3075\n",
      "\n",
      "Iteration 1/10\n",
      "Budget: 2, num_samples = 651\n",
      "Budget: 4, num_samples = 1295\n",
      "Budget: 6, num_samples = 1944\n",
      "Budget: 8, num_samples = 2575\n",
      "Budget: 10, num_samples = 3170\n",
      "\n",
      "Iteration 2/10\n",
      "Budget: 2, num_samples = 633\n",
      "Budget: 4, num_samples = 1268\n",
      "Budget: 6, num_samples = 1899\n",
      "Budget: 8, num_samples = 2527\n",
      "Budget: 10, num_samples = 3145\n",
      "\n",
      "Iteration 3/10\n",
      "Budget: 2, num_samples = 639\n",
      "Budget: 4, num_samples = 1269\n",
      "Budget: 6, num_samples = 1918\n",
      "Budget: 8, num_samples = 2546\n",
      "Budget: 10, num_samples = 3207\n",
      "\n",
      "Iteration 4/10\n",
      "Budget: 2, num_samples = 647\n",
      "Budget: 4, num_samples = 1291\n",
      "Budget: 6, num_samples = 1937\n",
      "Budget: 8, num_samples = 2577\n",
      "Budget: 10, num_samples = 3220\n",
      "\n",
      "Iteration 5/10\n",
      "Budget: 2, num_samples = 649\n",
      "Budget: 4, num_samples = 1286\n",
      "Budget: 6, num_samples = 1935\n",
      "Budget: 8, num_samples = 2583\n",
      "Budget: 10, num_samples = 3199\n",
      "\n",
      "Iteration 6/10\n",
      "Budget: 2, num_samples = 649\n",
      "Budget: 4, num_samples = 1294\n",
      "Budget: 6, num_samples = 1939\n",
      "Budget: 8, num_samples = 2581\n",
      "Budget: 10, num_samples = 3224\n",
      "\n",
      "Iteration 7/10\n",
      "Budget: 2, num_samples = 650\n",
      "Budget: 4, num_samples = 1293\n",
      "Budget: 6, num_samples = 1943\n",
      "Budget: 8, num_samples = 2578\n",
      "Budget: 10, num_samples = 3225\n",
      "\n",
      "Iteration 8/10\n",
      "Budget: 2, num_samples = 648\n",
      "Budget: 4, num_samples = 1283\n",
      "Budget: 6, num_samples = 1934\n",
      "Budget: 8, num_samples = 2584\n",
      "Budget: 10, num_samples = 3218\n",
      "\n",
      "Iteration 9/10\n",
      "Budget: 2, num_samples = 651\n",
      "Budget: 4, num_samples = 1292\n",
      "Budget: 6, num_samples = 1946\n",
      "Budget: 8, num_samples = 2584\n",
      "Budget: 10, num_samples = 3223\n"
     ]
    }
   ],
   "source": [
    "dict_params = {'batch_size': 8000, 'dt': 1e-05}\n",
    "get_metric_curve = build_metric_curve_fn(dict_params, list_time_budget, \n",
    "                            partial_build_sgnhtCV, params_IC, error_fn_ksd_curve)\n",
    "\n",
    "key = random.PRNGKey(0)\n",
    "mean_ksd_curve_sgnhtCV_mamba, sd_ksd_curve_sgnhtCV_mamba = get_mean_sd_ksd_curve(key, 10, get_metric_curve)\n"
   ]
  },
  {
   "cell_type": "code",
   "execution_count": 19,
   "id": "0b733fe0",
   "metadata": {
    "collapsed": true
   },
   "outputs": [
    {
     "name": "stdout",
     "output_type": "stream",
     "text": [
      "Running for {'batch_size': 8000, 'dt': 3.1622776e-06}\n",
      "\n",
      "Iteration 0/10\n",
      "Budget: 2, num_samples = 655\n",
      "Budget: 4, num_samples = 1304\n",
      "Budget: 6, num_samples = 1946\n",
      "Budget: 8, num_samples = 2574\n",
      "Budget: 10, num_samples = 3187\n",
      "\n",
      "Iteration 1/10\n",
      "Budget: 2, num_samples = 634\n",
      "Budget: 4, num_samples = 1275\n",
      "Budget: 6, num_samples = 1815\n",
      "Budget: 8, num_samples = 2184\n",
      "Budget: 10, num_samples = 2831\n",
      "\n",
      "Iteration 2/10\n",
      "Budget: 2, num_samples = 567\n",
      "Budget: 4, num_samples = 1238\n",
      "Budget: 6, num_samples = 1856\n",
      "Budget: 8, num_samples = 2455\n",
      "Budget: 10, num_samples = 2920\n",
      "\n",
      "Iteration 3/10\n",
      "Budget: 2, num_samples = 625\n",
      "Budget: 4, num_samples = 1252\n",
      "Budget: 6, num_samples = 1828\n",
      "Budget: 8, num_samples = 2227\n",
      "Budget: 10, num_samples = 2866\n",
      "\n",
      "Iteration 4/10\n",
      "Budget: 2, num_samples = 566\n",
      "Budget: 4, num_samples = 1237\n",
      "Budget: 6, num_samples = 1850\n",
      "Budget: 8, num_samples = 2455\n",
      "Budget: 10, num_samples = 2811\n",
      "\n",
      "Iteration 5/10\n",
      "Budget: 2, num_samples = 577\n",
      "Budget: 4, num_samples = 1264\n",
      "Budget: 6, num_samples = 1827\n",
      "Budget: 8, num_samples = 2238\n",
      "Budget: 10, num_samples = 2886\n",
      "\n",
      "Iteration 6/10\n",
      "Budget: 2, num_samples = 618\n",
      "Budget: 4, num_samples = 1238\n",
      "Budget: 6, num_samples = 1853\n",
      "Budget: 8, num_samples = 2432\n",
      "Budget: 10, num_samples = 2829\n",
      "\n",
      "Iteration 7/10\n",
      "Budget: 2, num_samples = 581\n",
      "Budget: 4, num_samples = 1262\n",
      "Budget: 6, num_samples = 1843\n",
      "Budget: 8, num_samples = 2395\n",
      "Budget: 10, num_samples = 2963\n",
      "\n",
      "Iteration 8/10\n",
      "Budget: 2, num_samples = 618\n",
      "Budget: 4, num_samples = 1238\n",
      "Budget: 6, num_samples = 1842\n",
      "Budget: 8, num_samples = 2458\n",
      "Budget: 10, num_samples = 2814\n",
      "\n",
      "Iteration 9/10\n",
      "Budget: 2, num_samples = 630\n",
      "Budget: 4, num_samples = 1264\n",
      "Budget: 6, num_samples = 1855\n",
      "Budget: 8, num_samples = 2268\n",
      "Budget: 10, num_samples = 2890\n"
     ]
    }
   ],
   "source": [
    "dict_params = {'batch_size': gridsearch_bs, 'dt': 3.1622776e-06}\n",
    "get_metric_curve = build_metric_curve_fn(dict_params, list_time_budget, \n",
    "                            partial_build_sgnhtCV, params_IC, error_fn_ksd_curve)\n",
    "\n",
    "key = random.PRNGKey(0)\n",
    "mean_ksd_curve_sgnhtCV_gridsearch, sd_ksd_curve_sgnhtCV_gridsearch = get_mean_sd_ksd_curve(key, 10, get_metric_curve)\n"
   ]
  },
  {
   "cell_type": "code",
   "execution_count": 30,
   "id": "c05c7cca",
   "metadata": {},
   "outputs": [
    {
     "data": {
      "text/plain": [
       "array([677.9127 , 435.69467, 340.27075, 286.84207, 252.23836],\n",
       "      dtype=float32)"
      ]
     },
     "execution_count": 30,
     "metadata": {},
     "output_type": "execute_result"
    }
   ],
   "source": [
    "mean_ksd_curve_sgnht_mamba"
   ]
  },
  {
   "cell_type": "code",
   "execution_count": null,
   "id": "691f1f95",
   "metadata": {},
   "outputs": [],
   "source": []
  },
  {
   "cell_type": "markdown",
   "id": "44cac657",
   "metadata": {},
   "source": [
    "#### save and load ksd curves"
   ]
  },
  {
   "cell_type": "code",
   "execution_count": 15,
   "id": "43052437",
   "metadata": {},
   "outputs": [],
   "source": [
    "\n",
    "# MAMBA\n",
    "# np.savetxt(\"outputs/PMF_uncertainty_tests/mamba/KSD_curve_sgld.txt\", \n",
    "#            np.array([mean_ksd_curve_sgld_mamba, sd_ksd_curve_sgld_mamba]))\n",
    "\n",
    "# np.savetxt(\"outputs/PMF_uncertainty_tests/mamba/KSD_curve_sgldCV.txt\", \n",
    "#            np.array([mean_ksd_curve_sgldCV_mamba, sd_ksd_curve_sgldCV_mamba]))\n",
    "\n",
    "# np.savetxt(\"outputs/PMF_uncertainty_tests/mamba/KSD_curve_sghmc.txt\", \n",
    "#            np.array([mean_ksd_curve_sghmc_mamba, sd_ksd_curve_sghmc_mamba]))\n",
    "\n",
    "# np.savetxt(\"outputs/PMF_uncertainty_tests/mamba/KSD_curve_sghmcCV.txt\", \n",
    "#            np.array([mean_ksd_curve_sghmcCV_mamba, sd_ksd_curve_sghmcCV_mamba]))\n",
    "\n",
    "# np.savetxt(\"outputs/PMF_uncertainty_tests/mamba/KSD_curve_sgnht.txt\", \n",
    "#            np.array([mean_ksd_curve_sgnht_mamba, sd_ksd_curve_sgnht_mamba]))\n",
    "\n",
    "# np.savetxt(\"outputs/PMF_uncertainty_tests/mamba/KSD_curve_sgnhtCV.txt\", \n",
    "#            np.array([mean_ksd_curve_sgnhtCV_mamba, sd_ksd_curve_sgnhtCV_mamba]))\n",
    "\n",
    "\n",
    "# gridsearch\n",
    "# np.savetxt(\"outputs/PMF_uncertainty_tests/gridsearch/KSD_curve_sgld.txt\", \n",
    "#            np.array([mean_ksd_curve_sgld_gridsearch, sd_ksd_curve_sgld_gridsearch]))\n",
    "\n",
    "# np.savetxt(\"outputs/PMF_uncertainty_tests/gridsearch/KSD_curve_sgldCV.txt\", \n",
    "#            np.array([mean_ksd_curve_sgldCV_gridsearch, sd_ksd_curve_sgldCV_gridsearch]))\n",
    "\n",
    "# np.savetxt(\"outputs/PMF_uncertainty_tests/gridsearch/KSD_curve_sghmc.txt\", \n",
    "#            np.array([mean_ksd_curve_sghmc_gridsearch, sd_ksd_curve_sghmc_gridsearch]))\n",
    "\n",
    "# np.savetxt(\"outputs/PMF_uncertainty_tests/gridsearch/KSD_curve_sghmcCV.txt\", \n",
    "#            np.array([mean_ksd_curve_sghmcCV_gridsearch, sd_ksd_curve_sghmcCV_gridsearch]))\n",
    "\n",
    "# np.savetxt(\"outputs/PMF_uncertainty_tests/gridsearch/KSD_curve_sgnht.txt\", \n",
    "#            np.array([mean_ksd_curve_sgnht_gridsearch, sd_ksd_curve_sgnht_gridsearch]))\n",
    "\n",
    "# np.savetxt(\"outputs/PMF_uncertainty_tests/gridsearch/KSD_curve_sgnhtCV.txt\", \n",
    "#            np.array([mean_ksd_curve_sgnhtCV_gridsearch, sd_ksd_curve_sgnhtCV_gridsearch]))\n",
    "\n",
    "\n",
    "# Load mean and sd of ksd curves\n",
    "list_time_budget = [2, 4, 6, 8, 10]\n",
    "\n",
    "# mean_ksd_curve_sgld_mamba, sd_ksd_curve_sgld_mamba = np.genfromtxt(\"outputs/PMF_uncertainty_tests/mamba/KSD_curve_sgld.txt\")\n",
    "# mean_ksd_curve_sgldCV_mamba, sd_ksd_curve_sgldCV_mamba = np.genfromtxt(\"outputs/PMF_uncertainty_tests/mamba/KSD_curve_sgldCV.txt\")\n",
    "# mean_ksd_curve_sghmc_mamba, sd_ksd_curve_sghmc_mamba = np.genfromtxt(\"outputs/PMF_uncertainty_tests/mamba/KSD_curve_sghmc.txt\")\n",
    "# mean_ksd_curve_sghmcCV_mamba, sd_ksd_curve_sghmcCV_mamba = np.genfromtxt(\"outputs/PMF_uncertainty_tests/mamba/KSD_curve_sghmcCV.txt\")\n",
    "# mean_ksd_curve_sgnht_mamba, sd_ksd_curve_sgnht_mamba = np.genfromtxt(\"outputs/PMF_uncertainty_tests/mamba/KSD_curve_sgnht.txt\")\n",
    "# mean_ksd_curve_sgnhtCV_mamba, sd_ksd_curve_sgnhtCV_mamba = np.genfromtxt(\"outputs/PMF_uncertainty_tests/mamba/KSD_curve_sgnhtCV.txt\")\n",
    "\n",
    "mean_ksd_curve_sgld_gridsearch, sd_ksd_curve_sgld_gridsearch = np.genfromtxt(\"outputs/PMF_uncertainty_tests/gridsearch/KSD_curve_sgld.txt\")\n",
    "mean_ksd_curve_sgldCV_gridsearch, sd_ksd_curve_sgldCV_gridsearch = np.genfromtxt(\"outputs/PMF_uncertainty_tests/gridsearch/KSD_curve_sgldCV.txt\")\n",
    "mean_ksd_curve_sghmc_gridsearch, sd_ksd_curve_sghmc_gridsearch = np.genfromtxt(\"outputs/PMF_uncertainty_tests/gridsearch/KSD_curve_sghmc.txt\")\n",
    "mean_ksd_curve_sghmcCV_gridsearch, sd_ksd_curve_sghmcCV_gridsearch = np.genfromtxt(\"outputs/PMF_uncertainty_tests/gridsearch/KSD_curve_sghmcCV.txt\")\n",
    "mean_ksd_curve_sgnht_gridsearch, sd_ksd_curve_sgnht_gridsearch = np.genfromtxt(\"outputs/PMF_uncertainty_tests/gridsearch/KSD_curve_sgnht.txt\")\n",
    "mean_ksd_curve_sgnhtCV_gridsearch, sd_ksd_curve_sgnhtCV_gridsearch = np.genfromtxt(\"outputs/PMF_uncertainty_tests/gridsearch/KSD_curve_sgnhtCV.txt\")\n",
    "\n"
   ]
  },
  {
   "cell_type": "code",
   "execution_count": null,
   "id": "a49a4f1b",
   "metadata": {},
   "outputs": [],
   "source": []
  },
  {
   "cell_type": "markdown",
   "id": "46b44e47",
   "metadata": {},
   "source": [
    "# plots: KSD curves"
   ]
  },
  {
   "cell_type": "code",
   "execution_count": 21,
   "id": "dfffc93b",
   "metadata": {},
   "outputs": [
    {
     "data": {
      "text/plain": [
       "<matplotlib.legend.Legend at 0x7fd4fef70ca0>"
      ]
     },
     "execution_count": 21,
     "metadata": {},
     "output_type": "execute_result"
    },
    {
     "data": {
      "image/png": "[encoded data removed]",
      "text/plain": [
       "<Figure size 576x432 with 1 Axes>"
      ]
     },
     "metadata": {
      "needs_background": "light"
     },
     "output_type": "display_data"
    }
   ],
   "source": [
    "plt.rcParams.update({'font.size':17})\n",
    "\n",
    "max_time_budget = 8\n",
    "\n",
    "plt.figure(figsize=(8, 6))\n",
    "\n",
    "plt.plot(list_time_budget, mean_ksd_curve_sgld_mamba, marker=\"+\", markersize=15, \n",
    "         c='r', label=\"MAMBA\")\n",
    "plt.fill_between(list_time_budget, mean_ksd_curve_sgld_mamba+2*sd_ksd_curve_sgld_mamba, \n",
    "                 mean_ksd_curve_sgld_mamba-2*sd_ksd_curve_sgld_mamba, alpha=0.1, color='r')\n",
    "\n",
    "plt.plot(list_time_budget, mean_ksd_curve_sgld_gridsearch, marker=\"o\", markersize=15, \n",
    "         c='g', label=\"gridsearch\")\n",
    "plt.fill_between(list_time_budget, mean_ksd_curve_sgld_gridsearch+2*sd_ksd_curve_sgld_gridsearch, \n",
    "                 mean_ksd_curve_sgld_gridsearch-2*sd_ksd_curve_sgld_gridsearch, alpha=0.1, color='g')\n",
    "\n",
    "plt.title(\"SGLD sampler\", size=23)\n",
    "plt.ylabel(\"KSD\", size=19)\n",
    "plt.xlabel(\"time budget (seconds)\", size=19)\n",
    "plt.legend(fontsize=16)\n",
    "# plt.savefig(\"images/sgld_ksd_curves_R1_R5_n90.png\")"
   ]
  },
  {
   "cell_type": "code",
   "execution_count": 22,
   "id": "2bee3cbe",
   "metadata": {},
   "outputs": [
    {
     "data": {
      "text/plain": [
       "<matplotlib.legend.Legend at 0x7fd4c6dfb850>"
      ]
     },
     "execution_count": 22,
     "metadata": {},
     "output_type": "execute_result"
    },
    {
     "data": {
      "image/png": "[encoded data removed]",
      "text/plain": [
       "<Figure size 576x432 with 1 Axes>"
      ]
     },
     "metadata": {
      "needs_background": "light"
     },
     "output_type": "display_data"
    }
   ],
   "source": [
    "plt.rcParams.update({'font.size':17})\n",
    "\n",
    "max_time_budget = 8\n",
    "\n",
    "plt.figure(figsize=(8, 6))\n",
    "\n",
    "plt.plot(list_time_budget, mean_ksd_curve_sgldCV_mamba, marker=\"+\", markersize=15, \n",
    "         c='r', label=\"MAMBA\")\n",
    "plt.fill_between(list_time_budget, mean_ksd_curve_sgldCV_mamba+2*sd_ksd_curve_sgldCV_mamba, \n",
    "                 mean_ksd_curve_sgldCV_mamba-2*sd_ksd_curve_sgldCV_mamba, alpha=0.1, color='r')\n",
    "\n",
    "plt.plot(list_time_budget, mean_ksd_curve_sgldCV_gridsearch, marker=\"o\", markersize=15, \n",
    "         c='g', label=\"gridsearch\")\n",
    "plt.fill_between(list_time_budget, mean_ksd_curve_sgldCV_gridsearch+2*sd_ksd_curve_sgldCV_gridsearch, \n",
    "                 mean_ksd_curve_sgldCV_gridsearch-2*sd_ksd_curve_sgldCV_gridsearch, alpha=0.1, color='g')\n",
    "\n",
    "plt.title(\"SGLD-CV sampler\", size=23)\n",
    "plt.ylabel(\"KSD\", size=19)\n",
    "plt.xlabel(\"time budget (seconds)\", size=19)\n",
    "plt.legend(fontsize=16)\n",
    "# plt.savefig(\"images/sgld_ksd_curves_R1_R5_n90.png\")"
   ]
  },
  {
   "cell_type": "code",
   "execution_count": 23,
   "id": "eadac7d8",
   "metadata": {},
   "outputs": [
    {
     "data": {
      "text/plain": [
       "<matplotlib.legend.Legend at 0x7fd5078a9d90>"
      ]
     },
     "execution_count": 23,
     "metadata": {},
     "output_type": "execute_result"
    },
    {
     "data": {
      "image/png": "[encoded data removed]",
      "text/plain": [
       "<Figure size 576x432 with 1 Axes>"
      ]
     },
     "metadata": {
      "needs_background": "light"
     },
     "output_type": "display_data"
    }
   ],
   "source": [
    "plt.rcParams.update({'font.size':17})\n",
    "\n",
    "max_time_budget = 8\n",
    "\n",
    "plt.figure(figsize=(8, 6))\n",
    "\n",
    "plt.plot(list_time_budget, mean_ksd_curve_sghmc_mamba, marker=\"+\", markersize=15, \n",
    "         c='r', label=\"MAMBA\")\n",
    "plt.fill_between(list_time_budget, mean_ksd_curve_sghmc_mamba+2*sd_ksd_curve_sghmc_mamba, \n",
    "                 mean_ksd_curve_sghmc_mamba-2*sd_ksd_curve_sghmc_mamba, alpha=0.1, color='r')\n",
    "\n",
    "plt.plot(list_time_budget, mean_ksd_curve_sghmc_gridsearch, marker=\"o\", markersize=15, \n",
    "         c='g', label=\"gridsearch\")\n",
    "plt.fill_between(list_time_budget, mean_ksd_curve_sghmc_gridsearch+2*sd_ksd_curve_sghmc_gridsearch, \n",
    "                 mean_ksd_curve_sghmc_gridsearch-2*sd_ksd_curve_sghmc_gridsearch, alpha=0.1, color='g')\n",
    "\n",
    "\n",
    "plt.title(\"SGHMC sampler\", size=23)\n",
    "plt.ylabel(\"KSD\", size=19)\n",
    "plt.xlabel(\"time budget (seconds)\", size=19)\n",
    "plt.legend(fontsize=16)\n",
    "# plt.savefig(\"images/sgld_ksd_curves_R1_R5_n90.png\")"
   ]
  },
  {
   "cell_type": "code",
   "execution_count": 24,
   "id": "bb726747",
   "metadata": {},
   "outputs": [
    {
     "data": {
      "text/plain": [
       "<matplotlib.legend.Legend at 0x7fd4c72a2a00>"
      ]
     },
     "execution_count": 24,
     "metadata": {},
     "output_type": "execute_result"
    },
    {
     "data": {
      "image/png": "[encoded data removed]",
      "text/plain": [
       "<Figure size 576x432 with 1 Axes>"
      ]
     },
     "metadata": {
      "needs_background": "light"
     },
     "output_type": "display_data"
    }
   ],
   "source": [
    "plt.rcParams.update({'font.size':17})\n",
    "\n",
    "max_time_budget = 8\n",
    "\n",
    "plt.figure(figsize=(8, 6))\n",
    "\n",
    "plt.plot(list_time_budget, mean_ksd_curve_sghmcCV_mamba, marker=\"+\", markersize=15, \n",
    "         c='r', label=\"MAMBA\")\n",
    "plt.fill_between(list_time_budget, mean_ksd_curve_sghmcCV_mamba+2*sd_ksd_curve_sghmcCV_mamba, \n",
    "                 mean_ksd_curve_sghmcCV_mamba-2*sd_ksd_curve_sghmcCV_mamba, alpha=0.1, color='r')\n",
    "\n",
    "plt.plot(list_time_budget, mean_ksd_curve_sghmcCV_gridsearch, marker=\"o\", markersize=15, \n",
    "         c='g', label=\"gridsearch\")\n",
    "plt.fill_between(list_time_budget, mean_ksd_curve_sghmcCV_gridsearch+2*sd_ksd_curve_sghmcCV_gridsearch, \n",
    "                 mean_ksd_curve_sghmcCV_gridsearch-2*sd_ksd_curve_sghmcCV_gridsearch, alpha=0.1, color='g')\n",
    "\n",
    "\n",
    "plt.title(\"SGHMCCV sampler\", size=23)\n",
    "plt.ylabel(\"KSD\", size=19)\n",
    "plt.xlabel(\"time budget (seconds)\", size=19)\n",
    "plt.legend(fontsize=16)\n",
    "# plt.savefig(\"images/sgld_ksd_curves_R1_R5_n90.png\")"
   ]
  },
  {
   "cell_type": "code",
   "execution_count": null,
   "id": "07cc2d39",
   "metadata": {},
   "outputs": [],
   "source": []
  },
  {
   "cell_type": "code",
   "execution_count": 31,
   "id": "4c41ed66",
   "metadata": {},
   "outputs": [
    {
     "data": {
      "text/plain": [
       "<matplotlib.legend.Legend at 0x7fd5716821c0>"
      ]
     },
     "execution_count": 31,
     "metadata": {},
     "output_type": "execute_result"
    },
    {
     "data": {
      "image/png": "[encoded data removed]",
      "text/plain": [
       "<Figure size 576x432 with 1 Axes>"
      ]
     },
     "metadata": {
      "needs_background": "light"
     },
     "output_type": "display_data"
    }
   ],
   "source": [
    "plt.rcParams.update({'font.size':17})\n",
    "\n",
    "max_time_budget = 8\n",
    "\n",
    "plt.figure(figsize=(8, 6))\n",
    "\n",
    "plt.plot(list_time_budget, mean_ksd_curve_sgnht_mamba, marker=\"+\", markersize=15, \n",
    "         c='r', label=\"MAMBA\")\n",
    "plt.fill_between(list_time_budget, mean_ksd_curve_sgnht_mamba+2*sd_ksd_curve_sgnht_mamba, \n",
    "                 mean_ksd_curve_sgnht_mamba-2*sd_ksd_curve_sgnht_mamba, alpha=0.1, color='r')\n",
    "\n",
    "plt.plot(list_time_budget, mean_ksd_curve_sgnht_gridsearch, marker=\"o\", markersize=15, \n",
    "         c='g', label=\"gridsearch\")\n",
    "plt.fill_between(list_time_budget, mean_ksd_curve_sgnht_gridsearch+2*sd_ksd_curve_sgnht_gridsearch, \n",
    "                 mean_ksd_curve_sgnht_gridsearch-2*sd_ksd_curve_sgnht_gridsearch, alpha=0.1, color='g')\n",
    "\n",
    "\n",
    "plt.title(\"SGNHT sampler\", size=23)\n",
    "plt.ylabel(\"KSD\", size=19)\n",
    "plt.xlabel(\"time budget (seconds)\", size=19)\n",
    "plt.legend(fontsize=16)\n",
    "# plt.savefig(\"images/sgld_ksd_curves_R1_R5_n90.png\")"
   ]
  },
  {
   "cell_type": "code",
   "execution_count": null,
   "id": "06c13af5",
   "metadata": {},
   "outputs": [],
   "source": []
  },
  {
   "cell_type": "code",
   "execution_count": 32,
   "id": "b9df8622",
   "metadata": {},
   "outputs": [
    {
     "data": {
      "text/plain": [
       "<matplotlib.legend.Legend at 0x7fd5aa4e2b50>"
      ]
     },
     "execution_count": 32,
     "metadata": {},
     "output_type": "execute_result"
    },
    {
     "data": {
      "image/png": "[encoded data removed]",
      "text/plain": [
       "<Figure size 576x432 with 1 Axes>"
      ]
     },
     "metadata": {
      "needs_background": "light"
     },
     "output_type": "display_data"
    }
   ],
   "source": [
    "plt.rcParams.update({'font.size':17})\n",
    "\n",
    "max_time_budget = 8\n",
    "\n",
    "plt.figure(figsize=(8, 6))\n",
    "\n",
    "plt.plot(list_time_budget, mean_ksd_curve_sgnhtCV_mamba, marker=\"+\", markersize=15, \n",
    "         c='r', label=\"MAMBA\")\n",
    "plt.fill_between(list_time_budget, mean_ksd_curve_sgnhtCV_mamba+2*sd_ksd_curve_sgnhtCV_mamba, \n",
    "                 mean_ksd_curve_sgnhtCV_mamba-2*sd_ksd_curve_sgnhtCV_mamba, alpha=0.1, color='r')\n",
    "\n",
    "plt.plot(list_time_budget, mean_ksd_curve_sgnhtCV_gridsearch, marker=\"o\", markersize=15, \n",
    "         c='g', label=\"gridsearch\")\n",
    "plt.fill_between(list_time_budget, mean_ksd_curve_sgnhtCV_gridsearch+2*sd_ksd_curve_sgnhtCV_gridsearch, \n",
    "                 mean_ksd_curve_sgnhtCV_gridsearch-2*sd_ksd_curve_sgnhtCV_gridsearch, alpha=0.1, color='g')\n",
    "\n",
    "\n",
    "plt.title(\"SGNHT-CV sampler\", size=23)\n",
    "plt.ylabel(\"KSD\", size=19)\n",
    "plt.xlabel(\"time budget (seconds)\", size=19)\n",
    "plt.legend(fontsize=16)\n",
    "# plt.savefig(\"images/sgld_ksd_curves_R1_R5_n90.png\")"
   ]
  },
  {
   "cell_type": "code",
   "execution_count": null,
   "id": "41c7a049",
   "metadata": {},
   "outputs": [],
   "source": []
  },
  {
   "cell_type": "code",
   "execution_count": null,
   "id": "ee202042",
   "metadata": {},
   "outputs": [],
   "source": []
  }
 ],
 "metadata": {
  "kernelspec": {
   "display_name": "Python 3",
   "language": "python",
   "name": "python3"
  },
  "language_info": {
   "codemirror_mode": {
    "name": "ipython",
    "version": 3
   },
   "file_extension": ".py",
   "mimetype": "text/x-python",
   "name": "python",
   "nbconvert_exporter": "python",
   "pygments_lexer": "ipython3",
   "version": "3.8.2"
  }
 },
 "nbformat": 4,
 "nbformat_minor": 5
}
