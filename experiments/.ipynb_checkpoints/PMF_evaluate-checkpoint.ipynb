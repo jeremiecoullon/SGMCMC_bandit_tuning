{
 "cells": [
  {
   "cell_type": "code",
   "execution_count": 15,
   "id": "906fd9ec",
   "metadata": {},
   "outputs": [],
   "source": [
    "%matplotlib inline\n",
    "import matplotlib.pyplot as plt\n",
    "import numpy as np\n",
    "\n",
    "import jax.numpy as jnp\n",
    "from jax import grad, jit, random, partial, lax\n",
    "\n",
    "import context\n",
    "from models.PMF.pmf_model import logprior, loglikelihood\n",
    "from models.PMF.util import R_train, R_test, load_PMF_MAP, rmse_PMF, get_rmse_list, mean_rating\n",
    "\n",
    "\n",
    "from tuning.mamba import timed_sampler\n",
    "from tuning.ksd import imq_KSD\n",
    "from tuning.util import build_metric_curve_fn, get_mean_sd_ksd_curve\n",
    "from util import wait_until_computed, flatten_param_list\n",
    "\n",
    "from sgmcmcjax.kernels import build_sgld_kernel, build_sghmc_kernel, build_sgnht_kernel\n",
    "from sgmcmcjax.kernels import build_sgldCV_kernel, build_sghmcCV_kernel, build_sgnhtCV_kernel\n"
   ]
  },
  {
   "cell_type": "markdown",
   "id": "a01ea2b4",
   "metadata": {},
   "source": [
    "# PMF"
   ]
  },
  {
   "cell_type": "code",
   "execution_count": 16,
   "id": "dd0b7388",
   "metadata": {},
   "outputs": [],
   "source": [
    "data = (R_train,)\n",
    "\n",
    "\n",
    "key = random.PRNGKey(0)\n",
    "centering_value = load_PMF_MAP()\n",
    "params_IC = load_PMF_MAP()\n",
    "\n",
    "gridsearch_bs = int(0.1*R_train.shape[0])\n",
    "dt_baseline = 1/R_train.shape[0]\n"
   ]
  },
  {
   "cell_type": "code",
   "execution_count": 34,
   "id": "e4d71dbb",
   "metadata": {},
   "outputs": [],
   "source": [
    "from sgmcmcjax.util import build_grad_log_post\n",
    "from jax import vmap, jit\n",
    "\n",
    "grad_log_post = build_grad_log_post(loglikelihood, logprior, data)\n",
    "\n",
    "from config import BASE_DIR\n",
    "\n",
    "def load_PMF_NUTS_stds():\n",
    "    return [np.genfromtxt(f\"{BASE_DIR}/data/PMF_NUTS_stds/PMF_{idx}_std.txt\") for idx in range(6)]\n",
    "\n",
    "\n",
    "numpyro_stds = load_PMF_NUTS_stds()\n",
    "flat_numpyro_std = flatten_param_list([numpyro_stds])[0]\n",
    "\n",
    "\n",
    "def get_relative_error(samples, numpyro_stds=numpyro_stds):\n",
    "    flat_samples = flatten_param_list(samples)\n",
    "    flat_samples_std = flat_samples.std(axis=0)\n",
    "#     flat_numpyro_std = flatten_param_list([numpyro_stds])[0]\n",
    "    return np.linalg.norm(flat_samples_std-flat_numpyro_std)/np.linalg.norm(flat_numpyro_std)\n",
    "    \n",
    "    \n",
    "\n",
    "def get_fb_grads_pmf(samples):\n",
    "    \"\"\"\n",
    "    Return full-batch gradients for PMF samples\n",
    "    samples list of PMF sample. Each PMF sample is a list of 6 arrays\n",
    "    \"\"\"\n",
    "    return [grad_log_post(sam, R_train) for sam in samples]\n",
    "\n",
    "def get_ksd_PMF(samples, thin_step):\n",
    "    num_samples = len(samples)\n",
    "    fb_grads = get_fb_grads_pmf(samples[::thin_step])\n",
    "    flat_samples = flatten_param_list(samples[::thin_step])\n",
    "    flat_grads = flatten_param_list(fb_grads)\n",
    "    est_ksd = imq_KSD(flat_samples, flat_grads)\n",
    "    \n",
    "    # numpy error\n",
    "    flat_samples_std = flat_samples.std(axis=0)\n",
    "    numpyro_error = np.linalg.norm(flat_samples_std-flat_numpyro_std)/np.linalg.norm(flat_numpyro_std)\n",
    "    \n",
    "    rmse_list = get_rmse_list(samples, R_test, mean_rating)\n",
    "    return est_ksd, numpyro_error, rmse_list\n",
    "\n",
    "def assess_PMF_samples(samples, thin_step):\n",
    "    num_samples = len(samples)\n",
    "    print(f\"\\nAssessing the samples. Num samples: {num_samples}\")\n",
    "    est_ksd, numpyro_error, rmse_list = get_ksd_PMF(samples, thin_step)\n",
    "    return est_ksd, numpyro_error, rmse_list, num_samples\n",
    "    \n",
    "def run_time_budget(key, time_budget, build_kernel, thin, dict_params, params_IC=load_PMF_MAP()):\n",
    "    timed_sampler_factory = timed_sampler(build_kernel)\n",
    "    my_timed_sampler = timed_sampler_factory(**dict_params)\n",
    "    samples, _ = my_timed_sampler(key, time_budget, params_IC)\n",
    "    return assess_PMF_samples(samples, thin)\n",
    "\n"
   ]
  },
  {
   "cell_type": "markdown",
   "id": "b12fa593",
   "metadata": {},
   "source": [
    "### build partial kernels"
   ]
  },
  {
   "cell_type": "code",
   "execution_count": 35,
   "id": "6b42212b",
   "metadata": {},
   "outputs": [],
   "source": [
    "partial_build_sgld = lambda dt, batch_size: build_sgld_kernel(dt, loglikelihood, \n",
    "                                                              logprior, data, batch_size)\n",
    "partial_build_sgldCV = lambda dt, batch_size: build_sgldCV_kernel(dt, loglikelihood, \n",
    "                                                    logprior, data, batch_size, centering_value)\n",
    "\n",
    "partial_build_sghmc = lambda dt, L, batch_size: build_sghmc_kernel(dt, L, loglikelihood, \n",
    "                                                              logprior, data, batch_size)\n",
    "partial_build_sghmcCV = lambda dt, L, batch_size: build_sghmcCV_kernel(dt, L, loglikelihood, \n",
    "                                                              logprior, data, batch_size, centering_value)\n",
    "\n",
    "partial_build_sgnht = lambda dt, batch_size: build_sgnht_kernel(dt, loglikelihood, \n",
    "                                                              logprior, data, batch_size)\n",
    "partial_build_sgnhtCV = lambda dt, batch_size: build_sgnhtCV_kernel(dt, loglikelihood, \n",
    "                                                              logprior, data, batch_size, centering_value)\n",
    "\n",
    "# time_budget = 5\n",
    "# thin = 5\n",
    "\n",
    "time_budget = 20\n",
    "thin = 60\n"
   ]
  },
  {
   "cell_type": "code",
   "execution_count": 36,
   "id": "40a145f7",
   "metadata": {},
   "outputs": [
    {
     "data": {
      "text/plain": [
       "8000"
      ]
     },
     "execution_count": 36,
     "metadata": {},
     "output_type": "execute_result"
    }
   ],
   "source": [
    "gridsearch_bs"
   ]
  },
  {
   "cell_type": "code",
   "execution_count": 29,
   "id": "809895c0",
   "metadata": {},
   "outputs": [],
   "source": [
    "timed_sampler_factory = timed_sampler(partial_build_sgld)\n",
    "my_timed_sampler = timed_sampler_factory(**{'batch_size': gridsearch_bs, 'dt': dt_baseline})\n",
    "samples, _ = my_timed_sampler(key, 5, params_IC)\n",
    "# return assess_PMF_samples(samples, 1)"
   ]
  },
  {
   "cell_type": "code",
   "execution_count": 30,
   "id": "f5bc2110",
   "metadata": {},
   "outputs": [
    {
     "data": {
      "text/plain": [
       "2434"
      ]
     },
     "execution_count": 30,
     "metadata": {},
     "output_type": "execute_result"
    }
   ],
   "source": [
    "len(samples)"
   ]
  },
  {
   "cell_type": "code",
   "execution_count": 31,
   "id": "52a4d7f0",
   "metadata": {},
   "outputs": [
    {
     "name": "stdout",
     "output_type": "stream",
     "text": [
      "\n",
      "Assessing the samples. Num samples: 2434\n"
     ]
    },
    {
     "data": {
      "application/vnd.jupyter.widget-view+json": {
       "model_id": "ac4dcad690f943a8b00b04c962f73992",
       "version_major": 2,
       "version_minor": 0
      },
      "text/plain": [
       "HBox(children=(HTML(value=''), FloatProgress(value=0.0, max=2434.0), HTML(value='')))"
      ]
     },
     "metadata": {},
     "output_type": "display_data"
    },
    {
     "name": "stdout",
     "output_type": "stream",
     "text": [
      "\n"
     ]
    },
    {
     "ename": "ValueError",
     "evalue": "too many values to unpack (expected 2)",
     "output_type": "error",
     "traceback": [
      "\u001b[0;31m---------------------------------------------------------------------------\u001b[0m",
      "\u001b[0;31mValueError\u001b[0m                                Traceback (most recent call last)",
      "\u001b[0;32m<ipython-input-31-0a74eaf03924>\u001b[0m in \u001b[0;36m<module>\u001b[0;34m\u001b[0m\n\u001b[0;32m----> 1\u001b[0;31m \u001b[0massess_PMF_samples\u001b[0m\u001b[0;34m(\u001b[0m\u001b[0msamples\u001b[0m\u001b[0;34m,\u001b[0m \u001b[0;36m100\u001b[0m\u001b[0;34m)\u001b[0m\u001b[0;34m\u001b[0m\u001b[0;34m\u001b[0m\u001b[0m\n\u001b[0m",
      "\u001b[0;32m<ipython-input-26-5160f6cc1857>\u001b[0m in \u001b[0;36massess_PMF_samples\u001b[0;34m(samples, thin_step)\u001b[0m\n\u001b[1;32m     46\u001b[0m     \u001b[0mnum_samples\u001b[0m \u001b[0;34m=\u001b[0m \u001b[0mlen\u001b[0m\u001b[0;34m(\u001b[0m\u001b[0msamples\u001b[0m\u001b[0;34m)\u001b[0m\u001b[0;34m\u001b[0m\u001b[0;34m\u001b[0m\u001b[0m\n\u001b[1;32m     47\u001b[0m     \u001b[0mprint\u001b[0m\u001b[0;34m(\u001b[0m\u001b[0;34mf\"\\nAssessing the samples. Num samples: {num_samples}\"\u001b[0m\u001b[0;34m)\u001b[0m\u001b[0;34m\u001b[0m\u001b[0;34m\u001b[0m\u001b[0m\n\u001b[0;32m---> 48\u001b[0;31m     \u001b[0mest_ksd\u001b[0m\u001b[0;34m,\u001b[0m \u001b[0mnumpyro_error\u001b[0m \u001b[0;34m=\u001b[0m \u001b[0mget_ksd_PMF\u001b[0m\u001b[0;34m(\u001b[0m\u001b[0msamples\u001b[0m\u001b[0;34m,\u001b[0m \u001b[0mthin_step\u001b[0m\u001b[0;34m)\u001b[0m\u001b[0;34m\u001b[0m\u001b[0;34m\u001b[0m\u001b[0m\n\u001b[0m\u001b[1;32m     49\u001b[0m     \u001b[0;32mreturn\u001b[0m \u001b[0mest_ksd\u001b[0m\u001b[0;34m,\u001b[0m \u001b[0mnumpyro_error\u001b[0m\u001b[0;34m,\u001b[0m \u001b[0mnum_samples\u001b[0m\u001b[0;34m\u001b[0m\u001b[0;34m\u001b[0m\u001b[0m\n\u001b[1;32m     50\u001b[0m \u001b[0;31m#     samples_array = jnp.array(samples[::thin_step])\u001b[0m\u001b[0;34m\u001b[0m\u001b[0;34m\u001b[0m\u001b[0;34m\u001b[0m\u001b[0m\n",
      "\u001b[0;31mValueError\u001b[0m: too many values to unpack (expected 2)"
     ]
    }
   ],
   "source": [
    "assess_PMF_samples(samples, 100)"
   ]
  },
  {
   "cell_type": "code",
   "execution_count": null,
   "id": "1cf7e48f",
   "metadata": {},
   "outputs": [],
   "source": [
    "get_relative_error(samples[::10])"
   ]
  },
  {
   "cell_type": "code",
   "execution_count": null,
   "id": "e0a21bc9",
   "metadata": {},
   "outputs": [],
   "source": [
    "mylist = get_rmse_list(samples, R_test, mean_rating)"
   ]
  },
  {
   "cell_type": "code",
   "execution_count": null,
   "id": "ea9c4d4a",
   "metadata": {},
   "outputs": [],
   "source": [
    "plt.plot(mylist)"
   ]
  },
  {
   "cell_type": "code",
   "execution_count": null,
   "id": "6c7777a9",
   "metadata": {},
   "outputs": [],
   "source": []
  },
  {
   "cell_type": "markdown",
   "id": "2d713ad0",
   "metadata": {},
   "source": [
    "# 1. A long run\n",
    "\n",
    "- 1 million data points\n",
    "- 20sec budget\n",
    "- thin by 20"
   ]
  },
  {
   "cell_type": "markdown",
   "id": "b838d019",
   "metadata": {},
   "source": [
    "### sgld"
   ]
  },
  {
   "cell_type": "code",
   "execution_count": 76,
   "id": "eb5ff240",
   "metadata": {},
   "outputs": [
    {
     "name": "stdout",
     "output_type": "stream",
     "text": [
      "ksd, numpyro_error, num_samples:\n",
      "\n",
      "\n",
      "Assessing the samples. Num samples: 14424\n"
     ]
    },
    {
     "data": {
      "application/vnd.jupyter.widget-view+json": {
       "model_id": "940e062c5d0843e39c922b46fbfdc494",
       "version_major": 2,
       "version_minor": 0
      },
      "text/plain": [
       "HBox(children=(HTML(value=''), FloatProgress(value=0.0, max=14424.0), HTML(value='')))"
      ]
     },
     "metadata": {},
     "output_type": "display_data"
    },
    {
     "name": "stdout",
     "output_type": "stream",
     "text": [
      "\n",
      "MAMBA: (222.3230438232422, 0.7000136, 14424)\n",
      "\n",
      "Assessing the samples. Num samples: 9239\n"
     ]
    },
    {
     "data": {
      "application/vnd.jupyter.widget-view+json": {
       "model_id": "a7ed3aa21d9b47499071815d513b9473",
       "version_major": 2,
       "version_minor": 0
      },
      "text/plain": [
       "HBox(children=(HTML(value=''), FloatProgress(value=0.0, max=9239.0), HTML(value='')))"
      ]
     },
     "metadata": {},
     "output_type": "display_data"
    },
    {
     "name": "stdout",
     "output_type": "stream",
     "text": [
      "\n",
      "gridsearch: (453.89788818359375, 1.222016, 9239)\n",
      "\n",
      "Assessing the samples. Num samples: 9110\n"
     ]
    },
    {
     "data": {
      "application/vnd.jupyter.widget-view+json": {
       "model_id": "0b95d7686e634fe7a2e985a511cc1fdc",
       "version_major": 2,
       "version_minor": 0
      },
      "text/plain": [
       "HBox(children=(HTML(value=''), FloatProgress(value=0.0, max=9110.0), HTML(value='')))"
      ]
     },
     "metadata": {},
     "output_type": "display_data"
    },
    {
     "name": "stdout",
     "output_type": "stream",
     "text": [
      "\n",
      "baseline: (248.40481567382812, 0.7251296, 9110)\n"
     ]
    }
   ],
   "source": [
    "sh_params = {'batch_size': 800, 'dt': 1e-05}\n",
    "gridsearch_params = {'batch_size': gridsearch_bs, 'dt': 0.00031622776}\n",
    "baseline_params = {'batch_size': gridsearch_bs, 'dt': dt_baseline}\n",
    "\n",
    "\n",
    "print(\"ksd, numpyro_error, num_samples:\\n\")\n",
    "est_ksd, numpyro_error, rmse_list_sgld_mamba, num_samples = run_time_budget(key, time_budget, partial_build_sgld, thin, sh_params)\n",
    "print(f\"MAMBA: {float(est_ksd), numpyro_error, num_samples}\")\n",
    "\n",
    "est_ksd, numpyro_error, rmse_list_sgld_gridsearch, num_samples = run_time_budget(key, time_budget, partial_build_sgld, thin, gridsearch_params)\n",
    "print(f\"gridsearch: {float(est_ksd), numpyro_error, num_samples}\")\n",
    "\n",
    "est_ksd, numpyro_error, rmse_list_sgld_baseline, num_samples = run_time_budget(key, time_budget, partial_build_sgld, thin, baseline_params)\n",
    "print(f\"baseline: {float(est_ksd), numpyro_error, num_samples}\")"
   ]
  },
  {
   "cell_type": "code",
   "execution_count": null,
   "id": "85755079",
   "metadata": {},
   "outputs": [],
   "source": []
  },
  {
   "cell_type": "code",
   "execution_count": 85,
   "id": "48ba1e53",
   "metadata": {},
   "outputs": [
    {
     "name": "stdout",
     "output_type": "stream",
     "text": [
      "1.1406999\n",
      "1.2390687\n",
      "1.1374693\n"
     ]
    },
    {
     "data": {
      "image/png": "[encoded data removed]",
      "text/plain": [
       "<Figure size 720x432 with 3 Axes>"
      ]
     },
     "metadata": {
      "needs_background": "light"
     },
     "output_type": "display_data"
    }
   ],
   "source": [
    "burnin_sgld_mamba = 6000\n",
    "burnin_sgld_gridsearch = 500\n",
    "burnin_sgld_baseline = 6000\n",
    "\n",
    "fig, ax = plt.subplots(3, figsize=(10,6))\n",
    "plt.suptitle(\"RMSE\", size=18)\n",
    "ax[0].plot(rmse_list_sgld_mamba)\n",
    "ax[0].set_title(\"mamba\")\n",
    "ax[1].plot(rmse_list_sgld_gridsearch)\n",
    "ax[1].set_title(\"gridsearch\")\n",
    "ax[2].plot(rmse_list_sgld_baseline)\n",
    "ax[2].set_title(\"baseline\")\n",
    "\n",
    "plt.tight_layout()\n",
    "\n",
    "print(np.mean(rmse_list_sgld_mamba[burnin_sgld_mamba:]))\n",
    "print(np.mean(rmse_list_sgld_gridsearch[burnin_sgld_gridsearch:]))\n",
    "print(np.mean(rmse_list_sgld_baseline[burnin_sgld_baseline:]))"
   ]
  },
  {
   "cell_type": "code",
   "execution_count": null,
   "id": "cfbf5f2c",
   "metadata": {},
   "outputs": [],
   "source": []
  },
  {
   "cell_type": "code",
   "execution_count": null,
   "id": "f6000fd6",
   "metadata": {},
   "outputs": [],
   "source": []
  },
  {
   "cell_type": "code",
   "execution_count": null,
   "id": "405ec838",
   "metadata": {},
   "outputs": [],
   "source": []
  },
  {
   "cell_type": "markdown",
   "id": "9c2e7e06",
   "metadata": {},
   "source": [
    "### sgld-cv"
   ]
  },
  {
   "cell_type": "code",
   "execution_count": 78,
   "id": "f12b4bb8",
   "metadata": {},
   "outputs": [
    {
     "name": "stdout",
     "output_type": "stream",
     "text": [
      "ksd, numpyro_error, num_samples:\n",
      "\n",
      "\n",
      "Assessing the samples. Num samples: 10247\n"
     ]
    },
    {
     "data": {
      "application/vnd.jupyter.widget-view+json": {
       "model_id": "8f6c4f56ca904f7295d9768a744109f3",
       "version_major": 2,
       "version_minor": 0
      },
      "text/plain": [
       "HBox(children=(HTML(value=''), FloatProgress(value=0.0, max=10247.0), HTML(value='')))"
      ]
     },
     "metadata": {},
     "output_type": "display_data"
    },
    {
     "name": "stdout",
     "output_type": "stream",
     "text": [
      "\n",
      "MAMBA: (247.45919799804688, 0.733772, 10247)\n",
      "\n",
      "Assessing the samples. Num samples: 6415\n"
     ]
    },
    {
     "data": {
      "application/vnd.jupyter.widget-view+json": {
       "model_id": "054cb55b563e4c4baaab3fca9303b307",
       "version_major": 2,
       "version_minor": 0
      },
      "text/plain": [
       "HBox(children=(HTML(value=''), FloatProgress(value=0.0, max=6415.0), HTML(value='')))"
      ]
     },
     "metadata": {},
     "output_type": "display_data"
    },
    {
     "name": "stdout",
     "output_type": "stream",
     "text": [
      "\n",
      "gridsearch: (566.5340576171875, 1.3559806, 6415)\n",
      "\n",
      "Assessing the samples. Num samples: 6585\n"
     ]
    },
    {
     "data": {
      "application/vnd.jupyter.widget-view+json": {
       "model_id": "5910457e2ef24d14bada7ccd4d6197d8",
       "version_major": 2,
       "version_minor": 0
      },
      "text/plain": [
       "HBox(children=(HTML(value=''), FloatProgress(value=0.0, max=6585.0), HTML(value='')))"
      ]
     },
     "metadata": {},
     "output_type": "display_data"
    },
    {
     "name": "stdout",
     "output_type": "stream",
     "text": [
      "\n",
      "baseline: (290.04248046875, 0.7537554, 6585)\n",
      "290.04248 0.7537554 6585\n",
      "290.04248 0.7537554 6585\n",
      "290.04248 0.7537554 6585\n"
     ]
    }
   ],
   "source": [
    "sh_params = {'batch_size': 800, 'dt': 1e-05}\n",
    "gridsearch_params = {'batch_size': gridsearch_bs, 'dt': 0.00031622776}\n",
    "baseline_params = {'batch_size': gridsearch_bs, 'dt': dt_baseline}\n",
    "\n",
    "print(\"ksd, numpyro_error, num_samples:\\n\")\n",
    "\n",
    "est_ksd, numpyro_error, rmse_list_sgldCV_mamba, num_samples = run_time_budget(key, time_budget, partial_build_sgldCV, thin, sh_params)\n",
    "print(f\"MAMBA: {float(est_ksd), numpyro_error, num_samples}\")\n",
    "est_ksd, numpyro_error, rmse_list_sgldCV_gridsearch, num_samples = run_time_budget(key, time_budget, partial_build_sgldCV, thin, gridsearch_params)\n",
    "print(f\"gridsearch: {float(est_ksd), numpyro_error, num_samples}\")\n",
    "est_ksd, numpyro_error, rmse_list_sgldCV_baseline, num_samples = run_time_budget(key, time_budget, partial_build_sgldCV, thin, baseline_params)\n",
    "print(f\"baseline: {float(est_ksd), numpyro_error, num_samples}\")\n"
   ]
  },
  {
   "cell_type": "code",
   "execution_count": 86,
   "id": "1a087963",
   "metadata": {},
   "outputs": [
    {
     "name": "stdout",
     "output_type": "stream",
     "text": [
      "1.133148\n",
      "1.2462232\n",
      "1.1259294\n"
     ]
    },
    {
     "data": {
      "image/png": "[encoded data removed]",
      "text/plain": [
       "<Figure size 720x432 with 3 Axes>"
      ]
     },
     "metadata": {
      "needs_background": "light"
     },
     "output_type": "display_data"
    }
   ],
   "source": [
    "burnin_sgldCV_mamba = 6000\n",
    "burnin_sgldCV_gridsearch = 500\n",
    "burnin_sgldCV_baseline = 4000\n",
    "\n",
    "fig, ax = plt.subplots(3, figsize=(10,6))\n",
    "plt.suptitle(\"RMSE\", size=18)\n",
    "ax[0].plot(rmse_list_sgldCV_mamba)\n",
    "ax[0].set_title(\"mamba\")\n",
    "ax[1].plot(rmse_list_sgldCV_gridsearch)\n",
    "ax[1].set_title(\"gridsearch\")\n",
    "ax[2].plot(rmse_list_sgldCV_baseline)\n",
    "ax[2].set_title(\"baseline\")\n",
    "\n",
    "plt.tight_layout()\n",
    "\n",
    "print(np.mean(rmse_list_sgldCV_mamba[burnin_sgldCV_mamba:]))\n",
    "print(np.mean(rmse_list_sgldCV_gridsearch[burnin_sgldCV_gridsearch:]))\n",
    "print(np.mean(rmse_list_sgldCV_baseline[burnin_sgldCV_baseline:]))"
   ]
  },
  {
   "cell_type": "code",
   "execution_count": null,
   "id": "b9a4fddc",
   "metadata": {},
   "outputs": [],
   "source": []
  },
  {
   "cell_type": "code",
   "execution_count": null,
   "id": "d7627e3c",
   "metadata": {},
   "outputs": [],
   "source": []
  },
  {
   "cell_type": "markdown",
   "id": "7fc63e11",
   "metadata": {},
   "source": [
    "## sghmc"
   ]
  },
  {
   "cell_type": "code",
   "execution_count": 81,
   "id": "eb3c1f37",
   "metadata": {},
   "outputs": [
    {
     "name": "stdout",
     "output_type": "stream",
     "text": [
      "ksd, numpyro_error, num_samples:\n",
      "\n",
      "\n",
      "Assessing the samples. Num samples: 3375\n"
     ]
    },
    {
     "data": {
      "application/vnd.jupyter.widget-view+json": {
       "model_id": "7d8851da2d5948dab8d3097fab0be401",
       "version_major": 2,
       "version_minor": 0
      },
      "text/plain": [
       "HBox(children=(HTML(value=''), FloatProgress(value=0.0, max=3375.0), HTML(value='')))"
      ]
     },
     "metadata": {},
     "output_type": "display_data"
    },
    {
     "name": "stdout",
     "output_type": "stream",
     "text": [
      "\n",
      "MAMBA: (445.1099548339844, 0.8018765, 3375)\n",
      "\n",
      "Assessing the samples. Num samples: 1055\n"
     ]
    },
    {
     "data": {
      "application/vnd.jupyter.widget-view+json": {
       "model_id": "d6221c18c57445338c6d2f2ae1c3ace8",
       "version_major": 2,
       "version_minor": 0
      },
      "text/plain": [
       "HBox(children=(HTML(value=''), FloatProgress(value=0.0, max=1055.0), HTML(value='')))"
      ]
     },
     "metadata": {},
     "output_type": "display_data"
    },
    {
     "name": "stdout",
     "output_type": "stream",
     "text": [
      "\n",
      "gridsearch: (3465.5302734375, 0.52726996, 1055)\n",
      "\n",
      "Assessing the samples. Num samples: 1031\n"
     ]
    },
    {
     "data": {
      "application/vnd.jupyter.widget-view+json": {
       "model_id": "95d9b0eb30104a13ae8d1121a623ef3d",
       "version_major": 2,
       "version_minor": 0
      },
      "text/plain": [
       "HBox(children=(HTML(value=''), FloatProgress(value=0.0, max=1031.0), HTML(value='')))"
      ]
     },
     "metadata": {},
     "output_type": "display_data"
    },
    {
     "name": "stdout",
     "output_type": "stream",
     "text": [
      "\n",
      "baseline: (3941.710205078125, 0.50353265, 1031)\n"
     ]
    }
   ],
   "source": [
    "sh_params = {'batch_size': 800, 'L': 5, 'dt': 1e-06}\n",
    "gridsearch_params = {'batch_size': gridsearch_bs, 'L': 10, 'dt': 1e-5}\n",
    "baseline_params = {'batch_size': gridsearch_bs, 'L': 10, 'dt': dt_baseline}\n",
    "\n",
    "print(\"ksd, numpyro_error, num_samples:\\n\")\n",
    "\n",
    "est_ksd, numpyro_error, rmse_list_sghmc_mamba, num_samples = run_time_budget(key, time_budget, partial_build_sghmc, thin, sh_params)\n",
    "print(f\"MAMBA: {float(est_ksd), numpyro_error, num_samples}\")\n",
    "est_ksd, numpyro_error, rmse_list_sghmc_gridsearch, num_samples = run_time_budget(key, time_budget, partial_build_sghmc, thin, gridsearch_params)\n",
    "print(f\"gridsearch: {float(est_ksd), numpyro_error, num_samples}\")\n",
    "est_ksd, numpyro_error, rmse_list_sghmc_baseline, num_samples = run_time_budget(key, time_budget, partial_build_sghmc, thin, baseline_params)\n",
    "print(f\"baseline: {float(est_ksd), numpyro_error, num_samples}\")\n"
   ]
  },
  {
   "cell_type": "code",
   "execution_count": 89,
   "id": "fe24bafd",
   "metadata": {},
   "outputs": [
    {
     "name": "stdout",
     "output_type": "stream",
     "text": [
      "1.1242652\n",
      "1.2512119\n",
      "1.2519764\n"
     ]
    },
    {
     "data": {
      "image/png": "[encoded data removed]",
      "text/plain": [
       "<Figure size 720x432 with 3 Axes>"
      ]
     },
     "metadata": {
      "needs_background": "light"
     },
     "output_type": "display_data"
    }
   ],
   "source": [
    "burnin_sghmc_mamba = 3000\n",
    "burnin_sghmc_gridsearch = 600\n",
    "burnin_sghmc_baseline = 600\n",
    "\n",
    "fig, ax = plt.subplots(3, figsize=(10,6))\n",
    "plt.suptitle(\"RMSE\", size=18)\n",
    "ax[0].plot(rmse_list_sghmc_mamba)\n",
    "ax[0].set_title(\"mamba\")\n",
    "ax[1].plot(rmse_list_sghmc_gridsearch)\n",
    "ax[1].set_title(\"gridsearch\")\n",
    "ax[2].plot(rmse_list_sghmc_baseline)\n",
    "ax[2].set_title(\"baseline\")\n",
    "\n",
    "plt.tight_layout()\n",
    "\n",
    "print(np.mean(rmse_list_sghmc_mamba[burnin_sghmc_mamba:]))\n",
    "print(np.mean(rmse_list_sghmc_gridsearch[burnin_sghmc_gridsearch:]))\n",
    "print(np.mean(rmse_list_sghmc_baseline[burnin_sghmc_baseline:]))"
   ]
  },
  {
   "cell_type": "code",
   "execution_count": null,
   "id": "7d059dda",
   "metadata": {},
   "outputs": [],
   "source": []
  },
  {
   "cell_type": "markdown",
   "id": "83e99008",
   "metadata": {},
   "source": [
    "## sghmc-cv"
   ]
  },
  {
   "cell_type": "code",
   "execution_count": 82,
   "id": "84175ee5",
   "metadata": {},
   "outputs": [
    {
     "name": "stdout",
     "output_type": "stream",
     "text": [
      "ksd, numpyro_error, num_samples:\n",
      "\n",
      "\n",
      "Assessing the samples. Num samples: 2797\n"
     ]
    },
    {
     "data": {
      "application/vnd.jupyter.widget-view+json": {
       "model_id": "3688590a4ba04404848abb9a8433ff66",
       "version_major": 2,
       "version_minor": 0
      },
      "text/plain": [
       "HBox(children=(HTML(value=''), FloatProgress(value=0.0, max=2797.0), HTML(value='')))"
      ]
     },
     "metadata": {},
     "output_type": "display_data"
    },
    {
     "name": "stdout",
     "output_type": "stream",
     "text": [
      "\n",
      "MAMBA: (502.713623046875, 0.81492513, 2797)\n",
      "\n",
      "Assessing the samples. Num samples: 749\n"
     ]
    },
    {
     "data": {
      "application/vnd.jupyter.widget-view+json": {
       "model_id": "e7b722df48c44a028e676c08ea0c739e",
       "version_major": 2,
       "version_minor": 0
      },
      "text/plain": [
       "HBox(children=(HTML(value=''), FloatProgress(value=0.0, max=749.0), HTML(value='')))"
      ]
     },
     "metadata": {},
     "output_type": "display_data"
    },
    {
     "name": "stdout",
     "output_type": "stream",
     "text": [
      "\n",
      "gridsearch: (4777.5498046875, 0.578255, 749)\n",
      "\n",
      "Assessing the samples. Num samples: 762\n"
     ]
    },
    {
     "data": {
      "application/vnd.jupyter.widget-view+json": {
       "model_id": "52747349f8f144a79fb465ef3367bfe4",
       "version_major": 2,
       "version_minor": 0
      },
      "text/plain": [
       "HBox(children=(HTML(value=''), FloatProgress(value=0.0, max=762.0), HTML(value='')))"
      ]
     },
     "metadata": {},
     "output_type": "display_data"
    },
    {
     "name": "stdout",
     "output_type": "stream",
     "text": [
      "\n",
      "baseline: (5153.6728515625, 0.5548111, 762)\n"
     ]
    }
   ],
   "source": [
    "sh_params = {'batch_size': 80, 'L': 5, 'dt': 1e-06}\n",
    "gridsearch_params = {'batch_size': gridsearch_bs, 'L': 10, 'dt': 1e-5}\n",
    "baseline_params = {'batch_size': gridsearch_bs, 'L': 10, 'dt': dt_baseline}\n",
    "\n",
    "print(\"ksd, numpyro_error, num_samples:\\n\")\n",
    "\n",
    "est_ksd, numpyro_error, rmse_list_sghmcCV_mamba, num_samples = run_time_budget(key, time_budget, partial_build_sghmcCV, thin, sh_params)\n",
    "print(f\"MAMBA: {float(est_ksd), numpyro_error, num_samples}\")\n",
    "est_ksd, numpyro_error, rmse_list_sghmcCV_gridsearch, num_samples = run_time_budget(key, time_budget, partial_build_sghmcCV, thin, gridsearch_params)\n",
    "print(f\"gridsearch: {float(est_ksd), numpyro_error, num_samples}\")\n",
    "est_ksd, numpyro_error, rmse_list_sghmcCV_baseline, num_samples = run_time_budget(key, time_budget, partial_build_sghmcCV, thin, baseline_params)\n",
    "print(f\"baseline: {float(est_ksd), numpyro_error, num_samples}\")\n"
   ]
  },
  {
   "cell_type": "code",
   "execution_count": 91,
   "id": "bd068d6b",
   "metadata": {},
   "outputs": [
    {
     "name": "stdout",
     "output_type": "stream",
     "text": [
      "1.1107484\n",
      "1.2476312\n",
      "1.2445937\n"
     ]
    },
    {
     "data": {
      "image/png": "[encoded data removed]",
      "text/plain": [
       "<Figure size 720x432 with 3 Axes>"
      ]
     },
     "metadata": {
      "needs_background": "light"
     },
     "output_type": "display_data"
    }
   ],
   "source": [
    "burnin_sghmcCV_mamba = 2000\n",
    "burnin_sghmcCV_gridsearch = 500\n",
    "burnin_sghmcCV_baseline = 500\n",
    "\n",
    "fig, ax = plt.subplots(3, figsize=(10,6))\n",
    "plt.suptitle(\"RMSE\", size=18)\n",
    "ax[0].plot(rmse_list_sghmcCV_mamba)\n",
    "ax[0].set_title(\"mamba\")\n",
    "ax[1].plot(rmse_list_sghmcCV_gridsearch)\n",
    "ax[1].set_title(\"gridsearch\")\n",
    "ax[2].plot(rmse_list_sghmcCV_baseline)\n",
    "ax[2].set_title(\"baseline\")\n",
    "\n",
    "plt.tight_layout()\n",
    "\n",
    "print(np.mean(rmse_list_sghmcCV_mamba[burnin_sghmcCV_mamba:]))\n",
    "print(np.mean(rmse_list_sghmcCV_gridsearch[burnin_sghmcCV_gridsearch:]))\n",
    "print(np.mean(rmse_list_sghmcCV_baseline[burnin_sghmcCV_baseline:]))"
   ]
  },
  {
   "cell_type": "code",
   "execution_count": null,
   "id": "9b1e34e5",
   "metadata": {},
   "outputs": [],
   "source": []
  },
  {
   "cell_type": "markdown",
   "id": "65bd2217",
   "metadata": {},
   "source": [
    "## sgnht"
   ]
  },
  {
   "cell_type": "code",
   "execution_count": 83,
   "id": "7118f95d",
   "metadata": {},
   "outputs": [
    {
     "name": "stdout",
     "output_type": "stream",
     "text": [
      "ksd, numpyro_error, num_samples:\n",
      "\n",
      "\n",
      "Assessing the samples. Num samples: 8908\n"
     ]
    },
    {
     "data": {
      "application/vnd.jupyter.widget-view+json": {
       "model_id": "7329b7ebd813427c830a9499da6b06fe",
       "version_major": 2,
       "version_minor": 0
      },
      "text/plain": [
       "HBox(children=(HTML(value=''), FloatProgress(value=0.0, max=8908.0), HTML(value='')))"
      ]
     },
     "metadata": {},
     "output_type": "display_data"
    },
    {
     "name": "stdout",
     "output_type": "stream",
     "text": [
      "\n",
      "MAMBA: (176.61260986328125, 0.43326434, 8908)\n",
      "\n",
      "Assessing the samples. Num samples: 9365\n"
     ]
    },
    {
     "data": {
      "application/vnd.jupyter.widget-view+json": {
       "model_id": "ad0783c11e7c4c90a6abac510abfbb3b",
       "version_major": 2,
       "version_minor": 0
      },
      "text/plain": [
       "HBox(children=(HTML(value=''), FloatProgress(value=0.0, max=9365.0), HTML(value='')))"
      ]
     },
     "metadata": {},
     "output_type": "display_data"
    },
    {
     "name": "stdout",
     "output_type": "stream",
     "text": [
      "\n",
      "gridsearch: (173.84097290039062, 0.44456467, 9365)\n",
      "\n",
      "Assessing the samples. Num samples: 7241\n"
     ]
    },
    {
     "data": {
      "application/vnd.jupyter.widget-view+json": {
       "model_id": "5445e46d027247a3a8e6eed8dd5e4e8c",
       "version_major": 2,
       "version_minor": 0
      },
      "text/plain": [
       "HBox(children=(HTML(value=''), FloatProgress(value=0.0, max=7241.0), HTML(value='')))"
      ]
     },
     "metadata": {},
     "output_type": "display_data"
    },
    {
     "name": "stdout",
     "output_type": "stream",
     "text": [
      "\n",
      "baseline: (193.50119018554688, 0.41896576, 7241)\n"
     ]
    }
   ],
   "source": [
    "sh_params = {'batch_size': 8000, 'dt': 3.1622778e-05}\n",
    "gridsearch_params = {'batch_size': gridsearch_bs, 'dt': 3.1622776e-06}\n",
    "baseline_params = {'batch_size': gridsearch_bs, 'dt': dt_baseline}\n",
    "\n",
    "print(\"ksd, numpyro_error, num_samples:\\n\")\n",
    "\n",
    "est_ksd, numpyro_error, rmse_list_sgnht_mamba, num_samples = run_time_budget(key, time_budget, partial_build_sgnht, thin, sh_params)\n",
    "print(f\"MAMBA: {float(est_ksd), numpyro_error, num_samples}\")\n",
    "est_ksd, numpyro_error, rmse_list_sgnht_gridsearch, num_samples = run_time_budget(key, time_budget, partial_build_sgnht, thin, gridsearch_params)\n",
    "print(f\"gridsearch: {float(est_ksd), numpyro_error, num_samples}\")\n",
    "est_ksd, numpyro_error, rmse_list_sgnht_baseline, num_samples = run_time_budget(key, time_budget, partial_build_sgnht, thin, baseline_params)\n",
    "print(f\"baseline: {float(est_ksd), numpyro_error, num_samples}\")\n"
   ]
  },
  {
   "cell_type": "code",
   "execution_count": 94,
   "id": "8c5f5a41",
   "metadata": {},
   "outputs": [
    {
     "name": "stdout",
     "output_type": "stream",
     "text": [
      "1.0681487\n",
      "1.154149\n",
      "1.113486\n"
     ]
    },
    {
     "data": {
      "image/png": "[encoded data removed]",
      "text/plain": [
       "<Figure size 720x432 with 3 Axes>"
      ]
     },
     "metadata": {
      "needs_background": "light"
     },
     "output_type": "display_data"
    }
   ],
   "source": [
    "burnin_sgnht_mamba = 2000\n",
    "burnin_sgnht_gridsearch = 1000\n",
    "burnin_sgnht_baseline = 1000\n",
    "\n",
    "fig, ax = plt.subplots(3, figsize=(10,6))\n",
    "plt.suptitle(\"RMSE\", size=18)\n",
    "ax[0].plot(rmse_list_sgnht_mamba)\n",
    "ax[0].set_title(\"mamba\")\n",
    "ax[1].plot(rmse_list_sgnht_gridsearch)\n",
    "ax[1].set_title(\"gridsearch\")\n",
    "ax[2].plot(rmse_list_sgnht_baseline)\n",
    "ax[2].set_title(\"baseline\")\n",
    "\n",
    "plt.tight_layout()\n",
    "\n",
    "print(np.mean(rmse_list_sgnht_mamba[burnin_sgnht_mamba:]))\n",
    "print(np.mean(rmse_list_sgnht_gridsearch[burnin_sgnht_gridsearch:]))\n",
    "print(np.mean(rmse_list_sgnht_baseline[burnin_sgnht_baseline:]))"
   ]
  },
  {
   "cell_type": "code",
   "execution_count": null,
   "id": "a4d81884",
   "metadata": {},
   "outputs": [],
   "source": []
  },
  {
   "cell_type": "markdown",
   "id": "d37bb180",
   "metadata": {},
   "source": [
    "## sgnht-cv"
   ]
  },
  {
   "cell_type": "code",
   "execution_count": 84,
   "id": "76ab5c57",
   "metadata": {},
   "outputs": [
    {
     "name": "stdout",
     "output_type": "stream",
     "text": [
      "ksd, numpyro_error, num_samples:\n",
      "\n",
      "\n",
      "Assessing the samples. Num samples: 6304\n"
     ]
    },
    {
     "data": {
      "application/vnd.jupyter.widget-view+json": {
       "model_id": "f62fd754158444b39501b2d87b084fe5",
       "version_major": 2,
       "version_minor": 0
      },
      "text/plain": [
       "HBox(children=(HTML(value=''), FloatProgress(value=0.0, max=6304.0), HTML(value='')))"
      ]
     },
     "metadata": {},
     "output_type": "display_data"
    },
    {
     "name": "stdout",
     "output_type": "stream",
     "text": [
      "\n",
      "MAMBA: (208.07083129882812, 0.3854795, 6304)\n",
      "\n",
      "Assessing the samples. Num samples: 4685\n"
     ]
    },
    {
     "data": {
      "application/vnd.jupyter.widget-view+json": {
       "model_id": "6048325a305e4e3385383dc40f0b3ce6",
       "version_major": 2,
       "version_minor": 0
      },
      "text/plain": [
       "HBox(children=(HTML(value=''), FloatProgress(value=0.0, max=4685.0), HTML(value='')))"
      ]
     },
     "metadata": {},
     "output_type": "display_data"
    },
    {
     "name": "stdout",
     "output_type": "stream",
     "text": [
      "\n",
      "gridsearch: (253.83509826660156, 0.4890493, 4685)\n",
      "\n",
      "Assessing the samples. Num samples: 6150\n"
     ]
    },
    {
     "data": {
      "application/vnd.jupyter.widget-view+json": {
       "model_id": "ee010ed4e42c4d4dade6c65c961c0d5b",
       "version_major": 2,
       "version_minor": 0
      },
      "text/plain": [
       "HBox(children=(HTML(value=''), FloatProgress(value=0.0, max=6150.0), HTML(value='')))"
      ]
     },
     "metadata": {},
     "output_type": "display_data"
    },
    {
     "name": "stdout",
     "output_type": "stream",
     "text": [
      "\n",
      "baseline: (216.89047241210938, 0.38660297, 6150)\n"
     ]
    }
   ],
   "source": [
    "sh_params = {'batch_size': 8000, 'dt': 1e-05}\n",
    "gridsearch_params = {'batch_size': gridsearch_bs, 'dt': 3.1622776e-06}\n",
    "baseline_params = {'batch_size': gridsearch_bs, 'dt': dt_baseline}\n",
    "\n",
    "print(\"ksd, numpyro_error, num_samples:\\n\")\n",
    "\n",
    "est_ksd, numpyro_error, rmse_list_sgnhtCV_mamba, num_samples = run_time_budget(key, time_budget, partial_build_sgnhtCV, thin, sh_params)\n",
    "print(f\"MAMBA: {float(est_ksd), numpyro_error, num_samples}\")\n",
    "est_ksd, numpyro_error, rmse_list_sgnhtCV_gridsearch, num_samples = run_time_budget(key, time_budget, partial_build_sgnhtCV, thin, gridsearch_params)\n",
    "print(f\"gridsearch: {float(est_ksd), numpyro_error, num_samples}\")\n",
    "est_ksd, numpyro_error, rmse_list_sgnhtCV_baseline, num_samples = run_time_budget(key, time_budget, partial_build_sgnhtCV, thin, baseline_params)\n",
    "print(f\"baseline: {float(est_ksd), numpyro_error, num_samples}\")\n",
    "\n"
   ]
  },
  {
   "cell_type": "code",
   "execution_count": 96,
   "id": "f9ff34de",
   "metadata": {},
   "outputs": [
    {
     "name": "stdout",
     "output_type": "stream",
     "text": [
      "1.1218779\n",
      "1.1594683\n",
      "1.1155107\n"
     ]
    },
    {
     "data": {
      "image/png": "[encoded data removed]",
      "text/plain": [
       "<Figure size 720x432 with 3 Axes>"
      ]
     },
     "metadata": {
      "needs_background": "light"
     },
     "output_type": "display_data"
    }
   ],
   "source": [
    "burnin_sgnhtCV_mamba = 1500\n",
    "burnin_sgnhtCV_gridsearch = 100\n",
    "burnin_sgnhtCV_baseline = 1000\n",
    "\n",
    "fig, ax = plt.subplots(3, figsize=(10,6))\n",
    "plt.suptitle(\"RMSE\", size=18)\n",
    "ax[0].plot(rmse_list_sgnhtCV_mamba)\n",
    "ax[0].set_title(\"mamba\")\n",
    "ax[1].plot(rmse_list_sgnhtCV_gridsearch)\n",
    "ax[1].set_title(\"gridsearch\")\n",
    "ax[2].plot(rmse_list_sgnhtCV_baseline)\n",
    "ax[2].set_title(\"baseline\")\n",
    "\n",
    "plt.tight_layout()\n",
    "\n",
    "print(np.mean(rmse_list_sgnhtCV_mamba[burnin_sgnhtCV_mamba:]))\n",
    "print(np.mean(rmse_list_sgnhtCV_gridsearch[burnin_sgnhtCV_gridsearch:]))\n",
    "print(np.mean(rmse_list_sgnhtCV_baseline[burnin_sgnhtCV_baseline:]))"
   ]
  },
  {
   "cell_type": "code",
   "execution_count": null,
   "id": "eb8f963a",
   "metadata": {},
   "outputs": [],
   "source": []
  },
  {
   "cell_type": "code",
   "execution_count": null,
   "id": "3ad41160",
   "metadata": {},
   "outputs": [],
   "source": []
  },
  {
   "cell_type": "markdown",
   "id": "f2f87b51",
   "metadata": {},
   "source": [
    "# 2. KSD curves"
   ]
  },
  {
   "cell_type": "markdown",
   "id": "078cb564",
   "metadata": {},
   "source": [
    "### sgld"
   ]
  },
  {
   "cell_type": "code",
   "execution_count": 39,
   "id": "c4857eea",
   "metadata": {},
   "outputs": [],
   "source": [
    "error_fn_ksd_curve = partial(get_ksd_PMF, thin_step=30)\n",
    "list_time_budget = [2, 4, 6, 8, 10]"
   ]
  },
  {
   "cell_type": "code",
   "execution_count": 8,
   "id": "79e62f93",
   "metadata": {
    "collapsed": true
   },
   "outputs": [
    {
     "name": "stdout",
     "output_type": "stream",
     "text": [
      "Running for {'batch_size': 800, 'dt': 1e-05}\n",
      "\n",
      "Iteration 0/10\n",
      "Budget: 2, num_samples = 1563\n",
      "Budget: 4, num_samples = 3128\n",
      "Budget: 6, num_samples = 4414\n",
      "Budget: 8, num_samples = 5582\n",
      "Budget: 10, num_samples = 6788\n",
      "\n",
      "Iteration 1/10\n",
      "Budget: 2, num_samples = 1334\n",
      "Budget: 4, num_samples = 2428\n",
      "Budget: 6, num_samples = 3775\n",
      "Budget: 8, num_samples = 5297\n",
      "Budget: 10, num_samples = 6731\n",
      "\n",
      "Iteration 2/10\n",
      "Budget: 2, num_samples = 1541\n",
      "Budget: 4, num_samples = 2601\n",
      "Budget: 6, num_samples = 3595\n",
      "Budget: 8, num_samples = 4899\n",
      "Budget: 10, num_samples = 6129\n",
      "\n",
      "Iteration 3/10\n",
      "Budget: 2, num_samples = 1430\n",
      "Budget: 4, num_samples = 2604\n",
      "Budget: 6, num_samples = 3545\n",
      "Budget: 8, num_samples = 4633\n",
      "Budget: 10, num_samples = 6395\n",
      "\n",
      "Iteration 4/10\n",
      "Budget: 2, num_samples = 1543\n",
      "Budget: 4, num_samples = 2735\n",
      "Budget: 6, num_samples = 4098\n",
      "Budget: 8, num_samples = 5556\n",
      "Budget: 10, num_samples = 6651\n",
      "\n",
      "Iteration 5/10\n",
      "Budget: 2, num_samples = 1569\n",
      "Budget: 4, num_samples = 2787\n",
      "Budget: 6, num_samples = 4056\n",
      "Budget: 8, num_samples = 4896\n",
      "Budget: 10, num_samples = 6345\n",
      "\n",
      "Iteration 6/10\n",
      "Budget: 2, num_samples = 1570\n",
      "Budget: 4, num_samples = 2729\n",
      "Budget: 6, num_samples = 3835\n",
      "Budget: 8, num_samples = 4940\n",
      "Budget: 10, num_samples = 6074\n",
      "\n",
      "Iteration 7/10\n",
      "Budget: 2, num_samples = 1348\n",
      "Budget: 4, num_samples = 2587\n",
      "Budget: 6, num_samples = 3637\n",
      "Budget: 8, num_samples = 4849\n",
      "Budget: 10, num_samples = 6254\n",
      "\n",
      "Iteration 8/10\n",
      "Budget: 2, num_samples = 1553\n",
      "Budget: 4, num_samples = 2744\n",
      "Budget: 6, num_samples = 3905\n",
      "Budget: 8, num_samples = 4916\n",
      "Budget: 10, num_samples = 6291\n",
      "\n",
      "Iteration 9/10\n",
      "Budget: 2, num_samples = 1433\n",
      "Budget: 4, num_samples = 2600\n",
      "Budget: 6, num_samples = 3807\n",
      "Budget: 8, num_samples = 4968\n",
      "Budget: 10, num_samples = 6346\n"
     ]
    }
   ],
   "source": [
    "dict_params = {'batch_size': 800, 'dt': 1e-05}\n",
    "get_metric_curve = build_metric_curve_fn(dict_params, list_time_budget, \n",
    "                            partial_build_sgld, params_IC, error_fn_ksd_curve)\n",
    "\n",
    "key = random.PRNGKey(0)\n",
    "mean_ksd_curve_sgld_mamba, sd_ksd_curve_sgld_mamba = get_mean_sd_ksd_curve(key, 10, get_metric_curve)\n"
   ]
  },
  {
   "cell_type": "code",
   "execution_count": 14,
   "id": "89a4b6df",
   "metadata": {
    "collapsed": true
   },
   "outputs": [
    {
     "name": "stdout",
     "output_type": "stream",
     "text": [
      "Running for {'batch_size': 8000, 'dt': 0.00031622776}\n",
      "\n",
      "Iteration 0/10\n",
      "Budget: 2, num_samples = 984\n",
      "Budget: 4, num_samples = 1904\n",
      "Budget: 6, num_samples = 2737\n",
      "Budget: 8, num_samples = 3687\n",
      "Budget: 10, num_samples = 4722\n",
      "\n",
      "Iteration 1/10\n",
      "Budget: 2, num_samples = 977\n",
      "Budget: 4, num_samples = 1948\n",
      "Budget: 6, num_samples = 2548\n",
      "Budget: 8, num_samples = 3795\n",
      "Budget: 10, num_samples = 4685\n",
      "\n",
      "Iteration 2/10\n",
      "Budget: 2, num_samples = 975\n",
      "Budget: 4, num_samples = 1800\n",
      "Budget: 6, num_samples = 2529\n",
      "Budget: 8, num_samples = 3733\n",
      "Budget: 10, num_samples = 4765\n",
      "\n",
      "Iteration 3/10\n",
      "Budget: 2, num_samples = 958\n",
      "Budget: 4, num_samples = 1872\n",
      "Budget: 6, num_samples = 2553\n",
      "Budget: 8, num_samples = 3701\n",
      "Budget: 10, num_samples = 4637\n",
      "\n",
      "Iteration 4/10\n",
      "Budget: 2, num_samples = 952\n",
      "Budget: 4, num_samples = 1794\n",
      "Budget: 6, num_samples = 2528\n",
      "Budget: 8, num_samples = 3659\n",
      "Budget: 10, num_samples = 4588\n",
      "\n",
      "Iteration 5/10\n",
      "Budget: 2, num_samples = 956\n",
      "Budget: 4, num_samples = 1819\n",
      "Budget: 6, num_samples = 2567\n",
      "Budget: 8, num_samples = 3605\n",
      "Budget: 10, num_samples = 4536\n",
      "\n",
      "Iteration 6/10\n",
      "Budget: 2, num_samples = 978\n",
      "Budget: 4, num_samples = 1908\n",
      "Budget: 6, num_samples = 2597\n",
      "Budget: 8, num_samples = 3520\n",
      "Budget: 10, num_samples = 4109\n",
      "\n",
      "Iteration 7/10\n",
      "Budget: 2, num_samples = 879\n",
      "Budget: 4, num_samples = 1726\n",
      "Budget: 6, num_samples = 2498\n",
      "Budget: 8, num_samples = 3617\n",
      "Budget: 10, num_samples = 4522\n",
      "\n",
      "Iteration 8/10\n",
      "Budget: 2, num_samples = 940\n",
      "Budget: 4, num_samples = 1735\n",
      "Budget: 6, num_samples = 2470\n",
      "Budget: 8, num_samples = 3589\n",
      "Budget: 10, num_samples = 4461\n",
      "\n",
      "Iteration 9/10\n",
      "Budget: 2, num_samples = 909\n",
      "Budget: 4, num_samples = 1791\n",
      "Budget: 6, num_samples = 2480\n",
      "Budget: 8, num_samples = 3584\n",
      "Budget: 10, num_samples = 4305\n"
     ]
    }
   ],
   "source": [
    "dict_params = {'batch_size': gridsearch_bs, 'dt': 0.00031622776}\n",
    "get_metric_curve = build_metric_curve_fn(dict_params, list_time_budget, \n",
    "                            partial_build_sgld, params_IC, error_fn_ksd_curve)\n",
    "\n",
    "key = random.PRNGKey(0)\n",
    "mean_ksd_curve_sgld_gridsearch, sd_ksd_curve_sgld_gridsearch = get_mean_sd_ksd_curve(key, 10, get_metric_curve)\n"
   ]
  },
  {
   "cell_type": "code",
   "execution_count": 40,
   "id": "4701681e",
   "metadata": {
    "collapsed": true
   },
   "outputs": [
    {
     "name": "stdout",
     "output_type": "stream",
     "text": [
      "Running for {'batch_size': 8000, 'dt': 1.25e-05}\n",
      "\n",
      "Iteration 0/10\n",
      "Budget: 2, num_samples = 970\n",
      "Budget: 4, num_samples = 1934\n",
      "Budget: 6, num_samples = 2920\n",
      "Budget: 8, num_samples = 3743\n",
      "Budget: 10, num_samples = 4601\n",
      "\n",
      "Iteration 1/10\n",
      "Budget: 2, num_samples = 952\n",
      "Budget: 4, num_samples = 1838\n",
      "Budget: 6, num_samples = 2671\n",
      "Budget: 8, num_samples = 3347\n",
      "Budget: 10, num_samples = 3686\n",
      "\n",
      "Iteration 2/10\n",
      "Budget: 2, num_samples = 838\n",
      "Budget: 4, num_samples = 1652\n",
      "Budget: 6, num_samples = 2428\n",
      "Budget: 8, num_samples = 3175\n",
      "Budget: 10, num_samples = 3933\n",
      "\n",
      "Iteration 3/10\n",
      "Budget: 2, num_samples = 928\n",
      "Budget: 4, num_samples = 1765\n",
      "Budget: 6, num_samples = 2618\n",
      "Budget: 8, num_samples = 3550\n",
      "Budget: 10, num_samples = 4466\n",
      "\n",
      "Iteration 4/10\n",
      "Budget: 2, num_samples = 975\n",
      "Budget: 4, num_samples = 1818\n",
      "Budget: 6, num_samples = 1490\n",
      "Budget: 8, num_samples = 2420\n",
      "Budget: 10, num_samples = 4341\n",
      "\n",
      "Iteration 5/10\n",
      "Budget: 2, num_samples = 1027\n",
      "Budget: 4, num_samples = 1904\n",
      "Budget: 6, num_samples = 2635\n",
      "Budget: 8, num_samples = 3116\n",
      "Budget: 10, num_samples = 4215\n",
      "\n",
      "Iteration 6/10\n",
      "Budget: 2, num_samples = 909\n",
      "Budget: 4, num_samples = 1792\n",
      "Budget: 6, num_samples = 2624\n",
      "Budget: 8, num_samples = 3433\n",
      "Budget: 10, num_samples = 4397\n",
      "\n",
      "Iteration 7/10\n",
      "Budget: 2, num_samples = 999\n",
      "Budget: 4, num_samples = 1793\n",
      "Budget: 6, num_samples = 2496\n",
      "Budget: 8, num_samples = 3417\n",
      "Budget: 10, num_samples = 4356\n",
      "\n",
      "Iteration 8/10\n",
      "Budget: 2, num_samples = 908\n",
      "Budget: 4, num_samples = 1712\n",
      "Budget: 6, num_samples = 2541\n",
      "Budget: 8, num_samples = 3226\n",
      "Budget: 10, num_samples = 3976\n",
      "\n",
      "Iteration 9/10\n",
      "Budget: 2, num_samples = 930\n",
      "Budget: 4, num_samples = 1581\n",
      "Budget: 6, num_samples = 2433\n",
      "Budget: 8, num_samples = 3281\n",
      "Budget: 10, num_samples = 4367\n"
     ]
    }
   ],
   "source": [
    "dict_params = {'batch_size': gridsearch_bs, 'dt': dt_baseline}\n",
    "get_metric_curve = build_metric_curve_fn(dict_params, list_time_budget, \n",
    "                            partial_build_sgld, params_IC, error_fn_ksd_curve)\n",
    "\n",
    "key = random.PRNGKey(0)\n",
    "mean_ksd_curve_sgld_baseline, sd_ksd_curve_sgld_baseline = get_mean_sd_ksd_curve(key, 10, get_metric_curve)\n"
   ]
  },
  {
   "cell_type": "markdown",
   "id": "046f1c8e",
   "metadata": {},
   "source": [
    "### sgld-cv"
   ]
  },
  {
   "cell_type": "code",
   "execution_count": 9,
   "id": "b74b6cbb",
   "metadata": {
    "collapsed": true
   },
   "outputs": [
    {
     "name": "stdout",
     "output_type": "stream",
     "text": [
      "Running for {'batch_size': 800, 'dt': 1e-05}\n",
      "\n",
      "Iteration 0/10\n",
      "Budget: 2, num_samples = 1092\n",
      "Budget: 4, num_samples = 1793\n",
      "Budget: 6, num_samples = 2686\n",
      "Budget: 8, num_samples = 3551\n",
      "Budget: 10, num_samples = 4363\n",
      "\n",
      "Iteration 1/10\n",
      "Budget: 2, num_samples = 965\n",
      "Budget: 4, num_samples = 1929\n",
      "Budget: 6, num_samples = 2734\n",
      "Budget: 8, num_samples = 3619\n",
      "Budget: 10, num_samples = 4453\n",
      "\n",
      "Iteration 2/10\n",
      "Budget: 2, num_samples = 969\n",
      "Budget: 4, num_samples = 1807\n",
      "Budget: 6, num_samples = 2549\n",
      "Budget: 8, num_samples = 3542\n",
      "Budget: 10, num_samples = 4309\n",
      "\n",
      "Iteration 3/10\n",
      "Budget: 2, num_samples = 986\n",
      "Budget: 4, num_samples = 1968\n",
      "Budget: 6, num_samples = 2872\n",
      "Budget: 8, num_samples = 3774\n",
      "Budget: 10, num_samples = 4533\n",
      "\n",
      "Iteration 4/10\n",
      "Budget: 2, num_samples = 1012\n",
      "Budget: 4, num_samples = 1931\n",
      "Budget: 6, num_samples = 2612\n",
      "Budget: 8, num_samples = 3695\n",
      "Budget: 10, num_samples = 4639\n",
      "\n",
      "Iteration 5/10\n",
      "Budget: 2, num_samples = 958\n",
      "Budget: 4, num_samples = 1861\n",
      "Budget: 6, num_samples = 2764\n",
      "Budget: 8, num_samples = 3483\n",
      "Budget: 10, num_samples = 4812\n",
      "\n",
      "Iteration 6/10\n",
      "Budget: 2, num_samples = 1052\n",
      "Budget: 4, num_samples = 1913\n",
      "Budget: 6, num_samples = 2557\n",
      "Budget: 8, num_samples = 3579\n",
      "Budget: 10, num_samples = 4544\n",
      "\n",
      "Iteration 7/10\n",
      "Budget: 2, num_samples = 981\n",
      "Budget: 4, num_samples = 1919\n",
      "Budget: 6, num_samples = 2728\n",
      "Budget: 8, num_samples = 3629\n",
      "Budget: 10, num_samples = 4228\n",
      "\n",
      "Iteration 8/10\n",
      "Budget: 2, num_samples = 956\n",
      "Budget: 4, num_samples = 1939\n",
      "Budget: 6, num_samples = 2661\n",
      "Budget: 8, num_samples = 3611\n",
      "Budget: 10, num_samples = 4666\n",
      "\n",
      "Iteration 9/10\n",
      "Budget: 2, num_samples = 1024\n",
      "Budget: 4, num_samples = 1904\n",
      "Budget: 6, num_samples = 2701\n",
      "Budget: 8, num_samples = 3499\n",
      "Budget: 10, num_samples = 4683\n"
     ]
    }
   ],
   "source": [
    "dict_params = {'batch_size': 800, 'dt': 1e-05}\n",
    "get_metric_curve = build_metric_curve_fn(dict_params, list_time_budget, \n",
    "                            partial_build_sgldCV, params_IC, error_fn_ksd_curve)\n",
    "\n",
    "key = random.PRNGKey(0)\n",
    "mean_ksd_curve_sgldCV_mamba, sd_ksd_curve_sgldCV_mamba = get_mean_sd_ksd_curve(key, 10, get_metric_curve)\n"
   ]
  },
  {
   "cell_type": "code",
   "execution_count": 16,
   "id": "ce3adabf",
   "metadata": {
    "collapsed": true
   },
   "outputs": [
    {
     "name": "stdout",
     "output_type": "stream",
     "text": [
      "Running for {'batch_size': 8000, 'dt': 0.00031622776}\n",
      "\n",
      "Iteration 0/10\n",
      "Budget: 2, num_samples = 644\n",
      "Budget: 4, num_samples = 1187\n",
      "Budget: 6, num_samples = 1607\n",
      "Budget: 8, num_samples = 2287\n",
      "Budget: 10, num_samples = 3032\n",
      "\n",
      "Iteration 1/10\n",
      "Budget: 2, num_samples = 630\n",
      "Budget: 4, num_samples = 1182\n",
      "Budget: 6, num_samples = 1820\n",
      "Budget: 8, num_samples = 2258\n",
      "Budget: 10, num_samples = 3012\n",
      "\n",
      "Iteration 2/10\n",
      "Budget: 2, num_samples = 629\n",
      "Budget: 4, num_samples = 1193\n",
      "Budget: 6, num_samples = 1806\n",
      "Budget: 8, num_samples = 2243\n",
      "Budget: 10, num_samples = 3001\n",
      "\n",
      "Iteration 3/10\n",
      "Budget: 2, num_samples = 584\n",
      "Budget: 4, num_samples = 1195\n",
      "Budget: 6, num_samples = 1819\n",
      "Budget: 8, num_samples = 2228\n",
      "Budget: 10, num_samples = 2816\n",
      "\n",
      "Iteration 4/10\n",
      "Budget: 2, num_samples = 578\n",
      "Budget: 4, num_samples = 1115\n",
      "Budget: 6, num_samples = 1697\n",
      "Budget: 8, num_samples = 2147\n",
      "Budget: 10, num_samples = 2631\n",
      "\n",
      "Iteration 5/10\n",
      "Budget: 2, num_samples = 550\n",
      "Budget: 4, num_samples = 1218\n",
      "Budget: 6, num_samples = 1785\n",
      "Budget: 8, num_samples = 2224\n",
      "Budget: 10, num_samples = 2815\n",
      "\n",
      "Iteration 6/10\n",
      "Budget: 2, num_samples = 579\n",
      "Budget: 4, num_samples = 1187\n",
      "Budget: 6, num_samples = 1784\n",
      "Budget: 8, num_samples = 2208\n",
      "Budget: 10, num_samples = 2982\n",
      "\n",
      "Iteration 7/10\n",
      "Budget: 2, num_samples = 625\n",
      "Budget: 4, num_samples = 1171\n",
      "Budget: 6, num_samples = 1722\n",
      "Budget: 8, num_samples = 2188\n",
      "Budget: 10, num_samples = 2751\n",
      "\n",
      "Iteration 8/10\n",
      "Budget: 2, num_samples = 496\n",
      "Budget: 4, num_samples = 1111\n",
      "Budget: 6, num_samples = 1730\n",
      "Budget: 8, num_samples = 1949\n",
      "Budget: 10, num_samples = 1977\n",
      "\n",
      "Iteration 9/10\n",
      "Budget: 2, num_samples = 369\n",
      "Budget: 4, num_samples = 1174\n",
      "Budget: 6, num_samples = 1793\n",
      "Budget: 8, num_samples = 2337\n",
      "Budget: 10, num_samples = 3162\n"
     ]
    }
   ],
   "source": [
    "dict_params = {'batch_size': gridsearch_bs, 'dt': 0.00031622776}\n",
    "get_metric_curve = build_metric_curve_fn(dict_params, list_time_budget, \n",
    "                            partial_build_sgldCV, params_IC, error_fn_ksd_curve)\n",
    "\n",
    "key = random.PRNGKey(0)\n",
    "mean_ksd_curve_sgldCV_gridsearch, sd_ksd_curve_sgldCV_gridsearch = get_mean_sd_ksd_curve(key, 10, get_metric_curve)\n"
   ]
  },
  {
   "cell_type": "code",
   "execution_count": 41,
   "id": "f514c2a6",
   "metadata": {
    "collapsed": true
   },
   "outputs": [
    {
     "name": "stdout",
     "output_type": "stream",
     "text": [
      "Running for {'batch_size': 8000, 'dt': 1.25e-05}\n",
      "\n",
      "Iteration 0/10\n",
      "Budget: 2, num_samples = 682\n",
      "Budget: 4, num_samples = 1281\n",
      "Budget: 6, num_samples = 1615\n",
      "Budget: 8, num_samples = 2157\n",
      "Budget: 10, num_samples = 2949\n",
      "\n",
      "Iteration 1/10\n",
      "Budget: 2, num_samples = 594\n",
      "Budget: 4, num_samples = 1192\n",
      "Budget: 6, num_samples = 1756\n",
      "Budget: 8, num_samples = 2458\n",
      "Budget: 10, num_samples = 2891\n",
      "\n",
      "Iteration 2/10\n",
      "Budget: 2, num_samples = 630\n",
      "Budget: 4, num_samples = 1243\n",
      "Budget: 6, num_samples = 1762\n",
      "Budget: 8, num_samples = 2358\n",
      "Budget: 10, num_samples = 3045\n",
      "\n",
      "Iteration 3/10\n",
      "Budget: 2, num_samples = 633\n",
      "Budget: 4, num_samples = 1250\n",
      "Budget: 6, num_samples = 1769\n",
      "Budget: 8, num_samples = 2294\n",
      "Budget: 10, num_samples = 2909\n",
      "\n",
      "Iteration 4/10\n",
      "Budget: 2, num_samples = 630\n",
      "Budget: 4, num_samples = 1238\n",
      "Budget: 6, num_samples = 1749\n",
      "Budget: 8, num_samples = 2279\n",
      "Budget: 10, num_samples = 2955\n",
      "\n",
      "Iteration 5/10\n",
      "Budget: 2, num_samples = 596\n",
      "Budget: 4, num_samples = 1175\n",
      "Budget: 6, num_samples = 1750\n",
      "Budget: 8, num_samples = 2424\n",
      "Budget: 10, num_samples = 2938\n",
      "\n",
      "Iteration 6/10\n",
      "Budget: 2, num_samples = 573\n",
      "Budget: 4, num_samples = 1174\n",
      "Budget: 6, num_samples = 1679\n",
      "Budget: 8, num_samples = 2204\n",
      "Budget: 10, num_samples = 2952\n",
      "\n",
      "Iteration 7/10\n",
      "Budget: 2, num_samples = 564\n",
      "Budget: 4, num_samples = 1089\n",
      "Budget: 6, num_samples = 1549\n",
      "Budget: 8, num_samples = 1635\n",
      "Budget: 10, num_samples = 1839\n",
      "\n",
      "Iteration 8/10\n",
      "Budget: 2, num_samples = 341\n",
      "Budget: 4, num_samples = 675\n",
      "Budget: 6, num_samples = 1063\n",
      "Budget: 8, num_samples = 1660\n",
      "Budget: 10, num_samples = 2790\n",
      "\n",
      "Iteration 9/10\n",
      "Budget: 2, num_samples = 627\n",
      "Budget: 4, num_samples = 1164\n",
      "Budget: 6, num_samples = 1719\n",
      "Budget: 8, num_samples = 2106\n",
      "Budget: 10, num_samples = 2882\n"
     ]
    }
   ],
   "source": [
    "dict_params = {'batch_size': gridsearch_bs, 'dt': dt_baseline}\n",
    "get_metric_curve = build_metric_curve_fn(dict_params, list_time_budget, \n",
    "                            partial_build_sgldCV, params_IC, error_fn_ksd_curve)\n",
    "\n",
    "key = random.PRNGKey(0)\n",
    "mean_ksd_curve_sgldCV_baseline, sd_ksd_curve_sgldCV_baseline = get_mean_sd_ksd_curve(key, 10, get_metric_curve)\n"
   ]
  },
  {
   "cell_type": "markdown",
   "id": "18e1932c",
   "metadata": {},
   "source": [
    "### sghmc"
   ]
  },
  {
   "cell_type": "code",
   "execution_count": 10,
   "id": "b9274245",
   "metadata": {
    "collapsed": true
   },
   "outputs": [
    {
     "name": "stdout",
     "output_type": "stream",
     "text": [
      "Running for {'batch_size': 800, 'L': 5, 'dt': 1e-06}\n",
      "\n",
      "Iteration 0/10\n",
      "Budget: 2, num_samples = 322\n",
      "Budget: 4, num_samples = 563\n",
      "Budget: 6, num_samples = 739\n",
      "Budget: 8, num_samples = 984\n",
      "Budget: 10, num_samples = 1217\n",
      "\n",
      "Iteration 1/10\n",
      "Budget: 2, num_samples = 264\n",
      "Budget: 4, num_samples = 534\n",
      "Budget: 6, num_samples = 802\n",
      "Budget: 8, num_samples = 1064\n",
      "Budget: 10, num_samples = 1288\n",
      "\n",
      "Iteration 2/10\n",
      "Budget: 2, num_samples = 243\n",
      "Budget: 4, num_samples = 491\n",
      "Budget: 6, num_samples = 771\n",
      "Budget: 8, num_samples = 1050\n",
      "Budget: 10, num_samples = 1278\n",
      "\n",
      "Iteration 3/10\n",
      "Budget: 2, num_samples = 231\n",
      "Budget: 4, num_samples = 476\n",
      "Budget: 6, num_samples = 747\n",
      "Budget: 8, num_samples = 1049\n",
      "Budget: 10, num_samples = 1287\n",
      "\n",
      "Iteration 4/10\n",
      "Budget: 2, num_samples = 248\n",
      "Budget: 4, num_samples = 489\n",
      "Budget: 6, num_samples = 759\n",
      "Budget: 8, num_samples = 1037\n",
      "Budget: 10, num_samples = 1322\n",
      "\n",
      "Iteration 5/10\n",
      "Budget: 2, num_samples = 259\n",
      "Budget: 4, num_samples = 504\n",
      "Budget: 6, num_samples = 743\n",
      "Budget: 8, num_samples = 976\n",
      "Budget: 10, num_samples = 1234\n",
      "\n",
      "Iteration 6/10\n",
      "Budget: 2, num_samples = 252\n",
      "Budget: 4, num_samples = 512\n",
      "Budget: 6, num_samples = 745\n",
      "Budget: 8, num_samples = 994\n",
      "Budget: 10, num_samples = 1206\n",
      "\n",
      "Iteration 7/10\n",
      "Budget: 2, num_samples = 239\n",
      "Budget: 4, num_samples = 468\n",
      "Budget: 6, num_samples = 691\n",
      "Budget: 8, num_samples = 949\n",
      "Budget: 10, num_samples = 1221\n",
      "\n",
      "Iteration 8/10\n",
      "Budget: 2, num_samples = 267\n",
      "Budget: 4, num_samples = 525\n",
      "Budget: 6, num_samples = 780\n",
      "Budget: 8, num_samples = 1002\n",
      "Budget: 10, num_samples = 1215\n",
      "\n",
      "Iteration 9/10\n",
      "Budget: 2, num_samples = 240\n",
      "Budget: 4, num_samples = 477\n",
      "Budget: 6, num_samples = 725\n",
      "Budget: 8, num_samples = 975\n",
      "Budget: 10, num_samples = 1180\n"
     ]
    }
   ],
   "source": [
    "dict_params = {'batch_size': 800, 'L': 5, 'dt': 1e-06}\n",
    "get_metric_curve = build_metric_curve_fn(dict_params, list_time_budget, \n",
    "                            partial_build_sghmc, params_IC, error_fn_ksd_curve)\n",
    "\n",
    "key = random.PRNGKey(0)\n",
    "mean_ksd_curve_sghmc_mamba, sd_ksd_curve_sghmc_mamba = get_mean_sd_ksd_curve(key, 10, get_metric_curve)\n"
   ]
  },
  {
   "cell_type": "code",
   "execution_count": 18,
   "id": "6d9dbe8e",
   "metadata": {
    "collapsed": true
   },
   "outputs": [
    {
     "name": "stdout",
     "output_type": "stream",
     "text": [
      "Running for {'batch_size': 8000, 'L': 10, 'dt': 1e-05}\n",
      "\n",
      "Iteration 0/10\n",
      "Budget: 2, num_samples = 111\n",
      "Budget: 4, num_samples = 220\n",
      "Budget: 6, num_samples = 329\n",
      "Budget: 8, num_samples = 434\n",
      "Budget: 10, num_samples = 541\n",
      "\n",
      "Iteration 1/10\n",
      "Budget: 2, num_samples = 108\n",
      "Budget: 4, num_samples = 212\n",
      "Budget: 6, num_samples = 320\n",
      "Budget: 8, num_samples = 428\n",
      "Budget: 10, num_samples = 534\n",
      "\n",
      "Iteration 2/10\n",
      "Budget: 2, num_samples = 106\n",
      "Budget: 4, num_samples = 214\n",
      "Budget: 6, num_samples = 314\n",
      "Budget: 8, num_samples = 425\n",
      "Budget: 10, num_samples = 534\n",
      "\n",
      "Iteration 3/10\n",
      "Budget: 2, num_samples = 104\n",
      "Budget: 4, num_samples = 204\n",
      "Budget: 6, num_samples = 282\n",
      "Budget: 8, num_samples = 370\n",
      "Budget: 10, num_samples = 520\n",
      "\n",
      "Iteration 4/10\n",
      "Budget: 2, num_samples = 104\n",
      "Budget: 4, num_samples = 210\n",
      "Budget: 6, num_samples = 317\n",
      "Budget: 8, num_samples = 430\n",
      "Budget: 10, num_samples = 531\n",
      "\n",
      "Iteration 5/10\n",
      "Budget: 2, num_samples = 106\n",
      "Budget: 4, num_samples = 218\n",
      "Budget: 6, num_samples = 320\n",
      "Budget: 8, num_samples = 426\n",
      "Budget: 10, num_samples = 539\n",
      "\n",
      "Iteration 6/10\n",
      "Budget: 2, num_samples = 107\n",
      "Budget: 4, num_samples = 214\n",
      "Budget: 6, num_samples = 324\n",
      "Budget: 8, num_samples = 421\n",
      "Budget: 10, num_samples = 470\n",
      "\n",
      "Iteration 7/10\n",
      "Budget: 2, num_samples = 93\n",
      "Budget: 4, num_samples = 142\n",
      "Budget: 6, num_samples = 303\n",
      "Budget: 8, num_samples = 413\n",
      "Budget: 10, num_samples = 491\n",
      "\n",
      "Iteration 8/10\n",
      "Budget: 2, num_samples = 97\n",
      "Budget: 4, num_samples = 204\n",
      "Budget: 6, num_samples = 300\n",
      "Budget: 8, num_samples = 388\n",
      "Budget: 10, num_samples = 515\n",
      "\n",
      "Iteration 9/10\n",
      "Budget: 2, num_samples = 104\n",
      "Budget: 4, num_samples = 207\n",
      "Budget: 6, num_samples = 306\n",
      "Budget: 8, num_samples = 411\n",
      "Budget: 10, num_samples = 522\n"
     ]
    }
   ],
   "source": [
    "dict_params = {'batch_size': gridsearch_bs, 'L': 10, 'dt': 1e-05}\n",
    "get_metric_curve = build_metric_curve_fn(dict_params, list_time_budget, \n",
    "                            partial_build_sghmc, params_IC, error_fn_ksd_curve)\n",
    "\n",
    "key = random.PRNGKey(0)\n",
    "mean_ksd_curve_sghmc_gridsearch, sd_ksd_curve_sghmc_gridsearch = get_mean_sd_ksd_curve(key, 10, get_metric_curve)\n"
   ]
  },
  {
   "cell_type": "code",
   "execution_count": 42,
   "id": "807d46af",
   "metadata": {
    "collapsed": true
   },
   "outputs": [
    {
     "name": "stdout",
     "output_type": "stream",
     "text": [
      "Running for {'batch_size': 8000, 'L': 10, 'dt': 1.25e-05}\n",
      "\n",
      "Iteration 0/10\n",
      "Budget: 2, num_samples = 121\n",
      "Budget: 4, num_samples = 224\n",
      "Budget: 6, num_samples = 295\n",
      "Budget: 8, num_samples = 375\n",
      "Budget: 10, num_samples = 498\n",
      "\n",
      "Iteration 1/10\n",
      "Budget: 2, num_samples = 101\n",
      "Budget: 4, num_samples = 200\n",
      "Budget: 6, num_samples = 291\n",
      "Budget: 8, num_samples = 379\n",
      "Budget: 10, num_samples = 461\n",
      "\n",
      "Iteration 2/10\n",
      "Budget: 2, num_samples = 98\n",
      "Budget: 4, num_samples = 193\n",
      "Budget: 6, num_samples = 298\n",
      "Budget: 8, num_samples = 395\n",
      "Budget: 10, num_samples = 482\n",
      "\n",
      "Iteration 3/10\n",
      "Budget: 2, num_samples = 97\n",
      "Budget: 4, num_samples = 194\n",
      "Budget: 6, num_samples = 291\n",
      "Budget: 8, num_samples = 384\n",
      "Budget: 10, num_samples = 481\n",
      "\n",
      "Iteration 4/10\n",
      "Budget: 2, num_samples = 97\n",
      "Budget: 4, num_samples = 189\n",
      "Budget: 6, num_samples = 281\n",
      "Budget: 8, num_samples = 383\n",
      "Budget: 10, num_samples = 495\n",
      "\n",
      "Iteration 5/10\n",
      "Budget: 2, num_samples = 102\n",
      "Budget: 4, num_samples = 199\n",
      "Budget: 6, num_samples = 285\n",
      "Budget: 8, num_samples = 368\n",
      "Budget: 10, num_samples = 463\n",
      "\n",
      "Iteration 6/10\n",
      "Budget: 2, num_samples = 95\n",
      "Budget: 4, num_samples = 184\n",
      "Budget: 6, num_samples = 290\n",
      "Budget: 8, num_samples = 389\n",
      "Budget: 10, num_samples = 481\n",
      "\n",
      "Iteration 7/10\n",
      "Budget: 2, num_samples = 96\n",
      "Budget: 4, num_samples = 200\n",
      "Budget: 6, num_samples = 299\n",
      "Budget: 8, num_samples = 392\n",
      "Budget: 10, num_samples = 472\n",
      "\n",
      "Iteration 8/10\n",
      "Budget: 2, num_samples = 96\n",
      "Budget: 4, num_samples = 186\n",
      "Budget: 6, num_samples = 276\n",
      "Budget: 8, num_samples = 371\n",
      "Budget: 10, num_samples = 478\n",
      "\n",
      "Iteration 9/10\n",
      "Budget: 2, num_samples = 98\n",
      "Budget: 4, num_samples = 194\n",
      "Budget: 6, num_samples = 289\n",
      "Budget: 8, num_samples = 381\n",
      "Budget: 10, num_samples = 481\n"
     ]
    }
   ],
   "source": [
    "dict_params = {'batch_size': gridsearch_bs, 'L': 10, 'dt': dt_baseline}\n",
    "get_metric_curve = build_metric_curve_fn(dict_params, list_time_budget, \n",
    "                            partial_build_sghmc, params_IC, error_fn_ksd_curve)\n",
    "\n",
    "key = random.PRNGKey(0)\n",
    "mean_ksd_curve_sghmc_baseline, sd_ksd_curve_sghmc_baseline = get_mean_sd_ksd_curve(key, 10, get_metric_curve)\n"
   ]
  },
  {
   "cell_type": "markdown",
   "id": "671da5e3",
   "metadata": {},
   "source": [
    "### sghmc-CV"
   ]
  },
  {
   "cell_type": "code",
   "execution_count": 11,
   "id": "b92dda06",
   "metadata": {
    "collapsed": true
   },
   "outputs": [
    {
     "name": "stdout",
     "output_type": "stream",
     "text": [
      "Running for {'batch_size': 80, 'L': 5, 'dt': 1e-06}\n",
      "\n",
      "Iteration 0/10\n",
      "Budget: 2, num_samples = 307\n",
      "Budget: 4, num_samples = 534\n",
      "Budget: 6, num_samples = 740\n",
      "Budget: 8, num_samples = 911\n",
      "Budget: 10, num_samples = 1183\n",
      "\n",
      "Iteration 1/10\n",
      "Budget: 2, num_samples = 255\n",
      "Budget: 4, num_samples = 513\n",
      "Budget: 6, num_samples = 762\n",
      "Budget: 8, num_samples = 1014\n",
      "Budget: 10, num_samples = 1241\n",
      "\n",
      "Iteration 2/10\n",
      "Budget: 2, num_samples = 246\n",
      "Budget: 4, num_samples = 482\n",
      "Budget: 6, num_samples = 701\n",
      "Budget: 8, num_samples = 927\n",
      "Budget: 10, num_samples = 1206\n",
      "\n",
      "Iteration 3/10\n",
      "Budget: 2, num_samples = 241\n",
      "Budget: 4, num_samples = 488\n",
      "Budget: 6, num_samples = 678\n",
      "Budget: 8, num_samples = 928\n",
      "Budget: 10, num_samples = 1201\n",
      "\n",
      "Iteration 4/10\n",
      "Budget: 2, num_samples = 246\n",
      "Budget: 4, num_samples = 469\n",
      "Budget: 6, num_samples = 721\n",
      "Budget: 8, num_samples = 932\n",
      "Budget: 10, num_samples = 1100\n",
      "\n",
      "Iteration 5/10\n",
      "Budget: 2, num_samples = 227\n",
      "Budget: 4, num_samples = 468\n",
      "Budget: 6, num_samples = 723\n",
      "Budget: 8, num_samples = 1003\n",
      "Budget: 10, num_samples = 1194\n",
      "\n",
      "Iteration 6/10\n",
      "Budget: 2, num_samples = 231\n",
      "Budget: 4, num_samples = 469\n",
      "Budget: 6, num_samples = 731\n",
      "Budget: 8, num_samples = 968\n",
      "Budget: 10, num_samples = 1173\n",
      "\n",
      "Iteration 7/10\n",
      "Budget: 2, num_samples = 234\n",
      "Budget: 4, num_samples = 460\n",
      "Budget: 6, num_samples = 599\n",
      "Budget: 8, num_samples = 825\n",
      "Budget: 10, num_samples = 1141\n",
      "\n",
      "Iteration 8/10\n",
      "Budget: 2, num_samples = 191\n",
      "Budget: 4, num_samples = 419\n",
      "Budget: 6, num_samples = 510\n",
      "Budget: 8, num_samples = 809\n",
      "Budget: 10, num_samples = 1151\n",
      "\n",
      "Iteration 9/10\n",
      "Budget: 2, num_samples = 226\n",
      "Budget: 4, num_samples = 431\n",
      "Budget: 6, num_samples = 718\n",
      "Budget: 8, num_samples = 929\n",
      "Budget: 10, num_samples = 1164\n"
     ]
    }
   ],
   "source": [
    "dict_params = {'batch_size': 80, 'L': 5, 'dt': 1e-06}\n",
    "get_metric_curve = build_metric_curve_fn(dict_params, list_time_budget, \n",
    "                            partial_build_sghmcCV, params_IC, error_fn_ksd_curve)\n",
    "\n",
    "key = random.PRNGKey(0)\n",
    "mean_ksd_curve_sghmcCV_mamba, sd_ksd_curve_sghmcCV_mamba = get_mean_sd_ksd_curve(key, 10, get_metric_curve)\n"
   ]
  },
  {
   "cell_type": "code",
   "execution_count": 20,
   "id": "d69ed0dd",
   "metadata": {
    "collapsed": true
   },
   "outputs": [
    {
     "name": "stdout",
     "output_type": "stream",
     "text": [
      "Running for {'batch_size': 8000, 'L': 10, 'dt': 1e-05}\n",
      "\n",
      "Iteration 0/10\n",
      "Budget: 2, num_samples = 81\n",
      "Budget: 4, num_samples = 162\n",
      "Budget: 6, num_samples = 242\n",
      "Budget: 8, num_samples = 316\n",
      "Budget: 10, num_samples = 397\n",
      "\n",
      "Iteration 1/10\n",
      "Budget: 2, num_samples = 76\n",
      "Budget: 4, num_samples = 152\n",
      "Budget: 6, num_samples = 228\n",
      "Budget: 8, num_samples = 305\n",
      "Budget: 10, num_samples = 379\n",
      "\n",
      "Iteration 2/10\n",
      "Budget: 2, num_samples = 73\n",
      "Budget: 4, num_samples = 151\n",
      "Budget: 6, num_samples = 228\n",
      "Budget: 8, num_samples = 309\n",
      "Budget: 10, num_samples = 386\n",
      "\n",
      "Iteration 3/10\n",
      "Budget: 2, num_samples = 75\n",
      "Budget: 4, num_samples = 156\n",
      "Budget: 6, num_samples = 231\n",
      "Budget: 8, num_samples = 294\n",
      "Budget: 10, num_samples = 375\n",
      "\n",
      "Iteration 4/10\n",
      "Budget: 2, num_samples = 79\n",
      "Budget: 4, num_samples = 155\n",
      "Budget: 6, num_samples = 229\n",
      "Budget: 8, num_samples = 300\n",
      "Budget: 10, num_samples = 377\n",
      "\n",
      "Iteration 5/10\n",
      "Budget: 2, num_samples = 78\n",
      "Budget: 4, num_samples = 156\n",
      "Budget: 6, num_samples = 228\n",
      "Budget: 8, num_samples = 306\n",
      "Budget: 10, num_samples = 381\n",
      "\n",
      "Iteration 6/10\n",
      "Budget: 2, num_samples = 78\n",
      "Budget: 4, num_samples = 152\n",
      "Budget: 6, num_samples = 226\n",
      "Budget: 8, num_samples = 304\n",
      "Budget: 10, num_samples = 386\n",
      "\n",
      "Iteration 7/10\n",
      "Budget: 2, num_samples = 74\n",
      "Budget: 4, num_samples = 145\n",
      "Budget: 6, num_samples = 223\n",
      "Budget: 8, num_samples = 295\n",
      "Budget: 10, num_samples = 377\n",
      "\n",
      "Iteration 8/10\n",
      "Budget: 2, num_samples = 75\n",
      "Budget: 4, num_samples = 150\n",
      "Budget: 6, num_samples = 229\n",
      "Budget: 8, num_samples = 302\n",
      "Budget: 10, num_samples = 378\n",
      "\n",
      "Iteration 9/10\n",
      "Budget: 2, num_samples = 75\n",
      "Budget: 4, num_samples = 152\n",
      "Budget: 6, num_samples = 211\n",
      "Budget: 8, num_samples = 274\n",
      "Budget: 10, num_samples = 367\n"
     ]
    }
   ],
   "source": [
    "dict_params = {'batch_size': gridsearch_bs, 'L': 10, 'dt': 1e-05}\n",
    "get_metric_curve = build_metric_curve_fn(dict_params, list_time_budget, \n",
    "                            partial_build_sghmcCV, params_IC, error_fn_ksd_curve)\n",
    "\n",
    "key = random.PRNGKey(0)\n",
    "mean_ksd_curve_sghmcCV_gridsearch, sd_ksd_curve_sghmcCV_gridsearch = get_mean_sd_ksd_curve(key, 10, get_metric_curve)\n"
   ]
  },
  {
   "cell_type": "code",
   "execution_count": 44,
   "id": "15b8fe7e",
   "metadata": {
    "collapsed": true
   },
   "outputs": [
    {
     "name": "stdout",
     "output_type": "stream",
     "text": [
      "Running for {'batch_size': 8000, 'L': 10, 'dt': 1.25e-05}\n",
      "\n",
      "Iteration 0/10\n",
      "Budget: 2, num_samples = 85\n",
      "Budget: 4, num_samples = 168\n",
      "Budget: 6, num_samples = 248\n",
      "Budget: 8, num_samples = 319\n",
      "Budget: 10, num_samples = 411\n",
      "\n",
      "Iteration 1/10\n",
      "Budget: 2, num_samples = 84\n",
      "Budget: 4, num_samples = 165\n",
      "Budget: 6, num_samples = 245\n",
      "Budget: 8, num_samples = 297\n",
      "Budget: 10, num_samples = 333\n",
      "\n",
      "Iteration 2/10\n",
      "Budget: 2, num_samples = 68\n",
      "Budget: 4, num_samples = 133\n",
      "Budget: 6, num_samples = 204\n",
      "Budget: 8, num_samples = 290\n",
      "Budget: 10, num_samples = 370\n",
      "\n",
      "Iteration 3/10\n",
      "Budget: 2, num_samples = 73\n",
      "Budget: 4, num_samples = 145\n",
      "Budget: 6, num_samples = 213\n",
      "Budget: 8, num_samples = 278\n",
      "Budget: 10, num_samples = 362\n",
      "\n",
      "Iteration 4/10\n",
      "Budget: 2, num_samples = 75\n",
      "Budget: 4, num_samples = 146\n",
      "Budget: 6, num_samples = 217\n",
      "Budget: 8, num_samples = 286\n",
      "Budget: 10, num_samples = 351\n",
      "\n",
      "Iteration 5/10\n",
      "Budget: 2, num_samples = 71\n",
      "Budget: 4, num_samples = 143\n",
      "Budget: 6, num_samples = 220\n",
      "Budget: 8, num_samples = 294\n",
      "Budget: 10, num_samples = 352\n",
      "\n",
      "Iteration 6/10\n",
      "Budget: 2, num_samples = 70\n",
      "Budget: 4, num_samples = 145\n",
      "Budget: 6, num_samples = 221\n",
      "Budget: 8, num_samples = 291\n",
      "Budget: 10, num_samples = 353\n",
      "\n",
      "Iteration 7/10\n",
      "Budget: 2, num_samples = 71\n",
      "Budget: 4, num_samples = 142\n",
      "Budget: 6, num_samples = 216\n",
      "Budget: 8, num_samples = 294\n",
      "Budget: 10, num_samples = 349\n",
      "\n",
      "Iteration 8/10\n",
      "Budget: 2, num_samples = 71\n",
      "Budget: 4, num_samples = 139\n",
      "Budget: 6, num_samples = 216\n",
      "Budget: 8, num_samples = 287\n",
      "Budget: 10, num_samples = 365\n",
      "\n",
      "Iteration 9/10\n",
      "Budget: 2, num_samples = 75\n",
      "Budget: 4, num_samples = 146\n",
      "Budget: 6, num_samples = 213\n",
      "Budget: 8, num_samples = 277\n",
      "Budget: 10, num_samples = 354\n"
     ]
    }
   ],
   "source": [
    "dict_params = {'batch_size': gridsearch_bs, 'L': 10, 'dt': dt_baseline}\n",
    "get_metric_curve = build_metric_curve_fn(dict_params, list_time_budget, \n",
    "                            partial_build_sghmcCV, params_IC, error_fn_ksd_curve)\n",
    "\n",
    "key = random.PRNGKey(0)\n",
    "mean_ksd_curve_sghmcCV_baseline, sd_ksd_curve_sghmcCV_baseline = get_mean_sd_ksd_curve(key, 10, get_metric_curve)\n"
   ]
  },
  {
   "cell_type": "markdown",
   "id": "3d97a3ba",
   "metadata": {},
   "source": [
    "### sgnht"
   ]
  },
  {
   "cell_type": "code",
   "execution_count": 12,
   "id": "b375e476",
   "metadata": {
    "collapsed": true
   },
   "outputs": [
    {
     "name": "stdout",
     "output_type": "stream",
     "text": [
      "Running for {'batch_size': 8000, 'dt': 3.1622778e-05}\n",
      "\n",
      "Iteration 0/10\n",
      "Budget: 2, num_samples = 832\n",
      "Budget: 4, num_samples = 1416\n",
      "Budget: 6, num_samples = 2145\n",
      "Budget: 8, num_samples = 2842\n",
      "Budget: 10, num_samples = 3628\n",
      "\n",
      "Iteration 1/10\n",
      "Budget: 2, num_samples = 717\n",
      "Budget: 4, num_samples = 1425\n",
      "Budget: 6, num_samples = 2154\n",
      "Budget: 8, num_samples = 2877\n",
      "Budget: 10, num_samples = 3552\n",
      "\n",
      "Iteration 2/10\n",
      "Budget: 2, num_samples = 760\n",
      "Budget: 4, num_samples = 1474\n",
      "Budget: 6, num_samples = 2177\n",
      "Budget: 8, num_samples = 2986\n",
      "Budget: 10, num_samples = 3665\n",
      "\n",
      "Iteration 3/10\n",
      "Budget: 2, num_samples = 806\n",
      "Budget: 4, num_samples = 1563\n",
      "Budget: 6, num_samples = 2150\n",
      "Budget: 8, num_samples = 2785\n",
      "Budget: 10, num_samples = 3517\n",
      "\n",
      "Iteration 4/10\n",
      "Budget: 2, num_samples = 765\n",
      "Budget: 4, num_samples = 1551\n",
      "Budget: 6, num_samples = 2072\n",
      "Budget: 8, num_samples = 2410\n",
      "Budget: 10, num_samples = 2895\n",
      "\n",
      "Iteration 5/10\n",
      "Budget: 2, num_samples = 724\n",
      "Budget: 4, num_samples = 1262\n",
      "Budget: 6, num_samples = 1796\n",
      "Budget: 8, num_samples = 2736\n",
      "Budget: 10, num_samples = 3862\n",
      "\n",
      "Iteration 6/10\n",
      "Budget: 2, num_samples = 836\n",
      "Budget: 4, num_samples = 1607\n",
      "Budget: 6, num_samples = 2275\n",
      "Budget: 8, num_samples = 2906\n",
      "Budget: 10, num_samples = 3306\n",
      "\n",
      "Iteration 7/10\n",
      "Budget: 2, num_samples = 757\n",
      "Budget: 4, num_samples = 1489\n",
      "Budget: 6, num_samples = 2114\n",
      "Budget: 8, num_samples = 2612\n",
      "Budget: 10, num_samples = 3563\n",
      "\n",
      "Iteration 8/10\n",
      "Budget: 2, num_samples = 625\n",
      "Budget: 4, num_samples = 1334\n",
      "Budget: 6, num_samples = 1934\n",
      "Budget: 8, num_samples = 2616\n",
      "Budget: 10, num_samples = 3572\n",
      "\n",
      "Iteration 9/10\n",
      "Budget: 2, num_samples = 708\n",
      "Budget: 4, num_samples = 1387\n",
      "Budget: 6, num_samples = 2106\n",
      "Budget: 8, num_samples = 2949\n",
      "Budget: 10, num_samples = 3845\n"
     ]
    }
   ],
   "source": [
    "dict_params = {'batch_size': 8000, 'dt': 3.1622778e-05}\n",
    "get_metric_curve = build_metric_curve_fn(dict_params, list_time_budget, \n",
    "                            partial_build_sgnht, params_IC, error_fn_ksd_curve)\n",
    "\n",
    "key = random.PRNGKey(0)\n",
    "mean_ksd_curve_sgnht_mamba, sd_ksd_curve_sgnht_mamba = get_mean_sd_ksd_curve(key, 10, get_metric_curve)\n"
   ]
  },
  {
   "cell_type": "code",
   "execution_count": 22,
   "id": "7d02e65b",
   "metadata": {
    "collapsed": true
   },
   "outputs": [
    {
     "name": "stdout",
     "output_type": "stream",
     "text": [
      "Running for {'batch_size': 8000, 'dt': 3.1622776e-06}\n",
      "\n",
      "Iteration 0/10\n",
      "Budget: 2, num_samples = 915\n",
      "Budget: 4, num_samples = 1725\n",
      "Budget: 6, num_samples = 2493\n",
      "Budget: 8, num_samples = 2905\n",
      "Budget: 10, num_samples = 3732\n",
      "\n",
      "Iteration 1/10\n",
      "Budget: 2, num_samples = 826\n",
      "Budget: 4, num_samples = 1698\n",
      "Budget: 6, num_samples = 2518\n",
      "Budget: 8, num_samples = 3466\n",
      "Budget: 10, num_samples = 4113\n",
      "\n",
      "Iteration 2/10\n",
      "Budget: 2, num_samples = 903\n",
      "Budget: 4, num_samples = 1812\n",
      "Budget: 6, num_samples = 2445\n",
      "Budget: 8, num_samples = 3424\n",
      "Budget: 10, num_samples = 3495\n",
      "\n",
      "Iteration 3/10\n",
      "Budget: 2, num_samples = 741\n",
      "Budget: 4, num_samples = 1627\n",
      "Budget: 6, num_samples = 2382\n",
      "Budget: 8, num_samples = 3299\n",
      "Budget: 10, num_samples = 3781\n",
      "\n",
      "Iteration 4/10\n",
      "Budget: 2, num_samples = 783\n",
      "Budget: 4, num_samples = 1282\n",
      "Budget: 6, num_samples = 2190\n",
      "Budget: 8, num_samples = 3178\n",
      "Budget: 10, num_samples = 4227\n",
      "\n",
      "Iteration 5/10\n",
      "Budget: 2, num_samples = 805\n",
      "Budget: 4, num_samples = 1692\n",
      "Budget: 6, num_samples = 2212\n",
      "Budget: 8, num_samples = 3201\n",
      "Budget: 10, num_samples = 3291\n",
      "\n",
      "Iteration 6/10\n",
      "Budget: 2, num_samples = 815\n",
      "Budget: 4, num_samples = 1695\n",
      "Budget: 6, num_samples = 2266\n",
      "Budget: 8, num_samples = 2597\n",
      "Budget: 10, num_samples = 3923\n",
      "\n",
      "Iteration 7/10\n",
      "Budget: 2, num_samples = 784\n",
      "Budget: 4, num_samples = 1736\n",
      "Budget: 6, num_samples = 2282\n",
      "Budget: 8, num_samples = 3339\n",
      "Budget: 10, num_samples = 3716\n",
      "\n",
      "Iteration 8/10\n",
      "Budget: 2, num_samples = 849\n",
      "Budget: 4, num_samples = 1376\n",
      "Budget: 6, num_samples = 1706\n",
      "Budget: 8, num_samples = 2567\n",
      "Budget: 10, num_samples = 2980\n",
      "\n",
      "Iteration 9/10\n",
      "Budget: 2, num_samples = 616\n",
      "Budget: 4, num_samples = 1539\n",
      "Budget: 6, num_samples = 2419\n",
      "Budget: 8, num_samples = 3215\n",
      "Budget: 10, num_samples = 4186\n"
     ]
    }
   ],
   "source": [
    "dict_params = {'batch_size': gridsearch_bs, 'dt': 3.1622776e-06}\n",
    "get_metric_curve = build_metric_curve_fn(dict_params, list_time_budget, \n",
    "                            partial_build_sgnht, params_IC, error_fn_ksd_curve)\n",
    "\n",
    "key = random.PRNGKey(0)\n",
    "mean_ksd_curve_sgnht_gridsearch, sd_ksd_curve_sgnht_gridsearch = get_mean_sd_ksd_curve(key, 10, get_metric_curve)\n"
   ]
  },
  {
   "cell_type": "code",
   "execution_count": 45,
   "id": "86a8b327",
   "metadata": {
    "collapsed": true
   },
   "outputs": [
    {
     "name": "stdout",
     "output_type": "stream",
     "text": [
      "Running for {'batch_size': 8000, 'dt': 1.25e-05}\n",
      "\n",
      "Iteration 0/10\n",
      "Budget: 2, num_samples = 956\n",
      "Budget: 4, num_samples = 1825\n",
      "Budget: 6, num_samples = 2443\n",
      "Budget: 8, num_samples = 3071\n",
      "Budget: 10, num_samples = 4122\n",
      "\n",
      "Iteration 1/10\n",
      "Budget: 2, num_samples = 928\n",
      "Budget: 4, num_samples = 1674\n",
      "Budget: 6, num_samples = 2405\n",
      "Budget: 8, num_samples = 3263\n",
      "Budget: 10, num_samples = 4081\n",
      "\n",
      "Iteration 2/10\n",
      "Budget: 2, num_samples = 892\n",
      "Budget: 4, num_samples = 1690\n",
      "Budget: 6, num_samples = 2413\n",
      "Budget: 8, num_samples = 3214\n",
      "Budget: 10, num_samples = 4142\n",
      "\n",
      "Iteration 3/10\n",
      "Budget: 2, num_samples = 931\n",
      "Budget: 4, num_samples = 1665\n",
      "Budget: 6, num_samples = 2342\n",
      "Budget: 8, num_samples = 3167\n",
      "Budget: 10, num_samples = 3995\n",
      "\n",
      "Iteration 4/10\n",
      "Budget: 2, num_samples = 944\n",
      "Budget: 4, num_samples = 1673\n",
      "Budget: 6, num_samples = 2405\n",
      "Budget: 8, num_samples = 3184\n",
      "Budget: 10, num_samples = 4181\n",
      "\n",
      "Iteration 5/10\n",
      "Budget: 2, num_samples = 946\n",
      "Budget: 4, num_samples = 1693\n",
      "Budget: 6, num_samples = 2445\n",
      "Budget: 8, num_samples = 3146\n",
      "Budget: 10, num_samples = 3769\n",
      "\n",
      "Iteration 6/10\n",
      "Budget: 2, num_samples = 451\n",
      "Budget: 4, num_samples = 969\n",
      "Budget: 6, num_samples = 2148\n",
      "Budget: 8, num_samples = 2389\n",
      "Budget: 10, num_samples = 2549\n",
      "\n",
      "Iteration 7/10\n",
      "Budget: 2, num_samples = 502\n",
      "Budget: 4, num_samples = 1224\n",
      "Budget: 6, num_samples = 2060\n",
      "Budget: 8, num_samples = 2679\n",
      "Budget: 10, num_samples = 3244\n",
      "\n",
      "Iteration 8/10\n",
      "Budget: 2, num_samples = 784\n",
      "Budget: 4, num_samples = 1557\n",
      "Budget: 6, num_samples = 2240\n",
      "Budget: 8, num_samples = 2993\n",
      "Budget: 10, num_samples = 3505\n",
      "\n",
      "Iteration 9/10\n",
      "Budget: 2, num_samples = 634\n",
      "Budget: 4, num_samples = 1456\n",
      "Budget: 6, num_samples = 2067\n",
      "Budget: 8, num_samples = 2906\n",
      "Budget: 10, num_samples = 4127\n"
     ]
    }
   ],
   "source": [
    "dict_params = {'batch_size': gridsearch_bs, 'dt': dt_baseline}\n",
    "get_metric_curve = build_metric_curve_fn(dict_params, list_time_budget, \n",
    "                            partial_build_sgnht, params_IC, error_fn_ksd_curve)\n",
    "\n",
    "key = random.PRNGKey(0)\n",
    "mean_ksd_curve_sgnht_baseline, sd_ksd_curve_sgnht_baseline = get_mean_sd_ksd_curve(key, 10, get_metric_curve)\n"
   ]
  },
  {
   "cell_type": "markdown",
   "id": "b8354804",
   "metadata": {},
   "source": [
    "### sgnht-CV"
   ]
  },
  {
   "cell_type": "code",
   "execution_count": 13,
   "id": "6f9bd507",
   "metadata": {
    "collapsed": true
   },
   "outputs": [
    {
     "name": "stdout",
     "output_type": "stream",
     "text": [
      "Running for {'batch_size': 8000, 'dt': 1e-05}\n",
      "\n",
      "Iteration 0/10\n",
      "Budget: 2, num_samples = 621\n",
      "Budget: 4, num_samples = 1021\n",
      "Budget: 6, num_samples = 1179\n",
      "Budget: 8, num_samples = 1574\n",
      "Budget: 10, num_samples = 2376\n",
      "\n",
      "Iteration 1/10\n",
      "Budget: 2, num_samples = 500\n",
      "Budget: 4, num_samples = 993\n",
      "Budget: 6, num_samples = 1534\n",
      "Budget: 8, num_samples = 2057\n",
      "Budget: 10, num_samples = 2465\n",
      "\n",
      "Iteration 2/10\n",
      "Budget: 2, num_samples = 528\n",
      "Budget: 4, num_samples = 986\n",
      "Budget: 6, num_samples = 1559\n",
      "Budget: 8, num_samples = 1982\n",
      "Budget: 10, num_samples = 2767\n",
      "\n",
      "Iteration 3/10\n",
      "Budget: 2, num_samples = 531\n",
      "Budget: 4, num_samples = 1063\n",
      "Budget: 6, num_samples = 1586\n",
      "Budget: 8, num_samples = 2150\n",
      "Budget: 10, num_samples = 2651\n",
      "\n",
      "Iteration 4/10\n",
      "Budget: 2, num_samples = 551\n",
      "Budget: 4, num_samples = 1076\n",
      "Budget: 6, num_samples = 1542\n",
      "Budget: 8, num_samples = 2065\n",
      "Budget: 10, num_samples = 2832\n",
      "\n",
      "Iteration 5/10\n",
      "Budget: 2, num_samples = 570\n",
      "Budget: 4, num_samples = 1133\n",
      "Budget: 6, num_samples = 1640\n",
      "Budget: 8, num_samples = 2083\n",
      "Budget: 10, num_samples = 2715\n",
      "\n",
      "Iteration 6/10\n",
      "Budget: 2, num_samples = 601\n",
      "Budget: 4, num_samples = 1154\n",
      "Budget: 6, num_samples = 1672\n",
      "Budget: 8, num_samples = 2205\n",
      "Budget: 10, num_samples = 2876\n",
      "\n",
      "Iteration 7/10\n",
      "Budget: 2, num_samples = 552\n",
      "Budget: 4, num_samples = 1100\n",
      "Budget: 6, num_samples = 1701\n",
      "Budget: 8, num_samples = 2251\n",
      "Budget: 10, num_samples = 2744\n",
      "\n",
      "Iteration 8/10\n",
      "Budget: 2, num_samples = 552\n",
      "Budget: 4, num_samples = 1134\n",
      "Budget: 6, num_samples = 1694\n",
      "Budget: 8, num_samples = 2243\n",
      "Budget: 10, num_samples = 2818\n",
      "\n",
      "Iteration 9/10\n",
      "Budget: 2, num_samples = 602\n",
      "Budget: 4, num_samples = 1178\n",
      "Budget: 6, num_samples = 1648\n",
      "Budget: 8, num_samples = 2189\n",
      "Budget: 10, num_samples = 2824\n"
     ]
    }
   ],
   "source": [
    "dict_params = {'batch_size': 8000, 'dt': 1e-05}\n",
    "get_metric_curve = build_metric_curve_fn(dict_params, list_time_budget, \n",
    "                            partial_build_sgnhtCV, params_IC, error_fn_ksd_curve)\n",
    "\n",
    "key = random.PRNGKey(0)\n",
    "mean_ksd_curve_sgnhtCV_mamba, sd_ksd_curve_sgnhtCV_mamba = get_mean_sd_ksd_curve(key, 10, get_metric_curve)\n"
   ]
  },
  {
   "cell_type": "code",
   "execution_count": 19,
   "id": "0b733fe0",
   "metadata": {
    "collapsed": true
   },
   "outputs": [
    {
     "name": "stdout",
     "output_type": "stream",
     "text": [
      "Running for {'batch_size': 8000, 'dt': 3.1622776e-06}\n",
      "\n",
      "Iteration 0/10\n",
      "Budget: 2, num_samples = 655\n",
      "Budget: 4, num_samples = 1304\n",
      "Budget: 6, num_samples = 1946\n",
      "Budget: 8, num_samples = 2574\n",
      "Budget: 10, num_samples = 3187\n",
      "\n",
      "Iteration 1/10\n",
      "Budget: 2, num_samples = 634\n",
      "Budget: 4, num_samples = 1275\n",
      "Budget: 6, num_samples = 1815\n",
      "Budget: 8, num_samples = 2184\n",
      "Budget: 10, num_samples = 2831\n",
      "\n",
      "Iteration 2/10\n",
      "Budget: 2, num_samples = 567\n",
      "Budget: 4, num_samples = 1238\n",
      "Budget: 6, num_samples = 1856\n",
      "Budget: 8, num_samples = 2455\n",
      "Budget: 10, num_samples = 2920\n",
      "\n",
      "Iteration 3/10\n",
      "Budget: 2, num_samples = 625\n",
      "Budget: 4, num_samples = 1252\n",
      "Budget: 6, num_samples = 1828\n",
      "Budget: 8, num_samples = 2227\n",
      "Budget: 10, num_samples = 2866\n",
      "\n",
      "Iteration 4/10\n",
      "Budget: 2, num_samples = 566\n",
      "Budget: 4, num_samples = 1237\n",
      "Budget: 6, num_samples = 1850\n",
      "Budget: 8, num_samples = 2455\n",
      "Budget: 10, num_samples = 2811\n",
      "\n",
      "Iteration 5/10\n",
      "Budget: 2, num_samples = 577\n",
      "Budget: 4, num_samples = 1264\n",
      "Budget: 6, num_samples = 1827\n",
      "Budget: 8, num_samples = 2238\n",
      "Budget: 10, num_samples = 2886\n",
      "\n",
      "Iteration 6/10\n",
      "Budget: 2, num_samples = 618\n",
      "Budget: 4, num_samples = 1238\n",
      "Budget: 6, num_samples = 1853\n",
      "Budget: 8, num_samples = 2432\n",
      "Budget: 10, num_samples = 2829\n",
      "\n",
      "Iteration 7/10\n",
      "Budget: 2, num_samples = 581\n",
      "Budget: 4, num_samples = 1262\n",
      "Budget: 6, num_samples = 1843\n",
      "Budget: 8, num_samples = 2395\n",
      "Budget: 10, num_samples = 2963\n",
      "\n",
      "Iteration 8/10\n",
      "Budget: 2, num_samples = 618\n",
      "Budget: 4, num_samples = 1238\n",
      "Budget: 6, num_samples = 1842\n",
      "Budget: 8, num_samples = 2458\n",
      "Budget: 10, num_samples = 2814\n",
      "\n",
      "Iteration 9/10\n",
      "Budget: 2, num_samples = 630\n",
      "Budget: 4, num_samples = 1264\n",
      "Budget: 6, num_samples = 1855\n",
      "Budget: 8, num_samples = 2268\n",
      "Budget: 10, num_samples = 2890\n"
     ]
    }
   ],
   "source": [
    "dict_params = {'batch_size': gridsearch_bs, 'dt': 3.1622776e-06}\n",
    "get_metric_curve = build_metric_curve_fn(dict_params, list_time_budget, \n",
    "                            partial_build_sgnhtCV, params_IC, error_fn_ksd_curve)\n",
    "\n",
    "key = random.PRNGKey(0)\n",
    "mean_ksd_curve_sgnhtCV_gridsearch, sd_ksd_curve_sgnhtCV_gridsearch = get_mean_sd_ksd_curve(key, 10, get_metric_curve)\n"
   ]
  },
  {
   "cell_type": "code",
   "execution_count": 46,
   "id": "607204bf",
   "metadata": {
    "collapsed": true
   },
   "outputs": [
    {
     "name": "stdout",
     "output_type": "stream",
     "text": [
      "Running for {'batch_size': 8000, 'dt': 1.25e-05}\n",
      "\n",
      "Iteration 0/10\n",
      "Budget: 2, num_samples = 655\n",
      "Budget: 4, num_samples = 1299\n",
      "Budget: 6, num_samples = 1794\n",
      "Budget: 8, num_samples = 2224\n",
      "Budget: 10, num_samples = 2767\n",
      "\n",
      "Iteration 1/10\n",
      "Budget: 2, num_samples = 589\n",
      "Budget: 4, num_samples = 1168\n",
      "Budget: 6, num_samples = 1729\n",
      "Budget: 8, num_samples = 2249\n",
      "Budget: 10, num_samples = 2888\n",
      "\n",
      "Iteration 2/10\n",
      "Budget: 2, num_samples = 577\n",
      "Budget: 4, num_samples = 1173\n",
      "Budget: 6, num_samples = 1736\n",
      "Budget: 8, num_samples = 2240\n",
      "Budget: 10, num_samples = 2809\n",
      "\n",
      "Iteration 3/10\n",
      "Budget: 2, num_samples = 626\n",
      "Budget: 4, num_samples = 1206\n",
      "Budget: 6, num_samples = 1715\n",
      "Budget: 8, num_samples = 2241\n",
      "Budget: 10, num_samples = 2916\n",
      "\n",
      "Iteration 4/10\n",
      "Budget: 2, num_samples = 588\n",
      "Budget: 4, num_samples = 1172\n",
      "Budget: 6, num_samples = 1741\n",
      "Budget: 8, num_samples = 2258\n",
      "Budget: 10, num_samples = 2911\n",
      "\n",
      "Iteration 5/10\n",
      "Budget: 2, num_samples = 583\n",
      "Budget: 4, num_samples = 1169\n",
      "Budget: 6, num_samples = 1740\n",
      "Budget: 8, num_samples = 2250\n",
      "Budget: 10, num_samples = 2915\n",
      "\n",
      "Iteration 6/10\n",
      "Budget: 2, num_samples = 593\n",
      "Budget: 4, num_samples = 1167\n",
      "Budget: 6, num_samples = 1734\n",
      "Budget: 8, num_samples = 2253\n",
      "Budget: 10, num_samples = 2928\n",
      "\n",
      "Iteration 7/10\n",
      "Budget: 2, num_samples = 585\n",
      "Budget: 4, num_samples = 1169\n",
      "Budget: 6, num_samples = 1736\n",
      "Budget: 8, num_samples = 2253\n",
      "Budget: 10, num_samples = 2624\n",
      "\n",
      "Iteration 8/10\n",
      "Budget: 2, num_samples = 385\n",
      "Budget: 4, num_samples = 603\n",
      "Budget: 6, num_samples = 1229\n",
      "Budget: 8, num_samples = 2156\n",
      "Budget: 10, num_samples = 2888\n",
      "\n",
      "Iteration 9/10\n",
      "Budget: 2, num_samples = 573\n",
      "Budget: 4, num_samples = 1121\n",
      "Budget: 6, num_samples = 1675\n",
      "Budget: 8, num_samples = 2168\n",
      "Budget: 10, num_samples = 2757\n"
     ]
    }
   ],
   "source": [
    "dict_params = {'batch_size': gridsearch_bs, 'dt': dt_baseline}\n",
    "get_metric_curve = build_metric_curve_fn(dict_params, list_time_budget, \n",
    "                            partial_build_sgnhtCV, params_IC, error_fn_ksd_curve)\n",
    "\n",
    "key = random.PRNGKey(0)\n",
    "mean_ksd_curve_sgnhtCV_baseline, sd_ksd_curve_sgnhtCV_baseline = get_mean_sd_ksd_curve(key, 10, get_metric_curve)\n"
   ]
  },
  {
   "cell_type": "code",
   "execution_count": null,
   "id": "691f1f95",
   "metadata": {},
   "outputs": [],
   "source": []
  },
  {
   "cell_type": "markdown",
   "id": "44cac657",
   "metadata": {},
   "source": [
    "#### save and load ksd curves"
   ]
  },
  {
   "cell_type": "code",
   "execution_count": 97,
   "id": "43052437",
   "metadata": {},
   "outputs": [],
   "source": [
    "\n",
    "# MAMBA\n",
    "# np.savetxt(\"outputs/PMF_uncertainty_tests/mamba/KSD_curve_sgld.txt\", \n",
    "#            np.array([mean_ksd_curve_sgld_mamba, sd_ksd_curve_sgld_mamba]))\n",
    "\n",
    "# np.savetxt(\"outputs/PMF_uncertainty_tests/mamba/KSD_curve_sgldCV.txt\", \n",
    "#            np.array([mean_ksd_curve_sgldCV_mamba, sd_ksd_curve_sgldCV_mamba]))\n",
    "\n",
    "# np.savetxt(\"outputs/PMF_uncertainty_tests/mamba/KSD_curve_sghmc.txt\", \n",
    "#            np.array([mean_ksd_curve_sghmc_mamba, sd_ksd_curve_sghmc_mamba]))\n",
    "\n",
    "# np.savetxt(\"outputs/PMF_uncertainty_tests/mamba/KSD_curve_sghmcCV.txt\", \n",
    "#            np.array([mean_ksd_curve_sghmcCV_mamba, sd_ksd_curve_sghmcCV_mamba]))\n",
    "\n",
    "# np.savetxt(\"outputs/PMF_uncertainty_tests/mamba/KSD_curve_sgnht.txt\", \n",
    "#            np.array([mean_ksd_curve_sgnht_mamba, sd_ksd_curve_sgnht_mamba]))\n",
    "\n",
    "# np.savetxt(\"outputs/PMF_uncertainty_tests/mamba/KSD_curve_sgnhtCV.txt\", \n",
    "#            np.array([mean_ksd_curve_sgnhtCV_mamba, sd_ksd_curve_sgnhtCV_mamba]))\n",
    "\n",
    "\n",
    "# gridsearch\n",
    "# np.savetxt(\"outputs/PMF_uncertainty_tests/gridsearch/KSD_curve_sgld.txt\", \n",
    "#            np.array([mean_ksd_curve_sgld_gridsearch, sd_ksd_curve_sgld_gridsearch]))\n",
    "\n",
    "# np.savetxt(\"outputs/PMF_uncertainty_tests/gridsearch/KSD_curve_sgldCV.txt\", \n",
    "#            np.array([mean_ksd_curve_sgldCV_gridsearch, sd_ksd_curve_sgldCV_gridsearch]))\n",
    "\n",
    "# np.savetxt(\"outputs/PMF_uncertainty_tests/gridsearch/KSD_curve_sghmc.txt\", \n",
    "#            np.array([mean_ksd_curve_sghmc_gridsearch, sd_ksd_curve_sghmc_gridsearch]))\n",
    "\n",
    "# np.savetxt(\"outputs/PMF_uncertainty_tests/gridsearch/KSD_curve_sghmcCV.txt\", \n",
    "#            np.array([mean_ksd_curve_sghmcCV_gridsearch, sd_ksd_curve_sghmcCV_gridsearch]))\n",
    "\n",
    "# np.savetxt(\"outputs/PMF_uncertainty_tests/gridsearch/KSD_curve_sgnht.txt\", \n",
    "#            np.array([mean_ksd_curve_sgnht_gridsearch, sd_ksd_curve_sgnht_gridsearch]))\n",
    "\n",
    "# np.savetxt(\"outputs/PMF_uncertainty_tests/gridsearch/KSD_curve_sgnhtCV.txt\", \n",
    "#            np.array([mean_ksd_curve_sgnhtCV_gridsearch, sd_ksd_curve_sgnhtCV_gridsearch]))\n",
    "\n",
    "# # baseline\n",
    "# np.savetxt(\"outputs/PMF_uncertainty_tests/baseline/KSD_curve_sgld.txt\", \n",
    "#            np.array([mean_ksd_curve_sgld_baseline, sd_ksd_curve_sgld_baseline]))\n",
    "\n",
    "# np.savetxt(\"outputs/PMF_uncertainty_tests/baseline/KSD_curve_sgldCV.txt\", \n",
    "#            np.array([mean_ksd_curve_sgldCV_baseline, sd_ksd_curve_sgldCV_baseline]))\n",
    "\n",
    "# np.savetxt(\"outputs/PMF_uncertainty_tests/baseline/KSD_curve_sghmc.txt\", \n",
    "#            np.array([mean_ksd_curve_sghmc_baseline, sd_ksd_curve_sghmc_baseline]))\n",
    "\n",
    "# np.savetxt(\"outputs/PMF_uncertainty_tests/baseline/KSD_curve_sghmcCV.txt\", \n",
    "#            np.array([mean_ksd_curve_sghmcCV_baseline, sd_ksd_curve_sghmcCV_baseline]))\n",
    "\n",
    "# np.savetxt(\"outputs/PMF_uncertainty_tests/baseline/KSD_curve_sgnht.txt\", \n",
    "#            np.array([mean_ksd_curve_sgnht_baseline, sd_ksd_curve_sgnht_baseline]))\n",
    "\n",
    "# np.savetxt(\"outputs/PMF_uncertainty_tests/baseline/KSD_curve_sgnhtCV.txt\", \n",
    "#            np.array([mean_ksd_curve_sgnhtCV_baseline, sd_ksd_curve_sgnhtCV_baseline]))\n",
    "\n",
    "\n",
    "\n",
    "# Load mean and sd of ksd curves\n",
    "list_time_budget = [2, 4, 6, 8, 10]\n",
    "\n",
    "mean_ksd_curve_sgld_mamba, sd_ksd_curve_sgld_mamba = np.genfromtxt(\"outputs/PMF_uncertainty_tests/mamba/KSD_curve_sgld.txt\")\n",
    "mean_ksd_curve_sgldCV_mamba, sd_ksd_curve_sgldCV_mamba = np.genfromtxt(\"outputs/PMF_uncertainty_tests/mamba/KSD_curve_sgldCV.txt\")\n",
    "mean_ksd_curve_sghmc_mamba, sd_ksd_curve_sghmc_mamba = np.genfromtxt(\"outputs/PMF_uncertainty_tests/mamba/KSD_curve_sghmc.txt\")\n",
    "mean_ksd_curve_sghmcCV_mamba, sd_ksd_curve_sghmcCV_mamba = np.genfromtxt(\"outputs/PMF_uncertainty_tests/mamba/KSD_curve_sghmcCV.txt\")\n",
    "mean_ksd_curve_sgnht_mamba, sd_ksd_curve_sgnht_mamba = np.genfromtxt(\"outputs/PMF_uncertainty_tests/mamba/KSD_curve_sgnht.txt\")\n",
    "mean_ksd_curve_sgnhtCV_mamba, sd_ksd_curve_sgnhtCV_mamba = np.genfromtxt(\"outputs/PMF_uncertainty_tests/mamba/KSD_curve_sgnhtCV.txt\")\n",
    "\n",
    "mean_ksd_curve_sgld_gridsearch, sd_ksd_curve_sgld_gridsearch = np.genfromtxt(\"outputs/PMF_uncertainty_tests/gridsearch/KSD_curve_sgld.txt\")\n",
    "mean_ksd_curve_sgldCV_gridsearch, sd_ksd_curve_sgldCV_gridsearch = np.genfromtxt(\"outputs/PMF_uncertainty_tests/gridsearch/KSD_curve_sgldCV.txt\")\n",
    "mean_ksd_curve_sghmc_gridsearch, sd_ksd_curve_sghmc_gridsearch = np.genfromtxt(\"outputs/PMF_uncertainty_tests/gridsearch/KSD_curve_sghmc.txt\")\n",
    "mean_ksd_curve_sghmcCV_gridsearch, sd_ksd_curve_sghmcCV_gridsearch = np.genfromtxt(\"outputs/PMF_uncertainty_tests/gridsearch/KSD_curve_sghmcCV.txt\")\n",
    "mean_ksd_curve_sgnht_gridsearch, sd_ksd_curve_sgnht_gridsearch = np.genfromtxt(\"outputs/PMF_uncertainty_tests/gridsearch/KSD_curve_sgnht.txt\")\n",
    "mean_ksd_curve_sgnhtCV_gridsearch, sd_ksd_curve_sgnhtCV_gridsearch = np.genfromtxt(\"outputs/PMF_uncertainty_tests/gridsearch/KSD_curve_sgnhtCV.txt\")\n",
    "\n",
    "mean_ksd_curve_sgld_baseline, sd_ksd_curve_sgld_baseline = np.genfromtxt(\"outputs/PMF_uncertainty_tests/baseline/KSD_curve_sgld.txt\")\n",
    "mean_ksd_curve_sgldCV_baseline, sd_ksd_curve_sgldCV_baseline = np.genfromtxt(\"outputs/PMF_uncertainty_tests/baseline/KSD_curve_sgldCV.txt\")\n",
    "mean_ksd_curve_sghmc_baseline, sd_ksd_curve_sghmc_baseline = np.genfromtxt(\"outputs/PMF_uncertainty_tests/baseline/KSD_curve_sghmc.txt\")\n",
    "mean_ksd_curve_sghmcCV_baseline, sd_ksd_curve_sghmcCV_baseline = np.genfromtxt(\"outputs/PMF_uncertainty_tests/baseline/KSD_curve_sghmcCV.txt\")\n",
    "mean_ksd_curve_sgnht_baseline, sd_ksd_curve_sgnht_baseline = np.genfromtxt(\"outputs/PMF_uncertainty_tests/baseline/KSD_curve_sgnht.txt\")\n",
    "mean_ksd_curve_sgnhtCV_baseline, sd_ksd_curve_sgnhtCV_baseline = np.genfromtxt(\"outputs/PMF_uncertainty_tests/baseline/KSD_curve_sgnhtCV.txt\")\n"
   ]
  },
  {
   "cell_type": "code",
   "execution_count": null,
   "id": "a49a4f1b",
   "metadata": {},
   "outputs": [],
   "source": []
  },
  {
   "cell_type": "markdown",
   "id": "46b44e47",
   "metadata": {},
   "source": [
    "# plots: KSD curves"
   ]
  },
  {
   "cell_type": "code",
   "execution_count": 98,
   "id": "dfffc93b",
   "metadata": {},
   "outputs": [
    {
     "data": {
      "text/plain": [
       "<matplotlib.legend.Legend at 0x7fc133211e80>"
      ]
     },
     "execution_count": 98,
     "metadata": {},
     "output_type": "execute_result"
    },
    {
     "data": {
      "image/png": "[encoded data removed]",
      "text/plain": [
       "<Figure size 576x432 with 1 Axes>"
      ]
     },
     "metadata": {
      "needs_background": "light"
     },
     "output_type": "display_data"
    }
   ],
   "source": [
    "plt.rcParams.update({'font.size':17})\n",
    "\n",
    "max_time_budget = 8\n",
    "\n",
    "plt.figure(figsize=(8, 6))\n",
    "\n",
    "plt.plot(list_time_budget, mean_ksd_curve_sgld_mamba, marker=\"+\", markersize=15, \n",
    "         c='r', label=\"MAMBA\")\n",
    "plt.fill_between(list_time_budget, mean_ksd_curve_sgld_mamba+2*sd_ksd_curve_sgld_mamba, \n",
    "                 mean_ksd_curve_sgld_mamba-2*sd_ksd_curve_sgld_mamba, alpha=0.1, color='r')\n",
    "\n",
    "plt.plot(list_time_budget, mean_ksd_curve_sgld_gridsearch, marker=\"o\", markersize=15, \n",
    "         c='g', label=\"gridsearch\")\n",
    "plt.fill_between(list_time_budget, mean_ksd_curve_sgld_gridsearch+2*sd_ksd_curve_sgld_gridsearch, \n",
    "                 mean_ksd_curve_sgld_gridsearch-2*sd_ksd_curve_sgld_gridsearch, alpha=0.1, color='g')\n",
    "\n",
    "plt.plot(list_time_budget, mean_ksd_curve_sgld_baseline, marker=\"x\", markersize=15, \n",
    "         c='b', label=\"baseline\")\n",
    "plt.fill_between(list_time_budget, mean_ksd_curve_sgld_baseline+2*sd_ksd_curve_sgld_baseline, \n",
    "                 mean_ksd_curve_sgld_baseline-2*sd_ksd_curve_sgld_baseline, alpha=0.1, color='b')\n",
    "\n",
    "plt.title(\"SGLD sampler\", size=23)\n",
    "plt.ylabel(\"KSD\", size=19)\n",
    "plt.xlabel(\"time budget (seconds)\", size=19)\n",
    "plt.legend(fontsize=16)\n",
    "# plt.savefig(\"images/sgld_ksd_curves_R1_R5_n90.png\")"
   ]
  },
  {
   "cell_type": "code",
   "execution_count": 99,
   "id": "2bee3cbe",
   "metadata": {},
   "outputs": [
    {
     "data": {
      "text/plain": [
       "<matplotlib.legend.Legend at 0x7fc1332b7ac0>"
      ]
     },
     "execution_count": 99,
     "metadata": {},
     "output_type": "execute_result"
    },
    {
     "data": {
      "image/png": "[encoded data removed]",
      "text/plain": [
       "<Figure size 576x432 with 1 Axes>"
      ]
     },
     "metadata": {
      "needs_background": "light"
     },
     "output_type": "display_data"
    }
   ],
   "source": [
    "plt.rcParams.update({'font.size':17})\n",
    "\n",
    "max_time_budget = 8\n",
    "\n",
    "plt.figure(figsize=(8, 6))\n",
    "\n",
    "plt.plot(list_time_budget, mean_ksd_curve_sgldCV_mamba, marker=\"+\", markersize=15, \n",
    "         c='r', label=\"MAMBA\")\n",
    "plt.fill_between(list_time_budget, mean_ksd_curve_sgldCV_mamba+2*sd_ksd_curve_sgldCV_mamba, \n",
    "                 mean_ksd_curve_sgldCV_mamba-2*sd_ksd_curve_sgldCV_mamba, alpha=0.1, color='r')\n",
    "\n",
    "plt.plot(list_time_budget, mean_ksd_curve_sgldCV_gridsearch, marker=\"o\", markersize=15, \n",
    "         c='g', label=\"gridsearch\")\n",
    "plt.fill_between(list_time_budget, mean_ksd_curve_sgldCV_gridsearch+2*sd_ksd_curve_sgldCV_gridsearch, \n",
    "                 mean_ksd_curve_sgldCV_gridsearch-2*sd_ksd_curve_sgldCV_gridsearch, alpha=0.1, color='g')\n",
    "\n",
    "plt.plot(list_time_budget, mean_ksd_curve_sgldCV_baseline, marker=\"x\", markersize=15, \n",
    "         c='b', label=\"baseline\")\n",
    "plt.fill_between(list_time_budget, mean_ksd_curve_sgldCV_baseline+2*sd_ksd_curve_sgldCV_baseline, \n",
    "                 mean_ksd_curve_sgldCV_baseline-2*sd_ksd_curve_sgldCV_baseline, alpha=0.1, color='b')\n",
    "\n",
    "plt.title(\"SGLD-CV sampler\", size=23)\n",
    "plt.ylabel(\"KSD\", size=19)\n",
    "plt.xlabel(\"time budget (seconds)\", size=19)\n",
    "plt.legend(fontsize=16)\n",
    "# plt.savefig(\"images/sgld_ksd_curves_R1_R5_n90.png\")"
   ]
  },
  {
   "cell_type": "code",
   "execution_count": 100,
   "id": "eadac7d8",
   "metadata": {},
   "outputs": [
    {
     "data": {
      "text/plain": [
       "<matplotlib.legend.Legend at 0x7fc133442fd0>"
      ]
     },
     "execution_count": 100,
     "metadata": {},
     "output_type": "execute_result"
    },
    {
     "data": {
      "image/png": "[encoded data removed]",
      "text/plain": [
       "<Figure size 576x432 with 1 Axes>"
      ]
     },
     "metadata": {
      "needs_background": "light"
     },
     "output_type": "display_data"
    }
   ],
   "source": [
    "plt.rcParams.update({'font.size':17})\n",
    "\n",
    "max_time_budget = 8\n",
    "\n",
    "plt.figure(figsize=(8, 6))\n",
    "\n",
    "plt.plot(list_time_budget, mean_ksd_curve_sghmc_mamba, marker=\"+\", markersize=15, \n",
    "         c='r', label=\"MAMBA\")\n",
    "plt.fill_between(list_time_budget, mean_ksd_curve_sghmc_mamba+2*sd_ksd_curve_sghmc_mamba, \n",
    "                 mean_ksd_curve_sghmc_mamba-2*sd_ksd_curve_sghmc_mamba, alpha=0.1, color='r')\n",
    "\n",
    "plt.plot(list_time_budget, mean_ksd_curve_sghmc_gridsearch, marker=\"o\", markersize=15, \n",
    "         c='g', label=\"gridsearch\")\n",
    "plt.fill_between(list_time_budget, mean_ksd_curve_sghmc_gridsearch+2*sd_ksd_curve_sghmc_gridsearch, \n",
    "                 mean_ksd_curve_sghmc_gridsearch-2*sd_ksd_curve_sghmc_gridsearch, alpha=0.1, color='g')\n",
    "\n",
    "plt.plot(list_time_budget, mean_ksd_curve_sghmc_baseline, marker=\"x\", markersize=15, \n",
    "         c='b', label=\"baseline\")\n",
    "plt.fill_between(list_time_budget, mean_ksd_curve_sghmc_baseline+2*sd_ksd_curve_sghmc_baseline, \n",
    "                 mean_ksd_curve_sghmc_baseline-2*sd_ksd_curve_sghmc_baseline, alpha=0.1, color='b')\n",
    "\n",
    "plt.title(\"SGHMC sampler\", size=23)\n",
    "plt.ylabel(\"KSD\", size=19)\n",
    "plt.xlabel(\"time budget (seconds)\", size=19)\n",
    "plt.legend(fontsize=16)\n",
    "# plt.savefig(\"images/sgld_ksd_curves_R1_R5_n90.png\")"
   ]
  },
  {
   "cell_type": "code",
   "execution_count": 101,
   "id": "bb726747",
   "metadata": {},
   "outputs": [
    {
     "data": {
      "text/plain": [
       "<matplotlib.legend.Legend at 0x7fc133497d90>"
      ]
     },
     "execution_count": 101,
     "metadata": {},
     "output_type": "execute_result"
    },
    {
     "data": {
      "image/png": "[encoded data removed]",
      "text/plain": [
       "<Figure size 576x432 with 1 Axes>"
      ]
     },
     "metadata": {
      "needs_background": "light"
     },
     "output_type": "display_data"
    }
   ],
   "source": [
    "plt.rcParams.update({'font.size':17})\n",
    "\n",
    "max_time_budget = 8\n",
    "\n",
    "plt.figure(figsize=(8, 6))\n",
    "\n",
    "plt.plot(list_time_budget, mean_ksd_curve_sghmcCV_mamba, marker=\"+\", markersize=15, \n",
    "         c='r', label=\"MAMBA\")\n",
    "plt.fill_between(list_time_budget, mean_ksd_curve_sghmcCV_mamba+2*sd_ksd_curve_sghmcCV_mamba, \n",
    "                 mean_ksd_curve_sghmcCV_mamba-2*sd_ksd_curve_sghmcCV_mamba, alpha=0.1, color='r')\n",
    "\n",
    "plt.plot(list_time_budget, mean_ksd_curve_sghmcCV_gridsearch, marker=\"o\", markersize=15, \n",
    "         c='g', label=\"gridsearch\")\n",
    "plt.fill_between(list_time_budget, mean_ksd_curve_sghmcCV_gridsearch+2*sd_ksd_curve_sghmcCV_gridsearch, \n",
    "                 mean_ksd_curve_sghmcCV_gridsearch-2*sd_ksd_curve_sghmcCV_gridsearch, alpha=0.1, color='g')\n",
    "\n",
    "plt.plot(list_time_budget, mean_ksd_curve_sghmcCV_baseline, marker=\"x\", markersize=15, \n",
    "         c='b', label=\"baseline\")\n",
    "plt.fill_between(list_time_budget, mean_ksd_curve_sghmcCV_baseline+2*sd_ksd_curve_sghmcCV_baseline, \n",
    "                 mean_ksd_curve_sghmcCV_baseline-2*sd_ksd_curve_sghmcCV_baseline, alpha=0.1, color='b')\n",
    "\n",
    "plt.title(\"SGHMCCV sampler\", size=23)\n",
    "plt.ylabel(\"KSD\", size=19)\n",
    "plt.xlabel(\"time budget (seconds)\", size=19)\n",
    "plt.yscale(\"log\")\n",
    "plt.legend(fontsize=16)\n",
    "# plt.savefig(\"images/sgld_ksd_curves_R1_R5_n90.png\")"
   ]
  },
  {
   "cell_type": "code",
   "execution_count": 102,
   "id": "4c41ed66",
   "metadata": {},
   "outputs": [
    {
     "data": {
      "text/plain": [
       "<matplotlib.legend.Legend at 0x7fc1348dbac0>"
      ]
     },
     "execution_count": 102,
     "metadata": {},
     "output_type": "execute_result"
    },
    {
     "data": {
      "image/png": "[encoded data removed]",
      "text/plain": [
       "<Figure size 576x432 with 1 Axes>"
      ]
     },
     "metadata": {
      "needs_background": "light"
     },
     "output_type": "display_data"
    }
   ],
   "source": [
    "plt.rcParams.update({'font.size':17})\n",
    "\n",
    "max_time_budget = 8\n",
    "\n",
    "plt.figure(figsize=(8, 6))\n",
    "\n",
    "plt.plot(list_time_budget, mean_ksd_curve_sgnht_mamba, marker=\"+\", markersize=15, \n",
    "         c='r', label=\"MAMBA\")\n",
    "plt.fill_between(list_time_budget, mean_ksd_curve_sgnht_mamba+2*sd_ksd_curve_sgnht_mamba, \n",
    "                 mean_ksd_curve_sgnht_mamba-2*sd_ksd_curve_sgnht_mamba, alpha=0.1, color='r')\n",
    "\n",
    "plt.plot(list_time_budget, mean_ksd_curve_sgnht_gridsearch, marker=\"o\", markersize=15, \n",
    "         c='g', label=\"gridsearch\")\n",
    "plt.fill_between(list_time_budget, mean_ksd_curve_sgnht_gridsearch+2*sd_ksd_curve_sgnht_gridsearch, \n",
    "                 mean_ksd_curve_sgnht_gridsearch-2*sd_ksd_curve_sgnht_gridsearch, alpha=0.1, color='g')\n",
    "\n",
    "plt.plot(list_time_budget, mean_ksd_curve_sgnht_baseline, marker=\"x\", markersize=15, \n",
    "         c='b', label=\"baseline\")\n",
    "plt.fill_between(list_time_budget, mean_ksd_curve_sgnht_baseline+2*sd_ksd_curve_sgnht_baseline, \n",
    "                 mean_ksd_curve_sgnht_baseline-2*sd_ksd_curve_sgnht_baseline, alpha=0.1, color='b')\n",
    "\n",
    "plt.title(\"SGNHT sampler\", size=23)\n",
    "plt.ylabel(\"KSD\", size=19)\n",
    "plt.xlabel(\"time budget (seconds)\", size=19)\n",
    "plt.legend(fontsize=16)\n",
    "# plt.savefig(\"images/sgld_ksd_curves_R1_R5_n90.png\")"
   ]
  },
  {
   "cell_type": "code",
   "execution_count": 103,
   "id": "b9df8622",
   "metadata": {},
   "outputs": [
    {
     "data": {
      "text/plain": [
       "<matplotlib.legend.Legend at 0x7fc134971dc0>"
      ]
     },
     "execution_count": 103,
     "metadata": {},
     "output_type": "execute_result"
    },
    {
     "data": {
      "image/png": "[encoded data removed]",
      "text/plain": [
       "<Figure size 576x432 with 1 Axes>"
      ]
     },
     "metadata": {
      "needs_background": "light"
     },
     "output_type": "display_data"
    }
   ],
   "source": [
    "plt.rcParams.update({'font.size':17})\n",
    "\n",
    "max_time_budget = 8\n",
    "\n",
    "plt.figure(figsize=(8, 6))\n",
    "\n",
    "plt.plot(list_time_budget, mean_ksd_curve_sgnhtCV_mamba, marker=\"+\", markersize=15, \n",
    "         c='r', label=\"MAMBA\")\n",
    "plt.fill_between(list_time_budget, mean_ksd_curve_sgnhtCV_mamba+2*sd_ksd_curve_sgnhtCV_mamba, \n",
    "                 mean_ksd_curve_sgnhtCV_mamba-2*sd_ksd_curve_sgnhtCV_mamba, alpha=0.1, color='r')\n",
    "\n",
    "plt.plot(list_time_budget, mean_ksd_curve_sgnhtCV_gridsearch, marker=\"o\", markersize=15, \n",
    "         c='g', label=\"gridsearch\")\n",
    "plt.fill_between(list_time_budget, mean_ksd_curve_sgnhtCV_gridsearch+2*sd_ksd_curve_sgnhtCV_gridsearch, \n",
    "                 mean_ksd_curve_sgnhtCV_gridsearch-2*sd_ksd_curve_sgnhtCV_gridsearch, alpha=0.1, color='g')\n",
    "\n",
    "plt.plot(list_time_budget, mean_ksd_curve_sgnhtCV_baseline, marker=\"x\", markersize=15, \n",
    "         c='b', label=\"baseline\")\n",
    "plt.fill_between(list_time_budget, mean_ksd_curve_sgnhtCV_baseline+2*sd_ksd_curve_sgnhtCV_baseline, \n",
    "                 mean_ksd_curve_sgnhtCV_baseline-2*sd_ksd_curve_sgnhtCV_baseline, alpha=0.1, color='b')\n",
    "\n",
    "plt.title(\"SGNHT-CV sampler\", size=23)\n",
    "plt.ylabel(\"KSD\", size=19)\n",
    "plt.xlabel(\"time budget (seconds)\", size=19)\n",
    "plt.legend(fontsize=16)\n",
    "# plt.savefig(\"images/sgld_ksd_curves_R1_R5_n90.png\")"
   ]
  },
  {
   "cell_type": "code",
   "execution_count": null,
   "id": "41c7a049",
   "metadata": {},
   "outputs": [],
   "source": []
  },
  {
   "cell_type": "code",
   "execution_count": null,
   "id": "ee202042",
   "metadata": {},
   "outputs": [],
   "source": []
  }
 ],
 "metadata": {
  "kernelspec": {
   "display_name": "Python 3",
   "language": "python",
   "name": "python3"
  },
  "language_info": {
   "codemirror_mode": {
    "name": "ipython",
    "version": 3
   },
   "file_extension": ".py",
   "mimetype": "text/x-python",
   "name": "python",
   "nbconvert_exporter": "python",
   "pygments_lexer": "ipython3",
   "version": "3.8.2"
  }
 },
 "nbformat": 4,
 "nbformat_minor": 5
}
