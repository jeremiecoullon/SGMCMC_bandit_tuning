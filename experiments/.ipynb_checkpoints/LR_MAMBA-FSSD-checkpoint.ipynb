{
 "cells": [
  {
   "cell_type": "code",
   "execution_count": 1,
   "id": "906fd9ec",
   "metadata": {},
   "outputs": [
    {
     "name": "stderr",
     "output_type": "stream",
     "text": [
      "WARNING:absl:No GPU/TPU found, falling back to CPU. (Set TF_CPP_MIN_LOG_LEVEL=0 and rerun for more info.)\n"
     ]
    }
   ],
   "source": [
    "%matplotlib inline\n",
    "import matplotlib.pyplot as plt\n",
    "import numpy as np\n",
    "\n",
    "import jax.numpy as jnp\n",
    "from jax import jit, random, vmap\n",
    "\n",
    "from sgmcmcjax.kernels import build_sgld_kernel, build_sghmc_kernel, build_sgnht_kernel\n",
    "from sgmcmcjax.kernels import build_sgldCV_kernel, build_sghmcCV_kernel, build_sgnhtCV_kernel\n",
    "from sgmcmcjax.optimizer import build_adam_optimizer\n",
    "from sgmcmcjax.util import build_grad_log_post\n",
    "\n",
    "import context\n",
    "from models.logistic_regression.logistic_regression_model import gen_data, loglikelihood, logprior\n",
    "from tuning.mamba import run_MAMBA\n",
    "from tuning.ksd import FSSD_opt, imq_KSD, get_test_locations, linear_imq_KSD\n"
   ]
  },
  {
   "cell_type": "markdown",
   "id": "a01ea2b4",
   "metadata": {},
   "source": [
    "# Logistic regression - MAMBA"
   ]
  },
  {
   "cell_type": "code",
   "execution_count": 2,
   "id": "dd0b7388",
   "metadata": {},
   "outputs": [
    {
     "name": "stdout",
     "output_type": "stream",
     "text": [
      "generating data, with N=1,000,000 and dim=10\n",
      "(800000, 10) (200000, 10)\n"
     ]
    }
   ],
   "source": [
    "\n",
    "\n",
    "key = random.PRNGKey(42)\n",
    "dim = 10\n",
    "# Ndata = 100_000\n",
    "Ndata = 1_000_000\n",
    "\n",
    "theta_true, X, y_data = gen_data(key, dim, Ndata)\n",
    "\n",
    "# testing and training data\n",
    "num_train = int(Ndata*0.8)\n",
    "\n",
    "X_train = X[:num_train]\n",
    "X_test = X[num_train:]\n",
    "\n",
    "y_train = y_data[:num_train]\n",
    "y_test = y_data[num_train:]\n",
    "print(X_train.shape, X_test.shape)\n",
    "data = (X_train, y_train)\n"
   ]
  },
  {
   "cell_type": "code",
   "execution_count": 5,
   "id": "ad7130b3",
   "metadata": {},
   "outputs": [
    {
     "data": {
      "application/vnd.jupyter.widget-view+json": {
       "model_id": "e9bcd2d3abea4067aefd524634ab7efd",
       "version_major": 2,
       "version_minor": 0
      },
      "text/plain": [
       "HBox(children=(HTML(value=''), FloatProgress(value=0.0, max=5000.0), HTML(value='')))"
      ]
     },
     "metadata": {},
     "output_type": "display_data"
    },
    {
     "name": "stdout",
     "output_type": "stream",
     "text": [
      "\n"
     ]
    }
   ],
   "source": [
    "# get MAP\n",
    "batch_size = int(0.01*X_train.shape[0])\n",
    "run_adam = build_adam_optimizer(1e-2, loglikelihood, logprior, data, batch_size)\n",
    "key = random.PRNGKey(0)\n",
    "centering_value, logpost_array = run_adam(key, 5000, jnp.zeros(dim))\n",
    "params_IC = centering_value\n",
    "\n",
    "fixed_bs = int(0.1*X_train.shape[0])\n",
    "\n",
    "# T = 10\n",
    "R = 2 # running time of longest sampler\n",
    "\n",
    "error_fn = lambda x,y: FSSD_opt(x, y, get_test_locations(x), 100)\n",
    "# error_fn = lambda x,y: imq_KSD(x, y)\n",
    "# error_fn = lambda x,y: linear_imq_KSD(x, y)\n",
    "\n",
    "logdt_range = -jnp.arange(1., 8., 0.5) \n",
    "# batch_size_range = [int(10**(-elem)*X_train.shape[0]) for elem in range(0, 5)]\n",
    "batch_size_range = [int(10**(-elem)*X_train.shape[0]) for elem in range(0, 3)]\n"
   ]
  },
  {
   "cell_type": "code",
   "execution_count": 6,
   "id": "51678d6a",
   "metadata": {},
   "outputs": [
    {
     "data": {
      "text/plain": [
       "[800000, 80000, 8000]"
      ]
     },
     "execution_count": 6,
     "metadata": {},
     "output_type": "execute_result"
    }
   ],
   "source": [
    "batch_size_range"
   ]
  },
  {
   "cell_type": "code",
   "execution_count": 7,
   "id": "e1d39a1d",
   "metadata": {},
   "outputs": [],
   "source": [
    "grad_log_post_fb = build_grad_log_post(loglikelihood, logprior, data)\n",
    "\n",
    "def grad_lp_LR_fb(theta):\n",
    "    return grad_log_post_fb(theta, X_train, y_train)\n",
    "\n",
    "batch_grad_lp_LR_fb = jit(vmap(grad_lp_LR_fb))\n",
    "\n",
    "@jit\n",
    "def get_fb_grads(samples):\n",
    "    thin = 10\n",
    "    array_samples = jnp.array(samples[::thin])\n",
    "    mygrads = batch_grad_lp_LR_fb(array_samples)\n",
    "    return array_samples, mygrads"
   ]
  },
  {
   "cell_type": "code",
   "execution_count": null,
   "id": "f2359b89",
   "metadata": {},
   "outputs": [],
   "source": []
  },
  {
   "cell_type": "markdown",
   "id": "912e1f22",
   "metadata": {},
   "source": [
    "### run MAMBA"
   ]
  },
  {
   "cell_type": "code",
   "execution_count": 10,
   "id": "01a71a00",
   "metadata": {},
   "outputs": [
    {
     "data": {
      "application/vnd.jupyter.widget-view+json": {
       "model_id": "cd1ee4825df04a038d89ad6eccb31b29",
       "version_major": 2,
       "version_minor": 0
      },
      "text/plain": [
       "HBox(children=(HTML(value='Iteration 1/3, 42 arms, time budget = 0.15 sec'), FloatProgress(value=0.0, max=42.0…"
      ]
     },
     "metadata": {},
     "output_type": "display_data"
    },
    {
     "name": "stdout",
     "output_type": "stream",
     "text": [
      "Hyperparams: {'batch_size': 800000, 'dt': 0.1}., sample shape=(2, 10). metric: inf\n",
      "Hyperparams: {'batch_size': 800000, 'dt': 0.031622775}., sample shape=(2, 10). metric: inf\n",
      "Hyperparams: {'batch_size': 800000, 'dt': 0.01}., sample shape=(2, 10). metric: inf\n",
      "Hyperparams: {'batch_size': 800000, 'dt': 0.0031622776}., sample shape=(2, 10). metric: inf\n",
      "Hyperparams: {'batch_size': 800000, 'dt': 0.001}., sample shape=(2, 10). metric: inf\n",
      "Hyperparams: {'batch_size': 800000, 'dt': 0.00031622776}., sample shape=(2, 10). metric: inf\n",
      "Hyperparams: {'batch_size': 800000, 'dt': 1e-04}., sample shape=(2, 10). metric: inf\n",
      "Hyperparams: {'batch_size': 800000, 'dt': 3.1622778e-05}., sample shape=(2, 10). metric: inf\n",
      "Hyperparams: {'batch_size': 800000, 'dt': 1e-05}., sample shape=(2, 10). metric: 59201\n",
      "Hyperparams: {'batch_size': 800000, 'dt': 3.1622776e-06}., sample shape=(2, 10). metric: -87406\n",
      "Hyperparams: {'batch_size': 800000, 'dt': 1e-06}., sample shape=(2, 10). metric: 390315\n",
      "Hyperparams: {'batch_size': 800000, 'dt': 3.1622776e-07}., sample shape=(2, 10). metric: 889924\n",
      "Hyperparams: {'batch_size': 800000, 'dt': 1e-07}., sample shape=(2, 10). metric: 986112\n",
      "Hyperparams: {'batch_size': 800000, 'dt': 3.1622776e-08}., sample shape=(2, 10). metric: 1007041\n",
      "Hyperparams: {'batch_size': 80000, 'dt': 0.1}., sample shape=(5, 10). metric: inf\n",
      "Hyperparams: {'batch_size': 80000, 'dt': 0.031622775}., sample shape=(5, 10). metric: inf\n",
      "Hyperparams: {'batch_size': 80000, 'dt': 0.01}., sample shape=(5, 10). metric: inf\n",
      "Hyperparams: {'batch_size': 80000, 'dt': 0.0031622776}., sample shape=(6, 10). metric: inf\n",
      "Hyperparams: {'batch_size': 80000, 'dt': 0.001}., sample shape=(5, 10). metric: inf\n",
      "Hyperparams: {'batch_size': 80000, 'dt': 0.00031622776}., sample shape=(5, 10). metric: inf\n",
      "Hyperparams: {'batch_size': 80000, 'dt': 1e-04}., sample shape=(6, 10). metric: inf\n",
      "Hyperparams: {'batch_size': 80000, 'dt': 3.1622778e-05}., sample shape=(5, 10). metric: inf\n",
      "Hyperparams: {'batch_size': 80000, 'dt': 1e-05}., sample shape=(6, 10). metric: -3375\n",
      "Hyperparams: {'batch_size': 80000, 'dt': 3.1622776e-06}., sample shape=(6, 10). metric: 2621\n",
      "Hyperparams: {'batch_size': 80000, 'dt': 1e-06}., sample shape=(5, 10). metric: 88772\n",
      "Hyperparams: {'batch_size': 80000, 'dt': 3.1622776e-07}., sample shape=(5, 10). metric: 349708\n",
      "Hyperparams: {'batch_size': 80000, 'dt': 1e-07}., sample shape=(5, 10). metric: 765296\n",
      "Hyperparams: {'batch_size': 80000, 'dt': 3.1622776e-08}., sample shape=(5, 10). metric: 1010770\n",
      "Hyperparams: {'batch_size': 8000, 'dt': 0.1}., sample shape=(31, 10). metric: 382\n",
      "Hyperparams: {'batch_size': 8000, 'dt': 0.031622775}., sample shape=(29, 10). metric: 468\n",
      "Hyperparams: {'batch_size': 8000, 'dt': 0.01}., sample shape=(29, 10). metric: 10452\n",
      "Hyperparams: {'batch_size': 8000, 'dt': 0.0031622776}., sample shape=(31, 10). metric: 152571\n",
      "Hyperparams: {'batch_size': 8000, 'dt': 0.001}., sample shape=(30, 10). metric: 908663\n",
      "Hyperparams: {'batch_size': 8000, 'dt': 0.00031622776}., sample shape=(29, 10). metric: 19700630\n",
      "Hyperparams: {'batch_size': 8000, 'dt': 1e-04}., sample shape=(24, 10). metric: 73814176\n",
      "Hyperparams: {'batch_size': 8000, 'dt': 3.1622778e-05}., sample shape=(30, 10). metric: 10937862\n",
      "Hyperparams: {'batch_size': 8000, 'dt': 1e-05}., sample shape=(30, 10). metric: 20580\n",
      "Hyperparams: {'batch_size': 8000, 'dt': 3.1622776e-06}., sample shape=(30, 10). metric: 23090\n",
      "Hyperparams: {'batch_size': 8000, 'dt': 1e-06}., sample shape=(33, 10). metric: 14003\n",
      "Hyperparams: {'batch_size': 8000, 'dt': 3.1622776e-07}., sample shape=(32, 10). metric: 54498\n",
      "Hyperparams: {'batch_size': 8000, 'dt': 1e-07}., sample shape=(29, 10). metric: 189717\n",
      "Hyperparams: {'batch_size': 8000, 'dt': 3.1622776e-08}., sample shape=(31, 10). metric: 620585\n",
      "\n",
      "Number of samples: [2, 6, 31, 29, 6, 29, 33, 30, 30, 32, 2, 5, 31, 29]\n"
     ]
    },
    {
     "data": {
      "application/vnd.jupyter.widget-view+json": {
       "model_id": "8934d598fedf4557a78b73fc52821ea7",
       "version_major": 2,
       "version_minor": 0
      },
      "text/plain": [
       "HBox(children=(HTML(value='Iteration 2/3, 14 arms, time budget = 0.46 sec'), FloatProgress(value=0.0, max=14.0…"
      ]
     },
     "metadata": {},
     "output_type": "display_data"
    },
    {
     "name": "stdout",
     "output_type": "stream",
     "text": [
      "Hyperparams: {'batch_size': 800000, 'dt': 3.1622776e-06}., sample shape=(8, 10). metric: 12121\n",
      "Hyperparams: {'batch_size': 80000, 'dt': 1e-05}., sample shape=(22, 10). metric: 1045\n",
      "Hyperparams: {'batch_size': 8000, 'dt': 0.1}., sample shape=(129, 10). metric: 409\n",
      "Hyperparams: {'batch_size': 8000, 'dt': 0.031622775}., sample shape=(125, 10). metric: 3455\n",
      "Hyperparams: {'batch_size': 80000, 'dt': 3.1622776e-06}., sample shape=(22, 10). metric: 3257\n",
      "Hyperparams: {'batch_size': 8000, 'dt': 0.01}., sample shape=(128, 10). metric: 16690\n",
      "Hyperparams: {'batch_size': 8000, 'dt': 1e-06}., sample shape=(132, 10). metric: 4945\n",
      "Hyperparams: {'batch_size': 8000, 'dt': 1e-05}., sample shape=(132, 10). metric: -2941\n",
      "Hyperparams: {'batch_size': 8000, 'dt': 3.1622776e-06}., sample shape=(127, 10). metric: 3197\n",
      "Hyperparams: {'batch_size': 8000, 'dt': 3.1622776e-07}., sample shape=(128, 10). metric: 11510\n",
      "Hyperparams: {'batch_size': 800000, 'dt': 1e-05}., sample shape=(8, 10). metric: 1837\n",
      "Hyperparams: {'batch_size': 80000, 'dt': 1e-06}., sample shape=(21, 10). metric: 5897\n",
      "Hyperparams: {'batch_size': 8000, 'dt': 0.0031622776}., sample shape=(129, 10). metric: 209587\n",
      "Hyperparams: {'batch_size': 8000, 'dt': 1e-07}., sample shape=(132, 10). metric: 11261\n",
      "\n",
      "Number of samples: [132, 129, 22, 8]\n"
     ]
    },
    {
     "data": {
      "application/vnd.jupyter.widget-view+json": {
       "model_id": "abc3816833fc41518f480d46a1b02d77",
       "version_major": 2,
       "version_minor": 0
      },
      "text/plain": [
       "HBox(children=(HTML(value='Iteration 3/3, 4 arms, time budget = 1.62 sec'), FloatProgress(value=0.0, max=4.0),…"
      ]
     },
     "metadata": {},
     "output_type": "display_data"
    },
    {
     "name": "stdout",
     "output_type": "stream",
     "text": [
      "Hyperparams: {'batch_size': 8000, 'dt': 1e-05}., sample shape=(485, 10). metric: 451\n",
      "Hyperparams: {'batch_size': 8000, 'dt': 0.1}., sample shape=(475, 10). metric: 489\n",
      "Hyperparams: {'batch_size': 80000, 'dt': 1e-05}., sample shape=(75, 10). metric: -1233\n",
      "Hyperparams: {'batch_size': 800000, 'dt': 1e-05}., sample shape=(29, 10). metric: -1314\n",
      "\n",
      "Number of samples: [29]\n",
      "Running time: 117.0 sec\n",
      "{'batch_size': 800000, 'dt': 1e-05} -1313.6257 (29, 10)\n"
     ]
    }
   ],
   "source": [
    "build_kernel = lambda dt, batch_size: build_sgld_kernel(dt, loglikelihood, logprior, data, batch_size)\n",
    "\n",
    "grid_params = {'log_dt': logdt_range, \n",
    "               'batch_size': batch_size_range\n",
    "              }\n",
    "\n",
    "# build_kernel = lambda dt: build_sgld_kernel(dt, loglikelihood, logprior, data, fixed_bs)\n",
    "# grid_params = {'log_dt': logdt_range}\n",
    "best_arm = run_MAMBA(key, build_kernel, error_fn, R, params_IC, grid_params=grid_params, get_fb_grads=get_fb_grads)\n",
    "\n",
    "print(best_arm.hyperparameters, best_arm.metric, best_arm.samples.shape)"
   ]
  },
  {
   "cell_type": "code",
   "execution_count": null,
   "id": "d89f8171",
   "metadata": {},
   "outputs": [],
   "source": []
  },
  {
   "cell_type": "code",
   "execution_count": 14,
   "id": "bacbc413",
   "metadata": {
    "collapsed": true
   },
   "outputs": [
    {
     "data": {
      "application/vnd.jupyter.widget-view+json": {
       "model_id": "e88dba93ed564ea696b1fa1180aa25ed",
       "version_major": 2,
       "version_minor": 0
      },
      "text/plain": [
       "HBox(children=(HTML(value='Iteration 1/3, 42 arms, time budget = 0.15 sec'), FloatProgress(value=0.0, max=42.0…"
      ]
     },
     "metadata": {},
     "output_type": "display_data"
    },
    {
     "name": "stdout",
     "output_type": "stream",
     "text": [
      "Hyperparams: {'batch_size': 800000, 'dt': 0.1}., sample shape=(1, 10). metric: inf\n",
      "Hyperparams: {'batch_size': 800000, 'dt': 0.031622775}., sample shape=(1, 10). metric: inf\n",
      "Hyperparams: {'batch_size': 800000, 'dt': 0.01}., sample shape=(1, 10). metric: inf\n",
      "Hyperparams: {'batch_size': 800000, 'dt': 0.0031622776}., sample shape=(1, 10). metric: inf\n",
      "Hyperparams: {'batch_size': 800000, 'dt': 0.001}., sample shape=(1, 10). metric: inf\n",
      "Hyperparams: {'batch_size': 800000, 'dt': 0.00031622776}., sample shape=(1, 10). metric: inf\n",
      "Hyperparams: {'batch_size': 800000, 'dt': 1e-04}., sample shape=(1, 10). metric: inf\n",
      "Hyperparams: {'batch_size': 800000, 'dt': 3.1622778e-05}., sample shape=(1, 10). metric: inf\n",
      "Hyperparams: {'batch_size': 800000, 'dt': 1e-05}., sample shape=(1, 10). metric: inf\n",
      "Hyperparams: {'batch_size': 800000, 'dt': 3.1622776e-06}., sample shape=(1, 10). metric: inf\n",
      "Hyperparams: {'batch_size': 800000, 'dt': 1e-06}., sample shape=(1, 10). metric: inf\n",
      "Hyperparams: {'batch_size': 800000, 'dt': 3.1622776e-07}., sample shape=(1, 10). metric: inf\n",
      "Hyperparams: {'batch_size': 800000, 'dt': 1e-07}., sample shape=(1, 10). metric: inf\n",
      "Hyperparams: {'batch_size': 800000, 'dt': 3.1622776e-08}., sample shape=(1, 10). metric: inf\n",
      "Hyperparams: {'batch_size': 80000, 'dt': 0.1}., sample shape=(4, 10). metric: inf\n",
      "Hyperparams: {'batch_size': 80000, 'dt': 0.031622775}., sample shape=(4, 10). metric: inf\n",
      "Hyperparams: {'batch_size': 80000, 'dt': 0.01}., sample shape=(4, 10). metric: inf\n",
      "Hyperparams: {'batch_size': 80000, 'dt': 0.0031622776}., sample shape=(4, 10). metric: inf\n",
      "Hyperparams: {'batch_size': 80000, 'dt': 0.001}., sample shape=(5, 10). metric: inf\n",
      "Hyperparams: {'batch_size': 80000, 'dt': 0.00031622776}., sample shape=(4, 10). metric: inf\n",
      "Hyperparams: {'batch_size': 80000, 'dt': 1e-04}., sample shape=(5, 10). metric: inf\n",
      "Hyperparams: {'batch_size': 80000, 'dt': 3.1622778e-05}., sample shape=(5, 10). metric: inf\n",
      "Hyperparams: {'batch_size': 80000, 'dt': 1e-05}., sample shape=(4, 10). metric: -957\n",
      "Hyperparams: {'batch_size': 80000, 'dt': 3.1622776e-06}., sample shape=(4, 10). metric: 42984\n",
      "Hyperparams: {'batch_size': 80000, 'dt': 1e-06}., sample shape=(5, 10). metric: 90489\n",
      "Hyperparams: {'batch_size': 80000, 'dt': 3.1622776e-07}., sample shape=(4, 10). metric: 452586\n",
      "Hyperparams: {'batch_size': 80000, 'dt': 1e-07}., sample shape=(4, 10). metric: 806007\n",
      "Hyperparams: {'batch_size': 80000, 'dt': 3.1622776e-08}., sample shape=(4, 10). metric: 1018705\n",
      "Hyperparams: {'batch_size': 8000, 'dt': 0.1}., sample shape=(25, 10). metric: 225\n",
      "Hyperparams: {'batch_size': 8000, 'dt': 0.031622775}., sample shape=(28, 10). metric: 1613\n",
      "Hyperparams: {'batch_size': 8000, 'dt': 0.01}., sample shape=(28, 10). metric: 17476\n",
      "Hyperparams: {'batch_size': 8000, 'dt': 0.0031622776}., sample shape=(28, 10). metric: 353900\n",
      "Hyperparams: {'batch_size': 8000, 'dt': 0.001}., sample shape=(28, 10). metric: 1554799\n",
      "Hyperparams: {'batch_size': 8000, 'dt': 0.00031622776}., sample shape=(28, 10). metric: 27127618\n",
      "Hyperparams: {'batch_size': 8000, 'dt': 1e-04}., sample shape=(28, 10). metric: 178440336\n",
      "Hyperparams: {'batch_size': 8000, 'dt': 3.1622778e-05}., sample shape=(27, 10). metric: 138791040\n",
      "Hyperparams: {'batch_size': 8000, 'dt': 1e-05}., sample shape=(28, 10). metric: -777\n",
      "Hyperparams: {'batch_size': 8000, 'dt': 3.1622776e-06}., sample shape=(28, 10). metric: 512\n",
      "Hyperparams: {'batch_size': 8000, 'dt': 1e-06}., sample shape=(28, 10). metric: 11065\n",
      "Hyperparams: {'batch_size': 8000, 'dt': 3.1622776e-07}., sample shape=(28, 10). metric: 32554\n",
      "Hyperparams: {'batch_size': 8000, 'dt': 1e-07}., sample shape=(28, 10). metric: 243195\n",
      "Hyperparams: {'batch_size': 8000, 'dt': 3.1622776e-08}., sample shape=(28, 10). metric: 607132\n",
      "\n",
      "Number of samples: [4, 28, 25, 28, 28, 28, 28, 28, 4, 5, 28, 28, 4, 28]\n"
     ]
    },
    {
     "data": {
      "application/vnd.jupyter.widget-view+json": {
       "model_id": "cc113eba6a644fdabd4b80a911585489",
       "version_major": 2,
       "version_minor": 0
      },
      "text/plain": [
       "HBox(children=(HTML(value='Iteration 2/3, 14 arms, time budget = 0.46 sec'), FloatProgress(value=0.0, max=14.0…"
      ]
     },
     "metadata": {},
     "output_type": "display_data"
    },
    {
     "name": "stdout",
     "output_type": "stream",
     "text": [
      "Hyperparams: {'batch_size': 80000, 'dt': 1e-05}., sample shape=(18, 10). metric: 986\n",
      "Hyperparams: {'batch_size': 8000, 'dt': 1e-05}., sample shape=(116, 10). metric: 244\n",
      "Hyperparams: {'batch_size': 8000, 'dt': 0.1}., sample shape=(110, 10). metric: 610\n",
      "Hyperparams: {'batch_size': 8000, 'dt': 3.1622776e-06}., sample shape=(113, 10). metric: 329\n",
      "Hyperparams: {'batch_size': 8000, 'dt': 0.031622775}., sample shape=(115, 10). metric: 4000\n",
      "Hyperparams: {'batch_size': 8000, 'dt': 1e-06}., sample shape=(113, 10). metric: 3027\n",
      "Hyperparams: {'batch_size': 8000, 'dt': 0.01}., sample shape=(117, 10). metric: 43135\n",
      "Hyperparams: {'batch_size': 8000, 'dt': 3.1622776e-07}., sample shape=(112, 10). metric: 8560\n",
      "Hyperparams: {'batch_size': 80000, 'dt': 3.1622776e-06}., sample shape=(18, 10). metric: 1542\n",
      "Hyperparams: {'batch_size': 80000, 'dt': 1e-06}., sample shape=(21, 10). metric: 1838\n",
      "Hyperparams: {'batch_size': 8000, 'dt': 1e-07}., sample shape=(116, 10). metric: 2294\n",
      "Hyperparams: {'batch_size': 8000, 'dt': 0.0031622776}., sample shape=(117, 10). metric: 450917\n",
      "Hyperparams: {'batch_size': 80000, 'dt': 3.1622776e-07}., sample shape=(17, 10). metric: 29562\n",
      "Hyperparams: {'batch_size': 8000, 'dt': 3.1622776e-08}., sample shape=(117, 10). metric: 76894\n",
      "\n",
      "Number of samples: [116, 113, 110, 18]\n"
     ]
    },
    {
     "data": {
      "application/vnd.jupyter.widget-view+json": {
       "model_id": "3aa4147998c54a8abfd630b1d3bd3c40",
       "version_major": 2,
       "version_minor": 0
      },
      "text/plain": [
       "HBox(children=(HTML(value='Iteration 3/3, 4 arms, time budget = 1.62 sec'), FloatProgress(value=0.0, max=4.0),…"
      ]
     },
     "metadata": {},
     "output_type": "display_data"
    },
    {
     "name": "stdout",
     "output_type": "stream",
     "text": [
      "Hyperparams: {'batch_size': 8000, 'dt': 1e-05}., sample shape=(428, 10). metric: -30\n",
      "Hyperparams: {'batch_size': 8000, 'dt': 3.1622776e-06}., sample shape=(421, 10). metric: 152\n",
      "Hyperparams: {'batch_size': 8000, 'dt': 0.1}., sample shape=(418, 10). metric: 659\n",
      "Hyperparams: {'batch_size': 80000, 'dt': 1e-05}., sample shape=(66, 10). metric: -205\n",
      "\n",
      "Number of samples: [66]\n",
      "Running time: 110.0 sec\n",
      "{'batch_size': 80000, 'dt': 1e-05} -204.73564 (66, 10)\n"
     ]
    }
   ],
   "source": [
    "build_kernel = lambda dt, batch_size: build_sgldCV_kernel(dt, loglikelihood, \n",
    "                                                  logprior, data, batch_size, centering_value)\n",
    "\n",
    "# build_kernel = lambda dt: build_sgldCV_kernel(dt, loglikelihood, \n",
    "#                                           logprior, data, fixed_bs, centering_value)\n",
    "# grid_params = {'log_dt': logdt_range}\n",
    "\n",
    "best_arm = run_MAMBA(key, build_kernel, error_fn, R, params_IC, \n",
    "                     grid_params=grid_params, get_fb_grads=get_fb_grads)\n",
    "\n",
    "print(best_arm.hyperparameters, best_arm.metric, best_arm.samples.shape)"
   ]
  },
  {
   "cell_type": "code",
   "execution_count": 16,
   "id": "6c0a862d",
   "metadata": {
    "collapsed": true
   },
   "outputs": [
    {
     "data": {
      "application/vnd.jupyter.widget-view+json": {
       "model_id": "79f03ac49503416b83d6796c7049e3f2",
       "version_major": 2,
       "version_minor": 0
      },
      "text/plain": [
       "HBox(children=(HTML(value='Iteration 1/4, 84 arms, time budget = 0.05 sec'), FloatProgress(value=0.0, max=84.0…"
      ]
     },
     "metadata": {},
     "output_type": "display_data"
    },
    {
     "name": "stdout",
     "output_type": "stream",
     "text": [
      "Hyperparams: {'batch_size': 800000, 'L': 5, 'dt': 0.1}., sample shape=(1, 10). metric: inf\n",
      "Hyperparams: {'batch_size': 800000, 'L': 5, 'dt': 0.031622775}., sample shape=(1, 10). metric: inf\n",
      "Hyperparams: {'batch_size': 800000, 'L': 5, 'dt': 0.01}., sample shape=(1, 10). metric: inf\n",
      "Hyperparams: {'batch_size': 800000, 'L': 5, 'dt': 0.0031622776}., sample shape=(1, 10). metric: inf\n",
      "Hyperparams: {'batch_size': 800000, 'L': 5, 'dt': 0.001}., sample shape=(1, 10). metric: inf\n",
      "Hyperparams: {'batch_size': 800000, 'L': 5, 'dt': 0.00031622776}., sample shape=(1, 10). metric: inf\n",
      "Hyperparams: {'batch_size': 800000, 'L': 5, 'dt': 1e-04}., sample shape=(1, 10). metric: inf\n",
      "Hyperparams: {'batch_size': 800000, 'L': 5, 'dt': 3.1622778e-05}., sample shape=(1, 10). metric: inf\n",
      "Hyperparams: {'batch_size': 800000, 'L': 5, 'dt': 1e-05}., sample shape=(1, 10). metric: inf\n",
      "Hyperparams: {'batch_size': 800000, 'L': 5, 'dt': 3.1622776e-06}., sample shape=(1, 10). metric: inf\n",
      "Hyperparams: {'batch_size': 800000, 'L': 5, 'dt': 1e-06}., sample shape=(1, 10). metric: inf\n",
      "Hyperparams: {'batch_size': 800000, 'L': 5, 'dt': 3.1622776e-07}., sample shape=(1, 10). metric: inf\n",
      "Hyperparams: {'batch_size': 800000, 'L': 5, 'dt': 1e-07}., sample shape=(1, 10). metric: inf\n",
      "Hyperparams: {'batch_size': 800000, 'L': 5, 'dt': 3.1622776e-08}., sample shape=(1, 10). metric: inf\n",
      "Hyperparams: {'batch_size': 800000, 'L': 10, 'dt': 0.1}., sample shape=(1, 10). metric: inf\n",
      "Hyperparams: {'batch_size': 800000, 'L': 10, 'dt': 0.031622775}., sample shape=(1, 10). metric: inf\n",
      "Hyperparams: {'batch_size': 800000, 'L': 10, 'dt': 0.01}., sample shape=(1, 10). metric: inf\n",
      "Hyperparams: {'batch_size': 800000, 'L': 10, 'dt': 0.0031622776}., sample shape=(1, 10). metric: inf\n",
      "Hyperparams: {'batch_size': 800000, 'L': 10, 'dt': 0.001}., sample shape=(1, 10). metric: inf\n",
      "Hyperparams: {'batch_size': 800000, 'L': 10, 'dt': 0.00031622776}., sample shape=(1, 10). metric: inf\n",
      "Hyperparams: {'batch_size': 800000, 'L': 10, 'dt': 1e-04}., sample shape=(1, 10). metric: inf\n",
      "Hyperparams: {'batch_size': 800000, 'L': 10, 'dt': 3.1622778e-05}., sample shape=(1, 10). metric: inf\n",
      "Hyperparams: {'batch_size': 800000, 'L': 10, 'dt': 1e-05}., sample shape=(1, 10). metric: inf\n",
      "Hyperparams: {'batch_size': 800000, 'L': 10, 'dt': 3.1622776e-06}., sample shape=(1, 10). metric: inf\n",
      "Hyperparams: {'batch_size': 800000, 'L': 10, 'dt': 1e-06}., sample shape=(1, 10). metric: inf\n",
      "Hyperparams: {'batch_size': 800000, 'L': 10, 'dt': 3.1622776e-07}., sample shape=(1, 10). metric: inf\n",
      "Hyperparams: {'batch_size': 800000, 'L': 10, 'dt': 1e-07}., sample shape=(1, 10). metric: inf\n",
      "Hyperparams: {'batch_size': 800000, 'L': 10, 'dt': 3.1622776e-08}., sample shape=(1, 10). metric: inf\n",
      "Hyperparams: {'batch_size': 80000, 'L': 5, 'dt': 0.1}., sample shape=(1, 10). metric: inf\n",
      "Hyperparams: {'batch_size': 80000, 'L': 5, 'dt': 0.031622775}., sample shape=(1, 10). metric: inf\n",
      "Hyperparams: {'batch_size': 80000, 'L': 5, 'dt': 0.01}., sample shape=(1, 10). metric: inf\n",
      "Hyperparams: {'batch_size': 80000, 'L': 5, 'dt': 0.0031622776}., sample shape=(1, 10). metric: inf\n",
      "Hyperparams: {'batch_size': 80000, 'L': 5, 'dt': 0.001}., sample shape=(1, 10). metric: inf\n",
      "Hyperparams: {'batch_size': 80000, 'L': 5, 'dt': 0.00031622776}., sample shape=(1, 10). metric: inf\n",
      "Hyperparams: {'batch_size': 80000, 'L': 5, 'dt': 1e-04}., sample shape=(1, 10). metric: inf\n",
      "Hyperparams: {'batch_size': 80000, 'L': 5, 'dt': 3.1622778e-05}., sample shape=(1, 10). metric: inf\n",
      "Hyperparams: {'batch_size': 80000, 'L': 5, 'dt': 1e-05}., sample shape=(1, 10). metric: inf\n",
      "Hyperparams: {'batch_size': 80000, 'L': 5, 'dt': 3.1622776e-06}., sample shape=(1, 10). metric: inf\n",
      "Hyperparams: {'batch_size': 80000, 'L': 5, 'dt': 1e-06}., sample shape=(1, 10). metric: inf\n",
      "Hyperparams: {'batch_size': 80000, 'L': 5, 'dt': 3.1622776e-07}., sample shape=(1, 10). metric: inf\n",
      "Hyperparams: {'batch_size': 80000, 'L': 5, 'dt': 1e-07}., sample shape=(1, 10). metric: inf\n",
      "Hyperparams: {'batch_size': 80000, 'L': 5, 'dt': 3.1622776e-08}., sample shape=(1, 10). metric: inf\n",
      "Hyperparams: {'batch_size': 80000, 'L': 10, 'dt': 0.1}., sample shape=(1, 10). metric: inf\n",
      "Hyperparams: {'batch_size': 80000, 'L': 10, 'dt': 0.031622775}., sample shape=(1, 10). metric: inf\n",
      "Hyperparams: {'batch_size': 80000, 'L': 10, 'dt': 0.01}., sample shape=(1, 10). metric: inf\n",
      "Hyperparams: {'batch_size': 80000, 'L': 10, 'dt': 0.0031622776}., sample shape=(1, 10). metric: inf\n",
      "Hyperparams: {'batch_size': 80000, 'L': 10, 'dt': 0.001}., sample shape=(1, 10). metric: inf\n",
      "Hyperparams: {'batch_size': 80000, 'L': 10, 'dt': 0.00031622776}., sample shape=(1, 10). metric: inf\n",
      "Hyperparams: {'batch_size': 80000, 'L': 10, 'dt': 1e-04}., sample shape=(1, 10). metric: inf\n",
      "Hyperparams: {'batch_size': 80000, 'L': 10, 'dt': 3.1622778e-05}., sample shape=(1, 10). metric: inf\n",
      "Hyperparams: {'batch_size': 80000, 'L': 10, 'dt': 1e-05}., sample shape=(1, 10). metric: inf\n",
      "Hyperparams: {'batch_size': 80000, 'L': 10, 'dt': 3.1622776e-06}., sample shape=(1, 10). metric: inf\n",
      "Hyperparams: {'batch_size': 80000, 'L': 10, 'dt': 1e-06}., sample shape=(1, 10). metric: inf\n",
      "Hyperparams: {'batch_size': 80000, 'L': 10, 'dt': 3.1622776e-07}., sample shape=(1, 10). metric: inf\n",
      "Hyperparams: {'batch_size': 80000, 'L': 10, 'dt': 1e-07}., sample shape=(1, 10). metric: inf\n",
      "Hyperparams: {'batch_size': 80000, 'L': 10, 'dt': 3.1622776e-08}., sample shape=(1, 10). metric: inf\n",
      "Hyperparams: {'batch_size': 8000, 'L': 5, 'dt': 0.1}., sample shape=(3, 10). metric: inf\n",
      "Hyperparams: {'batch_size': 8000, 'L': 5, 'dt': 0.031622775}., sample shape=(3, 10). metric: inf\n",
      "Hyperparams: {'batch_size': 8000, 'L': 5, 'dt': 0.01}., sample shape=(3, 10). metric: inf\n",
      "Hyperparams: {'batch_size': 8000, 'L': 5, 'dt': 0.0031622776}., sample shape=(3, 10). metric: inf\n",
      "Hyperparams: {'batch_size': 8000, 'L': 5, 'dt': 0.001}., sample shape=(3, 10). metric: inf\n",
      "Hyperparams: {'batch_size': 8000, 'L': 5, 'dt': 0.00031622776}., sample shape=(3, 10). metric: inf\n",
      "Hyperparams: {'batch_size': 8000, 'L': 5, 'dt': 1e-04}., sample shape=(3, 10). metric: inf\n",
      "Hyperparams: {'batch_size': 8000, 'L': 5, 'dt': 3.1622778e-05}., sample shape=(3, 10). metric: inf\n",
      "Hyperparams: {'batch_size': 8000, 'L': 5, 'dt': 1e-05}., sample shape=(3, 10). metric: inf\n",
      "Hyperparams: {'batch_size': 8000, 'L': 5, 'dt': 3.1622776e-06}., sample shape=(3, 10). metric: inf\n",
      "Hyperparams: {'batch_size': 8000, 'L': 5, 'dt': 1e-06}., sample shape=(3, 10). metric: 150151\n",
      "Hyperparams: {'batch_size': 8000, 'L': 5, 'dt': 3.1622776e-07}., sample shape=(3, 10). metric: -47194\n",
      "Hyperparams: {'batch_size': 8000, 'L': 5, 'dt': 1e-07}., sample shape=(3, 10). metric: 369482\n",
      "Hyperparams: {'batch_size': 8000, 'L': 5, 'dt': 3.1622776e-08}., sample shape=(3, 10). metric: 720815\n",
      "Hyperparams: {'batch_size': 8000, 'L': 10, 'dt': 0.1}., sample shape=(2, 10). metric: inf\n",
      "Hyperparams: {'batch_size': 8000, 'L': 10, 'dt': 0.031622775}., sample shape=(2, 10). metric: inf\n",
      "Hyperparams: {'batch_size': 8000, 'L': 10, 'dt': 0.01}., sample shape=(2, 10). metric: inf\n",
      "Hyperparams: {'batch_size': 8000, 'L': 10, 'dt': 0.0031622776}., sample shape=(2, 10). metric: inf\n",
      "Hyperparams: {'batch_size': 8000, 'L': 10, 'dt': 0.001}., sample shape=(2, 10). metric: inf\n",
      "Hyperparams: {'batch_size': 8000, 'L': 10, 'dt': 0.00031622776}., sample shape=(2, 10). metric: inf\n",
      "Hyperparams: {'batch_size': 8000, 'L': 10, 'dt': 1e-04}., sample shape=(2, 10). metric: inf\n",
      "Hyperparams: {'batch_size': 8000, 'L': 10, 'dt': 3.1622778e-05}., sample shape=(2, 10). metric: inf\n",
      "Hyperparams: {'batch_size': 8000, 'L': 10, 'dt': 1e-05}., sample shape=(2, 10). metric: inf\n",
      "Hyperparams: {'batch_size': 8000, 'L': 10, 'dt': 3.1622776e-06}., sample shape=(2, 10). metric: inf\n",
      "Hyperparams: {'batch_size': 8000, 'L': 10, 'dt': 1e-06}., sample shape=(2, 10). metric: inf\n",
      "Hyperparams: {'batch_size': 8000, 'L': 10, 'dt': 3.1622776e-07}., sample shape=(2, 10). metric: -7149\n",
      "Hyperparams: {'batch_size': 8000, 'L': 10, 'dt': 1e-07}., sample shape=(2, 10). metric: -185846\n",
      "Hyperparams: {'batch_size': 8000, 'L': 10, 'dt': 3.1622776e-08}., sample shape=(2, 10). metric: 367875\n",
      "\n",
      "Number of samples: [2, 3, 2, 3, 2, 3, 3, 1, 1, 1, 1, 1, 1, 1, 1, 1, 1, 1, 1, 1, 1, 1, 1, 1, 1, 1, 1, 1]\n"
     ]
    },
    {
     "data": {
      "application/vnd.jupyter.widget-view+json": {
       "model_id": "f20e6d7fef1e44f09ed828be1b1eb17f",
       "version_major": 2,
       "version_minor": 0
      },
      "text/plain": [
       "HBox(children=(HTML(value='Iteration 2/4, 28 arms, time budget = 0.15 sec'), FloatProgress(value=0.0, max=28.0…"
      ]
     },
     "metadata": {},
     "output_type": "display_data"
    },
    {
     "name": "stdout",
     "output_type": "stream",
     "text": [
      "Hyperparams: {'batch_size': 8000, 'L': 10, 'dt': 1e-07}., sample shape=(7, 10). metric: 854\n",
      "Hyperparams: {'batch_size': 8000, 'L': 5, 'dt': 3.1622776e-07}., sample shape=(12, 10). metric: 16339\n",
      "Hyperparams: {'batch_size': 8000, 'L': 10, 'dt': 3.1622776e-07}., sample shape=(7, 10). metric: 68222\n",
      "Hyperparams: {'batch_size': 8000, 'L': 5, 'dt': 1e-06}., sample shape=(12, 10). metric: -17310\n",
      "Hyperparams: {'batch_size': 8000, 'L': 10, 'dt': 3.1622776e-08}., sample shape=(7, 10). metric: 13594\n",
      "Hyperparams: {'batch_size': 8000, 'L': 5, 'dt': 1e-07}., sample shape=(12, 10). metric: 24180\n",
      "Hyperparams: {'batch_size': 8000, 'L': 5, 'dt': 3.1622776e-08}., sample shape=(12, 10). metric: 54896\n",
      "Hyperparams: {'batch_size': 800000, 'L': 5, 'dt': 0.1}., sample shape=(2, 10). metric: inf\n",
      "Hyperparams: {'batch_size': 800000, 'L': 5, 'dt': 0.031622775}., sample shape=(2, 10). metric: inf\n",
      "Hyperparams: {'batch_size': 800000, 'L': 5, 'dt': 0.01}., sample shape=(2, 10). metric: inf\n",
      "Hyperparams: {'batch_size': 800000, 'L': 5, 'dt': 0.0031622776}., sample shape=(2, 10). metric: inf\n",
      "Hyperparams: {'batch_size': 800000, 'L': 5, 'dt': 0.001}., sample shape=(2, 10). metric: inf\n",
      "Hyperparams: {'batch_size': 800000, 'L': 5, 'dt': 0.00031622776}., sample shape=(2, 10). metric: inf\n",
      "Hyperparams: {'batch_size': 800000, 'L': 5, 'dt': 1e-04}., sample shape=(2, 10). metric: inf\n",
      "Hyperparams: {'batch_size': 800000, 'L': 5, 'dt': 3.1622778e-05}., sample shape=(2, 10). metric: inf\n",
      "Hyperparams: {'batch_size': 800000, 'L': 5, 'dt': 1e-05}., sample shape=(2, 10). metric: inf\n",
      "Hyperparams: {'batch_size': 800000, 'L': 5, 'dt': 3.1622776e-06}., sample shape=(2, 10). metric: inf\n",
      "Hyperparams: {'batch_size': 800000, 'L': 5, 'dt': 1e-06}., sample shape=(2, 10). metric: inf\n",
      "Hyperparams: {'batch_size': 800000, 'L': 5, 'dt': 3.1622776e-07}., sample shape=(2, 10). metric: inf\n",
      "Hyperparams: {'batch_size': 800000, 'L': 5, 'dt': 1e-07}., sample shape=(2, 10). metric: inf\n",
      "Hyperparams: {'batch_size': 800000, 'L': 5, 'dt': 3.1622776e-08}., sample shape=(2, 10). metric: inf\n",
      "Hyperparams: {'batch_size': 800000, 'L': 10, 'dt': 0.1}., sample shape=(2, 10). metric: inf\n",
      "Hyperparams: {'batch_size': 800000, 'L': 10, 'dt': 0.031622775}., sample shape=(2, 10). metric: inf\n",
      "Hyperparams: {'batch_size': 800000, 'L': 10, 'dt': 0.01}., sample shape=(2, 10). metric: inf\n",
      "Hyperparams: {'batch_size': 800000, 'L': 10, 'dt': 0.0031622776}., sample shape=(2, 10). metric: inf\n",
      "Hyperparams: {'batch_size': 800000, 'L': 10, 'dt': 0.001}., sample shape=(2, 10). metric: inf\n",
      "Hyperparams: {'batch_size': 800000, 'L': 10, 'dt': 0.00031622776}., sample shape=(2, 10). metric: inf\n",
      "Hyperparams: {'batch_size': 800000, 'L': 10, 'dt': 1e-04}., sample shape=(2, 10). metric: inf\n",
      "\n",
      "Number of samples: [12, 7, 7, 12, 12, 12, 7, 2, 2]\n"
     ]
    },
    {
     "data": {
      "application/vnd.jupyter.widget-view+json": {
       "model_id": "b8ca08bcc41c408abaa83dbc3cb743c5",
       "version_major": 2,
       "version_minor": 0
      },
      "text/plain": [
       "HBox(children=(HTML(value='Iteration 3/4, 9 arms, time budget = 0.47 sec'), FloatProgress(value=0.0, max=9.0),…"
      ]
     },
     "metadata": {},
     "output_type": "display_data"
    },
    {
     "name": "stdout",
     "output_type": "stream",
     "text": [
      "Hyperparams: {'batch_size': 8000, 'L': 5, 'dt': 1e-06}., sample shape=(38, 10). metric: -7961\n",
      "Hyperparams: {'batch_size': 8000, 'L': 10, 'dt': 1e-07}., sample shape=(21, 10). metric: 2740\n",
      "Hyperparams: {'batch_size': 8000, 'L': 10, 'dt': 3.1622776e-08}., sample shape=(21, 10). metric: 10702\n",
      "Hyperparams: {'batch_size': 8000, 'L': 5, 'dt': 3.1622776e-07}., sample shape=(38, 10). metric: 7042\n",
      "Hyperparams: {'batch_size': 8000, 'L': 5, 'dt': 1e-07}., sample shape=(38, 10). metric: 13704\n",
      "Hyperparams: {'batch_size': 8000, 'L': 5, 'dt': 3.1622776e-08}., sample shape=(37, 10). metric: 19157\n",
      "Hyperparams: {'batch_size': 8000, 'L': 10, 'dt': 3.1622776e-07}., sample shape=(21, 10). metric: -6979\n",
      "Hyperparams: {'batch_size': 800000, 'L': 5, 'dt': 0.1}., sample shape=(4, 10). metric: inf\n",
      "Hyperparams: {'batch_size': 800000, 'L': 5, 'dt': 0.031622775}., sample shape=(4, 10). metric: inf\n",
      "\n",
      "Number of samples: [38, 21, 21]\n"
     ]
    },
    {
     "data": {
      "application/vnd.jupyter.widget-view+json": {
       "model_id": "e84a390561514159be7861cf8d4d87a8",
       "version_major": 2,
       "version_minor": 0
      },
      "text/plain": [
       "HBox(children=(HTML(value='Iteration 4/4, 3 arms, time budget = 1.40 sec'), FloatProgress(value=0.0, max=3.0),…"
      ]
     },
     "metadata": {},
     "output_type": "display_data"
    },
    {
     "name": "stdout",
     "output_type": "stream",
     "text": [
      "Hyperparams: {'batch_size': 8000, 'L': 5, 'dt': 1e-06}., sample shape=(114, 10). metric: -907\n",
      "Hyperparams: {'batch_size': 8000, 'L': 10, 'dt': 3.1622776e-07}., sample shape=(62, 10). metric: 1184\n",
      "Hyperparams: {'batch_size': 8000, 'L': 10, 'dt': 1e-07}., sample shape=(62, 10). metric: 1651\n",
      "\n",
      "Number of samples: [114]\n",
      "Running time: 174.5 sec\n",
      "{'batch_size': 8000, 'L': 5, 'dt': 1e-06} -906.7637 (114, 10)\n"
     ]
    }
   ],
   "source": [
    "build_kernel = lambda dt, L, batch_size: build_sghmc_kernel(dt, L, loglikelihood, \n",
    "                                                  logprior, data, batch_size)\n",
    "grid_params = {'log_dt': logdt_range, \n",
    "               'batch_size': batch_size_range,\n",
    "               \"L\": [5, 10]\n",
    "              }\n",
    "\n",
    "# build_kernel = lambda dt, L: build_sghmc_kernel(dt, L, loglikelihood, \n",
    "#                                                   logprior, data, fixed_bs)\n",
    "# grid_params = {'log_dt': logdt_range, \n",
    "#                \"L\": [5, 10]\n",
    "#               }\n",
    "best_arm = run_MAMBA(key, build_kernel, error_fn, R, params_IC, \n",
    "                     grid_params=grid_params, get_fb_grads=get_fb_grads)\n",
    "\n",
    "print(best_arm.hyperparameters, best_arm.metric, best_arm.samples.shape)"
   ]
  },
  {
   "cell_type": "code",
   "execution_count": null,
   "id": "ebe57128",
   "metadata": {},
   "outputs": [],
   "source": []
  },
  {
   "cell_type": "code",
   "execution_count": 17,
   "id": "a39f7bf0",
   "metadata": {},
   "outputs": [
    {
     "data": {
      "application/vnd.jupyter.widget-view+json": {
       "model_id": "a98c972151154306bf5d19186e3d9269",
       "version_major": 2,
       "version_minor": 0
      },
      "text/plain": [
       "HBox(children=(HTML(value='Iteration 1/4, 84 arms, time budget = 0.05 sec'), FloatProgress(value=0.0, max=84.0…"
      ]
     },
     "metadata": {},
     "output_type": "display_data"
    },
    {
     "name": "stdout",
     "output_type": "stream",
     "text": [
      "Hyperparams: {'batch_size': 800000, 'L': 5, 'dt': 0.1}., sample shape=(1, 10). metric: inf\n",
      "Hyperparams: {'batch_size': 800000, 'L': 5, 'dt': 0.031622775}., sample shape=(1, 10). metric: inf\n",
      "Hyperparams: {'batch_size': 800000, 'L': 5, 'dt': 0.01}., sample shape=(1, 10). metric: inf\n",
      "Hyperparams: {'batch_size': 800000, 'L': 5, 'dt': 0.0031622776}., sample shape=(1, 10). metric: inf\n",
      "Hyperparams: {'batch_size': 800000, 'L': 5, 'dt': 0.001}., sample shape=(1, 10). metric: inf\n",
      "Hyperparams: {'batch_size': 800000, 'L': 5, 'dt': 0.00031622776}., sample shape=(1, 10). metric: inf\n",
      "Hyperparams: {'batch_size': 800000, 'L': 5, 'dt': 1e-04}., sample shape=(1, 10). metric: inf\n",
      "Hyperparams: {'batch_size': 800000, 'L': 5, 'dt': 3.1622778e-05}., sample shape=(1, 10). metric: inf\n",
      "Hyperparams: {'batch_size': 800000, 'L': 5, 'dt': 1e-05}., sample shape=(1, 10). metric: inf\n",
      "Hyperparams: {'batch_size': 800000, 'L': 5, 'dt': 3.1622776e-06}., sample shape=(1, 10). metric: inf\n",
      "Hyperparams: {'batch_size': 800000, 'L': 5, 'dt': 1e-06}., sample shape=(1, 10). metric: inf\n",
      "Hyperparams: {'batch_size': 800000, 'L': 5, 'dt': 3.1622776e-07}., sample shape=(1, 10). metric: inf\n",
      "Hyperparams: {'batch_size': 800000, 'L': 5, 'dt': 1e-07}., sample shape=(1, 10). metric: inf\n",
      "Hyperparams: {'batch_size': 800000, 'L': 5, 'dt': 3.1622776e-08}., sample shape=(1, 10). metric: inf\n",
      "Hyperparams: {'batch_size': 800000, 'L': 10, 'dt': 0.1}., sample shape=(1, 10). metric: inf\n",
      "Hyperparams: {'batch_size': 800000, 'L': 10, 'dt': 0.031622775}., sample shape=(1, 10). metric: inf\n",
      "Hyperparams: {'batch_size': 800000, 'L': 10, 'dt': 0.01}., sample shape=(1, 10). metric: inf\n",
      "Hyperparams: {'batch_size': 800000, 'L': 10, 'dt': 0.0031622776}., sample shape=(1, 10). metric: inf\n",
      "Hyperparams: {'batch_size': 800000, 'L': 10, 'dt': 0.001}., sample shape=(1, 10). metric: inf\n",
      "Hyperparams: {'batch_size': 800000, 'L': 10, 'dt': 0.00031622776}., sample shape=(1, 10). metric: inf\n",
      "Hyperparams: {'batch_size': 800000, 'L': 10, 'dt': 1e-04}., sample shape=(1, 10). metric: inf\n",
      "Hyperparams: {'batch_size': 800000, 'L': 10, 'dt': 3.1622778e-05}., sample shape=(1, 10). metric: inf\n",
      "Hyperparams: {'batch_size': 800000, 'L': 10, 'dt': 1e-05}., sample shape=(1, 10). metric: inf\n",
      "Hyperparams: {'batch_size': 800000, 'L': 10, 'dt': 3.1622776e-06}., sample shape=(1, 10). metric: inf\n",
      "Hyperparams: {'batch_size': 800000, 'L': 10, 'dt': 1e-06}., sample shape=(1, 10). metric: inf\n",
      "Hyperparams: {'batch_size': 800000, 'L': 10, 'dt': 3.1622776e-07}., sample shape=(1, 10). metric: inf\n",
      "Hyperparams: {'batch_size': 800000, 'L': 10, 'dt': 1e-07}., sample shape=(1, 10). metric: inf\n",
      "Hyperparams: {'batch_size': 800000, 'L': 10, 'dt': 3.1622776e-08}., sample shape=(1, 10). metric: inf\n",
      "Hyperparams: {'batch_size': 80000, 'L': 5, 'dt': 0.1}., sample shape=(1, 10). metric: inf\n",
      "Hyperparams: {'batch_size': 80000, 'L': 5, 'dt': 0.031622775}., sample shape=(1, 10). metric: inf\n",
      "Hyperparams: {'batch_size': 80000, 'L': 5, 'dt': 0.01}., sample shape=(1, 10). metric: inf\n",
      "Hyperparams: {'batch_size': 80000, 'L': 5, 'dt': 0.0031622776}., sample shape=(1, 10). metric: inf\n",
      "Hyperparams: {'batch_size': 80000, 'L': 5, 'dt': 0.001}., sample shape=(1, 10). metric: inf\n",
      "Hyperparams: {'batch_size': 80000, 'L': 5, 'dt': 0.00031622776}., sample shape=(1, 10). metric: inf\n",
      "Hyperparams: {'batch_size': 80000, 'L': 5, 'dt': 1e-04}., sample shape=(1, 10). metric: inf\n",
      "Hyperparams: {'batch_size': 80000, 'L': 5, 'dt': 3.1622778e-05}., sample shape=(1, 10). metric: inf\n",
      "Hyperparams: {'batch_size': 80000, 'L': 5, 'dt': 1e-05}., sample shape=(1, 10). metric: inf\n",
      "Hyperparams: {'batch_size': 80000, 'L': 5, 'dt': 3.1622776e-06}., sample shape=(1, 10). metric: inf\n",
      "Hyperparams: {'batch_size': 80000, 'L': 5, 'dt': 1e-06}., sample shape=(1, 10). metric: inf\n",
      "Hyperparams: {'batch_size': 80000, 'L': 5, 'dt': 3.1622776e-07}., sample shape=(1, 10). metric: inf\n",
      "Hyperparams: {'batch_size': 80000, 'L': 5, 'dt': 1e-07}., sample shape=(1, 10). metric: inf\n",
      "Hyperparams: {'batch_size': 80000, 'L': 5, 'dt': 3.1622776e-08}., sample shape=(1, 10). metric: inf\n",
      "Hyperparams: {'batch_size': 80000, 'L': 10, 'dt': 0.1}., sample shape=(1, 10). metric: inf\n",
      "Hyperparams: {'batch_size': 80000, 'L': 10, 'dt': 0.031622775}., sample shape=(1, 10). metric: inf\n",
      "Hyperparams: {'batch_size': 80000, 'L': 10, 'dt': 0.01}., sample shape=(1, 10). metric: inf\n",
      "Hyperparams: {'batch_size': 80000, 'L': 10, 'dt': 0.0031622776}., sample shape=(1, 10). metric: inf\n",
      "Hyperparams: {'batch_size': 80000, 'L': 10, 'dt': 0.001}., sample shape=(1, 10). metric: inf\n",
      "Hyperparams: {'batch_size': 80000, 'L': 10, 'dt': 0.00031622776}., sample shape=(1, 10). metric: inf\n",
      "Hyperparams: {'batch_size': 80000, 'L': 10, 'dt': 1e-04}., sample shape=(1, 10). metric: inf\n",
      "Hyperparams: {'batch_size': 80000, 'L': 10, 'dt': 3.1622778e-05}., sample shape=(1, 10). metric: inf\n",
      "Hyperparams: {'batch_size': 80000, 'L': 10, 'dt': 1e-05}., sample shape=(1, 10). metric: inf\n",
      "Hyperparams: {'batch_size': 80000, 'L': 10, 'dt': 3.1622776e-06}., sample shape=(1, 10). metric: inf\n",
      "Hyperparams: {'batch_size': 80000, 'L': 10, 'dt': 1e-06}., sample shape=(1, 10). metric: inf\n",
      "Hyperparams: {'batch_size': 80000, 'L': 10, 'dt': 3.1622776e-07}., sample shape=(1, 10). metric: inf\n",
      "Hyperparams: {'batch_size': 80000, 'L': 10, 'dt': 1e-07}., sample shape=(1, 10). metric: inf\n",
      "Hyperparams: {'batch_size': 80000, 'L': 10, 'dt': 3.1622776e-08}., sample shape=(1, 10). metric: inf\n",
      "Hyperparams: {'batch_size': 8000, 'L': 5, 'dt': 0.1}., sample shape=(3, 10). metric: inf\n",
      "Hyperparams: {'batch_size': 8000, 'L': 5, 'dt': 0.031622775}., sample shape=(3, 10). metric: inf\n",
      "Hyperparams: {'batch_size': 8000, 'L': 5, 'dt': 0.01}., sample shape=(3, 10). metric: inf\n",
      "Hyperparams: {'batch_size': 8000, 'L': 5, 'dt': 0.0031622776}., sample shape=(3, 10). metric: inf\n",
      "Hyperparams: {'batch_size': 8000, 'L': 5, 'dt': 0.001}., sample shape=(3, 10). metric: inf\n",
      "Hyperparams: {'batch_size': 8000, 'L': 5, 'dt': 0.00031622776}., sample shape=(3, 10). metric: inf\n",
      "Hyperparams: {'batch_size': 8000, 'L': 5, 'dt': 1e-04}., sample shape=(3, 10). metric: inf\n",
      "Hyperparams: {'batch_size': 8000, 'L': 5, 'dt': 3.1622778e-05}., sample shape=(3, 10). metric: inf\n",
      "Hyperparams: {'batch_size': 8000, 'L': 5, 'dt': 1e-05}., sample shape=(2, 10). metric: inf\n",
      "Hyperparams: {'batch_size': 8000, 'L': 5, 'dt': 3.1622776e-06}., sample shape=(2, 10). metric: 2252383\n",
      "Hyperparams: {'batch_size': 8000, 'L': 5, 'dt': 1e-06}., sample shape=(3, 10). metric: 21090\n",
      "Hyperparams: {'batch_size': 8000, 'L': 5, 'dt': 3.1622776e-07}., sample shape=(2, 10). metric: 2303\n",
      "Hyperparams: {'batch_size': 8000, 'L': 5, 'dt': 1e-07}., sample shape=(3, 10). metric: 228767\n",
      "Hyperparams: {'batch_size': 8000, 'L': 5, 'dt': 3.1622776e-08}., sample shape=(2, 10). metric: 854870\n",
      "Hyperparams: {'batch_size': 8000, 'L': 10, 'dt': 0.1}., sample shape=(2, 10). metric: inf\n",
      "Hyperparams: {'batch_size': 8000, 'L': 10, 'dt': 0.031622775}., sample shape=(2, 10). metric: inf\n",
      "Hyperparams: {'batch_size': 8000, 'L': 10, 'dt': 0.01}., sample shape=(2, 10). metric: inf\n",
      "Hyperparams: {'batch_size': 8000, 'L': 10, 'dt': 0.0031622776}., sample shape=(2, 10). metric: inf\n",
      "Hyperparams: {'batch_size': 8000, 'L': 10, 'dt': 0.001}., sample shape=(2, 10). metric: inf\n",
      "Hyperparams: {'batch_size': 8000, 'L': 10, 'dt': 0.00031622776}., sample shape=(2, 10). metric: inf\n",
      "Hyperparams: {'batch_size': 8000, 'L': 10, 'dt': 1e-04}., sample shape=(2, 10). metric: inf\n",
      "Hyperparams: {'batch_size': 8000, 'L': 10, 'dt': 3.1622778e-05}., sample shape=(2, 10). metric: inf\n",
      "Hyperparams: {'batch_size': 8000, 'L': 10, 'dt': 1e-05}., sample shape=(2, 10). metric: inf\n",
      "Hyperparams: {'batch_size': 8000, 'L': 10, 'dt': 3.1622776e-06}., sample shape=(2, 10). metric: inf\n",
      "Hyperparams: {'batch_size': 8000, 'L': 10, 'dt': 1e-06}., sample shape=(2, 10). metric: inf\n",
      "Hyperparams: {'batch_size': 8000, 'L': 10, 'dt': 3.1622776e-07}., sample shape=(2, 10). metric: -16384\n",
      "Hyperparams: {'batch_size': 8000, 'L': 10, 'dt': 1e-07}., sample shape=(2, 10). metric: -53162\n",
      "Hyperparams: {'batch_size': 8000, 'L': 10, 'dt': 3.1622776e-08}., sample shape=(2, 10). metric: 364462\n",
      "\n",
      "Number of samples: [2, 2, 2, 3, 3, 2, 2, 2, 1, 1, 1, 1, 1, 1, 1, 1, 1, 1, 1, 1, 1, 1, 1, 1, 1, 1, 1, 1]\n"
     ]
    },
    {
     "data": {
      "application/vnd.jupyter.widget-view+json": {
       "model_id": "9df726b0481c4c31a231a0b59ce9bce7",
       "version_major": 2,
       "version_minor": 0
      },
      "text/plain": [
       "HBox(children=(HTML(value='Iteration 2/4, 28 arms, time budget = 0.15 sec'), FloatProgress(value=0.0, max=28.0…"
      ]
     },
     "metadata": {},
     "output_type": "display_data"
    },
    {
     "name": "stdout",
     "output_type": "stream",
     "text": [
      "Hyperparams: {'batch_size': 8000, 'L': 10, 'dt': 1e-07}., sample shape=(6, 10). metric: 992\n",
      "Hyperparams: {'batch_size': 8000, 'L': 10, 'dt': 3.1622776e-07}., sample shape=(6, 10). metric: -67\n",
      "Hyperparams: {'batch_size': 8000, 'L': 5, 'dt': 3.1622776e-07}., sample shape=(10, 10). metric: 5152\n",
      "Hyperparams: {'batch_size': 8000, 'L': 5, 'dt': 1e-06}., sample shape=(11, 10). metric: 859\n",
      "Hyperparams: {'batch_size': 8000, 'L': 5, 'dt': 1e-07}., sample shape=(10, 10). metric: 5894\n",
      "Hyperparams: {'batch_size': 8000, 'L': 10, 'dt': 3.1622776e-08}., sample shape=(6, 10). metric: 50396\n",
      "Hyperparams: {'batch_size': 8000, 'L': 5, 'dt': 3.1622776e-08}., sample shape=(10, 10). metric: 104862\n",
      "Hyperparams: {'batch_size': 8000, 'L': 5, 'dt': 3.1622776e-06}., sample shape=(10, 10). metric: inf\n",
      "Hyperparams: {'batch_size': 800000, 'L': 5, 'dt': 0.1}., sample shape=(2, 10). metric: inf\n",
      "Hyperparams: {'batch_size': 800000, 'L': 5, 'dt': 0.031622775}., sample shape=(2, 10). metric: inf\n",
      "Hyperparams: {'batch_size': 800000, 'L': 5, 'dt': 0.01}., sample shape=(2, 10). metric: inf\n",
      "Hyperparams: {'batch_size': 800000, 'L': 5, 'dt': 0.0031622776}., sample shape=(2, 10). metric: inf\n",
      "Hyperparams: {'batch_size': 800000, 'L': 5, 'dt': 0.001}., sample shape=(2, 10). metric: inf\n",
      "Hyperparams: {'batch_size': 800000, 'L': 5, 'dt': 0.00031622776}., sample shape=(2, 10). metric: inf\n",
      "Hyperparams: {'batch_size': 800000, 'L': 5, 'dt': 1e-04}., sample shape=(2, 10). metric: inf\n",
      "Hyperparams: {'batch_size': 800000, 'L': 5, 'dt': 3.1622778e-05}., sample shape=(2, 10). metric: inf\n",
      "Hyperparams: {'batch_size': 800000, 'L': 5, 'dt': 1e-05}., sample shape=(2, 10). metric: inf\n",
      "Hyperparams: {'batch_size': 800000, 'L': 5, 'dt': 3.1622776e-06}., sample shape=(2, 10). metric: inf\n",
      "Hyperparams: {'batch_size': 800000, 'L': 5, 'dt': 1e-06}., sample shape=(2, 10). metric: inf\n",
      "Hyperparams: {'batch_size': 800000, 'L': 5, 'dt': 3.1622776e-07}., sample shape=(2, 10). metric: inf\n",
      "Hyperparams: {'batch_size': 800000, 'L': 5, 'dt': 1e-07}., sample shape=(2, 10). metric: inf\n",
      "Hyperparams: {'batch_size': 800000, 'L': 5, 'dt': 3.1622776e-08}., sample shape=(2, 10). metric: inf\n",
      "Hyperparams: {'batch_size': 800000, 'L': 10, 'dt': 0.1}., sample shape=(2, 10). metric: inf\n",
      "Hyperparams: {'batch_size': 800000, 'L': 10, 'dt': 0.031622775}., sample shape=(2, 10). metric: inf\n",
      "Hyperparams: {'batch_size': 800000, 'L': 10, 'dt': 0.01}., sample shape=(2, 10). metric: inf\n",
      "Hyperparams: {'batch_size': 800000, 'L': 10, 'dt': 0.0031622776}., sample shape=(2, 10). metric: inf\n",
      "Hyperparams: {'batch_size': 800000, 'L': 10, 'dt': 0.001}., sample shape=(2, 10). metric: inf\n",
      "Hyperparams: {'batch_size': 800000, 'L': 10, 'dt': 0.00031622776}., sample shape=(2, 10). metric: inf\n",
      "\n",
      "Number of samples: [6, 11, 6, 10, 10, 6, 10, 10, 2]\n"
     ]
    },
    {
     "data": {
      "application/vnd.jupyter.widget-view+json": {
       "model_id": "ee7e4e4a9110429c96e65718c519dbc5",
       "version_major": 2,
       "version_minor": 0
      },
      "text/plain": [
       "HBox(children=(HTML(value='Iteration 3/4, 9 arms, time budget = 0.47 sec'), FloatProgress(value=0.0, max=9.0),…"
      ]
     },
     "metadata": {},
     "output_type": "display_data"
    },
    {
     "name": "stdout",
     "output_type": "stream",
     "text": [
      "Hyperparams: {'batch_size': 8000, 'L': 10, 'dt': 3.1622776e-07}., sample shape=(18, 10). metric: -233\n",
      "Hyperparams: {'batch_size': 8000, 'L': 5, 'dt': 1e-06}., sample shape=(34, 10). metric: -780\n",
      "Hyperparams: {'batch_size': 8000, 'L': 10, 'dt': 1e-07}., sample shape=(18, 10). metric: 1646\n",
      "Hyperparams: {'batch_size': 8000, 'L': 5, 'dt': 3.1622776e-07}., sample shape=(32, 10). metric: 4149\n",
      "Hyperparams: {'batch_size': 8000, 'L': 5, 'dt': 1e-07}., sample shape=(32, 10). metric: 7156\n",
      "Hyperparams: {'batch_size': 8000, 'L': 10, 'dt': 3.1622776e-08}., sample shape=(18, 10). metric: 5643\n",
      "Hyperparams: {'batch_size': 8000, 'L': 5, 'dt': 3.1622776e-08}., sample shape=(32, 10). metric: 21566\n",
      "Hyperparams: {'batch_size': 8000, 'L': 5, 'dt': 3.1622776e-06}., sample shape=(33, 10). metric: 48600852\n",
      "Hyperparams: {'batch_size': 800000, 'L': 5, 'dt': 0.1}., sample shape=(3, 10). metric: inf\n",
      "\n",
      "Number of samples: [34, 18, 18]\n"
     ]
    },
    {
     "data": {
      "application/vnd.jupyter.widget-view+json": {
       "model_id": "edaa2ba64339497d894d5410b70df564",
       "version_major": 2,
       "version_minor": 0
      },
      "text/plain": [
       "HBox(children=(HTML(value='Iteration 4/4, 3 arms, time budget = 1.40 sec'), FloatProgress(value=0.0, max=3.0),…"
      ]
     },
     "metadata": {},
     "output_type": "display_data"
    },
    {
     "name": "stdout",
     "output_type": "stream",
     "text": [
      "Hyperparams: {'batch_size': 8000, 'L': 5, 'dt': 1e-06}., sample shape=(101, 10). metric: 295\n",
      "Hyperparams: {'batch_size': 8000, 'L': 10, 'dt': 3.1622776e-07}., sample shape=(53, 10). metric: 558\n",
      "Hyperparams: {'batch_size': 8000, 'L': 10, 'dt': 1e-07}., sample shape=(52, 10). metric: 1268\n",
      "\n",
      "Number of samples: [101]\n",
      "Running time: 212.3 sec\n",
      "{'batch_size': 8000, 'L': 5, 'dt': 1e-06} 295.35696 (101, 10)\n"
     ]
    }
   ],
   "source": [
    "build_kernel = lambda dt, L, batch_size: build_sghmcCV_kernel(dt, L, loglikelihood, \n",
    "                                                  logprior, data, batch_size, centering_value)\n",
    "grid_params = {'log_dt': logdt_range, \n",
    "               'batch_size': batch_size_range,\n",
    "               \"L\": [5, 10]\n",
    "              }\n",
    "\n",
    "# build_kernel = lambda dt, L: build_sghmcCV_kernel(dt, L, loglikelihood, \n",
    "#                                                   logprior, data, fixed_bs, centering_value)\n",
    "# grid_params = {'log_dt': logdt_range, \n",
    "#                \"L\": [5, 10]\n",
    "#               }\n",
    "best_arm = run_MAMBA(key, build_kernel, error_fn, R, params_IC, \n",
    "                     grid_params=grid_params, get_fb_grads=get_fb_grads)\n",
    "\n",
    "print(best_arm.hyperparameters, best_arm.metric, best_arm.samples.shape)"
   ]
  },
  {
   "cell_type": "code",
   "execution_count": 13,
   "id": "2cafa0ac",
   "metadata": {},
   "outputs": [
    {
     "data": {
      "application/vnd.jupyter.widget-view+json": {
       "model_id": "ff90a32c43af4c1792616e70ff916f1a",
       "version_major": 2,
       "version_minor": 0
      },
      "text/plain": [
       "HBox(children=(HTML(value='Iteration 1/2, 14 arms, time budget = 0.25 sec'), FloatProgress(value=0.0, max=14.0…"
      ]
     },
     "metadata": {},
     "output_type": "display_data"
    },
    {
     "name": "stdout",
     "output_type": "stream",
     "text": [
      "Hyperparams: {'dt': 0.1}., sample shape=(97, 10). metric: inf\n",
      "Hyperparams: {'dt': 0.031622775}., sample shape=(97, 10). metric: inf\n",
      "Hyperparams: {'dt': 0.01}., sample shape=(97, 10). metric: inf\n",
      "Hyperparams: {'dt': 0.0031622776}., sample shape=(97, 10). metric: inf\n",
      "Hyperparams: {'dt': 0.001}., sample shape=(99, 10). metric: inf\n",
      "Hyperparams: {'dt': 0.00031622776}., sample shape=(98, 10). metric: inf\n",
      "Hyperparams: {'dt': 1e-04}., sample shape=(97, 10). metric: inf\n",
      "Hyperparams: {'dt': 3.1622778e-05}., sample shape=(99, 10). metric: 313\n",
      "Hyperparams: {'dt': 1e-05}., sample shape=(97, 10). metric: 243\n",
      "Hyperparams: {'dt': 3.1622776e-06}., sample shape=(99, 10). metric: 189\n",
      "Hyperparams: {'dt': 1e-06}., sample shape=(97, 10). metric: 165\n",
      "Hyperparams: {'dt': 3.1622776e-07}., sample shape=(98, 10). metric: 170\n",
      "Hyperparams: {'dt': 1e-07}., sample shape=(95, 10). metric: 325\n",
      "Hyperparams: {'dt': 3.1622776e-08}., sample shape=(96, 10). metric: 497\n",
      "\n",
      "Number of samples: [97, 98, 99, 97]\n"
     ]
    },
    {
     "data": {
      "application/vnd.jupyter.widget-view+json": {
       "model_id": "185b0188345741a28c0c894f6c69a11c",
       "version_major": 2,
       "version_minor": 0
      },
      "text/plain": [
       "HBox(children=(HTML(value='Iteration 2/2, 4 arms, time budget = 0.88 sec'), FloatProgress(value=0.0, max=4.0),…"
      ]
     },
     "metadata": {},
     "output_type": "display_data"
    },
    {
     "name": "stdout",
     "output_type": "stream",
     "text": [
      "Hyperparams: {'dt': 1e-06}., sample shape=(386, 10). metric: 90\n",
      "Hyperparams: {'dt': 3.1622776e-07}., sample shape=(382, 10). metric: 63\n",
      "Hyperparams: {'dt': 3.1622776e-06}., sample shape=(383, 10). metric: 90\n",
      "Hyperparams: {'dt': 1e-05}., sample shape=(384, 10). metric: 152\n",
      "\n",
      "Number of samples: [382]\n",
      "Running time: 43.1 sec\n",
      "{'dt': 3.1622776e-07} 63.38139 (382, 10)\n"
     ]
    }
   ],
   "source": [
    "# build_kernel = lambda dt, batch_size: build_sgnht_kernel(dt, loglikelihood, logprior, data, batch_size)\n",
    "# grid_params = {'log_dt': logdt_range, \n",
    "#                'batch_size': batch_size_range\n",
    "#               }\n",
    "\n",
    "build_kernel = lambda dt: build_sgnht_kernel(dt, loglikelihood, logprior, data, fixed_bs)\n",
    "grid_params = {'log_dt': logdt_range}\n",
    "best_arm = run_MAMBA(key, build_kernel, error_fn, R, params_IC, \n",
    "                     grid_params=grid_params)#, get_fb_grads=get_fb_grads)\n",
    "\n",
    "print(best_arm.hyperparameters, best_arm.metric, best_arm.samples.shape)"
   ]
  },
  {
   "cell_type": "code",
   "execution_count": 14,
   "id": "ada995a7",
   "metadata": {},
   "outputs": [
    {
     "data": {
      "application/vnd.jupyter.widget-view+json": {
       "model_id": "21778b86e5a148b4a1bf428425844548",
       "version_major": 2,
       "version_minor": 0
      },
      "text/plain": [
       "HBox(children=(HTML(value='Iteration 1/2, 14 arms, time budget = 0.25 sec'), FloatProgress(value=0.0, max=14.0…"
      ]
     },
     "metadata": {},
     "output_type": "display_data"
    },
    {
     "name": "stdout",
     "output_type": "stream",
     "text": [
      "Hyperparams: {'dt': 0.1}., sample shape=(8, 10). metric: inf\n",
      "Hyperparams: {'dt': 0.031622775}., sample shape=(8, 10). metric: inf\n",
      "Hyperparams: {'dt': 0.01}., sample shape=(8, 10). metric: inf\n",
      "Hyperparams: {'dt': 0.0031622776}., sample shape=(7, 10). metric: inf\n",
      "Hyperparams: {'dt': 0.001}., sample shape=(8, 10). metric: inf\n",
      "Hyperparams: {'dt': 0.00031622776}., sample shape=(7, 10). metric: inf\n",
      "Hyperparams: {'dt': 1e-04}., sample shape=(8, 10). metric: inf\n",
      "Hyperparams: {'dt': 3.1622778e-05}., sample shape=(7, 10). metric: 286\n",
      "Hyperparams: {'dt': 1e-05}., sample shape=(8, 10). metric: 219\n",
      "Hyperparams: {'dt': 3.1622776e-06}., sample shape=(8, 10). metric: 280\n",
      "Hyperparams: {'dt': 1e-06}., sample shape=(7, 10). metric: 173\n",
      "Hyperparams: {'dt': 3.1622776e-07}., sample shape=(8, 10). metric: 204\n",
      "Hyperparams: {'dt': 1e-07}., sample shape=(7, 10). metric: 359\n",
      "Hyperparams: {'dt': 3.1622776e-08}., sample shape=(8, 10). metric: 549\n",
      "\n",
      "Number of samples: [7, 8, 8, 8]\n"
     ]
    },
    {
     "data": {
      "application/vnd.jupyter.widget-view+json": {
       "model_id": "063c1795941c486e8e4a337a67b6de58",
       "version_major": 2,
       "version_minor": 0
      },
      "text/plain": [
       "HBox(children=(HTML(value='Iteration 2/2, 4 arms, time budget = 0.88 sec'), FloatProgress(value=0.0, max=4.0),…"
      ]
     },
     "metadata": {},
     "output_type": "display_data"
    },
    {
     "name": "stdout",
     "output_type": "stream",
     "text": [
      "Hyperparams: {'dt': 1e-06}., sample shape=(32, 10). metric: 58\n",
      "Hyperparams: {'dt': 3.1622776e-07}., sample shape=(33, 10). metric: 56\n",
      "Hyperparams: {'dt': 1e-05}., sample shape=(32, 10). metric: 87\n",
      "Hyperparams: {'dt': 3.1622776e-06}., sample shape=(33, 10). metric: 12\n",
      "\n",
      "Number of samples: [33]\n",
      "Running time: 50.8 sec\n",
      "{'dt': 3.1622776e-06} 12.241525 (33, 10)\n"
     ]
    }
   ],
   "source": [
    "# build_kernel = lambda dt, batch_size: build_sgnhtCV_kernel(dt, loglikelihood, \n",
    "#                                                   logprior, data, batch_size, centering_value)\n",
    "# grid_params = {'log_dt': logdt_range, \n",
    "#                'batch_size': batch_size_range\n",
    "#               }\n",
    "\n",
    "build_kernel = lambda dt: build_sgnhtCV_kernel(dt, loglikelihood, \n",
    "                                                  logprior, data, fixed_bs, centering_value)\n",
    "grid_params = {'log_dt': logdt_range}\n",
    "best_arm = run_MAMBA(key, build_kernel, error_fn, R, params_IC, \n",
    "                     grid_params=grid_params, get_fb_grads=get_fb_grads)\n",
    "\n",
    "print(best_arm.hyperparameters, best_arm.metric, best_arm.samples.shape)"
   ]
  },
  {
   "cell_type": "code",
   "execution_count": null,
   "id": "ec0f4428",
   "metadata": {},
   "outputs": [],
   "source": []
  },
  {
   "cell_type": "code",
   "execution_count": null,
   "id": "4399056c",
   "metadata": {},
   "outputs": [],
   "source": []
  }
 ],
 "metadata": {
  "kernelspec": {
   "display_name": "Python 3",
   "language": "python",
   "name": "python3"
  },
  "language_info": {
   "codemirror_mode": {
    "name": "ipython",
    "version": 3
   },
   "file_extension": ".py",
   "mimetype": "text/x-python",
   "name": "python",
   "nbconvert_exporter": "python",
   "pygments_lexer": "ipython3",
   "version": "3.8.2"
  }
 },
 "nbformat": 4,
 "nbformat_minor": 5
}
