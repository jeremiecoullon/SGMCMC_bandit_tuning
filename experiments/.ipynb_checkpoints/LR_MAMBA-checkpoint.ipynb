{
 "cells": [
  {
   "cell_type": "code",
   "execution_count": 1,
   "id": "906fd9ec",
   "metadata": {},
   "outputs": [],
   "source": [
    "%matplotlib inline\n",
    "import matplotlib.pyplot as plt\n",
    "import numpy as np\n",
    "\n",
    "import jax.numpy as jnp\n",
    "from jax import jit, random, vmap\n",
    "\n",
    "from sgmcmcjax.kernels import build_sgld_kernel, build_sghmc_kernel, build_sgnht_kernel\n",
    "from sgmcmcjax.kernels import build_sgldCV_kernel, build_sghmcCV_kernel, build_sgnhtCV_kernel\n",
    "from sgmcmcjax.optimizer import build_adam_optimizer\n",
    "from sgmcmcjax.util import build_grad_log_post\n",
    "\n",
    "import context\n",
    "from models.logistic_regression.logistic_regression_model import gen_data, loglikelihood, logprior\n",
    "from tuning.mamba import run_MAMBA\n",
    "from tuning.ksd import imq_KSD\n"
   ]
  },
  {
   "cell_type": "markdown",
   "id": "a01ea2b4",
   "metadata": {},
   "source": [
    "# Logistic regression - MAMBA"
   ]
  },
  {
   "cell_type": "code",
   "execution_count": 2,
   "id": "dd0b7388",
   "metadata": {},
   "outputs": [
    {
     "name": "stderr",
     "output_type": "stream",
     "text": [
      "WARNING:absl:No GPU/TPU found, falling back to CPU. (Set TF_CPP_MIN_LOG_LEVEL=0 and rerun for more info.)\n"
     ]
    },
    {
     "name": "stdout",
     "output_type": "stream",
     "text": [
      "generating data, with N=1,000,000 and dim=10\n",
      "(800000, 10) (200000, 10)\n"
     ]
    }
   ],
   "source": [
    "\n",
    "\n",
    "key = random.PRNGKey(42)\n",
    "dim = 10\n",
    "# Ndata = 100_000\n",
    "Ndata = 1_000_000\n",
    "\n",
    "theta_true, X, y_data = gen_data(key, dim, Ndata)\n",
    "\n",
    "# testing and training data\n",
    "num_train = int(Ndata*0.8)\n",
    "\n",
    "X_train = X[:num_train]\n",
    "X_test = X[num_train:]\n",
    "\n",
    "y_train = y_data[:num_train]\n",
    "y_test = y_data[num_train:]\n",
    "print(X_train.shape, X_test.shape)\n",
    "data = (X_train, y_train)\n"
   ]
  },
  {
   "cell_type": "code",
   "execution_count": 4,
   "id": "ad7130b3",
   "metadata": {},
   "outputs": [],
   "source": [
    "# get MAP\n",
    "batch_size = int(0.01*X_train.shape[0])\n",
    "run_adam = build_adam_optimizer(1e-2, loglikelihood, logprior, data, batch_size)\n",
    "key = random.PRNGKey(0)\n",
    "centering_value, logpost_array = run_adam(key, 5000, jnp.zeros(dim))\n",
    "params_IC = centering_value\n",
    "\n",
    "# T = 10\n",
    "R = 1 # running time of longest sampler\n",
    "\n",
    "error_fn = lambda x,y: imq_KSD(x, y)\n",
    "logdt_range = -jnp.arange(1., 8., 0.5) \n",
    "batch_size_range = [int(10**(-elem)*X_train.shape[0]) for elem in range(0, 5)]"
   ]
  },
  {
   "cell_type": "code",
   "execution_count": 6,
   "id": "e1d39a1d",
   "metadata": {},
   "outputs": [],
   "source": [
    "grad_log_post_fb = build_grad_log_post(loglikelihood, logprior, data)\n",
    "\n",
    "def grad_lp_LR_fb(theta):\n",
    "    return grad_log_post_fb(theta, X_train, y_train)\n",
    "\n",
    "batch_grad_lp_LR_fb = jit(vmap(grad_lp_LR_fb))\n",
    "\n",
    "@jit\n",
    "def get_fb_grads(samples):\n",
    "    thin = 10\n",
    "    array_samples = jnp.array(samples[::thin])\n",
    "    mygrads = batch_grad_lp_LR_fb(array_samples)\n",
    "    return array_samples, mygrads"
   ]
  },
  {
   "cell_type": "code",
   "execution_count": null,
   "id": "e472c6aa",
   "metadata": {},
   "outputs": [],
   "source": []
  },
  {
   "cell_type": "markdown",
   "id": "912e1f22",
   "metadata": {},
   "source": [
    "### run MAMBA"
   ]
  },
  {
   "cell_type": "code",
   "execution_count": null,
   "id": "01a71a00",
   "metadata": {},
   "outputs": [],
   "source": []
  },
  {
   "cell_type": "code",
   "execution_count": 7,
   "id": "180a1973",
   "metadata": {},
   "outputs": [
    {
     "data": {
      "application/vnd.jupyter.widget-view+json": {
       "model_id": "bf5e8b5d3201407c86fa33cf16d75450",
       "version_major": 2,
       "version_minor": 0
      },
      "text/plain": [
       "HBox(children=(HTML(value='Iteration 1/3, 70 arms, time budget = 0.08 sec'), FloatProgress(value=0.0, max=70.0…"
      ]
     },
     "metadata": {},
     "output_type": "display_data"
    },
    {
     "name": "stdout",
     "output_type": "stream",
     "text": [
      "Hyperparams: {'batch_size': 800000, 'dt': 0.1}. metric: 313867\n",
      "Hyperparams: {'batch_size': 800000, 'dt': 0.031622775}. metric: 310463\n",
      "Hyperparams: {'batch_size': 800000, 'dt': 0.01}. metric: 299682\n",
      "Hyperparams: {'batch_size': 800000, 'dt': 0.0031622776}. metric: 244357\n",
      "Hyperparams: {'batch_size': 800000, 'dt': 0.001}. metric: 115542\n",
      "Hyperparams: {'batch_size': 800000, 'dt': 0.00031622776}. metric: 35102\n",
      "Hyperparams: {'batch_size': 800000, 'dt': 1e-04}. metric: 12068\n",
      "Hyperparams: {'batch_size': 800000, 'dt': 3.1622778e-05}. metric: 39675\n",
      "Hyperparams: {'batch_size': 800000, 'dt': 1e-05}. metric: 846\n",
      "Hyperparams: {'batch_size': 800000, 'dt': 3.1622776e-06}. metric: 1159\n",
      "Hyperparams: {'batch_size': 800000, 'dt': 1e-06}. metric: 2127\n",
      "Hyperparams: {'batch_size': 800000, 'dt': 3.1622776e-07}. metric: 2993\n",
      "Hyperparams: {'batch_size': 800000, 'dt': 1e-07}. metric: 3141\n",
      "Hyperparams: {'batch_size': 800000, 'dt': 3.1622776e-08}. metric: 3174\n",
      "Hyperparams: {'batch_size': 80000, 'dt': 0.1}. metric: 210743\n",
      "Hyperparams: {'batch_size': 80000, 'dt': 0.031622775}. metric: 202917\n",
      "Hyperparams: {'batch_size': 80000, 'dt': 0.01}. metric: 169046\n",
      "Hyperparams: {'batch_size': 80000, 'dt': 0.0031622776}. metric: 174764\n",
      "Hyperparams: {'batch_size': 80000, 'dt': 0.001}. metric: 65235\n",
      "Hyperparams: {'batch_size': 80000, 'dt': 0.00031622776}. metric: 14146\n",
      "Hyperparams: {'batch_size': 80000, 'dt': 1e-04}. metric: 14201\n",
      "Hyperparams: {'batch_size': 80000, 'dt': 3.1622778e-05}. metric: 52948\n",
      "Hyperparams: {'batch_size': 80000, 'dt': 1e-05}. metric: 728\n",
      "Hyperparams: {'batch_size': 80000, 'dt': 3.1622776e-06}. metric: 1409\n",
      "Hyperparams: {'batch_size': 80000, 'dt': 1e-06}. metric: 1586\n",
      "Hyperparams: {'batch_size': 80000, 'dt': 3.1622776e-07}. metric: 2386\n",
      "Hyperparams: {'batch_size': 80000, 'dt': 1e-07}. metric: 2932\n",
      "Hyperparams: {'batch_size': 80000, 'dt': 3.1622776e-08}. metric: 3216\n",
      "Hyperparams: {'batch_size': 8000, 'dt': 0.1}. metric: 37803\n",
      "Hyperparams: {'batch_size': 8000, 'dt': 0.031622775}. metric: 46371\n",
      "Hyperparams: {'batch_size': 8000, 'dt': 0.01}. metric: 44840\n",
      "Hyperparams: {'batch_size': 8000, 'dt': 0.0031622776}. metric: 34043\n",
      "Hyperparams: {'batch_size': 8000, 'dt': 0.001}. metric: 30385\n",
      "Hyperparams: {'batch_size': 8000, 'dt': 0.00031622776}. metric: 34968\n",
      "Hyperparams: {'batch_size': 8000, 'dt': 1e-04}. metric: 38154\n",
      "Hyperparams: {'batch_size': 8000, 'dt': 3.1622778e-05}. metric: 18868\n",
      "Hyperparams: {'batch_size': 8000, 'dt': 1e-05}. metric: 1327\n",
      "Hyperparams: {'batch_size': 8000, 'dt': 3.1622776e-06}. metric: 982\n",
      "Hyperparams: {'batch_size': 8000, 'dt': 1e-06}. metric: 887\n",
      "Hyperparams: {'batch_size': 8000, 'dt': 3.1622776e-07}. metric: 1263\n",
      "Hyperparams: {'batch_size': 8000, 'dt': 1e-07}. metric: 2136\n",
      "Hyperparams: {'batch_size': 8000, 'dt': 3.1622776e-08}. metric: 2743\n",
      "Hyperparams: {'batch_size': 800, 'dt': 0.1}. metric: 20279\n",
      "Hyperparams: {'batch_size': 800, 'dt': 0.031622775}. metric: 15953\n",
      "Hyperparams: {'batch_size': 800, 'dt': 0.01}. metric: 18854\n",
      "Hyperparams: {'batch_size': 800, 'dt': 0.0031622776}. metric: 16222\n",
      "Hyperparams: {'batch_size': 800, 'dt': 0.001}. metric: 16422\n",
      "Hyperparams: {'batch_size': 800, 'dt': 0.00031622776}. metric: 17427\n",
      "Hyperparams: {'batch_size': 800, 'dt': 1e-04}. metric: 16834\n",
      "Hyperparams: {'batch_size': 800, 'dt': 3.1622778e-05}. metric: 12801\n",
      "Hyperparams: {'batch_size': 800, 'dt': 1e-05}. metric: 1467\n",
      "Hyperparams: {'batch_size': 800, 'dt': 3.1622776e-06}. metric: 963\n",
      "Hyperparams: {'batch_size': 800, 'dt': 1e-06}. metric: 640\n",
      "Hyperparams: {'batch_size': 800, 'dt': 3.1622776e-07}. metric: 1096\n",
      "Hyperparams: {'batch_size': 800, 'dt': 1e-07}. metric: 906\n",
      "Hyperparams: {'batch_size': 800, 'dt': 3.1622776e-08}. metric: 2250\n",
      "Hyperparams: {'batch_size': 80, 'dt': 0.1}. metric: 19738\n",
      "Hyperparams: {'batch_size': 80, 'dt': 0.031622775}. metric: 19730\n",
      "Hyperparams: {'batch_size': 80, 'dt': 0.01}. metric: 18110\n",
      "Hyperparams: {'batch_size': 80, 'dt': 0.0031622776}. metric: 17110\n",
      "Hyperparams: {'batch_size': 80, 'dt': 0.001}. metric: 16991\n",
      "Hyperparams: {'batch_size': 80, 'dt': 0.00031622776}. metric: 20160\n",
      "Hyperparams: {'batch_size': 80, 'dt': 1e-04}. metric: 14371\n",
      "Hyperparams: {'batch_size': 80, 'dt': 3.1622778e-05}. metric: 20325\n",
      "Hyperparams: {'batch_size': 80, 'dt': 1e-05}. metric: 5458\n",
      "Hyperparams: {'batch_size': 80, 'dt': 3.1622776e-06}. metric: 2447\n",
      "Hyperparams: {'batch_size': 80, 'dt': 1e-06}. metric: 2038\n",
      "Hyperparams: {'batch_size': 80, 'dt': 3.1622776e-07}. metric: 3843\n",
      "Hyperparams: {'batch_size': 80, 'dt': 1e-07}. metric: 2386\n",
      "Hyperparams: {'batch_size': 80, 'dt': 3.1622776e-08}. metric: 2961\n",
      "\n",
      "Number of samples: [46, 3, 2, 17, 47, 47, 16, 47, 2, 15, 13, 3, 47, 3, 32, 2, 15, 47, 37, 3, 33, 15, 3]\n"
     ]
    },
    {
     "data": {
      "application/vnd.jupyter.widget-view+json": {
       "model_id": "7783f245bf66497bbff3606911c53aeb",
       "version_major": 2,
       "version_minor": 0
      },
      "text/plain": [
       "HBox(children=(HTML(value='Iteration 2/3, 23 arms, time budget = 0.23 sec'), FloatProgress(value=0.0, max=23.0…"
      ]
     },
     "metadata": {},
     "output_type": "display_data"
    },
    {
     "name": "stdout",
     "output_type": "stream",
     "text": [
      "Hyperparams: {'batch_size': 800, 'dt': 1e-06}. metric: 400\n",
      "Hyperparams: {'batch_size': 80000, 'dt': 1e-05}. metric: 115\n",
      "Hyperparams: {'batch_size': 800000, 'dt': 1e-05}. metric: 373\n",
      "Hyperparams: {'batch_size': 8000, 'dt': 1e-06}. metric: 353\n",
      "Hyperparams: {'batch_size': 800, 'dt': 1e-07}. metric: 287\n",
      "Hyperparams: {'batch_size': 800, 'dt': 3.1622776e-06}. metric: 856\n",
      "Hyperparams: {'batch_size': 8000, 'dt': 3.1622776e-06}. metric: 214\n",
      "Hyperparams: {'batch_size': 800, 'dt': 3.1622776e-07}. metric: 317\n",
      "Hyperparams: {'batch_size': 800000, 'dt': 3.1622776e-06}. metric: 354\n",
      "Hyperparams: {'batch_size': 8000, 'dt': 3.1622776e-07}. metric: 412\n",
      "Hyperparams: {'batch_size': 8000, 'dt': 1e-05}. metric: 634\n",
      "Hyperparams: {'batch_size': 80000, 'dt': 3.1622776e-06}. metric: 386\n",
      "Hyperparams: {'batch_size': 800, 'dt': 1e-05}. metric: 1214\n",
      "Hyperparams: {'batch_size': 80000, 'dt': 1e-06}. metric: 399\n",
      "Hyperparams: {'batch_size': 80, 'dt': 1e-06}. metric: 1237\n",
      "Hyperparams: {'batch_size': 800000, 'dt': 1e-06}. metric: 711\n",
      "Hyperparams: {'batch_size': 8000, 'dt': 1e-07}. metric: 578\n",
      "Hyperparams: {'batch_size': 800, 'dt': 3.1622776e-08}. metric: 932\n",
      "Hyperparams: {'batch_size': 80, 'dt': 1e-07}. metric: 1547\n",
      "Hyperparams: {'batch_size': 80000, 'dt': 3.1622776e-07}. metric: 1056\n",
      "Hyperparams: {'batch_size': 80, 'dt': 3.1622776e-06}. metric: 3916\n",
      "Hyperparams: {'batch_size': 8000, 'dt': 3.1622776e-08}. metric: 2165\n",
      "Hyperparams: {'batch_size': 80000, 'dt': 1e-07}. metric: 1854\n",
      "\n",
      "Number of samples: [12, 64, 167, 167, 65, 5, 5]\n"
     ]
    },
    {
     "data": {
      "application/vnd.jupyter.widget-view+json": {
       "model_id": "643bf5e0a36f4f3da7c04b3495557cb7",
       "version_major": 2,
       "version_minor": 0
      },
      "text/plain": [
       "HBox(children=(HTML(value='Iteration 3/3, 7 arms, time budget = 0.77 sec'), FloatProgress(value=0.0, max=7.0),…"
      ]
     },
     "metadata": {},
     "output_type": "display_data"
    },
    {
     "name": "stdout",
     "output_type": "stream",
     "text": [
      "Hyperparams: {'batch_size': 80000, 'dt': 1e-05}. metric: 193\n",
      "Hyperparams: {'batch_size': 8000, 'dt': 3.1622776e-06}. metric: 252\n",
      "Hyperparams: {'batch_size': 800, 'dt': 1e-07}. metric: 421\n",
      "Hyperparams: {'batch_size': 800, 'dt': 3.1622776e-07}. metric: 331\n",
      "Hyperparams: {'batch_size': 8000, 'dt': 1e-06}. metric: 212\n",
      "Hyperparams: {'batch_size': 800000, 'dt': 3.1622776e-06}. metric: 178\n",
      "Hyperparams: {'batch_size': 800000, 'dt': 1e-05}. metric: 358\n",
      "\n",
      "Number of samples: [13, 42]\n",
      "Running time: 161.0 sec\n",
      "{'batch_size': 800000, 'dt': 3.1622776e-06} 177.81099 (13, 10)\n"
     ]
    }
   ],
   "source": [
    "build_kernel = lambda dt, batch_size: build_sgld_kernel(dt, loglikelihood, logprior, data, batch_size)\n",
    "\n",
    "grid_params = {'log_dt': logdt_range, \n",
    "               'batch_size': batch_size_range\n",
    "              }\n",
    "best_arm = run_MAMBA(key, build_kernel, error_fn, R, params_IC, \n",
    "                     grid_params=grid_params, get_fb_grads=get_fb_grads)\n",
    "\n",
    "print(best_arm.hyperparameters, best_arm.metric, best_arm.samples.shape)"
   ]
  },
  {
   "cell_type": "code",
   "execution_count": 8,
   "id": "bacbc413",
   "metadata": {
    "scrolled": true
   },
   "outputs": [
    {
     "data": {
      "application/vnd.jupyter.widget-view+json": {
       "model_id": "cc45e250fa09401782175cf4e3578937",
       "version_major": 2,
       "version_minor": 0
      },
      "text/plain": [
       "HBox(children=(HTML(value='Iteration 1/3, 70 arms, time budget = 0.08 sec'), FloatProgress(value=0.0, max=70.0…"
      ]
     },
     "metadata": {},
     "output_type": "display_data"
    },
    {
     "name": "stdout",
     "output_type": "stream",
     "text": [
      "Hyperparams: {'batch_size': 800000, 'dt': 0.1}. metric: 633948\n",
      "Hyperparams: {'batch_size': 800000, 'dt': 0.031622775}. metric: 625294\n",
      "Hyperparams: {'batch_size': 800000, 'dt': 0.01}. metric: 596300\n",
      "Hyperparams: {'batch_size': 800000, 'dt': 0.0031622776}. metric: 477570\n",
      "Hyperparams: {'batch_size': 800000, 'dt': 0.001}. metric: 217501\n",
      "Hyperparams: {'batch_size': 800000, 'dt': 0.00031622776}. metric: 73072\n",
      "Hyperparams: {'batch_size': 800000, 'dt': 1e-04}. metric: 19466\n",
      "Hyperparams: {'batch_size': 800000, 'dt': 3.1622778e-05}. metric: 3622\n",
      "Hyperparams: {'batch_size': 800000, 'dt': 1e-05}. metric: 930\n",
      "Hyperparams: {'batch_size': 800000, 'dt': 3.1622776e-06}. metric: 2590\n",
      "Hyperparams: {'batch_size': 800000, 'dt': 1e-06}. metric: 2878\n",
      "Hyperparams: {'batch_size': 800000, 'dt': 3.1622776e-07}. metric: 3219\n",
      "Hyperparams: {'batch_size': 800000, 'dt': 1e-07}. metric: 3166\n",
      "Hyperparams: {'batch_size': 800000, 'dt': 3.1622776e-08}. metric: 3207\n",
      "Hyperparams: {'batch_size': 80000, 'dt': 0.1}. metric: 211260\n",
      "Hyperparams: {'batch_size': 80000, 'dt': 0.031622775}. metric: 208201\n",
      "Hyperparams: {'batch_size': 80000, 'dt': 0.01}. metric: 198120\n",
      "Hyperparams: {'batch_size': 80000, 'dt': 0.0031622776}. metric: 167212\n",
      "Hyperparams: {'batch_size': 80000, 'dt': 0.001}. metric: 74597\n",
      "Hyperparams: {'batch_size': 80000, 'dt': 0.00031622776}. metric: 23144\n",
      "Hyperparams: {'batch_size': 80000, 'dt': 1e-04}. metric: 13572\n",
      "Hyperparams: {'batch_size': 80000, 'dt': 3.1622778e-05}. metric: 43904\n",
      "Hyperparams: {'batch_size': 80000, 'dt': 1e-05}. metric: 634\n",
      "Hyperparams: {'batch_size': 80000, 'dt': 3.1622776e-06}. metric: 1194\n",
      "Hyperparams: {'batch_size': 80000, 'dt': 1e-06}. metric: 2091\n",
      "Hyperparams: {'batch_size': 80000, 'dt': 3.1622776e-07}. metric: 2402\n",
      "Hyperparams: {'batch_size': 80000, 'dt': 1e-07}. metric: 2926\n",
      "Hyperparams: {'batch_size': 80000, 'dt': 3.1622776e-08}. metric: 3213\n",
      "Hyperparams: {'batch_size': 8000, 'dt': 0.1}. metric: 54326\n",
      "Hyperparams: {'batch_size': 8000, 'dt': 0.031622775}. metric: 50066\n",
      "Hyperparams: {'batch_size': 8000, 'dt': 0.01}. metric: 45459\n",
      "Hyperparams: {'batch_size': 8000, 'dt': 0.0031622776}. metric: 42803\n",
      "Hyperparams: {'batch_size': 8000, 'dt': 0.001}. metric: 28583\n",
      "Hyperparams: {'batch_size': 8000, 'dt': 0.00031622776}. metric: 36879\n",
      "Hyperparams: {'batch_size': 8000, 'dt': 1e-04}. metric: 44912\n",
      "Hyperparams: {'batch_size': 8000, 'dt': 3.1622778e-05}. metric: 33616\n",
      "Hyperparams: {'batch_size': 8000, 'dt': 1e-05}. metric: 132\n",
      "Hyperparams: {'batch_size': 8000, 'dt': 3.1622776e-06}. metric: 294\n",
      "Hyperparams: {'batch_size': 8000, 'dt': 1e-06}. metric: 610\n",
      "Hyperparams: {'batch_size': 8000, 'dt': 3.1622776e-07}. metric: 1145\n",
      "Hyperparams: {'batch_size': 8000, 'dt': 1e-07}. metric: 2147\n",
      "Hyperparams: {'batch_size': 8000, 'dt': 3.1622776e-08}. metric: 2727\n",
      "Hyperparams: {'batch_size': 800, 'dt': 0.1}. metric: 23217\n",
      "Hyperparams: {'batch_size': 800, 'dt': 0.031622775}. metric: 20113\n",
      "Hyperparams: {'batch_size': 800, 'dt': 0.01}. metric: 19672\n",
      "Hyperparams: {'batch_size': 800, 'dt': 0.0031622776}. metric: 16984\n",
      "Hyperparams: {'batch_size': 800, 'dt': 0.001}. metric: 14882\n",
      "Hyperparams: {'batch_size': 800, 'dt': 0.00031622776}. metric: 17000\n",
      "Hyperparams: {'batch_size': 800, 'dt': 1e-04}. metric: 21777\n",
      "Hyperparams: {'batch_size': 800, 'dt': 3.1622778e-05}. metric: 12433\n",
      "Hyperparams: {'batch_size': 800, 'dt': 1e-05}. metric: 129\n",
      "Hyperparams: {'batch_size': 800, 'dt': 3.1622776e-06}. metric: 130\n",
      "Hyperparams: {'batch_size': 800, 'dt': 1e-06}. metric: 154\n",
      "Hyperparams: {'batch_size': 800, 'dt': 3.1622776e-07}. metric: 503\n",
      "Hyperparams: {'batch_size': 800, 'dt': 1e-07}. metric: 733\n",
      "Hyperparams: {'batch_size': 800, 'dt': 3.1622776e-08}. metric: 2037\n",
      "Hyperparams: {'batch_size': 80, 'dt': 0.1}. metric: 20431\n",
      "Hyperparams: {'batch_size': 80, 'dt': 0.031622775}. metric: 19410\n",
      "Hyperparams: {'batch_size': 80, 'dt': 0.01}. metric: 17348\n",
      "Hyperparams: {'batch_size': 80, 'dt': 0.0031622776}. metric: 15571\n",
      "Hyperparams: {'batch_size': 80, 'dt': 0.001}. metric: 12707\n",
      "Hyperparams: {'batch_size': 80, 'dt': 0.00031622776}. metric: 12292\n",
      "Hyperparams: {'batch_size': 80, 'dt': 1e-04}. metric: 15044\n",
      "Hyperparams: {'batch_size': 80, 'dt': 3.1622778e-05}. metric: 10580\n",
      "Hyperparams: {'batch_size': 80, 'dt': 1e-05}. metric: 138\n",
      "Hyperparams: {'batch_size': 80, 'dt': 3.1622776e-06}. metric: 174\n",
      "Hyperparams: {'batch_size': 80, 'dt': 1e-06}. metric: 259\n",
      "Hyperparams: {'batch_size': 80, 'dt': 3.1622776e-07}. metric: 418\n",
      "Hyperparams: {'batch_size': 80, 'dt': 1e-07}. metric: 1355\n",
      "Hyperparams: {'batch_size': 80, 'dt': 3.1622776e-08}. metric: 1996\n",
      "\n",
      "Number of samples: [43, 44, 15, 44, 45, 44, 44, 15, 40, 44, 15, 3, 47, 1, 15, 3, 44, 41, 47, 2, 15, 3, 1]\n"
     ]
    },
    {
     "data": {
      "application/vnd.jupyter.widget-view+json": {
       "model_id": "c5b673d1121849479d33282c2af9164e",
       "version_major": 2,
       "version_minor": 0
      },
      "text/plain": [
       "HBox(children=(HTML(value='Iteration 2/3, 23 arms, time budget = 0.23 sec'), FloatProgress(value=0.0, max=23.0…"
      ]
     },
     "metadata": {},
     "output_type": "display_data"
    },
    {
     "name": "stdout",
     "output_type": "stream",
     "text": [
      "Hyperparams: {'batch_size': 800, 'dt': 1e-05}. metric: 68\n",
      "Hyperparams: {'batch_size': 800, 'dt': 3.1622776e-06}. metric: 69\n",
      "Hyperparams: {'batch_size': 8000, 'dt': 1e-05}. metric: 195\n",
      "Hyperparams: {'batch_size': 80, 'dt': 1e-05}. metric: 156\n",
      "Hyperparams: {'batch_size': 800, 'dt': 1e-06}. metric: 113\n",
      "Hyperparams: {'batch_size': 80, 'dt': 3.1622776e-06}. metric: 70\n",
      "Hyperparams: {'batch_size': 80, 'dt': 1e-06}. metric: 146\n",
      "Hyperparams: {'batch_size': 8000, 'dt': 3.1622776e-06}. metric: 82\n",
      "Hyperparams: {'batch_size': 80, 'dt': 3.1622776e-07}. metric: 142\n",
      "Hyperparams: {'batch_size': 800, 'dt': 3.1622776e-07}. metric: 203\n",
      "Hyperparams: {'batch_size': 8000, 'dt': 1e-06}. metric: 201\n",
      "Hyperparams: {'batch_size': 80000, 'dt': 1e-05}. metric: 298\n",
      "Hyperparams: {'batch_size': 800, 'dt': 1e-07}. metric: 354\n",
      "Hyperparams: {'batch_size': 800000, 'dt': 1e-05}. metric: 543\n",
      "Hyperparams: {'batch_size': 8000, 'dt': 3.1622776e-07}. metric: 323\n",
      "Hyperparams: {'batch_size': 80000, 'dt': 3.1622776e-06}. metric: 318\n",
      "Hyperparams: {'batch_size': 80, 'dt': 1e-07}. metric: 297\n",
      "Hyperparams: {'batch_size': 80, 'dt': 3.1622776e-08}. metric: 610\n",
      "Hyperparams: {'batch_size': 800, 'dt': 3.1622776e-08}. metric: 486\n",
      "Hyperparams: {'batch_size': 80000, 'dt': 1e-06}. metric: 544\n",
      "Hyperparams: {'batch_size': 8000, 'dt': 1e-07}. metric: 656\n",
      "Hyperparams: {'batch_size': 80000, 'dt': 3.1622776e-07}. metric: 1363\n",
      "Hyperparams: {'batch_size': 800000, 'dt': 3.1622776e-06}. metric: 943\n",
      "\n",
      "Number of samples: [184, 185, 167, 54, 172, 159, 160]\n"
     ]
    },
    {
     "data": {
      "application/vnd.jupyter.widget-view+json": {
       "model_id": "a75af70259bf405a8eda4ff014484fde",
       "version_major": 2,
       "version_minor": 0
      },
      "text/plain": [
       "HBox(children=(HTML(value='Iteration 3/3, 7 arms, time budget = 0.77 sec'), FloatProgress(value=0.0, max=7.0),…"
      ]
     },
     "metadata": {},
     "output_type": "display_data"
    },
    {
     "name": "stdout",
     "output_type": "stream",
     "text": [
      "Hyperparams: {'batch_size': 800, 'dt': 1e-05}. metric: 61\n",
      "Hyperparams: {'batch_size': 800, 'dt': 3.1622776e-06}. metric: 30\n",
      "Hyperparams: {'batch_size': 80, 'dt': 3.1622776e-06}. metric: 39\n",
      "Hyperparams: {'batch_size': 8000, 'dt': 3.1622776e-06}. metric: 59\n",
      "Hyperparams: {'batch_size': 800, 'dt': 1e-06}. metric: 58\n",
      "Hyperparams: {'batch_size': 80, 'dt': 3.1622776e-07}. metric: 170\n",
      "Hyperparams: {'batch_size': 80, 'dt': 1e-06}. metric: 71\n",
      "\n",
      "Number of samples: [488, 500]\n",
      "Running time: 171.8 sec\n",
      "{'batch_size': 800, 'dt': 3.1622776e-06} 29.6894 (488, 10)\n"
     ]
    }
   ],
   "source": [
    "build_kernel = lambda dt, batch_size: build_sgldCV_kernel(dt, loglikelihood, \n",
    "                                                  logprior, data, batch_size, centering_value)\n",
    "\n",
    "best_arm = run_MAMBA(key, build_kernel, error_fn, R, params_IC, \n",
    "                     grid_params=grid_params, get_fb_grads=get_fb_grads)\n",
    "\n",
    "print(best_arm.hyperparameters, best_arm.metric, best_arm.samples.shape)"
   ]
  },
  {
   "cell_type": "code",
   "execution_count": 9,
   "id": "6c0a862d",
   "metadata": {},
   "outputs": [
    {
     "data": {
      "application/vnd.jupyter.widget-view+json": {
       "model_id": "8d54d168bac6473fbf6835b0a5b3cb51",
       "version_major": 2,
       "version_minor": 0
      },
      "text/plain": [
       "HBox(children=(HTML(value='Iteration 1/4, 140 arms, time budget = 0.03 sec'), FloatProgress(value=0.0, max=140…"
      ]
     },
     "metadata": {},
     "output_type": "display_data"
    },
    {
     "name": "stdout",
     "output_type": "stream",
     "text": [
      "Hyperparams: {'batch_size': 800000, 'L': 5, 'dt': 0.1}. metric: 391962\n",
      "Hyperparams: {'batch_size': 800000, 'L': 5, 'dt': 0.031622775}. metric: 315911\n",
      "Hyperparams: {'batch_size': 800000, 'L': 5, 'dt': 0.01}. metric: 351372\n",
      "Hyperparams: {'batch_size': 800000, 'L': 5, 'dt': 0.0031622776}. metric: 416450\n",
      "Hyperparams: {'batch_size': 800000, 'L': 5, 'dt': 0.001}. metric: 436851\n",
      "Hyperparams: {'batch_size': 800000, 'L': 5, 'dt': 0.00031622776}. metric: 463559\n",
      "Hyperparams: {'batch_size': 800000, 'L': 5, 'dt': 1e-04}. metric: 347783\n",
      "Hyperparams: {'batch_size': 800000, 'L': 5, 'dt': 3.1622778e-05}. metric: 15751\n",
      "Hyperparams: {'batch_size': 800000, 'L': 5, 'dt': 1e-05}. metric: 10584\n",
      "Hyperparams: {'batch_size': 800000, 'L': 5, 'dt': 3.1622776e-06}. metric: 2970\n",
      "Hyperparams: {'batch_size': 800000, 'L': 5, 'dt': 1e-06}. metric: 1141\n",
      "Hyperparams: {'batch_size': 800000, 'L': 5, 'dt': 3.1622776e-07}. metric: 2790\n",
      "Hyperparams: {'batch_size': 800000, 'L': 5, 'dt': 1e-07}. metric: 2926\n",
      "Hyperparams: {'batch_size': 800000, 'L': 5, 'dt': 3.1622776e-08}. metric: 3181\n",
      "Hyperparams: {'batch_size': 800000, 'L': 10, 'dt': 0.1}. metric: 194684\n",
      "Hyperparams: {'batch_size': 800000, 'L': 10, 'dt': 0.031622775}. metric: 119768\n",
      "Hyperparams: {'batch_size': 800000, 'L': 10, 'dt': 0.01}. metric: 120963\n",
      "Hyperparams: {'batch_size': 800000, 'L': 10, 'dt': 0.0031622776}. metric: 91569\n",
      "Hyperparams: {'batch_size': 800000, 'L': 10, 'dt': 0.001}. metric: 231038\n",
      "Hyperparams: {'batch_size': 800000, 'L': 10, 'dt': 0.00031622776}. metric: 392221\n",
      "Hyperparams: {'batch_size': 800000, 'L': 10, 'dt': 1e-04}. metric: 309389\n",
      "Hyperparams: {'batch_size': 800000, 'L': 10, 'dt': 3.1622778e-05}. metric: 504199\n",
      "Hyperparams: {'batch_size': 800000, 'L': 10, 'dt': 1e-05}. metric: 31992\n",
      "Hyperparams: {'batch_size': 800000, 'L': 10, 'dt': 3.1622776e-06}. metric: 3240\n",
      "Hyperparams: {'batch_size': 800000, 'L': 10, 'dt': 1e-06}. metric: 3472\n",
      "Hyperparams: {'batch_size': 800000, 'L': 10, 'dt': 3.1622776e-07}. metric: 784\n",
      "Hyperparams: {'batch_size': 800000, 'L': 10, 'dt': 1e-07}. metric: 2005\n",
      "Hyperparams: {'batch_size': 800000, 'L': 10, 'dt': 3.1622776e-08}. metric: 3066\n",
      "Hyperparams: {'batch_size': 80000, 'L': 5, 'dt': 0.1}. metric: 305675\n",
      "Hyperparams: {'batch_size': 80000, 'L': 5, 'dt': 0.031622775}. metric: 387552\n",
      "Hyperparams: {'batch_size': 80000, 'L': 5, 'dt': 0.01}. metric: 378238\n",
      "Hyperparams: {'batch_size': 80000, 'L': 5, 'dt': 0.0031622776}. metric: 414214\n",
      "Hyperparams: {'batch_size': 80000, 'L': 5, 'dt': 0.001}. metric: 410169\n",
      "Hyperparams: {'batch_size': 80000, 'L': 5, 'dt': 0.00031622776}. metric: 457529\n",
      "Hyperparams: {'batch_size': 80000, 'L': 5, 'dt': 1e-04}. metric: 283177\n",
      "Hyperparams: {'batch_size': 80000, 'L': 5, 'dt': 3.1622778e-05}. metric: 19464\n",
      "Hyperparams: {'batch_size': 80000, 'L': 5, 'dt': 1e-05}. metric: 10722\n",
      "Hyperparams: {'batch_size': 80000, 'L': 5, 'dt': 3.1622776e-06}. metric: 5516\n",
      "Hyperparams: {'batch_size': 80000, 'L': 5, 'dt': 1e-06}. metric: 1556\n",
      "Hyperparams: {'batch_size': 80000, 'L': 5, 'dt': 3.1622776e-07}. metric: 2628\n",
      "Hyperparams: {'batch_size': 80000, 'L': 5, 'dt': 1e-07}. metric: 2811\n",
      "Hyperparams: {'batch_size': 80000, 'L': 5, 'dt': 3.1622776e-08}. metric: 3139\n",
      "Hyperparams: {'batch_size': 80000, 'L': 10, 'dt': 0.1}. metric: 203186\n",
      "Hyperparams: {'batch_size': 80000, 'L': 10, 'dt': 0.031622775}. metric: 117821\n",
      "Hyperparams: {'batch_size': 80000, 'L': 10, 'dt': 0.01}. metric: 124577\n",
      "Hyperparams: {'batch_size': 80000, 'L': 10, 'dt': 0.0031622776}. metric: 97217\n",
      "Hyperparams: {'batch_size': 80000, 'L': 10, 'dt': 0.001}. metric: 270410\n",
      "Hyperparams: {'batch_size': 80000, 'L': 10, 'dt': 0.00031622776}. metric: 357170\n",
      "Hyperparams: {'batch_size': 80000, 'L': 10, 'dt': 1e-04}. metric: 346073\n",
      "Hyperparams: {'batch_size': 80000, 'L': 10, 'dt': 3.1622778e-05}. metric: 469509\n",
      "Hyperparams: {'batch_size': 80000, 'L': 10, 'dt': 1e-05}. metric: 23218\n",
      "Hyperparams: {'batch_size': 80000, 'L': 10, 'dt': 3.1622776e-06}. metric: 1755\n",
      "Hyperparams: {'batch_size': 80000, 'L': 10, 'dt': 1e-06}. metric: 3918\n",
      "Hyperparams: {'batch_size': 80000, 'L': 10, 'dt': 3.1622776e-07}. metric: 1186\n",
      "Hyperparams: {'batch_size': 80000, 'L': 10, 'dt': 1e-07}. metric: 2370\n",
      "Hyperparams: {'batch_size': 80000, 'L': 10, 'dt': 3.1622776e-08}. metric: 2835\n",
      "Hyperparams: {'batch_size': 8000, 'L': 5, 'dt': 0.1}. metric: 206208\n",
      "Hyperparams: {'batch_size': 8000, 'L': 5, 'dt': 0.031622775}. metric: 187390\n",
      "Hyperparams: {'batch_size': 8000, 'L': 5, 'dt': 0.01}. metric: 186811\n",
      "Hyperparams: {'batch_size': 8000, 'L': 5, 'dt': 0.0031622776}. metric: 186553\n",
      "Hyperparams: {'batch_size': 8000, 'L': 5, 'dt': 0.001}. metric: 210166\n",
      "Hyperparams: {'batch_size': 8000, 'L': 5, 'dt': 0.00031622776}. metric: 234434\n",
      "Hyperparams: {'batch_size': 8000, 'L': 5, 'dt': 1e-04}. metric: 184308\n",
      "Hyperparams: {'batch_size': 8000, 'L': 5, 'dt': 3.1622778e-05}. metric: 21349\n",
      "Hyperparams: {'batch_size': 8000, 'L': 5, 'dt': 1e-05}. metric: 14388\n",
      "Hyperparams: {'batch_size': 8000, 'L': 5, 'dt': 3.1622776e-06}. metric: 11023\n",
      "Hyperparams: {'batch_size': 8000, 'L': 5, 'dt': 1e-06}. metric: 1641\n",
      "Hyperparams: {'batch_size': 8000, 'L': 5, 'dt': 3.1622776e-07}. metric: 1262\n",
      "Hyperparams: {'batch_size': 8000, 'L': 5, 'dt': 1e-07}. metric: 2510\n",
      "Hyperparams: {'batch_size': 8000, 'L': 5, 'dt': 3.1622776e-08}. metric: 3034\n",
      "Hyperparams: {'batch_size': 8000, 'L': 10, 'dt': 0.1}. metric: 135083\n",
      "Hyperparams: {'batch_size': 8000, 'L': 10, 'dt': 0.031622775}. metric: 159430\n",
      "Hyperparams: {'batch_size': 8000, 'L': 10, 'dt': 0.01}. metric: 99070\n",
      "Hyperparams: {'batch_size': 8000, 'L': 10, 'dt': 0.0031622776}. metric: 117699\n",
      "Hyperparams: {'batch_size': 8000, 'L': 10, 'dt': 0.001}. metric: 183507\n",
      "Hyperparams: {'batch_size': 8000, 'L': 10, 'dt': 0.00031622776}. metric: 308402\n",
      "Hyperparams: {'batch_size': 8000, 'L': 10, 'dt': 1e-04}. metric: 108410\n",
      "Hyperparams: {'batch_size': 8000, 'L': 10, 'dt': 3.1622778e-05}. metric: 498424\n",
      "Hyperparams: {'batch_size': 8000, 'L': 10, 'dt': 1e-05}. metric: 79165\n",
      "Hyperparams: {'batch_size': 8000, 'L': 10, 'dt': 3.1622776e-06}. metric: 5396\n",
      "Hyperparams: {'batch_size': 8000, 'L': 10, 'dt': 1e-06}. metric: 7176\n",
      "Hyperparams: {'batch_size': 8000, 'L': 10, 'dt': 3.1622776e-07}. metric: 1050\n",
      "Hyperparams: {'batch_size': 8000, 'L': 10, 'dt': 1e-07}. metric: 2240\n",
      "Hyperparams: {'batch_size': 8000, 'L': 10, 'dt': 3.1622776e-08}. metric: 3016\n",
      "Hyperparams: {'batch_size': 800, 'L': 5, 'dt': 0.1}. metric: 68155\n",
      "Hyperparams: {'batch_size': 800, 'L': 5, 'dt': 0.031622775}. metric: 57035\n",
      "Hyperparams: {'batch_size': 800, 'L': 5, 'dt': 0.01}. metric: 42416\n",
      "Hyperparams: {'batch_size': 800, 'L': 5, 'dt': 0.0031622776}. metric: 45929\n",
      "Hyperparams: {'batch_size': 800, 'L': 5, 'dt': 0.001}. metric: 37818\n",
      "Hyperparams: {'batch_size': 800, 'L': 5, 'dt': 0.00031622776}. metric: 45739\n",
      "Hyperparams: {'batch_size': 800, 'L': 5, 'dt': 1e-04}. metric: 43477\n",
      "Hyperparams: {'batch_size': 800, 'L': 5, 'dt': 3.1622778e-05}. metric: 32026\n",
      "Hyperparams: {'batch_size': 800, 'L': 5, 'dt': 1e-05}. metric: 34831\n",
      "Hyperparams: {'batch_size': 800, 'L': 5, 'dt': 3.1622776e-06}. metric: 7950\n",
      "Hyperparams: {'batch_size': 800, 'L': 5, 'dt': 1e-06}. metric: 1228\n",
      "Hyperparams: {'batch_size': 800, 'L': 5, 'dt': 3.1622776e-07}. metric: 801\n",
      "Hyperparams: {'batch_size': 800, 'L': 5, 'dt': 1e-07}. metric: 1114\n",
      "Hyperparams: {'batch_size': 800, 'L': 5, 'dt': 3.1622776e-08}. metric: 1666\n",
      "Hyperparams: {'batch_size': 800, 'L': 10, 'dt': 0.1}. metric: 146785\n",
      "Hyperparams: {'batch_size': 800, 'L': 10, 'dt': 0.031622775}. metric: 100366\n",
      "Hyperparams: {'batch_size': 800, 'L': 10, 'dt': 0.01}. metric: 58097\n",
      "Hyperparams: {'batch_size': 800, 'L': 10, 'dt': 0.0031622776}. metric: 47722\n",
      "Hyperparams: {'batch_size': 800, 'L': 10, 'dt': 0.001}. metric: 44035\n",
      "Hyperparams: {'batch_size': 800, 'L': 10, 'dt': 0.00031622776}. metric: 58446\n",
      "Hyperparams: {'batch_size': 800, 'L': 10, 'dt': 1e-04}. metric: 61130\n",
      "Hyperparams: {'batch_size': 800, 'L': 10, 'dt': 3.1622778e-05}. metric: 66688\n",
      "Hyperparams: {'batch_size': 800, 'L': 10, 'dt': 1e-05}. metric: 43858\n",
      "Hyperparams: {'batch_size': 800, 'L': 10, 'dt': 3.1622776e-06}. metric: 62918\n",
      "Hyperparams: {'batch_size': 800, 'L': 10, 'dt': 1e-06}. metric: 36932\n",
      "Hyperparams: {'batch_size': 800, 'L': 10, 'dt': 3.1622776e-07}. metric: 2089\n"
     ]
    },
    {
     "name": "stdout",
     "output_type": "stream",
     "text": [
      "Hyperparams: {'batch_size': 800, 'L': 10, 'dt': 1e-07}. metric: 1110\n",
      "Hyperparams: {'batch_size': 800, 'L': 10, 'dt': 3.1622776e-08}. metric: 676\n",
      "Hyperparams: {'batch_size': 80, 'L': 5, 'dt': 0.1}. metric: 56658\n",
      "Hyperparams: {'batch_size': 80, 'L': 5, 'dt': 0.031622775}. metric: 48415\n",
      "Hyperparams: {'batch_size': 80, 'L': 5, 'dt': 0.01}. metric: 29002\n",
      "Hyperparams: {'batch_size': 80, 'L': 5, 'dt': 0.0031622776}. metric: 39723\n",
      "Hyperparams: {'batch_size': 80, 'L': 5, 'dt': 0.001}. metric: 32819\n",
      "Hyperparams: {'batch_size': 80, 'L': 5, 'dt': 0.00031622776}. metric: 32871\n",
      "Hyperparams: {'batch_size': 80, 'L': 5, 'dt': 1e-04}. metric: 36657\n",
      "Hyperparams: {'batch_size': 80, 'L': 5, 'dt': 3.1622778e-05}. metric: 40703\n",
      "Hyperparams: {'batch_size': 80, 'L': 5, 'dt': 1e-05}. metric: 20030\n",
      "Hyperparams: {'batch_size': 80, 'L': 5, 'dt': 3.1622776e-06}. metric: 18711\n",
      "Hyperparams: {'batch_size': 80, 'L': 5, 'dt': 1e-06}. metric: 5013\n",
      "Hyperparams: {'batch_size': 80, 'L': 5, 'dt': 3.1622776e-07}. metric: 2569\n",
      "Hyperparams: {'batch_size': 80, 'L': 5, 'dt': 1e-07}. metric: 2689\n",
      "Hyperparams: {'batch_size': 80, 'L': 5, 'dt': 3.1622776e-08}. metric: 1682\n",
      "Hyperparams: {'batch_size': 80, 'L': 10, 'dt': 0.1}. metric: 105086\n",
      "Hyperparams: {'batch_size': 80, 'L': 10, 'dt': 0.031622775}. metric: 68405\n",
      "Hyperparams: {'batch_size': 80, 'L': 10, 'dt': 0.01}. metric: 49221\n",
      "Hyperparams: {'batch_size': 80, 'L': 10, 'dt': 0.0031622776}. metric: 32960\n",
      "Hyperparams: {'batch_size': 80, 'L': 10, 'dt': 0.001}. metric: 32823\n",
      "Hyperparams: {'batch_size': 80, 'L': 10, 'dt': 0.00031622776}. metric: 29626\n",
      "Hyperparams: {'batch_size': 80, 'L': 10, 'dt': 1e-04}. metric: 33706\n",
      "Hyperparams: {'batch_size': 80, 'L': 10, 'dt': 3.1622778e-05}. metric: 30430\n",
      "Hyperparams: {'batch_size': 80, 'L': 10, 'dt': 1e-05}. metric: 23795\n",
      "Hyperparams: {'batch_size': 80, 'L': 10, 'dt': 3.1622776e-06}. metric: 35456\n",
      "Hyperparams: {'batch_size': 80, 'L': 10, 'dt': 1e-06}. metric: 18305\n",
      "Hyperparams: {'batch_size': 80, 'L': 10, 'dt': 3.1622776e-07}. metric: 6810\n",
      "Hyperparams: {'batch_size': 80, 'L': 10, 'dt': 1e-07}. metric: 2699\n",
      "Hyperparams: {'batch_size': 80, 'L': 10, 'dt': 3.1622776e-08}. metric: 1850\n",
      "\n",
      "Number of samples: [7, 1, 10, 1, 7, 10, 1, 1, 10, 2, 1, 2, 7, 14, 1, 14, 1, 7, 1, 1, 2, 14, 1, 14, 13, 1, 1, 1, 1, 1, 1, 2, 1, 1, 1, 1, 1, 1, 14, 1, 1, 12, 1, 10, 1, 1]\n"
     ]
    },
    {
     "data": {
      "application/vnd.jupyter.widget-view+json": {
       "model_id": "9e86cfc1f0da4267a5db5091d101bd79",
       "version_major": 2,
       "version_minor": 0
      },
      "text/plain": [
       "HBox(children=(HTML(value='Iteration 2/4, 46 arms, time budget = 0.08 sec'), FloatProgress(value=0.0, max=46.0…"
      ]
     },
     "metadata": {},
     "output_type": "display_data"
    },
    {
     "name": "stdout",
     "output_type": "stream",
     "text": [
      "Hyperparams: {'batch_size': 800, 'L': 10, 'dt': 3.1622776e-08}. metric: 372\n",
      "Hyperparams: {'batch_size': 800000, 'L': 10, 'dt': 3.1622776e-07}. metric: 616\n",
      "Hyperparams: {'batch_size': 800, 'L': 5, 'dt': 3.1622776e-07}. metric: 513\n",
      "Hyperparams: {'batch_size': 8000, 'L': 10, 'dt': 3.1622776e-07}. metric: 728\n",
      "Hyperparams: {'batch_size': 800, 'L': 10, 'dt': 1e-07}. metric: 442\n",
      "Hyperparams: {'batch_size': 800, 'L': 5, 'dt': 1e-07}. metric: 679\n",
      "Hyperparams: {'batch_size': 800000, 'L': 5, 'dt': 1e-06}. metric: 484\n",
      "Hyperparams: {'batch_size': 80000, 'L': 10, 'dt': 3.1622776e-07}. metric: 880\n",
      "Hyperparams: {'batch_size': 800, 'L': 5, 'dt': 1e-06}. metric: 1152\n",
      "Hyperparams: {'batch_size': 8000, 'L': 5, 'dt': 3.1622776e-07}. metric: 616\n",
      "Hyperparams: {'batch_size': 80000, 'L': 5, 'dt': 1e-06}. metric: 835\n",
      "Hyperparams: {'batch_size': 8000, 'L': 5, 'dt': 1e-06}. metric: 749\n",
      "Hyperparams: {'batch_size': 800, 'L': 5, 'dt': 3.1622776e-08}. metric: 558\n",
      "Hyperparams: {'batch_size': 80, 'L': 5, 'dt': 3.1622776e-08}. metric: 1522\n",
      "Hyperparams: {'batch_size': 80000, 'L': 10, 'dt': 3.1622776e-06}. metric: 9128\n",
      "Hyperparams: {'batch_size': 80, 'L': 10, 'dt': 3.1622776e-08}. metric: 1149\n",
      "Hyperparams: {'batch_size': 800000, 'L': 10, 'dt': 1e-07}. metric: 1193\n",
      "Hyperparams: {'batch_size': 800, 'L': 10, 'dt': 3.1622776e-07}. metric: 978\n",
      "Hyperparams: {'batch_size': 8000, 'L': 10, 'dt': 1e-07}. metric: 784\n",
      "Hyperparams: {'batch_size': 80000, 'L': 10, 'dt': 1e-07}. metric: 957\n",
      "Hyperparams: {'batch_size': 8000, 'L': 5, 'dt': 1e-07}. metric: 931\n",
      "Hyperparams: {'batch_size': 80, 'L': 5, 'dt': 3.1622776e-07}. metric: 2306\n",
      "Hyperparams: {'batch_size': 80000, 'L': 5, 'dt': 3.1622776e-07}. metric: 1263\n",
      "Hyperparams: {'batch_size': 80, 'L': 5, 'dt': 1e-07}. metric: 638\n",
      "Hyperparams: {'batch_size': 80, 'L': 10, 'dt': 1e-07}. metric: 1202\n",
      "Hyperparams: {'batch_size': 800000, 'L': 5, 'dt': 3.1622776e-07}. metric: 1629\n",
      "Hyperparams: {'batch_size': 80000, 'L': 5, 'dt': 1e-07}. metric: 2242\n",
      "Hyperparams: {'batch_size': 80000, 'L': 10, 'dt': 3.1622776e-08}. metric: 2193\n",
      "Hyperparams: {'batch_size': 800000, 'L': 5, 'dt': 1e-07}. metric: 2420\n",
      "Hyperparams: {'batch_size': 800000, 'L': 5, 'dt': 3.1622776e-06}. metric: 2781\n",
      "Hyperparams: {'batch_size': 8000, 'L': 10, 'dt': 3.1622776e-08}. metric: 731\n",
      "Hyperparams: {'batch_size': 8000, 'L': 5, 'dt': 3.1622776e-08}. metric: 1829\n",
      "Hyperparams: {'batch_size': 800000, 'L': 10, 'dt': 3.1622776e-08}. metric: 2445\n",
      "Hyperparams: {'batch_size': 80000, 'L': 5, 'dt': 3.1622776e-08}. metric: 3094\n",
      "Hyperparams: {'batch_size': 800000, 'L': 5, 'dt': 3.1622776e-08}. metric: 3033\n",
      "Hyperparams: {'batch_size': 800000, 'L': 10, 'dt': 3.1622776e-06}. metric: 3549\n",
      "Hyperparams: {'batch_size': 800000, 'L': 10, 'dt': 1e-06}. metric: 4600\n",
      "Hyperparams: {'batch_size': 80000, 'L': 10, 'dt': 1e-06}. metric: 7030\n",
      "Hyperparams: {'batch_size': 80, 'L': 5, 'dt': 1e-06}. metric: 2800\n",
      "Hyperparams: {'batch_size': 8000, 'L': 10, 'dt': 3.1622776e-06}. metric: 95816\n",
      "Hyperparams: {'batch_size': 80000, 'L': 5, 'dt': 3.1622776e-06}. metric: 6057\n",
      "Hyperparams: {'batch_size': 80, 'L': 10, 'dt': 3.1622776e-07}. metric: 2433\n",
      "Hyperparams: {'batch_size': 8000, 'L': 10, 'dt': 1e-06}. metric: 59828\n",
      "Hyperparams: {'batch_size': 800, 'L': 5, 'dt': 3.1622776e-06}. metric: 10028\n",
      "Hyperparams: {'batch_size': 800000, 'L': 5, 'dt': 1e-05}. metric: 136171\n",
      "Hyperparams: {'batch_size': 80000, 'L': 5, 'dt': 1e-05}. metric: 461266\n",
      "\n",
      "Number of samples: [27, 27, 2, 37, 34, 2, 7, 48, 37, 4, 4, 7, 4, 2, 2]\n"
     ]
    },
    {
     "data": {
      "application/vnd.jupyter.widget-view+json": {
       "model_id": "3aeaf20f140f48a1b6d8db2e56f22ad5",
       "version_major": 2,
       "version_minor": 0
      },
      "text/plain": [
       "HBox(children=(HTML(value='Iteration 3/4, 15 arms, time budget = 0.23 sec'), FloatProgress(value=0.0, max=15.0…"
      ]
     },
     "metadata": {},
     "output_type": "display_data"
    },
    {
     "name": "stdout",
     "output_type": "stream",
     "text": [
      "Hyperparams: {'batch_size': 800, 'L': 10, 'dt': 3.1622776e-08}. metric: 186\n",
      "Hyperparams: {'batch_size': 800, 'L': 10, 'dt': 1e-07}. metric: 408\n",
      "Hyperparams: {'batch_size': 800000, 'L': 5, 'dt': 1e-06}. metric: 746\n",
      "Hyperparams: {'batch_size': 800, 'L': 5, 'dt': 3.1622776e-07}. metric: 534\n",
      "Hyperparams: {'batch_size': 800, 'L': 5, 'dt': 3.1622776e-08}. metric: 191\n",
      "Hyperparams: {'batch_size': 800000, 'L': 10, 'dt': 3.1622776e-07}. metric: 637\n",
      "Hyperparams: {'batch_size': 8000, 'L': 5, 'dt': 3.1622776e-07}. metric: 414\n",
      "Hyperparams: {'batch_size': 80, 'L': 5, 'dt': 1e-07}. metric: 1165\n",
      "Hyperparams: {'batch_size': 800, 'L': 5, 'dt': 1e-07}. metric: 381\n",
      "Hyperparams: {'batch_size': 8000, 'L': 10, 'dt': 3.1622776e-07}. metric: 384\n",
      "Hyperparams: {'batch_size': 8000, 'L': 10, 'dt': 3.1622776e-08}. metric: 602\n",
      "Hyperparams: {'batch_size': 8000, 'L': 5, 'dt': 1e-06}. metric: 410\n",
      "Hyperparams: {'batch_size': 8000, 'L': 10, 'dt': 1e-07}. metric: 218\n",
      "Hyperparams: {'batch_size': 80000, 'L': 5, 'dt': 1e-06}. metric: 483\n",
      "Hyperparams: {'batch_size': 80000, 'L': 10, 'dt': 3.1622776e-07}. metric: 304\n",
      "\n",
      "Number of samples: [94, 131, 11, 4, 127]\n"
     ]
    },
    {
     "data": {
      "application/vnd.jupyter.widget-view+json": {
       "model_id": "50ba66e1fd9c4883b26546ac16935d77",
       "version_major": 2,
       "version_minor": 0
      },
      "text/plain": [
       "HBox(children=(HTML(value='Iteration 4/4, 5 arms, time budget = 0.70 sec'), FloatProgress(value=0.0, max=5.0),…"
      ]
     },
     "metadata": {},
     "output_type": "display_data"
    },
    {
     "name": "stdout",
     "output_type": "stream",
     "text": [
      "Hyperparams: {'batch_size': 800, 'L': 10, 'dt': 3.1622776e-08}. metric: 257\n",
      "Hyperparams: {'batch_size': 800, 'L': 5, 'dt': 3.1622776e-08}. metric: 200\n",
      "Hyperparams: {'batch_size': 8000, 'L': 10, 'dt': 1e-07}. metric: 339\n",
      "Hyperparams: {'batch_size': 80000, 'L': 10, 'dt': 3.1622776e-07}. metric: 222\n",
      "Hyperparams: {'batch_size': 800, 'L': 5, 'dt': 1e-07}. metric: 207\n",
      "\n",
      "Number of samples: [417]\n",
      "Running time: 319.8 sec\n",
      "{'batch_size': 800, 'L': 5, 'dt': 3.1622776e-08} 199.65329 (417, 10)\n"
     ]
    }
   ],
   "source": [
    "build_kernel = lambda dt, L, batch_size: build_sghmc_kernel(dt, L, loglikelihood, \n",
    "                                                  logprior, data, batch_size)\n",
    "\n",
    "grid_params = {'log_dt': logdt_range, \n",
    "               'batch_size': batch_size_range,\n",
    "               \"L\": [5, 10]\n",
    "              }\n",
    "best_arm = run_MAMBA(key, build_kernel, error_fn, R, params_IC, \n",
    "                     grid_params=grid_params, get_fb_grads=get_fb_grads)\n",
    "\n",
    "print(best_arm.hyperparameters, best_arm.metric, best_arm.samples.shape)"
   ]
  },
  {
   "cell_type": "code",
   "execution_count": 10,
   "id": "a39f7bf0",
   "metadata": {},
   "outputs": [
    {
     "data": {
      "application/vnd.jupyter.widget-view+json": {
       "model_id": "891125d38c8047cd9b7a066ea8d36ec9",
       "version_major": 2,
       "version_minor": 0
      },
      "text/plain": [
       "HBox(children=(HTML(value='Iteration 1/4, 140 arms, time budget = 0.03 sec'), FloatProgress(value=0.0, max=140…"
      ]
     },
     "metadata": {},
     "output_type": "display_data"
    },
    {
     "name": "stdout",
     "output_type": "stream",
     "text": [
      "Hyperparams: {'batch_size': 800000, 'L': 5, 'dt': 0.1}. metric: 390082\n",
      "Hyperparams: {'batch_size': 800000, 'L': 5, 'dt': 0.031622775}. metric: 309232\n",
      "Hyperparams: {'batch_size': 800000, 'L': 5, 'dt': 0.01}. metric: 346898\n",
      "Hyperparams: {'batch_size': 800000, 'L': 5, 'dt': 0.0031622776}. metric: 416598\n",
      "Hyperparams: {'batch_size': 800000, 'L': 5, 'dt': 0.001}. metric: 435713\n",
      "Hyperparams: {'batch_size': 800000, 'L': 5, 'dt': 0.00031622776}. metric: 458591\n",
      "Hyperparams: {'batch_size': 800000, 'L': 5, 'dt': 1e-04}. metric: 336311\n",
      "Hyperparams: {'batch_size': 800000, 'L': 5, 'dt': 3.1622778e-05}. metric: 11153\n",
      "Hyperparams: {'batch_size': 800000, 'L': 5, 'dt': 1e-05}. metric: 10747\n",
      "Hyperparams: {'batch_size': 800000, 'L': 5, 'dt': 3.1622776e-06}. metric: 3178\n",
      "Hyperparams: {'batch_size': 800000, 'L': 5, 'dt': 1e-06}. metric: 1073\n",
      "Hyperparams: {'batch_size': 800000, 'L': 5, 'dt': 3.1622776e-07}. metric: 2778\n",
      "Hyperparams: {'batch_size': 800000, 'L': 5, 'dt': 1e-07}. metric: 2921\n",
      "Hyperparams: {'batch_size': 800000, 'L': 5, 'dt': 3.1622776e-08}. metric: 3180\n",
      "Hyperparams: {'batch_size': 800000, 'L': 10, 'dt': 0.1}. metric: 185260\n",
      "Hyperparams: {'batch_size': 800000, 'L': 10, 'dt': 0.031622775}. metric: 119656\n",
      "Hyperparams: {'batch_size': 800000, 'L': 10, 'dt': 0.01}. metric: 125526\n",
      "Hyperparams: {'batch_size': 800000, 'L': 10, 'dt': 0.0031622776}. metric: 77362\n",
      "Hyperparams: {'batch_size': 800000, 'L': 10, 'dt': 0.001}. metric: 237016\n",
      "Hyperparams: {'batch_size': 800000, 'L': 10, 'dt': 0.00031622776}. metric: 392118\n",
      "Hyperparams: {'batch_size': 800000, 'L': 10, 'dt': 1e-04}. metric: 318225\n",
      "Hyperparams: {'batch_size': 800000, 'L': 10, 'dt': 3.1622778e-05}. metric: 499665\n",
      "Hyperparams: {'batch_size': 800000, 'L': 10, 'dt': 1e-05}. metric: 31613\n",
      "Hyperparams: {'batch_size': 800000, 'L': 10, 'dt': 3.1622776e-06}. metric: 3471\n",
      "Hyperparams: {'batch_size': 800000, 'L': 10, 'dt': 1e-06}. metric: 3443\n",
      "Hyperparams: {'batch_size': 800000, 'L': 10, 'dt': 3.1622776e-07}. metric: 762\n",
      "Hyperparams: {'batch_size': 800000, 'L': 10, 'dt': 1e-07}. metric: 2002\n",
      "Hyperparams: {'batch_size': 800000, 'L': 10, 'dt': 3.1622776e-08}. metric: 3055\n",
      "Hyperparams: {'batch_size': 80000, 'L': 5, 'dt': 0.1}. metric: 315306\n",
      "Hyperparams: {'batch_size': 80000, 'L': 5, 'dt': 0.031622775}. metric: 375995\n",
      "Hyperparams: {'batch_size': 80000, 'L': 5, 'dt': 0.01}. metric: 383295\n",
      "Hyperparams: {'batch_size': 80000, 'L': 5, 'dt': 0.0031622776}. metric: 409277\n",
      "Hyperparams: {'batch_size': 80000, 'L': 5, 'dt': 0.001}. metric: 441228\n",
      "Hyperparams: {'batch_size': 80000, 'L': 5, 'dt': 0.00031622776}. metric: 456433\n",
      "Hyperparams: {'batch_size': 80000, 'L': 5, 'dt': 1e-04}. metric: 332370\n",
      "Hyperparams: {'batch_size': 80000, 'L': 5, 'dt': 3.1622778e-05}. metric: 18890\n",
      "Hyperparams: {'batch_size': 80000, 'L': 5, 'dt': 1e-05}. metric: 10732\n",
      "Hyperparams: {'batch_size': 80000, 'L': 5, 'dt': 3.1622776e-06}. metric: 4219\n",
      "Hyperparams: {'batch_size': 80000, 'L': 5, 'dt': 1e-06}. metric: 1491\n",
      "Hyperparams: {'batch_size': 80000, 'L': 5, 'dt': 3.1622776e-07}. metric: 2602\n",
      "Hyperparams: {'batch_size': 80000, 'L': 5, 'dt': 1e-07}. metric: 2808\n",
      "Hyperparams: {'batch_size': 80000, 'L': 5, 'dt': 3.1622776e-08}. metric: 3124\n",
      "Hyperparams: {'batch_size': 80000, 'L': 10, 'dt': 0.1}. metric: 172423\n",
      "Hyperparams: {'batch_size': 80000, 'L': 10, 'dt': 0.031622775}. metric: 118226\n",
      "Hyperparams: {'batch_size': 80000, 'L': 10, 'dt': 0.01}. metric: 127179\n",
      "Hyperparams: {'batch_size': 80000, 'L': 10, 'dt': 0.0031622776}. metric: 109437\n",
      "Hyperparams: {'batch_size': 80000, 'L': 10, 'dt': 0.001}. metric: 296688\n",
      "Hyperparams: {'batch_size': 80000, 'L': 10, 'dt': 0.00031622776}. metric: 386752\n",
      "Hyperparams: {'batch_size': 80000, 'L': 10, 'dt': 1e-04}. metric: 320278\n",
      "Hyperparams: {'batch_size': 80000, 'L': 10, 'dt': 3.1622778e-05}. metric: 498027\n",
      "Hyperparams: {'batch_size': 80000, 'L': 10, 'dt': 1e-05}. metric: 29531\n",
      "Hyperparams: {'batch_size': 80000, 'L': 10, 'dt': 3.1622776e-06}. metric: 2078\n",
      "Hyperparams: {'batch_size': 80000, 'L': 10, 'dt': 1e-06}. metric: 3723\n",
      "Hyperparams: {'batch_size': 80000, 'L': 10, 'dt': 3.1622776e-07}. metric: 809\n",
      "Hyperparams: {'batch_size': 80000, 'L': 10, 'dt': 1e-07}. metric: 2428\n",
      "Hyperparams: {'batch_size': 80000, 'L': 10, 'dt': 3.1622776e-08}. metric: 2902\n",
      "Hyperparams: {'batch_size': 8000, 'L': 5, 'dt': 0.1}. metric: 220973\n",
      "Hyperparams: {'batch_size': 8000, 'L': 5, 'dt': 0.031622775}. metric: 188251\n",
      "Hyperparams: {'batch_size': 8000, 'L': 5, 'dt': 0.01}. metric: 195322\n",
      "Hyperparams: {'batch_size': 8000, 'L': 5, 'dt': 0.0031622776}. metric: 205080\n",
      "Hyperparams: {'batch_size': 8000, 'L': 5, 'dt': 0.001}. metric: 218387\n",
      "Hyperparams: {'batch_size': 8000, 'L': 5, 'dt': 0.00031622776}. metric: 228273\n",
      "Hyperparams: {'batch_size': 8000, 'L': 5, 'dt': 1e-04}. metric: 164172\n",
      "Hyperparams: {'batch_size': 8000, 'L': 5, 'dt': 3.1622778e-05}. metric: 37281\n",
      "Hyperparams: {'batch_size': 8000, 'L': 5, 'dt': 1e-05}. metric: 14249\n",
      "Hyperparams: {'batch_size': 8000, 'L': 5, 'dt': 3.1622776e-06}. metric: 5179\n",
      "Hyperparams: {'batch_size': 8000, 'L': 5, 'dt': 1e-06}. metric: 1070\n",
      "Hyperparams: {'batch_size': 8000, 'L': 5, 'dt': 3.1622776e-07}. metric: 1401\n",
      "Hyperparams: {'batch_size': 8000, 'L': 5, 'dt': 1e-07}. metric: 2314\n",
      "Hyperparams: {'batch_size': 8000, 'L': 5, 'dt': 3.1622776e-08}. metric: 2935\n",
      "Hyperparams: {'batch_size': 8000, 'L': 10, 'dt': 0.1}. metric: 146543\n",
      "Hyperparams: {'batch_size': 8000, 'L': 10, 'dt': 0.031622775}. metric: 141226\n",
      "Hyperparams: {'batch_size': 8000, 'L': 10, 'dt': 0.01}. metric: 104461\n",
      "Hyperparams: {'batch_size': 8000, 'L': 10, 'dt': 0.0031622776}. metric: 69237\n",
      "Hyperparams: {'batch_size': 8000, 'L': 10, 'dt': 0.001}. metric: 202614\n",
      "Hyperparams: {'batch_size': 8000, 'L': 10, 'dt': 0.00031622776}. metric: 378913\n",
      "Hyperparams: {'batch_size': 8000, 'L': 10, 'dt': 1e-04}. metric: 366227\n",
      "Hyperparams: {'batch_size': 8000, 'L': 10, 'dt': 3.1622778e-05}. metric: 498208\n",
      "Hyperparams: {'batch_size': 8000, 'L': 10, 'dt': 1e-05}. metric: 35493\n",
      "Hyperparams: {'batch_size': 8000, 'L': 10, 'dt': 3.1622776e-06}. metric: 3719\n",
      "Hyperparams: {'batch_size': 8000, 'L': 10, 'dt': 1e-06}. metric: 3513\n",
      "Hyperparams: {'batch_size': 8000, 'L': 10, 'dt': 3.1622776e-07}. metric: 864\n",
      "Hyperparams: {'batch_size': 8000, 'L': 10, 'dt': 1e-07}. metric: 2709\n",
      "Hyperparams: {'batch_size': 8000, 'L': 10, 'dt': 3.1622776e-08}. metric: 2910\n",
      "Hyperparams: {'batch_size': 800, 'L': 5, 'dt': 0.1}. metric: 89581\n",
      "Hyperparams: {'batch_size': 800, 'L': 5, 'dt': 0.031622775}. metric: 71125\n",
      "Hyperparams: {'batch_size': 800, 'L': 5, 'dt': 0.01}. metric: 58946\n",
      "Hyperparams: {'batch_size': 800, 'L': 5, 'dt': 0.0031622776}. metric: 56423\n",
      "Hyperparams: {'batch_size': 800, 'L': 5, 'dt': 0.001}. metric: 55588\n",
      "Hyperparams: {'batch_size': 800, 'L': 5, 'dt': 0.00031622776}. metric: 58400\n",
      "Hyperparams: {'batch_size': 800, 'L': 5, 'dt': 1e-04}. metric: 44199\n",
      "Hyperparams: {'batch_size': 800, 'L': 5, 'dt': 3.1622778e-05}. metric: 30641\n",
      "Hyperparams: {'batch_size': 800, 'L': 5, 'dt': 1e-05}. metric: 41355\n",
      "Hyperparams: {'batch_size': 800, 'L': 5, 'dt': 3.1622776e-06}. metric: 16761\n",
      "Hyperparams: {'batch_size': 800, 'L': 5, 'dt': 1e-06}. metric: 247\n",
      "Hyperparams: {'batch_size': 800, 'L': 5, 'dt': 3.1622776e-07}. metric: 286\n",
      "Hyperparams: {'batch_size': 800, 'L': 5, 'dt': 1e-07}. metric: 755\n",
      "Hyperparams: {'batch_size': 800, 'L': 5, 'dt': 3.1622776e-08}. metric: 1441\n",
      "Hyperparams: {'batch_size': 800, 'L': 10, 'dt': 0.1}. metric: 181604\n",
      "Hyperparams: {'batch_size': 800, 'L': 10, 'dt': 0.031622775}. metric: 101269\n",
      "Hyperparams: {'batch_size': 800, 'L': 10, 'dt': 0.01}. metric: 67083\n",
      "Hyperparams: {'batch_size': 800, 'L': 10, 'dt': 0.0031622776}. metric: 52469\n",
      "Hyperparams: {'batch_size': 800, 'L': 10, 'dt': 0.001}. metric: 58622\n",
      "Hyperparams: {'batch_size': 800, 'L': 10, 'dt': 0.00031622776}. metric: 76606\n",
      "Hyperparams: {'batch_size': 800, 'L': 10, 'dt': 1e-04}. metric: 70130\n",
      "Hyperparams: {'batch_size': 800, 'L': 10, 'dt': 3.1622778e-05}. metric: 87588\n",
      "Hyperparams: {'batch_size': 800, 'L': 10, 'dt': 1e-05}. metric: 30726\n",
      "Hyperparams: {'batch_size': 800, 'L': 10, 'dt': 3.1622776e-06}. metric: 52658\n",
      "Hyperparams: {'batch_size': 800, 'L': 10, 'dt': 1e-06}. metric: 40898\n",
      "Hyperparams: {'batch_size': 800, 'L': 10, 'dt': 3.1622776e-07}. metric: 183\n"
     ]
    },
    {
     "name": "stdout",
     "output_type": "stream",
     "text": [
      "Hyperparams: {'batch_size': 800, 'L': 10, 'dt': 1e-07}. metric: 555\n",
      "Hyperparams: {'batch_size': 800, 'L': 10, 'dt': 3.1622776e-08}. metric: 732\n",
      "Hyperparams: {'batch_size': 80, 'L': 5, 'dt': 0.1}. metric: 61767\n",
      "Hyperparams: {'batch_size': 80, 'L': 5, 'dt': 0.031622775}. metric: 49054\n",
      "Hyperparams: {'batch_size': 80, 'L': 5, 'dt': 0.01}. metric: 37992\n",
      "Hyperparams: {'batch_size': 80, 'L': 5, 'dt': 0.0031622776}. metric: 40190\n",
      "Hyperparams: {'batch_size': 80, 'L': 5, 'dt': 0.001}. metric: 40891\n",
      "Hyperparams: {'batch_size': 80, 'L': 5, 'dt': 0.00031622776}. metric: 37804\n",
      "Hyperparams: {'batch_size': 80, 'L': 5, 'dt': 1e-04}. metric: 32807\n",
      "Hyperparams: {'batch_size': 80, 'L': 5, 'dt': 3.1622778e-05}. metric: 22807\n",
      "Hyperparams: {'batch_size': 80, 'L': 5, 'dt': 1e-05}. metric: 18565\n",
      "Hyperparams: {'batch_size': 80, 'L': 5, 'dt': 3.1622776e-06}. metric: 6370\n",
      "Hyperparams: {'batch_size': 80, 'L': 5, 'dt': 1e-06}. metric: 206\n",
      "Hyperparams: {'batch_size': 80, 'L': 5, 'dt': 3.1622776e-07}. metric: 383\n",
      "Hyperparams: {'batch_size': 80, 'L': 5, 'dt': 1e-07}. metric: 525\n",
      "Hyperparams: {'batch_size': 80, 'L': 5, 'dt': 3.1622776e-08}. metric: 1178\n",
      "Hyperparams: {'batch_size': 80, 'L': 10, 'dt': 0.1}. metric: 107097\n",
      "Hyperparams: {'batch_size': 80, 'L': 10, 'dt': 0.031622775}. metric: 67071\n",
      "Hyperparams: {'batch_size': 80, 'L': 10, 'dt': 0.01}. metric: 42944\n",
      "Hyperparams: {'batch_size': 80, 'L': 10, 'dt': 0.0031622776}. metric: 35750\n",
      "Hyperparams: {'batch_size': 80, 'L': 10, 'dt': 0.001}. metric: 35971\n",
      "Hyperparams: {'batch_size': 80, 'L': 10, 'dt': 0.00031622776}. metric: 37812\n",
      "Hyperparams: {'batch_size': 80, 'L': 10, 'dt': 1e-04}. metric: 41442\n",
      "Hyperparams: {'batch_size': 80, 'L': 10, 'dt': 3.1622778e-05}. metric: 44134\n",
      "Hyperparams: {'batch_size': 80, 'L': 10, 'dt': 1e-05}. metric: 24274\n",
      "Hyperparams: {'batch_size': 80, 'L': 10, 'dt': 3.1622776e-06}. metric: 32913\n",
      "Hyperparams: {'batch_size': 80, 'L': 10, 'dt': 1e-06}. metric: 15693\n",
      "Hyperparams: {'batch_size': 80, 'L': 10, 'dt': 3.1622776e-07}. metric: 249\n",
      "Hyperparams: {'batch_size': 80, 'L': 10, 'dt': 1e-07}. metric: 192\n",
      "Hyperparams: {'batch_size': 80, 'L': 10, 'dt': 3.1622776e-08}. metric: 481\n",
      "\n",
      "Number of samples: [6, 14, 14, 9, 14, 10, 14, 14, 14, 6, 6, 9, 1, 1, 1, 2, 1, 14, 2, 9, 1, 1, 1, 2, 1, 1, 1, 1, 1, 1, 1, 1, 2, 1, 1, 1, 1, 1, 1, 1, 1, 1, 1, 2, 15, 1]\n"
     ]
    },
    {
     "data": {
      "application/vnd.jupyter.widget-view+json": {
       "model_id": "9b676e1d16964f8b84cc677aebc47f5f",
       "version_major": 2,
       "version_minor": 0
      },
      "text/plain": [
       "HBox(children=(HTML(value='Iteration 2/4, 46 arms, time budget = 0.08 sec'), FloatProgress(value=0.0, max=46.0…"
      ]
     },
     "metadata": {},
     "output_type": "display_data"
    },
    {
     "name": "stdout",
     "output_type": "stream",
     "text": [
      "Hyperparams: {'batch_size': 800, 'L': 10, 'dt': 3.1622776e-07}. metric: 120\n",
      "Hyperparams: {'batch_size': 80, 'L': 10, 'dt': 1e-07}. metric: 122\n",
      "Hyperparams: {'batch_size': 80, 'L': 5, 'dt': 1e-06}. metric: 121\n",
      "Hyperparams: {'batch_size': 800, 'L': 5, 'dt': 1e-06}. metric: 168\n",
      "Hyperparams: {'batch_size': 80, 'L': 10, 'dt': 3.1622776e-07}. metric: 132\n",
      "Hyperparams: {'batch_size': 800, 'L': 5, 'dt': 3.1622776e-07}. metric: 144\n",
      "Hyperparams: {'batch_size': 80, 'L': 5, 'dt': 3.1622776e-07}. metric: 171\n",
      "Hyperparams: {'batch_size': 80, 'L': 10, 'dt': 3.1622776e-08}. metric: 163\n",
      "Hyperparams: {'batch_size': 80, 'L': 5, 'dt': 1e-07}. metric: 263\n",
      "Hyperparams: {'batch_size': 800, 'L': 10, 'dt': 1e-07}. metric: 135\n",
      "Hyperparams: {'batch_size': 800, 'L': 10, 'dt': 3.1622776e-08}. metric: 201\n",
      "Hyperparams: {'batch_size': 800, 'L': 5, 'dt': 1e-07}. metric: 271\n",
      "Hyperparams: {'batch_size': 800000, 'L': 10, 'dt': 3.1622776e-07}. metric: 644\n",
      "Hyperparams: {'batch_size': 80000, 'L': 10, 'dt': 3.1622776e-07}. metric: 546\n",
      "Hyperparams: {'batch_size': 8000, 'L': 10, 'dt': 3.1622776e-07}. metric: 542\n",
      "Hyperparams: {'batch_size': 8000, 'L': 5, 'dt': 1e-06}. metric: 254\n",
      "Hyperparams: {'batch_size': 800000, 'L': 5, 'dt': 1e-06}. metric: 573\n",
      "Hyperparams: {'batch_size': 80, 'L': 5, 'dt': 3.1622776e-08}. metric: 219\n",
      "Hyperparams: {'batch_size': 8000, 'L': 5, 'dt': 3.1622776e-07}. metric: 336\n",
      "Hyperparams: {'batch_size': 800, 'L': 5, 'dt': 3.1622776e-08}. metric: 452\n",
      "Hyperparams: {'batch_size': 80000, 'L': 5, 'dt': 1e-06}. metric: 637\n",
      "Hyperparams: {'batch_size': 800000, 'L': 10, 'dt': 1e-07}. metric: 1213\n",
      "Hyperparams: {'batch_size': 80000, 'L': 10, 'dt': 3.1622776e-06}. metric: 3311\n",
      "Hyperparams: {'batch_size': 8000, 'L': 5, 'dt': 1e-07}. metric: 737\n",
      "Hyperparams: {'batch_size': 80000, 'L': 10, 'dt': 1e-07}. metric: 1230\n",
      "Hyperparams: {'batch_size': 80000, 'L': 5, 'dt': 3.1622776e-07}. metric: 1051\n",
      "Hyperparams: {'batch_size': 8000, 'L': 10, 'dt': 1e-07}. metric: 461\n",
      "Hyperparams: {'batch_size': 800000, 'L': 5, 'dt': 3.1622776e-07}. metric: 1659\n",
      "Hyperparams: {'batch_size': 80000, 'L': 5, 'dt': 1e-07}. metric: 2239\n",
      "Hyperparams: {'batch_size': 80000, 'L': 10, 'dt': 3.1622776e-08}. metric: 2591\n",
      "Hyperparams: {'batch_size': 8000, 'L': 10, 'dt': 3.1622776e-08}. metric: 1390\n",
      "Hyperparams: {'batch_size': 800000, 'L': 5, 'dt': 1e-07}. metric: 2412\n",
      "Hyperparams: {'batch_size': 8000, 'L': 5, 'dt': 3.1622776e-08}. metric: 2226\n",
      "Hyperparams: {'batch_size': 800000, 'L': 10, 'dt': 3.1622776e-08}. metric: 2589\n",
      "Hyperparams: {'batch_size': 80000, 'L': 5, 'dt': 3.1622776e-08}. metric: 2944\n",
      "Hyperparams: {'batch_size': 800000, 'L': 5, 'dt': 3.1622776e-06}. metric: 3571\n",
      "Hyperparams: {'batch_size': 800000, 'L': 5, 'dt': 3.1622776e-08}. metric: 3199\n",
      "Hyperparams: {'batch_size': 800000, 'L': 10, 'dt': 1e-06}. metric: 4683\n",
      "Hyperparams: {'batch_size': 800000, 'L': 10, 'dt': 3.1622776e-06}. metric: 3700\n",
      "Hyperparams: {'batch_size': 8000, 'L': 10, 'dt': 1e-06}. metric: 39732\n",
      "Hyperparams: {'batch_size': 8000, 'L': 10, 'dt': 3.1622776e-06}. metric: 45561\n",
      "Hyperparams: {'batch_size': 80000, 'L': 10, 'dt': 1e-06}. metric: 5774\n",
      "Hyperparams: {'batch_size': 80000, 'L': 5, 'dt': 3.1622776e-06}. metric: 4342\n",
      "Hyperparams: {'batch_size': 8000, 'L': 5, 'dt': 3.1622776e-06}. metric: 18706\n",
      "Hyperparams: {'batch_size': 80, 'L': 5, 'dt': 3.1622776e-06}. metric: 4894\n",
      "Hyperparams: {'batch_size': 80000, 'L': 5, 'dt': 1e-05}. metric: 293697\n",
      "\n",
      "Number of samples: [23, 51, 57, 56, 23, 33, 54, 33, 51, 23, 48, 6, 48, 32, 6]\n"
     ]
    },
    {
     "data": {
      "application/vnd.jupyter.widget-view+json": {
       "model_id": "828f37b3fd364a4099592018711a14c8",
       "version_major": 2,
       "version_minor": 0
      },
      "text/plain": [
       "HBox(children=(HTML(value='Iteration 3/4, 15 arms, time budget = 0.23 sec'), FloatProgress(value=0.0, max=15.0…"
      ]
     },
     "metadata": {},
     "output_type": "display_data"
    },
    {
     "name": "stdout",
     "output_type": "stream",
     "text": [
      "Hyperparams: {'batch_size': 800, 'L': 10, 'dt': 3.1622776e-07}. metric: 104\n",
      "Hyperparams: {'batch_size': 80, 'L': 5, 'dt': 1e-06}. metric: 65\n",
      "Hyperparams: {'batch_size': 80, 'L': 10, 'dt': 1e-07}. metric: 58\n",
      "Hyperparams: {'batch_size': 80, 'L': 10, 'dt': 3.1622776e-07}. metric: 100\n",
      "Hyperparams: {'batch_size': 800, 'L': 10, 'dt': 1e-07}. metric: 76\n",
      "Hyperparams: {'batch_size': 800, 'L': 5, 'dt': 3.1622776e-07}. metric: 128\n",
      "Hyperparams: {'batch_size': 80, 'L': 10, 'dt': 3.1622776e-08}. metric: 114\n",
      "Hyperparams: {'batch_size': 800, 'L': 5, 'dt': 1e-06}. metric: 70\n",
      "Hyperparams: {'batch_size': 80, 'L': 5, 'dt': 3.1622776e-07}. metric: 93\n",
      "Hyperparams: {'batch_size': 800, 'L': 10, 'dt': 3.1622776e-08}. metric: 160\n",
      "Hyperparams: {'batch_size': 80, 'L': 5, 'dt': 3.1622776e-08}. metric: 203\n",
      "Hyperparams: {'batch_size': 8000, 'L': 5, 'dt': 1e-06}. metric: 191\n",
      "Hyperparams: {'batch_size': 80, 'L': 5, 'dt': 1e-07}. metric: 109\n",
      "Hyperparams: {'batch_size': 800, 'L': 5, 'dt': 1e-07}. metric: 93\n",
      "Hyperparams: {'batch_size': 8000, 'L': 5, 'dt': 3.1622776e-07}. metric: 188\n",
      "\n",
      "Number of samples: [187, 181, 121, 79, 120]\n"
     ]
    },
    {
     "data": {
      "application/vnd.jupyter.widget-view+json": {
       "model_id": "666011909b014e46984dfddfa8ee44c7",
       "version_major": 2,
       "version_minor": 0
      },
      "text/plain": [
       "HBox(children=(HTML(value='Iteration 4/4, 5 arms, time budget = 0.70 sec'), FloatProgress(value=0.0, max=5.0),…"
      ]
     },
     "metadata": {},
     "output_type": "display_data"
    },
    {
     "name": "stdout",
     "output_type": "stream",
     "text": [
      "Hyperparams: {'batch_size': 80, 'L': 10, 'dt': 1e-07}. metric: 39\n",
      "Hyperparams: {'batch_size': 80, 'L': 5, 'dt': 1e-06}. metric: 53\n",
      "Hyperparams: {'batch_size': 800, 'L': 5, 'dt': 1e-06}. metric: 39\n",
      "Hyperparams: {'batch_size': 800, 'L': 10, 'dt': 1e-07}. metric: 53\n",
      "Hyperparams: {'batch_size': 800, 'L': 5, 'dt': 1e-07}. metric: 104\n",
      "\n",
      "Number of samples: [583]\n",
      "Running time: 367.5 sec\n",
      "{'batch_size': 80, 'L': 10, 'dt': 1e-07} 38.839844 (583, 10)\n"
     ]
    }
   ],
   "source": [
    "build_kernel = lambda dt, L, batch_size: build_sghmcCV_kernel(dt, L, loglikelihood, \n",
    "                                                  logprior, data, batch_size, centering_value)\n",
    "\n",
    "grid_params = {'log_dt': logdt_range, \n",
    "               'batch_size': batch_size_range,\n",
    "               \"L\": [5, 10]\n",
    "              }\n",
    "best_arm = run_MAMBA(key, build_kernel, error_fn, R, params_IC, \n",
    "                     grid_params=grid_params, get_fb_grads=get_fb_grads)\n",
    "\n",
    "print(best_arm.hyperparameters, best_arm.metric, best_arm.samples.shape)"
   ]
  },
  {
   "cell_type": "code",
   "execution_count": 11,
   "id": "2cafa0ac",
   "metadata": {},
   "outputs": [
    {
     "data": {
      "application/vnd.jupyter.widget-view+json": {
       "model_id": "c6c795aecc1f45ecbbb581eee67b0365",
       "version_major": 2,
       "version_minor": 0
      },
      "text/plain": [
       "HBox(children=(HTML(value='Iteration 1/3, 70 arms, time budget = 0.08 sec'), FloatProgress(value=0.0, max=70.0…"
      ]
     },
     "metadata": {},
     "output_type": "display_data"
    },
    {
     "name": "stdout",
     "output_type": "stream",
     "text": [
      "Hyperparams: {'batch_size': 800000, 'dt': 0.1}. metric: 627259\n",
      "Hyperparams: {'batch_size': 800000, 'dt': 0.031622775}. metric: 621158\n",
      "Hyperparams: {'batch_size': 800000, 'dt': 0.01}. metric: 597799\n",
      "Hyperparams: {'batch_size': 800000, 'dt': 0.0031622776}. metric: 486930\n",
      "Hyperparams: {'batch_size': 800000, 'dt': 0.001}. metric: 237438\n",
      "Hyperparams: {'batch_size': 800000, 'dt': 0.00031622776}. metric: 66769\n",
      "Hyperparams: {'batch_size': 800000, 'dt': 1e-04}. metric: 23182\n",
      "Hyperparams: {'batch_size': 800000, 'dt': 3.1622778e-05}. metric: 5319\n",
      "Hyperparams: {'batch_size': 800000, 'dt': 1e-05}. metric: 1454\n",
      "Hyperparams: {'batch_size': 800000, 'dt': 3.1622776e-06}. metric: 2576\n",
      "Hyperparams: {'batch_size': 800000, 'dt': 1e-06}. metric: 3050\n",
      "Hyperparams: {'batch_size': 800000, 'dt': 3.1622776e-07}. metric: 3183\n",
      "Hyperparams: {'batch_size': 800000, 'dt': 1e-07}. metric: 3166\n",
      "Hyperparams: {'batch_size': 800000, 'dt': 3.1622776e-08}. metric: 3182\n",
      "Hyperparams: {'batch_size': 80000, 'dt': 0.1}. metric: inf\n",
      "Hyperparams: {'batch_size': 80000, 'dt': 0.031622775}. metric: inf\n",
      "Hyperparams: {'batch_size': 80000, 'dt': 0.01}. metric: inf\n",
      "Hyperparams: {'batch_size': 80000, 'dt': 0.0031622776}. metric: inf\n",
      "Hyperparams: {'batch_size': 80000, 'dt': 0.001}. metric: inf\n",
      "Hyperparams: {'batch_size': 80000, 'dt': 0.00031622776}. metric: inf\n",
      "Hyperparams: {'batch_size': 80000, 'dt': 1e-04}. metric: inf\n",
      "Hyperparams: {'batch_size': 80000, 'dt': 3.1622778e-05}. metric: 3460\n",
      "Hyperparams: {'batch_size': 80000, 'dt': 1e-05}. metric: 1450\n",
      "Hyperparams: {'batch_size': 80000, 'dt': 3.1622776e-06}. metric: 306\n",
      "Hyperparams: {'batch_size': 80000, 'dt': 1e-06}. metric: 279\n",
      "Hyperparams: {'batch_size': 80000, 'dt': 3.1622776e-07}. metric: 524\n",
      "Hyperparams: {'batch_size': 80000, 'dt': 1e-07}. metric: 764\n",
      "Hyperparams: {'batch_size': 80000, 'dt': 3.1622776e-08}. metric: 2143\n",
      "Hyperparams: {'batch_size': 8000, 'dt': 0.1}. metric: inf\n",
      "Hyperparams: {'batch_size': 8000, 'dt': 0.031622775}. metric: inf\n",
      "Hyperparams: {'batch_size': 8000, 'dt': 0.01}. metric: inf\n",
      "Hyperparams: {'batch_size': 8000, 'dt': 0.0031622776}. metric: inf\n",
      "Hyperparams: {'batch_size': 8000, 'dt': 0.001}. metric: inf\n",
      "Hyperparams: {'batch_size': 8000, 'dt': 0.00031622776}. metric: inf\n",
      "Hyperparams: {'batch_size': 8000, 'dt': 1e-04}. metric: inf\n",
      "Hyperparams: {'batch_size': 8000, 'dt': 3.1622778e-05}. metric: inf\n",
      "Hyperparams: {'batch_size': 8000, 'dt': 1e-05}. metric: 1961\n",
      "Hyperparams: {'batch_size': 8000, 'dt': 3.1622776e-06}. metric: 1135\n",
      "Hyperparams: {'batch_size': 8000, 'dt': 1e-06}. metric: 597\n",
      "Hyperparams: {'batch_size': 8000, 'dt': 3.1622776e-07}. metric: 708\n",
      "Hyperparams: {'batch_size': 8000, 'dt': 1e-07}. metric: 374\n",
      "Hyperparams: {'batch_size': 8000, 'dt': 3.1622776e-08}. metric: 697\n",
      "Hyperparams: {'batch_size': 800, 'dt': 0.1}. metric: inf\n",
      "Hyperparams: {'batch_size': 800, 'dt': 0.031622775}. metric: inf\n",
      "Hyperparams: {'batch_size': 800, 'dt': 0.01}. metric: inf\n",
      "Hyperparams: {'batch_size': 800, 'dt': 0.0031622776}. metric: inf\n",
      "Hyperparams: {'batch_size': 800, 'dt': 0.001}. metric: inf\n",
      "Hyperparams: {'batch_size': 800, 'dt': 0.00031622776}. metric: inf\n",
      "Hyperparams: {'batch_size': 800, 'dt': 1e-04}. metric: inf\n",
      "Hyperparams: {'batch_size': 800, 'dt': 3.1622778e-05}. metric: inf\n",
      "Hyperparams: {'batch_size': 800, 'dt': 1e-05}. metric: inf\n",
      "Hyperparams: {'batch_size': 800, 'dt': 3.1622776e-06}. metric: 1241\n",
      "Hyperparams: {'batch_size': 800, 'dt': 1e-06}. metric: 1185\n",
      "Hyperparams: {'batch_size': 800, 'dt': 3.1622776e-07}. metric: 1534\n",
      "Hyperparams: {'batch_size': 800, 'dt': 1e-07}. metric: 646\n",
      "Hyperparams: {'batch_size': 800, 'dt': 3.1622776e-08}. metric: 1218\n",
      "Hyperparams: {'batch_size': 80, 'dt': 0.1}. metric: inf\n",
      "Hyperparams: {'batch_size': 80, 'dt': 0.031622775}. metric: inf\n",
      "Hyperparams: {'batch_size': 80, 'dt': 0.01}. metric: inf\n",
      "Hyperparams: {'batch_size': 80, 'dt': 0.0031622776}. metric: inf\n",
      "Hyperparams: {'batch_size': 80, 'dt': 0.001}. metric: inf\n",
      "Hyperparams: {'batch_size': 80, 'dt': 0.00031622776}. metric: inf\n",
      "Hyperparams: {'batch_size': 80, 'dt': 1e-04}. metric: inf\n",
      "Hyperparams: {'batch_size': 80, 'dt': 3.1622778e-05}. metric: inf\n",
      "Hyperparams: {'batch_size': 80, 'dt': 1e-05}. metric: inf\n",
      "Hyperparams: {'batch_size': 80, 'dt': 3.1622776e-06}. metric: 3125\n",
      "Hyperparams: {'batch_size': 80, 'dt': 1e-06}. metric: 3078\n",
      "Hyperparams: {'batch_size': 80, 'dt': 3.1622776e-07}. metric: 4405\n",
      "Hyperparams: {'batch_size': 80, 'dt': 1e-07}. metric: 3140\n",
      "Hyperparams: {'batch_size': 80, 'dt': 3.1622776e-08}. metric: 3716\n",
      "\n",
      "Number of samples: [4, 4, 17, 4, 16, 39, 17, 17, 4, 17, 38, 41, 40, 4, 1, 41, 17, 4, 1, 1, 38, 37, 37]\n"
     ]
    },
    {
     "data": {
      "application/vnd.jupyter.widget-view+json": {
       "model_id": "f47e3a21642d43ffb159fbee46dc00aa",
       "version_major": 2,
       "version_minor": 0
      },
      "text/plain": [
       "HBox(children=(HTML(value='Iteration 2/3, 23 arms, time budget = 0.23 sec'), FloatProgress(value=0.0, max=23.0…"
      ]
     },
     "metadata": {},
     "output_type": "display_data"
    },
    {
     "name": "stdout",
     "output_type": "stream",
     "text": [
      "Hyperparams: {'batch_size': 80000, 'dt': 1e-06}. metric: 644\n",
      "Hyperparams: {'batch_size': 80000, 'dt': 3.1622776e-06}. metric: 692\n",
      "Hyperparams: {'batch_size': 8000, 'dt': 1e-07}. metric: 244\n",
      "Hyperparams: {'batch_size': 80000, 'dt': 3.1622776e-07}. metric: 339\n",
      "Hyperparams: {'batch_size': 8000, 'dt': 1e-06}. metric: 338\n",
      "Hyperparams: {'batch_size': 800, 'dt': 1e-07}. metric: 752\n",
      "Hyperparams: {'batch_size': 8000, 'dt': 3.1622776e-08}. metric: 389\n",
      "Hyperparams: {'batch_size': 8000, 'dt': 3.1622776e-07}. metric: 204\n",
      "Hyperparams: {'batch_size': 80000, 'dt': 1e-07}. metric: 353\n",
      "Hyperparams: {'batch_size': 8000, 'dt': 3.1622776e-06}. metric: 456\n",
      "Hyperparams: {'batch_size': 800, 'dt': 1e-06}. metric: 809\n",
      "Hyperparams: {'batch_size': 800, 'dt': 3.1622776e-08}. metric: 725\n",
      "Hyperparams: {'batch_size': 800, 'dt': 3.1622776e-06}. metric: 1383\n",
      "Hyperparams: {'batch_size': 80000, 'dt': 1e-05}. metric: 1530\n",
      "Hyperparams: {'batch_size': 800000, 'dt': 1e-05}. metric: 229\n",
      "Hyperparams: {'batch_size': 800, 'dt': 3.1622776e-07}. metric: 654\n",
      "Hyperparams: {'batch_size': 8000, 'dt': 1e-05}. metric: 904\n",
      "Hyperparams: {'batch_size': 80000, 'dt': 3.1622776e-08}. metric: 450\n",
      "Hyperparams: {'batch_size': 800000, 'dt': 3.1622776e-06}. metric: 155\n",
      "Hyperparams: {'batch_size': 800000, 'dt': 1e-06}. metric: 152\n",
      "Hyperparams: {'batch_size': 80, 'dt': 1e-06}. metric: 2886\n",
      "Hyperparams: {'batch_size': 80, 'dt': 3.1622776e-06}. metric: inf\n",
      "Hyperparams: {'batch_size': 80, 'dt': 1e-07}. metric: 2237\n",
      "\n",
      "Number of samples: [5, 5, 65, 5, 64, 64, 14]\n"
     ]
    },
    {
     "data": {
      "application/vnd.jupyter.widget-view+json": {
       "model_id": "4843d8ece96e4b9cbe230e5c8b942d99",
       "version_major": 2,
       "version_minor": 0
      },
      "text/plain": [
       "HBox(children=(HTML(value='Iteration 3/3, 7 arms, time budget = 0.77 sec'), FloatProgress(value=0.0, max=7.0),…"
      ]
     },
     "metadata": {},
     "output_type": "display_data"
    },
    {
     "name": "stdout",
     "output_type": "stream",
     "text": [
      "Hyperparams: {'batch_size': 800000, 'dt': 1e-06}. metric: 164\n",
      "Hyperparams: {'batch_size': 800000, 'dt': 3.1622776e-06}. metric: 94\n",
      "Hyperparams: {'batch_size': 8000, 'dt': 3.1622776e-07}. metric: 211\n",
      "Hyperparams: {'batch_size': 800000, 'dt': 1e-05}. metric: 171\n",
      "Hyperparams: {'batch_size': 8000, 'dt': 1e-07}. metric: 169\n",
      "Hyperparams: {'batch_size': 8000, 'dt': 1e-06}. metric: 238\n",
      "Hyperparams: {'batch_size': 80000, 'dt': 3.1622776e-07}. metric: 152\n",
      "\n",
      "Number of samples: [15, 40]\n",
      "Running time: 233.1 sec\n",
      "{'batch_size': 800000, 'dt': 3.1622776e-06} 94.33203 (15, 10)\n"
     ]
    }
   ],
   "source": [
    "build_kernel = lambda dt, batch_size: build_sgnht_kernel(dt, loglikelihood, logprior, data, batch_size)\n",
    "\n",
    "grid_params = {'log_dt': logdt_range, \n",
    "               'batch_size': batch_size_range\n",
    "              }\n",
    "best_arm = run_MAMBA(key, build_kernel, error_fn, R, params_IC, \n",
    "                     grid_params=grid_params, get_fb_grads=get_fb_grads)\n",
    "\n",
    "print(best_arm.hyperparameters, best_arm.metric, best_arm.samples.shape)"
   ]
  },
  {
   "cell_type": "code",
   "execution_count": 12,
   "id": "ada995a7",
   "metadata": {},
   "outputs": [
    {
     "data": {
      "application/vnd.jupyter.widget-view+json": {
       "model_id": "b25184b3087f439aa08d7e80c9fadd49",
       "version_major": 2,
       "version_minor": 0
      },
      "text/plain": [
       "HBox(children=(HTML(value='Iteration 1/3, 70 arms, time budget = 0.08 sec'), FloatProgress(value=0.0, max=70.0…"
      ]
     },
     "metadata": {},
     "output_type": "display_data"
    },
    {
     "name": "stdout",
     "output_type": "stream",
     "text": [
      "Hyperparams: {'batch_size': 800000, 'dt': 0.1}. metric: 633599\n",
      "Hyperparams: {'batch_size': 800000, 'dt': 0.031622775}. metric: 625572\n",
      "Hyperparams: {'batch_size': 800000, 'dt': 0.01}. metric: 594703\n",
      "Hyperparams: {'batch_size': 800000, 'dt': 0.0031622776}. metric: 476958\n",
      "Hyperparams: {'batch_size': 800000, 'dt': 0.001}. metric: 225221\n",
      "Hyperparams: {'batch_size': 800000, 'dt': 0.00031622776}. metric: 70078\n",
      "Hyperparams: {'batch_size': 800000, 'dt': 1e-04}. metric: 20501\n",
      "Hyperparams: {'batch_size': 800000, 'dt': 3.1622778e-05}. metric: 4429\n",
      "Hyperparams: {'batch_size': 800000, 'dt': 1e-05}. metric: 1291\n",
      "Hyperparams: {'batch_size': 800000, 'dt': 3.1622776e-06}. metric: 2516\n",
      "Hyperparams: {'batch_size': 800000, 'dt': 1e-06}. metric: 3030\n",
      "Hyperparams: {'batch_size': 800000, 'dt': 3.1622776e-07}. metric: 3179\n",
      "Hyperparams: {'batch_size': 800000, 'dt': 1e-07}. metric: 3165\n",
      "Hyperparams: {'batch_size': 800000, 'dt': 3.1622776e-08}. metric: 3182\n",
      "Hyperparams: {'batch_size': 80000, 'dt': 0.1}. metric: inf\n",
      "Hyperparams: {'batch_size': 80000, 'dt': 0.031622775}. metric: inf\n",
      "Hyperparams: {'batch_size': 80000, 'dt': 0.01}. metric: inf\n",
      "Hyperparams: {'batch_size': 80000, 'dt': 0.0031622776}. metric: inf\n",
      "Hyperparams: {'batch_size': 80000, 'dt': 0.001}. metric: inf\n",
      "Hyperparams: {'batch_size': 80000, 'dt': 0.00031622776}. metric: inf\n",
      "Hyperparams: {'batch_size': 80000, 'dt': 1e-04}. metric: inf\n",
      "Hyperparams: {'batch_size': 80000, 'dt': 3.1622778e-05}. metric: 381\n",
      "Hyperparams: {'batch_size': 80000, 'dt': 1e-05}. metric: 628\n",
      "Hyperparams: {'batch_size': 80000, 'dt': 3.1622776e-06}. metric: 1187\n",
      "Hyperparams: {'batch_size': 80000, 'dt': 1e-06}. metric: 857\n",
      "Hyperparams: {'batch_size': 80000, 'dt': 3.1622776e-07}. metric: 416\n",
      "Hyperparams: {'batch_size': 80000, 'dt': 1e-07}. metric: 1417\n",
      "Hyperparams: {'batch_size': 80000, 'dt': 3.1622776e-08}. metric: 2579\n",
      "Hyperparams: {'batch_size': 8000, 'dt': 0.1}. metric: inf\n",
      "Hyperparams: {'batch_size': 8000, 'dt': 0.031622775}. metric: inf\n",
      "Hyperparams: {'batch_size': 8000, 'dt': 0.01}. metric: inf\n",
      "Hyperparams: {'batch_size': 8000, 'dt': 0.0031622776}. metric: inf\n",
      "Hyperparams: {'batch_size': 8000, 'dt': 0.001}. metric: inf\n",
      "Hyperparams: {'batch_size': 8000, 'dt': 0.00031622776}. metric: inf\n",
      "Hyperparams: {'batch_size': 8000, 'dt': 1e-04}. metric: inf\n",
      "Hyperparams: {'batch_size': 8000, 'dt': 3.1622778e-05}. metric: 191\n",
      "Hyperparams: {'batch_size': 8000, 'dt': 1e-05}. metric: 106\n",
      "Hyperparams: {'batch_size': 8000, 'dt': 3.1622776e-06}. metric: 210\n",
      "Hyperparams: {'batch_size': 8000, 'dt': 1e-06}. metric: 142\n",
      "Hyperparams: {'batch_size': 8000, 'dt': 3.1622776e-07}. metric: 133\n",
      "Hyperparams: {'batch_size': 8000, 'dt': 1e-07}. metric: 226\n",
      "Hyperparams: {'batch_size': 8000, 'dt': 3.1622776e-08}. metric: 412\n",
      "Hyperparams: {'batch_size': 800, 'dt': 0.1}. metric: inf\n",
      "Hyperparams: {'batch_size': 800, 'dt': 0.031622775}. metric: inf\n",
      "Hyperparams: {'batch_size': 800, 'dt': 0.01}. metric: inf\n",
      "Hyperparams: {'batch_size': 800, 'dt': 0.0031622776}. metric: inf\n",
      "Hyperparams: {'batch_size': 800, 'dt': 0.001}. metric: inf\n",
      "Hyperparams: {'batch_size': 800, 'dt': 0.00031622776}. metric: inf\n",
      "Hyperparams: {'batch_size': 800, 'dt': 1e-04}. metric: inf\n",
      "Hyperparams: {'batch_size': 800, 'dt': 3.1622778e-05}. metric: 301\n",
      "Hyperparams: {'batch_size': 800, 'dt': 1e-05}. metric: 127\n",
      "Hyperparams: {'batch_size': 800, 'dt': 3.1622776e-06}. metric: 111\n",
      "Hyperparams: {'batch_size': 800, 'dt': 1e-06}. metric: 53\n",
      "Hyperparams: {'batch_size': 800, 'dt': 3.1622776e-07}. metric: 72\n",
      "Hyperparams: {'batch_size': 800, 'dt': 1e-07}. metric: 68\n",
      "Hyperparams: {'batch_size': 800, 'dt': 3.1622776e-08}. metric: 105\n",
      "Hyperparams: {'batch_size': 80, 'dt': 0.1}. metric: inf\n",
      "Hyperparams: {'batch_size': 80, 'dt': 0.031622775}. metric: inf\n",
      "Hyperparams: {'batch_size': 80, 'dt': 0.01}. metric: inf\n",
      "Hyperparams: {'batch_size': 80, 'dt': 0.0031622776}. metric: inf\n",
      "Hyperparams: {'batch_size': 80, 'dt': 0.001}. metric: inf\n",
      "Hyperparams: {'batch_size': 80, 'dt': 0.00031622776}. metric: inf\n",
      "Hyperparams: {'batch_size': 80, 'dt': 1e-04}. metric: inf\n",
      "Hyperparams: {'batch_size': 80, 'dt': 3.1622778e-05}. metric: inf\n",
      "Hyperparams: {'batch_size': 80, 'dt': 1e-05}. metric: 756\n",
      "Hyperparams: {'batch_size': 80, 'dt': 3.1622776e-06}. metric: 360\n",
      "Hyperparams: {'batch_size': 80, 'dt': 1e-06}. metric: 131\n",
      "Hyperparams: {'batch_size': 80, 'dt': 3.1622776e-07}. metric: 133\n",
      "Hyperparams: {'batch_size': 80, 'dt': 1e-07}. metric: 199\n",
      "Hyperparams: {'batch_size': 80, 'dt': 3.1622776e-08}. metric: 120\n",
      "\n",
      "Number of samples: [41, 39, 41, 40, 15, 41, 37, 41, 37, 36, 15, 15, 15, 37, 15, 15, 41, 38, 3, 15, 3, 3, 37]\n"
     ]
    },
    {
     "data": {
      "application/vnd.jupyter.widget-view+json": {
       "model_id": "c666abeb38a74a7ea6953575e7dce452",
       "version_major": 2,
       "version_minor": 0
      },
      "text/plain": [
       "HBox(children=(HTML(value='Iteration 2/3, 23 arms, time budget = 0.23 sec'), FloatProgress(value=0.0, max=23.0…"
      ]
     },
     "metadata": {},
     "output_type": "display_data"
    },
    {
     "name": "stdout",
     "output_type": "stream",
     "text": [
      "Hyperparams: {'batch_size': 800, 'dt': 1e-06}. metric: 18\n",
      "Hyperparams: {'batch_size': 800, 'dt': 1e-07}. metric: 52\n",
      "Hyperparams: {'batch_size': 800, 'dt': 3.1622776e-07}. metric: 36\n",
      "Hyperparams: {'batch_size': 800, 'dt': 3.1622776e-08}. metric: 78\n",
      "Hyperparams: {'batch_size': 8000, 'dt': 1e-05}. metric: 54\n",
      "Hyperparams: {'batch_size': 800, 'dt': 3.1622776e-06}. metric: 52\n",
      "Hyperparams: {'batch_size': 80, 'dt': 3.1622776e-08}. metric: 106\n",
      "Hyperparams: {'batch_size': 800, 'dt': 1e-05}. metric: 108\n",
      "Hyperparams: {'batch_size': 80, 'dt': 1e-06}. metric: 88\n",
      "Hyperparams: {'batch_size': 80, 'dt': 3.1622776e-07}. metric: 80\n",
      "Hyperparams: {'batch_size': 8000, 'dt': 3.1622776e-07}. metric: 50\n",
      "Hyperparams: {'batch_size': 8000, 'dt': 1e-06}. metric: 32\n",
      "Hyperparams: {'batch_size': 8000, 'dt': 3.1622778e-05}. metric: 85\n",
      "Hyperparams: {'batch_size': 80, 'dt': 1e-07}. metric: 98\n",
      "Hyperparams: {'batch_size': 8000, 'dt': 3.1622776e-06}. metric: 50\n",
      "Hyperparams: {'batch_size': 8000, 'dt': 1e-07}. metric: 91\n",
      "Hyperparams: {'batch_size': 800, 'dt': 3.1622778e-05}. metric: 295\n",
      "Hyperparams: {'batch_size': 80, 'dt': 3.1622776e-06}. metric: 172\n",
      "Hyperparams: {'batch_size': 80000, 'dt': 3.1622778e-05}. metric: 325\n",
      "Hyperparams: {'batch_size': 8000, 'dt': 3.1622776e-08}. metric: 156\n",
      "Hyperparams: {'batch_size': 80000, 'dt': 3.1622776e-07}. metric: 180\n",
      "Hyperparams: {'batch_size': 80000, 'dt': 1e-05}. metric: 174\n",
      "Hyperparams: {'batch_size': 80, 'dt': 1e-05}. metric: 361\n",
      "\n",
      "Number of samples: [159, 57, 159, 54, 57, 156, 155]\n"
     ]
    },
    {
     "data": {
      "application/vnd.jupyter.widget-view+json": {
       "model_id": "f7c6a0fcd56e4d1d9dd3617f8dd77562",
       "version_major": 2,
       "version_minor": 0
      },
      "text/plain": [
       "HBox(children=(HTML(value='Iteration 3/3, 7 arms, time budget = 0.77 sec'), FloatProgress(value=0.0, max=7.0),…"
      ]
     },
     "metadata": {},
     "output_type": "display_data"
    },
    {
     "name": "stdout",
     "output_type": "stream",
     "text": [
      "Hyperparams: {'batch_size': 800, 'dt': 1e-06}. metric: 12\n",
      "Hyperparams: {'batch_size': 8000, 'dt': 1e-06}. metric: 10\n",
      "Hyperparams: {'batch_size': 800, 'dt': 3.1622776e-07}. metric: 11\n",
      "Hyperparams: {'batch_size': 8000, 'dt': 3.1622776e-06}. metric: 17\n",
      "Hyperparams: {'batch_size': 8000, 'dt': 3.1622776e-07}. metric: 33\n",
      "Hyperparams: {'batch_size': 800, 'dt': 1e-07}. metric: 27\n",
      "Hyperparams: {'batch_size': 800, 'dt': 3.1622776e-06}. metric: 16\n",
      "\n",
      "Number of samples: [194, 534]\n",
      "Running time: 270.3 sec\n",
      "{'batch_size': 8000, 'dt': 1e-06} 9.666649 (194, 10)\n"
     ]
    }
   ],
   "source": [
    "build_kernel = lambda dt, batch_size: build_sgnhtCV_kernel(dt, loglikelihood, \n",
    "                                                  logprior, data, batch_size, centering_value)\n",
    "grid_params = {'log_dt': logdt_range, \n",
    "               'batch_size': batch_size_range\n",
    "              }\n",
    "best_arm = run_MAMBA(key, build_kernel, error_fn, R, params_IC, \n",
    "                     grid_params=grid_params, get_fb_grads=get_fb_grads)\n",
    "\n",
    "print(best_arm.hyperparameters, best_arm.metric, best_arm.samples.shape)"
   ]
  },
  {
   "cell_type": "code",
   "execution_count": null,
   "id": "ec0f4428",
   "metadata": {},
   "outputs": [],
   "source": []
  },
  {
   "cell_type": "code",
   "execution_count": null,
   "id": "8a80364c",
   "metadata": {},
   "outputs": [],
   "source": []
  },
  {
   "cell_type": "code",
   "execution_count": null,
   "id": "4399056c",
   "metadata": {},
   "outputs": [],
   "source": []
  }
 ],
 "metadata": {
  "kernelspec": {
   "display_name": "Python 3",
   "language": "python",
   "name": "python3"
  },
  "language_info": {
   "codemirror_mode": {
    "name": "ipython",
    "version": 3
   },
   "file_extension": ".py",
   "mimetype": "text/x-python",
   "name": "python",
   "nbconvert_exporter": "python",
   "pygments_lexer": "ipython3",
   "version": "3.8.2"
  }
 },
 "nbformat": 4,
 "nbformat_minor": 5
}
