{
 "cells": [
  {
   "cell_type": "code",
   "execution_count": 1,
   "id": "906fd9ec",
   "metadata": {},
   "outputs": [
    {
     "name": "stderr",
     "output_type": "stream",
     "text": [
      "WARNING:absl:No GPU/TPU found, falling back to CPU. (Set TF_CPP_MIN_LOG_LEVEL=0 and rerun for more info.)\n"
     ]
    }
   ],
   "source": [
    "%matplotlib inline\n",
    "import matplotlib.pyplot as plt\n",
    "import numpy as np\n",
    "\n",
    "import jax.numpy as jnp\n",
    "from jax import jit, random, vmap\n",
    "\n",
    "from sgmcmcjax.kernels import build_sgld_kernel, build_sghmc_kernel, build_sgnht_kernel\n",
    "from sgmcmcjax.kernels import build_sgldCV_kernel, build_sghmcCV_kernel, build_sgnhtCV_kernel\n",
    "from sgmcmcjax.optimizer import build_adam_optimizer\n",
    "from sgmcmcjax.util import build_grad_log_post\n",
    "\n",
    "import context\n",
    "from models.logistic_regression.logistic_regression_model import gen_data, loglikelihood, logprior\n",
    "from tuning.mamba import run_MAMBA\n",
    "from tuning.ksd import imq_KSD\n"
   ]
  },
  {
   "cell_type": "markdown",
   "id": "a01ea2b4",
   "metadata": {},
   "source": [
    "# Logistic regression - MAMBA"
   ]
  },
  {
   "cell_type": "code",
   "execution_count": 2,
   "id": "dd0b7388",
   "metadata": {},
   "outputs": [
    {
     "name": "stdout",
     "output_type": "stream",
     "text": [
      "generating data, with N=1,000,000 and dim=10\n",
      "(800000, 10) (200000, 10)\n"
     ]
    }
   ],
   "source": [
    "\n",
    "\n",
    "key = random.PRNGKey(42)\n",
    "dim = 10\n",
    "# Ndata = 100_000\n",
    "Ndata = 1_000_000\n",
    "\n",
    "theta_true, X, y_data = gen_data(key, dim, Ndata)\n",
    "\n",
    "# testing and training data\n",
    "num_train = int(Ndata*0.8)\n",
    "\n",
    "X_train = X[:num_train]\n",
    "X_test = X[num_train:]\n",
    "\n",
    "y_train = y_data[:num_train]\n",
    "y_test = y_data[num_train:]\n",
    "print(X_train.shape, X_test.shape)\n",
    "data = (X_train, y_train)\n"
   ]
  },
  {
   "cell_type": "code",
   "execution_count": 3,
   "id": "ad7130b3",
   "metadata": {},
   "outputs": [
    {
     "name": "stdout",
     "output_type": "stream",
     "text": [
      "[800000, 80000, 8000, 800]\n"
     ]
    },
    {
     "data": {
      "application/vnd.jupyter.widget-view+json": {
       "model_id": "e80c8411a4274f23aa9b5c201e526b34",
       "version_major": 2,
       "version_minor": 0
      },
      "text/plain": [
       "HBox(children=(HTML(value=''), FloatProgress(value=0.0, max=5000.0), HTML(value='')))"
      ]
     },
     "metadata": {},
     "output_type": "display_data"
    }
   ],
   "source": [
    "# get MAP\n",
    "batch_size = int(0.01*X_train.shape[0])\n",
    "run_adam = build_adam_optimizer(1e-2, loglikelihood, logprior, data, batch_size)\n",
    "key = random.PRNGKey(0)\n",
    "centering_value, logpost_array = run_adam(key, 5000, jnp.zeros(dim))\n",
    "params_IC = centering_value\n",
    "\n",
    "# T = 10\n",
    "R = 1 # running time of longest sampler\n",
    "\n",
    "error_fn = lambda x,y: imq_KSD(x, y)\n",
    "logdt_range = -jnp.arange(1., 8., 0.5) \n",
    "batch_size_range = [int(10**(-elem)*X_train.shape[0]) for elem in range(0, 4)]\n",
    "\n",
    "print(batch_size_range)"
   ]
  },
  {
   "cell_type": "code",
   "execution_count": 4,
   "id": "e1d39a1d",
   "metadata": {},
   "outputs": [],
   "source": [
    "grad_log_post_fb = build_grad_log_post(loglikelihood, logprior, data)\n",
    "\n",
    "def grad_lp_LR_fb(theta):\n",
    "    return grad_log_post_fb(theta, X_train, y_train)\n",
    "\n",
    "batch_grad_lp_LR_fb = jit(vmap(grad_lp_LR_fb))\n",
    "\n",
    "@jit\n",
    "def get_fb_grads(samples):\n",
    "    thin = 10\n",
    "    array_samples = jnp.array(samples[::thin])\n",
    "    mygrads = batch_grad_lp_LR_fb(array_samples)\n",
    "    return array_samples, mygrads"
   ]
  },
  {
   "cell_type": "code",
   "execution_count": null,
   "id": "e472c6aa",
   "metadata": {},
   "outputs": [],
   "source": []
  },
  {
   "cell_type": "markdown",
   "id": "912e1f22",
   "metadata": {},
   "source": [
    "### run MAMBA"
   ]
  },
  {
   "cell_type": "code",
   "execution_count": null,
   "id": "01a71a00",
   "metadata": {},
   "outputs": [],
   "source": []
  },
  {
   "cell_type": "code",
   "execution_count": 5,
   "id": "180a1973",
   "metadata": {},
   "outputs": [
    {
     "name": "stdout",
     "output_type": "stream",
     "text": [
      "\n"
     ]
    },
    {
     "data": {
      "application/vnd.jupyter.widget-view+json": {
       "model_id": "9fa9f18456b346d487676c9101495f92",
       "version_major": 2,
       "version_minor": 0
      },
      "text/plain": [
       "HBox(children=(HTML(value='Iteration 1/3, 56 arms, time budget = 0.08 sec'), FloatProgress(value=0.0, max=56.0…"
      ]
     },
     "metadata": {},
     "output_type": "display_data"
    },
    {
     "name": "stdout",
     "output_type": "stream",
     "text": [
      "Hyperparams: {'batch_size': 800000, 'dt': 0.1}., sample shape=(2, 10). metric: 313867\n",
      "Hyperparams: {'batch_size': 800000, 'dt': 0.031622775}., sample shape=(2, 10). metric: 310463\n",
      "Hyperparams: {'batch_size': 800000, 'dt': 0.01}., sample shape=(1, 10). metric: 599319\n",
      "Hyperparams: {'batch_size': 800000, 'dt': 0.0031622776}., sample shape=(2, 10). metric: 244357\n",
      "Hyperparams: {'batch_size': 800000, 'dt': 0.001}., sample shape=(1, 10). metric: 230270\n",
      "Hyperparams: {'batch_size': 800000, 'dt': 0.00031622776}., sample shape=(2, 10). metric: 35102\n",
      "Hyperparams: {'batch_size': 800000, 'dt': 1e-04}., sample shape=(1, 10). metric: 22171\n",
      "Hyperparams: {'batch_size': 800000, 'dt': 3.1622778e-05}., sample shape=(1, 10). metric: 4516\n",
      "Hyperparams: {'batch_size': 800000, 'dt': 1e-05}., sample shape=(1, 10). metric: 1008\n",
      "Hyperparams: {'batch_size': 800000, 'dt': 3.1622776e-06}., sample shape=(1, 10). metric: 2652\n",
      "Hyperparams: {'batch_size': 800000, 'dt': 1e-06}., sample shape=(2, 10). metric: 2127\n",
      "Hyperparams: {'batch_size': 800000, 'dt': 3.1622776e-07}., sample shape=(1, 10). metric: 3223\n",
      "Hyperparams: {'batch_size': 800000, 'dt': 1e-07}., sample shape=(2, 10). metric: 3141\n",
      "Hyperparams: {'batch_size': 800000, 'dt': 3.1622776e-08}., sample shape=(2, 10). metric: 3174\n",
      "Hyperparams: {'batch_size': 80000, 'dt': 0.1}., sample shape=(3, 10). metric: 210743\n",
      "Hyperparams: {'batch_size': 80000, 'dt': 0.031622775}., sample shape=(3, 10). metric: 202917\n",
      "Hyperparams: {'batch_size': 80000, 'dt': 0.01}., sample shape=(3, 10). metric: 169046\n",
      "Hyperparams: {'batch_size': 80000, 'dt': 0.0031622776}., sample shape=(3, 10). metric: 174764\n",
      "Hyperparams: {'batch_size': 80000, 'dt': 0.001}., sample shape=(3, 10). metric: 65235\n",
      "Hyperparams: {'batch_size': 80000, 'dt': 0.00031622776}., sample shape=(3, 10). metric: 14146\n",
      "Hyperparams: {'batch_size': 80000, 'dt': 1e-04}., sample shape=(3, 10). metric: 14201\n",
      "Hyperparams: {'batch_size': 80000, 'dt': 3.1622778e-05}., sample shape=(3, 10). metric: 52948\n",
      "Hyperparams: {'batch_size': 80000, 'dt': 1e-05}., sample shape=(3, 10). metric: 728\n",
      "Hyperparams: {'batch_size': 80000, 'dt': 3.1622776e-06}., sample shape=(3, 10). metric: 1409\n",
      "Hyperparams: {'batch_size': 80000, 'dt': 1e-06}., sample shape=(3, 10). metric: 1586\n",
      "Hyperparams: {'batch_size': 80000, 'dt': 3.1622776e-07}., sample shape=(3, 10). metric: 2386\n",
      "Hyperparams: {'batch_size': 80000, 'dt': 1e-07}., sample shape=(3, 10). metric: 2932\n",
      "Hyperparams: {'batch_size': 80000, 'dt': 3.1622776e-08}., sample shape=(3, 10). metric: 3216\n",
      "Hyperparams: {'batch_size': 8000, 'dt': 0.1}., sample shape=(17, 10). metric: 39559\n",
      "Hyperparams: {'batch_size': 8000, 'dt': 0.031622775}., sample shape=(16, 10). metric: 46371\n",
      "Hyperparams: {'batch_size': 8000, 'dt': 0.01}., sample shape=(16, 10). metric: 44840\n",
      "Hyperparams: {'batch_size': 8000, 'dt': 0.0031622776}., sample shape=(16, 10). metric: 35347\n",
      "Hyperparams: {'batch_size': 8000, 'dt': 0.001}., sample shape=(16, 10). metric: 30385\n",
      "Hyperparams: {'batch_size': 8000, 'dt': 0.00031622776}., sample shape=(16, 10). metric: 35307\n",
      "Hyperparams: {'batch_size': 8000, 'dt': 1e-04}., sample shape=(16, 10). metric: 38154\n",
      "Hyperparams: {'batch_size': 8000, 'dt': 3.1622778e-05}., sample shape=(16, 10). metric: 19283\n",
      "Hyperparams: {'batch_size': 8000, 'dt': 1e-05}., sample shape=(16, 10). metric: 1569\n",
      "Hyperparams: {'batch_size': 8000, 'dt': 3.1622776e-06}., sample shape=(16, 10). metric: 982\n",
      "Hyperparams: {'batch_size': 8000, 'dt': 1e-06}., sample shape=(16, 10). metric: 938\n",
      "Hyperparams: {'batch_size': 8000, 'dt': 3.1622776e-07}., sample shape=(15, 10). metric: 1263\n",
      "Hyperparams: {'batch_size': 8000, 'dt': 1e-07}., sample shape=(17, 10). metric: 2004\n",
      "Hyperparams: {'batch_size': 8000, 'dt': 3.1622776e-08}., sample shape=(17, 10). metric: 2709\n",
      "Hyperparams: {'batch_size': 800, 'dt': 0.1}., sample shape=(43, 10). metric: 20777\n",
      "Hyperparams: {'batch_size': 800, 'dt': 0.031622775}., sample shape=(46, 10). metric: 15732\n",
      "Hyperparams: {'batch_size': 800, 'dt': 0.01}., sample shape=(46, 10). metric: 17352\n",
      "Hyperparams: {'batch_size': 800, 'dt': 0.0031622776}., sample shape=(46, 10). metric: 16534\n",
      "Hyperparams: {'batch_size': 800, 'dt': 0.001}., sample shape=(45, 10). metric: 16422\n",
      "Hyperparams: {'batch_size': 800, 'dt': 0.00031622776}., sample shape=(44, 10). metric: 17390\n",
      "Hyperparams: {'batch_size': 800, 'dt': 1e-04}., sample shape=(41, 10). metric: 16622\n",
      "Hyperparams: {'batch_size': 800, 'dt': 3.1622778e-05}., sample shape=(45, 10). metric: 13104\n",
      "Hyperparams: {'batch_size': 800, 'dt': 1e-05}., sample shape=(42, 10). metric: 1905\n",
      "Hyperparams: {'batch_size': 800, 'dt': 3.1622776e-06}., sample shape=(41, 10). metric: 914\n",
      "Hyperparams: {'batch_size': 800, 'dt': 1e-06}., sample shape=(44, 10). metric: 742\n",
      "Hyperparams: {'batch_size': 800, 'dt': 3.1622776e-07}., sample shape=(43, 10). metric: 1160\n",
      "Hyperparams: {'batch_size': 800, 'dt': 1e-07}., sample shape=(38, 10). metric: 1154\n",
      "Hyperparams: {'batch_size': 800, 'dt': 3.1622776e-08}., sample shape=(44, 10). metric: 2316\n",
      "\n",
      "Number of samples: [3, 44, 41, 16, 16, 1, 38, 43, 15, 3, 16, 3, 42, 17, 2, 44, 3, 1]\n"
     ]
    },
    {
     "data": {
      "application/vnd.jupyter.widget-view+json": {
       "model_id": "9d5f67445b49408f9ecc3c0db90801b2",
       "version_major": 2,
       "version_minor": 0
      },
      "text/plain": [
       "HBox(children=(HTML(value='Iteration 2/3, 18 arms, time budget = 0.24 sec'), FloatProgress(value=0.0, max=18.0…"
      ]
     },
     "metadata": {},
     "output_type": "display_data"
    },
    {
     "name": "stdout",
     "output_type": "stream",
     "text": [
      "Hyperparams: {'batch_size': 80000, 'dt': 1e-05}., sample shape=(12, 10). metric: 171\n",
      "Hyperparams: {'batch_size': 800, 'dt': 1e-06}., sample shape=(179, 10). metric: 528\n",
      "Hyperparams: {'batch_size': 800, 'dt': 3.1622776e-06}., sample shape=(178, 10). metric: 594\n",
      "Hyperparams: {'batch_size': 8000, 'dt': 1e-06}., sample shape=(65, 10). metric: 328\n",
      "Hyperparams: {'batch_size': 8000, 'dt': 3.1622776e-06}., sample shape=(68, 10). metric: 238\n",
      "Hyperparams: {'batch_size': 800000, 'dt': 1e-05}., sample shape=(5, 10). metric: 422\n",
      "Hyperparams: {'batch_size': 800, 'dt': 1e-07}., sample shape=(181, 10). metric: 470\n",
      "Hyperparams: {'batch_size': 800, 'dt': 3.1622776e-07}., sample shape=(185, 10). metric: 371\n",
      "Hyperparams: {'batch_size': 8000, 'dt': 3.1622776e-07}., sample shape=(67, 10). metric: 355\n",
      "Hyperparams: {'batch_size': 80000, 'dt': 3.1622776e-06}., sample shape=(12, 10). metric: 519\n",
      "Hyperparams: {'batch_size': 8000, 'dt': 1e-05}., sample shape=(69, 10). metric: 432\n",
      "Hyperparams: {'batch_size': 80000, 'dt': 1e-06}., sample shape=(12, 10). metric: 324\n",
      "Hyperparams: {'batch_size': 800, 'dt': 1e-05}., sample shape=(185, 10). metric: 1073\n",
      "Hyperparams: {'batch_size': 8000, 'dt': 1e-07}., sample shape=(69, 10). metric: 466\n",
      "Hyperparams: {'batch_size': 800000, 'dt': 1e-06}., sample shape=(6, 10). metric: 604\n",
      "Hyperparams: {'batch_size': 800, 'dt': 3.1622776e-08}., sample shape=(185, 10). metric: 385\n",
      "Hyperparams: {'batch_size': 80000, 'dt': 3.1622776e-07}., sample shape=(11, 10). metric: 1033\n",
      "Hyperparams: {'batch_size': 800000, 'dt': 3.1622776e-06}., sample shape=(5, 10). metric: 393\n",
      "\n",
      "Number of samples: [12, 68, 12, 65, 67, 185]\n"
     ]
    },
    {
     "data": {
      "application/vnd.jupyter.widget-view+json": {
       "model_id": "be5cf982cb13414f8f13e02e7bb4f655",
       "version_major": 2,
       "version_minor": 0
      },
      "text/plain": [
       "HBox(children=(HTML(value='Iteration 3/3, 6 arms, time budget = 0.72 sec'), FloatProgress(value=0.0, max=6.0),…"
      ]
     },
     "metadata": {},
     "output_type": "display_data"
    },
    {
     "name": "stdout",
     "output_type": "stream",
     "text": [
      "Hyperparams: {'batch_size': 80000, 'dt': 1e-05}., sample shape=(36, 10). metric: 374\n",
      "Hyperparams: {'batch_size': 8000, 'dt': 3.1622776e-06}., sample shape=(201, 10). metric: 211\n",
      "Hyperparams: {'batch_size': 80000, 'dt': 1e-06}., sample shape=(36, 10). metric: 353\n",
      "Hyperparams: {'batch_size': 8000, 'dt': 1e-06}., sample shape=(218, 10). metric: 125\n",
      "Hyperparams: {'batch_size': 8000, 'dt': 3.1622776e-07}., sample shape=(221, 10). metric: 236\n",
      "Hyperparams: {'batch_size': 800, 'dt': 3.1622776e-07}., sample shape=(586, 10). metric: 248\n",
      "\n",
      "Number of samples: [218, 201]\n",
      "Running time: 122.3 sec\n",
      "{'batch_size': 8000, 'dt': 1e-06} 125.33214 (218, 10)\n"
     ]
    }
   ],
   "source": [
    "build_kernel = lambda dt, batch_size: build_sgld_kernel(dt, loglikelihood, logprior, data, batch_size)\n",
    "\n",
    "grid_params = {'log_dt': logdt_range, \n",
    "               'batch_size': batch_size_range\n",
    "              }\n",
    "best_arm = run_MAMBA(key, build_kernel, error_fn, R, params_IC, \n",
    "                     grid_params=grid_params, get_fb_grads=get_fb_grads)\n",
    "\n",
    "print(best_arm.hyperparameters, best_arm.metric, best_arm.samples.shape)"
   ]
  },
  {
   "cell_type": "code",
   "execution_count": 6,
   "id": "bacbc413",
   "metadata": {
    "collapsed": true
   },
   "outputs": [
    {
     "data": {
      "application/vnd.jupyter.widget-view+json": {
       "model_id": "2665346182eb4357b6cc3c1cb5009e6d",
       "version_major": 2,
       "version_minor": 0
      },
      "text/plain": [
       "HBox(children=(HTML(value='Iteration 1/3, 56 arms, time budget = 0.08 sec'), FloatProgress(value=0.0, max=56.0…"
      ]
     },
     "metadata": {},
     "output_type": "display_data"
    },
    {
     "name": "stdout",
     "output_type": "stream",
     "text": [
      "Hyperparams: {'batch_size': 800000, 'dt': 0.1}., sample shape=(1, 10). metric: 633948\n",
      "Hyperparams: {'batch_size': 800000, 'dt': 0.031622775}., sample shape=(1, 10). metric: 625294\n",
      "Hyperparams: {'batch_size': 800000, 'dt': 0.01}., sample shape=(1, 10). metric: 596300\n",
      "Hyperparams: {'batch_size': 800000, 'dt': 0.0031622776}., sample shape=(1, 10). metric: 477570\n",
      "Hyperparams: {'batch_size': 800000, 'dt': 0.001}., sample shape=(1, 10). metric: 217501\n",
      "Hyperparams: {'batch_size': 800000, 'dt': 0.00031622776}., sample shape=(1, 10). metric: 73072\n",
      "Hyperparams: {'batch_size': 800000, 'dt': 1e-04}., sample shape=(1, 10). metric: 19466\n",
      "Hyperparams: {'batch_size': 800000, 'dt': 3.1622778e-05}., sample shape=(1, 10). metric: 3622\n",
      "Hyperparams: {'batch_size': 800000, 'dt': 1e-05}., sample shape=(1, 10). metric: 930\n",
      "Hyperparams: {'batch_size': 800000, 'dt': 3.1622776e-06}., sample shape=(1, 10). metric: 2590\n",
      "Hyperparams: {'batch_size': 800000, 'dt': 1e-06}., sample shape=(1, 10). metric: 2878\n",
      "Hyperparams: {'batch_size': 800000, 'dt': 3.1622776e-07}., sample shape=(1, 10). metric: 3219\n",
      "Hyperparams: {'batch_size': 800000, 'dt': 1e-07}., sample shape=(1, 10). metric: 3166\n",
      "Hyperparams: {'batch_size': 800000, 'dt': 3.1622776e-08}., sample shape=(1, 10). metric: 3207\n",
      "Hyperparams: {'batch_size': 80000, 'dt': 0.1}., sample shape=(3, 10). metric: 211260\n",
      "Hyperparams: {'batch_size': 80000, 'dt': 0.031622775}., sample shape=(2, 10). metric: 312272\n",
      "Hyperparams: {'batch_size': 80000, 'dt': 0.01}., sample shape=(3, 10). metric: 198120\n",
      "Hyperparams: {'batch_size': 80000, 'dt': 0.0031622776}., sample shape=(3, 10). metric: 167212\n",
      "Hyperparams: {'batch_size': 80000, 'dt': 0.001}., sample shape=(3, 10). metric: 74597\n",
      "Hyperparams: {'batch_size': 80000, 'dt': 0.00031622776}., sample shape=(3, 10). metric: 23144\n",
      "Hyperparams: {'batch_size': 80000, 'dt': 1e-04}., sample shape=(3, 10). metric: 17687\n",
      "Hyperparams: {'batch_size': 80000, 'dt': 3.1622778e-05}., sample shape=(3, 10). metric: 43904\n",
      "Hyperparams: {'batch_size': 80000, 'dt': 1e-05}., sample shape=(3, 10). metric: 634\n",
      "Hyperparams: {'batch_size': 80000, 'dt': 3.1622776e-06}., sample shape=(3, 10). metric: 1194\n",
      "Hyperparams: {'batch_size': 80000, 'dt': 1e-06}., sample shape=(3, 10). metric: 1586\n",
      "Hyperparams: {'batch_size': 80000, 'dt': 3.1622776e-07}., sample shape=(3, 10). metric: 2402\n",
      "Hyperparams: {'batch_size': 80000, 'dt': 1e-07}., sample shape=(3, 10). metric: 2926\n",
      "Hyperparams: {'batch_size': 80000, 'dt': 3.1622776e-08}., sample shape=(3, 10). metric: 3213\n",
      "Hyperparams: {'batch_size': 8000, 'dt': 0.1}., sample shape=(15, 10). metric: 51321\n",
      "Hyperparams: {'batch_size': 8000, 'dt': 0.031622775}., sample shape=(14, 10). metric: 50066\n",
      "Hyperparams: {'batch_size': 8000, 'dt': 0.01}., sample shape=(15, 10). metric: 45459\n",
      "Hyperparams: {'batch_size': 8000, 'dt': 0.0031622776}., sample shape=(14, 10). metric: 42803\n",
      "Hyperparams: {'batch_size': 8000, 'dt': 0.001}., sample shape=(14, 10). metric: 29286\n",
      "Hyperparams: {'batch_size': 8000, 'dt': 0.00031622776}., sample shape=(14, 10). metric: 36343\n",
      "Hyperparams: {'batch_size': 8000, 'dt': 1e-04}., sample shape=(14, 10). metric: 45901\n",
      "Hyperparams: {'batch_size': 8000, 'dt': 3.1622778e-05}., sample shape=(11, 10). metric: 30112\n",
      "Hyperparams: {'batch_size': 8000, 'dt': 1e-05}., sample shape=(14, 10). metric: 114\n",
      "Hyperparams: {'batch_size': 8000, 'dt': 3.1622776e-06}., sample shape=(15, 10). metric: 294\n",
      "Hyperparams: {'batch_size': 8000, 'dt': 1e-06}., sample shape=(15, 10). metric: 610\n",
      "Hyperparams: {'batch_size': 8000, 'dt': 3.1622776e-07}., sample shape=(15, 10). metric: 1145\n",
      "Hyperparams: {'batch_size': 8000, 'dt': 1e-07}., sample shape=(15, 10). metric: 2147\n",
      "Hyperparams: {'batch_size': 8000, 'dt': 3.1622776e-08}., sample shape=(15, 10). metric: 2727\n",
      "Hyperparams: {'batch_size': 800, 'dt': 0.1}., sample shape=(44, 10). metric: 21251\n",
      "Hyperparams: {'batch_size': 800, 'dt': 0.031622775}., sample shape=(42, 10). metric: 20589\n",
      "Hyperparams: {'batch_size': 800, 'dt': 0.01}., sample shape=(45, 10). metric: 19237\n",
      "Hyperparams: {'batch_size': 800, 'dt': 0.0031622776}., sample shape=(42, 10). metric: 17238\n",
      "Hyperparams: {'batch_size': 800, 'dt': 0.001}., sample shape=(42, 10). metric: 15540\n",
      "Hyperparams: {'batch_size': 800, 'dt': 0.00031622776}., sample shape=(45, 10). metric: 16006\n",
      "Hyperparams: {'batch_size': 800, 'dt': 1e-04}., sample shape=(44, 10). metric: 22934\n",
      "Hyperparams: {'batch_size': 800, 'dt': 3.1622778e-05}., sample shape=(45, 10). metric: 13970\n",
      "Hyperparams: {'batch_size': 800, 'dt': 1e-05}., sample shape=(41, 10). metric: 130\n",
      "Hyperparams: {'batch_size': 800, 'dt': 3.1622776e-06}., sample shape=(42, 10). metric: 125\n",
      "Hyperparams: {'batch_size': 800, 'dt': 1e-06}., sample shape=(43, 10). metric: 165\n",
      "Hyperparams: {'batch_size': 800, 'dt': 3.1622776e-07}., sample shape=(41, 10). metric: 540\n",
      "Hyperparams: {'batch_size': 800, 'dt': 1e-07}., sample shape=(29, 10). metric: 1231\n",
      "Hyperparams: {'batch_size': 800, 'dt': 3.1622776e-08}., sample shape=(42, 10). metric: 2147\n",
      "\n",
      "Number of samples: [14, 42, 41, 43, 15, 41, 15, 3, 1, 15, 3, 29, 3, 15, 42, 3, 1, 15]\n"
     ]
    },
    {
     "data": {
      "application/vnd.jupyter.widget-view+json": {
       "model_id": "30ae4a6b15db4471ba0310e1652c6c69",
       "version_major": 2,
       "version_minor": 0
      },
      "text/plain": [
       "HBox(children=(HTML(value='Iteration 2/3, 18 arms, time budget = 0.24 sec'), FloatProgress(value=0.0, max=18.0…"
      ]
     },
     "metadata": {},
     "output_type": "display_data"
    },
    {
     "name": "stdout",
     "output_type": "stream",
     "text": [
      "Hyperparams: {'batch_size': 8000, 'dt': 1e-05}., sample shape=(58, 10). metric: 63\n",
      "Hyperparams: {'batch_size': 800, 'dt': 3.1622776e-06}., sample shape=(175, 10). metric: 66\n",
      "Hyperparams: {'batch_size': 800, 'dt': 1e-05}., sample shape=(167, 10). metric: 56\n",
      "Hyperparams: {'batch_size': 800, 'dt': 1e-06}., sample shape=(171, 10). metric: 91\n",
      "Hyperparams: {'batch_size': 8000, 'dt': 3.1622776e-06}., sample shape=(58, 10). metric: 125\n",
      "Hyperparams: {'batch_size': 800, 'dt': 3.1622776e-07}., sample shape=(174, 10). metric: 167\n",
      "Hyperparams: {'batch_size': 8000, 'dt': 1e-06}., sample shape=(59, 10). metric: 168\n",
      "Hyperparams: {'batch_size': 80000, 'dt': 1e-05}., sample shape=(10, 10). metric: 236\n",
      "Hyperparams: {'batch_size': 800000, 'dt': 1e-05}., sample shape=(2, 10). metric: 647\n",
      "Hyperparams: {'batch_size': 8000, 'dt': 3.1622776e-07}., sample shape=(57, 10). metric: 414\n",
      "Hyperparams: {'batch_size': 80000, 'dt': 3.1622776e-06}., sample shape=(10, 10). metric: 326\n",
      "Hyperparams: {'batch_size': 800, 'dt': 1e-07}., sample shape=(166, 10). metric: 231\n",
      "Hyperparams: {'batch_size': 80000, 'dt': 1e-06}., sample shape=(10, 10). metric: 427\n",
      "Hyperparams: {'batch_size': 8000, 'dt': 1e-07}., sample shape=(58, 10). metric: 517\n",
      "Hyperparams: {'batch_size': 800, 'dt': 3.1622776e-08}., sample shape=(171, 10). metric: 556\n",
      "Hyperparams: {'batch_size': 80000, 'dt': 3.1622776e-07}., sample shape=(10, 10). metric: 1090\n",
      "Hyperparams: {'batch_size': 800000, 'dt': 3.1622776e-06}., sample shape=(2, 10). metric: 960\n",
      "Hyperparams: {'batch_size': 8000, 'dt': 3.1622776e-08}., sample shape=(49, 10). metric: 1907\n",
      "\n",
      "Number of samples: [167, 58, 175, 171, 58, 174]\n"
     ]
    },
    {
     "data": {
      "application/vnd.jupyter.widget-view+json": {
       "model_id": "872fb433b03144c582ac838135ffa4a7",
       "version_major": 2,
       "version_minor": 0
      },
      "text/plain": [
       "HBox(children=(HTML(value='Iteration 3/3, 6 arms, time budget = 0.72 sec'), FloatProgress(value=0.0, max=6.0),…"
      ]
     },
     "metadata": {},
     "output_type": "display_data"
    },
    {
     "name": "stdout",
     "output_type": "stream",
     "text": [
      "Hyperparams: {'batch_size': 800, 'dt': 1e-05}., sample shape=(555, 10). metric: 37\n",
      "Hyperparams: {'batch_size': 8000, 'dt': 1e-05}., sample shape=(187, 10). metric: 53\n",
      "Hyperparams: {'batch_size': 800, 'dt': 3.1622776e-06}., sample shape=(574, 10). metric: 48\n",
      "Hyperparams: {'batch_size': 800, 'dt': 1e-06}., sample shape=(522, 10). metric: 89\n",
      "Hyperparams: {'batch_size': 8000, 'dt': 3.1622776e-06}., sample shape=(174, 10). metric: 54\n",
      "Hyperparams: {'batch_size': 800, 'dt': 3.1622776e-07}., sample shape=(566, 10). metric: 108\n",
      "\n",
      "Number of samples: [555, 574]\n",
      "Running time: 140.9 sec\n",
      "{'batch_size': 800, 'dt': 1e-05} 37.13933 (555, 10)\n"
     ]
    }
   ],
   "source": [
    "build_kernel = lambda dt, batch_size: build_sgldCV_kernel(dt, loglikelihood, \n",
    "                                                  logprior, data, batch_size, centering_value)\n",
    "\n",
    "best_arm = run_MAMBA(key, build_kernel, error_fn, R, params_IC, \n",
    "                     grid_params=grid_params, get_fb_grads=get_fb_grads)\n",
    "\n",
    "print(best_arm.hyperparameters, best_arm.metric, best_arm.samples.shape)"
   ]
  },
  {
   "cell_type": "code",
   "execution_count": 7,
   "id": "6c0a862d",
   "metadata": {
    "collapsed": true
   },
   "outputs": [
    {
     "data": {
      "application/vnd.jupyter.widget-view+json": {
       "model_id": "ea593daa07284451a3ffb8e1e4dc18eb",
       "version_major": 2,
       "version_minor": 0
      },
      "text/plain": [
       "HBox(children=(HTML(value='Iteration 1/4, 112 arms, time budget = 0.03 sec'), FloatProgress(value=0.0, max=112…"
      ]
     },
     "metadata": {},
     "output_type": "display_data"
    },
    {
     "name": "stdout",
     "output_type": "stream",
     "text": [
      "Hyperparams: {'batch_size': 800000, 'L': 5, 'dt': 0.1}., sample shape=(1, 10). metric: 391962\n",
      "Hyperparams: {'batch_size': 800000, 'L': 5, 'dt': 0.031622775}., sample shape=(1, 10). metric: 315911\n",
      "Hyperparams: {'batch_size': 800000, 'L': 5, 'dt': 0.01}., sample shape=(1, 10). metric: 351372\n",
      "Hyperparams: {'batch_size': 800000, 'L': 5, 'dt': 0.0031622776}., sample shape=(1, 10). metric: 416450\n",
      "Hyperparams: {'batch_size': 800000, 'L': 5, 'dt': 0.001}., sample shape=(1, 10). metric: 436851\n",
      "Hyperparams: {'batch_size': 800000, 'L': 5, 'dt': 0.00031622776}., sample shape=(1, 10). metric: 463559\n",
      "Hyperparams: {'batch_size': 800000, 'L': 5, 'dt': 1e-04}., sample shape=(1, 10). metric: 347783\n",
      "Hyperparams: {'batch_size': 800000, 'L': 5, 'dt': 3.1622778e-05}., sample shape=(1, 10). metric: 15751\n",
      "Hyperparams: {'batch_size': 800000, 'L': 5, 'dt': 1e-05}., sample shape=(1, 10). metric: 10584\n",
      "Hyperparams: {'batch_size': 800000, 'L': 5, 'dt': 3.1622776e-06}., sample shape=(1, 10). metric: 2970\n",
      "Hyperparams: {'batch_size': 800000, 'L': 5, 'dt': 1e-06}., sample shape=(1, 10). metric: 1141\n",
      "Hyperparams: {'batch_size': 800000, 'L': 5, 'dt': 3.1622776e-07}., sample shape=(1, 10). metric: 2790\n",
      "Hyperparams: {'batch_size': 800000, 'L': 5, 'dt': 1e-07}., sample shape=(1, 10). metric: 2926\n",
      "Hyperparams: {'batch_size': 800000, 'L': 5, 'dt': 3.1622776e-08}., sample shape=(1, 10). metric: 3181\n",
      "Hyperparams: {'batch_size': 800000, 'L': 10, 'dt': 0.1}., sample shape=(1, 10). metric: 194684\n",
      "Hyperparams: {'batch_size': 800000, 'L': 10, 'dt': 0.031622775}., sample shape=(1, 10). metric: 119768\n",
      "Hyperparams: {'batch_size': 800000, 'L': 10, 'dt': 0.01}., sample shape=(1, 10). metric: 120963\n",
      "Hyperparams: {'batch_size': 800000, 'L': 10, 'dt': 0.0031622776}., sample shape=(1, 10). metric: 91569\n",
      "Hyperparams: {'batch_size': 800000, 'L': 10, 'dt': 0.001}., sample shape=(1, 10). metric: 231038\n",
      "Hyperparams: {'batch_size': 800000, 'L': 10, 'dt': 0.00031622776}., sample shape=(1, 10). metric: 392221\n",
      "Hyperparams: {'batch_size': 800000, 'L': 10, 'dt': 1e-04}., sample shape=(1, 10). metric: 309389\n",
      "Hyperparams: {'batch_size': 800000, 'L': 10, 'dt': 3.1622778e-05}., sample shape=(1, 10). metric: 504199\n",
      "Hyperparams: {'batch_size': 800000, 'L': 10, 'dt': 1e-05}., sample shape=(1, 10). metric: 31992\n",
      "Hyperparams: {'batch_size': 800000, 'L': 10, 'dt': 3.1622776e-06}., sample shape=(1, 10). metric: 3240\n",
      "Hyperparams: {'batch_size': 800000, 'L': 10, 'dt': 1e-06}., sample shape=(1, 10). metric: 3472\n",
      "Hyperparams: {'batch_size': 800000, 'L': 10, 'dt': 3.1622776e-07}., sample shape=(1, 10). metric: 784\n",
      "Hyperparams: {'batch_size': 800000, 'L': 10, 'dt': 1e-07}., sample shape=(1, 10). metric: 2005\n",
      "Hyperparams: {'batch_size': 800000, 'L': 10, 'dt': 3.1622776e-08}., sample shape=(1, 10). metric: 3066\n",
      "Hyperparams: {'batch_size': 80000, 'L': 5, 'dt': 0.1}., sample shape=(1, 10). metric: 305675\n",
      "Hyperparams: {'batch_size': 80000, 'L': 5, 'dt': 0.031622775}., sample shape=(1, 10). metric: 387552\n",
      "Hyperparams: {'batch_size': 80000, 'L': 5, 'dt': 0.01}., sample shape=(1, 10). metric: 378238\n",
      "Hyperparams: {'batch_size': 80000, 'L': 5, 'dt': 0.0031622776}., sample shape=(1, 10). metric: 414214\n",
      "Hyperparams: {'batch_size': 80000, 'L': 5, 'dt': 0.001}., sample shape=(1, 10). metric: 410169\n",
      "Hyperparams: {'batch_size': 80000, 'L': 5, 'dt': 0.00031622776}., sample shape=(1, 10). metric: 457529\n",
      "Hyperparams: {'batch_size': 80000, 'L': 5, 'dt': 1e-04}., sample shape=(1, 10). metric: 283177\n",
      "Hyperparams: {'batch_size': 80000, 'L': 5, 'dt': 3.1622778e-05}., sample shape=(1, 10). metric: 19464\n",
      "Hyperparams: {'batch_size': 80000, 'L': 5, 'dt': 1e-05}., sample shape=(1, 10). metric: 10722\n",
      "Hyperparams: {'batch_size': 80000, 'L': 5, 'dt': 3.1622776e-06}., sample shape=(1, 10). metric: 5516\n",
      "Hyperparams: {'batch_size': 80000, 'L': 5, 'dt': 1e-06}., sample shape=(1, 10). metric: 1556\n",
      "Hyperparams: {'batch_size': 80000, 'L': 5, 'dt': 3.1622776e-07}., sample shape=(1, 10). metric: 2628\n",
      "Hyperparams: {'batch_size': 80000, 'L': 5, 'dt': 1e-07}., sample shape=(1, 10). metric: 2811\n",
      "Hyperparams: {'batch_size': 80000, 'L': 5, 'dt': 3.1622776e-08}., sample shape=(1, 10). metric: 3139\n",
      "Hyperparams: {'batch_size': 80000, 'L': 10, 'dt': 0.1}., sample shape=(1, 10). metric: 203186\n",
      "Hyperparams: {'batch_size': 80000, 'L': 10, 'dt': 0.031622775}., sample shape=(1, 10). metric: 117821\n",
      "Hyperparams: {'batch_size': 80000, 'L': 10, 'dt': 0.01}., sample shape=(1, 10). metric: 124577\n",
      "Hyperparams: {'batch_size': 80000, 'L': 10, 'dt': 0.0031622776}., sample shape=(1, 10). metric: 97217\n",
      "Hyperparams: {'batch_size': 80000, 'L': 10, 'dt': 0.001}., sample shape=(1, 10). metric: 270410\n",
      "Hyperparams: {'batch_size': 80000, 'L': 10, 'dt': 0.00031622776}., sample shape=(1, 10). metric: 357170\n",
      "Hyperparams: {'batch_size': 80000, 'L': 10, 'dt': 1e-04}., sample shape=(1, 10). metric: 346073\n",
      "Hyperparams: {'batch_size': 80000, 'L': 10, 'dt': 3.1622778e-05}., sample shape=(1, 10). metric: 469509\n",
      "Hyperparams: {'batch_size': 80000, 'L': 10, 'dt': 1e-05}., sample shape=(1, 10). metric: 23218\n",
      "Hyperparams: {'batch_size': 80000, 'L': 10, 'dt': 3.1622776e-06}., sample shape=(1, 10). metric: 1755\n",
      "Hyperparams: {'batch_size': 80000, 'L': 10, 'dt': 1e-06}., sample shape=(1, 10). metric: 3918\n",
      "Hyperparams: {'batch_size': 80000, 'L': 10, 'dt': 3.1622776e-07}., sample shape=(1, 10). metric: 1186\n",
      "Hyperparams: {'batch_size': 80000, 'L': 10, 'dt': 1e-07}., sample shape=(1, 10). metric: 2370\n",
      "Hyperparams: {'batch_size': 80000, 'L': 10, 'dt': 3.1622776e-08}., sample shape=(1, 10). metric: 2835\n",
      "Hyperparams: {'batch_size': 8000, 'L': 5, 'dt': 0.1}., sample shape=(2, 10). metric: 206208\n",
      "Hyperparams: {'batch_size': 8000, 'L': 5, 'dt': 0.031622775}., sample shape=(2, 10). metric: 187390\n",
      "Hyperparams: {'batch_size': 8000, 'L': 5, 'dt': 0.01}., sample shape=(2, 10). metric: 186811\n",
      "Hyperparams: {'batch_size': 8000, 'L': 5, 'dt': 0.0031622776}., sample shape=(2, 10). metric: 186553\n",
      "Hyperparams: {'batch_size': 8000, 'L': 5, 'dt': 0.001}., sample shape=(2, 10). metric: 210166\n",
      "Hyperparams: {'batch_size': 8000, 'L': 5, 'dt': 0.00031622776}., sample shape=(2, 10). metric: 234434\n",
      "Hyperparams: {'batch_size': 8000, 'L': 5, 'dt': 1e-04}., sample shape=(2, 10). metric: 184308\n",
      "Hyperparams: {'batch_size': 8000, 'L': 5, 'dt': 3.1622778e-05}., sample shape=(2, 10). metric: 21349\n",
      "Hyperparams: {'batch_size': 8000, 'L': 5, 'dt': 1e-05}., sample shape=(2, 10). metric: 14388\n",
      "Hyperparams: {'batch_size': 8000, 'L': 5, 'dt': 3.1622776e-06}., sample shape=(2, 10). metric: 11023\n",
      "Hyperparams: {'batch_size': 8000, 'L': 5, 'dt': 1e-06}., sample shape=(2, 10). metric: 1641\n",
      "Hyperparams: {'batch_size': 8000, 'L': 5, 'dt': 3.1622776e-07}., sample shape=(2, 10). metric: 1262\n",
      "Hyperparams: {'batch_size': 8000, 'L': 5, 'dt': 1e-07}., sample shape=(2, 10). metric: 2510\n",
      "Hyperparams: {'batch_size': 8000, 'L': 5, 'dt': 3.1622776e-08}., sample shape=(2, 10). metric: 3034\n",
      "Hyperparams: {'batch_size': 8000, 'L': 10, 'dt': 0.1}., sample shape=(1, 10). metric: 135083\n",
      "Hyperparams: {'batch_size': 8000, 'L': 10, 'dt': 0.031622775}., sample shape=(1, 10). metric: 159430\n",
      "Hyperparams: {'batch_size': 8000, 'L': 10, 'dt': 0.01}., sample shape=(1, 10). metric: 99070\n",
      "Hyperparams: {'batch_size': 8000, 'L': 10, 'dt': 0.0031622776}., sample shape=(1, 10). metric: 117699\n",
      "Hyperparams: {'batch_size': 8000, 'L': 10, 'dt': 0.001}., sample shape=(1, 10). metric: 183507\n",
      "Hyperparams: {'batch_size': 8000, 'L': 10, 'dt': 0.00031622776}., sample shape=(1, 10). metric: 308402\n",
      "Hyperparams: {'batch_size': 8000, 'L': 10, 'dt': 1e-04}., sample shape=(1, 10). metric: 108410\n",
      "Hyperparams: {'batch_size': 8000, 'L': 10, 'dt': 3.1622778e-05}., sample shape=(1, 10). metric: 498424\n",
      "Hyperparams: {'batch_size': 8000, 'L': 10, 'dt': 1e-05}., sample shape=(1, 10). metric: 79165\n",
      "Hyperparams: {'batch_size': 8000, 'L': 10, 'dt': 3.1622776e-06}., sample shape=(1, 10). metric: 5396\n",
      "Hyperparams: {'batch_size': 8000, 'L': 10, 'dt': 1e-06}., sample shape=(1, 10). metric: 7176\n",
      "Hyperparams: {'batch_size': 8000, 'L': 10, 'dt': 3.1622776e-07}., sample shape=(1, 10). metric: 1050\n",
      "Hyperparams: {'batch_size': 8000, 'L': 10, 'dt': 1e-07}., sample shape=(1, 10). metric: 2240\n",
      "Hyperparams: {'batch_size': 8000, 'L': 10, 'dt': 3.1622776e-08}., sample shape=(1, 10). metric: 3016\n"
     ]
    },
    {
     "name": "stdout",
     "output_type": "stream",
     "text": [
      "Hyperparams: {'batch_size': 800, 'L': 5, 'dt': 0.1}., sample shape=(11, 10). metric: 68155\n",
      "Hyperparams: {'batch_size': 800, 'L': 5, 'dt': 0.031622775}., sample shape=(11, 10). metric: 53257\n",
      "Hyperparams: {'batch_size': 800, 'L': 5, 'dt': 0.01}., sample shape=(11, 10). metric: 42416\n",
      "Hyperparams: {'batch_size': 800, 'L': 5, 'dt': 0.0031622776}., sample shape=(10, 10). metric: 49468\n",
      "Hyperparams: {'batch_size': 800, 'L': 5, 'dt': 0.001}., sample shape=(11, 10). metric: 37818\n",
      "Hyperparams: {'batch_size': 800, 'L': 5, 'dt': 0.00031622776}., sample shape=(11, 10). metric: 45739\n",
      "Hyperparams: {'batch_size': 800, 'L': 5, 'dt': 1e-04}., sample shape=(11, 10). metric: 43477\n",
      "Hyperparams: {'batch_size': 800, 'L': 5, 'dt': 3.1622778e-05}., sample shape=(11, 10). metric: 32026\n",
      "Hyperparams: {'batch_size': 800, 'L': 5, 'dt': 1e-05}., sample shape=(10, 10). metric: 35832\n",
      "Hyperparams: {'batch_size': 800, 'L': 5, 'dt': 3.1622776e-06}., sample shape=(11, 10). metric: 6698\n",
      "Hyperparams: {'batch_size': 800, 'L': 5, 'dt': 1e-06}., sample shape=(11, 10). metric: 1493\n",
      "Hyperparams: {'batch_size': 800, 'L': 5, 'dt': 3.1622776e-07}., sample shape=(11, 10). metric: 671\n",
      "Hyperparams: {'batch_size': 800, 'L': 5, 'dt': 1e-07}., sample shape=(11, 10). metric: 1089\n",
      "Hyperparams: {'batch_size': 800, 'L': 5, 'dt': 3.1622776e-08}., sample shape=(11, 10). metric: 1242\n",
      "Hyperparams: {'batch_size': 800, 'L': 10, 'dt': 0.1}., sample shape=(7, 10). metric: 146785\n",
      "Hyperparams: {'batch_size': 800, 'L': 10, 'dt': 0.031622775}., sample shape=(7, 10). metric: 100366\n",
      "Hyperparams: {'batch_size': 800, 'L': 10, 'dt': 0.01}., sample shape=(7, 10). metric: 58097\n",
      "Hyperparams: {'batch_size': 800, 'L': 10, 'dt': 0.0031622776}., sample shape=(7, 10). metric: 47722\n",
      "Hyperparams: {'batch_size': 800, 'L': 10, 'dt': 0.001}., sample shape=(7, 10). metric: 44035\n",
      "Hyperparams: {'batch_size': 800, 'L': 10, 'dt': 0.00031622776}., sample shape=(7, 10). metric: 58446\n",
      "Hyperparams: {'batch_size': 800, 'L': 10, 'dt': 1e-04}., sample shape=(7, 10). metric: 61130\n",
      "Hyperparams: {'batch_size': 800, 'L': 10, 'dt': 3.1622778e-05}., sample shape=(7, 10). metric: 66688\n",
      "Hyperparams: {'batch_size': 800, 'L': 10, 'dt': 1e-05}., sample shape=(7, 10). metric: 43858\n",
      "Hyperparams: {'batch_size': 800, 'L': 10, 'dt': 3.1622776e-06}., sample shape=(7, 10). metric: 62918\n",
      "Hyperparams: {'batch_size': 800, 'L': 10, 'dt': 1e-06}., sample shape=(7, 10). metric: 36932\n",
      "Hyperparams: {'batch_size': 800, 'L': 10, 'dt': 3.1622776e-07}., sample shape=(7, 10). metric: 2089\n",
      "Hyperparams: {'batch_size': 800, 'L': 10, 'dt': 1e-07}., sample shape=(7, 10). metric: 1110\n",
      "Hyperparams: {'batch_size': 800, 'L': 10, 'dt': 3.1622776e-08}., sample shape=(7, 10). metric: 676\n",
      "\n",
      "Number of samples: [11, 7, 1, 1, 11, 7, 1, 1, 11, 2, 11, 1, 2, 1, 1, 7, 1, 1, 2, 1, 1, 1, 1, 1, 1, 1, 2, 1, 1, 1, 1, 1, 1, 1, 1, 11, 1]\n"
     ]
    },
    {
     "data": {
      "application/vnd.jupyter.widget-view+json": {
       "model_id": "8947f01f4dcc475283281789e1a52a57",
       "version_major": 2,
       "version_minor": 0
      },
      "text/plain": [
       "HBox(children=(HTML(value='Iteration 2/4, 37 arms, time budget = 0.08 sec'), FloatProgress(value=0.0, max=37.0…"
      ]
     },
     "metadata": {},
     "output_type": "display_data"
    },
    {
     "name": "stdout",
     "output_type": "stream",
     "text": [
      "Hyperparams: {'batch_size': 800, 'L': 5, 'dt': 3.1622776e-07}., sample shape=(39, 10). metric: 584\n",
      "Hyperparams: {'batch_size': 800, 'L': 10, 'dt': 3.1622776e-08}., sample shape=(28, 10). metric: 512\n",
      "Hyperparams: {'batch_size': 800000, 'L': 10, 'dt': 3.1622776e-07}., sample shape=(2, 10). metric: 736\n",
      "Hyperparams: {'batch_size': 8000, 'L': 10, 'dt': 3.1622776e-07}., sample shape=(4, 10). metric: 1048\n",
      "Hyperparams: {'batch_size': 800, 'L': 5, 'dt': 1e-07}., sample shape=(39, 10). metric: 1078\n",
      "Hyperparams: {'batch_size': 800, 'L': 10, 'dt': 1e-07}., sample shape=(28, 10). metric: 407\n",
      "Hyperparams: {'batch_size': 800000, 'L': 5, 'dt': 1e-06}., sample shape=(2, 10). metric: 340\n",
      "Hyperparams: {'batch_size': 80000, 'L': 10, 'dt': 3.1622776e-07}., sample shape=(2, 10). metric: 945\n",
      "Hyperparams: {'batch_size': 800, 'L': 5, 'dt': 3.1622776e-08}., sample shape=(41, 10). metric: 695\n",
      "Hyperparams: {'batch_size': 8000, 'L': 5, 'dt': 3.1622776e-07}., sample shape=(7, 10). metric: 626\n",
      "Hyperparams: {'batch_size': 800, 'L': 5, 'dt': 1e-06}., sample shape=(39, 10). metric: 1097\n",
      "Hyperparams: {'batch_size': 80000, 'L': 5, 'dt': 1e-06}., sample shape=(2, 10). metric: 838\n",
      "Hyperparams: {'batch_size': 8000, 'L': 5, 'dt': 1e-06}., sample shape=(7, 10). metric: 1337\n",
      "Hyperparams: {'batch_size': 80000, 'L': 10, 'dt': 3.1622776e-06}., sample shape=(2, 10). metric: 7845\n",
      "Hyperparams: {'batch_size': 800000, 'L': 10, 'dt': 1e-07}., sample shape=(2, 10). metric: 1697\n",
      "Hyperparams: {'batch_size': 800, 'L': 10, 'dt': 3.1622776e-07}., sample shape=(28, 10). metric: 773\n",
      "Hyperparams: {'batch_size': 8000, 'L': 10, 'dt': 1e-07}., sample shape=(4, 10). metric: 587\n",
      "Hyperparams: {'batch_size': 80000, 'L': 10, 'dt': 1e-07}., sample shape=(2, 10). metric: 860\n",
      "Hyperparams: {'batch_size': 8000, 'L': 5, 'dt': 1e-07}., sample shape=(7, 10). metric: 522\n",
      "Hyperparams: {'batch_size': 80000, 'L': 5, 'dt': 3.1622776e-07}., sample shape=(2, 10). metric: 1147\n",
      "Hyperparams: {'batch_size': 800000, 'L': 5, 'dt': 3.1622776e-07}., sample shape=(2, 10). metric: 1908\n",
      "Hyperparams: {'batch_size': 80000, 'L': 5, 'dt': 1e-07}., sample shape=(2, 10). metric: 2024\n",
      "Hyperparams: {'batch_size': 80000, 'L': 10, 'dt': 3.1622776e-08}., sample shape=(2, 10). metric: 2186\n",
      "Hyperparams: {'batch_size': 800000, 'L': 5, 'dt': 1e-07}., sample shape=(2, 10). metric: 2384\n",
      "Hyperparams: {'batch_size': 800000, 'L': 5, 'dt': 3.1622776e-06}., sample shape=(2, 10). metric: 2775\n",
      "Hyperparams: {'batch_size': 8000, 'L': 10, 'dt': 3.1622776e-08}., sample shape=(4, 10). metric: 763\n",
      "Hyperparams: {'batch_size': 8000, 'L': 5, 'dt': 3.1622776e-08}., sample shape=(7, 10). metric: 1568\n",
      "Hyperparams: {'batch_size': 800000, 'L': 10, 'dt': 3.1622776e-08}., sample shape=(2, 10). metric: 2648\n",
      "Hyperparams: {'batch_size': 80000, 'L': 5, 'dt': 3.1622776e-08}., sample shape=(2, 10). metric: 3040\n",
      "Hyperparams: {'batch_size': 800000, 'L': 5, 'dt': 3.1622776e-08}., sample shape=(2, 10). metric: 3154\n",
      "Hyperparams: {'batch_size': 800000, 'L': 10, 'dt': 3.1622776e-06}., sample shape=(2, 10). metric: 3880\n",
      "Hyperparams: {'batch_size': 800000, 'L': 10, 'dt': 1e-06}., sample shape=(2, 10). metric: 4789\n",
      "Hyperparams: {'batch_size': 80000, 'L': 10, 'dt': 1e-06}., sample shape=(2, 10). metric: 7198\n",
      "Hyperparams: {'batch_size': 8000, 'L': 10, 'dt': 3.1622776e-06}., sample shape=(4, 10). metric: 88610\n",
      "Hyperparams: {'batch_size': 80000, 'L': 5, 'dt': 3.1622776e-06}., sample shape=(2, 10). metric: 7001\n",
      "Hyperparams: {'batch_size': 800, 'L': 5, 'dt': 3.1622776e-06}., sample shape=(38, 10). metric: 12139\n",
      "Hyperparams: {'batch_size': 8000, 'L': 10, 'dt': 1e-06}., sample shape=(4, 10). metric: 61131\n",
      "\n",
      "Number of samples: [2, 28, 28, 7, 39, 4, 7, 41, 2, 4, 28, 2]\n"
     ]
    },
    {
     "data": {
      "application/vnd.jupyter.widget-view+json": {
       "model_id": "eb55e10523924442a6a2c9b1a9ab998b",
       "version_major": 2,
       "version_minor": 0
      },
      "text/plain": [
       "HBox(children=(HTML(value='Iteration 3/4, 12 arms, time budget = 0.23 sec'), FloatProgress(value=0.0, max=12.0…"
      ]
     },
     "metadata": {},
     "output_type": "display_data"
    },
    {
     "name": "stdout",
     "output_type": "stream",
     "text": [
      "Hyperparams: {'batch_size': 800000, 'L': 5, 'dt': 1e-06}., sample shape=(3, 10). metric: 602\n",
      "Hyperparams: {'batch_size': 800, 'L': 10, 'dt': 1e-07}., sample shape=(93, 10). metric: 187\n",
      "Hyperparams: {'batch_size': 800, 'L': 10, 'dt': 3.1622776e-08}., sample shape=(94, 10). metric: 188\n",
      "Hyperparams: {'batch_size': 8000, 'L': 5, 'dt': 1e-07}., sample shape=(21, 10). metric: 351\n",
      "Hyperparams: {'batch_size': 800, 'L': 5, 'dt': 3.1622776e-07}., sample shape=(140, 10). metric: 439\n",
      "Hyperparams: {'batch_size': 8000, 'L': 10, 'dt': 1e-07}., sample shape=(11, 10). metric: 282\n",
      "Hyperparams: {'batch_size': 8000, 'L': 5, 'dt': 3.1622776e-07}., sample shape=(21, 10). metric: 307\n",
      "Hyperparams: {'batch_size': 800, 'L': 5, 'dt': 3.1622776e-08}., sample shape=(142, 10). metric: 225\n",
      "Hyperparams: {'batch_size': 800000, 'L': 10, 'dt': 3.1622776e-07}., sample shape=(3, 10). metric: 606\n",
      "Hyperparams: {'batch_size': 8000, 'L': 10, 'dt': 3.1622776e-08}., sample shape=(11, 10). metric: 534\n",
      "Hyperparams: {'batch_size': 800, 'L': 10, 'dt': 3.1622776e-07}., sample shape=(94, 10). metric: 745\n",
      "Hyperparams: {'batch_size': 80000, 'L': 5, 'dt': 1e-06}., sample shape=(5, 10). metric: 371\n",
      "\n",
      "Number of samples: [93, 94, 142, 11]\n"
     ]
    },
    {
     "data": {
      "application/vnd.jupyter.widget-view+json": {
       "model_id": "59cd20fb54ae4a489c9c7b29677fe64b",
       "version_major": 2,
       "version_minor": 0
      },
      "text/plain": [
       "HBox(children=(HTML(value='Iteration 4/4, 4 arms, time budget = 0.70 sec'), FloatProgress(value=0.0, max=4.0),…"
      ]
     },
     "metadata": {},
     "output_type": "display_data"
    },
    {
     "name": "stdout",
     "output_type": "stream",
     "text": [
      "Hyperparams: {'batch_size': 800, 'L': 10, 'dt': 1e-07}., sample shape=(291, 10). metric: 195\n",
      "Hyperparams: {'batch_size': 800, 'L': 10, 'dt': 3.1622776e-08}., sample shape=(294, 10). metric: 254\n",
      "Hyperparams: {'batch_size': 800, 'L': 5, 'dt': 3.1622776e-08}., sample shape=(444, 10). metric: 195\n",
      "Hyperparams: {'batch_size': 8000, 'L': 10, 'dt': 1e-07}., sample shape=(32, 10). metric: 280\n",
      "\n",
      "Number of samples: [291]\n",
      "Running time: 238.5 sec\n",
      "{'batch_size': 800, 'L': 10, 'dt': 1e-07} 194.5676 (291, 10)\n"
     ]
    }
   ],
   "source": [
    "build_kernel = lambda dt, L, batch_size: build_sghmc_kernel(dt, L, loglikelihood, \n",
    "                                                  logprior, data, batch_size)\n",
    "\n",
    "grid_params = {'log_dt': logdt_range, \n",
    "               'batch_size': batch_size_range,\n",
    "               \"L\": [5, 10]\n",
    "              }\n",
    "best_arm = run_MAMBA(key, build_kernel, error_fn, R, params_IC, \n",
    "                     grid_params=grid_params, get_fb_grads=get_fb_grads)\n",
    "\n",
    "print(best_arm.hyperparameters, best_arm.metric, best_arm.samples.shape)"
   ]
  },
  {
   "cell_type": "code",
   "execution_count": 8,
   "id": "a39f7bf0",
   "metadata": {
    "collapsed": true
   },
   "outputs": [
    {
     "data": {
      "application/vnd.jupyter.widget-view+json": {
       "model_id": "0556a728de9c45fd897a7483454906f0",
       "version_major": 2,
       "version_minor": 0
      },
      "text/plain": [
       "HBox(children=(HTML(value='Iteration 1/4, 112 arms, time budget = 0.03 sec'), FloatProgress(value=0.0, max=112…"
      ]
     },
     "metadata": {},
     "output_type": "display_data"
    },
    {
     "name": "stdout",
     "output_type": "stream",
     "text": [
      "Hyperparams: {'batch_size': 800000, 'L': 5, 'dt': 0.1}., sample shape=(1, 10). metric: 390082\n",
      "Hyperparams: {'batch_size': 800000, 'L': 5, 'dt': 0.031622775}., sample shape=(1, 10). metric: 309232\n",
      "Hyperparams: {'batch_size': 800000, 'L': 5, 'dt': 0.01}., sample shape=(1, 10). metric: 346898\n",
      "Hyperparams: {'batch_size': 800000, 'L': 5, 'dt': 0.0031622776}., sample shape=(1, 10). metric: 416598\n",
      "Hyperparams: {'batch_size': 800000, 'L': 5, 'dt': 0.001}., sample shape=(1, 10). metric: 435713\n",
      "Hyperparams: {'batch_size': 800000, 'L': 5, 'dt': 0.00031622776}., sample shape=(1, 10). metric: 458591\n",
      "Hyperparams: {'batch_size': 800000, 'L': 5, 'dt': 1e-04}., sample shape=(1, 10). metric: 336311\n",
      "Hyperparams: {'batch_size': 800000, 'L': 5, 'dt': 3.1622778e-05}., sample shape=(1, 10). metric: 11153\n",
      "Hyperparams: {'batch_size': 800000, 'L': 5, 'dt': 1e-05}., sample shape=(1, 10). metric: 10747\n",
      "Hyperparams: {'batch_size': 800000, 'L': 5, 'dt': 3.1622776e-06}., sample shape=(1, 10). metric: 3178\n",
      "Hyperparams: {'batch_size': 800000, 'L': 5, 'dt': 1e-06}., sample shape=(1, 10). metric: 1073\n",
      "Hyperparams: {'batch_size': 800000, 'L': 5, 'dt': 3.1622776e-07}., sample shape=(1, 10). metric: 2778\n",
      "Hyperparams: {'batch_size': 800000, 'L': 5, 'dt': 1e-07}., sample shape=(1, 10). metric: 2921\n",
      "Hyperparams: {'batch_size': 800000, 'L': 5, 'dt': 3.1622776e-08}., sample shape=(1, 10). metric: 3180\n",
      "Hyperparams: {'batch_size': 800000, 'L': 10, 'dt': 0.1}., sample shape=(1, 10). metric: 185260\n",
      "Hyperparams: {'batch_size': 800000, 'L': 10, 'dt': 0.031622775}., sample shape=(1, 10). metric: 119656\n",
      "Hyperparams: {'batch_size': 800000, 'L': 10, 'dt': 0.01}., sample shape=(1, 10). metric: 125526\n",
      "Hyperparams: {'batch_size': 800000, 'L': 10, 'dt': 0.0031622776}., sample shape=(1, 10). metric: 77362\n",
      "Hyperparams: {'batch_size': 800000, 'L': 10, 'dt': 0.001}., sample shape=(1, 10). metric: 237016\n",
      "Hyperparams: {'batch_size': 800000, 'L': 10, 'dt': 0.00031622776}., sample shape=(1, 10). metric: 392118\n",
      "Hyperparams: {'batch_size': 800000, 'L': 10, 'dt': 1e-04}., sample shape=(1, 10). metric: 318225\n",
      "Hyperparams: {'batch_size': 800000, 'L': 10, 'dt': 3.1622778e-05}., sample shape=(1, 10). metric: 499665\n",
      "Hyperparams: {'batch_size': 800000, 'L': 10, 'dt': 1e-05}., sample shape=(1, 10). metric: 31613\n",
      "Hyperparams: {'batch_size': 800000, 'L': 10, 'dt': 3.1622776e-06}., sample shape=(1, 10). metric: 3471\n",
      "Hyperparams: {'batch_size': 800000, 'L': 10, 'dt': 1e-06}., sample shape=(1, 10). metric: 3443\n",
      "Hyperparams: {'batch_size': 800000, 'L': 10, 'dt': 3.1622776e-07}., sample shape=(1, 10). metric: 762\n",
      "Hyperparams: {'batch_size': 800000, 'L': 10, 'dt': 1e-07}., sample shape=(1, 10). metric: 2002\n",
      "Hyperparams: {'batch_size': 800000, 'L': 10, 'dt': 3.1622776e-08}., sample shape=(1, 10). metric: 3055\n",
      "Hyperparams: {'batch_size': 80000, 'L': 5, 'dt': 0.1}., sample shape=(1, 10). metric: 315306\n",
      "Hyperparams: {'batch_size': 80000, 'L': 5, 'dt': 0.031622775}., sample shape=(1, 10). metric: 375995\n",
      "Hyperparams: {'batch_size': 80000, 'L': 5, 'dt': 0.01}., sample shape=(1, 10). metric: 383295\n",
      "Hyperparams: {'batch_size': 80000, 'L': 5, 'dt': 0.0031622776}., sample shape=(1, 10). metric: 409277\n",
      "Hyperparams: {'batch_size': 80000, 'L': 5, 'dt': 0.001}., sample shape=(1, 10). metric: 441228\n",
      "Hyperparams: {'batch_size': 80000, 'L': 5, 'dt': 0.00031622776}., sample shape=(1, 10). metric: 456433\n",
      "Hyperparams: {'batch_size': 80000, 'L': 5, 'dt': 1e-04}., sample shape=(1, 10). metric: 332370\n",
      "Hyperparams: {'batch_size': 80000, 'L': 5, 'dt': 3.1622778e-05}., sample shape=(1, 10). metric: 18890\n",
      "Hyperparams: {'batch_size': 80000, 'L': 5, 'dt': 1e-05}., sample shape=(1, 10). metric: 10732\n",
      "Hyperparams: {'batch_size': 80000, 'L': 5, 'dt': 3.1622776e-06}., sample shape=(1, 10). metric: 4219\n",
      "Hyperparams: {'batch_size': 80000, 'L': 5, 'dt': 1e-06}., sample shape=(1, 10). metric: 1491\n",
      "Hyperparams: {'batch_size': 80000, 'L': 5, 'dt': 3.1622776e-07}., sample shape=(1, 10). metric: 2602\n",
      "Hyperparams: {'batch_size': 80000, 'L': 5, 'dt': 1e-07}., sample shape=(1, 10). metric: 2808\n",
      "Hyperparams: {'batch_size': 80000, 'L': 5, 'dt': 3.1622776e-08}., sample shape=(1, 10). metric: 3124\n",
      "Hyperparams: {'batch_size': 80000, 'L': 10, 'dt': 0.1}., sample shape=(1, 10). metric: 172423\n",
      "Hyperparams: {'batch_size': 80000, 'L': 10, 'dt': 0.031622775}., sample shape=(1, 10). metric: 118226\n",
      "Hyperparams: {'batch_size': 80000, 'L': 10, 'dt': 0.01}., sample shape=(1, 10). metric: 127179\n",
      "Hyperparams: {'batch_size': 80000, 'L': 10, 'dt': 0.0031622776}., sample shape=(1, 10). metric: 109437\n",
      "Hyperparams: {'batch_size': 80000, 'L': 10, 'dt': 0.001}., sample shape=(1, 10). metric: 296688\n",
      "Hyperparams: {'batch_size': 80000, 'L': 10, 'dt': 0.00031622776}., sample shape=(1, 10). metric: 386752\n",
      "Hyperparams: {'batch_size': 80000, 'L': 10, 'dt': 1e-04}., sample shape=(1, 10). metric: 320278\n",
      "Hyperparams: {'batch_size': 80000, 'L': 10, 'dt': 3.1622778e-05}., sample shape=(1, 10). metric: 498027\n",
      "Hyperparams: {'batch_size': 80000, 'L': 10, 'dt': 1e-05}., sample shape=(1, 10). metric: 29531\n",
      "Hyperparams: {'batch_size': 80000, 'L': 10, 'dt': 3.1622776e-06}., sample shape=(1, 10). metric: 2078\n",
      "Hyperparams: {'batch_size': 80000, 'L': 10, 'dt': 1e-06}., sample shape=(1, 10). metric: 3723\n",
      "Hyperparams: {'batch_size': 80000, 'L': 10, 'dt': 3.1622776e-07}., sample shape=(1, 10). metric: 809\n",
      "Hyperparams: {'batch_size': 80000, 'L': 10, 'dt': 1e-07}., sample shape=(1, 10). metric: 2428\n",
      "Hyperparams: {'batch_size': 80000, 'L': 10, 'dt': 3.1622776e-08}., sample shape=(1, 10). metric: 2902\n",
      "Hyperparams: {'batch_size': 8000, 'L': 5, 'dt': 0.1}., sample shape=(1, 10). metric: 341174\n",
      "Hyperparams: {'batch_size': 8000, 'L': 5, 'dt': 0.031622775}., sample shape=(2, 10). metric: 188251\n",
      "Hyperparams: {'batch_size': 8000, 'L': 5, 'dt': 0.01}., sample shape=(2, 10). metric: 195322\n",
      "Hyperparams: {'batch_size': 8000, 'L': 5, 'dt': 0.0031622776}., sample shape=(2, 10). metric: 205080\n",
      "Hyperparams: {'batch_size': 8000, 'L': 5, 'dt': 0.001}., sample shape=(2, 10). metric: 218387\n",
      "Hyperparams: {'batch_size': 8000, 'L': 5, 'dt': 0.00031622776}., sample shape=(2, 10). metric: 228273\n",
      "Hyperparams: {'batch_size': 8000, 'L': 5, 'dt': 1e-04}., sample shape=(2, 10). metric: 164172\n",
      "Hyperparams: {'batch_size': 8000, 'L': 5, 'dt': 3.1622778e-05}., sample shape=(1, 10). metric: 19710\n",
      "Hyperparams: {'batch_size': 8000, 'L': 5, 'dt': 1e-05}., sample shape=(2, 10). metric: 14249\n",
      "Hyperparams: {'batch_size': 8000, 'L': 5, 'dt': 3.1622776e-06}., sample shape=(2, 10). metric: 5179\n",
      "Hyperparams: {'batch_size': 8000, 'L': 5, 'dt': 1e-06}., sample shape=(1, 10). metric: 1496\n",
      "Hyperparams: {'batch_size': 8000, 'L': 5, 'dt': 3.1622776e-07}., sample shape=(2, 10). metric: 1401\n",
      "Hyperparams: {'batch_size': 8000, 'L': 5, 'dt': 1e-07}., sample shape=(2, 10). metric: 2314\n",
      "Hyperparams: {'batch_size': 8000, 'L': 5, 'dt': 3.1622776e-08}., sample shape=(2, 10). metric: 2935\n",
      "Hyperparams: {'batch_size': 8000, 'L': 10, 'dt': 0.1}., sample shape=(1, 10). metric: 146543\n",
      "Hyperparams: {'batch_size': 8000, 'L': 10, 'dt': 0.031622775}., sample shape=(1, 10). metric: 141226\n",
      "Hyperparams: {'batch_size': 8000, 'L': 10, 'dt': 0.01}., sample shape=(1, 10). metric: 104461\n",
      "Hyperparams: {'batch_size': 8000, 'L': 10, 'dt': 0.0031622776}., sample shape=(1, 10). metric: 69237\n",
      "Hyperparams: {'batch_size': 8000, 'L': 10, 'dt': 0.001}., sample shape=(1, 10). metric: 202614\n",
      "Hyperparams: {'batch_size': 8000, 'L': 10, 'dt': 0.00031622776}., sample shape=(1, 10). metric: 378913\n",
      "Hyperparams: {'batch_size': 8000, 'L': 10, 'dt': 1e-04}., sample shape=(1, 10). metric: 366227\n",
      "Hyperparams: {'batch_size': 8000, 'L': 10, 'dt': 3.1622778e-05}., sample shape=(1, 10). metric: 498208\n",
      "Hyperparams: {'batch_size': 8000, 'L': 10, 'dt': 1e-05}., sample shape=(1, 10). metric: 35493\n",
      "Hyperparams: {'batch_size': 8000, 'L': 10, 'dt': 3.1622776e-06}., sample shape=(1, 10). metric: 3719\n",
      "Hyperparams: {'batch_size': 8000, 'L': 10, 'dt': 1e-06}., sample shape=(1, 10). metric: 3513\n",
      "Hyperparams: {'batch_size': 8000, 'L': 10, 'dt': 3.1622776e-07}., sample shape=(1, 10). metric: 864\n",
      "Hyperparams: {'batch_size': 8000, 'L': 10, 'dt': 1e-07}., sample shape=(1, 10). metric: 2709\n",
      "Hyperparams: {'batch_size': 8000, 'L': 10, 'dt': 3.1622776e-08}., sample shape=(1, 10). metric: 2910\n"
     ]
    },
    {
     "name": "stdout",
     "output_type": "stream",
     "text": [
      "Hyperparams: {'batch_size': 800, 'L': 5, 'dt': 0.1}., sample shape=(9, 10). metric: 89581\n",
      "Hyperparams: {'batch_size': 800, 'L': 5, 'dt': 0.031622775}., sample shape=(9, 10). metric: 60704\n",
      "Hyperparams: {'batch_size': 800, 'L': 5, 'dt': 0.01}., sample shape=(9, 10). metric: 58946\n",
      "Hyperparams: {'batch_size': 800, 'L': 5, 'dt': 0.0031622776}., sample shape=(9, 10). metric: 56423\n",
      "Hyperparams: {'batch_size': 800, 'L': 5, 'dt': 0.001}., sample shape=(9, 10). metric: 55588\n",
      "Hyperparams: {'batch_size': 800, 'L': 5, 'dt': 0.00031622776}., sample shape=(9, 10). metric: 58400\n",
      "Hyperparams: {'batch_size': 800, 'L': 5, 'dt': 1e-04}., sample shape=(9, 10). metric: 47552\n",
      "Hyperparams: {'batch_size': 800, 'L': 5, 'dt': 3.1622778e-05}., sample shape=(9, 10). metric: 30641\n",
      "Hyperparams: {'batch_size': 800, 'L': 5, 'dt': 1e-05}., sample shape=(9, 10). metric: 41355\n",
      "Hyperparams: {'batch_size': 800, 'L': 5, 'dt': 3.1622776e-06}., sample shape=(9, 10). metric: 16761\n",
      "Hyperparams: {'batch_size': 800, 'L': 5, 'dt': 1e-06}., sample shape=(9, 10). metric: 247\n",
      "Hyperparams: {'batch_size': 800, 'L': 5, 'dt': 3.1622776e-07}., sample shape=(9, 10). metric: 316\n",
      "Hyperparams: {'batch_size': 800, 'L': 5, 'dt': 1e-07}., sample shape=(9, 10). metric: 755\n",
      "Hyperparams: {'batch_size': 800, 'L': 5, 'dt': 3.1622776e-08}., sample shape=(9, 10). metric: 1441\n",
      "Hyperparams: {'batch_size': 800, 'L': 10, 'dt': 0.1}., sample shape=(5, 10). metric: 196548\n",
      "Hyperparams: {'batch_size': 800, 'L': 10, 'dt': 0.031622775}., sample shape=(6, 10). metric: 101269\n",
      "Hyperparams: {'batch_size': 800, 'L': 10, 'dt': 0.01}., sample shape=(6, 10). metric: 67083\n",
      "Hyperparams: {'batch_size': 800, 'L': 10, 'dt': 0.0031622776}., sample shape=(6, 10). metric: 52469\n",
      "Hyperparams: {'batch_size': 800, 'L': 10, 'dt': 0.001}., sample shape=(6, 10). metric: 58622\n",
      "Hyperparams: {'batch_size': 800, 'L': 10, 'dt': 0.00031622776}., sample shape=(6, 10). metric: 76606\n",
      "Hyperparams: {'batch_size': 800, 'L': 10, 'dt': 1e-04}., sample shape=(6, 10). metric: 70130\n",
      "Hyperparams: {'batch_size': 800, 'L': 10, 'dt': 3.1622778e-05}., sample shape=(6, 10). metric: 87588\n",
      "Hyperparams: {'batch_size': 800, 'L': 10, 'dt': 1e-05}., sample shape=(5, 10). metric: 33816\n",
      "Hyperparams: {'batch_size': 800, 'L': 10, 'dt': 3.1622776e-06}., sample shape=(6, 10). metric: 52658\n",
      "Hyperparams: {'batch_size': 800, 'L': 10, 'dt': 1e-06}., sample shape=(6, 10). metric: 40898\n",
      "Hyperparams: {'batch_size': 800, 'L': 10, 'dt': 3.1622776e-07}., sample shape=(5, 10). metric: 222\n",
      "Hyperparams: {'batch_size': 800, 'L': 10, 'dt': 1e-07}., sample shape=(6, 10). metric: 555\n",
      "Hyperparams: {'batch_size': 800, 'L': 10, 'dt': 3.1622776e-08}., sample shape=(6, 10). metric: 732\n",
      "\n",
      "Number of samples: [5, 9, 9, 6, 6, 9, 1, 1, 1, 1, 2, 9, 1, 1, 1, 1, 2, 1, 1, 1, 1, 1, 1, 1, 1, 2, 1, 1, 1, 1, 1, 1, 1, 1, 1, 1, 2]\n"
     ]
    },
    {
     "data": {
      "application/vnd.jupyter.widget-view+json": {
       "model_id": "7de0c85832584bb0bb83bd573ed0e8ef",
       "version_major": 2,
       "version_minor": 0
      },
      "text/plain": [
       "HBox(children=(HTML(value='Iteration 2/4, 37 arms, time budget = 0.08 sec'), FloatProgress(value=0.0, max=37.0…"
      ]
     },
     "metadata": {},
     "output_type": "display_data"
    },
    {
     "name": "stdout",
     "output_type": "stream",
     "text": [
      "Hyperparams: {'batch_size': 800, 'L': 10, 'dt': 3.1622776e-07}., sample shape=(21, 10). metric: 125\n",
      "Hyperparams: {'batch_size': 800, 'L': 5, 'dt': 1e-06}., sample shape=(31, 10). metric: 157\n",
      "Hyperparams: {'batch_size': 800, 'L': 5, 'dt': 3.1622776e-07}., sample shape=(32, 10). metric: 169\n",
      "Hyperparams: {'batch_size': 800, 'L': 10, 'dt': 1e-07}., sample shape=(22, 10). metric: 254\n",
      "Hyperparams: {'batch_size': 800, 'L': 10, 'dt': 3.1622776e-08}., sample shape=(23, 10). metric: 221\n",
      "Hyperparams: {'batch_size': 800, 'L': 5, 'dt': 1e-07}., sample shape=(33, 10). metric: 185\n",
      "Hyperparams: {'batch_size': 800000, 'L': 10, 'dt': 3.1622776e-07}., sample shape=(2, 10). metric: 551\n",
      "Hyperparams: {'batch_size': 80000, 'L': 10, 'dt': 3.1622776e-07}., sample shape=(2, 10). metric: 713\n",
      "Hyperparams: {'batch_size': 8000, 'L': 10, 'dt': 3.1622776e-07}., sample shape=(3, 10). metric: 337\n",
      "Hyperparams: {'batch_size': 800000, 'L': 5, 'dt': 1e-06}., sample shape=(2, 10). metric: 414\n",
      "Hyperparams: {'batch_size': 8000, 'L': 5, 'dt': 3.1622776e-07}., sample shape=(6, 10). metric: 358\n",
      "Hyperparams: {'batch_size': 800, 'L': 5, 'dt': 3.1622776e-08}., sample shape=(29, 10). metric: 512\n",
      "Hyperparams: {'batch_size': 80000, 'L': 5, 'dt': 1e-06}., sample shape=(2, 10). metric: 1043\n",
      "Hyperparams: {'batch_size': 8000, 'L': 5, 'dt': 1e-06}., sample shape=(5, 10). metric: 227\n",
      "Hyperparams: {'batch_size': 800000, 'L': 10, 'dt': 1e-07}., sample shape=(2, 10). metric: 1688\n",
      "Hyperparams: {'batch_size': 80000, 'L': 10, 'dt': 3.1622776e-06}., sample shape=(2, 10). metric: 3345\n",
      "Hyperparams: {'batch_size': 8000, 'L': 5, 'dt': 1e-07}., sample shape=(6, 10). metric: 864\n",
      "Hyperparams: {'batch_size': 80000, 'L': 10, 'dt': 1e-07}., sample shape=(2, 10). metric: 1407\n",
      "Hyperparams: {'batch_size': 80000, 'L': 5, 'dt': 3.1622776e-07}., sample shape=(2, 10). metric: 1184\n",
      "Hyperparams: {'batch_size': 8000, 'L': 10, 'dt': 1e-07}., sample shape=(3, 10). metric: 463\n",
      "Hyperparams: {'batch_size': 800000, 'L': 5, 'dt': 3.1622776e-07}., sample shape=(2, 10). metric: 1903\n",
      "Hyperparams: {'batch_size': 80000, 'L': 5, 'dt': 1e-07}., sample shape=(2, 10). metric: 2011\n",
      "Hyperparams: {'batch_size': 80000, 'L': 10, 'dt': 3.1622776e-08}., sample shape=(2, 10). metric: 2283\n",
      "Hyperparams: {'batch_size': 8000, 'L': 10, 'dt': 3.1622776e-08}., sample shape=(3, 10). metric: 1219\n",
      "Hyperparams: {'batch_size': 800000, 'L': 5, 'dt': 1e-07}., sample shape=(2, 10). metric: 2562\n",
      "Hyperparams: {'batch_size': 8000, 'L': 5, 'dt': 3.1622776e-08}., sample shape=(6, 10). metric: 1946\n",
      "Hyperparams: {'batch_size': 800000, 'L': 10, 'dt': 3.1622776e-08}., sample shape=(2, 10). metric: 2481\n",
      "Hyperparams: {'batch_size': 80000, 'L': 5, 'dt': 3.1622776e-08}., sample shape=(2, 10). metric: 3074\n",
      "Hyperparams: {'batch_size': 800000, 'L': 5, 'dt': 3.1622776e-06}., sample shape=(2, 10). metric: 3494\n",
      "Hyperparams: {'batch_size': 800000, 'L': 5, 'dt': 3.1622776e-08}., sample shape=(2, 10). metric: 3153\n",
      "Hyperparams: {'batch_size': 800000, 'L': 10, 'dt': 1e-06}., sample shape=(2, 10). metric: 5043\n",
      "Hyperparams: {'batch_size': 800000, 'L': 10, 'dt': 3.1622776e-06}., sample shape=(2, 10). metric: 3962\n",
      "Hyperparams: {'batch_size': 8000, 'L': 10, 'dt': 1e-06}., sample shape=(3, 10). metric: 38308\n",
      "Hyperparams: {'batch_size': 8000, 'L': 10, 'dt': 3.1622776e-06}., sample shape=(3, 10). metric: 39948\n",
      "Hyperparams: {'batch_size': 80000, 'L': 10, 'dt': 1e-06}., sample shape=(2, 10). metric: 5932\n",
      "Hyperparams: {'batch_size': 80000, 'L': 5, 'dt': 3.1622776e-06}., sample shape=(2, 10). metric: 4749\n",
      "Hyperparams: {'batch_size': 8000, 'L': 5, 'dt': 3.1622776e-06}., sample shape=(6, 10). metric: 23755\n",
      "\n",
      "Number of samples: [21, 31, 32, 33, 23, 5, 22, 3, 6, 2, 3, 29]\n"
     ]
    },
    {
     "data": {
      "application/vnd.jupyter.widget-view+json": {
       "model_id": "e13daf0b42524f8983a6caa035afe172",
       "version_major": 2,
       "version_minor": 0
      },
      "text/plain": [
       "HBox(children=(HTML(value='Iteration 3/4, 12 arms, time budget = 0.23 sec'), FloatProgress(value=0.0, max=12.0…"
      ]
     },
     "metadata": {},
     "output_type": "display_data"
    },
    {
     "name": "stdout",
     "output_type": "stream",
     "text": [
      "Hyperparams: {'batch_size': 800, 'L': 10, 'dt': 3.1622776e-07}., sample shape=(76, 10). metric: 101\n",
      "Hyperparams: {'batch_size': 800, 'L': 5, 'dt': 1e-06}., sample shape=(112, 10). metric: 46\n",
      "Hyperparams: {'batch_size': 800, 'L': 5, 'dt': 3.1622776e-07}., sample shape=(112, 10). metric: 80\n",
      "Hyperparams: {'batch_size': 800, 'L': 5, 'dt': 1e-07}., sample shape=(116, 10). metric: 227\n",
      "Hyperparams: {'batch_size': 800, 'L': 10, 'dt': 3.1622776e-08}., sample shape=(75, 10). metric: 206\n",
      "Hyperparams: {'batch_size': 8000, 'L': 5, 'dt': 1e-06}., sample shape=(15, 10). metric: 202\n",
      "Hyperparams: {'batch_size': 800, 'L': 10, 'dt': 1e-07}., sample shape=(77, 10). metric: 112\n",
      "Hyperparams: {'batch_size': 8000, 'L': 10, 'dt': 3.1622776e-07}., sample shape=(9, 10). metric: 307\n",
      "Hyperparams: {'batch_size': 8000, 'L': 5, 'dt': 3.1622776e-07}., sample shape=(17, 10). metric: 256\n",
      "Hyperparams: {'batch_size': 800000, 'L': 5, 'dt': 1e-06}., sample shape=(3, 10). metric: 645\n",
      "Hyperparams: {'batch_size': 8000, 'L': 10, 'dt': 1e-07}., sample shape=(9, 10). metric: 418\n",
      "Hyperparams: {'batch_size': 800, 'L': 5, 'dt': 3.1622776e-08}., sample shape=(113, 10). metric: 369\n",
      "\n",
      "Number of samples: [112, 112, 76, 77]\n"
     ]
    },
    {
     "data": {
      "application/vnd.jupyter.widget-view+json": {
       "model_id": "29e9e0d1f5834040856544d0205465ae",
       "version_major": 2,
       "version_minor": 0
      },
      "text/plain": [
       "HBox(children=(HTML(value='Iteration 4/4, 4 arms, time budget = 0.70 sec'), FloatProgress(value=0.0, max=4.0),…"
      ]
     },
     "metadata": {},
     "output_type": "display_data"
    },
    {
     "name": "stdout",
     "output_type": "stream",
     "text": [
      "Hyperparams: {'batch_size': 800, 'L': 5, 'dt': 1e-06}., sample shape=(352, 10). metric: 51\n",
      "Hyperparams: {'batch_size': 800, 'L': 5, 'dt': 3.1622776e-07}., sample shape=(310, 10). metric: 83\n",
      "Hyperparams: {'batch_size': 800, 'L': 10, 'dt': 3.1622776e-07}., sample shape=(237, 10). metric: 37\n",
      "Hyperparams: {'batch_size': 800, 'L': 10, 'dt': 1e-07}., sample shape=(235, 10). metric: 62\n",
      "\n",
      "Number of samples: [237]\n",
      "Running time: 302.7 sec\n",
      "{'batch_size': 800, 'L': 10, 'dt': 3.1622776e-07} 36.54479 (237, 10)\n"
     ]
    }
   ],
   "source": [
    "build_kernel = lambda dt, L, batch_size: build_sghmcCV_kernel(dt, L, loglikelihood, \n",
    "                                                  logprior, data, batch_size, centering_value)\n",
    "\n",
    "grid_params = {'log_dt': logdt_range, \n",
    "               'batch_size': batch_size_range,\n",
    "               \"L\": [5, 10]\n",
    "              }\n",
    "best_arm = run_MAMBA(key, build_kernel, error_fn, R, params_IC, \n",
    "                     grid_params=grid_params, get_fb_grads=get_fb_grads)\n",
    "\n",
    "print(best_arm.hyperparameters, best_arm.metric, best_arm.samples.shape)"
   ]
  },
  {
   "cell_type": "code",
   "execution_count": 9,
   "id": "2cafa0ac",
   "metadata": {
    "collapsed": true
   },
   "outputs": [
    {
     "data": {
      "application/vnd.jupyter.widget-view+json": {
       "model_id": "e201f40b3793479ca2aed3a2f61ff42a",
       "version_major": 2,
       "version_minor": 0
      },
      "text/plain": [
       "HBox(children=(HTML(value='Iteration 1/3, 56 arms, time budget = 0.08 sec'), FloatProgress(value=0.0, max=56.0…"
      ]
     },
     "metadata": {},
     "output_type": "display_data"
    },
    {
     "name": "stdout",
     "output_type": "stream",
     "text": [
      "Hyperparams: {'batch_size': 800000, 'dt': 0.1}., sample shape=(1, 10). metric: 627259\n",
      "Hyperparams: {'batch_size': 800000, 'dt': 0.031622775}., sample shape=(1, 10). metric: 621158\n",
      "Hyperparams: {'batch_size': 800000, 'dt': 0.01}., sample shape=(1, 10). metric: 597799\n",
      "Hyperparams: {'batch_size': 800000, 'dt': 0.0031622776}., sample shape=(1, 10). metric: 486930\n",
      "Hyperparams: {'batch_size': 800000, 'dt': 0.001}., sample shape=(1, 10). metric: 237438\n",
      "Hyperparams: {'batch_size': 800000, 'dt': 0.00031622776}., sample shape=(1, 10). metric: 66769\n",
      "Hyperparams: {'batch_size': 800000, 'dt': 1e-04}., sample shape=(1, 10). metric: 23182\n",
      "Hyperparams: {'batch_size': 800000, 'dt': 3.1622778e-05}., sample shape=(1, 10). metric: 5319\n",
      "Hyperparams: {'batch_size': 800000, 'dt': 1e-05}., sample shape=(1, 10). metric: 1454\n",
      "Hyperparams: {'batch_size': 800000, 'dt': 3.1622776e-06}., sample shape=(1, 10). metric: 2576\n",
      "Hyperparams: {'batch_size': 800000, 'dt': 1e-06}., sample shape=(1, 10). metric: 3050\n",
      "Hyperparams: {'batch_size': 800000, 'dt': 3.1622776e-07}., sample shape=(1, 10). metric: 3183\n",
      "Hyperparams: {'batch_size': 800000, 'dt': 1e-07}., sample shape=(1, 10). metric: 3166\n",
      "Hyperparams: {'batch_size': 800000, 'dt': 3.1622776e-08}., sample shape=(1, 10). metric: 3182\n",
      "Hyperparams: {'batch_size': 80000, 'dt': 0.1}., sample shape=(4, 10). metric: inf\n",
      "Hyperparams: {'batch_size': 80000, 'dt': 0.031622775}., sample shape=(4, 10). metric: inf\n",
      "Hyperparams: {'batch_size': 80000, 'dt': 0.01}., sample shape=(4, 10). metric: inf\n",
      "Hyperparams: {'batch_size': 80000, 'dt': 0.0031622776}., sample shape=(4, 10). metric: inf\n",
      "Hyperparams: {'batch_size': 80000, 'dt': 0.001}., sample shape=(4, 10). metric: inf\n",
      "Hyperparams: {'batch_size': 80000, 'dt': 0.00031622776}., sample shape=(4, 10). metric: inf\n",
      "Hyperparams: {'batch_size': 80000, 'dt': 1e-04}., sample shape=(4, 10). metric: inf\n",
      "Hyperparams: {'batch_size': 80000, 'dt': 3.1622778e-05}., sample shape=(3, 10). metric: 2672\n",
      "Hyperparams: {'batch_size': 80000, 'dt': 1e-05}., sample shape=(4, 10). metric: 1450\n",
      "Hyperparams: {'batch_size': 80000, 'dt': 3.1622776e-06}., sample shape=(4, 10). metric: 306\n",
      "Hyperparams: {'batch_size': 80000, 'dt': 1e-06}., sample shape=(4, 10). metric: 279\n",
      "Hyperparams: {'batch_size': 80000, 'dt': 3.1622776e-07}., sample shape=(4, 10). metric: 524\n",
      "Hyperparams: {'batch_size': 80000, 'dt': 1e-07}., sample shape=(4, 10). metric: 764\n",
      "Hyperparams: {'batch_size': 80000, 'dt': 3.1622776e-08}., sample shape=(4, 10). metric: 2143\n",
      "Hyperparams: {'batch_size': 8000, 'dt': 0.1}., sample shape=(16, 10). metric: inf\n",
      "Hyperparams: {'batch_size': 8000, 'dt': 0.031622775}., sample shape=(16, 10). metric: inf\n",
      "Hyperparams: {'batch_size': 8000, 'dt': 0.01}., sample shape=(16, 10). metric: inf\n",
      "Hyperparams: {'batch_size': 8000, 'dt': 0.0031622776}., sample shape=(14, 10). metric: inf\n",
      "Hyperparams: {'batch_size': 8000, 'dt': 0.001}., sample shape=(15, 10). metric: inf\n",
      "Hyperparams: {'batch_size': 8000, 'dt': 0.00031622776}., sample shape=(17, 10). metric: inf\n",
      "Hyperparams: {'batch_size': 8000, 'dt': 1e-04}., sample shape=(16, 10). metric: inf\n",
      "Hyperparams: {'batch_size': 8000, 'dt': 3.1622778e-05}., sample shape=(16, 10). metric: inf\n",
      "Hyperparams: {'batch_size': 8000, 'dt': 1e-05}., sample shape=(16, 10). metric: 2105\n",
      "Hyperparams: {'batch_size': 8000, 'dt': 3.1622776e-06}., sample shape=(10, 10). metric: 1275\n",
      "Hyperparams: {'batch_size': 8000, 'dt': 1e-06}., sample shape=(14, 10). metric: 777\n",
      "Hyperparams: {'batch_size': 8000, 'dt': 3.1622776e-07}., sample shape=(16, 10). metric: 679\n",
      "Hyperparams: {'batch_size': 8000, 'dt': 1e-07}., sample shape=(16, 10). metric: 303\n",
      "Hyperparams: {'batch_size': 8000, 'dt': 3.1622776e-08}., sample shape=(16, 10). metric: 693\n",
      "Hyperparams: {'batch_size': 800, 'dt': 0.1}., sample shape=(33, 10). metric: inf\n",
      "Hyperparams: {'batch_size': 800, 'dt': 0.031622775}., sample shape=(37, 10). metric: inf\n",
      "Hyperparams: {'batch_size': 800, 'dt': 0.01}., sample shape=(40, 10). metric: inf\n",
      "Hyperparams: {'batch_size': 800, 'dt': 0.0031622776}., sample shape=(38, 10). metric: inf\n",
      "Hyperparams: {'batch_size': 800, 'dt': 0.001}., sample shape=(39, 10). metric: inf\n",
      "Hyperparams: {'batch_size': 800, 'dt': 0.00031622776}., sample shape=(38, 10). metric: inf\n",
      "Hyperparams: {'batch_size': 800, 'dt': 1e-04}., sample shape=(40, 10). metric: inf\n",
      "Hyperparams: {'batch_size': 800, 'dt': 3.1622778e-05}., sample shape=(38, 10). metric: inf\n",
      "Hyperparams: {'batch_size': 800, 'dt': 1e-05}., sample shape=(39, 10). metric: inf\n",
      "Hyperparams: {'batch_size': 800, 'dt': 3.1622776e-06}., sample shape=(40, 10). metric: 1241\n",
      "Hyperparams: {'batch_size': 800, 'dt': 1e-06}., sample shape=(37, 10). metric: 1177\n",
      "Hyperparams: {'batch_size': 800, 'dt': 3.1622776e-07}., sample shape=(40, 10). metric: 1594\n",
      "Hyperparams: {'batch_size': 800, 'dt': 1e-07}., sample shape=(38, 10). metric: 659\n",
      "Hyperparams: {'batch_size': 800, 'dt': 3.1622776e-08}., sample shape=(37, 10). metric: 1056\n",
      "\n",
      "Number of samples: [4, 16, 4, 4, 38, 16, 16, 4, 14, 37, 37, 40, 10, 4, 1, 40, 16, 4]\n"
     ]
    },
    {
     "data": {
      "application/vnd.jupyter.widget-view+json": {
       "model_id": "bfe08407d889442e9ec1e787a345ef1d",
       "version_major": 2,
       "version_minor": 0
      },
      "text/plain": [
       "HBox(children=(HTML(value='Iteration 2/3, 18 arms, time budget = 0.24 sec'), FloatProgress(value=0.0, max=18.0…"
      ]
     },
     "metadata": {},
     "output_type": "display_data"
    },
    {
     "name": "stdout",
     "output_type": "stream",
     "text": [
      "Hyperparams: {'batch_size': 80000, 'dt': 1e-06}., sample shape=(13, 10). metric: 213\n",
      "Hyperparams: {'batch_size': 8000, 'dt': 1e-07}., sample shape=(62, 10). metric: 213\n",
      "Hyperparams: {'batch_size': 80000, 'dt': 3.1622776e-06}., sample shape=(12, 10). metric: 841\n",
      "Hyperparams: {'batch_size': 80000, 'dt': 3.1622776e-07}., sample shape=(13, 10). metric: 295\n",
      "Hyperparams: {'batch_size': 800, 'dt': 1e-07}., sample shape=(123, 10). metric: 701\n",
      "Hyperparams: {'batch_size': 8000, 'dt': 3.1622776e-07}., sample shape=(57, 10). metric: 458\n",
      "Hyperparams: {'batch_size': 8000, 'dt': 3.1622776e-08}., sample shape=(61, 10). metric: 362\n",
      "Hyperparams: {'batch_size': 80000, 'dt': 1e-07}., sample shape=(12, 10). metric: 432\n",
      "Hyperparams: {'batch_size': 8000, 'dt': 1e-06}., sample shape=(60, 10). metric: 432\n",
      "Hyperparams: {'batch_size': 800, 'dt': 3.1622776e-08}., sample shape=(147, 10). metric: 527\n",
      "Hyperparams: {'batch_size': 800, 'dt': 1e-06}., sample shape=(143, 10). metric: 815\n",
      "Hyperparams: {'batch_size': 800, 'dt': 3.1622776e-06}., sample shape=(150, 10). metric: 1010\n",
      "Hyperparams: {'batch_size': 8000, 'dt': 3.1622776e-06}., sample shape=(57, 10). metric: 437\n",
      "Hyperparams: {'batch_size': 80000, 'dt': 1e-05}., sample shape=(12, 10). metric: 2076\n",
      "Hyperparams: {'batch_size': 800000, 'dt': 1e-05}., sample shape=(4, 10). metric: 657\n",
      "Hyperparams: {'batch_size': 800, 'dt': 3.1622776e-07}., sample shape=(146, 10). metric: 622\n",
      "Hyperparams: {'batch_size': 8000, 'dt': 1e-05}., sample shape=(57, 10). metric: 1195\n",
      "Hyperparams: {'batch_size': 80000, 'dt': 3.1622776e-08}., sample shape=(12, 10). metric: 509\n",
      "\n",
      "Number of samples: [13, 62, 13, 61, 12, 60]\n"
     ]
    },
    {
     "data": {
      "application/vnd.jupyter.widget-view+json": {
       "model_id": "c80e5fab968440a5be0bcb9231d5fd70",
       "version_major": 2,
       "version_minor": 0
      },
      "text/plain": [
       "HBox(children=(HTML(value='Iteration 3/3, 6 arms, time budget = 0.72 sec'), FloatProgress(value=0.0, max=6.0),…"
      ]
     },
     "metadata": {},
     "output_type": "display_data"
    },
    {
     "name": "stdout",
     "output_type": "stream",
     "text": [
      "Hyperparams: {'batch_size': 80000, 'dt': 1e-06}., sample shape=(37, 10). metric: 236\n",
      "Hyperparams: {'batch_size': 8000, 'dt': 1e-07}., sample shape=(210, 10). metric: 176\n",
      "Hyperparams: {'batch_size': 80000, 'dt': 3.1622776e-07}., sample shape=(37, 10). metric: 163\n",
      "Hyperparams: {'batch_size': 8000, 'dt': 3.1622776e-08}., sample shape=(210, 10). metric: 107\n",
      "Hyperparams: {'batch_size': 80000, 'dt': 1e-07}., sample shape=(36, 10). metric: 139\n",
      "Hyperparams: {'batch_size': 8000, 'dt': 1e-06}., sample shape=(209, 10). metric: 218\n",
      "\n",
      "Number of samples: [210, 36]\n",
      "Running time: 192.9 sec\n",
      "{'batch_size': 8000, 'dt': 3.1622776e-08} 106.707985 (210, 10)\n"
     ]
    }
   ],
   "source": [
    "build_kernel = lambda dt, batch_size: build_sgnht_kernel(dt, loglikelihood, logprior, data, batch_size)\n",
    "\n",
    "grid_params = {'log_dt': logdt_range, \n",
    "               'batch_size': batch_size_range\n",
    "              }\n",
    "best_arm = run_MAMBA(key, build_kernel, error_fn, R, params_IC, \n",
    "                     grid_params=grid_params, get_fb_grads=get_fb_grads)\n",
    "\n",
    "print(best_arm.hyperparameters, best_arm.metric, best_arm.samples.shape)"
   ]
  },
  {
   "cell_type": "code",
   "execution_count": 10,
   "id": "ada995a7",
   "metadata": {
    "collapsed": true
   },
   "outputs": [
    {
     "data": {
      "application/vnd.jupyter.widget-view+json": {
       "model_id": "3b2746d76c3a4b9495b41c799d915437",
       "version_major": 2,
       "version_minor": 0
      },
      "text/plain": [
       "HBox(children=(HTML(value='Iteration 1/3, 56 arms, time budget = 0.08 sec'), FloatProgress(value=0.0, max=56.0…"
      ]
     },
     "metadata": {},
     "output_type": "display_data"
    },
    {
     "name": "stdout",
     "output_type": "stream",
     "text": [
      "Hyperparams: {'batch_size': 800000, 'dt': 0.1}., sample shape=(1, 10). metric: 633599\n",
      "Hyperparams: {'batch_size': 800000, 'dt': 0.031622775}., sample shape=(1, 10). metric: 625572\n",
      "Hyperparams: {'batch_size': 800000, 'dt': 0.01}., sample shape=(1, 10). metric: 594703\n",
      "Hyperparams: {'batch_size': 800000, 'dt': 0.0031622776}., sample shape=(1, 10). metric: 476958\n",
      "Hyperparams: {'batch_size': 800000, 'dt': 0.001}., sample shape=(1, 10). metric: 225221\n",
      "Hyperparams: {'batch_size': 800000, 'dt': 0.00031622776}., sample shape=(1, 10). metric: 70078\n",
      "Hyperparams: {'batch_size': 800000, 'dt': 1e-04}., sample shape=(1, 10). metric: 20501\n",
      "Hyperparams: {'batch_size': 800000, 'dt': 3.1622778e-05}., sample shape=(1, 10). metric: 4429\n",
      "Hyperparams: {'batch_size': 800000, 'dt': 1e-05}., sample shape=(1, 10). metric: 1291\n",
      "Hyperparams: {'batch_size': 800000, 'dt': 3.1622776e-06}., sample shape=(1, 10). metric: 2516\n",
      "Hyperparams: {'batch_size': 800000, 'dt': 1e-06}., sample shape=(1, 10). metric: 3030\n",
      "Hyperparams: {'batch_size': 800000, 'dt': 3.1622776e-07}., sample shape=(1, 10). metric: 3179\n",
      "Hyperparams: {'batch_size': 800000, 'dt': 1e-07}., sample shape=(1, 10). metric: 3165\n",
      "Hyperparams: {'batch_size': 800000, 'dt': 3.1622776e-08}., sample shape=(1, 10). metric: 3182\n",
      "Hyperparams: {'batch_size': 80000, 'dt': 0.1}., sample shape=(3, 10). metric: inf\n",
      "Hyperparams: {'batch_size': 80000, 'dt': 0.031622775}., sample shape=(3, 10). metric: inf\n",
      "Hyperparams: {'batch_size': 80000, 'dt': 0.01}., sample shape=(2, 10). metric: inf\n",
      "Hyperparams: {'batch_size': 80000, 'dt': 0.0031622776}., sample shape=(3, 10). metric: inf\n",
      "Hyperparams: {'batch_size': 80000, 'dt': 0.001}., sample shape=(3, 10). metric: inf\n",
      "Hyperparams: {'batch_size': 80000, 'dt': 0.00031622776}., sample shape=(3, 10). metric: inf\n",
      "Hyperparams: {'batch_size': 80000, 'dt': 1e-04}., sample shape=(3, 10). metric: inf\n",
      "Hyperparams: {'batch_size': 80000, 'dt': 3.1622778e-05}., sample shape=(3, 10). metric: 381\n",
      "Hyperparams: {'batch_size': 80000, 'dt': 1e-05}., sample shape=(3, 10). metric: 628\n",
      "Hyperparams: {'batch_size': 80000, 'dt': 3.1622776e-06}., sample shape=(3, 10). metric: 1187\n",
      "Hyperparams: {'batch_size': 80000, 'dt': 1e-06}., sample shape=(3, 10). metric: 857\n",
      "Hyperparams: {'batch_size': 80000, 'dt': 3.1622776e-07}., sample shape=(3, 10). metric: 416\n",
      "Hyperparams: {'batch_size': 80000, 'dt': 1e-07}., sample shape=(3, 10). metric: 1417\n",
      "Hyperparams: {'batch_size': 80000, 'dt': 3.1622776e-08}., sample shape=(3, 10). metric: 2579\n",
      "Hyperparams: {'batch_size': 8000, 'dt': 0.1}., sample shape=(14, 10). metric: inf\n",
      "Hyperparams: {'batch_size': 8000, 'dt': 0.031622775}., sample shape=(14, 10). metric: inf\n",
      "Hyperparams: {'batch_size': 8000, 'dt': 0.01}., sample shape=(14, 10). metric: inf\n",
      "Hyperparams: {'batch_size': 8000, 'dt': 0.0031622776}., sample shape=(14, 10). metric: inf\n",
      "Hyperparams: {'batch_size': 8000, 'dt': 0.001}., sample shape=(13, 10). metric: inf\n",
      "Hyperparams: {'batch_size': 8000, 'dt': 0.00031622776}., sample shape=(13, 10). metric: inf\n",
      "Hyperparams: {'batch_size': 8000, 'dt': 1e-04}., sample shape=(14, 10). metric: inf\n",
      "Hyperparams: {'batch_size': 8000, 'dt': 3.1622778e-05}., sample shape=(15, 10). metric: 191\n",
      "Hyperparams: {'batch_size': 8000, 'dt': 1e-05}., sample shape=(14, 10). metric: 101\n",
      "Hyperparams: {'batch_size': 8000, 'dt': 3.1622776e-06}., sample shape=(15, 10). metric: 210\n",
      "Hyperparams: {'batch_size': 8000, 'dt': 1e-06}., sample shape=(14, 10). metric: 98\n",
      "Hyperparams: {'batch_size': 8000, 'dt': 3.1622776e-07}., sample shape=(14, 10). metric: 202\n",
      "Hyperparams: {'batch_size': 8000, 'dt': 1e-07}., sample shape=(14, 10). metric: 218\n",
      "Hyperparams: {'batch_size': 8000, 'dt': 3.1622776e-08}., sample shape=(14, 10). metric: 360\n",
      "Hyperparams: {'batch_size': 800, 'dt': 0.1}., sample shape=(41, 10). metric: inf\n",
      "Hyperparams: {'batch_size': 800, 'dt': 0.031622775}., sample shape=(38, 10). metric: inf\n",
      "Hyperparams: {'batch_size': 800, 'dt': 0.01}., sample shape=(40, 10). metric: inf\n",
      "Hyperparams: {'batch_size': 800, 'dt': 0.0031622776}., sample shape=(33, 10). metric: inf\n",
      "Hyperparams: {'batch_size': 800, 'dt': 0.001}., sample shape=(27, 10). metric: inf\n",
      "Hyperparams: {'batch_size': 800, 'dt': 0.00031622776}., sample shape=(39, 10). metric: inf\n",
      "Hyperparams: {'batch_size': 800, 'dt': 1e-04}., sample shape=(39, 10). metric: inf\n",
      "Hyperparams: {'batch_size': 800, 'dt': 3.1622778e-05}., sample shape=(37, 10). metric: 336\n",
      "Hyperparams: {'batch_size': 800, 'dt': 1e-05}., sample shape=(40, 10). metric: 148\n",
      "Hyperparams: {'batch_size': 800, 'dt': 3.1622776e-06}., sample shape=(40, 10). metric: 107\n",
      "Hyperparams: {'batch_size': 800, 'dt': 1e-06}., sample shape=(37, 10). metric: 65\n",
      "Hyperparams: {'batch_size': 800, 'dt': 3.1622776e-07}., sample shape=(41, 10). metric: 72\n",
      "Hyperparams: {'batch_size': 800, 'dt': 1e-07}., sample shape=(32, 10). metric: 99\n",
      "Hyperparams: {'batch_size': 800, 'dt': 3.1622776e-08}., sample shape=(40, 10). metric: 105\n",
      "\n",
      "Number of samples: [37, 41, 14, 32, 14, 40, 40, 40, 15, 14, 15, 14, 37, 14, 3, 3, 3, 3]\n"
     ]
    },
    {
     "data": {
      "application/vnd.jupyter.widget-view+json": {
       "model_id": "d62317f19be44b33a81ac5d9e7e40974",
       "version_major": 2,
       "version_minor": 0
      },
      "text/plain": [
       "HBox(children=(HTML(value='Iteration 2/3, 18 arms, time budget = 0.24 sec'), FloatProgress(value=0.0, max=18.0…"
      ]
     },
     "metadata": {},
     "output_type": "display_data"
    },
    {
     "name": "stdout",
     "output_type": "stream",
     "text": [
      "Hyperparams: {'batch_size': 800, 'dt': 1e-06}., sample shape=(153, 10). metric: 32\n",
      "Hyperparams: {'batch_size': 800, 'dt': 3.1622776e-07}., sample shape=(107, 10). metric: 33\n",
      "Hyperparams: {'batch_size': 8000, 'dt': 1e-06}., sample shape=(51, 10). metric: 16\n",
      "Hyperparams: {'batch_size': 800, 'dt': 1e-07}., sample shape=(122, 10). metric: 43\n",
      "Hyperparams: {'batch_size': 8000, 'dt': 1e-05}., sample shape=(46, 10). metric: 41\n",
      "Hyperparams: {'batch_size': 800, 'dt': 3.1622776e-08}., sample shape=(125, 10). metric: 99\n",
      "Hyperparams: {'batch_size': 800, 'dt': 3.1622776e-06}., sample shape=(126, 10). metric: 61\n",
      "Hyperparams: {'batch_size': 800, 'dt': 1e-05}., sample shape=(132, 10). metric: 152\n",
      "Hyperparams: {'batch_size': 8000, 'dt': 3.1622778e-05}., sample shape=(56, 10). metric: 118\n",
      "Hyperparams: {'batch_size': 8000, 'dt': 3.1622776e-07}., sample shape=(54, 10). metric: 59\n",
      "Hyperparams: {'batch_size': 8000, 'dt': 3.1622776e-06}., sample shape=(57, 10). metric: 48\n",
      "Hyperparams: {'batch_size': 8000, 'dt': 1e-07}., sample shape=(54, 10). metric: 90\n",
      "Hyperparams: {'batch_size': 800, 'dt': 3.1622778e-05}., sample shape=(151, 10). metric: 128\n",
      "Hyperparams: {'batch_size': 8000, 'dt': 3.1622776e-08}., sample shape=(56, 10). metric: 114\n",
      "Hyperparams: {'batch_size': 80000, 'dt': 3.1622778e-05}., sample shape=(10, 10). metric: 186\n",
      "Hyperparams: {'batch_size': 80000, 'dt': 3.1622776e-07}., sample shape=(10, 10). metric: 199\n",
      "Hyperparams: {'batch_size': 80000, 'dt': 1e-05}., sample shape=(11, 10). metric: 209\n",
      "Hyperparams: {'batch_size': 80000, 'dt': 1e-06}., sample shape=(11, 10). metric: 195\n",
      "\n",
      "Number of samples: [51, 153, 107, 46, 122, 57]\n"
     ]
    },
    {
     "data": {
      "application/vnd.jupyter.widget-view+json": {
       "model_id": "dc317dd1aab646019647c959008f6204",
       "version_major": 2,
       "version_minor": 0
      },
      "text/plain": [
       "HBox(children=(HTML(value='Iteration 3/3, 6 arms, time budget = 0.72 sec'), FloatProgress(value=0.0, max=6.0),…"
      ]
     },
     "metadata": {},
     "output_type": "display_data"
    },
    {
     "name": "stdout",
     "output_type": "stream",
     "text": [
      "Hyperparams: {'batch_size': 8000, 'dt': 1e-06}., sample shape=(185, 10). metric: 13\n",
      "Hyperparams: {'batch_size': 800, 'dt': 1e-06}., sample shape=(527, 10). metric: 11\n",
      "Hyperparams: {'batch_size': 800, 'dt': 3.1622776e-07}., sample shape=(451, 10). metric: 13\n",
      "Hyperparams: {'batch_size': 8000, 'dt': 1e-05}., sample shape=(179, 10). metric: 51\n",
      "Hyperparams: {'batch_size': 800, 'dt': 1e-07}., sample shape=(494, 10). metric: 25\n",
      "Hyperparams: {'batch_size': 8000, 'dt': 3.1622776e-06}., sample shape=(179, 10). metric: 10\n",
      "\n",
      "Number of samples: [179, 527]\n",
      "Running time: 235.0 sec\n",
      "{'batch_size': 8000, 'dt': 3.1622776e-06} 9.652608 (179, 10)\n"
     ]
    }
   ],
   "source": [
    "build_kernel = lambda dt, batch_size: build_sgnhtCV_kernel(dt, loglikelihood, \n",
    "                                                  logprior, data, batch_size, centering_value)\n",
    "grid_params = {'log_dt': logdt_range, \n",
    "               'batch_size': batch_size_range\n",
    "              }\n",
    "best_arm = run_MAMBA(key, build_kernel, error_fn, R, params_IC, \n",
    "                     grid_params=grid_params, get_fb_grads=get_fb_grads)\n",
    "\n",
    "print(best_arm.hyperparameters, best_arm.metric, best_arm.samples.shape)"
   ]
  },
  {
   "cell_type": "code",
   "execution_count": null,
   "id": "ec0f4428",
   "metadata": {},
   "outputs": [],
   "source": []
  },
  {
   "cell_type": "code",
   "execution_count": null,
   "id": "8a80364c",
   "metadata": {},
   "outputs": [],
   "source": []
  },
  {
   "cell_type": "code",
   "execution_count": null,
   "id": "4399056c",
   "metadata": {},
   "outputs": [],
   "source": []
  }
 ],
 "metadata": {
  "kernelspec": {
   "display_name": "Python 3",
   "language": "python",
   "name": "python3"
  },
  "language_info": {
   "codemirror_mode": {
    "name": "ipython",
    "version": 3
   },
   "file_extension": ".py",
   "mimetype": "text/x-python",
   "name": "python",
   "nbconvert_exporter": "python",
   "pygments_lexer": "ipython3",
   "version": "3.8.2"
  }
 },
 "nbformat": 4,
 "nbformat_minor": 5
}
