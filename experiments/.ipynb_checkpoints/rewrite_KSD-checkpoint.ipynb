{
 "cells": [
  {
   "cell_type": "code",
   "execution_count": 4,
   "id": "5be9aa65",
   "metadata": {},
   "outputs": [],
   "source": [
    "%matplotlib inline\n",
    "import matplotlib.pyplot as plt\n",
    "import numpy as np\n",
    "\n",
    "import jax.numpy as jnp\n",
    "from jax import grad, jit, random, partial, lax, vmap\n",
    "\n",
    "import context\n",
    "from models.bayesian_NN.NN_model import logprior, loglikelihood, init_network, accuracy_BNN\n",
    "from models.bayesian_NN.NN_data import X_train, y_train, X_test, y_test\n",
    "from models.bayesian_NN.util import load_NN_MAP, add_noise_NN_params\n",
    "\n",
    "from tuning.mamba import timed_sampler\n",
    "from tuning.ksd import imq_KSD, k_0_fun"
   ]
  },
  {
   "cell_type": "markdown",
   "id": "280a1df0",
   "metadata": {},
   "source": [
    "# linear KSD"
   ]
  },
  {
   "cell_type": "code",
   "execution_count": 2,
   "id": "99b01bba",
   "metadata": {},
   "outputs": [],
   "source": [
    "@jit\n",
    "def linear_imq_KSD(samples, grads):\n",
    "    \"\"\"\n",
    "    linear KSD with imq kernel (Liu 2016)\n",
    "    \"\"\"\n",
    "    c, beta = 1., -0.5\n",
    "    N_2 = int(samples.shape[0]/2)\n",
    "    batch_k_0_fun = vmap(k_0_fun, in_axes=(0,0,0,0,None, None))\n",
    "    \n",
    "    le_sum = jnp.sum(batch_k_0_fun(samples[::2], samples[1::2], grads[::2], grads[1::2], c, beta))\n",
    "    return le_sum/N_2\n"
   ]
  },
  {
   "cell_type": "code",
   "execution_count": 2,
   "id": "e7aa1114",
   "metadata": {},
   "outputs": [],
   "source": [
    "\n",
    "key = random.PRNGKey(0)\n",
    "N = 50 # num samples\n",
    "d = 5 # dimension\n",
    "\n",
    "samples = random.normal(key, shape=(N, d))\n",
    "grads = -samples\n",
    "\n",
    "J = 10\n",
    "key = random.PRNGKey(1)\n",
    "V = random.normal(key, shape=(J, d))"
   ]
  },
  {
   "cell_type": "code",
   "execution_count": 4,
   "id": "755bf618",
   "metadata": {},
   "outputs": [
    {
     "name": "stdout",
     "output_type": "stream",
     "text": [
      "CPU times: user 170 ms, sys: 2.55 ms, total: 173 ms\n",
      "Wall time: 171 ms\n"
     ]
    },
    {
     "data": {
      "text/plain": [
       "DeviceArray(0.4545508, dtype=float32)"
      ]
     },
     "execution_count": 4,
     "metadata": {},
     "output_type": "execute_result"
    }
   ],
   "source": [
    "%time imq_KSD(samples, grads).block_until_ready()"
   ]
  },
  {
   "cell_type": "code",
   "execution_count": 5,
   "id": "e1387805",
   "metadata": {},
   "outputs": [
    {
     "name": "stdout",
     "output_type": "stream",
     "text": [
      "CPU times: user 84.8 ms, sys: 2.15 ms, total: 87 ms\n",
      "Wall time: 85.5 ms\n"
     ]
    },
    {
     "data": {
      "text/plain": [
       "DeviceArray(0.00021834, dtype=float32)"
      ]
     },
     "execution_count": 5,
     "metadata": {},
     "output_type": "execute_result"
    }
   ],
   "source": [
    "%time linear_imq_KSD(samples, grads).block_until_ready()"
   ]
  },
  {
   "cell_type": "code",
   "execution_count": null,
   "id": "d3c4c385",
   "metadata": {},
   "outputs": [],
   "source": []
  },
  {
   "cell_type": "code",
   "execution_count": null,
   "id": "bbe5be40",
   "metadata": {},
   "outputs": [],
   "source": []
  },
  {
   "cell_type": "code",
   "execution_count": null,
   "id": "dc037621",
   "metadata": {},
   "outputs": [],
   "source": []
  },
  {
   "cell_type": "code",
   "execution_count": null,
   "id": "9972db00",
   "metadata": {},
   "outputs": [],
   "source": []
  },
  {
   "cell_type": "code",
   "execution_count": null,
   "id": "ab01764b",
   "metadata": {},
   "outputs": [],
   "source": []
  },
  {
   "cell_type": "markdown",
   "id": "9635b8d4",
   "metadata": {},
   "source": [
    "# FSSD"
   ]
  },
  {
   "cell_type": "code",
   "execution_count": 29,
   "id": "6abdeb38",
   "metadata": {},
   "outputs": [],
   "source": [
    "def imq_kernel(x, y):\n",
    "    c, beta = 1., -0.5\n",
    "    return (c + jnp.dot(x-y, x-y))**beta\n",
    "\n",
    "k_dx = grad(imq_kernel, 0)\n",
    "\n",
    "def xi(x, grad_x, v):\n",
    "    return grad_x*imq_kernel(x,v) + k_dx(x,v)\n",
    "\n",
    "batch_xi = vmap(xi, in_axes=(None, None, 0))\n",
    "\n",
    "\n",
    "def tau(x, grad_x, V):\n",
    "    d, = x.shape\n",
    "    J, dv = V.shape\n",
    "    assert dv == d\n",
    "    return batch_xi(x, grad_x, V).reshape(J*d)/jnp.sqrt(d*J)\n",
    "    \n",
    "@jit\n",
    "def delta_fn(x, y, g_x, g_y, V):\n",
    "    return jnp.dot(tau(x, g_x, V), tau(y, g_y, V))\n",
    "\n",
    "\n",
    "\n",
    "@jit\n",
    "def FSSD_O2(sgld_samples, sgld_grads, V):\n",
    "    \"\"\"\n",
    "    FSSD with imq kernel\n",
    "    \"\"\"\n",
    "    N = sgld_samples.shape[0]\n",
    "    \n",
    "    batch_delta_fun_rows = jit(vmap(delta_fn, in_axes=(None,0,None,0, None)))\n",
    "\n",
    "    def body_ksd(le_sum, x):\n",
    "        my_sample, my_grad = x\n",
    "        le_sum += jnp.sum(batch_delta_fun_rows(my_sample, sgld_samples, my_grad, sgld_grads, V))\n",
    "        return le_sum, None\n",
    "\n",
    "    le_sum, _ = lax.scan(body_ksd, 0., (sgld_samples, sgld_grads))\n",
    "    return jnp.sqrt(le_sum)/N\n",
    "\n",
    "\n"
   ]
  },
  {
   "cell_type": "code",
   "execution_count": 33,
   "id": "6ea794f5",
   "metadata": {},
   "outputs": [
    {
     "data": {
      "text/plain": [
       "DeviceArray([-0.13347642, -0.22785588,  0.26775482,  0.41801387,\n",
       "              0.62521464], dtype=float32)"
      ]
     },
     "execution_count": 33,
     "metadata": {},
     "output_type": "execute_result"
    }
   ],
   "source": [
    "xi(samples[0], grads[0], V[1])"
   ]
  },
  {
   "cell_type": "code",
   "execution_count": 37,
   "id": "ad7ea263",
   "metadata": {
    "scrolled": true
   },
   "outputs": [
    {
     "data": {
      "text/plain": [
       "DeviceArray(0.03130005, dtype=float32)"
      ]
     },
     "execution_count": 37,
     "metadata": {},
     "output_type": "execute_result"
    }
   ],
   "source": [
    "FSSD_O2(samples, grads, V)"
   ]
  },
  {
   "cell_type": "code",
   "execution_count": null,
   "id": "6e9fc1d2",
   "metadata": {},
   "outputs": [],
   "source": []
  },
  {
   "cell_type": "code",
   "execution_count": 5,
   "id": "5ab13c8f",
   "metadata": {},
   "outputs": [],
   "source": [
    "\n",
    "key = random.PRNGKey(0)\n",
    "N = 100 # num samples\n",
    "d = 5 # dimension\n",
    "\n",
    "samples = random.normal(key, shape=(N, d))\n",
    "grads = -samples\n",
    "\n",
    "J = 10\n",
    "key = random.PRNGKey(1)\n",
    "V = random.normal(key, shape=(J, d)) + 10"
   ]
  },
  {
   "cell_type": "code",
   "execution_count": null,
   "id": "ed5c474e",
   "metadata": {},
   "outputs": [],
   "source": [
    "    N = sgld_samples.shape[0]\n",
    "    d = sgld_samples[0].shape[0]\n",
    "    J = V.shape[0]\n",
    "    \n",
    "    def imq_kernel(x, y):\n",
    "        c, beta = 1., -0.5\n",
    "        return (c + jnp.dot(x-y, x-y))**beta\n",
    "\n",
    "    k_dx = grad(imq_kernel, 0)\n",
    "\n",
    "    def xi(x, grad_x, v):\n",
    "        return grad_x*imq_kernel(x,v) + k_dx(x,v)\n",
    "\n",
    "    \n",
    "    def compute_xi_sum(v):\n",
    "        batch_xi_sam = vmap(xi, in_axes=(0,0, None))\n",
    "        all_xi = batch_xi_sam(sgld_samples, sgld_grads, v)\n",
    "        return jnp.square(all_xi.sum(axis=0)) - jnp.square(all_xi).sum(axis=0)\n",
    "\n",
    "    batch_compute_xi_sum = vmap(compute_xi_sum, in_axes=(0,))\n",
    "\n",
    "    lesum = jnp.sum(jnp.sum(batch_compute_xi_sum(V), axis=0))\n",
    "    return lesum/(d*J*N*(N-1))"
   ]
  },
  {
   "cell_type": "code",
   "execution_count": null,
   "id": "3627fafb",
   "metadata": {},
   "outputs": [],
   "source": []
  },
  {
   "cell_type": "code",
   "execution_count": null,
   "id": "dbf584ef",
   "metadata": {},
   "outputs": [],
   "source": []
  },
  {
   "cell_type": "code",
   "execution_count": null,
   "id": "ea1a7769",
   "metadata": {},
   "outputs": [],
   "source": []
  },
  {
   "cell_type": "code",
   "execution_count": null,
   "id": "d8e556af",
   "metadata": {},
   "outputs": [],
   "source": []
  },
  {
   "cell_type": "code",
   "execution_count": 39,
   "id": "7d40ff57",
   "metadata": {},
   "outputs": [
    {
     "name": "stdout",
     "output_type": "stream",
     "text": [
      "CPU times: user 1.81 ms, sys: 888 µs, total: 2.7 ms\n",
      "Wall time: 6.38 ms\n"
     ]
    },
    {
     "data": {
      "text/plain": [
       "Buffer(0.29847407, dtype=float32)"
      ]
     },
     "execution_count": 39,
     "metadata": {},
     "output_type": "execute_result"
    }
   ],
   "source": [
    "%time imq_KSD(samples, grads).block_until_ready()"
   ]
  },
  {
   "cell_type": "code",
   "execution_count": 41,
   "id": "41eb6ce2",
   "metadata": {},
   "outputs": [
    {
     "name": "stdout",
     "output_type": "stream",
     "text": [
      "CPU times: user 686 µs, sys: 151 µs, total: 837 µs\n",
      "Wall time: 4.74 ms\n"
     ]
    },
    {
     "data": {
      "text/plain": [
       "Buffer(0.03130005, dtype=float32)"
      ]
     },
     "execution_count": 41,
     "metadata": {},
     "output_type": "execute_result"
    }
   ],
   "source": [
    "%time FSSD_O2(samples, grads, V).block_until_ready()"
   ]
  },
  {
   "cell_type": "markdown",
   "id": "fa48d170",
   "metadata": {},
   "source": [
    "### linear version"
   ]
  },
  {
   "cell_type": "code",
   "execution_count": 25,
   "id": "1ea56ca0",
   "metadata": {},
   "outputs": [],
   "source": [
    "\n",
    "@jit\n",
    "def FSSD(sgld_samples, sgld_grads, V):\n",
    "    \"\"\"\n",
    "    FSSD with imq kernel\n",
    "    \"\"\"\n",
    "    N = sgld_samples.shape[0]\n",
    "    d = sgld_samples[0].shape[0]\n",
    "    J = V.shape[0]\n",
    "    \n",
    "    def imq_kernel(x, y):\n",
    "        c, beta = 1., -0.5\n",
    "        return (c + jnp.dot(x-y, x-y))**beta\n",
    "\n",
    "    k_dx = grad(imq_kernel, 0)\n",
    "\n",
    "    def xi(x, grad_x, v):\n",
    "        return grad_x*imq_kernel(x,v) + k_dx(x,v)\n",
    "\n",
    "    \n",
    "    def compute_xi_sum(v):\n",
    "        batch_xi_sam = vmap(xi, in_axes=(0,0, None))\n",
    "        all_xi = batch_xi_sam(sgld_samples, sgld_grads, v)\n",
    "        return jnp.square(all_xi.sum(axis=0)) - jnp.square(all_xi).sum(axis=0)\n",
    "\n",
    "    batch_compute_xi_sum = vmap(compute_xi_sum, in_axes=(0,))\n",
    "\n",
    "    lesum = jnp.sum(jnp.sum(batch_compute_xi_sum(V), axis=0))\n",
    "    return lesum/(d*J*N*(N-1))\n",
    "\n",
    "\n",
    "from jax.experimental.optimizers import adam\n",
    "from functools import partial\n",
    "\n",
    "@partial(jit, static_argnums=(3,))\n",
    "def FSSD_opt(sgld_samples, sgld_grads, V, Niter):\n",
    "    \n",
    "    def opt_fssd_fn(v):\n",
    "        return -FSSD(samples, grads, v)\n",
    "\n",
    "    grad_opt_fn = jit(grad(opt_fssd_fn))\n",
    "    init_fn, update, get_params = adam(1e-3)\n",
    "    state = init_fn(V)\n",
    "\n",
    "    def body(state, i):\n",
    "        return update(i, grad_opt_fn(get_params(state)), state), None\n",
    "\n",
    "    state, _ = lax.scan(body, state, jnp.arange(Niter))\n",
    "    V_opt = get_params(state)\n",
    "    return FSSD(sgld_samples, sgld_grads, V_opt)\n",
    "\n",
    "\n",
    "    "
   ]
  },
  {
   "cell_type": "code",
   "execution_count": null,
   "id": "55fb14d0",
   "metadata": {},
   "outputs": [],
   "source": []
  },
  {
   "cell_type": "code",
   "execution_count": 2,
   "id": "a4fb915b",
   "metadata": {},
   "outputs": [
    {
     "ename": "NameError",
     "evalue": "name 'd' is not defined",
     "output_type": "error",
     "traceback": [
      "\u001b[0;31m---------------------------------------------------------------------------\u001b[0m",
      "\u001b[0;31mNameError\u001b[0m                                 Traceback (most recent call last)",
      "\u001b[0;32m<ipython-input-2-a85e307a30b9>\u001b[0m in \u001b[0;36m<module>\u001b[0;34m\u001b[0m\n\u001b[1;32m      1\u001b[0m \u001b[0mJ\u001b[0m \u001b[0;34m=\u001b[0m \u001b[0;36m10\u001b[0m\u001b[0;34m\u001b[0m\u001b[0;34m\u001b[0m\u001b[0m\n\u001b[1;32m      2\u001b[0m \u001b[0mkey\u001b[0m \u001b[0;34m=\u001b[0m \u001b[0mrandom\u001b[0m\u001b[0;34m.\u001b[0m\u001b[0mPRNGKey\u001b[0m\u001b[0;34m(\u001b[0m\u001b[0;36m6\u001b[0m\u001b[0;34m)\u001b[0m\u001b[0;34m\u001b[0m\u001b[0;34m\u001b[0m\u001b[0m\n\u001b[0;32m----> 3\u001b[0;31m \u001b[0mV\u001b[0m \u001b[0;34m=\u001b[0m \u001b[0mrandom\u001b[0m\u001b[0;34m.\u001b[0m\u001b[0mnormal\u001b[0m\u001b[0;34m(\u001b[0m\u001b[0mkey\u001b[0m\u001b[0;34m,\u001b[0m \u001b[0mshape\u001b[0m\u001b[0;34m=\u001b[0m\u001b[0;34m(\u001b[0m\u001b[0mJ\u001b[0m\u001b[0;34m,\u001b[0m \u001b[0md\u001b[0m\u001b[0;34m)\u001b[0m\u001b[0;34m)\u001b[0m\u001b[0;34m\u001b[0m\u001b[0;34m\u001b[0m\u001b[0m\n\u001b[0m\u001b[1;32m      4\u001b[0m \u001b[0;34m\u001b[0m\u001b[0m\n\u001b[1;32m      5\u001b[0m \u001b[0;31m# FSSD(samples, grads, V)\u001b[0m\u001b[0;34m\u001b[0m\u001b[0;34m\u001b[0m\u001b[0;34m\u001b[0m\u001b[0m\n",
      "\u001b[0;31mNameError\u001b[0m: name 'd' is not defined"
     ]
    }
   ],
   "source": [
    "J = 10\n",
    "key = random.PRNGKey(6)\n",
    "V = random.normal(key, shape=(J, d))\n",
    "\n",
    "# FSSD(samples, grads, V)"
   ]
  },
  {
   "cell_type": "code",
   "execution_count": 3,
   "id": "27bb1e1c",
   "metadata": {},
   "outputs": [],
   "source": [
    "# FSSD_opt(samples, grads, V, 400)"
   ]
  },
  {
   "cell_type": "code",
   "execution_count": null,
   "id": "d49a152f",
   "metadata": {},
   "outputs": [],
   "source": []
  },
  {
   "cell_type": "code",
   "execution_count": null,
   "id": "8d65a4f3",
   "metadata": {},
   "outputs": [],
   "source": []
  },
  {
   "cell_type": "code",
   "execution_count": 194,
   "id": "beed5e9e",
   "metadata": {},
   "outputs": [
    {
     "data": {
      "text/plain": [
       "DeviceArray([[-1.4949895e-05,  5.7517100e-06, -2.0329546e-05,\n",
       "              -1.8899555e-05,  2.1406895e-06],\n",
       "             [ 8.3543937e-06,  9.9315366e-07, -4.1955186e-06,\n",
       "              -6.2971958e-07,  8.3952291e-06],\n",
       "             [ 6.8008540e-06,  2.4068449e-05,  5.8266869e-07,\n",
       "              -9.1672609e-07, -2.6546986e-06],\n",
       "             [-1.8636318e-05,  9.6201402e-06, -2.4999619e-05,\n",
       "               9.0209614e-06, -5.2451242e-06],\n",
       "             [-8.1619528e-06,  1.1443335e-05,  5.7691977e-06,\n",
       "              -3.8049802e-06, -2.2124510e-05],\n",
       "             [-2.2405948e-06,  3.6173231e-05, -1.1673906e-05,\n",
       "              -4.1901985e-06, -4.0308441e-06],\n",
       "             [ 1.7546281e-06,  4.4181550e-05, -3.9278366e-05,\n",
       "               4.0121464e-05, -9.9971294e-06],\n",
       "             [ 3.5164259e-05,  8.9908526e-06, -1.5863337e-05,\n",
       "               8.8084562e-06, -2.8339928e-06],\n",
       "             [ 3.3414828e-05, -2.3344233e-05, -1.2204182e-05,\n",
       "               9.7794109e-06,  7.4116906e-07],\n",
       "             [ 9.7355442e-06,  6.9759153e-06, -1.9537012e-05,\n",
       "               3.8464132e-06, -7.8588964e-06]], dtype=float32)"
      ]
     },
     "execution_count": 194,
     "metadata": {},
     "output_type": "execute_result"
    }
   ],
   "source": [
    "grad_FSSD(samples, grads, V)"
   ]
  },
  {
   "cell_type": "code",
   "execution_count": 195,
   "id": "a7188937",
   "metadata": {},
   "outputs": [
    {
     "data": {
      "text/plain": [
       "Buffer(-0.00034945, dtype=float32)"
      ]
     },
     "execution_count": 195,
     "metadata": {},
     "output_type": "execute_result"
    }
   ],
   "source": [
    "# FSSD_O2(samples, grads, V)\n",
    "\n",
    "FSSD(samples, grads, V)\n"
   ]
  },
  {
   "cell_type": "code",
   "execution_count": 196,
   "id": "b1866e0a",
   "metadata": {},
   "outputs": [
    {
     "data": {
      "text/plain": [
       "(10, 5)"
      ]
     },
     "execution_count": 196,
     "metadata": {},
     "output_type": "execute_result"
    }
   ],
   "source": [
    "V.shape"
   ]
  },
  {
   "cell_type": "code",
   "execution_count": null,
   "id": "7a603dcc",
   "metadata": {},
   "outputs": [],
   "source": []
  },
  {
   "cell_type": "code",
   "execution_count": 206,
   "id": "d285164e",
   "metadata": {},
   "outputs": [
    {
     "data": {
      "text/plain": [
       "<function jax.experimental.optimizers.adam.<locals>.update(i, g, state)>"
      ]
     },
     "execution_count": 206,
     "metadata": {},
     "output_type": "execute_result"
    }
   ],
   "source": [
    "update"
   ]
  },
  {
   "cell_type": "code",
   "execution_count": 228,
   "id": "6a4fc6a2",
   "metadata": {},
   "outputs": [],
   "source": [
    "from jax.scipy.optimize import minimize\n",
    "from jax.experimental.optimizers import adam\n",
    "\n",
    "def opt_fssd_fn(v):\n",
    "    return -FSSD(samples, grads, v)\n",
    "\n",
    "grad_opt_fn = jit(grad(opt_fssd_fn))\n",
    "\n",
    "init_fn, update, get_params = adam(1e-3)\n",
    "\n"
   ]
  },
  {
   "cell_type": "code",
   "execution_count": 261,
   "id": "4c9bf9e7",
   "metadata": {},
   "outputs": [],
   "source": [
    "state = init_fn(V)\n",
    "\n",
    "def body(state, i):\n",
    "    return update(i, grad_opt_fn(get_params(state)), state), None\n",
    "\n",
    "state, _ = lax.scan(body, state, jnp.arange(400))\n",
    "\n",
    "# for i in range(400):\n",
    "#     state = update(i, grad_opt_fn(get_params(state)), state)"
   ]
  },
  {
   "cell_type": "code",
   "execution_count": 262,
   "id": "8d4ae77b",
   "metadata": {},
   "outputs": [
    {
     "name": "stdout",
     "output_type": "stream",
     "text": [
      "0.00034944955 6.0526898e-05\n"
     ]
    }
   ],
   "source": [
    "print(opt_fssd_fn(V), opt_fssd_fn(get_params(state)))"
   ]
  },
  {
   "cell_type": "code",
   "execution_count": 27,
   "id": "e7f8e7ff",
   "metadata": {},
   "outputs": [
    {
     "ename": "NameError",
     "evalue": "name 'get_params' is not defined",
     "output_type": "error",
     "traceback": [
      "\u001b[0;31m---------------------------------------------------------------------------\u001b[0m",
      "\u001b[0;31mNameError\u001b[0m                                 Traceback (most recent call last)",
      "\u001b[0;32m<ipython-input-27-55b581f34aef>\u001b[0m in \u001b[0;36m<module>\u001b[0;34m\u001b[0m\n\u001b[0;32m----> 1\u001b[0;31m \u001b[0mplt\u001b[0m\u001b[0;34m.\u001b[0m\u001b[0mhist\u001b[0m\u001b[0;34m(\u001b[0m\u001b[0mget_params\u001b[0m\u001b[0;34m(\u001b[0m\u001b[0mstate\u001b[0m\u001b[0;34m)\u001b[0m\u001b[0;34m.\u001b[0m\u001b[0mflatten\u001b[0m\u001b[0;34m(\u001b[0m\u001b[0;34m)\u001b[0m\u001b[0;34m,\u001b[0m \u001b[0malpha\u001b[0m\u001b[0;34m=\u001b[0m\u001b[0;36m0.7\u001b[0m\u001b[0;34m,\u001b[0m \u001b[0mlabel\u001b[0m\u001b[0;34m=\u001b[0m\u001b[0;34m\"final\"\u001b[0m\u001b[0;34m)\u001b[0m\u001b[0;34m\u001b[0m\u001b[0;34m\u001b[0m\u001b[0m\n\u001b[0m\u001b[1;32m      2\u001b[0m \u001b[0mplt\u001b[0m\u001b[0;34m.\u001b[0m\u001b[0mhist\u001b[0m\u001b[0;34m(\u001b[0m\u001b[0mV\u001b[0m\u001b[0;34m.\u001b[0m\u001b[0mflatten\u001b[0m\u001b[0;34m(\u001b[0m\u001b[0;34m)\u001b[0m\u001b[0;34m,\u001b[0m \u001b[0malpha\u001b[0m\u001b[0;34m=\u001b[0m\u001b[0;36m0.7\u001b[0m\u001b[0;34m,\u001b[0m \u001b[0mlabel\u001b[0m\u001b[0;34m=\u001b[0m\u001b[0;34m\"initial\"\u001b[0m\u001b[0;34m)\u001b[0m\u001b[0;34m\u001b[0m\u001b[0;34m\u001b[0m\u001b[0m\n\u001b[1;32m      3\u001b[0m \u001b[0;34m\u001b[0m\u001b[0m\n\u001b[1;32m      4\u001b[0m \u001b[0mplt\u001b[0m\u001b[0;34m.\u001b[0m\u001b[0mlegend\u001b[0m\u001b[0;34m(\u001b[0m\u001b[0;34m)\u001b[0m\u001b[0;34m\u001b[0m\u001b[0;34m\u001b[0m\u001b[0m\n",
      "\u001b[0;31mNameError\u001b[0m: name 'get_params' is not defined"
     ]
    }
   ],
   "source": [
    "plt.hist(get_params(state).flatten(), alpha=0.7, label=\"final\")\n",
    "plt.hist(V.flatten(), alpha=0.7, label=\"initial\")\n",
    "\n",
    "plt.legend()"
   ]
  },
  {
   "cell_type": "code",
   "execution_count": null,
   "id": "f4b01973",
   "metadata": {},
   "outputs": [],
   "source": []
  }
 ],
 "metadata": {
  "kernelspec": {
   "display_name": "Python 3",
   "language": "python",
   "name": "python3"
  },
  "language_info": {
   "codemirror_mode": {
    "name": "ipython",
    "version": 3
   },
   "file_extension": ".py",
   "mimetype": "text/x-python",
   "name": "python",
   "nbconvert_exporter": "python",
   "pygments_lexer": "ipython3",
   "version": "3.8.2"
  }
 },
 "nbformat": 4,
 "nbformat_minor": 5
}
