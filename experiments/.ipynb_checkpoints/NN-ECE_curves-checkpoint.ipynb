{
 "cells": [
  {
   "cell_type": "code",
   "execution_count": 1,
   "metadata": {},
   "outputs": [
    {
     "name": "stderr",
     "output_type": "stream",
     "text": [
      "/Users/jeremiecoullon/Documents/research/papers/SGMCMC_bandit_tuning/venv/lib/python3.8/site-packages/jax/lib/xla_bridge.py:130: UserWarning: No GPU/TPU found, falling back to CPU.\n",
      "  warnings.warn('No GPU/TPU found, falling back to CPU.')\n"
     ]
    }
   ],
   "source": [
    "%matplotlib inline\n",
    "\n",
    "import matplotlib.pyplot as plt\n",
    "import seaborn as sns\n",
    "sns.set_style(\"darkgrid\")\n",
    "import numpy as np\n",
    "import time\n",
    "import jax.numpy as jnp\n",
    "from jax import partial, jit, vmap, grad, random, lax\n",
    "from jax.scipy.special import logsumexp\n",
    "\n",
    "import context\n",
    "\n",
    "from examples.bayesian_NN.NN_data import X_train, X_test, y_train, y_test\n",
    "from examples.bayesian_NN.NN_model import grad_log_post, accuracy_BNN, get_ECE_MCE\n",
    "from examples.bayesian_NN.sampler import sgld_NN, kernel_NN\n",
    "from examples.bayesian_NN.util import flatten_NN_params, load_NN_MAP, flatten_NN_params_jaxscan\n",
    "from examples.bayesian_NN.sampler import sgld_NN_time_budget, sgld_NN_time_budget_CV, scan_NN\n",
    "from examples.bayesian_NN.adam_sgld import sgld_adam_NN_time_budget\n",
    "\n",
    "from examples.bayesian_NN.NN_data import X_train_notMNIST, X_test_notMNIST, y_train_notMNIST, y_test_notMNIST\n",
    "from examples.bayesian_NN.svrg import sgld_NN_time_budget_svrg\n",
    "\n",
    "from ksd import imq_KSD\n",
    "from util import progress_bar_scan, wait_until_computed"
   ]
  },
  {
   "cell_type": "markdown",
   "metadata": {},
   "source": [
    "# plot ECE as a function of time budget\n",
    "\n",
    "See end of notebook to reproduce the figures"
   ]
  },
  {
   "cell_type": "code",
   "execution_count": 2,
   "metadata": {},
   "outputs": [
    {
     "name": "stdout",
     "output_type": "stream",
     "text": [
      "5\n"
     ]
    }
   ],
   "source": [
    "time_budget = 1\n",
    "\n",
    "key = random.PRNGKey(0)\n",
    "dt = 10**(-4.75)\n",
    "batch_size = int(X_train.shape[0]*0.1)\n",
    "params_IC = load_NN_MAP()\n",
    "\n",
    "samples_NN_default, _ = sgld_NN_time_budget(key, time_budget, grad_log_post, dt, \n",
    "                                            batch_size, params_IC, X_train, y_train, save_rate=10)\n",
    "\n",
    "print(len(samples_NN_default))"
   ]
  },
  {
   "cell_type": "markdown",
   "metadata": {},
   "source": [
    "## Define functions\n",
    "\n",
    "1. Get gradients in batches\n",
    "2. get KSD list for different time budgets"
   ]
  },
  {
   "cell_type": "code",
   "execution_count": 11,
   "metadata": {},
   "outputs": [],
   "source": [
    "def get_ECE_list_time_budget_NN(max_time_budget, time_steps, sampler_fun, thin_step=2, start_time=5):\n",
    "    \"Get ECE for a sampler run for each time budget up to `max_time_budget`\"\n",
    "    ece_list = []\n",
    "    for time_budget in np.arange(start_time, max_time_budget, time_steps):\n",
    "        print(f\"Running for time budget={time_budget}sec\")\n",
    "        samples = sampler_fun(time_budget)\n",
    "        print(f\"Num samples: {len(samples)}\")\n",
    "        \n",
    "        flat_samples = flatten_NN_params(samples[::thin_step])\n",
    "        ece_est = get_ECE_MCE(flat_samples, X_test, y_test, M=10, pbar=False)[0]\n",
    "        ece_list.append(ece_est)\n",
    "        print(f\"KSD: {ece_est:.4f}\")\n",
    "        print(\"\\n\")\n",
    "    return ece_list\n",
    "    \n"
   ]
  },
  {
   "cell_type": "markdown",
   "metadata": {},
   "source": [
    "# SGLD\n"
   ]
  },
  {
   "cell_type": "markdown",
   "metadata": {},
   "source": [
    "#### R = 10sec with n=90\n",
    "\n",
    "- Set `save_rate=10`\n",
    "\n",
    "\n",
    "`key=0`:\n",
    "- v1: -5.032, 0.0011\n",
    "- v2: -4.73, 0.0038\n",
    "- v3: -4.69, 0.0081\n",
    "\n",
    "`key=1`:\n",
    "- v4: -4.85, 0.0043\n",
    "- v5: -4.86, 0.050\n",
    "- v6: -4.85, 0.016\n",
    "\n",
    "`key=2`:\n",
    "- v7: -4.89, 0.0012\n",
    "- v8: -4.76, 0.0016\n",
    "- v9: -4.70, 0.028"
   ]
  },
  {
   "cell_type": "code",
   "execution_count": 29,
   "metadata": {},
   "outputs": [],
   "source": [
    "def run_many_KSD_curves_sgld(list_params):\n",
    "    list_KSD_curves = []\n",
    "    \n",
    "    starttime = time.time()\n",
    "    for log_dt, b_s_r in list_params:\n",
    "        print(f\"\\nCalculating KSD curve for {log_dt, b_s_r}:\")\n",
    "        def run_sgld_sampler(time_budget):\n",
    "            key = random.PRNGKey(0)\n",
    "            MAP_params = load_NN_MAP()\n",
    "            dt = 10**(log_dt)\n",
    "            batch_size = int(b_s_r*X_train.shape[0])\n",
    "            samples, _= sgld_NN_time_budget(key, time_budget, grad_log_post, dt, \n",
    "                                            batch_size, MAP_params, X_train, y_train, save_rate=10)\n",
    "            return samples\n",
    "        \n",
    "        # ===\n",
    "        max_time_budget = 20\n",
    "        time_steps = 2\n",
    "        thin_step = 2\n",
    "        \n",
    "        ksd_list_sgld_SH = get_ECE_list_time_budget_NN(max_time_budget, time_steps, \n",
    "                                                        run_sgld_sampler, thin_step=thin_step)\n",
    "        list_KSD_curves.append(ksd_list_sgld_SH)\n",
    "    print(f\"Running time: {(time.time()-starttime)/60:.1f} min\")\n",
    "    return list_KSD_curves"
   ]
  },
  {
   "cell_type": "code",
   "execution_count": null,
   "metadata": {},
   "outputs": [],
   "source": []
  },
  {
   "cell_type": "code",
   "execution_count": 30,
   "metadata": {
    "collapsed": true
   },
   "outputs": [
    {
     "name": "stdout",
     "output_type": "stream",
     "text": [
      "\n",
      "Calculating KSD curve for (-5.032, 0.0011):\n",
      "Running for time budget=5sec\n",
      "Num samples: 322\n",
      "KSD: 0.0126\n",
      "\n",
      "\n",
      "Running for time budget=7sec\n",
      "Num samples: 317\n",
      "KSD: 0.0122\n",
      "\n",
      "\n",
      "Running for time budget=9sec\n",
      "Num samples: 395\n",
      "KSD: 0.0125\n",
      "\n",
      "\n",
      "Running for time budget=11sec\n",
      "Num samples: 478\n",
      "KSD: 0.0123\n",
      "\n",
      "\n",
      "Running for time budget=13sec\n",
      "Num samples: 466\n",
      "KSD: 0.0121\n",
      "\n",
      "\n",
      "Running for time budget=15sec\n",
      "Num samples: 561\n",
      "KSD: 0.0117\n",
      "\n",
      "\n",
      "Running for time budget=17sec\n",
      "Num samples: 910\n",
      "KSD: 0.0122\n",
      "\n",
      "\n",
      "Running for time budget=19sec\n",
      "Num samples: 1029\n",
      "KSD: 0.0112\n",
      "\n",
      "\n",
      "\n",
      "Calculating KSD curve for (-4.73, 0.0038):\n",
      "Running for time budget=5sec\n",
      "Num samples: 166\n",
      "KSD: 0.0119\n",
      "\n",
      "\n",
      "Running for time budget=7sec\n",
      "Num samples: 277\n",
      "KSD: 0.0116\n",
      "\n",
      "\n",
      "Running for time budget=9sec\n",
      "Num samples: 318\n",
      "KSD: 0.0109\n",
      "\n",
      "\n",
      "Running for time budget=11sec\n",
      "Num samples: 258\n",
      "KSD: 0.0112\n",
      "\n",
      "\n",
      "Running for time budget=13sec\n",
      "Num samples: 311\n",
      "KSD: 0.0109\n",
      "\n",
      "\n",
      "Running for time budget=15sec\n",
      "Num samples: 413\n",
      "KSD: 0.0114\n",
      "\n",
      "\n",
      "Running for time budget=17sec\n",
      "Num samples: 564\n",
      "KSD: 0.0112\n",
      "\n",
      "\n",
      "Running for time budget=19sec\n",
      "Num samples: 775\n",
      "KSD: 0.0097\n",
      "\n",
      "\n",
      "\n",
      "Calculating KSD curve for (-4.69, 0.0081):\n",
      "Running for time budget=5sec\n",
      "Num samples: 167\n",
      "KSD: 0.0141\n",
      "\n",
      "\n",
      "Running for time budget=7sec\n",
      "Num samples: 231\n",
      "KSD: 0.0135\n",
      "\n",
      "\n",
      "Running for time budget=9sec\n",
      "Num samples: 277\n",
      "KSD: 0.0128\n",
      "\n",
      "\n",
      "Running for time budget=11sec\n",
      "Num samples: 344\n",
      "KSD: 0.0146\n",
      "\n",
      "\n",
      "Running for time budget=13sec\n",
      "Num samples: 404\n",
      "KSD: 0.0128\n",
      "\n",
      "\n",
      "Running for time budget=15sec\n",
      "Num samples: 471\n",
      "KSD: 0.0130\n",
      "\n",
      "\n",
      "Running for time budget=17sec\n",
      "Num samples: 517\n",
      "KSD: 0.0134\n",
      "\n",
      "\n",
      "Running for time budget=19sec\n",
      "Num samples: 608\n",
      "KSD: 0.0126\n",
      "\n",
      "\n",
      "\n",
      "Calculating KSD curve for (-4.85, 0.0043):\n",
      "Running for time budget=5sec\n",
      "Num samples: 235\n",
      "KSD: 0.0146\n",
      "\n",
      "\n",
      "Running for time budget=7sec\n",
      "Num samples: 307\n",
      "KSD: 0.0141\n",
      "\n",
      "\n",
      "Running for time budget=9sec\n",
      "Num samples: 371\n",
      "KSD: 0.0133\n",
      "\n",
      "\n",
      "Running for time budget=11sec\n",
      "Num samples: 496\n",
      "KSD: 0.0136\n",
      "\n",
      "\n",
      "Running for time budget=13sec\n",
      "Num samples: 579\n",
      "KSD: 0.0125\n",
      "\n",
      "\n",
      "Running for time budget=15sec\n",
      "Num samples: 674\n",
      "KSD: 0.0127\n",
      "\n",
      "\n",
      "Running for time budget=17sec\n",
      "Num samples: 766\n",
      "KSD: 0.0121\n",
      "\n",
      "\n",
      "Running for time budget=19sec\n",
      "Num samples: 859\n",
      "KSD: 0.0114\n",
      "\n",
      "\n",
      "\n",
      "Calculating KSD curve for (-4.86, 0.05):\n",
      "Running for time budget=5sec\n",
      "Num samples: 47\n",
      "KSD: 0.0192\n",
      "\n",
      "\n",
      "Running for time budget=7sec\n",
      "Num samples: 55\n",
      "KSD: 0.0188\n",
      "\n",
      "\n",
      "Running for time budget=9sec\n",
      "Num samples: 66\n",
      "KSD: 0.0190\n",
      "\n",
      "\n",
      "Running for time budget=11sec\n",
      "Num samples: 103\n",
      "KSD: 0.0179\n",
      "\n",
      "\n",
      "Running for time budget=13sec\n",
      "Num samples: 130\n",
      "KSD: 0.0175\n",
      "\n",
      "\n",
      "Running for time budget=15sec\n",
      "Num samples: 143\n",
      "KSD: 0.0174\n",
      "\n",
      "\n",
      "Running for time budget=17sec\n",
      "Num samples: 162\n",
      "KSD: 0.0174\n",
      "\n",
      "\n",
      "Running for time budget=19sec\n",
      "Num samples: 182\n",
      "KSD: 0.0167\n",
      "\n",
      "\n",
      "\n",
      "Calculating KSD curve for (-4.85, 0.016):\n",
      "Running for time budget=5sec\n",
      "Num samples: 141\n",
      "KSD: 0.0166\n",
      "\n",
      "\n",
      "Running for time budget=7sec\n",
      "Num samples: 204\n",
      "KSD: 0.0162\n",
      "\n",
      "\n",
      "Running for time budget=9sec\n",
      "Num samples: 256\n",
      "KSD: 0.0175\n",
      "\n",
      "\n",
      "Running for time budget=11sec\n",
      "Num samples: 326\n",
      "KSD: 0.0155\n",
      "\n",
      "\n",
      "Running for time budget=13sec\n",
      "Num samples: 376\n",
      "KSD: 0.0162\n",
      "\n",
      "\n",
      "Running for time budget=15sec\n",
      "Num samples: 427\n",
      "KSD: 0.0157\n",
      "\n",
      "\n",
      "Running for time budget=17sec\n",
      "Num samples: 438\n",
      "KSD: 0.0159\n",
      "\n",
      "\n",
      "Running for time budget=19sec\n",
      "Num samples: 502\n",
      "KSD: 0.0160\n",
      "\n",
      "\n",
      "\n",
      "Calculating KSD curve for (-4.89, 0.0012):\n",
      "Running for time budget=5sec\n",
      "Num samples: 456\n",
      "KSD: 0.0122\n",
      "\n",
      "\n",
      "Running for time budget=7sec\n",
      "Num samples: 596\n",
      "KSD: 0.0113\n",
      "\n",
      "\n",
      "Running for time budget=9sec\n",
      "Num samples: 765\n",
      "KSD: 0.0114\n",
      "\n",
      "\n",
      "Running for time budget=11sec\n",
      "Num samples: 1057\n",
      "KSD: 0.0117\n",
      "\n",
      "\n",
      "Running for time budget=13sec\n",
      "Num samples: 1146\n",
      "KSD: 0.0121\n",
      "\n",
      "\n",
      "Running for time budget=15sec\n",
      "Num samples: 1004\n",
      "KSD: 0.0120\n",
      "\n",
      "\n",
      "Running for time budget=17sec\n",
      "Num samples: 1115\n",
      "KSD: 0.0121\n",
      "\n",
      "\n",
      "Running for time budget=19sec\n",
      "Num samples: 1278\n",
      "KSD: 0.0128\n",
      "\n",
      "\n",
      "\n",
      "Calculating KSD curve for (-4.76, 0.0016):\n",
      "Running for time budget=5sec\n",
      "Num samples: 355\n",
      "KSD: 0.0123\n",
      "\n",
      "\n",
      "Running for time budget=7sec\n",
      "Num samples: 410\n",
      "KSD: 0.0115\n",
      "\n",
      "\n",
      "Running for time budget=9sec\n",
      "Num samples: 520\n",
      "KSD: 0.0128\n",
      "\n",
      "\n",
      "Running for time budget=11sec\n",
      "Num samples: 690\n",
      "KSD: 0.0125\n",
      "\n",
      "\n",
      "Running for time budget=13sec\n",
      "Num samples: 829\n",
      "KSD: 0.0103\n",
      "\n",
      "\n",
      "Running for time budget=15sec\n",
      "Num samples: 961\n",
      "KSD: 0.0110\n",
      "\n",
      "\n",
      "Running for time budget=17sec\n",
      "Num samples: 1059\n",
      "KSD: 0.0118\n",
      "\n",
      "\n",
      "Running for time budget=19sec\n",
      "Num samples: 1202\n",
      "KSD: 0.0127\n",
      "\n",
      "\n",
      "\n",
      "Calculating KSD curve for (-4.7, 0.028):\n",
      "Running for time budget=5sec\n",
      "Num samples: 84\n",
      "KSD: 0.0174\n",
      "\n",
      "\n",
      "Running for time budget=7sec\n",
      "Num samples: 92\n",
      "KSD: 0.0176\n",
      "\n",
      "\n",
      "Running for time budget=9sec\n",
      "Num samples: 123\n",
      "KSD: 0.0171\n",
      "\n",
      "\n",
      "Running for time budget=11sec\n",
      "Num samples: 162\n",
      "KSD: 0.0156\n",
      "\n",
      "\n",
      "Running for time budget=13sec\n",
      "Num samples: 163\n",
      "KSD: 0.0153\n",
      "\n",
      "\n",
      "Running for time budget=15sec\n",
      "Num samples: 225\n",
      "KSD: 0.0141\n",
      "\n",
      "\n",
      "Running for time budget=17sec\n",
      "Num samples: 246\n",
      "KSD: 0.0146\n",
      "\n",
      "\n",
      "Running for time budget=19sec\n",
      "Num samples: 282\n",
      "KSD: 0.0144\n",
      "\n",
      "\n",
      "Running time: 27.0 min\n"
     ]
    }
   ],
   "source": [
    "# n=90\n",
    "list_params_sgld_10 = [(-5.032, 0.0011), (-4.73, 0.0038), (-4.69, 0.0081),\n",
    "                       (-4.85, 0.0043), (-4.86, 0.050), (-4.85, 0.016),\n",
    "                       (-4.89, 0.0012), (-4.76, 0.0016), (-4.70, 0.028)\n",
    "                     ]\n",
    "\n",
    "list_KSD_curves_sgld_10 = run_many_KSD_curves_sgld(list_params_sgld_10)"
   ]
  },
  {
   "cell_type": "markdown",
   "metadata": {},
   "source": [
    "### load/save ECE curves for SH - 10 sec"
   ]
  },
  {
   "cell_type": "code",
   "execution_count": 34,
   "metadata": {},
   "outputs": [],
   "source": [
    "# n=90\n",
    "# save all KSD curves\n",
    "# for idx, elem in enumerate(list_KSD_curves_sgld_10):\n",
    "#     np.savetxt(f\"outputs/ECE_list/sgld-SH_10-n_90/ksd_curve_{idx}.csv\", elem)\n",
    "\n",
    "# load all KSD curves\n",
    "list_KSD_curves_sgld_10 = []\n",
    "for idx in range(9):\n",
    "    mylist = np.genfromtxt(f\"outputs/ECE_list/sgld-SH_10-n_90/ksd_curve_{idx}.csv\")\n",
    "    list_KSD_curves_sgld_10.append(mylist)"
   ]
  },
  {
   "cell_type": "code",
   "execution_count": null,
   "metadata": {},
   "outputs": [],
   "source": []
  },
  {
   "cell_type": "code",
   "execution_count": 95,
   "metadata": {},
   "outputs": [
    {
     "name": "stdout",
     "output_type": "stream",
     "text": [
      "Running for time budget=5sec\n",
      "Compiling\n",
      "Running\n",
      "Num samples: 21\n",
      "KSD: 0.0232\n",
      "\n",
      "\n",
      "Running for time budget=7sec\n",
      "Compiling\n",
      "Running\n",
      "Num samples: 29\n",
      "KSD: 0.0207\n",
      "\n",
      "\n",
      "Running for time budget=9sec\n",
      "Compiling\n",
      "Running\n",
      "Num samples: 37\n",
      "KSD: 0.0214\n",
      "\n",
      "\n",
      "Running for time budget=11sec\n",
      "Compiling\n",
      "Running\n",
      "Num samples: 44\n",
      "KSD: 0.0228\n",
      "\n",
      "\n",
      "Running for time budget=13sec\n",
      "Compiling\n",
      "Running\n",
      "Num samples: 58\n",
      "KSD: 0.0245\n",
      "\n",
      "\n",
      "Running for time budget=15sec\n",
      "Compiling\n",
      "Running\n",
      "Num samples: 66\n",
      "KSD: 0.0238\n",
      "\n",
      "\n",
      "Running for time budget=17sec\n",
      "Compiling\n",
      "Running\n",
      "Num samples: 77\n",
      "KSD: 0.0234\n",
      "\n",
      "\n",
      "Running for time budget=19sec\n",
      "Compiling\n",
      "Running\n",
      "Num samples: 75\n",
      "KSD: 0.0230\n",
      "\n",
      "\n"
     ]
    }
   ],
   "source": [
    "def sgld_sampler_default(time_budget):\n",
    "    \n",
    "    key = random.PRNGKey(0)\n",
    "    MAP_params = load_NN_MAP()\n",
    "    dt = 10**(-3.5)\n",
    "    batch_size = int(0.1*X_train.shape[0])\n",
    "    samples, _ = sgld_NN_time_budget(key, time_budget, grad_log_post, dt, \n",
    "                                batch_size, MAP_params, X_train, y_train, save_rate=10)\n",
    "    return samples\n",
    "\n",
    "\n",
    "# # ===\n",
    "max_time_budget = 20\n",
    "time_steps = 2\n",
    "thin_step = 2\n",
    "# ksd_list_sgld_default = get_ECE_list_time_budget_NN(max_time_budget, time_steps, \n",
    "#                                                     sgld_sampler_default, thin_step=thin_step)\n",
    "\n",
    "\n",
    "\n",
    "def sgld_sampler_adam(time_budget):\n",
    "    key = random.PRNGKey(0)\n",
    "    dt = 1e-4\n",
    "    batch_size = int(0.1*X_train.shape[0])\n",
    "    params_IC = load_NN_MAP()\n",
    "\n",
    "    samples, _ = sgld_adam_NN_time_budget(key, time_budget, dt, batch_size, \n",
    "                                          X_train, y_train, params_IC, save_rate=10)\n",
    "    return samples\n",
    "\n",
    "\n",
    "# # ===\n",
    "max_time_budget = 20\n",
    "time_steps = 2\n",
    "thin_step = 1\n",
    "\n",
    "# ksd_list_adam = get_ECE_list_time_budget_NN(max_time_budget, time_steps, sgld_sampler_adam, thin_step=thin_step)\n"
   ]
  },
  {
   "cell_type": "markdown",
   "metadata": {},
   "source": [
    "### load/save KSD curves for adam and default samplers"
   ]
  },
  {
   "cell_type": "code",
   "execution_count": 98,
   "metadata": {},
   "outputs": [],
   "source": [
    "# np.savetxt(f\"outputs/ECE_list/ksd_curve_adam.csv\", ksd_list_adam)\n",
    "# np.savetxt(f\"outputs/ECE_list/ksd_curve_sgld_default.csv\", ksd_list_sgld_default)\n",
    "\n",
    "\n",
    "ksd_list_adam = np.genfromtxt(f\"outputs/ECE_list/ksd_curve_adam.csv\")\n",
    "ksd_list_sgld_default = np.genfromtxt(f\"outputs/ECE_list/ksd_curve_sgld_default.csv\")"
   ]
  },
  {
   "cell_type": "code",
   "execution_count": null,
   "metadata": {},
   "outputs": [],
   "source": []
  },
  {
   "cell_type": "markdown",
   "metadata": {},
   "source": [
    "### save KSD list arrays"
   ]
  },
  {
   "cell_type": "code",
   "execution_count": 101,
   "metadata": {},
   "outputs": [
    {
     "data": {
      "text/plain": [
       "<matplotlib.legend.Legend at 0x1576209a0>"
      ]
     },
     "execution_count": 101,
     "metadata": {},
     "output_type": "execute_result"
    },
    {
     "data": {
      "image/png": "[encoded data removed]",
      "text/plain": [
       "<Figure size 576x432 with 1 Axes>"
      ]
     },
     "metadata": {},
     "output_type": "display_data"
    }
   ],
   "source": [
    "plt.rcParams.update({'font.size':17})\n",
    "\n",
    "average_curve_sgld_SH10 = np.mean(np.log(list_KSD_curves_sgld_10), axis=0)\n",
    "std_curve_sgld_SH10 = np.std(np.log(list_KSD_curves_sgld_10), axis=0)\n",
    "\n",
    "\n",
    "\n",
    "max_time_budget = 20\n",
    "\n",
    "plt.figure(figsize=(8, 6))\n",
    "\n",
    "plt.plot(np.arange(5, max_time_budget, 2), average_curve_sgld_SH10, marker=\"+\", markersize=15, \n",
    "         c='r', label=\"SH 10 sec, average\")\n",
    "plt.fill_between(np.arange(5, max_time_budget, 2), average_curve_sgld_SH10+2*std_curve_sgld_SH10, \n",
    "                 average_curve_sgld_SH10-2*std_curve_sgld_SH10, alpha=0.1, color='r')\n",
    "\n",
    "\n",
    "\n",
    "# for elem in list_KSD_curves_sgld_10[:]:\n",
    "#     plt.plot(np.arange(5, max_time_budget, 2), elem, alpha=0.4, marker=\"v\")\n",
    "    \n",
    "plt.plot(np.arange(5, max_time_budget, 2), np.log(ksd_list_sgld_default), marker=\"o\", \n",
    "         label=\"default, noise=1: -3.5, 0.1\", markersize=10)\n",
    "\n",
    "plt.plot(np.arange(5, max_time_budget, 2), np.log(ksd_list_adam), marker=\"v\", \n",
    "         label=\"adam-sgld: -4., 0.1\", markersize=10)\n",
    "\n",
    "\n",
    "plt.title(\"SGLD sampler\", size=23)\n",
    "plt.ylabel(\"log-ECE\", size=19)\n",
    "plt.xlabel(\"time budget (seconds)\", size=19)\n",
    "plt.legend(fontsize=16)\n",
    "# plt.savefig(\"images/NN_sgld_ksd_curves.png\") "
   ]
  },
  {
   "cell_type": "code",
   "execution_count": null,
   "metadata": {},
   "outputs": [],
   "source": []
  },
  {
   "cell_type": "markdown",
   "metadata": {},
   "source": [
    "## uncertainty metrics: ECE and MCE"
   ]
  },
  {
   "cell_type": "markdown",
   "metadata": {},
   "source": [
    "##### 1. sgld-SH"
   ]
  },
  {
   "cell_type": "code",
   "execution_count": 7,
   "metadata": {},
   "outputs": [],
   "source": [
    "time_budget = 200"
   ]
  },
  {
   "cell_type": "code",
   "execution_count": 8,
   "metadata": {},
   "outputs": [
    {
     "name": "stdout",
     "output_type": "stream",
     "text": [
      "Number of samples: 63,300\n"
     ]
    }
   ],
   "source": [
    "key = random.PRNGKey(0)\n",
    "MAP_params = load_NN_MAP()\n",
    "# alternative: -5.48, 0.0050\n",
    "\n",
    "dt = 10**(-5.19)\n",
    "batch_size = int(0.011*X_train.shape[0])\n",
    "samples_SH, _= sgld_NN_time_budget(key, time_budget, grad_log_post, dt, \n",
    "                                batch_size, MAP_params, X_train, y_train, save_rate=10)\n",
    "\n",
    "\n",
    "print(f\"Number of samples: {len(samples_SH)*10:,}\")"
   ]
  },
  {
   "cell_type": "code",
   "execution_count": 12,
   "metadata": {},
   "outputs": [
    {
     "data": {
      "text/plain": [
       "6330"
      ]
     },
     "execution_count": 12,
     "metadata": {},
     "output_type": "execute_result"
    }
   ],
   "source": [
    "len(samples_SH)"
   ]
  },
  {
   "cell_type": "code",
   "execution_count": 13,
   "metadata": {},
   "outputs": [],
   "source": [
    "flat_samples_SH = flatten_NN_params(samples_SH)"
   ]
  },
  {
   "cell_type": "code",
   "execution_count": 14,
   "metadata": {},
   "outputs": [
    {
     "data": {
      "application/vnd.jupyter.widget-view+json": {
       "model_id": "538380ff087d4a77a19444b6599fb436",
       "version_major": 2,
       "version_minor": 0
      },
      "text/plain": [
       "HBox(children=(FloatProgress(value=0.0, max=10.0), HTML(value='')))"
      ]
     },
     "metadata": {},
     "output_type": "display_data"
    },
    {
     "name": "stdout",
     "output_type": "stream",
     "text": [
      "\n",
      "0.014995448303222657 0.1635957\n"
     ]
    },
    {
     "data": {
      "image/png": "[encoded data removed]",
      "text/plain": [
       "<Figure size 432x288 with 1 Axes>"
      ]
     },
     "metadata": {},
     "output_type": "display_data"
    }
   ],
   "source": [
    "\n",
    "\n",
    "ece_NN_SH, mce_NN_SH = get_ECE_MCE(flat_samples_SH[::10], X_test, y_test, M=10)\n",
    "print(ece_NN_SH, mce_NN_SH)\n",
    "\n"
   ]
  },
  {
   "cell_type": "code",
   "execution_count": null,
   "metadata": {},
   "outputs": [],
   "source": []
  },
  {
   "cell_type": "markdown",
   "metadata": {},
   "source": [
    "##### 2. default"
   ]
  },
  {
   "cell_type": "code",
   "execution_count": 16,
   "metadata": {},
   "outputs": [],
   "source": [
    "key = random.PRNGKey(0)\n",
    "MAP_params = load_NN_MAP()\n",
    "dt = 10**(-3.5)\n",
    "batch_size = int(0.1*X_train.shape[0])\n",
    "\n",
    "samples_default, _ = sgld_NN_time_budget(key, time_budget, grad_log_post, dt, \n",
    "                            batch_size, MAP_params, X_train, y_train, save_rate=10)\n",
    "print(len(samples_default))"
   ]
  },
  {
   "cell_type": "code",
   "execution_count": 17,
   "metadata": {},
   "outputs": [],
   "source": [
    "flat_samples_default = flatten_NN_params(samples_default)"
   ]
  },
  {
   "cell_type": "code",
   "execution_count": 18,
   "metadata": {},
   "outputs": [
    {
     "data": {
      "application/vnd.jupyter.widget-view+json": {
       "model_id": "abaadc6cef684c43ae7a323733177f05",
       "version_major": 2,
       "version_minor": 0
      },
      "text/plain": [
       "HBox(children=(FloatProgress(value=0.0, max=10.0), HTML(value='')))"
      ]
     },
     "metadata": {},
     "output_type": "display_data"
    },
    {
     "name": "stdout",
     "output_type": "stream",
     "text": [
      "\n",
      "0.058884771728515625 0.29886198\n"
     ]
    },
    {
     "data": {
      "image/png": "[encoded data removed]",
      "text/plain": [
       "<Figure size 432x288 with 1 Axes>"
      ]
     },
     "metadata": {},
     "output_type": "display_data"
    }
   ],
   "source": [
    "\n",
    "\n",
    "ece_NN_default, mce_NN_default = get_ECE_MCE(flat_samples_default[::10], X_test, y_test, M=10)\n",
    "print(ece_NN_default, mce_NN_default)"
   ]
  },
  {
   "cell_type": "code",
   "execution_count": null,
   "metadata": {},
   "outputs": [],
   "source": []
  },
  {
   "cell_type": "markdown",
   "metadata": {},
   "source": [
    "#### 3. sgld-adam"
   ]
  },
  {
   "cell_type": "code",
   "execution_count": 20,
   "metadata": {},
   "outputs": [
    {
     "name": "stdout",
     "output_type": "stream",
     "text": [
      "Compiling\n",
      "Running\n",
      "Iteration 2000. Time: 34 / 200.0 sec\n",
      "Iteration 4000. Time: 69 / 200.0 sec\n",
      "Iteration 6000. Time: 104 / 200.0 sec\n",
      "Iteration 8000. Time: 140 / 200.0 sec\n",
      "Iteration 10000. Time: 177 / 200.0 sec\n",
      "Number of samples: 1,125\n"
     ]
    }
   ],
   "source": [
    "time_budget = 200.\n",
    "\n",
    "key = random.PRNGKey(0)\n",
    "dt = 1e-5\n",
    "batch_size = int(0.1*X_train.shape[0])\n",
    "params_IC = load_NN_MAP()\n",
    "\n",
    "samples_sgldadam, _ = sgld_adam_NN_time_budget(key, time_budget, dt, batch_size, \n",
    "                                      X_train, y_train, params_IC, save_rate=10)\n",
    "\n",
    "print(f\"Number of samples: {len(samples_sgldadam):,}\")"
   ]
  },
  {
   "cell_type": "code",
   "execution_count": 21,
   "metadata": {},
   "outputs": [],
   "source": [
    "flat_samples_adam = flatten_NN_params(samples_sgldadam)"
   ]
  },
  {
   "cell_type": "code",
   "execution_count": 22,
   "metadata": {},
   "outputs": [
    {
     "data": {
      "application/vnd.jupyter.widget-view+json": {
       "model_id": "0fa24e23a5d745dcba11cf5586c619d2",
       "version_major": 2,
       "version_minor": 0
      },
      "text/plain": [
       "HBox(children=(FloatProgress(value=0.0, max=10.0), HTML(value='')))"
      ]
     },
     "metadata": {},
     "output_type": "display_data"
    },
    {
     "name": "stdout",
     "output_type": "stream",
     "text": [
      "\n",
      "0.01739776611328125 0.14612293\n"
     ]
    },
    {
     "data": {
      "image/png": "[encoded data removed]",
      "text/plain": [
       "<Figure size 432x288 with 1 Axes>"
      ]
     },
     "metadata": {},
     "output_type": "display_data"
    }
   ],
   "source": [
    "ece_NN_adam, mce_NN_adam = get_ECE_MCE(flat_samples_adam[::10], X_test, y_test, M=10)\n",
    "print(ece_NN_adam, mce_NN_adam)\n",
    "\n"
   ]
  },
  {
   "cell_type": "code",
   "execution_count": 23,
   "metadata": {},
   "outputs": [
    {
     "name": "stdout",
     "output_type": "stream",
     "text": [
      "ECE: \n",
      "\n",
      "SH: 0.0150\n",
      "default: 0.0589\n",
      "adam: 0.0174\n",
      "\n",
      "===\n",
      "MCE: \n",
      "\n",
      "SH: 0.1636\n",
      "default: 0.2989\n",
      "adam: 0.1461\n"
     ]
    }
   ],
   "source": [
    "# key = 0 for all samplers\n",
    "print(\"ECE: \\n\")\n",
    "print(f\"SH: {ece_NN_SH:.4f}\")\n",
    "print(f\"default: {ece_NN_default:.4f}\")\n",
    "print(f\"adam: {ece_NN_adam:.4f}\")\n",
    "\n",
    "print(\"\\n===\\nMCE: \\n\")\n",
    "print(f\"SH: {mce_NN_SH:.4f}\")\n",
    "print(f\"default: {mce_NN_default:.4f}\")\n",
    "print(f\"adam: {mce_NN_adam:.4f}\")"
   ]
  },
  {
   "cell_type": "code",
   "execution_count": null,
   "metadata": {},
   "outputs": [],
   "source": []
  },
  {
   "cell_type": "code",
   "execution_count": null,
   "metadata": {},
   "outputs": [],
   "source": []
  },
  {
   "cell_type": "code",
   "execution_count": null,
   "metadata": {},
   "outputs": [],
   "source": []
  },
  {
   "cell_type": "code",
   "execution_count": null,
   "metadata": {},
   "outputs": [],
   "source": []
  },
  {
   "cell_type": "code",
   "execution_count": null,
   "metadata": {},
   "outputs": [],
   "source": []
  },
  {
   "cell_type": "code",
   "execution_count": null,
   "metadata": {},
   "outputs": [],
   "source": []
  },
  {
   "cell_type": "code",
   "execution_count": null,
   "metadata": {},
   "outputs": [],
   "source": []
  },
  {
   "cell_type": "code",
   "execution_count": null,
   "metadata": {},
   "outputs": [],
   "source": []
  },
  {
   "cell_type": "markdown",
   "metadata": {},
   "source": [
    "# ECE curves: svrg\n",
    "\n",
    "_Tune step size and batch size_\n",
    "\n",
    "#### R = 15sec with n=90\n",
    "\n",
    "\n",
    "`key=0`:\n",
    "- v1: -4.73, 0.0038\n",
    "- v2: -5.032, 0.0011\n",
    "- v3: -4.69, 0.0081\n",
    "\n",
    "`key=1`:\n",
    "- v4: -4.85, 0.0043\n",
    "- v5: -4.85, 0.016\n",
    "- v6: -5.31, 0.0033\n",
    "\n",
    "`key=2`:\n",
    "- v7: -4.76, 0.0016\n",
    "- v8: -4.89, 0.0012\n",
    "- v9: -4.66, 0.061\n",
    "\n",
    " "
   ]
  },
  {
   "cell_type": "code",
   "execution_count": 48,
   "metadata": {},
   "outputs": [],
   "source": [
    "def run_many_KSD_curves_svrg(list_params):\n",
    "    list_KSD_curves = []\n",
    "    \n",
    "    starttime = time.time()\n",
    "    for log_dt, b_s_r in list_params:\n",
    "        print(f\"\\nCalculating ECE curve for {log_dt, b_s_r}:\")\n",
    "        def run_svrg_sampler(time_budget):\n",
    "            key = random.PRNGKey(0)\n",
    "            update_rate = 1000\n",
    "            MAP_params = load_NN_MAP()\n",
    "            dt = 10**(log_dt)\n",
    "            batch_size = int(b_s_r*X_train.shape[0])\n",
    "            samples = sgld_NN_time_budget_svrg(key, time_budget, dt, batch_size, \n",
    "                                           MAP_params, update_rate, save_rate=10)\n",
    "            return samples\n",
    "        \n",
    "        # ===\n",
    "        max_time_budget =  20\n",
    "        time_steps = 2\n",
    "        thin_step = 2\n",
    "        \n",
    "        \n",
    "        ksd_list_sgld_SH = get_ECE_list_time_budget_NN(max_time_budget, time_steps, \n",
    "                                                        run_svrg_sampler, thin_step=thin_step)\n",
    "        list_KSD_curves.append(ksd_list_sgld_SH)\n",
    "    print(f\"Running time: {(time.time()-starttime)/60:.1f} min\")\n",
    "    return list_KSD_curves"
   ]
  },
  {
   "cell_type": "code",
   "execution_count": 49,
   "metadata": {
    "collapsed": true
   },
   "outputs": [
    {
     "name": "stdout",
     "output_type": "stream",
     "text": [
      "\n",
      "Calculating ECE curve for (-4.73, 0.0038):\n",
      "Running for time budget=5sec\n",
      "Num samples: 43\n",
      "KSD: 0.0153\n",
      "\n",
      "\n",
      "Running for time budget=7sec\n",
      "Num samples: 77\n",
      "KSD: 0.0141\n",
      "\n",
      "\n",
      "Running for time budget=9sec\n",
      "Num samples: 105\n",
      "KSD: 0.0138\n",
      "\n",
      "\n",
      "Running for time budget=11sec\n",
      "Num samples: 141\n",
      "KSD: 0.0131\n",
      "\n",
      "\n",
      "Running for time budget=13sec\n",
      "Num samples: 172\n",
      "KSD: 0.0129\n",
      "\n",
      "\n",
      "Running for time budget=15sec\n",
      "Num samples: 181\n",
      "KSD: 0.0131\n",
      "\n",
      "\n",
      "Running for time budget=17sec\n",
      "Num samples: 247\n",
      "KSD: 0.0125\n",
      "\n",
      "\n",
      "Running for time budget=19sec\n",
      "Num samples: 235\n",
      "KSD: 0.0133\n",
      "\n",
      "\n",
      "\n",
      "Calculating ECE curve for (-5.032, 0.0011):\n",
      "Running for time budget=5sec\n",
      "Num samples: 44\n",
      "KSD: 0.0174\n",
      "\n",
      "\n",
      "Running for time budget=7sec\n",
      "Num samples: 72\n",
      "KSD: 0.0142\n",
      "\n",
      "\n",
      "Running for time budget=9sec\n",
      "Num samples: 76\n",
      "KSD: 0.0142\n",
      "\n",
      "\n",
      "Running for time budget=11sec\n",
      "Num samples: 90\n",
      "KSD: 0.0139\n",
      "\n",
      "\n",
      "Running for time budget=13sec\n",
      "Num samples: 95\n",
      "KSD: 0.0138\n",
      "\n",
      "\n",
      "Running for time budget=15sec\n",
      "Num samples: 117\n",
      "KSD: 0.0127\n",
      "\n",
      "\n",
      "Running for time budget=17sec\n",
      "Num samples: 107\n",
      "KSD: 0.0137\n",
      "\n",
      "\n",
      "Running for time budget=19sec\n",
      "Num samples: 204\n",
      "KSD: 0.0118\n",
      "\n",
      "\n",
      "\n",
      "Calculating ECE curve for (-4.69, 0.0081):\n",
      "Running for time budget=5sec\n",
      "Num samples: 50\n",
      "KSD: 0.0171\n",
      "\n",
      "\n",
      "Running for time budget=7sec\n",
      "Num samples: 67\n",
      "KSD: 0.0154\n",
      "\n",
      "\n",
      "Running for time budget=9sec\n",
      "Num samples: 92\n",
      "KSD: 0.0151\n",
      "\n",
      "\n",
      "Running for time budget=11sec\n",
      "Num samples: 106\n",
      "KSD: 0.0149\n",
      "\n",
      "\n",
      "Running for time budget=13sec\n",
      "Num samples: 80\n",
      "KSD: 0.0151\n",
      "\n",
      "\n",
      "Running for time budget=15sec\n",
      "Num samples: 121\n",
      "KSD: 0.0156\n",
      "\n",
      "\n",
      "Running for time budget=17sec\n",
      "Num samples: 133\n",
      "KSD: 0.0157\n",
      "\n",
      "\n",
      "Running for time budget=19sec\n",
      "Num samples: 108\n",
      "KSD: 0.0150\n",
      "\n",
      "\n",
      "\n",
      "Calculating ECE curve for (-4.85, 0.0043):\n",
      "Running for time budget=5sec\n",
      "Num samples: 31\n",
      "KSD: 0.0182\n",
      "\n",
      "\n",
      "Running for time budget=7sec\n",
      "Num samples: 66\n",
      "KSD: 0.0170\n",
      "\n",
      "\n",
      "Running for time budget=9sec\n",
      "Num samples: 112\n",
      "KSD: 0.0161\n",
      "\n",
      "\n",
      "Running for time budget=11sec\n",
      "Num samples: 122\n",
      "KSD: 0.0156\n",
      "\n",
      "\n",
      "Running for time budget=13sec\n",
      "Num samples: 148\n",
      "KSD: 0.0156\n",
      "\n",
      "\n",
      "Running for time budget=15sec\n",
      "Num samples: 133\n",
      "KSD: 0.0158\n",
      "\n",
      "\n",
      "Running for time budget=17sec\n",
      "Num samples: 180\n",
      "KSD: 0.0153\n",
      "\n",
      "\n",
      "Running for time budget=19sec\n",
      "Num samples: 215\n",
      "KSD: 0.0150\n",
      "\n",
      "\n",
      "\n",
      "Calculating ECE curve for (-4.85, 0.016):\n",
      "Running for time budget=5sec\n",
      "Num samples: 26\n",
      "KSD: 0.0200\n",
      "\n",
      "\n",
      "Running for time budget=7sec\n",
      "Num samples: 30\n",
      "KSD: 0.0194\n",
      "\n",
      "\n",
      "Running for time budget=9sec\n",
      "Num samples: 43\n",
      "KSD: 0.0183\n",
      "\n",
      "\n",
      "Running for time budget=11sec\n",
      "Num samples: 87\n",
      "KSD: 0.0169\n",
      "\n",
      "\n",
      "Running for time budget=13sec\n",
      "Num samples: 76\n",
      "KSD: 0.0176\n",
      "\n",
      "\n",
      "Running for time budget=15sec\n",
      "Num samples: 138\n",
      "KSD: 0.0167\n",
      "\n",
      "\n",
      "Running for time budget=17sec\n",
      "Num samples: 162\n",
      "KSD: 0.0173\n",
      "\n",
      "\n",
      "Running for time budget=19sec\n",
      "Num samples: 173\n",
      "KSD: 0.0167\n",
      "\n",
      "\n",
      "\n",
      "Calculating ECE curve for (-5.31, 0.0033):\n",
      "Running for time budget=5sec\n",
      "Num samples: 70\n",
      "KSD: 0.0186\n",
      "\n",
      "\n",
      "Running for time budget=7sec\n",
      "Num samples: 49\n",
      "KSD: 0.0188\n",
      "\n",
      "\n",
      "Running for time budget=9sec\n",
      "Num samples: 106\n",
      "KSD: 0.0187\n",
      "\n",
      "\n",
      "Running for time budget=11sec\n",
      "Num samples: 164\n",
      "KSD: 0.0186\n",
      "\n",
      "\n",
      "Running for time budget=13sec\n",
      "Num samples: 189\n",
      "KSD: 0.0182\n",
      "\n",
      "\n",
      "Running for time budget=15sec\n",
      "Num samples: 207\n",
      "KSD: 0.0181\n",
      "\n",
      "\n",
      "Running for time budget=17sec\n",
      "Num samples: 192\n",
      "KSD: 0.0183\n",
      "\n",
      "\n",
      "Running for time budget=19sec\n",
      "Num samples: 271\n",
      "KSD: 0.0176\n",
      "\n",
      "\n",
      "\n",
      "Calculating ECE curve for (-4.76, 0.0016):\n",
      "Running for time budget=5sec\n",
      "Num samples: 90\n",
      "KSD: 0.0115\n",
      "\n",
      "\n",
      "Running for time budget=7sec\n",
      "Num samples: 113\n",
      "KSD: 0.0103\n",
      "\n",
      "\n",
      "Running for time budget=9sec\n",
      "Num samples: 145\n",
      "KSD: 0.0111\n",
      "\n",
      "\n",
      "Running for time budget=11sec\n",
      "Num samples: 184\n",
      "KSD: 0.0109\n",
      "\n",
      "\n",
      "Running for time budget=13sec\n",
      "Num samples: 197\n",
      "KSD: 0.0112\n",
      "\n",
      "\n",
      "Running for time budget=15sec\n",
      "Num samples: 245\n",
      "KSD: 0.0120\n",
      "\n",
      "\n",
      "Running for time budget=17sec\n",
      "Num samples: 260\n",
      "KSD: 0.0119\n",
      "\n",
      "\n",
      "Running for time budget=19sec\n",
      "Num samples: 308\n",
      "KSD: 0.0121\n",
      "\n",
      "\n",
      "\n",
      "Calculating ECE curve for (-4.89, 0.0012):\n",
      "Running for time budget=5sec\n",
      "Num samples: 88\n",
      "KSD: 0.0127\n",
      "\n",
      "\n",
      "Running for time budget=7sec\n",
      "Num samples: 118\n",
      "KSD: 0.0124\n",
      "\n",
      "\n",
      "Running for time budget=9sec\n",
      "Num samples: 130\n",
      "KSD: 0.0124\n",
      "\n",
      "\n",
      "Running for time budget=11sec\n",
      "Num samples: 181\n",
      "KSD: 0.0108\n",
      "\n",
      "\n",
      "Running for time budget=13sec\n",
      "Num samples: 214\n",
      "KSD: 0.0109\n",
      "\n",
      "\n",
      "Running for time budget=15sec\n",
      "Num samples: 232\n",
      "KSD: 0.0109\n",
      "\n",
      "\n",
      "Running for time budget=17sec\n",
      "Num samples: 244\n",
      "KSD: 0.0111\n",
      "\n",
      "\n",
      "Running for time budget=19sec\n",
      "Num samples: 271\n",
      "KSD: 0.0107\n",
      "\n",
      "\n",
      "\n",
      "Calculating ECE curve for (-4.66, 0.061):\n",
      "Running for time budget=5sec\n",
      "Num samples: 14\n",
      "KSD: 0.0195\n",
      "\n",
      "\n",
      "Running for time budget=7sec\n",
      "Num samples: 25\n",
      "KSD: 0.0192\n",
      "\n",
      "\n",
      "Running for time budget=9sec\n",
      "Num samples: 31\n",
      "KSD: 0.0183\n",
      "\n",
      "\n",
      "Running for time budget=11sec\n",
      "Num samples: 38\n",
      "KSD: 0.0180\n",
      "\n",
      "\n",
      "Running for time budget=13sec\n",
      "Num samples: 44\n",
      "KSD: 0.0180\n",
      "\n",
      "\n",
      "Running for time budget=15sec\n",
      "Num samples: 37\n",
      "KSD: 0.0180\n",
      "\n",
      "\n",
      "Running for time budget=17sec\n",
      "Num samples: 59\n",
      "KSD: 0.0181\n",
      "\n",
      "\n",
      "Running for time budget=19sec\n",
      "Num samples: 70\n",
      "KSD: 0.0171\n",
      "\n",
      "\n",
      "Running time: 19.4 min\n"
     ]
    }
   ],
   "source": [
    "# n=120\n",
    "list_params_svrg_10 = [(-4.73, 0.0038), (-5.032, 0.0011), (-4.69, 0.0081),\n",
    "                       (-4.85, 0.0043), (-4.85, 0.016), (-5.31, 0.0033), \n",
    "                       (-4.76, 0.0016), (-4.89, 0.0012), (-4.66, 0.061)\n",
    "                      ]\n",
    "\n",
    "\n",
    "# list_KSD_curves_svrg_10 = run_many_KSD_curves_svrg(list_params_svrg_10)\n"
   ]
  },
  {
   "cell_type": "code",
   "execution_count": null,
   "metadata": {},
   "outputs": [],
   "source": []
  },
  {
   "cell_type": "code",
   "execution_count": 51,
   "metadata": {},
   "outputs": [],
   "source": [
    "# n=120\n",
    "# save all KSD curves\n",
    "# for idx, elem in enumerate(list_KSD_curves_svrg_10):\n",
    "#     np.savetxt(f\"outputs/ECE_list/svrg-SH_15-n_90/ksd_curve_{idx}.csv\", elem)\n",
    "\n",
    "# load all KSD curves\n",
    "list_KSD_curves_svrg_10 = []\n",
    "for idx in range(9):\n",
    "    mylist = np.genfromtxt(f\"outputs/ECE_list/svrg-SH_15-n_90/ksd_curve_{idx}.csv\")\n",
    "    list_KSD_curves_svrg_10.append(mylist)\n",
    "    \n",
    "    "
   ]
  },
  {
   "cell_type": "code",
   "execution_count": null,
   "metadata": {},
   "outputs": [],
   "source": []
  },
  {
   "cell_type": "code",
   "execution_count": 85,
   "metadata": {},
   "outputs": [
    {
     "name": "stdout",
     "output_type": "stream",
     "text": [
      "Running for time budget=5sec\n",
      "Num samples: 16\n",
      "KSD: 0.2286\n",
      "\n",
      "\n",
      "Running for time budget=7sec\n",
      "Num samples: 23\n",
      "KSD: 0.2291\n",
      "\n",
      "\n",
      "Running for time budget=9sec\n",
      "Num samples: 29\n",
      "KSD: 0.2804\n",
      "\n",
      "\n",
      "Running for time budget=11sec\n",
      "Num samples: 33\n",
      "KSD: 0.2853\n",
      "\n",
      "\n",
      "Running for time budget=13sec\n",
      "Num samples: 37\n",
      "KSD: 0.3261\n",
      "\n",
      "\n",
      "Running for time budget=15sec\n",
      "Num samples: 35\n",
      "KSD: 0.3329\n",
      "\n",
      "\n",
      "Running for time budget=17sec\n",
      "Num samples: 40\n",
      "KSD: 0.3209\n",
      "\n",
      "\n",
      "Running for time budget=19sec\n",
      "Num samples: 39\n",
      "KSD: 0.3209\n",
      "\n",
      "\n"
     ]
    }
   ],
   "source": [
    "def svrg_sampler_default(time_budget):\n",
    "    key = random.PRNGKey(0)\n",
    "    MAP_params = load_NN_MAP()\n",
    "    dt = 10**(-3.25)\n",
    "    batch_size = int(0.1*X_train.shape[0])\n",
    "    update_rate = 1000\n",
    "    samples = sgld_NN_time_budget_svrg(key, time_budget, dt, batch_size, \n",
    "                                           MAP_params, update_rate, save_rate=10)\n",
    "    return samples\n",
    "\n",
    "\n",
    "# ===\n",
    "max_time_budget = 20\n",
    "time_steps = 2\n",
    "thin_step = 2\n",
    "# ksd_list_svrg_default = get_ECE_list_time_budget_NN(max_time_budget, time_steps, \n",
    "#                                                     svrg_sampler_default, thin_step=thin_step)\n",
    "\n"
   ]
  },
  {
   "cell_type": "code",
   "execution_count": 89,
   "metadata": {},
   "outputs": [],
   "source": [
    "# np.savetxt(f\"outputs/ECE_list/ksd_curve_svrg_default.csv\", ksd_list_svrg_default)\n",
    "\n",
    "ksd_list_svrg_default = np.genfromtxt(f\"outputs/ECE_list/ksd_curve_svrg_default.csv\")\n"
   ]
  },
  {
   "cell_type": "code",
   "execution_count": null,
   "metadata": {},
   "outputs": [],
   "source": []
  },
  {
   "cell_type": "code",
   "execution_count": null,
   "metadata": {},
   "outputs": [],
   "source": []
  },
  {
   "cell_type": "code",
   "execution_count": 94,
   "metadata": {},
   "outputs": [
    {
     "data": {
      "text/plain": [
       "<matplotlib.legend.Legend at 0x1573a9160>"
      ]
     },
     "execution_count": 94,
     "metadata": {},
     "output_type": "execute_result"
    },
    {
     "data": {
      "image/png": "[encoded data removed]",
      "text/plain": [
       "<Figure size 576x432 with 1 Axes>"
      ]
     },
     "metadata": {},
     "output_type": "display_data"
    }
   ],
   "source": [
    "plt.rcParams.update({'font.size':17})\n",
    "\n",
    "average_curve_svrg_SH10 = np.mean(list_KSD_curves_svrg_10, axis=0)\n",
    "std_curve_svrg_SH10 = np.std(list_KSD_curves_svrg_10, axis=0)\n",
    "\n",
    "\n",
    "\n",
    "max_time_budget = 20\n",
    "\n",
    "plt.figure(figsize=(8, 6))\n",
    "\n",
    "plt.plot(np.arange(5, max_time_budget, 2), average_curve_svrg_SH10, marker=\"+\", markersize=15, \n",
    "         c='r', label=\"SH 10 sec, average\")\n",
    "plt.fill_between(np.arange(5, max_time_budget, 2), average_curve_svrg_SH10+2*std_curve_svrg_SH10, \n",
    "                 average_curve_svrg_SH10-2*std_curve_svrg_SH10, alpha=0.1, color='r')\n",
    "\n",
    "\n",
    "\n",
    "# for elem in list_KSD_curves_svrg_10[:]:\n",
    "#     plt.plot(np.arange(5, max_time_budget, 2), elem, alpha=0.4, marker=\"v\")\n",
    "    \n",
    "plt.plot(np.arange(5, max_time_budget, 2), ksd_list_svrg_default, marker=\"o\", label=\"default, noise=1: -3.75, 0.1, 2001\", markersize=10)\n",
    "\n",
    "\n",
    "plt.title(\"SVRG sampler\", size=23)\n",
    "plt.ylabel(\"KSD\", size=19)\n",
    "plt.xlabel(\"time budget (seconds)\", size=19)\n",
    "plt.legend(fontsize=16)\n",
    "# plt.savefig(\"images/NN_svrg_ksd_curves.png\") "
   ]
  },
  {
   "cell_type": "code",
   "execution_count": null,
   "metadata": {},
   "outputs": [],
   "source": []
  },
  {
   "cell_type": "code",
   "execution_count": null,
   "metadata": {},
   "outputs": [],
   "source": []
  },
  {
   "cell_type": "markdown",
   "metadata": {},
   "source": [
    "## ECE and MCE\n"
   ]
  },
  {
   "cell_type": "markdown",
   "metadata": {},
   "source": [
    "#### SH"
   ]
  },
  {
   "cell_type": "code",
   "execution_count": 9,
   "metadata": {},
   "outputs": [],
   "source": [
    "time_budget = 200\n",
    "\n",
    "log_dt, b_s_r, update_rate = -5.12, 0.011, 3074\n",
    "\n",
    "key = random.PRNGKey(0)\n",
    "MAP_params = load_NN_MAP()\n",
    "dt = 10**(log_dt)\n",
    "batch_size = int(b_s_r*X_train.shape[0])\n",
    "samples_svrg_SH = sgld_NN_time_budget_svrg(key, time_budget, dt, batch_size, \n",
    "                               MAP_params, update_rate, save_rate=10)"
   ]
  },
  {
   "cell_type": "markdown",
   "metadata": {},
   "source": [
    "#### default"
   ]
  },
  {
   "cell_type": "code",
   "execution_count": 10,
   "metadata": {},
   "outputs": [],
   "source": [
    "time_budget = 200\n",
    "\n",
    "log_dt, b_s_r, update_rate = -4., 0.1, 2001\n",
    "\n",
    "key = random.PRNGKey(0)\n",
    "MAP_params = load_NN_MAP()\n",
    "dt = 10**(log_dt)\n",
    "batch_size = int(b_s_r*X_train.shape[0])\n",
    "samples_svrg_default = sgld_NN_time_budget_svrg(key, time_budget, dt, batch_size, \n",
    "                               MAP_params, update_rate, save_rate=10)"
   ]
  },
  {
   "cell_type": "markdown",
   "metadata": {},
   "source": [
    "#### calculate ECE"
   ]
  },
  {
   "cell_type": "code",
   "execution_count": 11,
   "metadata": {},
   "outputs": [],
   "source": [
    "flat_samples_svrg_SH = flatten_NN_params(samples_svrg_SH)\n",
    "flat_samples_svrg_default = flatten_NN_params(samples_svrg_default)\n"
   ]
  },
  {
   "cell_type": "code",
   "execution_count": 12,
   "metadata": {},
   "outputs": [
    {
     "data": {
      "application/vnd.jupyter.widget-view+json": {
       "model_id": "45710d8c96d7494997c57c98165ba382",
       "version_major": 2,
       "version_minor": 0
      },
      "text/plain": [
       "HBox(children=(FloatProgress(value=0.0, max=10.0), HTML(value='')))"
      ]
     },
     "metadata": {},
     "output_type": "display_data"
    },
    {
     "name": "stdout",
     "output_type": "stream",
     "text": [
      "\n",
      "0.014479922485351562 0.19471467\n"
     ]
    }
   ],
   "source": [
    "ece_NN_svrg_SH, mce_NN_svrg_SH = get_ECE_MCE(flat_samples_svrg_SH[::10], X_test, y_test, M=10)\n",
    "print(ece_NN_svrg_SH, mce_NN_svrg_SH)\n",
    "\n"
   ]
  },
  {
   "cell_type": "code",
   "execution_count": 13,
   "metadata": {},
   "outputs": [
    {
     "data": {
      "application/vnd.jupyter.widget-view+json": {
       "model_id": "3cae93249e584c7cbbbe1b9f99f6cbc3",
       "version_major": 2,
       "version_minor": 0
      },
      "text/plain": [
       "HBox(children=(FloatProgress(value=0.0, max=10.0), HTML(value='')))"
      ]
     },
     "metadata": {},
     "output_type": "display_data"
    },
    {
     "name": "stdout",
     "output_type": "stream",
     "text": [
      "\n",
      "0.03303507690429688 0.27398396\n"
     ]
    }
   ],
   "source": [
    "ece_NN_svrg_default, mce_NN_svrg_default = get_ECE_MCE(flat_samples_svrg_default[::10], X_test, y_test, M=10)\n",
    "print(ece_NN_svrg_default, mce_NN_svrg_default)\n",
    "\n"
   ]
  },
  {
   "cell_type": "code",
   "execution_count": 14,
   "metadata": {},
   "outputs": [
    {
     "name": "stdout",
     "output_type": "stream",
     "text": [
      "ECE: \n",
      "\n",
      "SH: 0.0145\n",
      "default: 0.0330\n",
      "\n",
      "===\n",
      "MCE: \n",
      "\n",
      "SH: 0.1947\n",
      "default: 0.2740\n"
     ]
    }
   ],
   "source": [
    "# key = 0 for all samplers\n",
    "print(\"ECE: \\n\")\n",
    "print(f\"SH: {ece_NN_svrg_SH:.4f}\")\n",
    "print(f\"default: {ece_NN_svrg_default:.4f}\")\n",
    "\n",
    "print(\"\\n===\\nMCE: \\n\")\n",
    "print(f\"SH: {mce_NN_svrg_SH:.4f}\")\n",
    "print(f\"default: {mce_NN_svrg_default:.4f}\")\n"
   ]
  },
  {
   "cell_type": "markdown",
   "metadata": {},
   "source": [
    "### OOD testing"
   ]
  },
  {
   "cell_type": "code",
   "execution_count": 15,
   "metadata": {},
   "outputs": [],
   "source": [
    "from examples.bayesian_NN.NN_model import _ood_testing\n",
    "from examples.bayesian_NN.NN_data import X_train_notMNIST, X_test_notMNIST, y_train_notMNIST, y_test_notMNIST"
   ]
  },
  {
   "cell_type": "code",
   "execution_count": 19,
   "metadata": {},
   "outputs": [],
   "source": [
    "ood_samples_SH_KSD = _ood_testing(flat_samples_svrg_SH[::5], X_test_notMNIST[::5])\n",
    "\n",
    "wait_until_computed(ood_samples_SH_KSD)"
   ]
  },
  {
   "cell_type": "code",
   "execution_count": 20,
   "metadata": {},
   "outputs": [],
   "source": [
    "ood_samples_default = _ood_testing(flat_samples_svrg_default[::5], X_test_notMNIST[::5])\n",
    "\n",
    "wait_until_computed(ood_samples_default)"
   ]
  },
  {
   "cell_type": "code",
   "execution_count": null,
   "metadata": {},
   "outputs": [],
   "source": []
  },
  {
   "cell_type": "code",
   "execution_count": 21,
   "metadata": {},
   "outputs": [],
   "source": [
    "sorted_ood_SH_KSD = sorted(ood_samples_SH_KSD)\n",
    "sorted_ood_default = sorted(ood_samples_default)\n"
   ]
  },
  {
   "cell_type": "code",
   "execution_count": 25,
   "metadata": {},
   "outputs": [
    {
     "data": {
      "image/png": "[encoded data removed]",
      "text/plain": [
       "<Figure size 720x576 with 1 Axes>"
      ]
     },
     "metadata": {},
     "output_type": "display_data"
    }
   ],
   "source": [
    "thin_step = 50\n",
    "\n",
    "y_range = np.linspace(0, 1, (len(sorted_ood_SH_KSD)))[::thin_step]\n",
    "plt.figure(figsize=(10,8))\n",
    "\n",
    "\n",
    "\n",
    "plt.plot(sorted_ood_SH_KSD[::thin_step], y_range, \n",
    "         label=r\"SH-KSD method: log(dt), b_s_r, update: (-5.12, 0.011, 3074)$\", marker=\"o\", markersize=10)\n",
    "\n",
    "\n",
    "plt.plot(sorted_ood_default[::thin_step], y_range, \n",
    "         label=r\"default: log(dt), b_s_r, update: -4., 0.1, 2001$\", marker=\"<\", markersize=10)\n",
    "\n",
    "\n",
    "plt.title(\"SVRG: CDF of predictive entropy for default and SH method\", size=20)\n",
    "plt.tight_layout()\n",
    "plt.legend()\n",
    "plt.xlabel(\"Entropy\", size=20)\n",
    "plt.ylabel(\"Empirical CDF\", size=20)\n",
    "plt.tight_layout()\n",
    "# plt.savefig(\"NN_notMSNIST_sgld_default_SH.png\")"
   ]
  },
  {
   "cell_type": "code",
   "execution_count": null,
   "metadata": {},
   "outputs": [],
   "source": []
  },
  {
   "cell_type": "code",
   "execution_count": null,
   "metadata": {},
   "outputs": [],
   "source": []
  },
  {
   "cell_type": "markdown",
   "metadata": {},
   "source": [
    "# sghmc\n",
    "\n",
    "#### R = 30sec, with n=120, thin_step=5\n",
    "\n",
    "\n",
    "`key=0`:\n",
    "- v1: -5.98, 0.028, 7\n",
    "- v2: -6.05, 0.0017, 6\n",
    "- v3: -6.42, 0.001, 7\n",
    "\n",
    "`key=1`:\n",
    "- v4: -5.46, 0.0013, 3\n",
    "- v5: -6.45, 0.035, 27\n",
    "- v6: -6.33, 0.0023, 9\n",
    "\n",
    "`key=2`:\n",
    "- v7: -6.56, 0.0033, 14\n",
    "- v8: -6.66, 0.0053, 29\n",
    "- v9: -6.99, 0.0043, 17\n",
    "\n",
    " "
   ]
  },
  {
   "cell_type": "code",
   "execution_count": 55,
   "metadata": {},
   "outputs": [],
   "source": [
    "from examples.bayesian_NN.sghmc import sghmc_NN_time_budget"
   ]
  },
  {
   "cell_type": "code",
   "execution_count": 56,
   "metadata": {},
   "outputs": [
    {
     "name": "stdout",
     "output_type": "stream",
     "text": [
      "2\n"
     ]
    }
   ],
   "source": [
    "time_budget = 1\n",
    "\n",
    "key = random.PRNGKey(1)\n",
    "dt = 1e-5\n",
    "batch_size = int(X_train.shape[0]*0.05)\n",
    "params = load_NN_MAP()\n",
    "L = 10\n",
    "\n",
    "samples = sghmc_NN_time_budget(key, time_budget, dt, batch_size, \n",
    "                                                 params, L, save_rate=10)\n",
    "\n",
    "print(len(samples))"
   ]
  },
  {
   "cell_type": "code",
   "execution_count": null,
   "metadata": {},
   "outputs": [],
   "source": []
  },
  {
   "cell_type": "code",
   "execution_count": 57,
   "metadata": {},
   "outputs": [],
   "source": [
    "def run_many_KSD_curves_sghmc(list_params):\n",
    "    list_KSD_curves = []\n",
    "    \n",
    "    starttime = time.time()\n",
    "    for log_dt, b_s_r, L in list_params:\n",
    "        print(f\"\\nCalculating KSD curve for {log_dt, b_s_r, L}:\")\n",
    "        def run_sghmc_sampler(time_budget):\n",
    "            key = random.PRNGKey(0)\n",
    "            MAP_params = load_NN_MAP()\n",
    "            dt = 10**(log_dt)\n",
    "            batch_size = int(b_s_r*X_train.shape[0])\n",
    "            samples = sghmc_NN_time_budget(key, time_budget, dt, batch_size, \n",
    "                                                 MAP_params, L, save_rate=4)\n",
    "            return samples\n",
    "        \n",
    "        # ===\n",
    "        max_time_budget =  30\n",
    "        time_steps = 2\n",
    "        thin_step = 2\n",
    "        \n",
    "        ksd_list_sgld_SH = get_ECE_list_time_budget_NN(max_time_budget, time_steps, \n",
    "                                                        run_sghmc_sampler, thin_step=thin_step, start_time=15)\n",
    "        list_KSD_curves.append(ksd_list_sgld_SH)\n",
    "    print(f\"Running time: {(time.time()-starttime)/60:.1f} min\")\n",
    "    return list_KSD_curves"
   ]
  },
  {
   "cell_type": "code",
   "execution_count": 58,
   "metadata": {
    "collapsed": true
   },
   "outputs": [
    {
     "name": "stdout",
     "output_type": "stream",
     "text": [
      "\n",
      "Calculating KSD curve for (-5.98, 0.028, 7):\n",
      "Running for time budget=15sec\n",
      "Num samples: 113\n",
      "KSD: 0.0139\n",
      "\n",
      "\n",
      "Running for time budget=17sec\n",
      "Num samples: 105\n",
      "KSD: 0.0150\n",
      "\n",
      "\n",
      "Running for time budget=19sec\n",
      "Num samples: 121\n",
      "KSD: 0.0139\n",
      "\n",
      "\n",
      "Running for time budget=21sec\n",
      "Num samples: 122\n",
      "KSD: 0.0139\n",
      "\n",
      "\n",
      "Running for time budget=23sec\n",
      "Num samples: 146\n",
      "KSD: 0.0128\n",
      "\n",
      "\n",
      "Running for time budget=25sec\n",
      "Num samples: 160\n",
      "KSD: 0.0127\n",
      "\n",
      "\n",
      "Running for time budget=27sec\n",
      "Num samples: 175\n",
      "KSD: 0.0134\n",
      "\n",
      "\n",
      "Running for time budget=29sec\n",
      "Num samples: 193\n",
      "KSD: 0.0130\n",
      "\n",
      "\n",
      "\n",
      "Calculating KSD curve for (-6.05, 0.0017, 6):\n",
      "Running for time budget=15sec\n",
      "Num samples: 539\n",
      "KSD: 0.0101\n",
      "\n",
      "\n",
      "Running for time budget=17sec\n",
      "Num samples: 479\n",
      "KSD: 0.0106\n",
      "\n",
      "\n",
      "Running for time budget=19sec\n",
      "Num samples: 346\n",
      "KSD: 0.0120\n",
      "\n",
      "\n",
      "Running for time budget=21sec\n",
      "Num samples: 589\n",
      "KSD: 0.0100\n",
      "\n",
      "\n",
      "Running for time budget=23sec\n",
      "Num samples: 679\n",
      "KSD: 0.0091\n",
      "\n",
      "\n",
      "Running for time budget=25sec\n",
      "Num samples: 694\n",
      "KSD: 0.0095\n",
      "\n",
      "\n",
      "Running for time budget=27sec\n",
      "Num samples: 655\n",
      "KSD: 0.0093\n",
      "\n",
      "\n",
      "Running for time budget=29sec\n",
      "Num samples: 756\n",
      "KSD: 0.0094\n",
      "\n",
      "\n",
      "\n",
      "Calculating KSD curve for (-6.42, 0.001, 7):\n",
      "Running for time budget=15sec\n",
      "Num samples: 251\n",
      "KSD: 0.0141\n",
      "\n",
      "\n",
      "Running for time budget=17sec\n",
      "Num samples: 446\n",
      "KSD: 0.0134\n",
      "\n",
      "\n",
      "Running for time budget=19sec\n",
      "Num samples: 586\n",
      "KSD: 0.0125\n",
      "\n",
      "\n",
      "Running for time budget=21sec\n",
      "Num samples: 631\n",
      "KSD: 0.0124\n",
      "\n",
      "\n",
      "Running for time budget=23sec\n",
      "Num samples: 306\n",
      "KSD: 0.0139\n",
      "\n",
      "\n",
      "Running for time budget=25sec\n",
      "Num samples: 288\n",
      "KSD: 0.0135\n",
      "\n",
      "\n",
      "Running for time budget=27sec\n",
      "Num samples: 303\n",
      "KSD: 0.0138\n",
      "\n",
      "\n",
      "Running for time budget=29sec\n",
      "Num samples: 320\n",
      "KSD: 0.0135\n",
      "\n",
      "\n",
      "\n",
      "Calculating KSD curve for (-5.46, 0.0013, 3):\n",
      "Running for time budget=15sec\n",
      "Num samples: 328\n",
      "KSD: 0.0114\n",
      "\n",
      "\n",
      "Running for time budget=17sec\n",
      "Num samples: 372\n",
      "KSD: 0.0112\n",
      "\n",
      "\n",
      "Running for time budget=19sec\n",
      "Num samples: 414\n",
      "KSD: 0.0114\n",
      "\n",
      "\n",
      "Running for time budget=21sec\n",
      "Num samples: 498\n",
      "KSD: 0.0126\n",
      "\n",
      "\n",
      "Running for time budget=23sec\n",
      "Num samples: 546\n",
      "KSD: 0.0122\n",
      "\n",
      "\n",
      "Running for time budget=25sec\n",
      "Num samples: 511\n",
      "KSD: 0.0123\n",
      "\n",
      "\n",
      "Running for time budget=27sec\n",
      "Num samples: 652\n",
      "KSD: 0.0114\n",
      "\n",
      "\n",
      "Running for time budget=29sec\n",
      "Num samples: 693\n",
      "KSD: 0.0107\n",
      "\n",
      "\n",
      "\n",
      "Calculating KSD curve for (-6.45, 0.035, 27):\n",
      "Running for time budget=15sec\n",
      "Num samples: 13\n",
      "KSD: 0.0169\n",
      "\n",
      "\n",
      "Running for time budget=17sec\n",
      "Num samples: 14\n",
      "KSD: 0.0169\n",
      "\n",
      "\n",
      "Running for time budget=19sec\n",
      "Num samples: 16\n",
      "KSD: 0.0160\n",
      "\n",
      "\n",
      "Running for time budget=21sec\n",
      "Num samples: 17\n",
      "KSD: 0.0163\n",
      "\n",
      "\n",
      "Running for time budget=23sec\n",
      "Num samples: 18\n",
      "KSD: 0.0163\n",
      "\n",
      "\n",
      "Running for time budget=25sec\n",
      "Num samples: 21\n",
      "KSD: 0.0174\n",
      "\n",
      "\n",
      "Running for time budget=27sec\n",
      "Num samples: 22\n",
      "KSD: 0.0174\n",
      "\n",
      "\n",
      "Running for time budget=29sec\n",
      "Num samples: 24\n",
      "KSD: 0.0162\n",
      "\n",
      "\n",
      "\n",
      "Calculating KSD curve for (-6.33, 0.0023, 9):\n",
      "Running for time budget=15sec\n",
      "Num samples: 103\n",
      "KSD: 0.0152\n",
      "\n",
      "\n",
      "Running for time budget=17sec\n",
      "Num samples: 101\n",
      "KSD: 0.0152\n",
      "\n",
      "\n",
      "Running for time budget=19sec\n",
      "Num samples: 132\n",
      "KSD: 0.0154\n",
      "\n",
      "\n",
      "Running for time budget=21sec\n",
      "Num samples: 208\n",
      "KSD: 0.0143\n",
      "\n",
      "\n",
      "Running for time budget=23sec\n",
      "Num samples: 232\n",
      "KSD: 0.0150\n",
      "\n",
      "\n",
      "Running for time budget=25sec\n",
      "Num samples: 192\n",
      "KSD: 0.0147\n",
      "\n",
      "\n",
      "Running for time budget=27sec\n",
      "Num samples: 244\n",
      "KSD: 0.0135\n",
      "\n",
      "\n",
      "Running for time budget=29sec\n",
      "Num samples: 235\n",
      "KSD: 0.0142\n",
      "\n",
      "\n",
      "\n",
      "Calculating KSD curve for (-6.56, 0.0033, 14):\n",
      "Running for time budget=15sec\n",
      "Num samples: 82\n",
      "KSD: 0.0154\n",
      "\n",
      "\n",
      "Running for time budget=17sec\n",
      "Num samples: 86\n",
      "KSD: 0.0155\n",
      "\n",
      "\n",
      "Running for time budget=19sec\n",
      "Num samples: 88\n",
      "KSD: 0.0151\n",
      "\n",
      "\n",
      "Running for time budget=21sec\n",
      "Num samples: 86\n",
      "KSD: 0.0155\n",
      "\n",
      "\n",
      "Running for time budget=23sec\n",
      "Num samples: 87\n",
      "KSD: 0.0151\n",
      "\n",
      "\n",
      "Running for time budget=25sec\n",
      "Num samples: 128\n",
      "KSD: 0.0138\n",
      "\n",
      "\n",
      "Running for time budget=27sec\n",
      "Num samples: 106\n",
      "KSD: 0.0143\n",
      "\n",
      "\n",
      "Running for time budget=29sec\n",
      "Num samples: 98\n",
      "KSD: 0.0160\n",
      "\n",
      "\n",
      "\n",
      "Calculating KSD curve for (-6.66, 0.0053, 29):\n",
      "Running for time budget=15sec\n",
      "Num samples: 34\n",
      "KSD: 0.0142\n",
      "\n",
      "\n",
      "Running for time budget=17sec\n",
      "Num samples: 35\n",
      "KSD: 0.0138\n",
      "\n",
      "\n",
      "Running for time budget=19sec\n",
      "Num samples: 39\n",
      "KSD: 0.0135\n",
      "\n",
      "\n",
      "Running for time budget=21sec\n",
      "Num samples: 45\n",
      "KSD: 0.0141\n",
      "\n",
      "\n",
      "Running for time budget=23sec\n",
      "Num samples: 53\n",
      "KSD: 0.0144\n",
      "\n",
      "\n",
      "Running for time budget=25sec\n",
      "Num samples: 55\n",
      "KSD: 0.0140\n",
      "\n",
      "\n",
      "Running for time budget=27sec\n",
      "Num samples: 53\n",
      "KSD: 0.0144\n",
      "\n",
      "\n",
      "Running for time budget=29sec\n",
      "Num samples: 66\n",
      "KSD: 0.0142\n",
      "\n",
      "\n",
      "\n",
      "Calculating KSD curve for (-6.99, 0.0043, 17):\n",
      "Running for time budget=15sec\n",
      "Num samples: 60\n",
      "KSD: 0.0184\n",
      "\n",
      "\n",
      "Running for time budget=17sec\n",
      "Num samples: 68\n",
      "KSD: 0.0179\n",
      "\n",
      "\n",
      "Running for time budget=19sec\n",
      "Num samples: 74\n",
      "KSD: 0.0175\n",
      "\n",
      "\n",
      "Running for time budget=21sec\n",
      "Num samples: 86\n",
      "KSD: 0.0183\n",
      "\n",
      "\n",
      "Running for time budget=23sec\n",
      "Num samples: 88\n",
      "KSD: 0.0184\n",
      "\n",
      "\n",
      "Running for time budget=25sec\n",
      "Num samples: 101\n",
      "KSD: 0.0180\n",
      "\n",
      "\n",
      "Running for time budget=27sec\n",
      "Num samples: 106\n",
      "KSD: 0.0177\n",
      "\n",
      "\n",
      "Running for time budget=29sec\n",
      "Num samples: 116\n",
      "KSD: 0.0168\n",
      "\n",
      "\n",
      "Running time: 35.5 min\n"
     ]
    }
   ],
   "source": [
    "# n=120\n",
    "list_params_sghmc_30 = [(-5.98, 0.028, 7), (-6.05, 0.0017, 6), (-6.42, 0.001, 7),\n",
    "                        (-5.46, 0.0013, 3), (-6.45, 0.035, 27), (-6.33, 0.0023, 9),\n",
    "                        (-6.56, 0.0033, 14), (-6.66, 0.0053, 29), (-6.99, 0.0043, 17)\n",
    "                       ]\n",
    "\n",
    "\n",
    "# list_KSD_curves_sghmc_SH30 = run_many_KSD_curves_sghmc(list_params_sghmc_30)\n"
   ]
  },
  {
   "cell_type": "code",
   "execution_count": 72,
   "metadata": {},
   "outputs": [],
   "source": [
    "# n=90\n",
    "# save all KSD curves\n",
    "# for idx, elem in enumerate(list_KSD_curves_sghmc_SH30):\n",
    "#     np.savetxt(f\"outputs/ECE_list/sghmc-SH_30-n_120/ksd_curve_{idx}.csv\", elem)\n",
    "\n",
    "# load all KSD curves\n",
    "list_KSD_curves_sghmc_SH30 = []\n",
    "for idx in range(9):\n",
    "    mylist = np.genfromtxt(f\"outputs/ECE_list/sghmc-SH_30-n_120/ksd_curve_{idx}.csv\")\n",
    "    list_KSD_curves_sghmc_SH30.append(mylist)"
   ]
  },
  {
   "cell_type": "code",
   "execution_count": null,
   "metadata": {},
   "outputs": [],
   "source": []
  },
  {
   "cell_type": "markdown",
   "metadata": {},
   "source": [
    "#### sghmc: default"
   ]
  },
  {
   "cell_type": "code",
   "execution_count": 74,
   "metadata": {},
   "outputs": [],
   "source": [
    "def sghmc_sampler_default(time_budget):\n",
    "    \n",
    "    key = random.PRNGKey(0)\n",
    "    MAP_params = load_NN_MAP()\n",
    "    dt = 10**(-5)\n",
    "    batch_size = int(0.1*X_train.shape[0])\n",
    "    L = 26\n",
    "    samples = sghmc_NN_time_budget(key, time_budget, dt, batch_size, \n",
    "                                         MAP_params, L, save_rate=4)\n",
    "    return samples\n",
    "\n",
    "\n",
    "# ===\n",
    "max_time_budget = 30\n",
    "time_steps = 2\n",
    "thin_step = 2\n",
    "# ksd_list_sghmc_default = get_ECE_list_time_budget_NN(max_time_budget, time_steps, \n",
    "#                                              sghmc_sampler_default, thin_step=thin_step, start_time=15)\n",
    "\n"
   ]
  },
  {
   "cell_type": "code",
   "execution_count": 63,
   "metadata": {},
   "outputs": [],
   "source": [
    "# np.savetxt(f\"outputs/ECE_list/ksd_list_sghmc_default.csv\", ksd_list_sghmc_default)\n",
    "\n",
    "ksd_list_sghmc_default = np.genfromtxt(f\"outputs/ECE_list/ksd_list_sghmc_default.csv\")\n"
   ]
  },
  {
   "cell_type": "code",
   "execution_count": null,
   "metadata": {},
   "outputs": [],
   "source": []
  },
  {
   "cell_type": "code",
   "execution_count": null,
   "metadata": {},
   "outputs": [],
   "source": []
  },
  {
   "cell_type": "code",
   "execution_count": 82,
   "metadata": {},
   "outputs": [
    {
     "data": {
      "text/plain": [
       "<matplotlib.legend.Legend at 0x156c90160>"
      ]
     },
     "execution_count": 82,
     "metadata": {},
     "output_type": "execute_result"
    },
    {
     "data": {
      "image/png": "[encoded data removed]",
      "text/plain": [
       "<Figure size 576x432 with 1 Axes>"
      ]
     },
     "metadata": {},
     "output_type": "display_data"
    }
   ],
   "source": [
    "plt.rcParams.update({'font.size':17})\n",
    "\n",
    "average_curve_sghmc_SH30 = np.nanmean(list_KSD_curves_sghmc_SH30, axis=0)\n",
    "std_curve_sghmc_SH30 = np.nanstd(list_KSD_curves_sghmc_SH30, axis=0)\n",
    "\n",
    "\n",
    "\n",
    "max_time_budget = 30\n",
    "\n",
    "plt.figure(figsize=(8, 6))\n",
    "\n",
    "plt.plot(np.arange(15, max_time_budget, 2), average_curve_sghmc_SH30, marker=\"+\", markersize=15, \n",
    "         c='r', label=\"SH 10 sec, average\")\n",
    "plt.fill_between(np.arange(15, max_time_budget, 2), average_curve_sghmc_SH30+2*std_curve_sghmc_SH30, \n",
    "                 average_curve_sghmc_SH30-2*std_curve_sghmc_SH30, alpha=0.1, color='r')\n",
    "\n",
    "\n",
    "\n",
    "# for elem in list_KSD_curves_sghmc_SH30[6:9]:\n",
    "#     plt.plot(np.arange(15, max_time_budget, 2), elem, alpha=0.4, marker=\"v\")\n",
    "    \n",
    "plt.plot(np.arange(15, max_time_budget, 2), ksd_list_sghmc_default, marker=\"o\", \n",
    "                     label=\"default, noise=1: -5, 0.1, 26\", markersize=10)\n",
    "\n",
    "\n",
    "plt.title(\"SVRG: SG-HMC sampler\", size=23)\n",
    "plt.ylabel(\"ECE\", size=19)\n",
    "plt.xlabel(\"time budget (seconds)\", size=19)\n",
    "plt.legend(fontsize=16)\n",
    "# plt.savefig(\"images/PMF_sghmc_ksd_curves.png\") "
   ]
  },
  {
   "cell_type": "code",
   "execution_count": null,
   "metadata": {},
   "outputs": [],
   "source": []
  },
  {
   "cell_type": "code",
   "execution_count": null,
   "metadata": {},
   "outputs": [],
   "source": []
  },
  {
   "cell_type": "code",
   "execution_count": null,
   "metadata": {},
   "outputs": [],
   "source": []
  },
  {
   "cell_type": "code",
   "execution_count": null,
   "metadata": {},
   "outputs": [],
   "source": []
  },
  {
   "cell_type": "code",
   "execution_count": null,
   "metadata": {},
   "outputs": [],
   "source": []
  },
  {
   "cell_type": "markdown",
   "metadata": {},
   "source": [
    "## Test uncertainty\n",
    "\n",
    "### SH"
   ]
  },
  {
   "cell_type": "code",
   "execution_count": 23,
   "metadata": {},
   "outputs": [],
   "source": [
    "time_budget = 200\n",
    "\n",
    "log_dt, b_s_r, L = -5.59, 0.016, 3\n",
    "\n",
    "key = random.PRNGKey(0)\n",
    "MAP_params = load_NN_MAP()\n",
    "dt = 10**(log_dt)\n",
    "batch_size = int(b_s_r*X_train.shape[0])\n",
    "samples_sghmc_SH = sghmc_NN_time_budget(key, time_budget, dt, batch_size, \n",
    "                                         MAP_params, L, save_rate=10)"
   ]
  },
  {
   "cell_type": "markdown",
   "metadata": {},
   "source": [
    "### default"
   ]
  },
  {
   "cell_type": "code",
   "execution_count": 24,
   "metadata": {},
   "outputs": [],
   "source": [
    "time_budget = 200\n",
    "\n",
    "log_dt, b_s_r, L = -5., 0.1, 26\n",
    "\n",
    "key = random.PRNGKey(0)\n",
    "MAP_params = load_NN_MAP()\n",
    "dt = 10**(log_dt)\n",
    "batch_size = int(b_s_r*X_train.shape[0])\n",
    "samples_sghmc_default = sghmc_NN_time_budget(key, time_budget, dt, batch_size, \n",
    "                                         MAP_params, L, save_rate=10)"
   ]
  },
  {
   "cell_type": "markdown",
   "metadata": {},
   "source": [
    "### ECE and MCE"
   ]
  },
  {
   "cell_type": "code",
   "execution_count": 25,
   "metadata": {},
   "outputs": [],
   "source": [
    "\n",
    "flat_samples_sghmc_SH = flatten_NN_params(samples_sghmc_SH)\n",
    "flat_samples_sghmc_default = flatten_NN_params(samples_sghmc_default)\n"
   ]
  },
  {
   "cell_type": "code",
   "execution_count": 26,
   "metadata": {},
   "outputs": [
    {
     "data": {
      "application/vnd.jupyter.widget-view+json": {
       "model_id": "2598438f03814dd0a7ccff219ecc4518",
       "version_major": 2,
       "version_minor": 0
      },
      "text/plain": [
       "HBox(children=(FloatProgress(value=0.0, max=10.0), HTML(value='')))"
      ]
     },
     "metadata": {},
     "output_type": "display_data"
    },
    {
     "name": "stdout",
     "output_type": "stream",
     "text": [
      "\n",
      "0.01177705841064453 0.15623441\n"
     ]
    }
   ],
   "source": [
    "ece_NN_sghmc_SH, mce_NN_sghmc_SH = get_ECE_MCE(flat_samples_sghmc_SH[::10], X_test, y_test, M=10)\n",
    "print(ece_NN_sghmc_SH, mce_NN_sghmc_SH)\n",
    "\n"
   ]
  },
  {
   "cell_type": "code",
   "execution_count": 27,
   "metadata": {},
   "outputs": [
    {
     "data": {
      "application/vnd.jupyter.widget-view+json": {
       "model_id": "129c23b200894bdc9a43d914133e138e",
       "version_major": 2,
       "version_minor": 0
      },
      "text/plain": [
       "HBox(children=(FloatProgress(value=0.0, max=10.0), HTML(value='')))"
      ]
     },
     "metadata": {},
     "output_type": "display_data"
    },
    {
     "name": "stdout",
     "output_type": "stream",
     "text": [
      "\n",
      "0.21142587890625 0.5030676\n"
     ]
    }
   ],
   "source": [
    "ece_NN_sghmc_default, mce_NN_sghmc_default = get_ECE_MCE(flat_samples_sghmc_default[::10], X_test, y_test, M=10)\n",
    "print(ece_NN_sghmc_default, mce_NN_sghmc_default)\n",
    "\n"
   ]
  },
  {
   "cell_type": "code",
   "execution_count": 28,
   "metadata": {},
   "outputs": [
    {
     "name": "stdout",
     "output_type": "stream",
     "text": [
      "ECE: \n",
      "\n",
      "SH: 0.0118\n",
      "default: 0.2114\n",
      "\n",
      "===\n",
      "MCE: \n",
      "\n",
      "SH: 0.1562\n",
      "default: 0.5031\n"
     ]
    }
   ],
   "source": [
    "# key = 0 for all samplers\n",
    "print(\"ECE: \\n\")\n",
    "print(f\"SH: {ece_NN_sghmc_SH:.4f}\")\n",
    "print(f\"default: {ece_NN_sghmc_default:.4f}\")\n",
    "\n",
    "print(\"\\n===\\nMCE: \\n\")\n",
    "print(f\"SH: {mce_NN_sghmc_SH:.4f}\")\n",
    "print(f\"default: {mce_NN_sghmc_default:.4f}\")\n"
   ]
  },
  {
   "cell_type": "markdown",
   "metadata": {},
   "source": [
    "### OOD testing"
   ]
  },
  {
   "cell_type": "code",
   "execution_count": 29,
   "metadata": {},
   "outputs": [],
   "source": [
    "from examples.bayesian_NN.NN_model import _ood_testing\n",
    "from examples.bayesian_NN.NN_data import X_train_notMNIST, X_test_notMNIST, y_train_notMNIST, y_test_notMNIST\n"
   ]
  },
  {
   "cell_type": "code",
   "execution_count": 30,
   "metadata": {},
   "outputs": [],
   "source": [
    "ood_samples_sghmc_SH_KSD = _ood_testing(flat_samples_sghmc_SH[::5], X_test_notMNIST[::5])\n",
    "\n",
    "wait_until_computed(ood_samples_sghmc_SH_KSD)"
   ]
  },
  {
   "cell_type": "code",
   "execution_count": 31,
   "metadata": {},
   "outputs": [],
   "source": [
    "ood_samples_sghmc_default = _ood_testing(flat_samples_sghmc_default[::5], X_test_notMNIST[::5])\n",
    "\n",
    "wait_until_computed(ood_samples_sghmc_default)\n"
   ]
  },
  {
   "cell_type": "code",
   "execution_count": 32,
   "metadata": {},
   "outputs": [],
   "source": [
    "\n",
    "sorted_ood_sghmc_SH_KSD = sorted(ood_samples_sghmc_SH_KSD)\n",
    "sorted_ood_sghmc_default = sorted(ood_samples_sghmc_default)\n"
   ]
  },
  {
   "cell_type": "code",
   "execution_count": 33,
   "metadata": {},
   "outputs": [
    {
     "data": {
      "image/png": "[encoded data removed]",
      "text/plain": [
       "<Figure size 720x576 with 1 Axes>"
      ]
     },
     "metadata": {},
     "output_type": "display_data"
    }
   ],
   "source": [
    "thin_step = 50\n",
    "\n",
    "y_range = np.linspace(0, 1, (len(sorted_ood_sghmc_SH_KSD)))[::thin_step]\n",
    "plt.figure(figsize=(10,8))\n",
    "\n",
    "\n",
    "\n",
    "plt.plot(sorted_ood_sghmc_SH_KSD[::thin_step], y_range, \n",
    "         label=r\"MAMBA-KSD method: log(dt), b_s_r, update: ()$\", marker=\"o\", markersize=10)\n",
    "\n",
    "\n",
    "plt.plot(sorted_ood_sghmc_default[::thin_step], y_range, \n",
    "         label=r\"default: log(dt), b_s_r, update: $\", marker=\"<\", markersize=10)\n",
    "\n",
    "\n",
    "plt.title(\"SGHMC: CDF of predictive entropy for default and SH method\", size=20)\n",
    "plt.tight_layout()\n",
    "plt.legend()\n",
    "plt.xlabel(\"Entropy\", size=20)\n",
    "plt.ylabel(\"Empirical CDF\", size=20)\n",
    "plt.tight_layout()\n",
    "# plt.savefig(\"NN_notMSNIST_sgld_default_SH.png\")"
   ]
  },
  {
   "cell_type": "code",
   "execution_count": null,
   "metadata": {},
   "outputs": [],
   "source": []
  },
  {
   "cell_type": "markdown",
   "metadata": {},
   "source": [
    "# 3 plots"
   ]
  },
  {
   "cell_type": "code",
   "execution_count": 2,
   "metadata": {},
   "outputs": [],
   "source": [
    "# SGLD\n",
    "list_KSD_curves_sgld_10 = []\n",
    "for idx in range(9):\n",
    "    mylist = np.genfromtxt(f\"outputs/ECE_list/sgld-SH_10-n_90/ksd_curve_{idx}.csv\")\n",
    "    list_KSD_curves_sgld_10.append(mylist)\n",
    "    \n",
    "ksd_list_adam = np.genfromtxt(f\"outputs/ECE_list/ksd_curve_adam.csv\")\n",
    "ksd_list_sgld_default = np.genfromtxt(f\"outputs/ECE_list/ksd_curve_sgld_default.csv\")\n",
    "\n",
    "# SVRG\n",
    "list_KSD_curves_svrg_10 = []\n",
    "for idx in range(9):\n",
    "    mylist = np.genfromtxt(f\"outputs/ECE_list/svrg-SH_15-n_90/ksd_curve_{idx}.csv\")\n",
    "    list_KSD_curves_svrg_10.append(mylist)\n",
    "\n",
    "ksd_list_svrg_default = np.genfromtxt(f\"outputs/ECE_list/ksd_curve_svrg_default.csv\")\n",
    "\n",
    "\n",
    "# SGHMC\n",
    "list_KSD_curves_sghmc_SH30 = []\n",
    "for idx in range(9):\n",
    "    mylist = np.genfromtxt(f\"outputs/ECE_list/sghmc-SH_30-n_120/ksd_curve_{idx}.csv\")\n",
    "    list_KSD_curves_sghmc_SH30.append(mylist)\n",
    "    \n",
    "ksd_list_sghmc_default = np.genfromtxt(f\"outputs/ECE_list/ksd_list_sghmc_default.csv\")\n"
   ]
  },
  {
   "cell_type": "code",
   "execution_count": 3,
   "metadata": {},
   "outputs": [
    {
     "data": {
      "image/png": "[encoded data removed]",
      "text/plain": [
       "<Figure size 1512x432 with 3 Axes>"
      ]
     },
     "metadata": {},
     "output_type": "display_data"
    }
   ],
   "source": [
    "plt.rcParams.update({'font.size':17})\n",
    "fig, ax = plt.subplots(1,3, figsize=(21, 6), sharey=False)\n",
    "\n",
    "\n",
    "# ===============\n",
    "# SGLD\n",
    "average_curve_sgld_SH10 = np.mean(list_KSD_curves_sgld_10, axis=0)\n",
    "std_curve_sgld_SH10 = np.std(list_KSD_curves_sgld_10, axis=0)\n",
    "\n",
    "max_time_budget_sgld = 20\n",
    "\n",
    "ax[0].plot(np.arange(5, max_time_budget_sgld, 2), average_curve_sgld_SH10, marker=\"+\", markersize=15, \n",
    "         c='r', label=\"MAMBA\")\n",
    "ax[0].fill_between(np.arange(5, max_time_budget_sgld, 2), average_curve_sgld_SH10+2*std_curve_sgld_SH10, \n",
    "                 average_curve_sgld_SH10-2*std_curve_sgld_SH10, alpha=0.1, color='r')\n",
    "\n",
    "ax[0].plot(np.arange(5, max_time_budget_sgld,2), ksd_list_sgld_default, marker=\"o\", label=\"grid search\", markersize=10)\n",
    "ax[0].plot(np.arange(5, max_time_budget_sgld,2), ksd_list_adam, marker=\"v\", label=\"SGLD-adam\", markersize=10)\n",
    "\n",
    "\n",
    "# ax[0].set_title(\"SGLD sampler\", size=23)\n",
    "ax[0].set_ylabel(\"log-ECE\", size=19)\n",
    "ax[0].set_xlabel(\"time budget (seconds)\", size=19)\n",
    "ax[0].legend(fontsize=20)\n",
    "\n",
    "\n",
    "\n",
    "# ===============\n",
    "# # SVRG\n",
    "\n",
    "average_curve_sgldCV_SH10 = np.mean(list_KSD_curves_svrg_10, axis=0)\n",
    "std_curve_sgldCV_SH10 = np.std(list_KSD_curves_svrg_10, axis=0)\n",
    "\n",
    "max_time_budget_sgldCV = 20\n",
    "\n",
    "ax[1].plot(np.arange(5, max_time_budget_sgldCV,2), average_curve_sgldCV_SH10, marker=\"+\", markersize=15, \n",
    "         c='r', label=\"MAMBA\")\n",
    "ax[1].fill_between(np.arange(5, max_time_budget_sgldCV,2), average_curve_sgldCV_SH10+2*std_curve_sgldCV_SH10, \n",
    "                 average_curve_sgldCV_SH10-2*std_curve_sgldCV_SH10, alpha=0.1, color='r')\n",
    "\n",
    "ax[1].plot(np.arange(5, max_time_budget_sgldCV, 2), ksd_list_svrg_default, marker=\"o\", label=\"grid search\", markersize=10)\n",
    "\n",
    "# ax[1].set_title(\"SVRG sampler\", size=23)\n",
    "ax[1].set_ylabel(\"log-ECE\", size=19)\n",
    "ax[1].set_xlabel(\"time budget (seconds)\", size=19)\n",
    "# ax[1].legend(fontsize=20)\n",
    "\n",
    "\n",
    "# ==================\n",
    "# SG-HMC\n",
    "average_curve_sghmc_SH10 = np.mean(list_KSD_curves_sghmc_SH30, axis=0)\n",
    "std_curve_sghmc_SH10 = np.std(list_KSD_curves_sghmc_SH30, axis=0)\n",
    "\n",
    "max_time_budget_sghmc = 20\n",
    "\n",
    "ax[2].plot(np.arange(5, max_time_budget_sghmc,2), average_curve_sghmc_SH10, marker=\"+\", markersize=15, \n",
    "         c='r', label=\"MAMBA\")\n",
    "ax[2].fill_between(np.arange(5, max_time_budget_sghmc,2), average_curve_sghmc_SH10+2*std_curve_sghmc_SH10, \n",
    "                 average_curve_sghmc_SH10-2*std_curve_sghmc_SH10, alpha=0.1, color='r')\n",
    "    \n",
    "ax[2].plot(np.arange(5, max_time_budget_sghmc,2), ksd_list_sghmc_default, marker=\"o\", label=\"grid search\", markersize=10)\n",
    "\n",
    "# ax[2].set_title(\"SG-HMC sampler\", size=23)\n",
    "ax[2].set_ylabel(\"log-ECE\", size=19)\n",
    "ax[2].set_xlabel(\"time budget (seconds)\", size=19)\n",
    "# ax[2].legend(fontsize=20)\n",
    "ax[0].set_yscale(\"log\")\n",
    "ax[1].set_yscale(\"log\")\n",
    "ax[2].set_yscale(\"log\")\n",
    "# plt.savefig(\"images/NN_ECE_curves.png\")\n",
    "\n"
   ]
  },
  {
   "cell_type": "code",
   "execution_count": null,
   "metadata": {},
   "outputs": [],
   "source": []
  },
  {
   "cell_type": "code",
   "execution_count": null,
   "metadata": {},
   "outputs": [],
   "source": []
  },
  {
   "cell_type": "code",
   "execution_count": null,
   "metadata": {},
   "outputs": [],
   "source": []
  },
  {
   "cell_type": "code",
   "execution_count": null,
   "metadata": {},
   "outputs": [],
   "source": []
  },
  {
   "cell_type": "code",
   "execution_count": null,
   "metadata": {},
   "outputs": [],
   "source": []
  }
 ],
 "metadata": {
  "kernelspec": {
   "display_name": "Python 3",
   "language": "python",
   "name": "python3"
  },
  "language_info": {
   "codemirror_mode": {
    "name": "ipython",
    "version": 3
   },
   "file_extension": ".py",
   "mimetype": "text/x-python",
   "name": "python",
   "nbconvert_exporter": "python",
   "pygments_lexer": "ipython3",
   "version": "3.8.2"
  }
 },
 "nbformat": 4,
 "nbformat_minor": 4
}
