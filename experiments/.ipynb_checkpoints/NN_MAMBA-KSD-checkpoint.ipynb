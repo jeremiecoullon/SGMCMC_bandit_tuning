{
 "cells": [
  {
   "cell_type": "code",
   "execution_count": 1,
   "id": "906fd9ec",
   "metadata": {},
   "outputs": [
    {
     "name": "stderr",
     "output_type": "stream",
     "text": [
      "WARNING:absl:No GPU/TPU found, falling back to CPU. (Set TF_CPP_MIN_LOG_LEVEL=0 and rerun for more info.)\n"
     ]
    }
   ],
   "source": [
    "%matplotlib inline\n",
    "import matplotlib.pyplot as plt\n",
    "import numpy as np\n",
    "\n",
    "import jax.numpy as jnp\n",
    "from jax import jit, random\n",
    "\n",
    "from sgmcmcjax.kernels import build_sgld_kernel, build_sghmc_kernel, build_sgnht_kernel\n",
    "from sgmcmcjax.kernels import build_sgldCV_kernel, build_sghmcCV_kernel, build_sgnhtCV_kernel\n",
    "from sgmcmcjax.optimizer import build_adam_optimizer\n",
    "from sgmcmcjax.util import build_grad_log_post\n",
    "\n",
    "import context\n",
    "\n",
    "from models.bayesian_NN.NN_model import logprior, loglikelihood, init_network, get_ECE_MCE\n",
    "from models.bayesian_NN.NN_data import X_train, y_train, X_test, y_test\n",
    "from models.bayesian_NN.util import load_NN_MAP\n",
    "from util import flatten_param_list\n",
    "\n",
    "from tuning.mamba import run_MAMBA\n",
    "from tuning.ksd import FSSD_opt, FSSD, imq_KSD, get_test_locations, linear_imq_KSD\n"
   ]
  },
  {
   "cell_type": "markdown",
   "id": "a01ea2b4",
   "metadata": {},
   "source": [
    "# NN - MAMBA-ECE"
   ]
  },
  {
   "cell_type": "code",
   "execution_count": 2,
   "id": "1aff4d07",
   "metadata": {},
   "outputs": [
    {
     "name": "stdout",
     "output_type": "stream",
     "text": [
      "[60000, 6000, 600]\n"
     ]
    }
   ],
   "source": [
    "data = (X_train, y_train)\n",
    "\n",
    "key = random.PRNGKey(0)\n",
    "params_IC = load_NN_MAP()\n",
    "centering_value = load_NN_MAP()\n",
    "\n",
    "# err_fn = lambda x,y: get_ECE_MCE(x[::10], X_test, y_test, M=10, pbar=False)[0]\n",
    "\n",
    "err_fn = lambda x,y: imq_KSD(x, y)\n",
    "\n",
    "# err_fn = lambda x,y: FSSD_opt(x, y, get_test_locations(x), 100)\n",
    "# err_fn = lambda x,y: FSSD(x, y, get_test_locations(x, J=50))\n",
    "\n",
    "# get_fb_grads = None\n",
    "batch_size_range = [int(10**(-elem)*X_train.shape[0]) for elem in range(0, 3)]\n",
    "print(batch_size_range)\n",
    "\n",
    "R = 10"
   ]
  },
  {
   "cell_type": "code",
   "execution_count": 3,
   "id": "4d5f610f",
   "metadata": {},
   "outputs": [],
   "source": [
    "grad_log_post_fb = build_grad_log_post(loglikelihood, logprior, data)\n",
    "\n",
    "\n",
    "def get_fb_grads(samples):\n",
    "    thin = 10\n",
    "    mygrads = [grad_log_post_fb(sam, *data) for sam in samples[::thin]]\n",
    "    \n",
    "    return samples[::thin], mygrads"
   ]
  },
  {
   "cell_type": "markdown",
   "id": "912e1f22",
   "metadata": {},
   "source": [
    "### run MAMBA"
   ]
  },
  {
   "cell_type": "code",
   "execution_count": 4,
   "id": "0c79e224",
   "metadata": {
    "collapsed": true
   },
   "outputs": [
    {
     "data": {
      "application/vnd.jupyter.widget-view+json": {
       "model_id": "4a2099815ef644ba9da7a02628dea08b",
       "version_major": 2,
       "version_minor": 0
      },
      "text/plain": [
       "HBox(children=(HTML(value='Iteration 1/3, 36 arms, time budget = 0.77 sec'), FloatProgress(value=0.0, max=36.0…"
      ]
     },
     "metadata": {},
     "output_type": "display_data"
    },
    {
     "name": "stdout",
     "output_type": "stream",
     "text": [
      "Hyperparams: {'batch_size': 60000, 'dt': 0.01}., sample shape=(1, 79510). metric: 81625\n",
      "Hyperparams: {'batch_size': 60000, 'dt': 0.0031622776}., sample shape=(1, 79510). metric: 108797\n",
      "Hyperparams: {'batch_size': 60000, 'dt': 0.001}., sample shape=(1, 79510). metric: 83430\n",
      "Hyperparams: {'batch_size': 60000, 'dt': 0.00031622776}., sample shape=(1, 79510). metric: 29712\n",
      "Hyperparams: {'batch_size': 60000, 'dt': 1e-04}., sample shape=(1, 79510). metric: 8383\n",
      "Hyperparams: {'batch_size': 60000, 'dt': 3.1622778e-05}., sample shape=(1, 79510). metric: 1920\n",
      "Hyperparams: {'batch_size': 60000, 'dt': 1e-05}., sample shape=(1, 79510). metric: 1045\n",
      "Hyperparams: {'batch_size': 60000, 'dt': 3.1622776e-06}., sample shape=(1, 79510). metric: 1288\n",
      "Hyperparams: {'batch_size': 60000, 'dt': 1e-06}., sample shape=(1, 79510). metric: 1438\n",
      "Hyperparams: {'batch_size': 60000, 'dt': 3.1622776e-07}., sample shape=(1, 79510). metric: 1362\n",
      "Hyperparams: {'batch_size': 60000, 'dt': 1e-07}., sample shape=(1, 79510). metric: 1444\n",
      "Hyperparams: {'batch_size': 60000, 'dt': 3.1622776e-08}., sample shape=(1, 79510). metric: 1421\n",
      "Hyperparams: {'batch_size': 6000, 'dt': 0.01}., sample shape=(5, 79510). metric: 35053\n",
      "Hyperparams: {'batch_size': 6000, 'dt': 0.0031622776}., sample shape=(6, 79510). metric: 25535\n",
      "Hyperparams: {'batch_size': 6000, 'dt': 0.001}., sample shape=(6, 79510). metric: 23663\n",
      "Hyperparams: {'batch_size': 6000, 'dt': 0.00031622776}., sample shape=(6, 79510). metric: 8233\n",
      "Hyperparams: {'batch_size': 6000, 'dt': 1e-04}., sample shape=(6, 79510). metric: 6537\n",
      "Hyperparams: {'batch_size': 6000, 'dt': 3.1622778e-05}., sample shape=(5, 79510). metric: 11838\n",
      "Hyperparams: {'batch_size': 6000, 'dt': 1e-05}., sample shape=(6, 79510). metric: 658\n",
      "Hyperparams: {'batch_size': 6000, 'dt': 3.1622776e-06}., sample shape=(6, 79510). metric: 579\n",
      "Hyperparams: {'batch_size': 6000, 'dt': 1e-06}., sample shape=(5, 79510). metric: 637\n",
      "Hyperparams: {'batch_size': 6000, 'dt': 3.1622776e-07}., sample shape=(5, 79510). metric: 1289\n",
      "Hyperparams: {'batch_size': 6000, 'dt': 1e-07}., sample shape=(5, 79510). metric: 1317\n",
      "Hyperparams: {'batch_size': 6000, 'dt': 3.1622776e-08}., sample shape=(6, 79510). metric: 1424\n",
      "Hyperparams: {'batch_size': 600, 'dt': 0.01}., sample shape=(34, 79510). metric: 13773\n",
      "Hyperparams: {'batch_size': 600, 'dt': 0.0031622776}., sample shape=(30, 79510). metric: 14503\n",
      "Hyperparams: {'batch_size': 600, 'dt': 0.001}., sample shape=(32, 79510). metric: 12155\n",
      "Hyperparams: {'batch_size': 600, 'dt': 0.00031622776}., sample shape=(35, 79510). metric: 3440\n",
      "Hyperparams: {'batch_size': 600, 'dt': 1e-04}., sample shape=(33, 79510). metric: 2352\n",
      "Hyperparams: {'batch_size': 600, 'dt': 3.1622778e-05}., sample shape=(34, 79510). metric: 2390\n",
      "Hyperparams: {'batch_size': 600, 'dt': 1e-05}., sample shape=(35, 79510). metric: 849\n",
      "Hyperparams: {'batch_size': 600, 'dt': 3.1622776e-06}., sample shape=(34, 79510). metric: 427\n",
      "Hyperparams: {'batch_size': 600, 'dt': 1e-06}., sample shape=(35, 79510). metric: 457\n",
      "Hyperparams: {'batch_size': 600, 'dt': 3.1622776e-07}., sample shape=(34, 79510). metric: 572\n",
      "Hyperparams: {'batch_size': 600, 'dt': 1e-07}., sample shape=(35, 79510). metric: 650\n",
      "Hyperparams: {'batch_size': 600, 'dt': 3.1622776e-08}., sample shape=(32, 79510). metric: 1028\n",
      "\n",
      "Number of samples: [34, 35, 34, 6, 5, 35, 6, 35, 32, 1, 1, 5]\n"
     ]
    },
    {
     "data": {
      "application/vnd.jupyter.widget-view+json": {
       "model_id": "704be3b7560549d5bfe068d61967e411",
       "version_major": 2,
       "version_minor": 0
      },
      "text/plain": [
       "HBox(children=(HTML(value='Iteration 2/3, 12 arms, time budget = 2.31 sec'), FloatProgress(value=0.0, max=12.0…"
      ]
     },
     "metadata": {},
     "output_type": "display_data"
    },
    {
     "name": "stdout",
     "output_type": "stream",
     "text": [
      "Hyperparams: {'batch_size': 600, 'dt': 3.1622776e-06}., sample shape=(131, 79510). metric: 297\n",
      "Hyperparams: {'batch_size': 600, 'dt': 1e-06}., sample shape=(129, 79510). metric: 326\n",
      "Hyperparams: {'batch_size': 600, 'dt': 3.1622776e-07}., sample shape=(118, 79510). metric: 452\n",
      "Hyperparams: {'batch_size': 6000, 'dt': 3.1622776e-06}., sample shape=(20, 79510). metric: 433\n",
      "Hyperparams: {'batch_size': 6000, 'dt': 1e-06}., sample shape=(17, 79510). metric: 521\n",
      "Hyperparams: {'batch_size': 600, 'dt': 1e-07}., sample shape=(120, 79510). metric: 509\n",
      "Hyperparams: {'batch_size': 6000, 'dt': 1e-05}., sample shape=(20, 79510). metric: 467\n",
      "Hyperparams: {'batch_size': 600, 'dt': 1e-05}., sample shape=(97, 79510). metric: 566\n",
      "Hyperparams: {'batch_size': 600, 'dt': 3.1622776e-08}., sample shape=(121, 79510). metric: 756\n",
      "Hyperparams: {'batch_size': 60000, 'dt': 1e-05}., sample shape=(4, 79510). metric: 587\n",
      "Hyperparams: {'batch_size': 60000, 'dt': 3.1622776e-06}., sample shape=(3, 79510). metric: 735\n",
      "Hyperparams: {'batch_size': 6000, 'dt': 3.1622776e-07}., sample shape=(20, 79510). metric: 669\n",
      "\n",
      "Number of samples: [131, 129, 20, 118]\n"
     ]
    },
    {
     "data": {
      "application/vnd.jupyter.widget-view+json": {
       "model_id": "c82c1a20a1c847fdbfad975369b5013f",
       "version_major": 2,
       "version_minor": 0
      },
      "text/plain": [
       "HBox(children=(HTML(value='Iteration 3/3, 4 arms, time budget = 6.92 sec'), FloatProgress(value=0.0, max=4.0),…"
      ]
     },
     "metadata": {},
     "output_type": "display_data"
    },
    {
     "name": "stdout",
     "output_type": "stream",
     "text": [
      "Hyperparams: {'batch_size': 600, 'dt': 3.1622776e-06}., sample shape=(391, 79510). metric: 193\n",
      "Hyperparams: {'batch_size': 600, 'dt': 1e-06}., sample shape=(386, 79510). metric: 237\n",
      "Hyperparams: {'batch_size': 6000, 'dt': 3.1622776e-06}., sample shape=(56, 79510). metric: 318\n",
      "Hyperparams: {'batch_size': 600, 'dt': 3.1622776e-07}., sample shape=(348, 79510). metric: 326\n",
      "\n",
      "Number of samples: [391]\n",
      "Running time: 594.9 sec\n",
      "{'batch_size': 600, 'dt': 3.1622776e-06} 193.17734 (391, 79510)\n"
     ]
    }
   ],
   "source": [
    "build_kernel = lambda dt, batch_size: build_sgld_kernel(dt, loglikelihood, logprior, data, batch_size)\n",
    "\n",
    "grid_params = {'log_dt': -jnp.arange(2., 8., 0.5), \n",
    "               'batch_size': batch_size_range\n",
    "              }\n",
    "best_arm = run_MAMBA(key, build_kernel, err_fn, R, params_IC, grid_params=grid_params, get_fb_grads=get_fb_grads)\n",
    "\n",
    "print(best_arm.hyperparameters, best_arm.metric, best_arm.samples.shape)"
   ]
  },
  {
   "cell_type": "code",
   "execution_count": 5,
   "id": "00531340",
   "metadata": {
    "collapsed": true
   },
   "outputs": [
    {
     "data": {
      "application/vnd.jupyter.widget-view+json": {
       "model_id": "c8efcfdda7c1478ab5fda117e08fac0a",
       "version_major": 2,
       "version_minor": 0
      },
      "text/plain": [
       "HBox(children=(HTML(value='Iteration 1/3, 36 arms, time budget = 0.77 sec'), FloatProgress(value=0.0, max=36.0…"
      ]
     },
     "metadata": {},
     "output_type": "display_data"
    },
    {
     "name": "stdout",
     "output_type": "stream",
     "text": [
      "Hyperparams: {'batch_size': 60000, 'dt': 0.01}., sample shape=(1, 79510). metric: 81039\n",
      "Hyperparams: {'batch_size': 60000, 'dt': 0.0031622776}., sample shape=(1, 79510). metric: 107830\n",
      "Hyperparams: {'batch_size': 60000, 'dt': 0.001}., sample shape=(1, 79510). metric: 82992\n",
      "Hyperparams: {'batch_size': 60000, 'dt': 0.00031622776}., sample shape=(1, 79510). metric: 29394\n",
      "Hyperparams: {'batch_size': 60000, 'dt': 1e-04}., sample shape=(1, 79510). metric: 6824\n",
      "Hyperparams: {'batch_size': 60000, 'dt': 3.1622778e-05}., sample shape=(1, 79510). metric: 3284\n",
      "Hyperparams: {'batch_size': 60000, 'dt': 1e-05}., sample shape=(1, 79510). metric: 1216\n",
      "Hyperparams: {'batch_size': 60000, 'dt': 3.1622776e-06}., sample shape=(1, 79510). metric: 1247\n",
      "Hyperparams: {'batch_size': 60000, 'dt': 1e-06}., sample shape=(1, 79510). metric: 1448\n",
      "Hyperparams: {'batch_size': 60000, 'dt': 3.1622776e-07}., sample shape=(1, 79510). metric: 1361\n",
      "Hyperparams: {'batch_size': 60000, 'dt': 1e-07}., sample shape=(1, 79510). metric: 1442\n",
      "Hyperparams: {'batch_size': 60000, 'dt': 3.1622776e-08}., sample shape=(1, 79510). metric: 1422\n",
      "Hyperparams: {'batch_size': 6000, 'dt': 0.01}., sample shape=(3, 79510). metric: 46908\n",
      "Hyperparams: {'batch_size': 6000, 'dt': 0.0031622776}., sample shape=(3, 79510). metric: 53741\n",
      "Hyperparams: {'batch_size': 6000, 'dt': 0.001}., sample shape=(3, 79510). metric: 47211\n",
      "Hyperparams: {'batch_size': 6000, 'dt': 0.00031622776}., sample shape=(3, 79510). metric: 16373\n",
      "Hyperparams: {'batch_size': 6000, 'dt': 1e-04}., sample shape=(3, 79510). metric: 10518\n",
      "Hyperparams: {'batch_size': 6000, 'dt': 3.1622778e-05}., sample shape=(3, 79510). metric: 7381\n",
      "Hyperparams: {'batch_size': 6000, 'dt': 1e-05}., sample shape=(4, 79510). metric: 545\n",
      "Hyperparams: {'batch_size': 6000, 'dt': 3.1622776e-06}., sample shape=(4, 79510). metric: 656\n",
      "Hyperparams: {'batch_size': 6000, 'dt': 1e-06}., sample shape=(4, 79510). metric: 682\n",
      "Hyperparams: {'batch_size': 6000, 'dt': 3.1622776e-07}., sample shape=(4, 79510). metric: 1394\n",
      "Hyperparams: {'batch_size': 6000, 'dt': 1e-07}., sample shape=(4, 79510). metric: 1328\n",
      "Hyperparams: {'batch_size': 6000, 'dt': 3.1622776e-08}., sample shape=(4, 79510). metric: 1459\n",
      "Hyperparams: {'batch_size': 600, 'dt': 0.01}., sample shape=(23, 79510). metric: 14872\n",
      "Hyperparams: {'batch_size': 600, 'dt': 0.0031622776}., sample shape=(22, 79510). metric: 17574\n",
      "Hyperparams: {'batch_size': 600, 'dt': 0.001}., sample shape=(22, 79510). metric: 11873\n",
      "Hyperparams: {'batch_size': 600, 'dt': 0.00031622776}., sample shape=(22, 79510). metric: 4072\n",
      "Hyperparams: {'batch_size': 600, 'dt': 1e-04}., sample shape=(22, 79510). metric: 2901\n",
      "Hyperparams: {'batch_size': 600, 'dt': 3.1622778e-05}., sample shape=(19, 79510). metric: 6006\n",
      "Hyperparams: {'batch_size': 600, 'dt': 1e-05}., sample shape=(22, 79510). metric: 350\n",
      "Hyperparams: {'batch_size': 600, 'dt': 3.1622776e-06}., sample shape=(23, 79510). metric: 360\n",
      "Hyperparams: {'batch_size': 600, 'dt': 1e-06}., sample shape=(23, 79510). metric: 464\n",
      "Hyperparams: {'batch_size': 600, 'dt': 3.1622776e-07}., sample shape=(23, 79510). metric: 623\n",
      "Hyperparams: {'batch_size': 600, 'dt': 1e-07}., sample shape=(23, 79510). metric: 727\n",
      "Hyperparams: {'batch_size': 600, 'dt': 3.1622776e-08}., sample shape=(23, 79510). metric: 1105\n",
      "\n",
      "Number of samples: [22, 23, 23, 4, 23, 4, 4, 23, 23, 1, 1, 4]\n"
     ]
    },
    {
     "data": {
      "application/vnd.jupyter.widget-view+json": {
       "model_id": "09e5879bf91c40a2851a2acc21464968",
       "version_major": 2,
       "version_minor": 0
      },
      "text/plain": [
       "HBox(children=(HTML(value='Iteration 2/3, 12 arms, time budget = 2.31 sec'), FloatProgress(value=0.0, max=12.0…"
      ]
     },
     "metadata": {},
     "output_type": "display_data"
    },
    {
     "name": "stdout",
     "output_type": "stream",
     "text": [
      "Hyperparams: {'batch_size': 600, 'dt': 1e-05}., sample shape=(88, 79510). metric: 317\n",
      "Hyperparams: {'batch_size': 600, 'dt': 3.1622776e-06}., sample shape=(57, 79510). metric: 316\n",
      "Hyperparams: {'batch_size': 600, 'dt': 1e-06}., sample shape=(79, 79510). metric: 359\n",
      "Hyperparams: {'batch_size': 6000, 'dt': 1e-05}., sample shape=(13, 79510). metric: 406\n",
      "Hyperparams: {'batch_size': 600, 'dt': 3.1622776e-07}., sample shape=(82, 79510). metric: 452\n",
      "Hyperparams: {'batch_size': 6000, 'dt': 3.1622776e-06}., sample shape=(12, 79510). metric: 465\n",
      "Hyperparams: {'batch_size': 6000, 'dt': 1e-06}., sample shape=(12, 79510). metric: 589\n",
      "Hyperparams: {'batch_size': 600, 'dt': 1e-07}., sample shape=(78, 79510). metric: 559\n",
      "Hyperparams: {'batch_size': 600, 'dt': 3.1622776e-08}., sample shape=(83, 79510). metric: 872\n",
      "Hyperparams: {'batch_size': 60000, 'dt': 1e-05}., sample shape=(2, 79510). metric: 868\n",
      "Hyperparams: {'batch_size': 60000, 'dt': 3.1622776e-06}., sample shape=(2, 79510). metric: 1005\n",
      "Hyperparams: {'batch_size': 6000, 'dt': 1e-07}., sample shape=(12, 79510). metric: 1129\n",
      "\n",
      "Number of samples: [57, 88, 79, 13]\n"
     ]
    },
    {
     "data": {
      "application/vnd.jupyter.widget-view+json": {
       "model_id": "03fc6b0af61540debffd39cf2b950e72",
       "version_major": 2,
       "version_minor": 0
      },
      "text/plain": [
       "HBox(children=(HTML(value='Iteration 3/3, 4 arms, time budget = 6.92 sec'), FloatProgress(value=0.0, max=4.0),…"
      ]
     },
     "metadata": {},
     "output_type": "display_data"
    },
    {
     "name": "stdout",
     "output_type": "stream",
     "text": [
      "Hyperparams: {'batch_size': 600, 'dt': 3.1622776e-06}., sample shape=(226, 79510). metric: 174\n",
      "Hyperparams: {'batch_size': 600, 'dt': 1e-05}., sample shape=(260, 79510). metric: 230\n",
      "Hyperparams: {'batch_size': 600, 'dt': 1e-06}., sample shape=(252, 79510). metric: 253\n",
      "Hyperparams: {'batch_size': 6000, 'dt': 1e-05}., sample shape=(37, 79510). metric: 294\n",
      "\n",
      "Number of samples: [226]\n",
      "Running time: 496.2 sec\n",
      "{'batch_size': 600, 'dt': 3.1622776e-06} 174.00894 (226, 79510)\n"
     ]
    }
   ],
   "source": [
    "build_kernel = lambda dt, batch_size: build_sgldCV_kernel(dt, loglikelihood, \n",
    "                                                  logprior, data, batch_size, centering_value)\n",
    "grid_params = {'log_dt': -jnp.arange(2., 8., 0.5), \n",
    "               'batch_size': batch_size_range\n",
    "              }\n",
    "best_arm = run_MAMBA(key, build_kernel, err_fn, R, params_IC, grid_params=grid_params, get_fb_grads=get_fb_grads)\n",
    "\n",
    "print(best_arm.hyperparameters, best_arm.metric, best_arm.samples.shape)"
   ]
  },
  {
   "cell_type": "code",
   "execution_count": 6,
   "id": "d2be25a2",
   "metadata": {
    "collapsed": true
   },
   "outputs": [
    {
     "data": {
      "application/vnd.jupyter.widget-view+json": {
       "model_id": "b39582604ce04521a9328e383a93788f",
       "version_major": 2,
       "version_minor": 0
      },
      "text/plain": [
       "HBox(children=(HTML(value='Iteration 1/3, 72 arms, time budget = 0.77 sec'), FloatProgress(value=0.0, max=72.0…"
      ]
     },
     "metadata": {},
     "output_type": "display_data"
    },
    {
     "name": "stdout",
     "output_type": "stream",
     "text": [
      "Hyperparams: {'batch_size': 60000, 'L': 5, 'dt': 0.01}., sample shape=(1, 79510). metric: 44773\n",
      "Hyperparams: {'batch_size': 60000, 'L': 5, 'dt': 0.0031622776}., sample shape=(1, 79510). metric: 67544\n",
      "Hyperparams: {'batch_size': 60000, 'L': 5, 'dt': 0.001}., sample shape=(1, 79510). metric: 68994\n",
      "Hyperparams: {'batch_size': 60000, 'L': 5, 'dt': 0.00031622776}., sample shape=(1, 79510). metric: 80529\n",
      "Hyperparams: {'batch_size': 60000, 'L': 5, 'dt': 1e-04}., sample shape=(1, 79510). metric: 144456\n",
      "Hyperparams: {'batch_size': 60000, 'L': 5, 'dt': 3.1622778e-05}., sample shape=(1, 79510). metric: 16597\n",
      "Hyperparams: {'batch_size': 60000, 'L': 5, 'dt': 1e-05}., sample shape=(1, 79510). metric: 4157\n",
      "Hyperparams: {'batch_size': 60000, 'L': 5, 'dt': 3.1622776e-06}., sample shape=(1, 79510). metric: 1561\n",
      "Hyperparams: {'batch_size': 60000, 'L': 5, 'dt': 1e-06}., sample shape=(1, 79510). metric: 1046\n",
      "Hyperparams: {'batch_size': 60000, 'L': 5, 'dt': 3.1622776e-07}., sample shape=(1, 79510). metric: 1071\n",
      "Hyperparams: {'batch_size': 60000, 'L': 5, 'dt': 1e-07}., sample shape=(1, 79510). metric: 1382\n",
      "Hyperparams: {'batch_size': 60000, 'L': 5, 'dt': 3.1622776e-08}., sample shape=(1, 79510). metric: 1324\n",
      "Hyperparams: {'batch_size': 60000, 'L': 10, 'dt': 0.01}., sample shape=(1, 79510). metric: 82697\n",
      "Hyperparams: {'batch_size': 60000, 'L': 10, 'dt': 0.0031622776}., sample shape=(1, 79510). metric: 48015\n",
      "Hyperparams: {'batch_size': 60000, 'L': 10, 'dt': 0.001}., sample shape=(1, 79510). metric: 60813\n",
      "Hyperparams: {'batch_size': 60000, 'L': 10, 'dt': 0.00031622776}., sample shape=(1, 79510). metric: 53032\n",
      "Hyperparams: {'batch_size': 60000, 'L': 10, 'dt': 1e-04}., sample shape=(1, 79510). metric: 25150\n",
      "Hyperparams: {'batch_size': 60000, 'L': 10, 'dt': 3.1622778e-05}., sample shape=(1, 79510). metric: 84956\n",
      "Hyperparams: {'batch_size': 60000, 'L': 10, 'dt': 1e-05}., sample shape=(1, 79510). metric: 7286\n",
      "Hyperparams: {'batch_size': 60000, 'L': 10, 'dt': 3.1622776e-06}., sample shape=(1, 79510). metric: 1643\n",
      "Hyperparams: {'batch_size': 60000, 'L': 10, 'dt': 1e-06}., sample shape=(1, 79510). metric: 1397\n",
      "Hyperparams: {'batch_size': 60000, 'L': 10, 'dt': 3.1622776e-07}., sample shape=(1, 79510). metric: 1092\n",
      "Hyperparams: {'batch_size': 60000, 'L': 10, 'dt': 1e-07}., sample shape=(1, 79510). metric: 1217\n",
      "Hyperparams: {'batch_size': 60000, 'L': 10, 'dt': 3.1622776e-08}., sample shape=(1, 79510). metric: 1449\n",
      "Hyperparams: {'batch_size': 6000, 'L': 5, 'dt': 0.01}., sample shape=(2, 79510). metric: 57548\n",
      "Hyperparams: {'batch_size': 6000, 'L': 5, 'dt': 0.0031622776}., sample shape=(2, 79510). metric: 52680\n",
      "Hyperparams: {'batch_size': 6000, 'L': 5, 'dt': 0.001}., sample shape=(2, 79510). metric: 52112\n",
      "Hyperparams: {'batch_size': 6000, 'L': 5, 'dt': 0.00031622776}., sample shape=(2, 79510). metric: 57089\n",
      "Hyperparams: {'batch_size': 6000, 'L': 5, 'dt': 1e-04}., sample shape=(2, 79510). metric: 48720\n",
      "Hyperparams: {'batch_size': 6000, 'L': 5, 'dt': 3.1622778e-05}., sample shape=(2, 79510). metric: 15561\n",
      "Hyperparams: {'batch_size': 6000, 'L': 5, 'dt': 1e-05}., sample shape=(2, 79510). metric: 8446\n",
      "Hyperparams: {'batch_size': 6000, 'L': 5, 'dt': 3.1622776e-06}., sample shape=(2, 79510). metric: 11740\n",
      "Hyperparams: {'batch_size': 6000, 'L': 5, 'dt': 1e-06}., sample shape=(2, 79510). metric: 814\n",
      "Hyperparams: {'batch_size': 6000, 'L': 5, 'dt': 3.1622776e-07}., sample shape=(2, 79510). metric: 895\n",
      "Hyperparams: {'batch_size': 6000, 'L': 5, 'dt': 1e-07}., sample shape=(2, 79510). metric: 1103\n",
      "Hyperparams: {'batch_size': 6000, 'L': 5, 'dt': 3.1622776e-08}., sample shape=(2, 79510). metric: 1359\n",
      "Hyperparams: {'batch_size': 6000, 'L': 10, 'dt': 0.01}., sample shape=(1, 79510). metric: 76661\n",
      "Hyperparams: {'batch_size': 6000, 'L': 10, 'dt': 0.0031622776}., sample shape=(1, 79510). metric: 79799\n",
      "Hyperparams: {'batch_size': 6000, 'L': 10, 'dt': 0.001}., sample shape=(1, 79510). metric: 69631\n",
      "Hyperparams: {'batch_size': 6000, 'L': 10, 'dt': 0.00031622776}., sample shape=(1, 79510). metric: 52604\n",
      "Hyperparams: {'batch_size': 6000, 'L': 10, 'dt': 1e-04}., sample shape=(1, 79510). metric: 37525\n",
      "Hyperparams: {'batch_size': 6000, 'L': 10, 'dt': 3.1622778e-05}., sample shape=(1, 79510). metric: 100724\n",
      "Hyperparams: {'batch_size': 6000, 'L': 10, 'dt': 1e-05}., sample shape=(1, 79510). metric: 29324\n",
      "Hyperparams: {'batch_size': 6000, 'L': 10, 'dt': 3.1622776e-06}., sample shape=(1, 79510). metric: 2491\n",
      "Hyperparams: {'batch_size': 6000, 'L': 10, 'dt': 1e-06}., sample shape=(1, 79510). metric: 2060\n",
      "Hyperparams: {'batch_size': 6000, 'L': 10, 'dt': 3.1622776e-07}., sample shape=(1, 79510). metric: 1087\n",
      "Hyperparams: {'batch_size': 6000, 'L': 10, 'dt': 1e-07}., sample shape=(1, 79510). metric: 1289\n",
      "Hyperparams: {'batch_size': 6000, 'L': 10, 'dt': 3.1622776e-08}., sample shape=(1, 79510). metric: 1391\n",
      "Hyperparams: {'batch_size': 600, 'L': 5, 'dt': 0.01}., sample shape=(7, 79510). metric: 32253\n",
      "Hyperparams: {'batch_size': 600, 'L': 5, 'dt': 0.0031622776}., sample shape=(8, 79510). metric: 28693\n",
      "Hyperparams: {'batch_size': 600, 'L': 5, 'dt': 0.001}., sample shape=(8, 79510). metric: 27750\n",
      "Hyperparams: {'batch_size': 600, 'L': 5, 'dt': 0.00031622776}., sample shape=(8, 79510). metric: 26610\n",
      "Hyperparams: {'batch_size': 600, 'L': 5, 'dt': 1e-04}., sample shape=(7, 79510). metric: 18024\n",
      "Hyperparams: {'batch_size': 600, 'L': 5, 'dt': 3.1622778e-05}., sample shape=(8, 79510). metric: 7359\n",
      "Hyperparams: {'batch_size': 600, 'L': 5, 'dt': 1e-05}., sample shape=(8, 79510). metric: 6328\n",
      "Hyperparams: {'batch_size': 600, 'L': 5, 'dt': 3.1622776e-06}., sample shape=(7, 79510). metric: 6510\n",
      "Hyperparams: {'batch_size': 600, 'L': 5, 'dt': 1e-06}., sample shape=(8, 79510). metric: 701\n",
      "Hyperparams: {'batch_size': 600, 'L': 5, 'dt': 3.1622776e-07}., sample shape=(8, 79510). metric: 612\n",
      "Hyperparams: {'batch_size': 600, 'L': 5, 'dt': 1e-07}., sample shape=(8, 79510). metric: 690\n",
      "Hyperparams: {'batch_size': 600, 'L': 5, 'dt': 3.1622776e-08}., sample shape=(7, 79510). metric: 1128\n",
      "Hyperparams: {'batch_size': 600, 'L': 10, 'dt': 0.01}., sample shape=(4, 79510). metric: 43123\n",
      "Hyperparams: {'batch_size': 600, 'L': 10, 'dt': 0.0031622776}., sample shape=(5, 79510). metric: 35600\n",
      "Hyperparams: {'batch_size': 600, 'L': 10, 'dt': 0.001}., sample shape=(4, 79510). metric: 40332\n",
      "Hyperparams: {'batch_size': 600, 'L': 10, 'dt': 0.00031622776}., sample shape=(5, 79510). metric: 33215\n",
      "Hyperparams: {'batch_size': 600, 'L': 10, 'dt': 1e-04}., sample shape=(5, 79510). metric: 20567\n",
      "Hyperparams: {'batch_size': 600, 'L': 10, 'dt': 3.1622778e-05}., sample shape=(4, 79510). metric: 19612\n",
      "Hyperparams: {'batch_size': 600, 'L': 10, 'dt': 1e-05}., sample shape=(4, 79510). metric: 13393\n",
      "Hyperparams: {'batch_size': 600, 'L': 10, 'dt': 3.1622776e-06}., sample shape=(4, 79510). metric: 12299\n",
      "Hyperparams: {'batch_size': 600, 'L': 10, 'dt': 1e-06}., sample shape=(4, 79510). metric: 15884\n",
      "Hyperparams: {'batch_size': 600, 'L': 10, 'dt': 3.1622776e-07}., sample shape=(4, 79510). metric: 977\n",
      "Hyperparams: {'batch_size': 600, 'L': 10, 'dt': 1e-07}., sample shape=(4, 79510). metric: 673\n",
      "Hyperparams: {'batch_size': 600, 'L': 10, 'dt': 3.1622776e-08}., sample shape=(4, 79510). metric: 686\n",
      "\n",
      "Number of samples: [8, 4, 4, 8, 8, 2, 2, 4, 1, 1, 1, 1, 2, 7, 1, 1, 1, 2, 1, 1, 1, 1, 1, 1]\n"
     ]
    },
    {
     "data": {
      "application/vnd.jupyter.widget-view+json": {
       "model_id": "0a2b33680c4441bf974892ba8fcf94a0",
       "version_major": 2,
       "version_minor": 0
      },
      "text/plain": [
       "HBox(children=(HTML(value='Iteration 2/3, 24 arms, time budget = 2.31 sec'), FloatProgress(value=0.0, max=24.0…"
      ]
     },
     "metadata": {},
     "output_type": "display_data"
    },
    {
     "name": "stdout",
     "output_type": "stream",
     "text": [
      "Hyperparams: {'batch_size': 600, 'L': 5, 'dt': 3.1622776e-07}., sample shape=(30, 79510). metric: 419\n",
      "Hyperparams: {'batch_size': 600, 'L': 10, 'dt': 1e-07}., sample shape=(15, 79510). metric: 448\n",
      "Hyperparams: {'batch_size': 600, 'L': 10, 'dt': 3.1622776e-08}., sample shape=(15, 79510). metric: 515\n",
      "Hyperparams: {'batch_size': 600, 'L': 5, 'dt': 1e-07}., sample shape=(26, 79510). metric: 501\n",
      "Hyperparams: {'batch_size': 600, 'L': 5, 'dt': 1e-06}., sample shape=(26, 79510). metric: 543\n",
      "Hyperparams: {'batch_size': 6000, 'L': 5, 'dt': 1e-06}., sample shape=(5, 79510). metric: 730\n",
      "Hyperparams: {'batch_size': 6000, 'L': 5, 'dt': 3.1622776e-07}., sample shape=(6, 79510). metric: 576\n",
      "Hyperparams: {'batch_size': 600, 'L': 10, 'dt': 3.1622776e-07}., sample shape=(14, 79510). metric: 621\n",
      "Hyperparams: {'batch_size': 60000, 'L': 5, 'dt': 1e-06}., sample shape=(2, 79510). metric: 832\n",
      "Hyperparams: {'batch_size': 60000, 'L': 5, 'dt': 3.1622776e-07}., sample shape=(2, 79510). metric: 858\n",
      "Hyperparams: {'batch_size': 6000, 'L': 10, 'dt': 3.1622776e-07}., sample shape=(3, 79510). metric: 916\n",
      "Hyperparams: {'batch_size': 60000, 'L': 10, 'dt': 3.1622776e-07}., sample shape=(2, 79510). metric: 962\n",
      "Hyperparams: {'batch_size': 6000, 'L': 5, 'dt': 1e-07}., sample shape=(6, 79510). metric: 674\n",
      "Hyperparams: {'batch_size': 600, 'L': 5, 'dt': 3.1622776e-08}., sample shape=(24, 79510). metric: 829\n",
      "Hyperparams: {'batch_size': 60000, 'L': 10, 'dt': 1e-07}., sample shape=(2, 79510). metric: 1030\n",
      "Hyperparams: {'batch_size': 6000, 'L': 10, 'dt': 1e-07}., sample shape=(3, 79510). metric: 834\n",
      "Hyperparams: {'batch_size': 60000, 'L': 5, 'dt': 3.1622776e-08}., sample shape=(2, 79510). metric: 1278\n",
      "Hyperparams: {'batch_size': 6000, 'L': 5, 'dt': 3.1622776e-08}., sample shape=(5, 79510). metric: 1021\n",
      "Hyperparams: {'batch_size': 60000, 'L': 5, 'dt': 1e-07}., sample shape=(2, 79510). metric: 1260\n",
      "Hyperparams: {'batch_size': 6000, 'L': 10, 'dt': 3.1622776e-08}., sample shape=(3, 79510). metric: 896\n",
      "Hyperparams: {'batch_size': 60000, 'L': 10, 'dt': 1e-06}., sample shape=(2, 79510). metric: 1398\n",
      "Hyperparams: {'batch_size': 60000, 'L': 10, 'dt': 3.1622776e-08}., sample shape=(2, 79510). metric: 1367\n",
      "Hyperparams: {'batch_size': 60000, 'L': 5, 'dt': 3.1622776e-06}., sample shape=(2, 79510). metric: 2048\n",
      "Hyperparams: {'batch_size': 60000, 'L': 10, 'dt': 3.1622776e-06}., sample shape=(2, 79510). metric: 2522\n",
      "\n",
      "Number of samples: [30, 15, 26, 15, 26, 6, 14, 6]\n"
     ]
    },
    {
     "data": {
      "application/vnd.jupyter.widget-view+json": {
       "model_id": "8bf56130e6df40f59597a4de956ee738",
       "version_major": 2,
       "version_minor": 0
      },
      "text/plain": [
       "HBox(children=(HTML(value='Iteration 3/3, 8 arms, time budget = 6.92 sec'), FloatProgress(value=0.0, max=8.0),…"
      ]
     },
     "metadata": {},
     "output_type": "display_data"
    },
    {
     "name": "stdout",
     "output_type": "stream",
     "text": [
      "Hyperparams: {'batch_size': 600, 'L': 5, 'dt': 3.1622776e-07}., sample shape=(87, 79510). metric: 310\n",
      "Hyperparams: {'batch_size': 600, 'L': 10, 'dt': 1e-07}., sample shape=(46, 79510). metric: 326\n",
      "Hyperparams: {'batch_size': 600, 'L': 5, 'dt': 1e-07}., sample shape=(85, 79510). metric: 377\n",
      "Hyperparams: {'batch_size': 600, 'L': 10, 'dt': 3.1622776e-08}., sample shape=(45, 79510). metric: 377\n",
      "Hyperparams: {'batch_size': 600, 'L': 5, 'dt': 1e-06}., sample shape=(84, 79510). metric: 349\n",
      "Hyperparams: {'batch_size': 6000, 'L': 5, 'dt': 3.1622776e-07}., sample shape=(16, 79510). metric: 530\n",
      "Hyperparams: {'batch_size': 600, 'L': 10, 'dt': 3.1622776e-07}., sample shape=(44, 79510). metric: 401\n",
      "Hyperparams: {'batch_size': 6000, 'L': 5, 'dt': 1e-07}., sample shape=(15, 79510). metric: 553\n",
      "\n",
      "Number of samples: [87, 46]\n",
      "Running time: 847.9 sec\n",
      "{'batch_size': 600, 'L': 5, 'dt': 3.1622776e-07} 309.57224 (87, 79510)\n"
     ]
    }
   ],
   "source": [
    "build_kernel = lambda dt, L, batch_size: build_sghmc_kernel(dt, L, loglikelihood, \n",
    "                                                  logprior, data, batch_size)\n",
    "\n",
    "grid_params = {'log_dt': -jnp.arange(2., 8., 0.5), \n",
    "               'batch_size': batch_size_range,\n",
    "               \"L\": [5, 10]\n",
    "              }\n",
    "best_arm = run_MAMBA(key, build_kernel, err_fn, R, params_IC, grid_params=grid_params, get_fb_grads=get_fb_grads)\n",
    "\n",
    "print(best_arm.hyperparameters, best_arm.metric, best_arm.samples.shape)"
   ]
  },
  {
   "cell_type": "code",
   "execution_count": 7,
   "id": "d25daf64",
   "metadata": {
    "collapsed": true
   },
   "outputs": [
    {
     "data": {
      "application/vnd.jupyter.widget-view+json": {
       "model_id": "66d3437dd7ba42a88c2553b37afdc936",
       "version_major": 2,
       "version_minor": 0
      },
      "text/plain": [
       "HBox(children=(HTML(value='Iteration 1/3, 72 arms, time budget = 0.77 sec'), FloatProgress(value=0.0, max=72.0…"
      ]
     },
     "metadata": {},
     "output_type": "display_data"
    },
    {
     "name": "stdout",
     "output_type": "stream",
     "text": [
      "Hyperparams: {'batch_size': 60000, 'L': 5, 'dt': 0.01}., sample shape=(1, 79510). metric: 81607\n",
      "Hyperparams: {'batch_size': 60000, 'L': 5, 'dt': 0.0031622776}., sample shape=(1, 79510). metric: 47814\n",
      "Hyperparams: {'batch_size': 60000, 'L': 5, 'dt': 0.001}., sample shape=(1, 79510). metric: 65174\n",
      "Hyperparams: {'batch_size': 60000, 'L': 5, 'dt': 0.00031622776}., sample shape=(1, 79510). metric: 80537\n",
      "Hyperparams: {'batch_size': 60000, 'L': 5, 'dt': 1e-04}., sample shape=(1, 79510). metric: 136342\n",
      "Hyperparams: {'batch_size': 60000, 'L': 5, 'dt': 3.1622778e-05}., sample shape=(1, 79510). metric: 29428\n",
      "Hyperparams: {'batch_size': 60000, 'L': 5, 'dt': 1e-05}., sample shape=(1, 79510). metric: 3973\n",
      "Hyperparams: {'batch_size': 60000, 'L': 5, 'dt': 3.1622776e-06}., sample shape=(1, 79510). metric: 1684\n",
      "Hyperparams: {'batch_size': 60000, 'L': 5, 'dt': 1e-06}., sample shape=(1, 79510). metric: 1065\n",
      "Hyperparams: {'batch_size': 60000, 'L': 5, 'dt': 3.1622776e-07}., sample shape=(1, 79510). metric: 1067\n",
      "Hyperparams: {'batch_size': 60000, 'L': 5, 'dt': 1e-07}., sample shape=(1, 79510). metric: 1375\n",
      "Hyperparams: {'batch_size': 60000, 'L': 5, 'dt': 3.1622776e-08}., sample shape=(1, 79510). metric: 1326\n",
      "Hyperparams: {'batch_size': 60000, 'L': 10, 'dt': 0.01}., sample shape=(1, 79510). metric: 82677\n",
      "Hyperparams: {'batch_size': 60000, 'L': 10, 'dt': 0.0031622776}., sample shape=(1, 79510). metric: 71676\n",
      "Hyperparams: {'batch_size': 60000, 'L': 10, 'dt': 0.001}., sample shape=(1, 79510). metric: 48070\n",
      "Hyperparams: {'batch_size': 60000, 'L': 10, 'dt': 0.00031622776}., sample shape=(1, 79510). metric: 44347\n",
      "Hyperparams: {'batch_size': 60000, 'L': 10, 'dt': 1e-04}., sample shape=(1, 79510). metric: 28712\n",
      "Hyperparams: {'batch_size': 60000, 'L': 10, 'dt': 3.1622778e-05}., sample shape=(1, 79510). metric: 84403\n",
      "Hyperparams: {'batch_size': 60000, 'L': 10, 'dt': 1e-05}., sample shape=(1, 79510). metric: 8109\n",
      "Hyperparams: {'batch_size': 60000, 'L': 10, 'dt': 3.1622776e-06}., sample shape=(1, 79510). metric: 1776\n",
      "Hyperparams: {'batch_size': 60000, 'L': 10, 'dt': 1e-06}., sample shape=(1, 79510). metric: 1376\n",
      "Hyperparams: {'batch_size': 60000, 'L': 10, 'dt': 3.1622776e-07}., sample shape=(1, 79510). metric: 1084\n",
      "Hyperparams: {'batch_size': 60000, 'L': 10, 'dt': 1e-07}., sample shape=(1, 79510). metric: 1208\n",
      "Hyperparams: {'batch_size': 60000, 'L': 10, 'dt': 3.1622776e-08}., sample shape=(1, 79510). metric: 1446\n",
      "Hyperparams: {'batch_size': 6000, 'L': 5, 'dt': 0.01}., sample shape=(1, 79510). metric: 68892\n",
      "Hyperparams: {'batch_size': 6000, 'L': 5, 'dt': 0.0031622776}., sample shape=(1, 79510). metric: 70930\n",
      "Hyperparams: {'batch_size': 6000, 'L': 5, 'dt': 0.001}., sample shape=(1, 79510). metric: 53870\n",
      "Hyperparams: {'batch_size': 6000, 'L': 5, 'dt': 0.00031622776}., sample shape=(1, 79510). metric: 80511\n",
      "Hyperparams: {'batch_size': 6000, 'L': 5, 'dt': 1e-04}., sample shape=(1, 79510). metric: 134652\n",
      "Hyperparams: {'batch_size': 6000, 'L': 5, 'dt': 3.1622778e-05}., sample shape=(1, 79510). metric: 16218\n",
      "Hyperparams: {'batch_size': 6000, 'L': 5, 'dt': 1e-05}., sample shape=(1, 79510). metric: 4134\n",
      "Hyperparams: {'batch_size': 6000, 'L': 5, 'dt': 3.1622776e-06}., sample shape=(1, 79510). metric: 996\n",
      "Hyperparams: {'batch_size': 6000, 'L': 5, 'dt': 1e-06}., sample shape=(1, 79510). metric: 1039\n",
      "Hyperparams: {'batch_size': 6000, 'L': 5, 'dt': 3.1622776e-07}., sample shape=(1, 79510). metric: 1265\n",
      "Hyperparams: {'batch_size': 6000, 'L': 5, 'dt': 1e-07}., sample shape=(1, 79510). metric: 1333\n",
      "Hyperparams: {'batch_size': 6000, 'L': 5, 'dt': 3.1622776e-08}., sample shape=(1, 79510). metric: 1445\n",
      "Hyperparams: {'batch_size': 6000, 'L': 10, 'dt': 0.01}., sample shape=(1, 79510). metric: 83379\n",
      "Hyperparams: {'batch_size': 6000, 'L': 10, 'dt': 0.0031622776}., sample shape=(1, 79510). metric: 77477\n",
      "Hyperparams: {'batch_size': 6000, 'L': 10, 'dt': 0.001}., sample shape=(1, 79510). metric: 54975\n",
      "Hyperparams: {'batch_size': 6000, 'L': 10, 'dt': 0.00031622776}., sample shape=(1, 79510). metric: 54510\n",
      "Hyperparams: {'batch_size': 6000, 'L': 10, 'dt': 1e-04}., sample shape=(1, 79510). metric: 20772\n",
      "Hyperparams: {'batch_size': 6000, 'L': 10, 'dt': 3.1622778e-05}., sample shape=(1, 79510). metric: 88385\n",
      "Hyperparams: {'batch_size': 6000, 'L': 10, 'dt': 1e-05}., sample shape=(1, 79510). metric: 15605\n",
      "Hyperparams: {'batch_size': 6000, 'L': 10, 'dt': 3.1622776e-06}., sample shape=(1, 79510). metric: 1638\n",
      "Hyperparams: {'batch_size': 6000, 'L': 10, 'dt': 1e-06}., sample shape=(1, 79510). metric: 1753\n",
      "Hyperparams: {'batch_size': 6000, 'L': 10, 'dt': 3.1622776e-07}., sample shape=(1, 79510). metric: 1049\n",
      "Hyperparams: {'batch_size': 6000, 'L': 10, 'dt': 1e-07}., sample shape=(1, 79510). metric: 1253\n",
      "Hyperparams: {'batch_size': 6000, 'L': 10, 'dt': 3.1622776e-08}., sample shape=(1, 79510). metric: 1375\n",
      "Hyperparams: {'batch_size': 600, 'L': 5, 'dt': 0.01}., sample shape=(5, 79510). metric: 38649\n",
      "Hyperparams: {'batch_size': 600, 'L': 5, 'dt': 0.0031622776}., sample shape=(5, 79510). metric: 34015\n",
      "Hyperparams: {'batch_size': 600, 'L': 5, 'dt': 0.001}., sample shape=(5, 79510). metric: 36003\n",
      "Hyperparams: {'batch_size': 600, 'L': 5, 'dt': 0.00031622776}., sample shape=(5, 79510). metric: 35390\n",
      "Hyperparams: {'batch_size': 600, 'L': 5, 'dt': 1e-04}., sample shape=(5, 79510). metric: 32800\n",
      "Hyperparams: {'batch_size': 600, 'L': 5, 'dt': 3.1622778e-05}., sample shape=(5, 79510). metric: 9469\n",
      "Hyperparams: {'batch_size': 600, 'L': 5, 'dt': 1e-05}., sample shape=(5, 79510). metric: 10446\n",
      "Hyperparams: {'batch_size': 600, 'L': 5, 'dt': 3.1622776e-06}., sample shape=(5, 79510). metric: 8429\n",
      "Hyperparams: {'batch_size': 600, 'L': 5, 'dt': 1e-06}., sample shape=(5, 79510). metric: 510\n",
      "Hyperparams: {'batch_size': 600, 'L': 5, 'dt': 3.1622776e-07}., sample shape=(5, 79510). metric: 587\n",
      "Hyperparams: {'batch_size': 600, 'L': 5, 'dt': 1e-07}., sample shape=(5, 79510). metric: 776\n",
      "Hyperparams: {'batch_size': 600, 'L': 5, 'dt': 3.1622776e-08}., sample shape=(5, 79510). metric: 1112\n",
      "Hyperparams: {'batch_size': 600, 'L': 10, 'dt': 0.01}., sample shape=(3, 79510). metric: 96803\n",
      "Hyperparams: {'batch_size': 600, 'L': 10, 'dt': 0.0031622776}., sample shape=(3, 79510). metric: 49851\n",
      "Hyperparams: {'batch_size': 600, 'L': 10, 'dt': 0.001}., sample shape=(3, 79510). metric: 44893\n",
      "Hyperparams: {'batch_size': 600, 'L': 10, 'dt': 0.00031622776}., sample shape=(3, 79510). metric: 50167\n",
      "Hyperparams: {'batch_size': 600, 'L': 10, 'dt': 1e-04}., sample shape=(3, 79510). metric: 38767\n",
      "Hyperparams: {'batch_size': 600, 'L': 10, 'dt': 3.1622778e-05}., sample shape=(3, 79510). metric: 28702\n",
      "Hyperparams: {'batch_size': 600, 'L': 10, 'dt': 1e-05}., sample shape=(3, 79510). metric: 9968\n",
      "Hyperparams: {'batch_size': 600, 'L': 10, 'dt': 3.1622776e-06}., sample shape=(3, 79510). metric: 12879\n",
      "Hyperparams: {'batch_size': 600, 'L': 10, 'dt': 1e-06}., sample shape=(3, 79510). metric: 17224\n",
      "Hyperparams: {'batch_size': 600, 'L': 10, 'dt': 3.1622776e-07}., sample shape=(3, 79510). metric: 679\n",
      "Hyperparams: {'batch_size': 600, 'L': 10, 'dt': 1e-07}., sample shape=(3, 79510). metric: 637\n",
      "Hyperparams: {'batch_size': 600, 'L': 10, 'dt': 3.1622776e-08}., sample shape=(3, 79510). metric: 847\n",
      "\n",
      "Number of samples: [5, 5, 3, 3, 5, 3, 1, 1, 1, 1, 1, 1, 5, 1, 1, 1, 1, 1, 1, 1, 1, 1, 1, 1]\n"
     ]
    },
    {
     "data": {
      "application/vnd.jupyter.widget-view+json": {
       "model_id": "60006aa99086435b8b94af3a911a14e2",
       "version_major": 2,
       "version_minor": 0
      },
      "text/plain": [
       "HBox(children=(HTML(value='Iteration 2/3, 24 arms, time budget = 2.31 sec'), FloatProgress(value=0.0, max=24.0…"
      ]
     },
     "metadata": {},
     "output_type": "display_data"
    },
    {
     "name": "stdout",
     "output_type": "stream",
     "text": [
      "Hyperparams: {'batch_size': 600, 'L': 5, 'dt': 1e-06}., sample shape=(19, 79510). metric: 373\n",
      "Hyperparams: {'batch_size': 600, 'L': 5, 'dt': 3.1622776e-07}., sample shape=(19, 79510). metric: 391\n",
      "Hyperparams: {'batch_size': 600, 'L': 10, 'dt': 1e-07}., sample shape=(10, 79510). metric: 518\n",
      "Hyperparams: {'batch_size': 600, 'L': 10, 'dt': 3.1622776e-07}., sample shape=(10, 79510). metric: 422\n",
      "Hyperparams: {'batch_size': 600, 'L': 5, 'dt': 1e-07}., sample shape=(18, 79510). metric: 513\n",
      "Hyperparams: {'batch_size': 600, 'L': 10, 'dt': 3.1622776e-08}., sample shape=(10, 79510). metric: 566\n",
      "Hyperparams: {'batch_size': 6000, 'L': 5, 'dt': 3.1622776e-06}., sample shape=(3, 79510). metric: 8588\n",
      "Hyperparams: {'batch_size': 6000, 'L': 5, 'dt': 1e-06}., sample shape=(3, 79510). metric: 793\n",
      "Hyperparams: {'batch_size': 6000, 'L': 10, 'dt': 3.1622776e-07}., sample shape=(2, 79510). metric: 811\n",
      "Hyperparams: {'batch_size': 60000, 'L': 5, 'dt': 1e-06}., sample shape=(2, 79510). metric: 992\n",
      "Hyperparams: {'batch_size': 60000, 'L': 5, 'dt': 3.1622776e-07}., sample shape=(2, 79510). metric: 1005\n",
      "Hyperparams: {'batch_size': 60000, 'L': 10, 'dt': 3.1622776e-07}., sample shape=(2, 79510). metric: 975\n",
      "Hyperparams: {'batch_size': 600, 'L': 5, 'dt': 3.1622776e-08}., sample shape=(18, 79510). metric: 884\n",
      "Hyperparams: {'batch_size': 60000, 'L': 10, 'dt': 1e-07}., sample shape=(2, 79510). metric: 1242\n",
      "Hyperparams: {'batch_size': 6000, 'L': 10, 'dt': 1e-07}., sample shape=(2, 79510). metric: 849\n",
      "Hyperparams: {'batch_size': 6000, 'L': 5, 'dt': 3.1622776e-07}., sample shape=(3, 79510). metric: 661\n",
      "Hyperparams: {'batch_size': 60000, 'L': 5, 'dt': 3.1622776e-08}., sample shape=(2, 79510). metric: 1280\n",
      "Hyperparams: {'batch_size': 6000, 'L': 5, 'dt': 1e-07}., sample shape=(3, 79510). metric: 749\n",
      "Hyperparams: {'batch_size': 6000, 'L': 10, 'dt': 3.1622776e-08}., sample shape=(2, 79510). metric: 1239\n",
      "Hyperparams: {'batch_size': 60000, 'L': 5, 'dt': 1e-07}., sample shape=(2, 79510). metric: 1246\n",
      "Hyperparams: {'batch_size': 60000, 'L': 10, 'dt': 1e-06}., sample shape=(2, 79510). metric: 1347\n",
      "Hyperparams: {'batch_size': 6000, 'L': 5, 'dt': 3.1622776e-08}., sample shape=(3, 79510). metric: 1109\n",
      "Hyperparams: {'batch_size': 60000, 'L': 10, 'dt': 3.1622776e-08}., sample shape=(2, 79510). metric: 1284\n",
      "Hyperparams: {'batch_size': 6000, 'L': 10, 'dt': 3.1622776e-06}., sample shape=(2, 79510). metric: 10151\n",
      "\n",
      "Number of samples: [19, 19, 10, 18, 10, 10, 3, 3]\n"
     ]
    },
    {
     "data": {
      "application/vnd.jupyter.widget-view+json": {
       "model_id": "088a674c988d45cf8718847a8485417f",
       "version_major": 2,
       "version_minor": 0
      },
      "text/plain": [
       "HBox(children=(HTML(value='Iteration 3/3, 8 arms, time budget = 6.92 sec'), FloatProgress(value=0.0, max=8.0),…"
      ]
     },
     "metadata": {},
     "output_type": "display_data"
    },
    {
     "name": "stdout",
     "output_type": "stream",
     "text": [
      "Hyperparams: {'batch_size': 600, 'L': 5, 'dt': 1e-06}., sample shape=(58, 79510). metric: 258\n",
      "Hyperparams: {'batch_size': 600, 'L': 5, 'dt': 3.1622776e-07}., sample shape=(58, 79510). metric: 300\n",
      "Hyperparams: {'batch_size': 600, 'L': 10, 'dt': 3.1622776e-07}., sample shape=(30, 79510). metric: 311\n",
      "Hyperparams: {'batch_size': 600, 'L': 5, 'dt': 1e-07}., sample shape=(57, 79510). metric: 379\n",
      "Hyperparams: {'batch_size': 600, 'L': 10, 'dt': 1e-07}., sample shape=(30, 79510). metric: 339\n",
      "Hyperparams: {'batch_size': 600, 'L': 10, 'dt': 3.1622776e-08}., sample shape=(30, 79510). metric: 409\n",
      "Hyperparams: {'batch_size': 6000, 'L': 5, 'dt': 3.1622776e-07}., sample shape=(9, 79510). metric: 489\n",
      "Hyperparams: {'batch_size': 6000, 'L': 5, 'dt': 1e-07}., sample shape=(9, 79510). metric: 603\n",
      "\n",
      "Number of samples: [58, 58]\n",
      "Running time: 996.2 sec\n",
      "{'batch_size': 600, 'L': 5, 'dt': 1e-06} 258.42096 (58, 79510)\n"
     ]
    }
   ],
   "source": [
    "build_kernel = lambda dt, L, batch_size: build_sghmcCV_kernel(dt, L, loglikelihood, \n",
    "                                                  logprior, data, batch_size, centering_value)\n",
    "\n",
    "grid_params = {'log_dt': -jnp.arange(2., 8., 0.5), \n",
    "               'batch_size': batch_size_range,\n",
    "               \"L\": [5, 10]\n",
    "              }\n",
    "best_arm = run_MAMBA(key, build_kernel, err_fn, R, params_IC, grid_params=grid_params, get_fb_grads=get_fb_grads)\n",
    "\n",
    "print(best_arm.hyperparameters, best_arm.metric, best_arm.samples.shape)"
   ]
  },
  {
   "cell_type": "code",
   "execution_count": 5,
   "id": "4817772c",
   "metadata": {
    "collapsed": true
   },
   "outputs": [
    {
     "data": {
      "application/vnd.jupyter.widget-view+json": {
       "model_id": "6970d2dc71d24bb99a98477c19ced37d",
       "version_major": 2,
       "version_minor": 0
      },
      "text/plain": [
       "HBox(children=(HTML(value='Iteration 1/3, 36 arms, time budget = 0.77 sec'), FloatProgress(value=0.0, max=36.0…"
      ]
     },
     "metadata": {},
     "output_type": "display_data"
    },
    {
     "name": "stdout",
     "output_type": "stream",
     "text": [
      "Hyperparams: {'batch_size': 60000, 'dt': 0.01}., sample shape=(1, 79510). metric: 81348\n",
      "Hyperparams: {'batch_size': 60000, 'dt': 0.0031622776}., sample shape=(1, 79510). metric: 105126\n",
      "Hyperparams: {'batch_size': 60000, 'dt': 0.001}., sample shape=(1, 79510). metric: 81248\n",
      "Hyperparams: {'batch_size': 60000, 'dt': 0.00031622776}., sample shape=(1, 79510). metric: 32771\n",
      "Hyperparams: {'batch_size': 60000, 'dt': 1e-04}., sample shape=(1, 79510). metric: 8883\n",
      "Hyperparams: {'batch_size': 60000, 'dt': 3.1622778e-05}., sample shape=(1, 79510). metric: 1058\n",
      "Hyperparams: {'batch_size': 60000, 'dt': 1e-05}., sample shape=(1, 79510). metric: 859\n",
      "Hyperparams: {'batch_size': 60000, 'dt': 3.1622776e-06}., sample shape=(1, 79510). metric: 1489\n",
      "Hyperparams: {'batch_size': 60000, 'dt': 1e-06}., sample shape=(1, 79510). metric: 1418\n",
      "Hyperparams: {'batch_size': 60000, 'dt': 3.1622776e-07}., sample shape=(1, 79510). metric: 1410\n",
      "Hyperparams: {'batch_size': 60000, 'dt': 1e-07}., sample shape=(1, 79510). metric: 1448\n",
      "Hyperparams: {'batch_size': 60000, 'dt': 3.1622776e-08}., sample shape=(1, 79510). metric: 1458\n",
      "Hyperparams: {'batch_size': 6000, 'dt': 0.01}., sample shape=(6, 79510). metric: inf\n",
      "Hyperparams: {'batch_size': 6000, 'dt': 0.0031622776}., sample shape=(5, 79510). metric: inf\n",
      "Hyperparams: {'batch_size': 6000, 'dt': 0.001}., sample shape=(6, 79510). metric: inf\n",
      "Hyperparams: {'batch_size': 6000, 'dt': 0.00031622776}., sample shape=(6, 79510). metric: inf\n",
      "Hyperparams: {'batch_size': 6000, 'dt': 1e-04}., sample shape=(6, 79510). metric: 3317\n",
      "Hyperparams: {'batch_size': 6000, 'dt': 3.1622778e-05}., sample shape=(6, 79510). metric: 5910\n",
      "Hyperparams: {'batch_size': 6000, 'dt': 1e-05}., sample shape=(6, 79510). metric: 1352\n",
      "Hyperparams: {'batch_size': 6000, 'dt': 3.1622776e-06}., sample shape=(4, 79510). metric: 1327\n",
      "Hyperparams: {'batch_size': 6000, 'dt': 1e-06}., sample shape=(5, 79510). metric: 680\n",
      "Hyperparams: {'batch_size': 6000, 'dt': 3.1622776e-07}., sample shape=(6, 79510). metric: 624\n",
      "Hyperparams: {'batch_size': 6000, 'dt': 1e-07}., sample shape=(6, 79510). metric: 680\n",
      "Hyperparams: {'batch_size': 6000, 'dt': 3.1622776e-08}., sample shape=(6, 79510). metric: 969\n",
      "Hyperparams: {'batch_size': 600, 'dt': 0.01}., sample shape=(31, 79510). metric: inf\n",
      "Hyperparams: {'batch_size': 600, 'dt': 0.0031622776}., sample shape=(31, 79510). metric: inf\n",
      "Hyperparams: {'batch_size': 600, 'dt': 0.001}., sample shape=(31, 79510). metric: inf\n",
      "Hyperparams: {'batch_size': 600, 'dt': 0.00031622776}., sample shape=(31, 79510). metric: inf\n",
      "Hyperparams: {'batch_size': 600, 'dt': 1e-04}., sample shape=(31, 79510). metric: inf\n",
      "Hyperparams: {'batch_size': 600, 'dt': 3.1622778e-05}., sample shape=(31, 79510). metric: 1101\n",
      "Hyperparams: {'batch_size': 600, 'dt': 1e-05}., sample shape=(31, 79510). metric: 1182\n",
      "Hyperparams: {'batch_size': 600, 'dt': 3.1622776e-06}., sample shape=(31, 79510). metric: 1970\n",
      "Hyperparams: {'batch_size': 600, 'dt': 1e-06}., sample shape=(32, 79510). metric: 1144\n",
      "Hyperparams: {'batch_size': 600, 'dt': 3.1622776e-07}., sample shape=(31, 79510). metric: 748\n",
      "Hyperparams: {'batch_size': 600, 'dt': 1e-07}., sample shape=(32, 79510). metric: 700\n",
      "Hyperparams: {'batch_size': 600, 'dt': 3.1622776e-08}., sample shape=(32, 79510). metric: 511\n",
      "\n",
      "Number of samples: [32, 6, 5, 6, 32, 31, 1, 6, 1, 31, 32, 31]\n"
     ]
    },
    {
     "data": {
      "application/vnd.jupyter.widget-view+json": {
       "model_id": "31949e1fde9b4443961841a1b67c9691",
       "version_major": 2,
       "version_minor": 0
      },
      "text/plain": [
       "HBox(children=(HTML(value='Iteration 2/3, 12 arms, time budget = 2.31 sec'), FloatProgress(value=0.0, max=12.0…"
      ]
     },
     "metadata": {},
     "output_type": "display_data"
    },
    {
     "name": "stdout",
     "output_type": "stream",
     "text": [
      "Hyperparams: {'batch_size': 600, 'dt': 3.1622776e-08}., sample shape=(122, 79510). metric: 429\n",
      "Hyperparams: {'batch_size': 6000, 'dt': 3.1622776e-07}., sample shape=(21, 79510). metric: 470\n",
      "Hyperparams: {'batch_size': 6000, 'dt': 1e-06}., sample shape=(18, 79510). metric: 634\n",
      "Hyperparams: {'batch_size': 6000, 'dt': 1e-07}., sample shape=(19, 79510). metric: 513\n",
      "Hyperparams: {'batch_size': 600, 'dt': 1e-07}., sample shape=(115, 79510). metric: 468\n",
      "Hyperparams: {'batch_size': 600, 'dt': 3.1622776e-07}., sample shape=(125, 79510). metric: 569\n",
      "Hyperparams: {'batch_size': 60000, 'dt': 1e-05}., sample shape=(4, 79510). metric: 670\n",
      "Hyperparams: {'batch_size': 6000, 'dt': 3.1622776e-08}., sample shape=(19, 79510). metric: 601\n",
      "Hyperparams: {'batch_size': 60000, 'dt': 3.1622778e-05}., sample shape=(4, 79510). metric: 1094\n",
      "Hyperparams: {'batch_size': 600, 'dt': 3.1622778e-05}., sample shape=(106, 79510). metric: 251\n",
      "Hyperparams: {'batch_size': 600, 'dt': 1e-06}., sample shape=(125, 79510). metric: 688\n",
      "Hyperparams: {'batch_size': 600, 'dt': 1e-05}., sample shape=(124, 79510). metric: 290\n",
      "\n",
      "Number of samples: [106, 124, 122, 115]\n"
     ]
    },
    {
     "data": {
      "application/vnd.jupyter.widget-view+json": {
       "model_id": "5e8b1572c25f4cf1a92b2b2cfe0375a1",
       "version_major": 2,
       "version_minor": 0
      },
      "text/plain": [
       "HBox(children=(HTML(value='Iteration 3/3, 4 arms, time budget = 6.92 sec'), FloatProgress(value=0.0, max=4.0),…"
      ]
     },
     "metadata": {},
     "output_type": "display_data"
    },
    {
     "name": "stdout",
     "output_type": "stream",
     "text": [
      "Hyperparams: {'batch_size': 600, 'dt': 3.1622778e-05}., sample shape=(373, 79510). metric: 133\n",
      "Hyperparams: {'batch_size': 600, 'dt': 1e-05}., sample shape=(402, 79510). metric: 145\n",
      "Hyperparams: {'batch_size': 600, 'dt': 3.1622776e-08}., sample shape=(397, 79510). metric: 272\n",
      "Hyperparams: {'batch_size': 600, 'dt': 1e-07}., sample shape=(374, 79510). metric: 299\n",
      "\n",
      "Number of samples: [373]\n",
      "Running time: 1003.7 sec\n",
      "{'batch_size': 600, 'dt': 3.1622778e-05} 132.67917 (373, 79510)\n"
     ]
    }
   ],
   "source": [
    "build_kernel = lambda dt, batch_size: build_sgnht_kernel(dt, loglikelihood, logprior, data, batch_size)\n",
    "\n",
    "grid_params = {'log_dt': -jnp.arange(2., 8., 0.5), \n",
    "               'batch_size': batch_size_range\n",
    "              }\n",
    "best_arm = run_MAMBA(key, build_kernel, err_fn, R, params_IC, grid_params=grid_params, get_fb_grads=get_fb_grads)\n",
    "\n",
    "print(best_arm.hyperparameters, best_arm.metric, best_arm.samples.shape)"
   ]
  },
  {
   "cell_type": "code",
   "execution_count": 8,
   "id": "fdd0e3a2",
   "metadata": {},
   "outputs": [
    {
     "data": {
      "application/vnd.jupyter.widget-view+json": {
       "model_id": "36ed41b34cbb4c3a834ba54a186dea1f",
       "version_major": 2,
       "version_minor": 0
      },
      "text/plain": [
       "HBox(children=(HTML(value='Iteration 1/3, 36 arms, time budget = 0.77 sec'), FloatProgress(value=0.0, max=36.0…"
      ]
     },
     "metadata": {},
     "output_type": "display_data"
    },
    {
     "name": "stdout",
     "output_type": "stream",
     "text": [
      "Hyperparams: {'batch_size': 60000, 'dt': 0.01}., sample shape=(1, 79510). metric: 81125\n",
      "Hyperparams: {'batch_size': 60000, 'dt': 0.0031622776}., sample shape=(1, 79510). metric: 115621\n",
      "Hyperparams: {'batch_size': 60000, 'dt': 0.001}., sample shape=(1, 79510). metric: 80055\n",
      "Hyperparams: {'batch_size': 60000, 'dt': 0.00031622776}., sample shape=(1, 79510). metric: 32264\n",
      "Hyperparams: {'batch_size': 60000, 'dt': 1e-04}., sample shape=(1, 79510). metric: 7548\n",
      "Hyperparams: {'batch_size': 60000, 'dt': 3.1622778e-05}., sample shape=(1, 79510). metric: 1961\n",
      "Hyperparams: {'batch_size': 60000, 'dt': 1e-05}., sample shape=(1, 79510). metric: 877\n",
      "Hyperparams: {'batch_size': 60000, 'dt': 3.1622776e-06}., sample shape=(1, 79510). metric: 1441\n",
      "Hyperparams: {'batch_size': 60000, 'dt': 1e-06}., sample shape=(1, 79510). metric: 1429\n",
      "Hyperparams: {'batch_size': 60000, 'dt': 3.1622776e-07}., sample shape=(1, 79510). metric: 1408\n",
      "Hyperparams: {'batch_size': 60000, 'dt': 1e-07}., sample shape=(1, 79510). metric: 1446\n",
      "Hyperparams: {'batch_size': 60000, 'dt': 3.1622776e-08}., sample shape=(1, 79510). metric: 1459\n",
      "Hyperparams: {'batch_size': 6000, 'dt': 0.01}., sample shape=(4, 79510). metric: inf\n",
      "Hyperparams: {'batch_size': 6000, 'dt': 0.0031622776}., sample shape=(4, 79510). metric: inf\n",
      "Hyperparams: {'batch_size': 6000, 'dt': 0.001}., sample shape=(4, 79510). metric: inf\n",
      "Hyperparams: {'batch_size': 6000, 'dt': 0.00031622776}., sample shape=(4, 79510). metric: inf\n",
      "Hyperparams: {'batch_size': 6000, 'dt': 1e-04}., sample shape=(4, 79510). metric: 2883\n",
      "Hyperparams: {'batch_size': 6000, 'dt': 3.1622778e-05}., sample shape=(4, 79510). metric: 3513\n",
      "Hyperparams: {'batch_size': 6000, 'dt': 1e-05}., sample shape=(4, 79510). metric: 598\n",
      "Hyperparams: {'batch_size': 6000, 'dt': 3.1622776e-06}., sample shape=(4, 79510). metric: 619\n",
      "Hyperparams: {'batch_size': 6000, 'dt': 1e-06}., sample shape=(3, 79510). metric: 764\n",
      "Hyperparams: {'batch_size': 6000, 'dt': 3.1622776e-07}., sample shape=(4, 79510). metric: 666\n",
      "Hyperparams: {'batch_size': 6000, 'dt': 1e-07}., sample shape=(4, 79510). metric: 828\n",
      "Hyperparams: {'batch_size': 6000, 'dt': 3.1622776e-08}., sample shape=(4, 79510). metric: 1224\n",
      "Hyperparams: {'batch_size': 600, 'dt': 0.01}., sample shape=(22, 79510). metric: inf\n",
      "Hyperparams: {'batch_size': 600, 'dt': 0.0031622776}., sample shape=(22, 79510). metric: inf\n",
      "Hyperparams: {'batch_size': 600, 'dt': 0.001}., sample shape=(22, 79510). metric: inf\n",
      "Hyperparams: {'batch_size': 600, 'dt': 0.00031622776}., sample shape=(22, 79510). metric: inf\n",
      "Hyperparams: {'batch_size': 600, 'dt': 1e-04}., sample shape=(22, 79510). metric: inf\n",
      "Hyperparams: {'batch_size': 600, 'dt': 3.1622778e-05}., sample shape=(22, 79510). metric: 1566\n",
      "Hyperparams: {'batch_size': 600, 'dt': 1e-05}., sample shape=(22, 79510). metric: 2275\n",
      "Hyperparams: {'batch_size': 600, 'dt': 3.1622776e-06}., sample shape=(22, 79510). metric: 2450\n",
      "Hyperparams: {'batch_size': 600, 'dt': 1e-06}., sample shape=(22, 79510). metric: 667\n",
      "Hyperparams: {'batch_size': 600, 'dt': 3.1622776e-07}., sample shape=(22, 79510). metric: 428\n",
      "Hyperparams: {'batch_size': 600, 'dt': 1e-07}., sample shape=(22, 79510). metric: 436\n",
      "Hyperparams: {'batch_size': 600, 'dt': 3.1622776e-08}., sample shape=(22, 79510). metric: 510\n",
      "\n",
      "Number of samples: [22, 22, 22, 4, 4, 4, 22, 3, 4, 1, 4, 1]\n"
     ]
    },
    {
     "data": {
      "application/vnd.jupyter.widget-view+json": {
       "model_id": "8ffc00ba960347898c9ce8a34c8fc632",
       "version_major": 2,
       "version_minor": 0
      },
      "text/plain": [
       "HBox(children=(HTML(value='Iteration 2/3, 12 arms, time budget = 2.31 sec'), FloatProgress(value=0.0, max=12.0…"
      ]
     },
     "metadata": {},
     "output_type": "display_data"
    },
    {
     "name": "stdout",
     "output_type": "stream",
     "text": [
      "Hyperparams: {'batch_size': 600, 'dt': 3.1622776e-07}., sample shape=(86, 79510). metric: 384\n",
      "Hyperparams: {'batch_size': 600, 'dt': 1e-07}., sample shape=(85, 79510). metric: 290\n",
      "Hyperparams: {'batch_size': 600, 'dt': 3.1622776e-08}., sample shape=(85, 79510). metric: 356\n",
      "Hyperparams: {'batch_size': 6000, 'dt': 1e-05}., sample shape=(13, 79510). metric: 1336\n",
      "Hyperparams: {'batch_size': 6000, 'dt': 3.1622776e-06}., sample shape=(12, 79510). metric: 525\n",
      "Hyperparams: {'batch_size': 6000, 'dt': 3.1622776e-07}., sample shape=(12, 79510). metric: 454\n",
      "Hyperparams: {'batch_size': 600, 'dt': 1e-06}., sample shape=(78, 79510). metric: 718\n",
      "Hyperparams: {'batch_size': 6000, 'dt': 1e-06}., sample shape=(12, 79510). metric: 416\n",
      "Hyperparams: {'batch_size': 6000, 'dt': 1e-07}., sample shape=(12, 79510). metric: 578\n",
      "Hyperparams: {'batch_size': 60000, 'dt': 1e-05}., sample shape=(2, 79510). metric: 858\n",
      "Hyperparams: {'batch_size': 6000, 'dt': 3.1622776e-08}., sample shape=(12, 79510). metric: 765\n",
      "Hyperparams: {'batch_size': 60000, 'dt': 3.1622776e-07}., sample shape=(2, 79510). metric: 1182\n",
      "\n",
      "Number of samples: [85, 85, 86, 12]\n"
     ]
    },
    {
     "data": {
      "application/vnd.jupyter.widget-view+json": {
       "model_id": "aac2f47b28da4ae0b8fd90c0458285da",
       "version_major": 2,
       "version_minor": 0
      },
      "text/plain": [
       "HBox(children=(HTML(value='Iteration 3/3, 4 arms, time budget = 6.92 sec'), FloatProgress(value=0.0, max=4.0),…"
      ]
     },
     "metadata": {},
     "output_type": "display_data"
    },
    {
     "name": "stdout",
     "output_type": "stream",
     "text": [
      "Hyperparams: {'batch_size': 600, 'dt': 1e-07}., sample shape=(261, 79510). metric: 241\n",
      "Hyperparams: {'batch_size': 600, 'dt': 3.1622776e-08}., sample shape=(268, 79510). metric: 225\n",
      "Hyperparams: {'batch_size': 600, 'dt': 3.1622776e-07}., sample shape=(270, 79510). metric: 296\n",
      "Hyperparams: {'batch_size': 6000, 'dt': 1e-06}., sample shape=(38, 79510). metric: 342\n",
      "\n",
      "Number of samples: [268]\n",
      "Running time: 818.8 sec\n",
      "{'batch_size': 600, 'dt': 3.1622776e-08} 224.86502 (268, 79510)\n"
     ]
    }
   ],
   "source": [
    "build_kernel = lambda dt, batch_size: build_sgnhtCV_kernel(dt, loglikelihood, \n",
    "                                                  logprior, data, batch_size, centering_value)\n",
    "\n",
    "grid_params = {'log_dt': -jnp.arange(2., 8., 0.5), \n",
    "               'batch_size': batch_size_range\n",
    "              }\n",
    "best_arm = run_MAMBA(key, build_kernel, err_fn, R, params_IC, grid_params=grid_params, get_fb_grads=get_fb_grads)\n",
    "\n",
    "print(best_arm.hyperparameters, best_arm.metric, best_arm.samples.shape)"
   ]
  },
  {
   "cell_type": "code",
   "execution_count": null,
   "id": "8a85a1a4",
   "metadata": {},
   "outputs": [],
   "source": []
  }
 ],
 "metadata": {
  "kernelspec": {
   "display_name": "Python 3",
   "language": "python",
   "name": "python3"
  },
  "language_info": {
   "codemirror_mode": {
    "name": "ipython",
    "version": 3
   },
   "file_extension": ".py",
   "mimetype": "text/x-python",
   "name": "python",
   "nbconvert_exporter": "python",
   "pygments_lexer": "ipython3",
   "version": "3.8.2"
  }
 },
 "nbformat": 4,
 "nbformat_minor": 5
}
