{
 "cells": [
  {
   "cell_type": "code",
   "execution_count": 1,
   "id": "906fd9ec",
   "metadata": {},
   "outputs": [
    {
     "name": "stderr",
     "output_type": "stream",
     "text": [
      "WARNING:absl:No GPU/TPU found, falling back to CPU. (Set TF_CPP_MIN_LOG_LEVEL=0 and rerun for more info.)\n"
     ]
    }
   ],
   "source": [
    "%matplotlib inline\n",
    "import matplotlib.pyplot as plt\n",
    "import numpy as np\n",
    "\n",
    "import jax.numpy as jnp\n",
    "from jax import jit, random\n",
    "\n",
    "from sgmcmcjax.kernels import build_sgld_kernel, build_sghmc_kernel, build_sgnht_kernel\n",
    "from sgmcmcjax.kernels import build_sgldCV_kernel, build_sghmcCV_kernel, build_sgnhtCV_kernel\n",
    "from sgmcmcjax.optimizer import build_adam_optimizer\n",
    "from sgmcmcjax.util import build_grad_log_post\n",
    "\n",
    "import context\n",
    "\n",
    "from models.bayesian_NN.NN_model import logprior, loglikelihood, init_network, get_ECE_MCE\n",
    "from models.bayesian_NN.NN_data import X_train, y_train, X_test, y_test\n",
    "from models.bayesian_NN.util import load_NN_MAP\n",
    "from util import flatten_param_list\n",
    "\n",
    "from tuning.mamba import run_MAMBA\n",
    "from tuning.ksd import FSSD_opt, FSSD, imq_KSD, get_test_locations, linear_imq_KSD\n"
   ]
  },
  {
   "cell_type": "markdown",
   "id": "a01ea2b4",
   "metadata": {},
   "source": [
    "# NN - MAMBA-ECE"
   ]
  },
  {
   "cell_type": "code",
   "execution_count": 2,
   "id": "1aff4d07",
   "metadata": {},
   "outputs": [],
   "source": [
    "data = (X_train, y_train)\n",
    "\n",
    "key = random.PRNGKey(0)\n",
    "params_IC = load_NN_MAP()\n",
    "centering_value = load_NN_MAP()\n",
    "\n",
    "# err_fn = lambda x,y: get_ECE_MCE(x[::10], X_test, y_test, M=10, pbar=False)[0]\n",
    "\n",
    "# err_fn = lambda x,y: imq_KSD(x, y)\n",
    "\n",
    "# err_fn = lambda x,y: FSSD_opt(x, y, get_test_locations(x), 100)\n",
    "err_fn = lambda x,y: FSSD(x, y, get_test_locations(x))\n",
    "\n",
    "# get_fb_grads = None\n",
    "batch_size_range = [int(10**(-elem)*X_train.shape[0]) for elem in range(0, 3)]\n",
    "print(batch_size_range)\n",
    "\n",
    "R = 10"
   ]
  },
  {
   "cell_type": "code",
   "execution_count": 3,
   "id": "4d5f610f",
   "metadata": {},
   "outputs": [],
   "source": [
    "grad_log_post_fb = build_grad_log_post(loglikelihood, logprior, data)\n",
    "\n",
    "\n",
    "def get_fb_grads(samples):\n",
    "    thin=10\n",
    "    mygrads = [grad_log_post_fb(sam, *data) for sam in samples[::thin]]\n",
    "    \n",
    "    return samples[::thin], mygrads"
   ]
  },
  {
   "cell_type": "markdown",
   "id": "912e1f22",
   "metadata": {},
   "source": [
    "### run MAMBA"
   ]
  },
  {
   "cell_type": "code",
   "execution_count": 4,
   "id": "0c79e224",
   "metadata": {},
   "outputs": [
    {
     "data": {
      "application/vnd.jupyter.widget-view+json": {
       "model_id": "d24888f1a4434a4283e9223539f548b7",
       "version_major": 2,
       "version_minor": 0
      },
      "text/plain": [
       "HBox(children=(HTML(value='Iteration 1/3, 36 arms, time budget = 0.77 sec'), FloatProgress(value=0.0, max=36.0…"
      ]
     },
     "metadata": {},
     "output_type": "display_data"
    },
    {
     "name": "stdout",
     "output_type": "stream",
     "text": [
      "Hyperparams: {'batch_size': 60000, 'dt': 0.01}., sample shape=(1, 79510). metric: inf\n",
      "Hyperparams: {'batch_size': 60000, 'dt': 0.0031622776}., sample shape=(1, 79510). metric: inf\n",
      "Hyperparams: {'batch_size': 60000, 'dt': 0.001}., sample shape=(1, 79510). metric: inf\n",
      "Hyperparams: {'batch_size': 60000, 'dt': 0.00031622776}., sample shape=(1, 79510). metric: inf\n",
      "Hyperparams: {'batch_size': 60000, 'dt': 1e-04}., sample shape=(1, 79510). metric: inf\n",
      "Hyperparams: {'batch_size': 60000, 'dt': 3.1622778e-05}., sample shape=(1, 79510). metric: inf\n",
      "Hyperparams: {'batch_size': 60000, 'dt': 1e-05}., sample shape=(1, 79510). metric: inf\n",
      "Hyperparams: {'batch_size': 60000, 'dt': 3.1622776e-06}., sample shape=(1, 79510). metric: inf\n",
      "Hyperparams: {'batch_size': 60000, 'dt': 1e-06}., sample shape=(1, 79510). metric: inf\n",
      "Hyperparams: {'batch_size': 60000, 'dt': 3.1622776e-07}., sample shape=(1, 79510). metric: inf\n",
      "Hyperparams: {'batch_size': 60000, 'dt': 1e-07}., sample shape=(1, 79510). metric: inf\n",
      "Hyperparams: {'batch_size': 60000, 'dt': 3.1622776e-08}., sample shape=(1, 79510). metric: inf\n",
      "Hyperparams: {'batch_size': 6000, 'dt': 0.01}., sample shape=(6, 79510). metric: 0\n",
      "Hyperparams: {'batch_size': 6000, 'dt': 0.0031622776}., sample shape=(6, 79510). metric: 0\n",
      "Hyperparams: {'batch_size': 6000, 'dt': 0.001}., sample shape=(6, 79510). metric: 0\n",
      "Hyperparams: {'batch_size': 6000, 'dt': 0.00031622776}., sample shape=(6, 79510). metric: 1\n",
      "Hyperparams: {'batch_size': 6000, 'dt': 1e-04}., sample shape=(6, 79510). metric: 4\n",
      "Hyperparams: {'batch_size': 6000, 'dt': 3.1622778e-05}., sample shape=(6, 79510). metric: 24\n",
      "Hyperparams: {'batch_size': 6000, 'dt': 1e-05}., sample shape=(6, 79510). metric: 0\n",
      "Hyperparams: {'batch_size': 6000, 'dt': 3.1622776e-06}., sample shape=(6, 79510). metric: 1\n",
      "Hyperparams: {'batch_size': 6000, 'dt': 1e-06}., sample shape=(6, 79510). metric: 1\n",
      "Hyperparams: {'batch_size': 6000, 'dt': 3.1622776e-07}., sample shape=(6, 79510). metric: 12\n",
      "Hyperparams: {'batch_size': 6000, 'dt': 1e-07}., sample shape=(6, 79510). metric: 17\n",
      "Hyperparams: {'batch_size': 6000, 'dt': 3.1622776e-08}., sample shape=(5, 79510). metric: 24\n",
      "Hyperparams: {'batch_size': 600, 'dt': 0.01}., sample shape=(36, 79510). metric: 0\n",
      "Hyperparams: {'batch_size': 600, 'dt': 0.0031622776}., sample shape=(34, 79510). metric: 0\n",
      "Hyperparams: {'batch_size': 600, 'dt': 0.001}., sample shape=(32, 79510). metric: 0\n",
      "Hyperparams: {'batch_size': 600, 'dt': 0.00031622776}., sample shape=(35, 79510). metric: 0\n",
      "Hyperparams: {'batch_size': 600, 'dt': 1e-04}., sample shape=(34, 79510). metric: 0\n",
      "Hyperparams: {'batch_size': 600, 'dt': 3.1622778e-05}., sample shape=(35, 79510). metric: 0\n",
      "Hyperparams: {'batch_size': 600, 'dt': 1e-05}., sample shape=(36, 79510). metric: 0\n",
      "Hyperparams: {'batch_size': 600, 'dt': 3.1622776e-06}., sample shape=(31, 79510). metric: 0\n",
      "Hyperparams: {'batch_size': 600, 'dt': 1e-06}., sample shape=(31, 79510). metric: 0\n",
      "Hyperparams: {'batch_size': 600, 'dt': 3.1622776e-07}., sample shape=(34, 79510). metric: 1\n",
      "Hyperparams: {'batch_size': 600, 'dt': 1e-07}., sample shape=(31, 79510). metric: 3\n",
      "Hyperparams: {'batch_size': 600, 'dt': 3.1622776e-08}., sample shape=(34, 79510). metric: 10\n",
      "\n",
      "Number of samples: [6, 36, 32, 6, 34, 6, 36, 35, 34, 6, 31, 35]\n"
     ]
    },
    {
     "data": {
      "application/vnd.jupyter.widget-view+json": {
       "model_id": "3e4110489737418294589740350516bb",
       "version_major": 2,
       "version_minor": 0
      },
      "text/plain": [
       "HBox(children=(HTML(value='Iteration 2/3, 12 arms, time budget = 2.31 sec'), FloatProgress(value=0.0, max=12.0…"
      ]
     },
     "metadata": {},
     "output_type": "display_data"
    },
    {
     "name": "stdout",
     "output_type": "stream",
     "text": [
      "Hyperparams: {'batch_size': 6000, 'dt': 0.0031622776}., sample shape=(20, 79510). metric: 0\n",
      "Hyperparams: {'batch_size': 600, 'dt': 0.01}., sample shape=(114, 79510). metric: 0\n",
      "Hyperparams: {'batch_size': 600, 'dt': 0.001}., sample shape=(113, 79510). metric: -0\n",
      "Hyperparams: {'batch_size': 6000, 'dt': 1e-05}., sample shape=(19, 79510). metric: 0\n",
      "Hyperparams: {'batch_size': 600, 'dt': 0.0031622776}., sample shape=(124, 79510). metric: 0\n",
      "Hyperparams: {'batch_size': 6000, 'dt': 0.01}., sample shape=(19, 79510). metric: 0\n",
      "Hyperparams: {'batch_size': 600, 'dt': 1e-05}., sample shape=(129, 79510). metric: 0\n",
      "Hyperparams: {'batch_size': 600, 'dt': 3.1622778e-05}., sample shape=(120, 79510). metric: 0\n",
      "Hyperparams: {'batch_size': 600, 'dt': 1e-04}., sample shape=(118, 79510). metric: -0\n",
      "Hyperparams: {'batch_size': 6000, 'dt': 0.001}., sample shape=(19, 79510). metric: -0\n",
      "Hyperparams: {'batch_size': 600, 'dt': 3.1622776e-06}., sample shape=(123, 79510). metric: 0\n",
      "Hyperparams: {'batch_size': 600, 'dt': 0.00031622776}., sample shape=(121, 79510). metric: 0\n",
      "\n",
      "Number of samples: [19, 113, 118, 114]\n"
     ]
    },
    {
     "data": {
      "application/vnd.jupyter.widget-view+json": {
       "model_id": "d693bcff500c4f9594e021d1f27be138",
       "version_major": 2,
       "version_minor": 0
      },
      "text/plain": [
       "HBox(children=(HTML(value='Iteration 3/3, 4 arms, time budget = 6.92 sec'), FloatProgress(value=0.0, max=4.0),…"
      ]
     },
     "metadata": {},
     "output_type": "display_data"
    },
    {
     "name": "stdout",
     "output_type": "stream",
     "text": [
      "Hyperparams: {'batch_size': 6000, 'dt': 0.001}., sample shape=(59, 79510). metric: 0\n",
      "Hyperparams: {'batch_size': 600, 'dt': 0.001}., sample shape=(336, 79510). metric: 0\n",
      "Hyperparams: {'batch_size': 600, 'dt': 1e-04}., sample shape=(405, 79510). metric: 0\n",
      "Hyperparams: {'batch_size': 600, 'dt': 0.01}., sample shape=(415, 79510). metric: 0\n",
      "\n",
      "Number of samples: [405]\n",
      "Running time: 529.8 sec\n",
      "{'batch_size': 600, 'dt': 1e-04} 3.1700256e-05 (405, 79510)\n"
     ]
    }
   ],
   "source": [
    "build_kernel = lambda dt, batch_size: build_sgld_kernel(dt, loglikelihood, logprior, data, batch_size)\n",
    "\n",
    "grid_params = {'log_dt': -jnp.arange(2., 8., 0.5), \n",
    "               'batch_size': batch_size_range\n",
    "              }\n",
    "best_arm = run_MAMBA(key, build_kernel, err_fn, R, params_IC, grid_params=grid_params, get_fb_grads=get_fb_grads)\n",
    "\n",
    "print(best_arm.hyperparameters, best_arm.metric, best_arm.samples.shape)"
   ]
  },
  {
   "cell_type": "code",
   "execution_count": null,
   "id": "2fe62492",
   "metadata": {},
   "outputs": [],
   "source": []
  },
  {
   "cell_type": "code",
   "execution_count": null,
   "id": "42e3f3e7",
   "metadata": {},
   "outputs": [],
   "source": []
  },
  {
   "cell_type": "code",
   "execution_count": null,
   "id": "0de6df01",
   "metadata": {},
   "outputs": [],
   "source": []
  },
  {
   "cell_type": "code",
   "execution_count": null,
   "id": "00531340",
   "metadata": {},
   "outputs": [],
   "source": [
    "build_kernel = lambda dt, batch_size: build_sgldCV_kernel(dt, loglikelihood, \n",
    "                                                  logprior, data, batch_size, centering_value)\n",
    "\n",
    "best_arm = run_MAMBA(key, build_kernel, err_fn, R, params_IC, grid_params=grid_params, get_fb_grads=get_fb_grads)\n",
    "\n",
    "print(best_arm.hyperparameters, best_arm.metric, best_arm.samples.shape)"
   ]
  },
  {
   "cell_type": "code",
   "execution_count": null,
   "id": "d2be25a2",
   "metadata": {},
   "outputs": [],
   "source": [
    "build_kernel = lambda dt, L, batch_size: build_sghmc_kernel(dt, L, loglikelihood, \n",
    "                                                  logprior, data, batch_size)\n",
    "\n",
    "grid_params = {'log_dt': -jnp.arange(2., 8., 0.5), \n",
    "               'batch_size': batch_size_range,\n",
    "               \"L\": [5, 10]\n",
    "              }\n",
    "best_arm = run_MAMBA(key, build_kernel, err_fn, R, params_IC, grid_params=grid_params, get_fb_grads=get_fb_grads)\n",
    "\n",
    "print(best_arm.hyperparameters, best_arm.metric, best_arm.samples.shape)"
   ]
  },
  {
   "cell_type": "code",
   "execution_count": null,
   "id": "d25daf64",
   "metadata": {},
   "outputs": [],
   "source": [
    "build_kernel = lambda dt, L, batch_size: build_sghmcCV_kernel(dt, L, loglikelihood, \n",
    "                                                  logprior, data, batch_size, centering_value)\n",
    "\n",
    "grid_params = {'log_dt': -jnp.arange(2., 8., 0.5), \n",
    "               'batch_size': batch_size_range,\n",
    "               \"L\": [5, 10]\n",
    "              }\n",
    "best_arm = run_MAMBA(key, build_kernel, err_fn, R, params_IC, grid_params=grid_params, get_fb_grads=get_fb_grads)\n",
    "\n",
    "print(best_arm.hyperparameters, best_arm.metric, best_arm.samples.shape)"
   ]
  },
  {
   "cell_type": "code",
   "execution_count": null,
   "id": "4817772c",
   "metadata": {},
   "outputs": [],
   "source": [
    "build_kernel = lambda dt, batch_size: build_sgnht_kernel(dt, loglikelihood, logprior, data, batch_size)\n",
    "\n",
    "grid_params = {'log_dt': -jnp.arange(2., 8., 0.5), \n",
    "               'batch_size': batch_size_range\n",
    "              }\n",
    "best_arm = run_MAMBA(key, build_kernel, err_fn, R, params_IC, grid_params=grid_params, get_fb_grads=get_fb_grads)\n",
    "\n",
    "print(best_arm.hyperparameters, best_arm.metric, best_arm.samples.shape)"
   ]
  },
  {
   "cell_type": "code",
   "execution_count": null,
   "id": "fdd0e3a2",
   "metadata": {},
   "outputs": [],
   "source": [
    "build_kernel = lambda dt, batch_size: build_sgnhtCV_kernel(dt, loglikelihood, \n",
    "                                                  logprior, data, batch_size, centering_value)\n",
    "\n",
    "grid_params = {'log_dt': -jnp.arange(2., 8., 0.5), \n",
    "               'batch_size': batch_size_range\n",
    "              }\n",
    "best_arm = run_MAMBA(key, build_kernel, err_fn, R, params_IC, grid_params=grid_params, get_fb_grads=get_fb_grads)\n",
    "\n",
    "print(best_arm.hyperparameters, best_arm.metric, best_arm.samples.shape)"
   ]
  },
  {
   "cell_type": "code",
   "execution_count": null,
   "id": "134bc659",
   "metadata": {},
   "outputs": [],
   "source": []
  },
  {
   "cell_type": "code",
   "execution_count": null,
   "id": "8a85a1a4",
   "metadata": {},
   "outputs": [],
   "source": []
  }
 ],
 "metadata": {
  "kernelspec": {
   "display_name": "Python 3",
   "language": "python",
   "name": "python3"
  },
  "language_info": {
   "codemirror_mode": {
    "name": "ipython",
    "version": 3
   },
   "file_extension": ".py",
   "mimetype": "text/x-python",
   "name": "python",
   "nbconvert_exporter": "python",
   "pygments_lexer": "ipython3",
   "version": "3.8.2"
  }
 },
 "nbformat": 4,
 "nbformat_minor": 5
}
