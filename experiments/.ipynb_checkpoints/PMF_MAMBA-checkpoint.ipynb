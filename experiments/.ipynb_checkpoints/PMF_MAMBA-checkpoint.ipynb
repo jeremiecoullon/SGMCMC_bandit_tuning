{
 "cells": [
  {
   "cell_type": "code",
   "execution_count": 17,
   "id": "906fd9ec",
   "metadata": {},
   "outputs": [],
   "source": [
    "%matplotlib inline\n",
    "import matplotlib.pyplot as plt\n",
    "import numpy as np\n",
    "\n",
    "import jax.numpy as jnp\n",
    "from jax import jit, random\n",
    "\n",
    "from sgmcmcjax.kernels import build_sgld_kernel, build_sghmc_kernel, build_sgnht_kernel\n",
    "from sgmcmcjax.kernels import build_sgldCV_kernel, build_sghmcCV_kernel, build_sgnhtCV_kernel\n",
    "from sgmcmcjax.optimizer import build_adam_optimizer\n",
    "from sgmcmcjax.util import build_grad_log_post\n",
    "\n",
    "import context\n",
    "\n",
    "from models.PMF.pmf_model import logprior, loglikelihood\n",
    "from models.PMF.util import R_train, R_test, load_PMF_MAP\n",
    "\n",
    "from tuning.mamba import run_MAMBA\n",
    "from tuning.ksd import imq_KSD\n"
   ]
  },
  {
   "cell_type": "markdown",
   "id": "a01ea2b4",
   "metadata": {},
   "source": [
    "# PMF - MAMBA"
   ]
  },
  {
   "cell_type": "code",
   "execution_count": 18,
   "id": "1aff4d07",
   "metadata": {},
   "outputs": [],
   "source": [
    "data = (R_train,)\n",
    "\n",
    "\n",
    "key = random.PRNGKey(0)\n",
    "centering_value = load_PMF_MAP()\n",
    "params_IC = load_PMF_MAP()\n",
    "\n",
    "err_fn = lambda x,y: imq_KSD(x[:], y[:])\n",
    "\n",
    "grad_log_post_fb = build_grad_log_post(loglikelihood, logprior, data)\n",
    "\n",
    "def get_fb_grads(samples):\n",
    "    thin = 10\n",
    "    mygrads = [grad_log_post_fb(sam, *data) for sam in samples[::thin]]\n",
    "    \n",
    "    return samples[::thin], mygrads\n",
    "\n",
    "R = 10"
   ]
  },
  {
   "cell_type": "markdown",
   "id": "912e1f22",
   "metadata": {},
   "source": [
    "### run MAMBA"
   ]
  },
  {
   "cell_type": "code",
   "execution_count": null,
   "id": "180a1973",
   "metadata": {},
   "outputs": [
    {
     "data": {
      "application/vnd.jupyter.widget-view+json": {
       "model_id": "1d8f0484c4fa4264aa59a5fd24aa6e9f",
       "version_major": 2,
       "version_minor": 0
      },
      "text/plain": [
       "HBox(children=(HTML(value='Iteration 1/3, 48 arms, time budget = 0.77 sec'), FloatProgress(value=0.0, max=48.0…"
      ]
     },
     "metadata": {},
     "output_type": "display_data"
    }
   ],
   "source": [
    "build_kernel = lambda dt, batch_size: build_sgld_kernel(dt, loglikelihood, logprior, data, batch_size)\n",
    "\n",
    "grid_params = {'log_dt': -jnp.arange(2., 8., 0.5), \n",
    "               'batch_size': [int(10**(-elem)*R_train.shape[0]) for elem in range(0,4)]\n",
    "              }\n",
    "best_arm = run_MAMBA(key, build_kernel, err_fn, R, params_IC, \n",
    "                     grid_params=grid_params, get_fb_grads=get_fb_grads)\n",
    "\n",
    "print(best_arm.hyperparameters, best_arm.metric, best_arm.samples.shape)\n"
   ]
  },
  {
   "cell_type": "code",
   "execution_count": null,
   "id": "86e028e5",
   "metadata": {},
   "outputs": [],
   "source": []
  },
  {
   "cell_type": "code",
   "execution_count": null,
   "id": "00531340",
   "metadata": {},
   "outputs": [],
   "source": [
    "build_kernel = lambda dt, batch_size: build_sgldCV_kernel(dt, loglikelihood, \n",
    "                                                  logprior, data, batch_size, centering_value)\n",
    "\n",
    "best_arm = run_MAMBA(key, build_kernel, imq_KSD, R, params_IC, \n",
    "                     grid_params=grid_params, get_fb_grads=get_fb_grads)\n",
    "\n",
    "print(best_arm.hyperparameters, best_arm.metric, best_arm.samples.shape)\n"
   ]
  },
  {
   "cell_type": "code",
   "execution_count": null,
   "id": "d2be25a2",
   "metadata": {},
   "outputs": [],
   "source": [
    "build_kernel = lambda dt, L, batch_size: build_sghmc_kernel(dt, L, loglikelihood, \n",
    "                                                  logprior, data, batch_size)\n",
    "\n",
    "grid_params = {'log_dt': -jnp.arange(2., 8., 0.5), \n",
    "               'batch_size': [int(10**(-elem)*R_train.shape[0]) for elem in range(0,4)],\n",
    "               \"L\": [5, 10]\n",
    "              }\n",
    "best_arm = run_MAMBA(key, build_kernel, imq_KSD, R, params_IC, \n",
    "                     grid_params=grid_params, get_fb_grads=get_fb_grads)\n",
    "\n",
    "print(best_arm.hyperparameters, best_arm.metric, best_arm.samples.shape)\n"
   ]
  },
  {
   "cell_type": "code",
   "execution_count": null,
   "id": "d25daf64",
   "metadata": {},
   "outputs": [],
   "source": [
    "build_kernel = lambda dt, L, batch_size: build_sghmcCV_kernel(dt, L, loglikelihood, \n",
    "                                                  logprior, data, batch_size, centering_value)\n",
    "\n",
    "\n",
    "grid_params = {'log_dt': -jnp.arange(2., 8., 0.5), \n",
    "               'batch_size': [int(10**(-elem)*R_train.shape[0]) for elem in range(0,4)],\n",
    "               \"L\": [5, 10]\n",
    "              }\n",
    "best_arm = run_MAMBA(key, build_kernel, imq_KSD, R, params_IC, \n",
    "                     grid_params=grid_params, get_fb_grads=get_fb_grads)\n",
    "\n",
    "print(best_arm.hyperparameters, best_arm.metric, best_arm.samples.shape)\n"
   ]
  },
  {
   "cell_type": "code",
   "execution_count": null,
   "id": "4817772c",
   "metadata": {},
   "outputs": [],
   "source": [
    "build_kernel = lambda dt, batch_size: build_sgnht_kernel(dt, loglikelihood, logprior, data, batch_size)\n",
    "\n",
    "\n",
    "grid_params = {'log_dt': -jnp.arange(2., 8., 0.5), \n",
    "               'batch_size': [int(10**(-elem)*R_train.shape[0]) for elem in range(0,4)]\n",
    "              }\n",
    "best_arm = run_MAMBA(key, build_kernel, imq_KSD, R, params_IC, \n",
    "                     grid_params=grid_params, get_fb_grads=get_fb_grads)\n",
    "\n",
    "print(best_arm.hyperparameters, best_arm.metric, best_arm.samples.shape)\n"
   ]
  },
  {
   "cell_type": "code",
   "execution_count": null,
   "id": "fdd0e3a2",
   "metadata": {},
   "outputs": [],
   "source": [
    "build_kernel = lambda dt, batch_size: build_sgnhtCV_kernel(dt, loglikelihood, \n",
    "                                                  logprior, data, batch_size, centering_value)\n",
    "\n",
    "grid_params = {'log_dt': -jnp.arange(2., 8., 0.5), \n",
    "               'batch_size': [int(10**(-elem)*R_train.shape[0]) for elem in range(0,4)]\n",
    "              }\n",
    "best_arm = run_MAMBA(key, build_kernel, imq_KSD, R, params_IC, \n",
    "                     grid_params=grid_params, get_fb_grads=get_fb_grads)\n",
    "\n",
    "print(best_arm.hyperparameters, best_arm.metric, best_arm.samples.shape)\n"
   ]
  },
  {
   "cell_type": "code",
   "execution_count": null,
   "id": "234914e6",
   "metadata": {},
   "outputs": [],
   "source": []
  }
 ],
 "metadata": {
  "kernelspec": {
   "display_name": "Python 3",
   "language": "python",
   "name": "python3"
  },
  "language_info": {
   "codemirror_mode": {
    "name": "ipython",
    "version": 3
   },
   "file_extension": ".py",
   "mimetype": "text/x-python",
   "name": "python",
   "nbconvert_exporter": "python",
   "pygments_lexer": "ipython3",
   "version": "3.8.2"
  }
 },
 "nbformat": 4,
 "nbformat_minor": 5
}
