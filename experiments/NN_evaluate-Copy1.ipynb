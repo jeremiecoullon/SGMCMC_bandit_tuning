{
 "cells": [
  {
   "cell_type": "code",
   "execution_count": 1,
   "id": "906fd9ec",
   "metadata": {},
   "outputs": [
    {
     "name": "stderr",
     "output_type": "stream",
     "text": [
      "WARNING:absl:No GPU/TPU found, falling back to CPU. (Set TF_CPP_MIN_LOG_LEVEL=0 and rerun for more info.)\n"
     ]
    }
   ],
   "source": [
    "%matplotlib inline\n",
    "import matplotlib.pyplot as plt\n",
    "import numpy as np\n",
    "\n",
    "import jax.numpy as jnp\n",
    "from jax import grad, jit, random, partial, lax\n",
    "\n",
    "import context\n",
    "from models.bayesian_NN.NN_model import logprior, loglikelihood, init_network, get_accuracy_list_NN, get_ECE_MCE, ood_testing\n",
    "from models.bayesian_NN.NN_data import X_train, y_train, X_test, y_test\n",
    "from models.bayesian_NN.util import load_NN_MAP, add_noise_NN_params\n",
    "\n",
    "from tuning.mamba import timed_sampler\n",
    "from tuning.ksd import imq_KSD\n",
    "from tuning.util import build_metric_curve_fn, get_mean_sd_ksd_curve\n",
    "from util import wait_until_computed, flatten_param_list\n",
    "\n",
    "from sgmcmcjax.kernels import build_sgld_kernel, build_sghmc_kernel, build_sgnht_kernel\n",
    "from sgmcmcjax.kernels import build_sgldCV_kernel, build_sghmcCV_kernel, build_sgnhtCV_kernel\n"
   ]
  },
  {
   "cell_type": "markdown",
   "id": "a01ea2b4",
   "metadata": {},
   "source": [
    "# NN"
   ]
  },
  {
   "cell_type": "code",
   "execution_count": 2,
   "id": "dd0b7388",
   "metadata": {},
   "outputs": [],
   "source": [
    "\n",
    "\n",
    "data = (X_train, y_train)\n",
    "\n",
    "key = random.PRNGKey(0)\n",
    "\n",
    "Niters = 1000\n",
    "key, subkey = random.split(key)\n",
    "params_IC = add_noise_NN_params(subkey, load_NN_MAP(), 1.)\n",
    "batch_size = int(0.1*X_train.shape[0])\n",
    "\n",
    "gridsearch_bs = int(0.1*X_train.shape[0])\n",
    "centering_value = load_NN_MAP()\n",
    "\n",
    "dt_baseline = 1/X_train.shape[0]"
   ]
  },
  {
   "cell_type": "code",
   "execution_count": null,
   "id": "7dc862ed",
   "metadata": {},
   "outputs": [],
   "source": []
  },
  {
   "cell_type": "code",
   "execution_count": 3,
   "id": "e4d71dbb",
   "metadata": {},
   "outputs": [],
   "source": [
    "from sgmcmcjax.util import build_grad_log_post\n",
    "from jax import vmap, jit\n",
    "\n",
    "grad_log_post = build_grad_log_post(loglikelihood, logprior, data)\n",
    "\n",
    "\n",
    "\n",
    "def get_fb_grads_NN(samples):\n",
    "    \"\"\"\n",
    "    Return full-batch gradients for NN samples\n",
    "    samples list of NN sample. Each NN sample is a list of tuples\n",
    "    \"\"\"\n",
    "    return [grad_log_post(sam, X_train, y_train) for sam in samples]\n",
    "\n",
    "# def get_ksd_NN(samples, thin_step):\n",
    "#     num_samples = len(samples)\n",
    "#     fb_grads = get_fb_grads_NN(samples[::thin_step])\n",
    "#     flat_samples = flatten_param_list(samples[::thin_step])\n",
    "#     flat_grads = flatten_param_list(fb_grads)\n",
    "#     ksd_est = imq_KSD(flat_samples, flat_grads)\n",
    "    \n",
    "#     ece_est, mce_est = get_ECE_MCE(flat_samples, X_test, y_test, M=10, pbar=False)\n",
    "    \n",
    "#     accuracy_list = get_accuracy_list_NN(samples, thin_step, X_test, y_test)\n",
    "    \n",
    "#     ood_entropy_samples = lala = ood_testing(samples[::thin_step], X_test)\n",
    "#     return ksd_est, ece_est, mce_est, accuracy_list, ood_entropy_samples\n",
    "\n",
    "def assess_NN_samples(samples, thin_step):\n",
    "    print(f\"Assessing the samples. Num samples: {len(samples)}\")\n",
    "    num_samples = len(samples)\n",
    "#     fb_grads = get_fb_grads_NN(samples[::thin_step])\n",
    "    flat_samples = flatten_param_list(samples[::thin_step])\n",
    "#     flat_grads = flatten_param_list(fb_grads)\n",
    "#     ksd_est = imq_KSD(flat_samples, flat_grads)\n",
    "    print(\"calculating ECE/MCE\")\n",
    "    ece_est, mce_est = get_ECE_MCE(flat_samples, X_test, y_test, M=10, pbar=False)\n",
    "    print(\"calculating accuracy list\")\n",
    "    accuracy_list = get_accuracy_list_NN(samples, thin_step, X_test, y_test)\n",
    "    \n",
    "#     ood_entropy_samples = ood_testing(samples[::thin_step], X_test)\n",
    "    return ece_est, mce_est, num_samples, accuracy_list, samples[::thin_step]\n",
    "#     return get_ksd_NN(samples, thin_step)\n",
    "    \n",
    "def run_time_budget(key, time_budget, build_kernel, thin, dict_params, params_IC=load_NN_MAP()):\n",
    "    timed_sampler_factory = timed_sampler(build_kernel)\n",
    "    my_timed_sampler = timed_sampler_factory(**dict_params)\n",
    "    samples, _ = my_timed_sampler(key, time_budget, params_IC)\n",
    "    return assess_NN_samples(samples, thin)\n",
    "\n"
   ]
  },
  {
   "cell_type": "markdown",
   "id": "b12fa593",
   "metadata": {},
   "source": [
    "### build partial kernels"
   ]
  },
  {
   "cell_type": "code",
   "execution_count": 4,
   "id": "6b42212b",
   "metadata": {},
   "outputs": [],
   "source": [
    "partial_build_sgld = lambda dt, batch_size: build_sgld_kernel(dt, loglikelihood, \n",
    "                                                              logprior, data, batch_size)\n",
    "partial_build_sgldCV = lambda dt, batch_size: build_sgldCV_kernel(dt, loglikelihood, \n",
    "                                                    logprior, data, batch_size, centering_value)\n",
    "\n",
    "partial_build_sghmc = lambda dt, L, batch_size: build_sghmc_kernel(dt, L, loglikelihood, \n",
    "                                                              logprior, data, batch_size)\n",
    "partial_build_sghmcCV = lambda dt, L, batch_size: build_sghmcCV_kernel(dt, L, loglikelihood, \n",
    "                                                              logprior, data, batch_size, centering_value)\n",
    "\n",
    "partial_build_sgnht = lambda dt, batch_size: build_sgnht_kernel(dt, loglikelihood, \n",
    "                                                              logprior, data, batch_size)\n",
    "partial_build_sgnhtCV = lambda dt, batch_size: build_sgnhtCV_kernel(dt, loglikelihood, \n",
    "                                                              logprior, data, batch_size, centering_value)\n",
    "\n",
    "\n",
    "time_budget = 300\n",
    "thin = 400\n",
    "\n",
    "# time_budget = 7\n",
    "# thin = 20\n"
   ]
  },
  {
   "cell_type": "markdown",
   "id": "2d713ad0",
   "metadata": {},
   "source": [
    "# 1. A long run\n",
    "\n",
    "- 1 million data points\n",
    "- 20sec budget\n",
    "- thin by 20"
   ]
  },
  {
   "cell_type": "markdown",
   "id": "7abbaeba",
   "metadata": {},
   "source": [
    "### sgld"
   ]
  },
  {
   "cell_type": "code",
   "execution_count": 5,
   "id": "3cbc067d",
   "metadata": {},
   "outputs": [
    {
     "name": "stdout",
     "output_type": "stream",
     "text": [
      "ece_est, mce_est, num_samples:\n",
      "\n",
      "Assessing the samples. Num samples: 96922\n",
      "calculating ECE/MCE\n",
      "calculating accuracy list\n"
     ]
    },
    {
     "data": {
      "application/vnd.jupyter.widget-view+json": {
       "model_id": "6c028568dc784462bcae559b1476844c",
       "version_major": 2,
       "version_minor": 0
      },
      "text/plain": [
       "HBox(children=(HTML(value=''), FloatProgress(value=0.0, max=243.0), HTML(value='')))"
      ]
     },
     "metadata": {},
     "output_type": "display_data"
    },
    {
     "name": "stdout",
     "output_type": "stream",
     "text": [
      "\n",
      "MAMBA: (0.010419734191894531, DeviceArray(0.36351842, dtype=float32), 96922)\n"
     ]
    }
   ],
   "source": [
    "sh_params = {'batch_size': 600, 'dt': 3.1622776e-06}\n",
    "gridsearch_params = {'batch_size': gridsearch_bs, 'dt': 0.00031622776}\n",
    "baseline_params = {'batch_size': gridsearch_bs, 'dt': dt_baseline}\n",
    "\n",
    "print(\"ece_est, mce_est, num_samples:\\n\")\n",
    "ece_est, mce_est, num_samples, accuracy_list_sgld_mamba, samples_sgld_mamba = run_time_budget(\n",
    "                key, time_budget, partial_build_sgld, thin, sh_params)\n",
    "print(f\"MAMBA: {ece_est, mce_est, num_samples}\")\n",
    "\n",
    "# ece_est, mce_est, num_samples, accuracy_list_sgld_gridsearch, samples_sgld_gridsearch = run_time_budget(\n",
    "#                 key, time_budget, partial_build_sgld, thin, gridsearch_params)\n",
    "# print(f\"gridsearch: {ece_est, mce_est, num_samples}\")\n",
    "\n",
    "# ece_est, mce_est, num_samples, accuracy_list_sgld_baseline, samples_sgld_baseline = run_time_budget(\n",
    "#                 key, time_budget, partial_build_sgld, thin, baseline_params)\n",
    "# print(f\"baseline: {ece_est, mce_est, num_samples}\")\n"
   ]
  },
  {
   "cell_type": "code",
   "execution_count": 7,
   "id": "8cafc0be",
   "metadata": {},
   "outputs": [
    {
     "name": "stdout",
     "output_type": "stream",
     "text": [
      "0.93117684\n"
     ]
    },
    {
     "data": {
      "image/png": "[encoded data removed]",
      "text/plain": [
       "<Figure size 720x432 with 3 Axes>"
      ]
     },
     "metadata": {
      "needs_background": "light"
     },
     "output_type": "display_data"
    }
   ],
   "source": [
    "burnin_sgld_mamba = 10\n",
    "burnin_sgld_gridsearch = 0\n",
    "burnin_sgld_baseline = 0\n",
    "\n",
    "fig, ax = plt.subplots(3, figsize=(10,6))\n",
    "plt.suptitle(\"accuracy\", size=18)\n",
    "ax[0].plot(accuracy_list_sgld_mamba)\n",
    "ax[0].set_title(\"mamba\")\n",
    "\n",
    "plt.tight_layout()\n",
    "\n",
    "print(np.mean(accuracy_list_sgld_mamba[burnin_sgld_mamba:]))"
   ]
  },
  {
   "cell_type": "code",
   "execution_count": 9,
   "id": "cde94d98",
   "metadata": {},
   "outputs": [],
   "source": [
    "ood_entropy_samples_sgld_mamba = ood_testing(samples_sgld_mamba[burnin_sgld_mamba:], X_test)\n",
    "\n",
    "np.savetxt(\"outputs/NN_uncertainty_tests/ood/ood_sgld_mamba.txt\", ood_entropy_samples_sgld_mamba)\n",
    "\n",
    "# ood_entropy_samples_sgld_gridsearch = ood_testing(samples_sgld_gridsearch[burnin_sgld_gridsearch:], X_test)\n",
    "# ood_entropy_samples_sgld_baseline = ood_testing(samples_sgld_baseline[burnin_sgld_baseline:], X_test)\n",
    "\n"
   ]
  },
  {
   "cell_type": "code",
   "execution_count": 12,
   "id": "3f7f04c9",
   "metadata": {},
   "outputs": [
    {
     "name": "stdout",
     "output_type": "stream",
     "text": [
      "Assessing the samples. Num samples: 16343\n",
      "calculating ECE/MCE\n",
      "calculating accuracy list\n"
     ]
    },
    {
     "data": {
      "application/vnd.jupyter.widget-view+json": {
       "model_id": "98c390f6b0194d0db24f2264d309aa30",
       "version_major": 2,
       "version_minor": 0
      },
      "text/plain": [
       "HBox(children=(HTML(value=''), FloatProgress(value=0.0, max=41.0), HTML(value='')))"
      ]
     },
     "metadata": {},
     "output_type": "display_data"
    },
    {
     "name": "stdout",
     "output_type": "stream",
     "text": [
      "\n",
      "gridsearch: (0.1460456787109375, DeviceArray(0.42104274, dtype=float32), 16343)\n"
     ]
    }
   ],
   "source": [
    "# gridsearch\n",
    "ece_est, mce_est, num_samples, accuracy_list_sgld_gridsearch, samples_sgld_gridsearch = run_time_budget(\n",
    "                key, time_budget, partial_build_sgld, thin, gridsearch_params)\n",
    "print(f\"gridsearch: {ece_est, mce_est, num_samples}\")\n",
    "\n",
    "# ece_est, mce_est, num_samples, accuracy_list_sgld_baseline, samples_sgld_baseline = run_time_budget(\n",
    "#                 key, time_budget, partial_build_sgld, thin, baseline_params)\n",
    "# print(f\"baseline: {ece_est, mce_est, num_samples}\")\n"
   ]
  },
  {
   "cell_type": "code",
   "execution_count": 17,
   "id": "5fada6c0",
   "metadata": {},
   "outputs": [
    {
     "name": "stdout",
     "output_type": "stream",
     "text": [
      "0.937836\n"
     ]
    },
    {
     "data": {
      "image/png": "[encoded data removed]",
      "text/plain": [
       "<Figure size 720x432 with 3 Axes>"
      ]
     },
     "metadata": {
      "needs_background": "light"
     },
     "output_type": "display_data"
    }
   ],
   "source": [
    "# burnin_sgld_mamba = 10\n",
    "burnin_sgld_gridsearch = 5\n",
    "# burnin_sgld_baseline = 0\n",
    "\n",
    "fig, ax = plt.subplots(3, figsize=(10,6))\n",
    "plt.suptitle(\"accuracy\", size=18)\n",
    "# ax[0].plot(accuracy_list_sgld_mamba)\n",
    "# ax[0].set_title(\"mamba\")\n",
    "ax[1].plot(accuracy_list_sgld_gridsearch)\n",
    "ax[1].set_title(\"gridsearch\")\n",
    "# ax[2].plot(accuracy_list_sgld_baseline)\n",
    "# ax[2].set_title(\"baseline\")\n",
    "\n",
    "plt.tight_layout()\n",
    "\n",
    "# print(np.mean(accuracy_list_sgld_mamba[burnin_sgld_mamba:]))\n",
    "print(np.mean(accuracy_list_sgld_gridsearch[burnin_sgld_gridsearch:]))\n",
    "# print(np.mean(accuracy_list_sgld_baseline[burnin_sgld_baseline:]))"
   ]
  },
  {
   "cell_type": "code",
   "execution_count": 18,
   "id": "2ab7e901",
   "metadata": {},
   "outputs": [],
   "source": [
    "ood_entropy_samples_sgld_gridsearch = ood_testing(samples_sgld_gridsearch[burnin_sgld_gridsearch:], X_test)\n",
    "\n",
    "np.savetxt(\"outputs/NN_uncertainty_tests/ood/ood_sgld_gridsearch.txt\", ood_entropy_samples_sgld_gridsearch)\n"
   ]
  },
  {
   "cell_type": "code",
   "execution_count": null,
   "id": "9c21c5fd",
   "metadata": {},
   "outputs": [],
   "source": []
  },
  {
   "cell_type": "code",
   "execution_count": null,
   "id": "9aed5d57",
   "metadata": {},
   "outputs": [],
   "source": [
    "\n",
    "# ece_est, mce_est, num_samples, accuracy_list_sgld_gridsearch, samples_sgld_gridsearch = run_time_budget(\n",
    "#                 key, time_budget, partial_build_sgld, thin, gridsearch_params)\n",
    "# print(f\"gridsearch: {ece_est, mce_est, num_samples}\")\n",
    "\n",
    "ece_est, mce_est, num_samples, accuracy_list_sgld_baseline, samples_sgld_baseline = run_time_budget(\n",
    "                key, time_budget, partial_build_sgld, thin, baseline_params)\n",
    "print(f\"baseline: {ece_est, mce_est, num_samples}\")\n"
   ]
  },
  {
   "cell_type": "code",
   "execution_count": null,
   "id": "9c2e9780",
   "metadata": {},
   "outputs": [],
   "source": [
    "# burnin_sgld_mamba = 10\n",
    "# burnin_sgld_gridsearch = 0\n",
    "burnin_sgld_baseline = 0\n",
    "\n",
    "fig, ax = plt.subplots(3, figsize=(10,6))\n",
    "plt.suptitle(\"accuracy\", size=18)\n",
    "# ax[0].plot(accuracy_list_sgld_mamba)\n",
    "# ax[0].set_title(\"mamba\")\n",
    "# ax[1].plot(accuracy_list_sgld_gridsearch)\n",
    "# ax[1].set_title(\"gridsearch\")\n",
    "ax[2].plot(accuracy_list_sgld_baseline)\n",
    "ax[2].set_title(\"baseline\")\n",
    "\n",
    "plt.tight_layout()\n",
    "\n",
    "# print(np.mean(accuracy_list_sgld_mamba[burnin_sgld_mamba:]))\n",
    "# print(np.mean(accuracy_list_sgld_gridsearch[burnin_sgld_gridsearch:]))\n",
    "print(np.mean(accuracy_list_sgld_baseline[burnin_sgld_baseline:]))"
   ]
  },
  {
   "cell_type": "code",
   "execution_count": 9,
   "id": "d5da0cf4",
   "metadata": {},
   "outputs": [],
   "source": [
    "# ood_entropy_samples_sgld_mamba = ood_testing(samples_sgld_mamba[burnin_sgld_mamba:], X_test)\n",
    "# ood_entropy_samples_sgld_gridsearch = ood_testing(samples_sgld_gridsearch[burnin_sgld_gridsearch:], X_test)\n",
    "ood_entropy_samples_sgld_baseline = ood_testing(samples_sgld_baseline[burnin_sgld_baseline:], X_test)\n",
    "\n",
    "np.savetxt(\"outputs/NN_uncertainty_tests/ood/ood_sgld_baseline.txt\", ood_entropy_samples_sgld_baseline)\n",
    "\n"
   ]
  },
  {
   "cell_type": "code",
   "execution_count": null,
   "id": "51c6c1a6",
   "metadata": {},
   "outputs": [],
   "source": []
  },
  {
   "cell_type": "code",
   "execution_count": null,
   "id": "7eed9016",
   "metadata": {},
   "outputs": [],
   "source": []
  },
  {
   "cell_type": "code",
   "execution_count": null,
   "id": "edba2776",
   "metadata": {},
   "outputs": [],
   "source": []
  },
  {
   "cell_type": "code",
   "execution_count": 11,
   "id": "6d8fe111",
   "metadata": {},
   "outputs": [],
   "source": [
    "\n",
    "# np.savetxt(\"outputs/NN_uncertainty_tests/ood/ood_sgld_gridsearch.txt\", ood_entropy_samples_sgld_gridsearch)\n",
    "# np.savetxt(\"outputs/NN_uncertainty_tests/ood/ood_sgld_baseline.txt\", ood_entropy_samples_sgld_baseline)\n",
    "\n",
    "# ood_entropy_samples_sgld_mamba = np.genfromtxt(\"outputs/NN_uncertainty_tests/ood/ood_sgld_mamba.txt\")\n",
    "# ood_entropy_samples_sgld_gridsearch = np.genfromtxt(\"outputs/NN_uncertainty_tests/ood/ood_sgld_gridsearch.txt\")\n",
    "# ood_entropy_samples_sgld_baseline = np.genfromtxt(\"outputs/NN_uncertainty_tests/ood/ood_sgld_baseline.txt\")\n"
   ]
  },
  {
   "cell_type": "code",
   "execution_count": null,
   "id": "1ce87aa6",
   "metadata": {},
   "outputs": [],
   "source": []
  },
  {
   "cell_type": "code",
   "execution_count": null,
   "id": "7dbb1e78",
   "metadata": {},
   "outputs": [],
   "source": []
  },
  {
   "cell_type": "code",
   "execution_count": 10,
   "id": "56c72caf",
   "metadata": {},
   "outputs": [
    {
     "data": {
      "image/png": "[encoded data removed]",
      "text/plain": [
       "<Figure size 432x288 with 1 Axes>"
      ]
     },
     "metadata": {
      "needs_background": "light"
     },
     "output_type": "display_data"
    }
   ],
   "source": [
    "\n",
    "plt.hist(ood_entropy_samples_sgld_mamba, label='mamba', alpha=0.5)\n",
    "# plt.hist(ood_entropy_samples_sgld_gridsearch, label='gridsearch', alpha=0.5)\n",
    "# plt.hist(ood_entropy_samples_sgld_baseline, label='baseline', alpha=0.5)\n",
    "\n",
    "plt.legend()\n",
    "plt.show()\n"
   ]
  },
  {
   "cell_type": "code",
   "execution_count": null,
   "id": "28e51f39",
   "metadata": {},
   "outputs": [],
   "source": []
  },
  {
   "cell_type": "code",
   "execution_count": null,
   "id": "217f5955",
   "metadata": {},
   "outputs": [],
   "source": []
  },
  {
   "cell_type": "markdown",
   "id": "c740b421",
   "metadata": {},
   "source": [
    "### sgld-cv"
   ]
  },
  {
   "cell_type": "code",
   "execution_count": null,
   "id": "f12b4bb8",
   "metadata": {},
   "outputs": [],
   "source": [
    "sh_params = {'batch_size': 600, 'dt': 3.1622776e-06}\n",
    "gridsearch_params = {'batch_size': gridsearch_bs, 'dt': 0.00031622776}\n",
    "baseline_params = {'batch_size': gridsearch_bs, 'dt': dt_baseline}\n",
    "\n",
    "print(\"ece_est, mce_est, num_samples:\\n\")\n",
    "ece_est, mce_est, num_samples, accuracy_list_sgldCV_mamba, samples_sgldCV_mamba = run_time_budget(\n",
    "                key, time_budget, partial_build_sgldCV, thin, sh_params)\n",
    "print(f\"MAMBA: {ece_est, mce_est, num_samples}\")\n",
    "\n",
    "ece_est, mce_est, num_samples, accuracy_list_sgldCV_gridsearch, samples_sgldCV_gridsearch = run_time_budget(\n",
    "                key, time_budget, partial_build_sgldCV, thin, gridsearch_params)\n",
    "print(f\"gridsearch: {ece_est, mce_est, num_samples}\")\n",
    "\n",
    "ece_est, mce_est, num_samples, accuracy_list_sgldCV_baseline, samples_sgldCV_baseline = run_time_budget(\n",
    "                key, time_budget, partial_build_sgldCV, thin, baseline_params)\n",
    "print(f\"baseline: {ece_est, mce_est, num_samples}\")\n",
    "\n"
   ]
  },
  {
   "cell_type": "code",
   "execution_count": null,
   "id": "d504a9fc",
   "metadata": {
    "scrolled": true
   },
   "outputs": [],
   "source": [
    "burnin_sgldCV_mamba = 100\n",
    "burnin_sgldCV_gridsearch = 0\n",
    "burnin_sgldCV_baseline = 0\n",
    "\n",
    "fig, ax = plt.subplots(3, figsize=(10,6))\n",
    "plt.suptitle(\"accuracy\", size=18)\n",
    "ax[0].plot(accuracy_list_sgldCV_mamba)\n",
    "ax[0].set_title(\"mamba\")\n",
    "ax[1].plot(accuracy_list_sgldCV_gridsearch)\n",
    "ax[1].set_title(\"gridsearch\")\n",
    "ax[2].plot(accuracy_list_sgldCV_baseline)\n",
    "ax[2].set_title(\"baseline\")\n",
    "\n",
    "plt.tight_layout()\n",
    "\n",
    "print(np.mean(accuracy_list_sgldCV_mamba[burnin_sgldCV_mamba:]))\n",
    "print(np.mean(accuracy_list_sgldCV_gridsearch[burnin_sgldCV_gridsearch:]))\n",
    "print(np.mean(accuracy_list_sgldCV_baseline[burnin_sgldCV_baseline:]))"
   ]
  },
  {
   "cell_type": "code",
   "execution_count": null,
   "id": "517667c0",
   "metadata": {},
   "outputs": [],
   "source": [
    "ood_entropy_samples_sgldCV_mamba = ood_testing(samples_sgldCV_mamba[burnin_sgldCV_mamba:], X_test)\n",
    "ood_entropy_samples_sgldCV_gridsearch = ood_testing(samples_sgldCV_gridsearch[burnin_sgldCV_gridsearch:], X_test)\n",
    "ood_entropy_samples_sgldCV_baseline = ood_testing(samples_sgldCV_baseline[burnin_sgldCV_baseline:], X_test)\n",
    "\n",
    "# np.savetxt(\"outputs/NN_uncertainty_tests/ood/ood_sgldCV_mamba.txt\", ood_entropy_samples_sgldCV_mamba)\n",
    "# np.savetxt(\"outputs/NN_uncertainty_tests/ood/ood_sgldCV_gridsearch.txt\", ood_entropy_samples_sgldCV_gridsearch)\n",
    "# np.savetxt(\"outputs/NN_uncertainty_tests/ood/ood_sgldCV_baseline.txt\", ood_entropy_samples_sgldCV_baseline)\n"
   ]
  },
  {
   "cell_type": "code",
   "execution_count": 56,
   "id": "07d96c6b",
   "metadata": {},
   "outputs": [],
   "source": [
    "\n",
    "# ood_entropy_samples_sgldCV_mamba = np.genfromtxt(\"outputs/NN_uncertainty_tests/ood/ood_sgldCV_mamba.txt\")\n",
    "# ood_entropy_samples_sgldCV_gridsearch = np.genfromtxt(\"outputs/NN_uncertainty_tests/ood/ood_sgldCV_gridsearch.txt\")\n",
    "# ood_entropy_samples_sgldCV_baseline = np.genfromtxt(\"outputs/NN_uncertainty_tests/ood/ood_sgldCV_baseline.txt\")\n"
   ]
  },
  {
   "cell_type": "code",
   "execution_count": null,
   "id": "6718ab71",
   "metadata": {},
   "outputs": [],
   "source": [
    "\n",
    "\n",
    "plt.hist(ood_entropy_samples_sgldCV_mamba, label='mamba', alpha=0.5)\n",
    "plt.hist(ood_entropy_samples_sgldCV_gridsearch, label='gridsearch', alpha=0.5)\n",
    "plt.hist(ood_entropy_samples_sgldCV_baseline, label='baseline', alpha=0.5)\n",
    "\n",
    "plt.legend()\n",
    "plt.show()\n"
   ]
  },
  {
   "cell_type": "code",
   "execution_count": null,
   "id": "e3180353",
   "metadata": {},
   "outputs": [],
   "source": []
  },
  {
   "cell_type": "code",
   "execution_count": null,
   "id": "2ec01dfd",
   "metadata": {},
   "outputs": [],
   "source": []
  },
  {
   "cell_type": "code",
   "execution_count": null,
   "id": "557356fd",
   "metadata": {},
   "outputs": [],
   "source": []
  },
  {
   "cell_type": "markdown",
   "id": "b58c0c53",
   "metadata": {},
   "source": [
    "### sghmc"
   ]
  },
  {
   "cell_type": "code",
   "execution_count": null,
   "id": "eb3c1f37",
   "metadata": {
    "scrolled": true
   },
   "outputs": [],
   "source": [
    "sh_params = {'batch_size': 600, 'L': 5, 'dt': 3.1622776e-07}\n",
    "gridsearch_params = {'batch_size': gridsearch_bs, 'L': 10, 'dt': 1e-05}\n",
    "baseline_params = {'batch_size': gridsearch_bs, 'L': 10, 'dt': dt_baseline}\n",
    "\n",
    "\n",
    "print(\"ece_est, mce_est, num_samples:\\n\")\n",
    "ece_est, mce_est, num_samples, accuracy_list_sghmc_mamba, samples_sghmc_mamba = run_time_budget(\n",
    "                key, time_budget, partial_build_sghmc, thin, sh_params)\n",
    "print(f\"MAMBA: {ece_est, mce_est, num_samples}\")\n",
    "\n",
    "ece_est, mce_est, num_samples, accuracy_list_sghmc_gridsearch, samples_sghmc_gridsearch = run_time_budget(\n",
    "                key, time_budget, partial_build_sghmc, thin, gridsearch_params)\n",
    "print(f\"gridsearch: {ece_est, mce_est, num_samples}\")\n",
    "\n",
    "ece_est, mce_est, num_samples, accuracy_list_sghmc_baseline, samples_sghmc_baseline = run_time_budget(\n",
    "                key, time_budget, partial_build_sghmc, thin, baseline_params)\n",
    "print(f\"baseline: {ece_est, mce_est, num_samples}\")\n"
   ]
  },
  {
   "cell_type": "code",
   "execution_count": null,
   "id": "a47dc102",
   "metadata": {
    "scrolled": true
   },
   "outputs": [],
   "source": [
    "burnin_sghmc_mamba = 0\n",
    "burnin_sghmc_gridsearch = 0\n",
    "burnin_sghmc_baseline = 0\n",
    "\n",
    "fig, ax = plt.subplots(3, figsize=(10,6))\n",
    "plt.suptitle(\"accuracy\", size=18)\n",
    "ax[0].plot(accuracy_list_sghmc_mamba)\n",
    "ax[0].set_title(\"mamba\")\n",
    "ax[1].plot(accuracy_list_sghmc_gridsearch)\n",
    "ax[1].set_title(\"gridsearch\")\n",
    "ax[2].plot(accuracy_list_sghmc_baseline)\n",
    "ax[2].set_title(\"baseline\")\n",
    "\n",
    "plt.tight_layout()\n",
    "\n",
    "print(np.mean(accuracy_list_sghmc_mamba[burnin_sghmc_mamba:]))\n",
    "print(np.mean(accuracy_list_sghmc_gridsearch[burnin_sghmc_gridsearch:]))\n",
    "print(np.mean(accuracy_list_sghmc_baseline[burnin_sghmc_baseline:]))\n"
   ]
  },
  {
   "cell_type": "code",
   "execution_count": 78,
   "id": "a4715eab",
   "metadata": {},
   "outputs": [],
   "source": [
    "ood_entropy_samples_sghmc_mamba = ood_testing(samples_sghmc_mamba[burnin_sghmc_mamba:], X_test)\n",
    "ood_entropy_samples_sghmc_gridsearch = ood_testing(samples_sghmc_gridsearch[burnin_sghmc_gridsearch:], X_test)\n",
    "ood_entropy_samples_sghmc_baseline = ood_testing(samples_sghmc_baseline[burnin_sghmc_baseline:], X_test)\n",
    "\n",
    "# np.savetxt(\"outputs/NN_uncertainty_tests/ood/ood_sghmc_mamba.txt\", ood_entropy_samples_sghmc_mamba)\n",
    "# np.savetxt(\"outputs/NN_uncertainty_tests/ood/ood_sghmc_gridsearch.txt\", ood_entropy_samples_sghmc_gridsearch)\n",
    "# np.savetxt(\"outputs/NN_uncertainty_tests/ood/ood_sghmc_baseline.txt\", ood_entropy_samples_sghmc_baseline)\n",
    "\n",
    "# ood_entropy_samples_sghmc_mamba = np.genfromtxt(\"outputs/NN_uncertainty_tests/ood/ood_sghmc_mamba.txt\")\n",
    "# ood_entropy_samples_sghmc_gridsearch = np.genfromtxt(\"outputs/NN_uncertainty_tests/ood/ood_sghmc_gridsearch.txt\")\n",
    "# ood_entropy_samples_sghmc_baseline = np.genfromtxt(\"outputs/NN_uncertainty_tests/ood/ood_sghmc_baseline.txt\")\n"
   ]
  },
  {
   "cell_type": "code",
   "execution_count": null,
   "id": "5cf186e4",
   "metadata": {},
   "outputs": [],
   "source": [
    "\n",
    "\n",
    "plt.hist(ood_entropy_samples_sghmc_mamba, label='mamba', alpha=0.5)\n",
    "plt.hist(ood_entropy_samples_sghmc_gridsearch, label='gridsearch', alpha=0.5)\n",
    "plt.hist(ood_entropy_samples_sghmc_baseline, label='baseline', alpha=0.5)\n",
    "\n",
    "plt.legend()\n",
    "plt.show()\n"
   ]
  },
  {
   "cell_type": "code",
   "execution_count": null,
   "id": "a6533bb5",
   "metadata": {},
   "outputs": [],
   "source": []
  },
  {
   "cell_type": "code",
   "execution_count": null,
   "id": "a10414fa",
   "metadata": {},
   "outputs": [],
   "source": []
  },
  {
   "cell_type": "markdown",
   "id": "f8222a6d",
   "metadata": {},
   "source": [
    "### sghmc-cv"
   ]
  },
  {
   "cell_type": "code",
   "execution_count": null,
   "id": "84175ee5",
   "metadata": {},
   "outputs": [],
   "source": [
    "sh_params = {'batch_size': 60, 'L': 5, 'dt': 3.1622776e-07}\n",
    "gridsearch_params = {'batch_size': gridsearch_bs, 'L': 10, 'dt': 1e-05}\n",
    "baseline_params = {'batch_size': gridsearch_bs, 'L': 10, 'dt': dt_baseline}\n",
    "\n",
    "print(\"ece_est, mce_est, num_samples:\\n\")\n",
    "ece_est, mce_est, num_samples, accuracy_list_sghmcCV_mamba, samples_sghmcCV_mamba = run_time_budget(\n",
    "                key, time_budget, partial_build_sghmcCV, thin, sh_params)\n",
    "print(f\"MAMBA: {ece_est, mce_est, num_samples}\")\n",
    "\n",
    "ece_est, mce_est, num_samples, accuracy_list_sghmcCV_gridsearch, samples_sghmcCV_gridsearch = run_time_budget(\n",
    "                key, time_budget, partial_build_sghmcCV, thin, gridsearch_params)\n",
    "print(f\"gridsearch: {ece_est, mce_est, num_samples}\")\n",
    "\n",
    "ece_est, mce_est, num_samples, accuracy_list_sghmcCV_baseline, samples_sghmcCV_baseline = run_time_budget(\n",
    "                key, time_budget, partial_build_sghmcCV, thin, baseline_params)\n",
    "print(f\"baseline: {ece_est, mce_est, num_samples}\")\n"
   ]
  },
  {
   "cell_type": "code",
   "execution_count": null,
   "id": "415720eb",
   "metadata": {
    "scrolled": true
   },
   "outputs": [],
   "source": [
    "burnin_sghmcCV_mamba = 0\n",
    "burnin_sghmcCV_gridsearch = 0\n",
    "burnin_sghmcCV_baseline = 0\n",
    "\n",
    "fig, ax = plt.subplots(3, figsize=(10,6))\n",
    "plt.suptitle(\"accuracy\", size=18)\n",
    "ax[0].plot(accuracy_list_sghmcCV_mamba)\n",
    "ax[0].set_title(\"mamba\")\n",
    "ax[1].plot(accuracy_list_sghmcCV_gridsearch)\n",
    "ax[1].set_title(\"gridsearch\")\n",
    "ax[2].plot(accuracy_list_sghmcCV_baseline)\n",
    "ax[2].set_title(\"baseline\")\n",
    "\n",
    "plt.tight_layout()\n",
    "\n",
    "print(np.mean(accuracy_list_sghmcCV_mamba[burnin_sghmcCV_mamba:]))\n",
    "print(np.mean(accuracy_list_sghmcCV_gridsearch[burnin_sghmcCV_gridsearch:]))\n",
    "print(np.mean(accuracy_list_sghmcCV_baseline[burnin_sghmcCV_baseline:]))\n"
   ]
  },
  {
   "cell_type": "code",
   "execution_count": 84,
   "id": "311bb2d8",
   "metadata": {},
   "outputs": [],
   "source": [
    "ood_entropy_samples_sghmcCV_mamba = ood_testing(samples_sghmcCV_mamba[burnin_sghmcCV_mamba:], X_test)\n",
    "ood_entropy_samples_sghmcCV_gridsearch = ood_testing(samples_sghmcCV_gridsearch[burnin_sghmcCV_gridsearch:], X_test)\n",
    "ood_entropy_samples_sghmcCV_baseline = ood_testing(samples_sghmcCV_baseline[burnin_sghmcCV_baseline:], X_test)\n",
    "\n",
    "# np.savetxt(\"outputs/NN_uncertainty_tests/ood/ood_sghmcCV_mamba.txt\", ood_entropy_samples_sghmcCV_mamba)\n",
    "# np.savetxt(\"outputs/NN_uncertainty_tests/ood/ood_sghmcCV_gridsearch.txt\", ood_entropy_samples_sghmcCV_gridsearch)\n",
    "# np.savetxt(\"outputs/NN_uncertainty_tests/ood/ood_sghmcCV_baseline.txt\", ood_entropy_samples_sghmcCV_baseline)\n",
    "\n",
    "# ood_entropy_samples_sghmcCV_mamba = np.genfromtxt(\"outputs/NN_uncertainty_tests/ood/ood_sghmcCV_mamba.txt\")\n",
    "# ood_entropy_samples_sghmcCV_gridsearch = np.genfromtxt(\"outputs/NN_uncertainty_tests/ood/ood_sghmcCV_gridsearch.txt\")\n",
    "# ood_entropy_samples_sghmcCV_baseline = np.genfromtxt(\"outputs/NN_uncertainty_tests/ood/ood_sghmcCV_baseline.txt\")\n"
   ]
  },
  {
   "cell_type": "code",
   "execution_count": null,
   "id": "91901d91",
   "metadata": {},
   "outputs": [],
   "source": [
    "\n",
    "\n",
    "plt.hist(ood_entropy_samples_sghmcCV_mamba, label='mamba', alpha=0.5)\n",
    "plt.hist(ood_entropy_samples_sghmcCV_gridsearch, label='gridsearch', alpha=0.5)\n",
    "plt.hist(ood_entropy_samples_sghmcCV_baseline, label='baseline', alpha=0.5)\n",
    "\n",
    "plt.legend()\n",
    "plt.show()\n"
   ]
  },
  {
   "cell_type": "code",
   "execution_count": null,
   "id": "b515382a",
   "metadata": {},
   "outputs": [],
   "source": []
  },
  {
   "cell_type": "code",
   "execution_count": null,
   "id": "4f55ac23",
   "metadata": {},
   "outputs": [],
   "source": []
  },
  {
   "cell_type": "code",
   "execution_count": null,
   "id": "a64b0381",
   "metadata": {},
   "outputs": [],
   "source": []
  },
  {
   "cell_type": "code",
   "execution_count": null,
   "id": "d0624deb",
   "metadata": {},
   "outputs": [],
   "source": []
  },
  {
   "cell_type": "markdown",
   "id": "4458a695",
   "metadata": {},
   "source": [
    "### sgnht"
   ]
  },
  {
   "cell_type": "code",
   "execution_count": null,
   "id": "7118f95d",
   "metadata": {},
   "outputs": [],
   "source": [
    "sh_params = {'batch_size': 60, 'dt': 1e-05} \n",
    "gridsearch_params = {'batch_size': gridsearch_bs, 'dt': 1e-4}\n",
    "baseline_params = {'batch_size': gridsearch_bs, 'dt': dt_baseline}\n",
    "\n",
    "print(\"ece_est, mce_est, num_samples:\\n\")\n",
    "ece_est, mce_est, num_samples, accuracy_list_sgnht_mamba, samples_sgnht_mamba = run_time_budget(\n",
    "                key, time_budget, partial_build_sgnht, thin, sh_params)\n",
    "print(f\"MAMBA: {ece_est, mce_est, num_samples}\")\n",
    "\n",
    "ece_est, mce_est, num_samples, accuracy_list_sgnht_gridsearch, samples_sgnht_gridsearch = run_time_budget(\n",
    "                key, time_budget, partial_build_sgnht, thin, gridsearch_params)\n",
    "print(f\"gridsearch: {ece_est, mce_est, num_samples}\")\n",
    "\n",
    "ece_est, mce_est, num_samples, accuracy_list_sgnht_baseline, samples_sgnht_baseline = run_time_budget(\n",
    "                key, time_budget, partial_build_sgnht, thin, baseline_params)\n",
    "print(f\"baseline: {ece_est, mce_est, num_samples}\")\n"
   ]
  },
  {
   "cell_type": "code",
   "execution_count": null,
   "id": "3cec57ea",
   "metadata": {
    "scrolled": true
   },
   "outputs": [],
   "source": [
    "burnin_sgnht_mamba = 0\n",
    "burnin_sgnht_gridsearch = 0\n",
    "burnin_sgnht_baseline = 0\n",
    "\n",
    "fig, ax = plt.subplots(3, figsize=(10,6))\n",
    "plt.suptitle(\"accuracy\", size=18)\n",
    "ax[0].plot(accuracy_list_sgnht_mamba)\n",
    "ax[0].set_title(\"mamba\")\n",
    "ax[1].plot(accuracy_list_sgnht_gridsearch)\n",
    "ax[1].set_title(\"gridsearch\")\n",
    "ax[2].plot(accuracy_list_sgnht_baseline)\n",
    "ax[2].set_title(\"baseline\")\n",
    "\n",
    "plt.tight_layout()\n",
    "\n",
    "print(np.mean(accuracy_list_sgnht_mamba[burnin_sgnht_mamba:]))\n",
    "print(np.mean(accuracy_list_sgnht_gridsearch[burnin_sgnht_gridsearch:]))\n",
    "print(np.mean(accuracy_list_sgnht_baseline[burnin_sgnht_baseline:]))\n"
   ]
  },
  {
   "cell_type": "code",
   "execution_count": 89,
   "id": "5c552650",
   "metadata": {},
   "outputs": [],
   "source": [
    "ood_entropy_samples_sgnht_mamba = ood_testing(samples_sgnht_mamba[burnin_sgnht_mamba:], X_test)\n",
    "ood_entropy_samples_sgnht_gridsearch = ood_testing(samples_sgnht_gridsearch[burnin_sgnht_gridsearch:], X_test)\n",
    "ood_entropy_samples_sgnht_baseline = ood_testing(samples_sgnht_baseline[burnin_sgnht_baseline:], X_test)\n",
    "\n",
    "# np.savetxt(\"outputs/NN_uncertainty_tests/ood/ood_sgnht_mamba.txt\", ood_entropy_samples_sgnht_mamba)\n",
    "# np.savetxt(\"outputs/NN_uncertainty_tests/ood/ood_sgnht_gridsearch.txt\", ood_entropy_samples_sgnht_gridsearch)\n",
    "# np.savetxt(\"outputs/NN_uncertainty_tests/ood/ood_sgnht_baseline.txt\", ood_entropy_samples_sgnht_baseline)\n",
    "\n",
    "# ood_entropy_samples_sgnht_mamba = np.genfromtxt(\"outputs/NN_uncertainty_tests/ood/ood_sgnht_mamba.txt\")\n",
    "# ood_entropy_samples_sgnht_gridsearch = np.genfromtxt(\"outputs/NN_uncertainty_tests/ood/ood_sgnht_gridsearch.txt\")\n",
    "# ood_entropy_samples_sgnht_baseline = np.genfromtxt(\"outputs/NN_uncertainty_tests/ood/ood_sgnht_baseline.txt\")\n"
   ]
  },
  {
   "cell_type": "code",
   "execution_count": null,
   "id": "f9b139b7",
   "metadata": {},
   "outputs": [],
   "source": [
    "\n",
    "\n",
    "plt.hist(ood_entropy_samples_sgnht_mamba, label='mamba', alpha=0.5)\n",
    "plt.hist(ood_entropy_samples_sgnht_gridsearch, label='gridsearch', alpha=0.5)\n",
    "plt.hist(ood_entropy_samples_sgnht_baseline, label='baseline', alpha=0.5)\n",
    "\n",
    "plt.legend()\n",
    "plt.show()\n"
   ]
  },
  {
   "cell_type": "code",
   "execution_count": null,
   "id": "d6818bfa",
   "metadata": {},
   "outputs": [],
   "source": []
  },
  {
   "cell_type": "code",
   "execution_count": null,
   "id": "be5570cc",
   "metadata": {},
   "outputs": [],
   "source": []
  },
  {
   "cell_type": "markdown",
   "id": "f795b273",
   "metadata": {},
   "source": [
    "### sgnht-cv"
   ]
  },
  {
   "cell_type": "code",
   "execution_count": null,
   "id": "76ab5c57",
   "metadata": {},
   "outputs": [],
   "source": [
    "sh_params = {'batch_size': 600, 'dt': 3.1622776e-08}\n",
    "gridsearch_params = {'batch_size': gridsearch_bs, 'dt': 3.1622778e-05}\n",
    "baseline_params = {'batch_size': gridsearch_bs, 'dt': dt_baseline}\n",
    "\n",
    "print(\"ece_est, mce_est, num_samples:\\n\")\n",
    "ece_est, mce_est, num_samples, accuracy_list_sgnhtCV_mamba, samples_sgnhtCV_mamba = run_time_budget(\n",
    "                key, time_budget, partial_build_sgnhtCV, thin, sh_params)\n",
    "print(f\"MAMBA: {ece_est, mce_est, num_samples}\")\n",
    "\n",
    "ece_est, mce_est, num_samples, accuracy_list_sgnhtCV_gridsearch, samples_sgnhtCV_gridsearch = run_time_budget(\n",
    "                key, time_budget, partial_build_sgnhtCV, thin, gridsearch_params)\n",
    "print(f\"gridsearch: {ece_est, mce_est, num_samples}\")\n",
    "\n",
    "ece_est, mce_est, num_samples, accuracy_list_sgnhtCV_baseline, samples_sgnhtCV_baseline = run_time_budget(\n",
    "                key, time_budget, partial_build_sgnhtCV, thin, baseline_params)\n",
    "print(f\"baseline: {ece_est, mce_est, num_samples}\")\n"
   ]
  },
  {
   "cell_type": "code",
   "execution_count": null,
   "id": "86db9101",
   "metadata": {
    "scrolled": true
   },
   "outputs": [],
   "source": [
    "burnin_sgnhtCV_mamba = 0\n",
    "burnin_sgnhtCV_gridsearch = 0\n",
    "burnin_sgnhtCV_baseline = 0\n",
    "\n",
    "fig, ax = plt.subplots(3, figsize=(10,6))\n",
    "plt.suptitle(\"accuracy\", size=18)\n",
    "ax[0].plot(accuracy_list_sgnhtCV_mamba)\n",
    "ax[0].set_title(\"mamba\")\n",
    "ax[1].plot(accuracy_list_sgnhtCV_gridsearch)\n",
    "ax[1].set_title(\"gridsearch\")\n",
    "ax[2].plot(accuracy_list_sgnhtCV_baseline)\n",
    "ax[2].set_title(\"baseline\")\n",
    "\n",
    "plt.tight_layout()\n",
    "\n",
    "print(np.mean(accuracy_list_sgnhtCV_mamba[burnin_sgnhtCV_mamba:]))\n",
    "print(np.mean(accuracy_list_sgnhtCV_gridsearch[burnin_sgnhtCV_gridsearch:]))\n",
    "print(np.mean(accuracy_list_sgnhtCV_baseline[burnin_sgnhtCV_baseline:]))\n"
   ]
  },
  {
   "cell_type": "code",
   "execution_count": null,
   "id": "9f241ee5",
   "metadata": {},
   "outputs": [],
   "source": [
    "ood_entropy_samples_sgnhtCV_mamba = ood_testing(samples_sgnhtCV_mamba[burnin_sgnhtCV_mamba:], X_test)\n",
    "ood_entropy_samples_sgnhtCV_gridsearch = ood_testing(samples_sgnhtCV_gridsearch[burnin_sgnhtCV_gridsearch:], X_test)\n",
    "ood_entropy_samples_sgnhtCV_baseline = ood_testing(samples_sgnhtCV_baseline[burnin_sgnhtCV_baseline:], X_test)\n",
    "\n",
    "# np.savetxt(\"outputs/NN_uncertainty_tests/ood/ood_sgnhtCV_mamba.txt\", ood_entropy_samples_sgnhtCV_mamba)\n",
    "# np.savetxt(\"outputs/NN_uncertainty_tests/ood/ood_sgnhtCV_gridsearch.txt\", ood_entropy_samples_sgnhtCV_gridsearch)\n",
    "# np.savetxt(\"outputs/NN_uncertainty_tests/ood/ood_sgnhtCV_baseline.txt\", ood_entropy_samples_sgnhtCV_baseline)\n",
    "\n",
    "# ood_entropy_samples_sgnhtCV_mamba = np.genfromtxt(\"outputs/NN_uncertainty_tests/ood/ood_sgnhtCV_mamba.txt\")\n",
    "# ood_entropy_samples_sgnhtCV_gridsearch = np.genfromtxt(\"outputs/NN_uncertainty_tests/ood/ood_sgnhtCV_gridsearch.txt\")\n",
    "# ood_entropy_samples_sgnhtCV_baseline = np.genfromtxt(\"outputs/NN_uncertainty_tests/ood/ood_sgnhtCV_baseline.txt\")\n"
   ]
  },
  {
   "cell_type": "code",
   "execution_count": null,
   "id": "1e425a13",
   "metadata": {},
   "outputs": [],
   "source": [
    "\n",
    "\n",
    "plt.hist(ood_entropy_samples_sgnhtCV_mamba, label='mamba', alpha=0.5)\n",
    "plt.hist(ood_entropy_samples_sgnhtCV_gridsearch, label='gridsearch', alpha=0.5)\n",
    "plt.hist(ood_entropy_samples_sgnhtCV_baseline, label='baseline', alpha=0.5)\n",
    "\n",
    "plt.legend()\n",
    "plt.show()\n"
   ]
  },
  {
   "cell_type": "code",
   "execution_count": null,
   "id": "777cdd38",
   "metadata": {},
   "outputs": [],
   "source": []
  },
  {
   "cell_type": "code",
   "execution_count": null,
   "id": "3ad41160",
   "metadata": {},
   "outputs": [],
   "source": []
  },
  {
   "cell_type": "markdown",
   "id": "f2f87b51",
   "metadata": {},
   "source": [
    "# 2. KSD curves"
   ]
  },
  {
   "cell_type": "markdown",
   "id": "078cb564",
   "metadata": {},
   "source": [
    "### sgld"
   ]
  },
  {
   "cell_type": "code",
   "execution_count": 5,
   "id": "c4857eea",
   "metadata": {},
   "outputs": [],
   "source": [
    "error_fn_ksd_curve = partial(get_ksd_NN, thin_step=20)\n",
    "list_time_budget = [2, 4, 6, 8, 10]\n",
    "\n",
    "num_curves = 5"
   ]
  },
  {
   "cell_type": "code",
   "execution_count": 6,
   "id": "79e62f93",
   "metadata": {
    "collapsed": true
   },
   "outputs": [
    {
     "name": "stdout",
     "output_type": "stream",
     "text": [
      "Running for {'batch_size': 600, 'dt': 3.1622776e-06}\n",
      "\n",
      "Iteration 0/5\n",
      "Budget: 2, num_samples = 856\n",
      "Budget: 4, num_samples = 1365\n",
      "Budget: 6, num_samples = 2027\n",
      "Budget: 8, num_samples = 2917\n",
      "Budget: 10, num_samples = 4006\n",
      "\n",
      "Iteration 1/5\n",
      "Budget: 2, num_samples = 923\n",
      "Budget: 4, num_samples = 1668\n",
      "Budget: 6, num_samples = 2283\n",
      "Budget: 8, num_samples = 3237\n",
      "Budget: 10, num_samples = 3997\n",
      "\n",
      "Iteration 2/5\n",
      "Budget: 2, num_samples = 921\n",
      "Budget: 4, num_samples = 1490\n",
      "Budget: 6, num_samples = 2238\n",
      "Budget: 8, num_samples = 3191\n",
      "Budget: 10, num_samples = 3680\n",
      "\n",
      "Iteration 3/5\n",
      "Budget: 2, num_samples = 889\n",
      "Budget: 4, num_samples = 1384\n",
      "Budget: 6, num_samples = 2234\n",
      "Budget: 8, num_samples = 3133\n",
      "Budget: 10, num_samples = 4096\n",
      "\n",
      "Iteration 4/5\n",
      "Budget: 2, num_samples = 925\n",
      "Budget: 4, num_samples = 1467\n",
      "Budget: 6, num_samples = 2176\n",
      "Budget: 8, num_samples = 3210\n",
      "Budget: 10, num_samples = 4054\n"
     ]
    }
   ],
   "source": [
    "dict_params = {'batch_size': 600, 'dt': 3.1622776e-06}\n",
    "get_metric_curve = build_metric_curve_fn(dict_params, list_time_budget, \n",
    "                            partial_build_sgld, params_IC, error_fn_ksd_curve)\n",
    "\n",
    "key = random.PRNGKey(0)\n",
    "mean_ksd_curve_sgld_mamba, sd_ksd_curve_sgld_mamba = get_mean_sd_ksd_curve(key, num_curves, get_metric_curve)\n"
   ]
  },
  {
   "cell_type": "code",
   "execution_count": 7,
   "id": "89a4b6df",
   "metadata": {
    "collapsed": true
   },
   "outputs": [
    {
     "name": "stdout",
     "output_type": "stream",
     "text": [
      "Running for {'batch_size': 6000, 'dt': 0.00031622776}\n",
      "\n",
      "Iteration 0/5\n",
      "Budget: 2, num_samples = 137\n",
      "Budget: 4, num_samples = 265\n",
      "Budget: 6, num_samples = 355\n",
      "Budget: 8, num_samples = 405\n",
      "Budget: 10, num_samples = 540\n",
      "\n",
      "Iteration 1/5\n",
      "Budget: 2, num_samples = 110\n",
      "Budget: 4, num_samples = 219\n",
      "Budget: 6, num_samples = 328\n",
      "Budget: 8, num_samples = 443\n",
      "Budget: 10, num_samples = 562\n",
      "\n",
      "Iteration 2/5\n",
      "Budget: 2, num_samples = 107\n",
      "Budget: 4, num_samples = 214\n",
      "Budget: 6, num_samples = 331\n",
      "Budget: 8, num_samples = 447\n",
      "Budget: 10, num_samples = 538\n",
      "\n",
      "Iteration 3/5\n",
      "Budget: 2, num_samples = 110\n",
      "Budget: 4, num_samples = 212\n",
      "Budget: 6, num_samples = 319\n",
      "Budget: 8, num_samples = 423\n",
      "Budget: 10, num_samples = 509\n",
      "\n",
      "Iteration 4/5\n",
      "Budget: 2, num_samples = 86\n",
      "Budget: 4, num_samples = 198\n",
      "Budget: 6, num_samples = 269\n",
      "Budget: 8, num_samples = 338\n",
      "Budget: 10, num_samples = 481\n"
     ]
    }
   ],
   "source": [
    "dict_params = {'batch_size': gridsearch_bs, 'dt': 0.00031622776}\n",
    "get_metric_curve = build_metric_curve_fn(dict_params, list_time_budget, \n",
    "                            partial_build_sgld, params_IC, error_fn_ksd_curve)\n",
    "\n",
    "key = random.PRNGKey(0)\n",
    "mean_ksd_curve_sgld_gridsearch, sd_ksd_curve_sgld_gridsearch = get_mean_sd_ksd_curve(key, num_curves, get_metric_curve)\n"
   ]
  },
  {
   "cell_type": "code",
   "execution_count": 8,
   "id": "c4c93357",
   "metadata": {
    "collapsed": true
   },
   "outputs": [
    {
     "name": "stdout",
     "output_type": "stream",
     "text": [
      "Running for {'batch_size': 6000, 'dt': 1.6666666666666667e-05}\n",
      "\n",
      "Iteration 0/5\n",
      "Budget: 2, num_samples = 114\n",
      "Budget: 4, num_samples = 196\n",
      "Budget: 6, num_samples = 254\n",
      "Budget: 8, num_samples = 343\n",
      "Budget: 10, num_samples = 454\n",
      "\n",
      "Iteration 1/5\n",
      "Budget: 2, num_samples = 95\n",
      "Budget: 4, num_samples = 177\n",
      "Budget: 6, num_samples = 287\n",
      "Budget: 8, num_samples = 350\n",
      "Budget: 10, num_samples = 434\n",
      "\n",
      "Iteration 2/5\n",
      "Budget: 2, num_samples = 87\n",
      "Budget: 4, num_samples = 157\n",
      "Budget: 6, num_samples = 272\n",
      "Budget: 8, num_samples = 349\n",
      "Budget: 10, num_samples = 504\n",
      "\n",
      "Iteration 3/5\n",
      "Budget: 2, num_samples = 109\n",
      "Budget: 4, num_samples = 218\n",
      "Budget: 6, num_samples = 336\n",
      "Budget: 8, num_samples = 429\n",
      "Budget: 10, num_samples = 483\n",
      "\n",
      "Iteration 4/5\n",
      "Budget: 2, num_samples = 92\n",
      "Budget: 4, num_samples = 180\n",
      "Budget: 6, num_samples = 288\n",
      "Budget: 8, num_samples = 350\n",
      "Budget: 10, num_samples = 442\n"
     ]
    }
   ],
   "source": [
    "dict_params = {'batch_size': gridsearch_bs, 'dt': dt_baseline}\n",
    "get_metric_curve = build_metric_curve_fn(dict_params, list_time_budget, \n",
    "                            partial_build_sgld, params_IC, error_fn_ksd_curve)\n",
    "\n",
    "key = random.PRNGKey(0)\n",
    "mean_ksd_curve_sgld_baseline, sd_ksd_curve_sgld_baseline = get_mean_sd_ksd_curve(key, num_curves, get_metric_curve)\n"
   ]
  },
  {
   "cell_type": "markdown",
   "id": "046f1c8e",
   "metadata": {},
   "source": [
    "### sgld-cv"
   ]
  },
  {
   "cell_type": "code",
   "execution_count": 9,
   "id": "b74b6cbb",
   "metadata": {
    "collapsed": true
   },
   "outputs": [
    {
     "name": "stdout",
     "output_type": "stream",
     "text": [
      "Running for {'batch_size': 600, 'dt': 3.1622776e-06}\n",
      "\n",
      "Iteration 0/5\n",
      "Budget: 2, num_samples = 549\n",
      "Budget: 4, num_samples = 734\n",
      "Budget: 6, num_samples = 1086\n",
      "Budget: 8, num_samples = 1311\n",
      "Budget: 10, num_samples = 1702\n",
      "\n",
      "Iteration 1/5\n",
      "Budget: 2, num_samples = 343\n",
      "Budget: 4, num_samples = 703\n",
      "Budget: 6, num_samples = 1018\n",
      "Budget: 8, num_samples = 1551\n",
      "Budget: 10, num_samples = 1858\n",
      "\n",
      "Iteration 2/5\n",
      "Budget: 2, num_samples = 402\n",
      "Budget: 4, num_samples = 780\n",
      "Budget: 6, num_samples = 1204\n",
      "Budget: 8, num_samples = 1596\n",
      "Budget: 10, num_samples = 1836\n",
      "\n",
      "Iteration 3/5\n",
      "Budget: 2, num_samples = 396\n",
      "Budget: 4, num_samples = 827\n",
      "Budget: 6, num_samples = 1019\n",
      "Budget: 8, num_samples = 1561\n",
      "Budget: 10, num_samples = 2058\n",
      "\n",
      "Iteration 4/5\n",
      "Budget: 2, num_samples = 432\n",
      "Budget: 4, num_samples = 750\n",
      "Budget: 6, num_samples = 1140\n",
      "Budget: 8, num_samples = 1505\n",
      "Budget: 10, num_samples = 2004\n"
     ]
    }
   ],
   "source": [
    "dict_params = {'batch_size': 600, 'dt': 3.1622776e-06}\n",
    "get_metric_curve = build_metric_curve_fn(dict_params, list_time_budget, \n",
    "                            partial_build_sgldCV, params_IC, error_fn_ksd_curve)\n",
    "\n",
    "key = random.PRNGKey(0)\n",
    "mean_ksd_curve_sgldCV_mamba, sd_ksd_curve_sgldCV_mamba = get_mean_sd_ksd_curve(key, num_curves, get_metric_curve)\n"
   ]
  },
  {
   "cell_type": "code",
   "execution_count": 10,
   "id": "a975606f",
   "metadata": {
    "collapsed": true
   },
   "outputs": [
    {
     "name": "stdout",
     "output_type": "stream",
     "text": [
      "Running for {'batch_size': 6000, 'dt': 0.00031622776}\n",
      "\n",
      "Iteration 0/5\n",
      "Budget: 2, num_samples = 60\n",
      "Budget: 4, num_samples = 104\n",
      "Budget: 6, num_samples = 145\n",
      "Budget: 8, num_samples = 197\n",
      "Budget: 10, num_samples = 265\n",
      "\n",
      "Iteration 1/5\n",
      "Budget: 2, num_samples = 57\n",
      "Budget: 4, num_samples = 105\n",
      "Budget: 6, num_samples = 140\n",
      "Budget: 8, num_samples = 206\n",
      "Budget: 10, num_samples = 237\n",
      "\n",
      "Iteration 2/5\n",
      "Budget: 2, num_samples = 50\n",
      "Budget: 4, num_samples = 96\n",
      "Budget: 6, num_samples = 157\n",
      "Budget: 8, num_samples = 204\n",
      "Budget: 10, num_samples = 278\n",
      "\n",
      "Iteration 3/5\n",
      "Budget: 2, num_samples = 53\n",
      "Budget: 4, num_samples = 110\n",
      "Budget: 6, num_samples = 144\n",
      "Budget: 8, num_samples = 191\n",
      "Budget: 10, num_samples = 281\n",
      "\n",
      "Iteration 4/5\n",
      "Budget: 2, num_samples = 60\n",
      "Budget: 4, num_samples = 117\n",
      "Budget: 6, num_samples = 144\n",
      "Budget: 8, num_samples = 194\n",
      "Budget: 10, num_samples = 264\n"
     ]
    }
   ],
   "source": [
    "dict_params = {'batch_size': gridsearch_bs, 'dt': 0.00031622776}\n",
    "get_metric_curve = build_metric_curve_fn(dict_params, list_time_budget, \n",
    "                            partial_build_sgldCV, params_IC, error_fn_ksd_curve)\n",
    "\n",
    "key = random.PRNGKey(0)\n",
    "mean_ksd_curve_sgldCV_gridsearch, sd_ksd_curve_sgldCV_gridsearch = get_mean_sd_ksd_curve(key, num_curves, get_metric_curve)\n"
   ]
  },
  {
   "cell_type": "code",
   "execution_count": 11,
   "id": "be428732",
   "metadata": {
    "collapsed": true
   },
   "outputs": [
    {
     "name": "stdout",
     "output_type": "stream",
     "text": [
      "Running for {'batch_size': 6000, 'dt': 1.6666666666666667e-05}\n",
      "\n",
      "Iteration 0/5\n",
      "Budget: 2, num_samples = 76\n",
      "Budget: 4, num_samples = 127\n",
      "Budget: 6, num_samples = 171\n",
      "Budget: 8, num_samples = 202\n",
      "Budget: 10, num_samples = 280\n",
      "\n",
      "Iteration 1/5\n",
      "Budget: 2, num_samples = 60\n",
      "Budget: 4, num_samples = 117\n",
      "Budget: 6, num_samples = 170\n",
      "Budget: 8, num_samples = 223\n",
      "Budget: 10, num_samples = 304\n",
      "\n",
      "Iteration 2/5\n",
      "Budget: 2, num_samples = 65\n",
      "Budget: 4, num_samples = 128\n",
      "Budget: 6, num_samples = 191\n",
      "Budget: 8, num_samples = 248\n",
      "Budget: 10, num_samples = 300\n",
      "\n",
      "Iteration 3/5\n",
      "Budget: 2, num_samples = 63\n",
      "Budget: 4, num_samples = 124\n",
      "Budget: 6, num_samples = 193\n",
      "Budget: 8, num_samples = 247\n",
      "Budget: 10, num_samples = 307\n",
      "\n",
      "Iteration 4/5\n",
      "Budget: 2, num_samples = 62\n",
      "Budget: 4, num_samples = 124\n",
      "Budget: 6, num_samples = 193\n",
      "Budget: 8, num_samples = 256\n",
      "Budget: 10, num_samples = 315\n"
     ]
    }
   ],
   "source": [
    "dict_params = {'batch_size': gridsearch_bs, 'dt': dt_baseline}\n",
    "get_metric_curve = build_metric_curve_fn(dict_params, list_time_budget, \n",
    "                            partial_build_sgldCV, params_IC, error_fn_ksd_curve)\n",
    "\n",
    "key = random.PRNGKey(0)\n",
    "mean_ksd_curve_sgldCV_baseline, sd_ksd_curve_sgldCV_baseline = get_mean_sd_ksd_curve(key, num_curves, get_metric_curve)\n"
   ]
  },
  {
   "cell_type": "markdown",
   "id": "18e1932c",
   "metadata": {},
   "source": [
    "### sghmc"
   ]
  },
  {
   "cell_type": "code",
   "execution_count": 12,
   "id": "b9274245",
   "metadata": {
    "collapsed": true
   },
   "outputs": [
    {
     "name": "stdout",
     "output_type": "stream",
     "text": [
      "Running for {'batch_size': 600, 'L': 5, 'dt': 3.1622776e-07}\n",
      "\n",
      "Iteration 0/5\n",
      "Budget: 2, num_samples = 187\n",
      "Budget: 4, num_samples = 308\n",
      "Budget: 6, num_samples = 414\n",
      "Budget: 8, num_samples = 498\n",
      "Budget: 10, num_samples = 653\n",
      "\n",
      "Iteration 1/5\n",
      "Budget: 2, num_samples = 135\n",
      "Budget: 4, num_samples = 294\n",
      "Budget: 6, num_samples = 396\n",
      "Budget: 8, num_samples = 548\n",
      "Budget: 10, num_samples = 628\n",
      "\n",
      "Iteration 2/5\n",
      "Budget: 2, num_samples = 144\n",
      "Budget: 4, num_samples = 259\n",
      "Budget: 6, num_samples = 360\n",
      "Budget: 8, num_samples = 500\n",
      "Budget: 10, num_samples = 667\n",
      "\n",
      "Iteration 3/5\n",
      "Budget: 2, num_samples = 127\n",
      "Budget: 4, num_samples = 249\n",
      "Budget: 6, num_samples = 409\n",
      "Budget: 8, num_samples = 518\n",
      "Budget: 10, num_samples = 662\n",
      "\n",
      "Iteration 4/5\n",
      "Budget: 2, num_samples = 128\n",
      "Budget: 4, num_samples = 272\n",
      "Budget: 6, num_samples = 394\n",
      "Budget: 8, num_samples = 557\n",
      "Budget: 10, num_samples = 679\n"
     ]
    }
   ],
   "source": [
    "dict_params = {'batch_size': 600, 'L': 5, 'dt': 3.1622776e-07}\n",
    "get_metric_curve = build_metric_curve_fn(dict_params, list_time_budget, \n",
    "                            partial_build_sghmc, params_IC, error_fn_ksd_curve)\n",
    "\n",
    "key = random.PRNGKey(0)\n",
    "mean_ksd_curve_sghmc_mamba, sd_ksd_curve_sghmc_mamba = get_mean_sd_ksd_curve(key, num_curves, get_metric_curve)\n"
   ]
  },
  {
   "cell_type": "code",
   "execution_count": 13,
   "id": "6d9dbe8e",
   "metadata": {
    "collapsed": true
   },
   "outputs": [
    {
     "name": "stdout",
     "output_type": "stream",
     "text": [
      "Running for {'batch_size': 6000, 'L': 10, 'dt': 1e-05}\n",
      "\n",
      "Iteration 0/5\n",
      "Budget: 2, num_samples = 14\n",
      "Budget: 4, num_samples = 24\n",
      "Budget: 6, num_samples = 34\n",
      "Budget: 8, num_samples = 43\n",
      "Budget: 10, num_samples = 54\n",
      "\n",
      "Iteration 1/5\n",
      "Budget: 2, num_samples = 12\n",
      "Budget: 4, num_samples = 23\n",
      "Budget: 6, num_samples = 33\n",
      "Budget: 8, num_samples = 45\n",
      "Budget: 10, num_samples = 56\n",
      "\n",
      "Iteration 2/5\n",
      "Budget: 2, num_samples = 12\n",
      "Budget: 4, num_samples = 24\n",
      "Budget: 6, num_samples = 33\n",
      "Budget: 8, num_samples = 43\n",
      "Budget: 10, num_samples = 57\n",
      "\n",
      "Iteration 3/5\n",
      "Budget: 2, num_samples = 13\n",
      "Budget: 4, num_samples = 24\n",
      "Budget: 6, num_samples = 34\n",
      "Budget: 8, num_samples = 40\n",
      "Budget: 10, num_samples = 56\n",
      "\n",
      "Iteration 4/5\n",
      "Budget: 2, num_samples = 12\n",
      "Budget: 4, num_samples = 25\n",
      "Budget: 6, num_samples = 33\n",
      "Budget: 8, num_samples = 39\n",
      "Budget: 10, num_samples = 41\n"
     ]
    }
   ],
   "source": [
    "dict_params = {'batch_size': gridsearch_bs, 'L': 10, 'dt': 1e-05}\n",
    "get_metric_curve = build_metric_curve_fn(dict_params, list_time_budget, \n",
    "                            partial_build_sghmc, params_IC, error_fn_ksd_curve)\n",
    "\n",
    "key = random.PRNGKey(0)\n",
    "mean_ksd_curve_sghmc_gridsearch, sd_ksd_curve_sghmc_gridsearch = get_mean_sd_ksd_curve(key, num_curves, get_metric_curve)\n"
   ]
  },
  {
   "cell_type": "code",
   "execution_count": 14,
   "id": "04f41d86",
   "metadata": {
    "collapsed": true
   },
   "outputs": [
    {
     "name": "stdout",
     "output_type": "stream",
     "text": [
      "Running for {'batch_size': 6000, 'L': 10, 'dt': 1.6666666666666667e-05}\n",
      "\n",
      "Iteration 0/5\n",
      "Budget: 2, num_samples = 15\n",
      "Budget: 4, num_samples = 25\n",
      "Budget: 6, num_samples = 32\n",
      "Budget: 8, num_samples = 42\n",
      "Budget: 10, num_samples = 57\n",
      "\n",
      "Iteration 1/5\n",
      "Budget: 2, num_samples = 13\n",
      "Budget: 4, num_samples = 22\n",
      "Budget: 6, num_samples = 34\n",
      "Budget: 8, num_samples = 46\n",
      "Budget: 10, num_samples = 57\n",
      "\n",
      "Iteration 2/5\n",
      "Budget: 2, num_samples = 11\n",
      "Budget: 4, num_samples = 24\n",
      "Budget: 6, num_samples = 31\n",
      "Budget: 8, num_samples = 43\n",
      "Budget: 10, num_samples = 57\n",
      "\n",
      "Iteration 3/5\n",
      "Budget: 2, num_samples = 11\n",
      "Budget: 4, num_samples = 20\n",
      "Budget: 6, num_samples = 34\n",
      "Budget: 8, num_samples = 48\n",
      "Budget: 10, num_samples = 62\n",
      "\n",
      "Iteration 4/5\n",
      "Budget: 2, num_samples = 13\n",
      "Budget: 4, num_samples = 25\n",
      "Budget: 6, num_samples = 36\n",
      "Budget: 8, num_samples = 48\n",
      "Budget: 10, num_samples = 57\n"
     ]
    }
   ],
   "source": [
    "dict_params = {'batch_size': gridsearch_bs, 'L': 10, 'dt': dt_baseline}\n",
    "get_metric_curve = build_metric_curve_fn(dict_params, list_time_budget, \n",
    "                            partial_build_sghmc, params_IC, error_fn_ksd_curve)\n",
    "\n",
    "key = random.PRNGKey(0)\n",
    "mean_ksd_curve_sghmc_baseline, sd_ksd_curve_sghmc_baseline = get_mean_sd_ksd_curve(key, num_curves, get_metric_curve)\n"
   ]
  },
  {
   "cell_type": "markdown",
   "id": "671da5e3",
   "metadata": {},
   "source": [
    "### sghmc-CV"
   ]
  },
  {
   "cell_type": "code",
   "execution_count": 15,
   "id": "b92dda06",
   "metadata": {
    "collapsed": true
   },
   "outputs": [
    {
     "name": "stdout",
     "output_type": "stream",
     "text": [
      "Running for {'batch_size': 60, 'L': 5, 'dt': 3.1622776e-07}\n",
      "\n",
      "Iteration 0/5\n",
      "Budget: 2, num_samples = 335\n",
      "Budget: 4, num_samples = 548\n",
      "Budget: 6, num_samples = 737\n",
      "Budget: 8, num_samples = 1051\n",
      "Budget: 10, num_samples = 1319\n",
      "\n",
      "Iteration 1/5\n",
      "Budget: 2, num_samples = 232\n",
      "Budget: 4, num_samples = 517\n",
      "Budget: 6, num_samples = 799\n",
      "Budget: 8, num_samples = 1045\n",
      "Budget: 10, num_samples = 1294\n",
      "\n",
      "Iteration 2/5\n",
      "Budget: 2, num_samples = 226\n",
      "Budget: 4, num_samples = 485\n",
      "Budget: 6, num_samples = 736\n",
      "Budget: 8, num_samples = 1002\n",
      "Budget: 10, num_samples = 1277\n",
      "\n",
      "Iteration 3/5\n",
      "Budget: 2, num_samples = 237\n",
      "Budget: 4, num_samples = 516\n",
      "Budget: 6, num_samples = 775\n",
      "Budget: 8, num_samples = 1026\n",
      "Budget: 10, num_samples = 1252\n",
      "\n",
      "Iteration 4/5\n",
      "Budget: 2, num_samples = 242\n",
      "Budget: 4, num_samples = 513\n",
      "Budget: 6, num_samples = 772\n",
      "Budget: 8, num_samples = 1010\n",
      "Budget: 10, num_samples = 1305\n"
     ]
    }
   ],
   "source": [
    "dict_params = {'batch_size': 60, 'L': 5, 'dt': 3.1622776e-07}\n",
    "get_metric_curve = build_metric_curve_fn(dict_params, list_time_budget, \n",
    "                            partial_build_sghmcCV, params_IC, error_fn_ksd_curve)\n",
    "\n",
    "key = random.PRNGKey(0)\n",
    "mean_ksd_curve_sghmcCV_mamba, sd_ksd_curve_sghmcCV_mamba = get_mean_sd_ksd_curve(key, num_curves, get_metric_curve)\n"
   ]
  },
  {
   "cell_type": "code",
   "execution_count": 16,
   "id": "d69ed0dd",
   "metadata": {
    "collapsed": true
   },
   "outputs": [
    {
     "name": "stdout",
     "output_type": "stream",
     "text": [
      "Running for {'batch_size': 6000, 'L': 10, 'dt': 1e-05}\n",
      "\n",
      "Iteration 0/5\n",
      "Budget: 2, num_samples = 10\n",
      "Budget: 4, num_samples = 16\n",
      "Budget: 6, num_samples = 20\n",
      "Budget: 8, num_samples = 26\n",
      "Budget: 10, num_samples = 33\n",
      "\n",
      "Iteration 1/5\n",
      "Budget: 2, num_samples = 8\n",
      "Budget: 4, num_samples = 14\n",
      "Budget: 6, num_samples = 22\n",
      "Budget: 8, num_samples = 28\n",
      "Budget: 10, num_samples = 34\n",
      "\n",
      "Iteration 2/5\n",
      "Budget: 2, num_samples = 8\n",
      "Budget: 4, num_samples = 14\n",
      "Budget: 6, num_samples = 20\n",
      "Budget: 8, num_samples = 27\n",
      "Budget: 10, num_samples = 34\n",
      "\n",
      "Iteration 3/5\n",
      "Budget: 2, num_samples = 8\n",
      "Budget: 4, num_samples = 15\n",
      "Budget: 6, num_samples = 21\n",
      "Budget: 8, num_samples = 27\n",
      "Budget: 10, num_samples = 32\n",
      "\n",
      "Iteration 4/5\n",
      "Budget: 2, num_samples = 8\n",
      "Budget: 4, num_samples = 14\n",
      "Budget: 6, num_samples = 21\n",
      "Budget: 8, num_samples = 26\n",
      "Budget: 10, num_samples = 32\n"
     ]
    }
   ],
   "source": [
    "dict_params = {'batch_size': gridsearch_bs, 'L': 10, 'dt': 1e-05}\n",
    "get_metric_curve = build_metric_curve_fn(dict_params, list_time_budget, \n",
    "                            partial_build_sghmcCV, params_IC, error_fn_ksd_curve)\n",
    "\n",
    "key = random.PRNGKey(0)\n",
    "mean_ksd_curve_sghmcCV_gridsearch, sd_ksd_curve_sghmcCV_gridsearch = get_mean_sd_ksd_curve(key, num_curves, get_metric_curve)\n"
   ]
  },
  {
   "cell_type": "code",
   "execution_count": 17,
   "id": "e5fa3370",
   "metadata": {
    "collapsed": true
   },
   "outputs": [
    {
     "name": "stdout",
     "output_type": "stream",
     "text": [
      "Running for {'batch_size': 6000, 'L': 10, 'dt': 1.6666666666666667e-05}\n",
      "\n",
      "Iteration 0/5\n",
      "Budget: 2, num_samples = 10\n",
      "Budget: 4, num_samples = 15\n",
      "Budget: 6, num_samples = 20\n",
      "Budget: 8, num_samples = 26\n",
      "Budget: 10, num_samples = 32\n",
      "\n",
      "Iteration 1/5\n",
      "Budget: 2, num_samples = 8\n",
      "Budget: 4, num_samples = 14\n",
      "Budget: 6, num_samples = 20\n",
      "Budget: 8, num_samples = 26\n",
      "Budget: 10, num_samples = 33\n",
      "\n",
      "Iteration 2/5\n",
      "Budget: 2, num_samples = 8\n",
      "Budget: 4, num_samples = 14\n",
      "Budget: 6, num_samples = 20\n",
      "Budget: 8, num_samples = 25\n",
      "Budget: 10, num_samples = 33\n",
      "\n",
      "Iteration 3/5\n",
      "Budget: 2, num_samples = 8\n",
      "Budget: 4, num_samples = 14\n",
      "Budget: 6, num_samples = 20\n",
      "Budget: 8, num_samples = 26\n",
      "Budget: 10, num_samples = 32\n",
      "\n",
      "Iteration 4/5\n",
      "Budget: 2, num_samples = 8\n",
      "Budget: 4, num_samples = 14\n",
      "Budget: 6, num_samples = 20\n",
      "Budget: 8, num_samples = 27\n",
      "Budget: 10, num_samples = 33\n"
     ]
    }
   ],
   "source": [
    "dict_params = {'batch_size': gridsearch_bs, 'L': 10, 'dt': dt_baseline}\n",
    "get_metric_curve = build_metric_curve_fn(dict_params, list_time_budget, \n",
    "                            partial_build_sghmcCV, params_IC, error_fn_ksd_curve)\n",
    "\n",
    "key = random.PRNGKey(0)\n",
    "mean_ksd_curve_sghmcCV_baseline, sd_ksd_curve_sghmcCV_baseline = get_mean_sd_ksd_curve(key, num_curves, get_metric_curve)\n"
   ]
  },
  {
   "cell_type": "markdown",
   "id": "3d97a3ba",
   "metadata": {},
   "source": [
    "### sgnht"
   ]
  },
  {
   "cell_type": "code",
   "execution_count": 18,
   "id": "b375e476",
   "metadata": {
    "collapsed": true
   },
   "outputs": [
    {
     "name": "stdout",
     "output_type": "stream",
     "text": [
      "Running for {'batch_size': 60, 'dt': 1e-05}\n",
      "\n",
      "Iteration 0/5\n",
      "Budget: 2, num_samples = 1573\n",
      "Budget: 4, num_samples = 2206\n",
      "Budget: 6, num_samples = 3680\n",
      "Budget: 8, num_samples = 4792\n",
      "Budget: 10, num_samples = 6012\n",
      "\n",
      "Iteration 1/5\n",
      "Budget: 2, num_samples = 1538\n",
      "Budget: 4, num_samples = 2123\n",
      "Budget: 6, num_samples = 3635\n",
      "Budget: 8, num_samples = 5508\n",
      "Budget: 10, num_samples = 5774\n",
      "\n",
      "Iteration 2/5\n",
      "Budget: 2, num_samples = 1539\n",
      "Budget: 4, num_samples = 2211\n",
      "Budget: 6, num_samples = 3627\n",
      "Budget: 8, num_samples = 5519\n",
      "Budget: 10, num_samples = 6533\n",
      "\n",
      "Iteration 3/5\n",
      "Budget: 2, num_samples = 1522\n",
      "Budget: 4, num_samples = 2415\n",
      "Budget: 6, num_samples = 3678\n",
      "Budget: 8, num_samples = 5251\n",
      "Budget: 10, num_samples = 5249\n",
      "\n",
      "Iteration 4/5\n",
      "Budget: 2, num_samples = 1557\n",
      "Budget: 4, num_samples = 2258\n",
      "Budget: 6, num_samples = 3560\n",
      "Budget: 8, num_samples = 5083\n",
      "Budget: 10, num_samples = 5108\n"
     ]
    }
   ],
   "source": [
    "dict_params = {'batch_size': 60, 'dt': 1e-05} \n",
    "get_metric_curve = build_metric_curve_fn(dict_params, list_time_budget, \n",
    "                            partial_build_sgnht, params_IC, error_fn_ksd_curve)\n",
    "\n",
    "key = random.PRNGKey(0)\n",
    "mean_ksd_curve_sgnht_mamba, sd_ksd_curve_sgnht_mamba = get_mean_sd_ksd_curve(key, num_curves, get_metric_curve)\n"
   ]
  },
  {
   "cell_type": "code",
   "execution_count": 19,
   "id": "7d02e65b",
   "metadata": {
    "collapsed": true
   },
   "outputs": [
    {
     "name": "stdout",
     "output_type": "stream",
     "text": [
      "Running for {'batch_size': 6000, 'dt': 0.0001}\n",
      "\n",
      "Iteration 0/5\n",
      "Budget: 2, num_samples = 134\n",
      "Budget: 4, num_samples = 250\n",
      "Budget: 6, num_samples = 285\n",
      "Budget: 8, num_samples = 347\n",
      "Budget: 10, num_samples = 473\n",
      "\n",
      "Iteration 1/5\n",
      "Budget: 2, num_samples = 95\n",
      "Budget: 4, num_samples = 187\n",
      "Budget: 6, num_samples = 277\n",
      "Budget: 8, num_samples = 375\n",
      "Budget: 10, num_samples = 473\n",
      "\n",
      "Iteration 2/5\n",
      "Budget: 2, num_samples = 100\n",
      "Budget: 4, num_samples = 200\n",
      "Budget: 6, num_samples = 293\n",
      "Budget: 8, num_samples = 395\n",
      "Budget: 10, num_samples = 474\n",
      "\n",
      "Iteration 3/5\n",
      "Budget: 2, num_samples = 100\n",
      "Budget: 4, num_samples = 199\n",
      "Budget: 6, num_samples = 287\n",
      "Budget: 8, num_samples = 362\n",
      "Budget: 10, num_samples = 387\n",
      "\n",
      "Iteration 4/5\n",
      "Budget: 2, num_samples = 92\n",
      "Budget: 4, num_samples = 187\n",
      "Budget: 6, num_samples = 291\n",
      "Budget: 8, num_samples = 364\n",
      "Budget: 10, num_samples = 433\n"
     ]
    }
   ],
   "source": [
    "dict_params = {'batch_size': gridsearch_bs, 'dt': 1e-4}\n",
    "get_metric_curve = build_metric_curve_fn(dict_params, list_time_budget, \n",
    "                            partial_build_sgnht, params_IC, error_fn_ksd_curve)\n",
    "\n",
    "key = random.PRNGKey(0)\n",
    "mean_ksd_curve_sgnht_gridsearch, sd_ksd_curve_sgnht_gridsearch = get_mean_sd_ksd_curve(key, num_curves, get_metric_curve)\n"
   ]
  },
  {
   "cell_type": "code",
   "execution_count": 20,
   "id": "c16c9f8f",
   "metadata": {
    "collapsed": true
   },
   "outputs": [
    {
     "name": "stdout",
     "output_type": "stream",
     "text": [
      "Running for {'batch_size': 6000, 'dt': 1.6666666666666667e-05}\n",
      "\n",
      "Iteration 0/5\n",
      "Budget: 2, num_samples = 119\n",
      "Budget: 4, num_samples = 199\n",
      "Budget: 6, num_samples = 243\n",
      "Budget: 8, num_samples = 342\n",
      "Budget: 10, num_samples = 447\n",
      "\n",
      "Iteration 1/5\n",
      "Budget: 2, num_samples = 96\n",
      "Budget: 4, num_samples = 180\n",
      "Budget: 6, num_samples = 250\n",
      "Budget: 8, num_samples = 365\n",
      "Budget: 10, num_samples = 466\n",
      "\n",
      "Iteration 2/5\n",
      "Budget: 2, num_samples = 79\n",
      "Budget: 4, num_samples = 173\n",
      "Budget: 6, num_samples = 274\n",
      "Budget: 8, num_samples = 384\n",
      "Budget: 10, num_samples = 445\n",
      "\n",
      "Iteration 3/5\n",
      "Budget: 2, num_samples = 84\n",
      "Budget: 4, num_samples = 147\n",
      "Budget: 6, num_samples = 230\n",
      "Budget: 8, num_samples = 368\n",
      "Budget: 10, num_samples = 483\n",
      "\n",
      "Iteration 4/5\n",
      "Budget: 2, num_samples = 98\n",
      "Budget: 4, num_samples = 202\n",
      "Budget: 6, num_samples = 293\n",
      "Budget: 8, num_samples = 387\n",
      "Budget: 10, num_samples = 480\n"
     ]
    }
   ],
   "source": [
    "dict_params = {'batch_size': gridsearch_bs, 'dt': dt_baseline}\n",
    "get_metric_curve = build_metric_curve_fn(dict_params, list_time_budget, \n",
    "                            partial_build_sgnht, params_IC, error_fn_ksd_curve)\n",
    "\n",
    "key = random.PRNGKey(0)\n",
    "mean_ksd_curve_sgnht_baseline, sd_ksd_curve_sgnht_baseline = get_mean_sd_ksd_curve(key, num_curves, get_metric_curve)\n"
   ]
  },
  {
   "cell_type": "markdown",
   "id": "b8354804",
   "metadata": {},
   "source": [
    "### sgnht-CV"
   ]
  },
  {
   "cell_type": "code",
   "execution_count": 21,
   "id": "6f9bd507",
   "metadata": {
    "collapsed": true
   },
   "outputs": [
    {
     "name": "stdout",
     "output_type": "stream",
     "text": [
      "Running for {'batch_size': 600, 'dt': 3.1622776e-08}\n",
      "\n",
      "Iteration 0/5\n",
      "Budget: 2, num_samples = 567\n",
      "Budget: 4, num_samples = 777\n",
      "Budget: 6, num_samples = 980\n",
      "Budget: 8, num_samples = 1625\n",
      "Budget: 10, num_samples = 2107\n",
      "\n",
      "Iteration 1/5\n",
      "Budget: 2, num_samples = 389\n",
      "Budget: 4, num_samples = 710\n",
      "Budget: 6, num_samples = 789\n",
      "Budget: 8, num_samples = 1470\n",
      "Budget: 10, num_samples = 1952\n",
      "\n",
      "Iteration 2/5\n",
      "Budget: 2, num_samples = 455\n",
      "Budget: 4, num_samples = 863\n",
      "Budget: 6, num_samples = 1216\n",
      "Budget: 8, num_samples = 1682\n",
      "Budget: 10, num_samples = 2192\n",
      "\n",
      "Iteration 3/5\n",
      "Budget: 2, num_samples = 487\n",
      "Budget: 4, num_samples = 883\n",
      "Budget: 6, num_samples = 1206\n",
      "Budget: 8, num_samples = 1683\n",
      "Budget: 10, num_samples = 2187\n",
      "\n",
      "Iteration 4/5\n",
      "Budget: 2, num_samples = 484\n",
      "Budget: 4, num_samples = 877\n",
      "Budget: 6, num_samples = 1181\n",
      "Budget: 8, num_samples = 1324\n",
      "Budget: 10, num_samples = 2062\n"
     ]
    }
   ],
   "source": [
    "dict_params = {'batch_size': 600, 'dt': 3.1622776e-08}\n",
    "get_metric_curve = build_metric_curve_fn(dict_params, list_time_budget, \n",
    "                            partial_build_sgnhtCV, params_IC, error_fn_ksd_curve)\n",
    "\n",
    "key = random.PRNGKey(0)\n",
    "mean_ksd_curve_sgnhtCV_mamba, sd_ksd_curve_sgnhtCV_mamba = get_mean_sd_ksd_curve(key, num_curves, get_metric_curve)\n"
   ]
  },
  {
   "cell_type": "code",
   "execution_count": 22,
   "id": "0b733fe0",
   "metadata": {
    "collapsed": true
   },
   "outputs": [
    {
     "name": "stdout",
     "output_type": "stream",
     "text": [
      "Running for {'batch_size': 6000, 'dt': 3.1622778e-05}\n",
      "\n",
      "Iteration 0/5\n",
      "Budget: 2, num_samples = 69\n",
      "Budget: 4, num_samples = 124\n",
      "Budget: 6, num_samples = 171\n",
      "Budget: 8, num_samples = 227\n",
      "Budget: 10, num_samples = 235\n",
      "\n",
      "Iteration 1/5\n",
      "Budget: 2, num_samples = 47\n",
      "Budget: 4, num_samples = 73\n",
      "Budget: 6, num_samples = 161\n",
      "Budget: 8, num_samples = 222\n",
      "Budget: 10, num_samples = 285\n",
      "\n",
      "Iteration 2/5\n",
      "Budget: 2, num_samples = 60\n",
      "Budget: 4, num_samples = 118\n",
      "Budget: 6, num_samples = 175\n",
      "Budget: 8, num_samples = 231\n",
      "Budget: 10, num_samples = 273\n",
      "\n",
      "Iteration 3/5\n",
      "Budget: 2, num_samples = 56\n",
      "Budget: 4, num_samples = 115\n",
      "Budget: 6, num_samples = 174\n",
      "Budget: 8, num_samples = 217\n",
      "Budget: 10, num_samples = 281\n",
      "\n",
      "Iteration 4/5\n",
      "Budget: 2, num_samples = 59\n",
      "Budget: 4, num_samples = 117\n",
      "Budget: 6, num_samples = 181\n",
      "Budget: 8, num_samples = 240\n",
      "Budget: 10, num_samples = 287\n"
     ]
    }
   ],
   "source": [
    "dict_params = {'batch_size': gridsearch_bs, 'dt': 3.1622778e-05}\n",
    "get_metric_curve = build_metric_curve_fn(dict_params, list_time_budget, \n",
    "                            partial_build_sgnhtCV, params_IC, error_fn_ksd_curve)\n",
    "\n",
    "key = random.PRNGKey(0)\n",
    "mean_ksd_curve_sgnhtCV_gridsearch, sd_ksd_curve_sgnhtCV_gridsearch = get_mean_sd_ksd_curve(key, num_curves, get_metric_curve)\n"
   ]
  },
  {
   "cell_type": "code",
   "execution_count": 23,
   "id": "c05c7cca",
   "metadata": {
    "collapsed": true
   },
   "outputs": [
    {
     "name": "stdout",
     "output_type": "stream",
     "text": [
      "Running for {'batch_size': 6000, 'dt': 1.6666666666666667e-05}\n",
      "\n",
      "Iteration 0/5\n",
      "Budget: 2, num_samples = 80\n",
      "Budget: 4, num_samples = 146\n",
      "Budget: 6, num_samples = 173\n",
      "Budget: 8, num_samples = 218\n",
      "Budget: 10, num_samples = 270\n",
      "\n",
      "Iteration 1/5\n",
      "Budget: 2, num_samples = 58\n",
      "Budget: 4, num_samples = 113\n",
      "Budget: 6, num_samples = 174\n",
      "Budget: 8, num_samples = 231\n",
      "Budget: 10, num_samples = 267\n",
      "\n",
      "Iteration 2/5\n",
      "Budget: 2, num_samples = 57\n",
      "Budget: 4, num_samples = 113\n",
      "Budget: 6, num_samples = 171\n",
      "Budget: 8, num_samples = 233\n",
      "Budget: 10, num_samples = 287\n",
      "\n",
      "Iteration 3/5\n",
      "Budget: 2, num_samples = 55\n",
      "Budget: 4, num_samples = 111\n",
      "Budget: 6, num_samples = 158\n",
      "Budget: 8, num_samples = 209\n",
      "Budget: 10, num_samples = 280\n",
      "\n",
      "Iteration 4/5\n",
      "Budget: 2, num_samples = 58\n",
      "Budget: 4, num_samples = 116\n",
      "Budget: 6, num_samples = 173\n",
      "Budget: 8, num_samples = 231\n",
      "Budget: 10, num_samples = 288\n"
     ]
    }
   ],
   "source": [
    "dict_params = {'batch_size': gridsearch_bs, 'dt': dt_baseline}\n",
    "get_metric_curve = build_metric_curve_fn(dict_params, list_time_budget, \n",
    "                            partial_build_sgnhtCV, params_IC, error_fn_ksd_curve)\n",
    "\n",
    "key = random.PRNGKey(0)\n",
    "mean_ksd_curve_sgnhtCV_baseline, sd_ksd_curve_sgnhtCV_baseline = get_mean_sd_ksd_curve(key, num_curves, get_metric_curve)\n"
   ]
  },
  {
   "cell_type": "code",
   "execution_count": null,
   "id": "691f1f95",
   "metadata": {},
   "outputs": [],
   "source": []
  },
  {
   "cell_type": "code",
   "execution_count": null,
   "id": "a0be1b05",
   "metadata": {},
   "outputs": [],
   "source": []
  },
  {
   "cell_type": "markdown",
   "id": "44cac657",
   "metadata": {},
   "source": [
    "#### save and load ksd curves"
   ]
  },
  {
   "cell_type": "code",
   "execution_count": 5,
   "id": "43052437",
   "metadata": {},
   "outputs": [],
   "source": [
    "\n",
    "# # MAMBA\n",
    "# np.savetxt(\"outputs/NN_uncertainty_tests/mamba/KSD_curve_sgld.txt\", \n",
    "#            np.array([mean_ksd_curve_sgld_mamba, sd_ksd_curve_sgld_mamba]))\n",
    "\n",
    "# np.savetxt(\"outputs/NN_uncertainty_tests/mamba/KSD_curve_sgldCV.txt\", \n",
    "#            np.array([mean_ksd_curve_sgldCV_mamba, sd_ksd_curve_sgldCV_mamba]))\n",
    "\n",
    "# np.savetxt(\"outputs/NN_uncertainty_tests/mamba/KSD_curve_sghmc.txt\", \n",
    "#            np.array([mean_ksd_curve_sghmc_mamba, sd_ksd_curve_sghmc_mamba]))\n",
    "\n",
    "# np.savetxt(\"outputs/NN_uncertainty_tests/mamba/KSD_curve_sghmcCV.txt\", \n",
    "#            np.array([mean_ksd_curve_sghmcCV_mamba, sd_ksd_curve_sghmcCV_mamba]))\n",
    "\n",
    "# np.savetxt(\"outputs/NN_uncertainty_tests/mamba/KSD_curve_sgnht.txt\", \n",
    "#            np.array([mean_ksd_curve_sgnht_mamba, sd_ksd_curve_sgnht_mamba]))\n",
    "\n",
    "# np.savetxt(\"outputs/NN_uncertainty_tests/mamba/KSD_curve_sgnhtCV.txt\", \n",
    "#            np.array([mean_ksd_curve_sgnhtCV_mamba, sd_ksd_curve_sgnhtCV_mamba]))\n",
    "\n",
    "\n",
    "# # gridsearch\n",
    "# np.savetxt(\"outputs/NN_uncertainty_tests/gridsearch/KSD_curve_sgld.txt\", \n",
    "#            np.array([mean_ksd_curve_sgld_gridsearch, sd_ksd_curve_sgld_gridsearch]))\n",
    "\n",
    "# np.savetxt(\"outputs/NN_uncertainty_tests/gridsearch/KSD_curve_sgldCV.txt\", \n",
    "#            np.array([mean_ksd_curve_sgldCV_gridsearch, sd_ksd_curve_sgldCV_gridsearch]))\n",
    "\n",
    "# np.savetxt(\"outputs/NN_uncertainty_tests/gridsearch/KSD_curve_sghmc.txt\", \n",
    "#            np.array([mean_ksd_curve_sghmc_gridsearch, sd_ksd_curve_sghmc_gridsearch]))\n",
    "\n",
    "# np.savetxt(\"outputs/NN_uncertainty_tests/gridsearch/KSD_curve_sghmcCV.txt\", \n",
    "#            np.array([mean_ksd_curve_sghmcCV_gridsearch, sd_ksd_curve_sghmcCV_gridsearch]))\n",
    "\n",
    "# np.savetxt(\"outputs/NN_uncertainty_tests/gridsearch/KSD_curve_sgnht.txt\", \n",
    "#            np.array([mean_ksd_curve_sgnht_gridsearch, sd_ksd_curve_sgnht_gridsearch]))\n",
    "\n",
    "# np.savetxt(\"outputs/NN_uncertainty_tests/gridsearch/KSD_curve_sgnhtCV.txt\", \n",
    "#            np.array([mean_ksd_curve_sgnhtCV_gridsearch, sd_ksd_curve_sgnhtCV_gridsearch]))\n",
    "\n",
    "\n",
    "# # baseline\n",
    "# np.savetxt(\"outputs/NN_uncertainty_tests/baseline/KSD_curve_sgld.txt\", \n",
    "#            np.array([mean_ksd_curve_sgld_baseline, sd_ksd_curve_sgld_baseline]))\n",
    "\n",
    "# np.savetxt(\"outputs/NN_uncertainty_tests/baseline/KSD_curve_sgldCV.txt\", \n",
    "#            np.array([mean_ksd_curve_sgldCV_baseline, sd_ksd_curve_sgldCV_baseline]))\n",
    "\n",
    "# np.savetxt(\"outputs/NN_uncertainty_tests/baseline/KSD_curve_sghmc.txt\", \n",
    "#            np.array([mean_ksd_curve_sghmc_baseline, sd_ksd_curve_sghmc_baseline]))\n",
    "\n",
    "# np.savetxt(\"outputs/NN_uncertainty_tests/baseline/KSD_curve_sghmcCV.txt\", \n",
    "#            np.array([mean_ksd_curve_sghmcCV_baseline, sd_ksd_curve_sghmcCV_baseline]))\n",
    "\n",
    "# np.savetxt(\"outputs/NN_uncertainty_tests/baseline/KSD_curve_sgnht.txt\", \n",
    "#            np.array([mean_ksd_curve_sgnht_baseline, sd_ksd_curve_sgnht_baseline]))\n",
    "\n",
    "# np.savetxt(\"outputs/NN_uncertainty_tests/baseline/KSD_curve_sgnhtCV.txt\", \n",
    "#            np.array([mean_ksd_curve_sgnhtCV_baseline, sd_ksd_curve_sgnhtCV_baseline]))\n",
    "\n",
    "\n",
    "# Load mean and sd of ksd curves\n",
    "list_time_budget = [2, 4, 6, 8, 10]\n",
    "\n",
    "mean_ksd_curve_sgld_mamba, sd_ksd_curve_sgld_mamba = np.genfromtxt(\"outputs/NN_uncertainty_tests/mamba/KSD_curve_sgld.txt\")\n",
    "mean_ksd_curve_sgldCV_mamba, sd_ksd_curve_sgldCV_mamba = np.genfromtxt(\"outputs/NN_uncertainty_tests/mamba/KSD_curve_sgldCV.txt\")\n",
    "mean_ksd_curve_sghmc_mamba, sd_ksd_curve_sghmc_mamba = np.genfromtxt(\"outputs/NN_uncertainty_tests/mamba/KSD_curve_sghmc.txt\")\n",
    "mean_ksd_curve_sghmcCV_mamba, sd_ksd_curve_sghmcCV_mamba = np.genfromtxt(\"outputs/NN_uncertainty_tests/mamba/KSD_curve_sghmcCV.txt\")\n",
    "mean_ksd_curve_sgnht_mamba, sd_ksd_curve_sgnht_mamba = np.genfromtxt(\"outputs/NN_uncertainty_tests/mamba/KSD_curve_sgnht.txt\")\n",
    "mean_ksd_curve_sgnhtCV_mamba, sd_ksd_curve_sgnhtCV_mamba = np.genfromtxt(\"outputs/NN_uncertainty_tests/mamba/KSD_curve_sgnhtCV.txt\")\n",
    "\n",
    "mean_ksd_curve_sgld_gridsearch, sd_ksd_curve_sgld_gridsearch = np.genfromtxt(\"outputs/NN_uncertainty_tests/gridsearch/KSD_curve_sgld.txt\")\n",
    "mean_ksd_curve_sgldCV_gridsearch, sd_ksd_curve_sgldCV_gridsearch = np.genfromtxt(\"outputs/NN_uncertainty_tests/gridsearch/KSD_curve_sgldCV.txt\")\n",
    "mean_ksd_curve_sghmc_gridsearch, sd_ksd_curve_sghmc_gridsearch = np.genfromtxt(\"outputs/NN_uncertainty_tests/gridsearch/KSD_curve_sghmc.txt\")\n",
    "mean_ksd_curve_sghmcCV_gridsearch, sd_ksd_curve_sghmcCV_gridsearch = np.genfromtxt(\"outputs/NN_uncertainty_tests/gridsearch/KSD_curve_sghmcCV.txt\")\n",
    "mean_ksd_curve_sgnht_gridsearch, sd_ksd_curve_sgnht_gridsearch = np.genfromtxt(\"outputs/NN_uncertainty_tests/gridsearch/KSD_curve_sgnht.txt\")\n",
    "mean_ksd_curve_sgnhtCV_gridsearch, sd_ksd_curve_sgnhtCV_gridsearch = np.genfromtxt(\"outputs/NN_uncertainty_tests/gridsearch/KSD_curve_sgnhtCV.txt\")\n",
    "\n",
    "mean_ksd_curve_sgld_baseline, sd_ksd_curve_sgld_baseline = np.genfromtxt(\"outputs/NN_uncertainty_tests/baseline/KSD_curve_sgld.txt\")\n",
    "mean_ksd_curve_sgldCV_baseline, sd_ksd_curve_sgldCV_baseline = np.genfromtxt(\"outputs/NN_uncertainty_tests/baseline/KSD_curve_sgldCV.txt\")\n",
    "mean_ksd_curve_sghmc_baseline, sd_ksd_curve_sghmc_baseline = np.genfromtxt(\"outputs/NN_uncertainty_tests/baseline/KSD_curve_sghmc.txt\")\n",
    "mean_ksd_curve_sghmcCV_baseline, sd_ksd_curve_sghmcCV_baseline = np.genfromtxt(\"outputs/NN_uncertainty_tests/baseline/KSD_curve_sghmcCV.txt\")\n",
    "mean_ksd_curve_sgnht_baseline, sd_ksd_curve_sgnht_baseline = np.genfromtxt(\"outputs/NN_uncertainty_tests/baseline/KSD_curve_sgnht.txt\")\n",
    "mean_ksd_curve_sgnhtCV_baseline, sd_ksd_curve_sgnhtCV_baseline = np.genfromtxt(\"outputs/NN_uncertainty_tests/baseline/KSD_curve_sgnhtCV.txt\")\n"
   ]
  },
  {
   "cell_type": "code",
   "execution_count": null,
   "id": "9e3882e7",
   "metadata": {},
   "outputs": [],
   "source": []
  },
  {
   "cell_type": "code",
   "execution_count": null,
   "id": "a35f56f8",
   "metadata": {},
   "outputs": [],
   "source": []
  },
  {
   "cell_type": "markdown",
   "id": "46b44e47",
   "metadata": {},
   "source": [
    "# plots: KSD curves"
   ]
  },
  {
   "cell_type": "code",
   "execution_count": 6,
   "id": "b5f549d0",
   "metadata": {},
   "outputs": [
    {
     "data": {
      "text/plain": [
       "<matplotlib.legend.Legend at 0x7f8653ba9cd0>"
      ]
     },
     "execution_count": 6,
     "metadata": {},
     "output_type": "execute_result"
    },
    {
     "data": {
      "image/png": "[encoded data removed]",
      "text/plain": [
       "<Figure size 576x432 with 1 Axes>"
      ]
     },
     "metadata": {
      "needs_background": "light"
     },
     "output_type": "display_data"
    }
   ],
   "source": [
    "plt.rcParams.update({'font.size':17})\n",
    "\n",
    "plt.figure(figsize=(8, 6))\n",
    "\n",
    "plt.plot(list_time_budget, mean_ksd_curve_sgld_mamba, marker=\"+\", markersize=15, \n",
    "         c='r', label=\"MAMBA\")\n",
    "plt.fill_between(list_time_budget, mean_ksd_curve_sgld_mamba+2*sd_ksd_curve_sgld_mamba, \n",
    "                 mean_ksd_curve_sgld_mamba-2*sd_ksd_curve_sgld_mamba, alpha=0.1, color='r')\n",
    "\n",
    "plt.plot(list_time_budget, mean_ksd_curve_sgld_gridsearch, marker=\"o\", markersize=15, \n",
    "         c='g', label=\"gridsearch\")\n",
    "plt.fill_between(list_time_budget, mean_ksd_curve_sgld_gridsearch+2*sd_ksd_curve_sgld_gridsearch, \n",
    "                 mean_ksd_curve_sgld_gridsearch-2*sd_ksd_curve_sgld_gridsearch, alpha=0.1, color='g')\n",
    "\n",
    "plt.plot(list_time_budget, mean_ksd_curve_sgld_baseline, marker=\"x\", markersize=15, \n",
    "         c='b', label=\"baseline\")\n",
    "plt.fill_between(list_time_budget, mean_ksd_curve_sgld_baseline+2*sd_ksd_curve_sgld_baseline, \n",
    "                 mean_ksd_curve_sgld_baseline-2*sd_ksd_curve_sgld_baseline, alpha=0.1, color='b')\n",
    "\n",
    "plt.title(\"SGLD sampler\", size=23)\n",
    "plt.ylabel(\"KSD\", size=19)\n",
    "plt.xlabel(\"time budget (seconds)\", size=19)\n",
    "plt.legend(fontsize=16)\n",
    "# plt.savefig(\"images/sgld_ksd_curves_R1_R5_n90.png\")"
   ]
  },
  {
   "cell_type": "code",
   "execution_count": 7,
   "id": "029abb1a",
   "metadata": {},
   "outputs": [
    {
     "data": {
      "text/plain": [
       "<matplotlib.legend.Legend at 0x7f8653cdffd0>"
      ]
     },
     "execution_count": 7,
     "metadata": {},
     "output_type": "execute_result"
    },
    {
     "data": {
      "image/png": "[encoded data removed]",
      "text/plain": [
       "<Figure size 576x432 with 1 Axes>"
      ]
     },
     "metadata": {
      "needs_background": "light"
     },
     "output_type": "display_data"
    }
   ],
   "source": [
    "plt.rcParams.update({'font.size':17})\n",
    "\n",
    "plt.figure(figsize=(8, 6))\n",
    "\n",
    "plt.plot(list_time_budget, mean_ksd_curve_sgldCV_mamba, marker=\"+\", markersize=15, \n",
    "         c='r', label=\"MAMBA\")\n",
    "plt.fill_between(list_time_budget, mean_ksd_curve_sgldCV_mamba+2*sd_ksd_curve_sgldCV_mamba, \n",
    "                 mean_ksd_curve_sgldCV_mamba-2*sd_ksd_curve_sgldCV_mamba, alpha=0.1, color='r')\n",
    "\n",
    "plt.plot(list_time_budget, mean_ksd_curve_sgldCV_gridsearch, marker=\"o\", markersize=15, \n",
    "         c='g', label=\"gridsearch\")\n",
    "plt.fill_between(list_time_budget, mean_ksd_curve_sgldCV_gridsearch+2*sd_ksd_curve_sgldCV_gridsearch, \n",
    "                 mean_ksd_curve_sgldCV_gridsearch-2*sd_ksd_curve_sgldCV_gridsearch, alpha=0.1, color='g')\n",
    "\n",
    "plt.plot(list_time_budget, mean_ksd_curve_sgldCV_baseline, marker=\"x\", markersize=15, \n",
    "         c='b', label=\"baseline\")\n",
    "plt.fill_between(list_time_budget, mean_ksd_curve_sgldCV_baseline+2*sd_ksd_curve_sgldCV_baseline, \n",
    "                 mean_ksd_curve_sgldCV_baseline-2*sd_ksd_curve_sgldCV_baseline, alpha=0.1, color='b')\n",
    "\n",
    "plt.title(\"SGLD-CV sampler\", size=23)\n",
    "plt.ylabel(\"KSD\", size=19)\n",
    "plt.xlabel(\"time budget (seconds)\", size=19)\n",
    "plt.legend(fontsize=16)\n",
    "# plt.savefig(\"images/sgld_ksd_curves_R1_R5_n90.png\")"
   ]
  },
  {
   "cell_type": "code",
   "execution_count": 8,
   "id": "739cab33",
   "metadata": {},
   "outputs": [
    {
     "data": {
      "text/plain": [
       "<matplotlib.legend.Legend at 0x7f8654056160>"
      ]
     },
     "execution_count": 8,
     "metadata": {},
     "output_type": "execute_result"
    },
    {
     "data": {
      "image/png": "[encoded data removed]",
      "text/plain": [
       "<Figure size 576x432 with 1 Axes>"
      ]
     },
     "metadata": {
      "needs_background": "light"
     },
     "output_type": "display_data"
    }
   ],
   "source": [
    "plt.rcParams.update({'font.size':17})\n",
    "\n",
    "plt.figure(figsize=(8, 6))\n",
    "\n",
    "plt.plot(list_time_budget, mean_ksd_curve_sghmc_mamba, marker=\"+\", markersize=15, \n",
    "         c='r', label=\"MAMBA\")\n",
    "plt.fill_between(list_time_budget, mean_ksd_curve_sghmc_mamba+2*sd_ksd_curve_sghmc_mamba, \n",
    "                 mean_ksd_curve_sghmc_mamba-2*sd_ksd_curve_sghmc_mamba, alpha=0.1, color='r')\n",
    "\n",
    "plt.plot(list_time_budget, mean_ksd_curve_sghmc_gridsearch, marker=\"o\", markersize=15, \n",
    "         c='g', label=\"gridsearch\")\n",
    "plt.fill_between(list_time_budget, mean_ksd_curve_sghmc_gridsearch+2*sd_ksd_curve_sghmc_gridsearch, \n",
    "                 mean_ksd_curve_sghmc_gridsearch-2*sd_ksd_curve_sghmc_gridsearch, alpha=0.1, color='g')\n",
    "\n",
    "plt.plot(list_time_budget, mean_ksd_curve_sghmc_baseline, marker=\"x\", markersize=15, \n",
    "         c='b', label=\"baseline\")\n",
    "plt.fill_between(list_time_budget, mean_ksd_curve_sghmc_baseline+2*sd_ksd_curve_sghmc_baseline, \n",
    "                 mean_ksd_curve_sghmc_baseline-2*sd_ksd_curve_sghmc_baseline, alpha=0.1, color='b')\n",
    "\n",
    "\n",
    "plt.title(\"SGHMC sampler\", size=23)\n",
    "plt.ylabel(\"KSD\", size=19)\n",
    "plt.xlabel(\"time budget (seconds)\", size=19)\n",
    "plt.yscale(\"log\")\n",
    "plt.legend(fontsize=16)\n",
    "# plt.savefig(\"images/sgld_ksd_curves_R1_R5_n90.png\")"
   ]
  },
  {
   "cell_type": "code",
   "execution_count": 9,
   "id": "92cb590d",
   "metadata": {},
   "outputs": [
    {
     "data": {
      "text/plain": [
       "<matplotlib.legend.Legend at 0x7f8654368f40>"
      ]
     },
     "execution_count": 9,
     "metadata": {},
     "output_type": "execute_result"
    },
    {
     "data": {
      "image/png": "[encoded data removed]",
      "text/plain": [
       "<Figure size 576x432 with 1 Axes>"
      ]
     },
     "metadata": {
      "needs_background": "light"
     },
     "output_type": "display_data"
    }
   ],
   "source": [
    "plt.rcParams.update({'font.size':17})\n",
    "\n",
    "plt.figure(figsize=(8, 6))\n",
    "\n",
    "plt.plot(list_time_budget, mean_ksd_curve_sghmcCV_mamba, marker=\"+\", markersize=15, \n",
    "         c='r', label=\"MAMBA\")\n",
    "plt.fill_between(list_time_budget, mean_ksd_curve_sghmcCV_mamba+2*sd_ksd_curve_sghmcCV_mamba, \n",
    "                 mean_ksd_curve_sghmcCV_mamba-2*sd_ksd_curve_sghmcCV_mamba, alpha=0.1, color='r')\n",
    "\n",
    "plt.plot(list_time_budget, mean_ksd_curve_sghmcCV_gridsearch, marker=\"o\", markersize=15, \n",
    "         c='g', label=\"gridsearch\")\n",
    "plt.fill_between(list_time_budget, mean_ksd_curve_sghmcCV_gridsearch+2*sd_ksd_curve_sghmcCV_gridsearch, \n",
    "                 mean_ksd_curve_sghmcCV_gridsearch-2*sd_ksd_curve_sghmcCV_gridsearch, alpha=0.1, color='g')\n",
    "\n",
    "plt.plot(list_time_budget, mean_ksd_curve_sghmcCV_baseline, marker=\"x\", markersize=15, \n",
    "         c='b', label=\"baseline\")\n",
    "plt.fill_between(list_time_budget, mean_ksd_curve_sghmcCV_baseline+2*sd_ksd_curve_sghmcCV_baseline, \n",
    "                 mean_ksd_curve_sghmcCV_baseline-2*sd_ksd_curve_sghmcCV_baseline, alpha=0.1, color='b')\n",
    "\n",
    "plt.title(\"SGHMCCV sampler\", size=23)\n",
    "plt.ylabel(\"KSD\", size=19)\n",
    "plt.xlabel(\"time budget (seconds)\", size=19)\n",
    "plt.yscale(\"log\")\n",
    "plt.legend(fontsize=16)\n",
    "# plt.savefig(\"images/sgld_ksd_curves_R1_R5_n90.png\")"
   ]
  },
  {
   "cell_type": "code",
   "execution_count": 10,
   "id": "4ae86229",
   "metadata": {},
   "outputs": [
    {
     "data": {
      "text/plain": [
       "<matplotlib.legend.Legend at 0x7f86545eea90>"
      ]
     },
     "execution_count": 10,
     "metadata": {},
     "output_type": "execute_result"
    },
    {
     "data": {
      "image/png": "[encoded data removed]",
      "text/plain": [
       "<Figure size 576x432 with 1 Axes>"
      ]
     },
     "metadata": {
      "needs_background": "light"
     },
     "output_type": "display_data"
    }
   ],
   "source": [
    "plt.rcParams.update({'font.size':17})\n",
    "\n",
    "plt.figure(figsize=(8, 6))\n",
    "\n",
    "plt.plot(list_time_budget, mean_ksd_curve_sgnht_mamba, marker=\"+\", markersize=15, \n",
    "         c='r', label=\"MAMBA\")\n",
    "plt.fill_between(list_time_budget, mean_ksd_curve_sgnht_mamba+2*sd_ksd_curve_sgnht_mamba, \n",
    "                 mean_ksd_curve_sgnht_mamba-2*sd_ksd_curve_sgnht_mamba, alpha=0.1, color='r')\n",
    "\n",
    "plt.plot(list_time_budget, mean_ksd_curve_sgnht_gridsearch, marker=\"o\", markersize=15, \n",
    "         c='g', label=\"gridsearch\")\n",
    "plt.fill_between(list_time_budget, mean_ksd_curve_sgnht_gridsearch+2*sd_ksd_curve_sgnht_gridsearch, \n",
    "                 mean_ksd_curve_sgnht_gridsearch-2*sd_ksd_curve_sgnht_gridsearch, alpha=0.1, color='g')\n",
    "\n",
    "plt.plot(list_time_budget, mean_ksd_curve_sgnht_baseline, marker=\"x\", markersize=15, \n",
    "         c='b', label=\"baseline\")\n",
    "plt.fill_between(list_time_budget, mean_ksd_curve_sgnht_baseline+2*sd_ksd_curve_sgnht_baseline, \n",
    "                 mean_ksd_curve_sgnht_baseline-2*sd_ksd_curve_sgnht_baseline, alpha=0.1, color='b')\n",
    "\n",
    "\n",
    "plt.title(\"SGNHT sampler\", size=23)\n",
    "plt.ylabel(\"KSD\", size=19)\n",
    "plt.xlabel(\"time budget (seconds)\", size=19)\n",
    "plt.legend(fontsize=16)\n",
    "# plt.savefig(\"images/sgld_ksd_curves_R1_R5_n90.png\")"
   ]
  },
  {
   "cell_type": "code",
   "execution_count": 11,
   "id": "9a804541",
   "metadata": {},
   "outputs": [
    {
     "data": {
      "text/plain": [
       "<matplotlib.legend.Legend at 0x7f86548f7b50>"
      ]
     },
     "execution_count": 11,
     "metadata": {},
     "output_type": "execute_result"
    },
    {
     "data": {
      "image/png": "[encoded data removed]",
      "text/plain": [
       "<Figure size 576x432 with 1 Axes>"
      ]
     },
     "metadata": {
      "needs_background": "light"
     },
     "output_type": "display_data"
    }
   ],
   "source": [
    "plt.rcParams.update({'font.size':17})\n",
    "\n",
    "plt.figure(figsize=(8, 6))\n",
    "\n",
    "plt.plot(list_time_budget, mean_ksd_curve_sgnhtCV_mamba, marker=\"+\", markersize=15, \n",
    "         c='r', label=\"MAMBA\")\n",
    "plt.fill_between(list_time_budget, mean_ksd_curve_sgnhtCV_mamba+2*sd_ksd_curve_sgnhtCV_mamba, \n",
    "                 mean_ksd_curve_sgnhtCV_mamba-2*sd_ksd_curve_sgnhtCV_mamba, alpha=0.1, color='r')\n",
    "\n",
    "plt.plot(list_time_budget, mean_ksd_curve_sgnhtCV_gridsearch, marker=\"o\", markersize=15, \n",
    "         c='g', label=\"gridsearch\")\n",
    "plt.fill_between(list_time_budget, mean_ksd_curve_sgnhtCV_gridsearch+2*sd_ksd_curve_sgnhtCV_gridsearch, \n",
    "                 mean_ksd_curve_sgnhtCV_gridsearch-2*sd_ksd_curve_sgnhtCV_gridsearch, alpha=0.1, color='g')\n",
    "\n",
    "\n",
    "plt.plot(list_time_budget, mean_ksd_curve_sgnhtCV_baseline, marker=\"x\", markersize=15, \n",
    "         c='b', label=\"baseline\")\n",
    "plt.fill_between(list_time_budget, mean_ksd_curve_sgnhtCV_baseline+2*sd_ksd_curve_sgnhtCV_baseline, \n",
    "                 mean_ksd_curve_sgnhtCV_baseline-2*sd_ksd_curve_sgnhtCV_baseline, alpha=0.1, color='b')\n",
    "\n",
    "\n",
    "plt.title(\"SGNHT-CV sampler\", size=23)\n",
    "plt.ylabel(\"KSD\", size=19)\n",
    "plt.xlabel(\"time budget (seconds)\", size=19)\n",
    "plt.legend(fontsize=16)\n",
    "# plt.savefig(\"images/sgld_ksd_curves_R1_R5_n90.png\")"
   ]
  },
  {
   "cell_type": "code",
   "execution_count": null,
   "id": "41b963ad",
   "metadata": {},
   "outputs": [],
   "source": []
  },
  {
   "cell_type": "code",
   "execution_count": null,
   "id": "3d9ecafc",
   "metadata": {},
   "outputs": [],
   "source": []
  },
  {
   "cell_type": "code",
   "execution_count": null,
   "id": "96901dd6",
   "metadata": {},
   "outputs": [],
   "source": []
  }
 ],
 "metadata": {
  "kernelspec": {
   "display_name": "Python 3",
   "language": "python",
   "name": "python3"
  },
  "language_info": {
   "codemirror_mode": {
    "name": "ipython",
    "version": 3
   },
   "file_extension": ".py",
   "mimetype": "text/x-python",
   "name": "python",
   "nbconvert_exporter": "python",
   "pygments_lexer": "ipython3",
   "version": "3.8.2"
  }
 },
 "nbformat": 4,
 "nbformat_minor": 5
}
