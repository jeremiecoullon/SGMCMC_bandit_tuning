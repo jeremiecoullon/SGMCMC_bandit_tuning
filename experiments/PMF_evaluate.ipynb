{
 "cells": [
  {
   "cell_type": "code",
   "execution_count": 1,
   "id": "906fd9ec",
   "metadata": {},
   "outputs": [
    {
     "name": "stderr",
     "output_type": "stream",
     "text": [
      "WARNING:absl:No GPU/TPU found, falling back to CPU. (Set TF_CPP_MIN_LOG_LEVEL=0 and rerun for more info.)\n"
     ]
    }
   ],
   "source": [
    "%matplotlib inline\n",
    "import matplotlib.pyplot as plt\n",
    "import numpy as np\n",
    "\n",
    "import jax.numpy as jnp\n",
    "from jax import grad, jit, random, partial, lax\n",
    "\n",
    "import context\n",
    "from models.PMF.pmf_model import logprior, loglikelihood\n",
    "from models.PMF.util import R_train, R_test, load_PMF_MAP\n",
    "\n",
    "\n",
    "from tuning.mamba import timed_sampler\n",
    "from tuning.ksd import imq_KSD\n",
    "from tuning.util import build_metric_curve_fn, get_mean_sd_ksd_curve\n",
    "from util import wait_until_computed, flatten_param_list\n",
    "\n",
    "from sgmcmcjax.kernels import build_sgld_kernel, build_sghmc_kernel, build_sgnht_kernel\n",
    "from sgmcmcjax.kernels import build_sgldCV_kernel, build_sghmcCV_kernel, build_sgnhtCV_kernel\n"
   ]
  },
  {
   "cell_type": "markdown",
   "id": "a01ea2b4",
   "metadata": {},
   "source": [
    "# PMF"
   ]
  },
  {
   "cell_type": "code",
   "execution_count": 2,
   "id": "dd0b7388",
   "metadata": {},
   "outputs": [],
   "source": [
    "data = (R_train,)\n",
    "\n",
    "\n",
    "key = random.PRNGKey(0)\n",
    "centering_value = load_PMF_MAP()\n",
    "params_IC = load_PMF_MAP()\n",
    "\n",
    "gridsearch_bs = int(0.1*R_train.shape[0])\n",
    "\n",
    "T = 12"
   ]
  },
  {
   "cell_type": "code",
   "execution_count": null,
   "id": "7dc862ed",
   "metadata": {},
   "outputs": [],
   "source": []
  },
  {
   "cell_type": "code",
   "execution_count": 3,
   "id": "e4d71dbb",
   "metadata": {},
   "outputs": [],
   "source": [
    "from sgmcmcjax.util import build_grad_log_post\n",
    "from jax import vmap, jit\n",
    "\n",
    "grad_log_post = build_grad_log_post(loglikelihood, logprior, data)\n",
    "\n",
    "\n",
    "def get_fb_grads_pmf(samples):\n",
    "    \"\"\"\n",
    "    Return full-batch gradients for PMF samples\n",
    "    samples list of PMF sample. Each PMF sample is a list of 6 arrays\n",
    "    \"\"\"\n",
    "    return [grad_log_post(sam, R_train) for sam in samples]\n",
    "\n",
    "def get_ksd_PMF(samples, thin_step):\n",
    "    num_samples = len(samples)\n",
    "    fb_grads = get_fb_grads_pmf(samples[::thin_step])\n",
    "    flat_samples = flatten_param_list(samples[::thin_step])\n",
    "    flat_grads = flatten_param_list(fb_grads)\n",
    "    return imq_KSD(flat_samples, flat_grads)\n",
    "\n",
    "def assess_PMF_samples(samples, thin_step):\n",
    "    print(f\"Assessing the samples. Num samples: {len(samples)}\")\n",
    "    ksd_est = get_ksd_PMF(samples, thin_step)\n",
    "    return ksd_est\n",
    "#     samples_array = jnp.array(samples[::thin_step])\n",
    "#     pred_acc = accuracy(samples_array, X_test, y_test)\n",
    "#     return ksd_est, pred_acc, std_error, len(samples)\n",
    "    \n",
    "def run_time_budget(key, time_budget, build_kernel, thin, dict_params, params_IC=load_PMF_MAP()):\n",
    "    timed_sampler_factory = timed_sampler(build_kernel)\n",
    "    my_timed_sampler = timed_sampler_factory(**dict_params)\n",
    "    samples, _ = my_timed_sampler(key, time_budget, params_IC)\n",
    "    return assess_PMF_samples(samples, thin)\n",
    "\n"
   ]
  },
  {
   "cell_type": "markdown",
   "id": "b12fa593",
   "metadata": {},
   "source": [
    "### build partial kernels"
   ]
  },
  {
   "cell_type": "code",
   "execution_count": 4,
   "id": "6b42212b",
   "metadata": {},
   "outputs": [],
   "source": [
    "partial_build_sgld = lambda dt, batch_size: build_sgld_kernel(dt, loglikelihood, \n",
    "                                                              logprior, data, batch_size)\n",
    "partial_build_sgldCV = lambda dt, batch_size: build_sgldCV_kernel(dt, loglikelihood, \n",
    "                                                    logprior, data, batch_size, centering_value)\n",
    "\n",
    "partial_build_sghmc = lambda dt, L, batch_size: build_sghmc_kernel(dt, L, loglikelihood, \n",
    "                                                              logprior, data, batch_size)\n",
    "partial_build_sghmcCV = lambda dt, L, batch_size: build_sghmcCV_kernel(dt, L, loglikelihood, \n",
    "                                                              logprior, data, batch_size, centering_value)\n",
    "\n",
    "partial_build_sgnht = lambda dt, batch_size: build_sgnht_kernel(dt, loglikelihood, \n",
    "                                                              logprior, data, batch_size)\n",
    "partial_build_sgnhtCV = lambda dt, batch_size: build_sgnhtCV_kernel(dt, loglikelihood, \n",
    "                                                              logprior, data, batch_size, centering_value)\n",
    "\n",
    "# time_budget = 5\n",
    "# thin = 5\n",
    "\n",
    "time_budget = 20\n",
    "thin = 60\n"
   ]
  },
  {
   "cell_type": "code",
   "execution_count": 5,
   "id": "40a145f7",
   "metadata": {},
   "outputs": [
    {
     "data": {
      "text/plain": [
       "8000"
      ]
     },
     "execution_count": 5,
     "metadata": {},
     "output_type": "execute_result"
    }
   ],
   "source": [
    "gridsearch_bs"
   ]
  },
  {
   "cell_type": "markdown",
   "id": "2d713ad0",
   "metadata": {},
   "source": [
    "# 1. A long run\n",
    "\n",
    "- 1 million data points\n",
    "- 20sec budget\n",
    "- thin by 20"
   ]
  },
  {
   "cell_type": "code",
   "execution_count": null,
   "id": "eb5ff240",
   "metadata": {},
   "outputs": [],
   "source": [
    "sh_params = {'batch_size': 8000, 'dt': 1e-05}\n",
    "gridsearch_params = {'batch_size': gridsearch_bs, 'dt': 0.00031622776}\n",
    "\n",
    "print(run_time_budget(key, time_budget, partial_build_sgld, thin, sh_params))\n",
    "print(run_time_budget(key, time_budget, partial_build_sgld, thin, gridsearch_params))"
   ]
  },
  {
   "cell_type": "code",
   "execution_count": null,
   "id": "f12b4bb8",
   "metadata": {},
   "outputs": [],
   "source": [
    "sh_params = {'batch_size': 8000, 'dt': 1e-05}\n",
    "gridsearch_params = {'batch_size': gridsearch_bs, 'dt': 0.00031622776}\n",
    "\n",
    "print(run_time_budget(key, time_budget, partial_build_sgldCV, thin, sh_params))\n",
    "print(run_time_budget(key, time_budget, partial_build_sgldCV, thin, gridsearch_params))"
   ]
  },
  {
   "cell_type": "code",
   "execution_count": null,
   "id": "eb3c1f37",
   "metadata": {},
   "outputs": [],
   "source": [
    "sh_params = {'batch_size': 80000, 'L': 10, 'dt': 3.1622776e-07}\n",
    "gridsearch_params = {'batch_size': gridsearch_bs, 'L': 10, 'dt': 1e-5}\n",
    "\n",
    "print(run_time_budget(key, time_budget, partial_build_sghmc, thin, sh_params))\n",
    "print(run_time_budget(key, time_budget, partial_build_sghmc, thin, gridsearch_params))"
   ]
  },
  {
   "cell_type": "code",
   "execution_count": null,
   "id": "84175ee5",
   "metadata": {},
   "outputs": [],
   "source": [
    "sh_params = {'batch_size': 8000, 'L': 5, 'dt': 1e-06}\n",
    "gridsearch_params = {'batch_size': gridsearch_bs, 'L': 10, 'dt': 1e-5}\n",
    "\n",
    "print(run_time_budget(key, time_budget, partial_build_sghmcCV, thin, sh_params))\n",
    "print(run_time_budget(key, time_budget, partial_build_sghmcCV, thin, gridsearch_params))"
   ]
  },
  {
   "cell_type": "code",
   "execution_count": null,
   "id": "7118f95d",
   "metadata": {},
   "outputs": [],
   "source": [
    "sh_params = {'batch_size': 80000, 'dt': 1e-05}\n",
    "gridsearch_params = {'batch_size': gridsearch_bs, 'dt': 3.1622776e-06}\n",
    "\n",
    "print(run_time_budget(key, time_budget, partial_build_sgnht, thin, sh_params))\n",
    "print(run_time_budget(key, time_budget, partial_build_sgnht, thin, gridsearch_params))"
   ]
  },
  {
   "cell_type": "code",
   "execution_count": null,
   "id": "76ab5c57",
   "metadata": {},
   "outputs": [],
   "source": [
    "sh_params = {'batch_size': 8000, 'dt': 1e-05}\n",
    "gridsearch_params = {'batch_size': gridsearch_bs, 'dt': 3.1622776e-06}\n",
    "\n",
    "print(run_time_budget(key, time_budget, partial_build_sgnhtCV, thin, sh_params))\n",
    "print(run_time_budget(key, time_budget, partial_build_sgnhtCV, thin, gridsearch_params))"
   ]
  },
  {
   "cell_type": "code",
   "execution_count": null,
   "id": "3ad41160",
   "metadata": {},
   "outputs": [],
   "source": []
  },
  {
   "cell_type": "markdown",
   "id": "f2f87b51",
   "metadata": {},
   "source": [
    "# 2. KSD curves"
   ]
  },
  {
   "cell_type": "markdown",
   "id": "078cb564",
   "metadata": {},
   "source": [
    "### sgld"
   ]
  },
  {
   "cell_type": "code",
   "execution_count": 7,
   "id": "c4857eea",
   "metadata": {},
   "outputs": [],
   "source": [
    "error_fn_ksd_curve = partial(get_ksd_PMF, thin_step=60)\n",
    "list_time_budget = [2, 4, 6, 8, 10]"
   ]
  },
  {
   "cell_type": "code",
   "execution_count": 8,
   "id": "79e62f93",
   "metadata": {
    "collapsed": true
   },
   "outputs": [
    {
     "name": "stdout",
     "output_type": "stream",
     "text": [
      "Running for {'batch_size': 8000, 'dt': 0.00031622776}\n",
      "\n",
      "Iteration 0/10\n",
      "Budget: 2, num_samples = 1000\n",
      "Budget: 4, num_samples = 1970\n",
      "Budget: 6, num_samples = 3053\n",
      "Budget: 8, num_samples = 3811\n",
      "Budget: 10, num_samples = 4826\n",
      "\n",
      "Iteration 1/10\n",
      "Budget: 2, num_samples = 1004\n",
      "Budget: 4, num_samples = 1978\n",
      "Budget: 6, num_samples = 2882\n",
      "Budget: 8, num_samples = 3826\n",
      "Budget: 10, num_samples = 4729\n",
      "\n",
      "Iteration 2/10\n",
      "Budget: 2, num_samples = 987\n",
      "Budget: 4, num_samples = 1935\n",
      "Budget: 6, num_samples = 2422\n",
      "Budget: 8, num_samples = 3811\n",
      "Budget: 10, num_samples = 3927\n",
      "\n",
      "Iteration 3/10\n",
      "Budget: 2, num_samples = 951\n",
      "Budget: 4, num_samples = 1732\n",
      "Budget: 6, num_samples = 2357\n",
      "Budget: 8, num_samples = 3064\n",
      "Budget: 10, num_samples = 3996\n",
      "\n",
      "Iteration 4/10\n",
      "Budget: 2, num_samples = 903\n",
      "Budget: 4, num_samples = 1779\n",
      "Budget: 6, num_samples = 2253\n",
      "Budget: 8, num_samples = 3232\n",
      "Budget: 10, num_samples = 4182\n",
      "\n",
      "Iteration 5/10\n",
      "Budget: 2, num_samples = 781\n",
      "Budget: 4, num_samples = 1730\n",
      "Budget: 6, num_samples = 2631\n",
      "Budget: 8, num_samples = 3393\n",
      "Budget: 10, num_samples = 4171\n",
      "\n",
      "Iteration 6/10\n",
      "Budget: 2, num_samples = 933\n",
      "Budget: 4, num_samples = 1826\n",
      "Budget: 6, num_samples = 2614\n",
      "Budget: 8, num_samples = 3440\n",
      "Budget: 10, num_samples = 3580\n",
      "\n",
      "Iteration 7/10\n",
      "Budget: 2, num_samples = 883\n",
      "Budget: 4, num_samples = 1777\n",
      "Budget: 6, num_samples = 2564\n",
      "Budget: 8, num_samples = 3568\n",
      "Budget: 10, num_samples = 4664\n",
      "\n",
      "Iteration 8/10\n",
      "Budget: 2, num_samples = 957\n",
      "Budget: 4, num_samples = 1905\n",
      "Budget: 6, num_samples = 2723\n",
      "Budget: 8, num_samples = 3633\n",
      "Budget: 10, num_samples = 4648\n",
      "\n",
      "Iteration 9/10\n",
      "Budget: 2, num_samples = 960\n",
      "Budget: 4, num_samples = 1863\n",
      "Budget: 6, num_samples = 2711\n",
      "Budget: 8, num_samples = 3579\n",
      "Budget: 10, num_samples = 4648\n"
     ]
    }
   ],
   "source": [
    "dict_params = {'batch_size': 8000, 'dt': 0.00031622776}\n",
    "get_metric_curve = build_metric_curve_fn(dict_params, list_time_budget, \n",
    "                            partial_build_sgld, params_IC, error_fn_ksd_curve)\n",
    "\n",
    "key = random.PRNGKey(0)\n",
    "mean_ksd_curve_sgld_mamba, sd_ksd_curve_sgld_mamba = get_mean_sd_ksd_curve(key, 10, get_metric_curve)\n"
   ]
  },
  {
   "cell_type": "code",
   "execution_count": 14,
   "id": "89a4b6df",
   "metadata": {
    "collapsed": true
   },
   "outputs": [
    {
     "name": "stdout",
     "output_type": "stream",
     "text": [
      "Running for {'batch_size': 8000, 'dt': 0.00031622776}\n",
      "\n",
      "Iteration 0/10\n",
      "Budget: 2, num_samples = 984\n",
      "Budget: 4, num_samples = 1904\n",
      "Budget: 6, num_samples = 2737\n",
      "Budget: 8, num_samples = 3687\n",
      "Budget: 10, num_samples = 4722\n",
      "\n",
      "Iteration 1/10\n",
      "Budget: 2, num_samples = 977\n",
      "Budget: 4, num_samples = 1948\n",
      "Budget: 6, num_samples = 2548\n",
      "Budget: 8, num_samples = 3795\n",
      "Budget: 10, num_samples = 4685\n",
      "\n",
      "Iteration 2/10\n",
      "Budget: 2, num_samples = 975\n",
      "Budget: 4, num_samples = 1800\n",
      "Budget: 6, num_samples = 2529\n",
      "Budget: 8, num_samples = 3733\n",
      "Budget: 10, num_samples = 4765\n",
      "\n",
      "Iteration 3/10\n",
      "Budget: 2, num_samples = 958\n",
      "Budget: 4, num_samples = 1872\n",
      "Budget: 6, num_samples = 2553\n",
      "Budget: 8, num_samples = 3701\n",
      "Budget: 10, num_samples = 4637\n",
      "\n",
      "Iteration 4/10\n",
      "Budget: 2, num_samples = 952\n",
      "Budget: 4, num_samples = 1794\n",
      "Budget: 6, num_samples = 2528\n",
      "Budget: 8, num_samples = 3659\n",
      "Budget: 10, num_samples = 4588\n",
      "\n",
      "Iteration 5/10\n",
      "Budget: 2, num_samples = 956\n",
      "Budget: 4, num_samples = 1819\n",
      "Budget: 6, num_samples = 2567\n",
      "Budget: 8, num_samples = 3605\n",
      "Budget: 10, num_samples = 4536\n",
      "\n",
      "Iteration 6/10\n",
      "Budget: 2, num_samples = 978\n",
      "Budget: 4, num_samples = 1908\n",
      "Budget: 6, num_samples = 2597\n",
      "Budget: 8, num_samples = 3520\n",
      "Budget: 10, num_samples = 4109\n",
      "\n",
      "Iteration 7/10\n",
      "Budget: 2, num_samples = 879\n",
      "Budget: 4, num_samples = 1726\n",
      "Budget: 6, num_samples = 2498\n",
      "Budget: 8, num_samples = 3617\n",
      "Budget: 10, num_samples = 4522\n",
      "\n",
      "Iteration 8/10\n",
      "Budget: 2, num_samples = 940\n",
      "Budget: 4, num_samples = 1735\n",
      "Budget: 6, num_samples = 2470\n",
      "Budget: 8, num_samples = 3589\n",
      "Budget: 10, num_samples = 4461\n",
      "\n",
      "Iteration 9/10\n",
      "Budget: 2, num_samples = 909\n",
      "Budget: 4, num_samples = 1791\n",
      "Budget: 6, num_samples = 2480\n",
      "Budget: 8, num_samples = 3584\n",
      "Budget: 10, num_samples = 4305\n"
     ]
    }
   ],
   "source": [
    "dict_params = {'batch_size': gridsearch_bs, 'dt': 0.00031622776}\n",
    "get_metric_curve = build_metric_curve_fn(dict_params, list_time_budget, \n",
    "                            partial_build_sgld, params_IC, error_fn_ksd_curve)\n",
    "\n",
    "key = random.PRNGKey(0)\n",
    "mean_ksd_curve_sgld_gridsearch, sd_ksd_curve_sgld_gridsearch = get_mean_sd_ksd_curve(key, 10, get_metric_curve)\n"
   ]
  },
  {
   "cell_type": "markdown",
   "id": "046f1c8e",
   "metadata": {},
   "source": [
    "### sgld-cv"
   ]
  },
  {
   "cell_type": "code",
   "execution_count": 9,
   "id": "b74b6cbb",
   "metadata": {
    "collapsed": true
   },
   "outputs": [
    {
     "name": "stdout",
     "output_type": "stream",
     "text": [
      "Running for {'batch_size': 800, 'dt': 1e-05}\n",
      "\n",
      "Iteration 0/10\n",
      "Budget: 2, num_samples = 1196\n",
      "Budget: 4, num_samples = 2299\n",
      "Budget: 6, num_samples = 3313\n",
      "Budget: 8, num_samples = 4016\n",
      "Budget: 10, num_samples = 4257\n",
      "\n",
      "Iteration 1/10\n",
      "Budget: 2, num_samples = 834\n",
      "Budget: 4, num_samples = 1797\n",
      "Budget: 6, num_samples = 2301\n",
      "Budget: 8, num_samples = 3067\n",
      "Budget: 10, num_samples = 3716\n",
      "\n",
      "Iteration 2/10\n",
      "Budget: 2, num_samples = 851\n",
      "Budget: 4, num_samples = 1743\n",
      "Budget: 6, num_samples = 2587\n",
      "Budget: 8, num_samples = 2894\n",
      "Budget: 10, num_samples = 4226\n",
      "\n",
      "Iteration 3/10\n",
      "Budget: 2, num_samples = 994\n",
      "Budget: 4, num_samples = 1958\n",
      "Budget: 6, num_samples = 2443\n",
      "Budget: 8, num_samples = 2773\n",
      "Budget: 10, num_samples = 4101\n",
      "\n",
      "Iteration 4/10\n",
      "Budget: 2, num_samples = 958\n",
      "Budget: 4, num_samples = 1644\n",
      "Budget: 6, num_samples = 2594\n",
      "Budget: 8, num_samples = 3453\n",
      "Budget: 10, num_samples = 4808\n",
      "\n",
      "Iteration 5/10\n",
      "Budget: 2, num_samples = 1020\n",
      "Budget: 4, num_samples = 2006\n",
      "Budget: 6, num_samples = 2918\n",
      "Budget: 8, num_samples = 3721\n",
      "Budget: 10, num_samples = 5292\n",
      "\n",
      "Iteration 6/10\n",
      "Budget: 2, num_samples = 1103\n",
      "Budget: 4, num_samples = 2158\n",
      "Budget: 6, num_samples = 3129\n",
      "Budget: 8, num_samples = 4138\n",
      "Budget: 10, num_samples = 5322\n",
      "\n",
      "Iteration 7/10\n",
      "Budget: 2, num_samples = 1052\n",
      "Budget: 4, num_samples = 2088\n",
      "Budget: 6, num_samples = 3173\n",
      "Budget: 8, num_samples = 4230\n",
      "Budget: 10, num_samples = 5177\n",
      "\n",
      "Iteration 8/10\n",
      "Budget: 2, num_samples = 1179\n",
      "Budget: 4, num_samples = 2194\n",
      "Budget: 6, num_samples = 3132\n",
      "Budget: 8, num_samples = 4155\n",
      "Budget: 10, num_samples = 5358\n",
      "\n",
      "Iteration 9/10\n",
      "Budget: 2, num_samples = 1115\n",
      "Budget: 4, num_samples = 2202\n",
      "Budget: 6, num_samples = 3161\n",
      "Budget: 8, num_samples = 4155\n",
      "Budget: 10, num_samples = 5351\n"
     ]
    }
   ],
   "source": [
    "dict_params = {'batch_size': 800, 'dt': 1e-05}\n",
    "get_metric_curve = build_metric_curve_fn(dict_params, list_time_budget, \n",
    "                            partial_build_sgldCV, params_IC, error_fn_ksd_curve)\n",
    "\n",
    "key = random.PRNGKey(0)\n",
    "mean_ksd_curve_sgldCV_mamba, sd_ksd_curve_sgldCV_mamba = get_mean_sd_ksd_curve(key, 10, get_metric_curve)\n"
   ]
  },
  {
   "cell_type": "code",
   "execution_count": 16,
   "id": "ce3adabf",
   "metadata": {
    "collapsed": true
   },
   "outputs": [
    {
     "name": "stdout",
     "output_type": "stream",
     "text": [
      "Running for {'batch_size': 8000, 'dt': 0.00031622776}\n",
      "\n",
      "Iteration 0/10\n",
      "Budget: 2, num_samples = 644\n",
      "Budget: 4, num_samples = 1187\n",
      "Budget: 6, num_samples = 1607\n",
      "Budget: 8, num_samples = 2287\n",
      "Budget: 10, num_samples = 3032\n",
      "\n",
      "Iteration 1/10\n",
      "Budget: 2, num_samples = 630\n",
      "Budget: 4, num_samples = 1182\n",
      "Budget: 6, num_samples = 1820\n",
      "Budget: 8, num_samples = 2258\n",
      "Budget: 10, num_samples = 3012\n",
      "\n",
      "Iteration 2/10\n",
      "Budget: 2, num_samples = 629\n",
      "Budget: 4, num_samples = 1193\n",
      "Budget: 6, num_samples = 1806\n",
      "Budget: 8, num_samples = 2243\n",
      "Budget: 10, num_samples = 3001\n",
      "\n",
      "Iteration 3/10\n",
      "Budget: 2, num_samples = 584\n",
      "Budget: 4, num_samples = 1195\n",
      "Budget: 6, num_samples = 1819\n",
      "Budget: 8, num_samples = 2228\n",
      "Budget: 10, num_samples = 2816\n",
      "\n",
      "Iteration 4/10\n",
      "Budget: 2, num_samples = 578\n",
      "Budget: 4, num_samples = 1115\n",
      "Budget: 6, num_samples = 1697\n",
      "Budget: 8, num_samples = 2147\n",
      "Budget: 10, num_samples = 2631\n",
      "\n",
      "Iteration 5/10\n",
      "Budget: 2, num_samples = 550\n",
      "Budget: 4, num_samples = 1218\n",
      "Budget: 6, num_samples = 1785\n",
      "Budget: 8, num_samples = 2224\n",
      "Budget: 10, num_samples = 2815\n",
      "\n",
      "Iteration 6/10\n",
      "Budget: 2, num_samples = 579\n",
      "Budget: 4, num_samples = 1187\n",
      "Budget: 6, num_samples = 1784\n",
      "Budget: 8, num_samples = 2208\n",
      "Budget: 10, num_samples = 2982\n",
      "\n",
      "Iteration 7/10\n",
      "Budget: 2, num_samples = 625\n",
      "Budget: 4, num_samples = 1171\n",
      "Budget: 6, num_samples = 1722\n",
      "Budget: 8, num_samples = 2188\n",
      "Budget: 10, num_samples = 2751\n",
      "\n",
      "Iteration 8/10\n",
      "Budget: 2, num_samples = 496\n",
      "Budget: 4, num_samples = 1111\n",
      "Budget: 6, num_samples = 1730\n",
      "Budget: 8, num_samples = 1949\n",
      "Budget: 10, num_samples = 1977\n",
      "\n",
      "Iteration 9/10\n",
      "Budget: 2, num_samples = 369\n",
      "Budget: 4, num_samples = 1174\n",
      "Budget: 6, num_samples = 1793\n",
      "Budget: 8, num_samples = 2337\n",
      "Budget: 10, num_samples = 3162\n"
     ]
    }
   ],
   "source": [
    "dict_params = {'batch_size': gridsearch_bs, 'dt': 0.00031622776}\n",
    "get_metric_curve = build_metric_curve_fn(dict_params, list_time_budget, \n",
    "                            partial_build_sgldCV, params_IC, error_fn_ksd_curve)\n",
    "\n",
    "key = random.PRNGKey(0)\n",
    "mean_ksd_curve_sgldCV_gridsearch, sd_ksd_curve_sgldCV_gridsearch = get_mean_sd_ksd_curve(key, 10, get_metric_curve)\n"
   ]
  },
  {
   "cell_type": "markdown",
   "id": "18e1932c",
   "metadata": {},
   "source": [
    "### sghmc"
   ]
  },
  {
   "cell_type": "code",
   "execution_count": 10,
   "id": "b9274245",
   "metadata": {},
   "outputs": [
    {
     "name": "stdout",
     "output_type": "stream",
     "text": [
      "Running for {'batch_size': 800, 'L': 5, 'dt': 1e-06}\n",
      "\n",
      "Iteration 0/10\n",
      "Budget: 2, num_samples = 354\n",
      "Budget: 4, num_samples = 681\n",
      "Budget: 6, num_samples = 850\n",
      "Budget: 8, num_samples = 1005\n",
      "Budget: 10, num_samples = 1288\n",
      "\n",
      "Iteration 1/10\n",
      "Budget: 2, num_samples = 264\n",
      "Budget: 4, num_samples = 488\n",
      "Budget: 6, num_samples = 673\n",
      "Budget: 8, num_samples = 766\n",
      "Budget: 10, num_samples = 1074\n",
      "\n",
      "Iteration 2/10\n",
      "Budget: 2, num_samples = 275\n",
      "Budget: 4, num_samples = 456\n",
      "Budget: 6, num_samples = 782\n",
      "Budget: 8, num_samples = 1033\n",
      "Budget: 10, num_samples = 1313\n",
      "\n",
      "Iteration 3/10\n",
      "Budget: 2, num_samples = 276\n",
      "Budget: 4, num_samples = 570\n",
      "Budget: 6, num_samples = 833\n",
      "Budget: 8, num_samples = 1124\n",
      "Budget: 10, num_samples = 1430\n",
      "\n",
      "Iteration 4/10\n",
      "Budget: 2, num_samples = 278\n",
      "Budget: 4, num_samples = 531\n",
      "Budget: 6, num_samples = 646\n",
      "Budget: 8, num_samples = 1019\n",
      "Budget: 10, num_samples = 1395\n",
      "\n",
      "Iteration 5/10\n",
      "Budget: 2, num_samples = 284\n",
      "Budget: 4, num_samples = 558\n",
      "Budget: 6, num_samples = 829\n",
      "Budget: 8, num_samples = 1092\n",
      "Budget: 10, num_samples = 1373\n",
      "\n",
      "Iteration 6/10\n",
      "Budget: 2, num_samples = 286\n",
      "Budget: 4, num_samples = 536\n",
      "Budget: 6, num_samples = 850\n",
      "Budget: 8, num_samples = 1111\n",
      "Budget: 10, num_samples = 1334\n",
      "\n",
      "Iteration 7/10\n",
      "Budget: 2, num_samples = 235\n",
      "Budget: 4, num_samples = 506\n",
      "Budget: 6, num_samples = 768\n",
      "Budget: 8, num_samples = 996\n",
      "Budget: 10, num_samples = 1256\n",
      "\n",
      "Iteration 8/10\n",
      "Budget: 2, num_samples = 237\n",
      "Budget: 4, num_samples = 518\n",
      "Budget: 6, num_samples = 796\n",
      "Budget: 8, num_samples = 971\n",
      "Budget: 10, num_samples = 1261\n",
      "\n",
      "Iteration 9/10\n",
      "Budget: 2, num_samples = 260\n",
      "Budget: 4, num_samples = 551\n",
      "Budget: 6, num_samples = 842\n",
      "Budget: 8, num_samples = 1126\n",
      "Budget: 10, num_samples = 1390\n"
     ]
    }
   ],
   "source": [
    "dict_params = {'batch_size': 800, 'L': 5, 'dt': 1e-06}\n",
    "get_metric_curve = build_metric_curve_fn(dict_params, list_time_budget, \n",
    "                            partial_build_sghmc, params_IC, error_fn_ksd_curve)\n",
    "\n",
    "key = random.PRNGKey(0)\n",
    "mean_ksd_curve_sghmc_mamba, sd_ksd_curve_sghmc_mamba = get_mean_sd_ksd_curve(key, 10, get_metric_curve)\n"
   ]
  },
  {
   "cell_type": "code",
   "execution_count": 18,
   "id": "6d9dbe8e",
   "metadata": {
    "collapsed": true
   },
   "outputs": [
    {
     "name": "stdout",
     "output_type": "stream",
     "text": [
      "Running for {'batch_size': 8000, 'L': 10, 'dt': 1e-05}\n",
      "\n",
      "Iteration 0/10\n",
      "Budget: 2, num_samples = 111\n",
      "Budget: 4, num_samples = 220\n",
      "Budget: 6, num_samples = 329\n",
      "Budget: 8, num_samples = 434\n",
      "Budget: 10, num_samples = 541\n",
      "\n",
      "Iteration 1/10\n",
      "Budget: 2, num_samples = 108\n",
      "Budget: 4, num_samples = 212\n",
      "Budget: 6, num_samples = 320\n",
      "Budget: 8, num_samples = 428\n",
      "Budget: 10, num_samples = 534\n",
      "\n",
      "Iteration 2/10\n",
      "Budget: 2, num_samples = 106\n",
      "Budget: 4, num_samples = 214\n",
      "Budget: 6, num_samples = 314\n",
      "Budget: 8, num_samples = 425\n",
      "Budget: 10, num_samples = 534\n",
      "\n",
      "Iteration 3/10\n",
      "Budget: 2, num_samples = 104\n",
      "Budget: 4, num_samples = 204\n",
      "Budget: 6, num_samples = 282\n",
      "Budget: 8, num_samples = 370\n",
      "Budget: 10, num_samples = 520\n",
      "\n",
      "Iteration 4/10\n",
      "Budget: 2, num_samples = 104\n",
      "Budget: 4, num_samples = 210\n",
      "Budget: 6, num_samples = 317\n",
      "Budget: 8, num_samples = 430\n",
      "Budget: 10, num_samples = 531\n",
      "\n",
      "Iteration 5/10\n",
      "Budget: 2, num_samples = 106\n",
      "Budget: 4, num_samples = 218\n",
      "Budget: 6, num_samples = 320\n",
      "Budget: 8, num_samples = 426\n",
      "Budget: 10, num_samples = 539\n",
      "\n",
      "Iteration 6/10\n",
      "Budget: 2, num_samples = 107\n",
      "Budget: 4, num_samples = 214\n",
      "Budget: 6, num_samples = 324\n",
      "Budget: 8, num_samples = 421\n",
      "Budget: 10, num_samples = 470\n",
      "\n",
      "Iteration 7/10\n",
      "Budget: 2, num_samples = 93\n",
      "Budget: 4, num_samples = 142\n",
      "Budget: 6, num_samples = 303\n",
      "Budget: 8, num_samples = 413\n",
      "Budget: 10, num_samples = 491\n",
      "\n",
      "Iteration 8/10\n",
      "Budget: 2, num_samples = 97\n",
      "Budget: 4, num_samples = 204\n",
      "Budget: 6, num_samples = 300\n",
      "Budget: 8, num_samples = 388\n",
      "Budget: 10, num_samples = 515\n",
      "\n",
      "Iteration 9/10\n",
      "Budget: 2, num_samples = 104\n",
      "Budget: 4, num_samples = 207\n",
      "Budget: 6, num_samples = 306\n",
      "Budget: 8, num_samples = 411\n",
      "Budget: 10, num_samples = 522\n"
     ]
    }
   ],
   "source": [
    "dict_params = {'batch_size': gridsearch_bs, 'L': 10, 'dt': 1e-05}\n",
    "get_metric_curve = build_metric_curve_fn(dict_params, list_time_budget, \n",
    "                            partial_build_sghmc, params_IC, error_fn_ksd_curve)\n",
    "\n",
    "key = random.PRNGKey(0)\n",
    "mean_ksd_curve_sghmc_gridsearch, sd_ksd_curve_sghmc_gridsearch = get_mean_sd_ksd_curve(key, 10, get_metric_curve)\n"
   ]
  },
  {
   "cell_type": "markdown",
   "id": "671da5e3",
   "metadata": {},
   "source": [
    "### sghmc-CV"
   ]
  },
  {
   "cell_type": "code",
   "execution_count": 11,
   "id": "b92dda06",
   "metadata": {},
   "outputs": [
    {
     "name": "stdout",
     "output_type": "stream",
     "text": [
      "Running for {'batch_size': 80, 'L': 5, 'dt': 1e-06}\n",
      "\n",
      "Iteration 0/10\n",
      "Budget: 2, num_samples = 326\n",
      "Budget: 4, num_samples = 588\n",
      "Budget: 6, num_samples = 794\n",
      "Budget: 8, num_samples = 1054\n",
      "Budget: 10, num_samples = 1362\n",
      "\n",
      "Iteration 1/10\n",
      "Budget: 2, num_samples = 283\n",
      "Budget: 4, num_samples = 561\n",
      "Budget: 6, num_samples = 796\n",
      "Budget: 8, num_samples = 1039\n",
      "Budget: 10, num_samples = 984\n",
      "\n",
      "Iteration 2/10\n",
      "Budget: 2, num_samples = 250\n",
      "Budget: 4, num_samples = 531\n",
      "Budget: 6, num_samples = 817\n",
      "Budget: 8, num_samples = 1129\n",
      "Budget: 10, num_samples = 1386\n",
      "\n",
      "Iteration 3/10\n",
      "Budget: 2, num_samples = 276\n",
      "Budget: 4, num_samples = 550\n",
      "Budget: 6, num_samples = 824\n",
      "Budget: 8, num_samples = 1094\n",
      "Budget: 10, num_samples = 1412\n",
      "\n",
      "Iteration 4/10\n",
      "Budget: 2, num_samples = 286\n",
      "Budget: 4, num_samples = 558\n",
      "Budget: 6, num_samples = 820\n",
      "Budget: 8, num_samples = 1099\n",
      "Budget: 10, num_samples = 1416\n",
      "\n",
      "Iteration 5/10\n",
      "Budget: 2, num_samples = 286\n",
      "Budget: 4, num_samples = 570\n",
      "Budget: 6, num_samples = 845\n",
      "Budget: 8, num_samples = 1099\n",
      "Budget: 10, num_samples = 1390\n",
      "\n",
      "Iteration 6/10\n",
      "Budget: 2, num_samples = 281\n",
      "Budget: 4, num_samples = 553\n",
      "Budget: 6, num_samples = 821\n",
      "Budget: 8, num_samples = 1122\n",
      "Budget: 10, num_samples = 1421\n",
      "\n",
      "Iteration 7/10\n",
      "Budget: 2, num_samples = 287\n",
      "Budget: 4, num_samples = 567\n",
      "Budget: 6, num_samples = 851\n",
      "Budget: 8, num_samples = 1135\n",
      "Budget: 10, num_samples = 1413\n",
      "\n",
      "Iteration 8/10\n",
      "Budget: 2, num_samples = 277\n",
      "Budget: 4, num_samples = 556\n",
      "Budget: 6, num_samples = 845\n",
      "Budget: 8, num_samples = 1128\n",
      "Budget: 10, num_samples = 1422\n",
      "\n",
      "Iteration 9/10\n",
      "Budget: 2, num_samples = 292\n",
      "Budget: 4, num_samples = 583\n",
      "Budget: 6, num_samples = 837\n",
      "Budget: 8, num_samples = 1095\n",
      "Budget: 10, num_samples = 1414\n"
     ]
    }
   ],
   "source": [
    "dict_params = {'batch_size': 80, 'L': 5, 'dt': 1e-06}\n",
    "get_metric_curve = build_metric_curve_fn(dict_params, list_time_budget, \n",
    "                            partial_build_sghmcCV, params_IC, error_fn_ksd_curve)\n",
    "\n",
    "key = random.PRNGKey(0)\n",
    "mean_ksd_curve_sghmcCV_mamba, sd_ksd_curve_sghmcCV_mamba = get_mean_sd_ksd_curve(key, 10, get_metric_curve)\n"
   ]
  },
  {
   "cell_type": "code",
   "execution_count": 20,
   "id": "d69ed0dd",
   "metadata": {
    "collapsed": true
   },
   "outputs": [
    {
     "name": "stdout",
     "output_type": "stream",
     "text": [
      "Running for {'batch_size': 8000, 'L': 10, 'dt': 1e-05}\n",
      "\n",
      "Iteration 0/10\n",
      "Budget: 2, num_samples = 81\n",
      "Budget: 4, num_samples = 162\n",
      "Budget: 6, num_samples = 242\n",
      "Budget: 8, num_samples = 316\n",
      "Budget: 10, num_samples = 397\n",
      "\n",
      "Iteration 1/10\n",
      "Budget: 2, num_samples = 76\n",
      "Budget: 4, num_samples = 152\n",
      "Budget: 6, num_samples = 228\n",
      "Budget: 8, num_samples = 305\n",
      "Budget: 10, num_samples = 379\n",
      "\n",
      "Iteration 2/10\n",
      "Budget: 2, num_samples = 73\n",
      "Budget: 4, num_samples = 151\n",
      "Budget: 6, num_samples = 228\n",
      "Budget: 8, num_samples = 309\n",
      "Budget: 10, num_samples = 386\n",
      "\n",
      "Iteration 3/10\n",
      "Budget: 2, num_samples = 75\n",
      "Budget: 4, num_samples = 156\n",
      "Budget: 6, num_samples = 231\n",
      "Budget: 8, num_samples = 294\n",
      "Budget: 10, num_samples = 375\n",
      "\n",
      "Iteration 4/10\n",
      "Budget: 2, num_samples = 79\n",
      "Budget: 4, num_samples = 155\n",
      "Budget: 6, num_samples = 229\n",
      "Budget: 8, num_samples = 300\n",
      "Budget: 10, num_samples = 377\n",
      "\n",
      "Iteration 5/10\n",
      "Budget: 2, num_samples = 78\n",
      "Budget: 4, num_samples = 156\n",
      "Budget: 6, num_samples = 228\n",
      "Budget: 8, num_samples = 306\n",
      "Budget: 10, num_samples = 381\n",
      "\n",
      "Iteration 6/10\n",
      "Budget: 2, num_samples = 78\n",
      "Budget: 4, num_samples = 152\n",
      "Budget: 6, num_samples = 226\n",
      "Budget: 8, num_samples = 304\n",
      "Budget: 10, num_samples = 386\n",
      "\n",
      "Iteration 7/10\n",
      "Budget: 2, num_samples = 74\n",
      "Budget: 4, num_samples = 145\n",
      "Budget: 6, num_samples = 223\n",
      "Budget: 8, num_samples = 295\n",
      "Budget: 10, num_samples = 377\n",
      "\n",
      "Iteration 8/10\n",
      "Budget: 2, num_samples = 75\n",
      "Budget: 4, num_samples = 150\n",
      "Budget: 6, num_samples = 229\n",
      "Budget: 8, num_samples = 302\n",
      "Budget: 10, num_samples = 378\n",
      "\n",
      "Iteration 9/10\n",
      "Budget: 2, num_samples = 75\n",
      "Budget: 4, num_samples = 152\n",
      "Budget: 6, num_samples = 211\n",
      "Budget: 8, num_samples = 274\n",
      "Budget: 10, num_samples = 367\n"
     ]
    }
   ],
   "source": [
    "dict_params = {'batch_size': gridsearch_bs, 'L': 10, 'dt': 1e-05}\n",
    "get_metric_curve = build_metric_curve_fn(dict_params, list_time_budget, \n",
    "                            partial_build_sghmcCV, params_IC, error_fn_ksd_curve)\n",
    "\n",
    "key = random.PRNGKey(0)\n",
    "mean_ksd_curve_sghmcCV_gridsearch, sd_ksd_curve_sghmcCV_gridsearch = get_mean_sd_ksd_curve(key, 10, get_metric_curve)\n"
   ]
  },
  {
   "cell_type": "markdown",
   "id": "3d97a3ba",
   "metadata": {},
   "source": [
    "### sgnht"
   ]
  },
  {
   "cell_type": "code",
   "execution_count": 12,
   "id": "b375e476",
   "metadata": {},
   "outputs": [
    {
     "name": "stdout",
     "output_type": "stream",
     "text": [
      "Running for {'batch_size': 8000, 'dt': 3.1622778e-05}\n",
      "\n",
      "Iteration 0/10\n",
      "Budget: 2, num_samples = 961\n",
      "Budget: 4, num_samples = 1883\n",
      "Budget: 6, num_samples = 2715\n",
      "Budget: 8, num_samples = 3267\n",
      "Budget: 10, num_samples = 4109\n",
      "\n",
      "Iteration 1/10\n",
      "Budget: 2, num_samples = 843\n",
      "Budget: 4, num_samples = 1683\n",
      "Budget: 6, num_samples = 2489\n",
      "Budget: 8, num_samples = 3444\n",
      "Budget: 10, num_samples = 4093\n",
      "\n",
      "Iteration 2/10\n",
      "Budget: 2, num_samples = 889\n",
      "Budget: 4, num_samples = 1757\n",
      "Budget: 6, num_samples = 2528\n",
      "Budget: 8, num_samples = 3321\n",
      "Budget: 10, num_samples = 4162\n",
      "\n",
      "Iteration 3/10\n",
      "Budget: 2, num_samples = 892\n",
      "Budget: 4, num_samples = 1773\n",
      "Budget: 6, num_samples = 2540\n",
      "Budget: 8, num_samples = 3328\n",
      "Budget: 10, num_samples = 4247\n",
      "\n",
      "Iteration 4/10\n",
      "Budget: 2, num_samples = 843\n",
      "Budget: 4, num_samples = 1728\n",
      "Budget: 6, num_samples = 2562\n",
      "Budget: 8, num_samples = 3343\n",
      "Budget: 10, num_samples = 4260\n",
      "\n",
      "Iteration 5/10\n",
      "Budget: 2, num_samples = 841\n",
      "Budget: 4, num_samples = 1728\n",
      "Budget: 6, num_samples = 2583\n",
      "Budget: 8, num_samples = 3385\n",
      "Budget: 10, num_samples = 4131\n",
      "\n",
      "Iteration 6/10\n",
      "Budget: 2, num_samples = 872\n",
      "Budget: 4, num_samples = 1739\n",
      "Budget: 6, num_samples = 2501\n",
      "Budget: 8, num_samples = 3321\n",
      "Budget: 10, num_samples = 4304\n",
      "\n",
      "Iteration 7/10\n",
      "Budget: 2, num_samples = 893\n",
      "Budget: 4, num_samples = 1759\n",
      "Budget: 6, num_samples = 2527\n",
      "Budget: 8, num_samples = 3333\n",
      "Budget: 10, num_samples = 4271\n",
      "\n",
      "Iteration 8/10\n",
      "Budget: 2, num_samples = 865\n",
      "Budget: 4, num_samples = 1718\n",
      "Budget: 6, num_samples = 2552\n",
      "Budget: 8, num_samples = 3334\n",
      "Budget: 10, num_samples = 4289\n",
      "\n",
      "Iteration 9/10\n",
      "Budget: 2, num_samples = 848\n",
      "Budget: 4, num_samples = 1727\n",
      "Budget: 6, num_samples = 2552\n",
      "Budget: 8, num_samples = 3320\n",
      "Budget: 10, num_samples = 4289\n"
     ]
    }
   ],
   "source": [
    "dict_params = {'batch_size': 8000, 'dt': 3.1622778e-05}\n",
    "get_metric_curve = build_metric_curve_fn(dict_params, list_time_budget, \n",
    "                            partial_build_sgnht, params_IC, error_fn_ksd_curve)\n",
    "\n",
    "key = random.PRNGKey(0)\n",
    "mean_ksd_curve_sgnht_mamba, sd_ksd_curve_sgnht_mamba = get_mean_sd_ksd_curve(key, 10, get_metric_curve)\n"
   ]
  },
  {
   "cell_type": "code",
   "execution_count": 22,
   "id": "7d02e65b",
   "metadata": {
    "collapsed": true
   },
   "outputs": [
    {
     "name": "stdout",
     "output_type": "stream",
     "text": [
      "Running for {'batch_size': 8000, 'dt': 3.1622776e-06}\n",
      "\n",
      "Iteration 0/10\n",
      "Budget: 2, num_samples = 915\n",
      "Budget: 4, num_samples = 1725\n",
      "Budget: 6, num_samples = 2493\n",
      "Budget: 8, num_samples = 2905\n",
      "Budget: 10, num_samples = 3732\n",
      "\n",
      "Iteration 1/10\n",
      "Budget: 2, num_samples = 826\n",
      "Budget: 4, num_samples = 1698\n",
      "Budget: 6, num_samples = 2518\n",
      "Budget: 8, num_samples = 3466\n",
      "Budget: 10, num_samples = 4113\n",
      "\n",
      "Iteration 2/10\n",
      "Budget: 2, num_samples = 903\n",
      "Budget: 4, num_samples = 1812\n",
      "Budget: 6, num_samples = 2445\n",
      "Budget: 8, num_samples = 3424\n",
      "Budget: 10, num_samples = 3495\n",
      "\n",
      "Iteration 3/10\n",
      "Budget: 2, num_samples = 741\n",
      "Budget: 4, num_samples = 1627\n",
      "Budget: 6, num_samples = 2382\n",
      "Budget: 8, num_samples = 3299\n",
      "Budget: 10, num_samples = 3781\n",
      "\n",
      "Iteration 4/10\n",
      "Budget: 2, num_samples = 783\n",
      "Budget: 4, num_samples = 1282\n",
      "Budget: 6, num_samples = 2190\n",
      "Budget: 8, num_samples = 3178\n",
      "Budget: 10, num_samples = 4227\n",
      "\n",
      "Iteration 5/10\n",
      "Budget: 2, num_samples = 805\n",
      "Budget: 4, num_samples = 1692\n",
      "Budget: 6, num_samples = 2212\n",
      "Budget: 8, num_samples = 3201\n",
      "Budget: 10, num_samples = 3291\n",
      "\n",
      "Iteration 6/10\n",
      "Budget: 2, num_samples = 815\n",
      "Budget: 4, num_samples = 1695\n",
      "Budget: 6, num_samples = 2266\n",
      "Budget: 8, num_samples = 2597\n",
      "Budget: 10, num_samples = 3923\n",
      "\n",
      "Iteration 7/10\n",
      "Budget: 2, num_samples = 784\n",
      "Budget: 4, num_samples = 1736\n",
      "Budget: 6, num_samples = 2282\n",
      "Budget: 8, num_samples = 3339\n",
      "Budget: 10, num_samples = 3716\n",
      "\n",
      "Iteration 8/10\n",
      "Budget: 2, num_samples = 849\n",
      "Budget: 4, num_samples = 1376\n",
      "Budget: 6, num_samples = 1706\n",
      "Budget: 8, num_samples = 2567\n",
      "Budget: 10, num_samples = 2980\n",
      "\n",
      "Iteration 9/10\n",
      "Budget: 2, num_samples = 616\n",
      "Budget: 4, num_samples = 1539\n",
      "Budget: 6, num_samples = 2419\n",
      "Budget: 8, num_samples = 3215\n",
      "Budget: 10, num_samples = 4186\n"
     ]
    }
   ],
   "source": [
    "dict_params = {'batch_size': gridsearch_bs, 'dt': 3.1622776e-06}\n",
    "get_metric_curve = build_metric_curve_fn(dict_params, list_time_budget, \n",
    "                            partial_build_sgnht, params_IC, error_fn_ksd_curve)\n",
    "\n",
    "key = random.PRNGKey(0)\n",
    "mean_ksd_curve_sgnht_gridsearch, sd_ksd_curve_sgnht_gridsearch = get_mean_sd_ksd_curve(key, 10, get_metric_curve)\n"
   ]
  },
  {
   "cell_type": "markdown",
   "id": "b8354804",
   "metadata": {},
   "source": [
    "### sgnht-CV"
   ]
  },
  {
   "cell_type": "code",
   "execution_count": 13,
   "id": "6f9bd507",
   "metadata": {},
   "outputs": [
    {
     "name": "stdout",
     "output_type": "stream",
     "text": [
      "Running for {'batch_size': 8000, 'dt': 1e-05}\n",
      "\n",
      "Iteration 0/10\n",
      "Budget: 2, num_samples = 656\n",
      "Budget: 4, num_samples = 1305\n",
      "Budget: 6, num_samples = 1945\n",
      "Budget: 8, num_samples = 2439\n",
      "Budget: 10, num_samples = 2838\n",
      "\n",
      "Iteration 1/10\n",
      "Budget: 2, num_samples = 588\n",
      "Budget: 4, num_samples = 1167\n",
      "Budget: 6, num_samples = 1756\n",
      "Budget: 8, num_samples = 2395\n",
      "Budget: 10, num_samples = 2902\n",
      "\n",
      "Iteration 2/10\n",
      "Budget: 2, num_samples = 583\n",
      "Budget: 4, num_samples = 1174\n",
      "Budget: 6, num_samples = 1756\n",
      "Budget: 8, num_samples = 2330\n",
      "Budget: 10, num_samples = 2974\n",
      "\n",
      "Iteration 3/10\n",
      "Budget: 2, num_samples = 590\n",
      "Budget: 4, num_samples = 1168\n",
      "Budget: 6, num_samples = 1759\n",
      "Budget: 8, num_samples = 2404\n",
      "Budget: 10, num_samples = 2935\n",
      "\n",
      "Iteration 4/10\n",
      "Budget: 2, num_samples = 572\n",
      "Budget: 4, num_samples = 1171\n",
      "Budget: 6, num_samples = 1757\n",
      "Budget: 8, num_samples = 2396\n",
      "Budget: 10, num_samples = 2951\n",
      "\n",
      "Iteration 5/10\n",
      "Budget: 2, num_samples = 586\n",
      "Budget: 4, num_samples = 1167\n",
      "Budget: 6, num_samples = 1754\n",
      "Budget: 8, num_samples = 2333\n",
      "Budget: 10, num_samples = 2906\n",
      "\n",
      "Iteration 6/10\n",
      "Budget: 2, num_samples = 605\n",
      "Budget: 4, num_samples = 1206\n",
      "Budget: 6, num_samples = 1779\n",
      "Budget: 8, num_samples = 2337\n",
      "Budget: 10, num_samples = 2913\n",
      "\n",
      "Iteration 7/10\n",
      "Budget: 2, num_samples = 588\n",
      "Budget: 4, num_samples = 1166\n",
      "Budget: 6, num_samples = 1796\n",
      "Budget: 8, num_samples = 2366\n",
      "Budget: 10, num_samples = 2840\n",
      "\n",
      "Iteration 8/10\n",
      "Budget: 2, num_samples = 598\n",
      "Budget: 4, num_samples = 1206\n",
      "Budget: 6, num_samples = 1790\n",
      "Budget: 8, num_samples = 2319\n",
      "Budget: 10, num_samples = 2912\n",
      "\n",
      "Iteration 9/10\n",
      "Budget: 2, num_samples = 604\n",
      "Budget: 4, num_samples = 1199\n",
      "Budget: 6, num_samples = 1777\n",
      "Budget: 8, num_samples = 2335\n",
      "Budget: 10, num_samples = 2921\n"
     ]
    }
   ],
   "source": [
    "dict_params = {'batch_size': 8000, 'dt': 1e-05}\n",
    "get_metric_curve = build_metric_curve_fn(dict_params, list_time_budget, \n",
    "                            partial_build_sgnhtCV, params_IC, error_fn_ksd_curve)\n",
    "\n",
    "key = random.PRNGKey(0)\n",
    "mean_ksd_curve_sgnhtCV_mamba, sd_ksd_curve_sgnhtCV_mamba = get_mean_sd_ksd_curve(key, 10, get_metric_curve)\n"
   ]
  },
  {
   "cell_type": "code",
   "execution_count": 19,
   "id": "0b733fe0",
   "metadata": {
    "collapsed": true
   },
   "outputs": [
    {
     "name": "stdout",
     "output_type": "stream",
     "text": [
      "Running for {'batch_size': 8000, 'dt': 3.1622776e-06}\n",
      "\n",
      "Iteration 0/10\n",
      "Budget: 2, num_samples = 655\n",
      "Budget: 4, num_samples = 1304\n",
      "Budget: 6, num_samples = 1946\n",
      "Budget: 8, num_samples = 2574\n",
      "Budget: 10, num_samples = 3187\n",
      "\n",
      "Iteration 1/10\n",
      "Budget: 2, num_samples = 634\n",
      "Budget: 4, num_samples = 1275\n",
      "Budget: 6, num_samples = 1815\n",
      "Budget: 8, num_samples = 2184\n",
      "Budget: 10, num_samples = 2831\n",
      "\n",
      "Iteration 2/10\n",
      "Budget: 2, num_samples = 567\n",
      "Budget: 4, num_samples = 1238\n",
      "Budget: 6, num_samples = 1856\n",
      "Budget: 8, num_samples = 2455\n",
      "Budget: 10, num_samples = 2920\n",
      "\n",
      "Iteration 3/10\n",
      "Budget: 2, num_samples = 625\n",
      "Budget: 4, num_samples = 1252\n",
      "Budget: 6, num_samples = 1828\n",
      "Budget: 8, num_samples = 2227\n",
      "Budget: 10, num_samples = 2866\n",
      "\n",
      "Iteration 4/10\n",
      "Budget: 2, num_samples = 566\n",
      "Budget: 4, num_samples = 1237\n",
      "Budget: 6, num_samples = 1850\n",
      "Budget: 8, num_samples = 2455\n",
      "Budget: 10, num_samples = 2811\n",
      "\n",
      "Iteration 5/10\n",
      "Budget: 2, num_samples = 577\n",
      "Budget: 4, num_samples = 1264\n",
      "Budget: 6, num_samples = 1827\n",
      "Budget: 8, num_samples = 2238\n",
      "Budget: 10, num_samples = 2886\n",
      "\n",
      "Iteration 6/10\n",
      "Budget: 2, num_samples = 618\n",
      "Budget: 4, num_samples = 1238\n",
      "Budget: 6, num_samples = 1853\n",
      "Budget: 8, num_samples = 2432\n",
      "Budget: 10, num_samples = 2829\n",
      "\n",
      "Iteration 7/10\n",
      "Budget: 2, num_samples = 581\n",
      "Budget: 4, num_samples = 1262\n",
      "Budget: 6, num_samples = 1843\n",
      "Budget: 8, num_samples = 2395\n",
      "Budget: 10, num_samples = 2963\n",
      "\n",
      "Iteration 8/10\n",
      "Budget: 2, num_samples = 618\n",
      "Budget: 4, num_samples = 1238\n",
      "Budget: 6, num_samples = 1842\n",
      "Budget: 8, num_samples = 2458\n",
      "Budget: 10, num_samples = 2814\n",
      "\n",
      "Iteration 9/10\n",
      "Budget: 2, num_samples = 630\n",
      "Budget: 4, num_samples = 1264\n",
      "Budget: 6, num_samples = 1855\n",
      "Budget: 8, num_samples = 2268\n",
      "Budget: 10, num_samples = 2890\n"
     ]
    }
   ],
   "source": [
    "dict_params = {'batch_size': gridsearch_bs, 'dt': 3.1622776e-06}\n",
    "get_metric_curve = build_metric_curve_fn(dict_params, list_time_budget, \n",
    "                            partial_build_sgnhtCV, params_IC, error_fn_ksd_curve)\n",
    "\n",
    "key = random.PRNGKey(0)\n",
    "mean_ksd_curve_sgnhtCV_gridsearch, sd_ksd_curve_sgnhtCV_gridsearch = get_mean_sd_ksd_curve(key, 10, get_metric_curve)\n"
   ]
  },
  {
   "cell_type": "code",
   "execution_count": 30,
   "id": "c05c7cca",
   "metadata": {},
   "outputs": [
    {
     "data": {
      "text/plain": [
       "array([677.9127 , 435.69467, 340.27075, 286.84207, 252.23836],\n",
       "      dtype=float32)"
      ]
     },
     "execution_count": 30,
     "metadata": {},
     "output_type": "execute_result"
    }
   ],
   "source": [
    "mean_ksd_curve_sgnht_mamba"
   ]
  },
  {
   "cell_type": "code",
   "execution_count": null,
   "id": "691f1f95",
   "metadata": {},
   "outputs": [],
   "source": []
  },
  {
   "cell_type": "markdown",
   "id": "44cac657",
   "metadata": {},
   "source": [
    "#### save and load ksd curves"
   ]
  },
  {
   "cell_type": "code",
   "execution_count": 14,
   "id": "43052437",
   "metadata": {},
   "outputs": [],
   "source": [
    "\n",
    "# MAMBA\n",
    "np.savetxt(\"outputs/PMF_uncertainty_tests/mamba/KSD_curve_sgld.txt\", \n",
    "           np.array([mean_ksd_curve_sgld_mamba, sd_ksd_curve_sgld_mamba]))\n",
    "\n",
    "np.savetxt(\"outputs/PMF_uncertainty_tests/mamba/KSD_curve_sgldCV.txt\", \n",
    "           np.array([mean_ksd_curve_sgldCV_mamba, sd_ksd_curve_sgldCV_mamba]))\n",
    "\n",
    "np.savetxt(\"outputs/PMF_uncertainty_tests/mamba/KSD_curve_sghmc.txt\", \n",
    "           np.array([mean_ksd_curve_sghmc_mamba, sd_ksd_curve_sghmc_mamba]))\n",
    "\n",
    "np.savetxt(\"outputs/PMF_uncertainty_tests/mamba/KSD_curve_sghmcCV.txt\", \n",
    "           np.array([mean_ksd_curve_sghmcCV_mamba, sd_ksd_curve_sghmcCV_mamba]))\n",
    "\n",
    "np.savetxt(\"outputs/PMF_uncertainty_tests/mamba/KSD_curve_sgnht.txt\", \n",
    "           np.array([mean_ksd_curve_sgnht_mamba, sd_ksd_curve_sgnht_mamba]))\n",
    "\n",
    "np.savetxt(\"outputs/PMF_uncertainty_tests/mamba/KSD_curve_sgnhtCV.txt\", \n",
    "           np.array([mean_ksd_curve_sgnhtCV_mamba, sd_ksd_curve_sgnhtCV_mamba]))\n",
    "\n",
    "\n",
    "# gridsearch\n",
    "# np.savetxt(\"outputs/PMF_uncertainty_tests/gridsearch/KSD_curve_sgld.txt\", \n",
    "#            np.array([mean_ksd_curve_sgld_gridsearch, sd_ksd_curve_sgld_gridsearch]))\n",
    "\n",
    "# np.savetxt(\"outputs/PMF_uncertainty_tests/gridsearch/KSD_curve_sgldCV.txt\", \n",
    "#            np.array([mean_ksd_curve_sgldCV_gridsearch, sd_ksd_curve_sgldCV_gridsearch]))\n",
    "\n",
    "# np.savetxt(\"outputs/PMF_uncertainty_tests/gridsearch/KSD_curve_sghmc.txt\", \n",
    "#            np.array([mean_ksd_curve_sghmc_gridsearch, sd_ksd_curve_sghmc_gridsearch]))\n",
    "\n",
    "# np.savetxt(\"outputs/PMF_uncertainty_tests/gridsearch/KSD_curve_sghmcCV.txt\", \n",
    "#            np.array([mean_ksd_curve_sghmcCV_gridsearch, sd_ksd_curve_sghmcCV_gridsearch]))\n",
    "\n",
    "# np.savetxt(\"outputs/PMF_uncertainty_tests/gridsearch/KSD_curve_sgnht.txt\", \n",
    "#            np.array([mean_ksd_curve_sgnht_gridsearch, sd_ksd_curve_sgnht_gridsearch]))\n",
    "\n",
    "# np.savetxt(\"outputs/PMF_uncertainty_tests/gridsearch/KSD_curve_sgnhtCV.txt\", \n",
    "#            np.array([mean_ksd_curve_sgnhtCV_gridsearch, sd_ksd_curve_sgnhtCV_gridsearch]))\n",
    "\n",
    "\n",
    "# Load mean and sd of ksd curves\n",
    "list_time_budget = [2, 4, 6, 8, 10]\n",
    "\n",
    "# mean_ksd_curve_sgld_mamba, sd_ksd_curve_sgld_mamba = np.genfromtxt(\"outputs/PMF_uncertainty_tests/mamba/KSD_curve_sgld.txt\")\n",
    "# mean_ksd_curve_sgldCV_mamba, sd_ksd_curve_sgldCV_mamba = np.genfromtxt(\"outputs/PMF_uncertainty_tests/mamba/KSD_curve_sgldCV.txt\")\n",
    "# mean_ksd_curve_sghmc_mamba, sd_ksd_curve_sghmc_mamba = np.genfromtxt(\"outputs/PMF_uncertainty_tests/mamba/KSD_curve_sghmc.txt\")\n",
    "# mean_ksd_curve_sghmcCV_mamba, sd_ksd_curve_sghmcCV_mamba = np.genfromtxt(\"outputs/PMF_uncertainty_tests/mamba/KSD_curve_sghmcCV.txt\")\n",
    "# mean_ksd_curve_sgnht_mamba, sd_ksd_curve_sgnht_mamba = np.genfromtxt(\"outputs/PMF_uncertainty_tests/mamba/KSD_curve_sgnht.txt\")\n",
    "# mean_ksd_curve_sgnhtCV_mamba, sd_ksd_curve_sgnhtCV_mamba = np.genfromtxt(\"outputs/PMF_uncertainty_tests/mamba/KSD_curve_sgnhtCV.txt\")\n",
    "\n",
    "mean_ksd_curve_sgld_gridsearch, sd_ksd_curve_sgld_gridsearch = np.genfromtxt(\"outputs/PMF_uncertainty_tests/gridsearch/KSD_curve_sgld.txt\")\n",
    "mean_ksd_curve_sgldCV_gridsearch, sd_ksd_curve_sgldCV_gridsearch = np.genfromtxt(\"outputs/PMF_uncertainty_tests/gridsearch/KSD_curve_sgldCV.txt\")\n",
    "mean_ksd_curve_sghmc_gridsearch, sd_ksd_curve_sghmc_gridsearch = np.genfromtxt(\"outputs/PMF_uncertainty_tests/gridsearch/KSD_curve_sghmc.txt\")\n",
    "mean_ksd_curve_sghmcCV_gridsearch, sd_ksd_curve_sghmcCV_gridsearch = np.genfromtxt(\"outputs/PMF_uncertainty_tests/gridsearch/KSD_curve_sghmcCV.txt\")\n",
    "mean_ksd_curve_sgnht_gridsearch, sd_ksd_curve_sgnht_gridsearch = np.genfromtxt(\"outputs/PMF_uncertainty_tests/gridsearch/KSD_curve_sgnht.txt\")\n",
    "mean_ksd_curve_sgnhtCV_gridsearch, sd_ksd_curve_sgnhtCV_gridsearch = np.genfromtxt(\"outputs/PMF_uncertainty_tests/gridsearch/KSD_curve_sgnhtCV.txt\")\n",
    "\n"
   ]
  },
  {
   "cell_type": "code",
   "execution_count": null,
   "id": "a49a4f1b",
   "metadata": {},
   "outputs": [],
   "source": []
  },
  {
   "cell_type": "markdown",
   "id": "46b44e47",
   "metadata": {},
   "source": [
    "# plots: KSD curves"
   ]
  },
  {
   "cell_type": "code",
   "execution_count": 15,
   "id": "dfffc93b",
   "metadata": {},
   "outputs": [
    {
     "data": {
      "text/plain": [
       "<matplotlib.legend.Legend at 0x7f87c21d4cd0>"
      ]
     },
     "execution_count": 15,
     "metadata": {},
     "output_type": "execute_result"
    },
    {
     "data": {
      "image/png": "[encoded data removed]",
      "text/plain": [
       "<Figure size 576x432 with 1 Axes>"
      ]
     },
     "metadata": {
      "needs_background": "light"
     },
     "output_type": "display_data"
    }
   ],
   "source": [
    "plt.rcParams.update({'font.size':17})\n",
    "\n",
    "max_time_budget = 8\n",
    "\n",
    "plt.figure(figsize=(8, 6))\n",
    "\n",
    "plt.plot(list_time_budget, mean_ksd_curve_sgld_mamba, marker=\"+\", markersize=15, \n",
    "         c='r', label=\"MAMBA\")\n",
    "plt.fill_between(list_time_budget, mean_ksd_curve_sgld_mamba+2*sd_ksd_curve_sgld_mamba, \n",
    "                 mean_ksd_curve_sgld_mamba-2*sd_ksd_curve_sgld_mamba, alpha=0.1, color='r')\n",
    "\n",
    "plt.plot(list_time_budget, mean_ksd_curve_sgld_gridsearch, marker=\"o\", markersize=15, \n",
    "         c='g', label=\"gridsearch\")\n",
    "plt.fill_between(list_time_budget, mean_ksd_curve_sgld_gridsearch+2*sd_ksd_curve_sgld_gridsearch, \n",
    "                 mean_ksd_curve_sgld_gridsearch-2*sd_ksd_curve_sgld_gridsearch, alpha=0.1, color='g')\n",
    "\n",
    "plt.title(\"SGLD sampler\", size=23)\n",
    "plt.ylabel(\"KSD\", size=19)\n",
    "plt.xlabel(\"time budget (seconds)\", size=19)\n",
    "plt.legend(fontsize=16)\n",
    "# plt.savefig(\"images/sgld_ksd_curves_R1_R5_n90.png\")"
   ]
  },
  {
   "cell_type": "code",
   "execution_count": 16,
   "id": "2bee3cbe",
   "metadata": {},
   "outputs": [
    {
     "data": {
      "text/plain": [
       "<matplotlib.legend.Legend at 0x7f87e1d8ca00>"
      ]
     },
     "execution_count": 16,
     "metadata": {},
     "output_type": "execute_result"
    },
    {
     "data": {
      "image/png": "[encoded data removed]",
      "text/plain": [
       "<Figure size 576x432 with 1 Axes>"
      ]
     },
     "metadata": {
      "needs_background": "light"
     },
     "output_type": "display_data"
    }
   ],
   "source": [
    "plt.rcParams.update({'font.size':17})\n",
    "\n",
    "max_time_budget = 8\n",
    "\n",
    "plt.figure(figsize=(8, 6))\n",
    "\n",
    "plt.plot(list_time_budget, mean_ksd_curve_sgldCV_mamba, marker=\"+\", markersize=15, \n",
    "         c='r', label=\"MAMBA\")\n",
    "plt.fill_between(list_time_budget, mean_ksd_curve_sgldCV_mamba+2*sd_ksd_curve_sgldCV_mamba, \n",
    "                 mean_ksd_curve_sgldCV_mamba-2*sd_ksd_curve_sgldCV_mamba, alpha=0.1, color='r')\n",
    "\n",
    "plt.plot(list_time_budget, mean_ksd_curve_sgldCV_gridsearch, marker=\"o\", markersize=15, \n",
    "         c='g', label=\"gridsearch\")\n",
    "plt.fill_between(list_time_budget, mean_ksd_curve_sgldCV_gridsearch+2*sd_ksd_curve_sgldCV_gridsearch, \n",
    "                 mean_ksd_curve_sgldCV_gridsearch-2*sd_ksd_curve_sgldCV_gridsearch, alpha=0.1, color='g')\n",
    "\n",
    "plt.title(\"SGLD-CV sampler\", size=23)\n",
    "plt.ylabel(\"KSD\", size=19)\n",
    "plt.xlabel(\"time budget (seconds)\", size=19)\n",
    "plt.legend(fontsize=16)\n",
    "# plt.savefig(\"images/sgld_ksd_curves_R1_R5_n90.png\")"
   ]
  },
  {
   "cell_type": "code",
   "execution_count": 17,
   "id": "eadac7d8",
   "metadata": {},
   "outputs": [
    {
     "data": {
      "text/plain": [
       "<matplotlib.legend.Legend at 0x7f87c22ecf70>"
      ]
     },
     "execution_count": 17,
     "metadata": {},
     "output_type": "execute_result"
    },
    {
     "data": {
      "image/png": "[encoded data removed]",
      "text/plain": [
       "<Figure size 576x432 with 1 Axes>"
      ]
     },
     "metadata": {
      "needs_background": "light"
     },
     "output_type": "display_data"
    }
   ],
   "source": [
    "plt.rcParams.update({'font.size':17})\n",
    "\n",
    "max_time_budget = 8\n",
    "\n",
    "plt.figure(figsize=(8, 6))\n",
    "\n",
    "plt.plot(list_time_budget, mean_ksd_curve_sghmc_mamba, marker=\"+\", markersize=15, \n",
    "         c='r', label=\"MAMBA\")\n",
    "plt.fill_between(list_time_budget, mean_ksd_curve_sghmc_mamba+2*sd_ksd_curve_sghmc_mamba, \n",
    "                 mean_ksd_curve_sghmc_mamba-2*sd_ksd_curve_sghmc_mamba, alpha=0.1, color='r')\n",
    "\n",
    "plt.plot(list_time_budget, mean_ksd_curve_sghmc_gridsearch, marker=\"o\", markersize=15, \n",
    "         c='g', label=\"gridsearch\")\n",
    "plt.fill_between(list_time_budget, mean_ksd_curve_sghmc_gridsearch+2*sd_ksd_curve_sghmc_gridsearch, \n",
    "                 mean_ksd_curve_sghmc_gridsearch-2*sd_ksd_curve_sghmc_gridsearch, alpha=0.1, color='g')\n",
    "\n",
    "\n",
    "plt.title(\"SGHMC sampler\", size=23)\n",
    "plt.ylabel(\"KSD\", size=19)\n",
    "plt.xlabel(\"time budget (seconds)\", size=19)\n",
    "plt.legend(fontsize=16)\n",
    "# plt.savefig(\"images/sgld_ksd_curves_R1_R5_n90.png\")"
   ]
  },
  {
   "cell_type": "code",
   "execution_count": 18,
   "id": "bb726747",
   "metadata": {},
   "outputs": [
    {
     "data": {
      "text/plain": [
       "<matplotlib.legend.Legend at 0x7f87528d2c40>"
      ]
     },
     "execution_count": 18,
     "metadata": {},
     "output_type": "execute_result"
    },
    {
     "data": {
      "image/png": "[encoded data removed]",
      "text/plain": [
       "<Figure size 576x432 with 1 Axes>"
      ]
     },
     "metadata": {
      "needs_background": "light"
     },
     "output_type": "display_data"
    }
   ],
   "source": [
    "plt.rcParams.update({'font.size':17})\n",
    "\n",
    "max_time_budget = 8\n",
    "\n",
    "plt.figure(figsize=(8, 6))\n",
    "\n",
    "plt.plot(list_time_budget, mean_ksd_curve_sghmcCV_mamba, marker=\"+\", markersize=15, \n",
    "         c='r', label=\"MAMBA\")\n",
    "plt.fill_between(list_time_budget, mean_ksd_curve_sghmcCV_mamba+2*sd_ksd_curve_sghmcCV_mamba, \n",
    "                 mean_ksd_curve_sghmcCV_mamba-2*sd_ksd_curve_sghmcCV_mamba, alpha=0.1, color='r')\n",
    "\n",
    "plt.plot(list_time_budget, mean_ksd_curve_sghmcCV_gridsearch, marker=\"o\", markersize=15, \n",
    "         c='g', label=\"gridsearch\")\n",
    "plt.fill_between(list_time_budget, mean_ksd_curve_sghmcCV_gridsearch+2*sd_ksd_curve_sghmcCV_gridsearch, \n",
    "                 mean_ksd_curve_sghmcCV_gridsearch-2*sd_ksd_curve_sghmcCV_gridsearch, alpha=0.1, color='g')\n",
    "\n",
    "\n",
    "plt.title(\"SGHMCCV sampler\", size=23)\n",
    "plt.ylabel(\"KSD\", size=19)\n",
    "plt.xlabel(\"time budget (seconds)\", size=19)\n",
    "plt.legend(fontsize=16)\n",
    "# plt.savefig(\"images/sgld_ksd_curves_R1_R5_n90.png\")"
   ]
  },
  {
   "cell_type": "code",
   "execution_count": null,
   "id": "07cc2d39",
   "metadata": {},
   "outputs": [],
   "source": []
  },
  {
   "cell_type": "code",
   "execution_count": 19,
   "id": "4c41ed66",
   "metadata": {},
   "outputs": [
    {
     "data": {
      "text/plain": [
       "<matplotlib.legend.Legend at 0x7f87e0cb4d60>"
      ]
     },
     "execution_count": 19,
     "metadata": {},
     "output_type": "execute_result"
    },
    {
     "data": {
      "image/png": "[encoded data removed]",
      "text/plain": [
       "<Figure size 576x432 with 1 Axes>"
      ]
     },
     "metadata": {
      "needs_background": "light"
     },
     "output_type": "display_data"
    }
   ],
   "source": [
    "plt.rcParams.update({'font.size':17})\n",
    "\n",
    "max_time_budget = 8\n",
    "\n",
    "plt.figure(figsize=(8, 6))\n",
    "\n",
    "plt.plot(list_time_budget, mean_ksd_curve_sgnht_mamba, marker=\"+\", markersize=15, \n",
    "         c='r', label=\"MAMBA\")\n",
    "plt.fill_between(list_time_budget, mean_ksd_curve_sgnht_mamba+2*sd_ksd_curve_sgnht_mamba, \n",
    "                 mean_ksd_curve_sgnht_mamba-2*sd_ksd_curve_sgnht_mamba, alpha=0.1, color='r')\n",
    "\n",
    "plt.plot(list_time_budget, mean_ksd_curve_sgnht_gridsearch, marker=\"o\", markersize=15, \n",
    "         c='g', label=\"gridsearch\")\n",
    "plt.fill_between(list_time_budget, mean_ksd_curve_sgnht_gridsearch+2*sd_ksd_curve_sgnht_gridsearch, \n",
    "                 mean_ksd_curve_sgnht_gridsearch-2*sd_ksd_curve_sgnht_gridsearch, alpha=0.1, color='g')\n",
    "\n",
    "\n",
    "plt.title(\"SGNHT sampler\", size=23)\n",
    "plt.ylabel(\"KSD\", size=19)\n",
    "plt.xlabel(\"time budget (seconds)\", size=19)\n",
    "plt.legend(fontsize=16)\n",
    "# plt.savefig(\"images/sgld_ksd_curves_R1_R5_n90.png\")"
   ]
  },
  {
   "cell_type": "code",
   "execution_count": null,
   "id": "06c13af5",
   "metadata": {},
   "outputs": [],
   "source": []
  },
  {
   "cell_type": "code",
   "execution_count": 20,
   "id": "b9df8622",
   "metadata": {},
   "outputs": [
    {
     "data": {
      "text/plain": [
       "<matplotlib.legend.Legend at 0x7f87a7539b80>"
      ]
     },
     "execution_count": 20,
     "metadata": {},
     "output_type": "execute_result"
    },
    {
     "data": {
      "image/png": "[encoded data removed]",
      "text/plain": [
       "<Figure size 576x432 with 1 Axes>"
      ]
     },
     "metadata": {
      "needs_background": "light"
     },
     "output_type": "display_data"
    }
   ],
   "source": [
    "plt.rcParams.update({'font.size':17})\n",
    "\n",
    "max_time_budget = 8\n",
    "\n",
    "plt.figure(figsize=(8, 6))\n",
    "\n",
    "plt.plot(list_time_budget, mean_ksd_curve_sgnhtCV_mamba, marker=\"+\", markersize=15, \n",
    "         c='r', label=\"MAMBA\")\n",
    "plt.fill_between(list_time_budget, mean_ksd_curve_sgnhtCV_mamba+2*sd_ksd_curve_sgnhtCV_mamba, \n",
    "                 mean_ksd_curve_sgnhtCV_mamba-2*sd_ksd_curve_sgnhtCV_mamba, alpha=0.1, color='r')\n",
    "\n",
    "plt.plot(list_time_budget, mean_ksd_curve_sgnhtCV_gridsearch, marker=\"o\", markersize=15, \n",
    "         c='g', label=\"gridsearch\")\n",
    "plt.fill_between(list_time_budget, mean_ksd_curve_sgnhtCV_gridsearch+2*sd_ksd_curve_sgnhtCV_gridsearch, \n",
    "                 mean_ksd_curve_sgnhtCV_gridsearch-2*sd_ksd_curve_sgnhtCV_gridsearch, alpha=0.1, color='g')\n",
    "\n",
    "\n",
    "plt.title(\"SGNHT-CV sampler\", size=23)\n",
    "plt.ylabel(\"KSD\", size=19)\n",
    "plt.xlabel(\"time budget (seconds)\", size=19)\n",
    "plt.legend(fontsize=16)\n",
    "# plt.savefig(\"images/sgld_ksd_curves_R1_R5_n90.png\")"
   ]
  },
  {
   "cell_type": "code",
   "execution_count": null,
   "id": "41c7a049",
   "metadata": {},
   "outputs": [],
   "source": []
  },
  {
   "cell_type": "code",
   "execution_count": null,
   "id": "ee202042",
   "metadata": {},
   "outputs": [],
   "source": []
  }
 ],
 "metadata": {
  "kernelspec": {
   "display_name": "Python 3",
   "language": "python",
   "name": "python3"
  },
  "language_info": {
   "codemirror_mode": {
    "name": "ipython",
    "version": 3
   },
   "file_extension": ".py",
   "mimetype": "text/x-python",
   "name": "python",
   "nbconvert_exporter": "python",
   "pygments_lexer": "ipython3",
   "version": "3.8.2"
  }
 },
 "nbformat": 4,
 "nbformat_minor": 5
}
