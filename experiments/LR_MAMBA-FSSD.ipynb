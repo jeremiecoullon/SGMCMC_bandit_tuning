{
 "cells": [
  {
   "cell_type": "code",
   "execution_count": 1,
   "id": "906fd9ec",
   "metadata": {},
   "outputs": [
    {
     "name": "stderr",
     "output_type": "stream",
     "text": [
      "WARNING:absl:No GPU/TPU found, falling back to CPU. (Set TF_CPP_MIN_LOG_LEVEL=0 and rerun for more info.)\n"
     ]
    }
   ],
   "source": [
    "%matplotlib inline\n",
    "import matplotlib.pyplot as plt\n",
    "import numpy as np\n",
    "\n",
    "import jax.numpy as jnp\n",
    "from jax import jit, random, vmap\n",
    "\n",
    "from sgmcmcjax.kernels import build_sgld_kernel, build_sghmc_kernel, build_sgnht_kernel\n",
    "from sgmcmcjax.kernels import build_sgldCV_kernel, build_sghmcCV_kernel, build_sgnhtCV_kernel\n",
    "from sgmcmcjax.optimizer import build_adam_optimizer\n",
    "from sgmcmcjax.util import build_grad_log_post\n",
    "\n",
    "import context\n",
    "from models.logistic_regression.logistic_regression_model import gen_data, loglikelihood, logprior\n",
    "from tuning.mamba import run_MAMBA\n",
    "from tuning.ksd import FSSD_opt, imq_KSD, get_test_locations, linear_imq_KSD\n"
   ]
  },
  {
   "cell_type": "markdown",
   "id": "a01ea2b4",
   "metadata": {},
   "source": [
    "# Logistic regression - MAMBA"
   ]
  },
  {
   "cell_type": "code",
   "execution_count": 2,
   "id": "dd0b7388",
   "metadata": {},
   "outputs": [
    {
     "name": "stdout",
     "output_type": "stream",
     "text": [
      "generating data, with N=1,000,000 and dim=10\n",
      "(800000, 10) (200000, 10)\n"
     ]
    }
   ],
   "source": [
    "\n",
    "\n",
    "key = random.PRNGKey(42)\n",
    "dim = 10\n",
    "# Ndata = 100_000\n",
    "Ndata = 1_000_000\n",
    "\n",
    "theta_true, X, y_data = gen_data(key, dim, Ndata)\n",
    "\n",
    "# testing and training data\n",
    "num_train = int(Ndata*0.8)\n",
    "\n",
    "X_train = X[:num_train]\n",
    "X_test = X[num_train:]\n",
    "\n",
    "y_train = y_data[:num_train]\n",
    "y_test = y_data[num_train:]\n",
    "print(X_train.shape, X_test.shape)\n",
    "data = (X_train, y_train)\n"
   ]
  },
  {
   "cell_type": "code",
   "execution_count": 3,
   "id": "ad7130b3",
   "metadata": {},
   "outputs": [
    {
     "name": "stdout",
     "output_type": "stream",
     "text": [
      "[800000, 80000, 8000]\n"
     ]
    },
    {
     "data": {
      "application/vnd.jupyter.widget-view+json": {
       "model_id": "7014db14251a450398879694097a6dc0",
       "version_major": 2,
       "version_minor": 0
      },
      "text/plain": [
       "HBox(children=(HTML(value=''), FloatProgress(value=0.0, max=5000.0), HTML(value='')))"
      ]
     },
     "metadata": {},
     "output_type": "display_data"
    }
   ],
   "source": [
    "# get MAP\n",
    "batch_size = int(0.01*X_train.shape[0])\n",
    "run_adam = build_adam_optimizer(1e-2, loglikelihood, logprior, data, batch_size)\n",
    "key = random.PRNGKey(0)\n",
    "centering_value, logpost_array = run_adam(key, 5000, jnp.zeros(dim))\n",
    "params_IC = centering_value\n",
    "\n",
    "fixed_bs = int(0.1*X_train.shape[0])\n",
    "\n",
    "R = 1 # running time of longest sampler\n",
    "\n",
    "error_fn = lambda x,y: FSSD_opt(x, y, get_test_locations(x), 100)\n",
    "# error_fn = lambda x,y: imq_KSD(x, y)\n",
    "# error_fn = lambda x,y: linear_imq_KSD(x, y)\n",
    "\n",
    "logdt_range = -jnp.arange(1., 8., 0.5) \n",
    "# batch_size_range = [int(10**(-elem)*X_train.shape[0]) for elem in range(0, 5)]\n",
    "batch_size_range = [int(10**(-elem)*X_train.shape[0]) for elem in range(0, 3)]\n",
    "\n",
    "print(batch_size_range)"
   ]
  },
  {
   "cell_type": "code",
   "execution_count": 4,
   "id": "e1d39a1d",
   "metadata": {},
   "outputs": [],
   "source": [
    "grad_log_post_fb = build_grad_log_post(loglikelihood, logprior, data)\n",
    "\n",
    "def grad_lp_LR_fb(theta):\n",
    "    return grad_log_post_fb(theta, X_train, y_train)\n",
    "\n",
    "batch_grad_lp_LR_fb = jit(vmap(grad_lp_LR_fb))\n",
    "\n",
    "@jit\n",
    "def get_fb_grads(samples):\n",
    "    thin = 10\n",
    "    array_samples = jnp.array(samples[::thin])\n",
    "    mygrads = batch_grad_lp_LR_fb(array_samples)\n",
    "    return array_samples, mygrads"
   ]
  },
  {
   "cell_type": "code",
   "execution_count": null,
   "id": "f2359b89",
   "metadata": {},
   "outputs": [],
   "source": []
  },
  {
   "cell_type": "markdown",
   "id": "912e1f22",
   "metadata": {},
   "source": [
    "### run MAMBA"
   ]
  },
  {
   "cell_type": "code",
   "execution_count": 11,
   "id": "7ad12578",
   "metadata": {
    "collapsed": true
   },
   "outputs": [
    {
     "data": {
      "application/vnd.jupyter.widget-view+json": {
       "model_id": "f4639ce2de164a839e051af407194072",
       "version_major": 2,
       "version_minor": 0
      },
      "text/plain": [
       "HBox(children=(HTML(value='Iteration 1/3, 42 arms, time budget = 0.08 sec'), FloatProgress(value=0.0, max=42.0…"
      ]
     },
     "metadata": {},
     "output_type": "display_data"
    },
    {
     "name": "stdout",
     "output_type": "stream",
     "text": [
      "Hyperparams: {'batch_size': 800000, 'dt': 0.1}., sample shape=(1, 10). metric: inf\n",
      "Hyperparams: {'batch_size': 800000, 'dt': 0.031622775}., sample shape=(1, 10). metric: inf\n",
      "Hyperparams: {'batch_size': 800000, 'dt': 0.01}., sample shape=(1, 10). metric: inf\n",
      "Hyperparams: {'batch_size': 800000, 'dt': 0.0031622776}., sample shape=(1, 10). metric: inf\n",
      "Hyperparams: {'batch_size': 800000, 'dt': 0.001}., sample shape=(2, 10). metric: inf\n",
      "Hyperparams: {'batch_size': 800000, 'dt': 0.00031622776}., sample shape=(2, 10). metric: inf\n",
      "Hyperparams: {'batch_size': 800000, 'dt': 1e-04}., sample shape=(2, 10). metric: inf\n",
      "Hyperparams: {'batch_size': 800000, 'dt': 3.1622778e-05}., sample shape=(2, 10). metric: inf\n",
      "Hyperparams: {'batch_size': 800000, 'dt': 1e-05}., sample shape=(1, 10). metric: inf\n",
      "Hyperparams: {'batch_size': 800000, 'dt': 3.1622776e-06}., sample shape=(2, 10). metric: -87406\n",
      "Hyperparams: {'batch_size': 800000, 'dt': 1e-06}., sample shape=(1, 10). metric: inf\n",
      "Hyperparams: {'batch_size': 800000, 'dt': 3.1622776e-07}., sample shape=(1, 10). metric: inf\n",
      "Hyperparams: {'batch_size': 800000, 'dt': 1e-07}., sample shape=(1, 10). metric: inf\n",
      "Hyperparams: {'batch_size': 800000, 'dt': 3.1622776e-08}., sample shape=(1, 10). metric: inf\n",
      "Hyperparams: {'batch_size': 80000, 'dt': 0.1}., sample shape=(3, 10). metric: inf\n",
      "Hyperparams: {'batch_size': 80000, 'dt': 0.031622775}., sample shape=(3, 10). metric: inf\n",
      "Hyperparams: {'batch_size': 80000, 'dt': 0.01}., sample shape=(3, 10). metric: inf\n",
      "Hyperparams: {'batch_size': 80000, 'dt': 0.0031622776}., sample shape=(3, 10). metric: inf\n",
      "Hyperparams: {'batch_size': 80000, 'dt': 0.001}., sample shape=(3, 10). metric: inf\n",
      "Hyperparams: {'batch_size': 80000, 'dt': 0.00031622776}., sample shape=(3, 10). metric: inf\n",
      "Hyperparams: {'batch_size': 80000, 'dt': 1e-04}., sample shape=(3, 10). metric: inf\n",
      "Hyperparams: {'batch_size': 80000, 'dt': 3.1622778e-05}., sample shape=(3, 10). metric: inf\n",
      "Hyperparams: {'batch_size': 80000, 'dt': 1e-05}., sample shape=(3, 10). metric: -2019\n",
      "Hyperparams: {'batch_size': 80000, 'dt': 3.1622776e-06}., sample shape=(3, 10). metric: 161236\n",
      "Hyperparams: {'batch_size': 80000, 'dt': 1e-06}., sample shape=(3, 10). metric: 187646\n",
      "Hyperparams: {'batch_size': 80000, 'dt': 3.1622776e-07}., sample shape=(3, 10). metric: 552993\n",
      "Hyperparams: {'batch_size': 80000, 'dt': 1e-07}., sample shape=(3, 10). metric: 858390\n",
      "Hyperparams: {'batch_size': 80000, 'dt': 3.1622776e-08}., sample shape=(3, 10). metric: 1033821\n",
      "Hyperparams: {'batch_size': 8000, 'dt': 0.1}., sample shape=(17, 10). metric: 314\n",
      "Hyperparams: {'batch_size': 8000, 'dt': 0.031622775}., sample shape=(17, 10). metric: 177\n",
      "Hyperparams: {'batch_size': 8000, 'dt': 0.01}., sample shape=(17, 10). metric: 6777\n",
      "Hyperparams: {'batch_size': 8000, 'dt': 0.0031622776}., sample shape=(17, 10). metric: 163183\n",
      "Hyperparams: {'batch_size': 8000, 'dt': 0.001}., sample shape=(17, 10). metric: 732560\n",
      "Hyperparams: {'batch_size': 8000, 'dt': 0.00031622776}., sample shape=(16, 10). metric: 14371137\n",
      "Hyperparams: {'batch_size': 8000, 'dt': 1e-04}., sample shape=(16, 10). metric: 48039592\n",
      "Hyperparams: {'batch_size': 8000, 'dt': 3.1622778e-05}., sample shape=(15, 10). metric: 15229699\n",
      "Hyperparams: {'batch_size': 8000, 'dt': 1e-05}., sample shape=(16, 10). metric: 191438\n",
      "Hyperparams: {'batch_size': 8000, 'dt': 3.1622776e-06}., sample shape=(16, 10). metric: 77870\n",
      "Hyperparams: {'batch_size': 8000, 'dt': 1e-06}., sample shape=(16, 10). metric: 81733\n",
      "Hyperparams: {'batch_size': 8000, 'dt': 3.1622776e-07}., sample shape=(17, 10). metric: 134129\n",
      "Hyperparams: {'batch_size': 8000, 'dt': 1e-07}., sample shape=(17, 10). metric: 398268\n",
      "Hyperparams: {'batch_size': 8000, 'dt': 3.1622776e-08}., sample shape=(17, 10). metric: 733465\n",
      "\n",
      "Number of samples: [2, 3, 17, 17, 17, 16, 16, 17, 3, 17, 3, 16, 17, 3]\n"
     ]
    },
    {
     "data": {
      "application/vnd.jupyter.widget-view+json": {
       "model_id": "56f9316996af46578472e987cafd48f0",
       "version_major": 2,
       "version_minor": 0
      },
      "text/plain": [
       "HBox(children=(HTML(value='Iteration 2/3, 14 arms, time budget = 0.23 sec'), FloatProgress(value=0.0, max=14.0…"
      ]
     },
     "metadata": {},
     "output_type": "display_data"
    },
    {
     "name": "stdout",
     "output_type": "stream",
     "text": [
      "Hyperparams: {'batch_size': 800000, 'dt': 3.1622776e-06}., sample shape=(5, 10). metric: 16659\n",
      "Hyperparams: {'batch_size': 80000, 'dt': 1e-05}., sample shape=(13, 10). metric: 6891\n",
      "Hyperparams: {'batch_size': 8000, 'dt': 0.031622775}., sample shape=(68, 10). metric: 2241\n",
      "Hyperparams: {'batch_size': 8000, 'dt': 0.1}., sample shape=(66, 10). metric: 376\n",
      "Hyperparams: {'batch_size': 8000, 'dt': 0.01}., sample shape=(60, 10). metric: 23369\n",
      "Hyperparams: {'batch_size': 8000, 'dt': 3.1622776e-06}., sample shape=(64, 10). metric: 295\n",
      "Hyperparams: {'batch_size': 8000, 'dt': 1e-06}., sample shape=(62, 10). metric: 10421\n",
      "Hyperparams: {'batch_size': 8000, 'dt': 3.1622776e-07}., sample shape=(66, 10). metric: 20598\n",
      "Hyperparams: {'batch_size': 80000, 'dt': 3.1622776e-06}., sample shape=(13, 10). metric: 1482\n",
      "Hyperparams: {'batch_size': 8000, 'dt': 0.0031622776}., sample shape=(64, 10). metric: 210919\n",
      "Hyperparams: {'batch_size': 80000, 'dt': 1e-06}., sample shape=(11, 10). metric: 12621\n",
      "Hyperparams: {'batch_size': 8000, 'dt': 1e-05}., sample shape=(65, 10). metric: -4667\n",
      "Hyperparams: {'batch_size': 8000, 'dt': 1e-07}., sample shape=(68, 10). metric: 33988\n",
      "Hyperparams: {'batch_size': 80000, 'dt': 3.1622776e-07}., sample shape=(12, 10). metric: 69293\n",
      "\n",
      "Number of samples: [65, 64, 66, 13]\n"
     ]
    },
    {
     "data": {
      "application/vnd.jupyter.widget-view+json": {
       "model_id": "5dda856faf5b4f81a745f715777a6b33",
       "version_major": 2,
       "version_minor": 0
      },
      "text/plain": [
       "HBox(children=(HTML(value='Iteration 3/3, 4 arms, time budget = 0.81 sec'), FloatProgress(value=0.0, max=4.0),…"
      ]
     },
     "metadata": {},
     "output_type": "display_data"
    },
    {
     "name": "stdout",
     "output_type": "stream",
     "text": [
      "Hyperparams: {'batch_size': 8000, 'dt': 1e-05}., sample shape=(237, 10). metric: 438\n",
      "Hyperparams: {'batch_size': 8000, 'dt': 3.1622776e-06}., sample shape=(229, 10). metric: 366\n",
      "Hyperparams: {'batch_size': 8000, 'dt': 0.1}., sample shape=(231, 10). metric: 398\n",
      "Hyperparams: {'batch_size': 80000, 'dt': 3.1622776e-06}., sample shape=(41, 10). metric: 567\n",
      "\n",
      "Number of samples: [229]\n",
      "Running time: 78.3 sec\n",
      "{'batch_size': 8000, 'dt': 3.1622776e-06} 365.65576 (229, 10)\n"
     ]
    }
   ],
   "source": [
    "# diag sds, another run\n",
    "build_kernel = lambda dt, batch_size: build_sgld_kernel(dt, loglikelihood, logprior, data, batch_size)\n",
    "\n",
    "grid_params = {'log_dt': logdt_range, \n",
    "               'batch_size': batch_size_range\n",
    "              }\n",
    "\n",
    "best_arm = run_MAMBA(key, build_kernel, error_fn, R, params_IC, grid_params=grid_params, get_fb_grads=get_fb_grads)\n",
    "\n",
    "print(best_arm.hyperparameters, best_arm.metric, best_arm.samples.shape)"
   ]
  },
  {
   "cell_type": "code",
   "execution_count": 6,
   "id": "bacbc413",
   "metadata": {
    "collapsed": true
   },
   "outputs": [
    {
     "data": {
      "application/vnd.jupyter.widget-view+json": {
       "model_id": "42b1cdc887c74463b96f7f81c3cfb71f",
       "version_major": 2,
       "version_minor": 0
      },
      "text/plain": [
       "HBox(children=(HTML(value='Iteration 1/3, 42 arms, time budget = 0.08 sec'), FloatProgress(value=0.0, max=42.0…"
      ]
     },
     "metadata": {},
     "output_type": "display_data"
    },
    {
     "name": "stdout",
     "output_type": "stream",
     "text": [
      "Hyperparams: {'batch_size': 800000, 'dt': 0.1}., sample shape=(1, 10). metric: inf\n",
      "Hyperparams: {'batch_size': 800000, 'dt': 0.031622775}., sample shape=(1, 10). metric: inf\n",
      "Hyperparams: {'batch_size': 800000, 'dt': 0.01}., sample shape=(1, 10). metric: inf\n",
      "Hyperparams: {'batch_size': 800000, 'dt': 0.0031622776}., sample shape=(1, 10). metric: inf\n",
      "Hyperparams: {'batch_size': 800000, 'dt': 0.001}., sample shape=(1, 10). metric: inf\n",
      "Hyperparams: {'batch_size': 800000, 'dt': 0.00031622776}., sample shape=(1, 10). metric: inf\n",
      "Hyperparams: {'batch_size': 800000, 'dt': 1e-04}., sample shape=(1, 10). metric: inf\n",
      "Hyperparams: {'batch_size': 800000, 'dt': 3.1622778e-05}., sample shape=(1, 10). metric: inf\n",
      "Hyperparams: {'batch_size': 800000, 'dt': 1e-05}., sample shape=(1, 10). metric: inf\n",
      "Hyperparams: {'batch_size': 800000, 'dt': 3.1622776e-06}., sample shape=(1, 10). metric: inf\n",
      "Hyperparams: {'batch_size': 800000, 'dt': 1e-06}., sample shape=(1, 10). metric: inf\n",
      "Hyperparams: {'batch_size': 800000, 'dt': 3.1622776e-07}., sample shape=(1, 10). metric: inf\n",
      "Hyperparams: {'batch_size': 800000, 'dt': 1e-07}., sample shape=(1, 10). metric: inf\n",
      "Hyperparams: {'batch_size': 800000, 'dt': 3.1622776e-08}., sample shape=(1, 10). metric: inf\n",
      "Hyperparams: {'batch_size': 80000, 'dt': 0.1}., sample shape=(3, 10). metric: inf\n",
      "Hyperparams: {'batch_size': 80000, 'dt': 0.031622775}., sample shape=(3, 10). metric: inf\n",
      "Hyperparams: {'batch_size': 80000, 'dt': 0.01}., sample shape=(3, 10). metric: inf\n",
      "Hyperparams: {'batch_size': 80000, 'dt': 0.0031622776}., sample shape=(2, 10). metric: inf\n",
      "Hyperparams: {'batch_size': 80000, 'dt': 0.001}., sample shape=(3, 10). metric: inf\n",
      "Hyperparams: {'batch_size': 80000, 'dt': 0.00031622776}., sample shape=(3, 10). metric: inf\n",
      "Hyperparams: {'batch_size': 80000, 'dt': 1e-04}., sample shape=(3, 10). metric: inf\n",
      "Hyperparams: {'batch_size': 80000, 'dt': 3.1622778e-05}., sample shape=(3, 10). metric: inf\n",
      "Hyperparams: {'batch_size': 80000, 'dt': 1e-05}., sample shape=(2, 10). metric: -18061\n",
      "Hyperparams: {'batch_size': 80000, 'dt': 3.1622776e-06}., sample shape=(2, 10). metric: 38010\n",
      "Hyperparams: {'batch_size': 80000, 'dt': 1e-06}., sample shape=(2, 10). metric: 331323\n",
      "Hyperparams: {'batch_size': 80000, 'dt': 3.1622776e-07}., sample shape=(2, 10). metric: 698160\n",
      "Hyperparams: {'batch_size': 80000, 'dt': 1e-07}., sample shape=(2, 10). metric: 904655\n",
      "Hyperparams: {'batch_size': 80000, 'dt': 3.1622776e-08}., sample shape=(3, 10). metric: 1032033\n",
      "Hyperparams: {'batch_size': 8000, 'dt': 0.1}., sample shape=(13, 10). metric: 129\n",
      "Hyperparams: {'batch_size': 8000, 'dt': 0.031622775}., sample shape=(12, 10). metric: 710\n",
      "Hyperparams: {'batch_size': 8000, 'dt': 0.01}., sample shape=(10, 10). metric: inf\n",
      "Hyperparams: {'batch_size': 8000, 'dt': 0.0031622776}., sample shape=(15, 10). metric: 420158\n",
      "Hyperparams: {'batch_size': 8000, 'dt': 0.001}., sample shape=(12, 10). metric: 539969\n",
      "Hyperparams: {'batch_size': 8000, 'dt': 0.00031622776}., sample shape=(12, 10). metric: 10158388\n",
      "Hyperparams: {'batch_size': 8000, 'dt': 1e-04}., sample shape=(14, 10). metric: 123633208\n",
      "Hyperparams: {'batch_size': 8000, 'dt': 3.1622778e-05}., sample shape=(15, 10). metric: 104113856\n",
      "Hyperparams: {'batch_size': 8000, 'dt': 1e-05}., sample shape=(9, 10). metric: -1987\n",
      "Hyperparams: {'batch_size': 8000, 'dt': 3.1622776e-06}., sample shape=(8, 10). metric: 18756\n",
      "Hyperparams: {'batch_size': 8000, 'dt': 1e-06}., sample shape=(7, 10). metric: 78470\n",
      "Hyperparams: {'batch_size': 8000, 'dt': 3.1622776e-07}., sample shape=(11, 10). metric: 218503\n",
      "Hyperparams: {'batch_size': 8000, 'dt': 1e-07}., sample shape=(13, 10). metric: 511885\n",
      "Hyperparams: {'batch_size': 8000, 'dt': 3.1622776e-08}., sample shape=(14, 10). metric: 752029\n",
      "\n",
      "Number of samples: [2, 9, 13, 12, 8, 2, 7, 11, 2, 15, 13, 12, 2, 14]\n"
     ]
    },
    {
     "data": {
      "application/vnd.jupyter.widget-view+json": {
       "model_id": "da92044e308648188a402cbac722c3c6",
       "version_major": 2,
       "version_minor": 0
      },
      "text/plain": [
       "HBox(children=(HTML(value='Iteration 2/3, 14 arms, time budget = 0.23 sec'), FloatProgress(value=0.0, max=14.0…"
      ]
     },
     "metadata": {},
     "output_type": "display_data"
    },
    {
     "name": "stdout",
     "output_type": "stream",
     "text": [
      "Hyperparams: {'batch_size': 80000, 'dt': 1e-05}., sample shape=(9, 10). metric: 2520\n",
      "Hyperparams: {'batch_size': 8000, 'dt': 1e-05}., sample shape=(40, 10). metric: -641\n",
      "Hyperparams: {'batch_size': 8000, 'dt': 0.1}., sample shape=(42, 10). metric: 683\n",
      "Hyperparams: {'batch_size': 8000, 'dt': 0.031622775}., sample shape=(37, 10). metric: 5603\n",
      "Hyperparams: {'batch_size': 8000, 'dt': 3.1622776e-06}., sample shape=(35, 10). metric: 408\n",
      "Hyperparams: {'batch_size': 80000, 'dt': 3.1622776e-06}., sample shape=(8, 10). metric: 2279\n",
      "Hyperparams: {'batch_size': 8000, 'dt': 1e-06}., sample shape=(39, 10). metric: 3235\n",
      "Hyperparams: {'batch_size': 8000, 'dt': 3.1622776e-07}., sample shape=(44, 10). metric: 24862\n",
      "Hyperparams: {'batch_size': 80000, 'dt': 1e-06}., sample shape=(8, 10). metric: 12597\n",
      "Hyperparams: {'batch_size': 8000, 'dt': 0.0031622776}., sample shape=(42, 10). metric: 480276\n",
      "Hyperparams: {'batch_size': 8000, 'dt': 1e-07}., sample shape=(52, 10). metric: 46754\n",
      "Hyperparams: {'batch_size': 8000, 'dt': 0.001}., sample shape=(48, 10). metric: 4192276\n",
      "Hyperparams: {'batch_size': 80000, 'dt': 3.1622776e-07}., sample shape=(9, 10). metric: 120651\n",
      "Hyperparams: {'batch_size': 8000, 'dt': 3.1622776e-08}., sample shape=(55, 10). metric: 297663\n",
      "\n",
      "Number of samples: [40, 35, 42, 8]\n"
     ]
    },
    {
     "data": {
      "application/vnd.jupyter.widget-view+json": {
       "model_id": "5700e4f3d95742efb05a27977206daa8",
       "version_major": 2,
       "version_minor": 0
      },
      "text/plain": [
       "HBox(children=(HTML(value='Iteration 3/3, 4 arms, time budget = 0.81 sec'), FloatProgress(value=0.0, max=4.0),…"
      ]
     },
     "metadata": {},
     "output_type": "display_data"
    },
    {
     "name": "stdout",
     "output_type": "stream",
     "text": [
      "Hyperparams: {'batch_size': 8000, 'dt': 1e-05}., sample shape=(178, 10). metric: -160\n",
      "Hyperparams: {'batch_size': 8000, 'dt': 3.1622776e-06}., sample shape=(178, 10). metric: 289\n",
      "Hyperparams: {'batch_size': 8000, 'dt': 0.1}., sample shape=(191, 10). metric: 684\n",
      "Hyperparams: {'batch_size': 80000, 'dt': 3.1622776e-06}., sample shape=(32, 10). metric: -78\n",
      "\n",
      "Number of samples: [178]\n",
      "Running time: 114.3 sec\n",
      "{'batch_size': 8000, 'dt': 1e-05} -160.46092 (178, 10)\n"
     ]
    }
   ],
   "source": [
    "build_kernel = lambda dt, batch_size: build_sgldCV_kernel(dt, loglikelihood, \n",
    "                                                  logprior, data, batch_size, centering_value)\n",
    "\n",
    "best_arm = run_MAMBA(key, build_kernel, error_fn, R, params_IC, \n",
    "                     grid_params=grid_params, get_fb_grads=get_fb_grads)\n",
    "\n",
    "print(best_arm.hyperparameters, best_arm.metric, best_arm.samples.shape)"
   ]
  },
  {
   "cell_type": "code",
   "execution_count": 7,
   "id": "6c0a862d",
   "metadata": {
    "collapsed": true
   },
   "outputs": [
    {
     "data": {
      "application/vnd.jupyter.widget-view+json": {
       "model_id": "d757e6cbd86847ed8ae806d2fe024208",
       "version_major": 2,
       "version_minor": 0
      },
      "text/plain": [
       "HBox(children=(HTML(value='Iteration 1/4, 84 arms, time budget = 0.03 sec'), FloatProgress(value=0.0, max=84.0…"
      ]
     },
     "metadata": {},
     "output_type": "display_data"
    },
    {
     "name": "stdout",
     "output_type": "stream",
     "text": [
      "Hyperparams: {'batch_size': 800000, 'L': 5, 'dt': 0.1}., sample shape=(1, 10). metric: inf\n",
      "Hyperparams: {'batch_size': 800000, 'L': 5, 'dt': 0.031622775}., sample shape=(1, 10). metric: inf\n",
      "Hyperparams: {'batch_size': 800000, 'L': 5, 'dt': 0.01}., sample shape=(1, 10). metric: inf\n",
      "Hyperparams: {'batch_size': 800000, 'L': 5, 'dt': 0.0031622776}., sample shape=(1, 10). metric: inf\n",
      "Hyperparams: {'batch_size': 800000, 'L': 5, 'dt': 0.001}., sample shape=(1, 10). metric: inf\n",
      "Hyperparams: {'batch_size': 800000, 'L': 5, 'dt': 0.00031622776}., sample shape=(1, 10). metric: inf\n",
      "Hyperparams: {'batch_size': 800000, 'L': 5, 'dt': 1e-04}., sample shape=(1, 10). metric: inf\n",
      "Hyperparams: {'batch_size': 800000, 'L': 5, 'dt': 3.1622778e-05}., sample shape=(1, 10). metric: inf\n",
      "Hyperparams: {'batch_size': 800000, 'L': 5, 'dt': 1e-05}., sample shape=(1, 10). metric: inf\n",
      "Hyperparams: {'batch_size': 800000, 'L': 5, 'dt': 3.1622776e-06}., sample shape=(1, 10). metric: inf\n",
      "Hyperparams: {'batch_size': 800000, 'L': 5, 'dt': 1e-06}., sample shape=(1, 10). metric: inf\n",
      "Hyperparams: {'batch_size': 800000, 'L': 5, 'dt': 3.1622776e-07}., sample shape=(1, 10). metric: inf\n",
      "Hyperparams: {'batch_size': 800000, 'L': 5, 'dt': 1e-07}., sample shape=(1, 10). metric: inf\n",
      "Hyperparams: {'batch_size': 800000, 'L': 5, 'dt': 3.1622776e-08}., sample shape=(1, 10). metric: inf\n",
      "Hyperparams: {'batch_size': 800000, 'L': 10, 'dt': 0.1}., sample shape=(1, 10). metric: inf\n",
      "Hyperparams: {'batch_size': 800000, 'L': 10, 'dt': 0.031622775}., sample shape=(1, 10). metric: inf\n",
      "Hyperparams: {'batch_size': 800000, 'L': 10, 'dt': 0.01}., sample shape=(1, 10). metric: inf\n",
      "Hyperparams: {'batch_size': 800000, 'L': 10, 'dt': 0.0031622776}., sample shape=(1, 10). metric: inf\n",
      "Hyperparams: {'batch_size': 800000, 'L': 10, 'dt': 0.001}., sample shape=(1, 10). metric: inf\n",
      "Hyperparams: {'batch_size': 800000, 'L': 10, 'dt': 0.00031622776}., sample shape=(1, 10). metric: inf\n",
      "Hyperparams: {'batch_size': 800000, 'L': 10, 'dt': 1e-04}., sample shape=(1, 10). metric: inf\n",
      "Hyperparams: {'batch_size': 800000, 'L': 10, 'dt': 3.1622778e-05}., sample shape=(1, 10). metric: inf\n",
      "Hyperparams: {'batch_size': 800000, 'L': 10, 'dt': 1e-05}., sample shape=(1, 10). metric: inf\n",
      "Hyperparams: {'batch_size': 800000, 'L': 10, 'dt': 3.1622776e-06}., sample shape=(1, 10). metric: inf\n",
      "Hyperparams: {'batch_size': 800000, 'L': 10, 'dt': 1e-06}., sample shape=(1, 10). metric: inf\n",
      "Hyperparams: {'batch_size': 800000, 'L': 10, 'dt': 3.1622776e-07}., sample shape=(1, 10). metric: inf\n",
      "Hyperparams: {'batch_size': 800000, 'L': 10, 'dt': 1e-07}., sample shape=(1, 10). metric: inf\n",
      "Hyperparams: {'batch_size': 800000, 'L': 10, 'dt': 3.1622776e-08}., sample shape=(1, 10). metric: inf\n",
      "Hyperparams: {'batch_size': 80000, 'L': 5, 'dt': 0.1}., sample shape=(1, 10). metric: inf\n",
      "Hyperparams: {'batch_size': 80000, 'L': 5, 'dt': 0.031622775}., sample shape=(1, 10). metric: inf\n",
      "Hyperparams: {'batch_size': 80000, 'L': 5, 'dt': 0.01}., sample shape=(1, 10). metric: inf\n",
      "Hyperparams: {'batch_size': 80000, 'L': 5, 'dt': 0.0031622776}., sample shape=(1, 10). metric: inf\n",
      "Hyperparams: {'batch_size': 80000, 'L': 5, 'dt': 0.001}., sample shape=(1, 10). metric: inf\n",
      "Hyperparams: {'batch_size': 80000, 'L': 5, 'dt': 0.00031622776}., sample shape=(1, 10). metric: inf\n",
      "Hyperparams: {'batch_size': 80000, 'L': 5, 'dt': 1e-04}., sample shape=(1, 10). metric: inf\n",
      "Hyperparams: {'batch_size': 80000, 'L': 5, 'dt': 3.1622778e-05}., sample shape=(1, 10). metric: inf\n",
      "Hyperparams: {'batch_size': 80000, 'L': 5, 'dt': 1e-05}., sample shape=(1, 10). metric: inf\n",
      "Hyperparams: {'batch_size': 80000, 'L': 5, 'dt': 3.1622776e-06}., sample shape=(1, 10). metric: inf\n",
      "Hyperparams: {'batch_size': 80000, 'L': 5, 'dt': 1e-06}., sample shape=(1, 10). metric: inf\n",
      "Hyperparams: {'batch_size': 80000, 'L': 5, 'dt': 3.1622776e-07}., sample shape=(1, 10). metric: inf\n",
      "Hyperparams: {'batch_size': 80000, 'L': 5, 'dt': 1e-07}., sample shape=(1, 10). metric: inf\n",
      "Hyperparams: {'batch_size': 80000, 'L': 5, 'dt': 3.1622776e-08}., sample shape=(1, 10). metric: inf\n",
      "Hyperparams: {'batch_size': 80000, 'L': 10, 'dt': 0.1}., sample shape=(1, 10). metric: inf\n",
      "Hyperparams: {'batch_size': 80000, 'L': 10, 'dt': 0.031622775}., sample shape=(1, 10). metric: inf\n",
      "Hyperparams: {'batch_size': 80000, 'L': 10, 'dt': 0.01}., sample shape=(1, 10). metric: inf\n",
      "Hyperparams: {'batch_size': 80000, 'L': 10, 'dt': 0.0031622776}., sample shape=(1, 10). metric: inf\n",
      "Hyperparams: {'batch_size': 80000, 'L': 10, 'dt': 0.001}., sample shape=(1, 10). metric: inf\n",
      "Hyperparams: {'batch_size': 80000, 'L': 10, 'dt': 0.00031622776}., sample shape=(1, 10). metric: inf\n",
      "Hyperparams: {'batch_size': 80000, 'L': 10, 'dt': 1e-04}., sample shape=(1, 10). metric: inf\n",
      "Hyperparams: {'batch_size': 80000, 'L': 10, 'dt': 3.1622778e-05}., sample shape=(1, 10). metric: inf\n",
      "Hyperparams: {'batch_size': 80000, 'L': 10, 'dt': 1e-05}., sample shape=(1, 10). metric: inf\n",
      "Hyperparams: {'batch_size': 80000, 'L': 10, 'dt': 3.1622776e-06}., sample shape=(1, 10). metric: inf\n",
      "Hyperparams: {'batch_size': 80000, 'L': 10, 'dt': 1e-06}., sample shape=(1, 10). metric: inf\n",
      "Hyperparams: {'batch_size': 80000, 'L': 10, 'dt': 3.1622776e-07}., sample shape=(1, 10). metric: inf\n",
      "Hyperparams: {'batch_size': 80000, 'L': 10, 'dt': 1e-07}., sample shape=(1, 10). metric: inf\n",
      "Hyperparams: {'batch_size': 80000, 'L': 10, 'dt': 3.1622776e-08}., sample shape=(1, 10). metric: inf\n",
      "Hyperparams: {'batch_size': 8000, 'L': 5, 'dt': 0.1}., sample shape=(1, 10). metric: inf\n",
      "Hyperparams: {'batch_size': 8000, 'L': 5, 'dt': 0.031622775}., sample shape=(2, 10). metric: inf\n",
      "Hyperparams: {'batch_size': 8000, 'L': 5, 'dt': 0.01}., sample shape=(2, 10). metric: inf\n",
      "Hyperparams: {'batch_size': 8000, 'L': 5, 'dt': 0.0031622776}., sample shape=(2, 10). metric: inf\n",
      "Hyperparams: {'batch_size': 8000, 'L': 5, 'dt': 0.001}., sample shape=(2, 10). metric: inf\n",
      "Hyperparams: {'batch_size': 8000, 'L': 5, 'dt': 0.00031622776}., sample shape=(2, 10). metric: inf\n",
      "Hyperparams: {'batch_size': 8000, 'L': 5, 'dt': 1e-04}., sample shape=(2, 10). metric: inf\n",
      "Hyperparams: {'batch_size': 8000, 'L': 5, 'dt': 3.1622778e-05}., sample shape=(2, 10). metric: inf\n",
      "Hyperparams: {'batch_size': 8000, 'L': 5, 'dt': 1e-05}., sample shape=(1, 10). metric: inf\n",
      "Hyperparams: {'batch_size': 8000, 'L': 5, 'dt': 3.1622776e-06}., sample shape=(2, 10). metric: inf\n",
      "Hyperparams: {'batch_size': 8000, 'L': 5, 'dt': 1e-06}., sample shape=(2, 10). metric: 202661\n",
      "Hyperparams: {'batch_size': 8000, 'L': 5, 'dt': 3.1622776e-07}., sample shape=(1, 10). metric: inf\n",
      "Hyperparams: {'batch_size': 8000, 'L': 5, 'dt': 1e-07}., sample shape=(1, 10). metric: inf\n",
      "Hyperparams: {'batch_size': 8000, 'L': 5, 'dt': 3.1622776e-08}., sample shape=(2, 10). metric: 916548\n",
      "Hyperparams: {'batch_size': 8000, 'L': 10, 'dt': 0.1}., sample shape=(1, 10). metric: inf\n",
      "Hyperparams: {'batch_size': 8000, 'L': 10, 'dt': 0.031622775}., sample shape=(1, 10). metric: inf\n",
      "Hyperparams: {'batch_size': 8000, 'L': 10, 'dt': 0.01}., sample shape=(1, 10). metric: inf\n",
      "Hyperparams: {'batch_size': 8000, 'L': 10, 'dt': 0.0031622776}., sample shape=(1, 10). metric: inf\n",
      "Hyperparams: {'batch_size': 8000, 'L': 10, 'dt': 0.001}., sample shape=(1, 10). metric: inf\n",
      "Hyperparams: {'batch_size': 8000, 'L': 10, 'dt': 0.00031622776}., sample shape=(1, 10). metric: inf\n",
      "Hyperparams: {'batch_size': 8000, 'L': 10, 'dt': 1e-04}., sample shape=(1, 10). metric: inf\n",
      "Hyperparams: {'batch_size': 8000, 'L': 10, 'dt': 3.1622778e-05}., sample shape=(1, 10). metric: inf\n",
      "Hyperparams: {'batch_size': 8000, 'L': 10, 'dt': 1e-05}., sample shape=(1, 10). metric: inf\n",
      "Hyperparams: {'batch_size': 8000, 'L': 10, 'dt': 3.1622776e-06}., sample shape=(1, 10). metric: inf\n",
      "Hyperparams: {'batch_size': 8000, 'L': 10, 'dt': 1e-06}., sample shape=(1, 10). metric: inf\n",
      "Hyperparams: {'batch_size': 8000, 'L': 10, 'dt': 3.1622776e-07}., sample shape=(1, 10). metric: inf\n",
      "Hyperparams: {'batch_size': 8000, 'L': 10, 'dt': 1e-07}., sample shape=(1, 10). metric: inf\n",
      "Hyperparams: {'batch_size': 8000, 'L': 10, 'dt': 3.1622776e-08}., sample shape=(1, 10). metric: inf\n",
      "\n",
      "Number of samples: [2, 2, 1, 1, 1, 1, 1, 1, 1, 1, 1, 1, 1, 1, 1, 1, 1, 1, 1, 1, 1, 1, 1, 1, 1, 1, 1, 1]\n"
     ]
    },
    {
     "data": {
      "application/vnd.jupyter.widget-view+json": {
       "model_id": "81cae05acd254915a30546f4475685ca",
       "version_major": 2,
       "version_minor": 0
      },
      "text/plain": [
       "HBox(children=(HTML(value='Iteration 2/4, 28 arms, time budget = 0.07 sec'), FloatProgress(value=0.0, max=28.0…"
      ]
     },
     "metadata": {},
     "output_type": "display_data"
    },
    {
     "name": "stdout",
     "output_type": "stream",
     "text": [
      "Hyperparams: {'batch_size': 8000, 'L': 5, 'dt': 1e-06}., sample shape=(6, 10). metric: -50459\n",
      "Hyperparams: {'batch_size': 8000, 'L': 5, 'dt': 3.1622776e-08}., sample shape=(4, 10). metric: 570797\n",
      "Hyperparams: {'batch_size': 800000, 'L': 5, 'dt': 0.1}., sample shape=(2, 10). metric: inf\n",
      "Hyperparams: {'batch_size': 800000, 'L': 5, 'dt': 0.031622775}., sample shape=(2, 10). metric: inf\n",
      "Hyperparams: {'batch_size': 800000, 'L': 5, 'dt': 0.01}., sample shape=(2, 10). metric: inf\n",
      "Hyperparams: {'batch_size': 800000, 'L': 5, 'dt': 0.0031622776}., sample shape=(2, 10). metric: inf\n",
      "Hyperparams: {'batch_size': 800000, 'L': 5, 'dt': 0.001}., sample shape=(2, 10). metric: inf\n",
      "Hyperparams: {'batch_size': 800000, 'L': 5, 'dt': 0.00031622776}., sample shape=(2, 10). metric: inf\n",
      "Hyperparams: {'batch_size': 800000, 'L': 5, 'dt': 1e-04}., sample shape=(2, 10). metric: inf\n",
      "Hyperparams: {'batch_size': 800000, 'L': 5, 'dt': 3.1622778e-05}., sample shape=(2, 10). metric: inf\n",
      "Hyperparams: {'batch_size': 800000, 'L': 5, 'dt': 1e-05}., sample shape=(2, 10). metric: inf\n",
      "Hyperparams: {'batch_size': 800000, 'L': 5, 'dt': 3.1622776e-06}., sample shape=(2, 10). metric: inf\n",
      "Hyperparams: {'batch_size': 800000, 'L': 5, 'dt': 1e-06}., sample shape=(2, 10). metric: inf\n",
      "Hyperparams: {'batch_size': 800000, 'L': 5, 'dt': 3.1622776e-07}., sample shape=(2, 10). metric: inf\n",
      "Hyperparams: {'batch_size': 800000, 'L': 5, 'dt': 1e-07}., sample shape=(2, 10). metric: inf\n",
      "Hyperparams: {'batch_size': 800000, 'L': 5, 'dt': 3.1622776e-08}., sample shape=(2, 10). metric: inf\n",
      "Hyperparams: {'batch_size': 800000, 'L': 10, 'dt': 0.1}., sample shape=(2, 10). metric: inf\n",
      "Hyperparams: {'batch_size': 800000, 'L': 10, 'dt': 0.031622775}., sample shape=(2, 10). metric: inf\n",
      "Hyperparams: {'batch_size': 800000, 'L': 10, 'dt': 0.01}., sample shape=(2, 10). metric: inf\n",
      "Hyperparams: {'batch_size': 800000, 'L': 10, 'dt': 0.0031622776}., sample shape=(2, 10). metric: inf\n",
      "Hyperparams: {'batch_size': 800000, 'L': 10, 'dt': 0.001}., sample shape=(2, 10). metric: inf\n",
      "Hyperparams: {'batch_size': 800000, 'L': 10, 'dt': 0.00031622776}., sample shape=(2, 10). metric: inf\n",
      "Hyperparams: {'batch_size': 800000, 'L': 10, 'dt': 1e-04}., sample shape=(2, 10). metric: inf\n",
      "Hyperparams: {'batch_size': 800000, 'L': 10, 'dt': 3.1622778e-05}., sample shape=(2, 10). metric: inf\n",
      "Hyperparams: {'batch_size': 800000, 'L': 10, 'dt': 1e-05}., sample shape=(2, 10). metric: inf\n",
      "Hyperparams: {'batch_size': 800000, 'L': 10, 'dt': 3.1622776e-06}., sample shape=(2, 10). metric: inf\n",
      "Hyperparams: {'batch_size': 800000, 'L': 10, 'dt': 1e-06}., sample shape=(2, 10). metric: inf\n",
      "Hyperparams: {'batch_size': 800000, 'L': 10, 'dt': 3.1622776e-07}., sample shape=(2, 10). metric: inf\n",
      "\n",
      "Number of samples: [6, 4, 2, 2, 2, 2, 2, 2, 2]\n"
     ]
    },
    {
     "data": {
      "application/vnd.jupyter.widget-view+json": {
       "model_id": "5c194c5b465c47c2aca888ef73a729f9",
       "version_major": 2,
       "version_minor": 0
      },
      "text/plain": [
       "HBox(children=(HTML(value='Iteration 3/4, 9 arms, time budget = 0.23 sec'), FloatProgress(value=0.0, max=9.0),…"
      ]
     },
     "metadata": {},
     "output_type": "display_data"
    },
    {
     "name": "stdout",
     "output_type": "stream",
     "text": [
      "Hyperparams: {'batch_size': 8000, 'L': 5, 'dt': 1e-06}., sample shape=(11, 10). metric: -48144\n",
      "Hyperparams: {'batch_size': 8000, 'L': 5, 'dt': 3.1622776e-08}., sample shape=(15, 10). metric: 61036\n",
      "Hyperparams: {'batch_size': 800000, 'L': 5, 'dt': 0.1}., sample shape=(3, 10). metric: inf\n",
      "Hyperparams: {'batch_size': 800000, 'L': 5, 'dt': 0.031622775}., sample shape=(3, 10). metric: inf\n",
      "Hyperparams: {'batch_size': 800000, 'L': 5, 'dt': 0.01}., sample shape=(3, 10). metric: inf\n",
      "Hyperparams: {'batch_size': 800000, 'L': 5, 'dt': 0.0031622776}., sample shape=(3, 10). metric: inf\n",
      "Hyperparams: {'batch_size': 800000, 'L': 5, 'dt': 0.001}., sample shape=(3, 10). metric: inf\n",
      "Hyperparams: {'batch_size': 800000, 'L': 5, 'dt': 0.00031622776}., sample shape=(3, 10). metric: inf\n",
      "Hyperparams: {'batch_size': 800000, 'L': 5, 'dt': 1e-04}., sample shape=(3, 10). metric: inf\n",
      "\n",
      "Number of samples: [11, 15, 3]\n"
     ]
    },
    {
     "data": {
      "application/vnd.jupyter.widget-view+json": {
       "model_id": "d1fd75ff08c3493e966856ffbbd445e0",
       "version_major": 2,
       "version_minor": 0
      },
      "text/plain": [
       "HBox(children=(HTML(value='Iteration 4/4, 3 arms, time budget = 0.70 sec'), FloatProgress(value=0.0, max=3.0),…"
      ]
     },
     "metadata": {},
     "output_type": "display_data"
    },
    {
     "name": "stdout",
     "output_type": "stream",
     "text": [
      "Hyperparams: {'batch_size': 8000, 'L': 5, 'dt': 1e-06}., sample shape=(42, 10). metric: -6139\n",
      "Hyperparams: {'batch_size': 8000, 'L': 5, 'dt': 3.1622776e-08}., sample shape=(30, 10). metric: 22678\n",
      "Hyperparams: {'batch_size': 800000, 'L': 5, 'dt': 0.1}., sample shape=(5, 10). metric: inf\n",
      "\n",
      "Number of samples: [42]\n",
      "Running time: 187.7 sec\n",
      "{'batch_size': 8000, 'L': 5, 'dt': 1e-06} -6139.0854 (42, 10)\n"
     ]
    }
   ],
   "source": [
    "build_kernel = lambda dt, L, batch_size: build_sghmc_kernel(dt, L, loglikelihood, \n",
    "                                                  logprior, data, batch_size)\n",
    "grid_params = {'log_dt': logdt_range, \n",
    "               'batch_size': batch_size_range,\n",
    "               \"L\": [5, 10]\n",
    "              }\n",
    "\n",
    "best_arm = run_MAMBA(key, build_kernel, error_fn, R, params_IC, \n",
    "                     grid_params=grid_params, get_fb_grads=get_fb_grads)\n",
    "\n",
    "print(best_arm.hyperparameters, best_arm.metric, best_arm.samples.shape)"
   ]
  },
  {
   "cell_type": "code",
   "execution_count": 8,
   "id": "a39f7bf0",
   "metadata": {
    "collapsed": true
   },
   "outputs": [
    {
     "data": {
      "application/vnd.jupyter.widget-view+json": {
       "model_id": "4245b1785d44446a8ecf14af1983b026",
       "version_major": 2,
       "version_minor": 0
      },
      "text/plain": [
       "HBox(children=(HTML(value='Iteration 1/4, 84 arms, time budget = 0.03 sec'), FloatProgress(value=0.0, max=84.0…"
      ]
     },
     "metadata": {},
     "output_type": "display_data"
    },
    {
     "name": "stdout",
     "output_type": "stream",
     "text": [
      "Hyperparams: {'batch_size': 800000, 'L': 5, 'dt': 0.1}., sample shape=(1, 10). metric: inf\n",
      "Hyperparams: {'batch_size': 800000, 'L': 5, 'dt': 0.031622775}., sample shape=(1, 10). metric: inf\n",
      "Hyperparams: {'batch_size': 800000, 'L': 5, 'dt': 0.01}., sample shape=(1, 10). metric: inf\n",
      "Hyperparams: {'batch_size': 800000, 'L': 5, 'dt': 0.0031622776}., sample shape=(1, 10). metric: inf\n",
      "Hyperparams: {'batch_size': 800000, 'L': 5, 'dt': 0.001}., sample shape=(1, 10). metric: inf\n",
      "Hyperparams: {'batch_size': 800000, 'L': 5, 'dt': 0.00031622776}., sample shape=(1, 10). metric: inf\n",
      "Hyperparams: {'batch_size': 800000, 'L': 5, 'dt': 1e-04}., sample shape=(1, 10). metric: inf\n",
      "Hyperparams: {'batch_size': 800000, 'L': 5, 'dt': 3.1622778e-05}., sample shape=(1, 10). metric: inf\n",
      "Hyperparams: {'batch_size': 800000, 'L': 5, 'dt': 1e-05}., sample shape=(1, 10). metric: inf\n",
      "Hyperparams: {'batch_size': 800000, 'L': 5, 'dt': 3.1622776e-06}., sample shape=(1, 10). metric: inf\n",
      "Hyperparams: {'batch_size': 800000, 'L': 5, 'dt': 1e-06}., sample shape=(1, 10). metric: inf\n",
      "Hyperparams: {'batch_size': 800000, 'L': 5, 'dt': 3.1622776e-07}., sample shape=(1, 10). metric: inf\n",
      "Hyperparams: {'batch_size': 800000, 'L': 5, 'dt': 1e-07}., sample shape=(1, 10). metric: inf\n",
      "Hyperparams: {'batch_size': 800000, 'L': 5, 'dt': 3.1622776e-08}., sample shape=(1, 10). metric: inf\n",
      "Hyperparams: {'batch_size': 800000, 'L': 10, 'dt': 0.1}., sample shape=(1, 10). metric: inf\n",
      "Hyperparams: {'batch_size': 800000, 'L': 10, 'dt': 0.031622775}., sample shape=(1, 10). metric: inf\n",
      "Hyperparams: {'batch_size': 800000, 'L': 10, 'dt': 0.01}., sample shape=(1, 10). metric: inf\n",
      "Hyperparams: {'batch_size': 800000, 'L': 10, 'dt': 0.0031622776}., sample shape=(1, 10). metric: inf\n",
      "Hyperparams: {'batch_size': 800000, 'L': 10, 'dt': 0.001}., sample shape=(1, 10). metric: inf\n",
      "Hyperparams: {'batch_size': 800000, 'L': 10, 'dt': 0.00031622776}., sample shape=(1, 10). metric: inf\n",
      "Hyperparams: {'batch_size': 800000, 'L': 10, 'dt': 1e-04}., sample shape=(1, 10). metric: inf\n",
      "Hyperparams: {'batch_size': 800000, 'L': 10, 'dt': 3.1622778e-05}., sample shape=(1, 10). metric: inf\n",
      "Hyperparams: {'batch_size': 800000, 'L': 10, 'dt': 1e-05}., sample shape=(1, 10). metric: inf\n",
      "Hyperparams: {'batch_size': 800000, 'L': 10, 'dt': 3.1622776e-06}., sample shape=(1, 10). metric: inf\n",
      "Hyperparams: {'batch_size': 800000, 'L': 10, 'dt': 1e-06}., sample shape=(1, 10). metric: inf\n",
      "Hyperparams: {'batch_size': 800000, 'L': 10, 'dt': 3.1622776e-07}., sample shape=(1, 10). metric: inf\n",
      "Hyperparams: {'batch_size': 800000, 'L': 10, 'dt': 1e-07}., sample shape=(1, 10). metric: inf\n",
      "Hyperparams: {'batch_size': 800000, 'L': 10, 'dt': 3.1622776e-08}., sample shape=(1, 10). metric: inf\n",
      "Hyperparams: {'batch_size': 80000, 'L': 5, 'dt': 0.1}., sample shape=(1, 10). metric: inf\n",
      "Hyperparams: {'batch_size': 80000, 'L': 5, 'dt': 0.031622775}., sample shape=(1, 10). metric: inf\n",
      "Hyperparams: {'batch_size': 80000, 'L': 5, 'dt': 0.01}., sample shape=(1, 10). metric: inf\n",
      "Hyperparams: {'batch_size': 80000, 'L': 5, 'dt': 0.0031622776}., sample shape=(1, 10). metric: inf\n",
      "Hyperparams: {'batch_size': 80000, 'L': 5, 'dt': 0.001}., sample shape=(1, 10). metric: inf\n",
      "Hyperparams: {'batch_size': 80000, 'L': 5, 'dt': 0.00031622776}., sample shape=(1, 10). metric: inf\n",
      "Hyperparams: {'batch_size': 80000, 'L': 5, 'dt': 1e-04}., sample shape=(1, 10). metric: inf\n",
      "Hyperparams: {'batch_size': 80000, 'L': 5, 'dt': 3.1622778e-05}., sample shape=(1, 10). metric: inf\n",
      "Hyperparams: {'batch_size': 80000, 'L': 5, 'dt': 1e-05}., sample shape=(1, 10). metric: inf\n",
      "Hyperparams: {'batch_size': 80000, 'L': 5, 'dt': 3.1622776e-06}., sample shape=(1, 10). metric: inf\n",
      "Hyperparams: {'batch_size': 80000, 'L': 5, 'dt': 1e-06}., sample shape=(1, 10). metric: inf\n",
      "Hyperparams: {'batch_size': 80000, 'L': 5, 'dt': 3.1622776e-07}., sample shape=(1, 10). metric: inf\n",
      "Hyperparams: {'batch_size': 80000, 'L': 5, 'dt': 1e-07}., sample shape=(1, 10). metric: inf\n",
      "Hyperparams: {'batch_size': 80000, 'L': 5, 'dt': 3.1622776e-08}., sample shape=(1, 10). metric: inf\n",
      "Hyperparams: {'batch_size': 80000, 'L': 10, 'dt': 0.1}., sample shape=(1, 10). metric: inf\n",
      "Hyperparams: {'batch_size': 80000, 'L': 10, 'dt': 0.031622775}., sample shape=(1, 10). metric: inf\n",
      "Hyperparams: {'batch_size': 80000, 'L': 10, 'dt': 0.01}., sample shape=(1, 10). metric: inf\n",
      "Hyperparams: {'batch_size': 80000, 'L': 10, 'dt': 0.0031622776}., sample shape=(1, 10). metric: inf\n",
      "Hyperparams: {'batch_size': 80000, 'L': 10, 'dt': 0.001}., sample shape=(1, 10). metric: inf\n",
      "Hyperparams: {'batch_size': 80000, 'L': 10, 'dt': 0.00031622776}., sample shape=(1, 10). metric: inf\n",
      "Hyperparams: {'batch_size': 80000, 'L': 10, 'dt': 1e-04}., sample shape=(1, 10). metric: inf\n",
      "Hyperparams: {'batch_size': 80000, 'L': 10, 'dt': 3.1622778e-05}., sample shape=(1, 10). metric: inf\n",
      "Hyperparams: {'batch_size': 80000, 'L': 10, 'dt': 1e-05}., sample shape=(1, 10). metric: inf\n",
      "Hyperparams: {'batch_size': 80000, 'L': 10, 'dt': 3.1622776e-06}., sample shape=(1, 10). metric: inf\n",
      "Hyperparams: {'batch_size': 80000, 'L': 10, 'dt': 1e-06}., sample shape=(1, 10). metric: inf\n",
      "Hyperparams: {'batch_size': 80000, 'L': 10, 'dt': 3.1622776e-07}., sample shape=(1, 10). metric: inf\n",
      "Hyperparams: {'batch_size': 80000, 'L': 10, 'dt': 1e-07}., sample shape=(1, 10). metric: inf\n",
      "Hyperparams: {'batch_size': 80000, 'L': 10, 'dt': 3.1622776e-08}., sample shape=(1, 10). metric: inf\n",
      "Hyperparams: {'batch_size': 8000, 'L': 5, 'dt': 0.1}., sample shape=(1, 10). metric: inf\n",
      "Hyperparams: {'batch_size': 8000, 'L': 5, 'dt': 0.031622775}., sample shape=(1, 10). metric: inf\n",
      "Hyperparams: {'batch_size': 8000, 'L': 5, 'dt': 0.01}., sample shape=(2, 10). metric: inf\n",
      "Hyperparams: {'batch_size': 8000, 'L': 5, 'dt': 0.0031622776}., sample shape=(1, 10). metric: inf\n",
      "Hyperparams: {'batch_size': 8000, 'L': 5, 'dt': 0.001}., sample shape=(1, 10). metric: inf\n",
      "Hyperparams: {'batch_size': 8000, 'L': 5, 'dt': 0.00031622776}., sample shape=(1, 10). metric: inf\n",
      "Hyperparams: {'batch_size': 8000, 'L': 5, 'dt': 1e-04}., sample shape=(2, 10). metric: inf\n",
      "Hyperparams: {'batch_size': 8000, 'L': 5, 'dt': 3.1622778e-05}., sample shape=(1, 10). metric: inf\n",
      "Hyperparams: {'batch_size': 8000, 'L': 5, 'dt': 1e-05}., sample shape=(2, 10). metric: inf\n",
      "Hyperparams: {'batch_size': 8000, 'L': 5, 'dt': 3.1622776e-06}., sample shape=(2, 10). metric: 2252383\n",
      "Hyperparams: {'batch_size': 8000, 'L': 5, 'dt': 1e-06}., sample shape=(2, 10). metric: 90836\n",
      "Hyperparams: {'batch_size': 8000, 'L': 5, 'dt': 3.1622776e-07}., sample shape=(1, 10). metric: inf\n",
      "Hyperparams: {'batch_size': 8000, 'L': 5, 'dt': 1e-07}., sample shape=(2, 10). metric: 481815\n",
      "Hyperparams: {'batch_size': 8000, 'L': 5, 'dt': 3.1622776e-08}., sample shape=(2, 10). metric: 854870\n",
      "Hyperparams: {'batch_size': 8000, 'L': 10, 'dt': 0.1}., sample shape=(1, 10). metric: inf\n",
      "Hyperparams: {'batch_size': 8000, 'L': 10, 'dt': 0.031622775}., sample shape=(1, 10). metric: inf\n",
      "Hyperparams: {'batch_size': 8000, 'L': 10, 'dt': 0.01}., sample shape=(1, 10). metric: inf\n",
      "Hyperparams: {'batch_size': 8000, 'L': 10, 'dt': 0.0031622776}., sample shape=(1, 10). metric: inf\n",
      "Hyperparams: {'batch_size': 8000, 'L': 10, 'dt': 0.001}., sample shape=(1, 10). metric: inf\n",
      "Hyperparams: {'batch_size': 8000, 'L': 10, 'dt': 0.00031622776}., sample shape=(1, 10). metric: inf\n",
      "Hyperparams: {'batch_size': 8000, 'L': 10, 'dt': 1e-04}., sample shape=(1, 10). metric: inf\n",
      "Hyperparams: {'batch_size': 8000, 'L': 10, 'dt': 3.1622778e-05}., sample shape=(1, 10). metric: inf\n",
      "Hyperparams: {'batch_size': 8000, 'L': 10, 'dt': 1e-05}., sample shape=(1, 10). metric: inf\n",
      "Hyperparams: {'batch_size': 8000, 'L': 10, 'dt': 3.1622776e-06}., sample shape=(1, 10). metric: inf\n",
      "Hyperparams: {'batch_size': 8000, 'L': 10, 'dt': 1e-06}., sample shape=(1, 10). metric: inf\n",
      "Hyperparams: {'batch_size': 8000, 'L': 10, 'dt': 3.1622776e-07}., sample shape=(1, 10). metric: inf\n",
      "Hyperparams: {'batch_size': 8000, 'L': 10, 'dt': 1e-07}., sample shape=(1, 10). metric: inf\n",
      "Hyperparams: {'batch_size': 8000, 'L': 10, 'dt': 3.1622776e-08}., sample shape=(1, 10). metric: inf\n",
      "\n",
      "Number of samples: [2, 2, 2, 2, 1, 1, 1, 1, 1, 1, 1, 1, 1, 1, 1, 1, 1, 1, 1, 1, 1, 1, 1, 1, 1, 1, 1, 1]\n"
     ]
    },
    {
     "data": {
      "application/vnd.jupyter.widget-view+json": {
       "model_id": "ade1895bab8343b4b90998cedcf90df4",
       "version_major": 2,
       "version_minor": 0
      },
      "text/plain": [
       "HBox(children=(HTML(value='Iteration 2/4, 28 arms, time budget = 0.07 sec'), FloatProgress(value=0.0, max=28.0…"
      ]
     },
     "metadata": {},
     "output_type": "display_data"
    },
    {
     "name": "stdout",
     "output_type": "stream",
     "text": [
      "Hyperparams: {'batch_size': 8000, 'L': 5, 'dt': 1e-06}., sample shape=(5, 10). metric: 3697\n",
      "Hyperparams: {'batch_size': 8000, 'L': 5, 'dt': 1e-07}., sample shape=(6, 10). metric: 45088\n",
      "Hyperparams: {'batch_size': 8000, 'L': 5, 'dt': 3.1622776e-08}., sample shape=(5, 10). metric: 519547\n",
      "Hyperparams: {'batch_size': 8000, 'L': 5, 'dt': 3.1622776e-06}., sample shape=(5, 10). metric: inf\n",
      "Hyperparams: {'batch_size': 800000, 'L': 5, 'dt': 0.1}., sample shape=(2, 10). metric: inf\n",
      "Hyperparams: {'batch_size': 800000, 'L': 5, 'dt': 0.031622775}., sample shape=(2, 10). metric: inf\n",
      "Hyperparams: {'batch_size': 800000, 'L': 5, 'dt': 0.01}., sample shape=(2, 10). metric: inf\n",
      "Hyperparams: {'batch_size': 800000, 'L': 5, 'dt': 0.0031622776}., sample shape=(2, 10). metric: inf\n",
      "Hyperparams: {'batch_size': 800000, 'L': 5, 'dt': 0.001}., sample shape=(2, 10). metric: inf\n",
      "Hyperparams: {'batch_size': 800000, 'L': 5, 'dt': 0.00031622776}., sample shape=(2, 10). metric: inf\n",
      "Hyperparams: {'batch_size': 800000, 'L': 5, 'dt': 1e-04}., sample shape=(2, 10). metric: inf\n",
      "Hyperparams: {'batch_size': 800000, 'L': 5, 'dt': 3.1622778e-05}., sample shape=(2, 10). metric: inf\n",
      "Hyperparams: {'batch_size': 800000, 'L': 5, 'dt': 1e-05}., sample shape=(2, 10). metric: inf\n",
      "Hyperparams: {'batch_size': 800000, 'L': 5, 'dt': 3.1622776e-06}., sample shape=(2, 10). metric: inf\n",
      "Hyperparams: {'batch_size': 800000, 'L': 5, 'dt': 1e-06}., sample shape=(2, 10). metric: inf\n",
      "Hyperparams: {'batch_size': 800000, 'L': 5, 'dt': 3.1622776e-07}., sample shape=(2, 10). metric: inf\n",
      "Hyperparams: {'batch_size': 800000, 'L': 5, 'dt': 1e-07}., sample shape=(2, 10). metric: inf\n",
      "Hyperparams: {'batch_size': 800000, 'L': 5, 'dt': 3.1622776e-08}., sample shape=(2, 10). metric: inf\n",
      "Hyperparams: {'batch_size': 800000, 'L': 10, 'dt': 0.1}., sample shape=(2, 10). metric: inf\n",
      "Hyperparams: {'batch_size': 800000, 'L': 10, 'dt': 0.031622775}., sample shape=(2, 10). metric: inf\n",
      "Hyperparams: {'batch_size': 800000, 'L': 10, 'dt': 0.01}., sample shape=(2, 10). metric: inf\n",
      "Hyperparams: {'batch_size': 800000, 'L': 10, 'dt': 0.0031622776}., sample shape=(2, 10). metric: inf\n",
      "Hyperparams: {'batch_size': 800000, 'L': 10, 'dt': 0.001}., sample shape=(2, 10). metric: inf\n",
      "Hyperparams: {'batch_size': 800000, 'L': 10, 'dt': 0.00031622776}., sample shape=(2, 10). metric: inf\n",
      "Hyperparams: {'batch_size': 800000, 'L': 10, 'dt': 1e-04}., sample shape=(2, 10). metric: inf\n",
      "Hyperparams: {'batch_size': 800000, 'L': 10, 'dt': 3.1622778e-05}., sample shape=(2, 10). metric: inf\n",
      "Hyperparams: {'batch_size': 800000, 'L': 10, 'dt': 1e-05}., sample shape=(2, 10). metric: inf\n",
      "Hyperparams: {'batch_size': 800000, 'L': 10, 'dt': 3.1622776e-06}., sample shape=(2, 10). metric: inf\n",
      "\n",
      "Number of samples: [5, 6, 5, 5, 2, 2, 2, 2, 2]\n"
     ]
    },
    {
     "data": {
      "application/vnd.jupyter.widget-view+json": {
       "model_id": "bd0fef8dc5224880be3d7bdfb8144da4",
       "version_major": 2,
       "version_minor": 0
      },
      "text/plain": [
       "HBox(children=(HTML(value='Iteration 3/4, 9 arms, time budget = 0.23 sec'), FloatProgress(value=0.0, max=9.0),…"
      ]
     },
     "metadata": {},
     "output_type": "display_data"
    },
    {
     "name": "stdout",
     "output_type": "stream",
     "text": [
      "Hyperparams: {'batch_size': 8000, 'L': 5, 'dt': 1e-06}., sample shape=(15, 10). metric: -717\n",
      "Hyperparams: {'batch_size': 8000, 'L': 5, 'dt': 1e-07}., sample shape=(15, 10). metric: 9555\n",
      "Hyperparams: {'batch_size': 8000, 'L': 5, 'dt': 3.1622776e-08}., sample shape=(15, 10). metric: 17129\n",
      "Hyperparams: {'batch_size': 8000, 'L': 5, 'dt': 3.1622776e-06}., sample shape=(14, 10). metric: 49535212\n",
      "Hyperparams: {'batch_size': 800000, 'L': 5, 'dt': 0.1}., sample shape=(3, 10). metric: inf\n",
      "Hyperparams: {'batch_size': 800000, 'L': 5, 'dt': 0.031622775}., sample shape=(3, 10). metric: inf\n",
      "Hyperparams: {'batch_size': 800000, 'L': 5, 'dt': 0.01}., sample shape=(3, 10). metric: inf\n",
      "Hyperparams: {'batch_size': 800000, 'L': 5, 'dt': 0.0031622776}., sample shape=(3, 10). metric: inf\n",
      "Hyperparams: {'batch_size': 800000, 'L': 5, 'dt': 0.001}., sample shape=(3, 10). metric: inf\n",
      "\n",
      "Number of samples: [15, 15, 15]\n"
     ]
    },
    {
     "data": {
      "application/vnd.jupyter.widget-view+json": {
       "model_id": "5b7f82e74d09410bb88226847befb57b",
       "version_major": 2,
       "version_minor": 0
      },
      "text/plain": [
       "HBox(children=(HTML(value='Iteration 4/4, 3 arms, time budget = 0.70 sec'), FloatProgress(value=0.0, max=3.0),…"
      ]
     },
     "metadata": {},
     "output_type": "display_data"
    },
    {
     "name": "stdout",
     "output_type": "stream",
     "text": [
      "Hyperparams: {'batch_size': 8000, 'L': 5, 'dt': 1e-06}., sample shape=(40, 10). metric: 1034\n",
      "Hyperparams: {'batch_size': 8000, 'L': 5, 'dt': 1e-07}., sample shape=(33, 10). metric: 12625\n",
      "Hyperparams: {'batch_size': 8000, 'L': 5, 'dt': 3.1622776e-08}., sample shape=(40, 10). metric: 16804\n",
      "\n",
      "Number of samples: [40]\n",
      "Running time: 252.1 sec\n",
      "{'batch_size': 8000, 'L': 5, 'dt': 1e-06} 1034.2524 (40, 10)\n"
     ]
    }
   ],
   "source": [
    "build_kernel = lambda dt, L, batch_size: build_sghmcCV_kernel(dt, L, loglikelihood, \n",
    "                                                  logprior, data, batch_size, centering_value)\n",
    "grid_params = {'log_dt': logdt_range, \n",
    "               'batch_size': batch_size_range,\n",
    "               \"L\": [5, 10]\n",
    "              }\n",
    "\n",
    "best_arm = run_MAMBA(key, build_kernel, error_fn, R, params_IC, \n",
    "                     grid_params=grid_params, get_fb_grads=get_fb_grads)\n",
    "\n",
    "print(best_arm.hyperparameters, best_arm.metric, best_arm.samples.shape)"
   ]
  },
  {
   "cell_type": "code",
   "execution_count": 9,
   "id": "2cafa0ac",
   "metadata": {
    "collapsed": true
   },
   "outputs": [
    {
     "data": {
      "application/vnd.jupyter.widget-view+json": {
       "model_id": "465c986d1712403d83cee9eae9c81149",
       "version_major": 2,
       "version_minor": 0
      },
      "text/plain": [
       "HBox(children=(HTML(value='Iteration 1/3, 42 arms, time budget = 0.08 sec'), FloatProgress(value=0.0, max=42.0…"
      ]
     },
     "metadata": {},
     "output_type": "display_data"
    },
    {
     "name": "stdout",
     "output_type": "stream",
     "text": [
      "Hyperparams: {'batch_size': 800000, 'dt': 0.1}., sample shape=(1, 10). metric: inf\n",
      "Hyperparams: {'batch_size': 800000, 'dt': 0.031622775}., sample shape=(1, 10). metric: inf\n",
      "Hyperparams: {'batch_size': 800000, 'dt': 0.01}., sample shape=(1, 10). metric: inf\n",
      "Hyperparams: {'batch_size': 800000, 'dt': 0.0031622776}., sample shape=(1, 10). metric: inf\n",
      "Hyperparams: {'batch_size': 800000, 'dt': 0.001}., sample shape=(1, 10). metric: inf\n",
      "Hyperparams: {'batch_size': 800000, 'dt': 0.00031622776}., sample shape=(1, 10). metric: inf\n",
      "Hyperparams: {'batch_size': 800000, 'dt': 1e-04}., sample shape=(1, 10). metric: inf\n",
      "Hyperparams: {'batch_size': 800000, 'dt': 3.1622778e-05}., sample shape=(1, 10). metric: inf\n",
      "Hyperparams: {'batch_size': 800000, 'dt': 1e-05}., sample shape=(1, 10). metric: inf\n",
      "Hyperparams: {'batch_size': 800000, 'dt': 3.1622776e-06}., sample shape=(1, 10). metric: inf\n",
      "Hyperparams: {'batch_size': 800000, 'dt': 1e-06}., sample shape=(1, 10). metric: inf\n",
      "Hyperparams: {'batch_size': 800000, 'dt': 3.1622776e-07}., sample shape=(1, 10). metric: inf\n",
      "Hyperparams: {'batch_size': 800000, 'dt': 1e-07}., sample shape=(1, 10). metric: inf\n",
      "Hyperparams: {'batch_size': 800000, 'dt': 3.1622776e-08}., sample shape=(1, 10). metric: inf\n",
      "Hyperparams: {'batch_size': 80000, 'dt': 0.1}., sample shape=(3, 10). metric: inf\n",
      "Hyperparams: {'batch_size': 80000, 'dt': 0.031622775}., sample shape=(3, 10). metric: inf\n",
      "Hyperparams: {'batch_size': 80000, 'dt': 0.01}., sample shape=(4, 10). metric: inf\n",
      "Hyperparams: {'batch_size': 80000, 'dt': 0.0031622776}., sample shape=(3, 10). metric: inf\n",
      "Hyperparams: {'batch_size': 80000, 'dt': 0.001}., sample shape=(3, 10). metric: inf\n",
      "Hyperparams: {'batch_size': 80000, 'dt': 0.00031622776}., sample shape=(3, 10). metric: inf\n",
      "Hyperparams: {'batch_size': 80000, 'dt': 1e-04}., sample shape=(3, 10). metric: inf\n",
      "Hyperparams: {'batch_size': 80000, 'dt': 3.1622778e-05}., sample shape=(3, 10). metric: inf\n",
      "Hyperparams: {'batch_size': 80000, 'dt': 1e-05}., sample shape=(3, 10). metric: -22596\n",
      "Hyperparams: {'batch_size': 80000, 'dt': 3.1622776e-06}., sample shape=(3, 10). metric: -165748\n",
      "Hyperparams: {'batch_size': 80000, 'dt': 1e-06}., sample shape=(3, 10). metric: -393716\n",
      "Hyperparams: {'batch_size': 80000, 'dt': 3.1622776e-07}., sample shape=(3, 10). metric: -258006\n",
      "Hyperparams: {'batch_size': 80000, 'dt': 1e-07}., sample shape=(4, 10). metric: -80368\n",
      "Hyperparams: {'batch_size': 80000, 'dt': 3.1622776e-08}., sample shape=(3, 10). metric: 654681\n",
      "Hyperparams: {'batch_size': 8000, 'dt': 0.1}., sample shape=(14, 10). metric: inf\n",
      "Hyperparams: {'batch_size': 8000, 'dt': 0.031622775}., sample shape=(13, 10). metric: inf\n",
      "Hyperparams: {'batch_size': 8000, 'dt': 0.01}., sample shape=(14, 10). metric: inf\n",
      "Hyperparams: {'batch_size': 8000, 'dt': 0.0031622776}., sample shape=(11, 10). metric: inf\n",
      "Hyperparams: {'batch_size': 8000, 'dt': 0.001}., sample shape=(10, 10). metric: inf\n",
      "Hyperparams: {'batch_size': 8000, 'dt': 0.00031622776}., sample shape=(9, 10). metric: inf\n",
      "Hyperparams: {'batch_size': 8000, 'dt': 1e-04}., sample shape=(4, 10). metric: inf\n",
      "Hyperparams: {'batch_size': 8000, 'dt': 3.1622778e-05}., sample shape=(12, 10). metric: inf\n",
      "Hyperparams: {'batch_size': 8000, 'dt': 1e-05}., sample shape=(11, 10). metric: 351348\n",
      "Hyperparams: {'batch_size': 8000, 'dt': 3.1622776e-06}., sample shape=(9, 10). metric: -173704\n",
      "Hyperparams: {'batch_size': 8000, 'dt': 1e-06}., sample shape=(13, 10). metric: -61197\n",
      "Hyperparams: {'batch_size': 8000, 'dt': 3.1622776e-07}., sample shape=(7, 10). metric: -89756\n",
      "Hyperparams: {'batch_size': 8000, 'dt': 1e-07}., sample shape=(10, 10). metric: 15592\n",
      "Hyperparams: {'batch_size': 8000, 'dt': 3.1622776e-08}., sample shape=(11, 10). metric: -13546\n",
      "\n",
      "Number of samples: [3, 3, 9, 3, 7, 4, 13, 3, 11, 10, 11, 3, 1, 1]\n"
     ]
    },
    {
     "data": {
      "application/vnd.jupyter.widget-view+json": {
       "model_id": "4511d6bbd7e04676b42daeff53274df7",
       "version_major": 2,
       "version_minor": 0
      },
      "text/plain": [
       "HBox(children=(HTML(value='Iteration 2/3, 14 arms, time budget = 0.23 sec'), FloatProgress(value=0.0, max=14.0…"
      ]
     },
     "metadata": {},
     "output_type": "display_data"
    },
    {
     "name": "stdout",
     "output_type": "stream",
     "text": [
      "Hyperparams: {'batch_size': 80000, 'dt': 1e-06}., sample shape=(9, 10). metric: -169525\n",
      "Hyperparams: {'batch_size': 80000, 'dt': 3.1622776e-07}., sample shape=(12, 10). metric: -14698\n",
      "Hyperparams: {'batch_size': 8000, 'dt': 3.1622776e-06}., sample shape=(41, 10). metric: -26631\n",
      "Hyperparams: {'batch_size': 80000, 'dt': 3.1622776e-06}., sample shape=(10, 10). metric: 11241\n",
      "Hyperparams: {'batch_size': 8000, 'dt': 3.1622776e-07}., sample shape=(44, 10). metric: -31184\n",
      "Hyperparams: {'batch_size': 80000, 'dt': 1e-07}., sample shape=(12, 10). metric: -30713\n",
      "Hyperparams: {'batch_size': 8000, 'dt': 1e-06}., sample shape=(36, 10). metric: -88909\n",
      "Hyperparams: {'batch_size': 80000, 'dt': 1e-05}., sample shape=(10, 10). metric: inf\n",
      "Hyperparams: {'batch_size': 8000, 'dt': 3.1622776e-08}., sample shape=(48, 10). metric: 9157\n",
      "Hyperparams: {'batch_size': 8000, 'dt': 1e-07}., sample shape=(40, 10). metric: -9938\n",
      "Hyperparams: {'batch_size': 8000, 'dt': 1e-05}., sample shape=(37, 10). metric: 4952\n",
      "Hyperparams: {'batch_size': 80000, 'dt': 3.1622776e-08}., sample shape=(9, 10). metric: 40423\n",
      "Hyperparams: {'batch_size': 800000, 'dt': 0.1}., sample shape=(4, 10). metric: inf\n",
      "Hyperparams: {'batch_size': 800000, 'dt': 0.031622775}., sample shape=(4, 10). metric: inf\n",
      "\n",
      "Number of samples: [9, 36, 44, 12]\n"
     ]
    },
    {
     "data": {
      "application/vnd.jupyter.widget-view+json": {
       "model_id": "90404494ce86409281f07af93709bbfd",
       "version_major": 2,
       "version_minor": 0
      },
      "text/plain": [
       "HBox(children=(HTML(value='Iteration 3/3, 4 arms, time budget = 0.81 sec'), FloatProgress(value=0.0, max=4.0),…"
      ]
     },
     "metadata": {},
     "output_type": "display_data"
    },
    {
     "name": "stdout",
     "output_type": "stream",
     "text": [
      "Hyperparams: {'batch_size': 80000, 'dt': 1e-06}., sample shape=(33, 10). metric: -12913\n",
      "Hyperparams: {'batch_size': 8000, 'dt': 1e-06}., sample shape=(113, 10). metric: -25292\n",
      "Hyperparams: {'batch_size': 8000, 'dt': 3.1622776e-07}., sample shape=(123, 10). metric: -11131\n",
      "Hyperparams: {'batch_size': 80000, 'dt': 1e-07}., sample shape=(30, 10). metric: -2922\n",
      "\n",
      "Number of samples: [113]\n",
      "Running time: 178.0 sec\n",
      "{'batch_size': 8000, 'dt': 1e-06} -25291.873 (113, 10)\n"
     ]
    }
   ],
   "source": [
    "build_kernel = lambda dt, batch_size: build_sgnht_kernel(dt, loglikelihood, logprior, data, batch_size)\n",
    "grid_params = {'log_dt': logdt_range, \n",
    "               'batch_size': batch_size_range\n",
    "              }\n",
    "\n",
    "# build_kernel = lambda dt: build_sgnht_kernel(dt, loglikelihood, logprior, data, fixed_bs)\n",
    "# grid_params = {'log_dt': logdt_range}\n",
    "best_arm = run_MAMBA(key, build_kernel, error_fn, R, params_IC, \n",
    "                     grid_params=grid_params, get_fb_grads=get_fb_grads)\n",
    "\n",
    "print(best_arm.hyperparameters, best_arm.metric, best_arm.samples.shape)"
   ]
  },
  {
   "cell_type": "code",
   "execution_count": 10,
   "id": "ada995a7",
   "metadata": {
    "collapsed": true
   },
   "outputs": [
    {
     "data": {
      "application/vnd.jupyter.widget-view+json": {
       "model_id": "a4dbc683b5fc4e37ac253363a617612c",
       "version_major": 2,
       "version_minor": 0
      },
      "text/plain": [
       "HBox(children=(HTML(value='Iteration 1/3, 42 arms, time budget = 0.08 sec'), FloatProgress(value=0.0, max=42.0…"
      ]
     },
     "metadata": {},
     "output_type": "display_data"
    },
    {
     "name": "stdout",
     "output_type": "stream",
     "text": [
      "Hyperparams: {'batch_size': 800000, 'dt': 0.1}., sample shape=(1, 10). metric: inf\n",
      "Hyperparams: {'batch_size': 800000, 'dt': 0.031622775}., sample shape=(1, 10). metric: inf\n",
      "Hyperparams: {'batch_size': 800000, 'dt': 0.01}., sample shape=(1, 10). metric: inf\n",
      "Hyperparams: {'batch_size': 800000, 'dt': 0.0031622776}., sample shape=(1, 10). metric: inf\n",
      "Hyperparams: {'batch_size': 800000, 'dt': 0.001}., sample shape=(1, 10). metric: inf\n",
      "Hyperparams: {'batch_size': 800000, 'dt': 0.00031622776}., sample shape=(1, 10). metric: inf\n",
      "Hyperparams: {'batch_size': 800000, 'dt': 1e-04}., sample shape=(1, 10). metric: inf\n",
      "Hyperparams: {'batch_size': 800000, 'dt': 3.1622778e-05}., sample shape=(1, 10). metric: inf\n",
      "Hyperparams: {'batch_size': 800000, 'dt': 1e-05}., sample shape=(1, 10). metric: inf\n",
      "Hyperparams: {'batch_size': 800000, 'dt': 3.1622776e-06}., sample shape=(1, 10). metric: inf\n",
      "Hyperparams: {'batch_size': 800000, 'dt': 1e-06}., sample shape=(1, 10). metric: inf\n",
      "Hyperparams: {'batch_size': 800000, 'dt': 3.1622776e-07}., sample shape=(1, 10). metric: inf\n",
      "Hyperparams: {'batch_size': 800000, 'dt': 1e-07}., sample shape=(1, 10). metric: inf\n",
      "Hyperparams: {'batch_size': 800000, 'dt': 3.1622776e-08}., sample shape=(1, 10). metric: inf\n",
      "Hyperparams: {'batch_size': 80000, 'dt': 0.1}., sample shape=(3, 10). metric: inf\n",
      "Hyperparams: {'batch_size': 80000, 'dt': 0.031622775}., sample shape=(3, 10). metric: inf\n",
      "Hyperparams: {'batch_size': 80000, 'dt': 0.01}., sample shape=(3, 10). metric: inf\n",
      "Hyperparams: {'batch_size': 80000, 'dt': 0.0031622776}., sample shape=(3, 10). metric: inf\n",
      "Hyperparams: {'batch_size': 80000, 'dt': 0.001}., sample shape=(2, 10). metric: inf\n",
      "Hyperparams: {'batch_size': 80000, 'dt': 0.00031622776}., sample shape=(2, 10). metric: inf\n",
      "Hyperparams: {'batch_size': 80000, 'dt': 1e-04}., sample shape=(3, 10). metric: inf\n",
      "Hyperparams: {'batch_size': 80000, 'dt': 3.1622778e-05}., sample shape=(3, 10). metric: -491193\n",
      "Hyperparams: {'batch_size': 80000, 'dt': 1e-05}., sample shape=(2, 10). metric: -146110\n",
      "Hyperparams: {'batch_size': 80000, 'dt': 3.1622776e-06}., sample shape=(3, 10). metric: -20533\n",
      "Hyperparams: {'batch_size': 80000, 'dt': 1e-06}., sample shape=(3, 10). metric: -269692\n",
      "Hyperparams: {'batch_size': 80000, 'dt': 3.1622776e-07}., sample shape=(3, 10). metric: -240983\n",
      "Hyperparams: {'batch_size': 80000, 'dt': 1e-07}., sample shape=(3, 10). metric: 67407\n",
      "Hyperparams: {'batch_size': 80000, 'dt': 3.1622776e-08}., sample shape=(3, 10). metric: 648226\n",
      "Hyperparams: {'batch_size': 8000, 'dt': 0.1}., sample shape=(10, 10). metric: inf\n",
      "Hyperparams: {'batch_size': 8000, 'dt': 0.031622775}., sample shape=(12, 10). metric: inf\n",
      "Hyperparams: {'batch_size': 8000, 'dt': 0.01}., sample shape=(11, 10). metric: inf\n",
      "Hyperparams: {'batch_size': 8000, 'dt': 0.0031622776}., sample shape=(12, 10). metric: inf\n",
      "Hyperparams: {'batch_size': 8000, 'dt': 0.001}., sample shape=(12, 10). metric: inf\n",
      "Hyperparams: {'batch_size': 8000, 'dt': 0.00031622776}., sample shape=(13, 10). metric: inf\n",
      "Hyperparams: {'batch_size': 8000, 'dt': 1e-04}., sample shape=(13, 10). metric: inf\n",
      "Hyperparams: {'batch_size': 8000, 'dt': 3.1622778e-05}., sample shape=(12, 10). metric: -41217\n",
      "Hyperparams: {'batch_size': 8000, 'dt': 1e-05}., sample shape=(12, 10). metric: -26042\n",
      "Hyperparams: {'batch_size': 8000, 'dt': 3.1622776e-06}., sample shape=(11, 10). metric: -26134\n",
      "Hyperparams: {'batch_size': 8000, 'dt': 1e-06}., sample shape=(11, 10). metric: -31494\n",
      "Hyperparams: {'batch_size': 8000, 'dt': 3.1622776e-07}., sample shape=(10, 10). metric: -21744\n",
      "Hyperparams: {'batch_size': 8000, 'dt': 1e-07}., sample shape=(11, 10). metric: -22006\n",
      "Hyperparams: {'batch_size': 8000, 'dt': 3.1622776e-08}., sample shape=(11, 10). metric: -17975\n",
      "\n",
      "Number of samples: [3, 3, 3, 2, 12, 11, 11, 12, 11, 10, 3, 11, 3, 3]\n"
     ]
    },
    {
     "data": {
      "application/vnd.jupyter.widget-view+json": {
       "model_id": "19a4e0fd27ff4062a7f18690cb85316e",
       "version_major": 2,
       "version_minor": 0
      },
      "text/plain": [
       "HBox(children=(HTML(value='Iteration 2/3, 14 arms, time budget = 0.23 sec'), FloatProgress(value=0.0, max=14.0…"
      ]
     },
     "metadata": {},
     "output_type": "display_data"
    },
    {
     "name": "stdout",
     "output_type": "stream",
     "text": [
      "Hyperparams: {'batch_size': 80000, 'dt': 3.1622778e-05}., sample shape=(8, 10). metric: -60347\n",
      "Hyperparams: {'batch_size': 80000, 'dt': 1e-06}., sample shape=(9, 10). metric: -16301\n",
      "Hyperparams: {'batch_size': 80000, 'dt': 3.1622776e-07}., sample shape=(8, 10). metric: -41505\n",
      "Hyperparams: {'batch_size': 80000, 'dt': 1e-05}., sample shape=(8, 10). metric: -107778\n",
      "Hyperparams: {'batch_size': 8000, 'dt': 3.1622778e-05}., sample shape=(39, 10). metric: -7920\n",
      "Hyperparams: {'batch_size': 8000, 'dt': 1e-06}., sample shape=(34, 10). metric: -2460\n",
      "Hyperparams: {'batch_size': 8000, 'dt': 3.1622776e-06}., sample shape=(36, 10). metric: -1824\n",
      "Hyperparams: {'batch_size': 8000, 'dt': 1e-05}., sample shape=(39, 10). metric: -4188\n",
      "Hyperparams: {'batch_size': 8000, 'dt': 1e-07}., sample shape=(41, 10). metric: 377\n",
      "Hyperparams: {'batch_size': 8000, 'dt': 3.1622776e-07}., sample shape=(42, 10). metric: -921\n",
      "Hyperparams: {'batch_size': 80000, 'dt': 3.1622776e-06}., sample shape=(8, 10). metric: -53716\n",
      "Hyperparams: {'batch_size': 8000, 'dt': 3.1622776e-08}., sample shape=(41, 10). metric: 1270\n",
      "Hyperparams: {'batch_size': 80000, 'dt': 1e-07}., sample shape=(9, 10). metric: -2842\n",
      "Hyperparams: {'batch_size': 80000, 'dt': 3.1622776e-08}., sample shape=(9, 10). metric: 56669\n",
      "\n",
      "Number of samples: [8, 8, 8, 8]\n"
     ]
    },
    {
     "data": {
      "application/vnd.jupyter.widget-view+json": {
       "model_id": "15930b39c3b841799b2e3a6ff22c3835",
       "version_major": 2,
       "version_minor": 0
      },
      "text/plain": [
       "HBox(children=(HTML(value='Iteration 3/3, 4 arms, time budget = 0.81 sec'), FloatProgress(value=0.0, max=4.0),…"
      ]
     },
     "metadata": {},
     "output_type": "display_data"
    },
    {
     "name": "stdout",
     "output_type": "stream",
     "text": [
      "Hyperparams: {'batch_size': 80000, 'dt': 1e-05}., sample shape=(25, 10). metric: -10110\n",
      "Hyperparams: {'batch_size': 80000, 'dt': 3.1622778e-05}., sample shape=(27, 10). metric: -8234\n",
      "Hyperparams: {'batch_size': 80000, 'dt': 3.1622776e-06}., sample shape=(30, 10). metric: -1160\n",
      "Hyperparams: {'batch_size': 80000, 'dt': 3.1622776e-07}., sample shape=(26, 10). metric: -3413\n",
      "\n",
      "Number of samples: [25]\n",
      "Running time: 176.9 sec\n",
      "{'batch_size': 80000, 'dt': 1e-05} -10110.214 (25, 10)\n"
     ]
    }
   ],
   "source": [
    "build_kernel = lambda dt, batch_size: build_sgnhtCV_kernel(dt, loglikelihood, \n",
    "                                                  logprior, data, batch_size, centering_value)\n",
    "grid_params = {'log_dt': logdt_range, \n",
    "               'batch_size': batch_size_range\n",
    "              }\n",
    "\n",
    "# build_kernel = lambda dt: build_sgnhtCV_kernel(dt, loglikelihood, \n",
    "#                                                   logprior, data, fixed_bs, centering_value)\n",
    "# grid_params = {'log_dt': logdt_range}\n",
    "best_arm = run_MAMBA(key, build_kernel, error_fn, R, params_IC, \n",
    "                     grid_params=grid_params, get_fb_grads=get_fb_grads)\n",
    "\n",
    "print(best_arm.hyperparameters, best_arm.metric, best_arm.samples.shape)"
   ]
  },
  {
   "cell_type": "code",
   "execution_count": null,
   "id": "ec0f4428",
   "metadata": {},
   "outputs": [],
   "source": []
  },
  {
   "cell_type": "code",
   "execution_count": null,
   "id": "4399056c",
   "metadata": {},
   "outputs": [],
   "source": []
  }
 ],
 "metadata": {
  "kernelspec": {
   "display_name": "Python 3",
   "language": "python",
   "name": "python3"
  },
  "language_info": {
   "codemirror_mode": {
    "name": "ipython",
    "version": 3
   },
   "file_extension": ".py",
   "mimetype": "text/x-python",
   "name": "python",
   "nbconvert_exporter": "python",
   "pygments_lexer": "ipython3",
   "version": "3.8.2"
  }
 },
 "nbformat": 4,
 "nbformat_minor": 5
}
