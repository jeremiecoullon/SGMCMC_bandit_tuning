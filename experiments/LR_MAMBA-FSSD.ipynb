{
 "cells": [
  {
   "cell_type": "code",
   "execution_count": 1,
   "id": "906fd9ec",
   "metadata": {},
   "outputs": [
    {
     "name": "stderr",
     "output_type": "stream",
     "text": [
      "WARNING:absl:No GPU/TPU found, falling back to CPU. (Set TF_CPP_MIN_LOG_LEVEL=0 and rerun for more info.)\n"
     ]
    }
   ],
   "source": [
    "%matplotlib inline\n",
    "import matplotlib.pyplot as plt\n",
    "import numpy as np\n",
    "\n",
    "import jax.numpy as jnp\n",
    "from jax import jit, random, vmap\n",
    "\n",
    "from sgmcmcjax.kernels import build_sgld_kernel, build_sghmc_kernel, build_sgnht_kernel\n",
    "from sgmcmcjax.kernels import build_sgldCV_kernel, build_sghmcCV_kernel, build_sgnhtCV_kernel\n",
    "from sgmcmcjax.optimizer import build_adam_optimizer\n",
    "from sgmcmcjax.util import build_grad_log_post\n",
    "\n",
    "import context\n",
    "from models.logistic_regression.logistic_regression_model import gen_data, loglikelihood, logprior\n",
    "from tuning.mamba import run_MAMBA\n",
    "from tuning.ksd import FSSD_opt, imq_KSD, get_test_locations, linear_imq_KSD\n"
   ]
  },
  {
   "cell_type": "markdown",
   "id": "a01ea2b4",
   "metadata": {},
   "source": [
    "# Logistic regression - MAMBA"
   ]
  },
  {
   "cell_type": "code",
   "execution_count": 2,
   "id": "dd0b7388",
   "metadata": {},
   "outputs": [
    {
     "name": "stdout",
     "output_type": "stream",
     "text": [
      "generating data, with N=1,000,000 and dim=10\n",
      "(800000, 10) (200000, 10)\n"
     ]
    }
   ],
   "source": [
    "\n",
    "\n",
    "key = random.PRNGKey(42)\n",
    "dim = 10\n",
    "# Ndata = 100_000\n",
    "Ndata = 1_000_000\n",
    "\n",
    "theta_true, X, y_data = gen_data(key, dim, Ndata)\n",
    "\n",
    "# testing and training data\n",
    "num_train = int(Ndata*0.8)\n",
    "\n",
    "X_train = X[:num_train]\n",
    "X_test = X[num_train:]\n",
    "\n",
    "y_train = y_data[:num_train]\n",
    "y_test = y_data[num_train:]\n",
    "print(X_train.shape, X_test.shape)\n",
    "data = (X_train, y_train)\n"
   ]
  },
  {
   "cell_type": "code",
   "execution_count": 3,
   "id": "ad7130b3",
   "metadata": {},
   "outputs": [
    {
     "name": "stdout",
     "output_type": "stream",
     "text": [
      "[800000, 80000, 8000]\n"
     ]
    },
    {
     "data": {
      "application/vnd.jupyter.widget-view+json": {
       "model_id": "afc63c2db1844c21b7ae3e5c3af78402",
       "version_major": 2,
       "version_minor": 0
      },
      "text/plain": [
       "HBox(children=(HTML(value=''), FloatProgress(value=0.0, max=5000.0), HTML(value='')))"
      ]
     },
     "metadata": {},
     "output_type": "display_data"
    }
   ],
   "source": [
    "# get MAP\n",
    "batch_size = int(0.01*X_train.shape[0])\n",
    "run_adam = build_adam_optimizer(1e-2, loglikelihood, logprior, data, batch_size)\n",
    "key = random.PRNGKey(0)\n",
    "centering_value, logpost_array = run_adam(key, 5000, jnp.zeros(dim))\n",
    "params_IC = centering_value\n",
    "\n",
    "fixed_bs = int(0.1*X_train.shape[0])\n",
    "\n",
    "# T = 10\n",
    "R = 3 # running time of longest sampler\n",
    "\n",
    "error_fn = lambda x,y: FSSD_opt(x, y, get_test_locations(x), 100)\n",
    "# error_fn = lambda x,y: imq_KSD(x, y)\n",
    "# error_fn = lambda x,y: linear_imq_KSD(x, y)\n",
    "\n",
    "logdt_range = -jnp.arange(1., 8., 0.5) \n",
    "# batch_size_range = [int(10**(-elem)*X_train.shape[0]) for elem in range(0, 5)]\n",
    "batch_size_range = [int(10**(-elem)*X_train.shape[0]) for elem in range(0, 3)]\n",
    "\n",
    "print(batch_size_range)"
   ]
  },
  {
   "cell_type": "code",
   "execution_count": 4,
   "id": "e1d39a1d",
   "metadata": {},
   "outputs": [],
   "source": [
    "grad_log_post_fb = build_grad_log_post(loglikelihood, logprior, data)\n",
    "\n",
    "def grad_lp_LR_fb(theta):\n",
    "    return grad_log_post_fb(theta, X_train, y_train)\n",
    "\n",
    "batch_grad_lp_LR_fb = jit(vmap(grad_lp_LR_fb))\n",
    "\n",
    "@jit\n",
    "def get_fb_grads(samples):\n",
    "    thin = 10\n",
    "    array_samples = jnp.array(samples[::thin])\n",
    "    mygrads = batch_grad_lp_LR_fb(array_samples)\n",
    "    return array_samples, mygrads"
   ]
  },
  {
   "cell_type": "code",
   "execution_count": null,
   "id": "f2359b89",
   "metadata": {},
   "outputs": [],
   "source": []
  },
  {
   "cell_type": "markdown",
   "id": "912e1f22",
   "metadata": {},
   "source": [
    "### run MAMBA"
   ]
  },
  {
   "cell_type": "code",
   "execution_count": 5,
   "id": "7ad12578",
   "metadata": {},
   "outputs": [
    {
     "name": "stdout",
     "output_type": "stream",
     "text": [
      "\n"
     ]
    },
    {
     "data": {
      "application/vnd.jupyter.widget-view+json": {
       "model_id": "6cf2d9e0c9f74e8b9d8cf8d54737f25b",
       "version_major": 2,
       "version_minor": 0
      },
      "text/plain": [
       "HBox(children=(HTML(value='Iteration 1/3, 42 arms, time budget = 0.15 sec'), FloatProgress(value=0.0, max=42.0…"
      ]
     },
     "metadata": {},
     "output_type": "display_data"
    },
    {
     "name": "stdout",
     "output_type": "stream",
     "text": [
      "Hyperparams: {'batch_size': 800000, 'dt': 0.1}., sample shape=(2, 10). metric: -1\n",
      "Hyperparams: {'batch_size': 800000, 'dt': 0.031622775}., sample shape=(2, 10). metric: -5\n",
      "Hyperparams: {'batch_size': 800000, 'dt': 0.01}., sample shape=(2, 10). metric: -48\n",
      "Hyperparams: {'batch_size': 800000, 'dt': 0.0031622776}., sample shape=(2, 10). metric: -5587\n",
      "Hyperparams: {'batch_size': 800000, 'dt': 0.001}., sample shape=(2, 10). metric: 11171\n",
      "Hyperparams: {'batch_size': 800000, 'dt': 0.00031622776}., sample shape=(2, 10). metric: 3874\n",
      "Hyperparams: {'batch_size': 800000, 'dt': 1e-04}., sample shape=(2, 10). metric: 79682\n",
      "Hyperparams: {'batch_size': 800000, 'dt': 3.1622778e-05}., sample shape=(2, 10). metric: 26734126\n",
      "Hyperparams: {'batch_size': 800000, 'dt': 1e-05}., sample shape=(2, 10). metric: 59201\n",
      "Hyperparams: {'batch_size': 800000, 'dt': 3.1622776e-06}., sample shape=(2, 10). metric: -87500\n",
      "Hyperparams: {'batch_size': 800000, 'dt': 1e-06}., sample shape=(2, 10). metric: 390315\n",
      "Hyperparams: {'batch_size': 800000, 'dt': 3.1622776e-07}., sample shape=(2, 10). metric: 889924\n",
      "Hyperparams: {'batch_size': 800000, 'dt': 1e-07}., sample shape=(2, 10). metric: 986112\n",
      "Hyperparams: {'batch_size': 800000, 'dt': 3.1622776e-08}., sample shape=(2, 10). metric: 1007041\n",
      "Hyperparams: {'batch_size': 80000, 'dt': 0.1}., sample shape=(6, 10). metric: 5\n",
      "Hyperparams: {'batch_size': 80000, 'dt': 0.031622775}., sample shape=(5, 10). metric: -18\n",
      "Hyperparams: {'batch_size': 80000, 'dt': 0.01}., sample shape=(5, 10). metric: -236\n",
      "Hyperparams: {'batch_size': 80000, 'dt': 0.0031622776}., sample shape=(5, 10). metric: -2658\n",
      "Hyperparams: {'batch_size': 80000, 'dt': 0.001}., sample shape=(5, 10). metric: 20303\n",
      "Hyperparams: {'batch_size': 80000, 'dt': 0.00031622776}., sample shape=(6, 10). metric: 15647\n",
      "Hyperparams: {'batch_size': 80000, 'dt': 1e-04}., sample shape=(6, 10). metric: 839867\n",
      "Hyperparams: {'batch_size': 80000, 'dt': 3.1622778e-05}., sample shape=(6, 10). metric: 65979208\n",
      "Hyperparams: {'batch_size': 80000, 'dt': 1e-05}., sample shape=(5, 10). metric: 5436\n",
      "Hyperparams: {'batch_size': 80000, 'dt': 3.1622776e-06}., sample shape=(6, 10). metric: 2627\n",
      "Hyperparams: {'batch_size': 80000, 'dt': 1e-06}., sample shape=(5, 10). metric: 88772\n",
      "Hyperparams: {'batch_size': 80000, 'dt': 3.1622776e-07}., sample shape=(7, 10). metric: 237978\n",
      "Hyperparams: {'batch_size': 80000, 'dt': 1e-07}., sample shape=(6, 10). metric: 725771\n",
      "Hyperparams: {'batch_size': 80000, 'dt': 3.1622776e-08}., sample shape=(5, 10). metric: 1010770\n",
      "Hyperparams: {'batch_size': 8000, 'dt': 0.1}., sample shape=(31, 10). metric: 51\n",
      "Hyperparams: {'batch_size': 8000, 'dt': 0.031622775}., sample shape=(31, 10). metric: 155\n",
      "Hyperparams: {'batch_size': 8000, 'dt': 0.01}., sample shape=(31, 10). metric: 2667\n",
      "Hyperparams: {'batch_size': 8000, 'dt': 0.0031622776}., sample shape=(34, 10). metric: 31798\n",
      "Hyperparams: {'batch_size': 8000, 'dt': 0.001}., sample shape=(33, 10). metric: 317947\n",
      "Hyperparams: {'batch_size': 8000, 'dt': 0.00031622776}., sample shape=(31, 10). metric: 3600695\n",
      "Hyperparams: {'batch_size': 8000, 'dt': 1e-04}., sample shape=(34, 10). metric: 35668040\n",
      "Hyperparams: {'batch_size': 8000, 'dt': 3.1622778e-05}., sample shape=(31, 10). metric: 14245740\n",
      "Hyperparams: {'batch_size': 8000, 'dt': 1e-05}., sample shape=(30, 10). metric: 20581\n",
      "Hyperparams: {'batch_size': 8000, 'dt': 3.1622776e-06}., sample shape=(31, 10). metric: 23920\n",
      "Hyperparams: {'batch_size': 8000, 'dt': 1e-06}., sample shape=(31, 10). metric: 16134\n",
      "Hyperparams: {'batch_size': 8000, 'dt': 3.1622776e-07}., sample shape=(29, 10). metric: 55161\n",
      "Hyperparams: {'batch_size': 8000, 'dt': 1e-07}., sample shape=(34, 10). metric: 142171\n",
      "Hyperparams: {'batch_size': 8000, 'dt': 3.1622776e-08}., sample shape=(30, 10). metric: 627438\n",
      "\n",
      "Number of samples: [2, 2, 5, 5, 2, 5, 2, 2, 6, 31, 31, 6, 31, 2]\n"
     ]
    },
    {
     "data": {
      "application/vnd.jupyter.widget-view+json": {
       "model_id": "fa8ac53c22914dba8d195d8c43033026",
       "version_major": 2,
       "version_minor": 0
      },
      "text/plain": [
       "HBox(children=(HTML(value='Iteration 2/3, 14 arms, time budget = 0.46 sec'), FloatProgress(value=0.0, max=14.0…"
      ]
     },
     "metadata": {},
     "output_type": "display_data"
    },
    {
     "name": "stdout",
     "output_type": "stream",
     "text": [
      "Hyperparams: {'batch_size': 800000, 'dt': 3.1622776e-06}., sample shape=(8, 10). metric: 12318\n",
      "Hyperparams: {'batch_size': 800000, 'dt': 0.0031622776}., sample shape=(8, 10). metric: 463432\n",
      "Hyperparams: {'batch_size': 80000, 'dt': 0.0031622776}., sample shape=(24, 10). metric: 2112085\n",
      "Hyperparams: {'batch_size': 80000, 'dt': 0.01}., sample shape=(21, 10). metric: 99412\n",
      "Hyperparams: {'batch_size': 800000, 'dt': 0.01}., sample shape=(8, 10). metric: 296\n",
      "Hyperparams: {'batch_size': 80000, 'dt': 0.031622775}., sample shape=(21, 10). metric: 8222\n",
      "Hyperparams: {'batch_size': 800000, 'dt': 0.031622775}., sample shape=(8, 10). metric: 106\n",
      "Hyperparams: {'batch_size': 800000, 'dt': 0.1}., sample shape=(8, 10). metric: 31\n",
      "Hyperparams: {'batch_size': 80000, 'dt': 0.1}., sample shape=(25, 10). metric: 1385\n",
      "Hyperparams: {'batch_size': 8000, 'dt': 0.1}., sample shape=(130, 10). metric: 482\n",
      "Hyperparams: {'batch_size': 8000, 'dt': 0.031622775}., sample shape=(130, 10). metric: 2506\n",
      "Hyperparams: {'batch_size': 80000, 'dt': 3.1622776e-06}., sample shape=(22, 10). metric: -495\n",
      "Hyperparams: {'batch_size': 8000, 'dt': 0.01}., sample shape=(133, 10). metric: 15331\n",
      "Hyperparams: {'batch_size': 800000, 'dt': 0.00031622776}., sample shape=(8, 10). metric: 633765\n",
      "\n",
      "Number of samples: [22, 8, 8, 8]\n"
     ]
    },
    {
     "data": {
      "application/vnd.jupyter.widget-view+json": {
       "model_id": "690343ded8dc442caaa9bc6d03d2630a",
       "version_major": 2,
       "version_minor": 0
      },
      "text/plain": [
       "HBox(children=(HTML(value='Iteration 3/3, 4 arms, time budget = 1.62 sec'), FloatProgress(value=0.0, max=4.0),…"
      ]
     },
     "metadata": {},
     "output_type": "display_data"
    },
    {
     "name": "stdout",
     "output_type": "stream",
     "text": [
      "Hyperparams: {'batch_size': 80000, 'dt': 3.1622776e-06}., sample shape=(75, 10). metric: -144\n",
      "Hyperparams: {'batch_size': 800000, 'dt': 0.1}., sample shape=(28, 10). metric: 42372\n",
      "Hyperparams: {'batch_size': 800000, 'dt': 0.031622775}., sample shape=(26, 10). metric: 57610\n",
      "Hyperparams: {'batch_size': 800000, 'dt': 0.01}., sample shape=(28, 10). metric: 400919\n",
      "\n",
      "Number of samples: [75]\n",
      "Running time: 96.5 sec\n",
      "{'batch_size': 80000, 'dt': 3.1622776e-06} -144.37547 (75, 10)\n"
     ]
    }
   ],
   "source": [
    "# diag sds, another run\n",
    "build_kernel = lambda dt, batch_size: build_sgld_kernel(dt, loglikelihood, logprior, data, batch_size)\n",
    "\n",
    "grid_params = {'log_dt': logdt_range, \n",
    "               'batch_size': batch_size_range\n",
    "              }\n",
    "\n",
    "# build_kernel = lambda dt: build_sgld_kernel(dt, loglikelihood, logprior, data, fixed_bs)\n",
    "# grid_params = {'log_dt': logdt_range}\n",
    "best_arm = run_MAMBA(key, build_kernel, error_fn, R, params_IC, grid_params=grid_params, get_fb_grads=get_fb_grads)\n",
    "\n",
    "print(best_arm.hyperparameters, best_arm.metric, best_arm.samples.shape)"
   ]
  },
  {
   "cell_type": "code",
   "execution_count": null,
   "id": "b7ecca40",
   "metadata": {},
   "outputs": [],
   "source": []
  },
  {
   "cell_type": "code",
   "execution_count": 5,
   "id": "01a71a00",
   "metadata": {},
   "outputs": [
    {
     "name": "stdout",
     "output_type": "stream",
     "text": [
      "\n"
     ]
    },
    {
     "data": {
      "application/vnd.jupyter.widget-view+json": {
       "model_id": "2b1f197f7e304d7398acd093334336b5",
       "version_major": 2,
       "version_minor": 0
      },
      "text/plain": [
       "HBox(children=(HTML(value='Iteration 1/3, 42 arms, time budget = 0.15 sec'), FloatProgress(value=0.0, max=42.0…"
      ]
     },
     "metadata": {},
     "output_type": "display_data"
    },
    {
     "name": "stdout",
     "output_type": "stream",
     "text": [
      "Hyperparams: {'batch_size': 800000, 'dt': 0.1}., sample shape=(2, 10). metric: -1\n",
      "Hyperparams: {'batch_size': 800000, 'dt': 0.031622775}., sample shape=(2, 10). metric: -5\n",
      "Hyperparams: {'batch_size': 800000, 'dt': 0.01}., sample shape=(2, 10). metric: -48\n",
      "Hyperparams: {'batch_size': 800000, 'dt': 0.0031622776}., sample shape=(2, 10). metric: -5587\n",
      "Hyperparams: {'batch_size': 800000, 'dt': 0.001}., sample shape=(2, 10). metric: 11171\n",
      "Hyperparams: {'batch_size': 800000, 'dt': 0.00031622776}., sample shape=(2, 10). metric: 3874\n",
      "Hyperparams: {'batch_size': 800000, 'dt': 1e-04}., sample shape=(2, 10). metric: 79682\n",
      "Hyperparams: {'batch_size': 800000, 'dt': 3.1622778e-05}., sample shape=(2, 10). metric: 26734126\n",
      "Hyperparams: {'batch_size': 800000, 'dt': 1e-05}., sample shape=(2, 10). metric: 59201\n",
      "Hyperparams: {'batch_size': 800000, 'dt': 3.1622776e-06}., sample shape=(2, 10). metric: -87500\n",
      "Hyperparams: {'batch_size': 800000, 'dt': 1e-06}., sample shape=(2, 10). metric: 390315\n",
      "Hyperparams: {'batch_size': 800000, 'dt': 3.1622776e-07}., sample shape=(2, 10). metric: 889924\n",
      "Hyperparams: {'batch_size': 800000, 'dt': 1e-07}., sample shape=(2, 10). metric: 986112\n",
      "Hyperparams: {'batch_size': 800000, 'dt': 3.1622776e-08}., sample shape=(2, 10). metric: 1007041\n",
      "Hyperparams: {'batch_size': 80000, 'dt': 0.1}., sample shape=(5, 10). metric: 3\n",
      "Hyperparams: {'batch_size': 80000, 'dt': 0.031622775}., sample shape=(5, 10). metric: -18\n",
      "Hyperparams: {'batch_size': 80000, 'dt': 0.01}., sample shape=(5, 10). metric: -236\n",
      "Hyperparams: {'batch_size': 80000, 'dt': 0.0031622776}., sample shape=(5, 10). metric: -2658\n",
      "Hyperparams: {'batch_size': 80000, 'dt': 0.001}., sample shape=(5, 10). metric: 20303\n",
      "Hyperparams: {'batch_size': 80000, 'dt': 0.00031622776}., sample shape=(5, 10). metric: -5952\n",
      "Hyperparams: {'batch_size': 80000, 'dt': 1e-04}., sample shape=(5, 10). metric: 634888\n",
      "Hyperparams: {'batch_size': 80000, 'dt': 3.1622778e-05}., sample shape=(6, 10). metric: 65979208\n",
      "Hyperparams: {'batch_size': 80000, 'dt': 1e-05}., sample shape=(6, 10). metric: -3378\n",
      "Hyperparams: {'batch_size': 80000, 'dt': 3.1622776e-06}., sample shape=(6, 10). metric: 2627\n",
      "Hyperparams: {'batch_size': 80000, 'dt': 1e-06}., sample shape=(6, 10). metric: 54527\n",
      "Hyperparams: {'batch_size': 80000, 'dt': 3.1622776e-07}., sample shape=(5, 10). metric: 349708\n",
      "Hyperparams: {'batch_size': 80000, 'dt': 1e-07}., sample shape=(5, 10). metric: 765296\n",
      "Hyperparams: {'batch_size': 80000, 'dt': 3.1622776e-08}., sample shape=(5, 10). metric: 1010770\n",
      "Hyperparams: {'batch_size': 8000, 'dt': 0.1}., sample shape=(33, 10). metric: 53\n",
      "Hyperparams: {'batch_size': 8000, 'dt': 0.031622775}., sample shape=(32, 10). metric: 167\n",
      "Hyperparams: {'batch_size': 8000, 'dt': 0.01}., sample shape=(32, 10). metric: 2507\n",
      "Hyperparams: {'batch_size': 8000, 'dt': 0.0031622776}., sample shape=(32, 10). metric: 29853\n",
      "Hyperparams: {'batch_size': 8000, 'dt': 0.001}., sample shape=(31, 10). metric: 285967\n",
      "Hyperparams: {'batch_size': 8000, 'dt': 0.00031622776}., sample shape=(31, 10). metric: 3600695\n",
      "Hyperparams: {'batch_size': 8000, 'dt': 1e-04}., sample shape=(31, 10). metric: 32116122\n",
      "Hyperparams: {'batch_size': 8000, 'dt': 3.1622778e-05}., sample shape=(31, 10). metric: 14245740\n",
      "Hyperparams: {'batch_size': 8000, 'dt': 1e-05}., sample shape=(31, 10). metric: 9932\n",
      "Hyperparams: {'batch_size': 8000, 'dt': 3.1622776e-06}., sample shape=(31, 10). metric: 23920\n",
      "Hyperparams: {'batch_size': 8000, 'dt': 1e-06}., sample shape=(31, 10). metric: 16134\n",
      "Hyperparams: {'batch_size': 8000, 'dt': 3.1622776e-07}., sample shape=(32, 10). metric: 54498\n",
      "Hyperparams: {'batch_size': 8000, 'dt': 1e-07}., sample shape=(31, 10). metric: 167742\n",
      "Hyperparams: {'batch_size': 8000, 'dt': 3.1622776e-08}., sample shape=(31, 10). metric: 620585\n",
      "\n",
      "Number of samples: [2, 5, 2, 6, 5, 5, 2, 5, 2, 2, 5, 33, 32, 32]\n"
     ]
    },
    {
     "data": {
      "application/vnd.jupyter.widget-view+json": {
       "model_id": "796a0b378bd341acb76236eab59e0921",
       "version_major": 2,
       "version_minor": 0
      },
      "text/plain": [
       "HBox(children=(HTML(value='Iteration 2/3, 14 arms, time budget = 0.46 sec'), FloatProgress(value=0.0, max=14.0…"
      ]
     },
     "metadata": {},
     "output_type": "display_data"
    },
    {
     "name": "stdout",
     "output_type": "stream",
     "text": [
      "Hyperparams: {'batch_size': 800000, 'dt': 3.1622776e-06}., sample shape=(8, 10). metric: 12121\n",
      "Hyperparams: {'batch_size': 80000, 'dt': 0.00031622776}., sample shape=(21, 10). metric: 61941432\n",
      "Hyperparams: {'batch_size': 800000, 'dt': 0.0031622776}., sample shape=(8, 10). metric: 351937\n",
      "Hyperparams: {'batch_size': 80000, 'dt': 1e-05}., sample shape=(22, 10). metric: -6283\n",
      "Hyperparams: {'batch_size': 80000, 'dt': 0.0031622776}., sample shape=(21, 10). metric: 935865\n",
      "Hyperparams: {'batch_size': 80000, 'dt': 0.01}., sample shape=(21, 10). metric: 75428\n",
      "Hyperparams: {'batch_size': 800000, 'dt': 0.01}., sample shape=(8, 10). metric: 652\n",
      "Hyperparams: {'batch_size': 80000, 'dt': 0.031622775}., sample shape=(24, 10). metric: 7956\n",
      "Hyperparams: {'batch_size': 800000, 'dt': 0.031622775}., sample shape=(8, 10). metric: 99\n",
      "Hyperparams: {'batch_size': 800000, 'dt': 0.1}., sample shape=(8, 10). metric: 26\n",
      "Hyperparams: {'batch_size': 80000, 'dt': 0.1}., sample shape=(24, 10). metric: 1516\n",
      "Hyperparams: {'batch_size': 8000, 'dt': 0.1}., sample shape=(136, 10). metric: 380\n",
      "Hyperparams: {'batch_size': 8000, 'dt': 0.031622775}., sample shape=(130, 10). metric: 2512\n",
      "Hyperparams: {'batch_size': 8000, 'dt': 0.01}., sample shape=(129, 10). metric: 414\n",
      "\n",
      "Number of samples: [22, 8, 8, 136]\n"
     ]
    },
    {
     "data": {
      "application/vnd.jupyter.widget-view+json": {
       "model_id": "cc4287668fdb41d587b793d5bd65b521",
       "version_major": 2,
       "version_minor": 0
      },
      "text/plain": [
       "HBox(children=(HTML(value='Iteration 3/3, 4 arms, time budget = 1.62 sec'), FloatProgress(value=0.0, max=4.0),…"
      ]
     },
     "metadata": {},
     "output_type": "display_data"
    },
    {
     "name": "stdout",
     "output_type": "stream",
     "text": [
      "Hyperparams: {'batch_size': 80000, 'dt': 1e-05}., sample shape=(76, 10). metric: -1018\n",
      "Hyperparams: {'batch_size': 800000, 'dt': 0.1}., sample shape=(29, 10). metric: 118759\n",
      "Hyperparams: {'batch_size': 800000, 'dt': 0.031622775}., sample shape=(29, 10). metric: 78252\n",
      "Hyperparams: {'batch_size': 8000, 'dt': 0.1}., sample shape=(497, 10). metric: 429\n",
      "\n",
      "Number of samples: [76]\n",
      "Running time: 94.5 sec\n",
      "{'batch_size': 80000, 'dt': 1e-05} -1018.3941 (76, 10)\n"
     ]
    }
   ],
   "source": [
    "# diag sds\n",
    "build_kernel = lambda dt, batch_size: build_sgld_kernel(dt, loglikelihood, logprior, data, batch_size)\n",
    "\n",
    "grid_params = {'log_dt': logdt_range, \n",
    "               'batch_size': batch_size_range\n",
    "              }\n",
    "\n",
    "# build_kernel = lambda dt: build_sgld_kernel(dt, loglikelihood, logprior, data, fixed_bs)\n",
    "# grid_params = {'log_dt': logdt_range}\n",
    "best_arm = run_MAMBA(key, build_kernel, error_fn, R, params_IC, grid_params=grid_params, get_fb_grads=get_fb_grads)\n",
    "\n",
    "print(best_arm.hyperparameters, best_arm.metric, best_arm.samples.shape)"
   ]
  },
  {
   "cell_type": "code",
   "execution_count": null,
   "id": "74361d2c",
   "metadata": {},
   "outputs": [],
   "source": []
  },
  {
   "cell_type": "code",
   "execution_count": null,
   "id": "cd88a8b9",
   "metadata": {},
   "outputs": [],
   "source": []
  },
  {
   "cell_type": "code",
   "execution_count": null,
   "id": "0ea65a95",
   "metadata": {},
   "outputs": [],
   "source": []
  },
  {
   "cell_type": "code",
   "execution_count": 6,
   "id": "d89f8171",
   "metadata": {},
   "outputs": [
    {
     "data": {
      "text/plain": [
       "(8000, 0.1)"
      ]
     },
     "execution_count": 6,
     "metadata": {},
     "output_type": "execute_result"
    }
   ],
   "source": [
    "# diag of stds\n",
    "8_000, 0.1\n",
    "\n"
   ]
  },
  {
   "cell_type": "code",
   "execution_count": null,
   "id": "3fe20604",
   "metadata": {},
   "outputs": [],
   "source": []
  },
  {
   "cell_type": "code",
   "execution_count": null,
   "id": "196c32db",
   "metadata": {},
   "outputs": [],
   "source": []
  },
  {
   "cell_type": "code",
   "execution_count": null,
   "id": "78af4853",
   "metadata": {},
   "outputs": [],
   "source": []
  },
  {
   "cell_type": "code",
   "execution_count": 14,
   "id": "bacbc413",
   "metadata": {
    "collapsed": true
   },
   "outputs": [
    {
     "data": {
      "application/vnd.jupyter.widget-view+json": {
       "model_id": "e88dba93ed564ea696b1fa1180aa25ed",
       "version_major": 2,
       "version_minor": 0
      },
      "text/plain": [
       "HBox(children=(HTML(value='Iteration 1/3, 42 arms, time budget = 0.15 sec'), FloatProgress(value=0.0, max=42.0…"
      ]
     },
     "metadata": {},
     "output_type": "display_data"
    },
    {
     "name": "stdout",
     "output_type": "stream",
     "text": [
      "Hyperparams: {'batch_size': 800000, 'dt': 0.1}., sample shape=(1, 10). metric: inf\n",
      "Hyperparams: {'batch_size': 800000, 'dt': 0.031622775}., sample shape=(1, 10). metric: inf\n",
      "Hyperparams: {'batch_size': 800000, 'dt': 0.01}., sample shape=(1, 10). metric: inf\n",
      "Hyperparams: {'batch_size': 800000, 'dt': 0.0031622776}., sample shape=(1, 10). metric: inf\n",
      "Hyperparams: {'batch_size': 800000, 'dt': 0.001}., sample shape=(1, 10). metric: inf\n",
      "Hyperparams: {'batch_size': 800000, 'dt': 0.00031622776}., sample shape=(1, 10). metric: inf\n",
      "Hyperparams: {'batch_size': 800000, 'dt': 1e-04}., sample shape=(1, 10). metric: inf\n",
      "Hyperparams: {'batch_size': 800000, 'dt': 3.1622778e-05}., sample shape=(1, 10). metric: inf\n",
      "Hyperparams: {'batch_size': 800000, 'dt': 1e-05}., sample shape=(1, 10). metric: inf\n",
      "Hyperparams: {'batch_size': 800000, 'dt': 3.1622776e-06}., sample shape=(1, 10). metric: inf\n",
      "Hyperparams: {'batch_size': 800000, 'dt': 1e-06}., sample shape=(1, 10). metric: inf\n",
      "Hyperparams: {'batch_size': 800000, 'dt': 3.1622776e-07}., sample shape=(1, 10). metric: inf\n",
      "Hyperparams: {'batch_size': 800000, 'dt': 1e-07}., sample shape=(1, 10). metric: inf\n",
      "Hyperparams: {'batch_size': 800000, 'dt': 3.1622776e-08}., sample shape=(1, 10). metric: inf\n",
      "Hyperparams: {'batch_size': 80000, 'dt': 0.1}., sample shape=(4, 10). metric: inf\n",
      "Hyperparams: {'batch_size': 80000, 'dt': 0.031622775}., sample shape=(4, 10). metric: inf\n",
      "Hyperparams: {'batch_size': 80000, 'dt': 0.01}., sample shape=(4, 10). metric: inf\n",
      "Hyperparams: {'batch_size': 80000, 'dt': 0.0031622776}., sample shape=(4, 10). metric: inf\n",
      "Hyperparams: {'batch_size': 80000, 'dt': 0.001}., sample shape=(5, 10). metric: inf\n",
      "Hyperparams: {'batch_size': 80000, 'dt': 0.00031622776}., sample shape=(4, 10). metric: inf\n",
      "Hyperparams: {'batch_size': 80000, 'dt': 1e-04}., sample shape=(5, 10). metric: inf\n",
      "Hyperparams: {'batch_size': 80000, 'dt': 3.1622778e-05}., sample shape=(5, 10). metric: inf\n",
      "Hyperparams: {'batch_size': 80000, 'dt': 1e-05}., sample shape=(4, 10). metric: -957\n",
      "Hyperparams: {'batch_size': 80000, 'dt': 3.1622776e-06}., sample shape=(4, 10). metric: 42984\n",
      "Hyperparams: {'batch_size': 80000, 'dt': 1e-06}., sample shape=(5, 10). metric: 90489\n",
      "Hyperparams: {'batch_size': 80000, 'dt': 3.1622776e-07}., sample shape=(4, 10). metric: 452586\n",
      "Hyperparams: {'batch_size': 80000, 'dt': 1e-07}., sample shape=(4, 10). metric: 806007\n",
      "Hyperparams: {'batch_size': 80000, 'dt': 3.1622776e-08}., sample shape=(4, 10). metric: 1018705\n",
      "Hyperparams: {'batch_size': 8000, 'dt': 0.1}., sample shape=(25, 10). metric: 225\n",
      "Hyperparams: {'batch_size': 8000, 'dt': 0.031622775}., sample shape=(28, 10). metric: 1613\n",
      "Hyperparams: {'batch_size': 8000, 'dt': 0.01}., sample shape=(28, 10). metric: 17476\n",
      "Hyperparams: {'batch_size': 8000, 'dt': 0.0031622776}., sample shape=(28, 10). metric: 353900\n",
      "Hyperparams: {'batch_size': 8000, 'dt': 0.001}., sample shape=(28, 10). metric: 1554799\n",
      "Hyperparams: {'batch_size': 8000, 'dt': 0.00031622776}., sample shape=(28, 10). metric: 27127618\n",
      "Hyperparams: {'batch_size': 8000, 'dt': 1e-04}., sample shape=(28, 10). metric: 178440336\n",
      "Hyperparams: {'batch_size': 8000, 'dt': 3.1622778e-05}., sample shape=(27, 10). metric: 138791040\n",
      "Hyperparams: {'batch_size': 8000, 'dt': 1e-05}., sample shape=(28, 10). metric: -777\n",
      "Hyperparams: {'batch_size': 8000, 'dt': 3.1622776e-06}., sample shape=(28, 10). metric: 512\n",
      "Hyperparams: {'batch_size': 8000, 'dt': 1e-06}., sample shape=(28, 10). metric: 11065\n",
      "Hyperparams: {'batch_size': 8000, 'dt': 3.1622776e-07}., sample shape=(28, 10). metric: 32554\n",
      "Hyperparams: {'batch_size': 8000, 'dt': 1e-07}., sample shape=(28, 10). metric: 243195\n",
      "Hyperparams: {'batch_size': 8000, 'dt': 3.1622776e-08}., sample shape=(28, 10). metric: 607132\n",
      "\n",
      "Number of samples: [4, 28, 25, 28, 28, 28, 28, 28, 4, 5, 28, 28, 4, 28]\n"
     ]
    },
    {
     "data": {
      "application/vnd.jupyter.widget-view+json": {
       "model_id": "cc113eba6a644fdabd4b80a911585489",
       "version_major": 2,
       "version_minor": 0
      },
      "text/plain": [
       "HBox(children=(HTML(value='Iteration 2/3, 14 arms, time budget = 0.46 sec'), FloatProgress(value=0.0, max=14.0…"
      ]
     },
     "metadata": {},
     "output_type": "display_data"
    },
    {
     "name": "stdout",
     "output_type": "stream",
     "text": [
      "Hyperparams: {'batch_size': 80000, 'dt': 1e-05}., sample shape=(18, 10). metric: 986\n",
      "Hyperparams: {'batch_size': 8000, 'dt': 1e-05}., sample shape=(116, 10). metric: 244\n",
      "Hyperparams: {'batch_size': 8000, 'dt': 0.1}., sample shape=(110, 10). metric: 610\n",
      "Hyperparams: {'batch_size': 8000, 'dt': 3.1622776e-06}., sample shape=(113, 10). metric: 329\n",
      "Hyperparams: {'batch_size': 8000, 'dt': 0.031622775}., sample shape=(115, 10). metric: 4000\n",
      "Hyperparams: {'batch_size': 8000, 'dt': 1e-06}., sample shape=(113, 10). metric: 3027\n",
      "Hyperparams: {'batch_size': 8000, 'dt': 0.01}., sample shape=(117, 10). metric: 43135\n",
      "Hyperparams: {'batch_size': 8000, 'dt': 3.1622776e-07}., sample shape=(112, 10). metric: 8560\n",
      "Hyperparams: {'batch_size': 80000, 'dt': 3.1622776e-06}., sample shape=(18, 10). metric: 1542\n",
      "Hyperparams: {'batch_size': 80000, 'dt': 1e-06}., sample shape=(21, 10). metric: 1838\n",
      "Hyperparams: {'batch_size': 8000, 'dt': 1e-07}., sample shape=(116, 10). metric: 2294\n",
      "Hyperparams: {'batch_size': 8000, 'dt': 0.0031622776}., sample shape=(117, 10). metric: 450917\n",
      "Hyperparams: {'batch_size': 80000, 'dt': 3.1622776e-07}., sample shape=(17, 10). metric: 29562\n",
      "Hyperparams: {'batch_size': 8000, 'dt': 3.1622776e-08}., sample shape=(117, 10). metric: 76894\n",
      "\n",
      "Number of samples: [116, 113, 110, 18]\n"
     ]
    },
    {
     "data": {
      "application/vnd.jupyter.widget-view+json": {
       "model_id": "3aa4147998c54a8abfd630b1d3bd3c40",
       "version_major": 2,
       "version_minor": 0
      },
      "text/plain": [
       "HBox(children=(HTML(value='Iteration 3/3, 4 arms, time budget = 1.62 sec'), FloatProgress(value=0.0, max=4.0),…"
      ]
     },
     "metadata": {},
     "output_type": "display_data"
    },
    {
     "name": "stdout",
     "output_type": "stream",
     "text": [
      "Hyperparams: {'batch_size': 8000, 'dt': 1e-05}., sample shape=(428, 10). metric: -30\n",
      "Hyperparams: {'batch_size': 8000, 'dt': 3.1622776e-06}., sample shape=(421, 10). metric: 152\n",
      "Hyperparams: {'batch_size': 8000, 'dt': 0.1}., sample shape=(418, 10). metric: 659\n",
      "Hyperparams: {'batch_size': 80000, 'dt': 1e-05}., sample shape=(66, 10). metric: -205\n",
      "\n",
      "Number of samples: [66]\n",
      "Running time: 110.0 sec\n",
      "{'batch_size': 80000, 'dt': 1e-05} -204.73564 (66, 10)\n"
     ]
    }
   ],
   "source": [
    "build_kernel = lambda dt, batch_size: build_sgldCV_kernel(dt, loglikelihood, \n",
    "                                                  logprior, data, batch_size, centering_value)\n",
    "\n",
    "# build_kernel = lambda dt: build_sgldCV_kernel(dt, loglikelihood, \n",
    "#                                           logprior, data, fixed_bs, centering_value)\n",
    "# grid_params = {'log_dt': logdt_range}\n",
    "\n",
    "best_arm = run_MAMBA(key, build_kernel, error_fn, R, params_IC, \n",
    "                     grid_params=grid_params, get_fb_grads=get_fb_grads)\n",
    "\n",
    "print(best_arm.hyperparameters, best_arm.metric, best_arm.samples.shape)"
   ]
  },
  {
   "cell_type": "code",
   "execution_count": 16,
   "id": "6c0a862d",
   "metadata": {
    "collapsed": true
   },
   "outputs": [
    {
     "data": {
      "application/vnd.jupyter.widget-view+json": {
       "model_id": "79f03ac49503416b83d6796c7049e3f2",
       "version_major": 2,
       "version_minor": 0
      },
      "text/plain": [
       "HBox(children=(HTML(value='Iteration 1/4, 84 arms, time budget = 0.05 sec'), FloatProgress(value=0.0, max=84.0…"
      ]
     },
     "metadata": {},
     "output_type": "display_data"
    },
    {
     "name": "stdout",
     "output_type": "stream",
     "text": [
      "Hyperparams: {'batch_size': 800000, 'L': 5, 'dt': 0.1}., sample shape=(1, 10). metric: inf\n",
      "Hyperparams: {'batch_size': 800000, 'L': 5, 'dt': 0.031622775}., sample shape=(1, 10). metric: inf\n",
      "Hyperparams: {'batch_size': 800000, 'L': 5, 'dt': 0.01}., sample shape=(1, 10). metric: inf\n",
      "Hyperparams: {'batch_size': 800000, 'L': 5, 'dt': 0.0031622776}., sample shape=(1, 10). metric: inf\n",
      "Hyperparams: {'batch_size': 800000, 'L': 5, 'dt': 0.001}., sample shape=(1, 10). metric: inf\n",
      "Hyperparams: {'batch_size': 800000, 'L': 5, 'dt': 0.00031622776}., sample shape=(1, 10). metric: inf\n",
      "Hyperparams: {'batch_size': 800000, 'L': 5, 'dt': 1e-04}., sample shape=(1, 10). metric: inf\n",
      "Hyperparams: {'batch_size': 800000, 'L': 5, 'dt': 3.1622778e-05}., sample shape=(1, 10). metric: inf\n",
      "Hyperparams: {'batch_size': 800000, 'L': 5, 'dt': 1e-05}., sample shape=(1, 10). metric: inf\n",
      "Hyperparams: {'batch_size': 800000, 'L': 5, 'dt': 3.1622776e-06}., sample shape=(1, 10). metric: inf\n",
      "Hyperparams: {'batch_size': 800000, 'L': 5, 'dt': 1e-06}., sample shape=(1, 10). metric: inf\n",
      "Hyperparams: {'batch_size': 800000, 'L': 5, 'dt': 3.1622776e-07}., sample shape=(1, 10). metric: inf\n",
      "Hyperparams: {'batch_size': 800000, 'L': 5, 'dt': 1e-07}., sample shape=(1, 10). metric: inf\n",
      "Hyperparams: {'batch_size': 800000, 'L': 5, 'dt': 3.1622776e-08}., sample shape=(1, 10). metric: inf\n",
      "Hyperparams: {'batch_size': 800000, 'L': 10, 'dt': 0.1}., sample shape=(1, 10). metric: inf\n",
      "Hyperparams: {'batch_size': 800000, 'L': 10, 'dt': 0.031622775}., sample shape=(1, 10). metric: inf\n",
      "Hyperparams: {'batch_size': 800000, 'L': 10, 'dt': 0.01}., sample shape=(1, 10). metric: inf\n",
      "Hyperparams: {'batch_size': 800000, 'L': 10, 'dt': 0.0031622776}., sample shape=(1, 10). metric: inf\n",
      "Hyperparams: {'batch_size': 800000, 'L': 10, 'dt': 0.001}., sample shape=(1, 10). metric: inf\n",
      "Hyperparams: {'batch_size': 800000, 'L': 10, 'dt': 0.00031622776}., sample shape=(1, 10). metric: inf\n",
      "Hyperparams: {'batch_size': 800000, 'L': 10, 'dt': 1e-04}., sample shape=(1, 10). metric: inf\n",
      "Hyperparams: {'batch_size': 800000, 'L': 10, 'dt': 3.1622778e-05}., sample shape=(1, 10). metric: inf\n",
      "Hyperparams: {'batch_size': 800000, 'L': 10, 'dt': 1e-05}., sample shape=(1, 10). metric: inf\n",
      "Hyperparams: {'batch_size': 800000, 'L': 10, 'dt': 3.1622776e-06}., sample shape=(1, 10). metric: inf\n",
      "Hyperparams: {'batch_size': 800000, 'L': 10, 'dt': 1e-06}., sample shape=(1, 10). metric: inf\n",
      "Hyperparams: {'batch_size': 800000, 'L': 10, 'dt': 3.1622776e-07}., sample shape=(1, 10). metric: inf\n",
      "Hyperparams: {'batch_size': 800000, 'L': 10, 'dt': 1e-07}., sample shape=(1, 10). metric: inf\n",
      "Hyperparams: {'batch_size': 800000, 'L': 10, 'dt': 3.1622776e-08}., sample shape=(1, 10). metric: inf\n",
      "Hyperparams: {'batch_size': 80000, 'L': 5, 'dt': 0.1}., sample shape=(1, 10). metric: inf\n",
      "Hyperparams: {'batch_size': 80000, 'L': 5, 'dt': 0.031622775}., sample shape=(1, 10). metric: inf\n",
      "Hyperparams: {'batch_size': 80000, 'L': 5, 'dt': 0.01}., sample shape=(1, 10). metric: inf\n",
      "Hyperparams: {'batch_size': 80000, 'L': 5, 'dt': 0.0031622776}., sample shape=(1, 10). metric: inf\n",
      "Hyperparams: {'batch_size': 80000, 'L': 5, 'dt': 0.001}., sample shape=(1, 10). metric: inf\n",
      "Hyperparams: {'batch_size': 80000, 'L': 5, 'dt': 0.00031622776}., sample shape=(1, 10). metric: inf\n",
      "Hyperparams: {'batch_size': 80000, 'L': 5, 'dt': 1e-04}., sample shape=(1, 10). metric: inf\n",
      "Hyperparams: {'batch_size': 80000, 'L': 5, 'dt': 3.1622778e-05}., sample shape=(1, 10). metric: inf\n",
      "Hyperparams: {'batch_size': 80000, 'L': 5, 'dt': 1e-05}., sample shape=(1, 10). metric: inf\n",
      "Hyperparams: {'batch_size': 80000, 'L': 5, 'dt': 3.1622776e-06}., sample shape=(1, 10). metric: inf\n",
      "Hyperparams: {'batch_size': 80000, 'L': 5, 'dt': 1e-06}., sample shape=(1, 10). metric: inf\n",
      "Hyperparams: {'batch_size': 80000, 'L': 5, 'dt': 3.1622776e-07}., sample shape=(1, 10). metric: inf\n",
      "Hyperparams: {'batch_size': 80000, 'L': 5, 'dt': 1e-07}., sample shape=(1, 10). metric: inf\n",
      "Hyperparams: {'batch_size': 80000, 'L': 5, 'dt': 3.1622776e-08}., sample shape=(1, 10). metric: inf\n",
      "Hyperparams: {'batch_size': 80000, 'L': 10, 'dt': 0.1}., sample shape=(1, 10). metric: inf\n",
      "Hyperparams: {'batch_size': 80000, 'L': 10, 'dt': 0.031622775}., sample shape=(1, 10). metric: inf\n",
      "Hyperparams: {'batch_size': 80000, 'L': 10, 'dt': 0.01}., sample shape=(1, 10). metric: inf\n",
      "Hyperparams: {'batch_size': 80000, 'L': 10, 'dt': 0.0031622776}., sample shape=(1, 10). metric: inf\n",
      "Hyperparams: {'batch_size': 80000, 'L': 10, 'dt': 0.001}., sample shape=(1, 10). metric: inf\n",
      "Hyperparams: {'batch_size': 80000, 'L': 10, 'dt': 0.00031622776}., sample shape=(1, 10). metric: inf\n",
      "Hyperparams: {'batch_size': 80000, 'L': 10, 'dt': 1e-04}., sample shape=(1, 10). metric: inf\n",
      "Hyperparams: {'batch_size': 80000, 'L': 10, 'dt': 3.1622778e-05}., sample shape=(1, 10). metric: inf\n",
      "Hyperparams: {'batch_size': 80000, 'L': 10, 'dt': 1e-05}., sample shape=(1, 10). metric: inf\n",
      "Hyperparams: {'batch_size': 80000, 'L': 10, 'dt': 3.1622776e-06}., sample shape=(1, 10). metric: inf\n",
      "Hyperparams: {'batch_size': 80000, 'L': 10, 'dt': 1e-06}., sample shape=(1, 10). metric: inf\n",
      "Hyperparams: {'batch_size': 80000, 'L': 10, 'dt': 3.1622776e-07}., sample shape=(1, 10). metric: inf\n",
      "Hyperparams: {'batch_size': 80000, 'L': 10, 'dt': 1e-07}., sample shape=(1, 10). metric: inf\n",
      "Hyperparams: {'batch_size': 80000, 'L': 10, 'dt': 3.1622776e-08}., sample shape=(1, 10). metric: inf\n",
      "Hyperparams: {'batch_size': 8000, 'L': 5, 'dt': 0.1}., sample shape=(3, 10). metric: inf\n",
      "Hyperparams: {'batch_size': 8000, 'L': 5, 'dt': 0.031622775}., sample shape=(3, 10). metric: inf\n",
      "Hyperparams: {'batch_size': 8000, 'L': 5, 'dt': 0.01}., sample shape=(3, 10). metric: inf\n",
      "Hyperparams: {'batch_size': 8000, 'L': 5, 'dt': 0.0031622776}., sample shape=(3, 10). metric: inf\n",
      "Hyperparams: {'batch_size': 8000, 'L': 5, 'dt': 0.001}., sample shape=(3, 10). metric: inf\n",
      "Hyperparams: {'batch_size': 8000, 'L': 5, 'dt': 0.00031622776}., sample shape=(3, 10). metric: inf\n",
      "Hyperparams: {'batch_size': 8000, 'L': 5, 'dt': 1e-04}., sample shape=(3, 10). metric: inf\n",
      "Hyperparams: {'batch_size': 8000, 'L': 5, 'dt': 3.1622778e-05}., sample shape=(3, 10). metric: inf\n",
      "Hyperparams: {'batch_size': 8000, 'L': 5, 'dt': 1e-05}., sample shape=(3, 10). metric: inf\n",
      "Hyperparams: {'batch_size': 8000, 'L': 5, 'dt': 3.1622776e-06}., sample shape=(3, 10). metric: inf\n",
      "Hyperparams: {'batch_size': 8000, 'L': 5, 'dt': 1e-06}., sample shape=(3, 10). metric: 150151\n",
      "Hyperparams: {'batch_size': 8000, 'L': 5, 'dt': 3.1622776e-07}., sample shape=(3, 10). metric: -47194\n",
      "Hyperparams: {'batch_size': 8000, 'L': 5, 'dt': 1e-07}., sample shape=(3, 10). metric: 369482\n",
      "Hyperparams: {'batch_size': 8000, 'L': 5, 'dt': 3.1622776e-08}., sample shape=(3, 10). metric: 720815\n",
      "Hyperparams: {'batch_size': 8000, 'L': 10, 'dt': 0.1}., sample shape=(2, 10). metric: inf\n",
      "Hyperparams: {'batch_size': 8000, 'L': 10, 'dt': 0.031622775}., sample shape=(2, 10). metric: inf\n",
      "Hyperparams: {'batch_size': 8000, 'L': 10, 'dt': 0.01}., sample shape=(2, 10). metric: inf\n",
      "Hyperparams: {'batch_size': 8000, 'L': 10, 'dt': 0.0031622776}., sample shape=(2, 10). metric: inf\n",
      "Hyperparams: {'batch_size': 8000, 'L': 10, 'dt': 0.001}., sample shape=(2, 10). metric: inf\n",
      "Hyperparams: {'batch_size': 8000, 'L': 10, 'dt': 0.00031622776}., sample shape=(2, 10). metric: inf\n",
      "Hyperparams: {'batch_size': 8000, 'L': 10, 'dt': 1e-04}., sample shape=(2, 10). metric: inf\n",
      "Hyperparams: {'batch_size': 8000, 'L': 10, 'dt': 3.1622778e-05}., sample shape=(2, 10). metric: inf\n",
      "Hyperparams: {'batch_size': 8000, 'L': 10, 'dt': 1e-05}., sample shape=(2, 10). metric: inf\n",
      "Hyperparams: {'batch_size': 8000, 'L': 10, 'dt': 3.1622776e-06}., sample shape=(2, 10). metric: inf\n",
      "Hyperparams: {'batch_size': 8000, 'L': 10, 'dt': 1e-06}., sample shape=(2, 10). metric: inf\n",
      "Hyperparams: {'batch_size': 8000, 'L': 10, 'dt': 3.1622776e-07}., sample shape=(2, 10). metric: -7149\n",
      "Hyperparams: {'batch_size': 8000, 'L': 10, 'dt': 1e-07}., sample shape=(2, 10). metric: -185846\n",
      "Hyperparams: {'batch_size': 8000, 'L': 10, 'dt': 3.1622776e-08}., sample shape=(2, 10). metric: 367875\n",
      "\n",
      "Number of samples: [2, 3, 2, 3, 2, 3, 3, 1, 1, 1, 1, 1, 1, 1, 1, 1, 1, 1, 1, 1, 1, 1, 1, 1, 1, 1, 1, 1]\n"
     ]
    },
    {
     "data": {
      "application/vnd.jupyter.widget-view+json": {
       "model_id": "f20e6d7fef1e44f09ed828be1b1eb17f",
       "version_major": 2,
       "version_minor": 0
      },
      "text/plain": [
       "HBox(children=(HTML(value='Iteration 2/4, 28 arms, time budget = 0.15 sec'), FloatProgress(value=0.0, max=28.0…"
      ]
     },
     "metadata": {},
     "output_type": "display_data"
    },
    {
     "name": "stdout",
     "output_type": "stream",
     "text": [
      "Hyperparams: {'batch_size': 8000, 'L': 10, 'dt': 1e-07}., sample shape=(7, 10). metric: 854\n",
      "Hyperparams: {'batch_size': 8000, 'L': 5, 'dt': 3.1622776e-07}., sample shape=(12, 10). metric: 16339\n",
      "Hyperparams: {'batch_size': 8000, 'L': 10, 'dt': 3.1622776e-07}., sample shape=(7, 10). metric: 68222\n",
      "Hyperparams: {'batch_size': 8000, 'L': 5, 'dt': 1e-06}., sample shape=(12, 10). metric: -17310\n",
      "Hyperparams: {'batch_size': 8000, 'L': 10, 'dt': 3.1622776e-08}., sample shape=(7, 10). metric: 13594\n",
      "Hyperparams: {'batch_size': 8000, 'L': 5, 'dt': 1e-07}., sample shape=(12, 10). metric: 24180\n",
      "Hyperparams: {'batch_size': 8000, 'L': 5, 'dt': 3.1622776e-08}., sample shape=(12, 10). metric: 54896\n",
      "Hyperparams: {'batch_size': 800000, 'L': 5, 'dt': 0.1}., sample shape=(2, 10). metric: inf\n",
      "Hyperparams: {'batch_size': 800000, 'L': 5, 'dt': 0.031622775}., sample shape=(2, 10). metric: inf\n",
      "Hyperparams: {'batch_size': 800000, 'L': 5, 'dt': 0.01}., sample shape=(2, 10). metric: inf\n",
      "Hyperparams: {'batch_size': 800000, 'L': 5, 'dt': 0.0031622776}., sample shape=(2, 10). metric: inf\n",
      "Hyperparams: {'batch_size': 800000, 'L': 5, 'dt': 0.001}., sample shape=(2, 10). metric: inf\n",
      "Hyperparams: {'batch_size': 800000, 'L': 5, 'dt': 0.00031622776}., sample shape=(2, 10). metric: inf\n",
      "Hyperparams: {'batch_size': 800000, 'L': 5, 'dt': 1e-04}., sample shape=(2, 10). metric: inf\n",
      "Hyperparams: {'batch_size': 800000, 'L': 5, 'dt': 3.1622778e-05}., sample shape=(2, 10). metric: inf\n",
      "Hyperparams: {'batch_size': 800000, 'L': 5, 'dt': 1e-05}., sample shape=(2, 10). metric: inf\n",
      "Hyperparams: {'batch_size': 800000, 'L': 5, 'dt': 3.1622776e-06}., sample shape=(2, 10). metric: inf\n",
      "Hyperparams: {'batch_size': 800000, 'L': 5, 'dt': 1e-06}., sample shape=(2, 10). metric: inf\n",
      "Hyperparams: {'batch_size': 800000, 'L': 5, 'dt': 3.1622776e-07}., sample shape=(2, 10). metric: inf\n",
      "Hyperparams: {'batch_size': 800000, 'L': 5, 'dt': 1e-07}., sample shape=(2, 10). metric: inf\n",
      "Hyperparams: {'batch_size': 800000, 'L': 5, 'dt': 3.1622776e-08}., sample shape=(2, 10). metric: inf\n",
      "Hyperparams: {'batch_size': 800000, 'L': 10, 'dt': 0.1}., sample shape=(2, 10). metric: inf\n",
      "Hyperparams: {'batch_size': 800000, 'L': 10, 'dt': 0.031622775}., sample shape=(2, 10). metric: inf\n",
      "Hyperparams: {'batch_size': 800000, 'L': 10, 'dt': 0.01}., sample shape=(2, 10). metric: inf\n",
      "Hyperparams: {'batch_size': 800000, 'L': 10, 'dt': 0.0031622776}., sample shape=(2, 10). metric: inf\n",
      "Hyperparams: {'batch_size': 800000, 'L': 10, 'dt': 0.001}., sample shape=(2, 10). metric: inf\n",
      "Hyperparams: {'batch_size': 800000, 'L': 10, 'dt': 0.00031622776}., sample shape=(2, 10). metric: inf\n",
      "Hyperparams: {'batch_size': 800000, 'L': 10, 'dt': 1e-04}., sample shape=(2, 10). metric: inf\n",
      "\n",
      "Number of samples: [12, 7, 7, 12, 12, 12, 7, 2, 2]\n"
     ]
    },
    {
     "data": {
      "application/vnd.jupyter.widget-view+json": {
       "model_id": "b8ca08bcc41c408abaa83dbc3cb743c5",
       "version_major": 2,
       "version_minor": 0
      },
      "text/plain": [
       "HBox(children=(HTML(value='Iteration 3/4, 9 arms, time budget = 0.47 sec'), FloatProgress(value=0.0, max=9.0),…"
      ]
     },
     "metadata": {},
     "output_type": "display_data"
    },
    {
     "name": "stdout",
     "output_type": "stream",
     "text": [
      "Hyperparams: {'batch_size': 8000, 'L': 5, 'dt': 1e-06}., sample shape=(38, 10). metric: -7961\n",
      "Hyperparams: {'batch_size': 8000, 'L': 10, 'dt': 1e-07}., sample shape=(21, 10). metric: 2740\n",
      "Hyperparams: {'batch_size': 8000, 'L': 10, 'dt': 3.1622776e-08}., sample shape=(21, 10). metric: 10702\n",
      "Hyperparams: {'batch_size': 8000, 'L': 5, 'dt': 3.1622776e-07}., sample shape=(38, 10). metric: 7042\n",
      "Hyperparams: {'batch_size': 8000, 'L': 5, 'dt': 1e-07}., sample shape=(38, 10). metric: 13704\n",
      "Hyperparams: {'batch_size': 8000, 'L': 5, 'dt': 3.1622776e-08}., sample shape=(37, 10). metric: 19157\n",
      "Hyperparams: {'batch_size': 8000, 'L': 10, 'dt': 3.1622776e-07}., sample shape=(21, 10). metric: -6979\n",
      "Hyperparams: {'batch_size': 800000, 'L': 5, 'dt': 0.1}., sample shape=(4, 10). metric: inf\n",
      "Hyperparams: {'batch_size': 800000, 'L': 5, 'dt': 0.031622775}., sample shape=(4, 10). metric: inf\n",
      "\n",
      "Number of samples: [38, 21, 21]\n"
     ]
    },
    {
     "data": {
      "application/vnd.jupyter.widget-view+json": {
       "model_id": "e84a390561514159be7861cf8d4d87a8",
       "version_major": 2,
       "version_minor": 0
      },
      "text/plain": [
       "HBox(children=(HTML(value='Iteration 4/4, 3 arms, time budget = 1.40 sec'), FloatProgress(value=0.0, max=3.0),…"
      ]
     },
     "metadata": {},
     "output_type": "display_data"
    },
    {
     "name": "stdout",
     "output_type": "stream",
     "text": [
      "Hyperparams: {'batch_size': 8000, 'L': 5, 'dt': 1e-06}., sample shape=(114, 10). metric: -907\n",
      "Hyperparams: {'batch_size': 8000, 'L': 10, 'dt': 3.1622776e-07}., sample shape=(62, 10). metric: 1184\n",
      "Hyperparams: {'batch_size': 8000, 'L': 10, 'dt': 1e-07}., sample shape=(62, 10). metric: 1651\n",
      "\n",
      "Number of samples: [114]\n",
      "Running time: 174.5 sec\n",
      "{'batch_size': 8000, 'L': 5, 'dt': 1e-06} -906.7637 (114, 10)\n"
     ]
    }
   ],
   "source": [
    "build_kernel = lambda dt, L, batch_size: build_sghmc_kernel(dt, L, loglikelihood, \n",
    "                                                  logprior, data, batch_size)\n",
    "grid_params = {'log_dt': logdt_range, \n",
    "               'batch_size': batch_size_range,\n",
    "               \"L\": [5, 10]\n",
    "              }\n",
    "\n",
    "# build_kernel = lambda dt, L: build_sghmc_kernel(dt, L, loglikelihood, \n",
    "#                                                   logprior, data, fixed_bs)\n",
    "# grid_params = {'log_dt': logdt_range, \n",
    "#                \"L\": [5, 10]\n",
    "#               }\n",
    "best_arm = run_MAMBA(key, build_kernel, error_fn, R, params_IC, \n",
    "                     grid_params=grid_params, get_fb_grads=get_fb_grads)\n",
    "\n",
    "print(best_arm.hyperparameters, best_arm.metric, best_arm.samples.shape)"
   ]
  },
  {
   "cell_type": "code",
   "execution_count": null,
   "id": "ebe57128",
   "metadata": {},
   "outputs": [],
   "source": []
  },
  {
   "cell_type": "code",
   "execution_count": 17,
   "id": "a39f7bf0",
   "metadata": {},
   "outputs": [
    {
     "data": {
      "application/vnd.jupyter.widget-view+json": {
       "model_id": "a98c972151154306bf5d19186e3d9269",
       "version_major": 2,
       "version_minor": 0
      },
      "text/plain": [
       "HBox(children=(HTML(value='Iteration 1/4, 84 arms, time budget = 0.05 sec'), FloatProgress(value=0.0, max=84.0…"
      ]
     },
     "metadata": {},
     "output_type": "display_data"
    },
    {
     "name": "stdout",
     "output_type": "stream",
     "text": [
      "Hyperparams: {'batch_size': 800000, 'L': 5, 'dt': 0.1}., sample shape=(1, 10). metric: inf\n",
      "Hyperparams: {'batch_size': 800000, 'L': 5, 'dt': 0.031622775}., sample shape=(1, 10). metric: inf\n",
      "Hyperparams: {'batch_size': 800000, 'L': 5, 'dt': 0.01}., sample shape=(1, 10). metric: inf\n",
      "Hyperparams: {'batch_size': 800000, 'L': 5, 'dt': 0.0031622776}., sample shape=(1, 10). metric: inf\n",
      "Hyperparams: {'batch_size': 800000, 'L': 5, 'dt': 0.001}., sample shape=(1, 10). metric: inf\n",
      "Hyperparams: {'batch_size': 800000, 'L': 5, 'dt': 0.00031622776}., sample shape=(1, 10). metric: inf\n",
      "Hyperparams: {'batch_size': 800000, 'L': 5, 'dt': 1e-04}., sample shape=(1, 10). metric: inf\n",
      "Hyperparams: {'batch_size': 800000, 'L': 5, 'dt': 3.1622778e-05}., sample shape=(1, 10). metric: inf\n",
      "Hyperparams: {'batch_size': 800000, 'L': 5, 'dt': 1e-05}., sample shape=(1, 10). metric: inf\n",
      "Hyperparams: {'batch_size': 800000, 'L': 5, 'dt': 3.1622776e-06}., sample shape=(1, 10). metric: inf\n",
      "Hyperparams: {'batch_size': 800000, 'L': 5, 'dt': 1e-06}., sample shape=(1, 10). metric: inf\n",
      "Hyperparams: {'batch_size': 800000, 'L': 5, 'dt': 3.1622776e-07}., sample shape=(1, 10). metric: inf\n",
      "Hyperparams: {'batch_size': 800000, 'L': 5, 'dt': 1e-07}., sample shape=(1, 10). metric: inf\n",
      "Hyperparams: {'batch_size': 800000, 'L': 5, 'dt': 3.1622776e-08}., sample shape=(1, 10). metric: inf\n",
      "Hyperparams: {'batch_size': 800000, 'L': 10, 'dt': 0.1}., sample shape=(1, 10). metric: inf\n",
      "Hyperparams: {'batch_size': 800000, 'L': 10, 'dt': 0.031622775}., sample shape=(1, 10). metric: inf\n",
      "Hyperparams: {'batch_size': 800000, 'L': 10, 'dt': 0.01}., sample shape=(1, 10). metric: inf\n",
      "Hyperparams: {'batch_size': 800000, 'L': 10, 'dt': 0.0031622776}., sample shape=(1, 10). metric: inf\n",
      "Hyperparams: {'batch_size': 800000, 'L': 10, 'dt': 0.001}., sample shape=(1, 10). metric: inf\n",
      "Hyperparams: {'batch_size': 800000, 'L': 10, 'dt': 0.00031622776}., sample shape=(1, 10). metric: inf\n",
      "Hyperparams: {'batch_size': 800000, 'L': 10, 'dt': 1e-04}., sample shape=(1, 10). metric: inf\n",
      "Hyperparams: {'batch_size': 800000, 'L': 10, 'dt': 3.1622778e-05}., sample shape=(1, 10). metric: inf\n",
      "Hyperparams: {'batch_size': 800000, 'L': 10, 'dt': 1e-05}., sample shape=(1, 10). metric: inf\n",
      "Hyperparams: {'batch_size': 800000, 'L': 10, 'dt': 3.1622776e-06}., sample shape=(1, 10). metric: inf\n",
      "Hyperparams: {'batch_size': 800000, 'L': 10, 'dt': 1e-06}., sample shape=(1, 10). metric: inf\n",
      "Hyperparams: {'batch_size': 800000, 'L': 10, 'dt': 3.1622776e-07}., sample shape=(1, 10). metric: inf\n",
      "Hyperparams: {'batch_size': 800000, 'L': 10, 'dt': 1e-07}., sample shape=(1, 10). metric: inf\n",
      "Hyperparams: {'batch_size': 800000, 'L': 10, 'dt': 3.1622776e-08}., sample shape=(1, 10). metric: inf\n",
      "Hyperparams: {'batch_size': 80000, 'L': 5, 'dt': 0.1}., sample shape=(1, 10). metric: inf\n",
      "Hyperparams: {'batch_size': 80000, 'L': 5, 'dt': 0.031622775}., sample shape=(1, 10). metric: inf\n",
      "Hyperparams: {'batch_size': 80000, 'L': 5, 'dt': 0.01}., sample shape=(1, 10). metric: inf\n",
      "Hyperparams: {'batch_size': 80000, 'L': 5, 'dt': 0.0031622776}., sample shape=(1, 10). metric: inf\n",
      "Hyperparams: {'batch_size': 80000, 'L': 5, 'dt': 0.001}., sample shape=(1, 10). metric: inf\n",
      "Hyperparams: {'batch_size': 80000, 'L': 5, 'dt': 0.00031622776}., sample shape=(1, 10). metric: inf\n",
      "Hyperparams: {'batch_size': 80000, 'L': 5, 'dt': 1e-04}., sample shape=(1, 10). metric: inf\n",
      "Hyperparams: {'batch_size': 80000, 'L': 5, 'dt': 3.1622778e-05}., sample shape=(1, 10). metric: inf\n",
      "Hyperparams: {'batch_size': 80000, 'L': 5, 'dt': 1e-05}., sample shape=(1, 10). metric: inf\n",
      "Hyperparams: {'batch_size': 80000, 'L': 5, 'dt': 3.1622776e-06}., sample shape=(1, 10). metric: inf\n",
      "Hyperparams: {'batch_size': 80000, 'L': 5, 'dt': 1e-06}., sample shape=(1, 10). metric: inf\n",
      "Hyperparams: {'batch_size': 80000, 'L': 5, 'dt': 3.1622776e-07}., sample shape=(1, 10). metric: inf\n",
      "Hyperparams: {'batch_size': 80000, 'L': 5, 'dt': 1e-07}., sample shape=(1, 10). metric: inf\n",
      "Hyperparams: {'batch_size': 80000, 'L': 5, 'dt': 3.1622776e-08}., sample shape=(1, 10). metric: inf\n",
      "Hyperparams: {'batch_size': 80000, 'L': 10, 'dt': 0.1}., sample shape=(1, 10). metric: inf\n",
      "Hyperparams: {'batch_size': 80000, 'L': 10, 'dt': 0.031622775}., sample shape=(1, 10). metric: inf\n",
      "Hyperparams: {'batch_size': 80000, 'L': 10, 'dt': 0.01}., sample shape=(1, 10). metric: inf\n",
      "Hyperparams: {'batch_size': 80000, 'L': 10, 'dt': 0.0031622776}., sample shape=(1, 10). metric: inf\n",
      "Hyperparams: {'batch_size': 80000, 'L': 10, 'dt': 0.001}., sample shape=(1, 10). metric: inf\n",
      "Hyperparams: {'batch_size': 80000, 'L': 10, 'dt': 0.00031622776}., sample shape=(1, 10). metric: inf\n",
      "Hyperparams: {'batch_size': 80000, 'L': 10, 'dt': 1e-04}., sample shape=(1, 10). metric: inf\n",
      "Hyperparams: {'batch_size': 80000, 'L': 10, 'dt': 3.1622778e-05}., sample shape=(1, 10). metric: inf\n",
      "Hyperparams: {'batch_size': 80000, 'L': 10, 'dt': 1e-05}., sample shape=(1, 10). metric: inf\n",
      "Hyperparams: {'batch_size': 80000, 'L': 10, 'dt': 3.1622776e-06}., sample shape=(1, 10). metric: inf\n",
      "Hyperparams: {'batch_size': 80000, 'L': 10, 'dt': 1e-06}., sample shape=(1, 10). metric: inf\n",
      "Hyperparams: {'batch_size': 80000, 'L': 10, 'dt': 3.1622776e-07}., sample shape=(1, 10). metric: inf\n",
      "Hyperparams: {'batch_size': 80000, 'L': 10, 'dt': 1e-07}., sample shape=(1, 10). metric: inf\n",
      "Hyperparams: {'batch_size': 80000, 'L': 10, 'dt': 3.1622776e-08}., sample shape=(1, 10). metric: inf\n",
      "Hyperparams: {'batch_size': 8000, 'L': 5, 'dt': 0.1}., sample shape=(3, 10). metric: inf\n",
      "Hyperparams: {'batch_size': 8000, 'L': 5, 'dt': 0.031622775}., sample shape=(3, 10). metric: inf\n",
      "Hyperparams: {'batch_size': 8000, 'L': 5, 'dt': 0.01}., sample shape=(3, 10). metric: inf\n",
      "Hyperparams: {'batch_size': 8000, 'L': 5, 'dt': 0.0031622776}., sample shape=(3, 10). metric: inf\n",
      "Hyperparams: {'batch_size': 8000, 'L': 5, 'dt': 0.001}., sample shape=(3, 10). metric: inf\n",
      "Hyperparams: {'batch_size': 8000, 'L': 5, 'dt': 0.00031622776}., sample shape=(3, 10). metric: inf\n",
      "Hyperparams: {'batch_size': 8000, 'L': 5, 'dt': 1e-04}., sample shape=(3, 10). metric: inf\n",
      "Hyperparams: {'batch_size': 8000, 'L': 5, 'dt': 3.1622778e-05}., sample shape=(3, 10). metric: inf\n",
      "Hyperparams: {'batch_size': 8000, 'L': 5, 'dt': 1e-05}., sample shape=(2, 10). metric: inf\n",
      "Hyperparams: {'batch_size': 8000, 'L': 5, 'dt': 3.1622776e-06}., sample shape=(2, 10). metric: 2252383\n",
      "Hyperparams: {'batch_size': 8000, 'L': 5, 'dt': 1e-06}., sample shape=(3, 10). metric: 21090\n",
      "Hyperparams: {'batch_size': 8000, 'L': 5, 'dt': 3.1622776e-07}., sample shape=(2, 10). metric: 2303\n",
      "Hyperparams: {'batch_size': 8000, 'L': 5, 'dt': 1e-07}., sample shape=(3, 10). metric: 228767\n",
      "Hyperparams: {'batch_size': 8000, 'L': 5, 'dt': 3.1622776e-08}., sample shape=(2, 10). metric: 854870\n",
      "Hyperparams: {'batch_size': 8000, 'L': 10, 'dt': 0.1}., sample shape=(2, 10). metric: inf\n",
      "Hyperparams: {'batch_size': 8000, 'L': 10, 'dt': 0.031622775}., sample shape=(2, 10). metric: inf\n",
      "Hyperparams: {'batch_size': 8000, 'L': 10, 'dt': 0.01}., sample shape=(2, 10). metric: inf\n",
      "Hyperparams: {'batch_size': 8000, 'L': 10, 'dt': 0.0031622776}., sample shape=(2, 10). metric: inf\n",
      "Hyperparams: {'batch_size': 8000, 'L': 10, 'dt': 0.001}., sample shape=(2, 10). metric: inf\n",
      "Hyperparams: {'batch_size': 8000, 'L': 10, 'dt': 0.00031622776}., sample shape=(2, 10). metric: inf\n",
      "Hyperparams: {'batch_size': 8000, 'L': 10, 'dt': 1e-04}., sample shape=(2, 10). metric: inf\n",
      "Hyperparams: {'batch_size': 8000, 'L': 10, 'dt': 3.1622778e-05}., sample shape=(2, 10). metric: inf\n",
      "Hyperparams: {'batch_size': 8000, 'L': 10, 'dt': 1e-05}., sample shape=(2, 10). metric: inf\n",
      "Hyperparams: {'batch_size': 8000, 'L': 10, 'dt': 3.1622776e-06}., sample shape=(2, 10). metric: inf\n",
      "Hyperparams: {'batch_size': 8000, 'L': 10, 'dt': 1e-06}., sample shape=(2, 10). metric: inf\n",
      "Hyperparams: {'batch_size': 8000, 'L': 10, 'dt': 3.1622776e-07}., sample shape=(2, 10). metric: -16384\n",
      "Hyperparams: {'batch_size': 8000, 'L': 10, 'dt': 1e-07}., sample shape=(2, 10). metric: -53162\n",
      "Hyperparams: {'batch_size': 8000, 'L': 10, 'dt': 3.1622776e-08}., sample shape=(2, 10). metric: 364462\n",
      "\n",
      "Number of samples: [2, 2, 2, 3, 3, 2, 2, 2, 1, 1, 1, 1, 1, 1, 1, 1, 1, 1, 1, 1, 1, 1, 1, 1, 1, 1, 1, 1]\n"
     ]
    },
    {
     "data": {
      "application/vnd.jupyter.widget-view+json": {
       "model_id": "9df726b0481c4c31a231a0b59ce9bce7",
       "version_major": 2,
       "version_minor": 0
      },
      "text/plain": [
       "HBox(children=(HTML(value='Iteration 2/4, 28 arms, time budget = 0.15 sec'), FloatProgress(value=0.0, max=28.0…"
      ]
     },
     "metadata": {},
     "output_type": "display_data"
    },
    {
     "name": "stdout",
     "output_type": "stream",
     "text": [
      "Hyperparams: {'batch_size': 8000, 'L': 10, 'dt': 1e-07}., sample shape=(6, 10). metric: 992\n",
      "Hyperparams: {'batch_size': 8000, 'L': 10, 'dt': 3.1622776e-07}., sample shape=(6, 10). metric: -67\n",
      "Hyperparams: {'batch_size': 8000, 'L': 5, 'dt': 3.1622776e-07}., sample shape=(10, 10). metric: 5152\n",
      "Hyperparams: {'batch_size': 8000, 'L': 5, 'dt': 1e-06}., sample shape=(11, 10). metric: 859\n",
      "Hyperparams: {'batch_size': 8000, 'L': 5, 'dt': 1e-07}., sample shape=(10, 10). metric: 5894\n",
      "Hyperparams: {'batch_size': 8000, 'L': 10, 'dt': 3.1622776e-08}., sample shape=(6, 10). metric: 50396\n",
      "Hyperparams: {'batch_size': 8000, 'L': 5, 'dt': 3.1622776e-08}., sample shape=(10, 10). metric: 104862\n",
      "Hyperparams: {'batch_size': 8000, 'L': 5, 'dt': 3.1622776e-06}., sample shape=(10, 10). metric: inf\n",
      "Hyperparams: {'batch_size': 800000, 'L': 5, 'dt': 0.1}., sample shape=(2, 10). metric: inf\n",
      "Hyperparams: {'batch_size': 800000, 'L': 5, 'dt': 0.031622775}., sample shape=(2, 10). metric: inf\n",
      "Hyperparams: {'batch_size': 800000, 'L': 5, 'dt': 0.01}., sample shape=(2, 10). metric: inf\n",
      "Hyperparams: {'batch_size': 800000, 'L': 5, 'dt': 0.0031622776}., sample shape=(2, 10). metric: inf\n",
      "Hyperparams: {'batch_size': 800000, 'L': 5, 'dt': 0.001}., sample shape=(2, 10). metric: inf\n",
      "Hyperparams: {'batch_size': 800000, 'L': 5, 'dt': 0.00031622776}., sample shape=(2, 10). metric: inf\n",
      "Hyperparams: {'batch_size': 800000, 'L': 5, 'dt': 1e-04}., sample shape=(2, 10). metric: inf\n",
      "Hyperparams: {'batch_size': 800000, 'L': 5, 'dt': 3.1622778e-05}., sample shape=(2, 10). metric: inf\n",
      "Hyperparams: {'batch_size': 800000, 'L': 5, 'dt': 1e-05}., sample shape=(2, 10). metric: inf\n",
      "Hyperparams: {'batch_size': 800000, 'L': 5, 'dt': 3.1622776e-06}., sample shape=(2, 10). metric: inf\n",
      "Hyperparams: {'batch_size': 800000, 'L': 5, 'dt': 1e-06}., sample shape=(2, 10). metric: inf\n",
      "Hyperparams: {'batch_size': 800000, 'L': 5, 'dt': 3.1622776e-07}., sample shape=(2, 10). metric: inf\n",
      "Hyperparams: {'batch_size': 800000, 'L': 5, 'dt': 1e-07}., sample shape=(2, 10). metric: inf\n",
      "Hyperparams: {'batch_size': 800000, 'L': 5, 'dt': 3.1622776e-08}., sample shape=(2, 10). metric: inf\n",
      "Hyperparams: {'batch_size': 800000, 'L': 10, 'dt': 0.1}., sample shape=(2, 10). metric: inf\n",
      "Hyperparams: {'batch_size': 800000, 'L': 10, 'dt': 0.031622775}., sample shape=(2, 10). metric: inf\n",
      "Hyperparams: {'batch_size': 800000, 'L': 10, 'dt': 0.01}., sample shape=(2, 10). metric: inf\n",
      "Hyperparams: {'batch_size': 800000, 'L': 10, 'dt': 0.0031622776}., sample shape=(2, 10). metric: inf\n",
      "Hyperparams: {'batch_size': 800000, 'L': 10, 'dt': 0.001}., sample shape=(2, 10). metric: inf\n",
      "Hyperparams: {'batch_size': 800000, 'L': 10, 'dt': 0.00031622776}., sample shape=(2, 10). metric: inf\n",
      "\n",
      "Number of samples: [6, 11, 6, 10, 10, 6, 10, 10, 2]\n"
     ]
    },
    {
     "data": {
      "application/vnd.jupyter.widget-view+json": {
       "model_id": "ee7e4e4a9110429c96e65718c519dbc5",
       "version_major": 2,
       "version_minor": 0
      },
      "text/plain": [
       "HBox(children=(HTML(value='Iteration 3/4, 9 arms, time budget = 0.47 sec'), FloatProgress(value=0.0, max=9.0),…"
      ]
     },
     "metadata": {},
     "output_type": "display_data"
    },
    {
     "name": "stdout",
     "output_type": "stream",
     "text": [
      "Hyperparams: {'batch_size': 8000, 'L': 10, 'dt': 3.1622776e-07}., sample shape=(18, 10). metric: -233\n",
      "Hyperparams: {'batch_size': 8000, 'L': 5, 'dt': 1e-06}., sample shape=(34, 10). metric: -780\n",
      "Hyperparams: {'batch_size': 8000, 'L': 10, 'dt': 1e-07}., sample shape=(18, 10). metric: 1646\n",
      "Hyperparams: {'batch_size': 8000, 'L': 5, 'dt': 3.1622776e-07}., sample shape=(32, 10). metric: 4149\n",
      "Hyperparams: {'batch_size': 8000, 'L': 5, 'dt': 1e-07}., sample shape=(32, 10). metric: 7156\n",
      "Hyperparams: {'batch_size': 8000, 'L': 10, 'dt': 3.1622776e-08}., sample shape=(18, 10). metric: 5643\n",
      "Hyperparams: {'batch_size': 8000, 'L': 5, 'dt': 3.1622776e-08}., sample shape=(32, 10). metric: 21566\n",
      "Hyperparams: {'batch_size': 8000, 'L': 5, 'dt': 3.1622776e-06}., sample shape=(33, 10). metric: 48600852\n",
      "Hyperparams: {'batch_size': 800000, 'L': 5, 'dt': 0.1}., sample shape=(3, 10). metric: inf\n",
      "\n",
      "Number of samples: [34, 18, 18]\n"
     ]
    },
    {
     "data": {
      "application/vnd.jupyter.widget-view+json": {
       "model_id": "edaa2ba64339497d894d5410b70df564",
       "version_major": 2,
       "version_minor": 0
      },
      "text/plain": [
       "HBox(children=(HTML(value='Iteration 4/4, 3 arms, time budget = 1.40 sec'), FloatProgress(value=0.0, max=3.0),…"
      ]
     },
     "metadata": {},
     "output_type": "display_data"
    },
    {
     "name": "stdout",
     "output_type": "stream",
     "text": [
      "Hyperparams: {'batch_size': 8000, 'L': 5, 'dt': 1e-06}., sample shape=(101, 10). metric: 295\n",
      "Hyperparams: {'batch_size': 8000, 'L': 10, 'dt': 3.1622776e-07}., sample shape=(53, 10). metric: 558\n",
      "Hyperparams: {'batch_size': 8000, 'L': 10, 'dt': 1e-07}., sample shape=(52, 10). metric: 1268\n",
      "\n",
      "Number of samples: [101]\n",
      "Running time: 212.3 sec\n",
      "{'batch_size': 8000, 'L': 5, 'dt': 1e-06} 295.35696 (101, 10)\n"
     ]
    }
   ],
   "source": [
    "build_kernel = lambda dt, L, batch_size: build_sghmcCV_kernel(dt, L, loglikelihood, \n",
    "                                                  logprior, data, batch_size, centering_value)\n",
    "grid_params = {'log_dt': logdt_range, \n",
    "               'batch_size': batch_size_range,\n",
    "               \"L\": [5, 10]\n",
    "              }\n",
    "\n",
    "# build_kernel = lambda dt, L: build_sghmcCV_kernel(dt, L, loglikelihood, \n",
    "#                                                   logprior, data, fixed_bs, centering_value)\n",
    "# grid_params = {'log_dt': logdt_range, \n",
    "#                \"L\": [5, 10]\n",
    "#               }\n",
    "best_arm = run_MAMBA(key, build_kernel, error_fn, R, params_IC, \n",
    "                     grid_params=grid_params, get_fb_grads=get_fb_grads)\n",
    "\n",
    "print(best_arm.hyperparameters, best_arm.metric, best_arm.samples.shape)"
   ]
  },
  {
   "cell_type": "code",
   "execution_count": 13,
   "id": "2cafa0ac",
   "metadata": {},
   "outputs": [
    {
     "data": {
      "application/vnd.jupyter.widget-view+json": {
       "model_id": "ff90a32c43af4c1792616e70ff916f1a",
       "version_major": 2,
       "version_minor": 0
      },
      "text/plain": [
       "HBox(children=(HTML(value='Iteration 1/2, 14 arms, time budget = 0.25 sec'), FloatProgress(value=0.0, max=14.0…"
      ]
     },
     "metadata": {},
     "output_type": "display_data"
    },
    {
     "name": "stdout",
     "output_type": "stream",
     "text": [
      "Hyperparams: {'dt': 0.1}., sample shape=(97, 10). metric: inf\n",
      "Hyperparams: {'dt': 0.031622775}., sample shape=(97, 10). metric: inf\n",
      "Hyperparams: {'dt': 0.01}., sample shape=(97, 10). metric: inf\n",
      "Hyperparams: {'dt': 0.0031622776}., sample shape=(97, 10). metric: inf\n",
      "Hyperparams: {'dt': 0.001}., sample shape=(99, 10). metric: inf\n",
      "Hyperparams: {'dt': 0.00031622776}., sample shape=(98, 10). metric: inf\n",
      "Hyperparams: {'dt': 1e-04}., sample shape=(97, 10). metric: inf\n",
      "Hyperparams: {'dt': 3.1622778e-05}., sample shape=(99, 10). metric: 313\n",
      "Hyperparams: {'dt': 1e-05}., sample shape=(97, 10). metric: 243\n",
      "Hyperparams: {'dt': 3.1622776e-06}., sample shape=(99, 10). metric: 189\n",
      "Hyperparams: {'dt': 1e-06}., sample shape=(97, 10). metric: 165\n",
      "Hyperparams: {'dt': 3.1622776e-07}., sample shape=(98, 10). metric: 170\n",
      "Hyperparams: {'dt': 1e-07}., sample shape=(95, 10). metric: 325\n",
      "Hyperparams: {'dt': 3.1622776e-08}., sample shape=(96, 10). metric: 497\n",
      "\n",
      "Number of samples: [97, 98, 99, 97]\n"
     ]
    },
    {
     "data": {
      "application/vnd.jupyter.widget-view+json": {
       "model_id": "185b0188345741a28c0c894f6c69a11c",
       "version_major": 2,
       "version_minor": 0
      },
      "text/plain": [
       "HBox(children=(HTML(value='Iteration 2/2, 4 arms, time budget = 0.88 sec'), FloatProgress(value=0.0, max=4.0),…"
      ]
     },
     "metadata": {},
     "output_type": "display_data"
    },
    {
     "name": "stdout",
     "output_type": "stream",
     "text": [
      "Hyperparams: {'dt': 1e-06}., sample shape=(386, 10). metric: 90\n",
      "Hyperparams: {'dt': 3.1622776e-07}., sample shape=(382, 10). metric: 63\n",
      "Hyperparams: {'dt': 3.1622776e-06}., sample shape=(383, 10). metric: 90\n",
      "Hyperparams: {'dt': 1e-05}., sample shape=(384, 10). metric: 152\n",
      "\n",
      "Number of samples: [382]\n",
      "Running time: 43.1 sec\n",
      "{'dt': 3.1622776e-07} 63.38139 (382, 10)\n"
     ]
    }
   ],
   "source": [
    "# build_kernel = lambda dt, batch_size: build_sgnht_kernel(dt, loglikelihood, logprior, data, batch_size)\n",
    "# grid_params = {'log_dt': logdt_range, \n",
    "#                'batch_size': batch_size_range\n",
    "#               }\n",
    "\n",
    "build_kernel = lambda dt: build_sgnht_kernel(dt, loglikelihood, logprior, data, fixed_bs)\n",
    "grid_params = {'log_dt': logdt_range}\n",
    "best_arm = run_MAMBA(key, build_kernel, error_fn, R, params_IC, \n",
    "                     grid_params=grid_params)#, get_fb_grads=get_fb_grads)\n",
    "\n",
    "print(best_arm.hyperparameters, best_arm.metric, best_arm.samples.shape)"
   ]
  },
  {
   "cell_type": "code",
   "execution_count": 14,
   "id": "ada995a7",
   "metadata": {},
   "outputs": [
    {
     "data": {
      "application/vnd.jupyter.widget-view+json": {
       "model_id": "21778b86e5a148b4a1bf428425844548",
       "version_major": 2,
       "version_minor": 0
      },
      "text/plain": [
       "HBox(children=(HTML(value='Iteration 1/2, 14 arms, time budget = 0.25 sec'), FloatProgress(value=0.0, max=14.0…"
      ]
     },
     "metadata": {},
     "output_type": "display_data"
    },
    {
     "name": "stdout",
     "output_type": "stream",
     "text": [
      "Hyperparams: {'dt': 0.1}., sample shape=(8, 10). metric: inf\n",
      "Hyperparams: {'dt': 0.031622775}., sample shape=(8, 10). metric: inf\n",
      "Hyperparams: {'dt': 0.01}., sample shape=(8, 10). metric: inf\n",
      "Hyperparams: {'dt': 0.0031622776}., sample shape=(7, 10). metric: inf\n",
      "Hyperparams: {'dt': 0.001}., sample shape=(8, 10). metric: inf\n",
      "Hyperparams: {'dt': 0.00031622776}., sample shape=(7, 10). metric: inf\n",
      "Hyperparams: {'dt': 1e-04}., sample shape=(8, 10). metric: inf\n",
      "Hyperparams: {'dt': 3.1622778e-05}., sample shape=(7, 10). metric: 286\n",
      "Hyperparams: {'dt': 1e-05}., sample shape=(8, 10). metric: 219\n",
      "Hyperparams: {'dt': 3.1622776e-06}., sample shape=(8, 10). metric: 280\n",
      "Hyperparams: {'dt': 1e-06}., sample shape=(7, 10). metric: 173\n",
      "Hyperparams: {'dt': 3.1622776e-07}., sample shape=(8, 10). metric: 204\n",
      "Hyperparams: {'dt': 1e-07}., sample shape=(7, 10). metric: 359\n",
      "Hyperparams: {'dt': 3.1622776e-08}., sample shape=(8, 10). metric: 549\n",
      "\n",
      "Number of samples: [7, 8, 8, 8]\n"
     ]
    },
    {
     "data": {
      "application/vnd.jupyter.widget-view+json": {
       "model_id": "063c1795941c486e8e4a337a67b6de58",
       "version_major": 2,
       "version_minor": 0
      },
      "text/plain": [
       "HBox(children=(HTML(value='Iteration 2/2, 4 arms, time budget = 0.88 sec'), FloatProgress(value=0.0, max=4.0),…"
      ]
     },
     "metadata": {},
     "output_type": "display_data"
    },
    {
     "name": "stdout",
     "output_type": "stream",
     "text": [
      "Hyperparams: {'dt': 1e-06}., sample shape=(32, 10). metric: 58\n",
      "Hyperparams: {'dt': 3.1622776e-07}., sample shape=(33, 10). metric: 56\n",
      "Hyperparams: {'dt': 1e-05}., sample shape=(32, 10). metric: 87\n",
      "Hyperparams: {'dt': 3.1622776e-06}., sample shape=(33, 10). metric: 12\n",
      "\n",
      "Number of samples: [33]\n",
      "Running time: 50.8 sec\n",
      "{'dt': 3.1622776e-06} 12.241525 (33, 10)\n"
     ]
    }
   ],
   "source": [
    "# build_kernel = lambda dt, batch_size: build_sgnhtCV_kernel(dt, loglikelihood, \n",
    "#                                                   logprior, data, batch_size, centering_value)\n",
    "# grid_params = {'log_dt': logdt_range, \n",
    "#                'batch_size': batch_size_range\n",
    "#               }\n",
    "\n",
    "build_kernel = lambda dt: build_sgnhtCV_kernel(dt, loglikelihood, \n",
    "                                                  logprior, data, fixed_bs, centering_value)\n",
    "grid_params = {'log_dt': logdt_range}\n",
    "best_arm = run_MAMBA(key, build_kernel, error_fn, R, params_IC, \n",
    "                     grid_params=grid_params, get_fb_grads=get_fb_grads)\n",
    "\n",
    "print(best_arm.hyperparameters, best_arm.metric, best_arm.samples.shape)"
   ]
  },
  {
   "cell_type": "code",
   "execution_count": null,
   "id": "ec0f4428",
   "metadata": {},
   "outputs": [],
   "source": []
  },
  {
   "cell_type": "code",
   "execution_count": null,
   "id": "4399056c",
   "metadata": {},
   "outputs": [],
   "source": []
  }
 ],
 "metadata": {
  "kernelspec": {
   "display_name": "Python 3",
   "language": "python",
   "name": "python3"
  },
  "language_info": {
   "codemirror_mode": {
    "name": "ipython",
    "version": 3
   },
   "file_extension": ".py",
   "mimetype": "text/x-python",
   "name": "python",
   "nbconvert_exporter": "python",
   "pygments_lexer": "ipython3",
   "version": "3.8.2"
  }
 },
 "nbformat": 4,
 "nbformat_minor": 5
}
