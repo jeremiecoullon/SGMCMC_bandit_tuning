{
 "cells": [
  {
   "cell_type": "code",
   "execution_count": 1,
   "id": "942ba72f",
   "metadata": {},
   "outputs": [],
   "source": [
    "%matplotlib inline\n",
    "import matplotlib.pyplot as plt\n",
    "import numpy as np\n",
    "\n",
    "from jax import jit, random\n",
    "from sgmcmcjax.optimizer import build_adam_optimizer\n",
    "\n",
    "import context"
   ]
  },
  {
   "cell_type": "markdown",
   "id": "10ad0460",
   "metadata": {},
   "source": [
    "# get MAP for NN and PMF\n",
    "\n",
    "## 1. NN\n",
    "\n"
   ]
  },
  {
   "cell_type": "code",
   "execution_count": 2,
   "id": "0f4821b5",
   "metadata": {},
   "outputs": [
    {
     "name": "stderr",
     "output_type": "stream",
     "text": [
      "WARNING:absl:No GPU/TPU found, falling back to CPU. (Set TF_CPP_MIN_LOG_LEVEL=0 and rerun for more info.)\n"
     ]
    }
   ],
   "source": [
    "from models.bayesian_NN.NN_model import logprior, loglikelihood, init_network, accuracy\n",
    "from models.bayesian_NN.NN_data import X_train, y_train, X_test, y_test\n",
    "\n",
    "dt = 1e-3\n",
    "batch_size = int(0.1*X_train.shape[0])\n",
    "data = (X_train, y_train)\n",
    "\n",
    "run_adam = build_adam_optimizer(dt, loglikelihood, logprior, data, batch_size)\n",
    "run_adam = jit(run_adam, static_argnums=(1,))"
   ]
  },
  {
   "cell_type": "code",
   "execution_count": 3,
   "id": "7b4baaf0",
   "metadata": {},
   "outputs": [
    {
     "data": {
      "application/vnd.jupyter.widget-view+json": {
       "model_id": "c81fa932272f42a8a3476deb1eed1b8e",
       "version_major": 2,
       "version_minor": 0
      },
      "text/plain": [
       "HBox(children=(HTML(value=''), FloatProgress(value=0.0, max=5000.0), HTML(value='')))"
      ]
     },
     "metadata": {},
     "output_type": "display_data"
    },
    {
     "name": "stdout",
     "output_type": "stream",
     "text": [
      "\n",
      "0.93439996\n"
     ]
    },
    {
     "data": {
      "image/png": "[encoded data removed]",
      "text/plain": [
       "<Figure size 432x288 with 1 Axes>"
      ]
     },
     "metadata": {
      "needs_background": "light"
     },
     "output_type": "display_data"
    }
   ],
   "source": [
    "\n",
    "Niters = 5_000\n",
    "key = random.PRNGKey(0)\n",
    "params_IC = init_network(key)\n",
    "\n",
    "opt_params, logpost_array = run_adam(key, Niters, params_IC)\n",
    "\n",
    "plt.plot(logpost_array)\n",
    "\n",
    "print(accuracy(opt_params, X_test, y_test))\n",
    "\n",
    "# np.save(\"../parameters/NN_MAP.npy\", opt_params)"
   ]
  },
  {
   "cell_type": "markdown",
   "id": "db85c8b2",
   "metadata": {},
   "source": [
    "## 2. PMF\n",
    "\n"
   ]
  },
  {
   "cell_type": "code",
   "execution_count": 4,
   "id": "2ada2773",
   "metadata": {},
   "outputs": [],
   "source": [
    "from models.PMF.pmf_model import loglikelihood, logprior\n",
    "from models.PMF.util import R_train, R_test, rmse_1sample, init_params\n",
    "\n",
    "\n",
    "dt = 1e-3\n",
    "batch_size = int(0.1*R_train.shape[0])\n",
    "data = (R_train, )\n",
    "\n",
    "run_adam = build_adam_optimizer(dt, loglikelihood, logprior, data, batch_size)\n",
    "run_adam = jit(run_adam, static_argnums=(1,))"
   ]
  },
  {
   "cell_type": "code",
   "execution_count": 5,
   "id": "db7a9c09",
   "metadata": {},
   "outputs": [],
   "source": [
    "\n",
    "Niters = 20_000\n",
    "key = random.PRNGKey(0)\n",
    "params_IC = init_params(key)\n",
    "\n",
    "opt_params, logpost_array = run_adam(key, Niters, params_IC)\n"
   ]
  },
  {
   "cell_type": "code",
   "execution_count": 6,
   "id": "2077170a",
   "metadata": {},
   "outputs": [
    {
     "data": {
      "application/vnd.jupyter.widget-view+json": {
       "model_id": "16346aaa62704577a51583cd4fd60364",
       "version_major": 2,
       "version_minor": 0
      },
      "text/plain": [
       "HBox(children=(HTML(value=''), FloatProgress(value=0.0, max=20000.0), HTML(value='')))"
      ]
     },
     "metadata": {},
     "output_type": "display_data"
    },
    {
     "name": "stdout",
     "output_type": "stream",
     "text": [
      "\n",
      "7300.788\n",
      "0.95630926\n"
     ]
    },
    {
     "data": {
      "image/png": "[encoded data removed]",
      "text/plain": [
       "<Figure size 432x288 with 1 Axes>"
      ]
     },
     "metadata": {
      "needs_background": "light"
     },
     "output_type": "display_data"
    }
   ],
   "source": [
    "\n",
    "plt.plot(logpost_array)\n",
    "print(logpost_array[-1])\n",
    "print(rmse_1sample(opt_params))\n",
    "\n",
    "# np.save(\"../parameters/PMF_MAP.npy\", opt_params)"
   ]
  },
  {
   "cell_type": "code",
   "execution_count": null,
   "id": "4eff1771",
   "metadata": {},
   "outputs": [],
   "source": []
  }
 ],
 "metadata": {
  "kernelspec": {
   "display_name": "Python 3",
   "language": "python",
   "name": "python3"
  },
  "language_info": {
   "codemirror_mode": {
    "name": "ipython",
    "version": 3
   },
   "file_extension": ".py",
   "mimetype": "text/x-python",
   "name": "python",
   "nbconvert_exporter": "python",
   "pygments_lexer": "ipython3",
   "version": "3.8.2"
  }
 },
 "nbformat": 4,
 "nbformat_minor": 5
}
