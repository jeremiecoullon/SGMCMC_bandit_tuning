{
 "cells": [
  {
   "cell_type": "code",
   "execution_count": 1,
   "id": "906fd9ec",
   "metadata": {},
   "outputs": [
    {
     "name": "stderr",
     "output_type": "stream",
     "text": [
      "WARNING:absl:No GPU/TPU found, falling back to CPU. (Set TF_CPP_MIN_LOG_LEVEL=0 and rerun for more info.)\n"
     ]
    }
   ],
   "source": [
    "%matplotlib inline\n",
    "import matplotlib.pyplot as plt\n",
    "import numpy as np\n",
    "\n",
    "import jax.numpy as jnp\n",
    "from jax import jit, random\n",
    "\n",
    "from sgmcmcjax.kernels import build_sgld_kernel, build_sghmc_kernel, build_sgnht_kernel\n",
    "from sgmcmcjax.kernels import build_sgldCV_kernel, build_sghmcCV_kernel, build_sgnhtCV_kernel\n",
    "from sgmcmcjax.optimizer import build_adam_optimizer\n",
    "from sgmcmcjax.util import build_grad_log_post\n",
    "\n",
    "import context\n",
    "\n",
    "from models.bayesian_NN.NN_model import logprior, loglikelihood, init_network\n",
    "from models.bayesian_NN.NN_data import X_train, y_train, X_test, y_test\n",
    "from models.bayesian_NN.util import load_NN_MAP\n",
    "\n",
    "from tuning.mamba import run_MAMBA\n",
    "from tuning.ksd import imq_KSD\n"
   ]
  },
  {
   "cell_type": "markdown",
   "id": "a01ea2b4",
   "metadata": {},
   "source": [
    "# NN - MAMBA"
   ]
  },
  {
   "cell_type": "code",
   "execution_count": 2,
   "id": "1aff4d07",
   "metadata": {},
   "outputs": [],
   "source": [
    "data = (X_train, y_train)\n",
    "\n",
    "key = random.PRNGKey(0)\n",
    "params_IC = load_NN_MAP()\n",
    "centering_value = load_NN_MAP()\n",
    "\n",
    "err_fn = lambda x,y: imq_KSD(x[:5], y[:5])\n",
    "\n",
    "# T = 15\n",
    "# T = 20\n",
    "\n",
    "R = 3"
   ]
  },
  {
   "cell_type": "code",
   "execution_count": null,
   "id": "5f379c1e",
   "metadata": {},
   "outputs": [],
   "source": []
  },
  {
   "cell_type": "code",
   "execution_count": 3,
   "id": "a15d1513",
   "metadata": {},
   "outputs": [],
   "source": [
    "grad_log_post_fb = build_grad_log_post(loglikelihood, logprior, data)\n",
    "\n",
    "\n",
    "def get_fb_grads(samples):\n",
    "    thin=5\n",
    "    mygrads = [grad_log_post_fb(sam, *data) for sam in samples[::thin]]\n",
    "    \n",
    "    return samples[::thin], mygrads"
   ]
  },
  {
   "cell_type": "markdown",
   "id": "912e1f22",
   "metadata": {},
   "source": [
    "### run MAMBA"
   ]
  },
  {
   "cell_type": "code",
   "execution_count": 4,
   "id": "180a1973",
   "metadata": {
    "collapsed": true
   },
   "outputs": [
    {
     "data": {
      "application/vnd.jupyter.widget-view+json": {
       "model_id": "df7e14f7b9be4c55afc53e96b1d78fd5",
       "version_major": 2,
       "version_minor": 0
      },
      "text/plain": [
       "HBox(children=(HTML(value='Iteration 1/3, 48 arms, time budget = 0.23 sec'), FloatProgress(value=0.0, max=48.0…"
      ]
     },
     "metadata": {},
     "output_type": "display_data"
    },
    {
     "name": "stdout",
     "output_type": "stream",
     "text": [
      "Hyperparams: {'batch_size': 60000, 'dt': 0.01}. metric: 38431\n",
      "Hyperparams: {'batch_size': 60000, 'dt': 0.0031622776}. metric: 36401\n",
      "Hyperparams: {'batch_size': 60000, 'dt': 0.001}. metric: 33733\n",
      "Hyperparams: {'batch_size': 60000, 'dt': 0.00031622776}. metric: 25788\n",
      "Hyperparams: {'batch_size': 60000, 'dt': 1e-04}. metric: 23065\n",
      "Hyperparams: {'batch_size': 60000, 'dt': 3.1622778e-05}. metric: 2650\n",
      "Hyperparams: {'batch_size': 60000, 'dt': 1e-05}. metric: 704\n",
      "Hyperparams: {'batch_size': 60000, 'dt': 3.1622776e-06}. metric: 895\n",
      "Hyperparams: {'batch_size': 60000, 'dt': 1e-06}. metric: 1168\n",
      "Hyperparams: {'batch_size': 60000, 'dt': 3.1622776e-07}. metric: 1323\n",
      "Hyperparams: {'batch_size': 60000, 'dt': 1e-07}. metric: 1431\n",
      "Hyperparams: {'batch_size': 60000, 'dt': 3.1622776e-08}. metric: 1403\n",
      "Hyperparams: {'batch_size': 6000, 'dt': 0.01}. metric: 32400\n",
      "Hyperparams: {'batch_size': 6000, 'dt': 0.0031622776}. metric: 27769\n",
      "Hyperparams: {'batch_size': 6000, 'dt': 0.001}. metric: 24025\n",
      "Hyperparams: {'batch_size': 6000, 'dt': 0.00031622776}. metric: 18580\n",
      "Hyperparams: {'batch_size': 6000, 'dt': 1e-04}. metric: 26792\n",
      "Hyperparams: {'batch_size': 6000, 'dt': 3.1622778e-05}. metric: 8041\n",
      "Hyperparams: {'batch_size': 6000, 'dt': 1e-05}. metric: 1204\n",
      "Hyperparams: {'batch_size': 6000, 'dt': 3.1622776e-06}. metric: 1253\n",
      "Hyperparams: {'batch_size': 6000, 'dt': 1e-06}. metric: 1754\n",
      "Hyperparams: {'batch_size': 6000, 'dt': 3.1622776e-07}. metric: 1853\n",
      "Hyperparams: {'batch_size': 6000, 'dt': 1e-07}. metric: 1464\n",
      "Hyperparams: {'batch_size': 6000, 'dt': 3.1622776e-08}. metric: 1495\n",
      "Hyperparams: {'batch_size': 600, 'dt': 0.01}. metric: 35908\n",
      "Hyperparams: {'batch_size': 600, 'dt': 0.0031622776}. metric: 29687\n",
      "Hyperparams: {'batch_size': 600, 'dt': 0.001}. metric: 31554\n",
      "Hyperparams: {'batch_size': 600, 'dt': 0.00031622776}. metric: 22754\n",
      "Hyperparams: {'batch_size': 600, 'dt': 1e-04}. metric: 19340\n",
      "Hyperparams: {'batch_size': 600, 'dt': 3.1622778e-05}. metric: 11080\n",
      "Hyperparams: {'batch_size': 600, 'dt': 1e-05}. metric: 4009\n",
      "Hyperparams: {'batch_size': 600, 'dt': 3.1622776e-06}. metric: 3180\n",
      "Hyperparams: {'batch_size': 600, 'dt': 1e-06}. metric: 3341\n",
      "Hyperparams: {'batch_size': 600, 'dt': 3.1622776e-07}. metric: 4036\n",
      "Hyperparams: {'batch_size': 600, 'dt': 1e-07}. metric: 3404\n",
      "Hyperparams: {'batch_size': 600, 'dt': 3.1622776e-08}. metric: 4175\n",
      "Hyperparams: {'batch_size': 60, 'dt': 0.01}. metric: 37170\n",
      "Hyperparams: {'batch_size': 60, 'dt': 0.0031622776}. metric: 37137\n",
      "Hyperparams: {'batch_size': 60, 'dt': 0.001}. metric: 29754\n",
      "Hyperparams: {'batch_size': 60, 'dt': 0.00031622776}. metric: 24252\n",
      "Hyperparams: {'batch_size': 60, 'dt': 1e-04}. metric: 25799\n",
      "Hyperparams: {'batch_size': 60, 'dt': 3.1622778e-05}. metric: 17817\n",
      "Hyperparams: {'batch_size': 60, 'dt': 1e-05}. metric: 13161\n",
      "Hyperparams: {'batch_size': 60, 'dt': 3.1622776e-06}. metric: 11146\n",
      "Hyperparams: {'batch_size': 60, 'dt': 1e-06}. metric: 10338\n",
      "Hyperparams: {'batch_size': 60, 'dt': 3.1622776e-07}. metric: 11353\n",
      "Hyperparams: {'batch_size': 60, 'dt': 1e-07}. metric: 10479\n",
      "Hyperparams: {'batch_size': 60, 'dt': 3.1622776e-08}. metric: 9463\n",
      "\n",
      "Number of samples: [4, 4, 4, 17, 17, 4, 4, 4, 17, 17, 17, 17, 4, 109, 109, 110]\n"
     ]
    },
    {
     "data": {
      "application/vnd.jupyter.widget-view+json": {
       "model_id": "fcde7e3472ab40e2965eb7e8cfcece67",
       "version_major": 2,
       "version_minor": 0
      },
      "text/plain": [
       "HBox(children=(HTML(value='Iteration 2/3, 16 arms, time budget = 0.69 sec'), FloatProgress(value=0.0, max=16.0…"
      ]
     },
     "metadata": {},
     "output_type": "display_data"
    },
    {
     "name": "stdout",
     "output_type": "stream",
     "text": [
      "Hyperparams: {'batch_size': 60000, 'dt': 1e-05}. metric: 632\n",
      "Hyperparams: {'batch_size': 60000, 'dt': 3.1622776e-06}. metric: 846\n",
      "Hyperparams: {'batch_size': 60000, 'dt': 1e-06}. metric: 953\n",
      "Hyperparams: {'batch_size': 6000, 'dt': 1e-05}. metric: 1192\n",
      "Hyperparams: {'batch_size': 6000, 'dt': 3.1622776e-06}. metric: 1562\n",
      "Hyperparams: {'batch_size': 60000, 'dt': 3.1622776e-07}. metric: 1223\n",
      "Hyperparams: {'batch_size': 60000, 'dt': 3.1622776e-08}. metric: 1366\n",
      "Hyperparams: {'batch_size': 60000, 'dt': 1e-07}. metric: 1373\n",
      "Hyperparams: {'batch_size': 6000, 'dt': 1e-07}. metric: 1800\n",
      "Hyperparams: {'batch_size': 6000, 'dt': 3.1622776e-08}. metric: 1415\n",
      "Hyperparams: {'batch_size': 6000, 'dt': 1e-06}. metric: 1474\n",
      "Hyperparams: {'batch_size': 6000, 'dt': 3.1622776e-07}. metric: 1677\n",
      "Hyperparams: {'batch_size': 60000, 'dt': 3.1622778e-05}. metric: 13816\n",
      "Hyperparams: {'batch_size': 600, 'dt': 3.1622776e-06}. metric: 3378\n",
      "Hyperparams: {'batch_size': 600, 'dt': 1e-06}. metric: 3333\n",
      "Hyperparams: {'batch_size': 600, 'dt': 1e-07}. metric: 3174\n",
      "\n",
      "Number of samples: [12, 12, 11, 57, 12]\n"
     ]
    },
    {
     "data": {
      "application/vnd.jupyter.widget-view+json": {
       "model_id": "87a1de780ec24192ade7b15c9fc22b67",
       "version_major": 2,
       "version_minor": 0
      },
      "text/plain": [
       "HBox(children=(HTML(value='Iteration 3/3, 5 arms, time budget = 2.22 sec'), FloatProgress(value=0.0, max=5.0),…"
      ]
     },
     "metadata": {},
     "output_type": "display_data"
    },
    {
     "name": "stdout",
     "output_type": "stream",
     "text": [
      "Hyperparams: {'batch_size': 60000, 'dt': 1e-05}. metric: 682\n",
      "Hyperparams: {'batch_size': 60000, 'dt': 3.1622776e-06}. metric: 832\n",
      "Hyperparams: {'batch_size': 60000, 'dt': 1e-06}. metric: 900\n",
      "Hyperparams: {'batch_size': 6000, 'dt': 1e-05}. metric: 1357\n",
      "Hyperparams: {'batch_size': 60000, 'dt': 3.1622776e-07}. metric: 1274\n",
      "\n",
      "Number of samples: [35]\n",
      "Running time: 290.2 sec\n",
      "{'batch_size': 60000, 'dt': 1e-05} 681.99176 (35, 79510)\n"
     ]
    }
   ],
   "source": [
    "build_kernel = lambda dt, batch_size: build_sgld_kernel(dt, loglikelihood, logprior, data, batch_size)\n",
    "\n",
    "grid_params = {'log_dt': -jnp.arange(2., 8., 0.5), \n",
    "               'batch_size': [int(10**(-elem)*X_train.shape[0]) for elem in range(0,4)]\n",
    "              }\n",
    "best_arm = run_MAMBA(key, build_kernel, err_fn, R, params_IC, grid_params=grid_params)\n",
    "\n",
    "print(best_arm.hyperparameters, best_arm.metric, best_arm.samples.shape)"
   ]
  },
  {
   "cell_type": "code",
   "execution_count": 6,
   "id": "0c79e224",
   "metadata": {
    "collapsed": true
   },
   "outputs": [
    {
     "data": {
      "application/vnd.jupyter.widget-view+json": {
       "model_id": "56863097f5c6417a8a352c977c636034",
       "version_major": 2,
       "version_minor": 0
      },
      "text/plain": [
       "HBox(children=(HTML(value='Iteration 1/3, 48 arms, time budget = 0.23 sec'), FloatProgress(value=0.0, max=48.0…"
      ]
     },
     "metadata": {},
     "output_type": "display_data"
    },
    {
     "name": "stdout",
     "output_type": "stream",
     "text": [
      "Hyperparams: {'batch_size': 60000, 'dt': 0.01}. metric: 81625\n",
      "Hyperparams: {'batch_size': 60000, 'dt': 0.0031622776}. metric: 108797\n",
      "Hyperparams: {'batch_size': 60000, 'dt': 0.001}. metric: 83430\n",
      "Hyperparams: {'batch_size': 60000, 'dt': 0.00031622776}. metric: 29712\n",
      "Hyperparams: {'batch_size': 60000, 'dt': 1e-04}. metric: 8383\n",
      "Hyperparams: {'batch_size': 60000, 'dt': 3.1622778e-05}. metric: 1920\n",
      "Hyperparams: {'batch_size': 60000, 'dt': 1e-05}. metric: 1045\n",
      "Hyperparams: {'batch_size': 60000, 'dt': 3.1622776e-06}. metric: 1288\n",
      "Hyperparams: {'batch_size': 60000, 'dt': 1e-06}. metric: 1438\n",
      "Hyperparams: {'batch_size': 60000, 'dt': 3.1622776e-07}. metric: 1362\n",
      "Hyperparams: {'batch_size': 60000, 'dt': 1e-07}. metric: 1444\n",
      "Hyperparams: {'batch_size': 60000, 'dt': 3.1622776e-08}. metric: 1421\n",
      "Hyperparams: {'batch_size': 6000, 'dt': 0.01}. metric: 38681\n",
      "Hyperparams: {'batch_size': 6000, 'dt': 0.0031622776}. metric: 35481\n",
      "Hyperparams: {'batch_size': 6000, 'dt': 0.001}. metric: 29399\n",
      "Hyperparams: {'batch_size': 6000, 'dt': 0.00031622776}. metric: 9437\n",
      "Hyperparams: {'batch_size': 6000, 'dt': 1e-04}. metric: 6832\n",
      "Hyperparams: {'batch_size': 6000, 'dt': 3.1622778e-05}. metric: 14426\n",
      "Hyperparams: {'batch_size': 6000, 'dt': 1e-05}. metric: 827\n",
      "Hyperparams: {'batch_size': 6000, 'dt': 3.1622776e-06}. metric: 916\n",
      "Hyperparams: {'batch_size': 6000, 'dt': 1e-06}. metric: 738\n",
      "Hyperparams: {'batch_size': 6000, 'dt': 3.1622776e-07}. metric: 1548\n",
      "Hyperparams: {'batch_size': 6000, 'dt': 1e-07}. metric: 1419\n",
      "Hyperparams: {'batch_size': 6000, 'dt': 3.1622776e-08}. metric: 1477\n",
      "Hyperparams: {'batch_size': 600, 'dt': 0.01}. metric: 17540\n",
      "Hyperparams: {'batch_size': 600, 'dt': 0.0031622776}. metric: 16829\n",
      "Hyperparams: {'batch_size': 600, 'dt': 0.001}. metric: 16299\n",
      "Hyperparams: {'batch_size': 600, 'dt': 0.00031622776}. metric: 4480\n",
      "Hyperparams: {'batch_size': 600, 'dt': 1e-04}. metric: 3325\n",
      "Hyperparams: {'batch_size': 600, 'dt': 3.1622778e-05}. metric: 4542\n",
      "Hyperparams: {'batch_size': 600, 'dt': 1e-05}. metric: 1100\n",
      "Hyperparams: {'batch_size': 600, 'dt': 3.1622776e-06}. metric: 601\n",
      "Hyperparams: {'batch_size': 600, 'dt': 1e-06}. metric: 783\n",
      "Hyperparams: {'batch_size': 600, 'dt': 3.1622776e-07}. metric: 873\n",
      "Hyperparams: {'batch_size': 600, 'dt': 1e-07}. metric: 945\n",
      "Hyperparams: {'batch_size': 600, 'dt': 3.1622776e-08}. metric: 1270\n",
      "Hyperparams: {'batch_size': 60, 'dt': 0.01}. metric: 13116\n",
      "Hyperparams: {'batch_size': 60, 'dt': 0.0031622776}. metric: 12360\n",
      "Hyperparams: {'batch_size': 60, 'dt': 0.001}. metric: 12648\n",
      "Hyperparams: {'batch_size': 60, 'dt': 0.00031622776}. metric: 5587\n",
      "Hyperparams: {'batch_size': 60, 'dt': 1e-04}. metric: 2499\n",
      "Hyperparams: {'batch_size': 60, 'dt': 3.1622778e-05}. metric: 3602\n",
      "Hyperparams: {'batch_size': 60, 'dt': 1e-05}. metric: 2022\n",
      "Hyperparams: {'batch_size': 60, 'dt': 3.1622776e-06}. metric: 1325\n",
      "Hyperparams: {'batch_size': 60, 'dt': 1e-06}. metric: 990\n",
      "Hyperparams: {'batch_size': 60, 'dt': 3.1622776e-07}. metric: 1038\n",
      "Hyperparams: {'batch_size': 60, 'dt': 1e-07}. metric: 937\n",
      "Hyperparams: {'batch_size': 60, 'dt': 3.1622776e-08}. metric: 1320\n",
      "\n",
      "Number of samples: [21, 4, 20, 4, 21, 4, 42, 21, 41, 42, 1, 21, 21, 1, 42, 42]\n"
     ]
    },
    {
     "data": {
      "application/vnd.jupyter.widget-view+json": {
       "model_id": "0e9cfb2864ae4a33bee3bae22d1f1036",
       "version_major": 2,
       "version_minor": 0
      },
      "text/plain": [
       "HBox(children=(HTML(value='Iteration 2/3, 16 arms, time budget = 0.69 sec'), FloatProgress(value=0.0, max=16.0…"
      ]
     },
     "metadata": {},
     "output_type": "display_data"
    },
    {
     "name": "stdout",
     "output_type": "stream",
     "text": [
      "Hyperparams: {'batch_size': 600, 'dt': 3.1622776e-06}. metric: 494\n",
      "Hyperparams: {'batch_size': 6000, 'dt': 1e-06}. metric: 663\n",
      "Hyperparams: {'batch_size': 600, 'dt': 1e-06}. metric: 569\n",
      "Hyperparams: {'batch_size': 6000, 'dt': 1e-05}. metric: 551\n",
      "Hyperparams: {'batch_size': 600, 'dt': 3.1622776e-07}. metric: 629\n",
      "Hyperparams: {'batch_size': 6000, 'dt': 3.1622776e-06}. metric: 627\n",
      "Hyperparams: {'batch_size': 60, 'dt': 1e-07}. metric: 666\n",
      "Hyperparams: {'batch_size': 600, 'dt': 1e-07}. metric: 659\n",
      "Hyperparams: {'batch_size': 60, 'dt': 1e-06}. metric: 768\n",
      "Hyperparams: {'batch_size': 60, 'dt': 3.1622776e-07}. metric: 724\n",
      "Hyperparams: {'batch_size': 60000, 'dt': 1e-05}. metric: 637\n",
      "Hyperparams: {'batch_size': 600, 'dt': 1e-05}. metric: 560\n",
      "Hyperparams: {'batch_size': 600, 'dt': 3.1622776e-08}. metric: 1047\n",
      "Hyperparams: {'batch_size': 60000, 'dt': 3.1622776e-06}. metric: 917\n",
      "Hyperparams: {'batch_size': 60, 'dt': 3.1622776e-08}. metric: 856\n",
      "Hyperparams: {'batch_size': 60, 'dt': 3.1622776e-06}. metric: 915\n",
      "\n",
      "Number of samples: [71, 12, 71, 62, 12]\n"
     ]
    },
    {
     "data": {
      "application/vnd.jupyter.widget-view+json": {
       "model_id": "eed643f3cd864974a5557de7331b1e2b",
       "version_major": 2,
       "version_minor": 0
      },
      "text/plain": [
       "HBox(children=(HTML(value='Iteration 3/3, 5 arms, time budget = 2.22 sec'), FloatProgress(value=0.0, max=5.0),…"
      ]
     },
     "metadata": {},
     "output_type": "display_data"
    },
    {
     "name": "stdout",
     "output_type": "stream",
     "text": [
      "Hyperparams: {'batch_size': 600, 'dt': 3.1622776e-06}. metric: 261\n",
      "Hyperparams: {'batch_size': 6000, 'dt': 1e-05}. metric: 331\n",
      "Hyperparams: {'batch_size': 600, 'dt': 1e-05}. metric: 398\n",
      "Hyperparams: {'batch_size': 600, 'dt': 1e-06}. metric: 337\n",
      "Hyperparams: {'batch_size': 6000, 'dt': 3.1622776e-06}. metric: 378\n",
      "\n",
      "Number of samples: [272]\n",
      "Running time: 606.1 sec\n",
      "{'batch_size': 600, 'dt': 3.1622776e-06} 261.01947 (272, 79510)\n"
     ]
    }
   ],
   "source": [
    "err_fn = lambda x,y: imq_KSD(x[:], y[:])\n",
    "\n",
    "build_kernel = lambda dt, batch_size: build_sgld_kernel(dt, loglikelihood, logprior, data, batch_size)\n",
    "\n",
    "grid_params = {'log_dt': -jnp.arange(2., 8., 0.5), \n",
    "               'batch_size': [int(10**(-elem)*X_train.shape[0]) for elem in range(0,4)]\n",
    "              }\n",
    "best_arm = run_MAMBA(key, build_kernel, err_fn, R, params_IC, grid_params=grid_params, get_fb_grads=get_fb_grads)\n",
    "\n",
    "print(best_arm.hyperparameters, best_arm.metric, best_arm.samples.shape)"
   ]
  },
  {
   "cell_type": "code",
   "execution_count": null,
   "id": "4d35ba08",
   "metadata": {},
   "outputs": [],
   "source": []
  },
  {
   "cell_type": "code",
   "execution_count": null,
   "id": "f627c2a1",
   "metadata": {},
   "outputs": [],
   "source": []
  },
  {
   "cell_type": "code",
   "execution_count": 7,
   "id": "00531340",
   "metadata": {
    "collapsed": true
   },
   "outputs": [
    {
     "data": {
      "application/vnd.jupyter.widget-view+json": {
       "model_id": "6a8e132ce3b74fc4ac68783a23d1a165",
       "version_major": 2,
       "version_minor": 0
      },
      "text/plain": [
       "HBox(children=(HTML(value='Iteration 1/3, 48 arms, time budget = 0.23 sec'), FloatProgress(value=0.0, max=48.0…"
      ]
     },
     "metadata": {},
     "output_type": "display_data"
    },
    {
     "name": "stdout",
     "output_type": "stream",
     "text": [
      "Hyperparams: {'batch_size': 60000, 'dt': 0.01}. metric: 81039\n",
      "Hyperparams: {'batch_size': 60000, 'dt': 0.0031622776}. metric: 107830\n",
      "Hyperparams: {'batch_size': 60000, 'dt': 0.001}. metric: 82992\n",
      "Hyperparams: {'batch_size': 60000, 'dt': 0.00031622776}. metric: 29394\n",
      "Hyperparams: {'batch_size': 60000, 'dt': 1e-04}. metric: 6824\n",
      "Hyperparams: {'batch_size': 60000, 'dt': 3.1622778e-05}. metric: 3284\n",
      "Hyperparams: {'batch_size': 60000, 'dt': 1e-05}. metric: 1216\n",
      "Hyperparams: {'batch_size': 60000, 'dt': 3.1622776e-06}. metric: 1247\n",
      "Hyperparams: {'batch_size': 60000, 'dt': 1e-06}. metric: 1448\n",
      "Hyperparams: {'batch_size': 60000, 'dt': 3.1622776e-07}. metric: 1361\n",
      "Hyperparams: {'batch_size': 60000, 'dt': 1e-07}. metric: 1442\n",
      "Hyperparams: {'batch_size': 60000, 'dt': 3.1622776e-08}. metric: 1422\n",
      "Hyperparams: {'batch_size': 6000, 'dt': 0.01}. metric: 57313\n",
      "Hyperparams: {'batch_size': 6000, 'dt': 0.0031622776}. metric: 53572\n",
      "Hyperparams: {'batch_size': 6000, 'dt': 0.001}. metric: 43325\n",
      "Hyperparams: {'batch_size': 6000, 'dt': 0.00031622776}. metric: 28209\n",
      "Hyperparams: {'batch_size': 6000, 'dt': 1e-04}. metric: 14664\n",
      "Hyperparams: {'batch_size': 6000, 'dt': 3.1622778e-05}. metric: 19743\n",
      "Hyperparams: {'batch_size': 6000, 'dt': 1e-05}. metric: 693\n",
      "Hyperparams: {'batch_size': 6000, 'dt': 3.1622776e-06}. metric: 946\n",
      "Hyperparams: {'batch_size': 6000, 'dt': 1e-06}. metric: 838\n",
      "Hyperparams: {'batch_size': 6000, 'dt': 3.1622776e-07}. metric: 1492\n",
      "Hyperparams: {'batch_size': 6000, 'dt': 1e-07}. metric: 1429\n",
      "Hyperparams: {'batch_size': 6000, 'dt': 3.1622776e-08}. metric: 1475\n",
      "Hyperparams: {'batch_size': 600, 'dt': 0.01}. metric: 18856\n",
      "Hyperparams: {'batch_size': 600, 'dt': 0.0031622776}. metric: 21680\n",
      "Hyperparams: {'batch_size': 600, 'dt': 0.001}. metric: 18022\n",
      "Hyperparams: {'batch_size': 600, 'dt': 0.00031622776}. metric: 7689\n",
      "Hyperparams: {'batch_size': 600, 'dt': 1e-04}. metric: 5246\n",
      "Hyperparams: {'batch_size': 600, 'dt': 3.1622778e-05}. metric: 5067\n",
      "Hyperparams: {'batch_size': 600, 'dt': 1e-05}. metric: 469\n",
      "Hyperparams: {'batch_size': 600, 'dt': 3.1622776e-06}. metric: 500\n",
      "Hyperparams: {'batch_size': 600, 'dt': 1e-06}. metric: 668\n",
      "Hyperparams: {'batch_size': 600, 'dt': 3.1622776e-07}. metric: 896\n",
      "Hyperparams: {'batch_size': 600, 'dt': 1e-07}. metric: 1085\n",
      "Hyperparams: {'batch_size': 600, 'dt': 3.1622776e-08}. metric: 1333\n",
      "Hyperparams: {'batch_size': 60, 'dt': 0.01}. metric: 13586\n",
      "Hyperparams: {'batch_size': 60, 'dt': 0.0031622776}. metric: 13428\n",
      "Hyperparams: {'batch_size': 60, 'dt': 0.001}. metric: 12894\n",
      "Hyperparams: {'batch_size': 60, 'dt': 0.00031622776}. metric: 6734\n",
      "Hyperparams: {'batch_size': 60, 'dt': 1e-04}. metric: 2630\n",
      "Hyperparams: {'batch_size': 60, 'dt': 3.1622778e-05}. metric: 3365\n",
      "Hyperparams: {'batch_size': 60, 'dt': 1e-05}. metric: 923\n",
      "Hyperparams: {'batch_size': 60, 'dt': 3.1622776e-06}. metric: 433\n",
      "Hyperparams: {'batch_size': 60, 'dt': 1e-06}. metric: 463\n",
      "Hyperparams: {'batch_size': 60, 'dt': 3.1622776e-07}. metric: 712\n",
      "Hyperparams: {'batch_size': 60, 'dt': 1e-07}. metric: 989\n",
      "Hyperparams: {'batch_size': 60, 'dt': 3.1622776e-08}. metric: 1278\n",
      "\n",
      "Number of samples: [34, 35, 14, 14, 14, 2, 34, 3, 14, 34, 2, 35, 14, 1, 1, 34]\n"
     ]
    },
    {
     "data": {
      "application/vnd.jupyter.widget-view+json": {
       "model_id": "854ec45825d04d0dbc001227a4aa42fa",
       "version_major": 2,
       "version_minor": 0
      },
      "text/plain": [
       "HBox(children=(HTML(value='Iteration 2/3, 16 arms, time budget = 0.69 sec'), FloatProgress(value=0.0, max=16.0…"
      ]
     },
     "metadata": {},
     "output_type": "display_data"
    },
    {
     "name": "stdout",
     "output_type": "stream",
     "text": [
      "Hyperparams: {'batch_size': 60, 'dt': 3.1622776e-06}. metric: 366\n",
      "Hyperparams: {'batch_size': 60, 'dt': 1e-06}. metric: 399\n",
      "Hyperparams: {'batch_size': 600, 'dt': 1e-05}. metric: 331\n",
      "Hyperparams: {'batch_size': 600, 'dt': 3.1622776e-06}. metric: 363\n",
      "Hyperparams: {'batch_size': 600, 'dt': 1e-06}. metric: 477\n",
      "Hyperparams: {'batch_size': 6000, 'dt': 1e-05}. metric: 529\n",
      "Hyperparams: {'batch_size': 60, 'dt': 3.1622776e-07}. metric: 497\n",
      "Hyperparams: {'batch_size': 6000, 'dt': 1e-06}. metric: 643\n",
      "Hyperparams: {'batch_size': 600, 'dt': 3.1622776e-07}. metric: 562\n",
      "Hyperparams: {'batch_size': 60, 'dt': 1e-05}. metric: 935\n",
      "Hyperparams: {'batch_size': 6000, 'dt': 3.1622776e-06}. metric: 614\n",
      "Hyperparams: {'batch_size': 60, 'dt': 1e-07}. metric: 619\n",
      "Hyperparams: {'batch_size': 600, 'dt': 1e-07}. metric: 823\n",
      "Hyperparams: {'batch_size': 60000, 'dt': 1e-05}. metric: 866\n",
      "Hyperparams: {'batch_size': 60000, 'dt': 3.1622776e-06}. metric: 1029\n",
      "Hyperparams: {'batch_size': 60, 'dt': 3.1622776e-08}. metric: 963\n",
      "\n",
      "Number of samples: [54, 50, 127, 131, 50]\n"
     ]
    },
    {
     "data": {
      "application/vnd.jupyter.widget-view+json": {
       "model_id": "57f14d416a184afe82f61803d8cd2198",
       "version_major": 2,
       "version_minor": 0
      },
      "text/plain": [
       "HBox(children=(HTML(value='Iteration 3/3, 5 arms, time budget = 2.22 sec'), FloatProgress(value=0.0, max=5.0),…"
      ]
     },
     "metadata": {},
     "output_type": "display_data"
    },
    {
     "name": "stdout",
     "output_type": "stream",
     "text": [
      "Hyperparams: {'batch_size': 600, 'dt': 1e-05}. metric: 253\n",
      "Hyperparams: {'batch_size': 600, 'dt': 3.1622776e-06}. metric: 249\n",
      "Hyperparams: {'batch_size': 60, 'dt': 3.1622776e-06}. metric: 273\n",
      "Hyperparams: {'batch_size': 60, 'dt': 1e-06}. metric: 292\n",
      "Hyperparams: {'batch_size': 600, 'dt': 1e-06}. metric: 339\n",
      "\n",
      "Number of samples: [179]\n",
      "Running time: 692.7 sec\n",
      "{'batch_size': 600, 'dt': 3.1622776e-06} 248.52815 (179, 79510)\n"
     ]
    }
   ],
   "source": [
    "build_kernel = lambda dt, batch_size: build_sgldCV_kernel(dt, loglikelihood, \n",
    "                                                  logprior, data, batch_size, centering_value)\n",
    "\n",
    "best_arm = run_MAMBA(key, build_kernel, err_fn, R, params_IC, grid_params=grid_params, get_fb_grads=get_fb_grads)\n",
    "\n",
    "print(best_arm.hyperparameters, best_arm.metric, best_arm.samples.shape)"
   ]
  },
  {
   "cell_type": "code",
   "execution_count": 8,
   "id": "d2be25a2",
   "metadata": {
    "collapsed": true
   },
   "outputs": [
    {
     "data": {
      "application/vnd.jupyter.widget-view+json": {
       "model_id": "ba70105f06e3480dafd0535d7b30f948",
       "version_major": 2,
       "version_minor": 0
      },
      "text/plain": [
       "HBox(children=(HTML(value='Iteration 1/4, 96 arms, time budget = 0.07 sec'), FloatProgress(value=0.0, max=96.0…"
      ]
     },
     "metadata": {},
     "output_type": "display_data"
    },
    {
     "name": "stdout",
     "output_type": "stream",
     "text": [
      "Hyperparams: {'batch_size': 60000, 'L': 5, 'dt': 0.01}. metric: 44773\n",
      "Hyperparams: {'batch_size': 60000, 'L': 5, 'dt': 0.0031622776}. metric: 67544\n",
      "Hyperparams: {'batch_size': 60000, 'L': 5, 'dt': 0.001}. metric: 68994\n",
      "Hyperparams: {'batch_size': 60000, 'L': 5, 'dt': 0.00031622776}. metric: 80529\n",
      "Hyperparams: {'batch_size': 60000, 'L': 5, 'dt': 1e-04}. metric: 144456\n",
      "Hyperparams: {'batch_size': 60000, 'L': 5, 'dt': 3.1622778e-05}. metric: 16597\n",
      "Hyperparams: {'batch_size': 60000, 'L': 5, 'dt': 1e-05}. metric: 4157\n",
      "Hyperparams: {'batch_size': 60000, 'L': 5, 'dt': 3.1622776e-06}. metric: 1561\n",
      "Hyperparams: {'batch_size': 60000, 'L': 5, 'dt': 1e-06}. metric: 1046\n",
      "Hyperparams: {'batch_size': 60000, 'L': 5, 'dt': 3.1622776e-07}. metric: 1071\n",
      "Hyperparams: {'batch_size': 60000, 'L': 5, 'dt': 1e-07}. metric: 1382\n",
      "Hyperparams: {'batch_size': 60000, 'L': 5, 'dt': 3.1622776e-08}. metric: 1324\n",
      "Hyperparams: {'batch_size': 60000, 'L': 10, 'dt': 0.01}. metric: 82697\n",
      "Hyperparams: {'batch_size': 60000, 'L': 10, 'dt': 0.0031622776}. metric: 48015\n",
      "Hyperparams: {'batch_size': 60000, 'L': 10, 'dt': 0.001}. metric: 60813\n",
      "Hyperparams: {'batch_size': 60000, 'L': 10, 'dt': 0.00031622776}. metric: 53032\n",
      "Hyperparams: {'batch_size': 60000, 'L': 10, 'dt': 1e-04}. metric: 25150\n",
      "Hyperparams: {'batch_size': 60000, 'L': 10, 'dt': 3.1622778e-05}. metric: 84956\n",
      "Hyperparams: {'batch_size': 60000, 'L': 10, 'dt': 1e-05}. metric: 7286\n",
      "Hyperparams: {'batch_size': 60000, 'L': 10, 'dt': 3.1622776e-06}. metric: 1643\n",
      "Hyperparams: {'batch_size': 60000, 'L': 10, 'dt': 1e-06}. metric: 1397\n",
      "Hyperparams: {'batch_size': 60000, 'L': 10, 'dt': 3.1622776e-07}. metric: 1092\n",
      "Hyperparams: {'batch_size': 60000, 'L': 10, 'dt': 1e-07}. metric: 1217\n",
      "Hyperparams: {'batch_size': 60000, 'L': 10, 'dt': 3.1622776e-08}. metric: 1449\n",
      "Hyperparams: {'batch_size': 6000, 'L': 5, 'dt': 0.01}. metric: 79586\n",
      "Hyperparams: {'batch_size': 6000, 'L': 5, 'dt': 0.0031622776}. metric: 67035\n",
      "Hyperparams: {'batch_size': 6000, 'L': 5, 'dt': 0.001}. metric: 66145\n",
      "Hyperparams: {'batch_size': 6000, 'L': 5, 'dt': 0.00031622776}. metric: 80524\n",
      "Hyperparams: {'batch_size': 6000, 'L': 5, 'dt': 1e-04}. metric: 86443\n",
      "Hyperparams: {'batch_size': 6000, 'L': 5, 'dt': 3.1622778e-05}. metric: 19196\n",
      "Hyperparams: {'batch_size': 6000, 'L': 5, 'dt': 1e-05}. metric: 4788\n",
      "Hyperparams: {'batch_size': 6000, 'L': 5, 'dt': 3.1622776e-06}. metric: 1111\n",
      "Hyperparams: {'batch_size': 6000, 'L': 5, 'dt': 1e-06}. metric: 1223\n",
      "Hyperparams: {'batch_size': 6000, 'L': 5, 'dt': 3.1622776e-07}. metric: 1339\n",
      "Hyperparams: {'batch_size': 6000, 'L': 5, 'dt': 1e-07}. metric: 1334\n",
      "Hyperparams: {'batch_size': 6000, 'L': 5, 'dt': 3.1622776e-08}. metric: 1440\n",
      "Hyperparams: {'batch_size': 6000, 'L': 10, 'dt': 0.01}. metric: 76661\n",
      "Hyperparams: {'batch_size': 6000, 'L': 10, 'dt': 0.0031622776}. metric: 79799\n",
      "Hyperparams: {'batch_size': 6000, 'L': 10, 'dt': 0.001}. metric: 69631\n",
      "Hyperparams: {'batch_size': 6000, 'L': 10, 'dt': 0.00031622776}. metric: 52604\n",
      "Hyperparams: {'batch_size': 6000, 'L': 10, 'dt': 1e-04}. metric: 37525\n",
      "Hyperparams: {'batch_size': 6000, 'L': 10, 'dt': 3.1622778e-05}. metric: 100724\n",
      "Hyperparams: {'batch_size': 6000, 'L': 10, 'dt': 1e-05}. metric: 29324\n",
      "Hyperparams: {'batch_size': 6000, 'L': 10, 'dt': 3.1622776e-06}. metric: 2491\n",
      "Hyperparams: {'batch_size': 6000, 'L': 10, 'dt': 1e-06}. metric: 2060\n",
      "Hyperparams: {'batch_size': 6000, 'L': 10, 'dt': 3.1622776e-07}. metric: 1087\n",
      "Hyperparams: {'batch_size': 6000, 'L': 10, 'dt': 1e-07}. metric: 1289\n",
      "Hyperparams: {'batch_size': 6000, 'L': 10, 'dt': 3.1622776e-08}. metric: 1391\n",
      "Hyperparams: {'batch_size': 600, 'L': 5, 'dt': 0.01}. metric: 57828\n",
      "Hyperparams: {'batch_size': 600, 'L': 5, 'dt': 0.0031622776}. metric: 56601\n",
      "Hyperparams: {'batch_size': 600, 'L': 5, 'dt': 0.001}. metric: 51231\n",
      "Hyperparams: {'batch_size': 600, 'L': 5, 'dt': 0.00031622776}. metric: 50821\n",
      "Hyperparams: {'batch_size': 600, 'L': 5, 'dt': 1e-04}. metric: 47710\n",
      "Hyperparams: {'batch_size': 600, 'L': 5, 'dt': 3.1622778e-05}. metric: 17392\n",
      "Hyperparams: {'batch_size': 600, 'L': 5, 'dt': 1e-05}. metric: 27626\n",
      "Hyperparams: {'batch_size': 600, 'L': 5, 'dt': 3.1622776e-06}. metric: 2794\n",
      "Hyperparams: {'batch_size': 600, 'L': 5, 'dt': 1e-06}. metric: 1495\n",
      "Hyperparams: {'batch_size': 600, 'L': 5, 'dt': 3.1622776e-07}. metric: 934\n",
      "Hyperparams: {'batch_size': 600, 'L': 5, 'dt': 1e-07}. metric: 1168\n",
      "Hyperparams: {'batch_size': 600, 'L': 5, 'dt': 3.1622776e-08}. metric: 1394\n",
      "Hyperparams: {'batch_size': 600, 'L': 10, 'dt': 0.01}. metric: 84444\n",
      "Hyperparams: {'batch_size': 600, 'L': 10, 'dt': 0.0031622776}. metric: 66976\n",
      "Hyperparams: {'batch_size': 600, 'L': 10, 'dt': 0.001}. metric: 80031\n",
      "Hyperparams: {'batch_size': 600, 'L': 10, 'dt': 0.00031622776}. metric: 39308\n",
      "Hyperparams: {'batch_size': 600, 'L': 10, 'dt': 1e-04}. metric: 28426\n",
      "Hyperparams: {'batch_size': 600, 'L': 10, 'dt': 3.1622778e-05}. metric: 44094\n",
      "Hyperparams: {'batch_size': 600, 'L': 10, 'dt': 1e-05}. metric: 14716\n",
      "Hyperparams: {'batch_size': 600, 'L': 10, 'dt': 3.1622776e-06}. metric: 5859\n",
      "Hyperparams: {'batch_size': 600, 'L': 10, 'dt': 1e-06}. metric: 6185\n",
      "Hyperparams: {'batch_size': 600, 'L': 10, 'dt': 3.1622776e-07}. metric: 1760\n",
      "Hyperparams: {'batch_size': 600, 'L': 10, 'dt': 1e-07}. metric: 1010\n",
      "Hyperparams: {'batch_size': 600, 'L': 10, 'dt': 3.1622776e-08}. metric: 1190\n",
      "Hyperparams: {'batch_size': 60, 'L': 5, 'dt': 0.01}. metric: 43084\n",
      "Hyperparams: {'batch_size': 60, 'L': 5, 'dt': 0.0031622776}. metric: 43414\n",
      "Hyperparams: {'batch_size': 60, 'L': 5, 'dt': 0.001}. metric: 51538\n",
      "Hyperparams: {'batch_size': 60, 'L': 5, 'dt': 0.00031622776}. metric: 36657\n",
      "Hyperparams: {'batch_size': 60, 'L': 5, 'dt': 1e-04}. metric: 36087\n",
      "Hyperparams: {'batch_size': 60, 'L': 5, 'dt': 3.1622778e-05}. metric: 14300\n",
      "Hyperparams: {'batch_size': 60, 'L': 5, 'dt': 1e-05}. metric: 9861\n",
      "Hyperparams: {'batch_size': 60, 'L': 5, 'dt': 3.1622776e-06}. metric: 8374\n",
      "Hyperparams: {'batch_size': 60, 'L': 5, 'dt': 1e-06}. metric: 3436\n",
      "Hyperparams: {'batch_size': 60, 'L': 5, 'dt': 3.1622776e-07}. metric: 1639\n",
      "Hyperparams: {'batch_size': 60, 'L': 5, 'dt': 1e-07}. metric: 1560\n",
      "Hyperparams: {'batch_size': 60, 'L': 5, 'dt': 3.1622776e-08}. metric: 1437\n",
      "Hyperparams: {'batch_size': 60, 'L': 10, 'dt': 0.01}. metric: 74021\n",
      "Hyperparams: {'batch_size': 60, 'L': 10, 'dt': 0.0031622776}. metric: 57814\n",
      "Hyperparams: {'batch_size': 60, 'L': 10, 'dt': 0.001}. metric: 56848\n",
      "Hyperparams: {'batch_size': 60, 'L': 10, 'dt': 0.00031622776}. metric: 50952\n",
      "Hyperparams: {'batch_size': 60, 'L': 10, 'dt': 1e-04}. metric: 51688\n",
      "Hyperparams: {'batch_size': 60, 'L': 10, 'dt': 3.1622778e-05}. metric: 30789\n",
      "Hyperparams: {'batch_size': 60, 'L': 10, 'dt': 1e-05}. metric: 24945\n",
      "Hyperparams: {'batch_size': 60, 'L': 10, 'dt': 3.1622776e-06}. metric: 17411\n",
      "Hyperparams: {'batch_size': 60, 'L': 10, 'dt': 1e-06}. metric: 18422\n",
      "Hyperparams: {'batch_size': 60, 'L': 10, 'dt': 3.1622776e-07}. metric: 3053\n",
      "Hyperparams: {'batch_size': 60, 'L': 10, 'dt': 1e-07}. metric: 1414\n",
      "Hyperparams: {'batch_size': 60, 'L': 10, 'dt': 3.1622776e-08}. metric: 1104\n",
      "\n",
      "Number of samples: [2, 1, 1, 1, 1, 1, 2, 1, 2, 1, 1, 1, 1, 1, 1, 1, 1, 1, 2, 1, 2, 4, 1, 1, 2, 4, 1, 4, 1, 1, 1, 1]\n"
     ]
    },
    {
     "data": {
      "application/vnd.jupyter.widget-view+json": {
       "model_id": "b3a4e86b4be44564871aa43147e0f24f",
       "version_major": 2,
       "version_minor": 0
      },
      "text/plain": [
       "HBox(children=(HTML(value='Iteration 2/4, 32 arms, time budget = 0.22 sec'), FloatProgress(value=0.0, max=32.0…"
      ]
     },
     "metadata": {},
     "output_type": "display_data"
    },
    {
     "name": "stdout",
     "output_type": "stream",
     "text": [
      "Hyperparams: {'batch_size': 600, 'L': 5, 'dt': 3.1622776e-07}. metric: 1093\n",
      "Hyperparams: {'batch_size': 600, 'L': 10, 'dt': 1e-07}. metric: 1106\n",
      "Hyperparams: {'batch_size': 60000, 'L': 5, 'dt': 1e-06}. metric: 1357\n",
      "Hyperparams: {'batch_size': 60000, 'L': 5, 'dt': 3.1622776e-07}. metric: 949\n",
      "Hyperparams: {'batch_size': 6000, 'L': 10, 'dt': 3.1622776e-07}. metric: 952\n",
      "Hyperparams: {'batch_size': 60000, 'L': 10, 'dt': 3.1622776e-07}. metric: 991\n",
      "Hyperparams: {'batch_size': 60, 'L': 10, 'dt': 3.1622776e-08}. metric: 934\n",
      "Hyperparams: {'batch_size': 6000, 'L': 5, 'dt': 3.1622776e-06}. metric: 3345\n",
      "Hyperparams: {'batch_size': 600, 'L': 5, 'dt': 1e-07}. metric: 850\n",
      "Hyperparams: {'batch_size': 600, 'L': 10, 'dt': 3.1622776e-08}. metric: 796\n",
      "Hyperparams: {'batch_size': 60000, 'L': 10, 'dt': 1e-07}. metric: 1179\n",
      "Hyperparams: {'batch_size': 6000, 'L': 5, 'dt': 1e-06}. metric: 1253\n",
      "Hyperparams: {'batch_size': 6000, 'L': 10, 'dt': 1e-07}. metric: 1033\n",
      "Hyperparams: {'batch_size': 60000, 'L': 5, 'dt': 3.1622776e-08}. metric: 1222\n",
      "Hyperparams: {'batch_size': 6000, 'L': 5, 'dt': 1e-07}. metric: 1232\n",
      "Hyperparams: {'batch_size': 6000, 'L': 5, 'dt': 3.1622776e-07}. metric: 1007\n",
      "Hyperparams: {'batch_size': 60000, 'L': 5, 'dt': 1e-07}. metric: 1307\n",
      "Hyperparams: {'batch_size': 6000, 'L': 10, 'dt': 3.1622776e-08}. metric: 1210\n",
      "Hyperparams: {'batch_size': 600, 'L': 5, 'dt': 3.1622776e-08}. metric: 1283\n",
      "Hyperparams: {'batch_size': 60000, 'L': 10, 'dt': 1e-06}. metric: 1261\n",
      "Hyperparams: {'batch_size': 60, 'L': 10, 'dt': 1e-07}. metric: 1172\n",
      "Hyperparams: {'batch_size': 60, 'L': 5, 'dt': 3.1622776e-08}. metric: 1257\n",
      "Hyperparams: {'batch_size': 6000, 'L': 5, 'dt': 3.1622776e-08}. metric: 1418\n",
      "Hyperparams: {'batch_size': 60000, 'L': 10, 'dt': 3.1622776e-08}. metric: 1415\n",
      "Hyperparams: {'batch_size': 600, 'L': 5, 'dt': 1e-06}. metric: 1510\n",
      "Hyperparams: {'batch_size': 60, 'L': 5, 'dt': 1e-07}. metric: 2405\n",
      "Hyperparams: {'batch_size': 60000, 'L': 5, 'dt': 3.1622776e-06}. metric: 1480\n",
      "Hyperparams: {'batch_size': 60, 'L': 5, 'dt': 3.1622776e-07}. metric: 1106\n",
      "Hyperparams: {'batch_size': 60000, 'L': 10, 'dt': 3.1622776e-06}. metric: 2688\n",
      "Hyperparams: {'batch_size': 600, 'L': 10, 'dt': 3.1622776e-07}. metric: 1209\n",
      "Hyperparams: {'batch_size': 6000, 'L': 10, 'dt': 1e-06}. metric: 2956\n",
      "Hyperparams: {'batch_size': 6000, 'L': 10, 'dt': 3.1622776e-06}. metric: 4423\n",
      "\n",
      "Number of samples: [3, 5, 7, 2, 2, 2, 2, 2, 5, 3]\n"
     ]
    },
    {
     "data": {
      "application/vnd.jupyter.widget-view+json": {
       "model_id": "8cb8d35f14a84e998d0b4bd3a2da8552",
       "version_major": 2,
       "version_minor": 0
      },
      "text/plain": [
       "HBox(children=(HTML(value='Iteration 3/4, 10 arms, time budget = 0.72 sec'), FloatProgress(value=0.0, max=10.0…"
      ]
     },
     "metadata": {},
     "output_type": "display_data"
    },
    {
     "name": "stdout",
     "output_type": "stream",
     "text": [
      "Hyperparams: {'batch_size': 600, 'L': 10, 'dt': 3.1622776e-08}. metric: 600\n",
      "Hyperparams: {'batch_size': 600, 'L': 5, 'dt': 1e-07}. metric: 680\n",
      "Hyperparams: {'batch_size': 60, 'L': 10, 'dt': 3.1622776e-08}. metric: 857\n",
      "Hyperparams: {'batch_size': 60000, 'L': 5, 'dt': 3.1622776e-07}. metric: 1058\n",
      "Hyperparams: {'batch_size': 6000, 'L': 10, 'dt': 3.1622776e-07}. metric: 676\n",
      "Hyperparams: {'batch_size': 60000, 'L': 10, 'dt': 3.1622776e-07}. metric: 1056\n",
      "Hyperparams: {'batch_size': 6000, 'L': 5, 'dt': 3.1622776e-07}. metric: 937\n",
      "Hyperparams: {'batch_size': 6000, 'L': 10, 'dt': 1e-07}. metric: 652\n",
      "Hyperparams: {'batch_size': 600, 'L': 5, 'dt': 3.1622776e-07}. metric: 526\n",
      "Hyperparams: {'batch_size': 600, 'L': 10, 'dt': 1e-07}. metric: 635\n",
      "\n",
      "Number of samples: [18, 10, 9]\n"
     ]
    },
    {
     "data": {
      "application/vnd.jupyter.widget-view+json": {
       "model_id": "05e727c6c5214ac880f3d3d08b4b9cc9",
       "version_major": 2,
       "version_minor": 0
      },
      "text/plain": [
       "HBox(children=(HTML(value='Iteration 4/4, 3 arms, time budget = 2.40 sec'), FloatProgress(value=0.0, max=3.0),…"
      ]
     },
     "metadata": {},
     "output_type": "display_data"
    },
    {
     "name": "stdout",
     "output_type": "stream",
     "text": [
      "Hyperparams: {'batch_size': 600, 'L': 5, 'dt': 3.1622776e-07}. metric: 344\n",
      "Hyperparams: {'batch_size': 600, 'L': 10, 'dt': 3.1622776e-08}. metric: 562\n",
      "Hyperparams: {'batch_size': 600, 'L': 10, 'dt': 1e-07}. metric: 422\n",
      "\n",
      "Number of samples: [61]\n",
      "Running time: 844.8 sec\n",
      "{'batch_size': 600, 'L': 5, 'dt': 3.1622776e-07} 343.58423 (61, 79510)\n"
     ]
    }
   ],
   "source": [
    "build_kernel = lambda dt, L, batch_size: build_sghmc_kernel(dt, L, loglikelihood, \n",
    "                                                  logprior, data, batch_size)\n",
    "\n",
    "grid_params = {'log_dt': -jnp.arange(2., 8., 0.5), \n",
    "               'batch_size': [int(10**(-elem)*X_train.shape[0]) for elem in range(0,4)],\n",
    "               \"L\": [5, 10]\n",
    "              }\n",
    "best_arm = run_MAMBA(key, build_kernel, err_fn, R, params_IC, grid_params=grid_params, get_fb_grads=get_fb_grads)\n",
    "\n",
    "print(best_arm.hyperparameters, best_arm.metric, best_arm.samples.shape)"
   ]
  },
  {
   "cell_type": "code",
   "execution_count": 9,
   "id": "d25daf64",
   "metadata": {
    "collapsed": true
   },
   "outputs": [
    {
     "data": {
      "application/vnd.jupyter.widget-view+json": {
       "model_id": "6904bb13624e4a279acb57e5847db9ba",
       "version_major": 2,
       "version_minor": 0
      },
      "text/plain": [
       "HBox(children=(HTML(value='Iteration 1/4, 96 arms, time budget = 0.07 sec'), FloatProgress(value=0.0, max=96.0…"
      ]
     },
     "metadata": {},
     "output_type": "display_data"
    },
    {
     "name": "stdout",
     "output_type": "stream",
     "text": [
      "Hyperparams: {'batch_size': 60000, 'L': 5, 'dt': 0.01}. metric: 81607\n",
      "Hyperparams: {'batch_size': 60000, 'L': 5, 'dt': 0.0031622776}. metric: 47814\n",
      "Hyperparams: {'batch_size': 60000, 'L': 5, 'dt': 0.001}. metric: 65174\n",
      "Hyperparams: {'batch_size': 60000, 'L': 5, 'dt': 0.00031622776}. metric: 80537\n",
      "Hyperparams: {'batch_size': 60000, 'L': 5, 'dt': 1e-04}. metric: 136342\n",
      "Hyperparams: {'batch_size': 60000, 'L': 5, 'dt': 3.1622778e-05}. metric: 29428\n",
      "Hyperparams: {'batch_size': 60000, 'L': 5, 'dt': 1e-05}. metric: 3973\n",
      "Hyperparams: {'batch_size': 60000, 'L': 5, 'dt': 3.1622776e-06}. metric: 1684\n",
      "Hyperparams: {'batch_size': 60000, 'L': 5, 'dt': 1e-06}. metric: 1065\n",
      "Hyperparams: {'batch_size': 60000, 'L': 5, 'dt': 3.1622776e-07}. metric: 1067\n",
      "Hyperparams: {'batch_size': 60000, 'L': 5, 'dt': 1e-07}. metric: 1375\n",
      "Hyperparams: {'batch_size': 60000, 'L': 5, 'dt': 3.1622776e-08}. metric: 1326\n",
      "Hyperparams: {'batch_size': 60000, 'L': 10, 'dt': 0.01}. metric: 82677\n",
      "Hyperparams: {'batch_size': 60000, 'L': 10, 'dt': 0.0031622776}. metric: 71676\n",
      "Hyperparams: {'batch_size': 60000, 'L': 10, 'dt': 0.001}. metric: 48070\n",
      "Hyperparams: {'batch_size': 60000, 'L': 10, 'dt': 0.00031622776}. metric: 44347\n",
      "Hyperparams: {'batch_size': 60000, 'L': 10, 'dt': 1e-04}. metric: 28712\n",
      "Hyperparams: {'batch_size': 60000, 'L': 10, 'dt': 3.1622778e-05}. metric: 84403\n",
      "Hyperparams: {'batch_size': 60000, 'L': 10, 'dt': 1e-05}. metric: 8109\n",
      "Hyperparams: {'batch_size': 60000, 'L': 10, 'dt': 3.1622776e-06}. metric: 1776\n",
      "Hyperparams: {'batch_size': 60000, 'L': 10, 'dt': 1e-06}. metric: 1376\n",
      "Hyperparams: {'batch_size': 60000, 'L': 10, 'dt': 3.1622776e-07}. metric: 1084\n",
      "Hyperparams: {'batch_size': 60000, 'L': 10, 'dt': 1e-07}. metric: 1208\n",
      "Hyperparams: {'batch_size': 60000, 'L': 10, 'dt': 3.1622776e-08}. metric: 1446\n",
      "Hyperparams: {'batch_size': 6000, 'L': 5, 'dt': 0.01}. metric: 68892\n",
      "Hyperparams: {'batch_size': 6000, 'L': 5, 'dt': 0.0031622776}. metric: 70930\n",
      "Hyperparams: {'batch_size': 6000, 'L': 5, 'dt': 0.001}. metric: 53870\n",
      "Hyperparams: {'batch_size': 6000, 'L': 5, 'dt': 0.00031622776}. metric: 80511\n",
      "Hyperparams: {'batch_size': 6000, 'L': 5, 'dt': 1e-04}. metric: 134652\n",
      "Hyperparams: {'batch_size': 6000, 'L': 5, 'dt': 3.1622778e-05}. metric: 16218\n",
      "Hyperparams: {'batch_size': 6000, 'L': 5, 'dt': 1e-05}. metric: 4134\n",
      "Hyperparams: {'batch_size': 6000, 'L': 5, 'dt': 3.1622776e-06}. metric: 996\n",
      "Hyperparams: {'batch_size': 6000, 'L': 5, 'dt': 1e-06}. metric: 1039\n",
      "Hyperparams: {'batch_size': 6000, 'L': 5, 'dt': 3.1622776e-07}. metric: 1265\n",
      "Hyperparams: {'batch_size': 6000, 'L': 5, 'dt': 1e-07}. metric: 1333\n",
      "Hyperparams: {'batch_size': 6000, 'L': 5, 'dt': 3.1622776e-08}. metric: 1445\n",
      "Hyperparams: {'batch_size': 6000, 'L': 10, 'dt': 0.01}. metric: 83379\n",
      "Hyperparams: {'batch_size': 6000, 'L': 10, 'dt': 0.0031622776}. metric: 77477\n",
      "Hyperparams: {'batch_size': 6000, 'L': 10, 'dt': 0.001}. metric: 54975\n",
      "Hyperparams: {'batch_size': 6000, 'L': 10, 'dt': 0.00031622776}. metric: 54510\n",
      "Hyperparams: {'batch_size': 6000, 'L': 10, 'dt': 1e-04}. metric: 20772\n",
      "Hyperparams: {'batch_size': 6000, 'L': 10, 'dt': 3.1622778e-05}. metric: 88385\n",
      "Hyperparams: {'batch_size': 6000, 'L': 10, 'dt': 1e-05}. metric: 15605\n",
      "Hyperparams: {'batch_size': 6000, 'L': 10, 'dt': 3.1622776e-06}. metric: 1638\n",
      "Hyperparams: {'batch_size': 6000, 'L': 10, 'dt': 1e-06}. metric: 1753\n",
      "Hyperparams: {'batch_size': 6000, 'L': 10, 'dt': 3.1622776e-07}. metric: 1049\n",
      "Hyperparams: {'batch_size': 6000, 'L': 10, 'dt': 1e-07}. metric: 1253\n",
      "Hyperparams: {'batch_size': 6000, 'L': 10, 'dt': 3.1622776e-08}. metric: 1375\n",
      "Hyperparams: {'batch_size': 600, 'L': 5, 'dt': 0.01}. metric: 79067\n",
      "Hyperparams: {'batch_size': 600, 'L': 5, 'dt': 0.0031622776}. metric: 51383\n",
      "Hyperparams: {'batch_size': 600, 'L': 5, 'dt': 0.001}. metric: 56317\n",
      "Hyperparams: {'batch_size': 600, 'L': 5, 'dt': 0.00031622776}. metric: 56140\n",
      "Hyperparams: {'batch_size': 600, 'L': 5, 'dt': 1e-04}. metric: 72826\n",
      "Hyperparams: {'batch_size': 600, 'L': 5, 'dt': 3.1622778e-05}. metric: 15821\n",
      "Hyperparams: {'batch_size': 600, 'L': 5, 'dt': 1e-05}. metric: 10847\n",
      "Hyperparams: {'batch_size': 600, 'L': 5, 'dt': 3.1622776e-06}. metric: 1604\n",
      "Hyperparams: {'batch_size': 600, 'L': 5, 'dt': 1e-06}. metric: 840\n",
      "Hyperparams: {'batch_size': 600, 'L': 5, 'dt': 3.1622776e-07}. metric: 1051\n",
      "Hyperparams: {'batch_size': 600, 'L': 5, 'dt': 1e-07}. metric: 1077\n",
      "Hyperparams: {'batch_size': 600, 'L': 5, 'dt': 3.1622776e-08}. metric: 1331\n",
      "Hyperparams: {'batch_size': 600, 'L': 10, 'dt': 0.01}. metric: 82703\n",
      "Hyperparams: {'batch_size': 600, 'L': 10, 'dt': 0.0031622776}. metric: 93355\n",
      "Hyperparams: {'batch_size': 600, 'L': 10, 'dt': 0.001}. metric: 70853\n",
      "Hyperparams: {'batch_size': 600, 'L': 10, 'dt': 0.00031622776}. metric: 97940\n",
      "Hyperparams: {'batch_size': 600, 'L': 10, 'dt': 1e-04}. metric: 23120\n",
      "Hyperparams: {'batch_size': 600, 'L': 10, 'dt': 3.1622778e-05}. metric: 49274\n",
      "Hyperparams: {'batch_size': 600, 'L': 10, 'dt': 1e-05}. metric: 10892\n",
      "Hyperparams: {'batch_size': 600, 'L': 10, 'dt': 3.1622776e-06}. metric: 2011\n",
      "Hyperparams: {'batch_size': 600, 'L': 10, 'dt': 1e-06}. metric: 1847\n",
      "Hyperparams: {'batch_size': 600, 'L': 10, 'dt': 3.1622776e-07}. metric: 1127\n",
      "Hyperparams: {'batch_size': 600, 'L': 10, 'dt': 1e-07}. metric: 1114\n",
      "Hyperparams: {'batch_size': 600, 'L': 10, 'dt': 3.1622776e-08}. metric: 1290\n",
      "Hyperparams: {'batch_size': 60, 'L': 5, 'dt': 0.01}. metric: 48238\n",
      "Hyperparams: {'batch_size': 60, 'L': 5, 'dt': 0.0031622776}. metric: 45563\n",
      "Hyperparams: {'batch_size': 60, 'L': 5, 'dt': 0.001}. metric: 43807\n",
      "Hyperparams: {'batch_size': 60, 'L': 5, 'dt': 0.00031622776}. metric: 45750\n",
      "Hyperparams: {'batch_size': 60, 'L': 5, 'dt': 1e-04}. metric: 37651\n",
      "Hyperparams: {'batch_size': 60, 'L': 5, 'dt': 3.1622778e-05}. metric: 11265\n",
      "Hyperparams: {'batch_size': 60, 'L': 5, 'dt': 1e-05}. metric: 13265\n",
      "Hyperparams: {'batch_size': 60, 'L': 5, 'dt': 3.1622776e-06}. metric: 6403\n",
      "Hyperparams: {'batch_size': 60, 'L': 5, 'dt': 1e-06}. metric: 796\n",
      "Hyperparams: {'batch_size': 60, 'L': 5, 'dt': 3.1622776e-07}. metric: 747\n",
      "Hyperparams: {'batch_size': 60, 'L': 5, 'dt': 1e-07}. metric: 1042\n",
      "Hyperparams: {'batch_size': 60, 'L': 5, 'dt': 3.1622776e-08}. metric: 1372\n",
      "Hyperparams: {'batch_size': 60, 'L': 10, 'dt': 0.01}. metric: 73369\n",
      "Hyperparams: {'batch_size': 60, 'L': 10, 'dt': 0.0031622776}. metric: 94323\n",
      "Hyperparams: {'batch_size': 60, 'L': 10, 'dt': 0.001}. metric: 49724\n",
      "Hyperparams: {'batch_size': 60, 'L': 10, 'dt': 0.00031622776}. metric: 54223\n",
      "Hyperparams: {'batch_size': 60, 'L': 10, 'dt': 1e-04}. metric: 43300\n",
      "Hyperparams: {'batch_size': 60, 'L': 10, 'dt': 3.1622778e-05}. metric: 34173\n",
      "Hyperparams: {'batch_size': 60, 'L': 10, 'dt': 1e-05}. metric: 15289\n",
      "Hyperparams: {'batch_size': 60, 'L': 10, 'dt': 3.1622776e-06}. metric: 34518\n",
      "Hyperparams: {'batch_size': 60, 'L': 10, 'dt': 1e-06}. metric: 6351\n",
      "Hyperparams: {'batch_size': 60, 'L': 10, 'dt': 3.1622776e-07}. metric: 1029\n",
      "Hyperparams: {'batch_size': 60, 'L': 10, 'dt': 1e-07}. metric: 846\n",
      "Hyperparams: {'batch_size': 60, 'L': 10, 'dt': 3.1622776e-08}. metric: 1076\n",
      "\n",
      "Number of samples: [3, 3, 2, 2, 1, 2, 1, 3, 1, 2, 1, 1, 2, 2, 1, 1, 1, 1, 1, 1, 1, 1, 2, 1, 3, 1, 1, 1, 1, 1, 2, 1]\n"
     ]
    },
    {
     "data": {
      "application/vnd.jupyter.widget-view+json": {
       "model_id": "292844b9c9d64d3581121c13b00c6cf9",
       "version_major": 2,
       "version_minor": 0
      },
      "text/plain": [
       "HBox(children=(HTML(value='Iteration 2/4, 32 arms, time budget = 0.22 sec'), FloatProgress(value=0.0, max=32.0…"
      ]
     },
     "metadata": {},
     "output_type": "display_data"
    },
    {
     "name": "stdout",
     "output_type": "stream",
     "text": [
      "Hyperparams: {'batch_size': 60, 'L': 5, 'dt': 3.1622776e-07}. metric: 563\n",
      "Hyperparams: {'batch_size': 60, 'L': 5, 'dt': 1e-06}. metric: 740\n",
      "Hyperparams: {'batch_size': 600, 'L': 5, 'dt': 1e-06}. metric: 998\n",
      "Hyperparams: {'batch_size': 60, 'L': 10, 'dt': 1e-07}. metric: 570\n",
      "Hyperparams: {'batch_size': 6000, 'L': 5, 'dt': 3.1622776e-06}. metric: 1410\n",
      "Hyperparams: {'batch_size': 60, 'L': 10, 'dt': 3.1622776e-07}. metric: 710\n",
      "Hyperparams: {'batch_size': 6000, 'L': 5, 'dt': 1e-06}. metric: 928\n",
      "Hyperparams: {'batch_size': 60, 'L': 5, 'dt': 1e-07}. metric: 695\n",
      "Hyperparams: {'batch_size': 6000, 'L': 10, 'dt': 3.1622776e-07}. metric: 824\n",
      "Hyperparams: {'batch_size': 600, 'L': 5, 'dt': 3.1622776e-07}. metric: 709\n",
      "Hyperparams: {'batch_size': 60000, 'L': 5, 'dt': 1e-06}. metric: 1002\n",
      "Hyperparams: {'batch_size': 60000, 'L': 5, 'dt': 3.1622776e-07}. metric: 1160\n",
      "Hyperparams: {'batch_size': 60, 'L': 10, 'dt': 3.1622776e-08}. metric: 909\n",
      "Hyperparams: {'batch_size': 600, 'L': 5, 'dt': 1e-07}. metric: 842\n",
      "Hyperparams: {'batch_size': 60000, 'L': 10, 'dt': 3.1622776e-07}. metric: 907\n",
      "Hyperparams: {'batch_size': 600, 'L': 10, 'dt': 1e-07}. metric: 1067\n",
      "Hyperparams: {'batch_size': 600, 'L': 10, 'dt': 3.1622776e-07}. metric: 1069\n",
      "Hyperparams: {'batch_size': 60000, 'L': 10, 'dt': 1e-07}. metric: 1257\n",
      "Hyperparams: {'batch_size': 6000, 'L': 10, 'dt': 1e-07}. metric: 884\n",
      "Hyperparams: {'batch_size': 6000, 'L': 5, 'dt': 3.1622776e-07}. metric: 1118\n",
      "Hyperparams: {'batch_size': 600, 'L': 10, 'dt': 3.1622776e-08}. metric: 795\n",
      "Hyperparams: {'batch_size': 60000, 'L': 5, 'dt': 3.1622776e-08}. metric: 1224\n",
      "Hyperparams: {'batch_size': 600, 'L': 5, 'dt': 3.1622776e-08}. metric: 1317\n",
      "Hyperparams: {'batch_size': 6000, 'L': 5, 'dt': 1e-07}. metric: 1245\n",
      "Hyperparams: {'batch_size': 60, 'L': 5, 'dt': 3.1622776e-08}. metric: 1149\n",
      "Hyperparams: {'batch_size': 6000, 'L': 10, 'dt': 3.1622776e-08}. metric: 1195\n",
      "Hyperparams: {'batch_size': 60000, 'L': 5, 'dt': 1e-07}. metric: 1392\n",
      "Hyperparams: {'batch_size': 60000, 'L': 10, 'dt': 1e-06}. metric: 1570\n",
      "Hyperparams: {'batch_size': 6000, 'L': 5, 'dt': 3.1622776e-08}. metric: 1468\n",
      "Hyperparams: {'batch_size': 60000, 'L': 10, 'dt': 3.1622776e-08}. metric: 1293\n",
      "Hyperparams: {'batch_size': 600, 'L': 5, 'dt': 3.1622776e-06}. metric: 3831\n",
      "Hyperparams: {'batch_size': 6000, 'L': 10, 'dt': 3.1622776e-06}. metric: 3579\n",
      "\n",
      "Number of samples: [9, 6, 9, 4, 6, 9, 3, 2, 4, 2]\n"
     ]
    },
    {
     "data": {
      "application/vnd.jupyter.widget-view+json": {
       "model_id": "99e34bfc5aab44f8a98e9b372243e38c",
       "version_major": 2,
       "version_minor": 0
      },
      "text/plain": [
       "HBox(children=(HTML(value='Iteration 3/4, 10 arms, time budget = 0.72 sec'), FloatProgress(value=0.0, max=10.0…"
      ]
     },
     "metadata": {},
     "output_type": "display_data"
    },
    {
     "name": "stdout",
     "output_type": "stream",
     "text": [
      "Hyperparams: {'batch_size': 60, 'L': 5, 'dt': 3.1622776e-07}. metric: 444\n",
      "Hyperparams: {'batch_size': 60, 'L': 10, 'dt': 1e-07}. metric: 477\n",
      "Hyperparams: {'batch_size': 60, 'L': 5, 'dt': 1e-07}. metric: 559\n",
      "Hyperparams: {'batch_size': 600, 'L': 5, 'dt': 3.1622776e-07}. metric: 544\n",
      "Hyperparams: {'batch_size': 60, 'L': 10, 'dt': 3.1622776e-07}. metric: 569\n",
      "Hyperparams: {'batch_size': 60, 'L': 5, 'dt': 1e-06}. metric: 552\n",
      "Hyperparams: {'batch_size': 600, 'L': 10, 'dt': 3.1622776e-08}. metric: 704\n",
      "Hyperparams: {'batch_size': 6000, 'L': 10, 'dt': 3.1622776e-07}. metric: 902\n",
      "Hyperparams: {'batch_size': 600, 'L': 5, 'dt': 1e-07}. metric: 673\n",
      "Hyperparams: {'batch_size': 6000, 'L': 10, 'dt': 1e-07}. metric: 878\n",
      "\n",
      "Number of samples: [29, 18, 12]\n"
     ]
    },
    {
     "data": {
      "application/vnd.jupyter.widget-view+json": {
       "model_id": "af8726b064db469eb496c4d969429ef2",
       "version_major": 2,
       "version_minor": 0
      },
      "text/plain": [
       "HBox(children=(HTML(value='Iteration 4/4, 3 arms, time budget = 2.40 sec'), FloatProgress(value=0.0, max=3.0),…"
      ]
     },
     "metadata": {},
     "output_type": "display_data"
    },
    {
     "name": "stdout",
     "output_type": "stream",
     "text": [
      "Hyperparams: {'batch_size': 60, 'L': 5, 'dt': 3.1622776e-07}. metric: 307\n",
      "Hyperparams: {'batch_size': 60, 'L': 10, 'dt': 1e-07}. metric: 323\n",
      "Hyperparams: {'batch_size': 600, 'L': 5, 'dt': 3.1622776e-07}. metric: 372\n",
      "\n",
      "Number of samples: [100]\n",
      "Running time: 1099.1 sec\n",
      "{'batch_size': 60, 'L': 5, 'dt': 3.1622776e-07} 307.215 (100, 79510)\n"
     ]
    }
   ],
   "source": [
    "build_kernel = lambda dt, L, batch_size: build_sghmcCV_kernel(dt, L, loglikelihood, \n",
    "                                                  logprior, data, batch_size, centering_value)\n",
    "\n",
    "grid_params = {'log_dt': -jnp.arange(2., 8., 0.5), \n",
    "               'batch_size': [int(10**(-elem)*X_train.shape[0]) for elem in range(0,4)],\n",
    "               \"L\": [5, 10]\n",
    "              }\n",
    "best_arm = run_MAMBA(key, build_kernel, err_fn, R, params_IC, grid_params=grid_params, get_fb_grads=get_fb_grads)\n",
    "\n",
    "print(best_arm.hyperparameters, best_arm.metric, best_arm.samples.shape)"
   ]
  },
  {
   "cell_type": "code",
   "execution_count": 10,
   "id": "4817772c",
   "metadata": {},
   "outputs": [
    {
     "data": {
      "application/vnd.jupyter.widget-view+json": {
       "model_id": "eb5fe339cbf243dfbf739a72ab07537c",
       "version_major": 2,
       "version_minor": 0
      },
      "text/plain": [
       "HBox(children=(HTML(value='Iteration 1/3, 48 arms, time budget = 0.23 sec'), FloatProgress(value=0.0, max=48.0…"
      ]
     },
     "metadata": {},
     "output_type": "display_data"
    },
    {
     "name": "stdout",
     "output_type": "stream",
     "text": [
      "Hyperparams: {'batch_size': 60000, 'dt': 0.01}. metric: 81348\n",
      "Hyperparams: {'batch_size': 60000, 'dt': 0.0031622776}. metric: 105126\n",
      "Hyperparams: {'batch_size': 60000, 'dt': 0.001}. metric: 81248\n",
      "Hyperparams: {'batch_size': 60000, 'dt': 0.00031622776}. metric: 32771\n",
      "Hyperparams: {'batch_size': 60000, 'dt': 1e-04}. metric: 8883\n",
      "Hyperparams: {'batch_size': 60000, 'dt': 3.1622778e-05}. metric: 1058\n",
      "Hyperparams: {'batch_size': 60000, 'dt': 1e-05}. metric: 859\n",
      "Hyperparams: {'batch_size': 60000, 'dt': 3.1622776e-06}. metric: 1489\n",
      "Hyperparams: {'batch_size': 60000, 'dt': 1e-06}. metric: 1418\n",
      "Hyperparams: {'batch_size': 60000, 'dt': 3.1622776e-07}. metric: 1410\n",
      "Hyperparams: {'batch_size': 60000, 'dt': 1e-07}. metric: 1448\n",
      "Hyperparams: {'batch_size': 60000, 'dt': 3.1622776e-08}. metric: 1458\n",
      "Hyperparams: {'batch_size': 6000, 'dt': 0.01}. metric: inf\n",
      "Hyperparams: {'batch_size': 6000, 'dt': 0.0031622776}. metric: inf\n",
      "Hyperparams: {'batch_size': 6000, 'dt': 0.001}. metric: inf\n",
      "Hyperparams: {'batch_size': 6000, 'dt': 0.00031622776}. metric: inf\n",
      "Hyperparams: {'batch_size': 6000, 'dt': 1e-04}. metric: 7379\n",
      "Hyperparams: {'batch_size': 6000, 'dt': 3.1622778e-05}. metric: 4525\n",
      "Hyperparams: {'batch_size': 6000, 'dt': 1e-05}. metric: 1082\n",
      "Hyperparams: {'batch_size': 6000, 'dt': 3.1622776e-06}. metric: 979\n",
      "Hyperparams: {'batch_size': 6000, 'dt': 1e-06}. metric: 821\n",
      "Hyperparams: {'batch_size': 6000, 'dt': 3.1622776e-07}. metric: 911\n",
      "Hyperparams: {'batch_size': 6000, 'dt': 1e-07}. metric: 1216\n",
      "Hyperparams: {'batch_size': 6000, 'dt': 3.1622776e-08}. metric: 1417\n",
      "Hyperparams: {'batch_size': 600, 'dt': 0.01}. metric: inf\n",
      "Hyperparams: {'batch_size': 600, 'dt': 0.0031622776}. metric: inf\n",
      "Hyperparams: {'batch_size': 600, 'dt': 0.001}. metric: inf\n",
      "Hyperparams: {'batch_size': 600, 'dt': 0.00031622776}. metric: inf\n",
      "Hyperparams: {'batch_size': 600, 'dt': 1e-04}. metric: inf\n",
      "Hyperparams: {'batch_size': 600, 'dt': 3.1622778e-05}. metric: 3338\n",
      "Hyperparams: {'batch_size': 600, 'dt': 1e-05}. metric: 2402\n",
      "Hyperparams: {'batch_size': 600, 'dt': 3.1622776e-06}. metric: 3285\n",
      "Hyperparams: {'batch_size': 600, 'dt': 1e-06}. metric: 1146\n",
      "Hyperparams: {'batch_size': 600, 'dt': 3.1622776e-07}. metric: 1192\n",
      "Hyperparams: {'batch_size': 600, 'dt': 1e-07}. metric: 981\n",
      "Hyperparams: {'batch_size': 600, 'dt': 3.1622776e-08}. metric: 823\n",
      "Hyperparams: {'batch_size': 60, 'dt': 0.01}. metric: inf\n",
      "Hyperparams: {'batch_size': 60, 'dt': 0.0031622776}. metric: inf\n",
      "Hyperparams: {'batch_size': 60, 'dt': 0.001}. metric: inf\n",
      "Hyperparams: {'batch_size': 60, 'dt': 0.00031622776}. metric: inf\n",
      "Hyperparams: {'batch_size': 60, 'dt': 1e-04}. metric: inf\n",
      "Hyperparams: {'batch_size': 60, 'dt': 3.1622778e-05}. metric: 2516\n",
      "Hyperparams: {'batch_size': 60, 'dt': 1e-05}. metric: 1923\n",
      "Hyperparams: {'batch_size': 60, 'dt': 3.1622776e-06}. metric: 3777\n",
      "Hyperparams: {'batch_size': 60, 'dt': 1e-06}. metric: 3774\n",
      "Hyperparams: {'batch_size': 60, 'dt': 3.1622776e-07}. metric: 3315\n",
      "Hyperparams: {'batch_size': 60, 'dt': 1e-07}. metric: 2331\n",
      "Hyperparams: {'batch_size': 60, 'dt': 3.1622776e-08}. metric: 1311\n",
      "\n",
      "Number of samples: [4, 19, 1, 4, 4, 19, 1, 4, 19, 19, 4, 33, 1, 4, 1, 1]\n"
     ]
    },
    {
     "data": {
      "application/vnd.jupyter.widget-view+json": {
       "model_id": "7f540b5daeb648da8e875fed807a2c95",
       "version_major": 2,
       "version_minor": 0
      },
      "text/plain": [
       "HBox(children=(HTML(value='Iteration 2/3, 16 arms, time budget = 0.69 sec'), FloatProgress(value=0.0, max=16.0…"
      ]
     },
     "metadata": {},
     "output_type": "display_data"
    },
    {
     "name": "stdout",
     "output_type": "stream",
     "text": [
      "Hyperparams: {'batch_size': 6000, 'dt': 1e-06}. metric: 641\n",
      "Hyperparams: {'batch_size': 600, 'dt': 3.1622776e-08}. metric: 664\n",
      "Hyperparams: {'batch_size': 60000, 'dt': 1e-05}. metric: 818\n",
      "Hyperparams: {'batch_size': 6000, 'dt': 3.1622776e-07}. metric: 673\n",
      "Hyperparams: {'batch_size': 6000, 'dt': 3.1622776e-06}. metric: 961\n",
      "Hyperparams: {'batch_size': 600, 'dt': 1e-07}. metric: 966\n",
      "Hyperparams: {'batch_size': 60000, 'dt': 3.1622778e-05}. metric: 1345\n",
      "Hyperparams: {'batch_size': 6000, 'dt': 1e-05}. metric: 1418\n",
      "Hyperparams: {'batch_size': 600, 'dt': 1e-06}. metric: 1521\n",
      "Hyperparams: {'batch_size': 600, 'dt': 3.1622776e-07}. metric: 1110\n",
      "Hyperparams: {'batch_size': 6000, 'dt': 1e-07}. metric: 776\n",
      "Hyperparams: {'batch_size': 60, 'dt': 3.1622776e-08}. metric: 1517\n",
      "Hyperparams: {'batch_size': 60000, 'dt': 3.1622776e-07}. metric: 1119\n",
      "Hyperparams: {'batch_size': 6000, 'dt': 3.1622776e-08}. metric: 1216\n",
      "Hyperparams: {'batch_size': 60000, 'dt': 1e-06}. metric: 744\n",
      "Hyperparams: {'batch_size': 60000, 'dt': 1e-07}. metric: 1367\n",
      "\n",
      "Number of samples: [12, 64, 9, 3, 11]\n"
     ]
    },
    {
     "data": {
      "application/vnd.jupyter.widget-view+json": {
       "model_id": "0af4e7c4214c44e3950670f379099fb9",
       "version_major": 2,
       "version_minor": 0
      },
      "text/plain": [
       "HBox(children=(HTML(value='Iteration 3/3, 5 arms, time budget = 2.22 sec'), FloatProgress(value=0.0, max=5.0),…"
      ]
     },
     "metadata": {},
     "output_type": "display_data"
    },
    {
     "name": "stdout",
     "output_type": "stream",
     "text": [
      "Hyperparams: {'batch_size': 6000, 'dt': 1e-06}. metric: 424\n",
      "Hyperparams: {'batch_size': 600, 'dt': 3.1622776e-08}. metric: 439\n",
      "Hyperparams: {'batch_size': 6000, 'dt': 3.1622776e-07}. metric: 444\n",
      "Hyperparams: {'batch_size': 60000, 'dt': 1e-06}. metric: 550\n",
      "Hyperparams: {'batch_size': 6000, 'dt': 1e-07}. metric: 494\n",
      "\n",
      "Number of samples: [39]\n",
      "Running time: 921.4 sec\n",
      "{'batch_size': 6000, 'dt': 1e-06} 424.0574 (39, 79510)\n"
     ]
    }
   ],
   "source": [
    "build_kernel = lambda dt, batch_size: build_sgnht_kernel(dt, loglikelihood, logprior, data, batch_size)\n",
    "\n",
    "grid_params = {'log_dt': -jnp.arange(2., 8., 0.5), \n",
    "               'batch_size': [int(10**(-elem)*X_train.shape[0]) for elem in range(0,4)]\n",
    "              }\n",
    "best_arm = run_MAMBA(key, build_kernel, err_fn, R, params_IC, grid_params=grid_params, get_fb_grads=get_fb_grads)\n",
    "\n",
    "print(best_arm.hyperparameters, best_arm.metric, best_arm.samples.shape)"
   ]
  },
  {
   "cell_type": "code",
   "execution_count": 11,
   "id": "fdd0e3a2",
   "metadata": {
    "collapsed": true
   },
   "outputs": [
    {
     "data": {
      "application/vnd.jupyter.widget-view+json": {
       "model_id": "797241f5bfe543f7aefdaf981bc24b13",
       "version_major": 2,
       "version_minor": 0
      },
      "text/plain": [
       "HBox(children=(HTML(value='Iteration 1/3, 48 arms, time budget = 0.23 sec'), FloatProgress(value=0.0, max=48.0…"
      ]
     },
     "metadata": {},
     "output_type": "display_data"
    },
    {
     "name": "stdout",
     "output_type": "stream",
     "text": [
      "Hyperparams: {'batch_size': 60000, 'dt': 0.01}. metric: 81125\n",
      "Hyperparams: {'batch_size': 60000, 'dt': 0.0031622776}. metric: 115621\n",
      "Hyperparams: {'batch_size': 60000, 'dt': 0.001}. metric: 80055\n",
      "Hyperparams: {'batch_size': 60000, 'dt': 0.00031622776}. metric: 32264\n",
      "Hyperparams: {'batch_size': 60000, 'dt': 1e-04}. metric: 7548\n",
      "Hyperparams: {'batch_size': 60000, 'dt': 3.1622778e-05}. metric: 1961\n",
      "Hyperparams: {'batch_size': 60000, 'dt': 1e-05}. metric: 877\n",
      "Hyperparams: {'batch_size': 60000, 'dt': 3.1622776e-06}. metric: 1441\n",
      "Hyperparams: {'batch_size': 60000, 'dt': 1e-06}. metric: 1429\n",
      "Hyperparams: {'batch_size': 60000, 'dt': 3.1622776e-07}. metric: 1408\n",
      "Hyperparams: {'batch_size': 60000, 'dt': 1e-07}. metric: 1446\n",
      "Hyperparams: {'batch_size': 60000, 'dt': 3.1622776e-08}. metric: 1459\n",
      "Hyperparams: {'batch_size': 6000, 'dt': 0.01}. metric: inf\n",
      "Hyperparams: {'batch_size': 6000, 'dt': 0.0031622776}. metric: inf\n",
      "Hyperparams: {'batch_size': 6000, 'dt': 0.001}. metric: inf\n",
      "Hyperparams: {'batch_size': 6000, 'dt': 0.00031622776}. metric: inf\n",
      "Hyperparams: {'batch_size': 6000, 'dt': 1e-04}. metric: 8622\n",
      "Hyperparams: {'batch_size': 6000, 'dt': 3.1622778e-05}. metric: 1420\n",
      "Hyperparams: {'batch_size': 6000, 'dt': 1e-05}. metric: 937\n",
      "Hyperparams: {'batch_size': 6000, 'dt': 3.1622776e-06}. metric: 869\n",
      "Hyperparams: {'batch_size': 6000, 'dt': 1e-06}. metric: 891\n",
      "Hyperparams: {'batch_size': 6000, 'dt': 3.1622776e-07}. metric: 1272\n",
      "Hyperparams: {'batch_size': 6000, 'dt': 1e-07}. metric: 1358\n",
      "Hyperparams: {'batch_size': 6000, 'dt': 3.1622776e-08}. metric: 1459\n",
      "Hyperparams: {'batch_size': 600, 'dt': 0.01}. metric: inf\n",
      "Hyperparams: {'batch_size': 600, 'dt': 0.0031622776}. metric: inf\n",
      "Hyperparams: {'batch_size': 600, 'dt': 0.001}. metric: inf\n",
      "Hyperparams: {'batch_size': 600, 'dt': 0.00031622776}. metric: inf\n",
      "Hyperparams: {'batch_size': 600, 'dt': 1e-04}. metric: 2473\n",
      "Hyperparams: {'batch_size': 600, 'dt': 3.1622778e-05}. metric: 3684\n",
      "Hyperparams: {'batch_size': 600, 'dt': 1e-05}. metric: 3273\n",
      "Hyperparams: {'batch_size': 600, 'dt': 3.1622776e-06}. metric: 1048\n",
      "Hyperparams: {'batch_size': 600, 'dt': 1e-06}. metric: 595\n",
      "Hyperparams: {'batch_size': 600, 'dt': 3.1622776e-07}. metric: 621\n",
      "Hyperparams: {'batch_size': 600, 'dt': 1e-07}. metric: 718\n",
      "Hyperparams: {'batch_size': 600, 'dt': 3.1622776e-08}. metric: 803\n",
      "Hyperparams: {'batch_size': 60, 'dt': 0.01}. metric: inf\n",
      "Hyperparams: {'batch_size': 60, 'dt': 0.0031622776}. metric: inf\n",
      "Hyperparams: {'batch_size': 60, 'dt': 0.001}. metric: inf\n",
      "Hyperparams: {'batch_size': 60, 'dt': 0.00031622776}. metric: inf\n",
      "Hyperparams: {'batch_size': 60, 'dt': 1e-04}. metric: inf\n",
      "Hyperparams: {'batch_size': 60, 'dt': 3.1622778e-05}. metric: 2534\n",
      "Hyperparams: {'batch_size': 60, 'dt': 1e-05}. metric: 2685\n",
      "Hyperparams: {'batch_size': 60, 'dt': 3.1622776e-06}. metric: 3792\n",
      "Hyperparams: {'batch_size': 60, 'dt': 1e-06}. metric: 2753\n",
      "Hyperparams: {'batch_size': 60, 'dt': 3.1622776e-07}. metric: 979\n",
      "Hyperparams: {'batch_size': 60, 'dt': 1e-07}. metric: 645\n",
      "Hyperparams: {'batch_size': 60, 'dt': 3.1622776e-08}. metric: 618\n",
      "\n",
      "Number of samples: [13, 28, 11, 30, 12, 13, 2, 1, 2, 2, 29, 13, 2, 2, 1, 2]\n"
     ]
    },
    {
     "data": {
      "application/vnd.jupyter.widget-view+json": {
       "model_id": "3dc542dea20646e3af62a7f8b5eae65b",
       "version_major": 2,
       "version_minor": 0
      },
      "text/plain": [
       "HBox(children=(HTML(value='Iteration 2/3, 16 arms, time budget = 0.69 sec'), FloatProgress(value=0.0, max=16.0…"
      ]
     },
     "metadata": {},
     "output_type": "display_data"
    },
    {
     "name": "stdout",
     "output_type": "stream",
     "text": [
      "Hyperparams: {'batch_size': 600, 'dt': 1e-06}. metric: 526\n",
      "Hyperparams: {'batch_size': 60, 'dt': 3.1622776e-08}. metric: 523\n",
      "Hyperparams: {'batch_size': 600, 'dt': 3.1622776e-07}. metric: 472\n",
      "Hyperparams: {'batch_size': 60, 'dt': 1e-07}. metric: 802\n",
      "Hyperparams: {'batch_size': 600, 'dt': 1e-07}. metric: 494\n",
      "Hyperparams: {'batch_size': 600, 'dt': 3.1622776e-08}. metric: 592\n",
      "Hyperparams: {'batch_size': 6000, 'dt': 3.1622776e-06}. metric: 544\n",
      "Hyperparams: {'batch_size': 60000, 'dt': 1e-05}. metric: 852\n",
      "Hyperparams: {'batch_size': 6000, 'dt': 1e-06}. metric: 683\n",
      "Hyperparams: {'batch_size': 6000, 'dt': 1e-05}. metric: 656\n",
      "Hyperparams: {'batch_size': 60, 'dt': 3.1622776e-07}. metric: 1766\n",
      "Hyperparams: {'batch_size': 600, 'dt': 3.1622776e-06}. metric: 1866\n",
      "Hyperparams: {'batch_size': 6000, 'dt': 3.1622776e-07}. metric: 780\n",
      "Hyperparams: {'batch_size': 6000, 'dt': 1e-07}. metric: 1037\n",
      "Hyperparams: {'batch_size': 60000, 'dt': 3.1622776e-07}. metric: 1333\n",
      "Hyperparams: {'batch_size': 6000, 'dt': 3.1622778e-05}. metric: 2171\n",
      "\n",
      "Number of samples: [41, 42, 109, 43, 7]\n"
     ]
    },
    {
     "data": {
      "application/vnd.jupyter.widget-view+json": {
       "model_id": "f0945cd65cd64479a9f52b9a35ef0799",
       "version_major": 2,
       "version_minor": 0
      },
      "text/plain": [
       "HBox(children=(HTML(value='Iteration 3/3, 5 arms, time budget = 2.22 sec'), FloatProgress(value=0.0, max=5.0),…"
      ]
     },
     "metadata": {},
     "output_type": "display_data"
    },
    {
     "name": "stdout",
     "output_type": "stream",
     "text": [
      "Hyperparams: {'batch_size': 600, 'dt': 3.1622776e-07}. metric: 430\n",
      "Hyperparams: {'batch_size': 600, 'dt': 1e-07}. metric: 334\n",
      "Hyperparams: {'batch_size': 60, 'dt': 3.1622776e-08}. metric: 408\n",
      "Hyperparams: {'batch_size': 600, 'dt': 1e-06}. metric: 693\n",
      "Hyperparams: {'batch_size': 6000, 'dt': 3.1622776e-06}. metric: 392\n",
      "\n",
      "Number of samples: [147]\n",
      "Running time: 1125.8 sec\n",
      "{'batch_size': 600, 'dt': 1e-07} 334.35962 (147, 79510)\n"
     ]
    }
   ],
   "source": [
    "build_kernel = lambda dt, batch_size: build_sgnhtCV_kernel(dt, loglikelihood, \n",
    "                                                  logprior, data, batch_size, centering_value)\n",
    "# T = 10\n",
    "grid_params = {'log_dt': -jnp.arange(2., 8., 0.5), \n",
    "               'batch_size': [int(10**(-elem)*X_train.shape[0]) for elem in range(0,4)]\n",
    "              }\n",
    "best_arm = run_MAMBA(key, build_kernel, err_fn, R, params_IC, grid_params=grid_params, get_fb_grads=get_fb_grads)\n",
    "\n",
    "print(best_arm.hyperparameters, best_arm.metric, best_arm.samples.shape)"
   ]
  },
  {
   "cell_type": "code",
   "execution_count": null,
   "id": "b49a8d67",
   "metadata": {},
   "outputs": [],
   "source": []
  },
  {
   "cell_type": "code",
   "execution_count": null,
   "id": "134bc659",
   "metadata": {},
   "outputs": [],
   "source": []
  },
  {
   "cell_type": "code",
   "execution_count": null,
   "id": "8a85a1a4",
   "metadata": {},
   "outputs": [],
   "source": []
  }
 ],
 "metadata": {
  "kernelspec": {
   "display_name": "Python 3",
   "language": "python",
   "name": "python3"
  },
  "language_info": {
   "codemirror_mode": {
    "name": "ipython",
    "version": 3
   },
   "file_extension": ".py",
   "mimetype": "text/x-python",
   "name": "python",
   "nbconvert_exporter": "python",
   "pygments_lexer": "ipython3",
   "version": "3.8.2"
  }
 },
 "nbformat": 4,
 "nbformat_minor": 5
}
