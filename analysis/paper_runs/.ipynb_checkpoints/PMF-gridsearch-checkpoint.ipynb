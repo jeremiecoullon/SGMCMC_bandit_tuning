{
 "cells": [
  {
   "cell_type": "code",
   "execution_count": 2,
   "metadata": {},
   "outputs": [],
   "source": [
    "%matplotlib inline\n",
    "\n",
    "import matplotlib.pyplot as plt\n",
    "import seaborn as sns\n",
    "sns.set_style(\"darkgrid\")\n",
    "import numpy as np\n",
    "import time\n",
    "from tqdm.auto import tqdm\n",
    "\n",
    "import jax.numpy as jnp\n",
    "from jax import partial, jit, vmap, grad, random, lax\n",
    "from jax.scipy.special import logsumexp\n",
    "\n",
    "import context\n",
    "from ksd import imq_KSD\n"
   ]
  },
  {
   "cell_type": "markdown",
   "metadata": {},
   "source": [
    "# PMF- \"logloss\" method vs KSD method\n",
    "\n",
    "\n",
    "### This notebook includes\n",
    "\n",
    "- PMF:\n",
    "    - sgld: default vs SH-KSD method\n",
    "    \n"
   ]
  },
  {
   "cell_type": "markdown",
   "metadata": {},
   "source": [
    "# SGLD"
   ]
  },
  {
   "cell_type": "code",
   "execution_count": 3,
   "metadata": {},
   "outputs": [
    {
     "name": "stderr",
     "output_type": "stream",
     "text": [
      "WARNING:absl:No GPU/TPU found, falling back to CPU. (Set TF_CPP_MIN_LOG_LEVEL=0 and rerun for more info.)\n"
     ]
    }
   ],
   "source": [
    "from examples.PMF.pmf_model import grad_log_post, batch_loglik\n",
    "from examples.PMF.sgld_PMF_functions import sgld_PMF_scan, step_sgld_PMF\n",
    "from examples.PMF.util import load_PMF_params, R_train, R_test, flatten_PMF_jax_scan, flatten_PMF_params, load_PMF_MAP\n",
    "from examples.PMF.util import rmse_PMF, mean_rating\n",
    "\n",
    "from ksd import imq_KSD\n",
    "from examples.PMF.sgld_PMF_functions import sgld_PMF_scan, sgld_PMF, sgld_PMF_time_budget\n",
    "\n"
   ]
  },
  {
   "cell_type": "code",
   "execution_count": 3,
   "metadata": {},
   "outputs": [],
   "source": [
    "\n",
    "def get_rmse_PMF_from_samples(samples):\n",
    "    Usams = np.array([elem[0] for elem in samples])\n",
    "    Vsams = np.array([elem[1] for elem in samples])\n",
    "    return rmse_PMF(Usams, Vsams, R_test, mean_rating)\n",
    "\n",
    "\n",
    "def get_rmse_PMF_sgld(key, dt, params_IC):\n",
    "    Nsamples = 10000\n",
    "    batch_size = int(R_train.shape[0]*0.1)\n",
    "    samples, _ = sgld_PMF(key, Nsamples, grad_log_post, dt, batch_size, \n",
    "                              params_IC, R_train, save_rate=1, print_rate=10000)\n",
    "    return get_rmse_PMF_from_samples(samples[::10])\n",
    "\n",
    "\n",
    "def add_noise_PMF_params(key, params, scale):\n",
    "    keys = random.split(key, len(params))\n",
    "    return [elem + scale*random.normal(k, shape=elem.shape) for elem,k in zip(params, keys)]\n",
    "\n",
    "key = random.PRNGKey(0)\n",
    "noisy_params = add_noise_PMF_params(key, load_PMF_MAP(), 1.)\n"
   ]
  },
  {
   "cell_type": "code",
   "execution_count": null,
   "metadata": {},
   "outputs": [],
   "source": []
  },
  {
   "cell_type": "code",
   "execution_count": null,
   "metadata": {},
   "outputs": [],
   "source": []
  },
  {
   "cell_type": "markdown",
   "metadata": {},
   "source": [
    "## Gridsearch for noise `scale=1`"
   ]
  },
  {
   "cell_type": "markdown",
   "metadata": {},
   "source": [
    "### use RMSE\n",
    "\n",
    "Grid: `jnp.arange(2,7, 0.25)`\n",
    "\n",
    "optimal: `log_dt = 3.5`"
   ]
  },
  {
   "cell_type": "code",
   "execution_count": 27,
   "metadata": {
    "collapsed": true
   },
   "outputs": [
    {
     "name": "stdout",
     "output_type": "stream",
     "text": [
      "Grid search for 20 grid points\n",
      "\n"
     ]
    },
    {
     "data": {
      "application/vnd.jupyter.widget-view+json": {
       "model_id": "3be296ed0b044594bf81e1cbfd73fdc0",
       "version_major": 2,
       "version_minor": 0
      },
      "text/plain": [
       "HBox(children=(FloatProgress(value=0.0, max=20.0), HTML(value='')))"
      ]
     },
     "metadata": {},
     "output_type": "display_data"
    },
    {
     "name": "stdout",
     "output_type": "stream",
     "text": [
      "Running sgld for 10000 iterations\n",
      "Iteration 0/10000\n",
      "\n",
      "Running time 0.46min\n",
      "Running sgld for 10000 iterations\n",
      "Iteration 0/10000\n",
      "\n",
      "Running time 0.46min\n",
      "Running sgld for 10000 iterations\n",
      "Iteration 0/10000\n",
      "\n",
      "Running time 0.47min\n",
      "Running sgld for 10000 iterations\n",
      "Iteration 0/10000\n",
      "\n",
      "Running time 0.48min\n",
      "Running sgld for 10000 iterations\n",
      "Iteration 0/10000\n",
      "\n",
      "Running time 0.49min\n",
      "Running sgld for 10000 iterations\n",
      "Iteration 0/10000\n",
      "\n",
      "Running time 0.51min\n",
      "Running sgld for 10000 iterations\n",
      "Iteration 0/10000\n",
      "\n",
      "Running time 0.45min\n",
      "Running sgld for 10000 iterations\n",
      "Iteration 0/10000\n",
      "\n",
      "Running time 0.46min\n",
      "Running sgld for 10000 iterations\n",
      "Iteration 0/10000\n",
      "\n",
      "Running time 0.45min\n",
      "Running sgld for 10000 iterations\n",
      "Iteration 0/10000\n",
      "\n",
      "Running time 0.45min\n",
      "Running sgld for 10000 iterations\n",
      "Iteration 0/10000\n",
      "\n",
      "Running time 0.45min\n",
      "Running sgld for 10000 iterations\n",
      "Iteration 0/10000\n",
      "\n",
      "Running time 0.45min\n",
      "Running sgld for 10000 iterations\n",
      "Iteration 0/10000\n",
      "\n",
      "Running time 0.45min\n",
      "Running sgld for 10000 iterations\n",
      "Iteration 0/10000\n",
      "\n",
      "Running time 0.50min\n",
      "Running sgld for 10000 iterations\n",
      "Iteration 0/10000\n",
      "\n",
      "Running time 0.49min\n",
      "Running sgld for 10000 iterations\n",
      "Iteration 0/10000\n",
      "\n",
      "Running time 0.48min\n",
      "Running sgld for 10000 iterations\n",
      "Iteration 0/10000\n",
      "\n",
      "Running time 0.45min\n",
      "Running sgld for 10000 iterations\n",
      "Iteration 0/10000\n",
      "\n",
      "Running time 0.43min\n",
      "Running sgld for 10000 iterations\n",
      "Iteration 0/10000\n",
      "\n",
      "Running time 0.54min\n",
      "Running sgld for 10000 iterations\n",
      "Iteration 0/10000\n",
      "\n",
      "Running time 0.46min\n",
      "\n",
      "Running time for grid search: 600.5sec\n",
      "dt for the smallest logloss: 10^-3.50\n"
     ]
    }
   ],
   "source": [
    "key = random.PRNGKey(0)\n",
    "\n",
    "key, subkey = random.split(key)\n",
    "params_IC = add_noise_PMF_params(subkey, load_PMF_MAP(), 1.)\n",
    "\n",
    "log_dt_array_PMF = -jnp.arange(2,7, 0.25) # linear grid on a log scale\n",
    "dt_array = 10.**log_dt_array_PMF\n",
    "print(f\"Grid search for {log_dt_array_PMF.shape[0]} grid points\\n\")\n",
    "starttime = time.time()\n",
    "grid_rmse_PMF = []\n",
    "for dt in tqdm(dt_array):\n",
    "    grid_rmse_PMF.append(get_rmse_PMF_sgld(key, dt, params_IC))\n",
    "\n",
    "\n",
    "print(f\"Running time for grid search: {time.time() - starttime:.1f}sec\")\n",
    "\n",
    "opt_log_dt_PMF = log_dt_array_PMF[np.nanargmin(grid_rmse_PMF)]\n",
    "print(f\"dt for the smallest logloss: 10^{opt_log_dt_PMF:.2f}\")"
   ]
  },
  {
   "cell_type": "code",
   "execution_count": null,
   "metadata": {},
   "outputs": [],
   "source": []
  },
  {
   "cell_type": "markdown",
   "metadata": {},
   "source": [
    "### use logloss\n",
    "\n",
    "optimal: `log_dt = -3.3`"
   ]
  },
  {
   "cell_type": "code",
   "execution_count": 30,
   "metadata": {},
   "outputs": [],
   "source": [
    "# key = random.PRNGKey(0)\n",
    "\n",
    "# key, subkey = random.split(key)\n",
    "# params_IC = add_noise_PMF_params(subkey, load_PMF_MAP(), 1.)\n",
    "\n",
    "# log_dt_array_PMF = -jnp.arange(2,7, 0.1) # linear grid on a log scale\n",
    "# dt_array = 10.**log_dt_array_PMF\n",
    "# print(f\"Grid search for {log_dt_array_PMF.shape[0]} grid points\\n\")\n",
    "# starttime = time.time()\n",
    "# grid_logloss_PMF = []\n",
    "# for dt in tqdm(dt_array):\n",
    "#     grid_logloss_PMF.append(get_logloss_PMF(key, dt, params_IC))\n",
    "\n",
    "\n",
    "# print(f\"Running time for grid search: {time.time() - starttime:.1f}sec\")\n",
    "\n",
    "# opt_log_dt_PMF = log_dt_array_PMF[np.nanargmin(grid_logloss_PMF)]\n",
    "# print(f\"dt for the smallest logloss: 10^{opt_log_dt_PMF:.2f}\")"
   ]
  },
  {
   "cell_type": "markdown",
   "metadata": {},
   "source": [
    "## Gridsearch for noise `scale=0`\n",
    "\n",
    "optimal `log_dt=-6.9` (gives a really bad KSD)"
   ]
  },
  {
   "cell_type": "code",
   "execution_count": 73,
   "metadata": {},
   "outputs": [
    {
     "data": {
      "image/png": "[encoded data removed]",
      "text/plain": [
       "<Figure size 504x360 with 1 Axes>"
      ]
     },
     "metadata": {},
     "output_type": "display_data"
    }
   ],
   "source": [
    "# scale=1\n",
    "plt.rcParams.update({'font.size':15})\n",
    "plt.figure(figsize=(7, 5))\n",
    "\n",
    "plt.plot(log_dt_array_PMF, grid_logloss_PMF, marker=\"x\", markersize=10, lw=0.7)\n",
    "plt.xlabel(\"log(dt)\", size=20)\n",
    "plt.title(f\"log-loss after {10000} iterations\", size=20)\n",
    "plt.ylabel(\"logloss\", size=20)\n",
    "plt.axvline(opt_log_dt_PMF, c='r', alpha=0.8)\n",
    "plt.show()\n",
    "\n"
   ]
  },
  {
   "cell_type": "code",
   "execution_count": null,
   "metadata": {},
   "outputs": [],
   "source": []
  },
  {
   "cell_type": "markdown",
   "metadata": {},
   "source": [
    "# SVRG"
   ]
  },
  {
   "cell_type": "code",
   "execution_count": 4,
   "metadata": {},
   "outputs": [],
   "source": [
    "from examples.PMF.sgld_PMF_functions import sgld_PMF_time_budget_svrg, sgld_PMF_SVRG\n",
    "from examples.PMF.util import rmse_PMF, mean_rating"
   ]
  },
  {
   "cell_type": "code",
   "execution_count": 5,
   "metadata": {},
   "outputs": [
    {
     "name": "stdout",
     "output_type": "stream",
     "text": [
      "Running sgld for 1000 iterations\n",
      "Iteration 0/1000\n",
      "\n",
      "Running time 0.20min\n"
     ]
    }
   ],
   "source": [
    "\n",
    "Nsamples = 1000\n",
    "save_rate = 30\n",
    "key = random.PRNGKey(0) \n",
    "batch_size = int(R_train.shape[0]*0.1)\n",
    "dt = 1e-12\n",
    "update_rate = 1000\n",
    "params_IC = load_PMF_MAP()\n",
    "\n",
    "samples_svrg_PMF, grads_svrg_PMF = sgld_PMF_SVRG(key, Nsamples, grad_log_post, dt,\n",
    "                         batch_size, params_IC, R_train, update_rate, \n",
    "                          save_rate, 1000)\n",
    "\n",
    "# full_batch_grads = [grad_log_post(sam, R_train) for sam in samples_svrg_PMF]\n",
    "\n",
    "# print(flatten_PMF_params(samples_svrg_PMF).shape[0])"
   ]
  },
  {
   "cell_type": "code",
   "execution_count": 9,
   "metadata": {},
   "outputs": [],
   "source": [
    "\n",
    "# def get_rmse_PMF_svrg(key, dt, update_rate, params_IC):\n",
    "#     Nsamples = 10000\n",
    "#     batch_size = int(R_train.shape[0]*0.1)\n",
    "#     save_rate = 30\n",
    "#     samples, _ = sgld_PMF_SVRG(key, Nsamples, grad_log_post, dt,\n",
    "#                          batch_size, params_IC, R_train, update_rate, \n",
    "#                           save_rate=save_rate, print_rate=1000)\n",
    "#     return get_rmse_PMF_from_samples(samples[::10])\n",
    "\n",
    "\n",
    "\n",
    "def get_rmse_PMF_svrg(key, dt, params_IC):\n",
    "    Nsamples = 10000\n",
    "    batch_size = int(R_train.shape[0]*0.1)\n",
    "    save_rate = 30\n",
    "    update_rate = 1000\n",
    "    samples, _ = sgld_PMF_SVRG(key, Nsamples, grad_log_post, dt,\n",
    "                         batch_size, params_IC, R_train, update_rate, \n",
    "                          save_rate=save_rate, print_rate=10000)\n",
    "    return get_rmse_PMF_from_samples(samples[::10])\n"
   ]
  },
  {
   "cell_type": "code",
   "execution_count": 7,
   "metadata": {},
   "outputs": [
    {
     "name": "stdout",
     "output_type": "stream",
     "text": [
      "Running sgld for 10000 iterations\n",
      "Iteration 0/10000\n",
      "Iteration 1000/10000\n",
      "Iteration 2000/10000\n",
      "Iteration 3000/10000\n",
      "Iteration 4000/10000\n",
      "Iteration 5000/10000\n",
      "Iteration 6000/10000\n",
      "Iteration 7000/10000\n",
      "Iteration 8000/10000\n",
      "Iteration 9000/10000\n",
      "\n",
      "Running time 0.71min\n"
     ]
    },
    {
     "data": {
      "text/plain": [
       "DeviceArray(1.0171132, dtype=float32)"
      ]
     },
     "execution_count": 7,
     "metadata": {},
     "output_type": "execute_result"
    }
   ],
   "source": [
    "get_rmse_PMF_svrg(key, 1e-5, load_PMF_MAP())"
   ]
  },
  {
   "cell_type": "code",
   "execution_count": null,
   "metadata": {},
   "outputs": [],
   "source": []
  },
  {
   "cell_type": "code",
   "execution_count": null,
   "metadata": {},
   "outputs": [],
   "source": []
  },
  {
   "cell_type": "markdown",
   "metadata": {},
   "source": [
    "## grid search svrg:\n",
    "\n",
    "optimal when tuning `(dt, update_rate)`: `(1e-04, 2001.0)`\n",
    "\n",
    "\n",
    "Optimal when tuning `dt` (with a fixed update_rate): `dt=10^-3.75`"
   ]
  },
  {
   "cell_type": "code",
   "execution_count": 10,
   "metadata": {},
   "outputs": [
    {
     "name": "stdout",
     "output_type": "stream",
     "text": [
      "Grid search for 20 grid points\n",
      "\n"
     ]
    },
    {
     "data": {
      "application/vnd.jupyter.widget-view+json": {
       "model_id": "d391ce4bd17044479503faafb9332d89",
       "version_major": 2,
       "version_minor": 0
      },
      "text/plain": [
       "HBox(children=(FloatProgress(value=0.0, max=20.0), HTML(value='')))"
      ]
     },
     "metadata": {},
     "output_type": "display_data"
    },
    {
     "name": "stdout",
     "output_type": "stream",
     "text": [
      "Running sgld for 10000 iterations\n",
      "Iteration 0/10000\n",
      "\n",
      "Running time 0.69min\n",
      "Running sgld for 10000 iterations\n",
      "Iteration 0/10000\n",
      "\n",
      "Running time 0.70min\n",
      "Running sgld for 10000 iterations\n",
      "Iteration 0/10000\n",
      "\n",
      "Running time 0.91min\n",
      "Running sgld for 10000 iterations\n",
      "Iteration 0/10000\n",
      "\n",
      "Running time 1.09min\n",
      "Running sgld for 10000 iterations\n",
      "Iteration 0/10000\n",
      "\n",
      "Running time 0.95min\n",
      "Running sgld for 10000 iterations\n",
      "Iteration 0/10000\n",
      "\n",
      "Running time 0.90min\n",
      "Running sgld for 10000 iterations\n",
      "Iteration 0/10000\n",
      "\n",
      "Running time 1.09min\n",
      "Running sgld for 10000 iterations\n",
      "Iteration 0/10000\n",
      "\n",
      "Running time 0.77min\n",
      "Running sgld for 10000 iterations\n",
      "Iteration 0/10000\n",
      "\n",
      "Running time 0.83min\n",
      "Running sgld for 10000 iterations\n",
      "Iteration 0/10000\n",
      "\n",
      "Running time 0.76min\n",
      "Running sgld for 10000 iterations\n",
      "Iteration 0/10000\n",
      "\n",
      "Running time 0.74min\n",
      "Running sgld for 10000 iterations\n",
      "Iteration 0/10000\n",
      "\n",
      "Running time 0.70min\n",
      "Running sgld for 10000 iterations\n",
      "Iteration 0/10000\n",
      "\n",
      "Running time 0.83min\n",
      "Running sgld for 10000 iterations\n",
      "Iteration 0/10000\n",
      "\n",
      "Running time 0.94min\n",
      "Running sgld for 10000 iterations\n",
      "Iteration 0/10000\n",
      "\n",
      "Running time 0.93min\n",
      "Running sgld for 10000 iterations\n",
      "Iteration 0/10000\n",
      "\n",
      "Running time 0.84min\n",
      "Running sgld for 10000 iterations\n",
      "Iteration 0/10000\n",
      "\n",
      "Running time 0.95min\n",
      "Running sgld for 10000 iterations\n",
      "Iteration 0/10000\n",
      "\n",
      "Running time 0.88min\n",
      "Running sgld for 10000 iterations\n",
      "Iteration 0/10000\n",
      "\n",
      "Running time 0.92min\n",
      "Running sgld for 10000 iterations\n",
      "Iteration 0/10000\n",
      "\n",
      "Running time 0.93min\n",
      "\n",
      "Running time for grid search: 1041.8sec\n",
      "dt for the smallest logloss: 10^-3.75\n"
     ]
    }
   ],
   "source": [
    "key = random.PRNGKey(0)\n",
    "\n",
    "key, subkey = random.split(key)\n",
    "params_IC = add_noise_PMF_params(subkey, load_PMF_MAP(), 1.)\n",
    "\n",
    "log_dt_array_PMF = -jnp.arange(2,7, 0.25) # linear grid on a log scale\n",
    "dt_array = 10.**log_dt_array_PMF\n",
    "print(f\"Grid search for {log_dt_array_PMF.shape[0]} grid points\\n\")\n",
    "starttime = time.time()\n",
    "grid_rmse_PMF_svrg = []\n",
    "for dt in tqdm(dt_array):\n",
    "    grid_rmse_PMF_svrg.append(get_rmse_PMF_svrg(key, dt, params_IC))\n",
    "\n",
    "\n",
    "print(f\"Running time for grid search: {time.time() - starttime:.1f}sec\")\n",
    "\n",
    "opt_log_dt_PMF_svrg = log_dt_array_PMF[np.nanargmin(grid_rmse_PMF_svrg)]\n",
    "print(f\"dt for the smallest logloss: 10^{opt_log_dt_PMF_svrg:.2f}\")"
   ]
  },
  {
   "cell_type": "code",
   "execution_count": null,
   "metadata": {},
   "outputs": [],
   "source": []
  },
  {
   "cell_type": "code",
   "execution_count": null,
   "metadata": {},
   "outputs": [],
   "source": [
    "# key = random.PRNGKey(0)\n",
    "# Nsamples = 1000\n",
    "# batch_size = int(R_train.shape[0]*0.1)\n",
    "\n",
    "# log_dt_array_PMF = -jnp.arange(2, 7, 1.)\n",
    "# update_rate_array = jnp.arange(1, 10000, 2000.)\n",
    "# dt_array = 10.**log_dt_array_PMF\n",
    "\n",
    "# dt_update_combinations = [(a,b) for a in dt_array for b in update_rate_array]\n",
    "# print(len(dt_update_combinations))"
   ]
  },
  {
   "cell_type": "code",
   "execution_count": 51,
   "metadata": {},
   "outputs": [
    {
     "name": "stdout",
     "output_type": "stream",
     "text": [
      "Grid search for 25 grid points\n",
      "\n"
     ]
    },
    {
     "data": {
      "application/vnd.jupyter.widget-view+json": {
       "model_id": "00748400e512447a93c2ae606ef04581",
       "version_major": 2,
       "version_minor": 0
      },
      "text/plain": [
       "HBox(children=(FloatProgress(value=0.0, max=25.0), HTML(value='')))"
      ]
     },
     "metadata": {},
     "output_type": "display_data"
    },
    {
     "name": "stdout",
     "output_type": "stream",
     "text": [
      "Running sgld for 10000 iterations\n",
      "Iteration 0/10000\n",
      "Iteration 1000/10000\n",
      "Iteration 2000/10000\n",
      "Iteration 3000/10000\n",
      "Iteration 4000/10000\n",
      "Iteration 5000/10000\n",
      "Iteration 6000/10000\n",
      "Iteration 7000/10000\n",
      "Iteration 8000/10000\n",
      "Iteration 9000/10000\n",
      "\n",
      "Running time 2.65min\n",
      "Running sgld for 10000 iterations\n",
      "Iteration 0/10000\n",
      "Iteration 1000/10000\n",
      "Iteration 2000/10000\n",
      "Iteration 3000/10000\n",
      "Iteration 4000/10000\n",
      "Iteration 5000/10000\n",
      "Iteration 6000/10000\n",
      "Iteration 7000/10000\n",
      "Iteration 8000/10000\n",
      "Iteration 9000/10000\n",
      "\n",
      "Running time 1.00min\n",
      "Running sgld for 10000 iterations\n",
      "Iteration 0/10000\n",
      "Iteration 1000/10000\n",
      "Iteration 2000/10000\n",
      "Iteration 3000/10000\n",
      "Iteration 4000/10000\n",
      "Iteration 5000/10000\n",
      "Iteration 6000/10000\n",
      "Iteration 7000/10000\n",
      "Iteration 8000/10000\n",
      "Iteration 9000/10000\n",
      "\n",
      "Running time 1.07min\n",
      "Running sgld for 10000 iterations\n",
      "Iteration 0/10000\n",
      "Iteration 1000/10000\n",
      "Iteration 2000/10000\n",
      "Iteration 3000/10000\n",
      "Iteration 4000/10000\n",
      "Iteration 5000/10000\n",
      "Iteration 6000/10000\n",
      "Iteration 7000/10000\n",
      "Iteration 8000/10000\n",
      "Iteration 9000/10000\n",
      "\n",
      "Running time 1.08min\n",
      "Running sgld for 10000 iterations\n",
      "Iteration 0/10000\n",
      "Iteration 1000/10000\n",
      "Iteration 2000/10000\n",
      "Iteration 3000/10000\n",
      "Iteration 4000/10000\n",
      "Iteration 5000/10000\n",
      "Iteration 6000/10000\n",
      "Iteration 7000/10000\n",
      "Iteration 8000/10000\n",
      "Iteration 9000/10000\n",
      "\n",
      "Running time 1.17min\n",
      "Running sgld for 10000 iterations\n",
      "Iteration 0/10000\n",
      "Iteration 1000/10000\n",
      "Iteration 2000/10000\n",
      "Iteration 3000/10000\n",
      "Iteration 4000/10000\n",
      "Iteration 5000/10000\n",
      "Iteration 6000/10000\n",
      "Iteration 7000/10000\n",
      "Iteration 8000/10000\n",
      "Iteration 9000/10000\n",
      "\n",
      "Running time 2.70min\n",
      "Running sgld for 10000 iterations\n",
      "Iteration 0/10000\n",
      "Iteration 1000/10000\n",
      "Iteration 2000/10000\n",
      "Iteration 3000/10000\n",
      "Iteration 4000/10000\n",
      "Iteration 5000/10000\n",
      "Iteration 6000/10000\n",
      "Iteration 7000/10000\n",
      "Iteration 8000/10000\n",
      "Iteration 9000/10000\n",
      "\n",
      "Running time 0.96min\n",
      "Running sgld for 10000 iterations\n",
      "Iteration 0/10000\n",
      "Iteration 1000/10000\n",
      "Iteration 2000/10000\n",
      "Iteration 3000/10000\n",
      "Iteration 4000/10000\n",
      "Iteration 5000/10000\n",
      "Iteration 6000/10000\n",
      "Iteration 7000/10000\n",
      "Iteration 8000/10000\n",
      "Iteration 9000/10000\n",
      "\n",
      "Running time 1.04min\n",
      "Running sgld for 10000 iterations\n",
      "Iteration 0/10000\n",
      "Iteration 1000/10000\n",
      "Iteration 2000/10000\n",
      "Iteration 3000/10000\n",
      "Iteration 4000/10000\n",
      "Iteration 5000/10000\n",
      "Iteration 6000/10000\n",
      "Iteration 7000/10000\n",
      "Iteration 8000/10000\n",
      "Iteration 9000/10000\n",
      "\n",
      "Running time 0.88min\n",
      "Running sgld for 10000 iterations\n",
      "Iteration 0/10000\n",
      "Iteration 1000/10000\n",
      "Iteration 2000/10000\n",
      "Iteration 3000/10000\n",
      "Iteration 4000/10000\n",
      "Iteration 5000/10000\n",
      "Iteration 6000/10000\n",
      "Iteration 7000/10000\n",
      "Iteration 8000/10000\n",
      "Iteration 9000/10000\n",
      "\n",
      "Running time 0.82min\n",
      "Running sgld for 10000 iterations\n",
      "Iteration 0/10000\n",
      "Iteration 1000/10000\n",
      "Iteration 2000/10000\n",
      "Iteration 3000/10000\n",
      "Iteration 4000/10000\n",
      "Iteration 5000/10000\n",
      "Iteration 6000/10000\n",
      "Iteration 7000/10000\n",
      "Iteration 8000/10000\n",
      "Iteration 9000/10000\n",
      "\n",
      "Running time 2.69min\n",
      "Running sgld for 10000 iterations\n",
      "Iteration 0/10000\n",
      "Iteration 1000/10000\n",
      "Iteration 2000/10000\n",
      "Iteration 3000/10000\n",
      "Iteration 4000/10000\n",
      "Iteration 5000/10000\n",
      "Iteration 6000/10000\n",
      "Iteration 7000/10000\n",
      "Iteration 8000/10000\n",
      "Iteration 9000/10000\n",
      "\n",
      "Running time 0.96min\n",
      "Running sgld for 10000 iterations\n",
      "Iteration 0/10000\n",
      "Iteration 1000/10000\n",
      "Iteration 2000/10000\n",
      "Iteration 3000/10000\n",
      "Iteration 4000/10000\n",
      "Iteration 5000/10000\n",
      "Iteration 6000/10000\n",
      "Iteration 7000/10000\n",
      "Iteration 8000/10000\n",
      "Iteration 9000/10000\n",
      "\n",
      "Running time 0.86min\n",
      "Running sgld for 10000 iterations\n",
      "Iteration 0/10000\n",
      "Iteration 1000/10000\n",
      "Iteration 2000/10000\n",
      "Iteration 3000/10000\n",
      "Iteration 4000/10000\n",
      "Iteration 5000/10000\n",
      "Iteration 6000/10000\n",
      "Iteration 7000/10000\n",
      "Iteration 8000/10000\n",
      "Iteration 9000/10000\n",
      "\n",
      "Running time 0.86min\n",
      "Running sgld for 10000 iterations\n",
      "Iteration 0/10000\n",
      "Iteration 1000/10000\n",
      "Iteration 2000/10000\n",
      "Iteration 3000/10000\n",
      "Iteration 4000/10000\n",
      "Iteration 5000/10000\n",
      "Iteration 6000/10000\n",
      "Iteration 7000/10000\n",
      "Iteration 8000/10000\n",
      "Iteration 9000/10000\n",
      "\n",
      "Running time 0.88min\n",
      "Running sgld for 10000 iterations\n",
      "Iteration 0/10000\n",
      "Iteration 1000/10000\n",
      "Iteration 2000/10000\n",
      "Iteration 3000/10000\n",
      "Iteration 4000/10000\n",
      "Iteration 5000/10000\n",
      "Iteration 6000/10000\n",
      "Iteration 7000/10000\n",
      "Iteration 8000/10000\n",
      "Iteration 9000/10000\n",
      "\n",
      "Running time 2.49min\n",
      "Running sgld for 10000 iterations\n",
      "Iteration 0/10000\n",
      "Iteration 1000/10000\n",
      "Iteration 2000/10000\n",
      "Iteration 3000/10000\n",
      "Iteration 4000/10000\n",
      "Iteration 5000/10000\n",
      "Iteration 6000/10000\n",
      "Iteration 7000/10000\n",
      "Iteration 8000/10000\n",
      "Iteration 9000/10000\n",
      "\n",
      "Running time 0.87min\n",
      "Running sgld for 10000 iterations\n",
      "Iteration 0/10000\n",
      "Iteration 1000/10000\n",
      "Iteration 2000/10000\n",
      "Iteration 3000/10000\n",
      "Iteration 4000/10000\n",
      "Iteration 5000/10000\n",
      "Iteration 6000/10000\n",
      "Iteration 7000/10000\n",
      "Iteration 8000/10000\n",
      "Iteration 9000/10000\n",
      "\n",
      "Running time 0.75min\n",
      "Running sgld for 10000 iterations\n",
      "Iteration 0/10000\n",
      "Iteration 1000/10000\n",
      "Iteration 2000/10000\n",
      "Iteration 3000/10000\n",
      "Iteration 4000/10000\n",
      "Iteration 5000/10000\n",
      "Iteration 6000/10000\n",
      "Iteration 7000/10000\n",
      "Iteration 8000/10000\n",
      "Iteration 9000/10000\n",
      "\n",
      "Running time 0.73min\n",
      "Running sgld for 10000 iterations\n",
      "Iteration 0/10000\n",
      "Iteration 1000/10000\n",
      "Iteration 2000/10000\n",
      "Iteration 3000/10000\n",
      "Iteration 4000/10000\n",
      "Iteration 5000/10000\n",
      "Iteration 6000/10000\n",
      "Iteration 7000/10000\n",
      "Iteration 8000/10000\n",
      "Iteration 9000/10000\n",
      "\n",
      "Running time 0.72min\n",
      "Running sgld for 10000 iterations\n",
      "Iteration 0/10000\n",
      "Iteration 1000/10000\n",
      "Iteration 2000/10000\n",
      "Iteration 3000/10000\n",
      "Iteration 4000/10000\n",
      "Iteration 5000/10000\n",
      "Iteration 6000/10000\n",
      "Iteration 7000/10000\n",
      "Iteration 8000/10000\n",
      "Iteration 9000/10000\n",
      "\n",
      "Running time 2.49min\n",
      "Running sgld for 10000 iterations\n",
      "Iteration 0/10000\n",
      "Iteration 1000/10000\n",
      "Iteration 2000/10000\n",
      "Iteration 3000/10000\n",
      "Iteration 4000/10000\n",
      "Iteration 5000/10000\n",
      "Iteration 6000/10000\n",
      "Iteration 7000/10000\n",
      "Iteration 8000/10000\n",
      "Iteration 9000/10000\n",
      "\n",
      "Running time 0.60min\n",
      "Running sgld for 10000 iterations\n",
      "Iteration 0/10000\n",
      "Iteration 1000/10000\n",
      "Iteration 2000/10000\n",
      "Iteration 3000/10000\n",
      "Iteration 4000/10000\n",
      "Iteration 5000/10000\n",
      "Iteration 6000/10000\n",
      "Iteration 7000/10000\n",
      "Iteration 8000/10000\n",
      "Iteration 9000/10000\n",
      "\n",
      "Running time 0.62min\n",
      "Running sgld for 10000 iterations\n",
      "Iteration 0/10000\n",
      "Iteration 1000/10000\n",
      "Iteration 2000/10000\n",
      "Iteration 3000/10000\n",
      "Iteration 4000/10000\n",
      "Iteration 5000/10000\n",
      "Iteration 6000/10000\n",
      "Iteration 7000/10000\n",
      "Iteration 8000/10000\n",
      "Iteration 9000/10000\n",
      "\n",
      "Running time 0.61min\n",
      "Running sgld for 10000 iterations\n",
      "Iteration 0/10000\n",
      "Iteration 1000/10000\n",
      "Iteration 2000/10000\n",
      "Iteration 3000/10000\n",
      "Iteration 4000/10000\n",
      "Iteration 5000/10000\n",
      "Iteration 6000/10000\n",
      "Iteration 7000/10000\n",
      "Iteration 8000/10000\n",
      "Iteration 9000/10000\n",
      "\n",
      "Running time 0.61min\n",
      "\n",
      "Running time for grid search: 1808.0sec\n",
      "dt for the smallest logloss: 10^-6.00\n"
     ]
    }
   ],
   "source": [
    "# key = random.PRNGKey(0)\n",
    "\n",
    "# key, subkey = random.split(key)\n",
    "# params_IC = add_noise_PMF_params(subkey, load_PMF_MAP(), 1.)\n",
    "\n",
    "\n",
    "# print(f\"Grid search for {len(dt_update_combinations)} grid points\\n\")\n",
    "\n",
    "# starttime = time.time()\n",
    "\n",
    "# grid_logloss_PMF_svrg = []\n",
    "\n",
    "# for dt, update_rate in tqdm(dt_update_combinations):\n",
    "#     grid_logloss_PMF_svrg.append(get_rmse_PMF_svrg(key, dt, update_rate, params_IC))\n",
    "\n",
    "\n",
    "\n",
    "# print(f\"Running time for grid search: {time.time() - starttime:.1f}sec\")\n",
    "\n",
    "# opt_log_dt_PMF_svrg = dt_update_combinations[np.nanargmin(grid_logloss_PMF_svrg)]\n",
    "# print(f\"dt, update_rate for the smallest logloss: {opt_log_dt_PMF_svrg[0]:.6f}, {int(opt_log_dt_PMF_svrg[1])}\")"
   ]
  },
  {
   "cell_type": "code",
   "execution_count": 61,
   "metadata": {},
   "outputs": [
    {
     "name": "stdout",
     "output_type": "stream",
     "text": [
      "dt, update_rate for the smallest logloss: 0.000100, 2001\n"
     ]
    }
   ],
   "source": [
    "opt_log_dt_PMF_svrg = dt_update_combinations[np.nanargmin(grid_logloss_PMF_svrg)]\n",
    "print(f\"dt, update_rate for the smallest logloss: {opt_log_dt_PMF_svrg[0]:.6f}, {int(opt_log_dt_PMF_svrg[1])}\")"
   ]
  },
  {
   "cell_type": "code",
   "execution_count": 60,
   "metadata": {},
   "outputs": [
    {
     "data": {
      "text/plain": [
       "(1e-04, 2001.0)"
      ]
     },
     "execution_count": 60,
     "metadata": {},
     "output_type": "execute_result"
    }
   ],
   "source": [
    "opt_log_dt_PMF_svrg"
   ]
  },
  {
   "cell_type": "code",
   "execution_count": null,
   "metadata": {},
   "outputs": [],
   "source": []
  },
  {
   "cell_type": "markdown",
   "metadata": {},
   "source": [
    "# sghmc: gridsearch\n",
    "\n",
    "Optimal: `1e-05, 26`"
   ]
  },
  {
   "cell_type": "code",
   "execution_count": 52,
   "metadata": {},
   "outputs": [],
   "source": [
    "\n",
    "def get_rmse_PMF_sghmc(key, dt, L, params_IC):\n",
    "    Nsamples = 2000\n",
    "    batch_size = int(R_train.shape[0]*0.1)\n",
    "    samples, _ = run_sghmc_PMF(key, Nsamples, dt, batch_size, \n",
    "                               L, R_train, params_IC, save_rate=10, print_rate=3000)\n",
    "    return get_rmse_PMF_from_samples(samples)\n"
   ]
  },
  {
   "cell_type": "code",
   "execution_count": 53,
   "metadata": {},
   "outputs": [
    {
     "name": "stdout",
     "output_type": "stream",
     "text": [
      "25\n"
     ]
    }
   ],
   "source": [
    "key = random.PRNGKey(0)\n",
    "Nsamples = 1000\n",
    "batch_size = int(R_train.shape[0]*0.1)\n",
    "\n",
    "log_dt_array_PMF = -jnp.arange(2, 7, 1.)\n",
    "L_array = jnp.arange(2, 30, 6)\n",
    "dt_array = 10.**log_dt_array_PMF\n",
    "\n",
    "dt_L_combinations = [(a,b) for a in dt_array for b in L_array]\n",
    "print(len(dt_L_combinations))"
   ]
  },
  {
   "cell_type": "code",
   "execution_count": null,
   "metadata": {},
   "outputs": [],
   "source": []
  },
  {
   "cell_type": "code",
   "execution_count": 54,
   "metadata": {},
   "outputs": [
    {
     "name": "stdout",
     "output_type": "stream",
     "text": [
      "Grid search for 25 grid points\n",
      "\n"
     ]
    },
    {
     "data": {
      "application/vnd.jupyter.widget-view+json": {
       "model_id": "73c60c93dbf946ff95d0e054e7835f79",
       "version_major": 2,
       "version_minor": 0
      },
      "text/plain": [
       "HBox(children=(FloatProgress(value=0.0, max=25.0), HTML(value='')))"
      ]
     },
     "metadata": {},
     "output_type": "display_data"
    },
    {
     "name": "stdout",
     "output_type": "stream",
     "text": [
      "\n",
      "Running time for grid search: 1621.2sec\n"
     ]
    },
    {
     "ename": "NameError",
     "evalue": "name 'opt_log_dt_PMF_svrg' is not defined",
     "output_type": "error",
     "traceback": [
      "\u001b[0;31m---------------------------------------------------------------------------\u001b[0m",
      "\u001b[0;31mNameError\u001b[0m                                 Traceback (most recent call last)",
      "\u001b[0;32m<ipython-input-54-92ec914ca278>\u001b[0m in \u001b[0;36m<module>\u001b[0;34m\u001b[0m\n\u001b[1;32m     19\u001b[0m \u001b[0;34m\u001b[0m\u001b[0m\n\u001b[1;32m     20\u001b[0m \u001b[0mopt_log_dt_PMF_sghmc\u001b[0m \u001b[0;34m=\u001b[0m \u001b[0mdt_L_combinations\u001b[0m\u001b[0;34m[\u001b[0m\u001b[0mnp\u001b[0m\u001b[0;34m.\u001b[0m\u001b[0mnanargmin\u001b[0m\u001b[0;34m(\u001b[0m\u001b[0mgrid_rmse_PMF_sghmc\u001b[0m\u001b[0;34m)\u001b[0m\u001b[0;34m]\u001b[0m\u001b[0;34m\u001b[0m\u001b[0;34m\u001b[0m\u001b[0m\n\u001b[0;32m---> 21\u001b[0;31m \u001b[0mprint\u001b[0m\u001b[0;34m(\u001b[0m\u001b[0;34mf\"dt, L for the smallest RMSE: {opt_log_dt_PMF_svrg[0]:.6f}, {int(opt_log_dt_PMF_sghmc[1])}\"\u001b[0m\u001b[0;34m)\u001b[0m\u001b[0;34m\u001b[0m\u001b[0;34m\u001b[0m\u001b[0m\n\u001b[0m",
      "\u001b[0;31mNameError\u001b[0m: name 'opt_log_dt_PMF_svrg' is not defined"
     ]
    }
   ],
   "source": [
    "key = random.PRNGKey(0)\n",
    "\n",
    "key, subkey = random.split(key)\n",
    "params_IC = add_noise_PMF_params(subkey, load_PMF_MAP(), 1.)\n",
    "\n",
    "\n",
    "print(f\"Grid search for {len(dt_L_combinations)} grid points\\n\")\n",
    "\n",
    "starttime = time.time()\n",
    "\n",
    "grid_rmse_PMF_sghmc = []\n",
    "\n",
    "for dt, L in tqdm(dt_L_combinations):\n",
    "    grid_rmse_PMF_sghmc.append(get_rmse_PMF_sghmc(key, dt, L, params_IC))\n",
    "\n",
    "\n",
    "\n",
    "print(f\"Running time for grid search: {time.time() - starttime:.1f}sec\")\n",
    "\n",
    "opt_log_dt_PMF_sghmc = dt_L_combinations[np.nanargmin(grid_rmse_PMF_sghmc)]\n",
    "print(f\"dt, L for the smallest RMSE: {opt_log_dt_PMF_sghmc[0]:.6f}, {int(opt_log_dt_PMF_sghmc[1])}\")\n"
   ]
  },
  {
   "cell_type": "code",
   "execution_count": 71,
   "metadata": {},
   "outputs": [
    {
     "data": {
      "text/plain": [
       "{(0.01, 2): DeviceArray(nan, dtype=float32),\n",
       " (0.01, 8): Buffer(nan, dtype=float32),\n",
       " (0.01, 14): Buffer(nan, dtype=float32),\n",
       " (0.01, 20): Buffer(nan, dtype=float32),\n",
       " (0.01, 26): Buffer(nan, dtype=float32),\n",
       " (0.001, 2): Buffer(nan, dtype=float32),\n",
       " (0.001, 8): Buffer(nan, dtype=float32),\n",
       " (0.001, 14): Buffer(nan, dtype=float32),\n",
       " (0.001, 20): Buffer(nan, dtype=float32),\n",
       " (0.001, 26): Buffer(nan, dtype=float32),\n",
       " (1e-04, 2): Buffer(1.5545887, dtype=float32),\n",
       " (1e-04, 8): Buffer(nan, dtype=float32),\n",
       " (1e-04, 14): Buffer(nan, dtype=float32),\n",
       " (1e-04, 20): Buffer(nan, dtype=float32),\n",
       " (1e-04, 26): Buffer(nan, dtype=float32),\n",
       " (1e-05, 2): Buffer(2.1271827, dtype=float32),\n",
       " (1e-05, 8): Buffer(1.3705026, dtype=float32),\n",
       " (1e-05, 14): Buffer(1.3397149, dtype=float32),\n",
       " (1e-05, 20): Buffer(1.4068565, dtype=float32),\n",
       " (1e-05, 26): Buffer(1.3334252, dtype=float32),\n",
       " (1e-06, 2): Buffer(3.5358489, dtype=float32),\n",
       " (1e-06, 8): Buffer(1.7334017, dtype=float32),\n",
       " (1e-06, 14): Buffer(1.5025412, dtype=float32),\n",
       " (1e-06, 20): Buffer(1.4067361, dtype=float32),\n",
       " (1e-06, 26): Buffer(1.3480598, dtype=float32)}"
      ]
     },
     "execution_count": 71,
     "metadata": {},
     "output_type": "execute_result"
    }
   ],
   "source": [
    "gridsearch_dict = {k:v for k,v in zip(dt_L_combinations, grid_rmse_PMF_sghmc)}\n",
    "gridsearch_dict"
   ]
  },
  {
   "cell_type": "code",
   "execution_count": 63,
   "metadata": {},
   "outputs": [
    {
     "name": "stdout",
     "output_type": "stream",
     "text": [
      "dt, L for the smallest RMSE: (1e-05, 26)\n"
     ]
    }
   ],
   "source": [
    "print(f\"dt, L for the smallest RMSE: {opt_log_dt_PMF_sghmc}\")"
   ]
  },
  {
   "cell_type": "code",
   "execution_count": null,
   "metadata": {},
   "outputs": [],
   "source": []
  },
  {
   "cell_type": "code",
   "execution_count": null,
   "metadata": {},
   "outputs": [],
   "source": []
  },
  {
   "cell_type": "code",
   "execution_count": null,
   "metadata": {},
   "outputs": [],
   "source": []
  },
  {
   "cell_type": "code",
   "execution_count": null,
   "metadata": {},
   "outputs": [],
   "source": []
  }
 ],
 "metadata": {
  "kernelspec": {
   "display_name": "Python 3",
   "language": "python",
   "name": "python3"
  },
  "language_info": {
   "codemirror_mode": {
    "name": "ipython",
    "version": 3
   },
   "file_extension": ".py",
   "mimetype": "text/x-python",
   "name": "python",
   "nbconvert_exporter": "python",
   "pygments_lexer": "ipython3",
   "version": "3.8.5"
  }
 },
 "nbformat": 4,
 "nbformat_minor": 4
}
