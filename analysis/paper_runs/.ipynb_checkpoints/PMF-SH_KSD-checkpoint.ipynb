{
 "cells": [
  {
   "cell_type": "code",
   "execution_count": 1,
   "metadata": {},
   "outputs": [
    {
     "name": "stderr",
     "output_type": "stream",
     "text": [
      "/Users/jeremiecoullon/Documents/research/papers/SGMCMC_bandit_tuning/venv/lib/python3.8/site-packages/jax/lax/lax.py:6190: UserWarning: Explicitly requested dtype float64 requested in sum is not available, and will be truncated to dtype float32. To enable more dtypes, set the jax_enable_x64 configuration option or the JAX_ENABLE_X64 shell environment variable. See https://github.com/google/jax#current-gotchas for more.\n",
      "  warnings.warn(msg.format(dtype, fun_name , truncated_dtype))\n",
      "/Users/jeremiecoullon/Documents/research/papers/SGMCMC_bandit_tuning/venv/lib/python3.8/site-packages/jax/lib/xla_bridge.py:130: UserWarning: No GPU/TPU found, falling back to CPU.\n",
      "  warnings.warn('No GPU/TPU found, falling back to CPU.')\n"
     ]
    }
   ],
   "source": [
    "%matplotlib inline\n",
    "import matplotlib.pyplot as plt\n",
    "import seaborn as sns\n",
    "import numpy as np\n",
    "import time\n",
    "\n",
    "from collections import OrderedDict\n",
    "\n",
    "import jax.numpy as jnp\n",
    "from jax import value_and_grad, grad, jit, vmap, partial\n",
    "from jax import random, ops, lax\n",
    "\n",
    "import context \n",
    "\n",
    "from examples.PMF.pmf_model import grad_log_post\n",
    "from examples.PMF.util import R_train, R_test, flatten_PMF_params, load_PMF_MAP\n",
    "from examples.PMF.sgld_PMF_functions import sgld_PMF_time_budget_CV, sgld_PMF_time_budget, sgld_PMF_time_budget_svrg\n",
    "from examples.PMF.sghmc import run_sghmc_PMF_time_budget\n",
    "\n",
    "from successive_halving.sh import Base_SGLD_SuccHalv_Time, run_SH_time_budget_keep_3\n",
    "from successive_halving.sh import create_T_list_sghmc, create_T_list_2params, create_T_list_svrg\n",
    "\n",
    "from ksd import imq_KSD\n",
    "from util import wait_until_computed"
   ]
  },
  {
   "cell_type": "code",
   "execution_count": 2,
   "metadata": {},
   "outputs": [
    {
     "data": {
      "text/plain": [
       "(1, 52580)"
      ]
     },
     "execution_count": 2,
     "metadata": {},
     "output_type": "execute_result"
    }
   ],
   "source": [
    "flatten_PMF_params([load_PMF_MAP()]).shape"
   ]
  },
  {
   "cell_type": "code",
   "execution_count": null,
   "metadata": {},
   "outputs": [],
   "source": []
  },
  {
   "cell_type": "markdown",
   "metadata": {},
   "source": [
    "# SH for PMF\n",
    "\n",
    "_April 2021_\n",
    "\n",
    "\n",
    "sgld with `b_s_r=0.1`: 5K samples in 10 seconds"
   ]
  },
  {
   "cell_type": "code",
   "execution_count": 3,
   "metadata": {},
   "outputs": [
    {
     "name": "stderr",
     "output_type": "stream",
     "text": [
      "/Users/jeremiecoullon/Documents/research/papers/SGMCMC_bandit_tuning/venv/lib/python3.8/site-packages/jax/lax/lax.py:6190: UserWarning: Explicitly requested dtype <class 'int'> requested in astype is not available, and will be truncated to dtype int32. To enable more dtypes, set the jax_enable_x64 configuration option or the JAX_ENABLE_X64 shell environment variable. See https://github.com/google/jax#current-gotchas for more.\n",
      "  warnings.warn(msg.format(dtype, fun_name , truncated_dtype))\n"
     ]
    },
    {
     "name": "stdout",
     "output_type": "stream",
     "text": [
      "(13, 52580)\n",
      "Total samples: 390\n"
     ]
    }
   ],
   "source": [
    "key = random.PRNGKey(0)\n",
    "MAP_params = load_PMF_MAP()\n",
    "# dt = 1e-6\n",
    "# batch_size = int(0.1*R_train.shape[0])\n",
    "\n",
    "dt = 10**(-4.65)\n",
    "batch_size = int(0.016*R_train.shape[0])\n",
    "\n",
    "time_budget = 1\n",
    "\n",
    "a, b = sgld_PMF_time_budget(key, time_budget, grad_log_post, dt, batch_size, MAP_params, R_train, save_rate=30)\n",
    "\n",
    "flat_samples = flatten_PMF_params(a)\n",
    "flat_grads = flatten_PMF_params(b)\n",
    "\n",
    "# imq_KSD(flat_samples, flat_grads)\n",
    "print(flat_samples.shape)\n",
    "\n",
    "print(f\"Total samples: {flat_samples.shape[0]*30}\")"
   ]
  },
  {
   "cell_type": "code",
   "execution_count": 5,
   "metadata": {},
   "outputs": [
    {
     "data": {
      "text/plain": [
       "(13, 52580)"
      ]
     },
     "execution_count": 5,
     "metadata": {},
     "output_type": "execute_result"
    }
   ],
   "source": [
    "flat_samples.shape"
   ]
  },
  {
   "cell_type": "code",
   "execution_count": 6,
   "metadata": {},
   "outputs": [],
   "source": [
    "# plt.plot(flat_samples[:,0])"
   ]
  },
  {
   "cell_type": "code",
   "execution_count": null,
   "metadata": {},
   "outputs": [],
   "source": []
  },
  {
   "cell_type": "code",
   "execution_count": 7,
   "metadata": {},
   "outputs": [],
   "source": [
    "\n",
    "class PMF_succ_halving_sgld(Base_SGLD_SuccHalv_Time):\n",
    "\n",
    "    def __init__(self, key, logdt, batch_size_ratio, thin_step):\n",
    "        self.key = key\n",
    "        self.logdt = logdt\n",
    "        self.save_rate = thin_step\n",
    "        self.batch_size_ratio = batch_size_ratio\n",
    "        self.x_0 = load_PMF_MAP()\n",
    "        self.last_sample = None\n",
    "        super(PMF_succ_halving_sgld, self).__init__(self.key, self.logdt, self.x_0)\n",
    "\n",
    "    def _run_sampler(self, key, time_budget, x_0):\n",
    "        dt = 10**self.logdt\n",
    "        batch_size = int(self.batch_size_ratio*R_train.shape[0])\n",
    "        samples, grads = sgld_PMF_time_budget(key, time_budget, grad_log_post, dt, \n",
    "                                              batch_size, x_0, R_train, save_rate=self.save_rate)\n",
    "        if samples == []:\n",
    "            return None, None\n",
    "        else:\n",
    "            pass\n",
    "        try:\n",
    "            self.last_sample = samples[-1]\n",
    "        except:\n",
    "            pass\n",
    "        flat_samples = flatten_PMF_params(samples)\n",
    "\n",
    "        full_batch_grads = [grad_log_post(sam, R_train) for sam in samples]\n",
    "        flat_grads = flatten_PMF_params(full_batch_grads)\n",
    "        return flat_samples, flat_grads\n",
    "\n",
    "    def get_ksd(self):\n",
    "        try:\n",
    "            if any(np.isnan(self.samples[-1])):\n",
    "                return 1e10\n",
    "            else: pass\n",
    "            self.KSD = imq_KSD(self.samples, self.grads)\n",
    "            return self.KSD\n",
    "        except:\n",
    "            return 1e10\n",
    "\n",
    "    def get_last_sample(self):\n",
    "        return self.last_sample"
   ]
  },
  {
   "cell_type": "code",
   "execution_count": 8,
   "metadata": {},
   "outputs": [
    {
     "name": "stdout",
     "output_type": "stream",
     "text": [
      "7\n",
      "Calculating KSD..\n",
      "\n",
      "\n",
      "14\n",
      "Calculating KSD..\n",
      "\n",
      "\n",
      "[DeviceArray(1362.0221, dtype=float32), DeviceArray(1140.2308, dtype=float32)]\n"
     ]
    },
    {
     "data": {
      "image/png": "[encoded data removed]",
      "text/plain": [
       "<Figure size 432x288 with 1 Axes>"
      ]
     },
     "metadata": {
      "needs_background": "light"
     },
     "output_type": "display_data"
    }
   ],
   "source": [
    "\n",
    "key = random.PRNGKey(0)\n",
    "pmf_my_sgld = PMF_succ_halving_sgld(key, -6., 0.1, 30)\n",
    "\n",
    "num_l = 2\n",
    "ksd_list = []\n",
    "\n",
    "for i in range(num_l):\n",
    "    pmf_my_sgld.run(1)\n",
    "    print(pmf_my_sgld.len_samples)\n",
    "    print(\"Calculating KSD..\")\n",
    "    ksd_list.append(pmf_my_sgld.get_ksd())\n",
    "    print(\"\\n\")\n",
    "\n",
    "plt.plot(ksd_list, marker=\"+\")\n",
    "print(ksd_list)"
   ]
  },
  {
   "cell_type": "markdown",
   "metadata": {},
   "source": [
    "# Successive halving\n",
    "\n",
    "## 1. sgld"
   ]
  },
  {
   "cell_type": "code",
   "execution_count": 4,
   "metadata": {
    "scrolled": true
   },
   "outputs": [
    {
     "name": "stdout",
     "output_type": "stream",
     "text": [
      "r=0.200\n",
      "Number of iterations: 4\n",
      "Total budget: around 72 sec\n",
      "=====\n",
      "\n",
      "Iteration 0: 90 configurations with 0.200 seconds each\n",
      "Combinations: [(-5.6809406, 0.035111915), (-4.8188696, 0.24770762), (-3.1054559, 0.046415884), (-2.8742738, 0.869749), (-6.927352, 1.0), (-2.0856218, 0.017475285), (-2.124608, 0.07054803), (-4.2174926, 0.018738173), (-2.953824, 0.010722672), (-6.1667485, 0.75646335), (-5.401692, 0.043287612), (-4.943814, 0.4328761), (-4.1000185, 0.16297507), (-3.4697778, 0.010722672), (-6.300881, 0.46415886), (-6.246524, 0.021544348), (-4.6608067, 0.061359067), (-6.8173018, 0.1), (-2.2085094, 0.001629751), (-5.4803066, 0.004977024), (-3.4399357, 0.0015199113), (-3.0746777, 0.0021544343), (-4.885751, 0.0012328465), (-3.1537957, 0.011497568), (-5.071318, 0.65793324), (-5.0046825, 1.0), (-6.1107597, 0.0075646355), (-6.770213, 0.1), (-4.605062, 0.40370172), (-5.664422, 0.13219412), (-2.3886995, 1.0), (-6.7092285, 0.04977024), (-4.154315, 0.014174741), (-2.297781, 0.0132194115), (-2.1183505, 0.020092327), (-4.959774, 0.04977024), (-3.531455, 0.13219412), (-3.5823257, 0.24770762), (-2.0761914, 0.0053366995), (-4.7569885, 0.001629751), (-3.6042943, 0.3274549), (-3.4768987, 0.0075646355), (-4.700827, 0.028480362), (-5.2038264, 0.035111915), (-6.3498206, 0.0014174745), (-3.269414, 0.008697491), (-4.951375, 0.0070548006), (-5.0149136, 0.0046415897), (-5.764844, 0.40370172), (-3.9615893, 0.65793324), (-2.786068, 0.107226714), (-2.4027443, 0.5722368), (-4.3335543, 0.0057223677), (-3.0566044, 0.0018738173), (-4.7554107, 0.40370172), (-5.6509304, 0.28480357), (-3.813931, 0.0018738173), (-2.3612862, 0.028480362), (-5.384864, 0.18738173), (-2.023695, 0.057223674), (-3.170065, 0.028480362), (-3.617123, 0.026560875), (-6.2441916, 0.046415884), (-6.9912047, 0.869749), (-3.8553967, 0.2656088), (-5.9795012, 0.0013219408), (-3.4130557, 0.28480357), (-2.8872814, 0.003764935), (-3.3357067, 0.35111916), (-6.3182063, 0.0030538556), (-5.404612, 0.024770763), (-3.0052156, 0.0028480361), (-6.4214163, 0.37649357), (-4.913162, 0.001629751), (-4.494991, 0.002310129), (-5.186131, 0.0018738173), (-3.003564, 0.0012328465), (-4.509186, 0.2656088), (-4.117735, 0.107226714), (-6.835623, 0.20092331), (-4.296294, 0.6135907), (-4.0109043, 0.00811131), (-2.327219, 0.24770762), (-2.574772, 0.24770762), (-2.6325078, 0.028480362), (-3.0462337, 0.018738173), (-3.2526913, 0.6135907), (-5.3254724, 0.0021544343), (-5.371129, 0.21544346), (-2.53374, 0.07564633)]\n",
      "Number of samples at iteration 0: 3\n",
      "Calculating KSD for each sampler\n",
      "\n",
      "Iteration 1: 30 configurations with 0.600 seconds each\n",
      "Combinations: [(-5.3254724, 0.0021544343), (-5.186131, 0.0018738173), (-5.4803066, 0.004977024), (-5.0149136, 0.0046415897), (-5.404612, 0.024770763), (-4.700827, 0.028480362), (-4.951375, 0.0070548006), (-5.9795012, 0.0013219408), (-5.401692, 0.043287612), (-5.2038264, 0.035111915), (-4.913162, 0.001629751), (-4.7569885, 0.001629751), (-5.664422, 0.13219412), (-5.6809406, 0.035111915), (-6.1107597, 0.0075646355), (-6.3182063, 0.0030538556), (-4.494991, 0.002310129), (-6.3498206, 0.0014174745), (-4.959774, 0.04977024), (-6.246524, 0.021544348), (-6.2441916, 0.046415884), (-4.885751, 0.0012328465), (-5.384864, 0.18738173), (-5.371129, 0.21544346), (-5.6509304, 0.28480357), (-6.7092285, 0.04977024), (-6.770213, 0.1), (-6.8173018, 0.1), (-4.6608067, 0.061359067), (-6.835623, 0.20092331)]\n",
      "Number of samples at iteration 1: 24\n",
      "Calculating KSD for each sampler\n",
      "\n",
      "Iteration 2: 10 configurations with 1.800 seconds each\n",
      "Combinations: [(-5.0149136, 0.0046415897), (-4.951375, 0.0070548006), (-4.700827, 0.028480362), (-5.186131, 0.0018738173), (-5.3254724, 0.0021544343), (-4.913162, 0.001629751), (-5.4803066, 0.004977024), (-4.494991, 0.002310129), (-4.7569885, 0.001629751), (-5.2038264, 0.035111915)]\n",
      "Number of samples at iteration 2: 76\n",
      "Calculating KSD for each sampler\n",
      "\n",
      "Iteration 3: 3 configurations with 5.400 seconds each\n",
      "Combinations: [(-4.700827, 0.028480362), (-4.951375, 0.0070548006), (-4.494991, 0.002310129)]\n",
      "Number of samples at iteration 3: 175\n",
      "Calculating KSD for each sampler\n",
      "Running time: 375.02sec\n"
     ]
    }
   ],
   "source": [
    "\n",
    "R = 8 # total time budget for longest runs\n",
    "n = 90 # number of step sizes to try at first\n",
    "r = R/40\n",
    "thin_step = 30\n",
    "eta = 3 # cut trials by 3 every time\n",
    "\n",
    "print(f\"r={r:.3f}\")\n",
    "key = random.PRNGKey(2)\n",
    "\n",
    "sampler_dict_sgld = run_SH_time_budget_keep_3(key, r, n ,eta, thin_step, \n",
    "                                  PMF_succ_halving_sgld, create_T_list_2params, R_train.shape[0])"
   ]
  },
  {
   "cell_type": "code",
   "execution_count": null,
   "metadata": {},
   "outputs": [],
   "source": []
  },
  {
   "cell_type": "code",
   "execution_count": 14,
   "metadata": {},
   "outputs": [
    {
     "name": "stdout",
     "output_type": "stream",
     "text": [
      "(-4.4756784, 0.01) 6720 218.73192\n",
      "(-4.556988, 0.021544348) 4980 256.13895\n",
      "(-4.6571603, 0.037649363) 4380 284.93756\n"
     ]
    }
   ],
   "source": [
    "# key = 1\n",
    "# running time:  3min 40 (ie: 208 seconds)\n",
    "for k,v in sampler_dict_sgld.items():\n",
    "    print(k, v.len_samples*thin_step, v.KSD)"
   ]
  },
  {
   "cell_type": "code",
   "execution_count": 18,
   "metadata": {},
   "outputs": [
    {
     "name": "stdout",
     "output_type": "stream",
     "text": [
      "(-4.6733375, 0.023101298) 6390 242.5495\n",
      "(-4.7116795, 0.010722672) 5190 279.15503\n",
      "(-5.0694075, 0.003764935) 5880 339.99545\n"
     ]
    }
   ],
   "source": [
    "# key = 2\n",
    "# running time: 197 sec\n",
    "for k,v in sampler_dict_sgld.items():\n",
    "    print(k, v.len_samples*thin_step, v.KSD)"
   ]
  },
  {
   "cell_type": "code",
   "execution_count": 16,
   "metadata": {},
   "outputs": [
    {
     "name": "stdout",
     "output_type": "stream",
     "text": [
      "(-4.7116795, 0.010722672) 6810 245.65512\n",
      "(-4.6733375, 0.023101298) 5910 251.74567\n",
      "(-5.0694075, 0.003764935) 6600 324.1349\n"
     ]
    }
   ],
   "source": [
    "# key = 3\n",
    "# running time: 197 sec\n",
    "for k,v in sampler_dict_sgld.items():\n",
    "    print(k, v.len_samples*thin_step, v.KSD)"
   ]
  },
  {
   "cell_type": "code",
   "execution_count": null,
   "metadata": {},
   "outputs": [],
   "source": []
  },
  {
   "cell_type": "code",
   "execution_count": null,
   "metadata": {},
   "outputs": [],
   "source": []
  },
  {
   "cell_type": "code",
   "execution_count": null,
   "metadata": {},
   "outputs": [],
   "source": []
  },
  {
   "cell_type": "markdown",
   "metadata": {},
   "source": [
    "## 2. svgr sampler"
   ]
  },
  {
   "cell_type": "code",
   "execution_count": 5,
   "metadata": {},
   "outputs": [
    {
     "name": "stdout",
     "output_type": "stream",
     "text": [
      "630\n"
     ]
    }
   ],
   "source": [
    "# run sampler\n",
    "\n",
    "time_budget = 2\n",
    "dt = 1e-5\n",
    "update_rate = 1000\n",
    "batch_size = int(R_train.shape[0]*0.1)\n",
    "params_IC = load_PMF_MAP()\n",
    "key = random.PRNGKey(0)\n",
    "\n",
    "samples_svrg, _ = sgld_PMF_time_budget_svrg(key, time_budget, grad_log_post, dt, \n",
    "                               batch_size, params_IC, R_train, update_rate, save_rate=30)\n",
    "\n",
    "print(len(samples_svrg)*30)"
   ]
  },
  {
   "cell_type": "code",
   "execution_count": null,
   "metadata": {},
   "outputs": [],
   "source": []
  },
  {
   "cell_type": "code",
   "execution_count": null,
   "metadata": {},
   "outputs": [],
   "source": []
  },
  {
   "cell_type": "code",
   "execution_count": 2,
   "metadata": {},
   "outputs": [],
   "source": [
    "class PMF_succ_halving_svrg(Base_SGLD_SuccHalv_Time):\n",
    "    \n",
    "    def __init__(self, key, logdt, batch_size_ratio, thin_step):\n",
    "        self.key = key\n",
    "        self.logdt = logdt\n",
    "        self.save_rate = thin_step\n",
    "        self.update_rate = 1000 # fix update_rate\n",
    "        self.batch_size_ratio = batch_size_ratio\n",
    "        self.x_0 = load_PMF_MAP()\n",
    "        self.last_sample = None\n",
    "        super(PMF_succ_halving_svrg, self).__init__(self.key, self.logdt, self.x_0)\n",
    "        \n",
    "    def _run_sampler(self, subkey, time_budget, x_0):\n",
    "        dt = 10**self.logdt\n",
    "        batch_size = int(self.batch_size_ratio*R_train.shape[0])\n",
    "        samples, grads = sgld_PMF_time_budget_svrg(key=key, time_budget=time_budget, \n",
    "                                                   grad_log_post=grad_log_post, dt=dt,\n",
    "                                                   batch_size=batch_size, params_IC=x_0, \n",
    "                                                   R_train=R_train, update_rate=self.update_rate, \n",
    "                                                   save_rate=self.save_rate)\n",
    "        if samples == []:\n",
    "            return None, None\n",
    "        else:\n",
    "            pass\n",
    "        try:\n",
    "            self.last_sample = samples[-1]\n",
    "        except:\n",
    "            pass    \n",
    "        flat_samples = flatten_PMF_params(samples)\n",
    "        full_batch_grads = [grad_log_post(sam, R_train) for sam in samples]\n",
    "        flat_grads = flatten_PMF_params(full_batch_grads)\n",
    "#         flat_grads = flatten_PMF_params(grads)\n",
    "        \n",
    "        return flat_samples, flat_grads\n",
    "    \n",
    "    def get_ksd(self):\n",
    "        try:\n",
    "            if any(np.isnan(self.samples[-1])):\n",
    "                return 1e10\n",
    "            else: pass\n",
    "            self.KSD = imq_KSD(self.samples, self.grads)\n",
    "            return self.KSD\n",
    "        except:\n",
    "            return 1e10\n",
    "    \n",
    "    def get_last_sample(self):\n",
    "        return self.last_sample\n",
    "    \n"
   ]
  },
  {
   "cell_type": "markdown",
   "metadata": {},
   "source": [
    "##### test"
   ]
  },
  {
   "cell_type": "code",
   "execution_count": 10,
   "metadata": {},
   "outputs": [
    {
     "name": "stdout",
     "output_type": "stream",
     "text": [
      "1325.234\n",
      "51\n"
     ]
    }
   ],
   "source": [
    "\n",
    "key = random.PRNGKey(0)\n",
    "pmf_my_sgld = PMF_succ_halving_svrg(key, -7., 0.1, 30)\n",
    "\n",
    "pmf_my_sgld.run(5)\n",
    "print(pmf_my_sgld.get_ksd())\n",
    "print(pmf_my_sgld.len_samples)\n"
   ]
  },
  {
   "cell_type": "code",
   "execution_count": 13,
   "metadata": {},
   "outputs": [
    {
     "name": "stdout",
     "output_type": "stream",
     "text": [
      "1730.7998\n",
      "9\n",
      "1572.7037\n",
      "27\n",
      "1436.7401\n",
      "47\n"
     ]
    }
   ],
   "source": [
    "\n",
    "key = random.PRNGKey(0)\n",
    "pmf_my_sgld = PMF_succ_halving_svrg(key, -7., 0.1, 30)\n",
    "\n",
    "pmf_my_sgld.run(1)\n",
    "print(pmf_my_sgld.get_ksd())\n",
    "print(pmf_my_sgld.len_samples)\n",
    "\n",
    "pmf_my_sgld.run(2)\n",
    "print(pmf_my_sgld.get_ksd())\n",
    "print(pmf_my_sgld.len_samples)\n",
    "\n",
    "pmf_my_sgld.run(2)\n",
    "print(pmf_my_sgld.get_ksd())\n",
    "print(pmf_my_sgld.len_samples)"
   ]
  },
  {
   "cell_type": "code",
   "execution_count": null,
   "metadata": {},
   "outputs": [],
   "source": []
  },
  {
   "cell_type": "code",
   "execution_count": null,
   "metadata": {},
   "outputs": [],
   "source": []
  },
  {
   "cell_type": "markdown",
   "metadata": {},
   "source": [
    "#### run SH"
   ]
  },
  {
   "cell_type": "code",
   "execution_count": null,
   "metadata": {},
   "outputs": [],
   "source": []
  },
  {
   "cell_type": "code",
   "execution_count": 3,
   "metadata": {},
   "outputs": [
    {
     "name": "stdout",
     "output_type": "stream",
     "text": [
      "r=0.300\n",
      "Number of iterations: 4\n",
      "Total budget: around 108 sec\n",
      "=====\n",
      "\n",
      "Iteration 0: 90 configurations with 0.300 seconds each\n",
      "Combinations: [(-2.9291453, 0.93260336), (-6.4782596, 0.00811131), (-5.5711884, 0.024770763), (-4.7319803, 0.003764935), (-6.044933, 0.0053366995), (-4.836668, 0.015199109), (-3.7557585, 0.017475285), (-3.0864086, 0.869749), (-2.750773, 0.49770236), (-6.2133875, 0.0061359066), (-6.2843676, 0.020092327), (-5.797586, 0.0053366995), (-2.1424685, 0.4328761), (-3.8307626, 0.017475285), (-2.713562, 0.0013219408), (-3.0279179, 0.010722672), (-4.327333, 0.0010722672), (-5.3738036, 0.037649363), (-5.0438943, 0.16297507), (-5.0316076, 0.0010722672), (-2.7530785, 0.14174742), (-2.9914374, 0.040370174), (-3.1181636, 0.0028480361), (-5.4463973, 0.5722368), (-5.470988, 0.020092327), (-2.6559381, 0.0035111913), (-3.0144324, 0.13219412), (-6.1687517, 0.16297507), (-6.3341594, 0.057223674), (-4.1798353, 0.010722672), (-6.433, 0.869749), (-3.1092925, 0.0012328465), (-5.62562, 0.1149757), (-5.8155127, 0.028480362), (-4.685914, 0.00811131), (-3.0072458, 0.0053366995), (-6.900423, 0.030538555), (-2.0247598, 0.40370172), (-2.7489386, 0.7054802), (-3.312058, 0.08697491), (-6.9565215, 0.0021544343), (-5.977781, 0.0057223677), (-2.5438142, 0.014174741), (-5.9351597, 0.030538555), (-2.9429984, 0.028480362), (-3.311627, 0.20092331), (-6.858089, 0.6135907), (-2.796133, 0.0014174745), (-5.056478, 0.5722368), (-6.390279, 0.0021544343), (-5.728223, 0.21544346), (-4.253462, 0.020092327), (-3.1437535, 0.08697491), (-3.1290498, 0.057223674), (-5.8777184, 0.5336699), (-4.3062177, 0.0075646355), (-4.3022003, 0.06579333), (-3.5621126, 0.1), (-5.187175, 0.010722672), (-3.3565087, 0.37649357), (-3.0452394, 0.001629751), (-4.7952933, 0.0132194115), (-3.0058236, 0.030538555), (-6.120002, 0.0075646355), (-4.1204424, 0.0053366995), (-5.6204176, 0.0026560882), (-3.9624102, 0.0017475284), (-3.759408, 0.03274549), (-3.3405526, 0.003274549), (-6.952619, 0.0018738173), (-6.330778, 0.017475285), (-2.392652, 0.0030538556), (-5.4605937, 0.0011497568), (-3.124525, 0.004977024), (-5.1364145, 0.037649363), (-4.3694468, 0.011497568), (-2.1133213, 0.003764935), (-6.611598, 0.21544346), (-5.5917406, 0.6135907), (-6.523905, 0.16297507), (-2.0799122, 0.0053366995), (-5.480715, 0.0035111913), (-2.0501995, 0.004977024), (-6.4006014, 0.5722368), (-2.0104008, 0.004977024), (-5.086786, 0.1149757), (-6.172817, 0.001), (-6.455312, 0.16297507), (-5.8466883, 0.004328762), (-3.3227587, 0.008697491)]\n",
      "Number of samples: \n",
      "[0, 5, 4, 5, 5, 4, 4, 0, 1, 5, 4, 5, 1, 5, 6, 5, 4, 4, 2, 4, 2, 4, 5, 1, 4, 5, 2, 2, 3, 5, 0, 5, 2, 4, 5, 5, 4, 1, 0, 3, 5, 5, 5, 4, 4, 2, 0, 5, 1, 5, 2, 3, 3, 3, 1, 5, 3, 3, 5, 1, 4, 4, 4, 4, 5, 5, 5, 4, 5, 5, 4, 4, 5, 5, 3, 4, 5, 1, 0, 2, 4, 5, 4, 1, 5, 2, 5, 1, 5, 4]\n",
      "Calculating KSD for each sampler\n",
      "Calculating KSD for each sampler\n",
      "\n",
      "Iteration 1: 30 configurations with 0.900 seconds each\n",
      "Combinations: [(-5.187175, 0.010722672), (-5.4605937, 0.0011497568), (-5.480715, 0.0035111913), (-4.685914, 0.00811131), (-5.6204176, 0.0026560882), (-5.797586, 0.0053366995), (-4.7319803, 0.003764935), (-5.3738036, 0.037649363), (-5.8466883, 0.004328762), (-5.470988, 0.020092327), (-5.5711884, 0.024770763), (-5.977781, 0.0057223677), (-6.044933, 0.0053366995), (-5.8155127, 0.028480362), (-5.0316076, 0.0010722672), (-6.172817, 0.001), (-5.9351597, 0.030538555), (-6.2133875, 0.0061359066), (-6.120002, 0.0075646355), (-6.390279, 0.0021544343), (-5.1364145, 0.037649363), (-6.4782596, 0.00811131), (-6.2843676, 0.020092327), (-6.330778, 0.017475285), (-4.3062177, 0.0075646355), (-6.952619, 0.0018738173), (-6.9565215, 0.0021544343), (-6.3341594, 0.057223674), (-5.62562, 0.1149757), (-6.900423, 0.030538555)]\n",
      "Number of samples: \n",
      "[20, 21, 21, 18, 19, 18, 20, 16, 21, 18, 16, 21, 22, 16, 20, 22, 17, 21, 20, 22, 15, 21, 18, 19, 21, 21, 21, 13, 10, 16]\n",
      "Calculating KSD for each sampler\n",
      "Calculating KSD for each sampler\n",
      "\n",
      "Iteration 2: 10 configurations with 2.700 seconds each\n",
      "Combinations: [(-4.3062177, 0.0075646355), (-4.7319803, 0.003764935), (-4.685914, 0.00811131), (-5.0316076, 0.0010722672), (-5.187175, 0.010722672), (-5.4605937, 0.0011497568), (-5.480715, 0.0035111913), (-5.470988, 0.020092327), (-5.1364145, 0.037649363), (-5.3738036, 0.037649363)]\n",
      "Number of samples: \n",
      "[67, 67, 63, 62, 65, 67, 66, 59, 51, 53]\n",
      "Calculating KSD for each sampler\n",
      "Calculating KSD for each sampler\n",
      "\n",
      "Iteration 3: 3 configurations with 8.100 seconds each\n",
      "Combinations: [(-4.3062177, 0.0075646355), (-4.685914, 0.00811131), (-4.7319803, 0.003764935)]\n",
      "Number of samples: \n",
      "[197, 178, 189]\n",
      "Calculating KSD for each sampler\n",
      "Calculating KSD for each sampler\n",
      "Running time: 663.85sec\n"
     ]
    }
   ],
   "source": [
    "\n",
    "\n",
    "\n",
    "R = 12 # total time budget for longest runs\n",
    "n = 90 # number of step sizes to try at first\n",
    "r = R/40\n",
    "thin_step = 30\n",
    "\n",
    "\n",
    "eta = 3 # cut trials by 3 every time\n",
    "\n",
    "print(f\"r={r:.3f}\")\n",
    "key = random.PRNGKey(0)\n",
    "\n",
    "\n",
    "sampler_dict_svrg = run_SH_time_budget_keep_3(key, r, n ,eta, thin_step, \n",
    "                               PMF_succ_halving_svrg, create_T_list_2params, R_train.shape[0])\n"
   ]
  },
  {
   "cell_type": "code",
   "execution_count": 10,
   "metadata": {},
   "outputs": [
    {
     "data": {
      "text/plain": [
       "27.0"
      ]
     },
     "execution_count": 10,
     "metadata": {},
     "output_type": "execute_result"
    }
   ],
   "source": [
    "1620/60\n",
    "\n"
   ]
  },
  {
   "cell_type": "code",
   "execution_count": 22,
   "metadata": {},
   "outputs": [
    {
     "name": "stdout",
     "output_type": "stream",
     "text": [
      "(-4.7319803, 0.003764935) 4110 362.3592\n",
      "(-4.685914, 0.00811131) 3570 373.66016\n",
      "(-5.0316076, 0.0010722672) 4080 464.83414\n"
     ]
    }
   ],
   "source": [
    "# key = 0\n",
    "# running time: 10 minutes\n",
    "\n",
    "for k,v in sampler_dict_svrg.items():\n",
    "    print(k, v.len_samples*thin_step, v.KSD)"
   ]
  },
  {
   "cell_type": "code",
   "execution_count": 24,
   "metadata": {},
   "outputs": [
    {
     "name": "stdout",
     "output_type": "stream",
     "text": [
      "(-4.4879274, 0.026560875) 3480 324.85187\n",
      "(-4.7200546, 0.03274549) 3390 388.56885\n",
      "(-5.008625, 0.0021544343) 4080 453.53262\n"
     ]
    }
   ],
   "source": [
    "# key = 1\n",
    "# running time:  minutes\n",
    "\n",
    "for k,v in sampler_dict_svrg.items():\n",
    "    print(k, v.len_samples*thin_step, v.KSD)"
   ]
  },
  {
   "cell_type": "code",
   "execution_count": 26,
   "metadata": {},
   "outputs": [
    {
     "name": "stdout",
     "output_type": "stream",
     "text": [
      "(-4.494991, 0.002310129) 5370 267.03976\n",
      "(-4.700827, 0.028480362) 3690 365.56448\n",
      "(-4.885751, 0.0012328465) 4800 382.11862\n"
     ]
    }
   ],
   "source": [
    "# key = 2\n",
    "# running time: 3 minutes\n",
    "\n",
    "for k,v in sampler_dict_svrg.items():\n",
    "    print(k, v.len_samples*thin_step, v.KSD)"
   ]
  },
  {
   "cell_type": "code",
   "execution_count": null,
   "metadata": {},
   "outputs": [],
   "source": []
  },
  {
   "cell_type": "code",
   "execution_count": null,
   "metadata": {},
   "outputs": [],
   "source": []
  },
  {
   "cell_type": "code",
   "execution_count": null,
   "metadata": {},
   "outputs": [],
   "source": []
  },
  {
   "cell_type": "markdown",
   "metadata": {},
   "source": [
    "# ====="
   ]
  },
  {
   "cell_type": "code",
   "execution_count": 27,
   "metadata": {},
   "outputs": [
    {
     "name": "stdout",
     "output_type": "stream",
     "text": [
      "(-5.06294, 0.00853168, 9213) 5400 432.51602\n",
      "(-5.1706333, 0.006723357, 2474) 4900 490.37714\n",
      "(-5.278665, 0.0025929436, 5047) 5050 525.8042\n"
     ]
    }
   ],
   "source": [
    "# key = 0\n",
    "# running time: 20 minutes\n",
    "\n",
    "for k,v in sampler_dict_svrg.items():\n",
    "    print(k, v.len_samples*thin_step, v.KSD)"
   ]
  },
  {
   "cell_type": "code",
   "execution_count": 29,
   "metadata": {},
   "outputs": [
    {
     "name": "stdout",
     "output_type": "stream",
     "text": [
      "(-4.9936266, 0.010826366, 288) 3550 493.4561\n",
      "(-5.1087084, 0.010826366, 9336) 4200 493.57773\n",
      "(-5.238054, 0.001610262, 8689) 4500 532.3123\n"
     ]
    }
   ],
   "source": [
    "# key = 1\n",
    "# running time:  26 minutes\n",
    "\n",
    "for k,v in sampler_dict_svrg.items():\n",
    "    print(k, v.len_samples*thin_step, v.KSD)"
   ]
  },
  {
   "cell_type": "code",
   "execution_count": 32,
   "metadata": {},
   "outputs": [
    {
     "name": "stdout",
     "output_type": "stream",
     "text": [
      "(-4.5566716, 0.00853168, 8770) 5400 299.8976\n",
      "(-4.6890903, 0.005298318, 7146) 5450 327.09756\n",
      "(-4.586671, 0.001610262, 132) 4700 329.3052\n"
     ]
    }
   ],
   "source": [
    "# key = 2\n",
    "# running time:  20 minutes\n",
    "\n",
    "for k,v in sampler_dict_svrg.items():\n",
    "    print(k, v.len_samples*thin_step, v.KSD)"
   ]
  },
  {
   "cell_type": "code",
   "execution_count": null,
   "metadata": {},
   "outputs": [],
   "source": []
  },
  {
   "cell_type": "code",
   "execution_count": null,
   "metadata": {},
   "outputs": [],
   "source": []
  },
  {
   "cell_type": "markdown",
   "metadata": {},
   "source": [
    "# SH: sghmc"
   ]
  },
  {
   "cell_type": "code",
   "execution_count": 18,
   "metadata": {},
   "outputs": [
    {
     "name": "stdout",
     "output_type": "stream",
     "text": [
      "Iteration 1000. Time: 4 / 10 sec\n",
      "Iteration 2000. Time: 8 / 10 sec\n"
     ]
    }
   ],
   "source": [
    "time_budget = 10\n",
    "\n",
    "key = random.PRNGKey(1)\n",
    "# dt = 1e-5\n",
    "# batch_size = int(R_train.shape[0]*0.05)\n",
    "# L = 10\n",
    "\n",
    "dt = 10**(-3.31)\n",
    "batch_size = int(R_train.shape[0]*0.1)\n",
    "L = 2\n",
    "params = load_PMF_MAP()\n",
    "# params = deepcopy(samples_pmf_sghmc[-1])\n",
    "\n",
    "\n",
    "samples_pmf_sghmc, _ = run_sghmc_PMF_time_budget(key, time_budget, dt, batch_size, \n",
    "                                                 L, R_train, params, save_rate=10)\n",
    "\n",
    "# samples_pmf_sghmc = samples_pmf_sghmc + samples_pmf_sghmc2"
   ]
  },
  {
   "cell_type": "code",
   "execution_count": 19,
   "metadata": {},
   "outputs": [],
   "source": [
    "flat_samples = flatten_PMF_params(samples_pmf_sghmc)\n",
    "full_batch_grads = [grad_log_post(sam, R_train) for sam in samples_pmf_sghmc]\n",
    "flat_grads = flatten_PMF_params(full_batch_grads)"
   ]
  },
  {
   "cell_type": "code",
   "execution_count": 20,
   "metadata": {},
   "outputs": [
    {
     "name": "stdout",
     "output_type": "stream",
     "text": [
      "nan\n"
     ]
    }
   ],
   "source": [
    "print(imq_KSD(flat_samples, flat_grads))"
   ]
  },
  {
   "cell_type": "code",
   "execution_count": 27,
   "metadata": {},
   "outputs": [
    {
     "data": {
      "text/plain": [
       "(248, 52580)"
      ]
     },
     "execution_count": 27,
     "metadata": {},
     "output_type": "execute_result"
    }
   ],
   "source": [
    "flat_samples.shape"
   ]
  },
  {
   "cell_type": "code",
   "execution_count": 49,
   "metadata": {},
   "outputs": [
    {
     "name": "stdout",
     "output_type": "stream",
     "text": [
      "1653.1229\n"
     ]
    }
   ],
   "source": [
    "\n",
    "key = random.PRNGKey(1)\n",
    "pmf_my_hmc = PMF_succ_halving_HMC_L(key, -3.31, 0.1, 2, 30)\n",
    "\n",
    "pmf_my_hmc.run(1)\n",
    "print(pmf_my_hmc.get_ksd())"
   ]
  },
  {
   "cell_type": "code",
   "execution_count": 50,
   "metadata": {},
   "outputs": [
    {
     "name": "stdout",
     "output_type": "stream",
     "text": [
      "10000000000.0\n"
     ]
    }
   ],
   "source": [
    "pmf_my_hmc.run(9)\n",
    "print(pmf_my_hmc.get_ksd())"
   ]
  },
  {
   "cell_type": "code",
   "execution_count": null,
   "metadata": {},
   "outputs": [],
   "source": []
  },
  {
   "cell_type": "code",
   "execution_count": null,
   "metadata": {},
   "outputs": [],
   "source": []
  },
  {
   "cell_type": "code",
   "execution_count": 3,
   "metadata": {},
   "outputs": [],
   "source": [
    "class PMF_succ_halving_HMC_L(Base_SGLD_SuccHalv_Time):\n",
    "    \n",
    "    def __init__(self, key, logdt, batch_size_ratio, L, thin_step):\n",
    "        self.key = key\n",
    "        self.logdt = logdt\n",
    "        self.batch_size_ratio = batch_size_ratio\n",
    "        self.x_0 = load_PMF_MAP()\n",
    "        self.L = L\n",
    "        self.thin_step = thin_step\n",
    "        self.last_sample = None\n",
    "        super(PMF_succ_halving_HMC_L, self).__init__(self.key, self.logdt, self.x_0)\n",
    "        \n",
    "    def _run_sampler(self, key, time_budget, x_0):\n",
    "        dt = 10**self.logdt\n",
    "        batch_size = int(self.batch_size_ratio*R_train.shape[0])\n",
    "        samples, _ = run_sghmc_PMF_time_budget(key, time_budget, dt, \n",
    "                                 batch_size, self.L, R_train, x_0, save_rate=self.thin_step, print_rate=10000)\n",
    "        if samples == []:\n",
    "            return None, None\n",
    "        else:\n",
    "            pass\n",
    "        try:\n",
    "            self.last_sample = samples[-1]\n",
    "        except:\n",
    "            pass    \n",
    "        flat_samples = flatten_PMF_params(samples)\n",
    "        full_batch_grads = [grad_log_post(sam, R_train) for sam in samples]\n",
    "        flat_grads = flatten_PMF_params(full_batch_grads)\n",
    "        \n",
    "        return flat_samples, flat_grads\n",
    "    \n",
    "    def get_ksd(self):\n",
    "        try:\n",
    "            if any(np.isnan(self.samples[-1])):\n",
    "                return 1e10\n",
    "            else: pass\n",
    "            self.KSD = imq_KSD(self.samples, self.grads)\n",
    "            return self.KSD\n",
    "        except:\n",
    "            return 1e10\n",
    "    \n",
    "    def get_last_sample(self):\n",
    "        return self.last_sample\n",
    "    \n",
    "\n",
    "    "
   ]
  },
  {
   "cell_type": "markdown",
   "metadata": {},
   "source": [
    "\n",
    "#### test"
   ]
  },
  {
   "cell_type": "code",
   "execution_count": 4,
   "metadata": {},
   "outputs": [
    {
     "name": "stdout",
     "output_type": "stream",
     "text": [
      "2294.1963\n",
      "1403.4414\n",
      "1157.0057\n"
     ]
    }
   ],
   "source": [
    "\n",
    "key = random.PRNGKey(0)\n",
    "pmf_my_hmc = PMF_succ_halving_HMC_L(key, -7., 0.1, 10, 30)\n",
    "\n",
    "pmf_my_hmc.run(1)\n",
    "print(pmf_my_hmc.get_ksd())\n",
    "\n",
    "pmf_my_hmc.run(2)\n",
    "print(pmf_my_hmc.get_ksd())\n",
    "\n",
    "pmf_my_hmc.run(2)\n",
    "print(pmf_my_hmc.get_ksd())"
   ]
  },
  {
   "cell_type": "code",
   "execution_count": null,
   "metadata": {},
   "outputs": [],
   "source": []
  },
  {
   "cell_type": "code",
   "execution_count": 52,
   "metadata": {},
   "outputs": [
    {
     "name": "stdout",
     "output_type": "stream",
     "text": [
      "Number of iterations: 4\n",
      "Total budget: around 360 sec\n",
      "=====\n",
      "\n",
      "Iteration 0: 120 configurations with 0.750 seconds each\n",
      "Combinations: [(-3.5285106, 0.04977024, 19), (-5.779764, 0.7054802, 21), (-2.4292178, 0.3274549, 24), (-3.2023854, 0.01, 16), (-3.6723104, 0.014174741, 27), (-3.101019, 0.08111308, 20), (-4.030316, 0.001, 5), (-6.7508497, 0.0013219408, 10), (-2.348898, 0.026560875, 25), (-5.3350983, 0.24770762, 7), (-2.302621, 0.46415886, 19), (-3.7331867, 0.24770762, 11), (-5.315778, 0.006579331, 8), (-5.546077, 0.030538555, 21), (-5.8189907, 0.009326034, 2), (-4.714668, 0.0057223677, 25), (-3.6084898, 0.028480362, 18), (-3.3947487, 0.0070548006, 3), (-5.495061, 0.0028480361, 6), (-4.0723734, 0.023101298, 28), (-2.0865011, 0.65793324, 16), (-6.4801397, 0.0017475284, 10), (-2.4497032, 0.0012328465, 16), (-2.5350113, 0.49770236, 6), (-2.0575447, 0.030538555, 22), (-2.3553524, 0.046415884, 5), (-5.1926365, 0.023101298, 17), (-6.759248, 0.46415886, 9), (-4.117991, 0.0014174745, 6), (-4.240424, 0.08697491, 19), (-5.4589596, 0.061359067, 24), (-3.185028, 0.12328467, 3), (-5.7663326, 0.009326034, 29), (-2.146594, 0.0014174745, 12), (-5.2730336, 0.017475285, 2), (-5.9888573, 0.0061359066, 6), (-3.5068674, 0.0046415897, 18), (-4.6415634, 0.020092327, 26), (-3.0989208, 0.15199111, 21), (-5.345904, 0.002310129, 8), (-3.8810124, 0.0010722672, 29), (-4.4655013, 0.0015199113, 13), (-5.875744, 0.35111916, 6), (-6.107253, 0.37649357, 23), (-5.789276, 0.0014174745, 2), (-3.607308, 0.35111916, 17), (-4.991104, 0.1, 15), (-4.4026785, 0.009326034, 25), (-6.2950845, 0.23101297, 12), (-6.2050414, 0.040370174, 28), (-3.4882445, 0.0132194115, 18), (-2.2429228, 0.0030538556, 5), (-3.3499582, 0.09326034, 26), (-3.7482698, 0.17475285, 22), (-4.7142696, 0.061359067, 8), (-5.9323835, 0.46415886, 20), (-2.676342, 0.015199109, 4), (-4.4737253, 0.5722368, 26), (-4.1207895, 0.0132194115, 21), (-5.0467267, 0.20092331, 14), (-5.9110856, 0.001, 3), (-2.3317618, 0.002310129, 14), (-5.828001, 0.01, 26), (-6.584197, 0.01629751, 20), (-5.5503454, 0.6135907, 8), (-5.8100553, 0.0040370165, 8), (-6.239358, 0.46415886, 12), (-2.1561017, 0.0026560882, 17), (-2.3917842, 0.023101298, 4), (-3.8468218, 0.28480357, 8), (-5.6326413, 0.0012328465, 15), (-2.4756746, 0.010722672, 24), (-3.0585732, 0.00811131, 14), (-6.8872128, 0.026560875, 10), (-2.9122353, 0.75646335, 20), (-3.613115, 0.09326034, 8), (-3.1535752, 0.002310129, 9), (-5.068569, 0.01629751, 4), (-2.4987946, 0.0011497568, 8), (-6.8546457, 0.14174742, 27), (-4.9103208, 0.4328761, 15), (-6.062413, 0.37649357, 12), (-5.0358257, 0.0053366995, 12), (-4.373229, 0.21544346, 6), (-4.21577, 0.015199109, 21), (-5.1001353, 0.09326034, 23), (-2.9756317, 0.003274549, 17), (-4.5012217, 0.30538556, 14), (-4.7686577, 0.003764935, 25), (-6.578057, 0.7054802, 6), (-6.5108194, 0.28480357, 14), (-6.157239, 0.0046415897, 8), (-4.824302, 0.024770763, 21), (-2.5701966, 0.37649357, 4), (-3.5104425, 0.004977024, 2), (-2.7544732, 0.004977024, 25), (-6.840262, 0.40370172, 29), (-5.0100126, 0.01629751, 15), (-6.2559614, 0.0075646355, 12), (-5.636216, 0.0020092328, 16), (-6.318419, 0.15199111, 14), (-2.6924462, 0.057223674, 25), (-2.9010653, 0.0018738173, 12), (-5.8643913, 0.49770236, 7), (-3.286178, 0.037649363, 25), (-4.3600483, 0.057223674, 18), (-2.8729696, 0.1, 15), (-6.938719, 0.1, 16), (-3.4068615, 0.004977024, 11), (-2.0842166, 0.037649363, 12), (-4.6410885, 0.869749, 21), (-2.1216488, 0.0046415897, 11), (-2.23381, 0.40370172, 25), (-5.7617245, 0.0018738173, 22), (-5.9622393, 0.0021544343, 4), (-3.2521834, 0.010722672, 26), (-2.693368, 0.0046415897, 28), (-2.6862621, 0.93260336, 19), (-2.1248288, 0.0015199113, 22), (-6.4244795, 0.09326034, 20)]\n",
      "Number of samples: \n",
      "[6, 1, 2, 9, 5, 3, 14, 10, 5, 7, 2, 5, 16, 6, 51, 4, 7, 37, 20, 4, 2, 12, 9, 6, 5, 20, 7, 4, 21, 5, 4, 23, 5, 12, 49, 23, 8, 5, 3, 17, 5, 11, 6, 2, 53, 1, 5, 6, 5, 4, 8, 28, 3, 3, 13, 2, 32, 1, 7, 4, 41, 11, 6, 7, 4, 8, 1, 8, 22, 6, 10, 6, 10, 12, 1, 9, 15, 21, 13, 2, 2, 3, 10, 3, 4, 3, 3, 1, 2, 2, 3, 7, 4, 7, 35, 5, 0, 6, 9, 4, 3, 1, 6, 2, 2, 2, 2, 2, 11, 8, 0, 5, 0, 2, 11, 4, 4, 1, 3, 1]\n",
      "Calculating KSD for each sampler\n",
      "Calculating KSD for each sampler\n",
      "\n",
      "Iteration 1: 40 configurations with 2.250 seconds each\n",
      "Combinations: [(-5.2730336, 0.017475285, 2), (-5.9110856, 0.001, 3), (-5.789276, 0.0014174745, 2), (-5.8189907, 0.009326034, 2), (-6.8872128, 0.026560875, 10), (-6.7508497, 0.0013219408, 10), (-5.9622393, 0.0021544343, 4), (-6.759248, 0.46415886, 9), (-6.578057, 0.7054802, 6), (-6.938719, 0.1, 16), (-4.7142696, 0.061359067, 8), (-6.8546457, 0.14174742, 27), (-6.239358, 0.46415886, 12), (-4.373229, 0.21544346, 6), (-6.318419, 0.15199111, 14), (-5.0358257, 0.0053366995, 12), (-4.991104, 0.1, 15), (-5.0100126, 0.01629751, 15), (-6.584197, 0.01629751, 20), (-4.9103208, 0.4328761, 15), (-6.2559614, 0.0075646355, 12), (-4.824302, 0.024770763, 21), (-5.0467267, 0.20092331, 14), (-5.1926365, 0.023101298, 17), (-4.6415634, 0.020092327, 26), (-5.315778, 0.006579331, 8), (-4.3600483, 0.057223674, 18), (-5.7663326, 0.009326034, 29), (-5.1001353, 0.09326034, 23), (-5.345904, 0.002310129, 8), (-5.546077, 0.030538555, 21), (-6.5108194, 0.28480357, 14), (-5.828001, 0.01, 26), (-5.6326413, 0.0012328465, 15), (-6.2950845, 0.23101297, 12), (-5.495061, 0.0028480361, 6), (-5.4589596, 0.061359067, 24), (-5.068569, 0.01629751, 4), (-5.9888573, 0.0061359066, 6), (-6.4801397, 0.0017475284, 10)]\n",
      "Number of samples: \n",
      "[95, 76, 120, 115, 25, 23, 39, 8, 6, 7, 25, 4, 4, 11, 5, 18, 10, 14, 14, 6, 23, 11, 8, 14, 10, 50, 16, 16, 11, 58, 20, 11, 19, 32, 16, 72, 13, 87, 75, 44]\n",
      "Calculating KSD for each sampler\n",
      "Calculating KSD for each sampler\n",
      "\n",
      "Iteration 2: 13 configurations with 6.750 seconds each\n",
      "Combinations: [(-5.2730336, 0.017475285, 2), (-5.9110856, 0.001, 3), (-5.789276, 0.0014174745, 2), (-5.9622393, 0.0021544343, 4), (-5.8189907, 0.009326034, 2), (-6.8872128, 0.026560875, 10), (-6.7508497, 0.0013219408, 10), (-6.759248, 0.46415886, 9), (-6.578057, 0.7054802, 6), (-6.8546457, 0.14174742, 27), (-4.7142696, 0.061359067, 8), (-4.373229, 0.21544346, 6), (-5.0358257, 0.0053366995, 12)]\n",
      "Number of samples: \n",
      "[430, 346, 485, 247, 449, 90, 108, 32, 30, 18, 89, 73, 72]\n",
      "Calculating KSD for each sampler\n",
      "Calculating KSD for each sampler\n",
      "\n",
      "Iteration 3: 4 configurations with 20.250 seconds each\n",
      "Combinations: [(-5.2730336, 0.017475285, 2), (-5.9622393, 0.0021544343, 4), (-5.9110856, 0.001, 3), (-6.7508497, 0.0013219408, 10)]\n",
      "Number of samples: \n",
      "[1366, 540, 724, 248]\n",
      "Calculating KSD for each sampler\n",
      "Calculating KSD for each sampler\n",
      "Running time: 2717.68sec\n"
     ]
    }
   ],
   "source": [
    "R = 30\n",
    "thin_step = 5\n",
    "r = R/40 # number of samples per run\n",
    "n = 120 # number of step sizes to try at first\n",
    "eta = 3 # cut trials by 3 every time\n",
    "\n",
    "key = random.PRNGKey(8)\n",
    "\n",
    "sampler_dict_hmc = run_SH_time_budget_keep_3(key, r, n ,eta, thin_step, \n",
    "                               PMF_succ_halving_HMC_L, create_T_list_sghmc, R_train.shape[0])\n",
    "\n"
   ]
  },
  {
   "cell_type": "code",
   "execution_count": 15,
   "metadata": {},
   "outputs": [
    {
     "name": "stdout",
     "output_type": "stream",
     "text": [
      "(-5.3350105, 0.08111308, 3) 5325 253.92917\n",
      "(-6.3196335, 0.01, 5) 5235 316.06213\n",
      "(-4.62419, 0.026560875, 8) 3070 333.89978\n"
     ]
    }
   ],
   "source": [
    "# key = 9\n",
    "# thin = 5, R=30\n",
    "# running time: 20 minutes\n",
    "\n",
    "for k,v in sampler_dict_hmc.items():\n",
    "    print(k, v.len_samples*thin_step, v.KSD)"
   ]
  },
  {
   "cell_type": "code",
   "execution_count": 53,
   "metadata": {},
   "outputs": [
    {
     "name": "stdout",
     "output_type": "stream",
     "text": [
      "(-5.2730336, 0.017475285, 2) 6830 300.9591\n",
      "(-5.9622393, 0.0021544343, 4) 2700 374.44083\n",
      "(-5.9110856, 0.001, 3) 3620 427.28174\n"
     ]
    }
   ],
   "source": [
    "# key = 8\n",
    "# R = 30\n",
    "# thin_step = 5\n",
    "# running time: 30 minutes\n",
    "\n",
    "for k,v in sampler_dict_hmc.items():\n",
    "    print(k, v.len_samples*thin_step, v.KSD)"
   ]
  },
  {
   "cell_type": "code",
   "execution_count": 11,
   "metadata": {},
   "outputs": [
    {
     "name": "stdout",
     "output_type": "stream",
     "text": [
      "(-5.1853337, 0.07054803, 2) 5925 295.4544\n",
      "(-3.222281, 0.3274549, 2) 3215 310.31375\n",
      "(-6.2675595, 0.0030538556, 6) 3295 315.45972\n"
     ]
    }
   ],
   "source": [
    "# key = 11\n",
    "# R = 30\n",
    "# thin_step = 5\n",
    "# running time: 36 minutes\n",
    "for k,v in sampler_dict_hmc.items():\n",
    "    print(k, v.len_samples*thin_step, v.KSD)"
   ]
  },
  {
   "cell_type": "code",
   "execution_count": null,
   "metadata": {},
   "outputs": [],
   "source": []
  },
  {
   "cell_type": "code",
   "execution_count": null,
   "metadata": {},
   "outputs": [],
   "source": []
  },
  {
   "cell_type": "code",
   "execution_count": null,
   "metadata": {},
   "outputs": [],
   "source": []
  },
  {
   "cell_type": "code",
   "execution_count": null,
   "metadata": {},
   "outputs": [],
   "source": []
  }
 ],
 "metadata": {
  "kernelspec": {
   "display_name": "Python 3",
   "language": "python",
   "name": "python3"
  },
  "language_info": {
   "codemirror_mode": {
    "name": "ipython",
    "version": 3
   },
   "file_extension": ".py",
   "mimetype": "text/x-python",
   "name": "python",
   "nbconvert_exporter": "python",
   "pygments_lexer": "ipython3",
   "version": "3.8.2"
  }
 },
 "nbformat": 4,
 "nbformat_minor": 4
}
