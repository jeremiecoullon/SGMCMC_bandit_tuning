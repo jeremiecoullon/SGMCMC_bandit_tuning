{
 "cells": [
  {
   "cell_type": "code",
   "execution_count": 1,
   "metadata": {},
   "outputs": [
    {
     "name": "stderr",
     "output_type": "stream",
     "text": [
      "/Users/jeremiecoullon/Documents/research/papers/SGMCMC_bandit_tuning/venv/lib/python3.8/site-packages/jax/lax/lax.py:6190: UserWarning: Explicitly requested dtype float64 requested in sum is not available, and will be truncated to dtype float32. To enable more dtypes, set the jax_enable_x64 configuration option or the JAX_ENABLE_X64 shell environment variable. See https://github.com/google/jax#current-gotchas for more.\n",
      "  warnings.warn(msg.format(dtype, fun_name , truncated_dtype))\n",
      "/Users/jeremiecoullon/Documents/research/papers/SGMCMC_bandit_tuning/venv/lib/python3.8/site-packages/jax/lib/xla_bridge.py:130: UserWarning: No GPU/TPU found, falling back to CPU.\n",
      "  warnings.warn('No GPU/TPU found, falling back to CPU.')\n"
     ]
    }
   ],
   "source": [
    "%matplotlib inline\n",
    "\n",
    "import matplotlib.pyplot as plt\n",
    "import seaborn as sns\n",
    "sns.set_style(\"darkgrid\")\n",
    "import numpy as np\n",
    "import time\n",
    "import jax.numpy as jnp\n",
    "from jax import partial, jit, vmap, grad, random, lax\n",
    "from jax.scipy.special import logsumexp\n",
    "\n",
    "import context\n",
    "\n",
    "from examples.PMF.pmf_model import grad_log_post\n",
    "from examples.PMF.util import R_train, R_test, flatten_PMF_params, load_PMF_MAP\n",
    "from examples.PMF.sgld_PMF_functions import sgld_PMF_time_budget_CV, sgld_PMF_time_budget, sgld_PMF_time_budget_svrg\n",
    "from examples.PMF.adam import sgld_adam_PMF_time_budget\n",
    "from examples.PMF.sghmc import run_sghmc_PMF, run_sghmc_PMF_time_budget\n",
    "\n",
    "\n",
    "from ksd import imq_KSD\n",
    "from util import progress_bar_scan, wait_until_computed"
   ]
  },
  {
   "cell_type": "markdown",
   "metadata": {},
   "source": [
    "# plot KSD as a function of time budget\n",
    "\n",
    "See end of notebook to reproduce the figures"
   ]
  },
  {
   "cell_type": "code",
   "execution_count": 2,
   "metadata": {},
   "outputs": [],
   "source": [
    "def get_fb_grads_pmf(samples):\n",
    "    \"\"\"\n",
    "    Return full-batch gradients for PMF samples\n",
    "    samples list of PMF sample. Each PMF sample is a list of 6 arrays\n",
    "    \"\"\"\n",
    "    return [grad_log_post(sam, R_train) for sam in samples]"
   ]
  },
  {
   "cell_type": "code",
   "execution_count": 50,
   "metadata": {},
   "outputs": [],
   "source": [
    "# key = random.PRNGKey(0)\n",
    "# MAP_params = load_PMF_MAP()\n",
    "# # dt = 1e-6\n",
    "# # batch_size = int(0.1*R_train.shape[0])\n",
    "\n",
    "# dt = 10**(-4.65)\n",
    "# batch_size = int(0.016*R_train.shape[0])\n",
    "\n",
    "# time_budget = 1\n",
    "\n",
    "# a, b = sgld_PMF_time_budget(key, time_budget, grad_log_post, dt, batch_size, MAP_params, R_train, save_rate=30)\n",
    "\n",
    "# flat_samples = flatten_PMF_params(a)\n",
    "# flat_grads = flatten_PMF_params(b)\n",
    "\n",
    "# # imq_KSD(flat_samples, flat_grads)\n",
    "# print(flat_samples.shape)\n",
    "\n",
    "# print(f\"Total samples: {flat_samples.shape[0]*30}\")"
   ]
  },
  {
   "cell_type": "code",
   "execution_count": null,
   "metadata": {},
   "outputs": [],
   "source": []
  },
  {
   "cell_type": "code",
   "execution_count": null,
   "metadata": {},
   "outputs": [],
   "source": []
  },
  {
   "cell_type": "code",
   "execution_count": null,
   "metadata": {},
   "outputs": [],
   "source": []
  },
  {
   "cell_type": "markdown",
   "metadata": {},
   "source": [
    "## Define functions\n",
    "\n",
    "1. Get gradients in batches\n",
    "2. get KSD list for different time budgets"
   ]
  },
  {
   "cell_type": "code",
   "execution_count": 3,
   "metadata": {},
   "outputs": [],
   "source": [
    "def get_KSD_list_time_budget_PMF(max_time_budget, time_steps, sampler_fun, thin_step=2, start_time=5):\n",
    "    \"Get the KSD for a sampler run for each time budget up to `max_time_budget`\"\n",
    "    ksd_list = []\n",
    "    for time_budget in np.arange(start_time, max_time_budget, time_steps):\n",
    "        print(f\"Running for time budget={time_budget}sec\")\n",
    "        samples = sampler_fun(time_budget)\n",
    "        print(f\"Num samples: {len(samples)}\")\n",
    "        fb_grads = get_fb_grads_pmf(samples[::thin_step])\n",
    "        \n",
    "        flat_samples = flatten_PMF_params(samples[::thin_step])\n",
    "        flat_grads = flatten_PMF_params(fb_grads)\n",
    "        \n",
    "        ksd_est = imq_KSD(flat_samples, flat_grads)\n",
    "        ksd_list.append(ksd_est)\n",
    "        print(f\"KSD: {ksd_est:.1f}\")\n",
    "        print(\"\\n\")\n",
    "    return ksd_list\n",
    "    \n"
   ]
  },
  {
   "cell_type": "markdown",
   "metadata": {},
   "source": [
    "# sgld:\n",
    "\n",
    "- Set `save_rate=30` (as usual)\n",
    "- Then thin by 2 again in `get_KSD_list_time_budget_PMF`"
   ]
  },
  {
   "cell_type": "markdown",
   "metadata": {},
   "source": [
    "# SGLD\n",
    "\n",
    "- default: `log_dt =`, `b_s_r = 0.1`\n",
    "\n",
    "## Average KSD curves\n",
    "\n"
   ]
  },
  {
   "cell_type": "markdown",
   "metadata": {},
   "source": [
    "### run for the 3 SH results"
   ]
  },
  {
   "cell_type": "markdown",
   "metadata": {},
   "source": [
    "#### R = 10sec with n=90\n",
    "\n",
    "\n",
    "`key=0`:\n",
    "- v1: -4.41, 0.0046\n",
    "- v2: -4.60, 0.027\n",
    "- v3: -4.65, 0.016\n",
    "\n",
    "`key=1`:\n",
    "- v4: -4.48, 0.01\n",
    "- v5: -4.56, 0.022\n",
    "- v6: -4.66, 0.038\n",
    "\n",
    "`key=2`:\n",
    "- v7: -4.71, 0.011\n",
    "- v8: -4.67, 0.023\n",
    "- v9: -5.07, 0.0038\n",
    "\n",
    " "
   ]
  },
  {
   "cell_type": "code",
   "execution_count": 3,
   "metadata": {},
   "outputs": [],
   "source": [
    "def run_many_KSD_curves_sgld(list_params):\n",
    "    list_KSD_curves = []\n",
    "    \n",
    "    starttime = time.time()\n",
    "    for log_dt, b_s_r in list_params:\n",
    "        print(f\"\\nCalculating KSD curve for {log_dt, b_s_r}:\")\n",
    "        def run_sgld_sampler(time_budget):\n",
    "            key = random.PRNGKey(0)\n",
    "            MAP_params = load_PMF_MAP()\n",
    "            dt = 10**(log_dt)\n",
    "            batch_size = int(b_s_r*R_train.shape[0])\n",
    "            samples, _ = sgld_PMF_time_budget(key, time_budget, grad_log_post, \n",
    "                                      dt, batch_size, MAP_params, R_train, save_rate=30)\n",
    "            return samples\n",
    "        \n",
    "        # ===\n",
    "        max_time_budget =  20\n",
    "        time_steps = 2\n",
    "        thin_step = 2\n",
    "        \n",
    "        ksd_list_sgld_SH = get_KSD_list_time_budget_PMF(max_time_budget, time_steps, \n",
    "                                                        run_sgld_sampler, thin_step=thin_step)\n",
    "        list_KSD_curves.append(ksd_list_sgld_SH)\n",
    "    print(f\"Running time: {(time.time()-starttime)/60:.1f} min\")\n",
    "    return list_KSD_curves"
   ]
  },
  {
   "cell_type": "code",
   "execution_count": 6,
   "metadata": {},
   "outputs": [],
   "source": [
    "# n=90\n",
    "list_params_sgld_10 = [(-4.41, 0.0046),(-4.60, 0.027), (-4.65, 0.016),\n",
    "                      ( -4.48, 0.01), (-4.56, 0.022), (-4.66, 0.038),\n",
    "                      (-4.71, 0.011), (-4.67, 0.023), (-5.07, 0.0038)\n",
    "                     ]\n",
    "\n",
    "# list_KSD_curves_sgld_10 = run_many_KSD_curves_sgld(list_params_sgld_10)"
   ]
  },
  {
   "cell_type": "markdown",
   "metadata": {},
   "source": [
    "### load/save KSD curves for SH - 10 sec"
   ]
  },
  {
   "cell_type": "code",
   "execution_count": 4,
   "metadata": {},
   "outputs": [],
   "source": [
    "# n=90\n",
    "# save all KSD curves\n",
    "# for idx, elem in enumerate(list_KSD_curves_sgld_10):\n",
    "#     np.savetxt(f\"outputs/KSD_list/PMF/sgld-SH_10-n_90/ksd_curve_{idx}.csv\", elem)\n",
    "\n",
    "# load all KSD curves\n",
    "list_KSD_curves_sgld_10 = []\n",
    "for idx in range(9):\n",
    "    mylist = np.genfromtxt(f\"outputs/KSD_list/PMF/sgld-SH_10-n_90/ksd_curve_{idx}.csv\")\n",
    "    list_KSD_curves_sgld_10.append(mylist)"
   ]
  },
  {
   "cell_type": "code",
   "execution_count": null,
   "metadata": {},
   "outputs": [],
   "source": []
  },
  {
   "cell_type": "code",
   "execution_count": 8,
   "metadata": {},
   "outputs": [],
   "source": [
    "# def sgld_sampler_default(time_budget):\n",
    "    \n",
    "#     key = random.PRNGKey(0)\n",
    "#     MAP_params = load_PMF_MAP()\n",
    "#     dt = 10**(-3.3)\n",
    "#     batch_size = int(0.1*R_train.shape[0])\n",
    "#     samples, _ = sgld_PMF_time_budget(key, time_budget, grad_log_post, \n",
    "#                               dt, batch_size, MAP_params, R_train, save_rate=30)\n",
    "#     return samples\n",
    "\n",
    "\n",
    "# # ===\n",
    "# max_time_budget = 20\n",
    "# time_steps = 2\n",
    "# thin_step = 2\n",
    "# ksd_list_sgld_default = get_KSD_list_time_budget_PMF(max_time_budget, time_steps, sgld_sampler_default, thin_step=thin_step)\n",
    "\n",
    "\n",
    "# def sgld_sampler_adam(time_budget):\n",
    "#     key = random.PRNGKey(0)\n",
    "#     dt = 1e-3\n",
    "#     batch_size = int(R_train.shape[0]*0.1)\n",
    "#     params_IC = load_PMF_MAP()\n",
    "#     samples, _ = sgld_adam_PMF_time_budget(key, time_budget, dt, \n",
    "#                                                batch_size, R_train, params_IC, save_rate=30)\n",
    "#     return samples\n",
    "\n",
    "\n",
    "# # ===\n",
    "# max_time_budget = 20\n",
    "# time_steps = 2\n",
    "# thin_step = 2\n",
    "\n",
    "# ksd_list_adam = get_KSD_list_time_budget_PMF(max_time_budget, time_steps, sgld_sampler_adam, thin_step=thin_step)\n"
   ]
  },
  {
   "cell_type": "markdown",
   "metadata": {},
   "source": [
    "### load/save KSD curves for adam and default samplers"
   ]
  },
  {
   "cell_type": "code",
   "execution_count": 5,
   "metadata": {},
   "outputs": [],
   "source": [
    "# np.savetxt(f\"outputs/KSD_list/PMF/ksd_curve_adam.csv\", ksd_list_adam)\n",
    "# np.savetxt(f\"outputs/KSD_list/PMF/ksd_curve_sgld_default.csv\", ksd_list_sgld_default)\n",
    "\n",
    "\n",
    "ksd_list_adam = np.genfromtxt(f\"outputs/KSD_list/PMF/ksd_curve_adam.csv\")\n",
    "ksd_list_sgld_default = np.genfromtxt(f\"outputs/KSD_list/PMF/ksd_curve_sgld_default.csv\")"
   ]
  },
  {
   "cell_type": "code",
   "execution_count": null,
   "metadata": {},
   "outputs": [],
   "source": []
  },
  {
   "cell_type": "markdown",
   "metadata": {},
   "source": [
    "### save KSD list arrays"
   ]
  },
  {
   "cell_type": "code",
   "execution_count": 6,
   "metadata": {},
   "outputs": [
    {
     "data": {
      "text/plain": [
       "<matplotlib.legend.Legend at 0x133703970>"
      ]
     },
     "execution_count": 6,
     "metadata": {},
     "output_type": "execute_result"
    },
    {
     "data": {
      "image/png": "[encoded data removed]",
      "text/plain": [
       "<Figure size 576x432 with 1 Axes>"
      ]
     },
     "metadata": {},
     "output_type": "display_data"
    }
   ],
   "source": [
    "plt.rcParams.update({'font.size':17})\n",
    "\n",
    "average_curve_sgld_SH10 = np.mean(list_KSD_curves_sgld_10, axis=0)\n",
    "std_curve_sgld_SH10 = np.std(list_KSD_curves_sgld_10, axis=0)\n",
    "\n",
    "\n",
    "\n",
    "max_time_budget = 20\n",
    "\n",
    "plt.figure(figsize=(8, 6))\n",
    "\n",
    "plt.plot(np.arange(5, max_time_budget, 2), average_curve_sgld_SH10, marker=\"+\", markersize=15, \n",
    "         c='r', label=\"SH 10 sec, average\")\n",
    "plt.fill_between(np.arange(5, max_time_budget, 2), average_curve_sgld_SH10+2*std_curve_sgld_SH10, \n",
    "                 average_curve_sgld_SH10-2*std_curve_sgld_SH10, alpha=0.1, color='r')\n",
    "\n",
    "\n",
    "\n",
    "# for elem in list_KSD_curves_sgld_10[:]:\n",
    "#     plt.plot(np.arange(5, max_time_budget, 2), elem, alpha=0.4, marker=\"v\")\n",
    "    \n",
    "plt.plot(np.arange(5, max_time_budget, 2), ksd_list_sgld_default, marker=\"o\", label=\"default, noise=1: -3.3, 0.1\", markersize=10)\n",
    "plt.plot(np.arange(5, max_time_budget, 2), ksd_list_adam, marker=\"v\", label=\"adam-sgld: -3., 0.1\", markersize=10)\n",
    "\n",
    "\n",
    "plt.title(\"SGLD sampler\", size=23)\n",
    "plt.ylabel(\"KSD\", size=19)\n",
    "plt.xlabel(\"time budget (seconds)\", size=19)\n",
    "plt.legend(fontsize=16)\n",
    "# plt.savefig(\"images/PMF_sgld_ksd_curves.png\") "
   ]
  },
  {
   "cell_type": "markdown",
   "metadata": {},
   "source": [
    "### compare posterior variance to NUTS"
   ]
  },
  {
   "cell_type": "code",
   "execution_count": 12,
   "metadata": {},
   "outputs": [],
   "source": [
    "from config import BASE_DIR\n",
    "\n",
    "def load_PMF_NUTS_stds():\n",
    "    return [np.genfromtxt(f\"{BASE_DIR}/data/PMF_NUTS_stds/PMF_{idx}_std.txt\") for idx in range(6)]\n",
    "\n",
    "\n",
    "numpyro_stds = load_PMF_NUTS_stds()"
   ]
  },
  {
   "cell_type": "markdown",
   "metadata": {},
   "source": [
    "##### 1. sgld-SH"
   ]
  },
  {
   "cell_type": "code",
   "execution_count": 86,
   "metadata": {},
   "outputs": [
    {
     "name": "stdout",
     "output_type": "stream",
     "text": [
      "Number of samples: 168,030\n"
     ]
    }
   ],
   "source": [
    "key = random.PRNGKey(0)\n",
    "MAP_params = load_PMF_MAP()\n",
    "\n",
    "# use parameters from the 1st SH chain (from list_params_sgld_10`)\n",
    "dt = 10**(-4.41)\n",
    "batch_size = int(0.0046*R_train.shape[0])\n",
    "time_budget = 200.\n",
    "\n",
    "samples_SH, _ = sgld_PMF_time_budget(key, time_budget, grad_log_post, dt, batch_size, MAP_params, R_train, save_rate=30)\n",
    "\n",
    "print(f\"Number of samples: {len(samples_SH)*30:,}\")"
   ]
  },
  {
   "cell_type": "code",
   "execution_count": 88,
   "metadata": {},
   "outputs": [
    {
     "name": "stdout",
     "output_type": "stream",
     "text": [
      "0.6297671811671397\n"
     ]
    }
   ],
   "source": [
    "samples_std_SH = []\n",
    "for idx in range(6):\n",
    "    samples_std_SH.append(np.std([elem[idx] for elem in samples_SH], axis=0))\n",
    "    \n",
    "list_rel_error_SH = []\n",
    "for idx in range(6):\n",
    "        list_rel_error_SH.append(np.linalg.norm(samples_std_SH[idx] - numpyro_stds[idx])/np.linalg.norm(numpyro_stds[idx]))\n",
    "\n",
    "mean_variance_error_SH = np.mean(list_rel_error_SH)\n",
    "\n",
    "print(mean_variance_error_SH)"
   ]
  },
  {
   "cell_type": "markdown",
   "metadata": {},
   "source": [
    "##### 2. default"
   ]
  },
  {
   "cell_type": "code",
   "execution_count": 89,
   "metadata": {},
   "outputs": [
    {
     "name": "stdout",
     "output_type": "stream",
     "text": [
      "Number of samples: 102,090\n"
     ]
    }
   ],
   "source": [
    "key = random.PRNGKey(0)\n",
    "MAP_params = load_PMF_MAP()\n",
    "dt = 10**(-3.3)\n",
    "batch_size = int(0.1*R_train.shape[0])\n",
    "time_budget = 200.\n",
    "\n",
    "samples_default, _ = sgld_PMF_time_budget(key, time_budget, grad_log_post, \n",
    "                                dt, batch_size, MAP_params, R_train, save_rate=30)\n",
    "\n",
    "\n",
    "print(f\"Number of samples: {len(samples_default)*30:,}\")"
   ]
  },
  {
   "cell_type": "code",
   "execution_count": 91,
   "metadata": {},
   "outputs": [
    {
     "name": "stdout",
     "output_type": "stream",
     "text": [
      "44.7474009102481\n"
     ]
    }
   ],
   "source": [
    "samples_std_default = []\n",
    "for idx in range(6):\n",
    "    samples_std_default.append(np.std([elem[idx] for elem in samples_default], axis=0))\n",
    "\n",
    "list_rel_error_default = []\n",
    "for idx in range(6):\n",
    "        list_rel_error_default.append(np.linalg.norm(samples_std_default[idx] - numpyro_stds[idx])/np.linalg.norm(numpyro_stds[idx]))\n",
    "\n",
    "        \n",
    "mean_variance_error_default = np.mean(list_rel_error_default)\n",
    "\n",
    "print(mean_variance_error_default)"
   ]
  },
  {
   "cell_type": "markdown",
   "metadata": {},
   "source": [
    "#### 3. sgld-adam"
   ]
  },
  {
   "cell_type": "code",
   "execution_count": 92,
   "metadata": {},
   "outputs": [
    {
     "name": "stdout",
     "output_type": "stream",
     "text": [
      "Compiling\n",
      "Running\n",
      "Iteration 2000. Time: 4 / 200.0 sec\n",
      "Iteration 4000. Time: 8 / 200.0 sec\n",
      "Iteration 6000. Time: 13 / 200.0 sec\n",
      "Iteration 8000. Time: 17 / 200.0 sec\n",
      "Iteration 10000. Time: 21 / 200.0 sec\n",
      "Iteration 12000. Time: 26 / 200.0 sec\n",
      "Iteration 14000. Time: 30 / 200.0 sec\n",
      "Iteration 16000. Time: 34 / 200.0 sec\n",
      "Iteration 18000. Time: 39 / 200.0 sec\n",
      "Iteration 20000. Time: 43 / 200.0 sec\n",
      "Iteration 22000. Time: 47 / 200.0 sec\n",
      "Iteration 24000. Time: 52 / 200.0 sec\n",
      "Iteration 26000. Time: 56 / 200.0 sec\n",
      "Iteration 28000. Time: 61 / 200.0 sec\n",
      "Iteration 30000. Time: 66 / 200.0 sec\n",
      "Iteration 32000. Time: 71 / 200.0 sec\n",
      "Iteration 34000. Time: 75 / 200.0 sec\n",
      "Iteration 36000. Time: 80 / 200.0 sec\n",
      "Iteration 38000. Time: 85 / 200.0 sec\n",
      "Iteration 40000. Time: 90 / 200.0 sec\n",
      "Iteration 42000. Time: 95 / 200.0 sec\n",
      "Iteration 44000. Time: 99 / 200.0 sec\n",
      "Iteration 46000. Time: 104 / 200.0 sec\n",
      "Iteration 48000. Time: 109 / 200.0 sec\n",
      "Iteration 50000. Time: 113 / 200.0 sec\n",
      "Iteration 52000. Time: 118 / 200.0 sec\n",
      "Iteration 54000. Time: 122 / 200.0 sec\n",
      "Iteration 56000. Time: 127 / 200.0 sec\n",
      "Iteration 58000. Time: 131 / 200.0 sec\n",
      "Iteration 60000. Time: 136 / 200.0 sec\n",
      "Iteration 62000. Time: 140 / 200.0 sec\n",
      "Iteration 64000. Time: 144 / 200.0 sec\n",
      "Iteration 66000. Time: 149 / 200.0 sec\n",
      "Iteration 68000. Time: 153 / 200.0 sec\n",
      "Iteration 70000. Time: 158 / 200.0 sec\n",
      "Iteration 72000. Time: 163 / 200.0 sec\n",
      "Iteration 74000. Time: 167 / 200.0 sec\n",
      "Iteration 76000. Time: 172 / 200.0 sec\n",
      "Iteration 78000. Time: 176 / 200.0 sec\n",
      "Iteration 80000. Time: 181 / 200.0 sec\n",
      "Iteration 82000. Time: 185 / 200.0 sec\n",
      "Iteration 84000. Time: 190 / 200.0 sec\n",
      "Iteration 86000. Time: 195 / 200.0 sec\n",
      "Number of samples: 87,870\n"
     ]
    }
   ],
   "source": [
    "time_budget = 200.\n",
    "\n",
    "key = random.PRNGKey(0)\n",
    "dt = 1e-3\n",
    "batch_size = int(R_train.shape[0]*0.1)\n",
    "params_IC = load_PMF_MAP()\n",
    "samples_sgldadam, _ = sgld_adam_PMF_time_budget(key, time_budget, dt, \n",
    "                                batch_size, R_train, params_IC, save_rate=30)\n",
    "\n",
    "print(f\"Number of samples: {len(samples_sgldadam)*30:,}\")"
   ]
  },
  {
   "cell_type": "code",
   "execution_count": 96,
   "metadata": {},
   "outputs": [
    {
     "name": "stdout",
     "output_type": "stream",
     "text": [
      "1.0045862939641494\n"
     ]
    }
   ],
   "source": [
    "samples_std_adam = []\n",
    "for idx in range(6):\n",
    "    samples_std_adam.append(np.std([elem[idx] for elem in samples_sgldadam], axis=0))\n",
    "\n",
    "list_rel_error_adam = []\n",
    "for idx in range(6):\n",
    "        list_rel_error_adam.append(np.linalg.norm(samples_std_adam[idx] - numpyro_stds[idx])/np.linalg.norm(numpyro_stds[idx]))\n",
    "        \n",
    "mean_variance_error_adam = np.mean(list_rel_error_adam)\n",
    "\n",
    "print(mean_variance_error_adam)"
   ]
  },
  {
   "cell_type": "code",
   "execution_count": 97,
   "metadata": {},
   "outputs": [
    {
     "data": {
      "text/plain": [
       "2929"
      ]
     },
     "execution_count": 97,
     "metadata": {},
     "output_type": "execute_result"
    }
   ],
   "source": [
    "len(samples_sgldadam)"
   ]
  },
  {
   "cell_type": "code",
   "execution_count": 102,
   "metadata": {},
   "outputs": [],
   "source": [
    "flat_adam = flatten_PMF_params(samples_sgldadam[:2])\n",
    "flat_SH = flatten_PMF_params(samples_SH[:2])\n",
    "flat_default = flatten_PMF_params(samples_default[:2])\n"
   ]
  },
  {
   "cell_type": "code",
   "execution_count": 104,
   "metadata": {},
   "outputs": [
    {
     "data": {
      "text/plain": [
       "(2929, 52580)"
      ]
     },
     "execution_count": 104,
     "metadata": {},
     "output_type": "execute_result"
    }
   ],
   "source": [
    "flat_adam.shape"
   ]
  },
  {
   "cell_type": "code",
   "execution_count": 111,
   "metadata": {},
   "outputs": [
    {
     "name": "stderr",
     "output_type": "stream",
     "text": [
      "/Users/jeremiecoullon/Documents/research/venv/lib/python3.8/site-packages/jax/_src/numpy/lax_numpy.py:5179: UserWarning: Explicitly requested dtype <class 'numpy.float64'> requested in astype is not available, and will be truncated to dtype float32. To enable more dtypes, set the jax_enable_x64 configuration option or the JAX_ENABLE_X64 shell environment variable. See https://github.com/google/jax#current-gotchas for more.\n",
      "  lax._check_user_dtype_supported(dtype, \"astype\")\n",
      "/Users/jeremiecoullon/Documents/research/venv/lib/python3.8/site-packages/jax/_src/numpy/lax_numpy.py:5179: UserWarning: Explicitly requested dtype <class 'numpy.float64'> requested in astype is not available, and will be truncated to dtype float32. To enable more dtypes, set the jax_enable_x64 configuration option or the JAX_ENABLE_X64 shell environment variable. See https://github.com/google/jax#current-gotchas for more.\n",
      "  lax._check_user_dtype_supported(dtype, \"astype\")\n",
      "/Users/jeremiecoullon/Documents/research/venv/lib/python3.8/site-packages/jax/_src/numpy/lax_numpy.py:5179: UserWarning: Explicitly requested dtype <class 'numpy.float64'> requested in astype is not available, and will be truncated to dtype float32. To enable more dtypes, set the jax_enable_x64 configuration option or the JAX_ENABLE_X64 shell environment variable. See https://github.com/google/jax#current-gotchas for more.\n",
      "  lax._check_user_dtype_supported(dtype, \"astype\")\n"
     ]
    },
    {
     "data": {
      "image/png": "[encoded data removed]",
      "text/plain": [
       "<Figure size 720x432 with 2 Axes>"
      ]
     },
     "metadata": {},
     "output_type": "display_data"
    }
   ],
   "source": [
    "idx = 1000\n",
    "\n",
    "fig, ax = plt.subplots(2, figsize=(10, 6))\n",
    "\n",
    "ax[0].plot(flat_adam[:,idx], label=\"sgld-adam\")\n",
    "ax[0].plot(flat_SH[:,idx], label=\"SH\")\n",
    "ax[0].plot(flat_default[:,idx], label=\"default\")\n",
    "\n",
    "sns.kdeplot(flat_adam[:,idx], ax=ax[1], label=\"sgld-adam\")\n",
    "sns.kdeplot(flat_SH[:,idx], ax=ax[1], label=\"SH\")\n",
    "sns.kdeplot(flat_default[:,idx], ax=ax[1], label=\"default\")\n",
    "\n",
    "plt.legend()\n",
    "plt.show()\n"
   ]
  },
  {
   "cell_type": "code",
   "execution_count": null,
   "metadata": {},
   "outputs": [],
   "source": []
  },
  {
   "cell_type": "code",
   "execution_count": null,
   "metadata": {},
   "outputs": [],
   "source": []
  },
  {
   "cell_type": "markdown",
   "metadata": {},
   "source": [
    "# KSD curves: svrg\n",
    "\n",
    "_Tune step size, batch size, and update rate_\n",
    "\n",
    "#### R = 10sec with n=120\n",
    "\n",
    "\n",
    "`key=0`:\n",
    "- v1: -5.063, 0.0085, 9213\n",
    "- v2: -5.17, 0.0067, 2474\n",
    "- v3: -5.28, 0.0026, 5047\n",
    "\n",
    "`key=1`:\n",
    "- v4: -4.99, 0.0108, 288\n",
    "- v5: -5.11, 0.011, 9336\n",
    "- v6: -5.24, 0.0016, 8689\n",
    "\n",
    "`key=2`:\n",
    "- v7: -4.557, 0.0085, 8770\n",
    "- v8: -4.69, 0.0053, 7146\n",
    "- v9: -4.59, 0.0016, 132\n",
    "\n",
    " \n",
    " \n",
    "#### R = 15sec with n=90. Fixed `update_rate`\n",
    "\n",
    "\n",
    "`key=0`:\n",
    "- v1: -4.73, 0.0038\n",
    "- v2: -4.69, 0.0081\n",
    "- v3: -5.032, 0.0011\n",
    "\n",
    "`key=1`:\n",
    "- v4: -4.49, 0.027\n",
    "- v5: -4.72, 0.033\n",
    "- v6: -5.01, 0.0022\n",
    "\n",
    "`key=2`:\n",
    "- v7: -4.49, 0.0023\n",
    "- v8: -4.701, 0.028\n",
    "- v9: -4.89, 0.0012\n",
    "\n",
    " "
   ]
  },
  {
   "cell_type": "code",
   "execution_count": 4,
   "metadata": {},
   "outputs": [],
   "source": [
    "def run_many_KSD_curves_svrg(list_params):\n",
    "    list_KSD_curves = []\n",
    "    \n",
    "    starttime = time.time()\n",
    "    for log_dt, b_s_r in list_params:\n",
    "        print(f\"\\nCalculating KSD curve for {log_dt, b_s_r}:\")\n",
    "        def run_svrg_sampler(time_budget):\n",
    "            key = random.PRNGKey(0)\n",
    "            MAP_params = load_PMF_MAP()\n",
    "            dt = 10**(log_dt)\n",
    "            update_rate = 1000\n",
    "            batch_size = int(b_s_r*R_train.shape[0])\n",
    "            samples, _ = sgld_PMF_time_budget_svrg(key, time_budget, grad_log_post, dt, \n",
    "                               batch_size, MAP_params, R_train, update_rate, save_rate=30)\n",
    "            return samples\n",
    "        \n",
    "        # ===\n",
    "        max_time_budget =  20\n",
    "        time_steps = 2\n",
    "        thin_step = 2\n",
    "        \n",
    "        ksd_list_sgld_SH = get_KSD_list_time_budget_PMF(max_time_budget, time_steps, \n",
    "                                                        run_svrg_sampler, thin_step=thin_step)\n",
    "        list_KSD_curves.append(ksd_list_sgld_SH)\n",
    "    print(f\"Running time: {(time.time()-starttime)/60:.1f} min\")\n",
    "    return list_KSD_curves"
   ]
  },
  {
   "cell_type": "code",
   "execution_count": 5,
   "metadata": {
    "collapsed": true
   },
   "outputs": [
    {
     "name": "stdout",
     "output_type": "stream",
     "text": [
      "\n",
      "Calculating KSD curve for (-4.73, 0.0038):\n",
      "Running for time budget=5sec\n",
      "Num samples: 85\n",
      "KSD: 455.4\n",
      "\n",
      "\n",
      "Running for time budget=7sec\n",
      "Num samples: 114\n",
      "KSD: 394.3\n",
      "\n",
      "\n",
      "Running for time budget=9sec\n",
      "Num samples: 144\n",
      "KSD: 350.2\n",
      "\n",
      "\n",
      "Running for time budget=11sec\n",
      "Num samples: 170\n",
      "KSD: 322.4\n",
      "\n",
      "\n",
      "Running for time budget=13sec\n",
      "Num samples: 200\n",
      "KSD: 297.1\n",
      "\n",
      "\n",
      "Running for time budget=15sec\n",
      "Num samples: 235\n",
      "KSD: 274.0\n",
      "\n",
      "\n",
      "Running for time budget=17sec\n",
      "Num samples: 238\n",
      "KSD: 272.8\n",
      "\n",
      "\n",
      "Running for time budget=19sec\n",
      "Num samples: 284\n",
      "KSD: 249.7\n",
      "\n",
      "\n",
      "\n",
      "Calculating KSD curve for (-4.69, 0.0081):\n",
      "Running for time budget=5sec\n",
      "Num samples: 81\n",
      "KSD: 455.1\n",
      "\n",
      "\n",
      "Running for time budget=7sec\n",
      "Num samples: 113\n",
      "KSD: 383.9\n",
      "\n",
      "\n",
      "Running for time budget=9sec\n",
      "Num samples: 138\n",
      "KSD: 347.9\n",
      "\n",
      "\n",
      "Running for time budget=11sec\n",
      "Num samples: 163\n",
      "KSD: 319.1\n",
      "\n",
      "\n",
      "Running for time budget=13sec\n",
      "Num samples: 192\n",
      "KSD: 294.6\n",
      "\n",
      "\n",
      "Running for time budget=15sec\n",
      "Num samples: 224\n",
      "KSD: 272.9\n",
      "\n",
      "\n",
      "Running for time budget=17sec\n",
      "Num samples: 252\n",
      "KSD: 257.3\n",
      "\n",
      "\n",
      "Running for time budget=19sec\n",
      "Num samples: 280\n",
      "KSD: 244.0\n",
      "\n",
      "\n",
      "\n",
      "Calculating KSD curve for (-5.032, 0.0011):\n",
      "Running for time budget=5sec\n",
      "Num samples: 87\n",
      "KSD: 498.3\n",
      "\n",
      "\n",
      "Running for time budget=7sec\n",
      "Num samples: 117\n",
      "KSD: 438.8\n",
      "\n",
      "\n",
      "Running for time budget=9sec\n",
      "Num samples: 130\n",
      "KSD: 419.9\n",
      "\n",
      "\n",
      "Running for time budget=11sec\n",
      "Num samples: 167\n",
      "KSD: 375.7\n",
      "\n",
      "\n",
      "Running for time budget=13sec\n",
      "Num samples: 201\n",
      "KSD: 346.3\n",
      "\n",
      "\n",
      "Running for time budget=15sec\n",
      "Num samples: 232\n",
      "KSD: 326.4\n",
      "\n",
      "\n",
      "Running for time budget=17sec\n",
      "Num samples: 263\n",
      "KSD: 307.9\n",
      "\n",
      "\n",
      "Running for time budget=19sec\n",
      "Num samples: 292\n",
      "KSD: 294.5\n",
      "\n",
      "\n",
      "\n",
      "Calculating KSD curve for (-4.49, 0.027):\n",
      "Running for time budget=5sec\n",
      "Num samples: 74\n",
      "KSD: 442.4\n",
      "\n",
      "\n",
      "Running for time budget=7sec\n",
      "Num samples: 97\n",
      "KSD: 381.2\n",
      "\n",
      "\n",
      "Running for time budget=9sec\n",
      "Num samples: 116\n",
      "KSD: 347.9\n",
      "\n",
      "\n",
      "Running for time budget=11sec\n",
      "Num samples: 138\n",
      "KSD: 317.2\n",
      "\n",
      "\n",
      "Running for time budget=13sec\n",
      "Num samples: 166\n",
      "KSD: 288.1\n",
      "\n",
      "\n",
      "Running for time budget=15sec\n",
      "Num samples: 184\n",
      "KSD: 273.0\n",
      "\n",
      "\n",
      "Running for time budget=17sec\n",
      "Num samples: 216\n",
      "KSD: 251.1\n",
      "\n",
      "\n",
      "Running for time budget=19sec\n",
      "Num samples: 249\n",
      "KSD: 232.8\n",
      "\n",
      "\n",
      "\n",
      "Calculating KSD curve for (-4.72, 0.033):\n",
      "Running for time budget=5sec\n",
      "Num samples: 71\n",
      "KSD: 492.7\n",
      "\n",
      "\n",
      "Running for time budget=7sec\n",
      "Num samples: 93\n",
      "KSD: 428.4\n",
      "\n",
      "\n",
      "Running for time budget=9sec\n",
      "Num samples: 115\n",
      "KSD: 384.5\n",
      "\n",
      "\n",
      "Running for time budget=11sec\n",
      "Num samples: 133\n",
      "KSD: 356.9\n",
      "\n",
      "\n",
      "Running for time budget=13sec\n",
      "Num samples: 160\n",
      "KSD: 326.7\n",
      "\n",
      "\n",
      "Running for time budget=15sec\n",
      "Num samples: 183\n",
      "KSD: 304.5\n",
      "\n",
      "\n",
      "Running for time budget=17sec\n",
      "Num samples: 206\n",
      "KSD: 287.9\n",
      "\n",
      "\n",
      "Running for time budget=19sec\n",
      "Num samples: 234\n",
      "KSD: 270.6\n",
      "\n",
      "\n",
      "\n",
      "Calculating KSD curve for (-5.01, 0.0022):\n",
      "Running for time budget=5sec\n",
      "Num samples: 87\n",
      "KSD: 491.6\n",
      "\n",
      "\n",
      "Running for time budget=7sec\n",
      "Num samples: 112\n",
      "KSD: 442.0\n",
      "\n",
      "\n",
      "Running for time budget=9sec\n",
      "Num samples: 137\n",
      "KSD: 402.3\n",
      "\n",
      "\n",
      "Running for time budget=11sec\n",
      "Num samples: 164\n",
      "KSD: 372.8\n",
      "\n",
      "\n",
      "Running for time budget=13sec\n",
      "Num samples: 199\n",
      "KSD: 341.2\n",
      "\n",
      "\n",
      "Running for time budget=15sec\n",
      "Num samples: 226\n",
      "KSD: 323.7\n",
      "\n",
      "\n",
      "Running for time budget=17sec\n",
      "Num samples: 255\n",
      "KSD: 306.2\n",
      "\n",
      "\n",
      "Running for time budget=19sec\n",
      "Num samples: 289\n",
      "KSD: 289.4\n",
      "\n",
      "\n",
      "\n",
      "Calculating KSD curve for (-4.49, 0.0023):\n",
      "Running for time budget=5sec\n",
      "Num samples: 84\n",
      "KSD: 433.5\n",
      "\n",
      "\n",
      "Running for time budget=7sec\n",
      "Num samples: 114\n",
      "KSD: 368.9\n",
      "\n",
      "\n",
      "Running for time budget=9sec\n",
      "Num samples: 132\n",
      "KSD: 341.4\n",
      "\n",
      "\n",
      "Running for time budget=11sec\n",
      "Num samples: 165\n",
      "KSD: 303.1\n",
      "\n",
      "\n",
      "Running for time budget=13sec\n",
      "Num samples: 197\n",
      "KSD: 276.0\n",
      "\n",
      "\n",
      "Running for time budget=15sec\n",
      "Num samples: 218\n",
      "KSD: 262.4\n",
      "\n",
      "\n",
      "Running for time budget=17sec\n",
      "Num samples: 257\n",
      "KSD: 240.4\n",
      "\n",
      "\n",
      "Running for time budget=19sec\n",
      "Num samples: 284\n",
      "KSD: 228.6\n",
      "\n",
      "\n",
      "\n",
      "Calculating KSD curve for (-4.701, 0.028):\n",
      "Running for time budget=5sec\n",
      "Num samples: 70\n",
      "KSD: 495.1\n",
      "\n",
      "\n",
      "Running for time budget=7sec\n",
      "Num samples: 95\n",
      "KSD: 419.7\n",
      "\n",
      "\n",
      "Running for time budget=9sec\n",
      "Num samples: 113\n",
      "KSD: 384.1\n",
      "\n",
      "\n",
      "Running for time budget=11sec\n",
      "Num samples: 134\n",
      "KSD: 353.2\n",
      "\n",
      "\n",
      "Running for time budget=13sec\n",
      "Num samples: 164\n",
      "KSD: 319.3\n",
      "\n",
      "\n",
      "Running for time budget=15sec\n",
      "Num samples: 185\n",
      "KSD: 299.7\n",
      "\n",
      "\n",
      "Running for time budget=17sec\n",
      "Num samples: 199\n",
      "KSD: 288.9\n",
      "\n",
      "\n",
      "Running for time budget=19sec\n",
      "Num samples: 238\n",
      "KSD: 265.3\n",
      "\n",
      "\n",
      "\n",
      "Calculating KSD curve for (-4.89, 0.0012):\n",
      "Running for time budget=5sec\n",
      "Num samples: 83\n",
      "KSD: 503.3\n",
      "\n",
      "\n",
      "Running for time budget=7sec\n",
      "Num samples: 111\n",
      "KSD: 436.6\n",
      "\n",
      "\n",
      "Running for time budget=9sec\n",
      "Num samples: 135\n",
      "KSD: 396.5\n",
      "\n",
      "\n",
      "Running for time budget=11sec\n",
      "Num samples: 167\n",
      "KSD: 358.3\n",
      "\n",
      "\n",
      "Running for time budget=13sec\n",
      "Num samples: 193\n",
      "KSD: 334.1\n",
      "\n",
      "\n",
      "Running for time budget=15sec\n",
      "Num samples: 226\n",
      "KSD: 311.0\n",
      "\n",
      "\n",
      "Running for time budget=17sec\n",
      "Num samples: 256\n",
      "KSD: 292.9\n",
      "\n",
      "\n",
      "Running for time budget=19sec\n",
      "Num samples: 285\n",
      "KSD: 277.7\n",
      "\n",
      "\n",
      "Running time: 19.5 min\n"
     ]
    }
   ],
   "source": [
    "# n=120\n",
    "# list_params_svrg_10 = [(-5.063, 0.0085, 9213), (-5.17, 0.0067, 2474), (-5.28, 0.0026, 5047),\n",
    "#                        (-4.99, 0.0108, 288), (-5.11, 0.011, 9336), (-5.24, 0.0016, 8689),\n",
    "#                        (-4.557, 0.0085, 8770), (-4.69, 0.0053, 7146), (-4.59, 0.0016, 132)\n",
    "#                      ]\n",
    "\n",
    "# fixed update_rate\n",
    "list_params_svrg_15 = [(-4.73, 0.0038), (-4.69, 0.0081), (-5.032, 0.0011),\n",
    "                       (-4.49, 0.027), (-4.72, 0.033), (-5.01, 0.0022),\n",
    "                       (-4.49, 0.0023), (-4.701, 0.028), (-4.89, 0.0012)\n",
    "                     ]\n",
    "\n",
    "# list_params_svrg_10 = [(-5.063, 0.0085, 9213),\n",
    "#                      ]\n",
    "\n",
    "# list_KSD_curves_svrg_10 = run_many_KSD_curves_svrg(list_params_svrg_15)\n",
    "\n"
   ]
  },
  {
   "cell_type": "code",
   "execution_count": 9,
   "metadata": {},
   "outputs": [],
   "source": [
    "# n=120\n",
    "# save all KSD curves\n",
    "# for idx, elem in enumerate(list_KSD_curves_svrg_10):\n",
    "#     np.savetxt(f\"outputs/KSD_list/PMF/svrg-SH_15-n_90/ksd_curve_{idx}.csv\", elem)\n",
    "\n",
    "# load all KSD curves\n",
    "list_KSD_curves_svrg_10 = []\n",
    "for idx in range(9):\n",
    "    mylist = np.genfromtxt(f\"outputs/KSD_list/PMF/svrg-SH_15-n_90/ksd_curve_{idx}.csv\")\n",
    "    list_KSD_curves_svrg_10.append(mylist)\n",
    "    \n",
    "    "
   ]
  },
  {
   "cell_type": "code",
   "execution_count": 10,
   "metadata": {},
   "outputs": [
    {
     "data": {
      "text/plain": [
       "[array([455.43768311, 394.27474976, 350.22244263, 322.4050293 ,\n",
       "        297.05664062, 273.99975586, 272.83139038, 249.66807556]),\n",
       " array([455.06643677, 383.88378906, 347.86303711, 319.0690918 ,\n",
       "        294.59414673, 272.93701172, 257.34469604, 244.00201416]),\n",
       " array([498.26361084, 438.83755493, 419.90316772, 375.67425537,\n",
       "        346.26776123, 326.41818237, 307.89923096, 294.46243286]),\n",
       " array([442.38024902, 381.15130615, 347.86758423, 317.16049194,\n",
       "        288.13928223, 272.95495605, 251.05812073, 232.7552948 ]),\n",
       " array([492.67800903, 428.41751099, 384.53497314, 356.89511108,\n",
       "        326.67340088, 304.52328491, 287.93115234, 270.58209229]),\n",
       " array([491.57086182, 441.95230103, 402.27075195, 372.80401611,\n",
       "        341.24319458, 323.6857605 , 306.1572876 , 289.38101196]),\n",
       " array([433.53158569, 368.86380005, 341.43347168, 303.06768799,\n",
       "        276.04632568, 262.41610718, 240.38043213, 228.5695343 ]),\n",
       " array([495.13174438, 419.68060303, 384.05883789, 353.21798706,\n",
       "        319.34103394, 299.68240356, 288.87567139, 265.29681396]),\n",
       " array([503.25256348, 436.58047485, 396.49957275, 358.29440308,\n",
       "        334.09124756, 310.99377441, 292.90325928, 277.65722656])]"
      ]
     },
     "execution_count": 10,
     "metadata": {},
     "output_type": "execute_result"
    }
   ],
   "source": [
    "list_KSD_curves_svrg_10"
   ]
  },
  {
   "cell_type": "code",
   "execution_count": null,
   "metadata": {},
   "outputs": [],
   "source": []
  },
  {
   "cell_type": "code",
   "execution_count": 11,
   "metadata": {},
   "outputs": [
    {
     "name": "stdout",
     "output_type": "stream",
     "text": [
      "Running for time budget=5sec\n",
      "Num samples: 45\n",
      "KSD: 1424.6\n",
      "\n",
      "\n",
      "Running for time budget=7sec\n",
      "Num samples: 63\n",
      "KSD: 1048.7\n",
      "\n",
      "\n",
      "Running for time budget=9sec\n",
      "Num samples: 76\n",
      "KSD: 894.8\n",
      "\n",
      "\n",
      "Running for time budget=11sec\n",
      "Num samples: 102\n",
      "KSD: 684.5\n",
      "\n",
      "\n",
      "Running for time budget=13sec\n",
      "Num samples: 124\n",
      "KSD: 574.5\n",
      "\n",
      "\n",
      "Running for time budget=15sec\n",
      "Num samples: 126\n",
      "KSD: 566.4\n",
      "\n",
      "\n",
      "Running for time budget=17sec\n",
      "Num samples: 138\n",
      "KSD: 522.9\n",
      "\n",
      "\n",
      "Running for time budget=19sec\n",
      "Num samples: 168\n",
      "KSD: 439.9\n",
      "\n",
      "\n"
     ]
    }
   ],
   "source": [
    "def svrg_sampler_default(time_budget):\n",
    "    \n",
    "    key = random.PRNGKey(0)\n",
    "    MAP_params = load_PMF_MAP()\n",
    "    dt = 10**(-3.75)\n",
    "    batch_size = int(0.1*R_train.shape[0])\n",
    "    update_rate = 1000\n",
    "    samples, _ = sgld_PMF_time_budget_svrg(key, time_budget, grad_log_post, dt, \n",
    "                       batch_size, MAP_params, R_train, update_rate, save_rate=30)\n",
    "    return samples\n",
    "\n",
    "\n",
    "# ===\n",
    "max_time_budget = 20\n",
    "time_steps = 2\n",
    "thin_step = 2\n",
    "ksd_list_svrg_default = get_KSD_list_time_budget_PMF(max_time_budget, time_steps, svrg_sampler_default, thin_step=thin_step)\n",
    "\n"
   ]
  },
  {
   "cell_type": "code",
   "execution_count": 12,
   "metadata": {},
   "outputs": [],
   "source": [
    "# np.savetxt(f\"outputs/KSD_list/PMF/ksd_curve_svrg_default.csv\", ksd_list_svrg_default)\n",
    "\n",
    "ksd_list_svrg_default = np.genfromtxt(f\"outputs/KSD_list/PMF/ksd_curve_svrg_default.csv\")\n"
   ]
  },
  {
   "cell_type": "code",
   "execution_count": 14,
   "metadata": {},
   "outputs": [
    {
     "data": {
      "text/plain": [
       "<matplotlib.legend.Legend at 0x134e5b5b0>"
      ]
     },
     "execution_count": 14,
     "metadata": {},
     "output_type": "execute_result"
    },
    {
     "data": {
      "image/png": "[encoded data removed]",
      "text/plain": [
       "<Figure size 576x432 with 1 Axes>"
      ]
     },
     "metadata": {},
     "output_type": "display_data"
    }
   ],
   "source": [
    "plt.rcParams.update({'font.size':17})\n",
    "\n",
    "average_curve_svrg_SH10 = np.mean(list_KSD_curves_svrg_10, axis=0)\n",
    "std_curve_svrg_SH10 = np.std(list_KSD_curves_svrg_10, axis=0)\n",
    "\n",
    "\n",
    "\n",
    "max_time_budget = 20\n",
    "\n",
    "plt.figure(figsize=(8, 6))\n",
    "\n",
    "plt.plot(np.arange(5, max_time_budget, 2), average_curve_svrg_SH10, marker=\"+\", markersize=15, \n",
    "         c='r', label=\"SH 10 sec, average\")\n",
    "plt.fill_between(np.arange(5, max_time_budget, 2), average_curve_svrg_SH10+2*std_curve_svrg_SH10, \n",
    "                 average_curve_svrg_SH10-2*std_curve_svrg_SH10, alpha=0.1, color='r')\n",
    "\n",
    "\n",
    "\n",
    "# for elem in list_KSD_curves_svrg_10[:]:\n",
    "#     plt.plot(np.arange(5, max_time_budget, 2), elem, alpha=0.4, marker=\"v\")\n",
    "    \n",
    "plt.plot(np.arange(5, max_time_budget, 2), ksd_list_svrg_default, marker=\"o\", label=\"default, noise=1: -3.75, 0.1\", markersize=10)\n",
    "\n",
    "\n",
    "plt.title(\"SVRG sampler\", size=23)\n",
    "plt.ylabel(\"KSD\", size=19)\n",
    "plt.xlabel(\"time budget (seconds)\", size=19)\n",
    "plt.legend(fontsize=16)\n",
    "# plt.savefig(\"images/PMF_sgld_ksd_curves.png\") "
   ]
  },
  {
   "cell_type": "markdown",
   "metadata": {},
   "source": [
    "### variance estimate\n",
    "\n",
    "\n",
    "#### run samplers"
   ]
  },
  {
   "cell_type": "code",
   "execution_count": 70,
   "metadata": {},
   "outputs": [
    {
     "name": "stdout",
     "output_type": "stream",
     "text": [
      "Number of samples: 67,860\n"
     ]
    }
   ],
   "source": [
    "key = random.PRNGKey(0)\n",
    "\n",
    "# use parameters from the 1st SH chain (from list_params_sgld_10`)\n",
    "dt = 10**(-4.73)\n",
    "batch_size = int(0.0038*R_train.shape[0])\n",
    "time_budget = 200.\n",
    "update_rate = 1000\n",
    "\n",
    "samples_svrg_SH, _ = sgld_PMF_time_budget_svrg(key, time_budget, grad_log_post, dt, \n",
    "                               batch_size, load_PMF_MAP(), R_train, update_rate, save_rate=30)\n",
    "\n",
    "\n",
    "print(f\"Number of samples: {len(samples_svrg_SH)*30:,}\")"
   ]
  },
  {
   "cell_type": "code",
   "execution_count": 71,
   "metadata": {},
   "outputs": [
    {
     "name": "stdout",
     "output_type": "stream",
     "text": [
      "Number of samples: 46,230\n"
     ]
    }
   ],
   "source": [
    "key = random.PRNGKey(0)\n",
    "\n",
    "dt = 10**(-3.75)\n",
    "batch_size = int(0.1*R_train.shape[0])\n",
    "# time_budget = 10.\n",
    "update_rate = 2001\n",
    "\n",
    "samples_svrg_default, _ = sgld_PMF_time_budget_svrg(key, time_budget, grad_log_post, dt, \n",
    "                               batch_size, load_PMF_MAP(), R_train, update_rate, save_rate=30)\n",
    "\n",
    "\n",
    "print(f\"Number of samples: {len(samples_svrg_default)*30:,}\")\n"
   ]
  },
  {
   "cell_type": "markdown",
   "metadata": {},
   "source": [
    "#### variance"
   ]
  },
  {
   "cell_type": "code",
   "execution_count": 72,
   "metadata": {},
   "outputs": [],
   "source": [
    "from config import BASE_DIR\n",
    "\n",
    "def load_PMF_NUTS_stds():\n",
    "    return [np.genfromtxt(f\"{BASE_DIR}/data/PMF_NUTS_stds/PMF_{idx}_std.txt\") for idx in range(6)]\n",
    "\n",
    "\n",
    "numpyro_stds = load_PMF_NUTS_stds()"
   ]
  },
  {
   "cell_type": "code",
   "execution_count": 76,
   "metadata": {},
   "outputs": [
    {
     "name": "stdout",
     "output_type": "stream",
     "text": [
      "Variance estimation error for 1 SH chain: 0.87\n"
     ]
    }
   ],
   "source": [
    "samples_std_svrg_SH = []\n",
    "for idx in range(6):\n",
    "    samples_std_svrg_SH.append(np.std([elem[idx] for elem in samples_svrg_SH], axis=0))\n",
    "\n",
    "list_rel_error_svrg_SH = []\n",
    "for idx in range(6):\n",
    "        list_rel_error_svrg_SH.append(np.linalg.norm(samples_std_svrg_SH[idx] - numpyro_stds[idx])/np.linalg.norm(numpyro_stds[idx]))\n",
    "\n",
    "        \n",
    "mean_variance_error_svrg_SH = np.mean(list_rel_error_svrg_SH)\n",
    "\n",
    "print(f\"Variance estimation error for 1 SH chain: {mean_variance_error_svrg_SH:.2f}\")\n"
   ]
  },
  {
   "cell_type": "code",
   "execution_count": 77,
   "metadata": {},
   "outputs": [
    {
     "name": "stdout",
     "output_type": "stream",
     "text": [
      "Variance estimation error for the gridsearch chain: 5.58\n"
     ]
    }
   ],
   "source": [
    "samples_std_svrg_default = []\n",
    "for idx in range(6):\n",
    "    samples_std_svrg_default.append(np.std([elem[idx] for elem in samples_svrg_default], axis=0))\n",
    "\n",
    "list_rel_error_svrg_default = []\n",
    "for idx in range(6):\n",
    "        list_rel_error_svrg_default.append(np.linalg.norm(samples_std_svrg_default[idx] - numpyro_stds[idx])/np.linalg.norm(numpyro_stds[idx]))\n",
    "\n",
    "        \n",
    "mean_variance_error_svrg_default = np.mean(list_rel_error_svrg_default)\n",
    "\n",
    "print(f\"Variance estimation error for the gridsearch chain: {mean_variance_error_svrg_default:.2f}\")\n"
   ]
  },
  {
   "cell_type": "code",
   "execution_count": null,
   "metadata": {},
   "outputs": [],
   "source": []
  },
  {
   "cell_type": "code",
   "execution_count": null,
   "metadata": {},
   "outputs": [],
   "source": []
  },
  {
   "cell_type": "markdown",
   "metadata": {},
   "source": [
    "# sghmc\n",
    "\n",
    "#### R = 30sec, with n=120, thin_step=5\n",
    "\n",
    "\n",
    "`key=9`:\n",
    "- v1: -5.34, 0.081, 3\n",
    "- v2: -6.32, 0.01, 5\n",
    "- v3: -4.62, 0.027, 8\n",
    "\n",
    "<!-- key=10 -->\n",
    "<!-- - v4: -3.31, 0.1, 2 -->\n",
    "<!-- - v5: -4.15, 0.027, 4 -->\n",
    "<!-- - v6: -6.65, 0.011, 9 -->\n",
    "`key=8`:\n",
    "- v4: -5.27, 0.017, 2\n",
    "- v5: -5.96, 0.0022, 4\n",
    "- v6: -5.91, 0.001, 3\n",
    "\n",
    "`key=11`:\n",
    "- v7: -5.19, 0.071, 2\n",
    "- v8: -3.22, 0.33, 2\n",
    "- v9: -6.27, 0.0031, 6\n",
    "\n",
    " "
   ]
  },
  {
   "cell_type": "code",
   "execution_count": null,
   "metadata": {},
   "outputs": [],
   "source": [
    "time_budget = 1\n",
    "\n",
    "key = random.PRNGKey(1)\n",
    "dt = 1e-5\n",
    "batch_size = int(R_train.shape[0]*0.05)\n",
    "params = load_PMF_MAP()\n",
    "L = 10\n",
    "\n",
    "samples_pmf_sghmc, _ = run_sghmc_PMF_time_budget(key, time_budget, dt, batch_size, \n",
    "                                                 L, R_train, params, save_rate=10)\n",
    "\n",
    "# samples_pmf_sghmc = samples_pmf_sghmc + samples_pmf_sghmc2"
   ]
  },
  {
   "cell_type": "code",
   "execution_count": 53,
   "metadata": {},
   "outputs": [],
   "source": [
    "def run_many_KSD_curves_sghmc(list_params):\n",
    "    list_KSD_curves = []\n",
    "    \n",
    "    starttime = time.time()\n",
    "    for log_dt, b_s_r, L in list_params:\n",
    "        print(f\"\\nCalculating KSD curve for {log_dt, b_s_r, L}:\")\n",
    "        def run_sghmc_sampler(time_budget):\n",
    "            key = random.PRNGKey(0)\n",
    "            MAP_params = load_PMF_MAP()\n",
    "            dt = 10**(log_dt)\n",
    "            batch_size = int(b_s_r*R_train.shape[0])\n",
    "            samples, _ = run_sghmc_PMF_time_budget(key, time_budget, dt, batch_size, \n",
    "                                             L, R_train, MAP_params, save_rate=10)\n",
    "            return samples\n",
    "        \n",
    "        # ===\n",
    "        max_time_budget =  30\n",
    "        time_steps = 2\n",
    "        thin_step = 2\n",
    "        \n",
    "        ksd_list_sgld_SH = get_KSD_list_time_budget_PMF(max_time_budget, time_steps, \n",
    "                                                        run_sghmc_sampler, thin_step=thin_step, start_time=15)\n",
    "        list_KSD_curves.append(ksd_list_sgld_SH)\n",
    "    print(f\"Running time: {(time.time()-starttime)/60:.1f} min\")\n",
    "    return list_KSD_curves"
   ]
  },
  {
   "cell_type": "code",
   "execution_count": null,
   "metadata": {},
   "outputs": [],
   "source": []
  },
  {
   "cell_type": "code",
   "execution_count": 93,
   "metadata": {
    "collapsed": true
   },
   "outputs": [
    {
     "name": "stdout",
     "output_type": "stream",
     "text": [
      "\n",
      "Calculating KSD curve for (-5.27, 0.017, 2):\n",
      "Running for time budget=15sec\n",
      "Iteration 1000. Time: 3 / 15 sec\n",
      "Iteration 2000. Time: 6 / 15 sec\n",
      "Iteration 3000. Time: 8 / 15 sec\n",
      "Iteration 4000. Time: 11 / 15 sec\n",
      "Iteration 5000. Time: 14 / 15 sec\n",
      "Num samples: 525\n",
      "KSD: 357.5\n",
      "\n",
      "\n",
      "Running for time budget=17sec\n",
      "Iteration 1000. Time: 3 / 17 sec\n",
      "Iteration 2000. Time: 6 / 17 sec\n",
      "Iteration 3000. Time: 9 / 17 sec\n",
      "Iteration 4000. Time: 12 / 17 sec\n",
      "Iteration 5000. Time: 15 / 17 sec\n",
      "Num samples: 558\n",
      "KSD: 349.0\n",
      "\n",
      "\n",
      "Running for time budget=19sec\n",
      "Iteration 1000. Time: 3 / 19 sec\n",
      "Iteration 2000. Time: 6 / 19 sec\n",
      "Iteration 3000. Time: 9 / 19 sec\n",
      "Iteration 4000. Time: 13 / 19 sec\n",
      "Iteration 5000. Time: 17 / 19 sec\n",
      "Num samples: 561\n",
      "KSD: 348.0\n",
      "\n",
      "\n",
      "Running for time budget=21sec\n",
      "Iteration 1000. Time: 3 / 21 sec\n",
      "Iteration 2000. Time: 6 / 21 sec\n",
      "Iteration 3000. Time: 10 / 21 sec\n",
      "Iteration 4000. Time: 13 / 21 sec\n",
      "Iteration 5000. Time: 19 / 21 sec\n",
      "Num samples: 578\n",
      "KSD: 344.0\n",
      "\n",
      "\n",
      "Running for time budget=23sec\n",
      "Iteration 1000. Time: 3 / 23 sec\n",
      "Iteration 2000. Time: 6 / 23 sec\n",
      "Iteration 3000. Time: 10 / 23 sec\n",
      "Iteration 4000. Time: 13 / 23 sec\n",
      "Iteration 5000. Time: 16 / 23 sec\n",
      "Iteration 6000. Time: 20 / 23 sec\n",
      "Iteration 7000. Time: 23 / 23 sec\n",
      "Num samples: 710\n",
      "KSD: 316.1\n",
      "\n",
      "\n",
      "Running for time budget=25sec\n",
      "Iteration 1000. Time: 3 / 25 sec\n",
      "Iteration 2000. Time: 6 / 25 sec\n",
      "Iteration 3000. Time: 9 / 25 sec\n",
      "Iteration 4000. Time: 12 / 25 sec\n",
      "Iteration 5000. Time: 15 / 25 sec\n",
      "Iteration 6000. Time: 18 / 25 sec\n",
      "Iteration 7000. Time: 21 / 25 sec\n",
      "Iteration 8000. Time: 24 / 25 sec\n",
      "Num samples: 832\n",
      "KSD: 295.6\n",
      "\n",
      "\n",
      "Running for time budget=27sec\n",
      "Iteration 1000. Time: 3 / 27 sec\n",
      "Iteration 2000. Time: 6 / 27 sec\n",
      "Iteration 3000. Time: 9 / 27 sec\n",
      "Iteration 4000. Time: 12 / 27 sec\n",
      "Iteration 5000. Time: 15 / 27 sec\n",
      "Iteration 6000. Time: 18 / 27 sec\n",
      "Iteration 7000. Time: 21 / 27 sec\n",
      "Iteration 8000. Time: 24 / 27 sec\n",
      "Iteration 9000. Time: 27 / 27 sec\n",
      "Num samples: 906\n",
      "KSD: 285.1\n",
      "\n",
      "\n",
      "Running for time budget=29sec\n",
      "Iteration 1000. Time: 3 / 29 sec\n",
      "Iteration 2000. Time: 7 / 29 sec\n",
      "Iteration 3000. Time: 10 / 29 sec\n",
      "Iteration 4000. Time: 13 / 29 sec\n",
      "Iteration 5000. Time: 17 / 29 sec\n",
      "Iteration 6000. Time: 21 / 29 sec\n",
      "Iteration 7000. Time: 24 / 29 sec\n",
      "Iteration 8000. Time: 27 / 29 sec\n",
      "Num samples: 850\n",
      "KSD: 292.9\n",
      "\n",
      "\n",
      "\n",
      "Calculating KSD curve for (-5.96, 0.0022, 4):\n",
      "Running for time budget=15sec\n",
      "Iteration 1000. Time: 5 / 15 sec\n",
      "Iteration 2000. Time: 10 / 15 sec\n",
      "Iteration 3000. Time: 15 / 15 sec\n",
      "Num samples: 300\n",
      "KSD: 391.6\n",
      "\n",
      "\n",
      "Running for time budget=17sec\n",
      "Iteration 1000. Time: 6 / 17 sec\n",
      "Iteration 2000. Time: 12 / 17 sec\n",
      "Num samples: 292\n",
      "KSD: 395.9\n",
      "\n",
      "\n",
      "Running for time budget=19sec\n",
      "Iteration 1000. Time: 5 / 19 sec\n",
      "Iteration 2000. Time: 10 / 19 sec\n",
      "Iteration 3000. Time: 15 / 19 sec\n",
      "Num samples: 369\n",
      "KSD: 359.3\n",
      "\n",
      "\n",
      "Running for time budget=21sec\n",
      "Iteration 1000. Time: 5 / 21 sec\n",
      "Iteration 2000. Time: 12 / 21 sec\n",
      "Iteration 3000. Time: 18 / 21 sec\n",
      "Num samples: 364\n",
      "KSD: 361.8\n",
      "\n",
      "\n",
      "Running for time budget=23sec\n",
      "Iteration 1000. Time: 5 / 23 sec\n",
      "Iteration 2000. Time: 11 / 23 sec\n",
      "Iteration 3000. Time: 16 / 23 sec\n",
      "Iteration 4000. Time: 22 / 23 sec\n",
      "Num samples: 417\n",
      "KSD: 341.4\n",
      "\n",
      "\n",
      "Running for time budget=25sec\n",
      "Iteration 1000. Time: 5 / 25 sec\n",
      "Iteration 2000. Time: 10 / 25 sec\n",
      "Iteration 3000. Time: 15 / 25 sec\n",
      "Iteration 4000. Time: 21 / 25 sec\n",
      "Num samples: 482\n",
      "KSD: 321.7\n",
      "\n",
      "\n",
      "Running for time budget=27sec\n",
      "Iteration 1000. Time: 5 / 27 sec\n",
      "Iteration 2000. Time: 10 / 27 sec\n",
      "Iteration 3000. Time: 15 / 27 sec\n",
      "Iteration 4000. Time: 21 / 27 sec\n",
      "Iteration 5000. Time: 26 / 27 sec\n",
      "Num samples: 525\n",
      "KSD: 310.5\n",
      "\n",
      "\n",
      "Running for time budget=29sec\n",
      "Iteration 1000. Time: 5 / 29 sec\n",
      "Iteration 2000. Time: 10 / 29 sec\n",
      "Iteration 3000. Time: 17 / 29 sec\n",
      "Num samples: 389\n",
      "KSD: 351.4\n",
      "\n",
      "\n",
      "\n",
      "Calculating KSD curve for (-5.91, 0.001, 3):\n",
      "Running for time budget=15sec\n",
      "Iteration 1000. Time: 9 / 15 sec\n",
      "Num samples: 159\n",
      "KSD: 589.7\n",
      "\n",
      "\n",
      "Running for time budget=17sec\n",
      "Iteration 1000. Time: 9 / 17 sec\n",
      "Num samples: 168\n",
      "KSD: 581.1\n",
      "\n",
      "\n",
      "Running for time budget=19sec\n",
      "Iteration 1000. Time: 9 / 19 sec\n",
      "Num samples: 187\n",
      "KSD: 561.0\n",
      "\n",
      "\n",
      "Running for time budget=21sec\n",
      "Iteration 1000. Time: 6 / 21 sec\n",
      "Iteration 2000. Time: 16 / 21 sec\n",
      "Num samples: 243\n",
      "KSD: 514.3\n",
      "\n",
      "\n",
      "Running for time budget=23sec\n",
      "Iteration 1000. Time: 6 / 23 sec\n",
      "Iteration 2000. Time: 13 / 23 sec\n",
      "Iteration 3000. Time: 21 / 23 sec\n",
      "Num samples: 315\n",
      "KSD: 469.7\n",
      "\n",
      "\n",
      "Running for time budget=25sec\n",
      "Iteration 1000. Time: 10 / 25 sec\n",
      "Iteration 2000. Time: 15 / 25 sec\n",
      "Iteration 3000. Time: 20 / 25 sec\n",
      "Num samples: 361\n",
      "KSD: 446.5\n",
      "\n",
      "\n",
      "Running for time budget=27sec\n",
      "Iteration 1000. Time: 13 / 27 sec\n",
      "Iteration 2000. Time: 24 / 27 sec\n",
      "Num samples: 253\n",
      "KSD: 507.3\n",
      "\n",
      "\n",
      "Running for time budget=29sec\n",
      "Iteration 1000. Time: 5 / 29 sec\n",
      "Iteration 2000. Time: 15 / 29 sec\n",
      "Iteration 3000. Time: 25 / 29 sec\n",
      "Num samples: 334\n",
      "KSD: 460.1\n",
      "\n",
      "\n",
      "Running time: 16.2 min\n"
     ]
    }
   ],
   "source": [
    "# n=120\n",
    "list_params_sghmc_30 = [(-5.34, 0.081, 3), (-6.32, 0.01, 5), (-4.62, 0.027, 8),\n",
    "                        (-5.27, 0.017, 2), (-5.96, 0.0022, 4), (-5.91, 0.001, 3),\n",
    "                        (-5.19, 0.071, 2), (-3.22, 0.33, 2), (-6.27, 0.0031, 6)\n",
    "                       ]\n",
    "\n",
    "\n",
    "\n",
    "# list_KSD_curves_sghmc_SH30_extra = run_many_KSD_curves_sghmc(list_params_sghmc_30)"
   ]
  },
  {
   "cell_type": "code",
   "execution_count": null,
   "metadata": {},
   "outputs": [],
   "source": []
  },
  {
   "cell_type": "code",
   "execution_count": null,
   "metadata": {},
   "outputs": [],
   "source": []
  },
  {
   "cell_type": "code",
   "execution_count": 10,
   "metadata": {},
   "outputs": [],
   "source": [
    "# n=90\n",
    "# save all KSD curves\n",
    "# for idx, elem in enumerate(new_list_KSD_curves_sghmc_SH30_extra):\n",
    "#     np.savetxt(f\"outputs/KSD_list/PMF/sghmc-SH_30-n_120/ksd_curve_{idx}.csv\", elem)\n",
    "\n",
    "# load all KSD curves\n",
    "list_KSD_curves_sghmc_SH30 = []\n",
    "for idx in range(9):\n",
    "    mylist = np.genfromtxt(f\"outputs/KSD_list/PMF/sghmc-SH_30-n_120/ksd_curve_{idx}.csv\")\n",
    "    list_KSD_curves_sghmc_SH30.append(mylist)"
   ]
  },
  {
   "cell_type": "code",
   "execution_count": null,
   "metadata": {},
   "outputs": [],
   "source": []
  },
  {
   "cell_type": "markdown",
   "metadata": {},
   "source": [
    "#### sghmc: default"
   ]
  },
  {
   "cell_type": "code",
   "execution_count": 36,
   "metadata": {
    "collapsed": true
   },
   "outputs": [
    {
     "name": "stdout",
     "output_type": "stream",
     "text": [
      "Running for time budget=15sec\n",
      "Num samples: 26\n",
      "KSD: 2317.2\n",
      "\n",
      "\n",
      "Running for time budget=17sec\n",
      "Num samples: 19\n",
      "KSD: 2685.5\n",
      "\n",
      "\n",
      "Running for time budget=19sec\n",
      "Num samples: 24\n",
      "KSD: 2421.8\n",
      "\n",
      "\n",
      "Running for time budget=21sec\n",
      "Num samples: 30\n",
      "KSD: 2134.2\n",
      "\n",
      "\n",
      "Running for time budget=23sec\n",
      "Num samples: 32\n",
      "KSD: 2063.1\n",
      "\n",
      "\n",
      "Running for time budget=25sec\n",
      "Num samples: 34\n",
      "KSD: 2004.8\n",
      "\n",
      "\n",
      "Running for time budget=27sec\n",
      "Num samples: 34\n",
      "KSD: 2004.8\n",
      "\n",
      "\n",
      "Running for time budget=29sec\n",
      "Num samples: 38\n",
      "KSD: 1890.1\n",
      "\n",
      "\n"
     ]
    }
   ],
   "source": [
    "# def sghmc_sampler_default(time_budget):\n",
    "    \n",
    "#     key = random.PRNGKey(0)\n",
    "#     MAP_params = load_PMF_MAP()\n",
    "#     dt = 10**(-5)\n",
    "#     batch_size = int(0.1*R_train.shape[0])\n",
    "#     L = 26\n",
    "#     samples, _ = run_sghmc_PMF_time_budget(key, time_budget, dt, batch_size, \n",
    "#                                      L, R_train, MAP_params, save_rate=10)\n",
    "#     return samples\n",
    "\n",
    "\n",
    "# # ===\n",
    "# max_time_budget = 30\n",
    "# time_steps = 2\n",
    "# thin_step = 2\n",
    "# ksd_list_sghmc_default = get_KSD_list_time_budget_PMF(max_time_budget, time_steps, \n",
    "#                                              sghmc_sampler_default, thin_step=thin_step, start_time=15)\n",
    "\n"
   ]
  },
  {
   "cell_type": "code",
   "execution_count": 11,
   "metadata": {},
   "outputs": [],
   "source": [
    "# np.savetxt(f\"outputs/KSD_list/PMF/ksd_list_sghmc_default.csv\", ksd_list_sghmc_default)\n",
    "\n",
    "ksd_list_sghmc_default = np.genfromtxt(f\"outputs/KSD_list/PMF/ksd_list_sghmc_default.csv\")\n"
   ]
  },
  {
   "cell_type": "code",
   "execution_count": null,
   "metadata": {},
   "outputs": [],
   "source": []
  },
  {
   "cell_type": "code",
   "execution_count": 12,
   "metadata": {},
   "outputs": [
    {
     "data": {
      "text/plain": [
       "<matplotlib.legend.Legend at 0x13291ab50>"
      ]
     },
     "execution_count": 12,
     "metadata": {},
     "output_type": "execute_result"
    },
    {
     "data": {
      "image/png": "[encoded data removed]",
      "text/plain": [
       "<Figure size 576x432 with 1 Axes>"
      ]
     },
     "metadata": {},
     "output_type": "display_data"
    }
   ],
   "source": [
    "plt.rcParams.update({'font.size':17})\n",
    "\n",
    "average_curve_sghmc_SH30 = np.nanmean(list_KSD_curves_sghmc_SH30, axis=0)\n",
    "std_curve_sghmc_SH30 = np.nanstd(list_KSD_curves_sghmc_SH30, axis=0)\n",
    "\n",
    "\n",
    "\n",
    "max_time_budget = 30\n",
    "\n",
    "plt.figure(figsize=(8, 6))\n",
    "\n",
    "plt.plot(np.arange(15, max_time_budget, 2), average_curve_sghmc_SH30, marker=\"+\", markersize=15, \n",
    "         c='r', label=\"SH 10 sec, average\")\n",
    "plt.fill_between(np.arange(15, max_time_budget, 2), average_curve_sghmc_SH30+2*std_curve_sghmc_SH30, \n",
    "                 average_curve_sghmc_SH30-2*std_curve_sghmc_SH30, alpha=0.1, color='r')\n",
    "\n",
    "\n",
    "\n",
    "# for elem in list_KSD_curves_sghmc_SH30[6:9]:\n",
    "#     plt.plot(np.arange(15, max_time_budget, 2), elem, alpha=0.4, marker=\"v\")\n",
    "    \n",
    "plt.plot(np.arange(15, max_time_budget, 2), ksd_list_sghmc_default, marker=\"o\", \n",
    "                     label=\"default, noise=1: -5, 0.1, 26\", markersize=10)\n",
    "\n",
    "\n",
    "plt.title(\"SG-HMC sampler\", size=23)\n",
    "plt.ylabel(\"KSD\", size=19)\n",
    "plt.xlabel(\"time budget (seconds)\", size=19)\n",
    "plt.legend(fontsize=16)\n",
    "# plt.savefig(\"images/PMF_sghmc_ksd_curves.png\") "
   ]
  },
  {
   "cell_type": "code",
   "execution_count": 13,
   "metadata": {},
   "outputs": [
    {
     "name": "stdout",
     "output_type": "stream",
     "text": [
      "LR_KSD_curves.png            PMF_KSD_curves.png\r\n",
      "LR_KSD_curves_2_budgets.png\r\n"
     ]
    }
   ],
   "source": [
    "ls images"
   ]
  },
  {
   "cell_type": "markdown",
   "metadata": {},
   "source": [
    "### variance estimates\n",
    "\n",
    "\n",
    "Errors:\n",
    "\n",
    "- SH1:  0.95\n",
    "- default: 5.71"
   ]
  },
  {
   "cell_type": "code",
   "execution_count": 118,
   "metadata": {},
   "outputs": [
    {
     "name": "stdout",
     "output_type": "stream",
     "text": [
      "Iteration 1000. Time: 7 / 200.0 sec\n",
      "Iteration 2000. Time: 13 / 200.0 sec\n",
      "Iteration 3000. Time: 18 / 200.0 sec\n",
      "Iteration 4000. Time: 24 / 200.0 sec\n",
      "Iteration 5000. Time: 30 / 200.0 sec\n",
      "Iteration 6000. Time: 36 / 200.0 sec\n",
      "Iteration 7000. Time: 42 / 200.0 sec\n",
      "Iteration 8000. Time: 48 / 200.0 sec\n",
      "Iteration 9000. Time: 56 / 200.0 sec\n",
      "Iteration 10000. Time: 70 / 200.0 sec\n",
      "Iteration 11000. Time: 83 / 200.0 sec\n",
      "Iteration 12000. Time: 97 / 200.0 sec\n",
      "Iteration 13000. Time: 108 / 200.0 sec\n",
      "Iteration 14000. Time: 124 / 200.0 sec\n",
      "Iteration 15000. Time: 135 / 200.0 sec\n",
      "Iteration 16000. Time: 145 / 200.0 sec\n",
      "Iteration 17000. Time: 160 / 200.0 sec\n",
      "Iteration 18000. Time: 181 / 200.0 sec\n",
      "Iteration 19000. Time: 192 / 200.0 sec\n",
      "Number of samples: 19,600\n"
     ]
    }
   ],
   "source": [
    "key = random.PRNGKey(0)\n",
    "\n",
    "# use parameters from the 1st SH chain (from list_params_sghmc_30`)\n",
    "dt = 10**(-5.34)\n",
    "batch_size = int(0.081*R_train.shape[0])\n",
    "time_budget = 200.\n",
    "L = 3\n",
    "\n",
    "samples_sghmc_SH, _ = run_sghmc_PMF_time_budget(key, time_budget, dt, batch_size, \n",
    "                                     L, R_train, load_PMF_MAP(), save_rate=50)\n",
    "\n",
    "\n",
    "print(f\"Number of samples: {len(samples_sghmc_SH)*50:,}\")"
   ]
  },
  {
   "cell_type": "code",
   "execution_count": 119,
   "metadata": {},
   "outputs": [
    {
     "name": "stdout",
     "output_type": "stream",
     "text": [
      "Iteration 1000. Time: 123 / 200.0 sec\n",
      "Number of samples: 1,600\n"
     ]
    }
   ],
   "source": [
    "key = random.PRNGKey(0)\n",
    "\n",
    "dt = 10**(-5)\n",
    "batch_size = int(0.1*R_train.shape[0])\n",
    "time_budget = 200.\n",
    "L = 26\n",
    "\n",
    "samples_sghmc_default, _ = run_sghmc_PMF_time_budget(key, time_budget, dt, batch_size, \n",
    "                                     L, R_train, load_PMF_MAP(), save_rate=50)\n",
    "\n",
    "\n",
    "print(f\"Number of samples: {len(samples_sghmc_default)*50:,}\")"
   ]
  },
  {
   "cell_type": "markdown",
   "metadata": {},
   "source": [
    "#### variances"
   ]
  },
  {
   "cell_type": "code",
   "execution_count": 120,
   "metadata": {},
   "outputs": [],
   "source": [
    "from config import BASE_DIR\n",
    "\n",
    "def load_PMF_NUTS_stds():\n",
    "    return [np.genfromtxt(f\"{BASE_DIR}/data/PMF_NUTS_stds/PMF_{idx}_std.txt\") for idx in range(6)]\n",
    "\n",
    "\n",
    "numpyro_stds = load_PMF_NUTS_stds()"
   ]
  },
  {
   "cell_type": "code",
   "execution_count": 121,
   "metadata": {},
   "outputs": [
    {
     "name": "stdout",
     "output_type": "stream",
     "text": [
      "Variance estimation error for 1 SH chain: 0.95\n"
     ]
    }
   ],
   "source": [
    "samples_std_sghmc_SH = []\n",
    "for idx in range(6):\n",
    "    samples_std_sghmc_SH.append(np.std([elem[idx] for elem in samples_sghmc_SH], axis=0))\n",
    "\n",
    "list_rel_error_sghmc_SH = []\n",
    "for idx in range(6):\n",
    "        list_rel_error_sghmc_SH.append(np.linalg.norm(samples_std_sghmc_SH[idx] - numpyro_stds[idx])/np.linalg.norm(numpyro_stds[idx]))\n",
    "\n",
    "        \n",
    "mean_variance_error_sghmc_SH = np.mean(list_rel_error_sghmc_SH)\n",
    "\n",
    "print(f\"Variance estimation error for 1 SH chain: {mean_variance_error_sghmc_SH:.2f}\")\n"
   ]
  },
  {
   "cell_type": "code",
   "execution_count": 122,
   "metadata": {},
   "outputs": [
    {
     "name": "stdout",
     "output_type": "stream",
     "text": [
      "Variance estimation error for the gridsearch chain: 5.71\n"
     ]
    }
   ],
   "source": [
    "samples_std_sghmc_default = []\n",
    "for idx in range(6):\n",
    "    samples_std_sghmc_default.append(np.std([elem[idx] for elem in samples_sghmc_default], axis=0))\n",
    "\n",
    "list_rel_error_sghmc_default = []\n",
    "for idx in range(6):\n",
    "        list_rel_error_sghmc_default.append(np.linalg.norm(samples_std_sghmc_default[idx] - numpyro_stds[idx])/np.linalg.norm(numpyro_stds[idx]))\n",
    "\n",
    "        \n",
    "mean_variance_error_sghmc_default = np.mean(list_rel_error_sghmc_default)\n",
    "\n",
    "print(f\"Variance estimation error for the gridsearch chain: {mean_variance_error_sghmc_default:.2f}\")\n"
   ]
  },
  {
   "cell_type": "code",
   "execution_count": null,
   "metadata": {},
   "outputs": [],
   "source": []
  },
  {
   "cell_type": "code",
   "execution_count": null,
   "metadata": {},
   "outputs": [],
   "source": []
  },
  {
   "cell_type": "markdown",
   "metadata": {},
   "source": [
    "# 3 plots together"
   ]
  },
  {
   "cell_type": "code",
   "execution_count": 2,
   "metadata": {},
   "outputs": [],
   "source": [
    "# SGLD\n",
    "list_KSD_curves_sgld_10 = []\n",
    "for idx in range(9):\n",
    "    mylist = np.genfromtxt(f\"outputs/KSD_list/PMF/sgld-SH_10-n_90/ksd_curve_{idx}.csv\")\n",
    "    list_KSD_curves_sgld_10.append(mylist)\n",
    "\n",
    "ksd_list_adam = np.genfromtxt(f\"outputs/KSD_list/PMF/ksd_curve_adam.csv\")\n",
    "ksd_list_sgld_default = np.genfromtxt(f\"outputs/KSD_list/PMF/ksd_curve_sgld_default.csv\")\n",
    "\n",
    "# =====\n",
    "# SVRG\n",
    "list_KSD_curves_svrg_10 = []\n",
    "for idx in range(9):\n",
    "    mylist = np.genfromtxt(f\"outputs/KSD_list/PMF/svrg-SH_15-n_90/ksd_curve_{idx}.csv\")\n",
    "    list_KSD_curves_svrg_10.append(mylist)\n",
    "    \n",
    "ksd_list_svrg_default = np.genfromtxt(f\"outputs/KSD_list/PMF/ksd_curve_svrg_default.csv\")\n",
    "\n",
    "\n",
    "# =====\n",
    "# SGHMC\n",
    "\n",
    "list_KSD_curves_sghmc_SH30 = []\n",
    "for idx in range(9):\n",
    "    mylist = np.genfromtxt(f\"outputs/KSD_list/PMF/sghmc-SH_30-n_120/ksd_curve_{idx}.csv\")\n",
    "    list_KSD_curves_sghmc_SH30.append(mylist)\n",
    "    \n",
    "ksd_list_sghmc_default = np.genfromtxt(f\"outputs/KSD_list/PMF/ksd_list_sghmc_default.csv\")"
   ]
  },
  {
   "cell_type": "code",
   "execution_count": 4,
   "metadata": {},
   "outputs": [
    {
     "data": {
      "text/plain": [
       "<matplotlib.legend.Legend at 0x7feac372efa0>"
      ]
     },
     "execution_count": 4,
     "metadata": {},
     "output_type": "execute_result"
    },
    {
     "data": {
      "image/png": "[encoded data removed]",
      "text/plain": [
       "<Figure size 1512x432 with 3 Axes>"
      ]
     },
     "metadata": {},
     "output_type": "display_data"
    }
   ],
   "source": [
    "plt.rcParams.update({'font.size':17})\n",
    "fig, ax = plt.subplots(1,3, figsize=(21, 6), sharey=True)\n",
    "\n",
    "\n",
    "# ===============\n",
    "# SGLD\n",
    "average_curve_sgld_SH10 = np.mean(list_KSD_curves_sgld_10, axis=0)\n",
    "std_curve_sgld_SH10 = np.std(list_KSD_curves_sgld_10, axis=0)\n",
    "\n",
    "max_time_budget_sgld = 20\n",
    "\n",
    "ax[0].plot(np.arange(5, max_time_budget_sgld, 2), average_curve_sgld_SH10, marker=\"+\", markersize=15, \n",
    "         c='r', label=\"SH 5 sec, average\")\n",
    "ax[0].fill_between(np.arange(5, max_time_budget_sgld, 2), average_curve_sgld_SH10+2*std_curve_sgld_SH10, \n",
    "                 average_curve_sgld_SH10-2*std_curve_sgld_SH10, alpha=0.1, color='r')\n",
    "\n",
    "ax[0].plot(np.arange(5, max_time_budget_sgld,2), ksd_list_sgld_default, marker=\"o\", label=\"default: -4.8, 0.1\", markersize=10)\n",
    "ax[0].plot(np.arange(5, max_time_budget_sgld,2), ksd_list_adam, marker=\"v\", label=\"ADAM: -4.8, 0.1\", markersize=10)\n",
    "\n",
    "\n",
    "# ax[0].set_title(\"SGLD sampler\", size=23)\n",
    "ax[0].set_ylabel(\"KSD\", size=19)\n",
    "ax[0].set_xlabel(\"time budget (seconds)\", size=19)\n",
    "ax[0].legend(fontsize=20)\n",
    "\n",
    "\n",
    "\n",
    "# ===============\n",
    "# # SVRG\n",
    "\n",
    "average_curve_sgldCV_SH10 = np.mean(list_KSD_curves_svrg_10, axis=0)\n",
    "std_curve_sgldCV_SH10 = np.std(list_KSD_curves_svrg_10, axis=0)\n",
    "\n",
    "max_time_budget_sgldCV = 20\n",
    "\n",
    "ax[1].plot(np.arange(5, max_time_budget_sgldCV,2), average_curve_sgldCV_SH10, marker=\"+\", markersize=15, \n",
    "         c='r', label=\"SH 5 sec, average\")\n",
    "ax[1].fill_between(np.arange(5, max_time_budget_sgldCV,2), average_curve_sgldCV_SH10+2*std_curve_sgldCV_SH10, \n",
    "                 average_curve_sgldCV_SH10-2*std_curve_sgldCV_SH10, alpha=0.1, color='r')\n",
    "\n",
    "ax[1].plot(np.arange(5, max_time_budget_sgldCV, 2), ksd_list_svrg_default, marker=\"o\", label=\"default: -4.8, 0.1\", markersize=10)\n",
    "\n",
    "# ax[1].set_title(\"SVRG sampler\", size=23)\n",
    "ax[1].set_ylabel(\"KSD\", size=19)\n",
    "ax[1].set_xlabel(\"time budget (seconds)\", size=19)\n",
    "ax[1].legend(fontsize=20)\n",
    "\n",
    "\n",
    "# ==================\n",
    "# SG-HMC\n",
    "average_curve_sghmc_SH10 = np.mean(list_KSD_curves_sghmc_SH30, axis=0)\n",
    "std_curve_sghmc_SH10 = np.std(list_KSD_curves_sghmc_SH30, axis=0)\n",
    "\n",
    "max_time_budget_sghmc = 20\n",
    "\n",
    "ax[2].plot(np.arange(5, max_time_budget_sghmc,2), average_curve_sghmc_SH10, marker=\"+\", markersize=15, \n",
    "         c='r', label=\"SH 10 sec, average\")\n",
    "ax[2].fill_between(np.arange(5, max_time_budget_sghmc,2), average_curve_sghmc_SH10+2*std_curve_sghmc_SH10, \n",
    "                 average_curve_sghmc_SH10-2*std_curve_sghmc_SH10, alpha=0.1, color='r')\n",
    "    \n",
    "ax[2].plot(np.arange(5, max_time_budget_sghmc,2), ksd_list_sghmc_default, marker=\"o\", label=\"default: -4.8, 0.1\", markersize=10)\n",
    "\n",
    "# ax[2].set_title(\"SG-HMC sampler\", size=23)\n",
    "ax[2].set_ylabel(\"KSD\", size=19)\n",
    "ax[2].set_xlabel(\"time budget (seconds)\", size=19)\n",
    "\n",
    "\n",
    "ax[0].legend(fontsize=20)\n",
    "\n",
    "# plt.savefig(\"images/PMF_KSD_curves.png\")\n",
    "\n"
   ]
  },
  {
   "cell_type": "code",
   "execution_count": null,
   "metadata": {},
   "outputs": [],
   "source": []
  },
  {
   "cell_type": "code",
   "execution_count": null,
   "metadata": {},
   "outputs": [],
   "source": []
  },
  {
   "cell_type": "code",
   "execution_count": null,
   "metadata": {},
   "outputs": [],
   "source": []
  },
  {
   "cell_type": "code",
   "execution_count": null,
   "metadata": {},
   "outputs": [],
   "source": []
  }
 ],
 "metadata": {
  "kernelspec": {
   "display_name": "Python 3",
   "language": "python",
   "name": "python3"
  },
  "language_info": {
   "codemirror_mode": {
    "name": "ipython",
    "version": 3
   },
   "file_extension": ".py",
   "mimetype": "text/x-python",
   "name": "python",
   "nbconvert_exporter": "python",
   "pygments_lexer": "ipython3",
   "version": "3.8.2"
  }
 },
 "nbformat": 4,
 "nbformat_minor": 4
}
