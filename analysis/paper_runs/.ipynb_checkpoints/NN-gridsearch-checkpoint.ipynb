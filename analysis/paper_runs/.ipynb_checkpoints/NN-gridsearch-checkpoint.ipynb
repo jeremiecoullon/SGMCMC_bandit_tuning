{
 "cells": [
  {
   "cell_type": "code",
   "execution_count": 1,
   "metadata": {},
   "outputs": [
    {
     "name": "stderr",
     "output_type": "stream",
     "text": [
      "WARNING:absl:No GPU/TPU found, falling back to CPU. (Set TF_CPP_MIN_LOG_LEVEL=0 and rerun for more info.)\n"
     ]
    }
   ],
   "source": [
    "%matplotlib inline\n",
    "\n",
    "import matplotlib.pyplot as plt\n",
    "import seaborn as sns\n",
    "sns.set_style(\"darkgrid\")\n",
    "import numpy as np\n",
    "import time\n",
    "from tqdm.auto import tqdm\n",
    "\n",
    "import jax.numpy as jnp\n",
    "from jax import partial, jit, vmap, grad, random, lax\n",
    "from jax.scipy.special import logsumexp\n",
    "\n",
    "import context\n",
    "\n",
    "\n",
    "from examples.bayesian_NN.NN_data import X_train, X_test, y_train, y_test\n",
    "from examples.bayesian_NN.NN_model import init_network, log_post, grad_log_post, batch_loglik, accuracy_BNN\n",
    "from examples.bayesian_NN.sampler import sgld_NN, kernel_NN\n",
    "from examples.bayesian_NN.util import flatten_NN_params, load_NN_MAP, flatten_NN_params_jaxscan\n",
    "from examples.bayesian_NN.sampler import sgld_NN_time_budget, sgld_NN_time_budget_CV, scan_NN\n",
    "\n",
    "from ksd import imq_KSD\n",
    "\n",
    "from examples.bayesian_NN.sghmc import run_sghmc_NN"
   ]
  },
  {
   "cell_type": "markdown",
   "metadata": {},
   "source": [
    "# NN- gridsearch method vs KSD method\n",
    "\n"
   ]
  },
  {
   "cell_type": "markdown",
   "metadata": {},
   "source": [
    "# SGLD"
   ]
  },
  {
   "cell_type": "code",
   "execution_count": 2,
   "metadata": {},
   "outputs": [
    {
     "name": "stdout",
     "output_type": "stream",
     "text": [
      "\n",
      "Iteration 0/1000\n",
      "33.44686198234558\n",
      "100\n"
     ]
    }
   ],
   "source": [
    "# time_budget = 10\n",
    "\n",
    "key = random.PRNGKey(0)\n",
    "dt = 10**(-5)\n",
    "batch_size = int(X_train.shape[0]*0.1)\n",
    "params_IC = load_NN_MAP()\n",
    "\n",
    "# samples_NN_default, _ = sgld_NN_time_budget(key, time_budget, grad_log_post, dt, \n",
    "#                                             batch_size, params_IC, X_train, y_train, save_rate=10)\n",
    "\n",
    "Niter = 1000\n",
    "\n",
    "starttime = time.time()\n",
    "samples_NN_default, _ = sgld_NN(key, Niter, dt, batch_size, params_IC, grad_log_post, \n",
    "                            X_train, y_train, save_rate=10, print_rate=1000)\n",
    "\n",
    "print(time.time() - starttime)\n",
    "print(len(samples_NN_default))"
   ]
  },
  {
   "cell_type": "code",
   "execution_count": 3,
   "metadata": {},
   "outputs": [
    {
     "data": {
      "text/plain": [
       "DeviceArray(0.94949996, dtype=float32)"
      ]
     },
     "execution_count": 3,
     "metadata": {},
     "output_type": "execute_result"
    }
   ],
   "source": [
    "accuracy_BNN(samples_NN_default, X_test, y_test)"
   ]
  },
  {
   "cell_type": "code",
   "execution_count": null,
   "metadata": {},
   "outputs": [],
   "source": []
  },
  {
   "cell_type": "code",
   "execution_count": null,
   "metadata": {},
   "outputs": [],
   "source": []
  },
  {
   "cell_type": "code",
   "execution_count": null,
   "metadata": {},
   "outputs": [],
   "source": []
  },
  {
   "cell_type": "code",
   "execution_count": 12,
   "metadata": {},
   "outputs": [],
   "source": [
    "\n",
    "def get_accuracy_NN_sgld(key, dt, params_IC):\n",
    "    Nsamples = 2000\n",
    "    batch_size = int(X_train.shape[0]*0.1)\n",
    "    samples, _ = sgld_NN(key, Nsamples, dt, batch_size, params_IC, grad_log_post, \n",
    "                            X_train, y_train, save_rate=10, print_rate=10000)\n",
    "    return accuracy_BNN(samples[::2], X_test, y_test)\n",
    "\n",
    "\n",
    "def add_noise_NN_params(key, params, scale):\n",
    "    keys = random.split(key, len(params))\n",
    "    new_params = []\n",
    "    for (W,b), subkey in zip(params, keys):\n",
    "        k1,k2 = random.split(subkey)\n",
    "        new_W = W + scale*random.normal(k1, shape=W.shape)\n",
    "        new_b = b + scale*random.normal(k2, shape=b.shape)\n",
    "        new_params.append((new_W, new_b))\n",
    "    return new_params\n",
    "        \n",
    "        \n",
    "\n",
    "key = random.PRNGKey(0)\n",
    "noisy_params = add_noise_NN_params(key, load_NN_MAP(), 1.)\n"
   ]
  },
  {
   "cell_type": "code",
   "execution_count": null,
   "metadata": {},
   "outputs": [],
   "source": []
  },
  {
   "cell_type": "markdown",
   "metadata": {},
   "source": [
    "## Gridsearch for noise `scale=1`"
   ]
  },
  {
   "cell_type": "markdown",
   "metadata": {},
   "source": [
    "\n",
    "\n",
    "- 2000 samples\n",
    "- thin by 20 (ie: 10 and 2)\n",
    "\n",
    "Optimal: `log_dt= 3.25`"
   ]
  },
  {
   "cell_type": "code",
   "execution_count": 40,
   "metadata": {},
   "outputs": [
    {
     "name": "stdout",
     "output_type": "stream",
     "text": [
      "Grid search for 20 grid points\n",
      "\n"
     ]
    },
    {
     "data": {
      "application/vnd.jupyter.widget-view+json": {
       "model_id": "79c42f7d2b474112a80639a5d6be0f8f",
       "version_major": 2,
       "version_minor": 0
      },
      "text/plain": [
       "HBox(children=(FloatProgress(value=0.0, max=20.0), HTML(value='')))"
      ]
     },
     "metadata": {},
     "output_type": "display_data"
    },
    {
     "name": "stdout",
     "output_type": "stream",
     "text": [
      "\n",
      "Iteration 0/2000\n",
      "\n",
      "Iteration 0/2000\n",
      "\n",
      "Iteration 0/2000\n",
      "\n",
      "Iteration 0/2000\n",
      "\n",
      "Iteration 0/2000\n",
      "\n",
      "Iteration 0/2000\n",
      "\n",
      "Iteration 0/2000\n",
      "\n",
      "Iteration 0/2000\n",
      "\n",
      "Iteration 0/2000\n",
      "\n",
      "Iteration 0/2000\n",
      "\n",
      "Iteration 0/2000\n",
      "\n",
      "Iteration 0/2000\n",
      "\n",
      "Iteration 0/2000\n",
      "\n",
      "Iteration 0/2000\n",
      "\n",
      "Iteration 0/2000\n",
      "\n",
      "Iteration 0/2000\n",
      "\n",
      "Iteration 0/2000\n",
      "\n",
      "Iteration 0/2000\n",
      "\n",
      "Iteration 0/2000\n",
      "\n",
      "Iteration 0/2000\n",
      "\n",
      "Running time for grid search: 926.6sec\n",
      "dt for the smallest logloss: 10^-3.25\n"
     ]
    }
   ],
   "source": [
    "key = random.PRNGKey(0)\n",
    "\n",
    "key, subkey = random.split(key)\n",
    "params_IC = add_noise_NN_params(subkey, load_NN_MAP(), 1.)\n",
    "\n",
    "log_dt_array_NN = -jnp.arange(2,7, 0.25) # linear grid on a log scale\n",
    "dt_array = 10.**log_dt_array_NN\n",
    "print(f\"Grid search for {log_dt_array_NN.shape[0]} grid points\\n\")\n",
    "starttime = time.time()\n",
    "grid_accuracy_NN = []\n",
    "for dt in tqdm(dt_array):\n",
    "    grid_accuracy_NN.append(get_accuracy_NN_sgld(key, dt, params_IC))\n",
    "\n",
    "\n",
    "print(f\"Running time for grid search: {time.time() - starttime:.1f}sec\")\n",
    "\n",
    "opt_log_dt_NN = log_dt_array_NN[np.nanargmax(grid_accuracy_NN)]\n",
    "print(f\"dt for the smallest logloss: 10^{opt_log_dt_NN:.2f}\")\n",
    "\n"
   ]
  },
  {
   "cell_type": "code",
   "execution_count": 46,
   "metadata": {},
   "outputs": [
    {
     "data": {
      "image/png": "[encoded data removed]",
      "text/plain": [
       "<Figure size 504x360 with 1 Axes>"
      ]
     },
     "metadata": {},
     "output_type": "display_data"
    }
   ],
   "source": [
    "# noise `scale=1`\n",
    "plt.rcParams.update({'font.size':15})\n",
    "plt.figure(figsize=(7, 5))\n",
    "\n",
    "plt.plot(log_dt_array_NN, grid_accuracy_NN, marker=\"x\", markersize=10, lw=0.7)\n",
    "plt.xlabel(\"log(dt)\", size=20)\n",
    "plt.title(f\"log-loss after {10000} iterations\", size=20)\n",
    "plt.ylabel(\"logloss\", size=20)\n",
    "plt.axvline(opt_log_dt_NN, c='r', alpha=0.8)\n",
    "plt.show()\n",
    "\n"
   ]
  },
  {
   "cell_type": "code",
   "execution_count": null,
   "metadata": {},
   "outputs": [],
   "source": []
  },
  {
   "cell_type": "markdown",
   "metadata": {},
   "source": [
    "# SVRG"
   ]
  },
  {
   "cell_type": "code",
   "execution_count": 2,
   "metadata": {},
   "outputs": [],
   "source": [
    "from examples.bayesian_NN.svrg import sgld_NN_SVRG"
   ]
  },
  {
   "cell_type": "code",
   "execution_count": 3,
   "metadata": {},
   "outputs": [
    {
     "name": "stdout",
     "output_type": "stream",
     "text": [
      "Running sgld for 100 iterations\n",
      "Iteration 0/100\n",
      "\n",
      "Running time 0.09min\n",
      "4\n"
     ]
    }
   ],
   "source": [
    "\n",
    "Nsamples = 100\n",
    "save_rate = 30\n",
    "key = random.PRNGKey(0) \n",
    "batch_size = int(X_train.shape[0]*0.1)\n",
    "dt = 1e-5\n",
    "update_rate = 1000\n",
    "params_IC = load_NN_MAP()\n",
    "\n",
    "samples_svrg_NN = sgld_NN_SVRG(key, Nsamples, dt, batch_size, \n",
    "                                                params_IC, update_rate, save_rate, print_rate=1000)\n",
    "\n",
    "print(len(samples_svrg_NN))"
   ]
  },
  {
   "cell_type": "code",
   "execution_count": 20,
   "metadata": {},
   "outputs": [],
   "source": [
    "\n",
    "def get_accuracy_NN_svrg(key, dt, params_IC):\n",
    "    Nsamples = 1000\n",
    "    batch_size = int(X_train.shape[0]*0.1)\n",
    "    save_rate = 10\n",
    "    update_rate = 1000\n",
    "    samples = sgld_NN_SVRG(key, Nsamples, dt, batch_size, \n",
    "                        params_IC, update_rate, save_rate, print_rate=1000)\n",
    "    return accuracy_BNN(samples, X_test, y_test)\n"
   ]
  },
  {
   "cell_type": "code",
   "execution_count": 21,
   "metadata": {},
   "outputs": [
    {
     "name": "stdout",
     "output_type": "stream",
     "text": [
      "Running sgld for 1000 iterations\n",
      "Iteration 0/1000\n",
      "\n",
      "Running time 0.84min\n"
     ]
    },
    {
     "data": {
      "text/plain": [
       "Buffer(0.94729996, dtype=float32)"
      ]
     },
     "execution_count": 21,
     "metadata": {},
     "output_type": "execute_result"
    }
   ],
   "source": [
    "get_accuracy_NN_svrg(key, 1e-5, load_NN_MAP())"
   ]
  },
  {
   "cell_type": "code",
   "execution_count": null,
   "metadata": {},
   "outputs": [],
   "source": []
  },
  {
   "cell_type": "code",
   "execution_count": null,
   "metadata": {},
   "outputs": [],
   "source": []
  },
  {
   "cell_type": "markdown",
   "metadata": {},
   "source": [
    "## grid search svrg:\n",
    "\n",
    "- 1K iterations per grid point\n",
    "- thin by 20\n",
    "- Grid for log-dt: `jnp.arange(2,7, 0.25)`\n",
    "\n",
    "Results:\n",
    "\n",
    "- optimal for log-dt: `-3.25`\n",
    "- Running time: 16 min"
   ]
  },
  {
   "cell_type": "code",
   "execution_count": 22,
   "metadata": {
    "collapsed": true
   },
   "outputs": [
    {
     "name": "stdout",
     "output_type": "stream",
     "text": [
      "Grid search for 20 grid points\n",
      "\n"
     ]
    },
    {
     "data": {
      "application/vnd.jupyter.widget-view+json": {
       "model_id": "95d2078e3c1146599e2eadf448522b0f",
       "version_major": 2,
       "version_minor": 0
      },
      "text/plain": [
       "HBox(children=(FloatProgress(value=0.0, max=20.0), HTML(value='')))"
      ]
     },
     "metadata": {},
     "output_type": "display_data"
    },
    {
     "name": "stdout",
     "output_type": "stream",
     "text": [
      "Running sgld for 1000 iterations\n",
      "Iteration 0/1000\n",
      "\n",
      "Running time 0.82min\n",
      "Running sgld for 1000 iterations\n",
      "Iteration 0/1000\n",
      "\n",
      "Running time 0.75min\n",
      "Running sgld for 1000 iterations\n",
      "Iteration 0/1000\n",
      "\n",
      "Running time 0.94min\n",
      "Running sgld for 1000 iterations\n",
      "Iteration 0/1000\n",
      "\n",
      "Running time 0.78min\n",
      "Running sgld for 1000 iterations\n",
      "Iteration 0/1000\n",
      "\n",
      "Running time 0.95min\n",
      "Running sgld for 1000 iterations\n",
      "Iteration 0/1000\n",
      "\n",
      "Running time 0.85min\n",
      "Running sgld for 1000 iterations\n",
      "Iteration 0/1000\n",
      "\n",
      "Running time 0.81min\n",
      "Running sgld for 1000 iterations\n",
      "Iteration 0/1000\n",
      "\n",
      "Running time 0.80min\n",
      "Running sgld for 1000 iterations\n",
      "Iteration 0/1000\n",
      "\n",
      "Running time 0.75min\n",
      "Running sgld for 1000 iterations\n",
      "Iteration 0/1000\n",
      "\n",
      "Running time 0.75min\n",
      "Running sgld for 1000 iterations\n",
      "Iteration 0/1000\n",
      "\n",
      "Running time 0.75min\n",
      "Running sgld for 1000 iterations\n",
      "Iteration 0/1000\n",
      "\n",
      "Running time 0.76min\n",
      "Running sgld for 1000 iterations\n",
      "Iteration 0/1000\n",
      "\n",
      "Running time 0.76min\n",
      "Running sgld for 1000 iterations\n",
      "Iteration 0/1000\n",
      "\n",
      "Running time 0.91min\n",
      "Running sgld for 1000 iterations\n",
      "Iteration 0/1000\n",
      "\n",
      "Running time 0.95min\n",
      "Running sgld for 1000 iterations\n",
      "Iteration 0/1000\n",
      "\n",
      "Running time 0.95min\n",
      "Running sgld for 1000 iterations\n",
      "Iteration 0/1000\n",
      "\n",
      "Running time 0.74min\n",
      "Running sgld for 1000 iterations\n",
      "Iteration 0/1000\n",
      "\n",
      "Running time 0.56min\n",
      "Running sgld for 1000 iterations\n",
      "Iteration 0/1000\n",
      "\n",
      "Running time 0.60min\n",
      "Running sgld for 1000 iterations\n",
      "Iteration 0/1000\n",
      "\n",
      "Running time 0.62min\n",
      "\n",
      "Running time for grid search: 1014.2sec\n",
      "dt for the smallest logloss: 10^-3.25\n"
     ]
    }
   ],
   "source": [
    "key = random.PRNGKey(0)\n",
    "\n",
    "key, subkey = random.split(key)\n",
    "params_IC = add_noise_NN_params(subkey, load_NN_MAP(), 1.)\n",
    "\n",
    "log_dt_array_NN = -jnp.arange(2,7, 0.25) # linear grid on a log scale\n",
    "dt_array = 10.**log_dt_array_NN\n",
    "print(f\"Grid search for {log_dt_array_NN.shape[0]} grid points\\n\")\n",
    "starttime = time.time()\n",
    "grid_accuracy_NN_svrg = []\n",
    "for dt in tqdm(dt_array):\n",
    "    grid_accuracy_NN_svrg.append(get_accuracy_NN_svrg(key, dt, params_IC))\n",
    "\n",
    "\n",
    "print(f\"Running time for grid search: {time.time() - starttime:.1f}sec\")\n",
    "\n",
    "opt_log_dt_NN_svrg = log_dt_array_NN[np.nanargmax(grid_accuracy_NN_svrg)]\n",
    "print(f\"dt for the smallest logloss: 10^{opt_log_dt_NN_svrg:.2f}\")\n",
    "\n"
   ]
  },
  {
   "cell_type": "code",
   "execution_count": null,
   "metadata": {},
   "outputs": [],
   "source": []
  },
  {
   "cell_type": "markdown",
   "metadata": {},
   "source": [
    "#### plot gridsearch result"
   ]
  },
  {
   "cell_type": "code",
   "execution_count": null,
   "metadata": {},
   "outputs": [],
   "source": [
    "# grid_accuracy_NN_svrg_logdt = [elem[0] for elem in grid_accuracy_NN_svrg]"
   ]
  },
  {
   "cell_type": "code",
   "execution_count": 28,
   "metadata": {},
   "outputs": [
    {
     "data": {
      "image/png": "[encoded data removed]",
      "text/plain": [
       "<Figure size 504x360 with 1 Axes>"
      ]
     },
     "metadata": {},
     "output_type": "display_data"
    }
   ],
   "source": [
    "# noise `scale=1`\n",
    "plt.rcParams.update({'font.size':15})\n",
    "plt.figure(figsize=(7, 5))\n",
    "\n",
    "plt.plot(log_dt_array_NN, grid_accuracy_NN_svrg, marker=\"x\", markersize=10, lw=0.7)\n",
    "plt.xlabel(\"log(dt)\", size=20)\n",
    "plt.title(f\"log-loss after {10000} iterations\", size=20)\n",
    "plt.ylabel(\"logloss\", size=20)\n",
    "plt.axvline(opt_log_dt_NN_svrg, c='r', alpha=0.8)\n",
    "plt.show()\n",
    "\n"
   ]
  },
  {
   "cell_type": "code",
   "execution_count": null,
   "metadata": {},
   "outputs": [],
   "source": []
  },
  {
   "cell_type": "code",
   "execution_count": null,
   "metadata": {},
   "outputs": [],
   "source": []
  },
  {
   "cell_type": "code",
   "execution_count": null,
   "metadata": {},
   "outputs": [],
   "source": []
  },
  {
   "cell_type": "code",
   "execution_count": null,
   "metadata": {},
   "outputs": [],
   "source": []
  },
  {
   "cell_type": "markdown",
   "metadata": {},
   "source": [
    "# sghmc: gridsearch\n",
    "\n",
    "Optimal: `1e-05, 26`\n"
   ]
  },
  {
   "cell_type": "code",
   "execution_count": 57,
   "metadata": {},
   "outputs": [],
   "source": [
    "\n",
    "def get_accuracy_NN_sghmc(key, dt, L, params_IC):\n",
    "    Nsamples = 500\n",
    "    batch_size = int(X_train.shape[0]*0.1)\n",
    "    save_rate = 10\n",
    "    samples = run_sghmc_NN(key, Nsamples, dt, batch_size, params_IC, L, save_rate=save_rate)\n",
    "    return accuracy_BNN(samples[::2], X_test, y_test)\n",
    "\n"
   ]
  },
  {
   "cell_type": "code",
   "execution_count": 67,
   "metadata": {},
   "outputs": [
    {
     "data": {
      "text/plain": [
       "41.06666666666667"
      ]
     },
     "execution_count": 67,
     "metadata": {},
     "output_type": "execute_result"
    }
   ],
   "source": [
    "2464/60"
   ]
  },
  {
   "cell_type": "code",
   "execution_count": 58,
   "metadata": {},
   "outputs": [
    {
     "name": "stdout",
     "output_type": "stream",
     "text": [
      "25\n"
     ]
    }
   ],
   "source": [
    "key = random.PRNGKey(0)\n",
    "batch_size = int(X_train.shape[0]*0.1)\n",
    "\n",
    "log_dt_array_NN = -jnp.arange(2, 7, 1.)\n",
    "L_array = jnp.arange(2, 30, 6)\n",
    "dt_array = 10.**log_dt_array_NN\n",
    "\n",
    "dt_L_combinations = [(a,b) for a in dt_array for b in L_array]\n",
    "print(len(dt_L_combinations))"
   ]
  },
  {
   "cell_type": "code",
   "execution_count": 59,
   "metadata": {},
   "outputs": [
    {
     "name": "stdout",
     "output_type": "stream",
     "text": [
      "Grid search for 25 grid points\n",
      "\n"
     ]
    },
    {
     "data": {
      "application/vnd.jupyter.widget-view+json": {
       "model_id": "7ce5cb3fce614c11b60b42d2a01695ca",
       "version_major": 2,
       "version_minor": 0
      },
      "text/plain": [
       "HBox(children=(FloatProgress(value=0.0, max=25.0), HTML(value='')))"
      ]
     },
     "metadata": {},
     "output_type": "display_data"
    },
    {
     "name": "stdout",
     "output_type": "stream",
     "text": [
      "\n",
      "Running time for grid search: 3803.9sec\n"
     ]
    }
   ],
   "source": [
    "key = random.PRNGKey(0)\n",
    "\n",
    "key, subkey = random.split(key)\n",
    "params_IC = add_noise_NN_params(subkey, load_NN_MAP(), 1.)\n",
    "\n",
    "\n",
    "print(f\"Grid search for {len(dt_L_combinations)} grid points\\n\")\n",
    "\n",
    "starttime = time.time()\n",
    "\n",
    "grid_accuracy_NN_sghmc = []\n",
    "\n",
    "for dt, L in tqdm(dt_L_combinations):\n",
    "    grid_accuracy_NN_sghmc.append(get_accuracy_NN_sghmc(key, dt, L, params_IC))\n",
    "\n",
    "\n",
    "\n",
    "print(f\"Running time for grid search: {time.time() - starttime:.1f}sec\")\n"
   ]
  },
  {
   "cell_type": "code",
   "execution_count": 63,
   "metadata": {},
   "outputs": [
    {
     "name": "stdout",
     "output_type": "stream",
     "text": [
      "dt, L for the highest accuracy: 0.000010, 26\n"
     ]
    }
   ],
   "source": [
    "\n",
    "opt_log_dt_NN_sghmc = dt_L_combinations[np.nanargmax(grid_accuracy_NN_sghmc)]\n",
    "print(f\"dt, L for the highest accuracy: {opt_log_dt_NN_sghmc[0]:.6f}, {int(opt_log_dt_NN_sghmc[1])}\")\n"
   ]
  },
  {
   "cell_type": "code",
   "execution_count": 64,
   "metadata": {},
   "outputs": [
    {
     "data": {
      "text/plain": [
       "{(0.01, 2): DeviceArray(0.098, dtype=float32),\n",
       " (0.01, 8): Buffer(0.10089999, dtype=float32),\n",
       " (0.01, 14): Buffer(0.1135, dtype=float32),\n",
       " (0.01, 20): Buffer(0.0892, dtype=float32),\n",
       " (0.01, 26): Buffer(0.0892, dtype=float32),\n",
       " (0.001, 2): Buffer(0.0982, dtype=float32),\n",
       " (0.001, 8): Buffer(0.0982, dtype=float32),\n",
       " (0.001, 14): Buffer(0.0892, dtype=float32),\n",
       " (0.001, 20): Buffer(0.1135, dtype=float32),\n",
       " (0.001, 26): Buffer(0.1032, dtype=float32),\n",
       " (1e-04, 2): Buffer(0.9134, dtype=float32),\n",
       " (1e-04, 8): Buffer(0.3398, dtype=float32),\n",
       " (1e-04, 14): Buffer(0.3367, dtype=float32),\n",
       " (1e-04, 20): Buffer(0.098, dtype=float32),\n",
       " (1e-04, 26): Buffer(0.09739999, dtype=float32),\n",
       " (1e-05, 2): Buffer(0.7635, dtype=float32),\n",
       " (1e-05, 8): Buffer(0.9255, dtype=float32),\n",
       " (1e-05, 14): Buffer(0.9296, dtype=float32),\n",
       " (1e-05, 20): Buffer(0.92359996, dtype=float32),\n",
       " (1e-05, 26): Buffer(0.9352, dtype=float32),\n",
       " (1e-06, 2): Buffer(0.43809998, dtype=float32),\n",
       " (1e-06, 8): Buffer(0.8724, dtype=float32),\n",
       " (1e-06, 14): Buffer(0.9122, dtype=float32),\n",
       " (1e-06, 20): Buffer(0.9213, dtype=float32),\n",
       " (1e-06, 26): Buffer(0.9237, dtype=float32)}"
      ]
     },
     "execution_count": 64,
     "metadata": {},
     "output_type": "execute_result"
    }
   ],
   "source": [
    "gridsearch_dict = {k:v for k,v in zip(dt_L_combinations, grid_accuracy_NN_sghmc)}\n",
    "gridsearch_dict"
   ]
  },
  {
   "cell_type": "code",
   "execution_count": 62,
   "metadata": {},
   "outputs": [
    {
     "name": "stdout",
     "output_type": "stream",
     "text": [
      "dt, L for the highest accuracy: (1e-05, 26)\n"
     ]
    }
   ],
   "source": [
    "print(f\"dt, L for the highest accuracy: {opt_log_dt_NN_sghmc}\")"
   ]
  },
  {
   "cell_type": "code",
   "execution_count": null,
   "metadata": {},
   "outputs": [],
   "source": []
  },
  {
   "cell_type": "code",
   "execution_count": null,
   "metadata": {},
   "outputs": [],
   "source": []
  },
  {
   "cell_type": "code",
   "execution_count": null,
   "metadata": {},
   "outputs": [],
   "source": []
  },
  {
   "cell_type": "code",
   "execution_count": null,
   "metadata": {},
   "outputs": [],
   "source": []
  }
 ],
 "metadata": {
  "kernelspec": {
   "display_name": "Python 3",
   "language": "python",
   "name": "python3"
  },
  "language_info": {
   "codemirror_mode": {
    "name": "ipython",
    "version": 3
   },
   "file_extension": ".py",
   "mimetype": "text/x-python",
   "name": "python",
   "nbconvert_exporter": "python",
   "pygments_lexer": "ipython3",
   "version": "3.8.5"
  }
 },
 "nbformat": 4,
 "nbformat_minor": 4
}
