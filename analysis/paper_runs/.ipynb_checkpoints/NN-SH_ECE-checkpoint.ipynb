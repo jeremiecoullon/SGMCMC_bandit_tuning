{
 "cells": [
  {
   "cell_type": "code",
   "execution_count": 1,
   "metadata": {},
   "outputs": [
    {
     "name": "stderr",
     "output_type": "stream",
     "text": [
      "WARNING:absl:No GPU/TPU found, falling back to CPU. (Set TF_CPP_MIN_LOG_LEVEL=0 and rerun for more info.)\n"
     ]
    }
   ],
   "source": [
    "%matplotlib inline\n",
    "import matplotlib.pyplot as plt\n",
    "import seaborn as sns\n",
    "import numpy as np\n",
    "import time\n",
    "\n",
    "from collections import OrderedDict\n",
    "\n",
    "import jax.numpy as jnp\n",
    "from jax import value_and_grad, grad, jit, vmap, partial\n",
    "from jax import random, ops, lax\n",
    "\n",
    "import context \n",
    "\n",
    "\n",
    "from examples.bayesian_NN.NN_data import X_train, X_test, y_train, y_test\n",
    "from examples.bayesian_NN.NN_model import init_network, predict, accuracy, log_post, grad_log_post, batch_loglik\n",
    "from examples.bayesian_NN.sampler import sgld_NN, kernel_NN\n",
    "from examples.bayesian_NN.util import flatten_NN_params, load_NN_MAP, flatten_NN_params_jaxscan\n",
    "from examples.bayesian_NN.sampler import sgld_NN_time_budget, sgld_NN_time_budget_CV, scan_NN\n",
    "\n",
    "from examples.bayesian_NN.svrg import sgld_NN_time_budget_svrg\n",
    "from examples.bayesian_NN.sghmc import sghmc_NN_time_budget\n",
    "\n",
    "from successive_halving.sh import Base_SGLD_SuccHalv_Time, run_SH_time_budget_keep_3\n",
    "from successive_halving.sh import create_T_list_2params, create_T_list_svrg, create_T_list_sghmc\n",
    "from ksd import imq_KSD\n",
    "from util import wait_until_computed\n",
    "\n",
    "\n",
    "from examples.bayesian_NN.NN_model import get_ECE_MCE"
   ]
  },
  {
   "cell_type": "markdown",
   "metadata": {},
   "source": [
    "## SH - NN"
   ]
  },
  {
   "cell_type": "code",
   "execution_count": 13,
   "metadata": {},
   "outputs": [
    {
     "name": "stdout",
     "output_type": "stream",
     "text": [
      "866\n"
     ]
    }
   ],
   "source": [
    "time_budget = 2\n",
    "\n",
    "key = random.PRNGKey(0)\n",
    "dt = 10**(-4.75)\n",
    "batch_size = int(X_train.shape[0]*0.01)\n",
    "params_IC = load_NN_MAP()\n",
    "\n",
    "samples_NN_default, _ = sgld_NN_time_budget(key, time_budget, grad_log_post, dt, \n",
    "                                            batch_size, params_IC, X_train, y_train, save_rate=10)\n",
    "\n",
    "print(len(samples_NN_default))"
   ]
  },
  {
   "cell_type": "code",
   "execution_count": 14,
   "metadata": {},
   "outputs": [
    {
     "data": {
      "text/plain": [
       "(0.011109485626220703, DeviceArray(0.17217025, dtype=float32))"
      ]
     },
     "execution_count": 14,
     "metadata": {},
     "output_type": "execute_result"
    }
   ],
   "source": [
    "flat_samples_NN = flatten_NN_params(samples_NN_default)\n",
    "\n",
    "# get_ECE_MCE(flat_samples_NN, X_test, y_test, M=10, pbar=False)"
   ]
  },
  {
   "cell_type": "code",
   "execution_count": 16,
   "metadata": {},
   "outputs": [
    {
     "data": {
      "application/vnd.jupyter.widget-view+json": {
       "model_id": "7e587fe320034370b018ab725c51f654",
       "version_major": 2,
       "version_minor": 0
      },
      "text/plain": [
       "HBox(children=(FloatProgress(value=0.0, max=10.0), HTML(value='')))"
      ]
     },
     "metadata": {},
     "output_type": "display_data"
    },
    {
     "name": "stdout",
     "output_type": "stream",
     "text": [
      "\n"
     ]
    },
    {
     "data": {
      "text/plain": [
       "(0.01101431884765625, DeviceArray(0.17034847, dtype=float32))"
      ]
     },
     "execution_count": 16,
     "metadata": {},
     "output_type": "execute_result"
    }
   ],
   "source": [
    "get_ECE_MCE(flat_samples_NN[::2], X_test, y_test, M=10, pbar=True)"
   ]
  },
  {
   "cell_type": "code",
   "execution_count": null,
   "metadata": {},
   "outputs": [],
   "source": []
  },
  {
   "cell_type": "code",
   "execution_count": null,
   "metadata": {},
   "outputs": [],
   "source": []
  },
  {
   "cell_type": "code",
   "execution_count": null,
   "metadata": {},
   "outputs": [],
   "source": []
  },
  {
   "cell_type": "code",
   "execution_count": 17,
   "metadata": {},
   "outputs": [],
   "source": [
    "\n",
    "class NN_succ_halving_ECE(Base_SGLD_SuccHalv_Time):\n",
    "    \n",
    "    def __init__(self, key, logdt, batch_size_ratio, thin_step):\n",
    "        self.key = key\n",
    "        self.logdt = logdt\n",
    "        self.save_rate = thin_step\n",
    "        self.batch_size_ratio = batch_size_ratio\n",
    "        self.x_0 = load_NN_MAP()\n",
    "        self.last_sample = None\n",
    "        super(NN_succ_halving_ECE, self).__init__(self.key, self.logdt, self.x_0)\n",
    "        \n",
    "    def _run_sampler(self, key, time_budget, x_0):\n",
    "        dt = 10**self.logdt\n",
    "        batch_size = int(self.batch_size_ratio*X_train.shape[0])\n",
    "        samples, _ = sgld_NN_time_budget(key, time_budget, grad_log_post, \n",
    "                        dt, batch_size, x_0, X_train, y_train, save_rate=self.save_rate)\n",
    "        if samples == []:\n",
    "            return None, None\n",
    "        else:\n",
    "            pass\n",
    "        try:\n",
    "            self.last_sample = samples[-1]\n",
    "        except:\n",
    "            pass\n",
    "        \n",
    "        flat_samples = flatten_NN_params(samples)\n",
    "        flat_grads = flat_samples # don't need the gradients for ECE\n",
    "        return flat_samples, flat_grads\n",
    "    \n",
    "    def get_ksd(self):\n",
    "        \"get ECE rather than KSD\"\n",
    "        try:\n",
    "            if any(np.isnan(self.samples[-1])):\n",
    "                return 1e10\n",
    "            else: pass\n",
    "            self.KSD = get_ECE_MCE(self.samples, X_test, y_test, M=10, pbar=False)[0]\n",
    "            return self.KSD\n",
    "        except:\n",
    "            return 1e10\n",
    "    \n",
    "    def get_last_sample(self):\n",
    "        return self.last_sample\n",
    "    \n"
   ]
  },
  {
   "cell_type": "markdown",
   "metadata": {},
   "source": [
    "### test SH class"
   ]
  },
  {
   "cell_type": "code",
   "execution_count": 18,
   "metadata": {},
   "outputs": [
    {
     "name": "stdout",
     "output_type": "stream",
     "text": [
      "23\n",
      "0.019670138549804688\n"
     ]
    }
   ],
   "source": [
    "key = random.PRNGKey(0)\n",
    "my_sgld = NN_succ_halving_ECE(random.PRNGKey(0), logdt=-5., batch_size_ratio=0.1, thin_step=10)\n",
    "\n",
    "\n",
    "my_sgld.run(5)\n",
    "print(my_sgld.len_samples)\n",
    "print(my_sgld.get_ksd())"
   ]
  },
  {
   "cell_type": "code",
   "execution_count": 19,
   "metadata": {},
   "outputs": [
    {
     "name": "stdout",
     "output_type": "stream",
     "text": [
      "4\n",
      "0.020552792358398436\n"
     ]
    }
   ],
   "source": [
    "key = random.PRNGKey(1)\n",
    "my_sgld = NN_succ_halving_ECE(random.PRNGKey(0), logdt=-5., batch_size_ratio=0.1, thin_step=10)\n",
    "\n",
    "\n",
    "my_sgld.run(1)\n",
    "print(my_sgld.len_samples)\n",
    "print(my_sgld.get_ksd())"
   ]
  },
  {
   "cell_type": "code",
   "execution_count": 20,
   "metadata": {},
   "outputs": [
    {
     "name": "stdout",
     "output_type": "stream",
     "text": [
      "19\n",
      "0.0191966064453125\n"
     ]
    }
   ],
   "source": [
    "my_sgld.run(4)\n",
    "print(my_sgld.len_samples)\n",
    "print(my_sgld.get_ksd())"
   ]
  },
  {
   "cell_type": "code",
   "execution_count": null,
   "metadata": {},
   "outputs": [],
   "source": []
  },
  {
   "cell_type": "markdown",
   "metadata": {},
   "source": [
    "### try different parameters"
   ]
  },
  {
   "cell_type": "code",
   "execution_count": 23,
   "metadata": {},
   "outputs": [
    {
     "name": "stdout",
     "output_type": "stream",
     "text": [
      "1\n",
      "0.021060829162597657\n"
     ]
    }
   ],
   "source": [
    "key = random.PRNGKey(0)\n",
    "my_sgld = NN_succ_halving_ECE(random.PRNGKey(0), logdt=-5., batch_size_ratio=1, thin_step=10)\n",
    "\n",
    "\n",
    "my_sgld.run(5)\n",
    "print(my_sgld.len_samples)\n",
    "print(my_sgld.get_ksd())"
   ]
  },
  {
   "cell_type": "code",
   "execution_count": 24,
   "metadata": {},
   "outputs": [
    {
     "name": "stdout",
     "output_type": "stream",
     "text": [
      "16\n",
      "0.4029949951171875\n"
     ]
    }
   ],
   "source": [
    "key = random.PRNGKey(0)\n",
    "my_sgld = NN_succ_halving_ECE(random.PRNGKey(0), logdt=-3., batch_size_ratio=0.1, thin_step=10)\n",
    "\n",
    "\n",
    "my_sgld.run(5)\n",
    "print(my_sgld.len_samples)\n",
    "print(my_sgld.get_ksd())"
   ]
  },
  {
   "cell_type": "code",
   "execution_count": 25,
   "metadata": {},
   "outputs": [
    {
     "name": "stdout",
     "output_type": "stream",
     "text": [
      "1\n",
      "0.442045556640625\n"
     ]
    }
   ],
   "source": [
    "key = random.PRNGKey(0)\n",
    "my_sgld = NN_succ_halving_ECE(random.PRNGKey(0), logdt=-3., batch_size_ratio=1, thin_step=10)\n",
    "\n",
    "\n",
    "my_sgld.run(5)\n",
    "print(my_sgld.len_samples)\n",
    "print(my_sgld.get_ksd())"
   ]
  },
  {
   "cell_type": "code",
   "execution_count": 26,
   "metadata": {},
   "outputs": [
    {
     "name": "stdout",
     "output_type": "stream",
     "text": [
      "16\n",
      "0.019932244873046876\n"
     ]
    }
   ],
   "source": [
    "key = random.PRNGKey(0)\n",
    "my_sgld = NN_succ_halving_ECE(random.PRNGKey(0), logdt=-5., batch_size_ratio=0.1, thin_step=10)\n",
    "\n",
    "\n",
    "my_sgld.run(5)\n",
    "print(my_sgld.len_samples)\n",
    "print(my_sgld.get_ksd())"
   ]
  },
  {
   "cell_type": "code",
   "execution_count": 27,
   "metadata": {},
   "outputs": [
    {
     "name": "stdout",
     "output_type": "stream",
     "text": [
      "101\n",
      "0.018306248474121094\n"
     ]
    }
   ],
   "source": [
    "key = random.PRNGKey(0)\n",
    "my_sgld = NN_succ_halving_ECE(random.PRNGKey(0), logdt=-5., batch_size_ratio=0.01, thin_step=10)\n",
    "\n",
    "\n",
    "my_sgld.run(5)\n",
    "print(my_sgld.len_samples)\n",
    "print(my_sgld.get_ksd())"
   ]
  },
  {
   "cell_type": "code",
   "execution_count": null,
   "metadata": {},
   "outputs": [],
   "source": []
  },
  {
   "cell_type": "code",
   "execution_count": null,
   "metadata": {},
   "outputs": [],
   "source": []
  },
  {
   "cell_type": "code",
   "execution_count": null,
   "metadata": {},
   "outputs": [],
   "source": []
  },
  {
   "cell_type": "markdown",
   "metadata": {},
   "source": [
    "\n",
    "## SH-KSD for NN\n",
    "\n"
   ]
  },
  {
   "cell_type": "code",
   "execution_count": 33,
   "metadata": {},
   "outputs": [
    {
     "name": "stdout",
     "output_type": "stream",
     "text": [
      "r=0.200\n",
      "Number of iterations: 4\n",
      "Total budget: around 72 sec\n",
      "=====\n",
      "\n",
      "Iteration 0: 90 configurations with 0.200 seconds each\n",
      "Combinations: [(-2.9291453, 0.93260336), (-6.4782596, 0.00811131), (-5.5711884, 0.024770763), (-4.7319803, 0.003764935), (-6.044933, 0.0053366995), (-4.836668, 0.015199109), (-3.7557585, 0.017475285), (-3.0864086, 0.869749), (-2.750773, 0.49770236), (-6.2133875, 0.0061359066), (-6.2843676, 0.020092327), (-5.797586, 0.0053366995), (-2.1424685, 0.4328761), (-3.8307626, 0.017475285), (-2.713562, 0.0013219408), (-3.0279179, 0.010722672), (-4.327333, 0.0010722672), (-5.3738036, 0.037649363), (-5.0438943, 0.16297507), (-5.0316076, 0.0010722672), (-2.7530785, 0.14174742), (-2.9914374, 0.040370174), (-3.1181636, 0.0028480361), (-5.4463973, 0.5722368), (-5.470988, 0.020092327), (-2.6559381, 0.0035111913), (-3.0144324, 0.13219412), (-6.1687517, 0.16297507), (-6.3341594, 0.057223674), (-4.1798353, 0.010722672), (-6.433, 0.869749), (-3.1092925, 0.0012328465), (-5.62562, 0.1149757), (-5.8155127, 0.028480362), (-4.685914, 0.00811131), (-3.0072458, 0.0053366995), (-6.900423, 0.030538555), (-2.0247598, 0.40370172), (-2.7489386, 0.7054802), (-3.312058, 0.08697491), (-6.9565215, 0.0021544343), (-5.977781, 0.0057223677), (-2.5438142, 0.014174741), (-5.9351597, 0.030538555), (-2.9429984, 0.028480362), (-3.311627, 0.20092331), (-6.858089, 0.6135907), (-2.796133, 0.0014174745), (-5.056478, 0.5722368), (-6.390279, 0.0021544343), (-5.728223, 0.21544346), (-4.253462, 0.020092327), (-3.1437535, 0.08697491), (-3.1290498, 0.057223674), (-5.8777184, 0.5336699), (-4.3062177, 0.0075646355), (-4.3022003, 0.06579333), (-3.5621126, 0.1), (-5.187175, 0.010722672), (-3.3565087, 0.37649357), (-3.0452394, 0.001629751), (-4.7952933, 0.0132194115), (-3.0058236, 0.030538555), (-6.120002, 0.0075646355), (-4.1204424, 0.0053366995), (-5.6204176, 0.0026560882), (-3.9624102, 0.0017475284), (-3.759408, 0.03274549), (-3.3405526, 0.003274549), (-6.952619, 0.0018738173), (-6.330778, 0.017475285), (-2.392652, 0.0030538556), (-5.4605937, 0.0011497568), (-3.124525, 0.004977024), (-5.1364145, 0.037649363), (-4.3694468, 0.011497568), (-2.1133213, 0.003764935), (-6.611598, 0.21544346), (-5.5917406, 0.6135907), (-6.523905, 0.16297507), (-2.0799122, 0.0053366995), (-5.480715, 0.0035111913), (-2.0501995, 0.004977024), (-6.4006014, 0.5722368), (-2.0104008, 0.004977024), (-5.086786, 0.1149757), (-6.172817, 0.001), (-6.455312, 0.16297507), (-5.8466883, 0.004328762), (-3.3227587, 0.008697491)]\n",
      "Number of samples: \n",
      "[0, 6, 2, 7, 9, 4, 3, 0, 0, 6, 3, 6, 0, 2, 8, 4, 10, 2, 0, 8, 0, 2, 8, 0, 2, 7, 0, 0, 1, 4, 0, 9, 1, 3, 4, 5, 2, 0, 0, 1, 7, 5, 5, 2, 2, 0, 0, 9, 0, 8, 0, 2, 0, 1, 0, 5, 1, 1, 3, 0, 9, 4, 1, 4, 5, 8, 8, 2, 8, 8, 2, 6, 9, 8, 1, 4, 5, 0, 0, 0, 5, 6, 5, 0, 5, 0, 10, 0, 8, 5]\n",
      "Calculating KSD for each sampler\n",
      "Calculating KSD for each sampler\n",
      "\n",
      "Iteration 1: 30 configurations with 0.600 seconds each\n",
      "Combinations: [(-4.7319803, 0.003764935), (-4.685914, 0.00811131), (-5.0316076, 0.0010722672), (-4.836668, 0.015199109), (-6.044933, 0.0053366995), (-5.470988, 0.020092327), (-5.797586, 0.0053366995), (-5.9351597, 0.030538555), (-5.5711884, 0.024770763), (-5.3738036, 0.037649363), (-5.977781, 0.0057223677), (-5.8155127, 0.028480362), (-6.2133875, 0.0061359066), (-5.62562, 0.1149757), (-6.4782596, 0.00811131), (-6.3341594, 0.057223674), (-6.2843676, 0.020092327), (-6.900423, 0.030538555), (-6.9565215, 0.0021544343), (-3.0279179, 0.010722672), (-3.8307626, 0.017475285), (-3.7557585, 0.017475285), (-2.9429984, 0.028480362), (-2.9914374, 0.040370174), (-4.327333, 0.0010722672), (-3.312058, 0.08697491), (-3.1092925, 0.0012328465), (-3.1181636, 0.0028480361), (-2.9291453, 0.93260336), (-3.0864086, 0.869749)]\n",
      "Number of samples: \n",
      "[26, 16, 33, 12, 21, 9, 20, 8, 9, 6, 21, 9, 21, 2, 19, 3, 10, 7, 27, 13, 8, 9, 6, 5, 22, 3, 27, 23, 0, 0]\n",
      "Calculating KSD for each sampler\n",
      "Calculating KSD for each sampler\n",
      "\n",
      "Iteration 2: 10 configurations with 1.800 seconds each\n",
      "Combinations: [(-4.7319803, 0.003764935), (-5.0316076, 0.0010722672), (-4.685914, 0.00811131), (-6.044933, 0.0053366995), (-5.977781, 0.0057223677), (-4.836668, 0.015199109), (-5.797586, 0.0053366995), (-6.4782596, 0.00811131), (-5.8155127, 0.028480362), (-5.470988, 0.020092327)]\n",
      "Number of samples: \n",
      "[78, 99, 53, 67, 67, 42, 68, 60, 29, 33]\n",
      "Calculating KSD for each sampler\n",
      "Calculating KSD for each sampler\n",
      "\n",
      "Iteration 3: 3 configurations with 5.400 seconds each\n",
      "Combinations: [(-5.0316076, 0.0010722672), (-4.7319803, 0.003764935), (-4.685914, 0.00811131)]\n",
      "Number of samples: \n",
      "[310, 236, 180]\n",
      "Calculating KSD for each sampler\n",
      "Calculating KSD for each sampler\n",
      "Running time: 968.04sec\n"
     ]
    }
   ],
   "source": [
    "\n",
    "R = 8 # total time budget for longest runs\n",
    "n = 90 # number of step sizes to try at first\n",
    "r = R/40\n",
    "thin_step = 10\n",
    "eta = 3 # cut trials by 3 every time\n",
    "\n",
    "print(f\"r={r:.3f}\")\n",
    "key = random.PRNGKey(0)\n",
    "\n",
    "sampler_dict_sgld = run_SH_time_budget_keep_3(key, r, n ,eta, thin_step, \n",
    "                                  NN_succ_halving_ECE, create_T_list_2params, X_train.shape[0])\n",
    "\n"
   ]
  },
  {
   "cell_type": "code",
   "execution_count": 35,
   "metadata": {},
   "outputs": [
    {
     "name": "stdout",
     "output_type": "stream",
     "text": [
      "(-5.0316076, 0.0010722672) 3100 0.013025357055664063\n",
      "(-4.7319803, 0.003764935) 2360 0.013391537475585937\n",
      "(-4.685914, 0.00811131) 1800 0.015119924926757813\n"
     ]
    }
   ],
   "source": [
    "# key = 0\n",
    "# running time: 13min 30sec\n",
    "for k,v in sampler_dict_sgld.items():\n",
    "    print(k, v.len_samples*thin_step, v.KSD)"
   ]
  },
  {
   "cell_type": "code",
   "execution_count": 22,
   "metadata": {},
   "outputs": [
    {
     "name": "stdout",
     "output_type": "stream",
     "text": [
      "(-4.846458, 0.004328762) 4680 0.013626751708984376\n",
      "(-4.857614, 0.04977024) 700 0.01661865997314453\n",
      "(-4.8506765, 0.01629751) 1860 0.016694073486328124\n"
     ]
    }
   ],
   "source": [
    "# key = 1\n",
    "# running time: 4 min\n",
    "for k,v in sampler_dict_sgld.items():\n",
    "    print(k, v.len_samples*thin_step, v.KSD)"
   ]
  },
  {
   "cell_type": "code",
   "execution_count": 24,
   "metadata": {},
   "outputs": [
    {
     "name": "stdout",
     "output_type": "stream",
     "text": [
      "(-4.885751, 0.0012328465) 3170 0.011815101623535156\n",
      "(-4.7569885, 0.001629751) 3580 0.014084030151367187\n",
      "(-4.700827, 0.028480362) 710 0.01746497344970703\n"
     ]
    }
   ],
   "source": [
    "# key = 2\n",
    "# running time: 6 min\n",
    "for k,v in sampler_dict_sgld.items():\n",
    "    print(k, v.len_samples*thin_step, v.KSD)"
   ]
  },
  {
   "cell_type": "code",
   "execution_count": null,
   "metadata": {},
   "outputs": [],
   "source": []
  },
  {
   "cell_type": "code",
   "execution_count": null,
   "metadata": {},
   "outputs": [],
   "source": []
  },
  {
   "cell_type": "code",
   "execution_count": null,
   "metadata": {},
   "outputs": [],
   "source": []
  },
  {
   "cell_type": "markdown",
   "metadata": {},
   "source": [
    "# svrg"
   ]
  },
  {
   "cell_type": "code",
   "execution_count": 2,
   "metadata": {},
   "outputs": [],
   "source": [
    "class NN_succ_halving_SVRG_ECE(Base_SGLD_SuccHalv_Time):\n",
    "    \n",
    "    def __init__(self, key, logdt, batch_size_ratio, thin_step):\n",
    "        self.key = key\n",
    "        self.logdt = logdt\n",
    "        self.save_rate = thin_step\n",
    "        self.batch_size_ratio = batch_size_ratio\n",
    "        self.x_0 = load_NN_MAP()\n",
    "        self.update_rate = 1000\n",
    "        self.last_sample = None\n",
    "        super(NN_succ_halving_SVRG_ECE, self).__init__(self.key, self.logdt, self.x_0)\n",
    "        \n",
    "    def _run_sampler(self, key, time_budget, x_0):\n",
    "        dt = 10**self.logdt\n",
    "        batch_size = int(self.batch_size_ratio*X_train.shape[0])\n",
    "        samples = sgld_NN_time_budget_svrg(key, time_budget, dt, batch_size, \n",
    "                                           x_0, self.update_rate, save_rate=self.save_rate)\n",
    "        if samples == []:\n",
    "            return None, None\n",
    "        else:\n",
    "            pass\n",
    "        try:\n",
    "            self.last_sample = samples[-1]\n",
    "        except:\n",
    "            pass\n",
    "        \n",
    "        flat_samples = flatten_NN_params(samples)\n",
    "        return flat_samples, flat_samples\n",
    "    \n",
    "    def get_ksd(self):\n",
    "        try:\n",
    "            if any(np.isnan(self.samples[-1])):\n",
    "                return 1e10\n",
    "            else: pass\n",
    "            self.KSD = get_ECE_MCE(self.samples, X_test, y_test, M=10, pbar=False)[0]\n",
    "            return self.KSD\n",
    "        except:\n",
    "            return 1e10\n",
    "    \n",
    "    def get_last_sample(self):\n",
    "        return self.last_sample\n",
    "    \n"
   ]
  },
  {
   "cell_type": "markdown",
   "metadata": {},
   "source": [
    "### test SH class"
   ]
  },
  {
   "cell_type": "code",
   "execution_count": 3,
   "metadata": {},
   "outputs": [
    {
     "name": "stdout",
     "output_type": "stream",
     "text": [
      "16\n",
      "0.019568865966796876\n"
     ]
    }
   ],
   "source": [
    "key = random.PRNGKey(0)\n",
    "my_svrg = NN_succ_halving_SVRG_ECE(random.PRNGKey(0), logdt=-5., batch_size_ratio=0.1, thin_step=10)\n",
    "\n",
    "\n",
    "my_svrg.run(5)\n",
    "print(my_svrg.len_samples)\n",
    "print(my_svrg.get_ksd())\n"
   ]
  },
  {
   "cell_type": "code",
   "execution_count": 4,
   "metadata": {},
   "outputs": [
    {
     "name": "stdout",
     "output_type": "stream",
     "text": [
      "6\n",
      "0.019401632690429688\n"
     ]
    }
   ],
   "source": [
    "key = random.PRNGKey(0)\n",
    "my_svrg = NN_succ_halving_SVRG_ECE(random.PRNGKey(0), logdt=-5., batch_size_ratio=0.1, thin_step=10)\n",
    "\n",
    "my_svrg.run(2)\n",
    "print(my_svrg.len_samples)\n",
    "print(my_svrg.get_ksd())\n"
   ]
  },
  {
   "cell_type": "code",
   "execution_count": 5,
   "metadata": {},
   "outputs": [
    {
     "name": "stdout",
     "output_type": "stream",
     "text": [
      "15\n",
      "0.02037673645019531\n"
     ]
    }
   ],
   "source": [
    "my_svrg.run(3)\n",
    "print(my_svrg.len_samples)\n",
    "print(my_svrg.get_ksd())\n",
    "\n"
   ]
  },
  {
   "cell_type": "code",
   "execution_count": 4,
   "metadata": {},
   "outputs": [
    {
     "data": {
      "text/plain": [
       "0.3"
      ]
     },
     "execution_count": 4,
     "metadata": {},
     "output_type": "execute_result"
    }
   ],
   "source": [
    "15/50"
   ]
  },
  {
   "cell_type": "code",
   "execution_count": 5,
   "metadata": {},
   "outputs": [
    {
     "data": {
      "text/plain": [
       "12.0"
      ]
     },
     "execution_count": 5,
     "metadata": {},
     "output_type": "execute_result"
    }
   ],
   "source": [
    "0.3 + 3*0.3 + 9*0.3 + 27*0.3"
   ]
  },
  {
   "cell_type": "code",
   "execution_count": 6,
   "metadata": {},
   "outputs": [
    {
     "data": {
      "text/plain": [
       "0.3"
      ]
     },
     "execution_count": 6,
     "metadata": {},
     "output_type": "execute_result"
    }
   ],
   "source": [
    "15/50"
   ]
  },
  {
   "cell_type": "code",
   "execution_count": 7,
   "metadata": {},
   "outputs": [
    {
     "data": {
      "text/plain": [
       "0.3"
      ]
     },
     "execution_count": 7,
     "metadata": {},
     "output_type": "execute_result"
    }
   ],
   "source": [
    "12/40"
   ]
  },
  {
   "cell_type": "markdown",
   "metadata": {},
   "source": [
    "#### run SH"
   ]
  },
  {
   "cell_type": "code",
   "execution_count": 6,
   "metadata": {
    "collapsed": true
   },
   "outputs": [
    {
     "name": "stdout",
     "output_type": "stream",
     "text": [
      "r=0.300\n",
      "Number of iterations: 4\n",
      "Total budget: around 108 sec\n",
      "=====\n",
      "\n",
      "Iteration 0: 90 configurations with 0.300 seconds each\n",
      "Combinations: [(-2.9291453, 0.93260336), (-6.4782596, 0.00811131), (-5.5711884, 0.024770763), (-4.7319803, 0.003764935), (-6.044933, 0.0053366995), (-4.836668, 0.015199109), (-3.7557585, 0.017475285), (-3.0864086, 0.869749), (-2.750773, 0.49770236), (-6.2133875, 0.0061359066), (-6.2843676, 0.020092327), (-5.797586, 0.0053366995), (-2.1424685, 0.4328761), (-3.8307626, 0.017475285), (-2.713562, 0.0013219408), (-3.0279179, 0.010722672), (-4.327333, 0.0010722672), (-5.3738036, 0.037649363), (-5.0438943, 0.16297507), (-5.0316076, 0.0010722672), (-2.7530785, 0.14174742), (-2.9914374, 0.040370174), (-3.1181636, 0.0028480361), (-5.4463973, 0.5722368), (-5.470988, 0.020092327), (-2.6559381, 0.0035111913), (-3.0144324, 0.13219412), (-6.1687517, 0.16297507), (-6.3341594, 0.057223674), (-4.1798353, 0.010722672), (-6.433, 0.869749), (-3.1092925, 0.0012328465), (-5.62562, 0.1149757), (-5.8155127, 0.028480362), (-4.685914, 0.00811131), (-3.0072458, 0.0053366995), (-6.900423, 0.030538555), (-2.0247598, 0.40370172), (-2.7489386, 0.7054802), (-3.312058, 0.08697491), (-6.9565215, 0.0021544343), (-5.977781, 0.0057223677), (-2.5438142, 0.014174741), (-5.9351597, 0.030538555), (-2.9429984, 0.028480362), (-3.311627, 0.20092331), (-6.858089, 0.6135907), (-2.796133, 0.0014174745), (-5.056478, 0.5722368), (-6.390279, 0.0021544343), (-5.728223, 0.21544346), (-4.253462, 0.020092327), (-3.1437535, 0.08697491), (-3.1290498, 0.057223674), (-5.8777184, 0.5336699), (-4.3062177, 0.0075646355), (-4.3022003, 0.06579333), (-3.5621126, 0.1), (-5.187175, 0.010722672), (-3.3565087, 0.37649357), (-3.0452394, 0.001629751), (-4.7952933, 0.0132194115), (-3.0058236, 0.030538555), (-6.120002, 0.0075646355), (-4.1204424, 0.0053366995), (-5.6204176, 0.0026560882), (-3.9624102, 0.0017475284), (-3.759408, 0.03274549), (-3.3405526, 0.003274549), (-6.952619, 0.0018738173), (-6.330778, 0.017475285), (-2.392652, 0.0030538556), (-5.4605937, 0.0011497568), (-3.124525, 0.004977024), (-5.1364145, 0.037649363), (-4.3694468, 0.011497568), (-2.1133213, 0.003764935), (-6.611598, 0.21544346), (-5.5917406, 0.6135907), (-6.523905, 0.16297507), (-2.0799122, 0.0053366995), (-5.480715, 0.0035111913), (-2.0501995, 0.004977024), (-6.4006014, 0.5722368), (-2.0104008, 0.004977024), (-5.086786, 0.1149757), (-6.172817, 0.001), (-6.455312, 0.16297507), (-5.8466883, 0.004328762), (-3.3227587, 0.008697491)]\n",
      "Number of samples: \n",
      "[0, 3, 2, 4, 4, 3, 3, 0, 0, 3, 2, 3, 0, 2, 4, 3, 4, 2, 0, 4, 0, 2, 4, 0, 2, 3, 0, 0, 1, 3, 0, 4, 1, 2, 3, 3, 2, 0, 0, 1, 4, 4, 3, 2, 2, 0, 0, 4, 0, 4, 0, 2, 1, 1, 0, 3, 1, 1, 2, 0, 4, 3, 2, 3, 3, 4, 4, 2, 4, 4, 2, 4, 4, 4, 1, 2, 3, 0, 0, 0, 2, 3, 3, 0, 3, 0, 4, 0, 4, 3]\n",
      "Calculating KSD for each sampler\n",
      "Calculating KSD for each sampler\n",
      "\n",
      "Iteration 1: 30 configurations with 0.900 seconds each\n",
      "Combinations: [(-2.5438142, 0.014174741), (-4.7319803, 0.003764935), (-5.0316076, 0.0010722672), (-4.685914, 0.00811131), (-4.836668, 0.015199109), (-5.797586, 0.0053366995), (-5.3738036, 0.037649363), (-5.5711884, 0.024770763), (-5.470988, 0.020092327), (-5.977781, 0.0057223677), (-6.044933, 0.0053366995), (-5.8155127, 0.028480362), (-5.9351597, 0.030538555), (-6.2133875, 0.0061359066), (-5.62562, 0.1149757), (-6.2843676, 0.020092327), (-6.4782596, 0.00811131), (-6.9565215, 0.0021544343), (-6.900423, 0.030538555), (-6.3341594, 0.057223674), (-4.1798353, 0.010722672), (-3.8307626, 0.017475285), (-2.713562, 0.0013219408), (-2.9914374, 0.040370174), (-3.312058, 0.08697491), (-3.0072458, 0.0053366995), (-3.7557585, 0.017475285), (-3.1181636, 0.0028480361), (-3.0279179, 0.010722672), (-3.1092925, 0.0012328465)]\n",
      "Number of samples: \n",
      "[11, 17, 16, 11, 9, 12, 6, 7, 7, 13, 14, 7, 7, 13, 3, 8, 12, 15, 6, 4, 11, 8, 16, 6, 3, 13, 10, 15, 11, 16]\n",
      "Calculating KSD for each sampler\n",
      "Calculating KSD for each sampler\n",
      "\n",
      "Iteration 2: 10 configurations with 2.700 seconds each\n",
      "Combinations: [(-5.0316076, 0.0010722672), (-4.7319803, 0.003764935), (-5.3738036, 0.037649363), (-5.470988, 0.020092327), (-4.836668, 0.015199109), (-4.685914, 0.00811131), (-6.044933, 0.0053366995), (-6.2133875, 0.0061359066), (-5.5711884, 0.024770763), (-5.8155127, 0.028480362)]\n",
      "Number of samples: \n",
      "[58, 44, 17, 24, 30, 39, 43, 42, 24, 21]\n",
      "Calculating KSD for each sampler\n",
      "Calculating KSD for each sampler\n",
      "\n",
      "Iteration 3: 3 configurations with 8.100 seconds each\n",
      "Combinations: [(-5.0316076, 0.0010722672), (-4.7319803, 0.003764935), (-4.685914, 0.00811131)]\n",
      "Number of samples: \n",
      "[184, 162, 135]\n",
      "Calculating KSD for each sampler\n",
      "Calculating KSD for each sampler\n",
      "Running time: 804.86sec\n"
     ]
    }
   ],
   "source": [
    "\n",
    "R = 12 # total time budget for longest runs\n",
    "n = 90 # number of step sizes to try at first\n",
    "r = R/40\n",
    "thin_step = 10\n",
    "eta = 3 # cut trials by 3 every time\n",
    "\n",
    "print(f\"r={r:.3f}\")\n",
    "key = random.PRNGKey(0)\n",
    "\n",
    "sampler_dict_svrg = run_SH_time_budget_keep_3(key, r, n ,eta, thin_step, \n",
    "                                  NN_succ_halving_SVRG_ECE, create_T_list_2params, X_train.shape[0])\n",
    "\n"
   ]
  },
  {
   "cell_type": "code",
   "execution_count": 7,
   "metadata": {
    "scrolled": true
   },
   "outputs": [
    {
     "name": "stdout",
     "output_type": "stream",
     "text": [
      "(-4.7319803, 0.003764935) 1620 0.014001058959960937\n",
      "(-5.0316076, 0.0010722672) 1840 0.014453311157226563\n",
      "(-4.685914, 0.00811131) 1350 0.015924351501464845\n"
     ]
    }
   ],
   "source": [
    "# key = 0\n",
    "# running time: 13 min \n",
    "for k,v in sampler_dict_svrg.items():\n",
    "    print(k, v.len_samples*thin_step, v.KSD)"
   ]
  },
  {
   "cell_type": "code",
   "execution_count": 9,
   "metadata": {},
   "outputs": [
    {
     "name": "stdout",
     "output_type": "stream",
     "text": [
      "(-4.846458, 0.004328762) 1370 0.01698354797363281\n",
      "(-4.8506765, 0.01629751) 810 0.01809205322265625\n",
      "(-5.3111, 0.003274549) 1390 0.01884635009765625\n"
     ]
    }
   ],
   "source": [
    "# key = 1\n",
    "# running time: 10 min \n",
    "for k,v in sampler_dict_svrg.items():\n",
    "    print(k, v.len_samples*thin_step, v.KSD)"
   ]
  },
  {
   "cell_type": "code",
   "execution_count": 11,
   "metadata": {},
   "outputs": [
    {
     "name": "stdout",
     "output_type": "stream",
     "text": [
      "(-4.7569885, 0.001629751) 1740 0.012007249450683594\n",
      "(-4.885751, 0.0012328465) 1770 0.013648966979980469\n",
      "(-4.6608067, 0.061359067) 370 0.01791618194580078\n"
     ]
    }
   ],
   "source": [
    "# key = 2\n",
    "# running time: 8 min \n",
    "for k,v in sampler_dict_svrg.items():\n",
    "    print(k, v.len_samples*thin_step, v.KSD)"
   ]
  },
  {
   "cell_type": "code",
   "execution_count": null,
   "metadata": {},
   "outputs": [],
   "source": []
  },
  {
   "cell_type": "markdown",
   "metadata": {},
   "source": [
    "## sg-hmc"
   ]
  },
  {
   "cell_type": "code",
   "execution_count": 32,
   "metadata": {},
   "outputs": [],
   "source": [
    "\n",
    "\n",
    "class NN_succ_halving_HMC_L_ECE(Base_SGLD_SuccHalv_Time):\n",
    "    \n",
    "    def __init__(self, key, logdt, batch_size_ratio, L, thin_step):\n",
    "        self.key = key\n",
    "        self.logdt = logdt\n",
    "        self.batch_size_ratio = batch_size_ratio\n",
    "        self.x_0 = load_NN_MAP()\n",
    "        self.L = L\n",
    "        self.thin_step = thin_step\n",
    "        self.last_sample = None\n",
    "        super(NN_succ_halving_HMC_L_ECE, self).__init__(self.key, self.logdt, self.x_0)\n",
    "        \n",
    "    def _run_sampler(self, key, time_budget, x_0):\n",
    "        dt = 10**self.logdt\n",
    "        batch_size = int(self.batch_size_ratio*X_train.shape[0])\n",
    "        samples = sghmc_NN_time_budget(key, time_budget, dt, batch_size, x_0, self.L, save_rate=self.thin_step)\n",
    "        if samples == []:\n",
    "            return None, None\n",
    "        else:\n",
    "            pass\n",
    "        try:\n",
    "            self.last_sample = samples[-1]\n",
    "        except:\n",
    "            pass    \n",
    "        flat_samples = flatten_NN_params(samples)\n",
    "        return flat_samples, flat_samples\n",
    "    \n",
    "    def get_ksd(self):\n",
    "        try:\n",
    "            if any(np.isnan(self.samples[-1])):\n",
    "                return 1e10\n",
    "            else: pass\n",
    "            # in case the ECE is nan\n",
    "            new_ECE = get_ECE_MCE(self.samples, X_test, y_test, M=10, pbar=False)[0]\n",
    "            self.KSD = np.where(not np.isnan(new_ECE), new_ECE, 1e10)\n",
    "            return self.KSD\n",
    "        except:\n",
    "            return 1e10\n",
    "    \n",
    "    def get_last_sample(self):\n",
    "        return self.last_sample\n",
    "    \n",
    "\n",
    "    "
   ]
  },
  {
   "cell_type": "markdown",
   "metadata": {},
   "source": [
    "### test SH class"
   ]
  },
  {
   "cell_type": "code",
   "execution_count": 33,
   "metadata": {},
   "outputs": [
    {
     "name": "stdout",
     "output_type": "stream",
     "text": [
      "0.020681869506835936\n",
      "13\n"
     ]
    }
   ],
   "source": [
    "\n",
    "key = random.PRNGKey(0)\n",
    "nn_my_hmc = NN_succ_halving_HMC_L_ECE(key, -7., 0.1, 10, 3)\n",
    "\n",
    "nn_my_hmc.run(5)\n",
    "print(nn_my_hmc.get_ksd())\n",
    "print(nn_my_hmc.len_samples)\n"
   ]
  },
  {
   "cell_type": "code",
   "execution_count": 34,
   "metadata": {},
   "outputs": [
    {
     "name": "stdout",
     "output_type": "stream",
     "text": [
      "0.02057274627685547\n",
      "6\n"
     ]
    }
   ],
   "source": [
    "\n",
    "key = random.PRNGKey(0)\n",
    "nn_my_hmc = NN_succ_halving_HMC_L_ECE(key, -7., 0.1, 10, 3)\n",
    "\n",
    "nn_my_hmc.run(2)\n",
    "print(nn_my_hmc.get_ksd())\n",
    "print(nn_my_hmc.len_samples)\n"
   ]
  },
  {
   "cell_type": "code",
   "execution_count": 35,
   "metadata": {},
   "outputs": [
    {
     "name": "stdout",
     "output_type": "stream",
     "text": [
      "0.019782666015625\n",
      "14\n"
     ]
    }
   ],
   "source": [
    "nn_my_hmc.run(3)\n",
    "print(nn_my_hmc.get_ksd())\n",
    "print(nn_my_hmc.len_samples)\n"
   ]
  },
  {
   "cell_type": "code",
   "execution_count": 36,
   "metadata": {},
   "outputs": [
    {
     "name": "stdout",
     "output_type": "stream",
     "text": [
      "10000000000.0\n",
      "2\n"
     ]
    }
   ],
   "source": [
    "\n",
    "key = random.PRNGKey(0)\n",
    "nn_my_hmc = NN_succ_halving_HMC_L_ECE(key, -2.9268637, 0.30538556, 16, thin_step=3)\n",
    "\n",
    "nn_my_hmc.run(2)\n",
    "print(nn_my_hmc.get_ksd())\n",
    "print(nn_my_hmc.len_samples)\n",
    "\n"
   ]
  },
  {
   "cell_type": "markdown",
   "metadata": {},
   "source": [
    "### run SH-ECE"
   ]
  },
  {
   "cell_type": "code",
   "execution_count": null,
   "metadata": {},
   "outputs": [],
   "source": []
  },
  {
   "cell_type": "code",
   "execution_count": 37,
   "metadata": {
    "collapsed": true
   },
   "outputs": [
    {
     "name": "stdout",
     "output_type": "stream",
     "text": [
      "Number of iterations: 4\n",
      "Total budget: around 360 sec\n",
      "=====\n",
      "\n",
      "Iteration 0: 120 configurations with 0.750 seconds each\n",
      "Combinations: [(-5.6016817, 0.0035111913, 14), (-2.9268637, 0.30538556, 16), (-4.8808064, 0.0013219408, 16), (-6.961109, 0.5722368, 9), (-2.39332, 0.0061359066, 10), (-6.3222876, 0.035111915, 4), (-5.015533, 0.93260336, 4), (-6.9114394, 0.6135907, 26), (-6.307716, 0.0040370165, 15), (-5.0523543, 0.0011497568, 15), (-6.4231853, 0.001, 7), (-3.9714003, 0.0010722672, 7), (-4.149378, 0.004328762, 9), (-6.2886944, 0.40370172, 9), (-2.4729414, 0.1, 19), (-5.1166677, 0.06579333, 19), (-6.677946, 0.061359067, 5), (-6.695702, 0.28480357, 8), (-5.365959, 0.037649363, 15), (-4.5360165, 0.053366996, 3), (-4.330592, 0.15199111, 29), (-4.8197184, 0.03274549, 18), (-4.1471167, 0.0070548006, 21), (-5.4690056, 0.869749, 12), (-4.171063, 0.49770236, 15), (-5.787445, 0.008697491, 29), (-4.201998, 0.0040370165, 10), (-5.719651, 0.004328762, 7), (-4.001929, 0.0020092328, 27), (-3.3212676, 0.15199111, 9), (-6.991863, 0.0014174745, 2), (-4.076827, 0.011497568, 12), (-3.3374858, 0.07564633, 20), (-6.9016714, 0.030538555, 8), (-6.845521, 0.0061359066, 9), (-6.317017, 0.93260336, 16), (-6.7917356, 0.0021544343, 14), (-2.9687796, 0.00811131, 16), (-3.8736048, 0.6135907, 11), (-2.217507, 0.024770763, 10), (-2.3605776, 0.16297507, 17), (-2.908515, 0.23101297, 3), (-3.1536126, 0.001629751, 11), (-3.2134159, 0.012328468, 11), (-4.4625607, 0.0070548006, 6), (-2.3857784, 0.06579333, 11), (-5.827092, 0.0046415897, 18), (-5.1213417, 0.011497568, 8), (-4.477164, 0.37649357, 2), (-5.347872, 0.869749, 10), (-2.2434664, 0.01, 26), (-4.586089, 0.0012328465, 19), (-3.5432425, 0.0020092328, 19), (-3.8760734, 0.020092327, 26), (-5.2765684, 0.009326034, 12), (-3.1254585, 0.0070548006, 13), (-6.003038, 0.0070548006, 2), (-6.434027, 0.001, 22), (-3.5601187, 0.0024770768, 8), (-6.0359597, 0.014174741, 16), (-6.546112, 0.001, 18), (-2.5668612, 0.00811131, 23), (-4.130703, 0.004328762, 12), (-3.59796, 0.0070548006, 12), (-5.353693, 0.23101297, 26), (-6.1482897, 0.13219412, 10), (-3.5606518, 0.035111915, 13), (-6.2776623, 0.4328761, 10), (-2.5108128, 0.0011497568, 5), (-6.4233074, 0.0024770768, 3), (-6.1101103, 0.5336699, 23), (-5.568821, 0.00811131, 16), (-2.4261112, 0.004977024, 15), (-3.7527962, 0.40370172, 29), (-4.374629, 0.0010722672, 18), (-2.9795904, 0.0030538556, 3), (-6.084299, 0.17475285, 25), (-5.498445, 0.053366996, 3), (-5.122177, 0.023101298, 11), (-6.5343823, 0.06579333, 7), (-4.1241465, 0.7054802, 6), (-3.01376, 0.01, 6), (-5.179884, 0.21544346, 15), (-5.3477716, 0.5722368, 25), (-3.7022502, 0.12328467, 12), (-5.9781446, 0.028480362, 7), (-4.6366224, 0.7054802, 10), (-6.791415, 0.003764935, 14), (-6.046593, 0.0017475284, 6), (-2.7517982, 0.001, 15), (-6.9988174, 0.37649357, 10), (-3.8938203, 0.2656088, 29), (-4.703456, 0.035111915, 15), (-6.772004, 0.12328467, 2), (-6.6030397, 0.107226714, 29), (-6.419021, 0.107226714, 22), (-5.351627, 0.3274549, 11), (-5.6277766, 0.0046415897, 3), (-4.3548565, 0.20092331, 22), (-5.590087, 0.01629751, 3), (-5.6982703, 0.0015199113, 26), (-5.6158686, 0.49770236, 7), (-6.8549957, 0.01, 28), (-2.946159, 0.3274549, 26), (-3.0509543, 0.14174742, 3), (-5.0275674, 0.021544348, 10), (-6.448895, 0.40370172, 3), (-2.0811868, 0.17475285, 17), (-5.9134007, 0.010722672, 27), (-4.1704855, 0.057223674, 29), (-5.2581067, 0.107226714, 14), (-3.2250943, 0.043287612, 2), (-4.852788, 0.107226714, 15), (-2.6851616, 0.002310129, 7), (-2.647214, 0.014174741, 7), (-2.2405834, 0.1149757, 27), (-6.542779, 0.0021544343, 7), (-4.791771, 0.07054803, 12), (-5.3711386, 0.003764935, 16), (-5.3353825, 0.017475285, 23)]\n",
      "Number of samples: \n",
      "[10, 1, 11, 1, 9, 6, 1, 1, 8, 12, 23, 24, 13, 1, 1, 2, 4, 1, 3, 7, 1, 2, 5, 1, 1, 4, 13, 17, 6, 2, 59, 6, 1, 5, 12, 1, 11, 6, 1, 5, 1, 2, 14, 7, 15, 2, 7, 9, 2, 1, 4, 10, 8, 2, 7, 7, 29, 6, 10, 3, 6, 3, 7, 6, 1, 1, 2, 1, 16, 26, 1, 3, 5, 1, 7, 17, 1, 5, 3, 2, 1, 8, 1, 1, 1, 3, 1, 6, 16, 7, 1, 1, 2, 4, 1, 1, 1, 26, 1, 12, 7, 1, 3, 1, 3, 5, 1, 1, 2, 1, 1, 9, 1, 13, 6, 1, 12, 2, 6, 2]\n",
      "Calculating KSD for each sampler\n",
      "Calculating KSD for each sampler\n",
      "\n",
      "Iteration 1: 40 configurations with 2.250 seconds each\n",
      "Combinations: [(-6.046593, 0.0017475284, 6), (-6.8549957, 0.01, 28), (-6.4231853, 0.001, 7), (-6.7917356, 0.0021544343, 14), (-6.434027, 0.001, 22), (-5.6277766, 0.0046415897, 3), (-6.791415, 0.003764935, 14), (-5.9781446, 0.028480362, 7), (-5.590087, 0.01629751, 3), (-6.845521, 0.0061359066, 9), (-6.542779, 0.0021544343, 7), (-6.2886944, 0.40370172, 9), (-6.0359597, 0.014174741, 16), (-5.498445, 0.053366996, 3), (-6.9016714, 0.030538555, 8), (-6.2776623, 0.4328761, 10), (-6.9114394, 0.6135907, 26), (-6.003038, 0.0070548006, 2), (-6.1482897, 0.13219412, 10), (-6.317017, 0.93260336, 16), (-6.4233074, 0.0024770768, 3), (-6.677946, 0.061359067, 5), (-6.6030397, 0.107226714, 29), (-6.5343823, 0.06579333, 7), (-6.3222876, 0.035111915, 4), (-6.991863, 0.0014174745, 2), (-6.695702, 0.28480357, 8), (-6.419021, 0.107226714, 22), (-6.772004, 0.12328467, 2), (-6.448895, 0.40370172, 3), (-6.9988174, 0.37649357, 10), (-6.961109, 0.5722368, 9), (-5.6158686, 0.49770236, 7), (-6.1101103, 0.5336699, 23), (-6.084299, 0.17475285, 25), (-5.015533, 0.93260336, 4), (-5.347872, 0.869749, 10), (-5.4690056, 0.869749, 12), (-5.351627, 0.3274549, 11), (-4.201998, 0.0040370165, 10)]\n",
      "Number of samples: \n",
      "[45, 7, 51, 25, 17, 70, 20, 12, 40, 30, 40, 2, 10, 16, 11, 2, 2, 80, 3, 2, 76, 10, 2, 7, 18, 131, 3, 3, 11, 3, 2, 2, 2, 2, 2, 2, 2, 2, 2, 36]\n",
      "Calculating KSD for each sampler\n",
      "Calculating KSD for each sampler\n",
      "\n",
      "Iteration 2: 13 configurations with 6.750 seconds each\n",
      "Combinations: [(-6.046593, 0.0017475284, 6), (-6.8549957, 0.01, 28), (-6.317017, 0.93260336, 16), (-6.419021, 0.107226714, 22), (-5.6158686, 0.49770236, 7), (-5.9781446, 0.028480362, 7), (-6.7917356, 0.0021544343, 14), (-6.1482897, 0.13219412, 10), (-6.4231853, 0.001, 7), (-6.9114394, 0.6135907, 26), (-6.791415, 0.003764935, 14), (-5.6277766, 0.0046415897, 3), (-6.2776623, 0.4328761, 10)]\n",
      "Number of samples: \n",
      "[218, 25, 3, 6, 5, 41, 87, 10, 199, 3, 67, 275, 4]\n",
      "Calculating KSD for each sampler\n",
      "Calculating KSD for each sampler\n",
      "\n",
      "Iteration 3: 4 configurations with 20.250 seconds each\n",
      "Combinations: [(-5.9781446, 0.028480362, 7), (-6.046593, 0.0017475284, 6), (-6.4231853, 0.001, 7), (-5.6277766, 0.0046415897, 3)]\n",
      "Number of samples: \n",
      "[121, 571, 557, 759]\n",
      "Calculating KSD for each sampler\n",
      "Calculating KSD for each sampler\n",
      "Running time: 1704.76sec\n"
     ]
    }
   ],
   "source": [
    "R = 30\n",
    "thin_step = 5\n",
    "r = R/40 # number of samples per run\n",
    "n = 120 # number of step sizes to try at first\n",
    "eta = 3 # cut trials by 3 every time\n",
    "\n",
    "key = random.PRNGKey(0)\n",
    "\n",
    "sampler_dict_hmc = run_SH_time_budget_keep_3(key, r, n, eta, thin_step, \n",
    "                               NN_succ_halving_HMC_L_ECE, create_T_list_sghmc, X_train.shape[0])\n",
    "\n"
   ]
  },
  {
   "cell_type": "code",
   "execution_count": 38,
   "metadata": {},
   "outputs": [
    {
     "name": "stdout",
     "output_type": "stream",
     "text": [
      "(-5.9781446, 0.028480362, 7) 605 0.011240739440917968\n",
      "(-6.046593, 0.0017475284, 6) 2855 0.012382036590576172\n",
      "(-6.4231853, 0.001, 7) 2785 0.014234141540527344\n"
     ]
    }
   ],
   "source": [
    "# key = 0\n",
    "# running time: 28 min\n",
    "for k,v in sampler_dict_hmc.items():\n",
    "    print(k, v.len_samples*thin_step, v.KSD)"
   ]
  },
  {
   "cell_type": "code",
   "execution_count": 40,
   "metadata": {},
   "outputs": [
    {
     "name": "stdout",
     "output_type": "stream",
     "text": [
      "(-5.459502, 0.0013219408, 3) 4515 0.0138968017578125\n",
      "(-6.4526224, 0.035111915, 27) 140 0.014145718383789063\n",
      "(-6.333365, 0.002310129, 9) 1490 0.014456602478027344\n"
     ]
    }
   ],
   "source": [
    "# key = 1\n",
    "# running time: 26 min\n",
    "for k,v in sampler_dict_hmc.items():\n",
    "    print(k, v.len_samples*thin_step, v.KSD)"
   ]
  },
  {
   "cell_type": "code",
   "execution_count": 42,
   "metadata": {},
   "outputs": [
    {
     "name": "stdout",
     "output_type": "stream",
     "text": [
      "(-6.5566435, 0.003274549, 14) 1470 0.013270433044433594\n",
      "(-6.657807, 0.0053366995, 29) 580 0.014085118103027344\n",
      "(-6.990305, 0.004328762, 17) 1075 0.01546607666015625\n"
     ]
    }
   ],
   "source": [
    "# key = 2\n",
    "# running time: 22 min\n",
    "for k,v in sampler_dict_hmc.items():\n",
    "    print(k, v.len_samples*thin_step, v.KSD)"
   ]
  },
  {
   "cell_type": "code",
   "execution_count": null,
   "metadata": {},
   "outputs": [],
   "source": []
  },
  {
   "cell_type": "code",
   "execution_count": null,
   "metadata": {},
   "outputs": [],
   "source": []
  },
  {
   "cell_type": "code",
   "execution_count": null,
   "metadata": {},
   "outputs": [],
   "source": []
  },
  {
   "cell_type": "code",
   "execution_count": null,
   "metadata": {},
   "outputs": [],
   "source": []
  },
  {
   "cell_type": "markdown",
   "metadata": {},
   "source": [
    "## old run"
   ]
  },
  {
   "cell_type": "code",
   "execution_count": 165,
   "metadata": {},
   "outputs": [
    {
     "name": "stdout",
     "output_type": "stream",
     "text": [
      "(-5.9781446, 0.028480362, 7) 676 0.011878512573242187\n",
      "(-6.046593, 0.0017475284, 6) 3544 0.013024720764160157\n",
      "(-6.0359597, 0.014174741, 16) 516 0.013271453857421876\n"
     ]
    }
   ],
   "source": [
    "# key = 0, thin=4\n",
    "# running time: 24 min\n",
    "for k,v in sampler_dict_hmc.items():\n",
    "    print(k, v.len_samples*thin_step, v.KSD)"
   ]
  },
  {
   "cell_type": "code",
   "execution_count": null,
   "metadata": {},
   "outputs": [],
   "source": []
  },
  {
   "cell_type": "code",
   "execution_count": null,
   "metadata": {},
   "outputs": [],
   "source": []
  },
  {
   "cell_type": "code",
   "execution_count": null,
   "metadata": {},
   "outputs": [],
   "source": []
  }
 ],
 "metadata": {
  "kernelspec": {
   "display_name": "Python 3",
   "language": "python",
   "name": "python3"
  },
  "language_info": {
   "codemirror_mode": {
    "name": "ipython",
    "version": 3
   },
   "file_extension": ".py",
   "mimetype": "text/x-python",
   "name": "python",
   "nbconvert_exporter": "python",
   "pygments_lexer": "ipython3",
   "version": "3.8.5"
  }
 },
 "nbformat": 4,
 "nbformat_minor": 4
}
